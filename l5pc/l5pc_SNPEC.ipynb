{
 "cells": [
  {
   "cell_type": "markdown",
   "metadata": {},
   "source": [
    "## Inference of Neocortical Layer 5 Pyramidal Cell"
   ]
  },
  {
   "cell_type": "code",
   "execution_count": null,
   "metadata": {},
   "outputs": [],
   "source": [
    "import os\n",
    "path1 = os.getcwd()\n",
    "# change the current working directory to path\n",
    "path2 = '/home/pedro/repos/lfi-models/lfimodels/l5pc/'\n",
    "os.chdir(path2)"
   ]
  },
  {
   "cell_type": "code",
   "execution_count": null,
   "metadata": {},
   "outputs": [],
   "source": [
    "import delfi.distribution as dd\n",
    "import delfi.generator as dg\n",
    "import delfi.inference as infer\n",
    "import delfi.utils.io as io\n",
    "import delfi.summarystats as ds\n",
    "import lfimodels.l5pc.utils as utils\n",
    "import lfimodels.l5pc.l5pc_model as l5pc_model\n",
    "import matplotlib as mpl\n",
    "import matplotlib.pyplot as plt\n",
    "import numpy as np\n",
    "import pickle\n",
    "\n",
    "from lfimodels.l5pc.L5Pyramidal import L5Pyramidal\n",
    "from lfimodels.l5pc.L5PCStats import L5PCStats\n",
    "from lfimodels.l5pc.L5PCStatsMoments import L5PCStatsMoments\n",
    "from delfi.utils.viz import plot_pdf\n",
    "\n",
    "%matplotlib inline"
   ]
  },
  {
   "cell_type": "code",
   "execution_count": null,
   "metadata": {},
   "outputs": [],
   "source": [
    "import json\n",
    "feature_configs = json.load(open('config/features.json'))\n",
    "# print(sorted(feature_configs.items()))\n",
    "efel_feature_name_ls = []\n",
    "for protocol_name, locations in sorted(feature_configs.items()):\n",
    "    print(protocol_name)\n",
    "    for location, features in sorted(locations.items()):\n",
    "        print(location)\n",
    "        for efel_feature_name, meanstd in sorted(features.items()):\n",
    "            efel_feature_name_ls.append(efel_feature_name)\n",
    "            print(efel_feature_name)"
   ]
  },
  {
   "cell_type": "markdown",
   "metadata": {},
   "source": [
    "## retrieve observed data"
   ]
  },
  {
   "cell_type": "code",
   "execution_count": null,
   "metadata": {},
   "outputs": [],
   "source": [
    "true_params, labels_params = utils.obs_params()\n",
    "\n",
    "seed = None\n",
    "\n",
    "obs = utils.syn_obs_data(params=true_params)\n",
    "obs_stats = utils.syn_obs_stats(data=obs,params=true_params,summary_stats=2)"
   ]
  },
  {
   "cell_type": "markdown",
   "metadata": {},
   "source": [
    "## generate instances of prior, model, and summary stats"
   ]
  },
  {
   "cell_type": "code",
   "execution_count": null,
   "metadata": {},
   "outputs": [],
   "source": [
    "n_processes = 10\n",
    "\n",
    "if n_processes>1:\n",
    "    seeds_model = np.arange(1,n_processes+1,1)\n",
    "    m = []\n",
    "    for i in range(n_processes):\n",
    "        m.append(L5Pyramidal(seed=seeds_model[i]))\n",
    "    p = utils.prior(true_params=true_params,labels_params=labels_params,seed=seed)\n",
    "#     s = L5PCStats(seed=seed)\n",
    "    s = L5PCStatsMoments(seed=seed)\n",
    "    g = dg.MPGenerator(models=m, prior=p, summary=s)\n",
    "else:\n",
    "    seed = None\n",
    "    m = L5Pyramidal(seed=seed)\n",
    "    p = utils.prior(true_params=true_params,labels_params=labels_params,seed=seed)\n",
    "#     s = L5PCStats(seed=seed)\n",
    "    s = L5PCStatsMoments(seed=seed)\n",
    "    g = dg.Default(model=m, prior=p, summary=s)"
   ]
  },
  {
   "cell_type": "code",
   "execution_count": null,
   "metadata": {},
   "outputs": [],
   "source": [
    "def plot_responses(responses,color):\n",
    "    fig, axes = plt.subplots(len(responses), figsize=(10,10))\n",
    "    for index, (resp_name, response) in enumerate(sorted(responses.items())):\n",
    "        axes[index].plot(response['time'], response['voltage'], color = color, label=resp_name)\n",
    "        axes[index].set_title(resp_name)\n",
    "    fig.tight_layout()\n",
    "    fig.show()"
   ]
  },
  {
   "cell_type": "code",
   "execution_count": null,
   "metadata": {},
   "outputs": [],
   "source": [
    "plot_responses(obs['data'],color = 'b')"
   ]
  },
  {
   "cell_type": "code",
   "execution_count": null,
   "metadata": {},
   "outputs": [],
   "source": [
    "obs_stats[0]"
   ]
  },
  {
   "cell_type": "markdown",
   "metadata": {},
   "source": [
    "## SNPE-C"
   ]
  },
  {
   "cell_type": "code",
   "execution_count": null,
   "metadata": {},
   "outputs": [],
   "source": [
    "# SNPE parameters\n",
    "\n",
    "seed = None\n",
    "\n",
    "# training schedule\n",
    "n_train=80000\n",
    "n_rounds=1\n",
    "\n",
    "# fitting setup\n",
    "minibatch=100\n",
    "epochs=1000\n",
    "\n",
    "# network setup\n",
    "n_hiddens=[50,50]\n",
    "reg_lambda=0.01\n",
    "\n",
    "# convenience\n",
    "pilot_samples=80000\n",
    "svi=False\n",
    "verbose=True\n",
    "prior_norm=True\n",
    "\n",
    "# SNPE-C parameters\n",
    "n_null = minibatch-1\n",
    "\n",
    "# MAF parameters\n",
    "mode='random' # ordering of variables for MADEs\n",
    "n_mades = 5 # number of MADES\n",
    "act_fun = 'tanh'\n",
    "batch_norm = False # batch-normalization currently not supported\n",
    "train_on_all = True # now supported feature\n",
    "\n",
    "\n",
    "if train_on_all:\n",
    "    epochs = [epochs//(r+1) for r in range(n_rounds)]"
   ]
  },
  {
   "cell_type": "code",
   "execution_count": null,
   "metadata": {},
   "outputs": [],
   "source": [
    "# control MAF seed\n",
    "rng = np.random\n",
    "rng.seed(seed)\n",
    "\n",
    "# inference object\n",
    "res = infer.SNPEC(g,\n",
    "                 obs=obs_stats,\n",
    "                 n_hiddens=n_hiddens,\n",
    "                 seed=seed,\n",
    "                 reg_lambda=reg_lambda,\n",
    "                 pilot_samples=pilot_samples,\n",
    "                 svi=svi,\n",
    "                 n_mades=n_mades, # providing this argument triggers usage of MAFs (vs. MDNs)\n",
    "                 act_fun=act_fun,\n",
    "                 mode=mode,\n",
    "                 rng=rng,\n",
    "                 batch_norm=batch_norm,\n",
    "                 verbose=verbose,\n",
    "                 prior_norm=prior_norm)\n",
    "\n",
    "# train\n",
    "log, train_data, posterior = res.run(\n",
    "                    n_train=n_train,\n",
    "                    proposal='discrete',\n",
    "                    moo='resample',\n",
    "                    n_null = n_null,\n",
    "                    n_rounds=n_rounds,\n",
    "                    train_on_all=train_on_all,\n",
    "                    minibatch=minibatch,\n",
    "                    silent_fail=False,\n",
    "                    verbose=True,\n",
    "                    epochs=epochs)"
   ]
  },
  {
   "cell_type": "code",
   "execution_count": null,
   "metadata": {},
   "outputs": [],
   "source": [
    "# change the current working directory back to notebook path\n",
    "os.chdir(path1)"
   ]
  },
  {
   "cell_type": "code",
   "execution_count": null,
   "metadata": {},
   "outputs": [],
   "source": [
    "if svi:\n",
    "    svi_flag = '_svi'\n",
    "else:\n",
    "    svi_flag = '_nosvi'\n",
    "\n",
    "save_path = './results/'\n",
    "filename1 = 'l5pc_run_1_param20'+\\\n",
    "svi_flag+'_rounds'+str(n_rounds)+'_nsims'+str(n_train*n_rounds)+'_snpec_lognorm.pkl'\n",
    "io.save_pkl((log, train_data, posterior),save_path+filename1)"
   ]
  },
  {
   "cell_type": "code",
   "execution_count": null,
   "metadata": {},
   "outputs": [],
   "source": [
    "save_path = './results/'\n",
    "filename1 = 'l5pc_run_1_param20'+\\\n",
    "svi_flag+'_rounds'+str(n_rounds)+'_nsims'+str(n_train*n_rounds)+'_snpec_lognorm.pkl'\n",
    "log, train_data, posterior = io.load_pkl(save_path+filename1)"
   ]
  },
  {
   "cell_type": "markdown",
   "metadata": {},
   "source": [
    "## analyse results"
   ]
  },
  {
   "cell_type": "code",
   "execution_count": null,
   "metadata": {},
   "outputs": [],
   "source": [
    "fig = plt.figure(figsize=(15,10))\n",
    "\n",
    "col_min = 1\n",
    "num_colors = 2+col_min\n",
    "cm1 = mpl.cm.Blues\n",
    "col1 = [cm1(1.*i/num_colors) for i in range(col_min,num_colors)]\n",
    "\n",
    "for i in range(res.round):\n",
    "    plt.subplot(2,1,i+1)\n",
    "    plt.plot(log[i]['loss'], color=col1[i], lw=2)\n",
    "    plt.xlabel('iteration')\n",
    "    plt.ylabel('loss')\n",
    "    plt.title('round'+str(i+1));"
   ]
  },
  {
   "cell_type": "code",
   "execution_count": null,
   "metadata": {},
   "outputs": [],
   "source": [
    "# param_names_bounds = [(str(param.name),param.bounds) for param in l5pc_model.define_original_parameters()\n",
    "#                       if not param.frozen]\n",
    "# param_names_bounds.sort(key=lambda x: labels_params.index(x[0]))\n",
    "# param_bounds = [param_names_bounds[i][1] for i in range(len(param_names_bounds))]\n",
    "# param_bounds = np.array(param_bounds)\n",
    "# param_bounds[[5,11,13,18],0] -= [0.0005,20,0.0005,20]\n",
    "# param_bounds[:,1] += 10\n",
    "# param_bounds = np.log(param_bounds+1e-4)\n",
    "\n",
    "# param_bounds_min = param_bounds[:,0]\n",
    "# param_bounds_max = param_bounds[:,1]\n",
    "\n",
    "# prior_lims = param_bounds*1\n",
    "\n",
    "\n",
    "prior_min = res.generator.prior.mean-3*res.generator.prior.std\n",
    "prior_max = res.generator.prior.mean+3*res.generator.prior.std\n",
    "\n",
    "prior_lims = np.concatenate((prior_min.reshape(-1,1),\n",
    "                                 prior_max.reshape(-1,1)),\n",
    "                                axis=1)\n",
    "\n",
    "for i in range(res.round):\n",
    "    fig = plt.figure(figsize=(15,15))\n",
    "    posterior[i].ndim = len(true_params)\n",
    "    plot_pdf(p, lims=prior_lims, samples=posterior[i].gen(1000).T, gt=true_params,figsize=(15,15))\n",
    "    plt.show()\n",
    "    plt.close()"
   ]
  },
  {
   "cell_type": "code",
   "execution_count": null,
   "metadata": {},
   "outputs": [],
   "source": [
    "posterior = posterior[n_rounds-1]"
   ]
  },
  {
   "cell_type": "code",
   "execution_count": null,
   "metadata": {},
   "outputs": [],
   "source": [
    "fig = plt.figure(figsize=(15,15))\n",
    "# plot_pdf(p, lims=prior_lims, samples=posterior.gen(1000).T, gt=true_params,figsize=(15,15),\n",
    "#          labels_params=labels_params, ticks=True)\n",
    "plot_pdf(p, lims=prior_lims, samples=posterior.gen(1000).T, gt=true_params,figsize=(15,15))\n",
    "plt.show()\n",
    "plt.close()"
   ]
  },
  {
   "cell_type": "code",
   "execution_count": null,
   "metadata": {},
   "outputs": [],
   "source": [
    "def plot_responses(responses,color):\n",
    "    fig, axes = plt.subplots(len(responses), figsize=(10,10))\n",
    "    for index, (resp_name, response) in enumerate(sorted(responses.items())):\n",
    "        axes[index].plot(response['time'], response['voltage'], color = color, label=resp_name)\n",
    "        axes[index].set_title(resp_name)\n",
    "    fig.tight_layout()\n",
    "    fig.show()\n",
    "    \n",
    "def plot_all_responses(responses,colors):\n",
    "    fig, axes = plt.subplots(len(responses[0]), figsize=(10,10))\n",
    "    for i in range(len(responses)):\n",
    "        for index, (resp_name, response) in enumerate(sorted(responses[i].items())):\n",
    "            axes[index].plot(response['time'], response['voltage'], color = colors[i], label=resp_name)\n",
    "            axes[index].set_title(resp_name)\n",
    "    fig.tight_layout()\n",
    "    fig.show()"
   ]
  },
  {
   "cell_type": "code",
   "execution_count": null,
   "metadata": {},
   "outputs": [],
   "source": [
    "# parameter set with closest summary statistic to observed data\n",
    "train_stats = train_data[n_rounds-1][1]\n",
    "obs_zt = (obs_stats-res.stats_mean)/res.stats_std\n",
    "# obs_zt[0,res.stats_std==0] = (obs_stats[0,res.stats_std==0]-\\\n",
    "#                               res.stats_mean[res.stats_std==0])/res.stats_std[res.stats_std==0]\n",
    "\n",
    "dist_train_data = np.linalg.norm((train_stats[:,res.stats_std!=0]-obs_zt[0][res.stats_std!=0]),axis=1)\n",
    "dist_argsort = np.argsort(dist_train_data)\n",
    "x_closest = train_data[n_rounds-1][0][dist_argsort[0],:]*res.params_std+res.params_mean"
   ]
  },
  {
   "cell_type": "code",
   "execution_count": null,
   "metadata": {},
   "outputs": [],
   "source": [
    "x_closest-true_params"
   ]
  },
  {
   "cell_type": "code",
   "execution_count": null,
   "metadata": {},
   "outputs": [],
   "source": [
    "num_samp = 10\n",
    "\n",
    "# # sampling at contour of 1 covariance away from mean\n",
    "# # (if samples from outside the prior box, contour is at prior box)\n",
    "# x_samp = np.random.randn(n_params,num_samp)\n",
    "# x_samp = np.divide(x_samp,np.linalg.norm(x_samp,axis=0))\n",
    "# x_samp = (np.dot(S,x_samp)).T+mn_post\n",
    "\n",
    "# sample from posterior\n",
    "x_samp = posterior.gen(n_samples=num_samp)\n",
    "\n",
    "# reject samples outside the prior box\n",
    "ind = (x_samp > prior_min) & (x_samp < prior_max)\n",
    "x_samp = x_samp[np.prod(ind,axis=1)==1]\n",
    "\n",
    "num_samp = len(x_samp[:,0])\n",
    "\n",
    "num_samp"
   ]
  },
  {
   "cell_type": "code",
   "execution_count": null,
   "metadata": {},
   "outputs": [],
   "source": [
    "# change the current working directory to path\n",
    "path2 = '/home/pedro/repos/lfi-models/lfimodels/l5pc/'\n",
    "os.chdir(path2)\n",
    "\n",
    "fig = plt.figure()\n",
    "\n",
    "mn_post, S = posterior.calc_mean_and_cov()\n",
    "# mn_post = posterior.xs[0].m\n",
    "# S = posterior.xs[0].S\n",
    "n_params = len(mn_post)\n",
    "y_obs = obs['data']\n",
    "# t = obs['time']\n",
    "# duration = np.max(t)\n",
    "\n",
    "COL = {}\n",
    "COL['GT']   = (35/255,86/255,167/255)\n",
    "COL['SNPE'] = (0, 174/255,239/255)\n",
    "COL['CLOSEST'] = (1,0,0)\n",
    "\n",
    "num_samp = 4\n",
    "\n",
    "# # sampling at contour of 1 covariance away from mean\n",
    "# # (if samples from outside the prior box, contour is at prior box)\n",
    "# x_samp = np.random.randn(n_params,num_samp)\n",
    "# x_samp = np.divide(x_samp,np.linalg.norm(x_samp,axis=0))\n",
    "# x_samp = (np.dot(S,x_samp)).T+mn_post\n",
    "\n",
    "# sample from posterior\n",
    "x_samp = posterior.gen(n_samples=num_samp)\n",
    "\n",
    "# # reject samples outside the prior box\n",
    "# ind = (x_samp > prior_min) & (x_samp < prior_max)\n",
    "# x_samp = x_samp[np.prod(ind,axis=1)==1]\n",
    "\n",
    "num_samp = len(x_samp[:,0])\n",
    "num_colors = num_samp+1\n",
    "cm1 = mpl.cm.Oranges\n",
    "col1 = [cm1(1.*i/num_colors) for i in range(num_colors)]\n",
    "col1.append(COL['SNPE'])\n",
    "col1.append(COL['CLOSEST'])\n",
    "col1.append(COL['GT'])\n",
    "\n",
    "params = np.concatenate((x_samp,np.array([mn_post,x_closest])))\n",
    "\n",
    "V = []\n",
    "for i in range(2+num_samp):\n",
    "    m = L5Pyramidal(seed=230+i)\n",
    "    x = m.gen_single(params[i,:])\n",
    "    V.append(x['data'])\n",
    "\n",
    "V.append(y_obs)\n",
    "\n",
    "# plotting simulation\n",
    "plot_all_responses(V,col1[1:])\n",
    "plt.xlabel('time (ms)')\n",
    "plt.ylabel('voltage (mV)');"
   ]
  },
  {
   "cell_type": "markdown",
   "metadata": {},
   "source": [
    "## analysis of summary statistics"
   ]
  },
  {
   "cell_type": "code",
   "execution_count": null,
   "metadata": {},
   "outputs": [],
   "source": [
    "# labels_sum_stats = ['sp_t','r_pot','r_pot_std','m1','m2','m3','m4']*3+['sp_t','r_pot','r_pot_std','m1','m2']*3\n",
    "labels_sum_stats = ['sp_t1','r_pot1','r_pot_std1','m11','m21','m31','m41']+\\\n",
    "                   ['sp_t2','r_pot2','r_pot_std2','m12','m22','m32','m42']+\\\n",
    "                   ['sp_t3','r_pot3','r_pot_std3','m13','m23','m33','m43']+\\\n",
    "                   ['sp_t4','r_pot4','r_pot_std4','m14','m24']+\\\n",
    "                   ['sp_t5','r_pot5','r_pot_std5','m15','m25']+\\\n",
    "                   ['sp_t6','r_pot6','r_pot_std6','m16','m26']\n",
    "\n",
    "n_summary_stats = len(obs_stats[0])\n",
    "\n",
    "sum_stats_post = res.generator.summary.calc([m.gen_single(mn_post)])[0]\n",
    "\n",
    "fig = plt.figure(figsize=(20,15))\n",
    "ax = plt.subplot(321)\n",
    "plt.plot(obs_stats[0], color=COL['GT'], lw=2, label='observation')\n",
    "plt.plot(sum_stats_post, color=COL['SNPE'], lw=2, label='mode')\n",
    "ax.set_xticks(np.linspace(0,n_summary_stats-1,n_summary_stats))\n",
    "# ax.set_xticklabels(labels_sum_stats)\n",
    "plt.ylabel('feature value')\n",
    "ax = plt.gca()\n",
    "handles, labels = ax.get_legend_handles_labels()\n",
    "ax.legend(handles[::-1], labels[::-1], bbox_to_anchor=(1.2, 1), loc='upper right')\n",
    "\n",
    "ax = plt.subplot(322)\n",
    "plt.semilogy(np.abs(obs_stats[0]),color=COL['GT'],linestyle='--', lw=2, label='observation')\n",
    "plt.semilogy(np.abs(sum_stats_post-obs_stats[0]),color=COL['SNPE'], lw=2, label='mode')\n",
    "ax.set_xticks(np.linspace(0,n_summary_stats-1,n_summary_stats))\n",
    "# ax.set_xticklabels(labels_sum_stats);\n",
    "plt.ylabel(r'$f^*$ - f');\n",
    "\n",
    "ax = plt.subplot(3,2,(3,4))\n",
    "obs_stats_norm = obs_stats[0]/res.stats_std\n",
    "obs_stats_norm[res.stats_std==0] = obs_stats[0][res.stats_std==0]/res.stats_mean[res.stats_std==0]\n",
    "post_stats_norm = sum_stats_post/res.stats_std\n",
    "post_stats_norm[res.stats_std==0] = sum_stats_post[res.stats_std==0]/res.stats_mean[res.stats_std==0]\n",
    "closest_stats = res.generator.summary.calc([m.gen_single(x_closest)])[0]\n",
    "closest_stats_norm = closest_stats/res.stats_std\n",
    "closest_stats_norm[res.stats_std==0] = closest_stats[res.stats_std==0]/res.stats_mean[res.stats_std==0]\n",
    "width = 0.3\n",
    "plt.bar(np.linspace(0,n_summary_stats-1,n_summary_stats),obs_stats_norm,\n",
    "        width,color=COL['GT'],label='observation')\n",
    "plt.bar(np.linspace(0,n_summary_stats-1,n_summary_stats)+width,post_stats_norm,\n",
    "        width, color=COL['SNPE'],label='mode')\n",
    "plt.bar(np.linspace(0,n_summary_stats-1,n_summary_stats)+2*width,closest_stats_norm,\n",
    "        width, color=COL['CLOSEST'],label='closest summary statistics')\n",
    "plt.ylabel(r'$\\frac{f}{\\sigma_{f \\ PRIOR}}$')\n",
    "ax.set_xlim(-1.5*width,n_summary_stats+width/2)\n",
    "ax.set_xticks(np.linspace(0,n_summary_stats-1,n_summary_stats))\n",
    "ax.yaxis.set_major_formatter(mpl.ticker.FormatStrFormatter('%.1f'))\n",
    "ax.set_xticklabels(labels_sum_stats, rotation = 45, ha='right')\n",
    "ax.legend(bbox_to_anchor=(1.2, 1), loc='upper right')\n",
    "\n",
    "ax = plt.subplot(3,2,(5,6))\n",
    "plt.bar(np.linspace(0,n_summary_stats-1,n_summary_stats),obs_stats_norm-post_stats_norm,\n",
    "        width,color=COL['SNPE'],label='mode')\n",
    "plt.bar(np.linspace(0,n_summary_stats-1,n_summary_stats)+width,obs_stats_norm-closest_stats_norm,\n",
    "        width,color=COL['CLOSEST'],label='closest summary statistics')\n",
    "plt.ylabel(r'$\\frac{f^*-f}{\\sigma_{f \\ PRIOR}}$')\n",
    "ax.set_xlim(-1.5*width,n_summary_stats+width/2)\n",
    "ax.set_xticks(np.linspace(0,n_summary_stats-1,n_summary_stats))\n",
    "ax.yaxis.set_major_formatter(mpl.ticker.FormatStrFormatter('%.1f'))\n",
    "ax.set_xticklabels(labels_sum_stats, rotation = 45, ha='right');"
   ]
  }
 ],
 "metadata": {
  "anaconda-cloud": {},
  "kernelspec": {
   "display_name": "Python 3",
   "language": "python",
   "name": "python3"
  },
  "language_info": {
   "codemirror_mode": {
    "name": "ipython",
    "version": 3
   },
   "file_extension": ".py",
   "mimetype": "text/x-python",
   "name": "python",
   "nbconvert_exporter": "python",
   "pygments_lexer": "ipython3",
   "version": "3.5.2"
  }
 },
 "nbformat": 4,
 "nbformat_minor": 2
}
