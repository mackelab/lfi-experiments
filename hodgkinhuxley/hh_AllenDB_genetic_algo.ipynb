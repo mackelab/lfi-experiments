{
 "cells": [
  {
   "cell_type": "code",
   "execution_count": null,
   "metadata": {},
   "outputs": [],
   "source": [
    "import delfi.generator as dg\n",
    "import delfi.inference as infer\n",
    "import delfi.utils.io as io\n",
    "import lfimodels.hodgkinhuxley.utils as utils\n",
    "import matplotlib as mpl\n",
    "import matplotlib.pyplot as plt\n",
    "import numpy as np\n",
    "\n",
    "from lfimodels.hodgkinhuxley.HodgkinHuxley import HodgkinHuxley\n",
    "from lfimodels.hodgkinhuxley.HodgkinHuxleyStatsMoments import HodgkinHuxleyStatsMoments\n",
    "# from lfimodels.hodgkinhuxley.HodgkinHuxleyStatsSpikes_mf import HodgkinHuxleyStatsSpikes_mf\n",
    "# from lfimodels.hodgkinhuxley.HodgkinHuxleyStatsSpikes import HodgkinHuxleyStatsSpikes\n",
    "from run_genetic import run_deap\n",
    "\n",
    "%matplotlib inline"
   ]
  },
  {
   "cell_type": "markdown",
   "metadata": {},
   "source": [
    "## Set up the model"
   ]
  },
  {
   "cell_type": "code",
   "execution_count": null,
   "metadata": {},
   "outputs": [],
   "source": [
    "true_params, labels_params = utils.obs_params()\n",
    "\n",
    "# labels_sum_stats = ['sp_t','ISI_mn','ISI_std','c0','c1','c2','c3','c4','c5','c6','c7','c8','c9',\n",
    "#                     'r_pot','mn','m2','m3','m4','m5','m6','m7','m8']\n",
    "# labels_sum_stats = ['f_rate','ISI_mn','ISI_std','AP_lat','AP_oversh','r_pot','r_pot_std','AHD','A_ind','spike_w']\n",
    "labels_sum_stats = ['sp_t','r_pot','r_pot_std','m1','m2','m3','m4']\n",
    "# labels_sum_stats = [r'$f\\_rate$',r'$ISI\\_mn$',r'$ISI\\_std$',r'$AP\\_lat$',r'$AP\\_oversh$',\n",
    "#                     r'$r\\_pot$',r'$r\\_pot\\_std$',r'$AHD$',r'$A\\_ind$',r'$spike\\_w$']\n",
    "\n",
    "seed = 1\n",
    "prior_uniform = True\n",
    "prior_log = False\n",
    "prior_extent = True\n",
    "n_xcorr = 0\n",
    "n_mom = 4\n",
    "cython=True\n",
    "n_summary = 10\n",
    "summary_stats = 1\n",
    "\n",
    "list_cells_AllenDB = [[518290966,57,0.0234/126],[509881736,39,0.0153/184],[566517779,46,0.0195/198],\n",
    "                      [567399060,38,0.0259/161],[569469018,44,0.033/403],[532571720,42,0.0139/127],\n",
    "                      [555060623,34,0.0294/320],[534524026,29,0.027/209],[532355382,33,0.0199/230],\n",
    "                      [526950199,37,0.0186/218]]\n",
    "cell_num = 0\n",
    "ephys_cell = list_cells_AllenDB[cell_num][0]\n",
    "sweep_number = list_cells_AllenDB[cell_num][1]\n",
    "A_soma = list_cells_AllenDB[cell_num][2]\n",
    "junction_potential = -14\n",
    "\n",
    "obs = utils.allen_obs_data(ephys_cell=ephys_cell,sweep_number=sweep_number,A_soma=A_soma)\n",
    "\n",
    "obs['data'] = obs['data'] + junction_potential\n",
    "I = obs['I']\n",
    "dt = obs['dt']\n",
    "t_on = obs['t_on']\n",
    "t_off = obs['t_off']\n",
    "\n",
    "obs_stats = utils.allen_obs_stats(data=obs,ephys_cell=ephys_cell,sweep_number=sweep_number,\n",
    "                                  n_xcorr=n_xcorr,n_mom=n_mom,\n",
    "                                  summary_stats=summary_stats,n_summary=n_summary)\n",
    "\n",
    "# define model, prior, summary statistics and generator\n",
    "m = HodgkinHuxley(I, dt, V0=obs['data'][0], seed=seed, cython=cython,prior_log=prior_log)\n",
    "p = utils.prior(true_params=true_params,prior_uniform=prior_uniform, prior_extent=prior_extent,\n",
    "                prior_log=prior_log, seed=seed)\n",
    "s = HodgkinHuxleyStatsMoments(t_on=t_on, t_off=t_off,n_xcorr=n_xcorr,n_mom=n_mom)\n",
    "# s = HodgkinHuxleyStatsSpikes_mf(t_on=t_on, t_off=t_off, n_summary=n_summary)\n",
    "# s = HodgkinHuxleyStatsSpikes(t_on=t_on, t_off=t_off, n_summary=n_summary)\n",
    "g = dg.Default(model=m, prior=p, summary=s)\n",
    "\n",
    "bounds = np.asarray([p.lower,p.upper]).T"
   ]
  },
  {
   "cell_type": "code",
   "execution_count": null,
   "metadata": {},
   "outputs": [],
   "source": [
    "['g_Na', 'g_K', 'g_leak', 'g_M', 't_max', '-V_T', 'noise','-E_leak']\n",
    "# param_allen_2 = [12.1585,1.22534,0.103795,0.49671,1200,78,0.1,83.0383]\n",
    "param_allen_4 = [12.1585,10.22534,0.103795,0.40671,800,83,0.1,83.0383]\n",
    "\n",
    "fig = plt.figure(figsize=(15,5))\n",
    "plt.subplot(121)\n",
    "plt.plot(m.gen_single(param_allen_4)['data'])\n",
    "\n",
    "plt.subplot(122)\n",
    "plt.plot(obs['data'])"
   ]
  },
  {
   "cell_type": "markdown",
   "metadata": {},
   "source": [
    "## pilot run"
   ]
  },
  {
   "cell_type": "code",
   "execution_count": null,
   "metadata": {},
   "outputs": [],
   "source": [
    "seed = 1\n",
    "svi = False\n",
    "res = infer.SNPE(g, obs=obs_stats, pilot_samples=1000, n_hiddens=[50], seed=seed, prior_norm=True,\n",
    "                 n_components=1, svi=svi)"
   ]
  },
  {
   "cell_type": "markdown",
   "metadata": {},
   "source": [
    "## Run genetic algorithm"
   ]
  },
  {
   "cell_type": "code",
   "execution_count": null,
   "metadata": {},
   "outputs": [],
   "source": [
    "algo = 'ibea'\n",
    "offspring_size = 2500\n",
    "max_ngen = 100\n",
    "final_pop, halloffame, log, hist = run_deap(model=m, bounds=bounds, labels_params=labels_params,\n",
    "                                            summary=s, obs_stats=obs_stats, labels_sum_stats=labels_sum_stats,\n",
    "                                            stats_std=res.stats_std,\n",
    "                                            algo=algo, offspring_size=offspring_size, max_ngen=max_ngen, seed=seed)"
   ]
  },
  {
   "cell_type": "code",
   "execution_count": null,
   "metadata": {},
   "outputs": [],
   "source": [
    "io.save_pkl((final_pop,halloffame,log,hist),'./results/allen_'+str(ephys_cell)+'_'+str(sweep_number)+\\\n",
    "            '_run_1_offspr'+str(offspring_size)+'_max_gen'+str(max_ngen)+ '_param8_' + algo + '.pkl')"
   ]
  },
  {
   "cell_type": "code",
   "execution_count": null,
   "metadata": {},
   "outputs": [],
   "source": [
    "final_pop, halloffame, log, hist = io.load_pkl('./results/allen_'+str(ephys_cell)+'_'+str(sweep_number)+\\\n",
    "                                               '_run_1_offspr'+str(offspring_size)+\\\n",
    "                                               '_max_gen'+str(max_ngen)+ '_param8_' + algo + '.pkl')"
   ]
  },
  {
   "cell_type": "markdown",
   "metadata": {},
   "source": [
    "## Inspect output"
   ]
  },
  {
   "cell_type": "code",
   "execution_count": null,
   "metadata": {},
   "outputs": [],
   "source": [
    "best_params = halloffame[0]\n",
    "best_sumstats = best_params.fitness.values"
   ]
  },
  {
   "cell_type": "code",
   "execution_count": null,
   "metadata": {},
   "outputs": [],
   "source": [
    "fig = plt.figure()\n",
    "\n",
    "n_params = len(bounds[:,0])\n",
    "n_sum_stats = len(obs_stats[0,:])\n",
    "y_obs = obs['data']\n",
    "t = obs['time']\n",
    "duration = np.max(t)\n",
    "\n",
    "COL = {}\n",
    "COL['GT']   = (35/255,86/255,167/255)\n",
    "COL['IBEA'] = (0, 174/255,239/255)\n",
    "\n",
    "x = m.gen_single(best_params)\n",
    "V_best = x['data']\n",
    "\n",
    "# plotting simulation\n",
    "plt.plot(t, V_best, color=COL['IBEA'], lw=2, label='best ibea')\n",
    "plt.plot(t, y_obs, color=COL['GT'], lw=2, label='observation')\n",
    "plt.xlabel('time (ms)')\n",
    "plt.ylabel('voltage (mV)')\n",
    "\n",
    "ax = plt.gca()\n",
    "handles, labels = ax.get_legend_handles_labels()\n",
    "ax.legend(handles[::-1], labels[::-1], bbox_to_anchor=(1.3, 1), loc='upper right')\n",
    "\n",
    "ax.set_xticks([0, duration/2, duration])\n",
    "ax.set_yticks([-80, -20, 40]);"
   ]
  },
  {
   "cell_type": "code",
   "execution_count": null,
   "metadata": {},
   "outputs": [],
   "source": [
    "plt.plot(t, V_best, color=COL['IBEA'], lw=2, label='best ibea')"
   ]
  },
  {
   "cell_type": "code",
   "execution_count": null,
   "metadata": {},
   "outputs": [],
   "source": [
    "n_summary_stats = len(labels_sum_stats)\n",
    "\n",
    "sum_stats_post = s.calc([m.gen_single(best_params)])[0]\n",
    "\n",
    "fig = plt.figure(figsize=(20,5))\n",
    "ax = plt.subplot(1,2,1)\n",
    "plt.plot(obs_stats[0], lw=2, label='observation')\n",
    "plt.plot(sum_stats_post, color='r', lw=2, label='best ibea')\n",
    "ax.set_xticks(np.linspace(0,n_summary_stats-1,n_summary_stats))\n",
    "ax.set_xticklabels(labels_sum_stats)\n",
    "plt.ylabel('feature value')\n",
    "ax = plt.gca()\n",
    "handles, labels = ax.get_legend_handles_labels()\n",
    "ax.legend(handles[::-1], labels[::-1], bbox_to_anchor=(1.2, 1), loc='upper right')\n",
    "\n",
    "ax = plt.subplot(1,2,2)\n",
    "plt.semilogy(np.abs(obs_stats[0]),color=COL['GT'],linestyle='--', lw=2, label='observation')\n",
    "# plt.semilogy(np.abs(np.asarray(best_sumstats)*res.stats_std),color='g', lw=2, label='best ibea')\n",
    "plt.semilogy(np.abs(sum_stats_post-obs_stats[0]),color='r', lw=2, label='best ibea')\n",
    "ax.set_xticks(np.linspace(0,n_summary_stats-1,n_summary_stats))\n",
    "ax.set_xticklabels(labels_sum_stats);\n",
    "plt.ylabel(r'$f^*$ - f');"
   ]
  },
  {
   "cell_type": "markdown",
   "metadata": {},
   "source": [
    "## Analysis of optimization"
   ]
  },
  {
   "cell_type": "code",
   "execution_count": null,
   "metadata": {},
   "outputs": [],
   "source": [
    "fig = plt.figure(figsize=(15,15))\n",
    "\n",
    "# error across iterations\n",
    "plt.subplot(311)\n",
    "plt.semilogy(log.select('gen'), log.select('max'), '--k', lw=1, label='max')\n",
    "plt.semilogy(log.select('gen'), log.select('avg'), 'b', lw=2, label='mean')\n",
    "plt.semilogy(log.select('gen'), log.select('min'), '--r', lw=1, label='min')\n",
    "plt.xlabel('iteration')\n",
    "plt.ylabel('summed error')\n",
    "plt.legend(frameon=False)\n",
    "\n",
    "obs_stats_2 = obs_stats / res.stats_std\n",
    "\n",
    "\n",
    "###############################################################################\n",
    "# histogram of differences between true summary features and final range of summary features\n",
    "\n",
    "diff_sum_stats = np.divide(best_sumstats,np.abs(obs_stats_2))\n",
    "\n",
    "all_best_sum_stats = np.zeros((len(halloffame[0].fitness.values),len(halloffame)))\n",
    "for i in range(len(halloffame)):\n",
    "    all_best_sum_stats[:,i] = halloffame[i].fitness.values\n",
    "\n",
    "\n",
    "err_sum_stats_up_norm = np.divide( np.std(all_best_sum_stats,1) , np.abs(obs_stats_2) )\n",
    "err_sum_stats_down_norm = np.divide( np.std(all_best_sum_stats,1) , np.abs(obs_stats_2) )\n",
    "\n",
    "labels_sum_stats = labels_sum_stats[0:n_sum_stats]\n",
    "                \n",
    "plt.subplot(312)\n",
    "plt.bar(np.linspace(0,len(labels_sum_stats)-1,len(labels_sum_stats)),diff_sum_stats[0], align='center',\n",
    "        yerr=[err_sum_stats_down_norm[0],err_sum_stats_up_norm[0]])\n",
    "\n",
    "ax = plt.gca()\n",
    "ax.set_xticks(np.linspace(0,len(labels_sum_stats)-1,len(labels_sum_stats)))\n",
    "ax.set_xticklabels(labels_sum_stats)\n",
    "\n",
    "\n",
    "###############################################################################\n",
    "# histogram of differences between true parameters and final parameter range\n",
    "\n",
    "diff_params = np.divide(true_params-best_params,true_params)\n",
    "\n",
    "err_params_up_norm = np.divide( np.std(halloffame,0) , true_params )\n",
    "err_params_down_norm = np.divide( np.std(halloffame,0) , true_params )\n",
    "\n",
    "labels_params = labels_params[0:len(true_params)]\n",
    "                \n",
    "plt.subplot(313)\n",
    "plt.bar(np.linspace(0,len(labels_params)-1,len(labels_params)),diff_params, align='center',\n",
    "        yerr=[err_params_down_norm,err_params_up_norm])\n",
    "ax = plt.gca()\n",
    "ax.set_xticks(np.linspace(0,len(labels_params)-1,len(labels_params)))\n",
    "ax.set_xticklabels(labels_params);"
   ]
  },
  {
   "cell_type": "code",
   "execution_count": null,
   "metadata": {},
   "outputs": [],
   "source": []
  }
 ],
 "metadata": {
  "anaconda-cloud": {},
  "kernelspec": {
   "display_name": "Python 3",
   "language": "python",
   "name": "python3"
  },
  "language_info": {
   "codemirror_mode": {
    "name": "ipython",
    "version": 3
   },
   "file_extension": ".py",
   "mimetype": "text/x-python",
   "name": "python",
   "nbconvert_exporter": "python",
   "pygments_lexer": "ipython3",
   "version": "3.5.2"
  }
 },
 "nbformat": 4,
 "nbformat_minor": 1
}
