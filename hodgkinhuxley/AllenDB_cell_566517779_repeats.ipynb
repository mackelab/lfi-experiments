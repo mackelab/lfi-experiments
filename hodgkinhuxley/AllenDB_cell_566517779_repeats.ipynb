{
 "cells": [
  {
   "cell_type": "markdown",
   "metadata": {},
   "source": [
    "## multiple repeats of cell 566517779 Allen Cell Type Database"
   ]
  },
  {
   "cell_type": "code",
   "execution_count": null,
   "metadata": {},
   "outputs": [],
   "source": [
    "import lfimodels.hodgkinhuxley.utils as utils\n",
    "import matplotlib as mpl\n",
    "import matplotlib.pyplot as plt\n",
    "import numpy as np\n",
    "\n",
    "from matplotlib.backends.backend_pdf import PdfPages\n",
    "\n",
    "%matplotlib inline"
   ]
  },
  {
   "cell_type": "code",
   "execution_count": null,
   "metadata": {},
   "outputs": [],
   "source": [
    "list_repeats_AllenDB = [[566517779,44,0.0195/198],[566517779,56,0.0195/198],[566517779,57,0.0195/198],\n",
    "                        [566517779,58,0.0195/198],[566517779,59,0.0195/198]]\n",
    "\n",
    "cell_id = list_repeats_AllenDB[0][0]\n",
    "A_soma = list_repeats_AllenDB[0][2]\n",
    "num_rep = len(list_repeats_AllenDB)\n",
    "junction_potential = -14\n",
    "\n",
    "\n",
    "# with PdfPages('./results/AllenDB_cell_566517779_repeats.pdf') as pdf:\n",
    "\n",
    "fig = plt.figure(figsize=(20,8))\n",
    "\n",
    "for i in range(num_rep):\n",
    "    ephys_cell = list_repeats_AllenDB[i][0]\n",
    "    sweep_number = list_repeats_AllenDB[i][1]\n",
    "    A_soma = list_repeats_AllenDB[i][2]\n",
    "\n",
    "    obs = utils.allen_obs_data(ephys_cell=ephys_cell,sweep_number=sweep_number,A_soma=A_soma)\n",
    "    obs['data'] = obs['data'] + junction_potential\n",
    "    I_tot = np.max(obs['I'])*A_soma*1e6\n",
    "\n",
    "    plt.subplot(2,3,i+1)\n",
    "    plt.plot(obs['time'],obs['data'], lw=2)\n",
    "    plt.xlabel('time (ms)')\n",
    "    plt.ylabel('voltage (mV)')\n",
    "\n",
    "    if i==0:\n",
    "        plt.title('cell '+str(cell_id)+', current '+'{:.0f}'.format(I_tot)+' pA')\n",
    "\n",
    "#     #     plt.show()\n",
    "#     pdf.savefig()\n",
    "#     plt.close()"
   ]
  },
  {
   "cell_type": "code",
   "execution_count": null,
   "metadata": {},
   "outputs": [],
   "source": [
    "col_min = 3\n",
    "num_colors = num_rep+col_min\n",
    "cm1 = mpl.cm.Blues\n",
    "col1 = [cm1(1.*i/num_colors) for i in range(col_min,num_colors)]\n",
    "\n",
    "for i in range(num_rep):\n",
    "    ephys_cell = list_repeats_AllenDB[i][0]\n",
    "    sweep_number = list_repeats_AllenDB[i][1]\n",
    "    A_soma = list_repeats_AllenDB[i][2]\n",
    "\n",
    "    obs = utils.allen_obs_data(ephys_cell=ephys_cell,sweep_number=sweep_number,A_soma=A_soma)\n",
    "    obs['data'] = obs['data'] + junction_potential\n",
    "    I_tot = np.max(obs['I'])*A_soma*1e6\n",
    "\n",
    "    plt.plot(obs['time'],obs['data'], color=col1[i], lw=2)\n",
    "    plt.xlabel('time (ms)')\n",
    "    plt.ylabel('voltage (mV)')\n",
    "    \n",
    "    if i==0:\n",
    "        plt.title('cell '+str(cell_id)+', current '+'{:.0f}'.format(I_tot)+' pA')"
   ]
  },
  {
   "cell_type": "code",
   "execution_count": null,
   "metadata": {},
   "outputs": [],
   "source": []
  }
 ],
 "metadata": {
  "anaconda-cloud": {},
  "kernelspec": {
   "display_name": "Python 3",
   "language": "python",
   "name": "python3"
  },
  "language_info": {
   "codemirror_mode": {
    "name": "ipython",
    "version": 3
   },
   "file_extension": ".py",
   "mimetype": "text/x-python",
   "name": "python",
   "nbconvert_exporter": "python",
   "pygments_lexer": "ipython3",
   "version": "3.5.2"
  }
 },
 "nbformat": 4,
 "nbformat_minor": 2
}
