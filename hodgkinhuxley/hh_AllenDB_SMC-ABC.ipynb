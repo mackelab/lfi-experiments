{
 "cells": [
  {
   "cell_type": "markdown",
   "metadata": {},
   "source": [
    "## SMC-ABC on Hodgkin-Huxley model on cell from Allen Cell Type Database"
   ]
  },
  {
   "cell_type": "code",
   "execution_count": null,
   "metadata": {},
   "outputs": [],
   "source": [
    "import delfi.distribution as dd\n",
    "import delfi.distribution.mixture.GaussianMixture as GaussianMixture\n",
    "import delfi.generator as dg\n",
    "import delfi.inference as infer\n",
    "import delfi.utils.io as io\n",
    "import delfi.summarystats as ds\n",
    "import lfimodels.hodgkinhuxley.utils as utils\n",
    "import matplotlib as mpl\n",
    "import matplotlib.pyplot as plt\n",
    "import numpy as np\n",
    "import pickle\n",
    "\n",
    "from lfimodels.abc_methods import run_abc\n",
    "from lfimodels.hodgkinhuxley.HodgkinHuxley import HodgkinHuxley\n",
    "from lfimodels.hodgkinhuxley.HodgkinHuxleyStatsMoments import HodgkinHuxleyStatsMoments\n",
    "from lfimodels.hodgkinhuxley.HodgkinHuxleyStatsSpikes_mf import HodgkinHuxleyStatsSpikes_mf\n",
    "from lfimodels.hodgkinhuxley.HodgkinHuxleyStatsSpikes import HodgkinHuxleyStatsSpikes\n",
    "from delfi.utils.viz import plot_pdf\n",
    "from sklearn import mixture\n",
    "from sklearn.neighbors.kde import KernelDensity\n",
    "\n",
    "%matplotlib inline"
   ]
  },
  {
   "cell_type": "code",
   "execution_count": null,
   "metadata": {},
   "outputs": [],
   "source": [
    "def param_transform(prior_log, x):\n",
    "    if prior_log:\n",
    "        return np.log(x)\n",
    "    else:\n",
    "        return x\n",
    "\n",
    "def param_invtransform(prior_log, x):\n",
    "    if prior_log:\n",
    "        return np.exp(x)\n",
    "    else:\n",
    "        return x"
   ]
  },
  {
   "cell_type": "code",
   "execution_count": null,
   "metadata": {},
   "outputs": [],
   "source": [
    "true_params, labels_params = utils.obs_params()\n",
    "\n",
    "n_params = len(true_params)\n",
    "seed = 1\n",
    "prior_uniform = True\n",
    "prior_log = False\n",
    "prior_extent = True\n",
    "n_xcorr = 0\n",
    "n_mom = 4\n",
    "cython=True\n",
    "n_summary = 10\n",
    "summary_stats = 1\n",
    "\n",
    "list_cells_AllenDB = [[518290966,57,0.0234/126],[509881736,39,0.0153/184],[566517779,46,0.0195/198],\n",
    "                      [567399060,38,0.0259/161],[569469018,44,0.033/403],[532571720,42,0.0139/127],\n",
    "                      [555060623,34,0.0294/320],[534524026,29,0.027/209],[532355382,33,0.0199/230],\n",
    "                      [526950199,37,0.0186/218]]\n",
    "\n",
    "cell_num = 0\n",
    "ephys_cell = list_cells_AllenDB[cell_num][0]\n",
    "sweep_number = list_cells_AllenDB[cell_num][1]\n",
    "A_soma = list_cells_AllenDB[cell_num][2]\n",
    "junction_potential = -14\n",
    "\n",
    "obs = utils.allen_obs_data(ephys_cell=ephys_cell,sweep_number=sweep_number,A_soma=A_soma)\n",
    "\n",
    "obs['data'] = obs['data'] + junction_potential\n",
    "I = obs['I']\n",
    "dt = obs['dt']\n",
    "t_on = obs['t_on']\n",
    "t_off = obs['t_off']\n",
    "\n",
    "obs_stats = utils.allen_obs_stats(data=obs,ephys_cell=ephys_cell,sweep_number=sweep_number,\n",
    "                                  n_xcorr=n_xcorr,n_mom=n_mom,\n",
    "                                  summary_stats=summary_stats,n_summary=n_summary)\n",
    "\n",
    "# define model, prior, summary statistics and generator\n",
    "seed = None\n",
    "m = HodgkinHuxley(I, dt, V0=obs['data'][0], seed=seed, cython=cython,prior_log=prior_log)\n",
    "p = utils.prior(true_params=true_params,prior_uniform=prior_uniform,\n",
    "                prior_extent=prior_extent,prior_log=prior_log, seed=seed)\n",
    "s = HodgkinHuxleyStatsMoments(t_on=t_on, t_off=t_off,n_xcorr=n_xcorr,n_mom=n_mom)\n",
    "#     s = HodgkinHuxleyStatsSpikes_mf(t_on=t_on, t_off=t_off,n_summary=n_summary)\n",
    "#     s = HodgkinHuxleyStatsSpikes(t_on=t_on, t_off=t_off,n_summary=n_summary)\n",
    "g = dg.Default(model=m, prior=p, summary=s)\n",
    "\n",
    "bounds = np.asarray([p.lower,p.upper]).T"
   ]
  },
  {
   "cell_type": "code",
   "execution_count": null,
   "metadata": {},
   "outputs": [],
   "source": [
    "plt.plot(obs['time'],obs['data'])"
   ]
  },
  {
   "cell_type": "code",
   "execution_count": null,
   "metadata": {},
   "outputs": [],
   "source": [
    "print(t_on)\n",
    "print(t_off)\n",
    "print(dt)"
   ]
  },
  {
   "cell_type": "code",
   "execution_count": null,
   "metadata": {},
   "outputs": [],
   "source": [
    "obs_stats"
   ]
  },
  {
   "cell_type": "markdown",
   "metadata": {},
   "source": [
    "### z-scoring summary statistics"
   ]
  },
  {
   "cell_type": "code",
   "execution_count": null,
   "metadata": {},
   "outputs": [],
   "source": [
    "n_summary_stats = len(obs_stats[0])\n",
    "pilot_samples = 1000\n",
    "_, pilots = g.gen(pilot_samples)\n",
    "stats_mean = pilots.mean(axis=0).reshape(1,n_summary_stats)\n",
    "stats_std = pilots.std(axis=0).reshape(1,n_summary_stats)\n",
    "\n",
    "class normed_summary():\n",
    "    def calc(self, y):\n",
    "        x = g.summary.calc(y)\n",
    "        return (x-stats_mean)/stats_std\n",
    "\n",
    "obs_statz =  (obs_stats.flatten() - stats_mean) /  stats_std"
   ]
  },
  {
   "cell_type": "markdown",
   "metadata": {},
   "source": [
    "## SMC-ABC"
   ]
  },
  {
   "cell_type": "markdown",
   "metadata": {},
   "source": [
    "### initial epsilon"
   ]
  },
  {
   "cell_type": "code",
   "execution_count": null,
   "metadata": {},
   "outputs": [],
   "source": [
    "stats_median = np.median(pilots,axis=0)\n",
    "stats_medianz =  (stats_median - stats_mean) /  stats_std\n",
    "eps_init = run_abc.calc_dist(obs_statz,stats_medianz)"
   ]
  },
  {
   "cell_type": "markdown",
   "metadata": {},
   "source": [
    "### run algorithm"
   ]
  },
  {
   "cell_type": "code",
   "execution_count": null,
   "metadata": {},
   "outputs": [],
   "source": [
    "n_particles = 1e3\n",
    "maxsim = 1e6\n",
    "ps_smc, logweights_smc, eps_smc, all_nsims_smc = run_abc.run_smc(model=m, prior=p, summary=normed_summary(),\n",
    "                                                                 obs_stats=obs_statz,\n",
    "                                                                 n_params=n_params, seed=None, \n",
    "                                                                 n_particles=n_particles,eps_init=eps_init,\n",
    "                                                                 maxsim=maxsim, fn=None)"
   ]
  },
  {
   "cell_type": "code",
   "execution_count": null,
   "metadata": {},
   "outputs": [],
   "source": [
    "filename1 = './results/allen_'+str(ephys_cell)+'_'+str(sweep_number)+\\\n",
    "'_run_1_prior0013_param8_smc_abc.pkl'\n",
    "io.save_pkl((ps_smc, logweights_smc, eps_smc, all_nsims_smc), filename1)"
   ]
  },
  {
   "cell_type": "code",
   "execution_count": null,
   "metadata": {},
   "outputs": [],
   "source": [
    "filename1 = './results/allen_'+str(ephys_cell)+'_'+str(sweep_number)+\\\n",
    "'_run_1_prior0013_param8_smc_abc.pkl'\n",
    "ps_smc, logweights_smc, eps_smc, all_nsims_smc = io.load_pkl(filename1)"
   ]
  },
  {
   "cell_type": "markdown",
   "metadata": {},
   "source": [
    "### mean and covariance"
   ]
  },
  {
   "cell_type": "code",
   "execution_count": null,
   "metadata": {},
   "outputs": [],
   "source": [
    "weights_smc = np.exp(logweights_smc)\n",
    "nsims_smc = np.asarray(all_nsims_smc)\n",
    "\n",
    "m_smc = []\n",
    "cov_smc = []\n",
    "for i in range(len(ps_smc)):\n",
    "    m_smc.append(np.dot(weights_smc[i],ps_smc[i]))\n",
    "    cov_smc.append(np.cov(ps_smc[i].T,aweights = weights_smc[i]))"
   ]
  },
  {
   "cell_type": "markdown",
   "metadata": {},
   "source": [
    "### weighted samples"
   ]
  },
  {
   "cell_type": "code",
   "execution_count": null,
   "metadata": {},
   "outputs": [],
   "source": [
    "num_rep_samples = np.round(weights_smc[-1]*n_particles).astype('int')\n",
    "weighted_samples = np.repeat(ps_smc[-1],num_rep_samples, axis=0)\n",
    "\n",
    "params_mean = np.mean(weighted_samples,axis=0)\n",
    "params_std = np.std(weighted_samples,axis=0)\n",
    "weighted_samples_zscored = (weighted_samples - params_mean) / params_std"
   ]
  },
  {
   "cell_type": "markdown",
   "metadata": {},
   "source": [
    "### kernel density estimation for finding MAP"
   ]
  },
  {
   "cell_type": "code",
   "execution_count": null,
   "metadata": {},
   "outputs": [],
   "source": [
    "kde = KernelDensity(kernel='gaussian', bandwidth=0.2)\n",
    "kde.fit(weighted_samples)\n",
    "log_dens = kde.score_samples(weighted_samples)\n",
    "ind_max = np.argmax(log_dens)\n",
    "mn_post = weighted_samples[ind_max]"
   ]
  },
  {
   "cell_type": "markdown",
   "metadata": {},
   "source": [
    "### mixture of gaussians"
   ]
  },
  {
   "cell_type": "code",
   "execution_count": null,
   "metadata": {},
   "outputs": [],
   "source": [
    "clf = mixture.GaussianMixture(n_components=4, covariance_type='full',init_params='kmeans',n_init=10)\n",
    "clf.fit(weighted_samples_zscored)\n",
    "pdf1 = GaussianMixture.MoG(a=clf.weights_,ms=clf.means_,Ss=clf.covariances_).ztrans_inv(params_mean, params_std)"
   ]
  },
  {
   "cell_type": "markdown",
   "metadata": {},
   "source": [
    "### plot posterior"
   ]
  },
  {
   "cell_type": "code",
   "execution_count": null,
   "metadata": {},
   "outputs": [],
   "source": [
    "prior_min = g.prior.lower\n",
    "prior_max = g.prior.upper\n",
    "\n",
    "prior_lims = np.concatenate((prior_min.reshape(-1,1),\n",
    "                             prior_max.reshape(-1,1)),\n",
    "                            axis=1)\n",
    "\n",
    "# pdf1 = dd.Gaussian(m=m_smc[-1], S=cov_smc[-1])\n",
    "plot_pdf(pdf1, lims=prior_lims, samples=weighted_samples.T,figsize=(15,15), labels_params=labels_params, ticks=True);"
   ]
  },
  {
   "cell_type": "code",
   "execution_count": null,
   "metadata": {},
   "outputs": [],
   "source": [
    "fig = plt.figure()\n",
    "\n",
    "n_params = len(mn_post)\n",
    "y_obs = obs['data']\n",
    "t = obs['time']\n",
    "duration = np.max(t)\n",
    "\n",
    "COL = {}\n",
    "COL['GT']   = (35/255,86/255,167/255)\n",
    "COL['SNPE'] = (0, 174/255,239/255)\n",
    "\n",
    "num_samp = 3\n",
    "\n",
    "# most likely samples from posterior\n",
    "density_sort = np.argsort(log_dens)\n",
    "x_samp = weighted_samples[density_sort[-num_samp:]]\n",
    "\n",
    "num_samp = len(x_samp[:,0])\n",
    "num_colors = num_samp+1\n",
    "cm1 = mpl.cm.Oranges\n",
    "col1 = [cm1(1.*i/num_colors) for i in range(num_colors)]\n",
    "\n",
    "params = param_invtransform(prior_log,np.concatenate((np.array([mn_post]),x_samp)))\n",
    "\n",
    "\n",
    "V = np.zeros((len(t),1+num_samp))\n",
    "for i in range(1+num_samp):\n",
    "    m = HodgkinHuxley(I=I, dt=dt, V0=obs['data'][0], seed=230+i, cython=True, prior_log=prior_log)\n",
    "    x = m.gen_single(param_transform(prior_log,params[i,:]))\n",
    "    V[:,i] = x['data']\n",
    "    if i>0:\n",
    "        plt.plot(t, V[:, i], color = col1[i-1], lw=2, label='sample '+str(num_samp-i+1))\n",
    "\n",
    "# plotting simulation\n",
    "plt.plot(t, V[:, 0], color=COL['SNPE'], lw=2, label='mode')\n",
    "plt.plot(t, y_obs, color=COL['GT'], lw=2, label='observation')\n",
    "\n",
    "\n",
    "plt.xlabel('time (ms)')\n",
    "plt.ylabel('voltage (mV)')\n",
    "\n",
    "ax = plt.gca()\n",
    "handles, labels = ax.get_legend_handles_labels()\n",
    "ax.legend(handles[::-1], labels[::-1], bbox_to_anchor=(1.3, 1), loc='upper right')\n",
    "\n",
    "ax.set_xticks([0, duration/2, duration])\n",
    "ax.set_yticks([-80, -20, 40]);"
   ]
  },
  {
   "cell_type": "code",
   "execution_count": null,
   "metadata": {},
   "outputs": [],
   "source": [
    "# plotting simulation\n",
    "plt.plot(t, V[:, 0], color=COL['SNPE'], lw=2, label='mode')\n",
    "plt.xlabel('time (ms)')\n",
    "plt.ylabel('voltage (mV)');"
   ]
  },
  {
   "cell_type": "code",
   "execution_count": null,
   "metadata": {},
   "outputs": [],
   "source": [
    "labels_sum_stats = ['sp_t','r_pot','r_pot_std','m1','m2','m3','m4']\n",
    "\n",
    "n_summary_stats = len(labels_sum_stats)\n",
    "\n",
    "sum_stats_post = g.summary.calc([m.gen_single(mn_post)])[0]\n",
    "\n",
    "\n",
    "fig = plt.figure(figsize=(20,5))\n",
    "ax = plt.subplot(1,2,1)\n",
    "plt.plot(obs_stats[0], color=COL['GT'], lw=2, label='observation')\n",
    "plt.plot(sum_stats_post, color=COL['SNPE'], lw=2, label='mode')\n",
    "ax.set_xticks(np.linspace(0,n_summary_stats-1,n_summary_stats))\n",
    "ax.set_xticklabels(labels_sum_stats)\n",
    "plt.ylabel('feature value')\n",
    "ax = plt.gca()\n",
    "handles, labels = ax.get_legend_handles_labels()\n",
    "ax.legend(handles[::-1], labels[::-1], bbox_to_anchor=(1.2, 1), loc='upper right')\n",
    "\n",
    "ax = plt.subplot(1,2,2)\n",
    "plt.semilogy(np.abs(obs_stats[0]),color=COL['GT'],linestyle='--', lw=2, label='observation')\n",
    "plt.semilogy(np.abs(sum_stats_post-obs_stats[0]),color=COL['SNPE'], lw=2, label='mode')\n",
    "ax.set_xticks(np.linspace(0,n_summary_stats-1,n_summary_stats))\n",
    "ax.set_xticklabels(labels_sum_stats);\n",
    "plt.ylabel(r'$f^*$ - f');"
   ]
  },
  {
   "cell_type": "code",
   "execution_count": null,
   "metadata": {},
   "outputs": [],
   "source": []
  }
 ],
 "metadata": {
  "anaconda-cloud": {},
  "kernelspec": {
   "display_name": "Python 3",
   "language": "python",
   "name": "python3"
  },
  "language_info": {
   "codemirror_mode": {
    "name": "ipython",
    "version": 3
   },
   "file_extension": ".py",
   "mimetype": "text/x-python",
   "name": "python",
   "nbconvert_exporter": "python",
   "pygments_lexer": "ipython3",
   "version": "3.5.2"
  }
 },
 "nbformat": 4,
 "nbformat_minor": 2
}
