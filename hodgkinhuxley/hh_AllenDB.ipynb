{
 "cells": [
  {
   "cell_type": "markdown",
   "metadata": {},
   "source": [
    "## Inference of Hodgkin-Huxley model on cell from Allen Cell Type Database"
   ]
  },
  {
   "cell_type": "code",
   "execution_count": 1,
   "metadata": {
    "collapsed": true
   },
   "outputs": [],
   "source": [
    "import delfi.distribution as dd\n",
    "import delfi.generator as dg\n",
    "import delfi.inference as infer\n",
    "import delfi.utils.io as io\n",
    "import delfi.summarystats as ds\n",
    "import lfimodels.hodgkinhuxley.utils as utils\n",
    "import matplotlib as mpl\n",
    "import matplotlib.pyplot as plt\n",
    "import numpy as np\n",
    "\n",
    "from lfimodels.hodgkinhuxley.HodgkinHuxley import HodgkinHuxley\n",
    "from lfimodels.hodgkinhuxley.HodgkinHuxleyStatsMoments import HodgkinHuxleyStatsMoments\n",
    "from delfi.utils.viz import plot_pdf\n",
    "\n",
    "%matplotlib inline"
   ]
  },
  {
   "cell_type": "code",
   "execution_count": 2,
   "metadata": {
    "collapsed": true
   },
   "outputs": [],
   "source": [
    "true_params, labels_params = utils.obs_params()\n",
    "\n",
    "seed = None\n",
    "\n",
    "obs = utils.allen_obs_data()\n",
    "obs_stats = utils.allen_obs_stats()\n",
    "\n",
    "I = obs['I']\n",
    "dt = obs['dt']\n",
    "t_on = obs['t_on']\n",
    "t_off = obs['t_off']\n",
    "\n",
    "m = HodgkinHuxley(I, dt, seed=seed, cython=True)\n",
    "p = utils.prior(true_params=true_params, prior_extent=False, seed=seed)\n",
    "s = HodgkinHuxleyStatsMoments(t_on=t_on, t_off=t_off)\n",
    "g = dg.Default(model=m, prior=p, summary=s)"
   ]
  },
  {
   "cell_type": "markdown",
   "metadata": {},
   "source": [
    "## CDELFI"
   ]
  },
  {
   "cell_type": "code",
   "execution_count": null,
   "metadata": {},
   "outputs": [],
   "source": [
    "seed = 1\n",
    "g = dg.Default(model=m, prior=p, summary=s)\n",
    "res = infer.CDELFI(g, obs=obs_stats, pilot_samples=1000, n_hiddens=[50], seed=seed, prior_norm=True)\n",
    "\n",
    "# run with N samples\n",
    "out = res.run(1000, n_rounds=3)"
   ]
  },
  {
   "cell_type": "code",
   "execution_count": null,
   "metadata": {
    "collapsed": true
   },
   "outputs": [],
   "source": [
    "posterior = res.predict(obs_stats)"
   ]
  },
  {
   "cell_type": "code",
   "execution_count": null,
   "metadata": {},
   "outputs": [],
   "source": [
    "prior_min = res.generator.prior.lower\n",
    "prior_max = res.generator.prior.upper\n",
    "\n",
    "prior_lims = np.concatenate((prior_min.reshape(-1,1),\n",
    "                             prior_max.reshape(-1,1)),\n",
    "                            axis=1)\n",
    "\n",
    "plot_pdf(posterior.xs[0], lims=prior_lims, samples=None);"
   ]
  },
  {
   "cell_type": "markdown",
   "metadata": {},
   "source": [
    "## SNPE"
   ]
  },
  {
   "cell_type": "code",
   "execution_count": null,
   "metadata": {
    "scrolled": true
   },
   "outputs": [
    {
     "data": {
      "application/vnd.jupyter.widget-view+json": {
       "model_id": "65ca7fefdaa34daf9542c2fa37f5d6ec"
      }
     },
     "metadata": {},
     "output_type": "display_data"
    },
    {
     "name": "stdout",
     "output_type": "stream",
     "text": [
      "\n"
     ]
    },
    {
     "data": {
      "application/vnd.jupyter.widget-view+json": {
       "model_id": "3846fceabdda489a9ddcfa47239edfc9"
      }
     },
     "metadata": {},
     "output_type": "display_data"
    }
   ],
   "source": [
    "seed = 1\n",
    "g = dg.Default(model=m, prior=p, summary=s)\n",
    "res = infer.SNPE(g, obs=obs_stats, pilot_samples=1000, n_hiddens=[50], seed=seed, prior_norm=True,n_components=2)\n",
    "\n",
    "# run with N samples\n",
    "out = res.run(5000, n_rounds=5)"
   ]
  },
  {
   "cell_type": "code",
   "execution_count": null,
   "metadata": {
    "collapsed": true
   },
   "outputs": [],
   "source": [
    "posterior = res.predict(obs_stats)"
   ]
  },
  {
   "cell_type": "code",
   "execution_count": null,
   "metadata": {},
   "outputs": [],
   "source": [
    "prior_min = res.generator.prior.lower\n",
    "prior_max = res.generator.prior.upper\n",
    "\n",
    "prior_lims = np.concatenate((prior_min.reshape(-1,1),\n",
    "                             prior_max.reshape(-1,1)),\n",
    "                            axis=1)\n",
    "\n",
    "plot_pdf(posterior.xs[0], lims=prior_lims, samples=None);"
   ]
  },
  {
   "cell_type": "code",
   "execution_count": null,
   "metadata": {},
   "outputs": [],
   "source": [
    "fig = plt.figure()\n",
    "\n",
    "m, S = posterior.calc_mean_and_cov()\n",
    "n_params = len(m)\n",
    "y_obs = obs['data']\n",
    "t = obs['time']\n",
    "duration = np.max(t)\n",
    "\n",
    "COL = {}\n",
    "COL['GT']   = (35/255,86/255,167/255)\n",
    "COL['SNPE'] = (0, 174/255,239/255)\n",
    "\n",
    "num_samp = 0\n",
    "num_colors = num_samp+1\n",
    "cm1 = mpl.cm.Oranges\n",
    "col1 = [cm1(1.*i/num_colors) for i in range(num_colors)]\n",
    "\n",
    "# sampling at contour of 1 covariance away from mean\n",
    "x_samp = np.random.randn(n_params,num_samp)\n",
    "x_samp = np.divide(x_samp,np.linalg.norm(x_samp,axis=0))\n",
    "x_samp = (np.dot(S,x_samp)).T+m\n",
    "\n",
    "params = np.concatenate((np.array([m]),x_samp))\n",
    "\n",
    "V = np.zeros((len(t),1+num_samp))\n",
    "for i in range(1+num_samp):\n",
    "    m = HodgkinHuxley(I=I, dt=dt, seed=230+i)\n",
    "    x = m.gen_single(params[i,:])\n",
    "    V[:,i] = x['data']\n",
    "#     V[:,i] = hh.sim_time(dt, t, I)[:,0]\n",
    "    if i>0:\n",
    "        plt.plot(t, V[:, i], color = col1[i-1], lw=2, label='sample '+str(num_samp-i+1))\n",
    "\n",
    "# plotting simulation\n",
    "plt.plot(t, V[:, 0], color=COL['SNPE'], lw=2, label='mode')\n",
    "plt.plot(t, y_obs, color=COL['GT'], lw=2, label='observation')\n",
    "plt.xlabel('time (ms)')\n",
    "plt.ylabel('voltage (mV)')\n",
    "\n",
    "ax = plt.gca()\n",
    "handles, labels = ax.get_legend_handles_labels()\n",
    "ax.legend(handles[::-1], labels[::-1], bbox_to_anchor=(1.3, 1), loc='upper right')\n",
    "\n",
    "ax.set_xticks([0, duration/2, duration])\n",
    "ax.set_yticks([-80, -20, 40])"
   ]
  },
  {
   "cell_type": "code",
   "execution_count": null,
   "metadata": {
    "collapsed": true
   },
   "outputs": [],
   "source": []
  }
 ],
 "metadata": {
  "anaconda-cloud": {},
  "kernelspec": {
   "display_name": "Python [default]",
   "language": "python",
   "name": "python3"
  },
  "language_info": {
   "codemirror_mode": {
    "name": "ipython",
    "version": 3
   },
   "file_extension": ".py",
   "mimetype": "text/x-python",
   "name": "python",
   "nbconvert_exporter": "python",
   "pygments_lexer": "ipython3",
   "version": "3.5.2"
  }
 },
 "nbformat": 4,
 "nbformat_minor": 2
}
