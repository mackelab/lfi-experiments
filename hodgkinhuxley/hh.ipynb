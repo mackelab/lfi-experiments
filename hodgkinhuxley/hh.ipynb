{
 "cells": [
  {
   "cell_type": "code",
   "execution_count": 2,
   "metadata": {},
   "outputs": [],
   "source": [
    "import delfi.distribution as dd\n",
    "import delfi.generator as dg\n",
    "import delfi.inference as infer\n",
    "import delfi.utils.io as io\n",
    "import delfi.summarystats as ds\n",
    "import lfimodels.hodgkinhuxley.utils as utils\n",
    "import matplotlib as mpl\n",
    "import matplotlib.pyplot as plt\n",
    "import numpy as np\n",
    "import pickle\n",
    "\n",
    "from lfimodels.hodgkinhuxley.HodgkinHuxley import HodgkinHuxley\n",
    "from lfimodels.hodgkinhuxley.HodgkinHuxleyStatsMoments import HodgkinHuxleyStatsMoments\n",
    "from lfimodels.hodgkinhuxley.HodgkinHuxleyStatsSpikes_mf import HodgkinHuxleyStatsSpikes_mf\n",
    "from delfi.utils.viz import plot_pdf\n",
    "\n",
    "%matplotlib inline"
   ]
  },
  {
   "cell_type": "code",
   "execution_count": 3,
   "metadata": {},
   "outputs": [],
   "source": [
    "def param_transform(prior_log, x):\n",
    "    if prior_log:\n",
    "        return np.log(x)\n",
    "    else:\n",
    "        return x\n",
    "\n",
    "def param_invtransform(prior_log, x):\n",
    "    if prior_log:\n",
    "        return np.exp(x)\n",
    "    else:\n",
    "        return x"
   ]
  },
  {
   "cell_type": "code",
   "execution_count": 4,
   "metadata": {},
   "outputs": [],
   "source": [
    "reduced_model = False\n",
    "true_params, labels_params = utils.obs_params(reduced_model=reduced_model)\n",
    "\n",
    "seed = 1\n",
    "prior_uniform = True\n",
    "prior_log = False\n",
    "prior_extent = True\n",
    "n_xcorr = 0\n",
    "n_mom = 4\n",
    "cython=True\n",
    "n_summary = 8\n",
    "summary_stats = 3\n",
    "\n",
    "I, t_on, t_off, dt = utils.syn_current()\n",
    "\n",
    "obs = utils.syn_obs_data(I, dt, true_params, seed=seed, cython=cython)\n",
    "obs_stats = utils.syn_obs_stats(data=obs,I=I, t_on=t_on, t_off=t_off, dt=dt, params=true_params,\n",
    "                                seed=seed, n_xcorr=n_xcorr, n_mom=n_mom, cython=cython,\n",
    "                                summary_stats=summary_stats,n_summary=n_summary)\n",
    "\n",
    "\n",
    "# define model, prior, summary statistics and generator\n",
    "n_processes = 10\n",
    "\n",
    "if n_processes>1:\n",
    "    seeds_model = np.arange(1,n_processes+1,1)\n",
    "    m = []\n",
    "    for i in range(n_processes):\n",
    "        m.append(HodgkinHuxley(I, dt, V0=obs['data'][0],reduced_model=reduced_model,\n",
    "                               seed=seeds_model[i], cython=cython,prior_log=prior_log))\n",
    "    p = utils.prior(true_params=true_params,prior_uniform=prior_uniform,\n",
    "                    prior_extent=prior_extent,prior_log=prior_log, seed=seed)\n",
    "#     s = HodgkinHuxleyStatsMoments(t_on=t_on, t_off=t_off)\n",
    "    s = HodgkinHuxleyStatsSpikes_mf(t_on=t_on, t_off=t_off, n_summary=n_summary)\n",
    "    g = dg.MPGenerator(models=m, prior=p, summary=s)\n",
    "else:\n",
    "    seed = None\n",
    "    m = HodgkinHuxley(I, dt, V0=obs['data'][0],reduced_model=reduced_model,\n",
    "                      seed=seed, cython=cython,prior_log=prior_log)\n",
    "    p = utils.prior(true_params=true_params,prior_uniform=prior_uniform,\n",
    "                    prior_extent=prior_extent,prior_log=prior_log, seed=seed)\n",
    "#     s = HodgkinHuxleyStatsMoments(t_on=t_on, t_off=t_off)\n",
    "    s = HodgkinHuxleyStatsSpikes_mf(t_on=t_on, t_off=t_off, n_summary=n_summary)\n",
    "    g = dg.Default(model=m, prior=p, summary=s)"
   ]
  },
  {
   "cell_type": "code",
   "execution_count": null,
   "metadata": {},
   "outputs": [
    {
     "data": {
      "application/vnd.jupyter.widget-view+json": {
       "model_id": "bd39c65a901e4113882f6b680f8d110d",
       "version_major": 2,
       "version_minor": 0
      },
      "text/html": [
       "<p>Failed to display Jupyter Widget of type <code>HBox</code>.</p>\n",
       "<p>\n",
       "  If you're reading this message in Jupyter Notebook or JupyterLab, it may mean\n",
       "  that the widgets JavaScript is still loading. If this message persists, it\n",
       "  likely means that the widgets JavaScript library is either not installed or\n",
       "  not enabled. See the <a href=\"https://ipywidgets.readthedocs.io/en/stable/user_install.html\">Jupyter\n",
       "  Widgets Documentation</a> for setup instructions.\n",
       "</p>\n",
       "<p>\n",
       "  If you're reading this message in another notebook frontend (for example, a static\n",
       "  rendering on GitHub or <a href=\"https://nbviewer.jupyter.org/\">NBViewer</a>),\n",
       "  it may mean that your frontend doesn't currently support widgets.\n",
       "</p>\n"
      ],
      "text/plain": [
       "HBox(children=(IntProgress(value=0, max=1000), HTML(value='')))"
      ]
     },
     "metadata": {},
     "output_type": "display_data"
    },
    {
     "name": "stdout",
     "output_type": "stream",
     "text": [
      "\r",
      "          \r",
      "0/|/Draw parameters (pilot run) :   0%|| 0/1000 [00:00<?, ?it/s]\n"
     ]
    },
    {
     "data": {
      "application/vnd.jupyter.widget-view+json": {
       "model_id": "10227d7a93c54786bbdf7ec5f1c57732",
       "version_major": 2,
       "version_minor": 0
      },
      "text/html": [
       "<p>Failed to display Jupyter Widget of type <code>HBox</code>.</p>\n",
       "<p>\n",
       "  If you're reading this message in Jupyter Notebook or JupyterLab, it may mean\n",
       "  that the widgets JavaScript is still loading. If this message persists, it\n",
       "  likely means that the widgets JavaScript library is either not installed or\n",
       "  not enabled. See the <a href=\"https://ipywidgets.readthedocs.io/en/stable/user_install.html\">Jupyter\n",
       "  Widgets Documentation</a> for setup instructions.\n",
       "</p>\n",
       "<p>\n",
       "  If you're reading this message in another notebook frontend (for example, a static\n",
       "  rendering on GitHub or <a href=\"https://nbviewer.jupyter.org/\">NBViewer</a>),\n",
       "  it may mean that your frontend doesn't currently support widgets.\n",
       "</p>\n"
      ],
      "text/plain": [
       "HBox(children=(IntProgress(value=0, max=1000), HTML(value='')))"
      ]
     },
     "metadata": {},
     "output_type": "display_data"
    },
    {
     "name": "stdout",
     "output_type": "stream",
     "text": [
      "0/|/Run simulations (pilot run) :   0%|| 0/1000 [00:00<?, ?it/s]\n"
     ]
    },
    {
     "data": {
      "application/vnd.jupyter.widget-view+json": {
       "model_id": "f179a84b057147dbb76eb28da81dc01e",
       "version_major": 2,
       "version_minor": 0
      },
      "text/html": [
       "<p>Failed to display Jupyter Widget of type <code>HBox</code>.</p>\n",
       "<p>\n",
       "  If you're reading this message in Jupyter Notebook or JupyterLab, it may mean\n",
       "  that the widgets JavaScript is still loading. If this message persists, it\n",
       "  likely means that the widgets JavaScript library is either not installed or\n",
       "  not enabled. See the <a href=\"https://ipywidgets.readthedocs.io/en/stable/user_install.html\">Jupyter\n",
       "  Widgets Documentation</a> for setup instructions.\n",
       "</p>\n",
       "<p>\n",
       "  If you're reading this message in another notebook frontend (for example, a static\n",
       "  rendering on GitHub or <a href=\"https://nbviewer.jupyter.org/\">NBViewer</a>),\n",
       "  it may mean that your frontend doesn't currently support widgets.\n",
       "</p>\n"
      ],
      "text/plain": [
       "HBox(children=(IntProgress(value=0, max=5000), HTML(value='')))"
      ]
     },
     "metadata": {},
     "output_type": "display_data"
    },
    {
     "name": "stdout",
     "output_type": "stream",
     "text": [
      "\r",
      "          \r",
      "0/|/Draw parameters (round 1) :   0%|| 0/5000 [00:00<?, ?it/s]\n"
     ]
    },
    {
     "data": {
      "application/vnd.jupyter.widget-view+json": {
       "model_id": "bb1f12e6a97c4f00a1ee6268b555ba06",
       "version_major": 2,
       "version_minor": 0
      },
      "text/html": [
       "<p>Failed to display Jupyter Widget of type <code>HBox</code>.</p>\n",
       "<p>\n",
       "  If you're reading this message in Jupyter Notebook or JupyterLab, it may mean\n",
       "  that the widgets JavaScript is still loading. If this message persists, it\n",
       "  likely means that the widgets JavaScript library is either not installed or\n",
       "  not enabled. See the <a href=\"https://ipywidgets.readthedocs.io/en/stable/user_install.html\">Jupyter\n",
       "  Widgets Documentation</a> for setup instructions.\n",
       "</p>\n",
       "<p>\n",
       "  If you're reading this message in another notebook frontend (for example, a static\n",
       "  rendering on GitHub or <a href=\"https://nbviewer.jupyter.org/\">NBViewer</a>),\n",
       "  it may mean that your frontend doesn't currently support widgets.\n",
       "</p>\n"
      ],
      "text/plain": [
       "HBox(children=(IntProgress(value=0, max=5000), HTML(value='')))"
      ]
     },
     "metadata": {},
     "output_type": "display_data"
    },
    {
     "name": "stdout",
     "output_type": "stream",
     "text": [
      "\r",
      "          \r",
      "0/|/Run simulations (round 1) :   0%|| 0/5000 [00:00<?, ?it/s]"
     ]
    }
   ],
   "source": [
    "seed = 1\n",
    "svi = False\n",
    "impute_missing = False\n",
    "pilot_samples = 1000\n",
    "n_sims = 5000\n",
    "n_rounds = 2\n",
    "n_components = 2\n",
    "n_hiddens = [100]*2\n",
    "res = infer.SNPE(g, obs=obs_stats, pilot_samples=pilot_samples, n_hiddens=n_hiddens, seed=seed, prior_norm=True,\n",
    "                 n_components=n_components, svi=svi, impute_missing=impute_missing)\n",
    "\n",
    "# run with N samples\n",
    "log, train_data, posterior = res.run(n_sims, n_rounds=n_rounds, epochs=1000)"
   ]
  },
  {
   "cell_type": "code",
   "execution_count": 5,
   "metadata": {},
   "outputs": [
    {
     "data": {
      "image/png": "[encoded data removed]",
      "text/plain": [
       "<matplotlib.figure.Figure at 0x114975dd8>"
      ]
     },
     "metadata": {},
     "output_type": "display_data"
    }
   ],
   "source": [
    "prior_min = res.generator.prior.lower\n",
    "prior_max = res.generator.prior.upper\n",
    "# prior_min = res.generator.prior.mean-res.generator.prior.std\n",
    "# prior_max = res.generator.prior.mean+res.generator.prior.std\n",
    "\n",
    "\n",
    "prior_lims = np.concatenate((prior_min.reshape(-1,1),\n",
    "                                 prior_max.reshape(-1,1)),\n",
    "                                axis=1)\n",
    "\n",
    "for i in range(res.round):\n",
    "    fig = plt.figure(figsize=(15,15))\n",
    "    plot_pdf(posterior[i], lims=prior_lims, samples=None,figsize=(15,15),gt=param_transform(prior_log,true_params))\n",
    "    plt.show()\n",
    "    plt.close()"
   ]
  },
  {
   "cell_type": "code",
   "execution_count": null,
   "metadata": {
    "collapsed": true
   },
   "outputs": [],
   "source": []
  }
 ],
 "metadata": {
  "kernelspec": {
   "display_name": "Python 3",
   "language": "python",
   "name": "python3"
  },
  "language_info": {
   "codemirror_mode": {
    "name": "ipython",
    "version": 3
   },
   "file_extension": ".py",
   "mimetype": "text/x-python",
   "name": "python",
   "nbconvert_exporter": "python",
   "pygments_lexer": "ipython3",
   "version": "3.5.2"
  }
 },
 "nbformat": 4,
 "nbformat_minor": 2
}
