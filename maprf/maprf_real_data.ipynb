{
 "cells": [
  {
   "cell_type": "code",
   "execution_count": null,
   "metadata": {
    "collapsed": true
   },
   "outputs": [],
   "source": [
    "#%%capture\n",
    "%matplotlib inline\n",
    "\n",
    "import matplotlib.pyplot as plt\n",
    "import numpy as np\n",
    "\n",
    "#import pygpu\n",
    "#import theano.gpuarray\n",
    "#theano.gpuarray.use('cuda0')\n",
    "\n",
    "import delfi.distribution as dd\n",
    "import delfi.generator as dg\n",
    "import delfi.inference as infer\n",
    "import delfi.utils.io as io\n",
    "from delfi.utils.viz import plot_pdf\n",
    "\n",
    "from lfimodels.maprf.utils import get_maprf_prior_01, setup_sim, setup_sampler, \\\n",
    "get_data_o, quick_plot, contour_draws\n",
    "from lfimodels.maprf.maprf import maprf as model\n",
    "from lfimodels.maprf.maprfStats import maprfStats\n",
    "\n",
    "seed = 42"
   ]
  },
  {
   "cell_type": "code",
   "execution_count": null,
   "metadata": {
    "collapsed": false
   },
   "outputs": [],
   "source": [
    "from scipy import io\n",
    "file_name = 'data/ActualMoviecat-noise_0.12_1.25_0.50_300_10_120px_4Hz_mag14.mat'\n",
    "\n",
    "out = io.loadmat(file_name, mdict=None, appendmat=True)\n",
    "mv = out['moviedata']"
   ]
  },
  {
   "cell_type": "code",
   "execution_count": null,
   "metadata": {
    "collapsed": false
   },
   "outputs": [],
   "source": [
    "path='.'\n",
    "sim_info = np.load(path +'/results/sim_info.npy')[()]\n",
    "\n",
    "d = 41\n",
    "m = model(filter_shape=([d,d,2]),\n",
    "    duration=300, \n",
    "    dt=1./30., \n",
    "    params_ls=sim_info['params_ls'],\n",
    "    seed = seed, \n",
    "    parametrization=sim_info['parametrization'])"
   ]
  },
  {
   "cell_type": "code",
   "execution_count": null,
   "metadata": {
    "collapsed": false
   },
   "outputs": [],
   "source": [
    "\n",
    "m.I = 1. * mv[:, 39:-40, :][13:-14,:,:].transpose(2,0,1).reshape(mv.shape[2],-1)\n",
    "m.I = (m.I - np.mean(m.I)) / np.std(m.I)\n",
    "m.n_params = 9\n",
    "\n",
    "i = 200\n",
    "\n",
    "plt.subplot(2,1,1)\n",
    "plt.imshow(mv[:, :,i], interpolation='None')\n",
    "\n",
    "plt.subplot(2,2,3)\n",
    "plt.imshow(m.I[i, :].reshape(d,d), interpolation='None')\n",
    "\n",
    "plt.subplot(2,2,4)\n",
    "plt.imshow(mv[:, 26:-26,i], interpolation='None')\n",
    "plt.show()\n"
   ]
  },
  {
   "cell_type": "code",
   "execution_count": null,
   "metadata": {
    "collapsed": false
   },
   "outputs": [],
   "source": [
    "p, prior = get_maprf_prior_01(sim_info['params_ls'], seed)\n",
    "s = maprfStats(n_summary=d*d+1) # summary stats (d x d RF + spike_count)\n",
    "\n",
    "def rej(x):\n",
    "    # rejects summary statistic if number of spikes == 0\n",
    "    return x[:,-1] > 0\n",
    "\n",
    "# generator object that auto-rejects some data-pairs (theta_i, x_i) right at sampling\n",
    "g = dg.RejKernel(model=m, prior=p, summary=s, rej=rej, seed=seed)\n",
    "\n",
    "\n",
    "params_dict_true = np.load('./results/toy_cells/toy_cell_' + str(6) + '.npy')[()]\n",
    "params_dict_true['glm']['binsize'] = g.model.dt\n",
    "g.model.rng = np.random.RandomState(seed=seed)\n",
    "g.model.params_dict = params_dict_true.copy()\n"
   ]
  },
  {
   "cell_type": "code",
   "execution_count": null,
   "metadata": {
    "collapsed": false
   },
   "outputs": [],
   "source": [
    "idx_cell = 5\n",
    "cell_id = str(idx_cell)\n",
    "sess_id = 'b'\n",
    "\n",
    "stimTime = io.loadmat('data/cell0'+cell_id+'/StimTime/R150902ct01_cell'+cell_id+sess_id+'_FramebasedSpknum.mat')['framebasedSpk'][:,0]\n",
    "spkTime = io.loadmat('data/cell0'+cell_id+'/SpkTime/R150902ct01_cell'+cell_id+sess_id+'_SpikeTiming.mat')['resid_feature']\n",
    "\n",
    "print([stimTime[0], stimTime[-1]])\n",
    "\n",
    "\n",
    "plt.plot(spkTime / 1000)\n",
    "plt.plot([0, spkTime.size], stimTime[0]*np.ones(2), 'r')\n",
    "plt.plot([0, spkTime.size], stimTime[-1]*np.ones(2), 'm')\n",
    "plt.legend(['spike times', 'stim onset', 'stim offset'])\n",
    "plt.xlabel('# spike')\n",
    "plt.ylabel('spike time / 1000 (in seconds?)')\n",
    "plt.savefig('R150902ct01_cell3b_spikes_check.pdf')\n",
    "plt.show()\n",
    "\n",
    "spks = np.histogram(spkTime/1000, stimTime)[0]\n",
    "spks = np.hstack([np.zeros(1), spks]).astype(np.int)\n",
    "plt.plot(stimTime, spks)\n",
    "plt.show()\n",
    "\n",
    "obs = { 'data' : spks,\n",
    "      'I' : g.model.I}\n",
    "obs_stats = g.summary.calc([obs])\n",
    "\n",
    "plt.subplot(2,1,1)\n",
    "plt.imshow(mv.dot(spks), interpolation='None', cmap='gray')\n",
    "plt.subplot(2,2,3)\n",
    "plt.imshow(g.model.I.reshape(-1,d,d).transpose(1,2,0).dot(spks), interpolation='None', cmap='gray')\n",
    "plt.subplot(2,2,4)\n",
    "plt.imshow(obs_stats[0,:-1].reshape(d,d), interpolation='None', cmap='gray')\n",
    "plt.show()\n",
    "\n",
    "plt.imshow(obs_stats[0,:-1].reshape(d,d), interpolation='None', cmap='gray')\n",
    "plt.savefig('R150902ct01_cell'+cell_id+sess_id+'_STA.pdf')\n",
    "plt.show()"
   ]
  },
  {
   "cell_type": "code",
   "execution_count": null,
   "metadata": {
    "collapsed": false
   },
   "outputs": [],
   "source": [
    "print( 'firing rate', obs_stats[0,-1] /(g.model.I.shape[0]*g.model.params_dict['glm']['binsize']) )\n"
   ]
  },
  {
   "cell_type": "code",
   "execution_count": null,
   "metadata": {
    "collapsed": false
   },
   "outputs": [],
   "source": [
    "path='.'\n",
    "sim_info = np.load(path +'/results/sim_info.npy')[()]\n",
    "d = 41\n",
    "\n",
    "params_dict_init = { 'kernel' :  {'s' : {'ratio' : 1.4,\n",
    "                                         'width' : 1.5,\n",
    "                                         'gain'  : 0.5,\n",
    "                                         'phase' : np.pi/2 - 0.0001,\n",
    "                                         'freq'  : 1.5,\n",
    "                                         'angle' : 0.9 * np.pi/2},\n",
    "                                  't' : {'value' : np.array([1., 0.])}, \n",
    "                                  'l' : {'xo' : 0.5, 'yo' : 0.1 }}, \n",
    "                     'glm' :     {'bias' : 1.5, \n",
    "                                  'binsize' : 1./30}}\n",
    "\n",
    "# model\n",
    "\n",
    "m = model(filter_shape=([d,d,2]),\n",
    "    duration=300, \n",
    "    dt=1./30., \n",
    "    params_ls=sim_info['params_ls'],\n",
    "    seed = seed, \n",
    "    parametrization=sim_info['parametrization'])\n",
    "\n",
    "m.I = 1. * mv[:, 39:-40, :][13:-14,:,:].transpose(2,0,1).reshape(mv.shape[2],-1)\n",
    "m.I = (m.I - np.mean(m.I)) / np.std(m.I)\n",
    "m.n_params = 9\n",
    "\n",
    "m.params_dict = params_dict_init.copy()\n",
    "#m.rng = np.random.RandomState(seed=seed)\n",
    "\n",
    "# generator\n",
    "\n",
    "p, prior = get_maprf_prior_01(sim_info['params_ls'], seed)\n",
    "s = maprfStats(n_summary=d*d+1) # summary stats (d x d RF + spike_count)\n",
    "def rej(x):\n",
    "    # rejects summary statistic if number of spikes == 0\n",
    "    return x[:,-1] > 0\n",
    "g = dg.RejKernel(model=m, prior=p, summary=s, rej=rej, seed=seed)\n",
    "\n",
    "# observations\n",
    "\n",
    "obs_0 = g.model.gen_single()\n",
    "obs_init = g.summary.calc([obs_0])\n",
    "\n",
    "idx_cell, sess_id = 5, 'b'\n",
    "cell_id = str(idx_cell)\n",
    "stimTime = io.loadmat('data/cell0'+cell_id+'/StimTime/R150902ct01_cell'+cell_id+sess_id+'_FramebasedSpknum.mat')['framebasedSpk'][:,0]\n",
    "spkTime = io.loadmat('data/cell0'+cell_id+'/SpkTime/R150902ct01_cell'+cell_id+sess_id+'_SpikeTiming.mat')['resid_feature']\n",
    "spks = np.hstack([np.zeros(1), np.histogram(spkTime/1000, stimTime)[0]]).astype(np.int)\n",
    "\n",
    "obs = { 'data' : spks, 'I' : g.model.I}\n",
    "obs_stats = g.summary.calc([obs])\n",
    "pars_true = g.model.read_params_buffer().copy()\n",
    "rf  = g.model.params_to_rf(pars_true)[0]\n",
    "\n",
    "sta = obs_stats[0,:-1].reshape(d,d)\n",
    "\n",
    "plt.figure(figsize=(12, 4))\n",
    "plt.imshow( np.hstack( (obs_init[0,:-1].reshape(d,d), rf, sta) ), interpolation='None')\n",
    "plt.show()\n",
    "\n",
    "print('#spikes : ', (obs_0['data'].sum(), obs_init[0,-1]))"
   ]
  },
  {
   "cell_type": "code",
   "execution_count": null,
   "metadata": {
    "collapsed": false
   },
   "outputs": [],
   "source": [
    "\n",
    "n_samples = 500000\n",
    "\n",
    "inference, data = setup_sampler(prior, obs, d, g, params_dict=params_dict_init, \n",
    "                          fix_position=False, parametrization='logit_φ')\n",
    "\n",
    "inference.samplers[0].mu['logit_xo'] = prior['logit_xo']['mu'][0]\n",
    "inference.samplers[0].mu['logit_yo'] = prior['logit_yo']['mu'][0]\n",
    "\n",
    "inference.samplers[0].sd['logit_xo'] = prior['logit_xo']['sigma'][0]\n",
    "inference.samplers[0].sd['logit_yo'] = prior['logit_yo']['sigma'][0]\n",
    "\n",
    "T, L = inference.sample(n_samples)\n",
    "T = {k.name: t for k, t in T.items()}"
   ]
  },
  {
   "cell_type": "code",
   "execution_count": null,
   "metadata": {
    "collapsed": false
   },
   "outputs": [],
   "source": [
    "def scaled_expit_i(v):\n",
    "    return 2. / (1. + np.exp(-v)) - 1\n",
    "\n",
    "T['xo'], T['yo'] = scaled_expit_i(T['logit_xo']), scaled_expit_i(T['logit_yo'])\n",
    "\n",
    "x,y = T['xo'], T['yo']\n",
    "\n",
    "plt.figure(figsize=(15, 8))\n",
    "plt.subplot(221)\n",
    "plt.plot(x[0:])\n",
    "plt.plot(y[0:])\n",
    "\n",
    "plt.subplot(222)\n",
    "plt.hist(x[0:], alpha=0.5, normed=True)\n",
    "\n",
    "plt.subplot(224)\n",
    "plt.hist(y[0:], alpha=0.5, normed=True)\n",
    "\n",
    "plt.subplot(223)\n",
    "plt.plot(x[0:], y[0:], '.k', alpha=0.1)\n",
    "plt.show()"
   ]
  },
  {
   "cell_type": "code",
   "execution_count": null,
   "metadata": {
    "collapsed": false
   },
   "outputs": [],
   "source": [
    "inference.sample_biases(data, T, m.dt)\n",
    "\n",
    "plt.figure(figsize=(12,5))\n",
    "plt.subplot(2,1,1)\n",
    "plt.plot(T['bias'])\n",
    "print('mean: ' + str(T['bias'].mean()) + ', var: ' + str(T['bias'].var()))\n",
    "plt.subplot(2,1,2)\n",
    "plt.plot(T['λo'])\n",
    "print('mean: ' + str(T['λo'].mean()) + ', var: ' + str(T['λo'].var()))\n",
    "plt.show()"
   ]
  },
  {
   "cell_type": "code",
   "execution_count": null,
   "metadata": {
    "collapsed": false
   },
   "outputs": [],
   "source": [
    "sta = obs_stats[0,:-1].reshape(d,d)\n",
    "sta = (sta - sta.sum()) / np.sqrt( np.sum(sta**2))\n",
    "\n",
    "plt.figure(figsize=(16,12))\n",
    "i = 1\n",
    "for t in np.sort(np.random.choice(T['gain'].shape[0], 12, replace=False)):\n",
    "    params_dict = {'kernel' : {'s' : {}, 'l' : {}}, 'glm': {}}\n",
    "    params_dict['glm']['bias'] = T['bias'][t]\n",
    "    params_dict['kernel']['s']['phase'] = T['phase'][t]\n",
    "    params_dict['kernel']['s']['angle'] = T['angle'][t] \n",
    "    params_dict['kernel']['s']['freq']  = T['freq'][t]\n",
    "    params_dict['kernel']['s']['ratio'] = T['ratio'][t]\n",
    "    params_dict['kernel']['s']['width'] = T['width'][t]\n",
    "    params_dict['kernel']['s']['gain'] = T['gain'][t]\n",
    "    params_dict['kernel']['l']['xo'] = T['xo'][t]\n",
    "    params_dict['kernel']['l']['yo'] = T['yo'][t]\n",
    "\n",
    "    axis_x = m.axis_x - params_dict['kernel']['l']['xo']\n",
    "    axis_y = m.axis_y - params_dict['kernel']['l']['yo']    \n",
    "    m._gen.grid_x, m._gen.grid_y = np.meshgrid(axis_x, axis_y)    \n",
    "    \n",
    "    ks = m._eval_ks(bias=params_dict['glm']['bias'], \n",
    "                    angle=params_dict['kernel']['s']['angle'],\n",
    "                    freq=params_dict['kernel']['s']['freq'],\n",
    "                    gain=params_dict['kernel']['s']['gain'],\n",
    "                    phase=params_dict['kernel']['s']['phase'],\n",
    "                    ratio=params_dict['kernel']['s']['ratio'],\n",
    "                    width=params_dict['kernel']['s']['width'])\n",
    "    \n",
    "    plt.subplot(3,4,i)\n",
    "    plt.imshow(np.hstack((ks.reshape(d,d), sta* params_dict['kernel']['s']['gain'] )), #m.params_to_rf(pars_true)[0])), \n",
    "               interpolation='None')\n",
    "    plt.title('t =' + str(t))\n",
    "    \n",
    "    print('loc:' , [T['xo'][t], T['yo'][t]])    \n",
    "    i += 1\n",
    "    \n",
    "plt.show()\n"
   ]
  },
  {
   "cell_type": "code",
   "execution_count": null,
   "metadata": {
    "collapsed": false
   },
   "outputs": [],
   "source": [
    "\n",
    "burnin = 50\n",
    "\n",
    "for key in ['bias', 'λo', \n",
    "            'gain', 'log_A', 'phase', 'logit_φ',\n",
    "            'angle', 'logit_θ', 'freq', 'log_f',\n",
    "            'ratio', 'width', 'log_γ', 'log_b', \n",
    "            'xo', 'yo', 'logit_xo', 'logit_yo'\n",
    "            ]:\n",
    "    \n",
    "    if key in T.keys():\n",
    "        x = T[key][burnin:]\n",
    "        plt.hist(x, bins=np.linspace(x.min(), x.max(), 20), alpha=0.5, normed=True)\n",
    "        plt.title(key)\n",
    "        plt.show()\n",
    "        print('mean:', x.mean())\n",
    "        print('var:', x.var())\n",
    "        "
   ]
  },
  {
   "cell_type": "code",
   "execution_count": null,
   "metadata": {
    "collapsed": false
   },
   "outputs": [],
   "source": [
    "samples = np.hstack([np.atleast_2d(T[key].T).T for key in ['bias', 'gain', 'phase', 'freq','angle','ratio','width', 'xo', 'yo']])\n",
    "\n",
    "pars_raw = np.array([ params_dict_true['glm']['bias'],\n",
    "                      params_dict_true['kernel']['s']['gain'],\n",
    "                      params_dict_true['kernel']['s']['phase'],\n",
    "                      params_dict_true['kernel']['s']['freq'],\n",
    "                      params_dict_true['kernel']['s']['angle'],\n",
    "                      params_dict_true['kernel']['s']['ratio'],\n",
    "                      params_dict_true['kernel']['s']['width'],\n",
    "                      params_dict_true['kernel']['l']['xo'],\n",
    "                      params_dict_true['kernel']['l']['yo'] ])\n",
    "\n",
    "plot_pdf(g.prior, lims=[-3,3], gt=pars_raw.reshape(-1), figsize=(16,16), resolution=100, samples=samples.T,\n",
    "         ticks=True, labels_params=['bias', 'gain', 'phase', 'freq', 'angle', 'ratio', 'width', 'xo', 'yo']);\n"
   ]
  },
  {
   "cell_type": "code",
   "execution_count": null,
   "metadata": {
    "collapsed": false
   },
   "outputs": [],
   "source": [
    "rf  = g.model.params_to_rf(pars_raw)[0]\n",
    "\n",
    "plt.figure(figsize=(12, 4))\n",
    "plt.imshow( np.hstack( (obs_init[0,:-1].reshape(d,d), rf, obs_stats[0,:-1].reshape(d,d)) ), interpolation='None')\n",
    "plt.show()\n"
   ]
  },
  {
   "cell_type": "code",
   "execution_count": null,
   "metadata": {
    "collapsed": false
   },
   "outputs": [],
   "source": [
    "'R150902ct01_cell'+cell_id+sess_id"
   ]
  },
  {
   "cell_type": "code",
   "execution_count": null,
   "metadata": {
    "collapsed": true
   },
   "outputs": [],
   "source": [
    "\n",
    "fldr  = 'R150902ct01_cell'+cell_id+sess_id\n",
    "savefile = './results/MCMC/' + fldr + '/maprf_MCMC_prior01_run_1_'+ str(n_samples)+'samples_param9_5min'\n"
   ]
  },
  {
   "cell_type": "code",
   "execution_count": null,
   "metadata": {
    "collapsed": false
   },
   "outputs": [],
   "source": [
    "np.savez(savefile, {'T' : T, 'params_dict_init' : params_dict_init})\n"
   ]
  },
  {
   "cell_type": "code",
   "execution_count": null,
   "metadata": {
    "collapsed": true
   },
   "outputs": [],
   "source": []
  }
 ],
 "metadata": {
  "kernelspec": {
   "display_name": "Python 3",
   "language": "python",
   "name": "python3"
  },
  "language_info": {
   "codemirror_mode": {
    "name": "ipython",
    "version": 3
   },
   "file_extension": ".py",
   "mimetype": "text/x-python",
   "name": "python",
   "nbconvert_exporter": "python",
   "pygments_lexer": "ipython3",
   "version": "3.5.1"
  }
 },
 "nbformat": 4,
 "nbformat_minor": 0
}
