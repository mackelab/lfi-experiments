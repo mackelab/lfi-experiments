{
 "cells": [
  {
   "cell_type": "markdown",
   "metadata": {
    "collapsed": true
   },
   "source": [
    "# SNPE & RF\n",
    "\n",
    "learning receptive field parameters from inputs (white-noise videos) and outputs (spike trains) of linear-nonlinear neuron models with parameterized linear filters"
   ]
  },
  {
   "cell_type": "code",
   "execution_count": null,
   "metadata": {
    "collapsed": false
   },
   "outputs": [],
   "source": [
    "%%capture\n",
    "%matplotlib inline\n",
    "\n",
    "import matplotlib.pyplot as plt\n",
    "import numpy as np\n",
    "\n",
    "import delfi.distribution as dd\n",
    "import delfi.generator as dg\n",
    "import delfi.inference as infer\n",
    "import delfi.utils.io as io\n",
    "from delfi.utils.viz import plot_pdf\n",
    "\n",
    "from lfimodels.maprf.maprf import maprf as model\n",
    "from lfimodels.maprf.maprfStats import maprfStats\n",
    "from lfimodels.maprf.utils import get_maprf_prior_01, get_data_o, quick_plot, contour_draws\n"
   ]
  },
  {
   "cell_type": "markdown",
   "metadata": {},
   "source": [
    "# set up simulator"
   ]
  },
  {
   "cell_type": "code",
   "execution_count": null,
   "metadata": {
    "collapsed": false,
    "scrolled": false
   },
   "outputs": [],
   "source": [
    "seed = 42\n",
    "\n",
    "sim_info = np.load('../results/sim_info.npy')[()]\n",
    "\n",
    "d, params_ls = sim_info['d'], sim_info['params_ls']\n",
    "m = model(filter_shape= np.array((d,d,2)), \n",
    "          parametrization=sim_info['parametrization'],\n",
    "          params_ls=params_ls,\n",
    "          seed=seed, \n",
    "          dt=sim_info['dt'], \n",
    "          duration=sim_info['duration'] )\n",
    "\n",
    "p = get_maprf_prior_01(params_ls, seed)\n",
    "\n",
    "s = maprfStats(n_summary=d*d+1) # summary stats (d x d RF + spike_count)\n",
    " \n",
    "def rej(x):\n",
    "    # rejects summary statistic if number of spikes == 0\n",
    "    return x[:,-1] > 0\n",
    "\n",
    "# generator object that auto-rejects some data-pairs (theta_i, x_i) right at sampling\n",
    "g = dg.RejKernel(model=m, prior=p, summary=s, rej=rej, seed=seed)\n"
   ]
  },
  {
   "cell_type": "markdown",
   "metadata": {},
   "source": [
    "# load cell, generate xo"
   ]
  },
  {
   "cell_type": "code",
   "execution_count": null,
   "metadata": {
    "collapsed": false
   },
   "outputs": [],
   "source": [
    "## training data and true parameters, data, statistics\n",
    "\n",
    "idx_cell = 1 # load toy cell number i \n",
    "\n",
    "filename = '../results/toy_cells/toy_cell_' + str(idx_cell+1) + '.npy'\n",
    "obs_stats, pars_true = get_data_o(filename, g, seed)\n"
   ]
  },
  {
   "cell_type": "markdown",
   "metadata": {},
   "source": [
    "# load pretrained network"
   ]
  },
  {
   "cell_type": "code",
   "execution_count": null,
   "metadata": {
    "collapsed": false
   },
   "outputs": [],
   "source": [
    "filename = '../results/SNPE/maprf_100k_amortized_prior01_run_1_round1_param7_nosvi_base_res.pkl'\n",
    "\n",
    "inf = io.load(filename)\n",
    "inf.generator.model = m\n",
    "\n",
    "posterior = inf.predict(obs_stats, threshold=0.01)"
   ]
  },
  {
   "cell_type": "markdown",
   "metadata": {},
   "source": [
    "# check pretrained network evaluated on xo"
   ]
  },
  {
   "cell_type": "code",
   "execution_count": null,
   "metadata": {
    "collapsed": false
   },
   "outputs": [],
   "source": [
    "quick_plot(g, obs_stats, d, pars_true, posterior)"
   ]
  },
  {
   "cell_type": "markdown",
   "metadata": {},
   "source": [
    "# continue training network ('refine' the fit)"
   ]
  },
  {
   "cell_type": "code",
   "execution_count": null,
   "metadata": {
    "collapsed": false
   },
   "outputs": [],
   "source": [
    "# N = 10k per round\n",
    "n_train=10000\n",
    "\n",
    "# two components\n",
    "n_components=2\n",
    "\n",
    "# two rounds (rough idea: 1st to refine the proposal locally, 2nd to figure if posterior is non-Gaussian)\n",
    "n_rounds=2\n",
    "\n",
    "# number of features passing directly to the hidden layers (number of spikes)\n",
    "n_inputs_hidden = 1\n",
    "\n",
    "# some learning-schedule parameters\n",
    "lr_decay = 1.0\n",
    "epochs=100\n",
    "minibatch=50\n",
    "\n",
    "log, trn_data, posteriors = inf.run(n_train=n_train, epochs=epochs, minibatch=minibatch, \n",
    "                                    n_rounds=n_rounds, lr_decay=lr_decay)\n",
    "\n",
    "posterior = posteriors[-1] \n",
    "posterior.ndim = posterior.xs[0].ndim"
   ]
  },
  {
   "cell_type": "markdown",
   "metadata": {},
   "source": [
    "# check retrained network"
   ]
  },
  {
   "cell_type": "code",
   "execution_count": null,
   "metadata": {
    "collapsed": false
   },
   "outputs": [],
   "source": [
    "\n",
    "quick_plot(g, obs_stats, d, pars_true, posterior, log)\n",
    "\n",
    "\n",
    "# all pairwise marginals of fitted posterior\n",
    "fig, _ = plot_pdf(posterior, pdf2=p, lims=[-3,3], gt=pars_true.reshape(-1), figsize=(16,16), resolution=100,\n",
    "                  labels_params=['bias', 'log gain', 'logit phase', 'log freq', 'logit angle', 'log ratio', 'log width'])\n",
    "fig.savefig('res.pdf')\n",
    "\n",
    "\n",
    "# bunch of example posterior draw contours\n",
    "contour_draws(g, obs_stats, d)\n"
   ]
  },
  {
   "cell_type": "markdown",
   "metadata": {},
   "source": [
    "# test other cells (check for 'amortization')\n",
    "\n",
    "- if retraining did much, 'amortization' should be lost for all but the current evaluation cell\n"
   ]
  },
  {
   "cell_type": "code",
   "execution_count": null,
   "metadata": {
    "collapsed": false
   },
   "outputs": [],
   "source": [
    "# 5 Hz, SNR 10**(-15 / 10)\n",
    "a,b = 0.357703095858336, 1.54546216004078 # gain and phase together define firing rate and SNR\n",
    "\n",
    "\n",
    "for j in range(3):\n",
    "    \n",
    "    print('\\n')\n",
    "    print('cell #' + str(j+1))\n",
    "    print('\\n')\n",
    "    \n",
    "    if j == idx_cell :\n",
    "        print(' current cell ! should be good ! ')\n",
    "        print('\\n')\n",
    "              \n",
    "    params_dict_test = np.load('./results/toy_cells/toy_cell_' + str(j+1) + '.npy')[()]\n",
    "    \n",
    "    m.params_dict = params_dict_test.copy()\n",
    "    \n",
    "    params_dict_test['kernel']['gain'] = a\n",
    "    params_dict_test['glm']['bias'] = b\n",
    "    \n",
    "    pars_test = m.read_params_buffer()\n",
    "    stats = s.calc([m.gen_single(pars_test)])\n",
    "\n",
    "    post_test = inf.predict_uncorrected(s.calc([m.gen_single(pars_test)]))\n",
    "\n",
    "    fig, _ = plot_pdf(post_test, pdf2=p, lims=[-3,3], gt=pars_test.reshape(-1), figsize=(12,12), resolution=100,\n",
    "                  labels_params=['bias', 'log gain', 'logit phase', 'log freq', 'logit angle', 'log ratio', 'log width'])\n",
    "\n",
    "\n",
    "    plt.figure(figsize=(6,6))\n",
    "    plt.subplot(2,3,1)\n",
    "    plt.imshow(m.params_to_rf(pars_test)[0], interpolation='None')\n",
    "    plt.subplot(2,3,2)\n",
    "    plt.imshow(m.params_to_rf(post_test.xs[0].m.reshape(-1))[0], interpolation='None')\n",
    "    plt.subplot(2,3,3)\n",
    "    plt.imshow(stats[0,:-1].reshape(d,d), interpolation='None')\n",
    "    \n",
    "    for i in range(8):\n",
    "        plt.subplot(4,4,9+i)\n",
    "        plt.imshow(m.params_to_rf(post_test.gen().reshape(-1))[0], interpolation='None')\n",
    "\n",
    "\n",
    "    plt.show()\n"
   ]
  },
  {
   "cell_type": "markdown",
   "metadata": {},
   "source": [
    "# save & load"
   ]
  },
  {
   "cell_type": "code",
   "execution_count": null,
   "metadata": {
    "collapsed": true
   },
   "outputs": [],
   "source": [
    "# tbd"
   ]
  },
  {
   "cell_type": "code",
   "execution_count": null,
   "metadata": {
    "collapsed": false
   },
   "outputs": [],
   "source": [
    "import delfi.utils.io as io\n",
    "\n",
    "try: \n",
    "    inf.observables\n",
    "except:\n",
    "    inf.observables = []\n",
    "\n",
    "#filename1 = './results/SNPE/maprf_100k_amortized_prior01_run_1_round1_param7_nosvi_base.pkl'\n",
    "#filename2 = './results/SNPE/maprf_100k_amortized_prior01_run_1_round1_param7_nosvi_base_res.pkl'\n",
    "#filename3 = './results/SNPE/maprf_100k_amortized_prior01_run_1_round1_param7_nosvi_base_conf.pkl'\n",
    "#filename4 = './results/SNPE/maprf_100k_amortized_prior01_run_1_round1_param7_nosvi_base_net_only.pkl'\n",
    "\n",
    "io.save_pkl((log, trn_data, posterior),filename1)\n",
    "np.save(filename3, params_dict_true)\n",
    "io.save_pkl(inf.network, filename4)\n",
    "inf.generator.model = None\n",
    "io.save(inf, filename2)\n"
   ]
  }
 ],
 "metadata": {
  "kernelspec": {
   "display_name": "Python 3",
   "language": "python",
   "name": "python3"
  },
  "language_info": {
   "codemirror_mode": {
    "name": "ipython",
    "version": 3
   },
   "file_extension": ".py",
   "mimetype": "text/x-python",
   "name": "python",
   "nbconvert_exporter": "python",
   "pygments_lexer": "ipython3",
   "version": "3.5.1"
  }
 },
 "nbformat": 4,
 "nbformat_minor": 1
}
