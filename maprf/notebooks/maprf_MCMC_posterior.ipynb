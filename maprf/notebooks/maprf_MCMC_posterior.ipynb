{
 "cells": [
  {
   "cell_type": "markdown",
   "metadata": {
    "collapsed": true
   },
   "source": [
    "# SNPE & RF\n",
    "\n",
    "learning receptive field parameters from inputs (white-noise videos) and outputs (spike trains) of linear-nonlinear neuron models with parameterized linear filters"
   ]
  },
  {
   "cell_type": "code",
   "execution_count": null,
   "metadata": {
    "collapsed": false
   },
   "outputs": [],
   "source": [
    "%%capture\n",
    "%matplotlib inline\n",
    "\n",
    "import matplotlib.pyplot as plt\n",
    "import numpy as np\n",
    "\n",
    "import delfi.distribution as dd\n",
    "import delfi.generator as dg\n",
    "import delfi.inference as infer\n",
    "import delfi.utils.io as io\n",
    "from delfi.utils.viz import plot_pdf\n",
    "\n",
    "from lfimodels.maprf.maprf import maprf as model\n",
    "from lfimodels.maprf.maprfStats import maprfStats\n",
    "from lfimodels.maprf.utils import get_maprf_prior_01\n"
   ]
  },
  {
   "cell_type": "markdown",
   "metadata": {},
   "source": [
    "# set up simulator"
   ]
  },
  {
   "cell_type": "code",
   "execution_count": null,
   "metadata": {
    "collapsed": false,
    "scrolled": false
   },
   "outputs": [],
   "source": [
    "seed = 42\n",
    "\n",
    "sim_info = np.load('../results/sim_info.npy')[()]\n",
    "\n",
    "d, params_ls = sim_info['d'], sim_info['params_ls']\n",
    "m = model(filter_shape= np.array((d,d,2)), \n",
    "          parametrization=sim_info['parametrization'],\n",
    "          params_ls=params_ls,\n",
    "          seed=seed, \n",
    "          dt=sim_info['dt'], \n",
    "          duration=sim_info['duration'] )\n",
    "\n",
    "p = get_maprf_prior_01(params_ls, seed)\n",
    "\n",
    "s = maprfStats(n_summary=d*d+1) # summary stats (d x d RF + spike_count)\n",
    " \n",
    "def rej(x):\n",
    "    # rejects summary statistic if number of spikes == 0\n",
    "    return x[:,-1] > 0\n",
    "\n",
    "# generator object that auto-rejects some data-pairs (theta_i, x_i) right at sampling\n",
    "g = dg.RejKernel(model=m, prior=p, summary=s, rej=rej, seed=seed)\n"
   ]
  },
  {
   "cell_type": "markdown",
   "metadata": {},
   "source": [
    "# load cell, generate xo"
   ]
  },
  {
   "cell_type": "code",
   "execution_count": null,
   "metadata": {
    "collapsed": true
   },
   "outputs": [],
   "source": [
    "## training data and true parameters, data, statistics\n",
    "\n",
    "idx_cell = 1 # load toy cell number i \n",
    "\n",
    "filename = '../results/toy_cells/toy_cell_' + str(idx_cell+1) + '.npy'\n",
    "obs_stats, pars_true = get_data_o(filename, g, seed)\n"
   ]
  },
  {
   "cell_type": "markdown",
   "metadata": {},
   "source": [
    "# compare with maprf sampling"
   ]
  },
  {
   "cell_type": "code",
   "execution_count": null,
   "metadata": {
    "collapsed": false,
    "scrolled": false
   },
   "outputs": [],
   "source": [
    "\n",
    "from maprf.utils import *\n",
    "import theano.tensor as tt\n",
    "from tqdm import tqdm\n",
    "from maprf.inference import *\n",
    "from maprf.rfs.v1 import SimpleLinear_full_kt\n",
    "from maprf.glm import Poisson\n",
    "\n",
    "fix_position=True # fixues RF position during sampling to (0,0)\n",
    "parametrization='logit_φ'\n",
    "\n",
    "# generative model\n",
    "rf = SimpleLinear_full_kt()\n",
    "emt = Poisson()\n",
    "\n",
    "# inputs and outputs\n",
    "data = [theano.shared(empty(3), 'frames'),\n",
    "        theano.shared(empty(1, dtype='int64'))]\n",
    "frames, spikes = data\n",
    "\n",
    "# fill the grids\n",
    "rf.grids['s'][0].set_value(m._gen.grid_x)\n",
    "rf.grids['s'][1].set_value(m._gen.grid_y)\n",
    "rf.grids['t'][0].set_value(m._gen.axis_t)\n",
    "\n",
    "# inference model\n",
    "inference = Inference(rf, emt, bias=params_dict_true['glm']['bias'])\n",
    "inference.priors = {\n",
    "    'glm': {         'bias':  {'name':  'gamma',\n",
    "                               'varname': 'λo',\n",
    "                               'alpha': 1.0, #prior['λo']['alpha'][0],\n",
    "                               'beta':  1.0}}, #prior['λo']['beta'][0]}},\n",
    "    'kernel': {'s': {'ratio':  {'name': 'normal',\n",
    "                                'varname': 'log_γ',\n",
    "                                'sigma': prior['log_γ']['sigma'][0],\n",
    "                                'mu':    prior['log_γ']['mu'][0]}, \n",
    "                     'width':  {'name': 'normal',\n",
    "                                'varname': 'log_b',\n",
    "                                'sigma': prior['log_b']['sigma'][0],\n",
    "                                'mu':    prior['log_b']['mu'][0]}}}}\n",
    "\n",
    "if 'log_A' in prior.keys() and 'logit_φ' in prior.keys():\n",
    "    inference.priors['kernel']['s']['gain'] =  {'name': 'lognormal',\n",
    "                                                  'varname': 'log_A',\n",
    "                                                  'mu': prior['log_A']['mu'][0],\n",
    "                                                  'sigma': prior['log_A']['sigma'][0]}            \n",
    "    inference.priors['kernel']['s']['phase'] =  {'name': 'logitnormal',\n",
    "                                                  'varname': 'logit_φ',\n",
    "                                                  'mu': prior['logit_φ']['mu'][0],\n",
    "                                                  'sigma': prior['logit_φ']['sigma'][0]}            \n",
    "else:\n",
    "    raise NotImplemented()\n",
    "    \n",
    "if 'log_f' in prior.keys() and 'logit_θ' in prior.keys():\n",
    "    inference.priors['kernel']['s']['freq'] =  {'name': 'lognormal',\n",
    "                                                  'varname': 'log_f',\n",
    "                                                  'mu': prior['log_f']['mu'][0],\n",
    "                                                  'sigma': prior['log_f']['sigma'][0]}            \n",
    "    inference.priors['kernel']['s']['angle'] =  {'name': 'logitnormal',\n",
    "                                                  'varname': 'logit_θ',\n",
    "                                                  'mu': prior['logit_θ']['mu'][0],\n",
    "                                                  'sigma': prior['logit_θ']['sigma'][0]}            \n",
    "else:\n",
    "    raise NotImplemented()\n",
    "\n",
    "    \n",
    "if 'kt' in prior.keys():\n",
    "    inference.priors['kernel']['t'] = prior['kt']\n",
    "\n",
    "    \n",
    "inference.add_sampler(GaborSampler(fix_position=fix_position, parametrization=parametrization))\n",
    "print(inference.samplers[0].params)\n",
    "\n",
    "# temporal kernel (here [1,0])\n",
    "kt = tt.vector('kt')\n",
    "inference.rf.filter.kernel['t'] = kt / tt.sqrt(tt.dot(kt, kt)) # ensure normalization (to firing rate)\n",
    "inference.add_inputs(kt)\n",
    "\n",
    "print('inputs: ', inference.inputs)\n",
    "print('priors: ', inference.priors)\n",
    "\n",
    "inference.build(data)\n",
    "inference.compile()\n",
    "\n",
    "\n",
    "# set MCMC chain initializer\n",
    "inference.loglik['xo'] = 0.\n",
    "inference.loglik['yo'] = 0.\n",
    "ks = params_dict_true['kernel']['s']\n",
    "inference.loglik['log_γ'] = np.log(ks['ratio'])  \n",
    "inference.loglik['log_b'] = np.log(ks['width']) \n",
    "inference.loglik['kt'] =    params_dict_true['kernel']['t']['value'].copy()  # np.array([0.5, 0.0])\n",
    "if 'log_A' in prior.keys() and 'logit_φ' in prior.keys():\n",
    "    inference.loglik['log_A']   = np.log(ks['gain'])\n",
    "    inference.loglik['logit_φ'] = np.log(ks['phase'] / (  np.pi - ks['angle']))        \n",
    "if 'log_f' in prior.keys() and 'logit_θ' in prior.keys():\n",
    "    inference.loglik['log_f'] = np.log(ks['freq'])\n",
    "    inference.loglik['logit_θ'] = np.log(ks['angle'] / (2*np.pi - ks['angle']))\n",
    "    \n",
    "# hand over data\n",
    "frames.set_value(obs['I'][:,:].reshape(-1,d,d))\n",
    "spikes.set_value(obs['data'][:])\n",
    "\n",
    "# use this instead for sampling from the prior: \n",
    "#frames.set_value(0*obs['I'][:1,:].reshape(-1,d,d))\n",
    "#spikes.set_value(0*obs['data'][:1])\n",
    "\n",
    "plt.plot(spikes.get_value())\n",
    "\n",
    "print(np.sum(obs['data']))"
   ]
  },
  {
   "cell_type": "markdown",
   "metadata": {},
   "source": [
    "# sample RF parameters (with Poisson bias marginalized out)"
   ]
  },
  {
   "cell_type": "code",
   "execution_count": null,
   "metadata": {
    "collapsed": false
   },
   "outputs": [],
   "source": [
    "\n",
    "T, L = inference.sample(10000)\n",
    "T = {k.name: t for k, t in T.items()}\n",
    "\n",
    "x = T['xo']\n",
    "y = T['yo']\n",
    "\n",
    "plt.figure(figsize=(15, 4))\n",
    "plt.subplot(121)\n",
    "plt.plot(x[500:])\n",
    "\n",
    "plt.subplot(122)\n",
    "plt.hist(x[500:], alpha=0.5, normed=True)\n",
    "plt.show()\n",
    "\n",
    "plt.figure(figsize=(15, 4))\n",
    "plt.subplot(121)\n",
    "plt.plot(x[500:], y[500:], '.k', alpha=0.1)\n",
    "plt.show()\n"
   ]
  },
  {
   "cell_type": "markdown",
   "metadata": {},
   "source": [
    "# sample Poisson bias (conditioned on the others)"
   ]
  },
  {
   "cell_type": "code",
   "execution_count": null,
   "metadata": {
    "collapsed": false
   },
   "outputs": [],
   "source": [
    "inference.sample_biases(data, T, m.dt)\n",
    "\n",
    "plt.figure(figsize=(12,5))\n",
    "plt.subplot(2,1,1)\n",
    "plt.plot(T['bias'])\n",
    "print('mean: ' + str(T['bias'].mean()) + ', var: ' + str(T['bias'].var()))\n",
    "plt.subplot(2,1,2)\n",
    "plt.plot(T['λo'])\n",
    "print('mean: ' + str(T['λo'].mean()) + ', var: ' + str(T['λo'].var()))\n",
    "plt.show()"
   ]
  },
  {
   "cell_type": "markdown",
   "metadata": {},
   "source": [
    "# (roughly) check for mixing of the chain"
   ]
  },
  {
   "cell_type": "code",
   "execution_count": null,
   "metadata": {
    "collapsed": false
   },
   "outputs": [],
   "source": [
    "plt.figure(figsize = (16,5) )\n",
    "plt.plot(samples)\n",
    "plt.show()"
   ]
  },
  {
   "cell_type": "markdown",
   "metadata": {},
   "source": [
    "# example posterior draws (in direct comparison with xo)"
   ]
  },
  {
   "cell_type": "code",
   "execution_count": null,
   "metadata": {
    "collapsed": false
   },
   "outputs": [],
   "source": [
    "\n",
    "for t in np.sort(np.random.choice(T['gain'].shape[0], 10, replace=False)):\n",
    "    params_dict = {'kernel' : {'s' : {}}, 'glm': {}}\n",
    "    params_dict['glm']['bias'] = T['bias'][t]\n",
    "    params_dict['kernel']['s']['phase'] = T['phase'][t]\n",
    "    params_dict['kernel']['s']['angle'] = T['angle'][t] \n",
    "    params_dict['kernel']['s']['freq']  = T['freq'][t]\n",
    "    params_dict['kernel']['s']['ratio'] = T['ratio'][t]\n",
    "    params_dict['kernel']['s']['width'] = T['width'][t]\n",
    "    params_dict['kernel']['s']['gain'] = T['gain'][t]\n",
    "\n",
    "    ks = m._eval_ks(bias=-0.5, \n",
    "                             angle=params_dict['kernel']['s']['angle'],\n",
    "                             freq=params_dict['kernel']['s']['freq'],\n",
    "                             gain=params_dict['kernel']['s']['gain'],\n",
    "                             phase=params_dict['kernel']['s']['phase'],\n",
    "                             ratio=params_dict['kernel']['s']['ratio'],\n",
    "                             width=params_dict['kernel']['s']['width'])\n",
    "\n",
    "    plt.imshow(np.hstack((ks.reshape(d,d), m.params_to_rf(pars_true)[0])), interpolation='None')\n",
    "    plt.title('t =' + str(t))\n",
    "    plt.show()\n",
    "\n",
    "    print('loc:' , [T['xo'][t], T['yo'][t]])"
   ]
  },
  {
   "cell_type": "markdown",
   "metadata": {},
   "source": [
    "# marginal histograms for each (transformed) parameter"
   ]
  },
  {
   "cell_type": "code",
   "execution_count": null,
   "metadata": {
    "collapsed": false
   },
   "outputs": [],
   "source": [
    "x=T['ratio'][50:]\n",
    "plt.hist(x, bins=np.linspace(x.min(), x.max(), 20), alpha=0.5, normed=True)\n",
    "plt.title('ratio')\n",
    "plt.show()\n",
    "print('mean:', T['ratio'].mean())\n",
    "print('var:', T['ratio'].var())\n",
    "\n",
    "x=T['log_γ'][50:]\n",
    "plt.hist(x, bins=np.linspace(x.min(), x.max(), 20), alpha=0.5, normed=True)\n",
    "plt.title('log ratio')\n",
    "plt.show()\n",
    "print('mean:', T['log_γ'].mean())\n",
    "print('var:', T['log_γ'].var())\n",
    "\n",
    "x=T['width'][50:]\n",
    "plt.hist(x, bins=np.linspace(x.min(), x.max(), 20), alpha=0.5, normed=True)\n",
    "plt.title('width')\n",
    "plt.show()\n",
    "print('mean:', T['width'].mean())\n",
    "print('var:', T['width'].var())\n",
    "\n",
    "x=T['log_b'][50:]\n",
    "plt.hist(x, bins=np.linspace(x.min(), x.max(), 20), alpha=0.5, normed=True)\n",
    "plt.title('log width')\n",
    "plt.show()\n",
    "print('mean:', T['log_b'].mean())\n",
    "print('var:', T['log_b'].var())\n",
    "\n",
    "\n",
    "x=T['angle'][50:]\n",
    "plt.hist(x, bins=np.linspace(x.min(), x.max(), 20), alpha=0.5, normed=True)\n",
    "plt.title('angle')\n",
    "plt.show()\n",
    "print('mean:', T['angle'].mean())\n",
    "print('var:', T['angle'].var())\n",
    "\n",
    "x=T['freq'][50:]\n",
    "plt.hist(x, bins=np.linspace(x.min(), x.max(), 20), alpha=0.5, normed=True)\n",
    "plt.title('freq')\n",
    "plt.show()\n",
    "print('mean:', T['freq'].mean())\n",
    "print('var:', T['freq'].var())\n",
    "\n",
    "if 'vec_f' in T.keys():\n",
    "    x=T['vec_f'][50:,0]\n",
    "    plt.hist(x, bins=np.linspace(x.min(), x.max(), 20), alpha=0.5, normed=True)\n",
    "    plt.title('vec_f[0]')\n",
    "    plt.show()\n",
    "    print('mean:', T['vec_f'][:,0].mean())\n",
    "    print('var:',  T['vec_f'][:,0].var())\n",
    "\n",
    "    x=T['vec_f'][50:,1]\n",
    "    plt.hist(x, bins=np.linspace(x.min(), x.max(), 20), alpha=0.5, normed=True)\n",
    "    plt.title('vec_f[1]')\n",
    "    plt.show()\n",
    "    print('mean:', T['vec_f'][:,1].mean())\n",
    "    print('var:',  T['vec_f'][:,1].var())\n",
    "\n",
    "x=T['gain'][500:]\n",
    "plt.hist(x, bins=np.linspace(x.min(), x.max(), 20), alpha=0.5, normed=True)\n",
    "plt.title('gain')\n",
    "plt.show()\n",
    "print('mean:', T['gain'].mean())\n",
    "print('var:', T['gain'].var())\n",
    "\n",
    "x=T['phase'][50:]\n",
    "plt.hist(x, bins=np.linspace(x.min(), x.max(), 20), alpha=0.5, normed=True)\n",
    "plt.title('phase')\n",
    "plt.show()\n",
    "print('mean:', T['phase'].mean())\n",
    "print('var:', T['phase'].var())\n",
    "\n",
    "if 'logit_φ' in T.keys():\n",
    "    x=T['logit_φ'][50:]\n",
    "    plt.hist(x, bins=np.linspace(x.min(), x.max(), 20), alpha=0.5, normed=True)\n",
    "    plt.title('logit phase')\n",
    "    plt.show()\n",
    "    print('mean:', T['logit_φ'].mean())\n",
    "    print('var:', T['logit_φ'].var())\n",
    "\n",
    "if 'log_A' in T.keys():\n",
    "    x=T['log_A'][50:]\n",
    "    plt.hist(x, bins=np.linspace(x.min(), x.max(), 50), alpha=0.5, normed=True)\n",
    "    plt.title('log_A')\n",
    "    plt.show()\n",
    "    print('mean:', T['log_A'][:].mean())\n",
    "    print('var:',  T['log_A'][:].var())\n",
    "    \n",
    "\n",
    "if 'vec_A' in T.keys():\n",
    "    x=T['vec_A'][50:,0]\n",
    "    plt.hist(x, bins=np.linspace(x.min(), x.max(), 20), alpha=0.5, normed=True)\n",
    "    plt.title('vec_A[0]')\n",
    "    plt.show()\n",
    "    print('mean:', T['vec_A'][:,0].mean())\n",
    "    print('var:',  T['vec_A'][:,0].var())    \n",
    "    x=T['vec_A'][50:,1]\n",
    "    plt.hist(x, bins=np.linspace(x.min(), x.max(), 20), alpha=0.5, normed=True)\n",
    "    plt.title('vec_A[1]')\n",
    "    plt.show()\n",
    "    print('mean:', T['vec_A'][:,1].mean())\n",
    "    print('var:',  T['vec_A'][:,1].var())\n",
    "    \n",
    "if 'bias' in T.keys():\n",
    "    x=T['bias'][50:]\n",
    "    plt.hist(x, bins=np.linspace(x.min(), x.max(), 20), alpha=0.5, normed=True)\n",
    "    plt.title('bias')\n",
    "    plt.show()\n",
    "    print('mean:', T['bias'].mean())\n",
    "    print('var:', T['bias'].var())\n",
    "\n",
    "if 'λo' in T.keys():\n",
    "    x=T['λo'][50:]\n",
    "    plt.hist(x, bins=np.linspace(x.min(), x.max(), 20), alpha=0.5, normed=True)\n",
    "    plt.title('exp bias')\n",
    "    plt.show()\n",
    "    print('mean:', T['λo'].mean())\n",
    "    print('var:', T['λo'].var())\n"
   ]
  },
  {
   "cell_type": "markdown",
   "metadata": {},
   "source": [
    "# posterior samples versus prior\n"
   ]
  },
  {
   "cell_type": "markdown",
   "metadata": {},
   "source": [
    "## actual parameters"
   ]
  },
  {
   "cell_type": "code",
   "execution_count": null,
   "metadata": {
    "collapsed": false
   },
   "outputs": [],
   "source": [
    "samples = np.hstack([np.atleast_2d(T[key].T).T for key in ['bias', 'gain', 'phase', 'freq','angle','ratio','width']])\n",
    "\n",
    "plot_pdf(p, lims=[-3,3], gt=pars_true.reshape(-1), figsize=(16,16), resolution=100, samples=samples.T,\n",
    "         ticks=True, labels_params=['bias', 'gain', 'phase', 'freq', 'angle', 'ratio', 'width']);\n"
   ]
  },
  {
   "cell_type": "markdown",
   "metadata": {},
   "source": [
    "## parameters in log/logit space"
   ]
  },
  {
   "cell_type": "code",
   "execution_count": null,
   "metadata": {
    "collapsed": false
   },
   "outputs": [],
   "source": [
    "samples = np.hstack([np.atleast_2d(T[key].T).T for key in ['bias', 'log_A', 'logit_φ', 'log_f','logit_θ','log_γ','log_b']])\n",
    "\n",
    "plot_pdf(p, lims=[-3,3], gt=pars_true.reshape(-1), figsize=(16,16), resolution=100, samples=samples.T,\n",
    "         ticks=True, labels_params=['bias', 'log gain', 'logit phase', 'log freq', 'logit angle', 'log ratio', 'log width']);\n"
   ]
  },
  {
   "cell_type": "code",
   "execution_count": null,
   "metadata": {
    "collapsed": true
   },
   "outputs": [],
   "source": [
    "# tbd"
   ]
  },
  {
   "cell_type": "code",
   "execution_count": null,
   "metadata": {
    "collapsed": true
   },
   "outputs": [],
   "source": [
    "try: \n",
    "    #np.savez('posterior_samples_20', {'T' : T})\n",
    "except:\n",
    "    pass"
   ]
  },
  {
   "cell_type": "code",
   "execution_count": null,
   "metadata": {
    "collapsed": true
   },
   "outputs": [],
   "source": [
    "#try: \n",
    "#    np.savez('prior_samples', {'T' : T})\n",
    "#except:\n",
    "#    pass"
   ]
  },
  {
   "cell_type": "code",
   "execution_count": null,
   "metadata": {
    "collapsed": true
   },
   "outputs": [],
   "source": []
  }
 ],
 "metadata": {
  "kernelspec": {
   "display_name": "Python 3",
   "language": "python",
   "name": "python3"
  },
  "language_info": {
   "codemirror_mode": {
    "name": "ipython",
    "version": 3
   },
   "file_extension": ".py",
   "mimetype": "text/x-python",
   "name": "python",
   "nbconvert_exporter": "python",
   "pygments_lexer": "ipython3",
   "version": "3.5.1"
  }
 },
 "nbformat": 4,
 "nbformat_minor": 1
}
