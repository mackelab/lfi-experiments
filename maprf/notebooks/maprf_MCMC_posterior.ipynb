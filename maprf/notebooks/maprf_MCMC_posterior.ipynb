{
 "cells": [
  {
   "cell_type": "markdown",
   "metadata": {
    "collapsed": true
   },
   "source": [
    "# SNPE & RF\n",
    "\n",
    "learning receptive field parameters from inputs (white-noise videos) and outputs (spike trains) of linear-nonlinear neuron models with parameterized linear filters"
   ]
  },
  {
   "cell_type": "code",
   "execution_count": null,
   "metadata": {
    "collapsed": false
   },
   "outputs": [],
   "source": [
    "%%capture\n",
    "%matplotlib inline\n",
    "\n",
    "import matplotlib.pyplot as plt\n",
    "import numpy as np\n",
    "\n",
    "import delfi.distribution as dd\n",
    "import delfi.generator as dg\n",
    "import delfi.inference as infer\n",
    "import delfi.utils.io as io\n",
    "from delfi.utils.viz import plot_pdf\n",
    "\n",
    "from lfimodels.maprf.maprf import maprf as model\n",
    "from lfimodels.maprf.maprfStats import maprfStats\n",
    "from lfimodels.maprf.utils import setup_sim, setup_sampler, quick_plot, contour_draws\n"
   ]
  },
  {
   "cell_type": "markdown",
   "metadata": {},
   "source": [
    "# parameters for this experiment"
   ]
  },
  {
   "cell_type": "code",
   "execution_count": null,
   "metadata": {
    "collapsed": true
   },
   "outputs": [],
   "source": [
    "seed = 42    # seed for generation of xo for selected cell. MCMC currently not seeded ! \n",
    "\n",
    "idx_cell = 3 # load toy cell number i = idx_cell \n",
    "\n",
    "fix_position=True         # fixues RF position during sampling to (0,0)\n",
    "parametrization='logit_φ' # chosen parameterization of Gabor (affects priors !) \n",
    "\n",
    "n_samples = 100000  # number of MCMC samples\n",
    "\n",
    "savefile = '../results/MCMC/toycell_' + str(idx_cell) + '/maprf_MCMC_prior01_run_1_'+ str(n_samples)+'samples_param7_nosvi_CDELFI.pkl'\n"
   ]
  },
  {
   "cell_type": "markdown",
   "metadata": {},
   "source": [
    "# set up simulator"
   ]
  },
  {
   "cell_type": "code",
   "execution_count": null,
   "metadata": {
    "collapsed": false,
    "scrolled": false
   },
   "outputs": [],
   "source": [
    "g, prior, d = setup_sim(seed, path='..')"
   ]
  },
  {
   "cell_type": "markdown",
   "metadata": {},
   "source": [
    "# load cell, generate xo"
   ]
  },
  {
   "cell_type": "code",
   "execution_count": null,
   "metadata": {
    "collapsed": false
   },
   "outputs": [],
   "source": [
    "filename = '../results/toy_cells/toy_cell_' + str(idx_cell) + '.npy'\n",
    "params_dict_true = np.load(filename)[()]\n",
    "\n",
    "m = g.model\n",
    "m.params_dict = params_dict_true.copy()\n",
    "m.rng = np.random.RandomState(seed=seed)\n",
    "\n",
    "pars_true, obs = m.read_params_buffer(), m.gen_single()\n",
    "obs_stats = g.summary.calc([obs])\n",
    "\n",
    "rf = g.model.params_to_rf(pars_true)[0]\n"
   ]
  },
  {
   "cell_type": "markdown",
   "metadata": {},
   "source": [
    "# set up MCMC sampling"
   ]
  },
  {
   "cell_type": "code",
   "execution_count": null,
   "metadata": {
    "collapsed": false,
    "scrolled": false
   },
   "outputs": [],
   "source": [
    "inference, data = setup_sampler(prior, obs, d, g, params_dict=params_dict_true, \n",
    "                          fix_position=False, parametrization='logit_φ')\n",
    "\n",
    "inference.samplers[0].mu['xo'] = prior['xo']['mu'][0]\n",
    "inference.samplers[0].mu['yo'] = prior['yo']['mu'][0]\n",
    "\n",
    "inference.samplers[0].sd['xo'] = prior['xo']['sigma'][0]\n",
    "inference.samplers[0].sd['yo'] = prior['yo']['sigma'][0]"
   ]
  },
  {
   "cell_type": "code",
   "execution_count": null,
   "metadata": {
    "collapsed": false
   },
   "outputs": [],
   "source": [
    "inference.loglik['xo'] *= 0 \n",
    "inference.loglik['yo'] *= 0 "
   ]
  },
  {
   "cell_type": "markdown",
   "metadata": {},
   "source": [
    "# sample RF parameters (with Poisson bias marginalized out)"
   ]
  },
  {
   "cell_type": "code",
   "execution_count": null,
   "metadata": {
    "collapsed": false
   },
   "outputs": [],
   "source": [
    "n_samples = 1000\n",
    "\n",
    "#frames, spikes = data\n",
    "#frames.set_value(0*obs['I'][:1,:].reshape(-1,d,d))\n",
    "#spikes.set_value(0*obs['data'][:1])\n",
    "\n",
    "T, L = inference.sample(n_samples)\n",
    "T = {k.name: t for k, t in T.items()}\n"
   ]
  },
  {
   "cell_type": "code",
   "execution_count": null,
   "metadata": {
    "collapsed": false
   },
   "outputs": [],
   "source": [
    "x,y = T['xo'],T['yo']\n",
    "\n",
    "plt.figure(figsize=(15, 8))\n",
    "plt.subplot(221)\n",
    "plt.plot(x[0:])\n",
    "plt.plot(y[0:])\n",
    "\n",
    "plt.subplot(222)\n",
    "plt.hist(x[0:], alpha=0.5, normed=True)\n",
    "\n",
    "plt.subplot(224)\n",
    "plt.hist(y[0:], alpha=0.5, normed=True)\n",
    "\n",
    "plt.subplot(223)\n",
    "plt.plot(x[0:], y[0:], '.k', alpha=0.1)\n",
    "plt.show()\n"
   ]
  },
  {
   "cell_type": "markdown",
   "metadata": {},
   "source": [
    "# sample Poisson bias (conditioned on the others)"
   ]
  },
  {
   "cell_type": "code",
   "execution_count": null,
   "metadata": {
    "collapsed": false
   },
   "outputs": [],
   "source": [
    "inference.sample_biases(data, T, m.dt)\n",
    "\n",
    "plt.figure(figsize=(12,5))\n",
    "plt.subplot(2,1,1)\n",
    "plt.plot(T['bias'])\n",
    "print('mean: ' + str(T['bias'].mean()) + ', var: ' + str(T['bias'].var()))\n",
    "plt.subplot(2,1,2)\n",
    "plt.plot(T['λo'])\n",
    "print('mean: ' + str(T['λo'].mean()) + ', var: ' + str(T['λo'].var()))\n",
    "plt.show()"
   ]
  },
  {
   "cell_type": "markdown",
   "metadata": {},
   "source": [
    "# example posterior draws (in direct comparison with xo)"
   ]
  },
  {
   "cell_type": "code",
   "execution_count": null,
   "metadata": {
    "collapsed": false
   },
   "outputs": [],
   "source": [
    "\n",
    "plt.figure(figsize=(16,12))\n",
    "i = 1\n",
    "for t in np.sort(np.random.choice(T['gain'].shape[0], 12, replace=False)):\n",
    "    params_dict = {'kernel' : {'s' : {}, 'l' : {}}, 'glm': {}}\n",
    "    params_dict['glm']['bias'] = T['bias'][t]\n",
    "    params_dict['kernel']['s']['phase'] = T['phase'][t]\n",
    "    params_dict['kernel']['s']['angle'] = T['angle'][t] \n",
    "    params_dict['kernel']['s']['freq']  = T['freq'][t]\n",
    "    params_dict['kernel']['s']['ratio'] = T['ratio'][t]\n",
    "    params_dict['kernel']['s']['width'] = T['width'][t]\n",
    "    params_dict['kernel']['s']['gain'] = T['gain'][t]\n",
    "    params_dict['kernel']['l']['xo'] = T['xo'][t]\n",
    "    params_dict['kernel']['l']['yo'] = T['yo'][t]\n",
    "\n",
    "    axis_x = m.axis_x - params_dict['kernel']['l']['xo']\n",
    "    axis_y = m.axis_y - params_dict['kernel']['l']['yo']    \n",
    "    m._gen.grid_x, m._gen.grid_y = np.meshgrid(axis_x, axis_y)    \n",
    "    \n",
    "    ks = m._eval_ks(bias=params_dict['glm']['bias'], \n",
    "                    angle=params_dict['kernel']['s']['angle'],\n",
    "                    freq=params_dict['kernel']['s']['freq'],\n",
    "                    gain=params_dict['kernel']['s']['gain'],\n",
    "                    phase=params_dict['kernel']['s']['phase'],\n",
    "                    ratio=params_dict['kernel']['s']['ratio'],\n",
    "                    width=params_dict['kernel']['s']['width'])\n",
    "    \n",
    "    plt.subplot(3,4,i)\n",
    "    plt.imshow(np.hstack((ks.reshape(d,d), m.params_to_rf(pars_true)[0])), interpolation='None')\n",
    "    plt.title('t =' + str(t))\n",
    "    \n",
    "    print('loc:' , [T['xo'][t], T['yo'][t]])    \n",
    "    i += 1\n",
    "plt.show()\n",
    "\n"
   ]
  },
  {
   "cell_type": "markdown",
   "metadata": {},
   "source": [
    "# marginal histograms for each (transformed) parameter"
   ]
  },
  {
   "cell_type": "code",
   "execution_count": null,
   "metadata": {
    "collapsed": false
   },
   "outputs": [],
   "source": [
    "\n",
    "burnin = 50\n",
    "\n",
    "for key in ['bias', 'λo', \n",
    "            'gain', 'log_A', 'phase', 'logit_φ',\n",
    "            'angle', 'logit_θ', 'freq', 'log_f',\n",
    "            'ratio', 'width', 'log_γ', 'log_b', \n",
    "            ]:\n",
    "    \n",
    "    if key in T.keys():\n",
    "        x = T[key][burnin:]\n",
    "        plt.hist(x, bins=np.linspace(x.min(), x.max(), 20), alpha=0.5, normed=True)\n",
    "        plt.title(key)\n",
    "        plt.show()\n",
    "        print('mean:', x.mean())\n",
    "        print('var:', x.var())\n",
    "        "
   ]
  },
  {
   "cell_type": "markdown",
   "metadata": {},
   "source": [
    "# posterior samples versus prior\n"
   ]
  },
  {
   "cell_type": "markdown",
   "metadata": {},
   "source": [
    "## actual parameters"
   ]
  },
  {
   "cell_type": "code",
   "execution_count": null,
   "metadata": {
    "collapsed": false
   },
   "outputs": [],
   "source": [
    "samples = np.hstack([np.atleast_2d(T[key].T).T for key in ['bias', 'gain', 'phase', 'freq','angle','ratio','width', 'xo', 'yo']])\n",
    "\n",
    "pars_raw = np.array([ params_dict_true['glm']['bias'],\n",
    "                      params_dict_true['kernel']['s']['gain'],\n",
    "                      params_dict_true['kernel']['s']['phase'],\n",
    "                      params_dict_true['kernel']['s']['freq'],\n",
    "                      params_dict_true['kernel']['s']['angle'],\n",
    "                      params_dict_true['kernel']['s']['ratio'],\n",
    "                      params_dict_true['kernel']['s']['width'],\n",
    "                      params_dict_true['kernel']['l']['xo'],\n",
    "                      params_dict_true['kernel']['l']['yo']                    \n",
    "                    ])\n",
    "\n",
    "plot_pdf(g.prior, lims=[-3,3], gt=pars_raw.reshape(-1), figsize=(16,16), resolution=100, samples=samples.T,\n",
    "         ticks=True, labels_params=['bias', 'gain', 'phase', 'freq', 'angle', 'ratio', 'width', 'xo', 'yo']);\n"
   ]
  },
  {
   "cell_type": "markdown",
   "metadata": {},
   "source": [
    "## parameters in log/logit space"
   ]
  },
  {
   "cell_type": "code",
   "execution_count": null,
   "metadata": {
    "collapsed": false
   },
   "outputs": [],
   "source": [
    "samples = np.hstack([np.atleast_2d(T[key].T).T for key in ['bias', 'gain', 'logit_φ', 'log_f','logit_θ','log_γ','log_b', 'xo', 'yo']])\n",
    "\n",
    "plot_pdf(g.prior, lims=[-3,3], gt=pars_true.reshape(-1), figsize=(16,16), resolution=100, samples=samples.T,\n",
    "         ticks=True, labels_params=['bias', 'gain', 'logit phase', 'log freq', 'logit angle', 'log ratio', 'log width', 'xo', 'yo']);\n"
   ]
  },
  {
   "cell_type": "markdown",
   "metadata": {},
   "source": [
    "# (roughly) check for mixing of the chain"
   ]
  },
  {
   "cell_type": "code",
   "execution_count": null,
   "metadata": {
    "collapsed": false
   },
   "outputs": [],
   "source": [
    "plt.figure(figsize = (16,5) )\n",
    "plt.plot(samples)\n",
    "plt.show()"
   ]
  },
  {
   "cell_type": "markdown",
   "metadata": {},
   "source": [
    "# save results"
   ]
  },
  {
   "cell_type": "code",
   "execution_count": null,
   "metadata": {
    "collapsed": false
   },
   "outputs": [],
   "source": [
    "np.savez(savefile, {'T' : T, 'params_dict_true' : params_dict_true})\n"
   ]
  },
  {
   "cell_type": "code",
   "execution_count": null,
   "metadata": {
    "collapsed": true
   },
   "outputs": [],
   "source": []
  }
 ],
 "metadata": {
  "kernelspec": {
   "display_name": "Python 3",
   "language": "python",
   "name": "python3"
  },
  "language_info": {
   "codemirror_mode": {
    "name": "ipython",
    "version": 3
   },
   "file_extension": ".py",
   "mimetype": "text/x-python",
   "name": "python",
   "nbconvert_exporter": "python",
   "pygments_lexer": "ipython3",
   "version": "3.5.1"
  }
 },
 "nbformat": 4,
 "nbformat_minor": 1
}
