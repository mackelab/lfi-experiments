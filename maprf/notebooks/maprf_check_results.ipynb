{
 "cells": [
  {
   "cell_type": "markdown",
   "metadata": {
    "collapsed": true
   },
   "source": [
    "# SNPE & RF\n",
    "\n",
    "learning receptive field parameters from inputs (white-noise videos) and outputs (spike trains) of linear-nonlinear neuron models with parameterized linear filters"
   ]
  },
  {
   "cell_type": "code",
   "execution_count": null,
   "metadata": {
    "collapsed": false
   },
   "outputs": [],
   "source": [
    "%%capture\n",
    "%matplotlib inline\n",
    "\n",
    "import matplotlib.pyplot as plt\n",
    "import numpy as np\n",
    "\n",
    "import delfi.distribution as dd\n",
    "import delfi.generator as dg\n",
    "import delfi.inference as infer\n",
    "import delfi.utils.io as io\n",
    "from delfi.utils.viz import plot_pdf\n",
    "\n",
    "from lfimodels.maprf.maprf import maprf as model\n",
    "from lfimodels.maprf.maprfStats import maprfStats\n",
    "from lfimodels.maprf.utils import setup_sim, setup_sampler, get_data_o, quick_plot, contour_draws\n",
    "\n",
    "\n",
    "# parameters for this experiment\n",
    "\n",
    "seed = 42\n",
    "\n",
    "n_cells = 3 # number of toy cells\n",
    "\n",
    "n_samples = 500000"
   ]
  },
  {
   "cell_type": "markdown",
   "metadata": {},
   "source": [
    "# load posteriors"
   ]
  },
  {
   "cell_type": "markdown",
   "metadata": {},
   "source": [
    "## round #1"
   ]
  },
  {
   "cell_type": "code",
   "execution_count": null,
   "metadata": {
    "collapsed": false,
    "scrolled": false
   },
   "outputs": [],
   "source": [
    "for idx_cell in range(1,n_cells+1):\n",
    "\n",
    "    print('\\n')\n",
    "    print('cell #' + str(idx_cell))\n",
    "    print('\\n')\n",
    "    \n",
    "    path = '../results/SNPE/toycell_' + str(idx_cell)\n",
    "\n",
    "    filename1 = path + '/maprf_2x10k_refined_prior01_run_1_round2_param7_nosvi_CDELFI.pkl'\n",
    "    filename2 = path + '/maprf_100k_amortized_prior01_run_1_round2_param7_nosvi_base_res.pkl'\n",
    "    filename3 = path + '/maprf_100k_amortized_prior01_run_1_round2_param7_nosvi_CDELFI_inference.pkl'\n",
    "\n",
    "    savefile = '../results/MCMC/toycell_' + str(idx_cell) + '/maprf_MCMC_prior01_run_1_'+ str(n_samples)+'samples_param7'\n",
    "    \n",
    "    # MCMC    \n",
    "    print('MCMC')\n",
    "    g, prior, d = setup_sim(seed, path='..')\n",
    "    filename = '../results/toy_cells/toy_cell_' + str(idx_cell) + '.npy'\n",
    "    obs_stats, pars_true = get_data_o(filename, g, seed)\n",
    "    \n",
    "    filename = '../results/toy_cells/toy_cell_' + str(idx_cell) + '.npy'\n",
    "    params_dict_true = np.load(filename)[()]        \n",
    "    tmp = np.load(savefile + '.npz')['arr_0'][()]\n",
    "    T = tmp['T']\n",
    "\n",
    "    samples = np.hstack([np.atleast_2d(T[key].T).T for key in ['bias','log_A','logit_φ','log_f','logit_θ','log_γ','log_b']])\n",
    "    \n",
    "    # SNPE\n",
    "    print('SNPE')\n",
    "    filename = '../results/SNPE/maprf_100k_amortized_prior01_run_1_round1_param7_nosvi_base.pkl'\n",
    "    #filename = '../results/SNPE/toycell_'+str(idx_cell)+'/maprf_2x10k_refined_prior01_run_1_round2_param7_nosvi_CDELFI.pkl'\n",
    "    log, trn_data, posteriors = io.load_pkl(filename)\n",
    "\n",
    "    g, prior, d = setup_sim(seed, path='..') # reset model\n",
    "    filename = '../results/toy_cells/toy_cell_' + str(idx_cell) + '.npy'\n",
    "    obs_stats, pars_true = get_data_o(filename, g, seed)\n",
    "    \n",
    "    print('plotting')    \n",
    "    plot_pdf(posteriors[-1], pdf2=g.prior, gt=pars_true.flatten(), lims=[-1,1], figsize=(12,12), resolution=100);\n",
    "    plot_pdf(posteriors[-1], pdf2=g.prior, gt=pars_true.flatten(), samples=samples.T, lims=[-1,1], figsize=(12,12), resolution=100);\n",
    "    plt.figure(figsize=(12,6))\n",
    "    plt.subplot(1,2,1)\n",
    "    plt.semilogx(log[-1]['loss'])\n",
    "    plt.subplot(1,2,2)\n",
    "    plt.plot(log[-1]['loss'])\n",
    "    plt.show() "
   ]
  },
  {
   "cell_type": "markdown",
   "metadata": {},
   "source": [
    "# round #2"
   ]
  },
  {
   "cell_type": "code",
   "execution_count": null,
   "metadata": {
    "collapsed": false
   },
   "outputs": [],
   "source": [
    "for idx_cell in range(1,n_cells+1):\n",
    "\n",
    "    print('\\n')\n",
    "    print('cell #' + str(idx_cell))\n",
    "    print('\\n')\n",
    "    \n",
    "    path = '../results/SNPE/toycell_' + str(idx_cell)\n",
    "\n",
    "    filename1 = path + '/maprf_2x10k_refined_prior01_run_1_round2_param7_nosvi_CDELFI.pkl'\n",
    "    filename2 = path + '/maprf_100k_amortized_prior01_run_1_round2_param7_nosvi_base_res.pkl'\n",
    "    filename3 = path + '/maprf_100k_amortized_prior01_run_1_round2_param7_nosvi_CDELFI_inference.pkl'\n",
    "\n",
    "    savefile = '../results/MCMC/toycell_' + str(idx_cell) + '/maprf_MCMC_prior01_run_1_'+ str(n_samples)+'samples_param7'\n",
    "    \n",
    "    # MCMC    \n",
    "    print('MCMC')\n",
    "    g, prior, d = setup_sim(seed, path='..')\n",
    "    filename = '../results/toy_cells/toy_cell_' + str(idx_cell) + '.npy'\n",
    "    obs_stats, pars_true = get_data_o(filename, g, seed)\n",
    "    \n",
    "    filename = '../results/toy_cells/toy_cell_' + str(idx_cell) + '.npy'\n",
    "    params_dict_true = np.load(filename)[()]        \n",
    "    tmp = np.load(savefile + '.npz')['arr_0'][()]\n",
    "    T = tmp['T']\n",
    "\n",
    "    samples = np.hstack([np.atleast_2d(T[key].T).T for key in ['bias','log_A','logit_φ','log_f','logit_θ','log_γ','log_b']])\n",
    "    \n",
    "    # SNPE\n",
    "    print('SNPE')\n",
    "    #filename = '../results/SNPE/maprf_100k_amortized_prior01_run_1_round1_param7_nosvi_base.pkl'\n",
    "    filename = '../results/SNPE/toycell_'+str(idx_cell)+'/maprf_2x10k_refined_prior01_run_1_round2_param7_nosvi_CDELFI.pkl'\n",
    "    log, trn_data, posteriors = io.load_pkl(filename)\n",
    "\n",
    "    g, prior, d = setup_sim(seed, path='..') # reset model\n",
    "    filename = '../results/toy_cells/toy_cell_' + str(idx_cell) + '.npy'\n",
    "    obs_stats, pars_true = get_data_o(filename, g, seed)\n",
    "    \n",
    "    print('plotting')    \n",
    "    plot_pdf(posteriors[-1], pdf2=g.prior, gt=pars_true.flatten(), lims=[-1,1], figsize=(12,12), resolution=100);\n",
    "    plot_pdf(posteriors[-1], pdf2=g.prior, gt=pars_true.flatten(), samples=samples.T, lims=[-1,1], figsize=(12,12), resolution=100);\n",
    "    plt.figure(figsize=(12,6))    \n",
    "    plt.subplot(1,2,1)\n",
    "    plt.semilogx(log[-1]['loss'])\n",
    "    plt.subplot(1,2,2)\n",
    "    plt.plot(log[-1]['loss'])\n",
    "    plt.show() "
   ]
  },
  {
   "cell_type": "code",
   "execution_count": null,
   "metadata": {
    "collapsed": true
   },
   "outputs": [],
   "source": []
  }
 ],
 "metadata": {
  "kernelspec": {
   "display_name": "Python 3",
   "language": "python",
   "name": "python3"
  },
  "language_info": {
   "codemirror_mode": {
    "name": "ipython",
    "version": 3
   },
   "file_extension": ".py",
   "mimetype": "text/x-python",
   "name": "python",
   "nbconvert_exporter": "python",
   "pygments_lexer": "ipython3",
   "version": "3.5.1"
  }
 },
 "nbformat": 4,
 "nbformat_minor": 1
}
