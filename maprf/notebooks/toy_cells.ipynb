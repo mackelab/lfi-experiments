{
 "cells": [
  {
   "cell_type": "code",
   "execution_count": null,
   "metadata": {
    "collapsed": true
   },
   "outputs": [],
   "source": [
    "import numpy as np"
   ]
  },
  {
   "cell_type": "code",
   "execution_count": null,
   "metadata": {
    "collapsed": false
   },
   "outputs": [],
   "source": [
    "pwd"
   ]
  },
  {
   "cell_type": "code",
   "execution_count": null,
   "metadata": {
    "collapsed": true
   },
   "outputs": [],
   "source": [
    "params_ls = {'glm': ('bias',),\n",
    "             'kernel': {'s' : ('gain', 'phase', 'freq', 'angle', 'ratio', 'width'),\n",
    "                        'l' : ['xo', 'yo'],\n",
    "                        't' : []}}\n",
    "\n",
    "sim_info = {'d' : 41,\n",
    "            'parametrization' : 'gabor', \n",
    "            'params_ls' : params_ls,\n",
    "            'duration' : 120, \n",
    "            'dt' : 0.025,\n",
    "            'len_kt' : 2 }\n",
    "\n",
    "np.save('../results/sim_info', sim_info)"
   ]
  },
  {
   "cell_type": "code",
   "execution_count": null,
   "metadata": {
    "collapsed": true
   },
   "outputs": [],
   "source": []
  },
  {
   "cell_type": "code",
   "execution_count": null,
   "metadata": {
    "collapsed": true
   },
   "outputs": [],
   "source": [
    "# cell number 1 (phase pi/4)\n",
    "params_dict_true = {'glm': {'binsize': 0.025,\n",
    "                            'bias': 1.48810066532243},\n",
    "                    'kernel': {'s': {'angle': 0.7,\n",
    "                                     'freq': 1.8,\n",
    "                                     'gain': 0.49262003027013,\n",
    "                                     'phase': np.pi/4,\n",
    "                                     'ratio': 1.5,\n",
    "                                     'width': 2.5},\n",
    "                               'l': {'xo': 0.3,\n",
    "                                     'yo': -0.4},\n",
    "                               't': {'value': np.array([1., 0.])}}}\n",
    "\n",
    "np.save('../results/toy_cells/toy_cell_' + str(1), params_dict_true)"
   ]
  },
  {
   "cell_type": "code",
   "execution_count": null,
   "metadata": {
    "collapsed": true
   },
   "outputs": [],
   "source": [
    "# cell number 2 (sine-shaped)\n",
    "params_dict_true = {'glm': {'binsize': 0.025,\n",
    "                            'bias': 1.48810066532243},\n",
    "                    'kernel': {'s': {'angle': 0.7 + np.pi/4,\n",
    "                                     'freq': 2.4,\n",
    "                                     'gain': 0.49262003027013,\n",
    "                                     'phase': np.pi/2-0.001,\n",
    "                                     'ratio': 2.8,\n",
    "                                     'width': 2.3},\n",
    "                               'l': {'xo': -0.5,\n",
    "                                     'yo': 0.1},\n",
    "                               't': {'value': np.array([1., 0.])}}}\n",
    "\n",
    "np.save('../results/toy_cells/toy_cell_' + str(2), params_dict_true)"
   ]
  },
  {
   "cell_type": "code",
   "execution_count": null,
   "metadata": {
    "collapsed": true
   },
   "outputs": [],
   "source": [
    "# cell number 3 (cosine-shaped), 5 Hz\n",
    "params_dict_true = {'glm': {'binsize': 0.025,\n",
    "                            'bias': 1.48810066532243},\n",
    "                    'kernel': {'s': {'angle': 0.7 + np.pi/3,\n",
    "                                     'freq': 1.8,\n",
    "                                     'gain': 0.49262003027013,\n",
    "                                     'phase': 0.001,\n",
    "                                     'ratio': 0.8,\n",
    "                                     'width': 2.7},\n",
    "                               'l': {'xo': 0.3,\n",
    "                                     'yo': 0.4},\n",
    "                               't': {'value': np.array([1., 0.])}}}\n",
    "\n",
    "np.save('../results/toy_cells/toy_cell_' + str(3), params_dict_true)"
   ]
  },
  {
   "cell_type": "code",
   "execution_count": null,
   "metadata": {
    "collapsed": true
   },
   "outputs": [],
   "source": []
  },
  {
   "cell_type": "code",
   "execution_count": null,
   "metadata": {
    "collapsed": true
   },
   "outputs": [],
   "source": [
    "# cell number 4 (phase pi/4)\n",
    "params_dict_true = {'glm': {'binsize': 0.025,\n",
    "                            'bias': -0.202179976727683},\n",
    "                    'kernel': {'s': {'angle': 0.7,\n",
    "                                     'freq': 1.8,\n",
    "                                     'gain': 0.635893036174612,\n",
    "                                     'phase': np.pi/4,\n",
    "                                     'ratio': 1.5,\n",
    "                                     'width': 2.5},\n",
    "                               'l': {'xo': 0.3,\n",
    "                                     'yo': -0.4},\n",
    "                               't': {'value': np.array([1., 0.])}}}\n",
    "\n",
    "np.save('../results/toy_cells/toy_cell_' + str(4), params_dict_true)"
   ]
  },
  {
   "cell_type": "code",
   "execution_count": null,
   "metadata": {
    "collapsed": true
   },
   "outputs": [],
   "source": [
    "# cell number 5 (sine-shaped)\n",
    "params_dict_true = {'glm': {'binsize': 0.025,\n",
    "                            'bias': -0.202179976727683},\n",
    "                    'kernel': {'s': {'angle': 0.7 + np.pi/4,\n",
    "                                     'freq': 2.4,\n",
    "                                     'gain': 0.635893036174612,\n",
    "                                     'phase': np.pi/2-0.001,\n",
    "                                     'ratio': 2.8,\n",
    "                                     'width': 2.3},\n",
    "                               'l': {'xo': -0.5,\n",
    "                                     'yo': 0.1},\n",
    "                               't': {'value': np.array([1., 0.])}}}\n",
    "\n",
    "np.save('../results/toy_cells/toy_cell_' + str(5), params_dict_true)"
   ]
  },
  {
   "cell_type": "code",
   "execution_count": null,
   "metadata": {
    "collapsed": true
   },
   "outputs": [],
   "source": [
    "# cell number 6 (cosine-shaped), 1 Hz\n",
    "params_dict_true = {'glm': {'binsize': 0.025,\n",
    "                            'bias': -0.202179976727683},\n",
    "                    'kernel': {'s': {'angle': 0.7 + np.pi/3,\n",
    "                                     'freq': 1.8,\n",
    "                                     'gain': 0.635893036174612,\n",
    "                                     'phase': 0.001,\n",
    "                                     'ratio': 0.8,\n",
    "                                     'width': 2.7},\n",
    "                               'l': {'xo': 0.3,\n",
    "                                     'yo': 0.4},\n",
    "                               't': {'value': np.array([1., 0.])}}}\n",
    "\n",
    "np.save('../results/toy_cells/toy_cell_' + str(6), params_dict_true)"
   ]
  },
  {
   "cell_type": "code",
   "execution_count": null,
   "metadata": {
    "collapsed": false
   },
   "outputs": [],
   "source": [
    "for i in range(6):\n",
    "    params_dict_true = np.load('../results/toy_cells/toy_cell_' + str(i+1) + '.npy')[()]\n",
    "    print(params_dict_true)"
   ]
  },
  {
   "cell_type": "code",
   "execution_count": null,
   "metadata": {
    "collapsed": true
   },
   "outputs": [],
   "source": []
  },
  {
   "cell_type": "code",
   "execution_count": null,
   "metadata": {
    "collapsed": true
   },
   "outputs": [],
   "source": []
  }
 ],
 "metadata": {
  "kernelspec": {
   "display_name": "Python 3",
   "language": "python",
   "name": "python3"
  },
  "language_info": {
   "codemirror_mode": {
    "name": "ipython",
    "version": 3
   },
   "file_extension": ".py",
   "mimetype": "text/x-python",
   "name": "python",
   "nbconvert_exporter": "python",
   "pygments_lexer": "ipython3",
   "version": "3.5.1"
  }
 },
 "nbformat": 4,
 "nbformat_minor": 1
}
