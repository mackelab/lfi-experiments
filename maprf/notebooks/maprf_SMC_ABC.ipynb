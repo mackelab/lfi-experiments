{
 "cells": [
  {
   "cell_type": "markdown",
   "metadata": {
    "collapsed": true
   },
   "source": [
    "# SNPE & RF\n",
    "\n",
    "learning receptive field parameters from inputs (white-noise videos) and outputs (spike trains) of linear-nonlinear neuron models with parameterized linear filters"
   ]
  },
  {
   "cell_type": "code",
   "execution_count": null,
   "metadata": {},
   "outputs": [],
   "source": [
    "%%capture\n",
    "%matplotlib inline\n",
    "\n",
    "import matplotlib.pyplot as plt\n",
    "import numpy as np\n",
    "\n",
    "import delfi.distribution as dd\n",
    "import delfi.generator as dg\n",
    "import delfi.inference as infer\n",
    "import delfi.utils.io as io\n",
    "from delfi.utils.viz import plot_pdf\n",
    "\n",
    "from lfimodels.maprf.maprf import maprf as model\n",
    "from lfimodels.maprf.maprfStats import maprfStats\n",
    "from lfimodels.maprf.utils import setup_sim, setup_sampler, quick_plot, contour_draws\n"
   ]
  },
  {
   "cell_type": "markdown",
   "metadata": {},
   "source": [
    "# parameters for this experiment"
   ]
  },
  {
   "cell_type": "code",
   "execution_count": null,
   "metadata": {},
   "outputs": [],
   "source": [
    "seed = 42    # seed for generation of xo for selected cell. MCMC currently not seeded ! \n",
    "\n",
    "idx_cell = 6 # load toy cell number i = idx_cell \n",
    "\n",
    "maxsim = int(1e5)\n",
    "n_particles= int(1e3)\n",
    "\n",
    "savefile = '../results/MCMC/toycell_' + str(idx_cell) + '/maprf_PMC_prior01_run_1_'+ str(n_particles) + 'particles_param9'\n",
    "savefile\n"
   ]
  },
  {
   "cell_type": "markdown",
   "metadata": {},
   "source": [
    "# load cell, generate xo"
   ]
  },
  {
   "cell_type": "code",
   "execution_count": null,
   "metadata": {},
   "outputs": [],
   "source": [
    "g, prior, d = setup_sim(seed, path='..')\n",
    "\n",
    "filename = '../results/toy_cells/toy_cell_' + str(idx_cell) + '.npy'\n",
    "params_dict_true = np.load(filename)[()]\n",
    "\n",
    "m = g.model\n",
    "m.params_dict = params_dict_true.copy()\n",
    "m.rng = np.random.RandomState(seed=seed)\n",
    "\n",
    "pars_true, obs = m.read_params_buffer(), m.gen_single()\n",
    "obs_stats = g.summary.calc([obs])\n",
    "\n",
    "rf = g.model.params_to_rf(pars_true)[0]\n",
    "\n",
    "plt.imshow(np.hstack((obs_stats[0,:-1].reshape(d,d), rf)), interpolation='None')\n",
    "plt.show()\n",
    "\n",
    "print('spike count', obs_stats[0,-1])\n"
   ]
  },
  {
   "cell_type": "markdown",
   "metadata": {},
   "source": [
    "# define distance function (based on pilot runs)"
   ]
  },
  {
   "cell_type": "code",
   "execution_count": null,
   "metadata": {},
   "outputs": [],
   "source": [
    "from lfimodels.abc_methods.run_abc import run_smc\n",
    "\n",
    "gts, pilots,_=g.gen(10000)\n",
    "stats_mean, stats_std = np.zeros((1,pilots.shape[1])), np.ones((1,pilots.shape[1]))\n",
    "#stats_mean, stats_std = pilots.mean(axis=0).reshape(1,-1), pilots.std(axis=0).reshape(1,-1)\n",
    "#stats_mean[:,:-1] = 0\n",
    "#stats_std[:,:-1]  = 1\n",
    "\n",
    "# firing rate normalized onto the level of a single pixel\n",
    "stats_std[:,:-1] = pilots[:, :-1].std()\n",
    "\n",
    "# 50% of total variance is from firing rate\n",
    "#stats_std[:,:-1] = pilots[:, :-1].std()*np.sqrt(pilots.shape[1]-1) # normalizes with std across *all* pixels\n",
    "# 10% of total variance is from firing rate\n",
    "#stats_std[:,:-1] = 1./3*pilots[:, :-1].std()*np.sqrt(pilots.shape[1]-1) # normalizes with std across *all* pixels\n",
    "\n",
    "\n",
    "\n",
    "stats_mean[:,-1] = pilots[:,-1].mean()\n",
    "stats_std[:,-1]  = pilots[:,-1].std()\n",
    "\n",
    "#stats_std[:,-1] *= 1/np.sqrt(d/2) # rescaling the FR summary stat to contribute about 50% of distance on average\n",
    "\n",
    "class normed_summary():\n",
    "    \n",
    "    def calc(self, y):\n",
    "\n",
    "        x = g.summary.calc(y)\n",
    "\n",
    "        return (x-stats_mean)/stats_std\n",
    "\n",
    "obs_statz =  (obs_stats.flatten() - stats_mean) /  stats_std   \n"
   ]
  },
  {
   "cell_type": "markdown",
   "metadata": {},
   "source": [
    "# unnormalized L2 distance"
   ]
  },
  {
   "cell_type": "code",
   "execution_count": null,
   "metadata": {},
   "outputs": [],
   "source": [
    "# compute distances over pilot runs\n",
    "\n",
    "def calc_dist(stats_1, stats_2):\n",
    "    \"\"\"Euclidian distance between summary statistics\"\"\"\n",
    "    return np.sqrt(np.sum( ((stats_1 - stats_2)) ** 2))\n",
    "\n",
    "y_true = g.model.gen([pars_true for i in range(1000)])\n",
    "x_true = [g.summary.calc(y_true[i]) for i in range(len(y_true))]\n",
    "stats_true  = np.vstack(x_true)\n",
    "\n",
    "# compute distances over pilot runs\n",
    "dists = np.empty(stats_true.shape[0])\n",
    "for i in range(stats_true.shape[0]):\n",
    "    dists[i] = calc_dist( stats_true[i], obs_stats)\n",
    "\n",
    "print(np.min(dists))\n",
    "\n",
    "# show distance histogram (use to pick initial epsilon, e.g. roughly as median distance)\n",
    "plt.hist(dists, bins=np.arange(0,np.max(dists),10), normed=True)    \n",
    "    \n",
    "dists = np.empty(pilots.shape[0])\n",
    "for i in range(pilots.shape[0]):\n",
    "    dists[i] = calc_dist( pilots[i], obs_stats )\n",
    "# show distance histogram (use to pick initial epsilon, e.g. roughly as median distance)\n",
    "plt.hist(dists, bins=np.arange(0,np.max(dists),10), normed=True)\n",
    "\n",
    "print(np.min(dists))\n",
    "\n",
    "plt.xlim([0,500])    \n",
    "plt.show()"
   ]
  },
  {
   "cell_type": "markdown",
   "metadata": {},
   "source": [
    "# normalized L2 distance"
   ]
  },
  {
   "cell_type": "code",
   "execution_count": null,
   "metadata": {},
   "outputs": [],
   "source": [
    "# compute distances over pilot runs\n",
    "\n",
    "def calc_dist(stats_1, stats_2):\n",
    "    \"\"\"Euclidian distance between summary statistics\"\"\"\n",
    "    return np.sqrt(np.sum( ((stats_1 - stats_2)/stats_std) ** 2))\n",
    "\n",
    "y_true = g.model.gen([pars_true for i in range(1000)])\n",
    "x_true = [g.summary.calc(y_true[i]) for i in range(len(y_true))]\n",
    "stats_true  = np.vstack(x_true)\n",
    "\n",
    "# compute distances over pilot runs\n",
    "dists = np.empty(stats_true.shape[0])\n",
    "for i in range(stats_true.shape[0]):\n",
    "    dists[i] = calc_dist( stats_true[i], obs_stats )\n",
    "\n",
    "print(np.min(dists))\n",
    "# show distance histogram (use to pick initial epsilon, e.g. roughly as median distance)\n",
    "plt.hist(dists, bins=np.arange(0,np.max(dists),0.01), normed=True)    \n",
    "    \n",
    "dists = np.empty(pilots.shape[0])\n",
    "for i in range(pilots.shape[0]):\n",
    "    dists[i] = calc_dist( pilots[i], obs_stats )\n",
    "# show distance histogram (use to pick initial epsilon, e.g. roughly as median distance)\n",
    "plt.hist(dists, bins=np.arange(0,np.max(dists),0.01), normed=True)\n",
    "\n",
    "print(np.min(dists))\n",
    "\n",
    "#plt.xlim([0,10])    \n",
    "plt.show()"
   ]
  },
  {
   "cell_type": "markdown",
   "metadata": {},
   "source": [
    "# ensure variances are comparable between samples and obs_stats"
   ]
  },
  {
   "cell_type": "code",
   "execution_count": null,
   "metadata": {},
   "outputs": [],
   "source": [
    "plt.imshow(np.hstack((stats_true[0,:-1].reshape(d,d), obs_stats[0,:-1].reshape(d,d))), interpolation='None')\n",
    "plt.show()"
   ]
  },
  {
   "cell_type": "markdown",
   "metadata": {},
   "source": [
    "# visualize 10 clostest summary stats to xo under chosen distance function"
   ]
  },
  {
   "cell_type": "code",
   "execution_count": null,
   "metadata": {
    "scrolled": true
   },
   "outputs": [],
   "source": [
    "\n",
    "lvls = [0.2, 0.2]\n",
    "plt.figure(figsize=(15, 5))\n",
    "for i in range(10):\n",
    "    \n",
    "    plt.subplot(2,5,i+1)\n",
    "    idx = np.argsort(dists)[i]\n",
    "    \n",
    "    print(dists[idx])\n",
    "\n",
    "    x = (pilots[idx,:] - stats_mean) / stats_std\n",
    "    plt.imshow(x[0,:-1].reshape(d,d), interpolation='None', cmap='gray')\n",
    "    plt.title(pilots[idx,-1])\n",
    "    rfm = g.model.params_to_rf(gts[idx,:].reshape(-1))[0]\n",
    "    plt.contour(rfm, levels=[lvls[0]*rfm.min(), lvls[1]*rfm.max()], colors='r')\n",
    "    plt.axis('off')\n",
    "    \n",
    "plt.subplots_adjust( wspace=0.2, hspace=0.1, left=0.1, bottom=0.12)\n",
    "plt.show()\n"
   ]
  },
  {
   "cell_type": "markdown",
   "metadata": {},
   "source": [
    "# run PMC"
   ]
  },
  {
   "cell_type": "code",
   "execution_count": null,
   "metadata": {},
   "outputs": [],
   "source": [
    "import abcpmc\n",
    "\n",
    "eps = abcpmc.LinearEps(21, 5.0, 1.0)\n",
    "def calc_dist(stats_1, stats_2):\n",
    "    \"\"\"Euclidian distance between summary statistics\"\"\"\n",
    "    return np.sqrt(np.sum( ((stats_1 - stats_2)/stats_std) ** 2))\n",
    "\n",
    "prior = abcpmc.GaussianPrior(mu=g.prior.m, sigma=g.prior.S)\n",
    "def postfn(theta):\n",
    "    return g.summary.calc([g.model.gen_single(theta.flatten())])\n",
    "sampler = abcpmc.Sampler(N=n_particles, Y=obs_stats, postfn=postfn, dist=calc_dist)\n",
    "\n",
    "for pool in sampler.sample(prior, eps):\n",
    "    print(\"T: {0}, eps: {1:>.4f}, ratio: {2:>.4f}\".format(pool.t, pool.eps, pool.ratio))\n",
    "    for i, (mean, std) in enumerate(zip(np.mean(pool.thetas, axis=0), np.std(pool.thetas, axis=0))):\n",
    "        print(u\"    theta[{0}]: {1:>.4f} \\u00B1 {2:>.4f}\".format(i, mean,std))\n",
    "    np.save(savefile + 't'+str(pool.t), {'t': pool.t,\n",
    "                                         'eps' : pool.eps,\n",
    "                                         'n_samples_iter' : n_particles / pool.ratio, \n",
    "                                         'params' : pool.thetas,\n",
    "                                         'dists' : pool.dists\n",
    "                                        })\n"
   ]
  },
  {
   "cell_type": "markdown",
   "metadata": {},
   "source": [
    "# run SMC"
   ]
  },
  {
   "cell_type": "code",
   "execution_count": null,
   "metadata": {},
   "outputs": [],
   "source": [
    "seed = 90 # SMC seed\n",
    "eps_init = dists[np.argmin( (dists-np.median(dists))**2 )]\n",
    "print(eps_init)\n",
    "\n",
    "all_ps, all_xs, all_logweights, all_eps, all_nsims = run_smc(model=g.model, prior=g.prior, summary=normed_summary(), \n",
    "                                                     obs_stats=obs_statz, \n",
    "                                                     seed=seed, fn=savefile, \n",
    "                                                     n_particles=n_particles, eps_init=eps_init, maxsim=maxsim)"
   ]
  },
  {
   "cell_type": "code",
   "execution_count": null,
   "metadata": {},
   "outputs": [],
   "source": [
    "posterior = dd.Gaussian(m = all_ps[-1].mean(axis=0), S = np.cov(all_ps[-1].T))\n",
    "plot_pdf(posterior, pdf2=g.prior, lims=[-2,2], samples=all_ps[-1].T, figsize=(16,16));"
   ]
  },
  {
   "cell_type": "code",
   "execution_count": null,
   "metadata": {},
   "outputs": [],
   "source": [
    "np.savez(savefile, {'eps_init' : eps_init,\n",
    "                    'obs_statz' : obs_statz,\n",
    "                    'obs_stats' : obs_stats,\n",
    "                    'n_particles' : n_particles, \n",
    "                    'maxsim' : maxsim,\n",
    "                    'stats_mean' : stats_mean,\n",
    "                    'stats_std' : stats_std, \n",
    "                    'all_ps' : all_ps, \n",
    "                    'all_logweights' : all_logweights,\n",
    "                    'all_eps' : all_eps,\n",
    "                    'all_nsims' : all_nsims,                    \n",
    "                    'params_dict_true' : params_dict_true})\n"
   ]
  },
  {
   "cell_type": "code",
   "execution_count": null,
   "metadata": {},
   "outputs": [],
   "source": []
  },
  {
   "cell_type": "code",
   "execution_count": null,
   "metadata": {},
   "outputs": [],
   "source": []
  }
 ],
 "metadata": {
  "kernelspec": {
   "display_name": "Python 3",
   "language": "python",
   "name": "python3"
  },
  "language_info": {
   "codemirror_mode": {
    "name": "ipython",
    "version": 3
   },
   "file_extension": ".py",
   "mimetype": "text/x-python",
   "name": "python",
   "nbconvert_exporter": "python",
   "pygments_lexer": "ipython3",
   "version": "3.7.0"
  }
 },
 "nbformat": 4,
 "nbformat_minor": 1
}
