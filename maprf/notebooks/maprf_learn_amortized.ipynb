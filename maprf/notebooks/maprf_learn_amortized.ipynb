{
 "cells": [
  {
   "cell_type": "markdown",
   "metadata": {
    "collapsed": true
   },
   "source": [
    "# SNPE & RF\n",
    "\n",
    "learning receptive field parameters from inputs (white-noise videos) and outputs (spike trains) of linear-nonlinear neuron models with parameterized linear filters"
   ]
  },
  {
   "cell_type": "code",
   "execution_count": null,
   "metadata": {
    "collapsed": false
   },
   "outputs": [],
   "source": [
    "%%capture\n",
    "%matplotlib inline\n",
    "\n",
    "import matplotlib.pyplot as plt\n",
    "import numpy as np\n",
    "\n",
    "import delfi.distribution as dd\n",
    "import delfi.generator as dg\n",
    "import delfi.inference as infer\n",
    "import delfi.utils.io as io\n",
    "from delfi.utils.viz import plot_pdf\n",
    "\n",
    "from lfimodels.maprf.maprf import maprf as model\n",
    "from lfimodels.maprf.maprfStats import maprfStats\n",
    "from lfimodels.maprf.utils import get_maprf_prior_01, get_data_o, quick_plot, contour_draws\n"
   ]
  },
  {
   "cell_type": "markdown",
   "metadata": {},
   "source": [
    "# parameters for this experiment"
   ]
  },
  {
   "cell_type": "code",
   "execution_count": null,
   "metadata": {
    "collapsed": true
   },
   "outputs": [],
   "source": [
    "seed = 42\n",
    "\n",
    "idx_cell = 2 # load toy cell number i \n",
    "# in this 'amortized inference' experiment the cell only plays a role for validating the results\n",
    "\n",
    "# network architecture: 8 layer network [4x conv, 3x fully conn., 1x MoG], 20k parameters in total \n",
    "\n",
    "filter_sizes=[3,3,3,2]   # 4 conv ReLU layers\n",
    "n_filters=(16,16,32,32)  # 16 to 32 filters\n",
    "pool_sizes=[1,2,2,1]     # \n",
    "n_hiddens=[50,50,50]     # 3 fully connected layers\n",
    "\n",
    "# N = 100k per round\n",
    "\n",
    "n_train=100000\n",
    "\n",
    "# single component (posterior at most STAs is well-approximated by single Gaussian - we also want to run more SNPE-A)\n",
    "\n",
    "n_components=1\n",
    "\n",
    "# single rounds (first round is always'amortized' and can be used with any other STA covered by the prior)\n",
    "\n",
    "n_rounds=1\n",
    "\n",
    "# new feature for CNN architectures: passing a value directly to the hidden layers (bypassing the conv layers).\n",
    "# In this case, we pass the number of spikes (single number) directly, which allows to normalize the STAs \n",
    "# and hence help out the conv layers. Without that extra input, we couldn't recover the RF gain anymore. \n",
    "n_inputs_hidden = 1\n",
    "\n",
    "# some learning-schedule parameters\n",
    "lr_decay = 0.99\n",
    "epochs=50\n",
    "minibatch=50\n",
    "\n",
    "svi=False          # large N should make this do nothing anyways\n",
    "reg_lambda=0.      # just to make doubly sure SVI is switched off...\n",
    "\n",
    "pilot_samples=1000 # z-scoring only applies to extra inputs (here: firing rate) directly fed to fully connected layers\n",
    "\n",
    "prior_norm = True  # doesn't hurt. \n",
    "init_norm = False  # didn't yet figure how to best normalize initialization through conv- and ReLU- layers\n",
    "\n",
    "path = '../results/SNPE'\n",
    "filename1 = path + '/maprf_100k_amortized_prior01_run_1_round1_param7_nosvi_base.pkl'\n",
    "filename2 = path + '/maprf_100k_amortized_prior01_run_1_round1_param7_nosvi_base_res.pkl'\n"
   ]
  },
  {
   "cell_type": "markdown",
   "metadata": {},
   "source": [
    "# set up simulator"
   ]
  },
  {
   "cell_type": "code",
   "execution_count": null,
   "metadata": {
    "collapsed": false,
    "scrolled": false
   },
   "outputs": [],
   "source": [
    "g, _, d = setup_sim(seed, path='..')"
   ]
  },
  {
   "cell_type": "markdown",
   "metadata": {},
   "source": [
    "# load cell, generate xo\n",
    "- obs_stats & pars_true will not actually be used during training. They are used afterwards to anectdotally check results "
   ]
  },
  {
   "cell_type": "code",
   "execution_count": null,
   "metadata": {
    "collapsed": true
   },
   "outputs": [],
   "source": [
    "filename = '../results/toy_cells/toy_cell_' + str(idx_cell+1) + '.npy'\n",
    "obs_stats, pars_true = get_data_o(filename, g, seed)"
   ]
  },
  {
   "cell_type": "markdown",
   "metadata": {},
   "source": [
    "# train network over full prior"
   ]
  },
  {
   "cell_type": "code",
   "execution_count": null,
   "metadata": {
    "collapsed": false
   },
   "outputs": [],
   "source": [
    "inf = infer.CDELFI(generator=g, obs=obs_stats, prior_norm=prior_norm, init_norm=init_norm,\n",
    "                 pilot_samples=pilot_samples, seed=seed, reg_lambda=reg_lambda, svi=svi,\n",
    "                 n_components=n_components, n_hiddens=n_hiddens, n_filters=n_filters, n_inputs = (1,d,d),\n",
    "                 filter_sizes=filter_sizes, pool_sizes=pool_sizes, n_inputs_hidden=n_inputs_hidden)\n",
    "\n",
    "# print parameter numbers per layer (just weights, not biases)\n",
    "def get_shape(i):\n",
    "    return inf.network.aps[i].get_value().shape\n",
    "print([get_shape(i) for i in range(1,17,2)])\n",
    "print([np.prod(get_shape(i)) for i in range(1,17,2)])\n",
    "\n",
    "# run SNPE-A for one round\n",
    "log, trn_data, posteriors = inf.run(n_train=n_train, epochs=epochs, minibatch=minibatch, n_rounds=n_rounds,  \n",
    "               lr_decay=lr_decay)"
   ]
  },
  {
   "cell_type": "markdown",
   "metadata": {},
   "source": [
    "# check results\n",
    "- quickly check results for a single toy cell to ensure the network got a sensible rough idea"
   ]
  },
  {
   "cell_type": "code",
   "execution_count": null,
   "metadata": {
    "collapsed": false
   },
   "outputs": [],
   "source": [
    "posterior = posteriors[-1] \n",
    "posterior.ndim = posterior.xs[0].ndim\n",
    "\n",
    "quick_plot(g, obs_stats, d, pars_true, posterior, log)\n",
    "\n",
    "# all pairwise marginals of fitted posterior\n",
    "fig, _ = plot_pdf(posterior, pdf2=g.prior, lims=[-3,3], gt=pars_true.reshape(-1), figsize=(16,16), resolution=100,\n",
    "                  labels_params=['bias', 'log gain', 'logit phase', 'log freq', 'logit angle', 'log ratio', 'log width'])\n",
    "fig.savefig('res.pdf')\n",
    "\n",
    "# bunch of example posterior draw contours\n",
    "contour_draws(posterior, g, obs_stats, d)"
   ]
  },
  {
   "cell_type": "markdown",
   "metadata": {},
   "source": [
    "# test other cells (check for 'amortization')"
   ]
  },
  {
   "cell_type": "code",
   "execution_count": null,
   "metadata": {
    "collapsed": false
   },
   "outputs": [],
   "source": [
    "# gain and phase together define firing rate and SNR\n",
    "a,b = 0.357703095858336, 1.54546216004078  # 5 Hz, SNR 10**(-15 / 10)\n",
    "\n",
    "for j in range(3):\n",
    "    \n",
    "    print('\\n')\n",
    "    print('cell #' + str(j+1))\n",
    "    print('\\n')\n",
    "    \n",
    "    params_dict_test = np.load('../results/toy_cells/toy_cell_' + str(j+1) + '.npy')[()]\n",
    "    \n",
    "    m.params_dict = params_dict_test.copy()\n",
    "    params_dict_test['kernel']['gain'] = a\n",
    "    params_dict_test['glm']['bias'] = b\n",
    "    \n",
    "    pars_test = m.read_params_buffer()\n",
    "    stats = s.calc([m.gen_single(pars_test)])\n",
    "\n",
    "    post_test = inf.predict_uncorrected(s.calc([m.gen_single(pars_test)]))\n",
    "\n",
    "    fig, _ = plot_pdf(post_test, pdf2=p, lims=[-3,3], gt=pars_test.reshape(-1), figsize=(12,12), resolution=100,\n",
    "                  labels_params=['bias', 'log gain', 'logit phase', 'log freq', 'logit angle', 'log ratio', 'log width'])\n",
    "\n",
    "    plt.figure(figsize=(6,6))\n",
    "    plt.subplot(2,3,1)\n",
    "    plt.imshow(m.params_to_rf(pars_test)[0], interpolation='None')\n",
    "    plt.subplot(2,3,2)\n",
    "    plt.imshow(m.params_to_rf(post_test.xs[0].m.reshape(-1))[0], interpolation='None')\n",
    "    plt.subplot(2,3,3)\n",
    "    plt.imshow(stats[0,:-1].reshape(d,d), interpolation='None')\n",
    "    \n",
    "    for i in range(8):\n",
    "        plt.subplot(4,4,9+i)\n",
    "        plt.imshow(m.params_to_rf(post_test.gen().reshape(-1))[0], interpolation='None')\n",
    "\n",
    "    plt.show()"
   ]
  },
  {
   "cell_type": "markdown",
   "metadata": {},
   "source": [
    "# save results"
   ]
  },
  {
   "cell_type": "code",
   "execution_count": null,
   "metadata": {
    "collapsed": false
   },
   "outputs": [],
   "source": [
    "# store output\n",
    "io.save_pkl((log, trn_data, posteriors),filename1)\n",
    "inf.generator.model = None # model cannot be pickled atm\n",
    "io.save(inf, filename2)\n"
   ]
  },
  {
   "cell_type": "code",
   "execution_count": null,
   "metadata": {
    "collapsed": true
   },
   "outputs": [],
   "source": []
  }
 ],
 "metadata": {
  "kernelspec": {
   "display_name": "Python 3",
   "language": "python",
   "name": "python3"
  },
  "language_info": {
   "codemirror_mode": {
    "name": "ipython",
    "version": 3
   },
   "file_extension": ".py",
   "mimetype": "text/x-python",
   "name": "python",
   "nbconvert_exporter": "python",
   "pygments_lexer": "ipython3",
   "version": "3.5.1"
  }
 },
 "nbformat": 4,
 "nbformat_minor": 1
}
