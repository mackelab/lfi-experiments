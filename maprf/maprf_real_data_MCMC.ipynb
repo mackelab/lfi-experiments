{
 "cells": [
  {
   "cell_type": "code",
   "execution_count": null,
   "metadata": {
    "collapsed": true
   },
   "outputs": [],
   "source": [
    "#%%capture\n",
    "%matplotlib inline\n",
    "\n",
    "import matplotlib.pyplot as plt\n",
    "import numpy as np\n",
    "\n",
    "import delfi.distribution as dd\n",
    "import delfi.generator as dg\n",
    "import delfi.inference as infer\n",
    "from delfi.utils.viz import plot_pdf\n",
    "\n",
    "from lfimodels.maprf.utils import get_maprf_prior_01, setup_sim, setup_sampler, \\\n",
    "get_data_o, quick_plot, contour_draws\n",
    "from lfimodels.maprf.maprf import maprf as model\n",
    "from lfimodels.maprf.maprfStats import maprfStats\n",
    "\n",
    "from scipy import io\n",
    "\n",
    "seed = 42"
   ]
  },
  {
   "cell_type": "code",
   "execution_count": null,
   "metadata": {
    "collapsed": true
   },
   "outputs": [],
   "source": [
    "# choose experiment, cell id and recording session\n",
    "\n",
    "exp_id = 'R151013ct01'\n",
    "idx_cell = 8\n",
    "cell_id = str(idx_cell)\n",
    "sess_id = 'g'"
   ]
  },
  {
   "cell_type": "code",
   "execution_count": null,
   "metadata": {
    "collapsed": false
   },
   "outputs": [],
   "source": [
    "path='.'\n",
    "sim_info = np.load(path +'/results/sim_info.npy')[()] # overall setup info (parametrization, stimulus size etc.)\n",
    "d = sim_info['d']\n",
    "\n",
    "# initial parameter estimate (= MCMC initial chain segment)\n",
    "params_dict_init = { 'kernel' :  {'s' : {'ratio' : 0.9,\n",
    "                                         'width' : 3.5,\n",
    "                                         'gain'  : 0.3,\n",
    "                                         'phase' : np.pi/2 - 0.001,\n",
    "                                         'freq'  : 1.45,\n",
    "                                         'angle' : 3*np.pi/2 - 0.1},\n",
    "                                  't' : {'value' : np.array([1., 0.])}, \n",
    "                                  'l' : {'xo' : 0.3, 'yo' : -0.03 }}, \n",
    "                     'glm' :     {'bias' : 0.15, \n",
    "                                  'binsize' : 1./30}}\n",
    "\n",
    "# simulator\n",
    "m = model(filter_shape=([d,d,2]),\n",
    "    duration=300, \n",
    "    dt=1./30., \n",
    "    params_ls=sim_info['params_ls'],\n",
    "    seed = seed, \n",
    "    parametrization=sim_info['parametrization'])\n",
    "\n",
    "# load stimulus, overwrite simulator stimulus\n",
    "file_name = 'data/ActualMoviecat-noise_0.12_1.25_0.50_300_10_120px_4Hz_mag14.mat'\n",
    "mv = io.loadmat(file_name, mdict=None, appendmat=True)['moviedata']\n",
    "m.I = 1. * mv[:, 39:-40, :][13:-14,:,:].transpose(2,0,1).reshape(mv.shape[2],-1)\n",
    "m.I = (m.I - np.mean(m.I)) / np.std(m.I)\n",
    "m._gen.x = m.I.reshape(len(m.t), m.filter_shape[0], m.filter_shape[1])\n",
    "m.n_params = 9\n",
    "m.params_dict = params_dict_init.copy()\n",
    "m.rng = np.random.RandomState(seed=seed)\n",
    "\n",
    "# generator\n",
    "p, prior = get_maprf_prior_01(sim_info['params_ls'], seed)\n",
    "s = maprfStats(n_summary=d*d+1) # summary stats (d x d RF + spike_count)\n",
    "def rej(x):\n",
    "    # rejects summary statistic if number of spikes == 0\n",
    "    return x[:,-1] > 0\n",
    "g = dg.RejKernel(model=m, prior=p, summary=s, rej=rej, seed=seed)\n",
    "\n",
    "# observations\n",
    "obs_0 = g.model.gen_single()\n",
    "obs_init = g.summary.calc([obs_0])\n",
    "pars_init = g.model.read_params_buffer().copy()\n",
    "\n",
    "stimTime = io.loadmat('data/'+exp_id+'/cell0'+cell_id+'/StimTime/'+exp_id +'_cell'+cell_id+sess_id+'_FramebasedSpknum.mat')['framebasedSpk'][:,0]\n",
    "spkTime = io.loadmat('data/'+exp_id+'/cell0'+cell_id+'/SpkTime/'+exp_id +'_cell'+cell_id+sess_id+'_SpikeTiming.mat')['resid_feature']\n",
    "\n",
    "print([stimTime[0], stimTime[-1]])\n",
    "\n",
    "spks = np.histogram(spkTime/1000, stimTime)[0]\n",
    "spks = np.hstack([np.zeros(1), spks]).astype(np.int)\n",
    "\n",
    "obs = { 'data' : spks,\n",
    "      'I' : g.model.I}\n",
    "obs_stats = g.summary.calc([obs])\n",
    "\n",
    "print(' observed data: ')\n",
    "print('firing rate', obs_stats[0,-1] /(g.model.I.shape[0]*g.model.params_dict['glm']['binsize']) )\n",
    "print('spike count', obs_stats[0,-1] )\n",
    "\n",
    "print(' initial parameter guess: ')\n",
    "print('spike count ', obs_init[0,-1])\n",
    "\n",
    "plt.figure(figsize=(12, 4))\n",
    "plt.subplot(1,3,1)\n",
    "plt.imshow( obs_stats[0,:-1].reshape(d,d), interpolation='None')\n",
    "plt.title('observed STA')\n",
    "plt.subplot(1,3,2)\n",
    "plt.imshow( obs_init[0,:-1].reshape(d,d), interpolation='None')\n",
    "plt.title('STA of initial parameter guess')\n",
    "plt.subplot(1,3,3)\n",
    "plt.imshow( g.model.params_to_rf(pars_init)[0], interpolation='None')\n",
    "plt.title('RF of initial parameter guess')\n",
    "plt.show()\n"
   ]
  },
  {
   "cell_type": "markdown",
   "metadata": {},
   "source": [
    "# MCMC"
   ]
  },
  {
   "cell_type": "code",
   "execution_count": null,
   "metadata": {
    "collapsed": false
   },
   "outputs": [],
   "source": [
    "\n",
    "n_samples = 1000000\n",
    "\n",
    "inference, data = setup_sampler(prior, obs, d, g, params_dict=params_dict_init, \n",
    "                          fix_position=False, parametrization='logit_φ')\n",
    "\n",
    "inference.samplers[0].mu['logit_xo'] = prior['logit_xo']['mu'][0]\n",
    "inference.samplers[0].mu['logit_yo'] = prior['logit_yo']['mu'][0]\n",
    "\n",
    "inference.samplers[0].sd['logit_xo'] = prior['logit_xo']['sigma'][0]\n",
    "inference.samplers[0].sd['logit_yo'] = prior['logit_yo']['sigma'][0]\n",
    "\n",
    "T, L = inference.sample(n_samples)\n",
    "T = {k.name: t for k, t in T.items()}"
   ]
  },
  {
   "cell_type": "code",
   "execution_count": null,
   "metadata": {
    "collapsed": false
   },
   "outputs": [],
   "source": [
    "def scaled_expit_i(v):\n",
    "    return 2. / (1. + np.exp(-v)) - 1\n",
    "\n",
    "T['xo'], T['yo'] = scaled_expit_i(T['logit_xo']), scaled_expit_i(T['logit_yo'])\n",
    "\n",
    "x,y = T['xo'], T['yo']\n",
    "\n",
    "plt.figure(figsize=(15, 8))\n",
    "plt.subplot(221)\n",
    "plt.plot(x[0:])\n",
    "plt.plot(y[0:])\n",
    "plt.legend(('x-pos', 'y-pos'))\n",
    "\n",
    "plt.subplot(222)\n",
    "plt.hist(x[0:], alpha=0.5, normed=True)\n",
    "plt.title('x-positions')\n",
    "\n",
    "plt.subplot(224)\n",
    "plt.hist(y[0:], alpha=0.5, normed=True)\n",
    "plt.title('y-positions')\n",
    "\n",
    "plt.subplot(223)\n",
    "plt.plot(x[0:], y[0:], '.k', alpha=0.1)\n",
    "plt.title('x/y')\n",
    "plt.show()"
   ]
  },
  {
   "cell_type": "code",
   "execution_count": null,
   "metadata": {
    "collapsed": false
   },
   "outputs": [],
   "source": [
    "inference.sample_biases(data, T, m.dt)\n",
    "\n",
    "plt.figure(figsize=(12,5))\n",
    "plt.subplot(2,1,1)\n",
    "plt.plot(T['bias'])\n",
    "print('mean: ' + str(T['bias'].mean()) + ', var: ' + str(T['bias'].var()))\n",
    "plt.subplot(2,1,2)\n",
    "plt.plot(T['λo'])\n",
    "print('mean: ' + str(T['λo'].mean()) + ', var: ' + str(T['λo'].var()))\n",
    "plt.show()\n"
   ]
  },
  {
   "cell_type": "code",
   "execution_count": null,
   "metadata": {
    "collapsed": false
   },
   "outputs": [],
   "source": [
    "import theano\n",
    "\n",
    "i = list(inference.inputs.values())\n",
    "o = inference.logL\n",
    "\n",
    "loglik = theano.function(i, o, updates=[], on_unused_input='warn')\n",
    "\n",
    "loglik()"
   ]
  },
  {
   "cell_type": "code",
   "execution_count": null,
   "metadata": {
    "collapsed": false
   },
   "outputs": [],
   "source": [
    "inference.samplers[0].get_point()"
   ]
  },
  {
   "cell_type": "markdown",
   "metadata": {},
   "source": [
    "# inspect results"
   ]
  },
  {
   "cell_type": "code",
   "execution_count": null,
   "metadata": {
    "collapsed": false
   },
   "outputs": [],
   "source": [
    "# random selection of MCMC samples\n",
    "\n",
    "sta = obs_stats[0,:-1].reshape(d,d)\n",
    "sta = (sta - sta.sum()) / np.sqrt( np.sum(sta**2))\n",
    "\n",
    "plt.figure(figsize=(16,12))\n",
    "i = 1\n",
    "for t in np.sort(np.random.choice(T['gain'].shape[0], 12, replace=False)):\n",
    "    params_dict = {'kernel' : {'s' : {}, 'l' : {}}, 'glm': {}}\n",
    "    params_dict['glm']['bias'] = T['bias'][t]\n",
    "    params_dict['kernel']['s']['phase'] = T['phase'][t]\n",
    "    params_dict['kernel']['s']['angle'] = T['angle'][t] \n",
    "    params_dict['kernel']['s']['freq']  = T['freq'][t]\n",
    "    params_dict['kernel']['s']['ratio'] = T['ratio'][t]\n",
    "    params_dict['kernel']['s']['width'] = T['width'][t]\n",
    "    params_dict['kernel']['s']['gain'] = T['gain'][t]\n",
    "    params_dict['kernel']['l']['xo'] = T['xo'][t]\n",
    "    params_dict['kernel']['l']['yo'] = T['yo'][t]\n",
    "\n",
    "    axis_x = m.axis_x - params_dict['kernel']['l']['xo']\n",
    "    axis_y = m.axis_y - params_dict['kernel']['l']['yo']    \n",
    "    m._gen.grid_x, m._gen.grid_y = np.meshgrid(axis_x, axis_y)    \n",
    "    \n",
    "    ks = m._eval_ks(bias=params_dict['glm']['bias'], \n",
    "                    angle=params_dict['kernel']['s']['angle'],\n",
    "                    freq=params_dict['kernel']['s']['freq'],\n",
    "                    gain=params_dict['kernel']['s']['gain'],\n",
    "                    phase=params_dict['kernel']['s']['phase'],\n",
    "                    ratio=params_dict['kernel']['s']['ratio'],\n",
    "                    width=params_dict['kernel']['s']['width'])\n",
    "    \n",
    "    plt.subplot(3,4,i)\n",
    "    plt.imshow(np.hstack((ks.reshape(d,d), sta* params_dict['kernel']['s']['gain'] )), #m.params_to_rf(pars_true)[0])), \n",
    "               interpolation='None')\n",
    "    plt.title('t =' + str(t))\n",
    "    \n",
    "    print('loc:' , [T['xo'][t], T['yo'][t]])    \n",
    "    i += 1\n",
    "    \n",
    "plt.show()\n"
   ]
  },
  {
   "cell_type": "code",
   "execution_count": null,
   "metadata": {
    "collapsed": false
   },
   "outputs": [],
   "source": [
    "# closer look at a single (late) MCMC chain element\n",
    "\n",
    "m = model(filter_shape=([d,d,2]),\n",
    "    duration=300, \n",
    "    dt=1./30., \n",
    "    params_ls=sim_info['params_ls'],\n",
    "    seed = seed,\n",
    "    parametrization=sim_info['parametrization'])\n",
    "\n",
    "m.I = 1. * mv[:, 39:-40, :][13:-14,:,:].transpose(2,0,1).reshape(mv.shape[2],-1)\n",
    "m.I = (m.I - np.mean(m.I)) / np.std(m.I)\n",
    "m._gen.x = m.I.reshape(len(m.t), m.filter_shape[0], m.filter_shape[1])\n",
    "m.n_params = 9\n",
    "\n",
    "params_dict['glm']['binsize'] = 1./30\n",
    "params_dict['kernel']['t'] = {'value' : np.array([1., 0.])}\n",
    "\n",
    "m.params_dict = params_dict\n",
    "pars_raw = m.read_params_buffer()\n",
    "obs_test = m.gen_single()\n",
    "obs_stats_test = g.summary.calc([obs_test])\n",
    "\n",
    "plt.figure(figsize=(12,4))\n",
    "plt.subplot(1,3,1)\n",
    "plt.imshow(obs_stats[0,:-1].reshape(d,d), interpolation='None')\n",
    "plt.title('observed STA')\n",
    "plt.subplot(1,3,2)\n",
    "plt.imshow(obs_stats_test[:,:-1].T.reshape(d,d), interpolation='None')\n",
    "plt.title('STA of MCMC chain element #' + str(t))\n",
    "plt.subplot(1,3,3)\n",
    "plt.imshow(m.params_to_rf(pars_raw)[0], interpolation='None')\n",
    "plt.title('RF of MCMC chain element #' + str(t))\n",
    "plt.show()\n",
    "\n",
    "obs_stats_test[0,-1]"
   ]
  },
  {
   "cell_type": "code",
   "execution_count": null,
   "metadata": {
    "collapsed": false
   },
   "outputs": [],
   "source": [
    "# distribution of MCMC samples\n",
    "\n",
    "samples = np.hstack([np.atleast_2d(T[key].T).T for key in ['bias', 'gain', 'phase', 'freq','angle','ratio','width', 'xo', 'yo']])\n",
    "\n",
    "pars_raw = np.array([ params_dict['glm']['bias'],\n",
    "                      params_dict['kernel']['s']['gain'],\n",
    "                      params_dict['kernel']['s']['phase'],\n",
    "                      params_dict['kernel']['s']['freq'],\n",
    "                      params_dict['kernel']['s']['angle'],\n",
    "                      params_dict['kernel']['s']['ratio'],\n",
    "                      params_dict['kernel']['s']['width'],\n",
    "                      params_dict['kernel']['l']['xo'],\n",
    "                      params_dict['kernel']['l']['yo'] ])\n",
    "\n",
    "plot_pdf(g.prior, lims=[-3,3], gt=pars_raw.reshape(-1), figsize=(16,16), resolution=100, samples=samples,\n",
    "         ticks=True, labels_params=['bias', 'gain', 'phase', 'freq', 'angle', 'ratio', 'width', 'xo', 'yo']);\n"
   ]
  },
  {
   "cell_type": "markdown",
   "metadata": {},
   "source": [
    "# save results"
   ]
  },
  {
   "cell_type": "code",
   "execution_count": null,
   "metadata": {
    "collapsed": false
   },
   "outputs": [],
   "source": [
    "\n",
    "fldr  = exp_id + '_cell'+cell_id+sess_id\n",
    "savefile = './results/MCMC/' + fldr + '/maprf_MCMC_prior01_run_2_'+ str(n_samples)+'samples_param9_5min'\n",
    "savefile"
   ]
  },
  {
   "cell_type": "code",
   "execution_count": null,
   "metadata": {
    "collapsed": false
   },
   "outputs": [],
   "source": [
    "np.savez(savefile, {'T' : T, 'params_dict_init' : params_dict_init})\n"
   ]
  },
  {
   "cell_type": "code",
   "execution_count": null,
   "metadata": {
    "collapsed": true
   },
   "outputs": [],
   "source": []
  }
 ],
 "metadata": {
  "kernelspec": {
   "display_name": "Python 3",
   "language": "python",
   "name": "python3"
  },
  "language_info": {
   "codemirror_mode": {
    "name": "ipython",
    "version": 3
   },
   "file_extension": ".py",
   "mimetype": "text/x-python",
   "name": "python",
   "nbconvert_exporter": "python",
   "pygments_lexer": "ipython3",
   "version": "3.5.1"
  }
 },
 "nbformat": 4,
 "nbformat_minor": 0
}
