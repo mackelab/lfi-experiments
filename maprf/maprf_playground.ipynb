{
 "cells": [
  {
   "cell_type": "markdown",
   "metadata": {
    "collapsed": true
   },
   "source": [
    "# SNPE & RF\n",
    "\n",
    "learning receptive field parameters from inputs (white-noise videos) and outputs (spike trains) of linear-nonlinear neuron models with parameterized linear filters"
   ]
  },
  {
   "cell_type": "code",
   "execution_count": null,
   "metadata": {
    "collapsed": false
   },
   "outputs": [],
   "source": [
    "%%capture\n",
    "%matplotlib inline\n",
    "\n",
    "import matplotlib.pyplot as plt\n",
    "import numpy as np\n",
    "\n",
    "import delfi.distribution as dd\n",
    "import delfi.generator as dg\n",
    "import delfi.inference as infer\n",
    "import delfi.utils.io as io\n",
    "from delfi.utils.viz import plot_pdf\n",
    "\n",
    "from lfimodels.maprf.utils import get_maprf_prior_01, setup_sim, setup_sampler, \\\n",
    "get_data_o, quick_plot, contour_draws\n",
    "from lfimodels.maprf.maprf import maprf as model\n",
    "from lfimodels.maprf.maprfStats import maprfStats\n",
    "\n",
    "seed = 42"
   ]
  },
  {
   "cell_type": "code",
   "execution_count": null,
   "metadata": {
    "collapsed": false
   },
   "outputs": [],
   "source": [
    "## training data and true parameters, data, statistics\n",
    "\n",
    "idx_cell = 6 # load toy cell number i \n",
    "filename = './results/toy_cells/toy_cell_' + str(idx_cell) + '.npy'\n",
    "\n",
    "g, prior, d = setup_sim(seed, path='.')\n",
    "obs_stats, pars_true = get_data_o(filename, g, seed)\n",
    "rf = g.model.params_to_rf(pars_true)[0]\n",
    "\n",
    "plt.imshow(rf, interpolation='None')\n",
    "plt.show()\n",
    "obs_stats, obs_stats[0,-1]"
   ]
  },
  {
   "cell_type": "code",
   "execution_count": null,
   "metadata": {
    "collapsed": false
   },
   "outputs": [],
   "source": [
    "contour_draws(g.prior, g, obs_stats, d=d)"
   ]
  },
  {
   "cell_type": "code",
   "execution_count": null,
   "metadata": {
    "collapsed": true
   },
   "outputs": [],
   "source": [
    "algo = 'CDELFI'\n",
    "\n",
    "\n",
    "# network architecture: 8 layer network [4x conv, 3x fully conn., 1x MoG], 20k parameters in total \n",
    "\n",
    "filter_sizes=[3,3,3,3,2]   # 5 conv ReLU layers\n",
    "n_filters=(16,16,32,32,32) # 16 to 64 filters\n",
    "pool_sizes=[1,2,2,2,2]     # \n",
    "n_hiddens=[100,100,100]     # 3 fully connected layers\n",
    "\n",
    "# N = 100k per round\n",
    "\n",
    "n_train=10000\n",
    "\n",
    "# single component (posterior at most STAs is well-approximated by single Gaussian - we also want to run more SNPE-A)\n",
    "\n",
    "n_components=4\n",
    "\n",
    "# single rounds (first round is always'amortized' and can be used with any other STA covered by the prior)\n",
    "\n",
    "n_rounds=1\n",
    "\n",
    "# new feature for CNN architectures: passing a value directly to the hidden layers (bypassing the conv layers).\n",
    "# In this case, we pass the number of spikes (single number) directly, which allows to normalize the STAs \n",
    "# and hence help out the conv layers. Without that extra input, we couldn't recover the RF gain anymore. \n",
    "n_inputs_hidden = 1\n",
    "\n",
    "# some learning-schedule parameters\n",
    "lr_decay = 0.999\n",
    "epochs=200\n",
    "minibatch=50\n",
    "\n",
    "svi=False          # large N should make this do nothing anyways\n",
    "reg_lambda=0.0   # just to make doubly sure SVI is switched off...\n",
    "\n",
    "pilot_samples=1000 # z-scoring only applies to extra inputs (here: firing rate) directly fed to fully connected layers\n",
    "\n",
    "prior_norm = True  # doesn't hurt. \n",
    "init_norm = False  # didn't yet figure how to best normalize initialization through conv- and ReLU- layers\n",
    "\n",
    "rank = None   # fitting only DIAGONAL covariances\n"
   ]
  },
  {
   "cell_type": "markdown",
   "metadata": {},
   "source": [
    "# First round"
   ]
  },
  {
   "cell_type": "code",
   "execution_count": null,
   "metadata": {
    "collapsed": false
   },
   "outputs": [],
   "source": [
    "if algo == 'CDELFI':\n",
    "\n",
    "    inf = infer.CDELFI(generator=g, obs=obs_stats, prior_norm=prior_norm, init_norm=init_norm,\n",
    "                     pilot_samples=pilot_samples, seed=seed, reg_lambda=reg_lambda, svi=svi,\n",
    "                     n_components=1, n_hiddens=n_hiddens, n_filters=n_filters, n_inputs = (1,d,d),\n",
    "                     filter_sizes=filter_sizes, pool_sizes=pool_sizes, n_inputs_hidden=n_inputs_hidden,\n",
    "                     rank=rank, verbose=True)\n",
    "    \n",
    "elif algo == 'SNPE':\n",
    "\n",
    "    init_norm = True\n",
    "    inf = infer.SNPE(generator=g, obs=obs_stats, prior_norm=prior_norm, init_norm=init_norm,\n",
    "                     pilot_samples=pilot_samples, seed=seed, reg_lambda=reg_lambda, svi=svi,\n",
    "                     n_components=n_components, n_hiddens=n_hiddens, n_filters=n_filters, n_inputs = (1,d,d),\n",
    "                     filter_sizes=filter_sizes, pool_sizes=pool_sizes, n_inputs_hidden=n_inputs_hidden,\n",
    "                     rank=rank, verbose=True)"
   ]
  },
  {
   "cell_type": "code",
   "execution_count": null,
   "metadata": {
    "collapsed": false
   },
   "outputs": [],
   "source": [
    "# print parameter numbers per layer (just weights, not biases)\n",
    "def get_shape(i):\n",
    "    return inf.network.aps[i].get_value().shape\n",
    "print([get_shape(i) for i in range(1,17,2)])\n",
    "print([np.prod(get_shape(i)) for i in range(1,17,2)])"
   ]
  },
  {
   "cell_type": "code",
   "execution_count": null,
   "metadata": {
    "collapsed": false
   },
   "outputs": [],
   "source": [
    "if algo == 'CDELFI':\n",
    "    \n",
    "    #run SNPE-A for one round\n",
    "    log, trn_data, posteriors = inf.run(n_train=n_train, epochs=epochs, minibatch=minibatch, n_rounds=n_rounds,  \n",
    "                   lr_decay=lr_decay,n_components=1)\n",
    "\n",
    "elif algo == 'SNPE':\n",
    "\n",
    "    # run SNPE-B for one round\n",
    "    log, trn_data, posteriors = inf.run(n_train=n_train, epochs=epochs, minibatch=minibatch, n_rounds=n_rounds,  \n",
    "                   lr_decay=lr_decay)\n"
   ]
  },
  {
   "cell_type": "code",
   "execution_count": null,
   "metadata": {
    "collapsed": false
   },
   "outputs": [],
   "source": [
    "posterior = inf.predict(obs_stats)\n",
    "posterior.ndim = posterior.xs[0].ndim\n",
    "\n",
    "quick_plot(g, obs_stats, d, pars_true, posterior, log)\n",
    "\n",
    "# all pairwise marginals of fitted posterior\n",
    "fig, _ = plot_pdf(posterior, pdf2=g.prior, lims=[-3,3], gt=pars_true.reshape(-1), figsize=(16,16), resolution=100,\n",
    "                  labels_params=['bias', 'log gain', 'logit phase', 'log freq', 'logit angle', 'log ratio', 'log width', 'xo', 'yo'])\n",
    "fig.savefig('res.pdf')\n",
    "\n",
    "# bunch of example posterior draw contours\n",
    "contour_draws(posterior, g, obs_stats, d)"
   ]
  },
  {
   "cell_type": "code",
   "execution_count": null,
   "metadata": {
    "collapsed": false
   },
   "outputs": [],
   "source": [
    "n_draws = 10\n",
    "plt.figure(figsize=(6,6))\n",
    "plt.imshow(np.hstack((\n",
    "    obs_stats[0,:-1].reshape(d,d),\n",
    "    g.model.params_to_rf(pars_true.reshape(-1))[0])),\n",
    "    interpolation='None', cmap='gray')\n",
    "lvls=[0.5, 0.5]\n",
    "for i in range(n_draws):\n",
    "    rfm = g.model.params_to_rf(posterior.gen(1).reshape(-1))[0]\n",
    "    plt.contour(rfm, levels=[lvls[0]*rfm.min(), lvls[1]*rfm.max()])\n",
    "    #print(rfm.min(), rfm.max())\n",
    "    plt.hold(True)\n",
    "plt.title('RF posterior draws')\n",
    "#plt.savefig('posterior_location_round1_example.pdf')\n",
    "plt.show()"
   ]
  },
  {
   "cell_type": "code",
   "execution_count": null,
   "metadata": {
    "collapsed": false
   },
   "outputs": [],
   "source": [
    "round_ = 1\n",
    "filename1 = './results/SNPE/maprf_100k_elife_prior01_run_9_round' + str(round_) + '_param9_nosvi_CDELFI.pkl'\n",
    "filename2 = './results/SNPE/maprf_100k_elife_prior01_run_9_round' + str(round_) + '_param9_nosvi_CDELFI_res.pkl'\n",
    "filename4 = './results/SNPE/maprf_100k_elife_prior01_run_9_round' + str(round_) + '_param9_nosvi_CDELFI_net_only.pkl'\n",
    "\n",
    "\n",
    "io.save_pkl((log, trn_data, posterior),filename1)\n",
    "net = inf.network\n",
    "data = {'network.spec_dict' : net.spec_dict, \n",
    "        'network.params_dict' : net.params_dict }\n",
    "io.save_pkl(data, filename4)"
   ]
  },
  {
   "cell_type": "markdown",
   "metadata": {},
   "source": [
    "# second round"
   ]
  },
  {
   "cell_type": "code",
   "execution_count": null,
   "metadata": {
    "collapsed": false
   },
   "outputs": [],
   "source": [
    "# load round #1 results and continue\n",
    "round_ = 1\n",
    "filename1 = './results/SNPE/maprf_100k_elife_prior01_run_9_round' + str(round_) + '_param9_nosvi_base.pkl'\n",
    "filename2 = './results/SNPE/maprf_100k_elife_prior01_run_9_round' + str(round_) + '_param9_nosvi_base_res.pkl'\n",
    "filename4 = './results/SNPE/maprf_100k_elife_prior01_run_9_round' + str(round_) + '_param9_nosvi_base_net_only.pkl'\n",
    "\n",
    "if algo == 'CDELFI' :\n",
    "\n",
    "    tmp = io.load_pkl(filename4)\n",
    "    \n",
    "    inf = infer.CDELFI(generator=g, obs=obs_stats, prior_norm=prior_norm, init_norm=init_norm,\n",
    "                     pilot_samples=pilot_samples, seed=seed, reg_lambda=reg_lambda, svi=svi,\n",
    "                     n_components=tmp['network.spec_dict']['n_components'], rank=rank,\n",
    "                     n_hiddens=n_hiddens, n_filters=n_filters, n_inputs = (1,d,d),\n",
    "                     filter_sizes=filter_sizes, pool_sizes=pool_sizes, n_inputs_hidden=n_inputs_hidden,verbose=True)    \n",
    "    inf.network.params_dict = tmp['network.params_dict']    \n",
    "    inf.round = round_\n",
    "    \n",
    "elif algo == 'SNPE' : \n",
    "    raise NotImplementedError\n",
    "    \n",
    "\n",
    "posterior = inf.predict(obs_stats)\n",
    "quick_plot(g, obs_stats, d, pars_true, posterior)\n",
    "\n",
    "# all pairwise marginals of fitted posterior\n",
    "fig, _ = plot_pdf(posterior, pdf2=g.prior, lims=[-3,3], gt=pars_true.reshape(-1), figsize=(16,16), resolution=100,\n",
    "                  labels_params=['bias', 'gain', 'logit phase', 'log freq', 'logit angle', 'log ratio', 'log width', 'xo', 'yo'])\n",
    "#fig.savefig('quadro_posterior_2rounds_CDELFI_200k_total_symmetry_breaking.pdf')\n",
    "\n",
    "# bunch of example posterior draw contours\n",
    "contour_draws(posterior, g, obs_stats, d)"
   ]
  },
  {
   "cell_type": "code",
   "execution_count": null,
   "metadata": {
    "collapsed": false
   },
   "outputs": [],
   "source": [
    "if algo == 'CDELFI':\n",
    "    \n",
    "    #run SNPE-A for one round\n",
    "    n_components2 = 1\n",
    "\n",
    "    log2, trn_data2, posteriors2 = inf.run(n_train=n_train, epochs=epochs, minibatch=minibatch, n_rounds=n_rounds,  \n",
    "                   lr_decay=lr_decay,n_components=n_components2, stndrd_comps=True)\n",
    "    \n",
    "elif algo == 'SNPE':\n",
    "\n",
    "    # run SNPE-B for one round\n",
    "    lr = 0.0001\n",
    "    log2, trn_data2, posteriors2 = inf.run(n_train=n_train, epochs=epochs, minibatch=minibatch, n_rounds=n_rounds,  \n",
    "                   lr=lr, lr_decay=lr_decay)\n",
    "\n",
    "    iws = trn_data2[-1][2]\n",
    "    iws = iws/iws.sum()\n",
    "    ESS = 1./ np.sum( iws ** 2)\n",
    "    print('ESS', ESS)\n",
    "\n",
    "    \n",
    "posterior = posteriors2[-1] \n",
    "posterior.ndim = posterior.xs[0].ndim\n",
    "\n",
    "quick_plot(g, obs_stats, d, pars_true, posterior, log2)\n",
    "\n",
    "# all pairwise marginals of fitted posterior\n",
    "fig, _ = plot_pdf(posterior, pdf2=g.prior, lims=[-3,3], gt=pars_true.reshape(-1), figsize=(16,16), resolution=100,\n",
    "                  labels_params=['bias', 'gain', 'logit phase', 'log freq', 'logit angle', 'log ratio', 'log width', 'xo', 'yo'])\n",
    "#fig.savefig('quadro_posterior_2rounds_CDELFI_200k_total_symmetry_breaking.pdf')\n",
    "\n",
    "# bunch of example posterior draw contours\n",
    "contour_draws(posterior, g, obs_stats, d)"
   ]
  },
  {
   "cell_type": "code",
   "execution_count": null,
   "metadata": {
    "collapsed": false
   },
   "outputs": [],
   "source": [
    "round_ = 2\n",
    "filename1 = './results/SNPE/maprf_100k_elife_prior01_run_9_round' + str(round_) + '_param9_nosvi_CDELFI.pkl'\n",
    "filename2 = './results/SNPE/maprf_100k_elife_prior01_run_9_round' + str(round_) + '_param9_nosvi_CDELFI_res.pkl'\n",
    "filename4 = './results/SNPE/maprf_100k_elife_prior01_run_9_round' + str(round_) + '_param9_nosvi_CDELFI_net_only.pkl'\n",
    "\n",
    "io.save_pkl((log2, trn_data2, posteriors2),filename1)\n",
    "net = inf.network\n",
    "data = {'network.spec_dict' : net.spec_dict, \n",
    "        'network.params_dict' : net.params_dict }\n",
    "io.save_pkl(data, filename4)"
   ]
  },
  {
   "cell_type": "markdown",
   "metadata": {},
   "source": [
    "# third round"
   ]
  },
  {
   "cell_type": "code",
   "execution_count": null,
   "metadata": {
    "collapsed": false
   },
   "outputs": [],
   "source": [
    "# load round #2 results and continue\n",
    "round_ = 2\n",
    "\n",
    "# careful here: rounds start with computing proposal from current MDN state and *previous* proposal\n",
    "filename1 = './results/SNPE/maprf_100k_elife_prior01_run_9_round' + str(round_-1) + '_param9_nosvi_CDELFI.pkl'\n",
    "_, _, proposal = io.load_pkl(filename1)\n",
    "proposal = proposal[-1] if isinstance(proposal, list) else proposal\n",
    "\n",
    "filename4 = './results/SNPE/maprf_100k_elife_prior01_run_9_round' + str(round_) + '_param9_nosvi_CDELFI_net_only.pkl'\n",
    "if algo == 'CDELFI' :\n",
    "\n",
    "    tmp = io.load_pkl(filename4)\n",
    "    \n",
    "    inf = infer.CDELFI(generator=g, obs=obs_stats, prior_norm=prior_norm, init_norm=init_norm,\n",
    "                     pilot_samples=pilot_samples, seed=seed, reg_lambda=reg_lambda, svi=svi,\n",
    "                     n_components=tmp['network.spec_dict']['n_components'], rank=rank,\n",
    "                     n_hiddens=n_hiddens, n_filters=n_filters, n_inputs = (1,d,d),\n",
    "                     filter_sizes=filter_sizes, pool_sizes=pool_sizes, n_inputs_hidden=n_inputs_hidden,verbose=True)    \n",
    "    inf.network.params_dict = tmp['network.params_dict']    \n",
    "    print('# proposal components:', proposal.n_components)\n",
    "    inf.generator.proposal = proposal.project_to_gaussian() if proposal.n_components == 1 else proposal    \n",
    "    inf.round = round_\n",
    "\n",
    "    \n",
    "elif algo == 'SNPE' : \n",
    "    raise NotImplementedError\n",
    "    "
   ]
  },
  {
   "cell_type": "code",
   "execution_count": null,
   "metadata": {
    "collapsed": false
   },
   "outputs": [],
   "source": [
    "if algo == 'CDELFI':\n",
    "    \n",
    "    #run SNPE-A for one round\n",
    "    n_components3 = 8\n",
    "    project_proposal=False\n",
    "    stndrd_comps=True\n",
    "    n_train=100000\n",
    "    epochs=50\n",
    "\n",
    "    log3, trn_data3, posteriors3 = inf.run(n_train=n_train, epochs=epochs, minibatch=minibatch, n_rounds=n_rounds,  \n",
    "                   lr_decay=lr_decay,n_components=n_components3, stndrd_comps=stndrd_comps, project_proposal=project_proposal)\n",
    "    \n",
    "elif algo == 'SNPE':\n",
    "\n",
    "    # run SNPE-B for one round\n",
    "    lr = 0.0001\n",
    "    log3, trn_data3, posteriors3 = inf.run(n_train=n_train, epochs=epochs, minibatch=minibatch, n_rounds=n_rounds,  \n",
    "                   lr_decay=lr_decay, lr =lr)\n",
    "\n",
    "    iws = trn_data3[-1][2]\n",
    "    iws = iws/iws.sum()\n",
    "    ESS = 1./ np.sum( iws ** 2)\n",
    "    print('ESS', ESS)\n",
    "\n",
    "posterior = posteriors3[-1] \n",
    "posterior.ndim = posterior.xs[0].ndim\n",
    "\n",
    "quick_plot(g, obs_stats, d, pars_true, posterior, log3)\n",
    "\n",
    "# all pairwise marginals of fitted posterior\n",
    "fig, _ = plot_pdf(posterior, pdf2=g.prior, lims=[-3,3], gt=pars_true.reshape(-1), figsize=(16,16), resolution=100,\n",
    "                  labels_params=['bias', 'gain', 'logit phase', 'log freq', 'logit angle', 'log ratio', 'log width', 'xo', 'yo'])\n",
    "\n",
    "# bunch of example posterior draw contours\n",
    "contour_draws(posterior, g, obs_stats, d)\n"
   ]
  },
  {
   "cell_type": "code",
   "execution_count": null,
   "metadata": {
    "collapsed": false
   },
   "outputs": [],
   "source": [
    "plot_prior = dd.TransformedNormal(m=g.prior.m, S = g.prior.S,\n",
    "                            flags=[0,0,2,1,2,1,1,2,2],\n",
    "                            lower=[0,0,0,0,0,0,0,-1,-1], upper=[0,0,np.pi,0,2*np.pi,0,0,1,1]) \n",
    "\n",
    "plot_post = dd.mixture.TransformedGaussianMixture.MoTG(\n",
    "                            ms= [posterior.xs[i].m for i in range(posterior.n_components)], \n",
    "                            Ss =[posterior.xs[i].S for i in range(posterior.n_components)],\n",
    "                            a = posterior.a, \n",
    "                            flags=[0,0,2,1,2,1,1,2,2],\n",
    "                            lower=[0,0,0,0,0,0,0,-1,-1], upper=[0,0,np.pi,0,2*np.pi,0,0,1,1]) \n",
    "\n",
    "lims = np.array([[-2, -2, .001, 0,       .001, 0, 0, -.999, -.999], \n",
    "                 [ 2,  2, .999*np.pi, 3, 1.999*np.pi, 3, 3, .999,   .999]]).T\n",
    "\n",
    "fig, _ = plot_pdf(plot_post, pdf2=plot_prior, lims=lims, gt=plot_post._f(pars_true.reshape(1,-1)).reshape(-1), \n",
    "                  figsize=(16,16), resolution=100,\n",
    "                  labels_params=['bias', 'gain', 'logit phase', 'log freq', 'logit angle', 'log ratio', 'log width', 'xo', 'yo'])\n",
    "\n",
    "#fig.savefig('quadro_posterior_run8_round3_comps4_0_5Hz_SNR12.pdf')"
   ]
  },
  {
   "cell_type": "code",
   "execution_count": null,
   "metadata": {
    "collapsed": false
   },
   "outputs": [],
   "source": [
    "lvls=[0.5, 0.5]\n",
    "p = posterior\n",
    "n_draws = 10 \n",
    "plt.figure(figsize=(6,6))\n",
    "plt.imshow(obs_stats[0,:-1].reshape(d,d), interpolation='None', cmap='gray')\n",
    "for i in range(n_draws):\n",
    "    rfm = g.model.params_to_rf(p.gen().reshape(-1))[0]\n",
    "    plt.contour(rfm, levels=[lvls[0]*rfm.min(), lvls[1]*rfm.max()])\n",
    "    #print(rfm.min(), rfm.max())\n",
    "    plt.hold(True)\n",
    "plt.title('RF posterior draws')\n",
    "\n",
    "rfm = g.model.params_to_rf(pars_true.reshape(-1))[0]\n",
    "plt.contour(rfm, levels=[lvls[0]*rfm.min(), lvls[1]*rfm.max()], colors='r')\n",
    "\n",
    "#plt.savefig('quadro_posterior_run8_round3_comps4_0_5Hz_SNR12_draws')\n",
    "plt.show()\n"
   ]
  },
  {
   "cell_type": "code",
   "execution_count": null,
   "metadata": {
    "collapsed": false
   },
   "outputs": [],
   "source": [
    "lvls=[0.5, 0.5]\n",
    "p = posterior\n",
    "n_draws = 10 \n",
    "plt.figure(figsize=(6,6))\n",
    "plt.imshow(obs_stats[0,:-1].reshape(d,d), interpolation='None', cmap='gray')\n",
    "plt.title('STA + GT')\n",
    "rfm = g.model.params_to_rf(pars_true.reshape(-1))[0]\n",
    "plt.contour(rfm, levels=[lvls[0]*rfm.min(), lvls[1]*rfm.max()], colors='r')\n",
    "\n",
    "#plt.savefig('quadro_posterior_run8_round3_comps4_0_5Hz_SNR12_STA')\n",
    "\n",
    "plt.show()"
   ]
  },
  {
   "cell_type": "code",
   "execution_count": null,
   "metadata": {
    "collapsed": true
   },
   "outputs": [],
   "source": [
    "round_ = 3\n",
    "filename1 = './results/SNPE/maprf_100k_elife_prior01_run_9_round' + str(round_) + '_param9_nosvi_CDELFI.pkl'\n",
    "filename2 = './results/SNPE/maprf_100k_elife_prior01_run_9_round' + str(round_) + '_param9_nosvi_CDELFI_res.pkl'\n",
    "filename4 = './results/SNPE/maprf_100k_elife_prior01_run_9_round' + str(round_) + '_param9_nosvi_CDELFI_net_only.pkl'\n",
    "\n",
    "io.save_pkl((log3, trn_data3, posteriors3),filename1)\n",
    "net = inf.network\n",
    "data = {'network.spec_dict' : net.spec_dict, \n",
    "        'network.params_dict' : net.params_dict }\n",
    "io.save_pkl(data, filename4)"
   ]
  },
  {
   "cell_type": "code",
   "execution_count": null,
   "metadata": {
    "collapsed": false
   },
   "outputs": [],
   "source": [
    "\n",
    "lims = [\n",
    "    [-0.5, 0],\n",
    "    [-1.5, 1.5],\n",
    "    [-4,4],\n",
    "    [0, 1],\n",
    "    [-3,3],\n",
    "    [-1.5,1.5],\n",
    "    [-1,2],\n",
    "    [0,0.7],\n",
    "    [0,1]\n",
    "]\n",
    "\n",
    "for i in range(len(posterior_unc.xs)):\n",
    "    post_comp = posterior_unc.xs[i]\n",
    "    fig, _ = plot_pdf(post_comp, pdf2=g.proposal, lims=lims, gt=pars_true.reshape(-1), figsize=(16,16), resolution=100, ticks=True,\n",
    "                      labels_params=['bias', 'gain', 'logit phase', 'log freq', 'logit angle', 'log ratio', 'log width', 'xo', 'yo'])\n"
   ]
  },
  {
   "cell_type": "markdown",
   "metadata": {},
   "source": [
    "# ... and fourth?"
   ]
  },
  {
   "cell_type": "code",
   "execution_count": null,
   "metadata": {
    "collapsed": false
   },
   "outputs": [],
   "source": [
    "#params_dict = inf.network.params_dict\n",
    "#params_dict.pop('means.mW2')\n",
    "#params_dict.pop('means.mb2')\n",
    "#params_dict.pop('means.mW3')\n",
    "#params_dict.pop('means.mb3')\n",
    "#\n",
    "#params_dict.pop('precisions.mW2')\n",
    "#params_dict.pop('precisions.mb2')\n",
    "#params_dict.pop('precisions.mW3')\n",
    "#params_dict.pop('precisions.mb3')\n",
    "#\n",
    "#params_dict['weights.mW'] = params_dict['weights.mW'][:,:2]\n",
    "#params_dict['weights.mb'] = params_dict['weights.mb'][  :2]\n",
    "#\n",
    "#inf = infer.CDELFI(generator=g, obs=obs_stats, prior_norm=prior_norm, init_norm=init_norm,\n",
    "#                 pilot_samples=pilot_samples, seed=seed, reg_lambda=reg_lambda, svi=svi,\n",
    "#                 n_components=2, rank=rank,\n",
    "#                 n_hiddens=n_hiddens, n_filters=n_filters, n_inputs = (1,d,d),\n",
    "#                 filter_sizes=filter_sizes, pool_sizes=pool_sizes, n_inputs_hidden=n_inputs_hidden,verbose=True)\n",
    "#\n",
    "#inf.network.params_dict = params_dict\n",
    "#inf.generator.proposal = inf.predict(obs_stats)"
   ]
  },
  {
   "cell_type": "code",
   "execution_count": null,
   "metadata": {
    "collapsed": false
   },
   "outputs": [],
   "source": [
    "\n",
    "if algo == 'CDELFI':\n",
    "    \n",
    "    #run SNPE-A for one round\n",
    "    n_components4 = 4\n",
    "    project_proposal=False\n",
    "    stndrd_comps=False\n",
    "    n_train=100000\n",
    "    epochs=20\n",
    "    \n",
    "    log4, trn_data4, posteriors4 = inf.run(n_train=n_train, epochs=epochs, minibatch=minibatch, n_rounds=n_rounds,  \n",
    "                   lr_decay=lr_decay,n_components=n_components4, stndrd_comps=stndrd_comps, project_proposal=project_proposal)\n",
    "    \n",
    "\n",
    "elif algo == 'SNPE':\n",
    "\n",
    "    # run SNPE-B for one round\n",
    "    lr = 0.0001\n",
    "    log4, trn_data4, posteriors4 = inf.run(n_train=n_train, epochs=epochs, minibatch=minibatch, n_rounds=n_rounds,  \n",
    "                   lr_decay=lr_decay, lr =lr)\n",
    "\n",
    "    iws = trn_data4[-1][2]\n",
    "    iws = iws/iws.sum()\n",
    "    ESS = 1./ np.sum( iws ** 2)\n",
    "    print('ESS', ESS)\n",
    "\n",
    "posterior = posteriors4[-1] \n",
    "posterior.ndim = posterior.xs[0].ndim\n",
    "\n",
    "quick_plot(g, obs_stats, d, pars_true, posterior, log4)\n",
    "\n",
    "# all pairwise marginals of fitted posterior\n",
    "fig, _ = plot_pdf(posterior, pdf2=g.prior, lims=[-3,3], gt=pars_true.reshape(-1), figsize=(16,16), resolution=100,\n",
    "                  labels_params=['bias', 'gain', 'logit phase', 'log freq', 'logit angle', 'log ratio', 'log width', 'xo', 'yo'])\n",
    "\n",
    "# bunch of example posterior draw contours\n",
    "contour_draws(posterior, g, obs_stats, d)\n"
   ]
  },
  {
   "cell_type": "code",
   "execution_count": null,
   "metadata": {
    "collapsed": true
   },
   "outputs": [],
   "source": [
    "round_ = 4\n",
    "filename1 = './results/SNPE/maprf_100k_elife_prior01_run_9_round' + str(round_) + '_param9_nosvi_CDELFI.pkl'\n",
    "filename2 = './results/SNPE/maprf_100k_elife_prior01_run_9_round' + str(round_) + '_param9_nosvi_CDELFI_res.pkl'\n",
    "filename4 = './results/SNPE/maprf_100k_elife_prior01_run_9_round' + str(round_) + '_param9_nosvi_CDELFI_net_only.pkl'\n",
    "\n",
    "io.save_pkl((log4, trn_data4, posteriors4),filename1)\n",
    "net = inf.network\n",
    "data = {'network.spec_dict' : net.spec_dict, \n",
    "        'network.params_dict' : net.params_dict }\n",
    "io.save_pkl(data, filename4)"
   ]
  },
  {
   "cell_type": "code",
   "execution_count": null,
   "metadata": {
    "collapsed": true
   },
   "outputs": [],
   "source": []
  }
 ],
 "metadata": {
  "kernelspec": {
   "display_name": "Python 3",
   "language": "python",
   "name": "python3"
  },
  "language_info": {
   "codemirror_mode": {
    "name": "ipython",
    "version": 3
   },
   "file_extension": ".py",
   "mimetype": "text/x-python",
   "name": "python",
   "nbconvert_exporter": "python",
   "pygments_lexer": "ipython3",
   "version": "3.5.1"
  }
 },
 "nbformat": 4,
 "nbformat_minor": 1
}
