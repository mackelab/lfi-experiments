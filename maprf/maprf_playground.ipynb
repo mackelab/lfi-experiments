{
 "cells": [
  {
   "cell_type": "markdown",
   "metadata": {
    "collapsed": true
   },
   "source": [
    "# SNPE & RF\n",
    "\n",
    "learning receptive field parameters from inputs (white-noise videos) and outputs (spike trains) of linear-nonlinear neuron models with parameterized linear filters"
   ]
  },
  {
   "cell_type": "code",
   "execution_count": null,
   "metadata": {},
   "outputs": [],
   "source": [
    "%%capture\n",
    "%matplotlib inline\n",
    "\n",
    "import matplotlib.pyplot as plt\n",
    "import numpy as np\n",
    "\n",
    "import delfi.distribution as dd\n",
    "import delfi.generator as dg\n",
    "import delfi.inference as infer\n",
    "import delfi.utils.io as io\n",
    "from delfi.utils.viz import plot_pdf\n",
    "\n",
    "from lfimodels.maprf.utils import get_maprf_prior_01, setup_sim, setup_sampler, get_data_o, quick_plot, contour_draws\n",
    "\n",
    "from lfimodels.maprf.maprf import maprf as model\n",
    "from lfimodels.maprf.maprfStats import maprfStats"
   ]
  },
  {
   "cell_type": "code",
   "execution_count": null,
   "metadata": {
    "scrolled": false
   },
   "outputs": [],
   "source": [
    "seed = 42\n",
    "g, prior, d = setup_sim(seed, path='.')"
   ]
  },
  {
   "cell_type": "code",
   "execution_count": null,
   "metadata": {},
   "outputs": [],
   "source": [
    "## training data and true parameters, data, statistics\n",
    "\n",
    "idx_cell = 3# load toy cell number i \n",
    "\n",
    "filename = './results/toy_cells/toy_cell_' + str(idx_cell) + '.npy'\n",
    "obs_stats, pars_true = get_data_o(filename, g, seed)\n",
    "\n",
    "rf = g.model.params_to_rf(pars_true)[0]#[10:31, 10:31]\n",
    "\n",
    "plt.imshow(rf, interpolation='None')\n",
    "plt.show()\n",
    "\n",
    "np.sum(rf**2) / pars_true[1]**2"
   ]
  },
  {
   "cell_type": "code",
   "execution_count": null,
   "metadata": {},
   "outputs": [],
   "source": [
    "contour_draws(g.prior, g, obs_stats, d=d)"
   ]
  },
  {
   "cell_type": "code",
   "execution_count": null,
   "metadata": {},
   "outputs": [],
   "source": [
    "# network architecture: 8 layer network [4x conv, 3x fully conn., 1x MoG], 20k parameters in total \n",
    "\n",
    "filter_sizes=[3,3,3,3,2]   # 5 conv ReLU layers\n",
    "n_filters=(16,16,32,32,32) # 16 to 32 filters\n",
    "pool_sizes=[1,2,2,2,2]     # \n",
    "n_hiddens=[50,50,50]     # 3 fully connected layers\n",
    "\n",
    "# N = 100k per round\n",
    "\n",
    "n_train=100000\n",
    "\n",
    "# single component (posterior at most STAs is well-approximated by single Gaussian - we also want to run more SNPE-A)\n",
    "\n",
    "n_components=1\n",
    "\n",
    "# single rounds (first round is always'amortized' and can be used with any other STA covered by the prior)\n",
    "\n",
    "n_rounds=1\n",
    "\n",
    "# new feature for CNN architectures: passing a value directly to the hidden layers (bypassing the conv layers).\n",
    "# In this case, we pass the number of spikes (single number) directly, which allows to normalize the STAs \n",
    "# and hence help out the conv layers. Without that extra input, we couldn't recover the RF gain anymore. \n",
    "n_inputs_hidden = 1\n",
    "\n",
    "# some learning-schedule parameters\n",
    "lr_decay = 0.99\n",
    "epochs=10\n",
    "minibatch=50\n",
    "\n",
    "svi=False          # large N should make this do nothing anyways\n",
    "reg_lambda=0.      # just to make doubly sure SVI is switched off...\n",
    "\n",
    "pilot_samples=1000 # z-scoring only applies to extra inputs (here: firing rate) directly fed to fully connected layers\n",
    "\n",
    "prior_norm = True  # doesn't hurt. \n",
    "init_norm = False  # didn't yet figure how to best normalize initialization through conv- and ReLU- layers\n",
    "\n",
    "inf = infer.CDELFI(generator=g, obs=obs_stats, prior_norm=prior_norm, init_norm=init_norm,\n",
    "                 pilot_samples=pilot_samples, seed=seed, reg_lambda=reg_lambda, svi=svi,\n",
    "                 n_components=1, n_hiddens=n_hiddens, n_filters=n_filters, n_inputs = (1,d,d),\n",
    "                 filter_sizes=filter_sizes, pool_sizes=pool_sizes, n_inputs_hidden=n_inputs_hidden,verbose=True)\n",
    "\n",
    "# print parameter numbers per layer (just weights, not biases)\n",
    "def get_shape(i):\n",
    "    return inf.network.aps[i].get_value().shape\n",
    "print([get_shape(i) for i in range(1,17,2)])\n",
    "print([np.prod(get_shape(i)) for i in range(1,17,2)])\n",
    "\n",
    "# run SNPE-A for one round\n",
    "log, trn_data, posteriors = inf.run(n_train=n_train, epochs=epochs, minibatch=minibatch, n_rounds=n_rounds,  \n",
    "               lr_decay=lr_decay,n_components=n_components)\n"
   ]
  },
  {
   "cell_type": "code",
   "execution_count": null,
   "metadata": {
    "scrolled": false
   },
   "outputs": [],
   "source": [
    "posterior = inf.predict(obs_stats)\n",
    "posterior.ndim = posterior.xs[0].ndim\n",
    "\n",
    "quick_plot(g, obs_stats, d, pars_true, posterior, log)\n",
    "\n",
    "# all pairwise marginals of fitted posterior\n",
    "fig, _ = plot_pdf(posterior, pdf2=g.prior, lims=[-3,3], gt=pars_true.reshape(-1), figsize=(16,16), resolution=100,\n",
    "                  labels_params=['bias', 'log gain', 'logit phase', 'log freq', 'logit angle', 'log ratio', 'log width', 'xo', 'yo'])\n",
    "fig.savefig('res.pdf')\n",
    "\n",
    "# bunch of example posterior draw contours\n",
    "contour_draws(posterior, g, obs_stats, d)"
   ]
  },
  {
   "cell_type": "code",
   "execution_count": null,
   "metadata": {},
   "outputs": [],
   "source": [
    "n_draws = 10\n",
    "plt.figure(figsize=(6,6))\n",
    "plt.imshow(np.hstack((\n",
    "    obs_stats[0,:-1].reshape(d,d),\n",
    "    g.model.params_to_rf(pars_true.reshape(-1))[0])),\n",
    "    interpolation='None', cmap='gray')\n",
    "lvls=[0.5, 0.5]\n",
    "for i in range(n_draws):\n",
    "    rfm = g.model.params_to_rf(posterior.gen(1).reshape(-1))[0]\n",
    "    plt.contour(rfm, levels=[lvls[0]*rfm.min(), lvls[1]*rfm.max()])\n",
    "    #print(rfm.min(), rfm.max())\n",
    "    plt.hold(True)\n",
    "plt.title('RF posterior draws')\n",
    "plt.savefig('posterior_location_round1_example.pdf')\n",
    "plt.show()"
   ]
  },
  {
   "cell_type": "code",
   "execution_count": null,
   "metadata": {},
   "outputs": [],
   "source": [
    "log2, trn_data2, posteriors2 = inf.run(n_train=n_train, epochs=epochs, minibatch=minibatch, n_rounds=n_rounds,  \n",
    "               lr_decay=lr_decay,n_components=n_components)"
   ]
  },
  {
   "cell_type": "code",
   "execution_count": null,
   "metadata": {},
   "outputs": [],
   "source": [
    "posterior = posteriors2[-1] \n",
    "posterior.ndim = posterior.xs[0].ndim\n",
    "\n",
    "quick_plot(g, obs_stats, d, pars_true, posterior, log2)\n",
    "\n",
    "# all pairwise marginals of fitted posterior\n",
    "fig, _ = plot_pdf(posterior, pdf2=g.prior, lims=[-3,3], gt=pars_true.reshape(-1), figsize=(16,16), resolution=100,\n",
    "                  labels_params=['bias', 'log gain', 'logit phase', 'log freq', 'logit angle', 'log ratio', 'log width'])\n",
    "fig.savefig('res.pdf')\n",
    "\n",
    "# bunch of example posterior draw contours\n",
    "contour_draws(posterior, g, obs_stats, d)"
   ]
  },
  {
   "cell_type": "markdown",
   "metadata": {},
   "source": [
    "# test toy cells (check for 'amortization')"
   ]
  },
  {
   "cell_type": "markdown",
   "metadata": {},
   "source": [
    "# 0.5 Hz, SNR -15"
   ]
  },
  {
   "cell_type": "code",
   "execution_count": null,
   "metadata": {},
   "outputs": [],
   "source": [
    "a,b = 0.504180511342426, -0.8202461745687 # gain and phase together define firing rate and SNR\n",
    "\n",
    "for j in range(3):\n",
    "    \n",
    "    print('\\n')\n",
    "    print('cell #' + str(j+1))\n",
    "    print('\\n')\n",
    "    \n",
    "    params_dict_test = np.load('./results/toy_cells/toy_cell_' + str(j+1) + '.npy')[()]\n",
    "    \n",
    "    m.params_dict = params_dict_test.copy()\n",
    "    \n",
    "    params_dict_test['kernel']['gain'] = a\n",
    "    params_dict_test['glm']['bias'] = b\n",
    "    \n",
    "    pars_test = m.read_params_buffer()\n",
    "    stats = s.calc([m.gen_single(pars_test)])\n",
    "\n",
    "    post_test = inf.predict_uncorrected(s.calc([m.gen_single(pars_test)]))\n",
    "\n",
    "    fig, _ = plot_pdf(post_test, pdf2=p, lims=[-3,3], gt=pars_test.reshape(-1), figsize=(12,12), resolution=100,\n",
    "                  labels_params=['bias', 'log gain', 'logit phase', 'log freq', 'logit angle', 'log ratio', 'log width'])\n",
    "\n",
    "\n",
    "    plt.figure(figsize=(6,6))\n",
    "    plt.subplot(2,3,1)\n",
    "    plt.imshow(m.params_to_rf(pars_test)[0], interpolation='None')\n",
    "    plt.subplot(2,3,2)\n",
    "    plt.imshow(m.params_to_rf(post_test.xs[0].m.reshape(-1))[0], interpolation='None')\n",
    "    plt.subplot(2,3,3)\n",
    "    plt.imshow(stats[0,:-1].reshape(d,d), interpolation='None')\n",
    "    \n",
    "    for i in range(8):\n",
    "        plt.subplot(4,4,9+i)\n",
    "        plt.imshow(m.params_to_rf(post_test.gen().reshape(-1))[0], interpolation='None')\n",
    "\n",
    "    plt.show()\n"
   ]
  },
  {
   "cell_type": "markdown",
   "metadata": {},
   "source": [
    "# 2 Hz, SNR -15"
   ]
  },
  {
   "cell_type": "code",
   "execution_count": null,
   "metadata": {},
   "outputs": [],
   "source": [
    "a,b = 0.422120643630379, 0.604054261670482 # gain and phase together define firing rate and SNR\n",
    "\n",
    "for j in range(3):\n",
    "    \n",
    "    print('\\n')\n",
    "    print('cell #' + str(j+1))\n",
    "    print('\\n')\n",
    "    \n",
    "    params_dict_test = np.load('./results/toy_cells/toy_cell_' + str(j+1) + '.npy')[()]\n",
    "    \n",
    "    m.params_dict = params_dict_test.copy()\n",
    "    \n",
    "    params_dict_test['kernel']['gain'] = a\n",
    "    params_dict_test['glm']['bias'] = b\n",
    "    \n",
    "    pars_test = m.read_params_buffer()\n",
    "    stats = s.calc([m.gen_single(pars_test)])\n",
    "\n",
    "    post_test = inf.predict_uncorrected(s.calc([m.gen_single(pars_test)]))\n",
    "\n",
    "    fig, _ = plot_pdf(post_test, pdf2=p, lims=[-3,3], gt=pars_test.reshape(-1), figsize=(12,12), resolution=100,\n",
    "                  labels_params=['bias', 'log gain', 'logit phase', 'log freq', 'logit angle', 'log ratio', 'log width'])\n",
    "\n",
    "\n",
    "    plt.figure(figsize=(6,6))\n",
    "    plt.subplot(2,3,1)\n",
    "    plt.imshow(m.params_to_rf(pars_test)[0], interpolation='None')\n",
    "    plt.subplot(2,3,2)\n",
    "    plt.imshow(m.params_to_rf(post_test.xs[0].m.reshape(-1))[0], interpolation='None')\n",
    "    plt.subplot(2,3,3)\n",
    "    plt.imshow(stats[0,:-1].reshape(d,d), interpolation='None')\n",
    "    \n",
    "    for i in range(8):\n",
    "        plt.subplot(4,4,9+i)\n",
    "        plt.imshow(m.params_to_rf(post_test.gen().reshape(-1))[0], interpolation='None')\n",
    "\n",
    "\n",
    "    plt.show()\n"
   ]
  },
  {
   "cell_type": "markdown",
   "metadata": {},
   "source": [
    "# 5 Hz, SNR -15"
   ]
  },
  {
   "cell_type": "code",
   "execution_count": null,
   "metadata": {},
   "outputs": [],
   "source": [
    "a,b = 0.357703095858336, 1.54546216004078 # gain and phase together define firing rate and SNR\n",
    "\n",
    "for j in range(3):\n",
    "    \n",
    "    print('\\n')\n",
    "    print('cell #' + str(j+1))\n",
    "    print('\\n')\n",
    "    \n",
    "    params_dict_test = np.load('./results/toy_cells/toy_cell_' + str(j+1) + '.npy')[()]\n",
    "    \n",
    "    m.params_dict = params_dict_test.copy()\n",
    "    \n",
    "    params_dict_test['kernel']['gain'] = a\n",
    "    params_dict_test['glm']['bias'] = b\n",
    "    \n",
    "    pars_test = m.read_params_buffer()\n",
    "    stats = s.calc([m.gen_single(pars_test)])\n",
    "\n",
    "    post_test = inf.predict_uncorrected(s.calc([m.gen_single(pars_test)]))\n",
    "\n",
    "    fig, _ = plot_pdf(post_test, pdf2=p, lims=[-3,3], gt=pars_test.reshape(-1), figsize=(12,12), resolution=100,\n",
    "                  labels_params=['bias', 'log gain', 'logit phase', 'log freq', 'logit angle', 'log ratio', 'log width'])\n",
    "\n",
    "\n",
    "    plt.figure(figsize=(6,6))\n",
    "    plt.subplot(2,3,1)\n",
    "    plt.imshow(m.params_to_rf(pars_test)[0], interpolation='None')\n",
    "    plt.subplot(2,3,2)\n",
    "    plt.imshow(m.params_to_rf(post_test.xs[0].m.reshape(-1))[0], interpolation='None')\n",
    "    plt.subplot(2,3,3)\n",
    "    plt.imshow(stats[0,:-1].reshape(d,d), interpolation='None')\n",
    "    \n",
    "    for i in range(8):\n",
    "        plt.subplot(4,4,9+i)\n",
    "        plt.imshow(m.params_to_rf(post_test.gen().reshape(-1))[0], interpolation='None')\n",
    "\n",
    "\n",
    "    plt.show()\n"
   ]
  },
  {
   "cell_type": "markdown",
   "metadata": {},
   "source": [
    "# 1 Hz , SNR $\\sim$ 1/8"
   ]
  },
  {
   "cell_type": "code",
   "execution_count": null,
   "metadata": {},
   "outputs": [],
   "source": [
    "a,b = 0.852551611364445, -0.363422125020056 # gain and phase together define firing rate and SNR\n",
    "\n",
    "for j in range(3):\n",
    "    \n",
    "    print('\\n')\n",
    "    print('cell #' + str(j+1))\n",
    "    print('\\n')\n",
    "    \n",
    "    params_dict_test = np.load('./results/toy_cells/toy_cell_' + str(j+1) + '.npy')[()]\n",
    "    \n",
    "    m.params_dict = params_dict_test.copy()\n",
    "    \n",
    "    params_dict_test['kernel']['gain'] = a\n",
    "    params_dict_test['glm']['bias'] = b\n",
    "    \n",
    "    pars_test = m.read_params_buffer()\n",
    "    stats = s.calc([m.gen_single(pars_test)])\n",
    "\n",
    "    post_test = inf.predict_uncorrected(s.calc([m.gen_single(pars_test)]))\n",
    "\n",
    "    fig, _ = plot_pdf(post_test, pdf2=p, lims=[-3,3], gt=pars_test.reshape(-1), figsize=(12,12), resolution=100,\n",
    "                  labels_params=['bias', 'log gain', 'logit phase', 'log freq', 'logit angle', 'log ratio', 'log width'])\n",
    "\n",
    "\n",
    "    plt.figure(figsize=(6,6))\n",
    "    plt.subplot(2,3,1)\n",
    "    plt.imshow(m.params_to_rf(pars_test)[0], interpolation='None')\n",
    "    plt.subplot(2,3,2)\n",
    "    plt.imshow(m.params_to_rf(post_test.xs[0].m.reshape(-1))[0], interpolation='None')\n",
    "    plt.subplot(2,3,3)\n",
    "    plt.imshow(stats[0,:-1].reshape(d,d), interpolation='None')\n",
    "    \n",
    "    for i in range(8):\n",
    "        plt.subplot(4,4,9+i)\n",
    "        plt.imshow(m.params_to_rf(post_test.gen().reshape(-1))[0], interpolation='None')\n",
    "\n",
    "\n",
    "    plt.show()\n"
   ]
  },
  {
   "cell_type": "markdown",
   "metadata": {},
   "source": [
    "# save & load"
   ]
  },
  {
   "cell_type": "code",
   "execution_count": null,
   "metadata": {},
   "outputs": [],
   "source": [
    "import delfi.utils.io as io\n",
    "\n",
    "try: \n",
    "    inf.observables\n",
    "except:\n",
    "    inf.observables = []\n",
    "\n",
    "filename1 = './results/SNPE/maprf_100k_amortized_prior01_run_1_round1_param9_nosvi_base.pkl'\n",
    "filename2 = './results/SNPE/maprf_100k_amortized_prior01_run_1_round1_param9_nosvi_base_res.pkl'\n",
    "filename3 = './results/SNPE/maprf_100k_amortized_prior01_run_1_round1_param9_nosvi_base_conf.pkl'\n",
    "filename4 = './results/SNPE/maprf_100k_amortized_prior01_run_1_round1_param9_nosvi_base_net_only.pkl'\n",
    "\n",
    "io.save_pkl((log, trn_data, posterior),filename1)\n",
    "np.save(filename3, params_dict_true)\n",
    "io.save_pkl(inf.network, filename4)\n",
    "inf.generator.model = None\n",
    "io.save(inf, filename2)\n"
   ]
  },
  {
   "cell_type": "code",
   "execution_count": null,
   "metadata": {},
   "outputs": [],
   "source": [
    "T = np.load('posterior_samples_20.npz')['arr_0'].tolist()['T']\n",
    "samples = np.hstack([np.atleast_2d(T[key].T).T for key in ['log_A', 'logit_φ', 'log_f','logit_θ','log_γ','log_b']])\n",
    "\n",
    "plot_pdf(posterior, pdf2=p, lims=[-3,3], gt=pars_true.reshape(-1), figsize=(16,16), resolution=100, samples=samples.T,\n",
    "         ticks=True, labels_params=['log gain', 'logit phase', 'log freq', 'logit angle', 'log ratio', 'log width']);\n"
   ]
  },
  {
   "cell_type": "markdown",
   "metadata": {},
   "source": [
    "# check prior"
   ]
  },
  {
   "cell_type": "code",
   "execution_count": null,
   "metadata": {},
   "outputs": [],
   "source": [
    "T = np.load('prior_samples.npz')['arr_0'].tolist()['T']\n",
    "samples = np.hstack([np.atleast_2d(T[key].T).T for key in ['log_A', 'logit_φ', 'log_f','logit_θ','log_γ','log_b']])\n",
    "\n",
    "plot_pdf(p, lims=[-3,3], gt=pars_true.reshape(-1), figsize=(16,16), resolution=100, samples=samples.T,\n",
    "         ticks=True, labels_params=['log_A', 'logit_φ', 'log_f', 'logit_θ', 'log ratio', 'log width']);\n",
    "\n",
    "\n",
    "T = np.load('prior_samples.npz')['arr_0'].tolist()['T']\n",
    "samples = np.hstack([np.atleast_2d(T[key].T).T for key in ['gain', 'phase', 'freq','angle','ratio','width']])\n",
    "\n",
    "ks = params_dict_true['kernel']['s']\n",
    "pars_raw = np.array([ ks['gain'], ks['phase'], ks['freq'], ks['angle'], ks['ratio'], ks['width'] ])\n",
    "\n",
    "plot_pdf(p, lims=[-3,3], gt=pars_raw.reshape(-1), figsize=(16,16), resolution=100, samples=samples.T,\n",
    "         ticks=True, labels_params=['gain', 'phase', 'freq', 'angle', 'ratio', 'width']);\n"
   ]
  },
  {
   "cell_type": "markdown",
   "metadata": {},
   "source": [
    "# compare with maprf sampling"
   ]
  },
  {
   "cell_type": "code",
   "execution_count": null,
   "metadata": {
    "scrolled": false
   },
   "outputs": [],
   "source": [
    "filename = './results/toy_cells/toy_cell_' + str(idx_cell) + '.npy'\n",
    "params_dict_true = np.load(filename)[()]\n",
    "\n",
    "m = g.model\n",
    "m.params_dict = params_dict_true.copy()\n",
    "m.rng = np.random.RandomState(seed=seed)\n",
    "\n",
    "pars_true, obs = m.read_params_buffer(), m.gen_single()\n",
    "obs_stats = g.summary.calc([obs])"
   ]
  },
  {
   "cell_type": "code",
   "execution_count": null,
   "metadata": {},
   "outputs": [],
   "source": [
    "inference, data = setup_sampler(prior, obs, d, g, params_dict=params_dict_true, \n",
    "                          fix_position=False, parametrization='logit_φ')"
   ]
  },
  {
   "cell_type": "code",
   "execution_count": null,
   "metadata": {},
   "outputs": [],
   "source": [
    "n_samples = 10000\n",
    "\n",
    "T, L = inference.sample(n_samples)\n",
    "T = {k.name: t for k, t in T.items()}\n",
    "\n",
    "x,y = T['xo'],T['yo']\n",
    "\n",
    "plt.figure(figsize=(15, 4))\n",
    "plt.subplot(121)\n",
    "plt.plot(x[500:])\n",
    "\n",
    "plt.subplot(122)\n",
    "plt.hist(x[500:], alpha=0.5, normed=True)\n",
    "plt.show()\n",
    "\n",
    "plt.figure(figsize=(15, 4))\n",
    "plt.subplot(121)\n",
    "plt.plot(x[500:], y[500:], '.k', alpha=0.1)\n",
    "plt.show()\n"
   ]
  },
  {
   "cell_type": "code",
   "execution_count": null,
   "metadata": {},
   "outputs": [],
   "source": [
    "inference.sample_biases(data, T, m.dt)\n",
    "\n",
    "plt.figure(figsize=(12,5))\n",
    "plt.subplot(2,1,1)\n",
    "plt.plot(T['bias'])\n",
    "print('mean: ' + str(T['bias'].mean()) + ', var: ' + str(T['bias'].var()))\n",
    "plt.subplot(2,1,2)\n",
    "plt.plot(T['λo'])\n",
    "print('mean: ' + str(T['λo'].mean()) + ', var: ' + str(T['λo'].var()))\n",
    "plt.show()"
   ]
  },
  {
   "cell_type": "code",
   "execution_count": null,
   "metadata": {},
   "outputs": [],
   "source": [
    "\n",
    "plt.figure(figsize=(16,12))\n",
    "i = 1\n",
    "for t in np.sort(np.random.choice(T['gain'].shape[0], 12, replace=False)):\n",
    "    params_dict = {'kernel' : {'s' : {}}, 'glm': {}}\n",
    "    params_dict['glm']['bias'] = T['bias'][t]\n",
    "    params_dict['kernel']['s']['phase'] = T['phase'][t]\n",
    "    params_dict['kernel']['s']['angle'] = T['angle'][t] \n",
    "    params_dict['kernel']['s']['freq']  = T['freq'][t]\n",
    "    params_dict['kernel']['s']['ratio'] = T['ratio'][t]\n",
    "    params_dict['kernel']['s']['width'] = T['width'][t]\n",
    "    params_dict['kernel']['s']['gain'] = T['gain'][t]\n",
    "\n",
    "    ks = m._eval_ks(bias=-0.5, \n",
    "                             angle=params_dict['kernel']['s']['angle'],\n",
    "                             freq=params_dict['kernel']['s']['freq'],\n",
    "                             gain=params_dict['kernel']['s']['gain'],\n",
    "                             phase=params_dict['kernel']['s']['phase'],\n",
    "                             ratio=params_dict['kernel']['s']['ratio'],\n",
    "                             width=params_dict['kernel']['s']['width'])\n",
    "    \n",
    "    plt.subplot(3,4,i)\n",
    "    plt.imshow(np.hstack((ks.reshape(d,d), m.params_to_rf(pars_true)[0])), interpolation='None')\n",
    "    plt.title('t =' + str(t))\n",
    "    \n",
    "    print('loc:' , [T['xo'][t], T['yo'][t]])    \n",
    "    i += 1\n",
    "plt.show()\n",
    "\n"
   ]
  },
  {
   "cell_type": "code",
   "execution_count": null,
   "metadata": {},
   "outputs": [],
   "source": [
    "\n",
    "burnin = 50\n",
    "\n",
    "for key in ['bias', 'λo', \n",
    "            'gain', 'log_A', 'phase', 'logit_φ',\n",
    "            'angle', 'logit_θ', 'freq', 'log_f',\n",
    "            'ratio', 'width', 'log_γ', 'log_b', \n",
    "            ]:\n",
    "    \n",
    "    if key in T.keys():\n",
    "        x = T[key][burnin:]\n",
    "        plt.hist(x, bins=np.linspace(x.min(), x.max(), 20), alpha=0.5, normed=True)\n",
    "        plt.title(key)\n",
    "        plt.show()\n",
    "        print('mean:', x.mean())\n",
    "        print('var:', x.var())\n",
    "        "
   ]
  },
  {
   "cell_type": "code",
   "execution_count": null,
   "metadata": {},
   "outputs": [],
   "source": [
    "samples = np.hstack([np.atleast_2d(T[key].T).T for key in ['bias', 'gain', 'phase', 'freq','angle','ratio','width']])\n",
    "\n",
    "pars_raw = np.array([ params_dict_true['glm']['bias'],\n",
    "                      params_dict_true['kernel']['s']['gain'],\n",
    "                      params_dict_true['kernel']['s']['phase'],\n",
    "                      params_dict_true['kernel']['s']['freq'],\n",
    "                      params_dict_true['kernel']['s']['angle'],\n",
    "                      params_dict_true['kernel']['s']['ratio'],\n",
    "                      params_dict_true['kernel']['s']['width'] ])\n",
    "\n",
    "plot_pdf(g.prior, lims=[-3,3], gt=pars_raw.reshape(-1), figsize=(16,16), resolution=100, samples=samples.T,\n",
    "         ticks=True, labels_params=['bias', 'gain', 'phase', 'freq', 'angle', 'ratio', 'width']);\n"
   ]
  },
  {
   "cell_type": "code",
   "execution_count": null,
   "metadata": {},
   "outputs": [],
   "source": [
    "#T = np.load('posterior_samples_20.npz')['arr_0'].tolist()['T']\n",
    "samples = np.hstack([np.atleast_2d(T[key].T).T for key in ['log_A', 'logit_φ', 'log_f','logit_θ','log_γ','log_b']])\n",
    "\n",
    "plot_pdf(p, lims=[-3,3], gt=pars_true.reshape(-1), figsize=(16,16), resolution=100, samples=samples.T,\n",
    "         ticks=True, labels_params=['log gain', 'logit phase', 'log freq', 'logit angle', 'log ratio', 'log width']);\n"
   ]
  },
  {
   "cell_type": "code",
   "execution_count": null,
   "metadata": {},
   "outputs": [],
   "source": [
    "plt.plot(samples)\n",
    "plt.show()"
   ]
  },
  {
   "cell_type": "code",
   "execution_count": null,
   "metadata": {},
   "outputs": [],
   "source": []
  }
 ],
 "metadata": {
  "kernelspec": {
   "display_name": "Python 3",
   "language": "python",
   "name": "python3"
  },
  "language_info": {
   "codemirror_mode": {
    "name": "ipython",
    "version": 3
   },
   "file_extension": ".py",
   "mimetype": "text/x-python",
   "name": "python",
   "nbconvert_exporter": "python",
   "pygments_lexer": "ipython3",
   "version": "3.5.1"
  }
 },
 "nbformat": 4,
 "nbformat_minor": 1
}
