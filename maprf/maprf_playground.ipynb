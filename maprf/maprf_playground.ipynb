{
 "cells": [
  {
   "cell_type": "markdown",
   "metadata": {},
   "source": [
    "# deep identity mapping\n",
    "\n",
    "learning receptive field parameters from inputs (white-noise videos) and outputs (spike trains) of linear-nonlinear neuron models with parameterized linear filters\n",
    "\n",
    "## simplistic setup: \n",
    "- model parameters $\\theta$ are the full spatiotemporal kernel (of size d*d, with d < 10), \n",
    "- summary statistic $x_0$ is spike-triggered average\n",
    "- for sufficiently long simulations, posterior mean is just data summary statistic $x_0$. \n",
    "- purely spatial kernel for now (kernel-size in temporal dimentions fixed to 1)  \n",
    "- *very* basic spiking non-linearity and noise model: threshold crossing, no spiking noise\n"
   ]
  },
  {
   "cell_type": "code",
   "execution_count": null,
   "metadata": {
    "collapsed": false,
    "scrolled": false
   },
   "outputs": [],
   "source": [
    "%%capture\n",
    "# notebook currently depends on code found only in feature_maprf-branch of lfi_models !\n",
    "\n",
    "import delfi.distribution as dd\n",
    "import delfi.generator as dg\n",
    "import delfi.inference as infer\n",
    "import delfi.utils.io as io\n",
    "import delfi.summarystats as ds\n",
    "import matplotlib.pyplot as plt\n",
    "import numpy as np\n",
    "import lfimodels.maprf.utils as utils\n",
    "\n",
    "from lfimodels.maprf.maprf import maprf\n",
    "from lfimodels.maprf.maprfStats import maprfStats\n",
    "from delfi.utils.viz import plot_pdf\n",
    "\n",
    "%matplotlib inline"
   ]
  },
  {
   "cell_type": "code",
   "execution_count": null,
   "metadata": {
    "collapsed": false,
    "scrolled": true
   },
   "outputs": [],
   "source": [
    "\n",
    "seed = 42\n",
    "\n",
    "d = 11 # edge length of (quadratic) receptive field\n",
    "parametrization = 'gaussian' # RF is Gaussian bump with specific mean and cov \n",
    "\n",
    "filter_shape = np.array((d,d,1))\n",
    "m = maprf(filter_shape=filter_shape, \n",
    "          parametrization=parametrization,\n",
    "          seed=seed, \n",
    "          duration=10000 )\n",
    "\n",
    "p = dd.GaussianRF(ab=[-1,1],\n",
    "                  m=np.zeros(2), B=np.sqrt(d)*np.eye(2),\n",
    "                  df = 2, scale =np.eye(2)/2)\n",
    "s = maprfStats(n_summary=m.n_params)\n",
    "g = dg.Default(model=m, prior=p, summary=s)\n",
    "\n",
    "true_params, labels_params = utils.obs_params(filter_shape,parametrization)\n",
    "obs = m.gen_single(true_params)\n",
    "obs_stats = s.calc([obs])\n",
    "\n",
    "_, stats = g.gen(1000)\n",
    "stats_mean = stats.mean(axis=0)\n",
    "stats_std  = stats.std(axis=0)\n",
    "\n",
    "h_true = m.params_to_rf(true_params[1:])\n",
    "plt.subplot(1,2,1)\n",
    "plt.plot(np.dot( obs['I'], h_true) + true_params[0])\n",
    "plt.title('neural activation function over observed data')\n",
    "plt.subplot(1,2,2)\n",
    "plt.imshow(h_true.reshape(d,d), interpolation='None')\n",
    "plt.colorbar()\n",
    "\n",
    "plt.show()"
   ]
  },
  {
   "cell_type": "code",
   "execution_count": null,
   "metadata": {
    "collapsed": false,
    "scrolled": true
   },
   "outputs": [],
   "source": [
    "\n",
    "res = infer.SNPE(g, obs=obs_stats, n_hiddens=[50])\n",
    "res.stats_mean = stats_mean\n",
    "res.stats_std = stats_std\n",
    "\n",
    "out = res.run(1000, n_rounds=1)\n",
    "\n",
    "posterior = res.predict(obs_stats)\n",
    "\n",
    "\n",
    "plt.figure(figsize=(16,6))\n",
    "plt.subplot(1,4,1)\n",
    "h_prior = m.params_to_rf(p.mean[1:])\n",
    "plt.imshow(h_prior.reshape(d,d), interpolation='None')\n",
    "plt.title('prior mean filter')\n",
    "plt.subplot(1,4,2)\n",
    "h_est =  m.params_to_rf(posterior.calc_mean_and_cov()[0][1:])\n",
    "plt.imshow(h_est.reshape(d,d), interpolation='None')\n",
    "plt.title('posterior mean filter')\n",
    "plt.subplot(1,4,3)\n",
    "plt.imshow(h_true.reshape(d,d), \n",
    "          interpolation='None')\n",
    "plt.title('true spatial filter')\n",
    "plt.subplot(1,4,4)\n",
    "plt.imshow(obs_stats.T[1:].reshape(filter_shape[0],filter_shape[1]), \n",
    "          interpolation='None')\n",
    "plt.title('x0')\n",
    "\n",
    "#plt.subplot(1,4,4)\n",
    "#plt.plot(posterior.calc_mean_and_cov()[0][1:], true_params[1:], 'b.')\n",
    "#plt.axis('square')\n",
    "#plt.title('est. vs true pars (all entries)')\n",
    "#plt.legend(['post. mean', 'x0'])\n",
    "#plt.xlabel('est. filter values')\n",
    "#plt.ylabel('true filter values')\n",
    "\n",
    "plt.show()\n",
    "\n",
    "print('prior mean\\n', p.mean[1:].reshape(-1,1))\n",
    "print('post mean\\n', posterior.calc_mean_and_cov()[0][1:].reshape(-1,1))\n",
    "print('true pars\\n', true_params[1:].reshape(-1,1))\n",
    "#print('x0\\n', obs_stats.T[1:]) \n"
   ]
  },
  {
   "cell_type": "code",
   "execution_count": null,
   "metadata": {
    "collapsed": true
   },
   "outputs": [],
   "source": []
  }
 ],
 "metadata": {
  "kernelspec": {
   "display_name": "Python 3",
   "language": "python",
   "name": "python3"
  },
  "language_info": {
   "codemirror_mode": {
    "name": "ipython",
    "version": 3
   },
   "file_extension": ".py",
   "mimetype": "text/x-python",
   "name": "python",
   "nbconvert_exporter": "python",
   "pygments_lexer": "ipython3",
   "version": "3.5.1"
  }
 },
 "nbformat": 4,
 "nbformat_minor": 0
}
