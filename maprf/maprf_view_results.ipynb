{
 "cells": [
  {
   "cell_type": "markdown",
   "metadata": {
    "collapsed": true
   },
   "source": [
    "# SNPE & RF\n",
    "\n",
    "learning receptive field parameters from inputs (white-noise videos) and outputs (spike trains) of linear-nonlinear neuron models with parameterized linear filters"
   ]
  },
  {
   "cell_type": "code",
   "execution_count": null,
   "metadata": {},
   "outputs": [],
   "source": [
    "%%capture\n",
    "%matplotlib inline\n",
    "\n",
    "import matplotlib.pyplot as plt\n",
    "import numpy as np\n",
    "\n",
    "import delfi.distribution as dd\n",
    "import delfi.generator as dg\n",
    "import delfi.inference as infer\n",
    "import delfi.utils.io as io\n",
    "from delfi.utils.viz import plot_pdf\n",
    "\n",
    "from lfimodels.maprf.utils import get_maprf_prior_01, setup_sim, setup_sampler, \\\n",
    "get_data_o, quick_plot, contour_draws\n",
    "from lfimodels.maprf.maprf import maprf as model\n",
    "from lfimodels.maprf.maprfStats import maprfStats\n",
    "\n",
    "seed = 42\n",
    "\n",
    "root_path = '/home/marcel/Dropbox (mackelab)/team/Write/Working_Manuscripts/InferenceNeuralDynamics_2018/materials/fig2/mapRF'"
   ]
  },
  {
   "cell_type": "code",
   "execution_count": null,
   "metadata": {},
   "outputs": [],
   "source": [
    "## training data and true parameters, data, statistics\n",
    "\n",
    "idx_cell = 6 # load toy cell number i \n",
    "filename = root_path + '/results/toy_cells/toy_cell_' + str(idx_cell) + '.npy'\n",
    "\n",
    "g, prior, d = setup_sim(seed, path=root_path)\n",
    "obs_stats, pars_true = get_data_o(filename, g, seed)\n",
    "rf = g.model.params_to_rf(pars_true)[0]\n",
    "\n",
    "plt.figure(figsize=(6,6))\n",
    "plt.imshow(rf, interpolation='None')\n",
    "#plt.savefig('ground_truth_RF.pdf')\n",
    "plt.title('ground-truth receptive field')\n",
    "plt.show()\n",
    "obs_stats, obs_stats[0,-1]"
   ]
  },
  {
   "cell_type": "code",
   "execution_count": null,
   "metadata": {},
   "outputs": [],
   "source": [
    "algo = 'CDELFI'\n",
    "\n",
    "\n",
    "# network architecture: 8 layer network [4x conv, 3x fully conn., 1x MoG], 20k parameters in total \n",
    "\n",
    "filter_sizes=[3,3,3,3,2]   # 5 conv ReLU layers\n",
    "n_filters=(16,16,32,32,32) # 16 to 64 filters\n",
    "pool_sizes=[1,2,2,2,2]     # \n",
    "n_hiddens=[100,100,100]     # 3 fully connected layers\n",
    "\n",
    "# N = 100k per round\n",
    "\n",
    "n_train=10000\n",
    "\n",
    "# single component (posterior at most STAs is well-approximated by single Gaussian - we also want to run more SNPE-A)\n",
    "\n",
    "n_components=4\n",
    "\n",
    "# single rounds (first round is always'amortized' and can be used with any other STA covered by the prior)\n",
    "\n",
    "n_rounds=1\n",
    "\n",
    "# new feature for CNN architectures: passing a value directly to the hidden layers (bypassing the conv layers).\n",
    "# In this case, we pass the number of spikes (single number) directly, which allows to normalize the STAs \n",
    "# and hence help out the conv layers. Without that extra input, we couldn't recover the RF gain anymore. \n",
    "n_inputs_hidden = 1\n",
    "\n",
    "# some learning-schedule parameters\n",
    "lr_decay = 0.999\n",
    "epochs=200\n",
    "minibatch=50\n",
    "\n",
    "svi=False          # large N should make this do nothing anyways\n",
    "reg_lambda=0.0   # just to make doubly sure SVI is switched off...\n",
    "\n",
    "pilot_samples=1000 # z-scoring only applies to extra inputs (here: firing rate) directly fed to fully connected layers\n",
    "\n",
    "prior_norm = True  # doesn't hurt. \n",
    "init_norm = False  # didn't yet figure how to best normalize initialization through conv- and ReLU- layers\n",
    "\n",
    "rank = None   # fitting only DIAGONAL covariances\n"
   ]
  },
  {
   "cell_type": "markdown",
   "metadata": {},
   "source": [
    "# load"
   ]
  },
  {
   "cell_type": "code",
   "execution_count": null,
   "metadata": {},
   "outputs": [],
   "source": [
    "# load round #i results and continue\n",
    "round_ = 2\n",
    "\n",
    "# careful here: rounds start with computing proposal from current MDN state and *previous* proposal\n",
    "\n",
    "path = root_path + '/results/SNPE/toycell_6/'\n",
    "\n",
    "if round_ > 1:\n",
    "\n",
    "    #path = '/media/marcel/636f7b46-1fd1-4600-b69e-86d2ed82002c/Biophysicality/lfi_experiments/results/SNPE/'\n",
    "    filename1 = path + 'maprf_100k_elife_prior01_run_99_round' + str(round_-1) + '_param9_nosvi_CDELFI.pkl'\n",
    "    _, _, proposal = io.load_pkl(filename1)\n",
    "    proposal = proposal[-1] if isinstance(proposal, list) else proposal\n",
    "\n",
    "filename4 = path + 'maprf_100k_elife_prior01_run_99_round' + str(round_) + '_param9_nosvi_CDELFI_net_only.pkl'\n",
    "if algo == 'CDELFI' :\n",
    "\n",
    "    tmp = io.load_pkl(filename4)\n",
    "    \n",
    "    inf = infer.CDELFI(generator=g, obs=obs_stats, prior_norm=prior_norm, init_norm=init_norm,\n",
    "                     pilot_samples=pilot_samples, seed=seed, reg_lambda=reg_lambda, svi=svi,\n",
    "                     n_components=tmp['network.spec_dict']['n_components'], rank=rank,\n",
    "                     n_hiddens=n_hiddens, n_filters=n_filters, n_inputs = (1,d,d),\n",
    "                     filter_sizes=filter_sizes, pool_sizes=pool_sizes, n_inputs_hidden=n_inputs_hidden,verbose=True)    \n",
    "    inf.network.params_dict = tmp['network.params_dict']    \n",
    "    if round_ > 1:\n",
    "        print('# proposal components:', proposal.n_components)\n",
    "        inf.generator.proposal = proposal.project_to_gaussian() if proposal.n_components == 1 else proposal    \n",
    "    inf.round = round_\n",
    "\n",
    "elif algo == 'SNPE' : \n",
    "    raise NotImplementedError\n"
   ]
  },
  {
   "cell_type": "code",
   "execution_count": null,
   "metadata": {},
   "outputs": [],
   "source": [
    "#np.save(root_path + '/results/SNPE/toycell_6/posterior_round4', {'posterior' : inf.predict(obs_stats),\n",
    "#                                                                    'proposal'  : proposal, \n",
    "#                                                                    'prior' : g.prior})"
   ]
  },
  {
   "cell_type": "code",
   "execution_count": null,
   "metadata": {},
   "outputs": [],
   "source": [
    "tmp = np.load(root_path + '/results/SNPE/toycell_6/maprf_100k_elife_prior01_run_9_round4_param9_nosvi_CDELFI_posterior.npy')[()]\n",
    "posterior, proposal, prior = tmp['posterior'], tmp['proposal'], tmp['prior']"
   ]
  },
  {
   "cell_type": "code",
   "execution_count": null,
   "metadata": {},
   "outputs": [],
   "source": [
    "#posterior = inf.predict(obs_stats)\n",
    "plot_prior = dd.TransformedNormal(m=g.prior.m, S = g.prior.S,\n",
    "                            flags=[0,0,2,1,2,1,1,2,2],\n",
    "                            lower=[0,0,0,0,0,0,0,-1,-1], upper=[0,0,np.pi,0,2*np.pi,0,0,1,1]) \n",
    "\n",
    "plot_post = dd.mixture.TransformedGaussianMixture.MoTG(\n",
    "                            ms= [posterior.xs[i].m for i in range(posterior.n_components)], \n",
    "                            Ss =[posterior.xs[i].S for i in range(posterior.n_components)],\n",
    "                            a = posterior.a, \n",
    "                            flags=[0,0,2,1,2,1,1,2,2],\n",
    "                            lower=[0,0,0,0,0,0,0,-1,-1], upper=[0,0,np.pi,0,2*np.pi,0,0,1,1]) \n",
    "\n",
    "lims = np.array([[-1.5, -1.1, .001,         0,          .001, 0, 0, -.999, -.999], \n",
    "                 [ 1.5,  1.1, .999*np.pi, 2.5,   1.999*np.pi, 2, 4., .999,   .999]]).T\n",
    "\n",
    "fig, _ = plot_pdf(plot_post, pdf2=plot_prior, lims=lims, gt=plot_post._f(pars_true.reshape(1,-1)).reshape(-1), \n",
    "                  figsize=(16,16), resolution=100,\n",
    "                  labels_params=['bias', 'gain', 'logit phase', 'log freq', 'logit angle', 'log ratio', 'log width', 'xo', 'yo'])\n",
    "\n",
    "#fig.savefig('quadro_posterior_run9_round1_comps1_1Hz_SNR12_5min.pdf')"
   ]
  },
  {
   "cell_type": "markdown",
   "metadata": {},
   "source": [
    "# compare against MCMC sampler"
   ]
  },
  {
   "cell_type": "code",
   "execution_count": null,
   "metadata": {},
   "outputs": [],
   "source": [
    "n_samples=1000000\n",
    "path = root_path + '/results/MCMC/'\n",
    "savefile = path + 'toycell_' + str(idx_cell) + '/maprf_MCMC_prior01_run_1_'+ str(n_samples)+'samples_param9_5min.npy'\n",
    "tmp = np.load(savefile)[()] # {'T' : T, 'params_dict_true' : params_dict_true}\n"
   ]
  },
  {
   "cell_type": "code",
   "execution_count": null,
   "metadata": {},
   "outputs": [],
   "source": [
    "\n",
    "T = tmp['T']\n",
    "params_dict_true = tmp['params_dict_true']\n",
    "\n",
    "params_ls = ['bias', 'gain', 'phase', 'freq','angle','ratio','width', 'xo', 'yo']\n",
    "samples = np.hstack([np.atleast_2d(T[key].T).T for key in params_ls])\n",
    "\n",
    "def symmetrize_sample_modes(samples):\n",
    "\n",
    "    assert samples.ndim==2 and samples.shape[1] == 9 \n",
    "\n",
    "    # assumes phase in [0, pi]\n",
    "    assert np.min(samples[:,2]) >= 0. and np.max(samples[:,2] <= np.pi)\n",
    "    # assumes angle in [0, 2*pi]\n",
    "    assert np.min(samples[:,4]) >= 0. and np.max(samples[:,4] <= 2*np.pi)\n",
    "    # assumes freq, ratio and width > 0\n",
    "    assert np.all(np.min(samples[:,np.array([3,5,6])], axis=0) >= 0.)\n",
    "\n",
    "    samples1 = samples.copy()\n",
    "    idx = np.where( samples[:,4] > np.pi )[0]\n",
    "    samples1[idx,4] = samples1[idx,4] - np.pi\n",
    "    idx = np.where( samples[:,4] < np.pi )[0]\n",
    "    samples1[idx,4] = samples1[idx,4] + np.pi\n",
    "    #samples1[:,2] = np.pi - samples1[:,2]\n",
    "    samples_all = np.vstack((samples, samples1))[::2, :]\n",
    "\n",
    "    samples1 = samples_all.copy()\n",
    "    samples1[:,1] = - samples1[:,1] \n",
    "    samples1[:,2] = np.pi - samples1[:,2] \n",
    "    samples_all = np.vstack((samples_all, samples1))[::2, :]\n",
    "\n",
    "    return samples_all\n",
    "\n",
    "samples = symmetrize_sample_modes(samples)\n",
    "#samples = np.vstack((lims.T, samples))\n",
    "\n",
    "pars_raw = np.array([ params_dict_true['glm']['bias'],\n",
    "                      params_dict_true['kernel']['s']['gain'],\n",
    "                      params_dict_true['kernel']['s']['phase'],\n",
    "                      params_dict_true['kernel']['s']['angle'],\n",
    "                      params_dict_true['kernel']['s']['freq'],\n",
    "                      params_dict_true['kernel']['s']['ratio'],\n",
    "                      params_dict_true['kernel']['s']['width'],\n",
    "                      params_dict_true['kernel']['l']['xo'],\n",
    "                      params_dict_true['kernel']['l']['yo'] ])\n",
    "\n",
    "\n",
    "lims = np.array([[-1.5, -1.5, .001, 0,       .001, 0, 0, -0.5, -0.5], \n",
    "                 [ 1.5,  1.5, .999*np.pi, 3, 1.999*np.pi, 3, 5, 0.5, 0.5]]).T\n",
    "\n",
    "fig, _ = plot_pdf(plot_post,  pdf2=plot_prior, lims=lims, gt=pars_raw.reshape(-1), figsize=(16,16), resolution=100, samples=samples.T,\n",
    "         labels_params=['bias', 'gain', 'phase', 'freq', 'angle', 'ratio', 'width', 'xo', 'yo']);\n",
    "\n",
    "fig.savefig('quadro_posterior_vs_MCMC_run99_round2_comps1_1Hz_SNR12_5min.pdf')\n"
   ]
  },
  {
   "cell_type": "code",
   "execution_count": null,
   "metadata": {},
   "outputs": [],
   "source": [
    "idx = np.array([0,1,2,4]) # bias, gain, frequency and angle\n",
    "\n",
    "plot_post_small = dd.mixture.MoTG(ms=[x.m[idx] for x in plot_post.xs],\n",
    "                                  Ss=[x.S[idx][:,idx] for x in plot_post.xs],\n",
    "                                  a=plot_post.a,\n",
    "                                  flags=plot_post.flags[idx],\n",
    "                                  lower=plot_post.lower[idx],\n",
    "                                  upper=plot_post.upper[idx]                                  \n",
    "                                 )\n",
    "\n",
    "plot_prior_small = dd.TransformedNormal(m=plot_prior.m[idx], S = plot_prior.S[idx][:,idx],\n",
    "                            flags=plot_prior.flags[idx],\n",
    "                            lower=plot_prior.lower[idx], \n",
    "                            upper=plot_prior.upper[idx]) \n",
    "\n",
    "fig, _ = plot_pdf(plot_post_small,  pdf2=plot_prior_small, lims=lims[idx], gt=pars_raw.reshape(-1)[idx], \n",
    "                  figsize=(9,9), resolution=100, \n",
    "                  samples=samples[:,idx].T,\n",
    "         labels_params=['bias','gain', 'freq', 'angle']);\n",
    "\n",
    "fig.savefig('quadro_posterior_vs_MCMC_run99_round2_comps1_1Hz_SNR12_5min_small.pdf')"
   ]
  },
  {
   "cell_type": "markdown",
   "metadata": {},
   "source": [
    "# visualize RF and RF draws"
   ]
  },
  {
   "cell_type": "code",
   "execution_count": null,
   "metadata": {},
   "outputs": [],
   "source": [
    "lvls=[0.5, 0.5]\n",
    "p = posterior\n",
    "n_draws = 10 \n",
    "plt.figure(figsize=(6,6))\n",
    "plt.imshow(obs_stats[0,:-1].reshape(d,d), interpolation='None', cmap='gray')\n",
    "plt.title('STA')\n",
    "plt.savefig('quadro_posterior_run99_round2_comps4_1Hz_SNR12_5min_STA_only.pdf')\n",
    "plt.show()"
   ]
  },
  {
   "cell_type": "code",
   "execution_count": null,
   "metadata": {},
   "outputs": [],
   "source": [
    "lvls=[0.5, 0.5]\n",
    "p = posterior\n",
    "n_draws = 10 \n",
    "plt.figure(figsize=(6,6))\n",
    "plt.imshow(obs_stats[0,:-1].reshape(d,d), interpolation='None', cmap='gray')\n",
    "plt.title('STA + GT')\n",
    "rfm = g.model.params_to_rf(pars_true.reshape(-1))[0]\n",
    "plt.contour(rfm, levels=[lvls[0]*rfm.min(), lvls[1]*rfm.max()], colors='r')\n",
    "\n",
    "plt.savefig('quadro_posterior_run99_round2_comps4_1Hz_SNR12_5min_STA.pdf')\n",
    "\n",
    "plt.show()"
   ]
  },
  {
   "cell_type": "code",
   "execution_count": null,
   "metadata": {},
   "outputs": [],
   "source": [
    "lvls=[0.5, 0.5]\n",
    "p = posterior\n",
    "n_draws = 10 \n",
    "plt.figure(figsize=(6,6))\n",
    "plt.imshow(obs_stats[0,:-1].reshape(d,d), interpolation='None', cmap='gray')\n",
    "for i in range(n_draws):\n",
    "    rfm = g.model.params_to_rf(p.gen().reshape(-1))[0]\n",
    "    \n",
    "    plt.contour(rfm, levels=[lvls[0]*rfm.min(), lvls[1]*rfm.max()])\n",
    "    #print(rfm.min(), rfm.max())\n",
    "    plt.hold(True)\n",
    "plt.title('RF posterior draws')\n",
    "\n",
    "rfm = g.model.params_to_rf(pars_true.reshape(-1))[0]\n",
    "plt.contour(rfm, levels=[lvls[0]*rfm.min(), lvls[1]*rfm.max()], colors='r')\n",
    "\n",
    "plt.savefig('quadro_posterior_run99_round2_comps4_1Hz_SNR12_5min_draws.pdf')\n",
    "plt.show()\n"
   ]
  },
  {
   "cell_type": "code",
   "execution_count": null,
   "metadata": {},
   "outputs": [],
   "source": []
  }
 ],
 "metadata": {
  "kernelspec": {
   "display_name": "Python 3",
   "language": "python",
   "name": "python3"
  },
  "language_info": {
   "codemirror_mode": {
    "name": "ipython",
    "version": 3
   },
   "file_extension": ".py",
   "mimetype": "text/x-python",
   "name": "python",
   "nbconvert_exporter": "python",
   "pygments_lexer": "ipython3",
   "version": "3.7.0"
  }
 },
 "nbformat": 4,
 "nbformat_minor": 1
}
