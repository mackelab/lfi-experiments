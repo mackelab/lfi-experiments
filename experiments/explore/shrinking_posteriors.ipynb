{
 "cells": [
  {
   "cell_type": "code",
   "execution_count": null,
   "metadata": {},
   "outputs": [],
   "source": [
    "experiment = 'shrinking_posteriors.yaml'\n",
    "%run -i EXPLORE.ipynb\n",
    "\n",
    "prefix = 'shrinkv4'\n",
    "runs_list = get_runs(prefix)\n",
    "\n",
    "df = get_df(prefix, runs_list)\n",
    "df_file = '{}.pkl'.format(prefix)\n",
    "#df.to_pickle(df_file)\n",
    "#df.read_pickle(df_file)\n",
    "\n",
    "#df_copy = df.copy()"
   ]
  },
  {
   "cell_type": "code",
   "execution_count": null,
   "metadata": {},
   "outputs": [],
   "source": [
    "subset = get_subset(df, 'rnn_hiddens == 10')"
   ]
  },
  {
   "cell_type": "code",
   "execution_count": null,
   "metadata": {},
   "outputs": [],
   "source": [
    "for run in subset.iterrows():\n",
    "\n",
    "    run = run[1]\n",
    "    sim = run.sim\n",
    "    posterior = run.posterior\n",
    "\n",
    "    shared_kwargs = {}\n",
    "    shared_kwargs['diag_only'] = True\n",
    "    shared_kwargs['diag_only_rows'] = 3\n",
    "    shared_kwargs['diag_only_cols'] = 4\n",
    "    shared_kwargs['labels_params'] = sim.labels_params\n",
    "    shared_kwargs['lims'] = np.array((sim.prior_min, sim.prior_max)).T\n",
    "    shared_kwargs['gt'] = np.log(sim.true_params)\n",
    "\n",
    "    fig, ax = plot_pdf_marginals(posterior, **shared_kwargs);\n",
    "    title = '{}ms rnn '.format(run['duration'])\n",
    "    fig.suptitle(title)"
   ]
  }
 ],
 "metadata": {
  "kernelspec": {
   "display_name": "Python 3",
   "language": "python",
   "name": "python3"
  },
  "language_info": {
   "codemirror_mode": {
    "name": "ipython",
    "version": 3
   },
   "file_extension": ".py",
   "mimetype": "text/x-python",
   "name": "python",
   "nbconvert_exporter": "python",
   "pygments_lexer": "ipython3",
   "version": "3.6.0"
  }
 },
 "nbformat": 4,
 "nbformat_minor": 2
}
