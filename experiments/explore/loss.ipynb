{
 "cells": [
  {
   "cell_type": "code",
   "execution_count": null,
   "metadata": {},
   "outputs": [],
   "source": [
    "experiment = 'mog.yaml'\n",
    "%run -i EXPLORE.ipynb\n",
    "\n",
    "runs_list = get_runs(prefix)\n",
    "df_file = '{}.pkl'.format(experiment.split('.')[0])\n",
    "\n",
    "df, subset_err = get_df(prefix, runs_list)\n",
    "df.to_pickle(df_file)\n",
    "#df = pd.read_pickle(df_file)   \n",
    "#df_copy = df.copy()"
   ]
  },
  {
   "cell_type": "code",
   "execution_count": null,
   "metadata": {},
   "outputs": [],
   "source": [
    "subset_err.loc[0]"
   ]
  },
  {
   "cell_type": "code",
   "execution_count": null,
   "metadata": {},
   "outputs": [],
   "source": [
    "subset = df.copy().query('iw_loss == False')\n",
    "subset = subset.reset_index()\n",
    "subset = subset.drop('index', 1)\n",
    "\n",
    "sns.set(font_scale=2)\n",
    "g = sns.factorplot(x=\"svi\", y=\"kltp\", hue='svi', data=subset,\n",
    "                   capsize=.1, palette=\"YlGnBu_d\", size=10, aspect=1., markers='.',\n",
    "                   linestyles='-', col='round', legend=False, sharey=True, row='accumulate_data')\n",
    "ax = plt.gca()\n",
    "plt.legend()\n",
    "#ax.set_ylim([0, 0.012])\n",
    "#ax.set_ylim([0, 0.05])\n",
    "#ax.semilogy()\n",
    "#saverep('loss_calib')"
   ]
  },
  {
   "cell_type": "code",
   "execution_count": null,
   "metadata": {},
   "outputs": [],
   "source": [
    "name = loruns[70]\n",
    "wildcard = prefix + '_' + name + '*'\n",
    "dist_dicts, info_dicts, loss_dicts, net_dicts, posterior_dicts, sim_dicts = io.load_prefix(netsdir, '*074669aa*')"
   ]
  },
  {
   "cell_type": "code",
   "execution_count": null,
   "metadata": {},
   "outputs": [],
   "source": [
    "len(net_dicts)"
   ]
  },
  {
   "cell_type": "code",
   "execution_count": null,
   "metadata": {},
   "outputs": [],
   "source": [
    "net = io.nth(net_dicts, 0)"
   ]
  },
  {
   "cell_type": "code",
   "execution_count": null,
   "metadata": {},
   "outputs": [],
   "source": [
    "p = net.get_params()"
   ]
  },
  {
   "cell_type": "code",
   "execution_count": null,
   "metadata": {},
   "outputs": [],
   "source": [
    "p.keys()"
   ]
  },
  {
   "cell_type": "code",
   "execution_count": null,
   "metadata": {},
   "outputs": [],
   "source": [
    "for key in p.keys():\n",
    "    print(np.var(p[key]))"
   ]
  },
  {
   "cell_type": "code",
   "execution_count": null,
   "metadata": {},
   "outputs": [],
   "source": [
    "nth(posterior_dicts,1).xs[0].S"
   ]
  },
  {
   "cell_type": "code",
   "execution_count": null,
   "metadata": {},
   "outputs": [],
   "source": [
    "nth(info_dicts,1)"
   ]
  },
  {
   "cell_type": "code",
   "execution_count": null,
   "metadata": {},
   "outputs": [],
   "source": [
    "to = len(nth(loss_dicts, 1)['trn_out'])"
   ]
  },
  {
   "cell_type": "code",
   "execution_count": null,
   "metadata": {},
   "outputs": [],
   "source": []
  },
  {
   "cell_type": "code",
   "execution_count": null,
   "metadata": {},
   "outputs": [],
   "source": [
    "dfc"
   ]
  },
  {
   "cell_type": "code",
   "execution_count": null,
   "metadata": {},
   "outputs": [],
   "source": [
    "dfc.head()"
   ]
  },
  {
   "cell_type": "code",
   "execution_count": null,
   "metadata": {},
   "outputs": [],
   "source": [
    "subset = dfc.query('dim == 1 & iw_loss == False & svi == True') # & loss_calib == 1 & ess == True & keep == True & norm == True & ess_lc == True').copy()\n",
    "subset = subset.reset_index()\n",
    "subset = subset.drop('index', 1)\n",
    "\n",
    "sns.set(font_scale=2)\n",
    "g = sns.factorplot(x=\"prior_alpha\", y=\"abserr_cov_tp\", data=subset,\n",
    "                   capsize=.1, palette=\"YlGnBu_d\", size=10, aspect=1., markers='.',\n",
    "                   linestyles='-', legend=False, sharey=False)\n",
    "ax = plt.gca()\n",
    "#ax.set_ylim([0, 0.012])\n",
    "#ax.set_ylim([0, 0.02])\n",
    "#ax.semilogy()\n",
    "#plt.legend()\n",
    "#saverep('loss_calib')"
   ]
  },
  {
   "cell_type": "code",
   "execution_count": null,
   "metadata": {},
   "outputs": [],
   "source": [
    "\n",
    "subset"
   ]
  },
  {
   "cell_type": "code",
   "execution_count": null,
   "metadata": {},
   "outputs": [],
   "source": [
    "subset"
   ]
  },
  {
   "cell_type": "code",
   "execution_count": null,
   "metadata": {},
   "outputs": [],
   "source": []
  },
  {
   "cell_type": "code",
   "execution_count": null,
   "metadata": {},
   "outputs": [],
   "source": [
    "subset = dfc.query('dim == 1 & iw_loss == False & svi == False').copy()\n",
    "subset = subset.reset_index()\n",
    "subset = subset.drop('index', 1)\n",
    "\n",
    "plt.hist(subset['abserr_cov_tp'])"
   ]
  },
  {
   "cell_type": "code",
   "execution_count": null,
   "metadata": {},
   "outputs": [],
   "source": [
    "subset = dfc.query('dim == 1 & iw_loss == False & svi == True').copy()\n",
    "subset = subset.reset_index()\n",
    "subset = subset.drop('index', 1)\n",
    "\n",
    "plt.hist(subset['abserr_cov_tp'])"
   ]
  },
  {
   "cell_type": "code",
   "execution_count": null,
   "metadata": {},
   "outputs": [],
   "source": [
    "http://stackoverflow.com/a/26079963"
   ]
  }
 ],
 "metadata": {
  "kernelspec": {
   "display_name": "Python 3",
   "language": "python",
   "name": "python3"
  },
  "language_info": {
   "codemirror_mode": {
    "name": "ipython",
    "version": 3
   },
   "file_extension": ".py",
   "mimetype": "text/x-python",
   "name": "python",
   "nbconvert_exporter": "python",
   "pygments_lexer": "ipython3",
   "version": "3.6.0"
  }
 },
 "nbformat": 4,
 "nbformat_minor": 2
}
