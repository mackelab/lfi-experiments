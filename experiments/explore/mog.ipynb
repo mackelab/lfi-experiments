{
 "cells": [
  {
   "cell_type": "code",
   "execution_count": null,
   "metadata": {},
   "outputs": [],
   "source": [
    "experiment = 'iw_loss.yaml'\n",
    "%run -i ../template.ipynb"
   ]
  },
  {
   "cell_type": "code",
   "execution_count": null,
   "metadata": {},
   "outputs": [],
   "source": [
    "body"
   ]
  },
  {
   "cell_type": "code",
   "execution_count": null,
   "metadata": {},
   "outputs": [],
   "source": [
    "def list_of_runs(input_list):\n",
    "    runs = []\n",
    "    for k in input_list:\n",
    "        run = k.split('_')[1]\n",
    "        if run not in runs:\n",
    "            runs.append(run)\n",
    "    return runs "
   ]
  },
  {
   "cell_type": "code",
   "execution_count": null,
   "metadata": {},
   "outputs": [],
   "source": [
    "runs = os.listdir(netsdir)\n",
    "\n",
    "runs = [x for x in runs if prefix in x]\n",
    "loruns = list_of_runs(runs)  # to iterate over\n",
    "\n",
    "print(len(loruns))"
   ]
  },
  {
   "cell_type": "code",
   "execution_count": null,
   "metadata": {},
   "outputs": [],
   "source": [
    "info"
   ]
  },
  {
   "cell_type": "code",
   "execution_count": null,
   "metadata": {},
   "outputs": [],
   "source": [
    "df = pd.DataFrame()\n",
    "\n",
    "for r in tqdm(range(len(loruns))):\n",
    "    name = loruns[r]\n",
    "    wildcard = prefix + '_' + name + '*'\n",
    "    \n",
    "    path = netsdir\n",
    "    #dist_dicts = io.load_wildcard(path, wildcard + '_dist')\n",
    "    info_dicts = io.load_wildcard(path, wildcard + '_info')\n",
    "    \n",
    "    info = last(info_dicts)\n",
    "    #if int(nth(info_dicts, 3)['datetime'][11:13]) < 20:\n",
    "    #    continue\n",
    "        \n",
    "    #loss_dicts = io.load_wildcard(path, wildcard + '_loss')\n",
    "    #net_dicts = io.load_wildcard(path, wildcard + '_net')\n",
    "    posterior_dicts = io.load_wildcard(path, wildcard + '_posterior')\n",
    "    sim_dicts = io.load_wildcard(path, wildcard + '_sim')\n",
    "    \n",
    "\n",
    "        \n",
    "    sim = last(sim_dicts)\n",
    "    approx_posterior = last(posterior_dicts)\n",
    "\n",
    "    try:\n",
    "        posterior_mua = approx_posterior.xs[0].m[0]  # 1\n",
    "        posterior_cova = approx_posterior.xs[0].S[0,0]  # 1\n",
    "        posterior_mub = approx_posterior.xs[1].m[0]  # 1\n",
    "        posterior_covb = approx_posterior.xs[1].S[0,0]  # 1\n",
    "    except:\n",
    "        print('nf')\n",
    "        continue\n",
    "    \n",
    "    if posterior_covb > posterior_cova:\n",
    "        posterior_mu = posterior_mub\n",
    "        posterior_cov = posterior_covb\n",
    "        posterior_mu2 = posterior_mua\n",
    "        posterior_cov2 = posterior_cova\n",
    "    else:\n",
    "        posterior_mu = posterior_mua\n",
    "        posterior_cov = posterior_cova\n",
    "        posterior_mu2 = posterior_mub\n",
    "        posterior_cov2 = posterior_covb\n",
    "    \n",
    "    true_mu = sim.posterior.xs[0].m[0]  # wide\n",
    "    true_cov = sim.posterior.xs[0].S[0,0]  # wide\n",
    "    true_mu2 = sim.posterior.xs[1].m[0]  # wide\n",
    "    true_cov2 = sim.posterior.xs[1].S[0,0]  # wide\n",
    "    \n",
    "\n",
    "    iw_loss = info['iw_loss']\n",
    "    svi = info['svi']\n",
    "    prior_alpha = info['prior_alpha']\n",
    "    prior_true = type(nth(info_dicts, -1)['prior_true'])\n",
    "    prior_true = 'Gaussian' in str(prior_true)\n",
    "\n",
    "    dim = nth(sim_dicts, -1).dim\n",
    "\n",
    "    #n_samples = len(last(dist_dicts))\n",
    "\n",
    "    seed = first(info_dicts)['seed']\n",
    "\n",
    "\n",
    "    if info['loss_calib'] is None:\n",
    "        lc = 0.\n",
    "    else:\n",
    "        lc = 1.\n",
    "\n",
    "    data = [\n",
    "                [name],\n",
    "                [seed],\n",
    "                [dim],\n",
    "                [iw_loss],\n",
    "                [svi],\n",
    "                [prior_alpha],\n",
    "                [prior_true],\n",
    "                [posterior_mu],\n",
    "                [posterior_mu2],\n",
    "                [posterior_cov],\n",
    "                [posterior_cov2],\n",
    "                [true_mu],\n",
    "                [true_cov],\n",
    "                [true_mu2],\n",
    "                [true_cov2],\n",
    "                [info['reg_scale_iw']],\n",
    "                [info['keep_n']],\n",
    "                [info['ess']],\n",
    "                [info['ess_lc']],\n",
    "                [lc],\n",
    "                [info['normalize_weights']]\n",
    "            ]\n",
    "\n",
    "    data = pd.DataFrame(data).T\n",
    "    data.columns = ['name', 'seed', 'dim', 'iw_loss', 'svi', 'prior_alpha', 'prior_true', 'posterior_mu', 'posterior_mu2', \n",
    "                    'posterior_cov', 'posterior_cov2', 'true_mu','true_cov','true_mu2', 'true_cov2','rsiw','keep','ess','ess_lc','loss_calib', 'norm']\n",
    "\n",
    "    df = df.append(data)    \n",
    "        \n",
    "#df['abserr_cov_tp'] = np.abs(df['t_cov'] - df['p_cov'])\n",
    "#df['abserr_mu_tp'] = np.abs(df['t_mu'] - df['p_mu'])\n",
    "\n",
    "df = df.reset_index()\n",
    "df = df.drop('index', 1)\n",
    "\n",
    "print(len(df))\n",
    "df.head()\n",
    "\n",
    "df.to_pickle('iw_loss.pkl')\n"
   ]
  },
  {
   "cell_type": "code",
   "execution_count": null,
   "metadata": {},
   "outputs": [],
   "source": [
    "info"
   ]
  },
  {
   "cell_type": "code",
   "execution_count": null,
   "metadata": {},
   "outputs": [],
   "source": [
    "np.sum(df['loss_calib'])"
   ]
  },
  {
   "cell_type": "code",
   "execution_count": null,
   "metadata": {},
   "outputs": [],
   "source": [
    "#dfa = df.copy()\n",
    "dfc = df.copy()"
   ]
  },
  {
   "cell_type": "code",
   "execution_count": null,
   "metadata": {},
   "outputs": [],
   "source": [
    "subset = dfc.query('dim == 1 & iw_loss ==  True & svi == False').copy()  #  & prior_true == False & keep == True').copy()\n",
    "subset = subset.reset_index()\n",
    "subset = subset.drop('index', 1)\n",
    "\n",
    "sns.set(font_scale=2)\n",
    "g = sns.factorplot(x=\"prior_alpha\", y=\"posterior_cov2\", hue=\"norm\", data=subset,\n",
    "                   capsize=.1, palette=\"YlGnBu_d\", size=10, aspect=1., markers='.',\n",
    "                   linestyles='', legend=True, row=\"keep\", col=\"ess\", sharey=True)\n",
    "ax = plt.gca()\n",
    "ax.set_ylim([0, 0.02])\n",
    "#ax.set_ylim([0, 0.05])\n",
    "#ax.semilogy()\n",
    "#saverep('loss_calib')"
   ]
  },
  {
   "cell_type": "code",
   "execution_count": null,
   "metadata": {},
   "outputs": [],
   "source": [
    "subset = dfc.query('dim == 1 & iw_loss == False & svi == True').copy()\n",
    "subset = subset.reset_index()\n",
    "subset = subset.drop('index', 1)\n",
    "\n",
    "plt.plot(subset['posterior_cov2'])\n",
    "\n",
    "ax.set_ylim([0, 0.05])\n",
    "\n",
    "#ax.set_ylim([0, 0.01])\n",
    "#ax.semilogy()\n",
    "#saverep('loss_calib')"
   ]
  },
  {
   "cell_type": "code",
   "execution_count": null,
   "metadata": {},
   "outputs": [],
   "source": [
    "subset['']"
   ]
  },
  {
   "cell_type": "code",
   "execution_count": null,
   "metadata": {},
   "outputs": [],
   "source": [
    "subset"
   ]
  },
  {
   "cell_type": "code",
   "execution_count": null,
   "metadata": {},
   "outputs": [],
   "source": []
  },
  {
   "cell_type": "code",
   "execution_count": null,
   "metadata": {},
   "outputs": [],
   "source": [
    "subset = dfc.query('dim == 1 & iw_loss == False & svi == False').copy()\n",
    "subset = subset.reset_index()\n",
    "subset = subset.drop('index', 1)\n",
    "\n",
    "plt.hist(subset['abserr_cov_tp'])"
   ]
  },
  {
   "cell_type": "code",
   "execution_count": null,
   "metadata": {},
   "outputs": [],
   "source": [
    "subset = dfc.query('dim == 1 & iw_loss == False & svi == True').copy()\n",
    "subset = subset.reset_index()\n",
    "subset = subset.drop('index', 1)\n",
    "\n",
    "plt.hist(subset['abserr_cov_tp'])"
   ]
  }
 ],
 "metadata": {
  "kernelspec": {
   "display_name": "Python 3",
   "language": "python",
   "name": "python3"
  },
  "language_info": {
   "codemirror_mode": {
    "name": "ipython",
    "version": 3
   },
   "file_extension": ".py",
   "mimetype": "text/x-python",
   "name": "python",
   "nbconvert_exporter": "python",
   "pygments_lexer": "ipython3",
   "version": "3.6.0"
  }
 },
 "nbformat": 4,
 "nbformat_minor": 2
}
