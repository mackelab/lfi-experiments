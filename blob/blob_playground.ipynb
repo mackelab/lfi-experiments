{
 "cells": [
  {
   "cell_type": "markdown",
   "metadata": {},
   "source": [
    "# Inferring the location and contrast of a blob"
   ]
  },
  {
   "cell_type": "code",
   "execution_count": null,
   "metadata": {
    "collapsed": false
   },
   "outputs": [],
   "source": [
    "%matplotlib inline\n",
    "\n",
    "import numpy as np\n",
    "import numpy.random as nr\n",
    "import scipy.stats as stats\n",
    "\n",
    "from scipy.special import gammaln\n",
    "from matplotlib import pyplot as plt\n",
    "\n",
    "import delfi.generator as dg\n",
    "import delfi.distribution as dd\n",
    "from delfi.utils.viz import plot_pdf\n",
    "import delfi.inference as infer\n",
    "\n",
    "seed = 42\n",
    "M = 32  # edge dimensionality of image\n"
   ]
  },
  {
   "cell_type": "code",
   "execution_count": null,
   "metadata": {
    "collapsed": true
   },
   "outputs": [],
   "source": [
    "def expit17(x):\n",
    "        return 34. / (1. + np.exp(-x)) -17\n",
    "\n",
    "def expit5(x):\n",
    "        return 4.85 / (1. + np.exp(-x)) + 0.2\n",
    "    \n",
    "def logit17(x):\n",
    "        x = (x+17.)/34.\n",
    "        return np.log( x / (1. - x) )\n",
    "    \n",
    "def logit5(x):\n",
    "        x = (x-0.2)/4.85\n",
    "        return np.log( x / (1. - x) )"
   ]
  },
  {
   "cell_type": "code",
   "execution_count": null,
   "metadata": {
    "collapsed": false
   },
   "outputs": [],
   "source": [
    "from delfi.simulator.BaseSimulator import BaseSimulator\n",
    "from delfi.summarystats.Identity import Identity\n",
    "\n",
    "\n",
    "class Blob(BaseSimulator): \n",
    "\n",
    "    def __init__(self, M, N, sigma=None):\n",
    "        self.M = M\n",
    "        self.N = N\n",
    "        \n",
    "        self.sigma = sigma\n",
    "        self.x, self.y = np.meshgrid(np.linspace(-M//2, M//2, M),\n",
    "                           np.linspace(-M//2, M//2, M))        \n",
    "\n",
    "    def gen_single(self, params):\n",
    "        \n",
    "        if self.sigma is None:\n",
    "            assert params.size == 4\n",
    "            xo, yo, gamma, sigma = params[0], params[1], params[2], params[3]\n",
    "        else: \n",
    "            assert params.size == 3\n",
    "            xo, yo, gamma, sigma = params[0], params[1], params[2], self.sigma        \n",
    "            \n",
    "        xo, yo, gamma = expit17(xo), expit17(yo), expit5(gamma)\n",
    "        \n",
    "        r = (self.x - xo)**2 + (self.y - yo)**2\n",
    "        p = 0.1 + 0.8 * np.exp(-0.5 * (r / sigma**2) ** gamma)\n",
    "        \n",
    "        return {'data' : nr.binomial(self.N, p).reshape(1,-1) / self.N }\n",
    "\n",
    "p = dd.Gaussian(m = np.zeros(3), S=1.78 * np.eye(3))\n",
    "\n",
    "#p = dd.Uniform(lower = [-16, -16, 0.25 ],\n",
    "#               upper = [ 16,  16,    5 ])\n",
    "#\n",
    "g = dg.Default(model= Blob(M, N=255, sigma=2.), prior = p, summary = Identity(), seed = 42)\n"
   ]
  },
  {
   "cell_type": "code",
   "execution_count": null,
   "metadata": {
    "collapsed": false
   },
   "outputs": [],
   "source": [
    "pars_true = np.array([ logit17(7.2), logit17(4.4), logit5(1.6) ])\n",
    "obs = g.model.gen_single(pars_true)\n",
    "obs_stats = g.summary.calc([obs])\n",
    "\n",
    "plt.imshow(obs_stats.reshape(M,M), interpolation='None')\n",
    "plt.show()"
   ]
  },
  {
   "cell_type": "code",
   "execution_count": null,
   "metadata": {
    "collapsed": true
   },
   "outputs": [],
   "source": [
    "algo = 'CDELFI'\n",
    "\n",
    "# network architecture: 8 layer network [4x conv, 3x fully conn., 1x MoG], 20k parameters in total \n",
    "\n",
    "filter_sizes=[3,3,3,2,2]   # 5 conv ReLU layers\n",
    "n_filters=(16,16,32,32,32) # 16 to 64 filters\n",
    "pool_sizes=[1,2,2,2,1,2]     # \n",
    "n_hiddens=[50,50]     # 3 fully connected layers\n",
    "\n",
    "# N = 100k per round\n",
    "\n",
    "n_train=10000\n",
    "\n",
    "# single component (posterior at most STAs is well-approximated by single Gaussian - we also want to run more SNPE-A)\n",
    "\n",
    "n_components=1\n",
    "\n",
    "# single rounds (first round is always'amortized' and can be used with any other STA covered by the prior)\n",
    "\n",
    "n_rounds=5\n",
    "\n",
    "# new feature for CNN architectures: passing a value directly to the hidden layers (bypassing the conv layers).\n",
    "# In this case, we pass the number of spikes (single number) directly, which allows to normalize the STAs \n",
    "# and hence help out the conv layers. Without that extra input, we couldn't recover the RF gain anymore. \n",
    "n_inputs_hidden = 0\n",
    "\n",
    "# some learning-schedule parameters\n",
    "lr_decay = 0.999\n",
    "epochs=10\n",
    "minibatch=50\n",
    "\n",
    "svi=False          # large N should make this do nothing anyways\n",
    "reg_lambda=0.0   # just to make doubly sure SVI is switched off...\n",
    "\n",
    "pilot_samples=None # z-scoring only applies to extra inputs (here: firing rate) directly fed to fully connected layers\n",
    "\n",
    "prior_norm = True  # doesn't hurt. \n",
    "init_norm = False  # didn't yet figure how to best normalize initialization through conv- and ReLU- layers\n",
    "\n",
    "rank = None   # fitting only DIAGONAL covariances\n",
    "\n",
    "# SNPE-B specific settings\n",
    "convert_to_T=3\n",
    "cbk_feature_layer=14 # mixture means\n",
    "kernel_loss = 'x_kl'\n",
    "\n",
    "# SNPE-A specific settings\n",
    "def sbc_fun(x):\n",
    "    return x\n"
   ]
  },
  {
   "cell_type": "code",
   "execution_count": null,
   "metadata": {
    "collapsed": false
   },
   "outputs": [],
   "source": [
    "if algo == 'CDELFI':\n",
    "\n",
    "    inf = infer.CDELFI(generator=g, obs=obs_stats, prior_norm=prior_norm, init_norm=init_norm,\n",
    "                     pilot_samples=pilot_samples, seed=seed, reg_lambda=reg_lambda, svi=svi,\n",
    "                     n_components=1, n_hiddens=n_hiddens, n_filters=n_filters, n_inputs = (1,M,M),\n",
    "                     filter_sizes=filter_sizes, pool_sizes=pool_sizes, n_inputs_hidden=n_inputs_hidden,\n",
    "                     rank=rank, verbose=True)\n",
    "    \n",
    "elif algo == 'SNPE':\n",
    "\n",
    "    init_norm = True\n",
    "    inf = infer.SNPE(generator=g, obs=obs_stats, prior_norm=prior_norm, init_norm=init_norm,\n",
    "                     pilot_samples=pilot_samples, seed=seed, reg_lambda=reg_lambda, svi=svi,\n",
    "                     n_components=n_components, n_hiddens=n_hiddens, n_filters=n_filters, n_inputs = (1,M,M),\n",
    "                     filter_sizes=filter_sizes, pool_sizes=pool_sizes, n_inputs_hidden=n_inputs_hidden,\n",
    "                     rank=rank, verbose=True, convert_to_T=convert_to_T)\n"
   ]
  },
  {
   "cell_type": "code",
   "execution_count": null,
   "metadata": {
    "collapsed": false
   },
   "outputs": [],
   "source": [
    "# print parameter numbers per layer (just weights, not biases)\n",
    "def get_shape(i):\n",
    "    return inf.network.aps[i].get_value().shape\n",
    "print([get_shape(i) for i in range(1,17,2)])\n",
    "print([np.prod(get_shape(i)) for i in range(1,17,2)])"
   ]
  },
  {
   "cell_type": "code",
   "execution_count": null,
   "metadata": {
    "collapsed": false
   },
   "outputs": [],
   "source": [
    "if algo == 'CDELFI':\n",
    "    \n",
    "    #run SNPE-A for one round\n",
    "    project_proposal=False\n",
    "    stndrd_comps=True\n",
    "    \n",
    "    log, trn_data, posteriors = inf.run(n_train=n_train, epochs=epochs, minibatch=minibatch, n_rounds=n_rounds,  \n",
    "                   lr_decay=lr_decay,n_components=n_components, \n",
    "                   stndrd_comps=stndrd_comps, project_proposal=project_proposal,\n",
    "                   sbc_fun=sbc_fun)\n",
    "    \n",
    "elif algo == 'SNPE':\n",
    "\n",
    "    # run SNPE-B for one round\n",
    "    lr = 0.001    \n",
    "    log, trn_data, posteriors = inf.run(n_train=n_train, epochs=epochs, minibatch=minibatch, n_rounds=n_rounds,  \n",
    "                   lr_decay=lr_decay, lr =lr, kernel_loss=kernel_loss, cbk_feature_layer=cbk_feature_layer)\n",
    "\n",
    "    for r in range(len(trn_data)):\n",
    "        iws = trn_data[r][2]\n",
    "        iws = iws/iws.sum()\n",
    "        ESS = 1./ np.sum( iws ** 2)\n",
    "        print('ESS', ESS)\n",
    "    \n",
    "plt.plot(log[-1]['loss'][:1000])\n",
    "plt.show()"
   ]
  },
  {
   "cell_type": "code",
   "execution_count": null,
   "metadata": {
    "collapsed": false
   },
   "outputs": [],
   "source": [
    "L = 100\n",
    "labels_params = ['xo', 'yo', 'gamma'] \n",
    "for r in range(n_rounds):\n",
    "    res = log[r]['sbc']\n",
    "    plt.figure(figsize=(16,6))\n",
    "    for i in range(pars_true.size):\n",
    "        plt.subplot(1,pars_true.size,i+1)\n",
    "        plt.hist(res[:,i], color='r', normed=True, bins=np.linspace(0,L+1,L+2)-.5)\n",
    "        plt.title(labels_params[i])\n",
    "    plt.show()\n",
    "    \n",
    "    plt.figure(figsize=(16,3))\n",
    "    plt.subplot(1,2,1)\n",
    "    plt.plot(log[r]['loss'])\n",
    "    plt.subplot(1,2,2)\n",
    "    plt.semilogx(log[r]['loss'])\n",
    "    plt.show()"
   ]
  },
  {
   "cell_type": "code",
   "execution_count": null,
   "metadata": {
    "collapsed": false
   },
   "outputs": [],
   "source": [
    "posterior = inf.predict(obs_stats)\n",
    "posterior = dd.mixture.MoTG(ms=[x.m for x in posterior.xs],Ss=[x.S for x in posterior.xs],a = posterior.a,\n",
    "                            flags=[2,2,2],upper=[17,17,5.05],lower=[-17,-17,0.2])\n",
    "\n",
    "pars_raw = np.array( [ 7.2, 4.4, 1.6 ] )\n",
    "\n",
    "fig, _ = plot_pdf(posterior, lims=[[-10, 10], [-10, 10], [0.25, 5]], gt=pars_raw.reshape(-1),  \n",
    "                  figsize=(16,16), resolution=100,labels_params=labels_params, ticks=True)\n",
    "\n",
    "try:\n",
    "    pars_true2 = np.array([ 4.1,  5.2,  4.5])\n",
    "    obs_stats = g.summary.calc([g.model.gen_single(pars_true2)])\n",
    "    posterior = inf.predict(obs_stats)\n",
    "    posterior = dd.mixture.MoTG(ms=[x.m for x in posterior.xs],Ss=[x.S for x in posterior.xs],a = posterior.a,\n",
    "                                flags=[2,2,2],upper=[17,17,5.05],lower=[-17,-17,0.2])\n",
    "\n",
    "    # all pairwise marginals of fitted posterior\n",
    "    fig, _ = plot_pdf(posterior, lims=[[-10, 10], [-10, 10], [0.25, 5]], gt=pars_true.reshape(-1),  \n",
    "                      figsize=(16,16), resolution=100,labels_params=labels_params, ticks=True)\n",
    "except:\n",
    "    print('second test cell broke')\n"
   ]
  },
  {
   "cell_type": "code",
   "execution_count": null,
   "metadata": {
    "collapsed": false
   },
   "outputs": [],
   "source": [
    "posterior = inf.predict(obs_stats)\n",
    "posterior = dd.mixture.MoTG(ms=[x.m for x in posterior.xs],Ss=[x.S for x in posterior.xs],a = posterior.a,\n",
    "                            flags=[2,2,2],upper=[17,17,5.05],lower=[-17,-17,0.2])\n",
    "\n",
    "pars_raw = np.array( [ 7.2, 4.4, 1.6 ] )\n",
    "\n",
    "fig, _ = plot_pdf(posterior, lims=[[-10, 10], [-10, 10], [0.25, 5]], gt=pars_raw.reshape(-1),  \n",
    "                  figsize=(16,16), resolution=100,labels_params=labels_params, ticks=True)\n",
    "\n",
    "try:\n",
    "    pars_true2 = np.array([ 4.1,  5.2,  4.5])\n",
    "    obs_stats = g.summary.calc([g.model.gen_single(pars_true2)])\n",
    "    posterior = inf.predict(obs_stats)\n",
    "    posterior = dd.mixture.MoTG(ms=[x.m for x in posterior.xs],Ss=[x.S for x in posterior.xs],a = posterior.a,\n",
    "                                flags=[2,2,2],upper=[17,17,5.05],lower=[-17,-17,0.2])\n",
    "\n",
    "    # all pairwise marginals of fitted posterior\n",
    "    fig, _ = plot_pdf(posterior, lims=[[-10, 10], [-10, 10], [0.25, 5]], gt=pars_true.reshape(-1),  \n",
    "                      figsize=(16,16), resolution=100,labels_params=labels_params, ticks=True)\n",
    "except:\n",
    "    print('second test cell broke')\n"
   ]
  },
  {
   "cell_type": "markdown",
   "metadata": {},
   "source": [
    "# SNPE A"
   ]
  },
  {
   "cell_type": "code",
   "execution_count": null,
   "metadata": {
    "collapsed": false
   },
   "outputs": [],
   "source": [
    "obs_stats = g.summary.calc([g.model.gen_single(pars_true)])\n",
    "posterior = inf.predict(obs_stats)\n",
    "\n",
    "# all pairwise marginals of fitted posterior\n",
    "fig, _ = plot_pdf(posterior, lims=[[-10, 10], [-10, 10], [0.25, 5]], gt=pars_true.reshape(-1), figsize=(16,16), resolution=100,\n",
    "                  labels_params=labels_params, ticks=True)\n",
    "\n",
    "try:\n",
    "    pars_true2 = np.array([ 4.1,  5.2,  4.5])\n",
    "    obs_stats = g.summary.calc([g.model.gen_single(pars_true2)])\n",
    "    posterior = inf.predict(obs_stats)\n",
    "\n",
    "    # all pairwise marginals of fitted posterior\n",
    "    fig, _ = plot_pdf(posterior, lims=[[-10, 10], [-10, 10], [0.25, 5]], gt=pars_true.reshape(-1), figsize=(16,16), resolution=100,\n",
    "                      labels_params=labels_params, ticks=True)\n",
    "except:\n",
    "    print('second test cell broke')\n"
   ]
  },
  {
   "cell_type": "code",
   "execution_count": null,
   "metadata": {
    "collapsed": true
   },
   "outputs": [],
   "source": []
  }
 ],
 "metadata": {
  "kernelspec": {
   "display_name": "Python 3",
   "language": "python",
   "name": "python3"
  },
  "language_info": {
   "codemirror_mode": {
    "name": "ipython",
    "version": 3
   },
   "file_extension": ".py",
   "mimetype": "text/x-python",
   "name": "python",
   "nbconvert_exporter": "python",
   "pygments_lexer": "ipython3",
   "version": "3.5.1"
  }
 },
 "nbformat": 4,
 "nbformat_minor": 0
}
