{
 "cells": [
  {
   "cell_type": "code",
   "execution_count": 1,
   "metadata": {
    "collapsed": true
   },
   "outputs": [],
   "source": [
    "import delfi.distribution as dd\n",
    "import delfi.generator as dg\n",
    "import delfi.inference as infer\n",
    "import delfi.summarystats as ds\n",
    "import delfi.kernel as dk\n",
    "\n",
    "from delfi.simulator.BaseSimulator import BaseSimulator\n",
    "\n",
    "import matplotlib.pyplot as plt\n",
    "import matplotlib.gridspec as gridspec\n",
    "from mpl_toolkits.mplot3d import Axes3D\n",
    "from matplotlib import cm\n",
    "import numpy as np\n",
    "from delfi.utils.viz import plot_pdf\n",
    "\n",
    "from tqdm import tqdm_notebook as tqdm\n",
    "\n",
    "from parameters import ParameterSet\n",
    "\n",
    "%matplotlib notebook\n",
    "\n",
    "import delfi.utils.viz as dv"
   ]
  },
  {
   "cell_type": "code",
   "execution_count": 18,
   "metadata": {
    "collapsed": true
   },
   "outputs": [],
   "source": [
    "params = ParameterSet({})\n",
    "\n",
    "params.seed = 239\n",
    "\n",
    "params.infer = ParameterSet({})\n",
    "params.infer.n_components = 1\n",
    "params.infer.n_hiddens = [20, 20]\n",
    "params.infer.pilot_samples = 100\n",
    "params.infer.svi = False\n",
    "params.infer.prior_norm = True\n",
    "\n",
    "params.run = ParameterSet({})\n",
    "params.run.n_train = 100000\n",
    "params.run.round_cl = 5\n",
    "#params.run.minibatch = 100\n",
    "params.run.epochs = 50\n",
    "#params.run.lr = 0.02"
   ]
  },
  {
   "cell_type": "code",
   "execution_count": 19,
   "metadata": {
    "collapsed": true
   },
   "outputs": [],
   "source": [
    "prior_mean = 2\n",
    "prior_var = 0.5\n",
    "\n",
    "prop_prior_mean=1\n",
    "prop_prior_var=0.05\n",
    "\n",
    "noise_var = 0.01\n",
    "\n",
    "gt = np.array([ 0.6 ])"
   ]
  },
  {
   "cell_type": "code",
   "execution_count": 20,
   "metadata": {
    "collapsed": true
   },
   "outputs": [],
   "source": [
    "def gauss(x, mean, cov):\n",
    "    covi = np.linalg.inv(cov)\n",
    "    dots = np.einsum('...i,ij,...j', x - mean, covi, x - mean)\n",
    "    ret = 1 / np.sqrt(2 * np.pi * np.linalg.det(cov)) * np.exp(-0.5 * dots)\n",
    "    assert ret.shape == x.shape[:-1]\n",
    "    return ret\n",
    "\n",
    "class ForwardModel(BaseSimulator):\n",
    "    def __init__(self, seed=None):\n",
    "        super().__init__(dim_param=1, seed=seed)\n",
    "        self.noise_std = np.sqrt(noise_var)\n",
    "    \n",
    "    def gen_single(self, params):\n",
    "        means = self.get_means(params)\n",
    "        sample = means + self.noise_std * self.rng.normal(size=params.shape)\n",
    "        return { \"data\" :  np.array(sample) }\n",
    "    \n",
    "    def likelihood(self, x, params):\n",
    "        means = self.get_means(params)\n",
    "        diffs = means - x\n",
    "        ret = gauss(diffs.reshape(-1,1), [0], (self.noise_std ** 2) * np.eye(1))\n",
    "        return ret\n",
    "        \n",
    "    def get_means(self, params):\n",
    "        return np.sign(params) * (np.abs(params) ** (1/3))\n",
    "    \n",
    "    def get_mle(self, params):\n",
    "        return np.asarray(params) ** 3"
   ]
  },
  {
   "cell_type": "code",
   "execution_count": 21,
   "metadata": {},
   "outputs": [
    {
     "data": {
      "application/vnd.jupyter.widget-view+json": {
       "model_id": "b46471b1d2b149389b16a918f3bc7e02",
       "version_major": 2,
       "version_minor": 0
      },
      "text/plain": [
       "A Jupyter Widget"
      ]
     },
     "metadata": {},
     "output_type": "display_data"
    },
    {
     "name": "stdout",
     "output_type": "stream",
     "text": [
      "\n"
     ]
    },
    {
     "data": {
      "application/vnd.jupyter.widget-view+json": {
       "model_id": "0836bd6cd98e47d3a9f6ec445e1e40ee",
       "version_major": 2,
       "version_minor": 0
      },
      "text/plain": [
       "A Jupyter Widget"
      ]
     },
     "metadata": {},
     "output_type": "display_data"
    },
    {
     "name": "stdout",
     "output_type": "stream",
     "text": [
      "\n"
     ]
    },
    {
     "data": {
      "application/vnd.jupyter.widget-view+json": {
       "model_id": "1039adace53a42f897cc63ea307b2e46",
       "version_major": 2,
       "version_minor": 0
      },
      "text/plain": [
       "A Jupyter Widget"
      ]
     },
     "metadata": {},
     "output_type": "display_data"
    },
    {
     "name": "stdout",
     "output_type": "stream",
     "text": [
      "\n"
     ]
    },
    {
     "data": {
      "application/vnd.jupyter.widget-view+json": {
       "model_id": "c09d5ebfb4bc493cb06daec50408dce7",
       "version_major": 2,
       "version_minor": 0
      },
      "text/plain": [
       "A Jupyter Widget"
      ]
     },
     "metadata": {},
     "output_type": "display_data"
    },
    {
     "name": "stdout",
     "output_type": "stream",
     "text": [
      "\n"
     ]
    },
    {
     "data": {
      "application/vnd.jupyter.widget-view+json": {
       "model_id": "5a14752a1e5b49ba891a314a13417e3d",
       "version_major": 2,
       "version_minor": 0
      },
      "text/plain": [
       "A Jupyter Widget"
      ]
     },
     "metadata": {},
     "output_type": "display_data"
    },
    {
     "name": "stdout",
     "output_type": "stream",
     "text": [
      "\n"
     ]
    }
   ],
   "source": [
    "m = ForwardModel(params.seed)\n",
    "prior = dd.Gaussian(m=[prior_mean], S=[[prior_var]], seed=params.seed)\n",
    "s = ds.Identity(1)\n",
    "\n",
    "g = dg.Default(m, prior, s, seed=params.seed)\n",
    "\n",
    "xobs = m.get_means(gt)\n",
    "\n",
    "res = infer.SNPE(generator=g, obs=[xobs], verbose=True, seed=params.seed, **params.infer)\n",
    "\n",
    "logs, tds, posteriors = res.run(n_rounds=1, **params.run)\n",
    "\n",
    "posterior = posteriors[-1]"
   ]
  },
  {
   "cell_type": "code",
   "execution_count": null,
   "metadata": {},
   "outputs": [
    {
     "data": {
      "application/vnd.jupyter.widget-view+json": {
       "model_id": "9538e776da6245dd9122c2a0ea0a4048",
       "version_major": 2,
       "version_minor": 0
      },
      "text/plain": [
       "A Jupyter Widget"
      ]
     },
     "metadata": {},
     "output_type": "display_data"
    },
    {
     "name": "stdout",
     "output_type": "stream",
     "text": [
      "\n"
     ]
    },
    {
     "data": {
      "application/vnd.jupyter.widget-view+json": {
       "model_id": "60cd17dc3a724639a3b6da31c29ac58a",
       "version_major": 2,
       "version_minor": 0
      },
      "text/plain": [
       "A Jupyter Widget"
      ]
     },
     "metadata": {},
     "output_type": "display_data"
    },
    {
     "name": "stdout",
     "output_type": "stream",
     "text": [
      "\n"
     ]
    },
    {
     "data": {
      "application/vnd.jupyter.widget-view+json": {
       "model_id": "cdd14d69616144619e1c3295160cc21b",
       "version_major": 2,
       "version_minor": 0
      },
      "text/plain": [
       "A Jupyter Widget"
      ]
     },
     "metadata": {},
     "output_type": "display_data"
    },
    {
     "name": "stdout",
     "output_type": "stream",
     "text": [
      "\n"
     ]
    },
    {
     "data": {
      "application/vnd.jupyter.widget-view+json": {
       "model_id": "179ff42d5fc74b00bf429354e8e78e0c",
       "version_major": 2,
       "version_minor": 0
      },
      "text/plain": [
       "A Jupyter Widget"
      ]
     },
     "metadata": {},
     "output_type": "display_data"
    },
    {
     "name": "stdout",
     "output_type": "stream",
     "text": [
      "\n"
     ]
    },
    {
     "data": {
      "application/vnd.jupyter.widget-view+json": {
       "model_id": "dbb6a02d0913473299a1bcaccd1a37de",
       "version_major": 2,
       "version_minor": 0
      },
      "text/plain": [
       "A Jupyter Widget"
      ]
     },
     "metadata": {},
     "output_type": "display_data"
    },
    {
     "name": "stdout",
     "output_type": "stream",
     "text": [
      "\n"
     ]
    }
   ],
   "source": [
    "m = ForwardModel(params.seed)\n",
    "prop_prior = dd.Gaussian(m=[prop_prior_mean], S=[[prop_prior_var]], seed=params.seed + 1)\n",
    "s = ds.Identity(1)\n",
    "\n",
    "g = dg.Default(m, prop_prior, s, seed=params.seed)\n",
    "\n",
    "res_uncorr = infer.SNPE(generator=g, obs=[xobs], verbose=True, seed=params.seed, **params.infer)\n",
    "\n",
    "logs, tds, posteriors_uncorr = res_uncorr.run(n_rounds=1, **params.run)\n",
    "\n",
    "posterior_uncorr = posteriors_uncorr[-1]"
   ]
  },
  {
   "cell_type": "code",
   "execution_count": null,
   "metadata": {},
   "outputs": [
    {
     "data": {
      "application/vnd.jupyter.widget-view+json": {
       "model_id": "f448268443ec44dbae9ffda0c53180b3",
       "version_major": 2,
       "version_minor": 0
      },
      "text/plain": [
       "A Jupyter Widget"
      ]
     },
     "metadata": {},
     "output_type": "display_data"
    },
    {
     "name": "stdout",
     "output_type": "stream",
     "text": [
      "\n"
     ]
    },
    {
     "data": {
      "application/vnd.jupyter.widget-view+json": {
       "model_id": "b00ebdbd81ca4dbc8363b9e62d858d86",
       "version_major": 2,
       "version_minor": 0
      },
      "text/plain": [
       "A Jupyter Widget"
      ]
     },
     "metadata": {},
     "output_type": "display_data"
    },
    {
     "name": "stdout",
     "output_type": "stream",
     "text": [
      "\n"
     ]
    },
    {
     "data": {
      "application/vnd.jupyter.widget-view+json": {
       "model_id": "6c6b61c9c1e94154b3516dbcb64a304d",
       "version_major": 2,
       "version_minor": 0
      },
      "text/plain": [
       "A Jupyter Widget"
      ]
     },
     "metadata": {},
     "output_type": "display_data"
    },
    {
     "name": "stdout",
     "output_type": "stream",
     "text": [
      "\n"
     ]
    },
    {
     "data": {
      "application/vnd.jupyter.widget-view+json": {
       "model_id": "2520bf830a654d268360a5254765175c",
       "version_major": 2,
       "version_minor": 0
      },
      "text/plain": [
       "A Jupyter Widget"
      ]
     },
     "metadata": {},
     "output_type": "display_data"
    },
    {
     "name": "stdout",
     "output_type": "stream",
     "text": [
      "\n"
     ]
    },
    {
     "data": {
      "application/vnd.jupyter.widget-view+json": {
       "model_id": "1474cb0dc3044687855c5d8acf7efbcd",
       "version_major": 2,
       "version_minor": 0
      },
      "text/plain": [
       "A Jupyter Widget"
      ]
     },
     "metadata": {},
     "output_type": "display_data"
    }
   ],
   "source": [
    "m = ForwardModel(params.seed)\n",
    "prior = dd.Gaussian(m=[prior_mean], S=[[prior_var]], seed=params.seed)\n",
    "prop_prior = dd.Gaussian(m=[prop_prior_mean], S=[[prop_prior_var]], seed=params.seed + 1)\n",
    "s = ds.Identity(1)\n",
    "\n",
    "g = dg.Default(m, prior, s, seed=params.seed)\n",
    "\n",
    "res_SNPE = infer.SNPE(generator=g, obs=[xobs], verbose=True, seed=params.seed, **params.infer)\n",
    "\n",
    "logs, tds, posteriors_SNPE = res_SNPE.run(n_rounds=1, impute_proposal=prop_prior, **params.run)\n",
    "\n",
    "posterior_SNPE = posteriors_SNPE[-1]"
   ]
  },
  {
   "cell_type": "code",
   "execution_count": null,
   "metadata": {
    "scrolled": false
   },
   "outputs": [],
   "source": [
    "fig = plt.figure(figsize=(9,9))\n",
    "\n",
    "rng = np.random.RandomState(seed=params.seed)\n",
    "###############################################################################\n",
    "# sampling from proposal prior and running forward model\n",
    "n_samp = 500\n",
    "theta_samp = np.sqrt(prop_prior_var) * rng.normal(size=(n_samp,)) + prop_prior_mean\n",
    "x_samp = np.sqrt(noise_var) * rng.normal(size=(n_samp,)) + m.get_means(theta_samp)\n",
    "\n",
    "theta_lims = [0, 3]\n",
    "thetas = np.linspace(theta_lims[0], theta_lims[1], 500)\n",
    "\n",
    "xlims = [0, m.get_means(theta_lims[1]) * 1.1]\n",
    "\n",
    "xs = np.linspace(xlims[0], xlims[1], 100)\n",
    "\n",
    "posts = [ res.predict([[x]]) for x in xs ]\n",
    "post_means = np.array([ post.xs[0].m[0] for post in posts ])\n",
    "post_vars = np.array([ post.xs[0].S[0,0] for post in posts ])\n",
    "\n",
    "posts_SNPE = [ res_SNPE.predict([[x]]) for x in xs ]\n",
    "post_means_SNPE = np.array([ post.xs[0].m[0] for post in posts_SNPE ])\n",
    "post_vars_SNPE = np.array([ post.xs[0].S[0,0] for post in posts_SNPE ])\n",
    "\n",
    "gs = gridspec.GridSpec(2, 3, width_ratios=[1, 3, 1], height_ratios=[4,1])\n",
    "\n",
    "prior_col = \"gray\"\n",
    "prior_col = plt.get_cmap(\"tab10\")(0)\n",
    "prop_prior_col = \"orange\"\n",
    "post_col = \"blue\"\n",
    "post_uncorr_col = \"green\"\n",
    "\n",
    "# LEFTHAND SIDE\n",
    "axl = plt.subplot(gs[0,0])\n",
    "#plt.plot(prop_prior, yy, '--',color='0.55', label='proposal prior')\n",
    "plt.plot(prior.eval(thetas.reshape(-1,1), log=False), thetas, c=prior_col, label='prior')\n",
    "plt.plot(prop_prior.eval(thetas.reshape(-1,1), log=False), thetas, c=prop_prior_col, label='proposal prior')\n",
    "\n",
    "axl.set_ylim(theta_lims)\n",
    "axl.set_yticks([])\n",
    "axl.set_xticks([])\n",
    "plt.ylabel(r'$\\theta$')\n",
    "axl.legend(loc='upper center', bbox_to_anchor=(0.5, -0.05),  ncol=1)\n",
    "\n",
    "axr = plt.subplot(gs[0,2])\n",
    "\n",
    "\n",
    "\n",
    "# RIGHTHAND SIDE\n",
    "plt.plot(posterior.eval(thetas.reshape(-1,1), log=False), thetas, c=post_col, label='posterior')\n",
    "plt.plot(posterior_uncorr.eval(thetas.reshape(-1,1), log=False), thetas, c=post_uncorr_col, label='uncorrected posterior')\n",
    "#    plt.plot(pp_post,yy,color=col_2, label='posterior')\n",
    "#plt.plot(pp_param,yy,color=col_3, label='parametrised posterior')\n",
    "axr.set_ylim(theta_lims)\n",
    "#ax.set_xticks([])\n",
    "axr.set_xticks([])\n",
    "plt.ylabel('')\n",
    "axr.legend(loc='upper center', bbox_to_anchor=(0.5, -0.05), ncol=1)\n",
    "#plt.legend(bbox_to_anchor=(1.25, 1), loc='upper right')\n",
    "\n",
    "\n",
    "hl, ll = axl.get_legend_handles_labels()\n",
    "hr, lr = axr.get_legend_handles_labels()\n",
    "axr.set_yticks([])\n",
    "\n",
    "axm = plt.subplot(gs[0,1])\n",
    "plt.ylabel('')\n",
    "\n",
    "iws = prior.eval(theta_samp.reshape(-1,1), log=False) / prop_prior.eval(theta_samp.reshape(-1,1), log=False)\n",
    "\n",
    "# Draw true posterior\n",
    "plt.scatter(x_samp, theta_samp, color='0.55', s=30 * np.log((1.1 - np.min(iws)) + iws), alpha=0.4)\n",
    "#plt.plot(x0_grid, true_means, color = '0.0', label='true posterior')\n",
    "#plt.plot(x0_grid, fake_means, color = col_0, label='true posterior')\n",
    "\n",
    "#plt.plot(x0_grid,true_means + 2 * np.sqrt(true_covs),'--',color=col_0)\n",
    "#plt.plot(x0_grid,true_means - 2 * np.sqrt(true_covs),'--',color=col_0)\n",
    "#plt.fill_between(x0_grid,fake_means-2 * np.sqrt(fake_covs),\n",
    "#                 fake_means+2 * np.sqrt(fake_covs),\n",
    "#                 facecolor=col_0,\n",
    "#                 alpha=0.15)\n",
    "\n",
    "# Draw posterior means (in orange)\n",
    "std_col = plt.get_cmap(\"tab10\")(0)\n",
    "\n",
    "std_col = prior_col\n",
    "\n",
    "plt.plot(xs,post_means, c=std_col, label='posterior')\n",
    "plt.plot(xs,post_means + 2 * np.sqrt(post_vars),ls='--', c=std_col)\n",
    "plt.plot(xs,post_means - 2 * np.sqrt(post_vars),ls='--', c=std_col)\n",
    "\n",
    "plt.fill_between(xs,post_means-2 * np.sqrt(post_vars),\n",
    "                 post_means+2 * np.sqrt(post_vars), facecolor=std_col,\n",
    "                 alpha=0.1)\n",
    "\n",
    "\n",
    "std_col = prop_prior_col\n",
    "\n",
    "plt.plot(xs,post_means_SNPE, c=std_col, label='SNPE')\n",
    "plt.plot(xs,post_means_SNPE + 2 * np.sqrt(post_vars_SNPE),ls='--', c=std_col)\n",
    "plt.plot(xs,post_means_SNPE - 2 * np.sqrt(post_vars_SNPE),ls='--', c=std_col)\n",
    "\n",
    "plt.fill_between(xs,post_means_SNPE-2 * np.sqrt(post_vars_SNPE),\n",
    "                 post_means_SNPE+2 * np.sqrt(post_vars_SNPE), facecolor=std_col,\n",
    "                 alpha=0.2)\n",
    "\n",
    "# Draw vertical lines around chosen point\n",
    "axm.axvline(xobs,lw=2, c='k')\n",
    "#     axm.vlines(obs_stats-eps, 0, axm.get_ylim()[1], lw=1, color='0.25')\n",
    "#     axm.vlines(obs_stats+eps, 0, axm.get_ylim()[1], lw=1, color='0.25')\n",
    "\n",
    "axm.set_xlim(xlims)\n",
    "axm.set_ylim(theta_lims)\n",
    "axm.set_xticks([])\n",
    "axm.set_yticks([])\n",
    "#plt.xlabel('x')\n",
    "#plt.legend(bbox_to_anchor=(0.0, 1), loc='upper left')\n",
    "\n",
    "#plt.xticks([xobs], [r'$x_{o}$'])\n",
    "\n",
    "axm.set_xlabel(\"$x$\")\n",
    "\n",
    "axb = plt.subplot(gs[1,1])\n",
    "\n",
    "#NOT SEEDED\n",
    "def compute_marginals(prop):\n",
    "    thetas = prop.gen(100000)\n",
    "    means = m.get_means(thetas)\n",
    "    \n",
    "    ret = means + np.sqrt(noise_var) * rng.normal(size=thetas.shape)\n",
    "    return ret\n",
    "    \n",
    "prior_marg_samples = compute_marginals(prior)\n",
    "prop_prior_marg_samples = compute_marginals(prop_prior)\n",
    "\n",
    "from sklearn.neighbors.kde import KernelDensity\n",
    "\n",
    "prior_marg_density = KernelDensity(kernel='gaussian', \n",
    "                                   bandwidth=0.05 * (xlims[1] - xlims[0])).fit(prior_marg_samples)\n",
    "prop_prior_marg_density = KernelDensity(kernel='gaussian', \n",
    "                                       bandwidth=0.05 * (xlims[1] - xlims[0])).fit(prop_prior_marg_samples)\n",
    "\n",
    "plt.plot(xs, np.exp(prior_marg_density.score_samples(xs.reshape(-1,1))), c=prior_col, label='prior')\n",
    "plt.plot(xs, np.exp(prop_prior_marg_density.score_samples(xs.reshape(-1,1))), c=prop_prior_col, label='prioposal prior')\n",
    "\n",
    "#plt.plot(xs, gen_mod.eval(xs.reshape(-1,1), log=False), color='0.0', label='marginal')\n",
    "\n",
    "axb.set_xlim(xlims)\n",
    "axb.set_xticks([])\n",
    "plt.xticks([xobs], [r'$x_{o}$'])\n",
    "axb.set_yticks([])\n",
    "\n",
    "axb.set_xlabel(\"Marginal distribution of $x$\")\n",
    "#axb.legend(loc='upper center', bbox_to_anchor=(0.5, -0.05),\n",
    " #          fancybox=True, shadow=True, ncol=1)\n",
    "\n",
    "axb.axvline(xobs, lw=2, c='k')\n",
    "\n",
    "\n",
    "plt.tight_layout()\n",
    "\n",
    "plt.savefig(\"plot.pdf\")\n",
    "\n",
    "plt.show()"
   ]
  },
  {
   "cell_type": "code",
   "execution_count": null,
   "metadata": {
    "collapsed": true
   },
   "outputs": [],
   "source": [
    "np.savez_compressed(\"samples\", theta_samp=theta_samp, x_samp=x_samp)"
   ]
  },
  {
   "cell_type": "code",
   "execution_count": null,
   "metadata": {
    "collapsed": true
   },
   "outputs": [],
   "source": []
  },
  {
   "cell_type": "code",
   "execution_count": null,
   "metadata": {
    "collapsed": true
   },
   "outputs": [],
   "source": []
  }
 ],
 "metadata": {
  "kernelspec": {
   "display_name": "Python 3",
   "language": "python",
   "name": "python3"
  },
  "language_info": {
   "codemirror_mode": {
    "name": "ipython",
    "version": 3
   },
   "file_extension": ".py",
   "mimetype": "text/x-python",
   "name": "python",
   "nbconvert_exporter": "python",
   "pygments_lexer": "ipython3",
   "version": "3.6.3"
  }
 },
 "nbformat": 4,
 "nbformat_minor": 2
}
