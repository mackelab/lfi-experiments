{
 "cells": [
  {
   "cell_type": "code",
   "execution_count": null,
   "metadata": {
    "collapsed": false,
    "scrolled": true
   },
   "outputs": [],
   "source": [
    "%%capture\n",
    "import delfi.distribution as dd\n",
    "import delfi.utils.io as io\n",
    "import numpy as np\n",
    "import pickle\n",
    "\n",
    "import delfi.inference as infer\n",
    "import delfi.generator as dg\n",
    "from delfi.simulator import GaussMixture\n",
    "import delfi.summarystats as ds\n",
    "from lfimodels.abc_methods.run_abc import run_smc\n"
   ]
  },
  {
   "cell_type": "code",
   "execution_count": null,
   "metadata": {
    "collapsed": false
   },
   "outputs": [],
   "source": [
    "%matplotlib inline\n",
    "import matplotlib.pyplot as plt\n",
    "\n",
    "ptrue = dd.MoG(a=[0.5, 0.5], ms=[np.asarray([0.]), np.asarray([0.])], Ss=[1.0*np.eye(1), 0.01*np.eye(1)])\n",
    "xx = np.linspace(-1.5,1.5,300).reshape(-1,1)\n",
    "plt.plot(xx, ptrue.eval(xx, log=False))\n",
    "plt.show()"
   ]
  },
  {
   "cell_type": "code",
   "execution_count": null,
   "metadata": {
    "collapsed": false
   },
   "outputs": [],
   "source": [
    "from lfimodels.abc_methods.run_abc import run_smc\n",
    "\n",
    "\n",
    "def init_g(seed):\n",
    "    \n",
    "    m = GaussMixture(dim=1, bimodal=False, noise_cov=[1.0, 0.01], seed=seed)\n",
    "    p = dd.Uniform(lower=[-10], upper=[10], seed=seed)\n",
    "    s = ds.Identity()    \n",
    "    return dg.Default(model=m, prior=p, summary=s, seed=seed)\n",
    "\n",
    "\n",
    "\n",
    "seeds = range(90, 140)\n",
    "\n",
    "algos = ['raw', 'AW', 'RA', 'OW']\n",
    "all_raw, all_AW, all_RA, all_OW = [], [], [], []\n",
    "all_ = [all_raw, all_AW, all_RA, all_OW]\n",
    "\n",
    "for seed in seeds:\n",
    "    for a in range(len(algos)):\n",
    "                           \n",
    "        print('\\n seed ' + str(seed) + '\\n')\n",
    "            \n",
    "        g=init_g(seed=seed)\n",
    "        obs_stats = np.array([[0.]])\n",
    "        \n",
    "        kwargs = {'model' : g.model,\n",
    "                  'prior' : g.prior,\n",
    "                  'summary' : g.summary, \n",
    "                  'obs_stats': obs_stats.copy(),\n",
    "                  'n_particles' : 5000, \n",
    "                  'eps_init' : [2, 0.5, 0.025], \n",
    "                  'maxsim' : 1e6,\n",
    "                  'fn' : None,\n",
    "                  'seed': seed}\n",
    "        \n",
    "        AW     = True if algos[a] in ['AW', 'RA', 'OW'] else False\n",
    "        regAdj = True if algos[a] in ['RA', 'OW'] else False\n",
    "        OW     = True if algos[a] in ['OW'] else False\n",
    "        \n",
    "        out = run_smc(**kwargs, \n",
    "                      AW=AW, \n",
    "                      regAdj=regAdj, \n",
    "                      OW=OW)\n",
    "        #plot_res(out)\n",
    "        all_[a].append(out)"
   ]
  },
  {
   "cell_type": "code",
   "execution_count": null,
   "metadata": {
    "collapsed": false
   },
   "outputs": [],
   "source": [
    "\n",
    "ess =   np.zeros((len(algos),3,len(seeds)))\n",
    "nsims = np.zeros((len(algos),3,len(seeds)))\n",
    "n_particles = np.zeros((len(algos),3,len(seeds)))\n",
    "ll    = np.zeros((len(algos),3,len(seeds)))\n",
    "\n",
    "for i in range(len(seeds)):\n",
    "    for a in range(len(algos)):\n",
    "        \n",
    "        res = all_[a][i]\n",
    "\n",
    "        nsims[a, :, i] = res[4]\n",
    "        n_particles[a, :, i] = kwargs['n_particles']\n",
    "        for r in range(3):\n",
    "            w = np.exp(res[2][r])\n",
    "            w = w / w.sum()\n",
    "            ess[a,r,i] = 1./(np.sum(w**2) * w.size)\n",
    "            ll[a,r,i] = np.sum(ptrue.eval(res[0][r],log=True))\n"
   ]
  },
  {
   "cell_type": "code",
   "execution_count": null,
   "metadata": {
    "collapsed": false
   },
   "outputs": [],
   "source": [
    "plt.figure(figsize=(16,5))\n",
    "for r in range(3):\n",
    "    plt.subplot(1,3,r+1)\n",
    "    plt.imshow(ess[:,r,:].T, interpolation='None', aspect='auto')\n",
    "    plt.colorbar()\n",
    "    print('\\n r = ' + str(r+1) + '\\n')\n",
    "    print(np.mean(ess[:,r,:],axis=1))\n",
    "    plt.title('round r = ' + str(r+1))\n",
    "plt.suptitle('ESS')\n",
    "plt.show()"
   ]
  },
  {
   "cell_type": "code",
   "execution_count": null,
   "metadata": {
    "collapsed": false
   },
   "outputs": [],
   "source": [
    "plt.figure(figsize=(16,5))\n",
    "for r in range(3):\n",
    "    plt.subplot(1,3,r+1)\n",
    "    plt.imshow(nsims[:,r,].T, interpolation='None', aspect='auto')\n",
    "    plt.colorbar()\n",
    "    print('\\n r = ' + str(r+1) + '\\n')\n",
    "    print(np.mean(nsims[:,r,:],axis=1))\n",
    "    plt.title('round r = ' + str(r+1))\n",
    "plt.suptitle('nsims')\n",
    "plt.show()"
   ]
  },
  {
   "cell_type": "code",
   "execution_count": null,
   "metadata": {
    "collapsed": false
   },
   "outputs": [],
   "source": [
    "plt.figure(figsize=(16,5))\n",
    "for r in range(3):\n",
    "    plt.subplot(1,3,r+1)\n",
    "    tmp = nsims[:,r,:].T/(ess[:,r,:]*n_particles[:,r,:]).T\n",
    "    plt.imshow(tmp, interpolation='None', aspect='auto')\n",
    "    plt.colorbar()\n",
    "    print('\\n r = ' + str(r+1) + '\\n')\n",
    "    print(np.mean(tmp.T,axis=1))\n",
    "    plt.title('round r = ' + str(r+1))\n",
    "plt.suptitle('nsims / ess')\n",
    "plt.show()"
   ]
  },
  {
   "cell_type": "code",
   "execution_count": null,
   "metadata": {
    "collapsed": false
   },
   "outputs": [],
   "source": [
    "plt.figure(figsize=(16,5))\n",
    "for r in range(3):\n",
    "    plt.subplot(1,3,r+1)\n",
    "    tmp = ll[:,r,:].T\n",
    "    plt.imshow(tmp, interpolation='None', aspect='auto')\n",
    "    plt.colorbar()\n",
    "    print('\\n r = ' + str(r+1) + '\\n')\n",
    "    print(np.mean(tmp.T,axis=1))\n",
    "    plt.title('round r = ' + str(r+1))\n",
    "plt.suptitle('log-probability of posterior draw under gt distr.')\n",
    "plt.show()"
   ]
  },
  {
   "cell_type": "code",
   "execution_count": null,
   "metadata": {
    "collapsed": false
   },
   "outputs": [],
   "source": [
    "import scipy\n",
    "from lfimodels.abc_methods.run_abc import set_kernel_bandwidths\n",
    "\n",
    "for r in range(3):\n",
    "    plt.figure(figsize=(16,5))\n",
    "\n",
    "    xx = np.linspace(-3,3,200)\n",
    "    for a in range(len(algos)):\n",
    "\n",
    "        \n",
    "        plt.subplot(1,len(algos),a+1)\n",
    "        plt.plot(xx, ptrue.eval(xx.reshape(-1,1), log=False), 'g', linewidth=3)\n",
    "        plt.axis([-3, 3, 0., 2.5])\n",
    "        plt.title(algos[a])\n",
    "    \n",
    "    xx = np.linspace(-3,3,30)\n",
    "    for i in range(len(seeds)):\n",
    "        for a in range(len(algos)):\n",
    "\n",
    "            plt.subplot(1,len(algos),a+1)\n",
    "            res = all_[a][i]\n",
    "            plt.plot(xx+np.diff(xx)[0]/2, \n",
    "                     np.histogram(res[0][r][:,0], \n",
    "                                  weights=np.exp(res[2][r]), \n",
    "                                  bins=np.concatenate((xx, xx[-1:])),\n",
    "                                  normed=True)[0],\n",
    "                     'k')\n",
    "\n",
    "        \n",
    "    plt.ylabel('round #' + str(r+1))\n",
    "    plt.show()        "
   ]
  },
  {
   "cell_type": "code",
   "execution_count": null,
   "metadata": {
    "collapsed": false
   },
   "outputs": [],
   "source": [
    "import scipy\n",
    "from lfimodels.abc_methods.run_abc import set_kernel_bandwidths\n",
    "plt.figure(figsize=(16,5))\n",
    "\n",
    "xx = np.linspace(-3,3,300)\n",
    "\n",
    "for i in range(len(seeds)):\n",
    "    for a in range(len(algos)):\n",
    "        \n",
    "        plt.subplot(1,len(algos),a+1)\n",
    "        res = all_[a][i]\n",
    "        bw = set_kernel_bandwidths(data=res[0][-1], \n",
    "                                   weights=np.exp(res[2][-1]), \n",
    "                                   obs_stats=obs_stats.copy(), \n",
    "                                   rule='of_thumb')[0,0]\n",
    "        #kde = scipy.stats.gaussian_kde(res['posterior'].T, bw)\n",
    "        #plt.plot(xx,kde.pdf(xx.reshape(1,-1)), 'k')\n",
    "        \n",
    "        kde = dd.MoG(a=np.exp(res[2][-1]), \n",
    "                     ms=[res[0][-1][ii] for ii in range(res[0][-1].size)],\n",
    "                     Ss=[  np.atleast_2d(bw**2)  for ii in range(res[0][-1].size)]\n",
    "                    )\n",
    "        plt.plot(xx,kde.eval(xx.reshape(-1,1), log=False), 'k')\n",
    "\n",
    "for a in range(len(algos)):\n",
    "\n",
    "    plt.subplot(1,len(algos),a+1)\n",
    "    plt.plot(xx, ptrue.eval(xx.reshape(-1,1), log=False), 'g')\n",
    "    plt.axis([-3, 3, 0., 2.5])\n",
    "    plt.title(algos[a])\n",
    "plt.show()        "
   ]
  },
  {
   "cell_type": "code",
   "execution_count": null,
   "metadata": {
    "collapsed": true
   },
   "outputs": [],
   "source": []
  }
 ],
 "metadata": {
  "anaconda-cloud": {},
  "kernelspec": {
   "display_name": "Python 3",
   "language": "python",
   "name": "python3"
  },
  "language_info": {
   "codemirror_mode": {
    "name": "ipython",
    "version": 3
   },
   "file_extension": ".py",
   "mimetype": "text/x-python",
   "name": "python",
   "nbconvert_exporter": "python",
   "pygments_lexer": "ipython3",
   "version": "3.5.1"
  }
 },
 "nbformat": 4,
 "nbformat_minor": 2
}
