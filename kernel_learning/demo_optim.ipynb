{
 "cells": [
  {
   "cell_type": "code",
   "execution_count": 2,
   "metadata": {},
   "outputs": [
    {
     "name": "stdout",
     "output_type": "stream",
     "text": [
      "9.93443336483324e-08\n",
      "5.115907697472721e-13\n",
      "3.197442310920451e-14\n",
      "1.4210854715202004e-14\n",
      "3.552713678800501e-15\n",
      "3.552713678800501e-15\n",
      "3.552713678800501e-15\n",
      "0.0\n",
      "0.0\n",
      "0.0\n",
      "[ -1.67152479e-08   1.57049669e-06   3.73972252e-05   7.00563896e-06\n",
      "  -3.34702665e-04  -1.58101807e-06   8.89310243e-08   7.86923593e-08\n",
      "   3.64859479e-05   7.09714641e-07]\n"
     ]
    }
   ],
   "source": [
    "import lasagne\n",
    "import numpy as np\n",
    "import theano\n",
    "import theano.tensor as T\n",
    "\n",
    "dtype = theano.config.floatX\n",
    "ndim_x = 10\n",
    "\n",
    "class KernelLayer(lasagne.layers.Layer):\n",
    "    def __init__(self, incoming, B=lasagne.init.Normal(0.01), **kwargs):\n",
    "        super(KernelLayer, self).__init__(incoming, **kwargs)\n",
    "        num_inputs = self.input_shape[1]\n",
    "        self.eye = T.eye(num_inputs)\n",
    "        self.B = self.add_param(B, (num_inputs, ), name='B')\n",
    "\n",
    "    def get_output_for(self, input, **kwargs):\n",
    "        D = T.dot(self.B*self.eye, self.B*self.eye.T)\n",
    "        inner = (input.dot(D)*input).sum(axis=1)\n",
    "        return T.exp(-inner)\n",
    "\n",
    "    def get_output_shape_for(self, input_shape):\n",
    "        return (input_shape[0],)\n",
    "\n",
    "input_var = T.fmatrix('inputs')\n",
    "target_var = T.fvector('targets')\n",
    "\n",
    "l_in = lasagne.layers.InputLayer(shape=(None, ndim_x),\n",
    "                                input_var=input_var)\n",
    "l_dot = KernelLayer(l_in, name='kernel_layer')\n",
    "\n",
    "prediction = lasagne.layers.get_output(l_dot)\n",
    "\n",
    "loss = (prediction-target_var)**2\n",
    "loss = loss.mean()\n",
    "\n",
    "params = lasagne.layers.get_all_params(l_dot, trainable=True)\n",
    "\n",
    "updates = lasagne.updates.adam(\n",
    "            loss, params, learning_rate=0.01)\n",
    "\n",
    "train_fn = theano.function([input_var, target_var], [loss, prediction], updates=updates,\n",
    "                            on_unused_input='ignore')\n",
    "\n",
    "M = 2   # batch dimension\n",
    "x_data = 0.5*np.ones((M, ndim_x)).astype(np.float32)\n",
    "xo_data = np.zeros((M, ndim_x)).astype(np.float32)\n",
    "target_data = np.ones(M).astype(np.float32)\n",
    "\n",
    "for i in range(1000):\n",
    "    train_err, pred = train_fn(x_data-xo_data, target_data)\n",
    "    if i % 100 == 0:\n",
    "        print(train_err)\n",
    "    \n",
    "print(params[0].get_value())"
   ]
  },
  {
   "cell_type": "code",
   "execution_count": null,
   "metadata": {
    "collapsed": true
   },
   "outputs": [],
   "source": []
  }
 ],
 "metadata": {
  "kernelspec": {
   "display_name": "Python 3",
   "language": "python",
   "name": "python3"
  },
  "language_info": {
   "codemirror_mode": {
    "name": "ipython",
    "version": 3
   },
   "file_extension": ".py",
   "mimetype": "text/x-python",
   "name": "python",
   "nbconvert_exporter": "python",
   "pygments_lexer": "ipython3",
   "version": "3.6.2"
  }
 },
 "nbformat": 4,
 "nbformat_minor": 2
}
