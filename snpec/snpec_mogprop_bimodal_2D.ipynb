{
 "cells": [
  {
   "cell_type": "code",
   "execution_count": null,
   "metadata": {},
   "outputs": [],
   "source": [
    "%%capture\n",
    "%matplotlib inline\n",
    "\n",
    "import numpy as np\n",
    "import matplotlib.pyplot as plt\n",
    "import timeit\n",
    "\n",
    "import delfi.distribution as dd\n",
    "import delfi.inference as infer\n",
    "import delfi.generator as dg\n",
    "\n",
    "from delfi.simulator import GaussMixture\n",
    "import delfi.summarystats as ds\n",
    "from delfi.utils.viz import plot_pdf\n",
    "from delfi.utils.math import MoGL2sq"
   ]
  },
  {
   "cell_type": "code",
   "execution_count": null,
   "metadata": {},
   "outputs": [],
   "source": [
    "seed=45\n",
    "lower = np.array([-1.,-1.]) * 1.\n",
    "upper = np.array([1., 1.]) * 1.\n",
    "\n",
    "# SNPE parameters    \n",
    "n_components = 5\n",
    "    \n",
    "# training schedule\n",
    "n_train=[3000, 3000]\n",
    "n_rounds=2\n",
    "\n",
    "# fitting setup\n",
    "minibatch=100\n",
    "epochs=250\n",
    "\n",
    "# network setup\n",
    "n_hiddens=[20,20]\n",
    "reg_lambda=0.01\n",
    "\n",
    "# convenience\n",
    "pilot_samples=0\n",
    "svi=True\n",
    "verbose=True\n",
    "prior_norm=False\n",
    "init_norm=False\n"
   ]
  },
  {
   "cell_type": "code",
   "execution_count": null,
   "metadata": {
    "scrolled": true
   },
   "outputs": [],
   "source": [
    "p_true = dd.MoG(a=[0.5, 0.5], ms=[np.asarray([5., 5.]), np.asarray([-5., -5.])], Ss=[1.0*np.eye(2), 1.0*np.eye(2)])\n",
    "p_true.ndim=2\n",
    "\n",
    "return_abs = False\n",
    "\n",
    "# basic approach to controlling generator seeds\n",
    "def init_g(seed):\n",
    "    m = GaussMixture(dim=2, bimodal=True, return_abs=return_abs, noise_cov=[0.01, 0.01], seed=seed)\n",
    "    p = dd.Uniform(lower=lower, upper=upper, seed=seed)\n",
    "    s = ds.Identity()\n",
    "    return dg.Default(model=m, prior=p, summary=s)\n",
    "\n",
    "g = init_g(seed=seed)\n",
    "\n",
    "obs_stats = np.array([[.5, -.5]])\n",
    "\n",
    "trn_data = g.gen(1000)\n",
    "plt.subplot(1,2,1)\n",
    "plt.plot(trn_data[1], trn_data[0], '.')\n",
    "plt.show()\n"
   ]
  },
  {
   "cell_type": "code",
   "execution_count": null,
   "metadata": {
    "scrolled": true
   },
   "outputs": [],
   "source": [
    "g = init_g(seed=seed)\n",
    "\n",
    "res_A = infer.SNPEC(g, \n",
    "                 obs=obs_stats, \n",
    "                 n_hiddens=n_hiddens, \n",
    "                 n_components=n_components,\n",
    "                 seed=seed, \n",
    "                 reg_lambda=reg_lambda,\n",
    "                 pilot_samples=pilot_samples,\n",
    "                 svi=svi,\n",
    "                 verbose=verbose,\n",
    "                 init_norm=init_norm,\n",
    "                 prior_norm=prior_norm)\n",
    "\n",
    "t = timeit.time.time()\n",
    "\n",
    "logs_A, tds_A, posteriors_A = res_A.run(n_train=n_train,\n",
    "                    proposal='mog',\n",
    "                    n_rounds=n_rounds, \n",
    "                    minibatch=minibatch, \n",
    "                    epochs=epochs)\n",
    "\n",
    "print(timeit.time.time() -  t)\n"
   ]
  },
  {
   "cell_type": "code",
   "execution_count": null,
   "metadata": {
    "scrolled": false
   },
   "outputs": [],
   "source": [
    "for r in range(n_rounds):\n",
    "    fig,_ = plot_pdf(posteriors_A[r],\n",
    "             lims=[[lower[0],upper[0]],[lower[1],upper[1]]],\n",
    "             ticks=True,\n",
    "             resolution=100,\n",
    "             figsize=(16,16));\n",
    "    fig.suptitle('final posterior estimate vs MCMC samples and prior', fontsize=14)\n",
    "    plt.figure()\n",
    "    plt.plot(logs_A[r]['loss'])\n"
   ]
  },
  {
   "cell_type": "code",
   "execution_count": null,
   "metadata": {},
   "outputs": [],
   "source": [
    "plt.plot([x.mean[0] for i, x in enumerate(posteriors_A[0].xs)], [x.mean[1] for i, x in enumerate(posteriors_A[0].xs)],'.')\n",
    "plt.xlabel('mean x_1')\n",
    "plt.ylabel('mean x_2')\n",
    "plt.figure()\n",
    "plt.plot(posteriors_A[0].a)\n",
    "plt.xlabel('component index')\n",
    "plt.ylabel('mixture weight at x_0')"
   ]
  }
 ],
 "metadata": {
  "kernelspec": {
   "display_name": "Python 3",
   "language": "python",
   "name": "python3"
  },
  "language_info": {
   "codemirror_mode": {
    "name": "ipython",
    "version": 3
   },
   "file_extension": ".py",
   "mimetype": "text/x-python",
   "name": "python",
   "nbconvert_exporter": "python",
   "pygments_lexer": "ipython3",
   "version": "3.6.5"
  }
 },
 "nbformat": 4,
 "nbformat_minor": 2
}
