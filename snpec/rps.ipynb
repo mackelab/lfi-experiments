{
 "cells": [
  {
   "cell_type": "code",
   "execution_count": null,
   "metadata": {},
   "outputs": [],
   "source": [
    "%matplotlib inline\n",
    "\n",
    "import numpy as np\n",
    "import scipy.stats as stats\n",
    "\n",
    "from scipy.special import gammaln\n",
    "from matplotlib import pyplot as plt\n",
    "\n",
    "import delfi.generator as dg\n",
    "import delfi.distribution as dd\n",
    "from delfi.utils.viz import plot_pdf\n",
    "import delfi.inference as infer\n",
    "from delfi.summarystats.Identity import Identity\n",
    "\n",
    "from lfimodels.rockpaperscissors.rps_sde import rps_sde\n",
    "\n",
    "seed = 42\n",
    "\n",
    "L = 100  # image rows/columns\n",
    "duration = 100.0\n",
    "dt = 1.0"
   ]
  },
  {
   "cell_type": "code",
   "execution_count": null,
   "metadata": {},
   "outputs": [],
   "source": [
    "# simulation setup\n",
    "setup_opts = {\n",
    "    'n_components': 1,\n",
    "    'n_bypass': 0,\n",
    "    'filter_sizes': [3,3,3,3,2,2],\n",
    "    'n_filters': (16,16,16,32,32,32),\n",
    "    'pool_sizes': [1,3,2,2,2,1],\n",
    "    'n_hiddens': [50, 50],\n",
    "    'reg_lambda': 0.01,\n",
    "    'pilot_samples': 1000,\n",
    "    'verbose': True,\n",
    "    'prior_norm': False,\n",
    "    'init_norm': False,\n",
    "    'svi': False,\n",
    "    'seed': seed + 5,\n",
    "    'input_shape': (3,L,L),\n",
    "    'verbose': True,\n",
    "}\n",
    "                 \n",
    "\n",
    "run_opts = {\n",
    "    'n_train': 1000,\n",
    "    'n_rounds': 2,\n",
    "    'minibatch': 100,\n",
    "    'epochs': 2000,\n",
    "    'moo': 'resample',\n",
    "    'proposal': 'gaussian',\n",
    "    'n_null': None,\n",
    "    'train_on_all': True,\n",
    "    'max_norm': 0.1,\n",
    "    'val_frac': 0.1,\n",
    "    'silent_fail': False,\n",
    "    'reuse_prior_samples': False,\n",
    "}"
   ]
  },
  {
   "cell_type": "code",
   "execution_count": null,
   "metadata": {},
   "outputs": [],
   "source": [
    "# define a function for showing simulation results as images\n",
    "def showsim(s, **kwargs):\n",
    "    if 'interpolation' not in kwargs.keys():\n",
    "        kwargs['interpolation'] = 'None'\n",
    "    return plt.imshow(np.moveaxis(s.reshape(3, L, L), 0, -1), **kwargs)"
   ]
  },
  {
   "cell_type": "code",
   "execution_count": null,
   "metadata": {},
   "outputs": [],
   "source": [
    "p = dd.Uniform(lower=np.array([-1, -1, -6], dtype=float), \n",
    "               upper=np.array([1, 1, -5], dtype=float), seed=seed)\n",
    "m = rps_sde(dt=dt, duration=duration, L=L, seed=seed+1)\n",
    "g = dg.Default(model=m, prior=p, summary=Identity(), seed=seed+2)"
   ]
  },
  {
   "cell_type": "code",
   "execution_count": null,
   "metadata": {},
   "outputs": [],
   "source": [
    "pars_true = np.array([-0.5, 0.5, -5.25])\n",
    "obs = g.model.gen_single(pars_true)\n",
    "obs_stats = g.summary.calc([obs])\n",
    "\n",
    "showsim(obs_stats)"
   ]
  },
  {
   "cell_type": "code",
   "execution_count": null,
   "metadata": {},
   "outputs": [],
   "source": [
    "inf = infer.SNPEC(generator=g, obs=obs_stats, **setup_opts)"
   ]
  },
  {
   "cell_type": "code",
   "execution_count": null,
   "metadata": {},
   "outputs": [],
   "source": [
    "# print the network structure. \"None\" indicates the batch dimension\n",
    "for s in inf.network.layer:\n",
    "    if s.startswith('mixture'):\n",
    "        continue\n",
    "    print('{0}: {1}'.format(s, inf.network.layer[s].output_shape))"
   ]
  },
  {
   "cell_type": "code",
   "execution_count": null,
   "metadata": {},
   "outputs": [],
   "source": [
    "log, trn_data, posteriors = inf.run(**run_opts)"
   ]
  },
  {
   "cell_type": "code",
   "execution_count": null,
   "metadata": {
    "scrolled": false
   },
   "outputs": [],
   "source": [
    "for r in range(run_opts['n_rounds']):\n",
    "    plt.figure(figsize=(16,3))\n",
    "    plt.subplot(1,2,1)\n",
    "    plt.plot(log[r]['loss'])\n",
    "    plt.subplot(1,2,2)\n",
    "    plt.semilogx(log[r]['loss'])\n",
    "    plt.show()"
   ]
  },
  {
   "cell_type": "code",
   "execution_count": null,
   "metadata": {},
   "outputs": [],
   "source": [
    "labels_params = ['$\\log_{10}(\\mu)$', '$\\log_{10}(\\sigma)$', '$\\log_{10}(D)$'] \n",
    "# all pairwise marginals of fitted posterior\n",
    "fig_posterior, _ = plot_pdf(posteriors[-1], lims=[[-1, 1], [-1, 1], [-7, -5]], gt=pars_true.reshape(-1), figsize=(8, 8), resolution=100,\n",
    "                  labels_params=labels_params, ticks=True)"
   ]
  },
  {
   "cell_type": "code",
   "execution_count": null,
   "metadata": {},
   "outputs": [],
   "source": [
    "n_samples = 5\n",
    "\n",
    "g.proposal = None\n",
    "x_prior = g.gen(n_samples)[1]\n",
    "x_posterior = np.stack([y[0]['data'] for y in g.model.gen(posteriors[-1].gen(n_samples))], axis=0)"
   ]
  },
  {
   "cell_type": "code",
   "execution_count": null,
   "metadata": {},
   "outputs": [],
   "source": [
    "fig_samples = plt.figure(figsize=(8, 8))\n",
    "plt.subplot(3, n_samples, 1)\n",
    "showsim(obs_stats)\n",
    "plt.ylabel('Observed data')\n",
    "for i in range(n_samples):\n",
    "    plt.subplot(3, n_samples, n_samples + i + 1)\n",
    "    showsim(x_posterior[i])\n",
    "    if i == 0:\n",
    "        plt.ylabel('Posterior samples')\n",
    "    plt.subplot(3, n_samples, 2 * n_samples + i + 1)\n",
    "    showsim(x_prior[i])\n",
    "    if i == 0:\n",
    "        plt.ylabel('Prior samples')\n",
    "    "
   ]
  },
  {
   "cell_type": "code",
   "execution_count": null,
   "metadata": {},
   "outputs": [],
   "source": [
    "fig_posterior.savefig('rps_posterior.pdf')\n",
    "fig_samples.savefig('rps_samples.pdf')\n",
    "!pdftk rps_posterior.pdf rps_samples.pdf cat output rps.pdf\n",
    "!rm rps_posterior.pdf\n",
    "!rm rps_samples.pdf"
   ]
  }
 ],
 "metadata": {
  "kernelspec": {
   "display_name": "Python 3",
   "language": "python",
   "name": "python3"
  },
  "language_info": {
   "codemirror_mode": {
    "name": "ipython",
    "version": 3
   },
   "file_extension": ".py",
   "mimetype": "text/x-python",
   "name": "python",
   "nbconvert_exporter": "python",
   "pygments_lexer": "ipython3",
   "version": "3.7.0"
  }
 },
 "nbformat": 4,
 "nbformat_minor": 1
}
