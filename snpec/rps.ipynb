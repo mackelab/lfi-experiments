{
 "cells": [
  {
   "cell_type": "code",
   "execution_count": 117,
   "metadata": {},
   "outputs": [],
   "source": [
    "%matplotlib inline\n",
    "\n",
    "import numpy as np\n",
    "import scipy.stats as stats\n",
    "import os\n",
    "from copy import deepcopy\n",
    "\n",
    "from scipy.special import gammaln\n",
    "from matplotlib import pyplot as plt\n",
    "\n",
    "import delfi.generator as dg\n",
    "import delfi.distribution as dd\n",
    "from delfi.utils.viz import plot_pdf\n",
    "import delfi.inference as infer\n",
    "from delfi.summarystats.Identity import Identity\n",
    "\n",
    "from snl.util.plot import plot_hist_marginals\n",
    "from lfimodels.snl_exps.util import  save_results_byname, load_results_byname\n",
    "from lfimodels.rockpaperscissors.rps_sde import rps_sde\n",
    "\n",
    "model_id = 'rps'\n",
    "save_path = 'results/' + model_id\n",
    "\n",
    "seed = 4200\n",
    "\n",
    "L = 100  # image rows/columns\n",
    "duration = 100.0\n",
    "dt = 1.0\n",
    "\n",
    "nseeds = 20\n",
    "\n",
    "use_maf = False"
   ]
  },
  {
   "cell_type": "code",
   "execution_count": 118,
   "metadata": {},
   "outputs": [],
   "source": [
    "# simulation setup\n",
    "setup_opts = {\n",
    "    'n_bypass': 0,\n",
    "    'filter_sizes': [3,3,3,3, 2, 2],\n",
    "    'n_filters':    (8,8,8,16,32,32),\n",
    "    'pool_sizes':   [1,3,2,2, 2, 1],\n",
    "    'n_hiddens': [50, 50],\n",
    "    'reg_lambda': 0.01,\n",
    "    'pilot_samples': 0,  # values are already between 0 and 1\n",
    "    'verbose': True,\n",
    "    'prior_norm': False,  # turn off till we've fixed the active trainer. good for uniform priors etc.\n",
    "    'init_norm': False,\n",
    "    'input_shape': (3,L,L),\n",
    "    'verbose': True,\n",
    "}\n",
    "if use_maf:\n",
    "    setup_opts.update(dict(density='maf', maf_mode='random', n_mades=5, maf_actfun='tanh', batch_norm=False))\n",
    "else:\n",
    "    setup_opts.update(dict(density='mog', n_components=1))                 \n",
    "\n",
    "run_opts = {\n",
    "    'n_train': 1000,\n",
    "    'n_rounds': 10,\n",
    "    'minibatch': 100,\n",
    "    'epochs': 2000,\n",
    "    'moo': 'resample',\n",
    "    'proposal': 'discrete',\n",
    "    'n_null': None,\n",
    "    'train_on_all': True,\n",
    "    'max_norm': 0.1,\n",
    "    'val_frac': 0.1,\n",
    "    'silent_fail': False,\n",
    "}"
   ]
  },
  {
   "cell_type": "code",
   "execution_count": 124,
   "metadata": {},
   "outputs": [],
   "source": [
    "# define a function for showing simulation results as images\n",
    "def showsim(s_rgb, L=100, **kwargs):\n",
    "    if 'interpolation' not in kwargs.keys():\n",
    "        kwargs['interpolation'] = 'None'\n",
    "    s_ryb = s_rgb.copy().reshape(3, L, L)\n",
    "    s_ryb[0] = np.minimum(1.0, s_ryb[0] + s_ryb[1])\n",
    "    imobj = plt.imshow(np.moveaxis(s_ryb, 0, -1), **kwargs)\n",
    "    plt.gca().axis('off')\n",
    "    return imobj"
   ]
  },
  {
   "cell_type": "code",
   "execution_count": null,
   "metadata": {},
   "outputs": [],
   "source": [
    "def init_all(seed, pars_true=None, infobj=infer.SNPEC, svi=False):\n",
    "    p = dd.Uniform(lower=np.array([-1, -1, -6], dtype=float), \n",
    "                   upper=np.array([1, 1, -5], dtype=float), seed=seed)\n",
    "    n_cores = 8    \n",
    "    mlist = [rps_sde(dt=dt, duration=duration, L=L, seed=seed + 100 + i) for i in range(n_cores)]\n",
    "    g = dg.MPGenerator(models=mlist, prior=p, summary=Identity(seed=seed+2), seed=seed+3)\n",
    "    \n",
    "    if pars_true is None:\n",
    "        pars_true = g.prior.gen(1).reshape(-1)\n",
    "    #obs = g.model.gen_single(pars_true)\n",
    "    obs = g.models[0].gen_single(pars_true)\n",
    "    obs_stats = g.summary.calc([obs])\n",
    "    \n",
    "    if setup_opts['density'] == 'mog':\n",
    "        setup_opts['svi'] = svi\n",
    "    \n",
    "    inf = infobj(generator=g, obs=obs_stats, seed=seed+4, **setup_opts)\n",
    "    \n",
    "    return g, pars_true, obs, obs_stats, inf"
   ]
  },
  {
   "cell_type": "code",
   "execution_count": null,
   "metadata": {},
   "outputs": [],
   "source": [
    "pars_true = np.array([-0.5, 0.5, -5.25])\n",
    "\n",
    "g, pars_true, obs, obs_stats, inf = init_all(seed, pars_true=pars_true)\n",
    "\n",
    "showsim(obs_stats)"
   ]
  },
  {
   "cell_type": "code",
   "execution_count": null,
   "metadata": {
    "scrolled": true
   },
   "outputs": [],
   "source": [
    "# print the network structure. \"None\" indicates the batch dimension\n",
    "for s in inf.network.layer:\n",
    "    if s.startswith('mixture'):\n",
    "        continue\n",
    "    print('{0}: {1}'.format(s, inf.network.layer[s].output_shape))"
   ]
  },
  {
   "cell_type": "code",
   "execution_count": null,
   "metadata": {
    "scrolled": false
   },
   "outputs": [],
   "source": [
    "log, trn_data, posteriors = inf.run(**run_opts)"
   ]
  },
  {
   "cell_type": "code",
   "execution_count": null,
   "metadata": {
    "scrolled": false
   },
   "outputs": [],
   "source": [
    "fig_conv = plt.figure(figsize=(8, 8))\n",
    "for r in range(run_opts['n_rounds']):\n",
    "    plt.subplot(run_opts['n_rounds'], 1, r + 1)\n",
    "    plt.plot(log[r]['loss'],'b',label='training loss')\n",
    "    plt.plot(log[r]['val_loss_iter'], log[r]['val_loss'], 'm', label='validation loss')\n",
    "    plt.legend()"
   ]
  },
  {
   "cell_type": "code",
   "execution_count": null,
   "metadata": {},
   "outputs": [],
   "source": [
    "plot_hist_marginals(posteriors[-1].gen(1000), lims=np.vstack((g.prior.lower, g.prior.upper)).T, \n",
    "                            gt=pars_true.flatten(), rasterized=False)"
   ]
  },
  {
   "cell_type": "code",
   "execution_count": null,
   "metadata": {
    "scrolled": false
   },
   "outputs": [],
   "source": [
    "labels_params = ['$\\log_{10}(\\mu)$', '$\\log_{10}(\\sigma)$', '$\\log_{10}(D)$'] \n",
    "# all pairwise marginals of fitted posterior\n",
    "fig_posterior, _ = plot_pdf(posteriors[-1], lims=[[-1, 1], [-1, 1], [-7, -5]], gt=pars_true.reshape(-1), figsize=(8, 8), resolution=100,\n",
    "                  labels_params=labels_params, ticks=True)"
   ]
  },
  {
   "cell_type": "code",
   "execution_count": null,
   "metadata": {},
   "outputs": [],
   "source": [
    "fig_nlogptrue = plt.figure()\n",
    "\n",
    "nsim = (np.arange(run_opts['n_rounds']) + 1.0) * run_opts['n_train']\n",
    "\n",
    "plt.semilogx(nsim, [-pp.eval(pars_true.reshape(1, -1), log=True) for pp in posteriors],'.-')\n",
    "plt.ylabel('-log p(true parameters)')\n",
    "plt.xlabel('Number of simulations (log scale)')"
   ]
  },
  {
   "cell_type": "code",
   "execution_count": null,
   "metadata": {},
   "outputs": [],
   "source": [
    "# draw samples from the prior and posterior\n",
    "n_samples = 5\n",
    "\n",
    "g.proposal = None\n",
    "x_prior = g.gen(n_samples)[1]\n",
    "x_posterior = np.stack([y[0]['data'] for y in g.model.gen(posteriors[-1].gen(n_samples))], axis=0)"
   ]
  },
  {
   "cell_type": "code",
   "execution_count": null,
   "metadata": {},
   "outputs": [],
   "source": [
    "fig_samples = plt.figure(figsize=(8, 8))\n",
    "plt.subplot(3, n_samples, 1)\n",
    "showsim(obs_stats)\n",
    "plt.title('Observed data')\n",
    "for i in range(n_samples):\n",
    "    plt.subplot(3, n_samples, n_samples + i + 1)\n",
    "    showsim(x_posterior[i])\n",
    "    if i == 0:\n",
    "        plt.title('Posterior samples')\n",
    "    plt.subplot(3, n_samples, 2 * n_samples + i + 1)\n",
    "    showsim(x_prior[i])\n",
    "    if i == 0:\n",
    "        plt.title('Prior samples')"
   ]
  },
  {
   "cell_type": "code",
   "execution_count": null,
   "metadata": {},
   "outputs": [],
   "source": [
    "fig_posterior.savefig('rps_posterior.pdf')\n",
    "fig_samples.savefig('rps_samples.pdf')\n",
    "fig_nlogptrue.savefig('rps_nlogptrue.pdf')\n",
    "\n",
    "!pdftk rps_posterior.pdf rps_samples.pdf rps_nlogptrue.pdf cat output rps.pdf\n",
    "!rm rps_posterior.pdf\n",
    "!rm rps_samples.pdf\n",
    "!rm rps_nlogptrue.pdf"
   ]
  },
  {
   "cell_type": "code",
   "execution_count": null,
   "metadata": {},
   "outputs": [],
   "source": [
    "seeds = seed + np.arange(nseeds) * 20"
   ]
  },
  {
   "cell_type": "code",
   "execution_count": null,
   "metadata": {
    "scrolled": false
   },
   "outputs": [],
   "source": [
    "# run multiple seeds with SNPEC discrete MDN\n",
    "for s in seeds:\n",
    "    _, pt, raw_data, stats, nextinf = init_all(s)  # samples observed data from the marginal (i.e. with parameters from the prior)\n",
    "    ll, _, pp = nextinf.run(**run_opts)\n",
    "    \n",
    "    exp_id = 'rps_' + setup_opts['density'] + '_' + str(s)\n",
    "    save_results_byname(logs=ll, posteriors=pp, raw_data=raw_data, pars_true=pt, seed=s,\n",
    "                        setup_opts=setup_opts, run_opts=run_opts, exp_id=exp_id, path=save_path)"
   ]
  },
  {
   "cell_type": "code",
   "execution_count": null,
   "metadata": {},
   "outputs": [],
   "source": [
    "run_opts_SNPEAB = {\n",
    "    'n_train': 1000,\n",
    "    'n_rounds': 10,\n",
    "    'minibatch': 100,\n",
    "    'epochs': 2000,\n",
    "    'max_norm': 0.1,\n",
    "    'val_frac': 0.1,\n",
    "}"
   ]
  },
  {
   "cell_type": "code",
   "execution_count": null,
   "metadata": {
    "scrolled": true
   },
   "outputs": [],
   "source": [
    "# run multiple seeds with SNPEA MDN\n",
    "for s in seeds:\n",
    "    \n",
    "    _, pt, raw_data, stats, nextinf = init_all(s, infobj=infer.CDELFI)  # samples observed data from the marginal (i.e. with parameters from the prior)\n",
    "    ll, _, pp = nextinf.run(**run_opts_SNPEAB)\n",
    "    \n",
    "    exp_id = 'rps_' + setup_opts['density'] + '_' + str(s) + '_A'\n",
    "    save_results_byname(logs=ll, posteriors=pp, raw_data=raw_data, pars_true=pt, seed=s,\n",
    "                        setup_opts=setup_opts, run_opts=run_opts, exp_id=exp_id, path=save_path)"
   ]
  },
  {
   "cell_type": "code",
   "execution_count": null,
   "metadata": {},
   "outputs": [],
   "source": [
    "# run multiple seeds with SNPEB MDN\n",
    "for s in seeds:\n",
    "    \n",
    "    _, pt, raw_data, stats, nextinf = init_all(s, infobj=infer.SNPE, svi=True)  # samples observed data from the marginal (i.e. with parameters from the prior)\n",
    "    ll, _, pp = nextinf.run(**run_opts_SNPEAB)\n",
    "    \n",
    "    exp_id = 'rps_' + setup_opts['density'] + '_' + str(s) + '_B'\n",
    "    save_results_byname(logs=ll, posteriors=pp, raw_data=raw_data, pars_true=pt, seed=s,\n",
    "                        setup_opts=setup_opts, run_opts=run_opts, exp_id=exp_id, path=save_path)"
   ]
  },
  {
   "cell_type": "code",
   "execution_count": 108,
   "metadata": {},
   "outputs": [],
   "source": [
    "#load results\n",
    "subdirs = os.listdir(save_path)\n",
    "exp_ids, exp_ids_A, exp_ids_B = [], [], []\n",
    "for d in subdirs:\n",
    "    if not d.startswith('rps_'):\n",
    "        continue\n",
    "    if d.endswith('_A'):\n",
    "        exp_ids_A.append(d)\n",
    "    elif d.endswith('_B'):\n",
    "        exp_ids_B.append(d)\n",
    "    else:\n",
    "        exp_ids.append(d)\n",
    "        \n",
    "posteriors_seeds, pars_true_seeds, raw_data_seeds = [], [], []\n",
    "for exp_id in exp_ids:\n",
    "    pp, load_vars = load_results_byname(exp_id, path=save_path)\n",
    "    posteriors_seeds.append(pp)\n",
    "    pars_true_seeds.append(np.array(load_vars['pars_true']))\n",
    "    raw_data_seeds.append(load_vars['raw_data']['data'])\n",
    "Pmat = np.array([[-pp.eval(pt.reshape(1, -1), log=True)[0] for pp in P] for P, pt in zip (posteriors_seeds, pars_true_seeds)]).T\n",
    "    \n",
    "posteriors_seeds_A, pars_true_seeds_A = [], []\n",
    "for exp_id in exp_ids_A:\n",
    "    pp, load_vars = load_results_byname(exp_id, path=save_path)\n",
    "    pp_ok = []\n",
    "    for nextp in pp:\n",
    "        if nextp is None:\n",
    "            pp_ok.append(pp_ok[-1])\n",
    "        else:\n",
    "            pp_ok.append(nextp)\n",
    "    posteriors_seeds_A.append(pp_ok)\n",
    "    pars_true_seeds_A.append(np.array(load_vars['pars_true']))\n",
    "Pmat_A = np.array([[-pp.eval(pt.reshape(1, -1), log=True)[0] for pp in P] for P, pt in zip (posteriors_seeds_A, pars_true_seeds_A)]).T\n",
    "\n",
    "posteriors_seeds_B, pars_true_seeds_B = [], []\n",
    "for exp_id in exp_ids_B:\n",
    "    pp, load_vars = load_results_byname(exp_id, path=save_path)\n",
    "    posteriors_seeds_B.append(pp)\n",
    "    pars_true_seeds_B.append(np.array(load_vars['pars_true']))\n",
    "Pmat_B = np.array([[-pp.eval(pt.reshape(1, -1), log=True)[0] for pp in P] for P, pt in zip (posteriors_seeds_B, pars_true_seeds_B)]).T"
   ]
  },
  {
   "cell_type": "code",
   "execution_count": 114,
   "metadata": {},
   "outputs": [
    {
     "data": {
      "image/png": "[encoded data removed]",
      "text/plain": [
       "<Figure size 432x288 with 1 Axes>"
      ]
     },
     "metadata": {},
     "output_type": "display_data"
    }
   ],
   "source": [
    "plotfun = plt.semilogx\n",
    "\n",
    "nsim = (np.arange(run_opts['n_rounds']) + 1.0) * run_opts['n_train']\n",
    "fig_nlogptrue = plt.figure()\n",
    "\n",
    "\n",
    "sem = Pmat.std(axis=1) / np.sqrt(Pmat.shape[1] - 1)\n",
    "meanlog = Pmat.mean(axis=1)\n",
    "sem_A = Pmat_A.std(axis=1) / np.sqrt(Pmat_A.shape[1] - 1)\n",
    "meanlog_A = Pmat_A.mean(axis=1)\n",
    "sem_B = Pmat_B.std(axis=1) / np.sqrt(Pmat_B.shape[1] - 1)\n",
    "meanlog_B = Pmat_B.mean(axis=1)\n",
    "\n",
    "plt.fill_between(nsim, meanlog_A-sem_A, meanlog_A+sem_A, color='c', alpha=0.3)\n",
    "plt.fill_between(nsim, meanlog_B-sem_B, meanlog_B+sem_B, color='g', alpha=0.3)\n",
    "plt.fill_between(nsim, meanlog-sem, meanlog+sem, color='k', alpha=0.3)\n",
    "hA = plotfun(nsim, Pmat_A.mean(axis=1),'c>-', label='SNPE-A')\n",
    "hB = plotfun(nsim, Pmat_B.mean(axis=1),'gp-', label='SNPE-B')\n",
    "h = plotfun(nsim, Pmat.mean(axis=1),'k.-', label='APT')\n",
    "\n",
    "plt.ylim((-6.5, 1))\n",
    "\n",
    "plt.ylabel('-log p(true parameters)')\n",
    "plt.xlabel('Number of simulations (log scale)')\n",
    "plt.legend(loc='lower left')\n",
    "\n",
    "ax = plt.gca()\n",
    "yt_show = [-5, 0]\n",
    "YTL = ax.get_yticks().tolist()\n",
    "for i in range(len(YTL)):\n",
    "    if YTL[i] not in yt_show:\n",
    "        YTL[i] = ''\n",
    "    else:\n",
    "        YTL[i] = [z for z in yt_show if z == YTL[i]][0]\n",
    "ax.set_yticklabels(YTL)\n",
    "plt.show()"
   ]
  },
  {
   "cell_type": "code",
   "execution_count": 123,
   "metadata": {},
   "outputs": [
    {
     "ename": "NameError",
     "evalue": "name 'infobj' is not defined",
     "output_type": "error",
     "traceback": [
      "\u001b[0;31m---------------------------------------------------------------------------\u001b[0m",
      "\u001b[0;31mNameError\u001b[0m                                 Traceback (most recent call last)",
      "\u001b[0;32m<ipython-input-123-1e123880fa0e>\u001b[0m in \u001b[0;36m<module>\u001b[0;34m()\u001b[0m\n\u001b[1;32m     23\u001b[0m     \u001b[0msetup_opts_big\u001b[0m\u001b[0;34m[\u001b[0m\u001b[0;34m'svi'\u001b[0m\u001b[0;34m]\u001b[0m \u001b[0;34m=\u001b[0m \u001b[0msvi\u001b[0m\u001b[0;34m\u001b[0m\u001b[0m\n\u001b[1;32m     24\u001b[0m \u001b[0;34m\u001b[0m\u001b[0m\n\u001b[0;32m---> 25\u001b[0;31m \u001b[0minf_big\u001b[0m \u001b[0;34m=\u001b[0m \u001b[0minfobj\u001b[0m\u001b[0;34m(\u001b[0m\u001b[0mgenerator\u001b[0m\u001b[0;34m=\u001b[0m\u001b[0mg_big\u001b[0m\u001b[0;34m,\u001b[0m \u001b[0mobs\u001b[0m\u001b[0;34m=\u001b[0m\u001b[0mobs_stats\u001b[0m\u001b[0;34m,\u001b[0m \u001b[0mseed\u001b[0m\u001b[0;34m=\u001b[0m\u001b[0mseed\u001b[0m\u001b[0;34m+\u001b[0m\u001b[0;36m4\u001b[0m\u001b[0;34m,\u001b[0m \u001b[0;34m**\u001b[0m\u001b[0msetup_opts_big\u001b[0m\u001b[0;34m)\u001b[0m\u001b[0;34m\u001b[0m\u001b[0m\n\u001b[0m",
      "\u001b[0;31mNameError\u001b[0m: name 'infobj' is not defined"
     ]
    }
   ],
   "source": [
    "# define a setup for a 1K x 1K image\n",
    "L_big = 1000\n",
    "pars_true_big = np.array([-0.5, 0.5, -5.25])\n",
    "svi = False\n",
    "dt_big = 0.1\n",
    "\n",
    "setup_opts_big = deepcopy(setup_opts)\n",
    "setup_opts_big.update(dict(\n",
    "    filter_sizes=[3,3,3,3, 2, 2],\n",
    "    n_filters=   (8,8,8,16,32,32),\n",
    "    pool_sizes=  [1,3,2,2, 2, 1],\n",
    "    input_shape= (3, L_big, L_big)\n",
    "    ))\n",
    "\n",
    "p = dd.Uniform(lower=np.array([-1, -1, -6], dtype=float), \n",
    "               upper=np.array([1, 1, -5], dtype=float), seed=seed)\n",
    "n_cores = 8    \n",
    "mlist_big = [rps_sde(dt=dt_big, duration=duration, L=L_big, seed=seed + 100 + i) for i in range(n_cores)]\n",
    "g_big = dg.MPGenerator(models=mlist_big, prior=p, summary=Identity(seed=seed+2), seed=seed+3)\n",
    "obs = g_big.models[0].gen_single(pars_true_big)\n",
    "obs_stats = g_big.summary.calc([obs])\n",
    "    \n",
    "if setup_opts_big['density'] == 'mog':\n",
    "    setup_opts_big['svi'] = svi\n",
    "    \n",
    "inf_big = infobj(generator=g_big, obs=obs_stats, seed=seed+4, **setup_opts_big)"
   ]
  },
  {
   "cell_type": "code",
   "execution_count": null,
   "metadata": {
    "scrolled": true
   },
   "outputs": [],
   "source": [
    "# print the network structure. \"None\" indicates the batch dimension\n",
    "for s in inf_big.network.layer:\n",
    "    if s.startswith('mixture'):\n",
    "        continue\n",
    "    print('{0}: {1}'.format(s, inf.network.layer[s].output_shape))"
   ]
  }
 ],
 "metadata": {
  "kernelspec": {
   "display_name": "Python 3",
   "language": "python",
   "name": "python3"
  },
  "language_info": {
   "codemirror_mode": {
    "name": "ipython",
    "version": 3
   },
   "file_extension": ".py",
   "mimetype": "text/x-python",
   "name": "python",
   "nbconvert_exporter": "python",
   "pygments_lexer": "ipython3",
   "version": "3.6.5"
  }
 },
 "nbformat": 4,
 "nbformat_minor": 1
}
