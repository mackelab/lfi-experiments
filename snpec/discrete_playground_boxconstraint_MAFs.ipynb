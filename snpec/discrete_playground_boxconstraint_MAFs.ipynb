{
 "cells": [
  {
   "cell_type": "markdown",
   "metadata": {},
   "source": [
    "# Box-constrained MAF sampling and densities\n",
    "\n",
    "- simple (scaled) logistic transformation of the output variables of a (conditional!) MAF ensures boundedness of the density support and hence agreement with uniform priors (with rectangular support).\n",
    "- kind of a very tailored solutions, but uniform priors  appear to be *really* popular in the field of likelihood-free posterior inference."
   ]
  },
  {
   "cell_type": "code",
   "execution_count": null,
   "metadata": {},
   "outputs": [],
   "source": [
    "%matplotlib inline\n",
    "import numpy as np\n",
    "from matplotlib import pyplot as plt\n",
    "import timeit\n",
    "\n",
    "from delfi.utils.viz import plot_pdf\n",
    "import delfi.inference as infer\n",
    "import delfi.distribution as dd\n",
    "\n",
    "from lfimodels.snl_exps.util import load_setup_gauss as load_setup\n",
    "\n",
    "# simulation setup\n",
    "setup_dict = load_setup() # get some sensible values for the MAF as used for the SNPE-C project\n",
    "\n",
    "seed=43\n",
    "\n",
    "# some convention adjustments across code packages (model inputs)\n",
    "kwargs = {}\n",
    "\n",
    "kwargs['n_hiddens'] = setup_dict['n_hiddens']\n",
    "kwargs['act_fun'] = setup_dict['act_fun']\n",
    "kwargs['n_mades'] = setup_dict['n_mades']\n",
    "\n",
    "kwargs['n_inputs'] = (3,)\n",
    "kwargs['n_outputs'] = 3\n",
    "\n",
    "kwargs['batch_norm'] = setup_dict['batch_norm']\n",
    "assert 'batch_norm' in kwargs.keys() and not kwargs['batch_norm']\n",
    "kwargs['rng'] = np.random.RandomState(seed=seed)\n",
    "\n",
    "assert len(kwargs['n_inputs']) == 1, 'only vector-shaped inputs!'\n",
    "kwargs['n_inputs'] = kwargs['n_inputs'][0]\n",
    "\n",
    "kwargs['upper'] =  3.\n",
    "kwargs['lower'] = -3.\n",
    "\n",
    "\n"
   ]
  },
  {
   "cell_type": "code",
   "execution_count": null,
   "metadata": {},
   "outputs": [],
   "source": [
    "from delfi.utils.BoxConstraintConditionalAutoregressiveFlow import BoxConstraintConditionalAutoregressiveFlow\n",
    " \n",
    "maf = BoxConstraintConditionalAutoregressiveFlow(**kwargs)"
   ]
  },
  {
   "cell_type": "markdown",
   "metadata": {},
   "source": [
    "# check 2D (against pdf)"
   ]
  },
  {
   "cell_type": "code",
   "execution_count": null,
   "metadata": {},
   "outputs": [],
   "source": [
    "assert kwargs['n_outputs'] == 2\n",
    "\n",
    "resolution, eps = 50, 1e-5\n",
    "x_grid = np.linspace(kwargs['lower']+eps, kwargs['upper']-eps, resolution)\n",
    "x_,y_ = np.meshgrid(x_grid, x_grid)\n",
    "thetas = np.concatenate([x_.reshape([-1, 1]), y_.reshape([-1, 1])], axis=1)\n",
    "\n",
    "plt.figure(figsize=(10,15))\n",
    "for k in range(3):\n",
    "\n",
    "    xo = np.random.normal(size=3)\n",
    "    samples = maf.gen(x=xo, n_samples=100000)\n",
    "\n",
    "    xy = (np.tile(xo, (thetas.shape[0], 1)), \n",
    "          thetas)\n",
    "\n",
    "    pp = np.zeros(xy[0].shape[0])\n",
    "    for i in range(pp.size):\n",
    "        pp[i] = maf.eval((xy[0][i],xy[1][i]), log=False)\n",
    "    pp = pp.reshape(resolution, resolution)\n",
    "\n",
    "    plt.subplot(3,2,1+2*k)\n",
    "    plt.imshow(pp, origin='lower', interpolation='none')\n",
    "\n",
    "    prob = pp.sum() * maf.diff**2 / resolution**2\n",
    "    plt.ylabel('numerically integrated mass within box : ' + str(np.round(prob*100)/100))\n",
    "    plt.title('MAF density')\n",
    "    \n",
    "    plt.subplot(3,2,2+2*k)\n",
    "    plt.hist2d(samples[:,0], samples[:,1], bins=np.linspace(kwargs['lower'], kwargs['upper'], resolution))\n",
    "    plt.title('sample histogram')\n",
    "\n",
    "#plt.savefig('/home/mackelab/Desktop/boxconstraint_mafs_density_vs_samples.pdf')\n",
    "\n",
    "plt.show()\n",
    "\n"
   ]
  },
  {
   "cell_type": "markdown",
   "metadata": {},
   "source": [
    "# check 3D (only samples)"
   ]
  },
  {
   "cell_type": "code",
   "execution_count": null,
   "metadata": {},
   "outputs": [],
   "source": [
    "assert kwargs['n_outputs'] == 3 # else need different grid...\n",
    "resolution, eps = 50, 1e-5\n",
    "x_grid = np.linspace(kwargs['lower']+eps, kwargs['upper']-eps, resolution)\n",
    "x_,y_,z_ = np.meshgrid(x_grid, x_grid, x_grid)\n",
    "thetas = np.concatenate([x_.reshape([-1, 1]), y_.reshape([-1, 1]), z_.reshape([-1, 1])], axis=1)\n",
    "\n",
    "xo = np.random.normal(size=kwargs['n_inputs'] )\n",
    "samples = maf.gen(x=xo, n_samples=100000)\n",
    "\n",
    "plot_pdf(dd.Gaussian(m=0.00000123*np.ones(kwargs['n_outputs']), S=1e-30*np.eye(kwargs['n_outputs'])), \n",
    "         samples=samples.T,\n",
    "         #lims=[[-2,5],[-2,5],[-2,5]], # lims should be within 'upper' and 'lower' !!\n",
    "         resolution=100,\n",
    "         ticks=True,\n",
    "         figsize=(16,16));\n",
    "\n"
   ]
  },
  {
   "cell_type": "code",
   "execution_count": null,
   "metadata": {},
   "outputs": [],
   "source": []
  }
 ],
 "metadata": {
  "kernelspec": {
   "display_name": "Python 3",
   "language": "python",
   "name": "python3"
  },
  "language_info": {
   "codemirror_mode": {
    "name": "ipython",
    "version": 3
   },
   "file_extension": ".py",
   "mimetype": "text/x-python",
   "name": "python",
   "nbconvert_exporter": "python",
   "pygments_lexer": "ipython3",
   "version": "3.5.1"
  }
 },
 "nbformat": 4,
 "nbformat_minor": 2
}
