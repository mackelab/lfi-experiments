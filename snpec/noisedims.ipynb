{
 "cells": [
  {
   "cell_type": "code",
   "execution_count": null,
   "metadata": {},
   "outputs": [],
   "source": [
    "from delfi.simulator import Gauss, NoiseDataDimensions\n",
    "import delfi.distribution as dd\n",
    "\n",
    "data_dim = 2\n",
    "noise_dim = 2\n",
    "n_noise_comps = 5\n",
    "\n",
    "seed = 99"
   ]
  },
  {
   "cell_type": "code",
   "execution_count": null,
   "metadata": {},
   "outputs": [],
   "source": [
    "#need to replace with SNL Gauss model\n",
    "\n",
    "base_model = Gauss(dim=data_dim, noise_cov=0.1, seed=seed)\n",
    "\n",
    "noise_means_prior = dd.Gaussian(m = np.zeros(noise_dim), S=np.eye(noise_dim), seed=seed+1)\n",
    "noise_ms = [noise_means_prior.gen(1).reshape(-1) for i in range(n_noise_comps)]\n",
    "\n",
    "cholesky_factors = [np.tril(np.random.randn((noise_dim, noise_dim))) + np.diag(np.exp(np.random.randn(noise_dim)))\n",
    "                    for i in range(n_noise_comps)]\n",
    "noise_Ss = [np.dot(ch, ch.T) / noise_dim for ch in cholesky_factors]\n",
    "\n",
    "noise_distribution = dd.StudentsTMixture(a=np.ones(n_noise_comps) / n_noise_comps, ms=ms, Ss=Ss)\n",
    "model = NoiseDataDimensions(model=base_model, noise_dist=noise_dist)\n",
    "prior = dd.Gaussian(m=np.zeros(2), S=np.eye(2)*0.5)"
   ]
  }
 ],
 "metadata": {
  "kernelspec": {
   "display_name": "Python 3",
   "language": "python",
   "name": "python3"
  },
  "language_info": {
   "codemirror_mode": {
    "name": "ipython",
    "version": 3
   },
   "file_extension": ".py",
   "mimetype": "text/x-python",
   "name": "python",
   "nbconvert_exporter": "python",
   "pygments_lexer": "ipython3",
   "version": "3.7.0"
  }
 },
 "nbformat": 4,
 "nbformat_minor": 2
}
