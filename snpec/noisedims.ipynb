{
 "cells": [
  {
   "cell_type": "code",
   "execution_count": null,
   "metadata": {},
   "outputs": [],
   "source": [
    "%matplotlib inline\n",
    "import numpy as np\n",
    "from matplotlib import pyplot as plt\n",
    "import timeit\n",
    "\n",
    "from delfi.utils.viz import plot_pdf\n",
    "import delfi.inference as infer\n",
    "import delfi.distribution as dd\n",
    "\n",
    "from lfimodels.snl_exps.util import save_results, load_results\n",
    "from lfimodels.snl_exps.util import init_g_gauss as init_g\n",
    "from lfimodels.snl_exps.util import load_setup_gauss as load_setup\n",
    "from lfimodels.snl_exps.util import load_gt_gauss as load_gt\n",
    "from lfimodels.snl_exps.util import calc_all_lprob_errs\n",
    "\n",
    "seed = 42\n",
    "\n",
    "model_id = 'gauss'\n",
    "save_path = 'results/' + model_id + '_box_validationset'\n",
    "exp_id = 'seed'+str(seed)\n",
    "\n",
    "\n",
    "# simulation setup\n",
    "setup_dict = load_setup()\n",
    "\n",
    "pars_true, obs_stats = load_gt(generator=init_g(seed=seed))\n",
    "print('pars_true : ', pars_true)\n",
    "print('obs_stats : ', obs_stats)\n",
    "\n",
    "from delfi.simulator import NoiseDataDimensions\n",
    "import delfi.distribution as dd\n",
    "from delfi.summarystats.BaseSummaryStats import BaseSummaryStats\n",
    "\n",
    "class NoiseStats(BaseSummaryStats):\n",
    "    \n",
    "    def __init__(self, noise_source, n_noise=None, seed=None):\n",
    "        \n",
    "        self.noise_source = noise_source\n",
    "        self.n_noise = self.noise_source.ndim\n",
    "        super().__init__(seed=seed)\n",
    "        \n",
    "    def calc(self, repetition_list):\n",
    "                \n",
    "        # get the number of samples contained\n",
    "        n_reps = len(repetition_list)\n",
    "\n",
    "        # get the size of the data inside a sample\n",
    "        self.n_summary = repetition_list[0].size + self.n_noise\n",
    "\n",
    "        # build a matrix of n_reps x n_summary\n",
    "        data_matrix = np.zeros((n_reps, self.n_summary))\n",
    "        noise_matrix = self.noise_source.gen(n_reps)\n",
    "        for rep_idx, rep_val in enumerate(repetition_list):\n",
    "            data_matrix[rep_idx, :] =  np.hstack( (rep_val, noise_matrix[rep_idx,:]) )\n",
    "\n",
    "        return data_matrix\n",
    "        \n",
    "noise_dim = 10\n",
    "n_noise_comps = 20\n",
    "\n",
    "noise_means_prior = dd.Gaussian(m = np.zeros(noise_dim), S=np.eye(noise_dim), seed=seed+1)\n",
    "noise_ms = [noise_means_prior.gen(1).reshape(-1) for i in range(n_noise_comps)]\n",
    "\n",
    "cholesky_factors = [np.tril(np.random.normal(size=(noise_dim, noise_dim))) + np.diag(np.exp(np.random.normal(size=noise_dim)))\n",
    "                    for i in range(n_noise_comps)]\n",
    "noise_Ss = [3 * np.dot(ch, ch.T) / noise_dim for ch in cholesky_factors]\n",
    "noise_ms = [15 * np.random.normal(size=noise_dim) for i in range(n_noise_comps)]\n",
    "noise_dofs = [2 for i in range(n_noise_comps)]\n",
    "\n",
    "noise_distribution = dd.MoT(a=np.ones(n_noise_comps) / n_noise_comps, ms=noise_ms, Ss=noise_Ss, dofs=noise_dofs)\n",
    "noise_distribution.ndim = noise_dim\n",
    "\n",
    "# generator\n",
    "g = init_g(seed=seed)\n",
    "g.summary = NoiseStats(noise_source=noise_distribution)\n",
    "g.summary.n_summary = noise_dim + 8\n",
    "g.model.dim_param = 5\n",
    "\n",
    "obs_stats = np.hstack((obs_stats, noise_distribution.gen(1).reshape(1,-1)))\n",
    "assert obs_stats.size ==  g.summary.n_summary"
   ]
  },
  {
   "cell_type": "code",
   "execution_count": null,
   "metadata": {},
   "outputs": [],
   "source": [
    "from snl.util.plot import plot_hist_marginals\n",
    "fig = plot_hist_marginals(noise_distribution.gen(1000))\n",
    "fig.set_figwidth(16)\n",
    "fig.set_figheight(16)\n",
    "fig.show()"
   ]
  },
  {
   "cell_type": "code",
   "execution_count": null,
   "metadata": {},
   "outputs": [],
   "source": [
    "setup_dict['n_rounds'] = 20"
   ]
  },
  {
   "cell_type": "code",
   "execution_count": null,
   "metadata": {},
   "outputs": [],
   "source": [
    "setup_dict['pilot_samples'] = 1000"
   ]
  },
  {
   "cell_type": "code",
   "execution_count": null,
   "metadata": {},
   "outputs": [],
   "source": [
    "if setup_dict['train_on_all']:\n",
    "    epochs=[setup_dict['epochs']//(r+1) for r in range(setup_dict['n_rounds'])]\n",
    "else:\n",
    "    epochs=setup_dict['epochs']\n",
    "\n",
    "# control MAF seed\n",
    "rng = np.random\n",
    "rng.seed(seed)\n",
    "    \n",
    "res_C = infer.SNPEC(g,\n",
    "                    obs=obs_stats,\n",
    "                    n_hiddens=setup_dict['n_hiddens'],\n",
    "                    seed=seed,\n",
    "                    reg_lambda=setup_dict['reg_lambda'],\n",
    "                    pilot_samples=setup_dict['pilot_samples'],\n",
    "                    svi=setup_dict['svi'],\n",
    "                    n_mades=setup_dict['n_mades'],\n",
    "                    act_fun=setup_dict['act_fun'],\n",
    "                    mode=setup_dict['mode'],\n",
    "                    rng=rng,\n",
    "                    batch_norm=setup_dict['batch_norm'],\n",
    "                    verbose=setup_dict['verbose'],\n",
    "                    #upper=setup_dict['upper'], # box-constraints \n",
    "                    #lower=setup_dict['lower'], # for MAF support\n",
    "                    prior_norm=setup_dict['prior_norm'])\n",
    "\n",
    "\n",
    "# train\n",
    "t = timeit.time.time()\n",
    "\n",
    "print('fitting model with SNPC-C')\n",
    "logs_C, tds_C, posteriors_C = res_C.run(\n",
    "                    n_train=setup_dict['n_train'],\n",
    "                    proposal=setup_dict['proposal'],\n",
    "                    moo=setup_dict['moo'],\n",
    "                    n_null = setup_dict['n_null'],\n",
    "                    n_rounds=setup_dict['n_rounds'],\n",
    "                    train_on_all=setup_dict['train_on_all'],\n",
    "                    minibatch=setup_dict['minibatch'],\n",
    "                    epochs=epochs, \n",
    "                    silent_fail=False)\n",
    "\n",
    "print('fitting time : ', timeit.time.time() - t)"
   ]
  },
  {
   "cell_type": "code",
   "execution_count": null,
   "metadata": {},
   "outputs": [],
   "source": [
    "g.gen(1)"
   ]
  },
  {
   "cell_type": "code",
   "execution_count": null,
   "metadata": {
    "scrolled": false
   },
   "outputs": [],
   "source": [
    "from lfimodels.snl_exps.util import draw_sample_uniform_prior_33\n",
    "\n",
    "#for r in range(setup_dict['n_rounds']):\n",
    "#    plt.plot(logs_C[r]['loss'])\n",
    "#    plt.show()\n",
    "\n",
    "for r in np.arange(0, len(logs_C), 1):\n",
    "    \n",
    "    posterior_C = posteriors_C[r]\n",
    "    #posterior_C.ndim = posterior_A.ndim\n",
    "    \n",
    "    samples = draw_sample_uniform_prior_33(posterior_C, 5000)\n",
    "    \n",
    "    fig,_ = plot_pdf(dd.Gaussian(m=0.00000123*np.ones(pars_true.size), S=1e-30*np.eye(pars_true.size)), \n",
    "                   samples=samples.T,\n",
    "                   gt=pars_true, \n",
    "                   lims=[[-3,3],[-3,3],[-3,3],[-3,3],[-3,3]],\n",
    "                   #lims=[0,10],\n",
    "                   resolution=100,\n",
    "                   ticks=True,\n",
    "                   figsize=(16,16));\n",
    "    \n",
    "    fig.suptitle('SNPE-C posterior estimates, round r = '+str(r+1), fontsize=14)\n",
    "    print('negative log-probability of ground-truth pars \\n', -posterior_C.eval(pars_true, log=True))"
   ]
  },
  {
   "cell_type": "code",
   "execution_count": null,
   "metadata": {},
   "outputs": [],
   "source": [
    "for r in range(len(res_C.network.parms)):\n",
    "    print(res_C.network.parms[r].get_value().shape)\n",
    "    if res_C.network.parms[r].get_value().shape[0] == 18:\n",
    "        print(res_C.network.parms[r].get_value())"
   ]
  },
  {
   "cell_type": "code",
   "execution_count": null,
   "metadata": {},
   "outputs": [],
   "source": []
  },
  {
   "cell_type": "markdown",
   "metadata": {},
   "source": [
    "# SNL fit"
   ]
  },
  {
   "cell_type": "code",
   "execution_count": null,
   "metadata": {},
   "outputs": [],
   "source": [
    "import snl.simulators.gaussian as sim_gauss\n",
    "\n",
    "model = sim_gauss.Model()\n",
    "prior = sim_gauss.Prior()\n",
    "stats = NoiseStats(noise_source=noise_distribution)\n",
    "\n",
    "sim_model = lambda ps, rng: stats.calc(model.sim(ps, rng=rng)) \n",
    "# to run without summary stats: sim_model = model.sim !"
   ]
  },
  {
   "cell_type": "code",
   "execution_count": null,
   "metadata": {},
   "outputs": [],
   "source": [
    "setup_dict['n_rounds'] = 20"
   ]
  },
  {
   "cell_type": "code",
   "execution_count": null,
   "metadata": {},
   "outputs": [],
   "source": [
    "from snl.inference.nde import SequentialNeuralLikelihood\n",
    "from snl.ml.models.mafs import ConditionalMaskedAutoregressiveFlow\n",
    "import sys\n",
    "\n",
    "infer = SequentialNeuralLikelihood(prior=prior, sim_model=sim_model)\n",
    "\n",
    "# control MAF seed\n",
    "rng = np.random\n",
    "rng.seed(seed)\n",
    "\n",
    "maf = ConditionalMaskedAutoregressiveFlow(n_inputs=prior.n_dims, \n",
    "                                          n_outputs=obs_stats.size, \n",
    "                                          n_hiddens=setup_dict['n_hiddens'], \n",
    "                                          act_fun=setup_dict['act_fun'], \n",
    "                                          n_mades=setup_dict['n_mades'], \n",
    "                                          \n",
    "                                          batch_norm=False,           # these differ for \n",
    "                                          output_order='sequential', # the usage of our \n",
    "                                          mode='sequential',         # MAFs...\n",
    "                                          \n",
    "                                          input=None, \n",
    "                                          output=None, rng=rng)\n",
    "\n",
    "\n",
    "# control sampler seed\n",
    "rng = np.random\n",
    "rng.seed(seed+1)\n",
    "\n",
    "t = timeit.time.time()\n",
    "\n",
    "learned_model = infer.learn_likelihood(obs_xs=obs_stats.flatten(), \n",
    "                       model=maf, \n",
    "                       n_samples=setup_dict['n_train'], \n",
    "                       n_rounds=setup_dict['n_rounds'],\n",
    "                       train_on_all=setup_dict['train_on_all'],\n",
    "                       thin=10, \n",
    "                       save_models=False, \n",
    "                       logger=sys.stdout, \n",
    "                       rng=rng)\n",
    "\n",
    "print(timeit.time.time() -  t)\n"
   ]
  },
  {
   "cell_type": "code",
   "execution_count": null,
   "metadata": {
    "scrolled": false
   },
   "outputs": [],
   "source": [
    "from snl.util.plot import plot_hist_marginals\n",
    "import snl.inference.mcmc as mcmc\n",
    "\n",
    "thin = 10\n",
    "\n",
    "log_posterior = lambda t: learned_model.eval([t, obs_stats.flatten()]) + prior.eval(t)\n",
    "sampler = mcmc.SliceSampler(prior.gen(), log_posterior, thin=thin)\n",
    "\n",
    "sampler.gen(max(200 // thin, 1), rng=rng)  # burn in\n",
    "\n",
    "samples = sampler.gen(1000)\n",
    "\n",
    "fig = plot_hist_marginals(data=samples, lims=[-3,3])\n",
    "fig.set_figwidth(16)\n",
    "fig.set_figheight(16)\n",
    "fig.show()"
   ]
  },
  {
   "cell_type": "code",
   "execution_count": null,
   "metadata": {
    "scrolled": false
   },
   "outputs": [],
   "source": [
    "for r in range(20):\n",
    "    fig=plot_hist_marginals(infer.all_ps[r], lims=[-3,3])\n",
    "    fig.set_figwidth(16)\n",
    "    fig.set_figheight(16)\n",
    "    plt.show()"
   ]
  },
  {
   "cell_type": "code",
   "execution_count": null,
   "metadata": {},
   "outputs": [],
   "source": []
  }
 ],
 "metadata": {
  "kernelspec": {
   "display_name": "Python 3",
   "language": "python",
   "name": "python3"
  },
  "language_info": {
   "codemirror_mode": {
    "name": "ipython",
    "version": 3
   },
   "file_extension": ".py",
   "mimetype": "text/x-python",
   "name": "python",
   "nbconvert_exporter": "python",
   "pygments_lexer": "ipython3",
   "version": "3.7.0"
  }
 },
 "nbformat": 4,
 "nbformat_minor": 2
}
