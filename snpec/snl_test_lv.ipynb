{
 "cells": [
  {
   "cell_type": "code",
   "execution_count": null,
   "metadata": {},
   "outputs": [],
   "source": [
    "%matplotlib inline\n",
    "\n",
    "import numpy as np\n",
    "from matplotlib import pyplot as plt\n",
    "import timeit\n",
    "\n",
    "import sys\n",
    "from snl.inference.nde import SequentialNeuralLikelihood\n",
    "import snl.simulators.lotka_volterra as sim_lv\n",
    "from snl.ml.models.mafs import ConditionalMaskedAutoregressiveFlow\n",
    "\n",
    "from delfi.utils.viz import plot_pdf\n",
    "import delfi.inference as infer\n",
    "import delfi.distribution as dd\n",
    "\n",
    "from lfimodels.snl_exps.util import save_results, load_results\n",
    "from lfimodels.snl_exps.util import init_g_lv as init_g\n",
    "from lfimodels.snl_exps.util import load_setup_lv as load_setup\n",
    "from lfimodels.snl_exps.util import load_gt_lv as load_gt\n",
    "from lfimodels.snl_exps.util import calc_all_lprob_errs\n",
    "\n",
    "\n",
    "\n",
    "seed = 42\n",
    "\n",
    "model_id = 'mg1'\n",
    "save_path = 'results/' + model_id\n",
    "exp_id = 'seed'+str(seed)\n",
    "\n",
    "\n",
    "# simulation setup\n",
    "setup_dict = load_setup()\n",
    "\n",
    "pars_true, obs_stats = load_gt(generator=init_g(seed=seed))\n",
    "print('pars_true : ', pars_true)\n",
    "print('obs_stats : ', obs_stats)\n",
    "\n",
    "\n",
    "model = sim_lv.Model()\n",
    "prior = sim_lv.Prior()\n",
    "stats = sim_lv.Stats()\n",
    "\n",
    "sim_model = lambda ps, rng: stats.calc(model.sim(ps, rng=rng)) \n",
    "# to run without summary stats: sim_model = model.sim !"
   ]
  },
  {
   "cell_type": "markdown",
   "metadata": {},
   "source": [
    "# fit SNL"
   ]
  },
  {
   "cell_type": "markdown",
   "metadata": {},
   "source": [
    "\n",
    "# * big todo: get whitening to work ! *\n"
   ]
  },
  {
   "cell_type": "code",
   "execution_count": null,
   "metadata": {},
   "outputs": [],
   "source": [
    "infer = SequentialNeuralLikelihood(prior=prior, sim_model=sim_model)\n",
    "\n",
    "# control MAF seed\n",
    "rng = np.random\n",
    "rng.seed(seed)\n",
    "\n",
    "maf = ConditionalMaskedAutoregressiveFlow(n_inputs=prior.n_dims, \n",
    "                                          n_outputs=obs_stats.size, \n",
    "                                          n_hiddens=setup_dict['n_hiddens'], \n",
    "                                          act_fun=setup_dict['act_fun'], \n",
    "                                          n_mades=setup_dict['n_mades'], \n",
    "                                          \n",
    "                                          batch_norm=False,           # these differ for \n",
    "                                          output_order='sequential', # the usage of our \n",
    "                                          mode='sequential',         # MAFs...\n",
    "                                          \n",
    "                                          input=None, \n",
    "                                          output=None, rng=rng)\n",
    "\n",
    "\n",
    "# control sampler seed\n",
    "rng = np.random\n",
    "rng.seed(seed+1)\n",
    "\n",
    "t = timeit.time.time()\n",
    "\n",
    "learned_model = infer.learn_likelihood(obs_xs=obs_stats.flatten(), \n",
    "                       model=maf, \n",
    "                       n_samples=setup_dict['n_train'], \n",
    "                       n_rounds=setup_dict['n_rounds'],\n",
    "                       train_on_all=setup_dict['train_on_all'],\n",
    "                       thin=10, \n",
    "                       save_models=False, \n",
    "                       logger=sys.stdout, \n",
    "                       rng=rng)\n",
    "\n",
    "print(timeit.time.time() -  t)\n"
   ]
  },
  {
   "cell_type": "markdown",
   "metadata": {},
   "source": [
    "# check learned posterior"
   ]
  },
  {
   "cell_type": "code",
   "execution_count": null,
   "metadata": {
    "scrolled": false
   },
   "outputs": [],
   "source": [
    "from snl.util.plot import plot_hist_marginals\n",
    "import snl.inference.mcmc as mcmc\n",
    "\n",
    "thin = 10\n",
    "\n",
    "log_posterior = lambda t: learned_model.eval([t, obs_stats.flatten()]) + prior.eval(t)\n",
    "sampler = mcmc.SliceSampler(prior.gen(), log_posterior, thin=thin)\n",
    "\n",
    "sampler.gen(max(200 // thin, 1), rng=rng)  # burn in\n",
    "\n",
    "samples = sampler.gen(1000)\n",
    "\n",
    "fig = plot_hist_marginals(data=samples, lims=[-5,2])\n",
    "fig.set_figwidth(16)\n",
    "fig.set_figheight(16)\n",
    "fig.show()"
   ]
  },
  {
   "cell_type": "markdown",
   "metadata": {},
   "source": [
    "### zoom-in"
   ]
  },
  {
   "cell_type": "code",
   "execution_count": null,
   "metadata": {},
   "outputs": [],
   "source": [
    "fig = plot_hist_marginals(data=samples)\n",
    "fig.set_figwidth(16)\n",
    "fig.set_figheight(16)\n",
    "fig.show()"
   ]
  },
  {
   "cell_type": "markdown",
   "metadata": {},
   "source": [
    "# check conditional p(x|theta*)"
   ]
  },
  {
   "cell_type": "code",
   "execution_count": null,
   "metadata": {
    "scrolled": false
   },
   "outputs": [],
   "source": [
    "from delfi.utils.delfi2snl import MAFconditional\n",
    "from delfi.distribution.PointMass import PointMass\n",
    "\n",
    "samples_x = learned_model.gen(x=pars_true.flatten(), \n",
    "                              n_samples=1000)\n",
    "\n",
    "fig = plot_hist_marginals(data=samples_x)\n",
    "fig.set_figwidth(16)\n",
    "fig.set_figheight(16)\n",
    "fig.show()"
   ]
  },
  {
   "cell_type": "code",
   "execution_count": null,
   "metadata": {},
   "outputs": [],
   "source": []
  }
 ],
 "metadata": {
  "kernelspec": {
   "display_name": "Python 3",
   "language": "python",
   "name": "python3"
  },
  "language_info": {
   "codemirror_mode": {
    "name": "ipython",
    "version": 3
   },
   "file_extension": ".py",
   "mimetype": "text/x-python",
   "name": "python",
   "nbconvert_exporter": "python",
   "pygments_lexer": "ipython3",
   "version": "3.7.1"
  }
 },
 "nbformat": 4,
 "nbformat_minor": 2
}
