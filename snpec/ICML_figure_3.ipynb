{
 "cells": [
  {
   "cell_type": "code",
   "execution_count": null,
   "metadata": {},
   "outputs": [],
   "source": [
    "%%capture\n",
    "%matplotlib inline\n",
    "\n",
    "import numpy as np\n",
    "import matplotlib.pyplot as plt\n",
    "import timeit\n",
    "import os\n",
    "\n",
    "import delfi.distribution as dd\n",
    "import delfi.inference as infer\n",
    "import delfi.generator as dg\n",
    "\n",
    "from delfi.simulator import TwoMoons\n",
    "import delfi.summarystats as ds\n",
    "from delfi.utils.viz import plot_pdf, probs2contours\n",
    "\n",
    "from lfimodels.snl_exps.util import save_results, load_results\n",
    "from snl.util.plot import plot_hist_marginals\n",
    "\n",
    "fig_path = 'results/figs/'"
   ]
  },
  {
   "cell_type": "markdown",
   "metadata": {},
   "source": [
    "# panel (a)"
   ]
  },
  {
   "cell_type": "code",
   "execution_count": null,
   "metadata": {},
   "outputs": [],
   "source": [
    "save_path = 'results/lv_validationset/'\n",
    "\n",
    "plot_seed = 42\n",
    "exp_id = 'seed' + str(plot_seed)\n",
    "log, tds, posteriors, _ = load_results(exp_id=exp_id, path=save_path)\n",
    "pnl_a = plot_hist_marginals(tds[-1][0][-300:], lims=[-5,2])\n",
    "pnl_a.set_figwidth(8)\n",
    "pnl_a.set_figheight(8)\n",
    "for ax in pnl_a.axes:\n",
    "    ax.set_xticks([])\n",
    "    ax.set_yticks([])\n",
    "    \n",
    "PANEL_3A = fig_path +'fig3_a.svg'\n",
    "plt.savefig(PANEL_3A, facecolor=plt.gcf().get_facecolor(), transparent=True)\n",
    "    \n",
    "pnl_a.show()"
   ]
  },
  {
   "cell_type": "markdown",
   "metadata": {},
   "source": [
    "# panel (b)"
   ]
  },
  {
   "cell_type": "code",
   "execution_count": null,
   "metadata": {},
   "outputs": [],
   "source": [
    "# e.g. Lotka-Volterra raw traces, with color-coded trace segments used for specific fits"
   ]
  },
  {
   "cell_type": "markdown",
   "metadata": {},
   "source": [
    "# panel (c)"
   ]
  },
  {
   "cell_type": "code",
   "execution_count": null,
   "metadata": {},
   "outputs": [],
   "source": [
    "PANEL_3C = fig_path +'lv_lprobs_validationset.svg'"
   ]
  },
  {
   "cell_type": "markdown",
   "metadata": {},
   "source": [
    "# panel (d)"
   ]
  },
  {
   "cell_type": "code",
   "execution_count": null,
   "metadata": {},
   "outputs": [],
   "source": [
    "PANEL_3D = fig_path +'lv_dists_validationset.svg'"
   ]
  },
  {
   "cell_type": "markdown",
   "metadata": {},
   "source": [
    "# assemble figure"
   ]
  },
  {
   "cell_type": "code",
   "execution_count": null,
   "metadata": {},
   "outputs": [],
   "source": [
    "%run -i ../InferenceNeuralDynamics_2018/common.ipynb"
   ]
  },
  {
   "cell_type": "code",
   "execution_count": null,
   "metadata": {},
   "outputs": [],
   "source": [
    "# FIGURE and GRID\n",
    "FIG_HEIGHT_MM = 90\n",
    "FIG_WIDTH_MM = 140  # set in NIPS2017 notebook to a default value for all figures\n",
    "\n",
    "FIG_N_ROWS = 2\n",
    "ROW_1_NCOLS = 2\n",
    "ROW_1_HEIGHT_MM =      1.2 * (FIG_HEIGHT_MM / FIG_N_ROWS )\n",
    "ROW_1_WIDTH_COL_1_MM =  1.5* (FIG_WIDTH_MM / ROW_1_NCOLS)\n",
    "\n",
    "ROW_2_NCOLS = 2\n",
    "ROW_2_HEIGHT_MM = 0.8 * FIG_HEIGHT_MM / FIG_N_ROWS\n",
    "ROW_2_WIDTH_COL_1_MM = FIG_WIDTH_MM / ROW_2_NCOLS\n",
    "ROW_2_WIDTH_COL_2_MM = FIG_WIDTH_MM / ROW_2_NCOLS\n",
    "\n",
    "\n",
    "fig = create_fig(FIG_WIDTH_MM, FIG_HEIGHT_MM)\n",
    "\n",
    "\n",
    "fig = add_svg(fig, PANEL_3A, \n",
    "              0, \n",
    "              0)\n",
    "fig = add_svg(fig, PANEL_3C, \n",
    "              90,\n",
    "              0) \n",
    "\n",
    "yoffset = 5\n",
    "#fig = add_label(fig, 'C', \n",
    "#                0, \n",
    "#                ROW_1_HEIGHT_MM + yoffset)\n",
    "fig = add_svg(fig, PANEL_3D, \n",
    "                90, \n",
    "                48)\n",
    "\n",
    "\n",
    "if False:\n",
    "    fig = add_grid(fig, 2, 2)\n",
    "    fig = add_grid(fig, 160/3, 10, font_size_px=0.0001)\n",
    "\n",
    "\n",
    "PATH_SVG = PATH_DROPBOX_FIGS + 'fig3.svg'\n",
    "fig.save(PATH_SVG)\n",
    "svg(PATH_SVG)\n",
    "!$INKSCAPE --export-pdf $PATH_DROPBOX_FIGS/fig3.pdf $PATH_SVG\n"
   ]
  },
  {
   "cell_type": "code",
   "execution_count": null,
   "metadata": {},
   "outputs": [],
   "source": []
  }
 ],
 "metadata": {
  "kernelspec": {
   "display_name": "Python 3",
   "language": "python",
   "name": "python3"
  },
  "language_info": {
   "codemirror_mode": {
    "name": "ipython",
    "version": 3
   },
   "file_extension": ".py",
   "mimetype": "text/x-python",
   "name": "python",
   "nbconvert_exporter": "python",
   "pygments_lexer": "ipython3",
   "version": "3.7.2"
  }
 },
 "nbformat": 4,
 "nbformat_minor": 2
}
