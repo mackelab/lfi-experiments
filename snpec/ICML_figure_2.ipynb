{
 "cells": [
  {
   "cell_type": "code",
   "execution_count": null,
   "metadata": {},
   "outputs": [],
   "source": [
    "%%capture\n",
    "%matplotlib inline\n",
    "\n",
    "import numpy as np\n",
    "import matplotlib.pyplot as plt\n",
    "import timeit\n",
    "import os\n",
    "\n",
    "import delfi.distribution as dd\n",
    "import delfi.inference as infer\n",
    "import delfi.generator as dg\n",
    "\n",
    "from delfi.simulator import TwoMoons\n",
    "import delfi.summarystats as ds\n",
    "from delfi.utils.viz import plot_pdf, probs2contours\n",
    "\n",
    "from lfimodels.snl_exps.util import save_results, load_results\n",
    "from snl.util.plot import plot_hist_marginals\n",
    "\n",
    "fig_path = 'results/figs/'"
   ]
  },
  {
   "cell_type": "markdown",
   "metadata": {},
   "source": [
    "# panel (a)"
   ]
  },
  {
   "cell_type": "code",
   "execution_count": null,
   "metadata": {
    "scrolled": false
   },
   "outputs": [],
   "source": [
    "save_path = 'results/gauss_validationset/'\n",
    "\n",
    "plot_seed = 42\n",
    "exp_id = 'seed' + str(plot_seed)\n",
    "log, tds, posteriors, _ = load_results(exp_id=exp_id, path=save_path)\n",
    "pnl_a = plot_hist_marginals(tds[-1][0][-300:], lims=[-5,5])\n",
    "pnl_a.set_figwidth(8)\n",
    "pnl_a.set_figheight(8)\n",
    "for ax in pnl_a.axes:\n",
    "    ax.set_xticks([])\n",
    "    ax.set_yticks([])\n",
    "#    ax.axis('off')\n",
    "    \n",
    "PANEL_2A = fig_path +'fig2_a.svg'\n",
    "plt.savefig(PANEL_2A, facecolor=plt.gcf().get_facecolor(), transparent=True)\n",
    "    \n",
    "pnl_a.show()"
   ]
  },
  {
   "cell_type": "markdown",
   "metadata": {},
   "source": [
    "# panel (b)"
   ]
  },
  {
   "cell_type": "code",
   "execution_count": null,
   "metadata": {},
   "outputs": [],
   "source": [
    "# load MMD results "
   ]
  },
  {
   "cell_type": "markdown",
   "metadata": {},
   "source": [
    "# panel (c)"
   ]
  },
  {
   "cell_type": "code",
   "execution_count": null,
   "metadata": {},
   "outputs": [],
   "source": [
    "PANEL_2C = fig_path +'gauss_mmd_validationset.svg'"
   ]
  },
  {
   "cell_type": "markdown",
   "metadata": {},
   "source": [
    "# panel (d)"
   ]
  },
  {
   "cell_type": "code",
   "execution_count": null,
   "metadata": {},
   "outputs": [],
   "source": [
    "save_path = 'results/gauss_noisedims_v1/'\n",
    "\n",
    "seeds = np.arange(43, 62)\n",
    "sq_mmds_snpe_all = np.zeros((seeds.size, 40))\n",
    "sq_mmds_snl_all = []\n",
    "for i in range(len(seeds)):\n",
    "\n",
    "    seed = seeds[i]\n",
    "    exp_id = 'seed' + str(seed)\n",
    "    sq_mmds_snpe = np.load(os.path.join(save_path, exp_id, 'all_mmds_N' + str(5000)+'.npy'))\n",
    "    sq_mmds_snpe_all[i,:] = sq_mmds_snpe\n",
    "\n",
    "    #plt.semilogx(1000*np.arange(1,sq_mmds_snpe.size+1), np.sqrt(sq_mmds_snpe), 'kd-', linewidth=1.5)\n",
    "    \n",
    "    try:\n",
    "        sq_mmds_snl = np.load(os.path.join(save_path, exp_id, 'all_mmds_snl_N' + str(1000)+'.npy'))\n",
    "        #plt.semilogx(1000*np.arange(1,sq_mmds_snpe.size+1), np.sqrt(sq_mmds_snl), 'rd-', linewidth=1.5)\n",
    "        sq_mmds_snl_all.append(sq_mmds_snl)\n",
    "    except:\n",
    "        pass\n",
    "    \n",
    "\n",
    "plt.figure(figsize=(4,4))\n",
    "\n",
    "plt.semilogx(1000*np.arange(1,sq_mmds_snpe.size+1), np.mean(np.sqrt(sq_mmds_snl_all),axis=0), 'rd-', linewidth=1.5,\n",
    "        label='SNL')\n",
    "\n",
    "plt.fill_between(1000*np.arange(1,sq_mmds_snl.size+1),\n",
    "                 np.mean(np.sqrt(sq_mmds_snl_all),axis=0) - np.std(np.sqrt(sq_mmds_snl_all),axis=0),\n",
    "                 np.mean(np.sqrt(sq_mmds_snl_all),axis=0) + np.std(np.sqrt(sq_mmds_snl_all),axis=0),\n",
    "                 color='r', alpha=0.2)\n",
    "\n",
    "plt.semilogx(1000*np.arange(1,sq_mmds_snpe.size+1), np.mean(np.sqrt(sq_mmds_snpe_all),axis=0), 'kd-', linewidth=1.5,\n",
    "        label='APT')\n",
    "\n",
    "plt.fill_between(1000*np.arange(1,sq_mmds_snpe.size+1),\n",
    "                 np.mean(np.sqrt(sq_mmds_snpe_all),axis=0) - np.std(np.sqrt(sq_mmds_snpe_all),axis=0),\n",
    "                 np.mean(np.sqrt(sq_mmds_snpe_all),axis=0) + np.std(np.sqrt(sq_mmds_snpe_all),axis=0),\n",
    "                 color='k', alpha=0.5)\n",
    "\n",
    "plt.legend()\n",
    "plt.ylabel('Maximum meand discrepancy')\n",
    "plt.xlabel('Number of simulations (log scale)')\n",
    "\n",
    "PANEL_2D = fig_path +'fig2_d.svg'\n",
    "plt.savefig(PANEL_2D, facecolor=plt.gcf().get_facecolor(), transparent=True)\n",
    "\n",
    "plt.show()"
   ]
  },
  {
   "cell_type": "markdown",
   "metadata": {},
   "source": [
    "# assemble figure"
   ]
  },
  {
   "cell_type": "code",
   "execution_count": null,
   "metadata": {},
   "outputs": [],
   "source": [
    "%run -i ./common.ipynb"
   ]
  },
  {
   "cell_type": "code",
   "execution_count": null,
   "metadata": {},
   "outputs": [],
   "source": [
    "# FIGURE and GRID\n",
    "FIG_HEIGHT_MM = 90\n",
    "FIG_WIDTH_MM = 140  # set in NIPS2017 notebook to a default value for all figures\n",
    "\n",
    "FIG_N_ROWS = 2\n",
    "ROW_1_NCOLS = 2\n",
    "ROW_1_HEIGHT_MM =      1.2 * (FIG_HEIGHT_MM / FIG_N_ROWS )\n",
    "ROW_1_WIDTH_COL_1_MM =  1.5* (FIG_WIDTH_MM / ROW_1_NCOLS)\n",
    "\n",
    "ROW_2_NCOLS = 2\n",
    "ROW_2_HEIGHT_MM = 0.8 * FIG_HEIGHT_MM / FIG_N_ROWS\n",
    "ROW_2_WIDTH_COL_1_MM = FIG_WIDTH_MM / ROW_2_NCOLS\n",
    "ROW_2_WIDTH_COL_2_MM = FIG_WIDTH_MM / ROW_2_NCOLS\n",
    "\n",
    "\n",
    "fig = create_fig(FIG_WIDTH_MM, FIG_HEIGHT_MM)\n",
    "\n",
    "\n",
    "fig = add_svg(fig, PANEL_2A, \n",
    "              0, \n",
    "              0)\n",
    "fig = add_svg(fig, PANEL_2C, \n",
    "              85,\n",
    "              0) \n",
    "\n",
    "yoffset = 5\n",
    "#fig = add_label(fig, 'C', \n",
    "#                0, \n",
    "#                ROW_1_HEIGHT_MM + yoffset)\n",
    "fig = add_svg(fig, PANEL_2D, \n",
    "                90, \n",
    "                45)\n",
    "\n",
    "\n",
    "if False:\n",
    "    fig = add_grid(fig, 2, 2)\n",
    "    fig = add_grid(fig, 160/3, 10, font_size_px=0.0001)\n",
    "\n",
    "\n",
    "PATH_SVG = PATH_DROPBOX_FIGS + 'fig2.svg'\n",
    "fig.save(PATH_SVG)\n",
    "svg(PATH_SVG)\n",
    "!$INKSCAPE --export-pdf $PATH_DROPBOX_FIGS/fig2.pdf $PATH_SVG\n"
   ]
  },
  {
   "cell_type": "code",
   "execution_count": null,
   "metadata": {},
   "outputs": [],
   "source": [
    "\n",
    "\n",
    "\n",
    "\n"
   ]
  },
  {
   "cell_type": "markdown",
   "metadata": {},
   "source": [
    "# Sanity-check Gallery"
   ]
  },
  {
   "cell_type": "code",
   "execution_count": null,
   "metadata": {
    "scrolled": true
   },
   "outputs": [],
   "source": [
    "from lfimodels.snl_exps.util import draw_sample_uniform_prior_33 as fast_sampler    \n",
    "save_path = 'results/gauss_noisedims_v1//'\n",
    "\n",
    "for plot_seed in range(43, 47):\n",
    "    exp_id = 'seed' + str(plot_seed)\n",
    "    log, tds, posteriors, _ = load_results(exp_id=exp_id, path=save_path)\n",
    "    pnl_a = plot_hist_marginals(fast_sampler(posteriors[1], 1000), lims=[-5,5])\n",
    "    pnl_a.set_figwidth(12)\n",
    "    pnl_a.set_figheight(12)\n",
    "    for ax in pnl_a.axes:\n",
    "        ax.axis('off')\n",
    "\n",
    "    pnl_a.show()"
   ]
  },
  {
   "cell_type": "code",
   "execution_count": null,
   "metadata": {
    "scrolled": true
   },
   "outputs": [],
   "source": [
    "import pickle \n",
    "import os\n",
    "\n",
    "save_path = 'results/gauss_noisedims_v1/'\n",
    "\n",
    "for plot_seed in range(43,62):\n",
    "    \n",
    "    print('seed ' + str(plot_seed))\n",
    "    exp_id = 'seed' + str(plot_seed)\n",
    "    \n",
    "    try:\n",
    "        file = os.path.join(save_path, exp_id, 'SNL_MAF')\n",
    "        with open(file + '.pkl', 'rb') as f:\n",
    "            learned_model = pickle.load(f)        \n",
    "\n",
    "        file = os.path.join(save_path, exp_id, 'SNL_posteriors')\n",
    "        with open(file + '.pkl', 'rb') as f:\n",
    "            all_models = pickle.load(f)                   \n",
    "    except:\n",
    "        print('failed to load MAFs')\n",
    "        \n",
    "    xs = np.load(os.path.join(save_path, exp_id, 'xs.npy'))    \n",
    "    ps = np.load(os.path.join(save_path, exp_id, 'ps.npy'))    \n",
    "    \n",
    "    pnl_a = plot_hist_marginals(ps[-1], lims=[-5,5])\n",
    "    pnl_a.set_figwidth(12)\n",
    "    pnl_a.set_figheight(12)\n",
    "    for ax in pnl_a.axes:\n",
    "        ax.axis('off')\n",
    "\n",
    "    pnl_a.show()"
   ]
  }
 ],
 "metadata": {
  "kernelspec": {
   "display_name": "Python 3",
   "language": "python",
   "name": "python3"
  },
  "language_info": {
   "codemirror_mode": {
    "name": "ipython",
    "version": 3
   },
   "file_extension": ".py",
   "mimetype": "text/x-python",
   "name": "python",
   "nbconvert_exporter": "python",
   "pygments_lexer": "ipython3",
   "version": "3.7.2"
  }
 },
 "nbformat": 4,
 "nbformat_minor": 2
}
