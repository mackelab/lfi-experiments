{
 "cells": [
  {
   "cell_type": "code",
   "execution_count": null,
   "metadata": {},
   "outputs": [],
   "source": [
    "%%capture\n",
    "%matplotlib inline\n",
    "\n",
    "import numpy as np\n",
    "import matplotlib.pyplot as plt\n",
    "import timeit\n",
    "import theano\n",
    "import pygpu\n",
    "import imageio\n",
    "\n",
    "from lfimodels.snl_exps.util import save_results, load_results\n",
    "\n",
    "import delfi.distribution as dd\n",
    "import delfi.inference as infer\n",
    "import delfi.generator as dg\n",
    "\n",
    "from delfi.simulator import TwoMoons\n",
    "import delfi.summarystats as ds\n",
    "from delfi.utils.viz import plot_pdf, probs2contours\n",
    "\n",
    "seed=46\n",
    "return_abs = False\n",
    "\n",
    "# analytic target posterior for plotting (y-axis flipped for overlay with imshow figures !)\n",
    "p_true = dd.MoG(a=[0.5, 0.5], \n",
    "                ms=[np.asarray([.5, -.5]), np.asarray([-.5, .5])], \n",
    "                Ss=[0.01*np.eye(2), 0.01*np.eye(2)])\n",
    "p_true.ndim=2\n",
    "\n",
    "# very basic approach to controlling generator seeds\n",
    "def init_g(seed):\n",
    "    m = TwoMoons(mean_radius=0.1, sd_radius=0.01, baseoffset=0.25,\n",
    "                 #angle= np.pi/4.0,  # rotation angle in radians\n",
    "                 #mapfunc=lambda theta, p: p + theta,  # transforms noise dist.\n",
    "                 seed=seed)\n",
    "    p = dd.Uniform(lower=[-1,-1], upper=[1,1], seed=seed)\n",
    "    s = ds.Identity()\n",
    "    return dg.Default(model=m, prior=p, summary=s)\n",
    "\n",
    "g = init_g(seed=seed)\n",
    "\n",
    "obs_stats = np.array([[0., 0.]])\n",
    "\n",
    "verbose =True\n",
    "\n",
    "\n",
    "exp_id = 'seed' + str(seed)\n",
    "save_path = 'results/two_moons_runs/'    "
   ]
  },
  {
   "cell_type": "code",
   "execution_count": null,
   "metadata": {
    "scrolled": false
   },
   "outputs": [],
   "source": [
    "# MAF SNPE-C\n",
    "log, tds, posteriors, setup_dict = load_results(exp_id='seed46', path=save_path + '_discrete_MAF_SNPEC')"
   ]
  },
  {
   "cell_type": "code",
   "execution_count": null,
   "metadata": {},
   "outputs": [],
   "source": [
    "xo = 1.*obs_stats.flatten()\n",
    "lims = np.array([[-0.5,0.5], [-0.5,0.5]])\n",
    "i,j,resolution = 0,1,100\n",
    "xx = np.linspace(lims[i, 0], lims[i, 1], resolution)\n",
    "yy = np.linspace(lims[j, 0], lims[j, 1], resolution)\n",
    "X, Y = np.meshgrid(xx, yy)\n",
    "xy = np.concatenate(\n",
    "    [X.reshape([-1, 1]), Y.reshape([-1, 1])], axis=1)\n",
    "\n",
    "P=[]\n",
    "for idx in range(10):\n",
    "    posterior = posteriors[idx]\n",
    "    P.append(posterior.eval(xy, log=False).reshape(list(X.shape)))"
   ]
  },
  {
   "cell_type": "code",
   "execution_count": null,
   "metadata": {},
   "outputs": [],
   "source": [
    "fig = plt.figure()\n",
    "I = []\n",
    "for idx in range(10):\n",
    "    pp = P[idx]\n",
    "    plt.imshow(pp.T, origin='lower',\n",
    "           extent=[lims[j, 0], lims[j, 1], lims[i, 0], lims[i, 1]],\n",
    "           aspect='auto', interpolation='none')\n",
    "    plt.axis('equal')\n",
    "    plt.axis('off')\n",
    "    plt.box('off')\n",
    "    fig.canvas.draw()\n",
    "    image = np.frombuffer(fig.canvas.tostring_rgb(), dtype='uint8')\n",
    "    I.append(image.reshape(fig.canvas.get_width_height()[::-1] + (3,)))"
   ]
  },
  {
   "cell_type": "code",
   "execution_count": null,
   "metadata": {},
   "outputs": [],
   "source": [
    "kwargs_write = {'fps':2.0, 'quantizer':'nq'}\n",
    "imageio.mimsave('./twomoons_mafapt.gif', I, fps=2.0)\n"
   ]
  }
 ],
 "metadata": {
  "kernelspec": {
   "display_name": "Python 3",
   "language": "python",
   "name": "python3"
  },
  "language_info": {
   "codemirror_mode": {
    "name": "ipython",
    "version": 3
   },
   "file_extension": ".py",
   "mimetype": "text/x-python",
   "name": "python",
   "nbconvert_exporter": "python",
   "pygments_lexer": "ipython3",
   "version": "3.7.3"
  }
 },
 "nbformat": 4,
 "nbformat_minor": 2
}
