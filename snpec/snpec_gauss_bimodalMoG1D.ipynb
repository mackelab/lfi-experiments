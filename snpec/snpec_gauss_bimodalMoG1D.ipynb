{
 "cells": [
  {
   "cell_type": "code",
   "execution_count": null,
   "metadata": {},
   "outputs": [],
   "source": [
    "%%capture\n",
    "%matplotlib inline\n",
    "\n",
    "import numpy as np\n",
    "import matplotlib.pyplot as plt\n",
    "import timeit\n",
    "\n",
    "import delfi.distribution as dd\n",
    "import delfi.inference as infer\n",
    "import delfi.generator as dg\n",
    "\n",
    "from delfi.simulator import GaussMixture\n",
    "import delfi.summarystats as ds\n",
    "from delfi.utils.viz import plot_pdf"
   ]
  },
  {
   "cell_type": "code",
   "execution_count": null,
   "metadata": {},
   "outputs": [],
   "source": [
    "thetalims = (-5., 5.)\n",
    "p_true = dd.MoG(a=[0.5, 0.5], ms=[np.asarray([-1.]), np.asarray([1.])], Ss=[1.0*np.eye(1), 1.0*np.eye(1)])\n",
    "p_true.ndim=2\n",
    "\n",
    "seed=2002\n",
    "\n",
    "return_abs = False\n",
    "\n",
    "# basic approach to controlling generator seeds\n",
    "def init_g(seed):\n",
    "    m = GaussMixture(dim=1, bimodal=True, return_abs=return_abs, noise_cov=[0.1, 0.1], seed=seed)\n",
    "    p = dd.Uniform(lower=[thetalims[0]], upper=[thetalims[1]], seed=seed)\n",
    "    s = ds.Identity()\n",
    "    return dg.Default(model=m, prior=p, summary=s)\n",
    "\n",
    "g = init_g(seed=seed)\n",
    "\n",
    "obs_stats = np.array([[2.]])\n",
    "\n",
    "trn_data = g.gen(1000)\n",
    "plt.subplot(1,2,1)\n",
    "plt.plot(trn_data[1], trn_data[0], '.')\n",
    "plt.xlabel('x')\n",
    "plt.ylabel('$\\\\theta$')\n",
    "plt.show()\n",
    "\n",
    "# SNPE parameters\n",
    "    \n",
    "n_components = 5\n",
    "    \n",
    "# training schedule\n",
    "n_train=3000\n",
    "n_rounds=1\n",
    "\n",
    "# fitting setup\n",
    "minibatch=100\n",
    "epochs=250\n",
    "\n",
    "# network setup\n",
    "n_hiddens=[20,20]\n",
    "reg_lambda=0.01\n",
    "\n",
    "# convenience\n",
    "pilot_samples=0\n",
    "svi=False\n",
    "verbose=True\n",
    "prior_norm=False\n",
    "init_norm=False\n"
   ]
  },
  {
   "cell_type": "code",
   "execution_count": null,
   "metadata": {},
   "outputs": [],
   "source": [
    "g = init_g(seed=seed)\n",
    "\n",
    "res_A = infer.SNPEC(g, \n",
    "                 obs=obs_stats, \n",
    "                 n_hiddens=n_hiddens, \n",
    "                 n_components=n_components,\n",
    "                 seed=seed, \n",
    "                 reg_lambda=reg_lambda,\n",
    "                 pilot_samples=pilot_samples,\n",
    "                 svi=svi,\n",
    "                 verbose=verbose,\n",
    "                 init_norm=init_norm,\n",
    "                 prior_norm=prior_norm)\n",
    "\n",
    "t = timeit.time.time()\n",
    "\n",
    "logs_A, tds_A, posteriors_A = res_A.run(n_train=n_train, \n",
    "                    n_rounds=n_rounds, \n",
    "                    minibatch=minibatch, \n",
    "                    epochs=epochs)\n",
    "\n",
    "print(timeit.time.time() -  t)\n"
   ]
  },
  {
   "cell_type": "code",
   "execution_count": null,
   "metadata": {
    "scrolled": true
   },
   "outputs": [],
   "source": [
    "for r in range(n_rounds):\n",
    "    fig,_ = plot_pdf(posteriors_A[r],             \n",
    "             lims=[thetalims],\n",
    "             ticks=True)\n",
    "    fig.suptitle('final posterior estimate vs MCMC samples and prior', fontsize=14)\n",
    "    fig.show()\n"
   ]
  }
 ],
 "metadata": {
  "kernelspec": {
   "display_name": "Python 3",
   "language": "python",
   "name": "python3"
  },
  "language_info": {
   "codemirror_mode": {
    "name": "ipython",
    "version": 3
   },
   "file_extension": ".py",
   "mimetype": "text/x-python",
   "name": "python",
   "nbconvert_exporter": "python",
   "pygments_lexer": "ipython3",
   "version": "3.6.5"
  }
 },
 "nbformat": 4,
 "nbformat_minor": 2
}
