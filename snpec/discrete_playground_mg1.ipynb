{
 "cells": [
  {
   "cell_type": "markdown",
   "metadata": {},
   "source": [
    "# M/G/1 model\n",
    "\n",
    "- simulator taken from https://github.com/mackelab/SNL_py3port, which contains the original https://github.com/gpapamak/snl after 2to3 conversion with minimal edits (deactivating generator-internal summary stats normalization).\n"
   ]
  },
  {
   "cell_type": "code",
   "execution_count": null,
   "metadata": {
    "scrolled": true
   },
   "outputs": [],
   "source": [
    "%matplotlib inline\n",
    "import numpy as np\n",
    "from matplotlib import pyplot as plt\n",
    "import timeit\n",
    "\n",
    "from delfi.utils.viz import plot_pdf\n",
    "import delfi.inference as infer\n",
    "import delfi.distribution as dd\n",
    "\n",
    "from lfimodels.snl_exps.util import save_results, load_results\n",
    "from lfimodels.snl_exps.util import init_g_mg1 as init_g\n",
    "from lfimodels.snl_exps.util import load_setup_mg1 as load_setup\n",
    "from lfimodels.snl_exps.util import load_gt_mg1 as load_gt\n",
    "from lfimodels.snl_exps.util import calc_all_lprob_errs\n",
    "\n",
    "seed = 42\n",
    "\n",
    "model_id = 'mg1'\n",
    "save_path = 'results/' + model_id\n",
    "exp_id = 'seed'+str(seed)\n",
    "\n",
    "\n",
    "# simulation setup\n",
    "setup_dict = load_setup()\n",
    "\n",
    "pars_true, obs_stats = load_gt(generator=init_g(seed=seed))\n",
    "print('pars_true : ', pars_true)\n",
    "print('obs_stats : ', obs_stats)\n"
   ]
  },
  {
   "cell_type": "markdown",
   "metadata": {},
   "source": [
    "# fit SNPE-C"
   ]
  },
  {
   "cell_type": "code",
   "execution_count": null,
   "metadata": {
    "scrolled": false
   },
   "outputs": [],
   "source": [
    "if setup_dict['train_on_all']:\n",
    "    epochs=[setup_dict['epochs']//(r+1) for r in range(setup_dict['n_rounds'])]\n",
    "else:\n",
    "    epochs=setup_dict['epochs']\n",
    "\n",
    "# control MAF seed\n",
    "rng = np.random\n",
    "rng.seed(seed)\n",
    "\n",
    "# generator\n",
    "g = init_g(seed=seed)\n",
    "    \n",
    "res_C = infer.SNPEC(g,\n",
    "                    obs=obs_stats,\n",
    "                    n_hiddens=setup_dict['n_hiddens'],\n",
    "                    seed=seed,\n",
    "                    reg_lambda=setup_dict['reg_lambda'],\n",
    "                    pilot_samples=setup_dict['pilot_samples'],\n",
    "                    svi=setup_dict['svi'],\n",
    "                    n_mades=setup_dict['n_mades'],\n",
    "                    act_fun=setup_dict['act_fun'],\n",
    "                    mode=setup_dict['mode'],\n",
    "                    rng=rng,\n",
    "                    batch_norm=setup_dict['batch_norm'],\n",
    "                    verbose=setup_dict['verbose'],\n",
    "                    prior_norm=setup_dict['prior_norm'])\n",
    "\n",
    "\n",
    "# train\n",
    "t = timeit.time.time()\n",
    "\n",
    "print('fitting model with SNPC-C')\n",
    "logs_C, tds_C, posteriors_C = res_C.run(\n",
    "                    n_train=setup_dict['n_train'],\n",
    "                    proposal=setup_dict['proposal'],\n",
    "                    moo=setup_dict['moo'],\n",
    "                    n_null = setup_dict['n_null'],\n",
    "                    n_rounds=setup_dict['n_rounds'],\n",
    "                    train_on_all=setup_dict['train_on_all'],\n",
    "                    minibatch=setup_dict['minibatch'],\n",
    "                    epochs=epochs)\n",
    "\n",
    "print('fitting time : ', timeit.time.time() - t)"
   ]
  },
  {
   "cell_type": "markdown",
   "metadata": {},
   "source": [
    "# store results"
   ]
  },
  {
   "cell_type": "code",
   "execution_count": null,
   "metadata": {
    "scrolled": true
   },
   "outputs": [],
   "source": [
    "#save_results(logs=logs_C, tds=tds_C, posteriors=posteriors_C, \n",
    "#             setup_dict=setup_dict, exp_id=exp_id, path=save_path)\n",
    "\n",
    "#logs, tds, posteriors, setup_dict = load_results(exp_id=exp_id, path=path)"
   ]
  },
  {
   "cell_type": "markdown",
   "metadata": {},
   "source": [
    "# inspect results"
   ]
  },
  {
   "cell_type": "code",
   "execution_count": null,
   "metadata": {
    "scrolled": false
   },
   "outputs": [],
   "source": [
    "for r in range(setup_dict['n_rounds']):\n",
    "    plt.plot(logs_C[r]['loss'])\n",
    "    plt.show()\n",
    "\n",
    "for r in range(len(logs_C)):\n",
    "    \n",
    "    posterior_C = posteriors_C[r]\n",
    "    #posterior_C.ndim = posterior_A.ndim\n",
    "    \n",
    "    g = init_g(seed=42)\n",
    "    g.proposal = posterior_C\n",
    "    samples = np.array(g.draw_params(100000)) \n",
    "    \n",
    "    fig,_ = plot_pdf(dd.Gaussian(m=0.00000123*np.ones(pars_true.size), S=1e-30*np.eye(pars_true.size)), \n",
    "                   samples=samples.T,\n",
    "                   gt=pars_true, \n",
    "                   lims=[[0,10],[0,20],[0,1./3]],\n",
    "                   #lims=[0,10],\n",
    "                   resolution=100,\n",
    "                   ticks=True,\n",
    "                   figsize=(16,16));\n",
    "    \n",
    "    fig.suptitle('SNPE-C posterior estimates, round r = '+str(r+1), fontsize=14)\n",
    "    print('negative log-probability of ground-truth pars \\n', -posterior_C.eval(pars_true, log=True))"
   ]
  },
  {
   "cell_type": "markdown",
   "metadata": {},
   "source": [
    "# marginal over summary statistics (plus best-fitting Gaussian approx.)\n",
    "- note that plot_pdf automatically chooses the axes limits according to the provided samples, i.e. by the outliers\n",
    "- hence large empty regions indicate that the simulator sometimes produces extreme outliers that may negatively affect the de-facto standard z-scoring done by SNPE and SNL"
   ]
  },
  {
   "cell_type": "code",
   "execution_count": null,
   "metadata": {
    "scrolled": false
   },
   "outputs": [],
   "source": [
    "stats = tds_C[0][1]\n",
    "fig,_ = plot_pdf(dd.Gaussian(m=stats.mean(axis=0), S=np.cov(stats.T)), \n",
    "                   samples=stats.T,\n",
    "                   gt=((obs_stats-res_C.stats_mean)/res_C.stats_std).flatten(), \n",
    "                   ticks=True,\n",
    "                   resolution=100,\n",
    "                   figsize=(16,16));\n",
    "fig.suptitle('(pair-wise) marginal(s) over summary statistics from Gaussian model (already z-scored!)')\n",
    "#fig.savefig('/home/marcel/Desktop/mg1_summary_stats_marginals.pdf')\n",
    "fig.show()"
   ]
  },
  {
   "cell_type": "markdown",
   "metadata": {},
   "source": [
    "# results evaluation\n",
    "- copy-paste from SNL code"
   ]
  },
  {
   "cell_type": "code",
   "execution_count": null,
   "metadata": {
    "scrolled": false
   },
   "outputs": [],
   "source": [
    "all_prop_errs = calc_all_lprob_errs(pars_true, \n",
    "                                    n_samples=5000, \n",
    "                                    posteriors=posteriors_C, \n",
    "                                    init_g=init_g,\n",
    "                                    rej=True)\n",
    "\n",
    "all_prop_errs_raw = calc_all_lprob_errs(pars_true, \n",
    "                                    n_samples=5000, \n",
    "                                    posteriors=posteriors_C, \n",
    "                                    init_g=init_g,\n",
    "                                    rej=False)\n",
    "\n",
    "plt.figure(figsize=(8,5))\n",
    "plt.semilogx(np.arange(1, setup_dict['n_rounds']+1) * setup_dict['n_train'], all_prop_errs, 'bd:')\n",
    "plt.semilogx(np.arange(1, setup_dict['n_rounds']+1) * setup_dict['n_train'], all_prop_errs_raw, 'kd:')\n",
    "plt.legend(['rej. sampling', 'naive sampling'])\n",
    "plt.axis([600, 22000, -1, 2])\n",
    "plt.xlabel('Number of simulations (log scale)')\n",
    "plt.ylabel('- log probability of true parameters')\n",
    "plt.title('effects of truncation on MAF')\n",
    "#plt.savefig('/home/marcel/Desktop/mg1_snpec_maf_n_null_10_N5000_MAF_truncation.pdf')\n",
    "plt.show()"
   ]
  },
  {
   "cell_type": "code",
   "execution_count": null,
   "metadata": {
    "scrolled": true
   },
   "outputs": [],
   "source": [
    "all_prop_errs, all_prop_errs_raw"
   ]
  },
  {
   "cell_type": "code",
   "execution_count": null,
   "metadata": {},
   "outputs": [],
   "source": []
  }
 ],
 "metadata": {
  "kernelspec": {
   "display_name": "Python 3",
   "language": "python",
   "name": "python3"
  },
  "language_info": {
   "codemirror_mode": {
    "name": "ipython",
    "version": 3
   },
   "file_extension": ".py",
   "mimetype": "text/x-python",
   "name": "python",
   "nbconvert_exporter": "python",
   "pygments_lexer": "ipython3",
   "version": "3.7.0"
  }
 },
 "nbformat": 4,
 "nbformat_minor": 2
}
