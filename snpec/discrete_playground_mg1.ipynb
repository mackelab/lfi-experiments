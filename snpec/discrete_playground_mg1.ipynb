{
 "cells": [
  {
   "cell_type": "markdown",
   "metadata": {},
   "source": [
    "# M/G/1 model\n",
    "\n",
    "- simulator seems running, but prior in this case is non-standard uniform, so proposal currently generates outside prior bounds !"
   ]
  },
  {
   "cell_type": "code",
   "execution_count": null,
   "metadata": {},
   "outputs": [],
   "source": [
    "%matplotlib inline\n",
    "\n",
    "import sys\n",
    "sys.path.append('/home/mackelab/Desktop/Projects/Biophysicality/code/snl_py3/') # SNL does not have a setup.py"
   ]
  },
  {
   "cell_type": "code",
   "execution_count": null,
   "metadata": {},
   "outputs": [],
   "source": [
    "cd '/home/mackelab/Desktop/Projects/Biophysicality/code/snl_py3'"
   ]
  },
  {
   "cell_type": "code",
   "execution_count": null,
   "metadata": {},
   "outputs": [],
   "source": [
    "import numpy as np\n",
    "from matplotlib import pyplot as plt\n",
    "\n",
    "import simulators.mg1 as sim\n",
    "\n",
    "import delfi.generator as dg\n",
    "import delfi.distribution as dd\n",
    "from delfi.utils.viz import plot_pdf\n",
    "import delfi.inference as infer\n",
    "\n",
    "seed = 42\n",
    "\n",
    "# SNPE parameters\n",
    "    \n",
    "# training schedule\n",
    "n_train=3000\n",
    "n_rounds=5\n",
    "\n",
    "# fitting setup\n",
    "minibatch=100\n",
    "epochs=50\n",
    "\n",
    "# network setup\n",
    "n_hiddens=[50]\n",
    "reg_lambda=0.01\n",
    "\n",
    "# convenience\n",
    "pilot_samples=0\n",
    "svi=False\n",
    "verbose=True\n",
    "prior_norm=False\n"
   ]
  },
  {
   "cell_type": "code",
   "execution_count": null,
   "metadata": {},
   "outputs": [],
   "source": [
    "from delfi.simulator import BaseSimulator\n",
    "\n",
    "# prior \n",
    "\n",
    "#prior = sim.Prior()\n",
    "prior = dd.Uniform(lower=[ 0, 0,  0  ], \n",
    "                   upper=[10,20,1./3.])\n",
    "\n",
    "# model \n",
    "model_snl = sim.Model()\n",
    "class MG1(BaseSimulator):\n",
    "    \"\"\"M/G/1 simulator\n",
    "\n",
    "    Parameters\n",
    "    ----------\n",
    "    dim : int\n",
    "        Number of dimensions of parameters\n",
    "    seed : int or None\n",
    "        If set, randomness is seeded\n",
    "    \"\"\"        \n",
    "\n",
    "    def gen_single(self, params):\n",
    "        \"\"\" params = (lower bound of server processing time,\n",
    "                      upper bound of server processing time,\n",
    "                      rate customer arrivals )\n",
    "        \n",
    "        \"\"\"\n",
    "        return model_snl.sim(params)\n",
    "        \n",
    "model = MG1(dim_param=3)\n",
    "\n",
    "# summary statistics\n",
    "summary = sim.Stats()\n",
    "\n",
    "# generator\n",
    "g = dg.Default(prior=prior, model=model, summary=summary, seed=seed+41)"
   ]
  },
  {
   "cell_type": "code",
   "execution_count": null,
   "metadata": {},
   "outputs": [],
   "source": [
    "pars_true = np.array([1, 5, 0.2])  # taken from SNL paper\n",
    "obs = g.model.gen_single(pars_true)  # should also recover\n",
    "obs_stats = g.summary.calc([obs])    # xo from SNL paper !"
   ]
  },
  {
   "cell_type": "code",
   "execution_count": null,
   "metadata": {},
   "outputs": [],
   "source": [
    "inf = infer.SNPEC(generator=g, obs=obs_stats, prior_norm=prior_norm, init_norm=False,\n",
    "                 pilot_samples=pilot_samples, seed=seed, reg_lambda=reg_lambda, svi=svi,\n",
    "                 n_components=1, n_hiddens=n_hiddens, verbose=True)\n",
    "\n",
    "log, trn_data, posteriors = inf.run(n_train=n_train, epochs=epochs, minibatch=minibatch, n_rounds=n_rounds,  \n",
    "                   moo='p_tilda')"
   ]
  },
  {
   "cell_type": "code",
   "execution_count": null,
   "metadata": {},
   "outputs": [],
   "source": [
    "fig,_=plot_pdf(posteriors[0], \n",
    "               lims=[[0,10], [0,20], [0,0.34]],\n",
    "               gt=pars_true, \n",
    "               samples=trn_data[0][0].T,\n",
    "               resolution=100,\n",
    "               ticks=True,\n",
    "               figsize=(16,16));"
   ]
  },
  {
   "cell_type": "code",
   "execution_count": null,
   "metadata": {},
   "outputs": [],
   "source": [
    "%autoreload"
   ]
  },
  {
   "cell_type": "code",
   "execution_count": null,
   "metadata": {},
   "outputs": [],
   "source": []
  }
 ],
 "metadata": {
  "kernelspec": {
   "display_name": "Python 3",
   "language": "python",
   "name": "python3"
  },
  "language_info": {
   "codemirror_mode": {
    "name": "ipython",
    "version": 3
   },
   "file_extension": ".py",
   "mimetype": "text/x-python",
   "name": "python",
   "nbconvert_exporter": "python",
   "pygments_lexer": "ipython3",
   "version": "3.5.1"
  }
 },
 "nbformat": 4,
 "nbformat_minor": 2
}
