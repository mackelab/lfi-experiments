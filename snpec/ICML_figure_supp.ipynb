{
 "cells": [
  {
   "cell_type": "code",
   "execution_count": null,
   "metadata": {},
   "outputs": [],
   "source": [
    "%%capture\n",
    "%matplotlib inline\n",
    "\n",
    "import numpy as np\n",
    "import matplotlib.pyplot as plt\n",
    "import timeit\n",
    "import os\n",
    "\n",
    "import delfi.distribution as dd\n",
    "import delfi.inference as infer\n",
    "import delfi.generator as dg\n",
    "\n",
    "from delfi.simulator import TwoMoons\n",
    "import delfi.summarystats as ds\n",
    "from delfi.utils.viz import plot_pdf, probs2contours\n",
    "\n",
    "from lfimodels.snl_exps.util import draw_sample_uniform_prior_33\n",
    "\n",
    "from lfimodels.snl_exps.util import save_results, load_results\n",
    "from snl.util.plot import plot_hist_marginals\n",
    "\n",
    "fig_path = 'results/figs/'\n",
    "fontsize = 16"
   ]
  },
  {
   "cell_type": "code",
   "execution_count": null,
   "metadata": {},
   "outputs": [],
   "source": [
    "%run -i ./common.ipynb"
   ]
  },
  {
   "cell_type": "markdown",
   "metadata": {},
   "source": [
    "# Gauss"
   ]
  },
  {
   "cell_type": "code",
   "execution_count": null,
   "metadata": {
    "scrolled": false
   },
   "outputs": [],
   "source": [
    "save_path = 'results/gauss_validationset/'\n",
    "\n",
    "plot_seed = 42\n",
    "exp_id = 'seed' + str(plot_seed)\n",
    "log, tds, posteriors, _ = load_results(exp_id=exp_id, path=save_path)\n",
    "pnl_a = plot_hist_marginals(draw_sample_uniform_prior_33(posteriors[-1],1000)[-1000:], lims=[-5,5], rasterized=False)\n",
    "pnl_a.set_figwidth(8)\n",
    "pnl_a.set_figheight(8)\n",
    "for ax in pnl_a.axes:\n",
    "    ax.set_xticks([])\n",
    "    ax.set_yticks([])\n",
    "#    ax.axis('off')\n",
    "    \n",
    "pnl_a.axes[-5].set_xlabel(r'$\\theta_1$', fontsize=fontsize)\n",
    "pnl_a.axes[-4].set_xlabel(r'$\\theta_2$', fontsize=fontsize)\n",
    "pnl_a.axes[-3].set_xlabel(r'$\\theta_3$', fontsize=fontsize)\n",
    "pnl_a.axes[-2].set_xlabel(r'$\\theta_4$', fontsize=fontsize)    \n",
    "pnl_a.axes[-1].set_xlabel(r'$\\theta_5$', fontsize=fontsize)\n",
    "\n",
    "PANEL_S1A = fig_path +'figS1_a.svg'\n",
    "plt.savefig(PANEL_S1A, facecolor=plt.gcf().get_facecolor(), transparent=True, bbox_inches='tight')\n",
    "    \n",
    "pnl_a.show()"
   ]
  },
  {
   "cell_type": "code",
   "execution_count": null,
   "metadata": {},
   "outputs": [],
   "source": [
    "save_path = '../../snl/data/results/seed_42/gauss/'\n",
    "\n",
    "samples = np.load(save_path + 'final_snl_post_samples_N5000.npy')\n",
    "\n",
    "pnl_b = plot_hist_marginals(samples[-1000:], lims=[-5,5], rasterized=False, upper=True)\n",
    "pnl_b.set_figwidth(8)\n",
    "pnl_b.set_figheight(8)\n",
    "for ax in pnl_b.axes:\n",
    "    ax.set_xticks([])\n",
    "    ax.set_yticks([])\n",
    "#    ax.axis('off')\n",
    "    \n",
    "pnl_b.axes[0].set_xlabel(r'$\\theta_1$', fontsize=fontsize)\n",
    "pnl_b.axes[5].set_xlabel(r'$\\theta_2$', fontsize=fontsize)\n",
    "pnl_b.axes[9].set_xlabel(r'$\\theta_3$', fontsize=fontsize)\n",
    "pnl_b.axes[12].set_xlabel(r'$\\theta_4$', fontsize=fontsize)    \n",
    "pnl_b.axes[-1].set_xlabel(r'$\\theta_5$', fontsize=fontsize)     \n",
    "\n",
    "PANEL_S1B = fig_path +'figS1_b.svg'\n",
    "plt.savefig(PANEL_S1B, facecolor=plt.gcf().get_facecolor(), transparent=True, bbox_inches='tight')\n",
    "pnl_b.show()\n",
    "\n"
   ]
  },
  {
   "cell_type": "code",
   "execution_count": null,
   "metadata": {},
   "outputs": [],
   "source": [
    "\n",
    "# FIGURE and GRID\n",
    "FIG_HEIGHT_MM = 80\n",
    "FIG_WIDTH_MM = 160  # set in NIPS2017 notebook to a default value for all figures\n",
    "\n",
    "FIG_N_ROWS = 2\n",
    "ROW_1_NCOLS = 2\n",
    "ROW_1_HEIGHT_MM =      1.2 * (FIG_HEIGHT_MM / FIG_N_ROWS )\n",
    "ROW_1_WIDTH_COL_1_MM =  1.5* (FIG_WIDTH_MM / ROW_1_NCOLS)\n",
    "\n",
    "ROW_2_NCOLS = 2\n",
    "ROW_2_HEIGHT_MM = 0.8 * FIG_HEIGHT_MM / FIG_N_ROWS\n",
    "ROW_2_WIDTH_COL_1_MM = FIG_WIDTH_MM / ROW_2_NCOLS\n",
    "ROW_2_WIDTH_COL_2_MM = FIG_WIDTH_MM / ROW_2_NCOLS\n",
    "\n",
    "\n",
    "fig = create_fig(FIG_WIDTH_MM, FIG_HEIGHT_MM)\n",
    "\n",
    "\n",
    "fig = add_svg(fig, PANEL_S1A, \n",
    "              3, \n",
    "              0)\n",
    "fig = add_label(fig, \n",
    "                'a)', \n",
    "                0, \n",
    "                5)\n",
    "fig = add_svg(fig, PANEL_S1B, \n",
    "              40,\n",
    "              0) \n",
    "fig = add_label(fig, \n",
    "                'b)', \n",
    "                37, \n",
    "                5)\n",
    "\n",
    "PATH_SVG = PATH_DROPBOX_FIGS + 'figS1v2.svg'\n",
    "fig.save(PATH_SVG)\n",
    "svg(PATH_SVG)\n",
    "!$INKSCAPE --export-pdf $PATH_DROPBOX_FIGS/figS1v2.pdf $PATH_SVG\n"
   ]
  },
  {
   "cell_type": "markdown",
   "metadata": {},
   "source": [
    "# M/G/1 figure"
   ]
  },
  {
   "cell_type": "code",
   "execution_count": null,
   "metadata": {
    "scrolled": true
   },
   "outputs": [],
   "source": [
    "PANEL_4A = fig_path +'mg1_lprobs_validationset.svg'\n",
    "PANEL_4B = fig_path +'mg1_dists_validationset.svg'\n",
    "\n",
    "# FIGURE and GRID\n",
    "FIG_HEIGHT_MM = 50\n",
    "FIG_WIDTH_MM = 110  # set in NIPS2017 notebook to a default value for all figures\n",
    "\n",
    "FIG_N_ROWS = 2\n",
    "ROW_1_NCOLS = 2\n",
    "ROW_1_HEIGHT_MM =      1.2 * (FIG_HEIGHT_MM / FIG_N_ROWS )\n",
    "ROW_1_WIDTH_COL_1_MM =  1.5* (FIG_WIDTH_MM / ROW_1_NCOLS)\n",
    "\n",
    "ROW_2_NCOLS = 2\n",
    "ROW_2_HEIGHT_MM = 0.8 * FIG_HEIGHT_MM / FIG_N_ROWS\n",
    "ROW_2_WIDTH_COL_1_MM = FIG_WIDTH_MM / ROW_2_NCOLS\n",
    "ROW_2_WIDTH_COL_2_MM = FIG_WIDTH_MM / ROW_2_NCOLS\n",
    "\n",
    "\n",
    "fig = create_fig(FIG_WIDTH_MM, FIG_HEIGHT_MM)\n",
    "\n",
    "\n",
    "fig = add_svg(fig, PANEL_4A, \n",
    "              5, \n",
    "              0)\n",
    "\n",
    "fig = add_svg(fig, PANEL_4B, \n",
    "              60,\n",
    "              0) \n",
    "\n",
    "PATH_SVG = PATH_DROPBOX_FIGS + 'figS2.svg'\n",
    "fig.save(PATH_SVG)\n",
    "svg(PATH_SVG)\n",
    "!$INKSCAPE --export-pdf $PATH_DROPBOX_FIGS/figS2.pdf $PATH_SVG\n"
   ]
  },
  {
   "cell_type": "code",
   "execution_count": null,
   "metadata": {},
   "outputs": [],
   "source": []
  }
 ],
 "metadata": {
  "kernelspec": {
   "display_name": "Python 3",
   "language": "python",
   "name": "python3"
  },
  "language_info": {
   "codemirror_mode": {
    "name": "ipython",
    "version": 3
   },
   "file_extension": ".py",
   "mimetype": "text/x-python",
   "name": "python",
   "nbconvert_exporter": "python",
   "pygments_lexer": "ipython3",
   "version": "3.7.2"
  }
 },
 "nbformat": 4,
 "nbformat_minor": 2
}
