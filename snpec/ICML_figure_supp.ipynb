{
 "cells": [
  {
   "cell_type": "code",
   "execution_count": null,
   "metadata": {},
   "outputs": [],
   "source": [
    "%%capture\n",
    "%matplotlib inline\n",
    "\n",
    "import numpy as np\n",
    "import matplotlib.pyplot as plt\n",
    "import timeit\n",
    "import os\n",
    "\n",
    "import delfi.distribution as dd\n",
    "import delfi.inference as infer\n",
    "import delfi.generator as dg\n",
    "\n",
    "from delfi.simulator import TwoMoons\n",
    "import delfi.summarystats as ds\n",
    "from delfi.utils.viz import plot_pdf, probs2contours\n",
    "\n",
    "from lfimodels.snl_exps.util import save_results, load_results\n",
    "from snl.util.plot import plot_hist_marginals\n",
    "\n",
    "fig_path = 'results/figs/'"
   ]
  },
  {
   "cell_type": "markdown",
   "metadata": {},
   "source": [
    "# M/G/1 figure"
   ]
  },
  {
   "cell_type": "code",
   "execution_count": null,
   "metadata": {},
   "outputs": [],
   "source": [
    "%run -i ./common.ipynb"
   ]
  },
  {
   "cell_type": "code",
   "execution_count": null,
   "metadata": {
    "scrolled": true
   },
   "outputs": [],
   "source": [
    "PANEL_4A = fig_path +'mg1_lprobs_validationset.svg'\n",
    "PANEL_4B = fig_path +'mg1_dists_validationset.svg'\n",
    "\n",
    "# FIGURE and GRID\n",
    "FIG_HEIGHT_MM = 50\n",
    "FIG_WIDTH_MM = 110  # set in NIPS2017 notebook to a default value for all figures\n",
    "\n",
    "FIG_N_ROWS = 2\n",
    "ROW_1_NCOLS = 2\n",
    "ROW_1_HEIGHT_MM =      1.2 * (FIG_HEIGHT_MM / FIG_N_ROWS )\n",
    "ROW_1_WIDTH_COL_1_MM =  1.5* (FIG_WIDTH_MM / ROW_1_NCOLS)\n",
    "\n",
    "ROW_2_NCOLS = 2\n",
    "ROW_2_HEIGHT_MM = 0.8 * FIG_HEIGHT_MM / FIG_N_ROWS\n",
    "ROW_2_WIDTH_COL_1_MM = FIG_WIDTH_MM / ROW_2_NCOLS\n",
    "ROW_2_WIDTH_COL_2_MM = FIG_WIDTH_MM / ROW_2_NCOLS\n",
    "\n",
    "\n",
    "fig = create_fig(FIG_WIDTH_MM, FIG_HEIGHT_MM)\n",
    "\n",
    "\n",
    "fig = add_svg(fig, PANEL_4A, \n",
    "              5, \n",
    "              0)\n",
    "fig = add_svg(fig, PANEL_4B, \n",
    "              60,\n",
    "              0) \n",
    "\n",
    "PATH_SVG = PATH_DROPBOX_FIGS + 'fig4.svg'\n",
    "fig.save(PATH_SVG)\n",
    "svg(PATH_SVG)\n",
    "!$INKSCAPE --export-pdf $PATH_DROPBOX_FIGS/fig4.pdf $PATH_SVG\n"
   ]
  },
  {
   "cell_type": "code",
   "execution_count": null,
   "metadata": {},
   "outputs": [],
   "source": []
  }
 ],
 "metadata": {
  "kernelspec": {
   "display_name": "Python 3",
   "language": "python",
   "name": "python3"
  },
  "language_info": {
   "codemirror_mode": {
    "name": "ipython",
    "version": 3
   },
   "file_extension": ".py",
   "mimetype": "text/x-python",
   "name": "python",
   "nbconvert_exporter": "python",
   "pygments_lexer": "ipython3",
   "version": "3.7.2"
  }
 },
 "nbformat": 4,
 "nbformat_minor": 2
}
