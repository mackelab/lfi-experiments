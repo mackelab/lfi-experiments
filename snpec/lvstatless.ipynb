{
 "cells": [
  {
   "cell_type": "code",
   "execution_count": null,
   "metadata": {},
   "outputs": [],
   "source": [
    "seed = 43\n",
    "use_maf = False\n",
    "\n",
    "# simulation setup\n",
    "setup_opts = {        \n",
    "    'n_hiddens': [50, 50],\n",
    "    'reg_lambda': 0.01,\n",
    "    'pilot_samples': 1000,\n",
    "    'verbose': True,\n",
    "    'prior_norm': False,    \n",
    "    'svi': False,\n",
    "    'n_rnn': 5,\n",
    "}\n",
    "\n",
    "\n",
    "run_opts = {\n",
    "    'n_train': 1000,\n",
    "    'n_rounds': 10,\n",
    "    'minibatch': 100,\n",
    "    'epochs': 500,\n",
    "    'moo': 'resample',\n",
    "    'proposal': 'discrete',\n",
    "    'n_null': 10,\n",
    "    'train_on_all': True\n",
    "}\n",
    "  \n",
    "if run_opts['train_on_all']:\n",
    "    run_opts['epochs'] = [run_opts['epochs'] // (r+1) for r in range(run_opts['n_rounds'])]\n",
    "\n",
    "if use_maf:\n",
    "    # control MAF seed\n",
    "    rng_maf = np.random\n",
    "    rng_maf.seed(seed)\n",
    "    \n",
    "    setup_opts.update({\n",
    "        'mode': 'random',\n",
    "        'n_mades': 5,\n",
    "        'rng': rng_maf,\n",
    "        'act_fun': 'tanh',\n",
    "        'batch_norm': False\n",
    "    })\n",
    "\n",
    "pars_true = np.array([-4.60517019, -0.69314718,  0.        , -4.60517019])  # from SNL paper\n",
    "obs_stats = np.array([[9.52251656e+01, 5.19668874e+01, 8.67364561e+00, 8.05149566e+00,\n",
    "        9.80002316e-01, 9.34987651e-01, 9.77287472e-01, 9.26921876e-01,\n",
    "        2.29361846e-02]])  # de-normalized, from SNL paper"
   ]
  },
  {
   "cell_type": "code",
   "execution_count": null,
   "metadata": {
    "scrolled": true
   },
   "outputs": [],
   "source": [
    "%matplotlib inline\n",
    "import numpy as np\n",
    "from matplotlib import pyplot as plt\n",
    "import timeit\n",
    "from copy import deepcopy\n",
    "\n",
    "from delfi.utils.viz import plot_pdf\n",
    "import delfi.inference as infer\n",
    "import delfi.distribution as dd\n",
    "import delfi.generator\n",
    "from delfi.summarystats import Identity\n",
    "\n",
    "from lfimodels.snl_exps.util import save_results, load_results, StubbornGenerator, stubborn_defaultrej\n",
    "from lfimodels.snl_exps.util import init_g_lv as init_g\n",
    "from lfimodels.snl_exps.util import load_setup_lv as load_setup\n",
    "from lfimodels.snl_exps.util import load_gt_lv as load_gt\n",
    "from lfimodels.snl_exps.util import calc_all_lprob_errs\n",
    "from lfimodels.snl_exps.LotkaVolterra import LotkaVolterra, LotkaVolterraStats\n",
    "import snl.simulators.lotka_volterra as sim_lv\n",
    "\n",
    "model_id = 'lv'\n",
    "save_path = 'results/' + model_id\n",
    "exp_id = 'seed'+str(seed)\n",
    "\n",
    "print('pars_true : ', pars_true)\n",
    "print('obs_stats : ', obs_stats)\n",
    "\n"
   ]
  },
  {
   "cell_type": "code",
   "execution_count": null,
   "metadata": {},
   "outputs": [],
   "source": [
    "model = LotkaVolterra(dt=1.0, duration=5.0)\n",
    "prior = dd.Uniform(lower= [-5,-5,-5,-5], upper = [2,2,2,2])\n",
    "summary = Identity()\n",
    "#Identity(idx = np.arange(10))\n",
    "g = StubbornGenerator(model=model, prior=prior, summary=summary)\n",
    "\n",
    "#x0 was generate by simulation using the parameters from the SNL papers, initial state removed\n",
    "x0 = np.array([90., 145., 196.,  81., 181.,  25., 113.,  10.,  78.,\n",
    "         4.])"
   ]
  },
  {
   "cell_type": "code",
   "execution_count": null,
   "metadata": {},
   "outputs": [],
   "source": [
    "# initialize inference object\n",
    "res = infer.SNPEC(g, obs=x0, seed=seed, **setup_opts)"
   ]
  },
  {
   "cell_type": "code",
   "execution_count": null,
   "metadata": {
    "scrolled": false
   },
   "outputs": [],
   "source": [
    "# train\n",
    "t = timeit.time.time()\n",
    "logs_C, tds_C, posteriors_C = res.run(**run_opts)\n",
    "print('fitting time : ', timeit.time.time() - t)"
   ]
  },
  {
   "cell_type": "code",
   "execution_count": null,
   "metadata": {},
   "outputs": [],
   "source": [
    "for r in range(run_opts['n_rounds']):\n",
    "    plt.plot(logs_C[r]['loss'])\n",
    "    plt.show()\n",
    "\n",
    "for r in range(len(logs_C)):\n",
    "    \n",
    "    posterior_C = posteriors_C[r]\n",
    "    #posterior_C.ndim = posterior_A.ndim\n",
    "    \n",
    "    g2 = deepcopy(g)\n",
    "    g2.proposal = posterior_C\n",
    "    samples = np.array(g2.draw_params(5000)) \n",
    "    \n",
    "    fig,_ = plot_pdf(dd.Gaussian(m=0.00000123*np.ones(pars_true.size), S=1e-30*np.eye(pars_true.size)), \n",
    "                   samples=samples.T,\n",
    "                   gt=pars_true, \n",
    "                   lims=[[-5,2],[-5,2],[-5,2],[-5,2]],\n",
    "                   #lims=[0,10],\n",
    "                   resolution=100,\n",
    "                   ticks=True,\n",
    "                   figsize=(16,16));\n",
    "    \n",
    "    fig.suptitle('SNPE-C posterior estimates, round r = '+str(r+1), fontsize=14)\n",
    "        \n",
    "    plt.figure()\n",
    "    plt.plot(np.arange(run_opts['n_rounds']) + 1, [-posterior_C.eval(pars_true.reshape(1, -1), log=True) for posterior_C in posteriors_C])\n",
    "    plt.ylabel('log p of true params')\n",
    "    plt.xlabel('round')"
   ]
  },
  {
   "cell_type": "code",
   "execution_count": null,
   "metadata": {
    "scrolled": false
   },
   "outputs": [],
   "source": [
    "if False:\n",
    "    d = model.gen(np.tile(pars_true, (100, 1)))\n",
    "    y = np.stack([x[0]['data'] for x in d if x[0]['data'] is not None])\n",
    "    a, b = y[:,::2].T, y[:,1::2].T\n",
    "    plt.plot(a,'b'); plt.plot(b,'g');"
   ]
  }
 ],
 "metadata": {
  "kernelspec": {
   "display_name": "Python 3",
   "language": "python",
   "name": "python3"
  },
  "language_info": {
   "codemirror_mode": {
    "name": "ipython",
    "version": 3
   },
   "file_extension": ".py",
   "mimetype": "text/x-python",
   "name": "python",
   "nbconvert_exporter": "python",
   "pygments_lexer": "ipython3",
   "version": "3.6.5"
  }
 },
 "nbformat": 4,
 "nbformat_minor": 2
}
