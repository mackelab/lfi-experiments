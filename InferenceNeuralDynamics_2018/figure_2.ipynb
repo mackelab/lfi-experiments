{
 "cells": [
  {
   "cell_type": "markdown",
   "metadata": {
    "collapsed": true
   },
   "source": [
    "# SNPE & RF\n",
    "\n",
    "running this notebook will requre the following repositories to be locally installed and on the specified branches:\n",
    "- delfi \n",
    "- lfimodels / maprf_elife \n",
    "- maprf_mn  / elife      \n"
   ]
  },
  {
   "cell_type": "code",
   "execution_count": null,
   "metadata": {
    "collapsed": false
   },
   "outputs": [],
   "source": [
    "#%%capture\n",
    "%matplotlib inline\n",
    "\n",
    "import delfi.distribution as dd\n",
    "from delfi.utils.viz import plot_pdf, plot_marg_axes\n",
    "from lfimodels.maprf.utils import setup_sim, get_data_o\n",
    "\n",
    "import matplotlib.gridspec as gridspec\n",
    "import matplotlib.patches as mpatches\n",
    "\n",
    "%run -i common.ipynb\n",
    "\n",
    "#import matplotlib.pyplot as plt\n",
    "#import numpy as np\n",
    "\n",
    "root_path     = PATH_DROPBOX + 'materials/fig2/mapRF'\n",
    "root_path_glm = PATH_DROPBOX + 'materials/fig2/GLM' "
   ]
  },
  {
   "cell_type": "code",
   "execution_count": null,
   "metadata": {
    "collapsed": true
   },
   "outputs": [],
   "source": [
    "# FIGURE AND GRID\n",
    "FIG_HEIGHT_MM = 65\n",
    "FIG_WIDTH_MM = 1.15*FIG_WIDTH_MM  # set in common notebook to a default value for all figures\n",
    "FIG_N_ROWS = 1\n",
    "ROW_1_NCOLS = 2\n",
    "ROW_1_HEIGHT_MM = FIG_HEIGHT_MM / FIG_N_ROWS\n",
    "ROW_1_WIDTH_COL_1_MM = 1.1*FIG_WIDTH_MM / ROW_1_NCOLS\n",
    "ROW_1_WIDTH_COL_2_MM = 0.9*FIG_WIDTH_MM / ROW_1_NCOLS\n",
    "# ROW_2_NCOLS = 1\n",
    "# ROW_2_HEIGHT_MM = FIG_HEIGHT_MM / FIG_N_ROWS\n",
    "# ROW_2_WIDTH_COL_1_MM = FIG_WIDTH_MM / ROW_2_NCOLS\n",
    "\n",
    "PATH_DROPBOX_FIGS = PATH_DROPBOX + 'figs/'\n",
    "\n",
    "# PATHS\n",
    "PANEL_A = PATH_DROPBOX_FIGS + 'fig2_a.svg'\n",
    "\n",
    "fontsize=14\n"
   ]
  },
  {
   "cell_type": "code",
   "execution_count": null,
   "metadata": {
    "collapsed": false
   },
   "outputs": [],
   "source": [
    "svg(PANEL_A)"
   ]
  },
  {
   "cell_type": "markdown",
   "metadata": {},
   "source": [
    "# temporal GLM results"
   ]
  },
  {
   "cell_type": "code",
   "execution_count": null,
   "metadata": {
    "collapsed": false
   },
   "outputs": [],
   "source": [
    "tmp = np.load(root_path_glm + '/results/SNPE_B/glm_5k_elife_prior_gp_run_1_round5_param10_SNPE_posterior.npy')[()]\n",
    "posterior, proposal, prior = tmp['posterior'], tmp['proposal'], tmp['prior']\n",
    "\n",
    "tmp = np.load(root_path_glm+'/results/SNPE_B/ground_truth_data.npy')[()]\n",
    "obs_stats, pars_true, labels_params = tmp['obs_stats'],  tmp['pars_true'], tmp['labels_params']\n",
    "\n",
    "samples = np.load(root_path_glm+'/results/MCMC/sam.npz')['arr_0'].T\n",
    "\n",
    "plot_post = posterior\n",
    "plot_prior = prior\n",
    "pars_raw   = pars_true\n",
    "labels_params = params_ls = ['bias', 'f1', 'f2', 'f3', 'f4', 'f5','f6','f7','f8','f9']\n",
    "\n",
    "lims_samples = np.array([[-3, -3, -3, -3, -3, -3, -3, -3, -3, -3], \n",
    "                         [ 3,  3,  3,  3,  3,  3,  3,  3,  3,  3]]).T\n",
    "\n",
    "lims_post    = np.array([[-3, -3, -3, -3, -3, -3, -3, -3, -3, -3], \n",
    "                         [ 3,  3,  3,  3,  3,  3,  3,  3,  3,  3]]).T\n",
    "\n",
    "\n",
    "obs_stats, pars_true, params_ls"
   ]
  },
  {
   "cell_type": "markdown",
   "metadata": {},
   "source": [
    "## panel for summary statistics"
   ]
  },
  {
   "cell_type": "code",
   "execution_count": null,
   "metadata": {
    "collapsed": false
   },
   "outputs": [],
   "source": [
    "plt.figure(figsize=(2, 2))\n",
    "plt.plot(np.arange(obs_stats.size), obs_stats.flatten(), 'bo-')\n",
    "plt.title('cross-correlation', fontsize=fontsize)\n",
    "#plt.xlabel('#summary', fontsize=fontsize)\n",
    "#plt.ylabel( 'value', fontsize=fontsize)\n",
    "plt.xticks([0,  9], fontsize=fontsize)\n",
    "plt.yticks([0, 10], fontsize=fontsize)\n",
    "plt.text(4, -11, r'$\\Delta{}t$', fontsize=fontsize)\n",
    "plt.tight_layout()\n",
    "plt.box('off')\n",
    "\n",
    "PANEL_B_1 = PATH_DROPBOX_FIGS + 'fig2_b_1.svg'\n",
    "plt.savefig(PANEL_B_1, facecolor=plt.gcf().get_facecolor(), transparent=True)\n"
   ]
  },
  {
   "cell_type": "markdown",
   "metadata": {},
   "source": [
    "## panel for parameters"
   ]
  },
  {
   "cell_type": "code",
   "execution_count": null,
   "metadata": {
    "collapsed": false
   },
   "outputs": [],
   "source": [
    "plt.figure(figsize=(2, 2))\n",
    "plt.plot(np.arange(pars_true.size)+1, pars_true.flatten(), 'ro-')\n",
    "plt.title('ground-truth', fontsize=fontsize)\n",
    "#plt.ylabel( 'value', fontsize=fontsize)\n",
    "#plt.xlabel( '#param', fontsize=fontsize)\n",
    "plt.xticks([1, 6, 10], np.array(params_ls)[np.array([0,5,9])], fontsize=fontsize)\n",
    "plt.yticks([-2, 0, 2], fontsize=fontsize)\n",
    "plt.tight_layout()\n",
    "plt.box('off')\n",
    "\n",
    "PANEL_B_2 = PATH_DROPBOX_FIGS + 'fig2_b_2.svg'\n",
    "plt.savefig(PANEL_B_2, facecolor=plt.gcf().get_facecolor(), transparent=True)\n"
   ]
  },
  {
   "cell_type": "markdown",
   "metadata": {},
   "source": [
    "## version with all marginals + selected pair-wise marginals"
   ]
  },
  {
   "cell_type": "code",
   "execution_count": null,
   "metadata": {
    "collapsed": false
   },
   "outputs": [],
   "source": [
    "plt.figure(figsize=(7.5,4))\n",
    "\n",
    "styles = mpatches.ArrowStyle.get_styles()\n",
    "\n",
    "dx, MM, nxh, nxp = 10, len(lims_samples), 70, 200\n",
    "M, M_ = MM, MM * 1.15\n",
    "\n",
    "idx = np.array([0,1,2,3,4,5,6,7,8,9])\n",
    "pairs = [[0,1], # bias  vs first filter\n",
    "         [1,2], # \n",
    "         [2,4], # \n",
    "         [4,8]] # \n",
    "\n",
    "gs = gridspec.GridSpec(2, 3, width_ratios=[2, 1, 1], height_ratios=[1,1])\n",
    "for j in range(4):\n",
    "\n",
    "    ax = plt.subplot(gs[(j%2),1+(j>1)])\n",
    "    plot_marg_axes(ax=ax, \n",
    "                   i=pairs[j][0], j=pairs[j][1],\n",
    "                   pdf=plot_post, \n",
    "                   samples=samples, \n",
    "                   lims=lims_samples, \n",
    "                   gt=pars_raw, \n",
    "                   bins=100, \n",
    "                   resolution=100,\n",
    "                   cmap=None,\n",
    "                   contours=True,\n",
    "                   contour_levels=(0.68, 0.95),\n",
    "                   contour_colors=('w','y'),\n",
    "                   scatter=False,\n",
    "                   scatter_color='gray',\n",
    "                   scatter_alpha=0.2)\n",
    "    plt.xlabel(labels_params[pairs[j][1]], fontsize=fontsize)\n",
    "    plt.ylabel(labels_params[pairs[j][0]], fontsize=fontsize)\n",
    "plt.tight_layout()    \n",
    "\n",
    "\n",
    "stylename, styleclass = sorted(styles.items())[0]            \n",
    "gs = gridspec.GridSpec(1, 3, width_ratios=[2.2, 1, 1], height_ratios=[1])\n",
    "ax = plt.subplot(gs[0,0])\n",
    "\n",
    "xh = np.linspace(0, 1, nxh) \n",
    "for i in idx:\n",
    "    \n",
    "    S = samples[:,idx[i]].copy()\n",
    "    mm, MM = lims_post[idx[i]] #S.min(), S.max()\n",
    "    yy = np.linspace(mm, MM, nxp)\n",
    "    S = (S - mm) / (MM - mm)\n",
    "    xx = np.linspace(0, 1, nxp) \n",
    "    \n",
    "    h, xh_ = np.histogram(S, bins=xh, normed=True)\n",
    "    Mh = h.max() / (0.9*dx)\n",
    "    h = h / Mh\n",
    "    \n",
    "    \"\"\"\n",
    "    ax.barh(bottom=xh[:-1], width=h, left=(M-i)*dx, color='orange', height=1.1*np.diff(xh)[0])    \n",
    "    ff = plot_post.eval(yy.reshape(-1,1), ii=[idx[i]], log=False)*(MM - mm)\n",
    "    ax.plot(ff/Mh + (M-i)*dx, xx, color=COL['SNPE'], linewidth=2.5)\n",
    "    ff = plot_prior.eval(yy.reshape(-1,1), ii=[idx[i]], log=False)*(MM - mm)\n",
    "    ax.plot(ff/Mh + (M-i)*dx, xx, color=COL['IBEA'], linewidth=1.5)\n",
    "    ax.text(dx*(M-i), -0.05, params_ls[idx[i]], fontsize=fontsize, rotation=45)    \n",
    "    ax.plot(dx*(M-i), (pars_raw[idx[i]]-mm)/(MM-mm), 'r*', markersize=9)\n",
    "    \"\"\"\n",
    "    \n",
    "    ax.bar(left=xh[:-1], height=h, bottom=(M-i)*dx, color='orange', width=np.diff(xh)[0], orientation='vertical')\n",
    "    ff = plot_post.eval(yy.reshape(-1,1), ii=[idx[i]], log=False)*(MM - mm)\n",
    "    ax.plot(xx, ff/Mh + (M-i)*dx, color=COL['SNPE'], linewidth=2.5)\n",
    "    ff = plot_prior.eval(yy.reshape(-1,1), ii=[idx[i]], log=False)*(MM - mm)\n",
    "    ax.plot(xx, ff/Mh + (M-i)*dx, color=COL['IBEA'], linewidth=1.5)\n",
    "    ax.text(-0.15, dx*(M-i+0.35) , params_ls[idx[i]], fontsize=fontsize, rotation=20)    \n",
    "    ax.plot((pars_raw[idx[i]]-mm)/(MM-mm), dx*(M-i), 'r*', markersize=9)    \n",
    "    \n",
    "ax.axis('off')    \n",
    "\n",
    "\n",
    "\"\"\"\n",
    "# in case variables are grouped by transformation ( idx = [1,0,6,3,5,4,2,7,8] )\n",
    "plt.plot([0.9*dx, 4.5*dx], [-0.1, -0.1], 'k')\n",
    "plt.text(2.4*dx, -0.17, 'logit-normal', fontsize=fontsize)\n",
    "plt.plot([4.9*dx, 7.5*dx], [-0.12, -0.12], 'k')\n",
    "plt.text(5.9*dx, -0.17, 'log-normal', fontsize=fontsize)\n",
    "plt.plot([7.9*dx, 9.5*dx], [-0.11, -0.11], 'k')\n",
    "plt.text(8.4*dx, -0.17, 'normal', fontsize=fontsize)\n",
    "\"\"\"\n",
    "\n",
    "PANEL_B_3 = PATH_DROPBOX_FIGS + 'fig2_b_3.svg'\n",
    "plt.savefig(PANEL_B_3, facecolor=plt.gcf().get_facecolor(), transparent=True)\n",
    "\n",
    "plt.show()\n"
   ]
  },
  {
   "cell_type": "markdown",
   "metadata": {},
   "source": [
    "## panel for posterior samples "
   ]
  },
  {
   "cell_type": "code",
   "execution_count": null,
   "metadata": {
    "collapsed": false
   },
   "outputs": [],
   "source": [
    "\n",
    "n_draws=10 \n",
    "plt.figure(figsize=(4,4))\n",
    "for i in range(n_draws):\n",
    "    \n",
    "    plt.plot(np.arange(pars_true.size)+1, posterior.gen(1).flatten(), 'o-', color=COL['SNPE'], alpha=0.5)\n",
    "\n",
    "plt.xticks([1, 4, 7, 10], np.array(params_ls)[np.array([0,3,6,9])], fontsize=fontsize)\n",
    "plt.yticks([-2, 0, 2], fontsize=fontsize)\n",
    "plt.tight_layout()\n",
    "plt.box('off')    \n",
    "plt.title('posterior samples', fontsize=fontsize)\n",
    "\n",
    "plt.plot(np.arange(pars_true.size)+1, pars_true.flatten(), 'ro-', linewidth=2)\n",
    "\n",
    "\n",
    "plt.tight_layout()\n",
    "\n",
    "PANEL_B_4 = PATH_DROPBOX_FIGS + 'fig2_b_4.svg'\n",
    "plt.savefig(PANEL_B_4, facecolor=plt.gcf().get_facecolor(), transparent=True)\n",
    "plt.show()\n"
   ]
  },
  {
   "cell_type": "code",
   "execution_count": null,
   "metadata": {
    "collapsed": true
   },
   "outputs": [],
   "source": [
    "\n",
    "\n",
    "\n",
    "\n",
    "\n",
    "\n",
    "\n",
    "\n",
    "\n"
   ]
  },
  {
   "cell_type": "markdown",
   "metadata": {},
   "source": [
    "# mapRF results"
   ]
  },
  {
   "cell_type": "code",
   "execution_count": null,
   "metadata": {
    "collapsed": false
   },
   "outputs": [],
   "source": [
    "## training data and true parameters, data, statistics\n",
    "seed = 42\n",
    "idx_cell = 6 # load toy cell number i \n",
    "\n",
    "tmp = np.load(root_path+'/results/SNPE/toycell_6/ground_truth_data.npy')[()]\n",
    "obs_stats, pars_true, rf = tmp['obs_stats'],  tmp['pars_true'], tmp['rf']\n",
    "\n",
    "sim_info = np.load(root_path +'/results/sim_info.npy')[()]\n",
    "d, params_ls = sim_info['d'], sim_info['params_ls']\n",
    "\n",
    "assert obs_stats[0,-1] == 307 # the cell we want to work with should have this number of spikes\n",
    "\n",
    "labels_params = ['bias', 'gain', 'phase', 'freq', 'angle', 'ratio', 'width', 'xo', 'yo']\n"
   ]
  },
  {
   "cell_type": "markdown",
   "metadata": {},
   "source": [
    "# load SNPE results"
   ]
  },
  {
   "cell_type": "code",
   "execution_count": null,
   "metadata": {
    "collapsed": false
   },
   "outputs": [],
   "source": [
    "tmp = np.load(root_path + '/results/SNPE/toycell_6/maprf_100k_elife_prior01_run_9_round4_param9_nosvi_CDELFI_posterior.npy')[()]\n",
    "posterior, proposal, prior = tmp['posterior'], tmp['proposal'], tmp['prior']\n",
    "\n",
    "plot_prior = dd.TransformedNormal(m=prior.m, S = prior.S,\n",
    "                            flags=[0,0,2,1,2,1,1,2,2],\n",
    "                            lower=[0,0,0,0,0,0,0,-1,-1], upper=[0,0,np.pi,0,2*np.pi,0,0,1,1]) \n",
    "\n",
    "plot_post = dd.mixture.TransformedGaussianMixture.MoTG(\n",
    "                            ms= [posterior.xs[i].m for i in range(posterior.n_components)], \n",
    "                            Ss =[posterior.xs[i].S for i in range(posterior.n_components)],\n",
    "                            a = posterior.a, \n",
    "                            flags=[0,0,2,1,2,1,1,2,2],\n",
    "                            lower=[0,0,0,0,0,0,0,-1,-1], upper=[0,0,np.pi,0,2*np.pi,0,0,1,1]) \n",
    "\n",
    "lims_post = np.array([[-1.5, -1.1, .001,         0,          .001, 0, 0, -.999, -.999], \n",
    "                 [ 1.5,  1.1, .999*np.pi, 2.5,   1.999*np.pi, 2, 4., .999,   .999]]).T"
   ]
  },
  {
   "cell_type": "markdown",
   "metadata": {},
   "source": [
    "# load comparison against MCMC sampler"
   ]
  },
  {
   "cell_type": "code",
   "execution_count": null,
   "metadata": {
    "collapsed": false
   },
   "outputs": [],
   "source": [
    "n_samples=1000000\n",
    "path = root_path + '/results/MCMC/'\n",
    "savefile = path + 'toycell_' + str(idx_cell) + '/maprf_MCMC_prior01_run_1_'+ str(n_samples)+'samples_param9_5min.npy'\n",
    "tmp = np.load(savefile)[()]\n",
    "\n",
    "T, params_dict_true = tmp['T'], tmp['params_dict_true']\n",
    "\n",
    "params_ls = ['bias', 'gain', 'phase', 'freq','angle','ratio','width', 'xo', 'yo']\n",
    "samples = np.hstack([np.atleast_2d(T[key].T).T for key in params_ls])\n",
    "\n",
    "def symmetrize_sample_modes(samples):\n",
    "\n",
    "    assert samples.ndim==2 and samples.shape[1] == 9 \n",
    "\n",
    "    # assumes phase in [0, pi]\n",
    "    assert np.min(samples[:,2]) >= 0. and np.max(samples[:,2] <= np.pi)\n",
    "    # assumes angle in [0, 2*pi]\n",
    "    assert np.min(samples[:,4]) >= 0. and np.max(samples[:,4] <= 2*np.pi)\n",
    "    # assumes freq, ratio and width > 0\n",
    "    assert np.all(np.min(samples[:,np.array([3,5,6])], axis=0) >= 0.)\n",
    "\n",
    "    samples1 = samples.copy()\n",
    "    idx = np.where( samples[:,4] > np.pi )[0]\n",
    "    samples1[idx,4] = samples1[idx,4] - np.pi\n",
    "    idx = np.where( samples[:,4] < np.pi )[0]\n",
    "    samples1[idx,4] = samples1[idx,4] + np.pi\n",
    "    #samples1[:,2] = np.pi - samples1[:,2]\n",
    "    samples_all = np.vstack((samples, samples1))[::2, :]\n",
    "\n",
    "    samples1 = samples_all.copy()\n",
    "    samples1[:,1] = - samples1[:,1] \n",
    "    samples1[:,2] = np.pi - samples1[:,2] \n",
    "    samples_all = np.vstack((samples_all, samples1))[::2, :]\n",
    "\n",
    "    return samples_all\n",
    "\n",
    "samples = symmetrize_sample_modes(samples)\n",
    "\n",
    "pars_raw = np.array([ params_dict_true['glm']['bias'],\n",
    "                      params_dict_true['kernel']['s']['gain'],\n",
    "                      params_dict_true['kernel']['s']['phase'] + 0.05, # remove phase a bit from left interval border\n",
    "                      params_dict_true['kernel']['s']['angle'],\n",
    "                      params_dict_true['kernel']['s']['freq'],\n",
    "                      params_dict_true['kernel']['s']['ratio'],\n",
    "                      params_dict_true['kernel']['s']['width'],\n",
    "                      params_dict_true['kernel']['l']['xo'],\n",
    "                      params_dict_true['kernel']['l']['yo'] ])\n",
    "\n",
    "lims_samples = np.array([[-.5, -1.1, .00001*np.pi, 0, 0.301*np.pi, 0, 0,-0.1,-0.0], \n",
    "                         [ .1,  1.1, .99999*np.pi, 3, 1.699*np.pi, 3, 5, 0.4, 0.5]]).T"
   ]
  },
  {
   "cell_type": "markdown",
   "metadata": {},
   "source": [
    "## panel for summary statistics"
   ]
  },
  {
   "cell_type": "code",
   "execution_count": null,
   "metadata": {
    "collapsed": false
   },
   "outputs": [],
   "source": [
    "plt.figure(figsize=(2, 2))\n",
    "plt.imshow(obs_stats[0,:-1].reshape(d,d), interpolation='None', cmap='gray')\n",
    "plt.title('STA', fontsize=fontsize)\n",
    "plt.tight_layout()\n",
    "plt.axis('off')\n",
    "\n",
    "# option to add contours of ground-truth RF\n",
    "add_gt = False\n",
    "if add_gt:    \n",
    "    rfm = g.model.params_to_rf(pars_true.reshape(-1))[0]\n",
    "    plt.contour(rfm, levels=[lvls[0]*rfm.min(), lvls[1]*rfm.max()], colors='r')\n",
    "\n",
    "PANEL_C_1 = PATH_DROPBOX_FIGS + 'fig2_c_1.svg'\n",
    "plt.savefig(PANEL_C_1, facecolor=plt.gcf().get_facecolor(), transparent=True)\n"
   ]
  },
  {
   "cell_type": "markdown",
   "metadata": {},
   "source": [
    "## panel for parameters"
   ]
  },
  {
   "cell_type": "code",
   "execution_count": null,
   "metadata": {
    "collapsed": false
   },
   "outputs": [],
   "source": [
    "plt.figure(figsize=(2, 2))\n",
    "plt.imshow(rf, interpolation='None')\n",
    "plt.title('ground-truth', fontsize=fontsize)\n",
    "plt.tight_layout()\n",
    "plt.axis('off')\n",
    "\n",
    "PANEL_C_2 = PATH_DROPBOX_FIGS + 'fig2_c_2.svg'\n",
    "plt.savefig(PANEL_C_2, facecolor=plt.gcf().get_facecolor(), transparent=True)\n",
    "plt.show()\n"
   ]
  },
  {
   "cell_type": "markdown",
   "metadata": {},
   "source": [
    "## panel for (partial) posterior"
   ]
  },
  {
   "cell_type": "code",
   "execution_count": null,
   "metadata": {
    "collapsed": false
   },
   "outputs": [],
   "source": [
    "plt.figure(figsize=(7.5,4))\n",
    "\n",
    "styles = mpatches.ArrowStyle.get_styles()\n",
    "\n",
    "dx, MM, nxh, nxp = 10, len(lims_samples), 70, 200\n",
    "M, M_ = MM, MM * 1.15\n",
    "\n",
    "idx = np.array([0,1,6,3,5,2,4,8,7])\n",
    "pairs = [[0,1], # bias  vs gain\n",
    "         [2,1], # gain  vs phase\n",
    "         [2,4], # phase vs angle\n",
    "         [8,7]] # xo vs yo\n",
    "         #[5,6]] # ratio vs width\n",
    "\n",
    "\n",
    "gs = gridspec.GridSpec(2, 3, width_ratios=[2, 1, 1], height_ratios=[1,1])\n",
    "for j in range(4):\n",
    "\n",
    "    ax = plt.subplot(gs[(j%2),1+(j>1)])\n",
    "    plot_marg_axes(ax=ax, \n",
    "                   i=pairs[j][0], j=pairs[j][1],\n",
    "                   pdf=plot_post, \n",
    "                   samples=samples, \n",
    "                   lims=lims_samples, \n",
    "                   gt=pars_raw, \n",
    "                   bins=100, \n",
    "                   resolution=100,\n",
    "                   cmap=None,\n",
    "                   contours=True,\n",
    "                   contour_levels=(0.68, 0.95),\n",
    "                   contour_colors=('w','y'),\n",
    "                   scatter=False,\n",
    "                   scatter_color='gray',\n",
    "                   scatter_alpha=0.2)\n",
    "    plt.xlabel(labels_params[pairs[j][1]], fontsize=fontsize)\n",
    "    plt.ylabel(labels_params[pairs[j][0]], fontsize=fontsize)\n",
    "plt.tight_layout()    \n",
    "\n",
    "\n",
    "\n",
    "stylename, styleclass = sorted(styles.items())[0]            \n",
    "gs = gridspec.GridSpec(1, 3, width_ratios=[2.2, 1, 1], height_ratios=[1])\n",
    "ax = plt.subplot(gs[0,0])\n",
    "\n",
    "xh = np.linspace(0, 1, nxh) \n",
    "for i in idx:\n",
    "    \n",
    "    S = samples[:,idx[i]].copy()\n",
    "    mm, MM = lims_post[idx[i]] #S.min(), S.max()\n",
    "    yy = np.linspace(mm, MM, nxp)\n",
    "    S = (S - mm) / (MM - mm)\n",
    "    xx = np.linspace(0, 1, nxp) \n",
    "\n",
    "    h, xh_ = np.histogram(S, bins=xh, normed=True)\n",
    "    Mh = h.max() / (0.9*dx)\n",
    "    h = h / Mh\n",
    "    \n",
    "    \"\"\"\n",
    "    #ax.plot([(M-i)*dx, (M-i)*dx], [0, 1], 'k')    \n",
    "    ax.barh(bottom=xh[:-1], width=h, left=(M-i)*dx, color='orange', height=1.1*np.diff(xh)[0])    \n",
    "    ff = plot_post.eval(yy.reshape(-1,1), ii=[idx[i]], log=False)*(MM - mm)\n",
    "    ax.plot(ff/Mh + (M-i)*dx, xx, color=COL['SNPE'], linewidth=2.5)\n",
    "    ff = plot_prior.eval(yy.reshape(-1,1), ii=[idx[i]], log=False)*(MM - mm)\n",
    "    ax.plot(ff/Mh + (M-i)*dx, xx, color=COL['IBEA'], linewidth=1.5)\n",
    "    ax.text(dx*(M-i), -0.05, params_ls[idx[i]], fontsize=fontsize, rotation=45)    \n",
    "    ax.plot(dx*(M-i), (pars_raw[idx[i]]-mm)/(MM-mm), 'r*', markersize=9)\n",
    "    \"\"\"\n",
    "    \n",
    "    #ax.plot([0, 1], [(M-i)*dx, (M-i)*dx], 'k')    \n",
    "    ax.bar(left=xh[:-1], height=h, bottom=(M-i)*dx, color='orange', width=np.diff(xh)[0], orientation='vertical')\n",
    "    ff = plot_post.eval(yy.reshape(-1,1), ii=[idx[i]], log=False)*(MM - mm)\n",
    "    ax.plot(xx, ff/Mh + (M-i)*dx, color=COL['SNPE'], linewidth=2.5)\n",
    "    ff = plot_prior.eval(yy.reshape(-1,1), ii=[idx[i]], log=False)*(MM - mm)\n",
    "    ax.plot(xx, ff/Mh + (M-i)*dx, color=COL['IBEA'], linewidth=1.5)\n",
    "    ax.text(-0.22, dx*(M-i+0.35) , params_ls[idx[i]], fontsize=fontsize, rotation=20)    \n",
    "    ax.plot((pars_raw[idx[i]]-mm)/(MM-mm), dx*(M-i), 'r*', markersize=9)    \n",
    "    \n",
    "ax.axis('off')    \n",
    "\n",
    "\"\"\"\n",
    "# in case variables are grouped by transformation ( idx = [1,0,6,3,5,4,2,7,8] )\n",
    "plt.plot([0.9*dx, 4.5*dx], [-0.1, -0.1], 'k')\n",
    "plt.text(2.4*dx, -0.17, 'logit-normal', fontsize=fontsize)\n",
    "plt.plot([4.9*dx, 7.5*dx], [-0.12, -0.12], 'k')\n",
    "plt.text(5.9*dx, -0.17, 'log-normal', fontsize=fontsize)\n",
    "plt.plot([7.9*dx, 9.5*dx], [-0.11, -0.11], 'k')\n",
    "plt.text(8.4*dx, -0.17, 'normal', fontsize=fontsize)\n",
    "\"\"\"\n",
    "\n",
    "PANEL_C_3 = PATH_DROPBOX_FIGS + 'fig2_c_3.svg'\n",
    "plt.savefig(PANEL_C_3, facecolor=plt.gcf().get_facecolor(), transparent=True)\n",
    "\n",
    "plt.show()\n"
   ]
  },
  {
   "cell_type": "markdown",
   "metadata": {},
   "source": [
    "## panel for posterior samples "
   ]
  },
  {
   "cell_type": "code",
   "execution_count": null,
   "metadata": {
    "collapsed": false
   },
   "outputs": [],
   "source": [
    "\n",
    "# this snippet of code requires the mapRF repository (to instantiate g.model)\n",
    "g, prior, d = setup_sim(seed, path=root_path)\n",
    "filename = root_path + '/results/toy_cells/toy_cell_' + str(idx_cell) + '.npy'\n",
    "obs_stats, pars_true = get_data_o(filename, g, seed)\n",
    "rf = g.model.params_to_rf(pars_true)[0]\n",
    "\n",
    "lvls, n_draws=[0.5, 0.5], 10 \n",
    "plt.figure(figsize=(4,4))\n",
    "plt.imshow(obs_stats[0,:-1].reshape(d,d), interpolation='None', cmap='gray')\n",
    "for i in range(n_draws):\n",
    "    rfm = g.model.params_to_rf(posterior.gen().reshape(-1))[0]\n",
    "    plt.contour(rfm, levels=[lvls[0]*rfm.min(), lvls[1]*rfm.max()], colors=[COL['SNPE']], linewidth=2)\n",
    "    plt.hold(True)\n",
    "plt.title('posterior samples', fontsize=fontsize)\n",
    "\n",
    "rfm = g.model.params_to_rf(pars_true.reshape(-1))[0]\n",
    "plt.contour(rfm, levels=[lvls[0]*rfm.min(), lvls[1]*rfm.max()], colors='r', linewidth=2.5)\n",
    "plt.tight_layout()\n",
    "plt.axis('off')\n",
    "\n",
    "PANEL_C_4 = PATH_DROPBOX_FIGS + 'fig2_c_4.svg'\n",
    "plt.savefig(PANEL_C_4, facecolor=plt.gcf().get_facecolor(), transparent=True)\n",
    "plt.show()\n"
   ]
  },
  {
   "cell_type": "markdown",
   "metadata": {},
   "source": [
    "# compose figure"
   ]
  },
  {
   "cell_type": "code",
   "execution_count": null,
   "metadata": {
    "collapsed": true
   },
   "outputs": [],
   "source": [
    "# FIGURE and GRID\n",
    "FIG_HEIGHT_MM = 200\n",
    "FIG_WIDTH_MM = FIG_WIDTH_MM  # set in NIPS2017 notebook to a default value for all figures\n",
    "FIG_N_ROWS = 4\n",
    "ROW_1_NCOLS = 1\n",
    "ROW_1_HEIGHT_MM =     0.6 * (FIG_HEIGHT_MM / FIG_N_ROWS )\n",
    "ROW_1_WIDTH_COL_1_MM =  3 *(FIG_WIDTH_MM / ROW_1_NCOLS)\n",
    "\n",
    "ROW_2_NCOLS = 3\n",
    "ROW_2_HEIGHT_MM = FIG_HEIGHT_MM / FIG_N_ROWS\n",
    "ROW_2_WIDTH_COL_1_MM = 0.3*FIG_WIDTH_MM / ROW_2_NCOLS\n",
    "ROW_2_WIDTH_COL_2_MM = 1.6*FIG_WIDTH_MM / ROW_2_NCOLS\n",
    "ROW_2_WIDTH_COL_3_MM = 1.1 *FIG_WIDTH_MM / ROW_2_NCOLS\n",
    "ROW_3_NCOLS = 1\n",
    "ROW_3_HEIGHT_MM = FIG_HEIGHT_MM / FIG_N_ROWS\n",
    "ROW_3_WIDTH_COL_1_MM = FIG_WIDTH_MM / ROW_3_NCOLS\n",
    "ROW_3_WIDTH_COL_2_MM = FIG_WIDTH_MM / ROW_3_NCOLS\n",
    "ROW_3_WIDTH_COL_3_MM = FIG_WIDTH_MM / ROW_3_NCOLS"
   ]
  },
  {
   "cell_type": "code",
   "execution_count": null,
   "metadata": {
    "collapsed": false
   },
   "outputs": [],
   "source": [
    "fig = create_fig(FIG_WIDTH_MM, FIG_HEIGHT_MM)\n",
    "\n",
    "yoffset = -2.2\n",
    "xoffset = -1.\n",
    "fig = add_svg(fig, PANEL_A, \n",
    "              5 + xoffset, \n",
    "              0 + yoffset)\n",
    "\n",
    "\n",
    "yoffset = 30\n",
    "fig = add_svg(fig, PANEL_B_2, \n",
    "              0 + xoffset, \n",
    "              4 + yoffset)\n",
    "fig = add_svg(fig, PANEL_B_1, \n",
    "              0 + xoffset , \n",
    "              ROW_1_HEIGHT_MM + yoffset) \n",
    "fig = add_svg(fig, PANEL_B_3, \n",
    "              ROW_2_WIDTH_COL_1_MM + xoffset + 10,                        \n",
    "              yoffset + 2.1)  \n",
    "fig = add_svg(fig, PANEL_B_4, \n",
    "              ROW_2_WIDTH_COL_1_MM + ROW_2_WIDTH_COL_2_MM + xoffset, \n",
    "              yoffset + 1.8)\n",
    "\n",
    "yoffset = 2.5\n",
    "fig = add_label(fig, 'A', \n",
    "                0, \n",
    "                0 + yoffset)\n",
    "yoffset = 5\n",
    "fig = add_label(fig, 'B', \n",
    "                0, \n",
    "                ROW_1_HEIGHT_MM + yoffset)\n",
    "fig = add_label(fig, 'C', \n",
    "                ROW_2_WIDTH_COL_1_MM + 5, \n",
    "                ROW_1_HEIGHT_MM + yoffset)\n",
    "fig = add_label(fig, 'D', \n",
    "                ROW_2_WIDTH_COL_1_MM + ROW_2_WIDTH_COL_2_MM, \n",
    "                ROW_1_HEIGHT_MM + yoffset)\n",
    "\n",
    "#yoffset = 30\n",
    "fig = add_svg(fig, PANEL_C_2, \n",
    "              0 + xoffset, \n",
    "              0 + yoffset + ROW_1_HEIGHT_MM + ROW_2_HEIGHT_MM + 2)\n",
    "fig = add_svg(fig, PANEL_C_1, \n",
    "              0 + xoffset, \n",
    "              ROW_1_HEIGHT_MM + ROW_1_HEIGHT_MM + ROW_2_HEIGHT_MM + yoffset - 2.5) \n",
    "fig = add_svg(fig, PANEL_C_3, \n",
    "              ROW_2_WIDTH_COL_1_MM + xoffset + 10,                   \n",
    "              yoffset + ROW_2_HEIGHT_MM+ ROW_1_HEIGHT_MM + 2.1)  \n",
    "fig = add_svg(fig, PANEL_C_4, \n",
    "              ROW_2_WIDTH_COL_1_MM + ROW_2_WIDTH_COL_2_MM + xoffset, \n",
    "              yoffset + ROW_2_HEIGHT_MM + ROW_1_HEIGHT_MM + 1.8)\n",
    "\n",
    "yoffset = 11\n",
    "fig = add_label(fig, 'E', \n",
    "                0,                        \n",
    "                ROW_1_HEIGHT_MM + ROW_2_HEIGHT_MM + yoffset)\n",
    "fig = add_label(fig, 'F', \n",
    "                ROW_2_WIDTH_COL_1_MM + 5, \n",
    "                ROW_1_HEIGHT_MM + ROW_2_HEIGHT_MM + yoffset)\n",
    "fig = add_label(fig, 'G', \n",
    "                ROW_2_WIDTH_COL_1_MM + ROW_2_WIDTH_COL_2_MM, \n",
    "                ROW_1_HEIGHT_MM + ROW_2_HEIGHT_MM + yoffset)\n",
    "\n",
    "\n",
    "\n",
    "yoffset = 21\n",
    "fig = add_label(fig, 'H', \n",
    "                0,                        \n",
    "                ROW_1_HEIGHT_MM + ROW_2_HEIGHT_MM + ROW_3_HEIGHT_MM + yoffset)\n",
    "fig = add_label(fig, 'I', \n",
    "                ROW_2_WIDTH_COL_1_MM + 5, \n",
    "                ROW_1_HEIGHT_MM + ROW_2_HEIGHT_MM + ROW_3_HEIGHT_MM + yoffset)\n",
    "fig = add_label(fig, 'J', \n",
    "                ROW_2_WIDTH_COL_1_MM + ROW_2_WIDTH_COL_2_MM, \n",
    "                ROW_1_HEIGHT_MM + ROW_2_HEIGHT_MM + ROW_3_HEIGHT_MM + yoffset)\n",
    "\n",
    "\n",
    "if False:\n",
    "    fig = add_grid(fig, 2, 2)\n",
    "    fig = add_grid(fig, 160/3, 10, font_size_px=0.0001)\n",
    "\n",
    "PATH_SVG = PATH_DROPBOX_FIGS + 'fig2.svg'\n",
    "fig.save(PATH_SVG)\n",
    "svg(PATH_SVG)\n",
    "!$INKSCAPE --export-pdf $PATH_DROPBOX_FIGS/fig2.pdf $PATH_SVG"
   ]
  },
  {
   "cell_type": "markdown",
   "metadata": {},
   "source": [
    "# supplementary figure: full posterior"
   ]
  },
  {
   "cell_type": "code",
   "execution_count": null,
   "metadata": {
    "collapsed": false
   },
   "outputs": [],
   "source": [
    "fig, _ = plot_pdf(plot_post, pdf2=plot_prior, lims=lims_post, gt=plot_post._f(pars_true.reshape(1,-1)).reshape(-1), \n",
    "                  figsize=(16,16), resolution=100,\n",
    "                  contour_levels=[0.68, 0.95],\n",
    "                  contour_colors=('w', 'y'),\n",
    "                  hist_color='orange',\n",
    "                  pdf1_color=COL['SNPE'],                  \n",
    "                  pdf2_color=COL['GT'],                  \n",
    "                  labels_params=labels_params)\n"
   ]
  },
  {
   "cell_type": "code",
   "execution_count": null,
   "metadata": {
    "collapsed": false
   },
   "outputs": [],
   "source": [
    "fig, _ = plot_pdf(plot_post,  pdf2=plot_prior, lims=lims_samples, gt=pars_raw.reshape(-1), figsize=(16,16), \n",
    "                  resolution=100, samples=samples,\n",
    "                  contour_levels=[0.68, 0.95],\n",
    "                  contour_colors=('w', 'y'),\n",
    "                  hist_color='orange',\n",
    "                  pdf1_color=COL['SNPE'],                  \n",
    "                  pdf2_color=COL['GT'],                        \n",
    "                  labels_params=labels_params);\n",
    "fig.savefig('posterior_final_full.pdf')"
   ]
  },
  {
   "cell_type": "code",
   "execution_count": null,
   "metadata": {
    "collapsed": true
   },
   "outputs": [],
   "source": []
  }
 ],
 "metadata": {
  "kernelspec": {
   "display_name": "Python 3",
   "language": "python",
   "name": "python3"
  },
  "language_info": {
   "codemirror_mode": {
    "name": "ipython",
    "version": 3
   },
   "file_extension": ".py",
   "mimetype": "text/x-python",
   "name": "python",
   "nbconvert_exporter": "python",
   "pygments_lexer": "ipython3",
   "version": "3.5.1"
  }
 },
 "nbformat": 4,
 "nbformat_minor": 1
}
