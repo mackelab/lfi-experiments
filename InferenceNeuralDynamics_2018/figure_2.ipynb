{
 "cells": [
  {
   "cell_type": "markdown",
   "metadata": {
    "collapsed": true
   },
   "source": [
    "# SNPE & RF\n",
    "\n",
    "running this notebook will requre the following repositories to be locally installed and on the specified branches:\n",
    "- delfi \n",
    "- lfimodels / maprf_elife \n",
    "- maprf_mn  / elife      \n"
   ]
  },
  {
   "cell_type": "code",
   "execution_count": null,
   "metadata": {
    "collapsed": false
   },
   "outputs": [],
   "source": [
    "%%capture\n",
    "%matplotlib inline\n",
    "\n",
    "import matplotlib.pyplot as plt\n",
    "import numpy as np\n",
    "\n",
    "import delfi.distribution as dd\n",
    "from delfi.utils.viz import plot_pdf\n",
    "\n",
    "from lfimodels.maprf.utils import setup_sim, get_data_o\n",
    "\n",
    "root_path = '/home/marcel/Dropbox (mackelab)/team/Write/Working_Manuscripts/InferenceNeuralDynamics_2018/materials/fig2/mapRF'"
   ]
  },
  {
   "cell_type": "code",
   "execution_count": null,
   "metadata": {
    "collapsed": false
   },
   "outputs": [],
   "source": [
    "## training data and true parameters, data, statistics\n",
    "\n",
    "seed = 42\n",
    "idx_cell = 6 # load toy cell number i \n",
    "\n",
    "tmp = np.load(root_path+'/results/SNPE/toycell_6/ground_truth_data.npy')[()]\n",
    "obs_stats, pars_true, rf = tmp['obs_stats'],  tmp['pars_true'], tmp['rf']\n",
    "\n",
    "sim_info = np.load(root_path +'/results/sim_info.npy')[()]\n",
    "d, params_ls = sim_info['d'], sim_info['params_ls']\n",
    "\n",
    "assert obs_stats[0,-1] == 307 # the cell we want to work with should have this number of spikes\n",
    "\n",
    "labels_params = ['bias', 'gain', 'phase', 'freq', 'angle', 'ratio', 'width', 'xo', 'yo']\n",
    "labels_params_select = ['bias', 'gain', 'phase', 'angle']"
   ]
  },
  {
   "cell_type": "markdown",
   "metadata": {},
   "source": [
    "# load SNPE results"
   ]
  },
  {
   "cell_type": "code",
   "execution_count": null,
   "metadata": {
    "collapsed": false
   },
   "outputs": [],
   "source": [
    "tmp = np.load(root_path + '/results/SNPE/toycell_6/maprf_100k_elife_prior01_run_9_round4_param9_nosvi_CDELFI_posterior.npy')[()]\n",
    "posterior, proposal, prior = tmp['posterior'], tmp['proposal'], tmp['prior']\n",
    "\n",
    "plot_prior = dd.TransformedNormal(m=prior.m, S = prior.S,\n",
    "                            flags=[0,0,2,1,2,1,1,2,2],\n",
    "                            lower=[0,0,0,0,0,0,0,-1,-1], upper=[0,0,np.pi,0,2*np.pi,0,0,1,1]) \n",
    "\n",
    "plot_post = dd.mixture.TransformedGaussianMixture.MoTG(\n",
    "                            ms= [posterior.xs[i].m for i in range(posterior.n_components)], \n",
    "                            Ss =[posterior.xs[i].S for i in range(posterior.n_components)],\n",
    "                            a = posterior.a, \n",
    "                            flags=[0,0,2,1,2,1,1,2,2],\n",
    "                            lower=[0,0,0,0,0,0,0,-1,-1], upper=[0,0,np.pi,0,2*np.pi,0,0,1,1]) \n",
    "\n",
    "lims_post = np.array([[-1.5, -1.1, .001,         0,          .001, 0, 0, -.999, -.999], \n",
    "                 [ 1.5,  1.1, .999*np.pi, 2.5,   1.999*np.pi, 2, 4., .999,   .999]]).T"
   ]
  },
  {
   "cell_type": "markdown",
   "metadata": {},
   "source": [
    "# load comparison against MCMC sampler"
   ]
  },
  {
   "cell_type": "code",
   "execution_count": null,
   "metadata": {
    "collapsed": false
   },
   "outputs": [],
   "source": [
    "n_samples=1000000\n",
    "path = root_path + '/results/MCMC/'\n",
    "savefile = path + 'toycell_' + str(idx_cell) + '/maprf_MCMC_prior01_run_1_'+ str(n_samples)+'samples_param9_5min.npy'\n",
    "tmp = np.load(savefile)[()]\n",
    "\n",
    "T, params_dict_true = tmp['T'], tmp['params_dict_true']\n",
    "\n",
    "params_ls = ['bias', 'gain', 'phase', 'freq','angle','ratio','width', 'xo', 'yo']\n",
    "samples = np.hstack([np.atleast_2d(T[key].T).T for key in params_ls])\n",
    "\n",
    "def symmetrize_sample_modes(samples):\n",
    "\n",
    "    assert samples.ndim==2 and samples.shape[1] == 9 \n",
    "\n",
    "    # assumes phase in [0, pi]\n",
    "    assert np.min(samples[:,2]) >= 0. and np.max(samples[:,2] <= np.pi)\n",
    "    # assumes angle in [0, 2*pi]\n",
    "    assert np.min(samples[:,4]) >= 0. and np.max(samples[:,4] <= 2*np.pi)\n",
    "    # assumes freq, ratio and width > 0\n",
    "    assert np.all(np.min(samples[:,np.array([3,5,6])], axis=0) >= 0.)\n",
    "\n",
    "    samples1 = samples.copy()\n",
    "    idx = np.where( samples[:,4] > np.pi )[0]\n",
    "    samples1[idx,4] = samples1[idx,4] - np.pi\n",
    "    idx = np.where( samples[:,4] < np.pi )[0]\n",
    "    samples1[idx,4] = samples1[idx,4] + np.pi\n",
    "    #samples1[:,2] = np.pi - samples1[:,2]\n",
    "    samples_all = np.vstack((samples, samples1))[::2, :]\n",
    "\n",
    "    samples1 = samples_all.copy()\n",
    "    samples1[:,1] = - samples1[:,1] \n",
    "    samples1[:,2] = np.pi - samples1[:,2] \n",
    "    samples_all = np.vstack((samples_all, samples1))[::2, :]\n",
    "\n",
    "    return samples_all\n",
    "\n",
    "samples = symmetrize_sample_modes(samples)\n",
    "\n",
    "pars_raw = np.array([ params_dict_true['glm']['bias'],\n",
    "                      params_dict_true['kernel']['s']['gain'],\n",
    "                      params_dict_true['kernel']['s']['phase'],\n",
    "                      params_dict_true['kernel']['s']['angle'],\n",
    "                      params_dict_true['kernel']['s']['freq'],\n",
    "                      params_dict_true['kernel']['s']['ratio'],\n",
    "                      params_dict_true['kernel']['s']['width'],\n",
    "                      params_dict_true['kernel']['l']['xo'],\n",
    "                      params_dict_true['kernel']['l']['yo'] ])\n",
    "\n",
    "lims_samples = np.array([[-1.5, -1.5, .001, 0,       .001, 0, 0, -0.5, -0.5], \n",
    "                 [ 1.5,  1.5, .999*np.pi, 3, 1.999*np.pi, 3, 5, 0.5, 0.5]]).T"
   ]
  },
  {
   "cell_type": "markdown",
   "metadata": {},
   "source": [
    "## panel for summary statistics"
   ]
  },
  {
   "cell_type": "code",
   "execution_count": null,
   "metadata": {
    "collapsed": false
   },
   "outputs": [],
   "source": [
    "plt.figure(figsize=(6,6))\n",
    "plt.imshow(obs_stats[0,:-1].reshape(d,d), interpolation='None', cmap='gray')\n",
    "plt.title('STA')\n",
    "\n",
    "# option to add contours of ground-truth RF\n",
    "add_gt = False\n",
    "if add_gt:    \n",
    "    rfm = g.model.params_to_rf(pars_true.reshape(-1))[0]\n",
    "    plt.contour(rfm, levels=[lvls[0]*rfm.min(), lvls[1]*rfm.max()], colors='r')\n",
    "\n",
    "plt.show()"
   ]
  },
  {
   "cell_type": "markdown",
   "metadata": {},
   "source": [
    "## panel for parameters"
   ]
  },
  {
   "cell_type": "code",
   "execution_count": null,
   "metadata": {
    "collapsed": false
   },
   "outputs": [],
   "source": [
    "plt.figure(figsize=(6,6))\n",
    "plt.imshow(rf, interpolation='None')\n",
    "plt.title('ground-truth receptive field')\n",
    "plt.show()\n"
   ]
  },
  {
   "cell_type": "markdown",
   "metadata": {},
   "source": [
    "## panel for (partial) posterior"
   ]
  },
  {
   "cell_type": "code",
   "execution_count": null,
   "metadata": {
    "collapsed": false
   },
   "outputs": [],
   "source": [
    "idx = np.array([0,1,2,4]) # bias, gain, frequency and angle\n",
    "\n",
    "plot_post_select = dd.mixture.MoTG(ms=[x.m[idx] for x in plot_post.xs],\n",
    "                                  Ss=[x.S[idx][:,idx] for x in plot_post.xs],\n",
    "                                  a=plot_post.a,\n",
    "                                  flags=plot_post.flags[idx],\n",
    "                                  lower=plot_post.lower[idx],\n",
    "                                  upper=plot_post.upper[idx]                                  \n",
    "                                 )\n",
    "\n",
    "plot_prior_select = dd.TransformedNormal(m=plot_prior.m[idx], S = plot_prior.S[idx][:,idx],\n",
    "                            flags=plot_prior.flags[idx],\n",
    "                            lower=plot_prior.lower[idx], \n",
    "                            upper=plot_prior.upper[idx]) \n",
    "\n",
    "fig, _ = plot_pdf(plot_post_select,  pdf2=plot_prior_select, \n",
    "                  lims=lims_samples[idx], gt=pars_raw.reshape(-1)[idx], \n",
    "                  figsize=(9,9), resolution=100, \n",
    "                  samples=samples[:,idx],\n",
    "                  labels_params=labels_params_select);"
   ]
  },
  {
   "cell_type": "markdown",
   "metadata": {},
   "source": [
    "## panel for posterior samples "
   ]
  },
  {
   "cell_type": "code",
   "execution_count": null,
   "metadata": {
    "collapsed": false
   },
   "outputs": [],
   "source": [
    "\n",
    "# this snippet of code requires the mapRF repository (to instantiate g.model)\n",
    "g, prior, d = setup_sim(seed, path=root_path)\n",
    "filename = root_path + '/results/toy_cells/toy_cell_' + str(idx_cell) + '.npy'\n",
    "obs_stats, pars_true = get_data_o(filename, g, seed)\n",
    "rf = g.model.params_to_rf(pars_true)[0]\n",
    "\n",
    "lvls, n_draws=[0.5, 0.5], 10 \n",
    "plt.figure(figsize=(6,6))\n",
    "plt.imshow(obs_stats[0,:-1].reshape(d,d), interpolation='None', cmap='gray')\n",
    "for i in range(n_draws):\n",
    "    rfm = g.model.params_to_rf(posterior.gen().reshape(-1))[0]\n",
    "    plt.contour(rfm, levels=[lvls[0]*rfm.min(), lvls[1]*rfm.max()])\n",
    "    plt.hold(True)\n",
    "plt.title('RF posterior draws')\n",
    "\n",
    "rfm = g.model.params_to_rf(pars_true.reshape(-1))[0]\n",
    "plt.contour(rfm, levels=[lvls[0]*rfm.min(), lvls[1]*rfm.max()], colors='r')\n",
    "\n",
    "plt.show()\n"
   ]
  },
  {
   "cell_type": "markdown",
   "metadata": {},
   "source": [
    "\n",
    "\n",
    "\n",
    "\n",
    "\n",
    "\n",
    "\n"
   ]
  },
  {
   "cell_type": "markdown",
   "metadata": {},
   "source": [
    "# supplementary figure: full posterior"
   ]
  },
  {
   "cell_type": "code",
   "execution_count": null,
   "metadata": {
    "collapsed": false
   },
   "outputs": [],
   "source": [
    "fig, _ = plot_pdf(plot_post, pdf2=plot_prior, lims=lims_post, gt=plot_post._f(pars_true.reshape(1,-1)).reshape(-1), \n",
    "                  figsize=(16,16), resolution=100,\n",
    "                  labels_params=labels_params)\n"
   ]
  },
  {
   "cell_type": "code",
   "execution_count": null,
   "metadata": {
    "collapsed": false
   },
   "outputs": [],
   "source": [
    "fig, _ = plot_pdf(plot_post,  pdf2=plot_prior, lims=lims_samples, gt=pars_raw.reshape(-1), figsize=(16,16), resolution=100, samples=samples,\n",
    "         labels_params=labels_params);\n"
   ]
  },
  {
   "cell_type": "code",
   "execution_count": null,
   "metadata": {
    "collapsed": true
   },
   "outputs": [],
   "source": []
  }
 ],
 "metadata": {
  "kernelspec": {
   "display_name": "Python 3",
   "language": "python",
   "name": "python3"
  },
  "language_info": {
   "codemirror_mode": {
    "name": "ipython",
    "version": 3
   },
   "file_extension": ".py",
   "mimetype": "text/x-python",
   "name": "python",
   "nbconvert_exporter": "python",
   "pygments_lexer": "ipython3",
   "version": "3.5.1"
  }
 },
 "nbformat": 4,
 "nbformat_minor": 1
}
