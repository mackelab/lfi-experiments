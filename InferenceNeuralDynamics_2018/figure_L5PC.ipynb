{
 "cells": [
  {
   "cell_type": "markdown",
   "metadata": {},
   "source": [
    "## Figure on inference in L5PC model on simulated data"
   ]
  },
  {
   "cell_type": "code",
   "execution_count": null,
   "metadata": {},
   "outputs": [],
   "source": [
    "%run -i common.ipynb\n",
    "\n",
    "import json\n",
    "import os\n",
    "path1 = os.getcwd()\n",
    "# change the current working directory to path\n",
    "path2 = '/home/pedro/repos/lfi-models/lfimodels/l5pc/'\n",
    "os.chdir(path2)\n",
    "\n",
    "import lfimodels.l5pc.utils as utils\n",
    "\n",
    "from lfimodels.l5pc.L5Pyramidal import L5Pyramidal\n",
    "from lfimodels.l5pc.L5PCStats import L5PCStats\n",
    "\n",
    "# FIGURE and GRID\n",
    "FIG_HEIGHT_MM = 90\n",
    "FIG_WIDTH_MM = FIG_WIDTH_MM  # set in common notebook to a default value for all figures\n",
    "FIG_N_ROWS = 2\n",
    "ROW_1_NCOLS = 2\n",
    "ROW_1_HEIGHT_MM = FIG_HEIGHT_MM / FIG_N_ROWS\n",
    "ROW_1_WIDTH_COL_1_MM = 0.5*FIG_WIDTH_MM / ROW_1_NCOLS\n",
    "ROW_1_WIDTH_COL_2_MM = 1.5*FIG_WIDTH_MM / ROW_1_NCOLS\n",
    "ROW_2_NCOLS = 2\n",
    "ROW_2_HEIGHT_MM = FIG_HEIGHT_MM / FIG_N_ROWS\n",
    "ROW_2_WIDTH_COL_1_MM = 0.5*FIG_WIDTH_MM / ROW_2_NCOLS\n",
    "ROW_2_WIDTH_COL_2_MM = 0.5*FIG_WIDTH_MM / ROW_2_NCOLS\n",
    "\n",
    "W_FACT = 0.97\n",
    "H_FACT = 0.97\n",
    "\n",
    "PATH_DROPBOX_FIGS = PATH_DROPBOX + 'figs/'\n",
    "\n",
    "# PATHS\n",
    "PANEL_A = PATH_DROPBOX_FIGS + 'fig_l5pc_a.svg'\n",
    "PANEL_B = PATH_DROPBOX_FIGS + 'fig_l5pc_b.svg'\n",
    "PANEL_C = PATH_DROPBOX_FIGS + 'fig_l5pc_c.svg'\n",
    "PANEL_D = PATH_DROPBOX_FIGS + 'fig_l5pc_d.svg'"
   ]
  },
  {
   "cell_type": "markdown",
   "metadata": {},
   "source": [
    "## save figures or not"
   ]
  },
  {
   "cell_type": "code",
   "execution_count": null,
   "metadata": {},
   "outputs": [],
   "source": [
    "save_fig = 1 # 1: save figures"
   ]
  },
  {
   "cell_type": "markdown",
   "metadata": {},
   "source": [
    "### load data"
   ]
  },
  {
   "cell_type": "code",
   "execution_count": null,
   "metadata": {},
   "outputs": [],
   "source": [
    "feature_configs = json.load(open('config/features.json'))\n",
    "efel_feature_name_ls = []\n",
    "for protocol_name, locations in sorted(feature_configs.items()):\n",
    "    for location, features in sorted(locations.items()):\n",
    "        for efel_feature_name, meanstd in sorted(features.items()):\n",
    "            efel_feature_name_ls.append(efel_feature_name)            \n",
    "\n",
    "\n",
    "true_params, labels_params = utils.obs_params()\n",
    "\n",
    "seed1 = 2\n",
    "seed = 1\n",
    "\n",
    "obs = utils.syn_obs_data(params=true_params,seed=seed1)\n",
    "obs_stats = utils.syn_obs_stats(data=obs,params=true_params)\n",
    "\n",
    "m = L5Pyramidal(seed=seed)\n",
    "p = utils.prior(true_params=true_params,labels_params=labels_params,seed=seed)\n",
    "s = L5PCStats(seed=seed)\n",
    "  \n",
    "# SNPE parameters\n",
    "n_components = 1\n",
    "n_sims = 50000\n",
    "n_rounds = 1\n",
    "svi = False\n",
    "if svi:\n",
    "    svi_flag = '_svi'\n",
    "else:\n",
    "    svi_flag = '_nosvi'\n",
    "\n",
    "\n",
    "# change the current working directory back to notebook path\n",
    "os.chdir(path1)\n",
    "\n",
    "# filename1 = './results/l5pc_run_4_param10'+\\\n",
    "# svi_flag+'_ncomp'+str(n_components)+'_nsims'+str(n_sims*n_rounds)+'_snpe.pkl'\n",
    "# filename2 = './results/l5pc_run_4_param10'+\\\n",
    "# svi_flag+'_ncomp'+str(n_components)+'_nsims'+str(n_sims*n_rounds)+'_snpe_res.pkl'\n",
    "# filename1 = './results/l5pc_run_5_param10'+svi_flag+'.pkl'\n",
    "# filename2 = './results/l5pc_run_5_param10'+svi_flag+'_res.pkl'\n",
    "# log, train_data, posterior = io.load_pkl(filename1)\n",
    "# res = io.load(filename2)\n",
    "\n",
    "filename3 = '../l5pc/results/l5pc_run_5_param10_nosvi_multi_sumstats_v3.pkl'\n",
    "_, posterior_ls, _ = io.load_pkl(filename3)\n",
    "posterior = posterior_ls[0]"
   ]
  },
  {
   "cell_type": "markdown",
   "metadata": {},
   "source": [
    "### panel A"
   ]
  },
  {
   "cell_type": "code",
   "execution_count": null,
   "metadata": {},
   "outputs": [],
   "source": [
    "os.chdir(path1)"
   ]
  },
  {
   "cell_type": "code",
   "execution_count": null,
   "metadata": {},
   "outputs": [],
   "source": [
    "import neurom.viewer\n",
    "\n",
    "# matplotlib takes figsize specified as inches\n",
    "# in common SCALE_IN and the conversion function are defined\n",
    "fig_inches = (SCALE_IN*mm2inches(W_FACT*ROW_1_WIDTH_COL_1_MM), SCALE_IN*mm2inches(H_FACT*ROW_1_HEIGHT_MM))\n",
    "\n",
    "with mpl.rc_context(fname=MPL_RC):\n",
    "    fig = plt.figure(figsize=fig_inches)\n",
    "    \n",
    "    neurom.viewer.draw(neurom.load_neuron(path2+'/morphology/C060114A7.asc'),color=COL['GT']);\n",
    "    plt.axis('off');\n",
    "    plt.title('')\n",
    "\n",
    "    if save_fig:\n",
    "        plt.savefig(PANEL_A, facecolor='None', transparent=True)  # the figure is saved as svg\n",
    "        plt.close()\n",
    "        svg(PANEL_A)\n",
    "    else:\n",
    "        plt.show()"
   ]
  },
  {
   "cell_type": "markdown",
   "metadata": {},
   "source": [
    "### panel B"
   ]
  },
  {
   "cell_type": "code",
   "execution_count": null,
   "metadata": {},
   "outputs": [],
   "source": [
    "# matplotlib takes figsize specified as inches\n",
    "# in common SCALE_IN and the conversion function are defined\n",
    "fig_inches = (SCALE_IN*mm2inches(W_FACT*ROW_2_WIDTH_COL_1_MM), SCALE_IN*mm2inches(H_FACT*ROW_2_HEIGHT_MM))\n",
    "\n",
    "def plot_responses(responses,color):\n",
    "    fig, axes = plt.subplots(len(responses), figsize=fig_inches)\n",
    "    for index, (resp_name, response) in enumerate(sorted(responses.items())):\n",
    "        axes[index].plot(response['time'], response['voltage'], color = color, label=resp_name)\n",
    "        resp_name = resp_name[0:-2]+'\\n (mV)'\n",
    "        resp_name = resp_name.replace('.', '\\n')\n",
    "        axes[index].set_ylabel(resp_name, multialignment='center')\n",
    "        axes[index].locator_params(axis='x', nbins=4)\n",
    "        if index!=2 and index!=5:\n",
    "            axes[index].set_xticks([])\n",
    "        if index==5:\n",
    "            axes[index].set_xlabel('time (ms)')\n",
    "\n",
    "with mpl.rc_context(fname=MPL_RC):\n",
    "    plot_responses(obs['data'],color = COL['GT'])    \n",
    "#     plt.show()\n",
    "    \n",
    "    if save_fig:\n",
    "        plt.savefig(PANEL_B, facecolor='None', transparent=True)  # the figure is saved as svg\n",
    "        plt.close()\n",
    "        svg(PANEL_B)\n",
    "    else:\n",
    "        plt.show()"
   ]
  },
  {
   "cell_type": "markdown",
   "metadata": {},
   "source": [
    "### panel C"
   ]
  },
  {
   "cell_type": "code",
   "execution_count": null,
   "metadata": {},
   "outputs": [],
   "source": [
    "prior_min = p.lower\n",
    "prior_max = p.upper\n",
    "\n",
    "prior_lims = np.concatenate((prior_min.reshape(-1,1),\n",
    "                             prior_max.reshape(-1,1)),\n",
    "                            axis=1)\n",
    "\n",
    "labels_params1 = ['param '+str(i) for i in range(1,len(labels_params)+1)]\n",
    "    \n",
    "# matplotlib takes figsize specified as inches\n",
    "# in common SCALE_IN and the conversion function are defined\n",
    "fig_inches = (SCALE_IN*mm2inches(W_FACT*ROW_1_WIDTH_COL_2_MM), SCALE_IN*mm2inches(H_FACT*2.29*ROW_1_HEIGHT_MM))\n",
    "\n",
    "with mpl.rc_context(fname=MPL_RC):\n",
    "    fig = plt.figure(figsize=fig_inches)\n",
    "    \n",
    "    plot_pdf(posterior, lims=prior_lims,gt=true_params, labels_params=labels_params1,\n",
    "             figsize=fig_inches,fontscale=0.5,ticks = True, col2=COL['SNPE'])\n",
    "\n",
    "    if save_fig:\n",
    "        plt.savefig(PANEL_C, facecolor='None', transparent=True)  # the figure is saved as svg\n",
    "        plt.close()\n",
    "        svg(PANEL_C)\n",
    "    else:\n",
    "        plt.show()"
   ]
  },
  {
   "cell_type": "markdown",
   "metadata": {},
   "source": [
    "### panel D"
   ]
  },
  {
   "cell_type": "code",
   "execution_count": null,
   "metadata": {},
   "outputs": [],
   "source": [
    "mn_post = posterior.xs[np.argmax(posterior.a)].m\n",
    "x_snpe = m.gen_single(mn_post)\n",
    "\n",
    "# matplotlib takes figsize specified as inches\n",
    "# in common SCALE_IN and the conversion function are defined\n",
    "fig_inches = (SCALE_IN*mm2inches(W_FACT*ROW_2_WIDTH_COL_2_MM), SCALE_IN*mm2inches(H_FACT*ROW_2_HEIGHT_MM))\n",
    "\n",
    "def plot_responses(responses,color):\n",
    "    fig, axes = plt.subplots(len(responses), figsize=fig_inches)\n",
    "    for index, (resp_name, response) in enumerate(sorted(responses.items())):\n",
    "        axes[index].plot(response['time'], response['voltage'], color = color, label=resp_name)\n",
    "        resp_name = resp_name[0:-2]+'\\n (mV)'\n",
    "        resp_name = resp_name.replace('.', '\\n')\n",
    "        axes[index].set_ylabel(resp_name, multialignment='center')\n",
    "        axes[index].locator_params(axis='x', nbins=4)\n",
    "        if index!=2 and index!=5:\n",
    "            axes[index].set_xticks([])\n",
    "        if index==5:\n",
    "            axes[index].set_xlabel('time (ms)')\n",
    "\n",
    "with mpl.rc_context(fname=MPL_RC):\n",
    "    plot_responses(x_snpe['data'],color = COL['SNPE'])    \n",
    "    \n",
    "    if save_fig:\n",
    "        plt.savefig(PANEL_D, facecolor='None', transparent=True)  # the figure is saved as svg\n",
    "        plt.close()\n",
    "        svg(PANEL_D)\n",
    "    else:\n",
    "        plt.show()"
   ]
  },
  {
   "cell_type": "markdown",
   "metadata": {},
   "source": [
    "### supplementary figure with comparison between LFI and IBEA"
   ]
  },
  {
   "cell_type": "code",
   "execution_count": null,
   "metadata": {},
   "outputs": [],
   "source": [
    "# # number of simulations for same parameter set\n",
    "# num_rep = 10\n",
    "\n",
    "# params_prior_mat = p.gen(num_rep)\n",
    "\n",
    "# # reject samples outside the prior box\n",
    "# num_rep1 = 5*num_rep\n",
    "# samp_post = posterior.gen(num_rep1)\n",
    "# ind = (samp_post > prior_min) & (samp_post < prior_max)\n",
    "# samp_post = samp_post[np.prod(ind,axis=1)==1]\n",
    "\n",
    "# x_snpe_ls = []\n",
    "# x_snpe_samp_ls = []\n",
    "# # x_ibea_ls = []\n",
    "# x_prior_ls = []\n",
    "# sum_stats_snpe_ls = []\n",
    "# sum_stats_snpe_samp_ls = []\n",
    "# # sum_stats_ibea_ls = []\n",
    "# sum_stats_prior_ls = []\n",
    "# for rep in range(num_rep):\n",
    "#     x_snpe = m.gen_single(mn_post)\n",
    "#     x_snpe_ls.append(x_snpe)\n",
    "\n",
    "#     sum_stats_snpe = s.calc([x_snpe])[0]\n",
    "#     sum_stats_snpe_ls.append(sum_stats_snpe)\n",
    "\n",
    "#     x_snpe_samp = m.gen_single(samp_post[rep,:])\n",
    "#     x_snpe_samp_ls.append(x_snpe_samp)\n",
    "\n",
    "#     sum_stats_snpe_samp = s.calc([x_snpe_samp])[0]\n",
    "#     sum_stats_snpe_samp_ls.append(sum_stats_snpe_samp)\n",
    "\n",
    "# #     x_ibea = m.gen_single(halloffame[0])\n",
    "# #     x_ibea_ls.append(x_ibea)\n",
    "\n",
    "# #     sum_stats_ibea = s.calc([x_ibea])[0]\n",
    "# #     sum_stats_ibea_ls.append(sum_stats_ibea)\n",
    "\n",
    "#     x_prior = m.gen_single(params_prior_mat[rep,:])\n",
    "#     x_prior_ls.append(x_prior)\n",
    "\n",
    "#     sum_stats_prior = s.calc([x_prior])[0]\n",
    "#     sum_stats_prior_ls.append(sum_stats_prior)"
   ]
  },
  {
   "cell_type": "code",
   "execution_count": null,
   "metadata": {},
   "outputs": [],
   "source": [
    "# sum_stats_snpe_mat = np.asarray(sum_stats_snpe_ls)\n",
    "# # sum_stats_ibea_mat = np.asarray(sum_stats_ibea_ls)\n",
    "# sum_stats_snpe_samp_mat = np.asarray(sum_stats_snpe_samp_ls)\n",
    "# sum_stats_prior_mat = np.asarray(sum_stats_prior_ls)\n",
    "\n",
    "# ######################################\n",
    "# n_summary_stats = len(obs_stats[0])\n",
    "# xx = np.linspace(1,n_summary_stats,n_summary_stats).astype(int)\n",
    "# XX = np.tile(xx,(num_rep,1))\n",
    "\n",
    "# ######################################\n",
    "# yy_samp = sum_stats_snpe_samp_mat-obs_stats\n",
    "# yy_samp_err = np.nanstd(sum_stats_snpe_samp_mat-obs_stats,axis=0)\n",
    "# yy_snpe = sum_stats_snpe_mat-obs_stats\n",
    "# # yy_ibea = sum_stats_ibea_mat-obs_stats\n",
    "# yy_prior = sum_stats_prior_mat-obs_stats\n",
    "\n",
    "# ######################################\n",
    "# ratio_snpe_percentls = np.nanpercentile(yy_snpe/yy_samp_err,[25,50,75],axis=0)\n",
    "# ratio_snpe_median = ratio_snpe_percentls[1]\n",
    "# median_ord = np.argsort(ratio_snpe_median)\n",
    "\n",
    "# # ratio_ibea_percentls = np.nanpercentile(yy_ibea/yy_samp_err,[25,50,75],axis=0)\n",
    "\n",
    "# ######################################\n",
    "\n",
    "# ## matplotlib takes figsize specified as inches\n",
    "# # in common SCALE_IN and the conversion function are defined\n",
    "# fig_inches = (SCALE_IN*mm2inches(FIG_WIDTH_MM), SCALE_IN*mm2inches(FIG_WIDTH_MM))\n",
    "\n",
    "# SUPP = 'supp_fig_l5pc'  # name for appendix figure\n",
    "# SUPP_FIG_SVG = PATH_DROPBOX_FIGS + SUPP + '.svg'\n",
    "# SUPP_FIG_PDF = PATH_DROPBOX_FIGS + SUPP + '.pdf'\n",
    "\n",
    "# with mpl.rc_context(fname=MPL_RC):\n",
    "#     fig = plt.figure(figsize=fig_inches)\n",
    "\n",
    "#     plt.fill_between(xx,ratio_snpe_percentls[0][median_ord],ratio_snpe_percentls[2][median_ord],\n",
    "#                      facecolor=COL['SNPE'], alpha=0.3)\n",
    "#     plt.plot(xx,ratio_snpe_median[median_ord],color = COL['SNPE'], lw=2,label='SNPE')\n",
    "\n",
    "# #     plt.fill_between(xx,ratio_ibea_percentls[0][median_ord],ratio_ibea_percentls[2][median_ord],\n",
    "# #                      facecolor=COL['IBEA'], alpha=0.3)\n",
    "# #     plt.plot(xx,ratio_ibea_percentls[1][median_ord],color = COL['IBEA'], lw=2,label='IBEA')\n",
    "\n",
    "#     plt.xlabel('features')\n",
    "#     plt.ylabel(r'$\\frac{f^* - f}{\\sigma_{SNPE}}$')\n",
    "\n",
    "#     plt.plot(xx,np.ones(n_summary_stats),'--k')\n",
    "#     plt.plot(xx,-np.ones(n_summary_stats),'--k')\n",
    "\n",
    "#     ax = plt.gca()\n",
    "#     plt.locator_params(axis='x', nbins=5)\n",
    "#     plt.locator_params(axis='y', nbins=4)\n",
    "#     ax.legend(loc='upper left');\n",
    "    \n",
    "# #     plt.show()\n",
    "#     plt.savefig(PANEL_E, facecolor=plt.gcf().get_facecolor(), transparent=True)  # the figure is saved as svg\n",
    "#     plt.close()\n",
    "\n",
    "# svg(SUPP_FIG_SVG)\n",
    "# !$INKSCAPE --export-pdf $SUPP_FIG_PDF $SUPP_FIG_SVG"
   ]
  },
  {
   "cell_type": "markdown",
   "metadata": {},
   "source": [
    "### supplementary figure with comparison between LFI and rejection-ABC"
   ]
  },
  {
   "cell_type": "code",
   "execution_count": null,
   "metadata": {},
   "outputs": [],
   "source": [
    "# TODO"
   ]
  },
  {
   "cell_type": "markdown",
   "metadata": {},
   "source": [
    "### compose figure"
   ]
  },
  {
   "cell_type": "code",
   "execution_count": null,
   "metadata": {},
   "outputs": [],
   "source": [
    "fig = create_fig(FIG_WIDTH_MM, FIG_HEIGHT_MM)\n",
    "\n",
    "yoffset = 2.\n",
    "xoffset = 0.\n",
    "xoffset_C = 10.\n",
    "fig = add_svg(fig, PANEL_A, 0 + xoffset + 2, 0 + yoffset - 2)\n",
    "fig = add_svg(fig, PANEL_B, 0 + xoffset, ROW_2_HEIGHT_MM + yoffset)\n",
    "fig = add_svg(fig, PANEL_C, ROW_1_WIDTH_COL_1_MM + xoffset + xoffset_C, 0 + yoffset)\n",
    "fig = add_svg(fig, PANEL_D, ROW_1_WIDTH_COL_1_MM + xoffset + xoffset_C, ROW_2_HEIGHT_MM + yoffset)\n",
    "\n",
    "yoffset = 2.3\n",
    "fig = add_label(fig, 'A', 0, 0 + yoffset)\n",
    "fig = add_label(fig, 'B', 0, ROW_2_HEIGHT_MM + yoffset)\n",
    "fig = add_label(fig, 'C', ROW_1_WIDTH_COL_1_MM + xoffset_C, 0 + yoffset)\n",
    "fig = add_label(fig, 'D', ROW_1_WIDTH_COL_1_MM + xoffset + xoffset_C, ROW_2_HEIGHT_MM + yoffset)\n",
    "\n",
    "\n",
    "PATH_SVG = PATH_DROPBOX_FIGS + 'fig_l5pc.svg'\n",
    "fig.save(PATH_SVG)\n",
    "\n",
    "\n",
    "svg(PATH_SVG)\n",
    "\n",
    "!$INKSCAPE --export-pdf $PATH_DROPBOX_FIGS/fig_l5pc.pdf $PATH_SVG"
   ]
  },
  {
   "cell_type": "code",
   "execution_count": null,
   "metadata": {},
   "outputs": [],
   "source": []
  }
 ],
 "metadata": {
  "kernelspec": {
   "display_name": "Python 3",
   "language": "python",
   "name": "python3"
  },
  "language_info": {
   "codemirror_mode": {
    "name": "ipython",
    "version": 3
   },
   "file_extension": ".py",
   "mimetype": "text/x-python",
   "name": "python",
   "nbconvert_exporter": "python",
   "pygments_lexer": "ipython3",
   "version": "3.5.2"
  }
 },
 "nbformat": 4,
 "nbformat_minor": 2
}
