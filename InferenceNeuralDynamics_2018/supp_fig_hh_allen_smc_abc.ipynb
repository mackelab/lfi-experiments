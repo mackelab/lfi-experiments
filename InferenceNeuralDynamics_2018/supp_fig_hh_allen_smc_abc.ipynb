{
 "cells": [
  {
   "cell_type": "markdown",
   "metadata": {},
   "source": [
    "## Supplementary figures: comparison SNPE with SMC-ABC (Allen Cell Type Database)"
   ]
  },
  {
   "cell_type": "code",
   "execution_count": null,
   "metadata": {},
   "outputs": [],
   "source": [
    "%run -i common.ipynb"
   ]
  },
  {
   "cell_type": "markdown",
   "metadata": {},
   "source": [
    "### load results"
   ]
  },
  {
   "cell_type": "code",
   "execution_count": null,
   "metadata": {},
   "outputs": [],
   "source": [
    "list_cells_AllenDB = [[518290966,57,0.0234/126],[509881736,39,0.0153/184],[566517779,46,0.0195/198]]\n",
    "\n",
    "n_post = len(list_cells_AllenDB)\n",
    "\n",
    "# SNPE parameters\n",
    "n_components = 1\n",
    "n_sims = 25000\n",
    "n_rounds = 2\n",
    "\n",
    "# SMC-ABC parameters\n",
    "n_particles = 1e3\n",
    "\n",
    "posterior_ls = []\n",
    "res_ls = []\n",
    "weighted_samples_ls = []\n",
    "for cell_num in range(n_post):\n",
    "\n",
    "    ephys_cell = list_cells_AllenDB[cell_num][0]\n",
    "    sweep_number = list_cells_AllenDB[cell_num][1]\n",
    "    \n",
    "    ##############################################################################\n",
    "    # SNPE results\n",
    "    filename1 = '../hodgkinhuxley/results/allen_'+str(ephys_cell)+'_'+str(sweep_number)+\\\n",
    "    '_run_1_round2_prior0013_param8_nosvi_ncomp'+str(n_components)+'_nsims'+str(n_sims*n_rounds)+'_snpe.pkl'\n",
    "    filename2 = '../hodgkinhuxley/results/allen_'+str(ephys_cell)+'_'+str(sweep_number)+\\\n",
    "    '_run_1_round2_prior0013_param8_nosvi_ncomp'+str(n_components)+'_nsims'+str(n_sims*n_rounds)+'_snpe_res.pkl'\n",
    "    \n",
    "    _, _, posterior = io.load_pkl(filename1)\n",
    "    res = io.load(filename2)\n",
    "    \n",
    "    posterior_ls.append(posterior[-1])\n",
    "    res_ls.append(res)\n",
    "\n",
    "    ##############################################################################\n",
    "    # SMC-ABC results\n",
    "    filename1 = '../hodgkinhuxley/results/allen_'+str(ephys_cell)+'_'+str(sweep_number)+\\\n",
    "    '_run_1_prior0013_param8_smc_abc.pkl'\n",
    "    ps_smc, logweights_smc, eps_smc, all_nsims_smc = io.load_pkl(filename1)\n",
    "        \n",
    "    # weighted samples\n",
    "    weights_smc = np.exp(logweights_smc)\n",
    "    num_rep_samples = np.round(weights_smc[-1]*n_particles).astype('int')\n",
    "    weighted_samples = np.repeat(ps_smc[-1],num_rep_samples, axis=0)\n",
    "    weighted_samples_ls.append(weighted_samples)"
   ]
  },
  {
   "cell_type": "markdown",
   "metadata": {},
   "source": [
    "### generate figures"
   ]
  },
  {
   "cell_type": "code",
   "execution_count": null,
   "metadata": {},
   "outputs": [],
   "source": [
    "fig_inches = (SCALE_IN*mm2inches(FIG_WIDTH_MM), SCALE_IN*mm2inches(FIG_WIDTH_MM))\n",
    "\n",
    "for cell_num in range(n_post):\n",
    "    \n",
    "    SUPP = 'supp_fig_hh_allen_smc_abc_cell'+str(cell_num)  # name for appendix figure\n",
    "    SUPP_FIG_SVG = PATH_DROPBOX_FIGS + SUPP + '.svg'\n",
    "    SUPP_FIG_PDF = PATH_DROPBOX_FIGS + SUPP + '.pdf'\n",
    "\n",
    "    prior_min = res_ls[cell_num].generator.prior.lower\n",
    "    prior_max = res_ls[cell_num].generator.prior.upper\n",
    "\n",
    "    prior_lims = np.concatenate((prior_min.reshape(-1,1),\n",
    "                                 prior_max.reshape(-1,1)),\n",
    "                                axis=1)\n",
    "\n",
    "    with mpl.rc_context(fname=MPL_RC):\n",
    "        fig = plt.figure(figsize=fig_inches)\n",
    "        \n",
    "        viz.plot_pdf(posterior_ls[cell_num], lims=prior_lims, samples=weighted_samples_ls[cell_num].T,\n",
    "                     figsize=fig_inches,fontscale=0.6,labels_params=LABELS_HH, ticks=True,\n",
    "                     col1=COL['ESS'], col2=COL['SNPE'])\n",
    "        \n",
    "        plt.savefig(SUPP_FIG_SVG, facecolor='None', transparent=True)  # the figure is saved as svg\n",
    "        plt.close()\n",
    "        \n",
    "    svg(SUPP_FIG_SVG)\n",
    "    !$INKSCAPE --export-pdf $SUPP_FIG_PDF $SUPP_FIG_SVG"
   ]
  },
  {
   "cell_type": "code",
   "execution_count": null,
   "metadata": {},
   "outputs": [],
   "source": []
  }
 ],
 "metadata": {
  "kernelspec": {
   "display_name": "Python 3",
   "language": "python",
   "name": "python3"
  },
  "language_info": {
   "codemirror_mode": {
    "name": "ipython",
    "version": 3
   },
   "file_extension": ".py",
   "mimetype": "text/x-python",
   "name": "python",
   "nbconvert_exporter": "python",
   "pygments_lexer": "ipython3",
   "version": "3.5.2"
  }
 },
 "nbformat": 4,
 "nbformat_minor": 2
}
