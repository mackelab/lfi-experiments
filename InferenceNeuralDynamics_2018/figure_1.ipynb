{
 "cells": [
  {
   "cell_type": "code",
   "execution_count": null,
   "metadata": {},
   "outputs": [],
   "source": [
    "import pickle\n",
    "import theano\n",
    "import scipy as sp\n",
    "\n",
    "theano.config.floatX = 'float32'\n",
    "%run -i common.ipynb\n",
    "\n",
    "# FIGURE AND GRID\n",
    "FIG_HEIGHT_MM = 65\n",
    "FIG_WIDTH_MM = 1.15*FIG_WIDTH_MM  # set in common notebook to a default value for all figures\n",
    "FIG_N_ROWS = 1\n",
    "ROW_1_NCOLS = 2\n",
    "ROW_1_HEIGHT_MM = FIG_HEIGHT_MM / FIG_N_ROWS\n",
    "ROW_1_WIDTH_COL_1_MM = 1.1*FIG_WIDTH_MM / ROW_1_NCOLS\n",
    "ROW_1_WIDTH_COL_2_MM = 0.9*FIG_WIDTH_MM / ROW_1_NCOLS\n",
    "# ROW_2_NCOLS = 1\n",
    "# ROW_2_HEIGHT_MM = FIG_HEIGHT_MM / FIG_N_ROWS\n",
    "# ROW_2_WIDTH_COL_1_MM = FIG_WIDTH_MM / ROW_2_NCOLS\n",
    "\n",
    "PATH_DROPBOX_FIGS = PATH_DROPBOX + 'figs/'\n",
    "\n",
    "# PATHS\n",
    "PANEL_A = PATH_DROPBOX_FIGS + 'fig1_a.svg'\n",
    "PANEL_B = PATH_DROPBOX_FIGS + 'fig1_b.svg'"
   ]
  },
  {
   "cell_type": "markdown",
   "metadata": {},
   "source": [
    "## Panel a"
   ]
  },
  {
   "cell_type": "code",
   "execution_count": null,
   "metadata": {},
   "outputs": [],
   "source": [
    "svg(PANEL_A)"
   ]
  },
  {
   "cell_type": "markdown",
   "metadata": {},
   "source": [
    "## Panel b"
   ]
  },
  {
   "cell_type": "code",
   "execution_count": null,
   "metadata": {},
   "outputs": [],
   "source": [
    "svg(PANEL_B)"
   ]
  },
  {
   "cell_type": "markdown",
   "metadata": {},
   "source": [
    "## Compose figure"
   ]
  },
  {
   "cell_type": "code",
   "execution_count": null,
   "metadata": {},
   "outputs": [],
   "source": [
    "fig = create_fig(FIG_WIDTH_MM, FIG_HEIGHT_MM)\n",
    "\n",
    "yoffset = 2.2\n",
    "xoffset = 1.\n",
    "fig = add_svg(fig, PANEL_A, 0 + xoffset, 0 + yoffset)\n",
    "yoffset = 4.2\n",
    "xoffset = 1.5\n",
    "fig = add_svg(fig, PANEL_B, ROW_1_WIDTH_COL_1_MM + xoffset, 0 + yoffset)\n",
    "\n",
    "yoffset = 2.3\n",
    "fig = add_label(fig, 'A', 0, 0 + yoffset)\n",
    "# yoffset = -10.6\n",
    "fig = add_label(fig, 'B', ROW_1_WIDTH_COL_1_MM, 0 + yoffset)\n",
    "\n",
    "if False:  # set to False to disable grid\n",
    "    fig = add_grid(fig, 2, 2)\n",
    "    fig = add_grid(fig, 160/3, 10, font_size_px=0.0001)\n",
    "\n",
    "PATH_SVG = PATH_DROPBOX_FIGS + 'fig1.svg'\n",
    "fig.save(PATH_SVG)\n",
    "\n",
    "svg(PATH_SVG)\n",
    "\n",
    "!$INKSCAPE --export-pdf $PATH_DROPBOX_FIGS/fig1.pdf $PATH_SVG"
   ]
  },
  {
   "cell_type": "code",
   "execution_count": null,
   "metadata": {},
   "outputs": [],
   "source": []
  }
 ],
 "metadata": {
  "anaconda-cloud": {},
  "kernelspec": {
   "display_name": "Python 3",
   "language": "python",
   "name": "python3"
  },
  "language_info": {
   "codemirror_mode": {
    "name": "ipython",
    "version": 3
   },
   "file_extension": ".py",
   "mimetype": "text/x-python",
   "name": "python",
   "nbconvert_exporter": "python",
   "pygments_lexer": "ipython3",
   "version": "3.5.2"
  }
 },
 "nbformat": 4,
 "nbformat_minor": 2
}
