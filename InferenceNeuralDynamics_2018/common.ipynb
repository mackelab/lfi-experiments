{
 "cells": [
  {
   "cell_type": "markdown",
   "metadata": {},
   "source": [
    "# Common code for 'big paper' figures"
   ]
  },
  {
   "cell_type": "code",
   "execution_count": null,
   "metadata": {
    "collapsed": true
   },
   "outputs": [],
   "source": [
    "%matplotlib inline\n",
    "\n",
    "import IPython.display as IPd\n",
    "import delfi.distribution as dd\n",
    "import delfi.utils.io as io\n",
    "import delfi.utils.viz as viz\n",
    "import matplotlib as mpl\n",
    "import matplotlib.pyplot as plt\n",
    "import numpy as np\n",
    "import os\n",
    "import scipy.signal as ss\n",
    "import socket\n",
    "import svgutil\n",
    "\n",
    "from delfi.utils.viz import plot_pdf\n",
    "from math import factorial\n",
    "from mpl_toolkits.axes_grid1 import make_axes_locatable\n",
    "from svgutil.compose import Unit"
   ]
  },
  {
   "cell_type": "code",
   "execution_count": null,
   "metadata": {
    "collapsed": true
   },
   "outputs": [],
   "source": [
    "COL = {}\n",
    "COL['GT']   = (35/255,86/255,167/255)\n",
    "COL['SNPE'] = (0, 174/255,239/255)\n",
    "COL['ESS']  = (244/255, 152/255, 25/255)\n",
    "COL['SAMPLES']  = (244/255, 152/255, 25/255)\n",
    "COL['IBEA']  = (102/255, 179/255, 46/255)\n",
    "COL['EFREE'] = (105/255, 105/255, 105/255)\n",
    "COL['I'] = (105/255, 105/255, 105/255)\n",
    "COL['PRIOR'] = (244/255, 152/255, 25/255)\n",
    "\n",
    "LABELS_HH =[r'$g_{Na}$', r'$g_{K}$', r'$g_{l}$', r'$g_{M}$', r'$t_{max}$', r'$-V_{T}$', r'$noise$', r'$-E_{l}$']\n",
    "LABELS_HH_SPIKE_SUMSTATS = [r'$f\\_rat$',r'$ap\\_l$',r'$ap\\_o$',r'$r\\_pot$',r'$\\sigma_{r\\_pot}$',r'$ahd$',\n",
    "                      r'$a\\_ind$',r'$sp\\_w$']\n",
    "LABELS_HH_SUMSTATS = [r'$sp$',r'$r\\_pot$',r'$\\sigma_{r\\_pot}$','$m_1$','$m_2$','$m_3$','$m_4$']"
   ]
  },
  {
   "cell_type": "code",
   "execution_count": null,
   "metadata": {
    "collapsed": true
   },
   "outputs": [],
   "source": [
    "# shorthands\n",
    "sc = svgutil.compose\n",
    "st = svgutil.transform\n",
    "\n",
    "# conversion\n",
    "def cm2cm(cm):\n",
    "    return cm * 1\n",
    "\n",
    "def cm2in(cm):\n",
    "    return cm * 1 / Unit.per_inch['cm']\n",
    "\n",
    "def cm2mm(cm):\n",
    "    return cm * Unit.per_inch['mm'] / Unit.per_inch['cm']\n",
    "\n",
    "def cm2pt(cm):\n",
    "    return cm * Unit.per_inch['pt'] / Unit.per_inch['cm']\n",
    "\n",
    "def cm2px(cm):\n",
    "    return cm * Unit.per_inch['px'] / Unit.per_inch['cm']"
   ]
  },
  {
   "cell_type": "code",
   "execution_count": null,
   "metadata": {
    "collapsed": true
   },
   "outputs": [],
   "source": [
    "def svg(img):\n",
    "    IPd.display(IPd.SVG(img))"
   ]
  },
  {
   "cell_type": "code",
   "execution_count": null,
   "metadata": {
    "collapsed": true
   },
   "outputs": [],
   "source": [
    "SCALE_PX = 6\n",
    "SCALE_IN = 2.25\n",
    "FIG_WIDTH_MM = 160\n",
    "\n",
    "def mm2px(mm, scale=SCALE_PX):\n",
    "    return scale*mm\n",
    "\n",
    "def mm2inch(mm):\n",
    "    return mm*0.0393701\n",
    "\n",
    "mm2inches = mm2inch\n",
    "\n",
    "# def create_fig(width_mm, height_mm):\n",
    "#     return st.SVGFigure(mm2px(FIG_WIDTH_MM), mm2px(FIG_HEIGHT_MM))\n",
    "def create_fig(width_mm, height_mm):\n",
    "    return st.SVGFigure(mm2px(width_mm), mm2px(height_mm))\n",
    "\n",
    "def add_label(fig, letter, x_pos_mm=0, y_pos_mm=0, font_size_px=18, weight='bold'):\n",
    "    fig.append(st.TextElement(mm2px(x_pos_mm),  # location of letter in x direction\n",
    "                              mm2px(y_pos_mm),  # location of letter in y direction\n",
    "                              letter,  # letter\n",
    "                              size=font_size_px,  # in px of font\n",
    "                              weight=weight))\n",
    "    return fig\n",
    "\n",
    "def add_grid(fig, x_spacing_mm=10, y_spacing_mm=10, font_size_px=10, width_px=1):\n",
    "    fig.append(sc.Grid(mm2px(x_spacing_mm),  # in mm, spacing of grid in x direction\n",
    "                       mm2px(y_spacing_mm),  # in mm, spacing of grid in y direction\n",
    "                       size=font_size_px,  # in px of font \n",
    "                       width=width_px,  # in px of grid lines\n",
    "                       xmax=int(fig.width), \n",
    "                       ymax=int(fig.height),\n",
    "                       multiply=1/SCALE_PX))\n",
    "    return fig\n",
    "\n",
    "def add_svg(fig, filename, x_pos_mm=0, y_pos_mm=0, scale=1, verbose=False):\n",
    "    svg_file = st.fromfile(filename)\n",
    "    width, height = svg_file.get_size()\n",
    "    if verbose:\n",
    "        print('size of svg of {} : {}'.format(filename, (width, height)))\n",
    "    svg_root = svg_file.getroot()\n",
    "    svg_root.moveto(mm2px(x_pos_mm), mm2px(y_pos_mm), scale=scale)\n",
    "    fig.append([svg_root])\n",
    "    return fig\n",
    "\n",
    "def get_num(x):\n",
    "    if type(x) == str:\n",
    "        return float(''.join(ele for ele in x if ele.isdigit() or ele == '.'))\n",
    "    else:\n",
    "        return None"
   ]
  },
  {
   "cell_type": "code",
   "execution_count": null,
   "metadata": {
    "collapsed": true
   },
   "outputs": [],
   "source": [
    "HOSTNAME = socket.gethostname()\n",
    "\n",
    "INKSCAPE = 'inkscape'\n",
    "if HOSTNAME == 'nsa3004':  # jm workstation\n",
    "    PATH_DROPBOX = '/home/jm/Mackelab/team/Write/Working_Manuscripts/InferenceNeuralDynamics_2018/'\n",
    "elif HOSTNAME == 'nsa3010':  # pedro workstation\n",
    "    PATH_DROPBOX = '/home/pedro/Mackelab/team/Write/Working_Manuscripts/InferenceNeuralDynamics_2018/'\n",
    "elif HOSTNAME == 'Pep.local':  # pedro macbook\n",
    "    PATH_DROPBOX = '/Users/pedro/Mackelab/team/Write/Working_Manuscripts/InferenceNeuralDynamics_2018/'\n",
    "    INKSCAPE = '/Applications/Inkscape.app/Contents/Resources/script'\n",
    "elif HOSTNAME == 'jml.local':  # jm macbook\n",
    "    PATH_DROPBOX = '/Users/jm/Mackelab/team/Write/Working_Manuscripts/InferenceNeuralDynamics_2018/'\n",
    "elif HOSTNAME == 'nsa2002.local' or HOSTNAME == 'nsa2002':  # no, not the nsa\n",
    "    PATH_DROPBOX = '/Users/kaan/Dropbox/InferenceNeuralDynamics_2018/'\n",
    "elif HOSTNAME == 'Bob': # Marcel\n",
    "    PATH_DROPBOX = '/home/marcel/Dropbox (mackelab)/team/Write/Working_Manuscripts/InferenceNeuralDynamics_2018/'\n",
    "else:\n",
    "    raise ValueError('Unknown hostname {}, add in if-else block'.format(HOSTNAME))\n",
    "\n",
    "PATH_DROPBOX_FIGS = PATH_DROPBOX + 'figs/'\n",
    "\n",
    "MPL_RC = 'matplotlib.rc'"
   ]
  },
  {
   "cell_type": "code",
   "execution_count": null,
   "metadata": {
    "collapsed": true
   },
   "outputs": [],
   "source": [
    "dirs = {}\n",
    "for model in ['glm', 'maprf', 'hodgkinhuxley', 'channelomics', 'l5pc']:\n",
    "    dirs['dir_nets_{}'.format(model)] = '../results/'+model+'/nets/'\n",
    "    dirs['dir_sampler_{}'.format(model)] = '../results/'+model+'/sampler/'\n",
    "    dirs['dir_genetic_{}'.format(model)] = '../results/'+model+'/genetic/'"
   ]
  },
  {
   "cell_type": "code",
   "execution_count": null,
   "metadata": {
    "collapsed": true
   },
   "outputs": [],
   "source": [
    "dirs_dropbox = {}\n",
    "for fig in ['fig1', 'fig2', 'fig3', 'fig4', 'fig5']:\n",
    "    dirs_dropbox['dir_nets_{}'.format(fig)] = PATH_DROPBOX + 'results/'+fig+'/'"
   ]
  }
 ],
 "metadata": {
  "anaconda-cloud": {},
  "kernelspec": {
   "display_name": "Python 3",
   "language": "python",
   "name": "python3"
  },
  "language_info": {
   "codemirror_mode": {
    "name": "ipython",
    "version": 3
   },
   "file_extension": ".py",
   "mimetype": "text/x-python",
   "name": "python",
   "nbconvert_exporter": "python",
   "pygments_lexer": "ipython3",
   "version": "3.5.2"
  }
 },
 "nbformat": 4,
 "nbformat_minor": 2
}
