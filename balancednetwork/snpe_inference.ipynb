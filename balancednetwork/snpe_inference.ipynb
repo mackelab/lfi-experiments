{
 "cells": [
  {
   "cell_type": "code",
   "execution_count": null,
   "metadata": {
    "collapsed": true
   },
   "outputs": [],
   "source": [
    "import delfi.distribution as dd\n",
    "import delfi.generator as dg\n",
    "import delfi.inference as infer\n",
    "import matplotlib.pyplot as plt\n",
    "import numpy as np\n",
    "import pickle\n",
    "import time\n",
    "\n",
    "from lfimodels.balancednetwork.BalancedNetwork import BalancedNetwork\n",
    "from lfimodels.balancednetwork.BalancedNetworkStats import BalancedNetworkStats\n",
    "\n",
    "%matplotlib inline"
   ]
  },
  {
   "cell_type": "markdown",
   "metadata": {},
   "source": [
    "## Setup delfi objects \n",
    "\n",
    "First we define the simulator model with numbers of parameters, the prior over those parameters, the summary stats and the generator that combines the those three objects. \n",
    "\n",
    "The generator also takes the proposal as an argument. This is the proposal prior from which new parameters are sampled instead of sampling from the overall prior. For now it is set to None, so that .gen() samples from the overall prior. "
   ]
  },
  {
   "cell_type": "code",
   "execution_count": null,
   "metadata": {
    "collapsed": true
   },
   "outputs": [],
   "source": [
    "n_params = 1\n",
    "\n",
    "m = BalancedNetwork(dim=n_params, first_port=8010, verbose=False, n_servers=3, duration=3.)\n",
    "p = dd.Uniform(lower=[1.], upper=[5.])\n",
    "s = BalancedNetworkStats()\n",
    "g = dg.Default(model=m, prior=p, summary=s, proposal=None)"
   ]
  },
  {
   "cell_type": "markdown",
   "metadata": {},
   "source": [
    "## Start the server and make a first test run - our observation\n",
    "\n",
    "For SNPE we can define an actual observation of the data by running the simulator once. The resulting summary stats is $x_{obs}$, the underlaying parameters are the true $\\theta$ that we want to discover. \n",
    "\n",
    "When SNPE is run over more than one round, the estimated posterior after one round is evaluated at $x_{obs}$ to give the new proposal prior for the next round. Beside the use of SVI this is the main difference to the basic inference scheme. "
   ]
  },
  {
   "cell_type": "code",
   "execution_count": null,
   "metadata": {
    "collapsed": true
   },
   "outputs": [],
   "source": [
    "m.start_server()"
   ]
  },
  {
   "cell_type": "code",
   "execution_count": null,
   "metadata": {
    "collapsed": true
   },
   "outputs": [],
   "source": [
    "true_params, stats_obs = g.gen(1)\n",
    "print(true_params, stats_obs)"
   ]
  },
  {
   "cell_type": "markdown",
   "metadata": {},
   "source": [
    "## Define the inference method as SNPE"
   ]
  },
  {
   "cell_type": "code",
   "execution_count": null,
   "metadata": {
    "collapsed": true
   },
   "outputs": [],
   "source": [
    "res = infer.SNPE(g, obs=stats_obs)"
   ]
  },
  {
   "cell_type": "code",
   "execution_count": null,
   "metadata": {
    "collapsed": true
   },
   "outputs": [],
   "source": [
    "# run the inference machine\n",
    "ntrain = 50\n",
    "nrounds = 1\n",
    "out = res.run(n_train=ntrain, n_rounds=nrounds)\n",
    "m.stop_server()"
   ]
  },
  {
   "cell_type": "code",
   "execution_count": null,
   "metadata": {
    "collapsed": true
   },
   "outputs": [],
   "source": [
    "plt.figure(figsize=(15, 5))\n",
    "plt.subplot(121)\n",
    "plt.plot(out[0]['trn_iter'], out[0]['trn_val'])\n",
    "plt.title('loss on first round')\n",
    "plt.subplot(122)\n",
    "plt.plot(out[1]['trn_iter'], out[1]['trn_val'])\n",
    "plt.title('loss on second round');"
   ]
  },
  {
   "cell_type": "markdown",
   "metadata": {
    "collapsed": true
   },
   "source": [
    "## Done \n",
    "\n",
    "We now have an estimate of the posterior over the parameter $R_{ee}$ given the observed data $x_{obs}$. How can we check the performance? \n",
    "\n",
    "## Compare to true parameter \n",
    "\n",
    "We have generated the observed data ourselves so we do have the true parameter. The mean of the posterior should be close to it when evaluated for $x=x_{obs}$"
   ]
  },
  {
   "cell_type": "code",
   "execution_count": null,
   "metadata": {
    "collapsed": true
   },
   "outputs": [],
   "source": [
    "# get the posterior at the observed data\n",
    "posterior = res.predict(stats_obs)"
   ]
  },
  {
   "cell_type": "code",
   "execution_count": null,
   "metadata": {
    "collapsed": true
   },
   "outputs": [],
   "source": [
    "mean = posterior.xs[0].m[0]\n",
    "std = np.sqrt(posterior.xs[0].S[0][0])\n",
    "print(mean, std)"
   ]
  },
  {
   "cell_type": "code",
   "execution_count": null,
   "metadata": {
    "collapsed": true
   },
   "outputs": [],
   "source": [
    "# set up a dict for saving the results \n",
    "result_dict = dict(true_params=true_params, stats_obs=stats_obs, nrouns=nrounds, ntrain=ntrain,\n",
    "                   posterior=dict(mean=mean, std=std))\n",
    "filename = 'data/{}_snpe_r{}_ntrain{}'.format(time.time(), nrounds, ntrain).replace('.', '') + '.p'\n",
    "with open(filename, 'wb') as handle:\n",
    "    pickle.dump(result_dict, handle, protocol=pickle.HIGHEST_PROTOCOL)"
   ]
  },
  {
   "cell_type": "code",
   "execution_count": null,
   "metadata": {
    "collapsed": true
   },
   "outputs": [],
   "source": [
    "theta = np.linspace(0, 5, 1000)\n",
    "post_pdf = st.norm.pdf(x=theta, loc=mean, scale=std)"
   ]
  },
  {
   "cell_type": "code",
   "execution_count": null,
   "metadata": {
    "collapsed": true
   },
   "outputs": [],
   "source": [
    "plt.figure(figsize=(10, 5))\n",
    "plt.plot(theta, post_pdf, label='$\\hat{p}( theta | x=x_{obs})$')\n",
    "plt.axvline(x=true_params[0], label='true theta', linestyle='--', color='C1')\n",
    "plt.legend()\n",
    "plt.xlabel('$R_{ee}$');"
   ]
  },
  {
   "cell_type": "markdown",
   "metadata": {},
   "source": [
    "## Posterior predictive checking \n",
    "\n",
    "Generate samples from the posterior and simulate them. The resulting data should be near the observed data. "
   ]
  },
  {
   "cell_type": "code",
   "execution_count": null,
   "metadata": {
    "collapsed": true
   },
   "outputs": [],
   "source": [
    "m.start_server()\n",
    "# generate theta +-3, 2, 1 0 stds away from mode\n",
    "thetas = [mean + i * std for i in [-3, -2, -1, 0, 1, 2, 3]]\n",
    "sum_stats = []\n",
    "# simulate and collect sum stats\n",
    "data = m.gen(thetas)\n",
    "for datum in data: \n",
    "    sum_stats.append(s.calc(datum))\n",
    "m.stop_server()"
   ]
  },
  {
   "cell_type": "code",
   "execution_count": null,
   "metadata": {
    "collapsed": true
   },
   "outputs": [],
   "source": [
    "# plot the resulting stats with the observed stats \n",
    "plt.figure(figsize=(10, 4))\n",
    "sum_stats = np.array(sum_stats).squeeze()\n",
    "plt.axvline(x=mean, linestyle='--', color='C4')\n",
    "plt.axvline(x=true_params, linestyle='--', color='C5')\n",
    "plt.plot(thetas, sum_stats, '-o')\n",
    "plt.plot(true_params, stats_obs, '*')\n",
    "plt.legend(['posterior mean', 'true theta', 'ff1', 'ff2', 'ff3', 'rate mean', 'rate median'])\n",
    "plt.xlabel('theta')\n",
    "plt.ylabel('stats')\n",
    "plt.title('Summary stats +-3 std around the posterior mean')"
   ]
  },
  {
   "cell_type": "code",
   "execution_count": null,
   "metadata": {
    "collapsed": true
   },
   "outputs": [],
   "source": []
  }
 ],
 "metadata": {
  "kernelspec": {
   "display_name": "Python [conda env:mackelab]",
   "language": "python",
   "name": "conda-env-mackelab-py"
  },
  "language_info": {
   "codemirror_mode": {
    "name": "ipython",
    "version": 3
   },
   "file_extension": ".py",
   "mimetype": "text/x-python",
   "name": "python",
   "nbconvert_exporter": "python",
   "pygments_lexer": "ipython3",
   "version": "3.6.1"
  }
 },
 "nbformat": 4,
 "nbformat_minor": 2
}
