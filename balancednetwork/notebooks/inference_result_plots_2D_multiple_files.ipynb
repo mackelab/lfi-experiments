{
 "cells": [
  {
   "cell_type": "markdown",
   "metadata": {},
   "source": [
    "## Plotting inference results for multidimensional posteriors \n",
    "\n",
    "In order to use this notebook you need data files stored in a folder `lfi-experiments/balancednetwork/results/filename`. \n",
    "\n",
    "Figures will be saved in that folder as well. "
   ]
  },
  {
   "cell_type": "code",
   "execution_count": null,
   "metadata": {
    "collapsed": true
   },
   "outputs": [],
   "source": [
    "import matplotlib.pyplot as plt\n",
    "%matplotlib inline\n",
    "import matplotlib as mpl\n",
    "import numpy as np\n",
    "import pickle\n",
    "import time\n",
    "import scipy.stats as st\n",
    "import os \n",
    "from lfimodels.balancednetwork.BalancedNetworkSimulator import BalancedNetwork\n",
    "from lfimodels.balancednetwork.BalancedNetworkStats import BalancedNetworkStats\n",
    "import delfi.distribution as dd\n",
    "\n",
    "mpl_params = {'legend.fontsize': 14,\n",
    "                      'axes.titlesize': 20,\n",
    "                      'axes.labelsize': 17,\n",
    "                      'xtick.labelsize': 12,\n",
    "                      'ytick.labelsize': 12,\n",
    "             'figure.figsize' : (15, 5)}\n",
    "\n",
    "mpl.rcParams.update(mpl_params)"
   ]
  },
  {
   "cell_type": "code",
   "execution_count": null,
   "metadata": {
    "collapsed": true
   },
   "outputs": [],
   "source": [
    "from delfi.utils.viz import probs2contours, plot_pdf"
   ]
  },
  {
   "cell_type": "markdown",
   "metadata": {},
   "source": [
    "## Load data and extract posterior object\n",
    "\n",
    "data file should be in `lfi-experiments/balancednetwork/data`"
   ]
  },
  {
   "cell_type": "code",
   "execution_count": null,
   "metadata": {},
   "outputs": [],
   "source": [
    "inference_method = 'snpe'\n",
    "filenames = ['15147527039953778_snpe_Jeeei_r10_n4000_rcl5', \n",
    "             '15149090519689238_snpe_Jeeie_r10_n4000_rcl5', \n",
    "             '15136776630205421_snpe_Jeeii_r5_n3000_rcl3', \n",
    "             '15141421200117958_snpe_Jeiie_r10_n4000_rcl5', \n",
    "             '15137875951938703_snpe_Jeiii_r10_n2000_rcl5', \n",
    "             '1513918570360665_snpe_Jieii_r10_n2000_rcl5']\n",
    "\n",
    "n_files = len(filenames)\n",
    "\n",
    "weight_labels = [r'$J^{EE}$', r'$J^{EI}$', r'$J^{IE}$', r'$J^{II}$']\n",
    "\n",
    "save_figure = True\n",
    "path_to_save_folder = '../results/'\n",
    "\n",
    "time_str = time.strftime('%Y%m%d%H%M')"
   ]
  },
  {
   "cell_type": "code",
   "execution_count": null,
   "metadata": {
    "collapsed": true
   },
   "outputs": [],
   "source": [
    "# set params for plotting \n",
    "log_flag = False\n",
    "use_custom_ranges = False\n",
    "\n",
    "# mass isolines to plot \n",
    "levels = [0.68]\n",
    "\n",
    "# get grid of sampling points\n",
    "lims = [0., .1]\n",
    "resolution = (lims[1] - lims[0]) / 1000\n",
    "n_steps = int((lims[1] - lims[0])/ resolution)\n",
    "theta = np.linspace(lims[0], lims[1], n_steps)    \n",
    "x, y = np.meshgrid(theta, theta)\n",
    "    \n",
    "# arrange samples in rows \n",
    "v = np.vstack((x.flatten(), y.flatten())).T"
   ]
  },
  {
   "cell_type": "code",
   "execution_count": null,
   "metadata": {},
   "outputs": [],
   "source": [
    "def plot_1D_posterior(prior, param_idx, lims, n_steps, post, true_params, weight_label): \n",
    "    # define limits from the corresponding prior \n",
    "    theta = np.linspace(lims[0], lims[1], n_steps)\n",
    "\n",
    "    plt.plot(theta, post.eval(x=theta.T, log=log_flag, ii=[param_idx]), label='posterior')\n",
    "    plt.axvline(x=true_params[param_idx], color='C1', label='true ' + weight_label)\n",
    "    plt.legend()\n",
    "    \n",
    "\n",
    "def plot_2D_posterior(lims_i, lims_j, x, y, v, post, true_params, plot_idx, levels, subplotsize=4): \n",
    "    z = post.eval(x=v, log=log_flag, ii=[0, 1]).reshape(x.shape)\n",
    "    \n",
    "    dm = ((lims_i[1] - lims_i[0]) / 1000) * ((lims_j[1] - lims_j[0]) / 1000)\n",
    "    print('mass: ', z.sum() * dm)\n",
    "    \n",
    "    cl = probs2contours(z.flatten(), levels=levels).reshape(x.shape)\n",
    "    \n",
    "    x_mask = np.logical_and(x >= lims_i[0], x <= lims_i[1])\n",
    "    y_mask = np.logical_and(y >= lims_j[0], y <= lims_j[1])\n",
    "    z_mask = np.logical_and(x_mask, y_mask)\n",
    "\n",
    "    size = int(np.sqrt(z_mask.sum()))\n",
    "    z_new = z.flatten()[z_mask.flatten()].reshape(size, size)\n",
    "    x_new = x.flatten()[z_mask.flatten()].reshape(size, size)\n",
    "    y_new = y.flatten()[z_mask.flatten()].reshape(size, size)\n",
    "    cl_new = cl.flatten()[z_mask.flatten()].reshape(size, size)\n",
    "\n",
    "    plt.subplot(subplotsize, subplotsize, plot_idx)\n",
    "    plt.contourf(y_new, x_new, z_new)\n",
    "    plt.contour(y_new, x_new, cl_new, levels, linewidths=1, colors=['C1'])\n",
    "    plt.plot([true_params[1]], [true_params[0]], 'x', color='C1', markersize=7)    "
   ]
  },
  {
   "cell_type": "markdown",
   "metadata": {},
   "source": [
    "## Big loop over files "
   ]
  },
  {
   "cell_type": "code",
   "execution_count": null,
   "metadata": {},
   "outputs": [],
   "source": [
    "plt.figure(figsize=(15, 10))\n",
    "plot_idx = 1\n",
    "\n",
    "# we assume the order of files to be: EEEI, EEIE, EEII, EIIE, EIII, IEII\n",
    "#weight_label_indices = [0, ]\n",
    "diag_idx = 0\n",
    "diag_param_idx = [0, 0, 0, 1]\n",
    "diag_file_idx = [0, 3, 4, 5]\n",
    "# plot indices for off diagonals \n",
    "plot_idxs = [2, 3, 4, 7, 8, 12]\n",
    "\n",
    "for file_idx, filename in enumerate(filenames): \n",
    "    fullname = os.path.join('../results/', filename, filename + '.p')\n",
    "    \n",
    "    # load data \n",
    "    assert os.path.exists(fullname), 'path not found: {}.'.format(fullname)\n",
    "    with open(fullname, 'rb') as handle:\n",
    "        result_dict = pickle.load(handle)\n",
    "    \n",
    "    # unpack values \n",
    "    true_params, stats_obs, nrounds, ntrain, posterior, out, trn_data, prior, posterior_list = result_dict.values()\n",
    "    dim_params = len(true_params)\n",
    "    assert dim_params > 1, 'this notebook is for inference on more than 1 parameter.'\n",
    "    \n",
    "    # extract the posterior \n",
    "    n_components = len(posterior.a)\n",
    "    means = [posterior.xs[c].m for c in range(n_components)]\n",
    "    Ss = [posterior.xs[c].S for c in range(n_components)]\n",
    "\n",
    "    # mixing coefs \n",
    "    mixing_coefs = posterior.a\n",
    "\n",
    "    # construct posterior\n",
    "    post = dd.mixture.MoG(posterior.a, ms=means, Ss=Ss)        \n",
    "    \n",
    "    # first plot the diagonal with the 1D posteriors of individual weights \n",
    "    if file_idx in diag_file_idx:  \n",
    "        plt.subplot(4, 4, diag_idx * 5 + 1)\n",
    "        \n",
    "        # define limits from the corresponding prior, it is always the first param idx \n",
    "        param_idx = diag_param_idx[diag_idx]\n",
    "        lims = [prior.lower[param_idx] - 0.05, prior.upper[param_idx] + .05]\n",
    "        \n",
    "        plot_1D_posterior(prior, param_idx, lims, n_steps, post, true_params, weight_labels[diag_idx])\n",
    "        diag_idx += 1\n",
    "    \n",
    "    # then plot the off-diagonal 2D posteriors \n",
    "    # define limits from the corresponding prior\n",
    "    lims_i = [prior.lower[0], prior.upper[0]]\n",
    "    lims_j = [prior.lower[1], prior.upper[1]]\n",
    "\n",
    "    x, y = np.meshgrid(np.linspace(lims_i[0], lims_i[1], n_steps), \n",
    "                       np.linspace(lims_j[0], lims_j[1], n_steps))\n",
    "    v = np.vstack((x.flatten(), y.flatten())).T\n",
    "    \n",
    "    plot_2D_posterior(lims_i, lims_j, x, y, v, post, true_params, plot_idxs[file_idx], levels, subplotsize=4)\n",
    "    \n",
    "plt.tight_layout()\n",
    "\n",
    "if save_figure and os.path.exists(path_to_save_folder): \n",
    "    addon = ''\n",
    "    filename = time_str + '_2Dweightinference_summary_{}'.format(inference_method) + addon + '.pdf'\n",
    "    plt.tight_layout()\n",
    "    plt.savefig(os.path.join(path_to_save_folder, filename))"
   ]
  },
  {
   "cell_type": "code",
   "execution_count": null,
   "metadata": {
    "collapsed": true
   },
   "outputs": [],
   "source": []
  },
  {
   "cell_type": "code",
   "execution_count": null,
   "metadata": {
    "collapsed": true
   },
   "outputs": [],
   "source": []
  }
 ],
 "metadata": {
  "kernelspec": {
   "display_name": "Python [conda env:mackelab]",
   "language": "python",
   "name": "conda-env-mackelab-py"
  },
  "language_info": {
   "codemirror_mode": {
    "name": "ipython",
    "version": 3
   },
   "file_extension": ".py",
   "mimetype": "text/x-python",
   "name": "python",
   "nbconvert_exporter": "python",
   "pygments_lexer": "ipython3",
   "version": "3.6.2"
  }
 },
 "nbformat": 4,
 "nbformat_minor": 2
}
