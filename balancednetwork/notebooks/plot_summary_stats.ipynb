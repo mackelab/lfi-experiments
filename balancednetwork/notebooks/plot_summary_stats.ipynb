{
 "cells": [
  {
   "cell_type": "code",
   "execution_count": null,
   "metadata": {
    "collapsed": true
   },
   "outputs": [],
   "source": [
    "import matplotlib.pyplot as plt\n",
    "%matplotlib inline\n",
    "import numpy as np\n",
    "import pickle\n",
    "import time\n",
    "import os \n",
    "from utils import *\n"
   ]
  },
  {
   "cell_type": "code",
   "execution_count": null,
   "metadata": {
    "collapsed": true
   },
   "outputs": [],
   "source": [
    "path_to_save_folder = '../figures/'\n",
    "savefigure = True\n",
    "fileformat = '.png'\n",
    "dpi = 300\n",
    "\n",
    "variable_name = 'Jee'\n",
    "variable_value = 0.024\n",
    "inference_method = 'basic'\n",
    "filename = '15093673408686981_params_stats_data_wee_n200'\n",
    "time_str = filename[:filename.find('_')]\n",
    "filename.find('_')\n",
    "fullname = '../data/' + filename + '.p'"
   ]
  },
  {
   "cell_type": "code",
   "execution_count": null,
   "metadata": {
    "collapsed": true
   },
   "outputs": [],
   "source": [
    "# load data \n",
    "with open(fullname, 'rb') as handle:\n",
    "    result_dict = pickle.load(handle)"
   ]
  },
  {
   "cell_type": "code",
   "execution_count": null,
   "metadata": {
    "collapsed": true
   },
   "outputs": [],
   "source": [
    "result_dict.keys()"
   ]
  },
  {
   "cell_type": "code",
   "execution_count": null,
   "metadata": {
    "collapsed": true
   },
   "outputs": [],
   "source": [
    "# unpack values \n",
    "params, stats = result_dict.values()"
   ]
  },
  {
   "cell_type": "code",
   "execution_count": null,
   "metadata": {
    "collapsed": true
   },
   "outputs": [],
   "source": [
    "print(stats.shape)\n",
    "print(params.shape)"
   ]
  },
  {
   "cell_type": "code",
   "execution_count": null,
   "metadata": {
    "collapsed": true
   },
   "outputs": [],
   "source": [
    "stats.mean(0)"
   ]
  },
  {
   "cell_type": "markdown",
   "metadata": {},
   "source": [
    "## Figure for Inh and Exc summary stats "
   ]
  },
  {
   "cell_type": "code",
   "execution_count": null,
   "metadata": {
    "collapsed": true
   },
   "outputs": [],
   "source": [
    "plot_idx = 1\n",
    "label_size = 16\n",
    "title_size = 18\n",
    "legend_size = 13\n",
    "titles = ['Fano factor', 'Population rate', 'Kurtosis', 'Positive correlation']\n",
    "label = 'exc'\n",
    "ylabels = ['FF', 'spikes/sec', 'K', 'proportion']\n",
    "plt.figure(figsize=(18, 10))\n",
    "for stat in stats.T: \n",
    "    plt.subplot(1, 4, plot_idx)\n",
    "    plt.scatter(params, stat, label=label, alpha=0.5, marker='x')\n",
    "    plt.title(titles[plot_idx - 1], fontsize=title_size)\n",
    "    \n",
    "    plt.ylabel(ylabels[plot_idx - 1], fontsize=label_size)\n",
    "    plt.xlabel(r'$J_{ee}$', fontsize=label_size)\n",
    "    if label == 'inh':\n",
    "        plt.axvline(x=variable_value, color='C2', linestyle='--', linewidth=1, label=r'observed $J_{ee}$')  \n",
    "       \n",
    "    plot_idx += 1\n",
    "    if plot_idx > 4: \n",
    "        plot_idx = 1\n",
    "        label = 'inh'    \n",
    "\n",
    "plt.subplot(141)    \n",
    "plt.legend([r'observed ' + variable_name, 'exc', 'inh'], prop={'size': legend_size})\n",
    "\n",
    "plt.tight_layout()\n",
    "if savefigure: \n",
    "    figure_filename = '{}_stats1_{}'.format(time_str, variable_name).replace('.', '')\n",
    "    \n",
    "if save_figure and os.path.exists(path_to_save_folder): \n",
    "    plt.savefig(os.path.join(path_to_save_folder, figure_filename + fileformat), dpi=dpi);"
   ]
  },
  {
   "cell_type": "markdown",
   "metadata": {},
   "source": [
    "## Figure for old version with Exc stats only "
   ]
  },
  {
   "cell_type": "code",
   "execution_count": null,
   "metadata": {
    "collapsed": true
   },
   "outputs": [],
   "source": [
    "plt.figure(figsize=(15, 5))\n",
    "ylabels = ['mean firing rate', 'kurtosis', 'Fano factor', 'proportion']\n",
    "titles = ['Rate', 'Skewness', 'Fano factor', 'Relative positive correlations']\n",
    "xlabel = '$R_{ee}$'\n",
    "label_size = 16\n",
    "plot_idx = 1\n",
    "for stat in stats[:, [1, 2, 0, 3]].T: \n",
    "    plt.subplot(1, 4, plot_idx)\n",
    "    plt.scatter(params, stat, color='C{}'.format(plot_idx - 1), s=3)\n",
    "    plt.xlabel(xlabel, fontsize=label_size)\n",
    "    plt.ylabel(ylabels[plot_idx - 1], fontsize=label_size)\n",
    "    plt.title(titles[plot_idx - 1], fontsize=label_size + 1)\n",
    "    plot_idx += 1\n",
    "plt.tight_layout()\n",
    "figure_filename = '{}_stats1_{}'.format(time_str, variable_name).replace('.', '')\n",
    "\n",
    "if save_figure and os.path.exists(path_to_save_folder): \n",
    "    plt.savefig(os.path.join(path_to_save_folder, figure_filename + fileformat), dpi=dpi);"
   ]
  },
  {
   "cell_type": "code",
   "execution_count": null,
   "metadata": {
    "collapsed": true
   },
   "outputs": [],
   "source": []
  }
 ],
 "metadata": {
  "kernelspec": {
   "display_name": "Python [conda env:mackelab]",
   "language": "python",
   "name": "conda-env-mackelab-py"
  },
  "language_info": {
   "codemirror_mode": {
    "name": "ipython",
    "version": 3
   },
   "file_extension": ".py",
   "mimetype": "text/x-python",
   "name": "python",
   "nbconvert_exporter": "python",
   "pygments_lexer": "ipython3",
   "version": "3.6.2"
  }
 },
 "nbformat": 4,
 "nbformat_minor": 2
}
