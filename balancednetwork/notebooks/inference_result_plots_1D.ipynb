{
 "cells": [
  {
   "cell_type": "code",
   "execution_count": null,
   "metadata": {
    "collapsed": true
   },
   "outputs": [],
   "source": [
    "import matplotlib.pyplot as plt\n",
    "import matplotlib as mpl\n",
    "%matplotlib inline\n",
    "import delfi.distribution as dd\n",
    "import numpy as np\n",
    "import pickle\n",
    "import time\n",
    "import scipy.stats as st\n",
    "import os \n",
    "from lfimodels.balancednetwork.BalancedNetworkSimulator import BalancedNetwork\n",
    "from lfimodels.balancednetwork.BalancedNetworkStats import BalancedNetworkStats, Identity\n",
    "\n",
    "mpl_params = {'legend.fontsize': 14,\n",
    "                      'axes.titlesize': 20,\n",
    "                      'axes.labelsize': 17,\n",
    "                      'xtick.labelsize': 12,\n",
    "                      'ytick.labelsize': 12,\n",
    "             'figure.figsize' : (15, 5)}\n",
    "\n",
    "mpl.rcParams.update(mpl_params)"
   ]
  },
  {
   "cell_type": "code",
   "execution_count": null,
   "metadata": {
    "collapsed": true
   },
   "outputs": [],
   "source": [
    "save_figure = True\n",
    "\n",
    "inference_method = 'snpe'\n",
    "fileformat = '.png'\n",
    "dpi = 300\n",
    "param_label = r'$w_{ei}$'\n",
    "inference_param_name = 'wei'\n",
    "\n",
    "# set name to find the folder \n",
    "simulation_name = '15140527888578181_snpe_cJie_r10_n1000_rcl5'\n",
    "path_to_save_folder = os.path.join('../results', simulation_name)"
   ]
  },
  {
   "cell_type": "code",
   "execution_count": null,
   "metadata": {},
   "outputs": [],
   "source": [
    "# load data \n",
    "time_str = simulation_name[:simulation_name.find('_')]\n",
    "fullname = os.path.join(path_to_save_folder, simulation_name + '.p')\n",
    "\n",
    "\n",
    "# load data \n",
    "with open(fullname, 'rb') as handle:\n",
    "    result_dict = pickle.load(handle)\n",
    "\n",
    "print(result_dict.keys())\n",
    "\n",
    "try: \n",
    "    true_params, stats_obs, nrounds, ntrain, posterior, out, trn_data, prior, posteriors = result_dict.values()\n",
    "    theta = np.linspace(prior.lower[0], prior.upper[0], 1000)\n",
    "except ValueError:\n",
    "    try: \n",
    "        true_params, stats_obs, nrounds, ntrain, posterior, out, trn_data, prior = result_dict.values()            \n",
    "        theta = np.linspace(prior.lower[0], prior.upper[0], 1000)\n",
    "    except ValueError: \n",
    "        true_params, stats_obs, nrounds, ntrain, posterior, out, trn_data= result_dict.values()            \n",
    "        theta = np.linspace(0, 5, 1000)"
   ]
  },
  {
   "cell_type": "markdown",
   "metadata": {},
   "source": [
    "## Plot single figure with posterior over rounds "
   ]
  },
  {
   "cell_type": "code",
   "execution_count": null,
   "metadata": {},
   "outputs": [],
   "source": [
    "for idx, posterior in enumerate(posteriors): \n",
    "    n_components = len(posterior.a)\n",
    "    means = [posterior.xs[c].m for c in range(n_components)]\n",
    "    Ss = [posterior.xs[c].S for c in range(n_components)]\n",
    "\n",
    "    sub_means = [[means[c][0]] for c in range(n_components)]\n",
    "    sub_cov = np.asarray([Ss[c] for c in range(n_components)])\n",
    "    pdf = dd.mixture.MoG(a=posterior.a, ms=sub_means, Ss=sub_cov)\n",
    "    post_pdf = pdf.eval(theta[:, np.newaxis], log=False)\n",
    "    \n",
    "    if idx == nrounds-1: \n",
    "        plt.plot(theta, post_pdf, label='round {}, cl'.format(idx + 1))\n",
    "    elif idx > 4: \n",
    "        plt.plot(theta, post_pdf, label='round {}, cl'.format(idx + 1), alpha=.6, linestyle='-')\n",
    "    else:\n",
    "        plt.plot(theta, post_pdf, label='round {}'.format(idx + 1), alpha=.6, linestyle='--')\n",
    "    plt.xlabel(param_label)\n",
    "    \n",
    "plt.axvline(x=true_params[0], label=r'observed {}'.format(param_label), linestyle='-', color='k', alpha=.5)\n",
    "plt.legend()\n",
    "plt.title('Posteriors over rounds');\n",
    "\n",
    "plt.tight_layout()\n",
    "filename = time_str + '_{}_posteriors'.format(inference_param_name)\n",
    "if save_figure and os.path.exists(path_to_save_folder): \n",
    "    destination = os.path.join(path_to_save_folder, filename + fileformat)\n",
    "    plt.savefig(destination, dpi=dpi)\n",
    "    print('saved file in {}'.format(destination));"
   ]
  },
  {
   "cell_type": "markdown",
   "metadata": {},
   "source": [
    "## Plotting the summary stats "
   ]
  },
  {
   "cell_type": "code",
   "execution_count": null,
   "metadata": {},
   "outputs": [],
   "source": [
    "plt.figure(figsize=(15, 10))\n",
    "p = trn_data[0][0].flatten()\n",
    "ss = trn_data[0][1]\n",
    "titles = ['Fano factor', 'mean rate', 'kurtosis', 'positive pairwise corr', \n",
    "          '0 lag auto/cross corr', '10 lag auto/cross corr', '20 lag auto/cross corr']\n",
    "ylabels = ['ff', 'rate', 'kurt', 'corr prop',\n",
    "                                    'corr0',\n",
    "                                    'corr10',\n",
    "                                    'corr20']\n",
    "\n",
    "labels = ['ffE', 'ffI', 'rateE', 'rateI', 'kurtE', 'kurtI', 'corrE', 'corrI',\n",
    "                                    'EE', 'EI', 'II',\n",
    "                                    'EE', 'EI', 'IE', 'II',\n",
    "                                    'EE', 'EI', 'IE', 'II']\n",
    "plot_idx = [1, 1, 2, 2, 3, 3, 4, 4, 5, 5, 5, 6, 6, 6, 6, 7, 7, 7, 7]\n",
    "\n",
    "for idx, s in enumerate(ss.T): \n",
    "    plt.subplot(3, 3, plot_idx[idx])\n",
    "    plt.plot(p, s, 'o', label=labels[idx], alpha=.6)\n",
    "    plt.title(titles[plot_idx[idx] - 1])\n",
    "    plt.ylabel(ylabels[plot_idx[idx] - 1])\n",
    "    if idx > 7: \n",
    "        plt.xlabel(param_label)\n",
    "    plt.legend()\n",
    "    plt.axvline(x=true_params[0])\n",
    "plt.tight_layout()\n",
    "\n",
    "filename = time_str + '_{}_summary_stats'.format(inference_param_name)\n",
    "if save_figure and os.path.exists(path_to_save_folder): \n",
    "    destination = os.path.join(path_to_save_folder, filename + fileformat)\n",
    "    plt.savefig(destination, dpi=200)\n",
    "    print('saved file in {}'.format(destination));"
   ]
  },
  {
   "cell_type": "code",
   "execution_count": null,
   "metadata": {},
   "outputs": [],
   "source": [
    "posterior.mean"
   ]
  },
  {
   "cell_type": "markdown",
   "metadata": {},
   "source": [
    "## Posterior predictive checking \n",
    "\n",
    "Generate samples from the posterior and simulate them. The resulting data should be near the observed data. "
   ]
  },
  {
   "cell_type": "code",
   "execution_count": null,
   "metadata": {},
   "outputs": [],
   "source": [
    "# make sure to change this accordingly!!! \n",
    "ree = 2.5\n",
    "# set the seed by hand or use the one from the simulation if available. \n",
    "seed = 3\n",
    "param_names = [inference_param_name]\n",
    "m = BalancedNetwork(inference_params=param_names, dim=1, first_port=8100,\n",
    "                    verbose=True, n_servers=3, duration=3., parallel=True,\n",
    "                    estimate_time=False, calculate_stats=True, seed=seed)\n",
    "s = Identity(seed=seed)\n",
    "# generate observed stats from true params using the same seed \n",
    "stats_obs = s.calc_all(m.gen([true_params]))"
   ]
  },
  {
   "cell_type": "code",
   "execution_count": null,
   "metadata": {},
   "outputs": [],
   "source": [
    "# generate a few samples and simulate \n",
    "n_samples = 5\n",
    "params = []\n",
    "# append the mean\n",
    "params.append(posterior.mean)\n",
    "for i in range(n_samples): \n",
    "    params.append(posterior.gen())\n",
    "params"
   ]
  },
  {
   "cell_type": "code",
   "execution_count": null,
   "metadata": {},
   "outputs": [],
   "source": [
    "# simulate \n",
    "data = m.gen(params)\n",
    "m.stop_server()"
   ]
  },
  {
   "cell_type": "code",
   "execution_count": null,
   "metadata": {
    "collapsed": true
   },
   "outputs": [],
   "source": [
    "# calculate summary stats\n",
    "stats = np.array(s.calc_all(data)).squeeze()\n",
    "stats_normed = ((stats - stats_obs) / stats_obs).squeeze()"
   ]
  },
  {
   "cell_type": "code",
   "execution_count": null,
   "metadata": {},
   "outputs": [],
   "source": [
    "# additionally generate 5 samples using the true params but different seeds: \n",
    "param_names = [inference_param_name]\n",
    "m = BalancedNetwork(inference_params=param_names, dim=1, first_port=8100,\n",
    "                    verbose=True, n_servers=3, duration=3., parallel=True,\n",
    "                    estimate_time=False, calculate_stats=True, seed=None)\n",
    "s = Identity(seed=None)\n",
    "# simulate and calc stats\n",
    "stats_obs_var = s.calc_all(m.gen(5 * [true_params]))"
   ]
  },
  {
   "cell_type": "code",
   "execution_count": null,
   "metadata": {
    "collapsed": true
   },
   "outputs": [],
   "source": [
    "stats_obs_var = np.array(stats_obs_var).squeeze()\n",
    "# normalize by initial stats_obs \n",
    "stats_var_normed = ((stats_obs_var - stats_obs) / stats_obs).squeeze()"
   ]
  },
  {
   "cell_type": "code",
   "execution_count": null,
   "metadata": {},
   "outputs": [],
   "source": [
    "plt.figure(figsize=(15, 5))\n",
    "titles = ['mean'] + n_samples * ['sample']\n",
    "file_string = inference_param_name\n",
    "\n",
    "for i in range(n_samples + 1): \n",
    "    if i==0: \n",
    "        plt.title('Summary stats of posterior mean and 5 samples, normalized by observed stats')\n",
    "        plt.plot(stats_normed[i, ], 'o-', label='posterior', color='C0'.format(i), lw=3., ms=8.)\n",
    "    else: \n",
    "        plt.plot(stats_normed[i, ], 'o-', color='C0'.format(i), alpha=0.5, label='_no_legend_')\n",
    "    plt.legend()\n",
    "    plt.xticks(np.arange(19), [])\n",
    "plt.grid()\n",
    "plt.ylim([-3., 3.])\n",
    "\n",
    "# plot the variability with different seeds \n",
    "for i in range(5): \n",
    "    plt.plot(stats_var_normed[i, :], '*-', alpha=.7, color='C1', \n",
    "             label='true params, different seeds' if not i else '_no_legend_')\n",
    "    \n",
    "plt.legend()\n",
    "\n",
    "    \n",
    "plt.xticks(np.arange(19), ['ffE', 'ffI', 'rateE', 'rateI', 'kurtE', 'kurtI', 'corrE', 'corrI',\n",
    "                                    'EE', 'EI', 'II',\n",
    "                                    '10 EE', '10 EI', '10 IE', '10 II',\n",
    "                                    '20 EE', '20 EI', '20 IE', '20 II'], rotation='vertical')\n",
    "\n",
    "plt.tight_layout();\n",
    "\n",
    "if save_figure and os.path.exists(path_to_save_folder): \n",
    "    addon = ''\n",
    "    filename = time_str + '_{}_predictiveChecks_{}_r{}_ntrain{}_'.format(inference_method, file_string, nrounds, ntrain) + addon + '.pdf'\n",
    "    plt.savefig(os.path.join(path_to_save_folder, filename))"
   ]
  },
  {
   "cell_type": "code",
   "execution_count": null,
   "metadata": {
    "collapsed": true
   },
   "outputs": [],
   "source": []
  }
 ],
 "metadata": {
  "kernelspec": {
   "display_name": "Python [default]",
   "language": "python",
   "name": "python3"
  },
  "language_info": {
   "codemirror_mode": {
    "name": "ipython",
    "version": 3
   },
   "file_extension": ".py",
   "mimetype": "text/x-python",
   "name": "python",
   "nbconvert_exporter": "python",
   "pygments_lexer": "ipython3",
   "version": "3.6.2"
  }
 },
 "nbformat": 4,
 "nbformat_minor": 2
}
