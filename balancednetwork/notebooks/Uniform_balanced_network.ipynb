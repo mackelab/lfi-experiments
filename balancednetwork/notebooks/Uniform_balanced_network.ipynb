{
 "cells": [
  {
   "cell_type": "code",
   "execution_count": null,
   "metadata": {
    "collapsed": true
   },
   "outputs": [],
   "source": [
    "from brian2 import *\n",
    "%matplotlib inline"
   ]
  },
  {
   "cell_type": "markdown",
   "metadata": {},
   "source": [
    "## Now make the synapse filter a difference of exponentials defined implicitly by two coupled odes"
   ]
  },
  {
   "cell_type": "markdown",
   "metadata": {},
   "source": [
    "## And slowly build the balanced network"
   ]
  },
  {
   "cell_type": "code",
   "execution_count": null,
   "metadata": {
    "collapsed": true
   },
   "outputs": [],
   "source": [
    "start_scope()\n",
    "\n",
    "vt = 1\n",
    "vr = 0\n",
    "\n",
    "tau_e = 15*ms\n",
    "tau_i = 10*ms\n",
    "tau1 = 1 * ms\n",
    "tau2_e = 3 * ms\n",
    "tau2_i = 2 * ms\n",
    "tau_scale = 1 * ms\n",
    "\n",
    "eqs = '''\n",
    "dv/dt = (mu-v)/tau + (I_e - I_i)/tau_scale : 1\n",
    "dI_e/dt = -(I_e - x_e)/tau2_e : 1\n",
    "dI_i/dt = -(I_i - x_i)/tau2_i : 1\n",
    "dx_e/dt = -x_e / tau1 : 1\n",
    "dx_i/dt = -x_i / tau1 : 1\n",
    "mu : 1\n",
    "tau : second\n",
    "'''\n",
    "\n",
    "NE = 4000\n",
    "NI = 1000\n",
    "N = NE + NI\n",
    "G = NeuronGroup(N, eqs, threshold='v>vt', reset='v=vr', method='euler', refractory=5*ms)\n",
    "G.v = np.random.rand(N) * (vt - vr) + vr\n",
    "Pe = G[:NE]\n",
    "Pi = G[NE:]\n",
    "\n",
    "fac = 1.0\n",
    "Pe.mu = fac * np.random.uniform(1.1, 1.2, NE) * (vt - vr) + vr\n",
    "Pi.mu = fac * np.random.uniform(1.0, 1.05, NI) * (vt - vr) + vr\n",
    "# for visualization\n",
    "#G.mu[0] = 0\n",
    "#G.mu[NE] = 0\n",
    "\n",
    "\n",
    "Pe.tau = tau_e\n",
    "Pi.tau = tau_i\n",
    "\n",
    "See = Synapses(Pe, Pe, 'w : 1', on_pre='''x_e += w''')\n",
    "See.connect(p=0.2)\n",
    "See.w = 0.024 \n",
    "\n",
    "Sii = Synapses(Pi, Pi, 'w : 1', on_pre='''x_i += w''')\n",
    "Sii.connect(p=0.5)\n",
    "Sii.w = 0.057\n",
    "\n",
    "Sei = Synapses(Pi, Pe, 'w : 1', on_pre='''x_i += w''')\n",
    "Sei.connect(p=0.5)\n",
    "Sei.w = 0.045\n",
    "\n",
    "Sie = Synapses(Pe, Pi, 'w : 1', on_pre='''x_e += w''')\n",
    "Sie.connect(p=0.5)\n",
    "Sie.w = 0.014\n",
    "\n",
    "Mn = StateMonitor(G, ['v', 'I_e', 'I_i', 'x_e', 'x_i'], record=[0, NE])\n",
    "sme = SpikeMonitor(Pe)\n",
    "smi = SpikeMonitor(Pi)\n",
    "rm = PopulationRateMonitor(Pi)\n",
    "\n",
    "run(5000*ms)"
   ]
  },
  {
   "cell_type": "code",
   "execution_count": null,
   "metadata": {},
   "outputs": [],
   "source": [
    "NE = 1\n",
    "figure(figsize=(15, 8))\n",
    "subplot(211)\n",
    "plot(Mn.t/ms, Mn.v[0], label='vE', color='b')\n",
    "plt.legend(loc=4)\n",
    "\n",
    "plt.twinx()\n",
    "plot(Mn.t/ms, Mn.I_e[0], label='NE, In_e', color='g')\n",
    "plot(Mn.t/ms, Mn.I_i[0], label='NE, In_i', color='r')\n",
    "legend()\n",
    "\n",
    "subplot(212)\n",
    "plot(Mn.t/ms, Mn.v[NE], label='vI', color='b')\n",
    "plt.legend(loc=4)\n",
    "\n",
    "plt.twinx()\n",
    "plot(Mn.t/ms, Mn.I_e[NE], label='NI, In_e', color='g')\n",
    "plot(Mn.t/ms, Mn.I_i[NE], label='NI, In_i', color='r')\n",
    "legend(loc='best')\n",
    "xlabel('Time (ms)');"
   ]
  },
  {
   "cell_type": "code",
   "execution_count": null,
   "metadata": {},
   "outputs": [],
   "source": [
    "NE=1\n",
    "fig = plt.figure(figsize=(15, 5))\n",
    "ax = plt.subplot(111)\n",
    "ax.plot(Mn.t/ms, Mn.v[NE], label='v', color='b')\n",
    "ax.set_ylabel('voltage [a.u]', color='blue')\n",
    "ax.tick_params(axis='y', colors='blue')\n",
    "plt.legend(loc=4, prop={'size': 15})\n",
    "\n",
    "plt.twinx()\n",
    "plt.plot(Mn.t/ms, Mn.I_e[NE], label='$I_E$', color='g')\n",
    "plt.plot(Mn.t/ms, Mn.I_i[NE], label='$I_I$', color='r')\n",
    "plt.tick_params(axis='y', colors='red')\n",
    "plt.ylabel('current [a.u.]', color='red')\n",
    "plt.legend(prop={'size': 15});\n",
    "plt.savefig('../../../talk/figures/balanced_currents.pdf')"
   ]
  },
  {
   "cell_type": "code",
   "execution_count": null,
   "metadata": {},
   "outputs": [],
   "source": [
    "plt.figure(figsize=(15, 5))\n",
    "mask = sme.i < 400\n",
    "plot(sme.t[mask]/ms, sme.i[mask], '.b', markersize=2)\n",
    "#plot(smi.t/ms, smi.i + NE, '.r', markersize=2)\n",
    "xlabel('Time (ms)')\n",
    "ylabel('Neuron index')\n",
    "plt.tight_layout()\n",
    "plt.savefig('../../../talk/figures/irregular_firing.pdf');"
   ]
  },
  {
   "cell_type": "code",
   "execution_count": null,
   "metadata": {},
   "outputs": [],
   "source": [
    "plt.figure(figsize=(15, 5))\n",
    "plt.plot(rm.t, rm.rate);"
   ]
  },
  {
   "cell_type": "code",
   "execution_count": null,
   "metadata": {
    "collapsed": true
   },
   "outputs": [],
   "source": []
  }
 ],
 "metadata": {
  "anaconda-cloud": {},
  "kernelspec": {
   "display_name": "Python [conda env:bccn_programming]",
   "language": "python",
   "name": "conda-env-bccn_programming-py"
  },
  "language_info": {
   "codemirror_mode": {
    "name": "ipython",
    "version": 3
   },
   "file_extension": ".py",
   "mimetype": "text/x-python",
   "name": "python",
   "nbconvert_exporter": "python",
   "pygments_lexer": "ipython3",
   "version": "3.5.2"
  }
 },
 "nbformat": 4,
 "nbformat_minor": 2
}
