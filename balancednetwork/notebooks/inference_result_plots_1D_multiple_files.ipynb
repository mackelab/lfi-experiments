{
 "cells": [
  {
   "cell_type": "code",
   "execution_count": null,
   "metadata": {
    "collapsed": true
   },
   "outputs": [],
   "source": [
    "import matplotlib.pyplot as plt\n",
    "import matplotlib as mpl\n",
    "%matplotlib inline\n",
    "import delfi.distribution as dd\n",
    "import numpy as np\n",
    "import pickle\n",
    "import time\n",
    "import scipy.stats as st\n",
    "import os \n",
    "from lfimodels.balancednetwork.BalancedNetworkSimulator import BalancedNetwork\n",
    "from lfimodels.balancednetwork.BalancedNetworkStats import BalancedNetworkStats\n",
    "\n",
    "mpl_params = {'legend.fontsize': 12,\n",
    "                      'axes.titlesize': 20,\n",
    "                      'axes.labelsize': 17,\n",
    "                      'xtick.labelsize': 12,\n",
    "                      'ytick.labelsize': 12,\n",
    "             'figure.figsize' : (15, 5)}\n",
    "\n",
    "mpl.rcParams.update(mpl_params)"
   ]
  },
  {
   "cell_type": "code",
   "execution_count": null,
   "metadata": {
    "collapsed": true
   },
   "outputs": [],
   "source": [
    "path_to_save_folder = '../figures/'\n",
    "save_figure = True\n",
    "\n",
    "inference_method = 'snpe'\n",
    "fileformat = '.png'\n",
    "dpi = 300\n",
    "filenames = ['1513818194315553_snpe_cJee_r5_n1000_rcl3', \n",
    "             '15143391987920077_snpe_cJei_r10_n1000_rcl5',\n",
    "             '15140527888578181_snpe_cJie_r10_n1000_rcl5',\n",
    "             '15140889486790657_snpe_cJii_r10_n1000_rcl5']\n",
    "\n",
    "titles = [r'inference on $w_{ee}$', \n",
    "          r'inference on $w_{ei}$',           \n",
    "          r'inference on $w_{ie}$',\n",
    "          r'inference on $w_{ii}$']\n",
    "\"\"\"\n",
    "titles = [r'2 rounds á 2500 samples, CL on', \n",
    "         '2 rounds á 2500 samples, CL off', \n",
    "         '5 rounds á 1000 samples, CL after round 3', \n",
    "         '10 rounds á 500 samples, CL after round 5']\n",
    "\"\"\"\n",
    "\n",
    "#param_names = [r'$w_{ee}$'] * len(filenames)\n",
    "param_names = [r'$w_{ee}$', '$w_{ei}$', r'$w_{ie}$', r'$w_{ii}$']"
   ]
  },
  {
   "cell_type": "markdown",
   "metadata": {},
   "source": [
    "## Plot single figure with posterior over rounds "
   ]
  },
  {
   "cell_type": "code",
   "execution_count": null,
   "metadata": {
    "scrolled": true
   },
   "outputs": [],
   "source": [
    "plt.figure(figsize=(15, 10))\n",
    "\n",
    "for idx, filename in enumerate(filenames): \n",
    "    time_str = filename[:filename.find('_')]\n",
    "    fullname = os.path.join('../results', filename, filename + '.p')\n",
    "    param_name = param_names[idx]\n",
    "\n",
    "    # load data \n",
    "    with open(fullname, 'rb') as handle:\n",
    "        result_dict = pickle.load(handle)\n",
    "\n",
    "#    print(result_dict.keys())\n",
    "    # unpack values \n",
    "    try: \n",
    "        true_params, stats_obs, nrounds, ntrain, posterior, out, trn_data, prior, posteriors = result_dict.values()\n",
    "        theta = np.linspace(prior.lower[0], prior.upper[0], 1000)\n",
    "    except ValueError:\n",
    "        try: \n",
    "            true_params, stats_obs, nrounds, ntrain, posterior, out, trn_data, prior = result_dict.values()            \n",
    "            theta = np.linspace(prior.lower[0], prior.upper[0], 1000)\n",
    "        except ValueError: \n",
    "            true_params, stats_obs, nrounds, ntrain, posterior, out, trn_data= result_dict.values()            \n",
    "            theta = np.linspace(0, 5, 1000)\n",
    "\n",
    "    nrounds = len(out)\n",
    "\n",
    "\n",
    "    plt.subplot(2, 2, idx + 1)\n",
    "    \n",
    "    #theta = np.linspace(0.95 * true_params[0], 1.05 * true_params[0], 1000)\n",
    "    #plt.ylim([-20, 370])\n",
    "    plt.title(titles[idx])\n",
    "            \n",
    "    for idx2, posterior in enumerate(posteriors): \n",
    "        n_components = len(posterior.a)\n",
    "        means = [posterior.xs[c].m for c in range(n_components)]\n",
    "        Ss = [posterior.xs[c].S for c in range(n_components)]\n",
    "\n",
    "        sub_means = [[means[c][0]] for c in range(n_components)]\n",
    "        sub_cov = np.asarray([Ss[c] for c in range(n_components)])\n",
    "        pdf = dd.mixture.MoG(a=posterior.a, ms=sub_means, Ss=sub_cov)\n",
    "        post_pdf = pdf.eval(theta[:, np.newaxis], log=False)\n",
    "\n",
    "        # final posterior\n",
    "        if idx2 == nrounds-1: \n",
    "            plt.plot(theta, post_pdf, lw=2., label='round {}, cl'.format(idx2 + 1))\n",
    "        # intermediate posteriors \n",
    "        elif idx >= 1:\n",
    "            if idx2 > 4:\n",
    "                plt.plot(theta, post_pdf, label='round {}, cl'.format(idx2 + 1), alpha=.3, linestyle='-')\n",
    "            else:\n",
    "                plt.plot(theta, post_pdf, alpha=.6, linestyle='--', label='round {}'.format(idx2 + 1))\n",
    "        elif idx==0: \n",
    "            if idx2 >= 3:\n",
    "                plt.plot(theta, post_pdf, label='round {}, cl'.format(idx2 + 1), alpha=.3, linestyle='-')\n",
    "            else:\n",
    "                plt.plot(theta, post_pdf, alpha=.6, linestyle='--', label='round {}'.format(idx2 + 1))\n",
    "        else:\n",
    "            plt.plot(theta, post_pdf, alpha=.6, linestyle='--')       \n",
    "\n",
    "    plt.xlabel(param_name)\n",
    "\n",
    "    plt.ylabel(r'$\\hat{p}( \\theta | x=x_{o})$')\n",
    "    \n",
    "    plt.axvline(x=true_params[0], label=r'observed {}'.format(param_name), linestyle='--', color='k')\n",
    "    plt.legend()\n",
    "    \n",
    "if len(filenames) > 1: \n",
    "    filename = time_str + '_combined_results_wxy_clustered'\n",
    "    \n",
    "plt.tight_layout()\n",
    "\n",
    "if save_figure and os.path.exists(path_to_save_folder): \n",
    "    plt.savefig(os.path.join(path_to_save_folder, filename + fileformat), dpi=dpi);"
   ]
  },
  {
   "cell_type": "markdown",
   "metadata": {},
   "source": [
    "## Plotting the summary stats "
   ]
  },
  {
   "cell_type": "code",
   "execution_count": null,
   "metadata": {
    "collapsed": true
   },
   "outputs": [],
   "source": [
    "plt.figure(figsize=(15, 10))\n",
    "p = trn_data[0][0].flatten()\n",
    "ss = trn_data[0][1]\n",
    "titles = ['Fano factor', 'mean rate', 'kurtosis', 'positive pairwise corr', \n",
    "          '0 lag auto/cross corr', '10 lag auto/cross corr', '20 lag auto/cross corr']\n",
    "ylabels = ['ff', 'rate', 'kurt', 'corr prop',\n",
    "                                    'corr0',\n",
    "                                    'corr10',\n",
    "                                    'corr20']\n",
    "\n",
    "labels = ['ffE', 'ffI', 'rateE', 'rateI', 'kurtE', 'kurtI', 'corrE', 'corrI',\n",
    "                                    'EE', 'EI', 'II',\n",
    "                                    'EE', 'EI', 'IE', 'II',\n",
    "                                    'EE', 'EI', 'IE', 'II']\n",
    "plot_idx = [1, 1, 2, 2, 3, 3, 4, 4, 5, 5, 5, 6, 6, 6, 6, 7, 7, 7, 7]\n",
    "\n",
    "for idx, s in enumerate(ss.T): \n",
    "    plt.subplot(3, 3, plot_idx[idx])\n",
    "    plt.plot(p, s, 'o', label=labels[idx], alpha=.6)\n",
    "    plt.title(titles[plot_idx[idx] - 1])\n",
    "    plt.ylabel(ylabels[plot_idx[idx] - 1])\n",
    "    if idx > 7: \n",
    "        plt.xlabel(param_name)\n",
    "    plt.legend()\n",
    "    plt.axvline(x=true_params[0])\n",
    "plt.tight_layout()\n",
    "\n",
    "filename = time_str + '_{}_summary_stats_r{}_ntrain{}'.format(inference_method, nrounds, ntrain)\n",
    "if save_figure and os.path.exists(path_to_save_folder): \n",
    "    plt.savefig(os.path.join(path_to_save_folder, filename + fileformat), dpi=200);"
   ]
  },
  {
   "cell_type": "code",
   "execution_count": null,
   "metadata": {
    "collapsed": true
   },
   "outputs": [],
   "source": [
    "posterior.mean"
   ]
  },
  {
   "cell_type": "markdown",
   "metadata": {},
   "source": [
    "## Posterior predictive checking \n",
    "\n",
    "Generate samples from the posterior and simulate them. The resulting data should be near the observed data. "
   ]
  },
  {
   "cell_type": "code",
   "execution_count": null,
   "metadata": {
    "collapsed": true
   },
   "outputs": [],
   "source": [
    "m = BalancedNetwork(inference_param='wii', n_servers=3, duration=3., first_port=8010, \n",
    "                    save_raster_plots=False) \n",
    "s = BalancedNetworkStats(n_workers=2)"
   ]
  },
  {
   "cell_type": "code",
   "execution_count": null,
   "metadata": {
    "collapsed": true
   },
   "outputs": [],
   "source": [
    "# calculate mean of mixture \n",
    "mean = np.sum([a * m[0] for a, m in zip(posterior.a, means)])\n",
    "# calculate variance of mixture \n",
    "sum_squared = np.sum([a * m[0]**2 for a, m in zip(posterior.a, means)])\n",
    "squared_sum = mean**2\n",
    "std = np.sum([a * Ss[0][0] for a, m in zip(posterior.a, Ss)]) + sum_squared - squared_sum"
   ]
  },
  {
   "cell_type": "code",
   "execution_count": null,
   "metadata": {
    "collapsed": true
   },
   "outputs": [],
   "source": [
    "m.start_server()\n",
    "# generate theta +-3, 2, 1 0 stds away from mode\n",
    "thetas = [mean + i * std for i in [-1, 0, 1]]\n",
    "sum_stats = []\n",
    "# simulate and collect sum stats\n",
    "data = m.gen(thetas)"
   ]
  },
  {
   "cell_type": "code",
   "execution_count": null,
   "metadata": {
    "collapsed": true
   },
   "outputs": [],
   "source": [
    "sum_stats = s.calc_all(data)"
   ]
  },
  {
   "cell_type": "markdown",
   "metadata": {},
   "source": [
    "## Compare only simulation of mean posterior vs. original parameters"
   ]
  },
  {
   "cell_type": "code",
   "execution_count": null,
   "metadata": {
    "collapsed": true
   },
   "outputs": [],
   "source": [
    "jee = posterior.mean[0]\n",
    "\n",
    "labels = ['ffE', 'ffI', 'rateE', 'rateI', 'kurtE', 'kurtI', 'corrE', 'corrI',\n",
    "                                    '0EE', '0EI', '0II',\n",
    "                                    '10EE', '10EI', '10IE', '10II',\n",
    "                                    '20EE', '20EI', '20IE', '20II']\n",
    "#plt.plot(sum_stats[0].flatten(), '-o', label='- 1 SD posterior')\n",
    "plt.plot(sum_stats[1].flatten()[[0, 1, 2, 3, 5, 6, 7, 8, 9, 10, 11, 12, 13, 14, 15, 16, 17, 18]], '-o', label='mean posterior')\n",
    "#plt.plot(sum_stats[2].flatten(), '-o', label='+ 1 SD posterior')\n",
    "ax = plt.plot(stats_obs.T, '--*', label='observed')\n",
    "plt.xticks(np.arange(19), labels)\n",
    "plt.gca().tick_params(axis='x')\n",
    "plt.legend()\n",
    "\n",
    "filename = '{}_ppch_ntrain{}_{}'.format(inference_method, ntrain, param_name)\n",
    "\n",
    "plt.tight_layout()\n",
    "if save_figure and os.path.exists(path_to_save_folder): \n",
    "    plt.savefig('figures/' + filename + fileformat, dpi=dpi);"
   ]
  },
  {
   "cell_type": "code",
   "execution_count": null,
   "metadata": {
    "collapsed": true
   },
   "outputs": [],
   "source": [
    "# plot the resulting stats with the observed stats \n",
    "plt.figure(figsize=(8, 4))\n",
    "sum_stats = np.array(sum_stats).squeeze()\n",
    "plt.axvline(x=mean, linestyle='--', color='C4')\n",
    "plt.axvline(x=true_params, linestyle='--', color='C5')\n",
    "\n",
    "plt.plot(thetas, sum_stats, '-o')\n",
    "plt.plot(thetas[1], stats_obs, '*')\n",
    "\n",
    "#plt.legend(['posterior mean', 'true theta', 'ff1', 'rate mean', 'kurtosis', 'rel corr'])\n",
    "plt.xlabel('theta')\n",
    "plt.ylabel('stats')\n",
    "plt.title('Summary stats +-3 std around the posterior mean')\n",
    "\n",
    "filename = '{}_ppch_r{}_ntrain{}'.format(inference_method, nrounds, ntrain)\n",
    "plt.tight_layout()\n",
    "if save_figure and os.path.exists(path_to_save_folder): \n",
    "    plt.savefig('figures/' + filename + fileformat, dpi=dpi);"
   ]
  },
  {
   "cell_type": "code",
   "execution_count": null,
   "metadata": {
    "collapsed": true
   },
   "outputs": [],
   "source": []
  }
 ],
 "metadata": {
  "kernelspec": {
   "display_name": "Python [default]",
   "language": "python",
   "name": "python3"
  },
  "language_info": {
   "codemirror_mode": {
    "name": "ipython",
    "version": 3
   },
   "file_extension": ".py",
   "mimetype": "text/x-python",
   "name": "python",
   "nbconvert_exporter": "python",
   "pygments_lexer": "ipython3",
   "version": "3.6.2"
  }
 },
 "nbformat": 4,
 "nbformat_minor": 2
}
