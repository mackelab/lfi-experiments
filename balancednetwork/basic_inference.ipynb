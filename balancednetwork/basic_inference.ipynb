{
 "cells": [
  {
   "cell_type": "code",
   "execution_count": 4,
   "metadata": {},
   "outputs": [
    {
     "ename": "ModuleNotFoundError",
     "evalue": "No module named 'delfi'",
     "output_type": "error",
     "traceback": [
      "\u001b[0;31m---------------------------------------------------------------------------\u001b[0m",
      "\u001b[0;31mModuleNotFoundError\u001b[0m                       Traceback (most recent call last)",
      "\u001b[0;32m<ipython-input-4-54691411bcd9>\u001b[0m in \u001b[0;36m<module>\u001b[0;34m()\u001b[0m\n\u001b[0;32m----> 1\u001b[0;31m \u001b[0;32mimport\u001b[0m \u001b[0mdelfi\u001b[0m\u001b[0;34m.\u001b[0m\u001b[0mdistribution\u001b[0m \u001b[0;32mas\u001b[0m \u001b[0mdd\u001b[0m\u001b[0;34m\u001b[0m\u001b[0m\n\u001b[0m\u001b[1;32m      2\u001b[0m \u001b[0;32mimport\u001b[0m \u001b[0mdelfi\u001b[0m\u001b[0;34m.\u001b[0m\u001b[0mgenerator\u001b[0m \u001b[0;32mas\u001b[0m \u001b[0mdg\u001b[0m\u001b[0;34m\u001b[0m\u001b[0m\n\u001b[1;32m      3\u001b[0m \u001b[0;32mimport\u001b[0m \u001b[0mdelfi\u001b[0m\u001b[0;34m.\u001b[0m\u001b[0minference\u001b[0m \u001b[0;32mas\u001b[0m \u001b[0minfer\u001b[0m\u001b[0;34m\u001b[0m\u001b[0m\n\u001b[1;32m      4\u001b[0m \u001b[0;32mimport\u001b[0m \u001b[0mmatplotlib\u001b[0m\u001b[0;34m.\u001b[0m\u001b[0mpyplot\u001b[0m \u001b[0;32mas\u001b[0m \u001b[0mplt\u001b[0m\u001b[0;34m\u001b[0m\u001b[0m\n\u001b[1;32m      5\u001b[0m \u001b[0mget_ipython\u001b[0m\u001b[0;34m(\u001b[0m\u001b[0;34m)\u001b[0m\u001b[0;34m.\u001b[0m\u001b[0mmagic\u001b[0m\u001b[0;34m(\u001b[0m\u001b[0;34m'matplotlib inline'\u001b[0m\u001b[0;34m)\u001b[0m\u001b[0;34m\u001b[0m\u001b[0m\n",
      "\u001b[0;31mModuleNotFoundError\u001b[0m: No module named 'delfi'"
     ]
    }
   ],
   "source": [
    "import delfi.distribution as dd\n",
    "import delfi.generator as dg\n",
    "import delfi.inference as infer\n",
    "import matplotlib.pyplot as plt\n",
    "%matplotlib inline\n",
    "import numpy as np\n",
    "\n",
    "from lfimodels.balancednetwork.BalancedNetwork import BalancedNetwork\n",
    "from lfimodels.balancednetwork.BalancedNetworkStats import BalancedNetworkStats"
   ]
  },
  {
   "cell_type": "markdown",
   "metadata": {},
   "source": [
    "### Define the objects we need for the simulation: \n",
    "\n",
    "model, prior, summarystats, a generator to combine it all\n",
    "\n",
    "The parameter we use for the balanced network simulation is the clustering coef $R_{ee}$. For now we want this to be very close around 1. "
   ]
  },
  {
   "cell_type": "code",
   "execution_count": 2,
   "metadata": {
    "collapsed": true
   },
   "outputs": [],
   "source": [
    "n_params = 1\n",
    "\n",
    "m = BalancedNetwork(dim=n_params, path_to_brian1='/Users/Jan/anaconda3/envs/brian1/bin/python2')\n",
    "p = dd.Gaussian(m=2 * np.ones((n_params, )), S=0.1 * np.eye(n_params))\n",
    "s = BalancedNetworkStats()\n",
    "g = dg.Default(model=m, prior=p, summary=s)"
   ]
  },
  {
   "cell_type": "markdown",
   "metadata": {},
   "source": [
    "### Make a test by running one sample = one simulation \n",
    "\n",
    "The generator returns the params used and the correspoding stats: the theta-x tuples used by the MDN. "
   ]
  },
  {
   "cell_type": "code",
   "execution_count": null,
   "metadata": {
    "collapsed": true
   },
   "outputs": [],
   "source": [
    "m.start_server()\n",
    "params, stats = g.gen(1)\n",
    "m.stop_server()"
   ]
  },
  {
   "cell_type": "code",
   "execution_count": null,
   "metadata": {
    "collapsed": true
   },
   "outputs": [],
   "source": [
    "print(params.shape, stats.shape)"
   ]
  },
  {
   "cell_type": "code",
   "execution_count": null,
   "metadata": {
    "collapsed": true
   },
   "outputs": [],
   "source": [
    "plt.plot(params, stats, 'o')\n",
    "plt.legend(['rate', 'ff', 'rho']);"
   ]
  },
  {
   "cell_type": "code",
   "execution_count": null,
   "metadata": {},
   "outputs": [
    {
     "name": "stdout",
     "output_type": "stream",
     "text": [
      "simulate on the server with ree=1.9501058299809186 for 1 repetition(s)\n",
      "time elapsed for network simulation: 17.0 s\n",
      "simulate on the server with ree=1.8895186378892388 for 1 repetition(s)\n",
      "time elapsed for network simulation: 18.4 s\n",
      "simulate on the server with ree=1.874432209043406 for 1 repetition(s)\n",
      "time elapsed for network simulation: 17.7 s\n",
      "simulate on the server with ree=2.081364327458768 for 1 repetition(s)\n",
      "time elapsed for network simulation: 17.3 s\n",
      "simulate on the server with ree=1.5364369288980466 for 1 repetition(s)\n",
      "time elapsed for network simulation: 16.7 s\n",
      "simulate on the server with ree=2.1200090556402404 for 1 repetition(s)\n",
      "time elapsed for network simulation: 17.7 s\n",
      "simulate on the server with ree=1.731974451071969 for 1 repetition(s)\n",
      "time elapsed for network simulation: 17.8 s\n",
      "simulate on the server with ree=1.9308075096915294 for 1 repetition(s)\n",
      "time elapsed for network simulation: 17.4 s\n",
      "simulate on the server with ree=1.603010773830095 for 1 repetition(s)\n",
      "time elapsed for network simulation: 17.0 s\n",
      "simulate on the server with ree=2.3649272094204 for 1 repetition(s)\n",
      "time elapsed for network simulation: 17.0 s\n",
      "simulate on the server with ree=2.297142056680374 for 1 repetition(s)\n",
      "time elapsed for network simulation: 17.1 s\n",
      "simulate on the server with ree=2.087308808063506 for 1 repetition(s)\n",
      "time elapsed for network simulation: 16.8 s\n",
      "simulate on the server with ree=1.654468922009268 for 1 repetition(s)\n",
      "time elapsed for network simulation: 16.6 s\n",
      "simulate on the server with ree=1.5374082424537834 for 1 repetition(s)\n",
      "time elapsed for network simulation: 16.7 s\n",
      "simulate on the server with ree=1.5497256739878589 for 1 repetition(s)\n",
      "time elapsed for network simulation: 16.6 s\n",
      "simulate on the server with ree=1.8021204360188507 for 1 repetition(s)\n",
      "time elapsed for network simulation: 17.8 s\n",
      "simulate on the server with ree=2.077747808056804 for 1 repetition(s)\n",
      "time elapsed for network simulation: 17.1 s\n",
      "simulate on the server with ree=2.0602239208415503 for 1 repetition(s)\n",
      "time elapsed for network simulation: 16.9 s\n",
      "simulate on the server with ree=1.8153047389248014 for 1 repetition(s)\n",
      "time elapsed for network simulation: 16.7 s\n",
      "simulate on the server with ree=2.471878101158577 for 1 repetition(s)\n",
      "time elapsed for network simulation: 17.0 s\n",
      "simulate on the server with ree=2.3268914951299657 for 1 repetition(s)\n",
      "time elapsed for network simulation: 18.0 s\n",
      "simulate on the server with ree=1.8993017646784427 for 1 repetition(s)\n",
      "time elapsed for network simulation: 17.2 s\n",
      "simulate on the server with ree=1.5750036385043131 for 1 repetition(s)\n",
      "time elapsed for network simulation: 17.3 s\n",
      "simulate on the server with ree=1.6577014744004437 for 1 repetition(s)\n",
      "time elapsed for network simulation: 18.6 s\n",
      "simulate on the server with ree=1.578920622824184 for 1 repetition(s)\n",
      "time elapsed for network simulation: 17.1 s\n",
      "simulate on the server with ree=1.9435248875073652 for 1 repetition(s)\n",
      "time elapsed for network simulation: 17.4 s\n",
      "simulate on the server with ree=2.0384063804542016 for 1 repetition(s)\n",
      "time elapsed for network simulation: 18.2 s\n",
      "simulate on the server with ree=1.9908067106828116 for 1 repetition(s)\n",
      "time elapsed for network simulation: 17.8 s\n",
      "simulate on the server with ree=1.8663175387545445 for 1 repetition(s)\n",
      "time elapsed for network simulation: 18.0 s\n",
      "simulate on the server with ree=2.5833029246085393 for 1 repetition(s)\n",
      "time elapsed for network simulation: 17.7 s\n",
      "simulate on the server with ree=1.6723075055809713 for 1 repetition(s)\n",
      "time elapsed for network simulation: 16.9 s\n",
      "simulate on the server with ree=1.8637651233597086 for 1 repetition(s)\n",
      "time elapsed for network simulation: 17.2 s\n",
      "simulate on the server with ree=2.0554648269546445 for 1 repetition(s)\n",
      "time elapsed for network simulation: 17.2 s\n",
      "simulate on the server with ree=1.7035464124709465 for 1 repetition(s)\n",
      "time elapsed for network simulation: 16.9 s\n",
      "simulate on the server with ree=2.203733189729535 for 1 repetition(s)\n",
      "time elapsed for network simulation: 16.8 s\n",
      "simulate on the server with ree=1.5102863657374068 for 1 repetition(s)\n",
      "time elapsed for network simulation: 17.2 s\n",
      "simulate on the server with ree=1.8567835347511814 for 1 repetition(s)\n",
      "time elapsed for network simulation: 16.7 s\n",
      "simulate on the server with ree=1.7325534135642733 for 1 repetition(s)\n",
      "time elapsed for network simulation: 17.1 s\n",
      "simulate on the server with ree=1.5353436083433893 for 1 repetition(s)\n",
      "time elapsed for network simulation: 16.5 s\n",
      "simulate on the server with ree=2.0624317201143554 for 1 repetition(s)\n",
      "time elapsed for network simulation: 16.8 s\n",
      "simulate on the server with ree=2.1177829415466563 for 1 repetition(s)\n",
      "time elapsed for network simulation: 16.6 s\n",
      "simulate on the server with ree=2.254751253643731 for 1 repetition(s)\n",
      "time elapsed for network simulation: 17.1 s\n",
      "simulate on the server with ree=2.282722087262993 for 1 repetition(s)\n",
      "time elapsed for network simulation: 17.4 s\n",
      "simulate on the server with ree=1.8899549564096896 for 1 repetition(s)\n",
      "time elapsed for network simulation: 17.6 s\n",
      "simulate on the server with ree=2.0879700750561065 for 1 repetition(s)\n",
      "time elapsed for network simulation: 18.3 s\n",
      "simulate on the server with ree=2.2158063101733902 for 1 repetition(s)\n",
      "time elapsed for network simulation: 16.9 s\n",
      "simulate on the server with ree=2.2320879450758584 for 1 repetition(s)\n",
      "time elapsed for network simulation: 17.4 s\n",
      "simulate on the server with ree=1.653642264179506 for 1 repetition(s)\n",
      "time elapsed for network simulation: 16.7 s\n",
      "simulate on the server with ree=2.160097834460643 for 1 repetition(s)\n",
      "time elapsed for network simulation: 16.9 s\n",
      "simulate on the server with ree=2.014317350622837 for 1 repetition(s)\n",
      "time elapsed for network simulation: 16.6 s\n",
      "simulate on the server with ree=1.972128349363033 for 1 repetition(s)\n",
      "time elapsed for network simulation: 16.7 s\n",
      "simulate on the server with ree=1.9499084297446931 for 1 repetition(s)\n",
      "time elapsed for network simulation: 16.9 s\n",
      "simulate on the server with ree=1.9281086189606824 for 1 repetition(s)\n",
      "time elapsed for network simulation: 17.9 s\n",
      "simulate on the server with ree=1.9838538644424752 for 1 repetition(s)\n",
      "time elapsed for network simulation: 16.6 s\n",
      "simulate on the server with ree=2.1693541897663073 for 1 repetition(s)\n",
      "time elapsed for network simulation: 16.9 s\n",
      "simulate on the server with ree=2.402115011663658 for 1 repetition(s)\n",
      "time elapsed for network simulation: 17.3 s\n",
      "simulate on the server with ree=2.795631287964136 for 1 repetition(s)\n",
      "time elapsed for network simulation: 17.9 s\n",
      "simulate on the server with ree=1.8308861534080338 for 1 repetition(s)\n",
      "time elapsed for network simulation: 17.4 s\n",
      "simulate on the server with ree=2.5441075371493014 for 1 repetition(s)\n",
      "time elapsed for network simulation: 18.4 s\n",
      "simulate on the server with ree=2.1178959718627275 for 1 repetition(s)\n",
      "time elapsed for network simulation: 17.5 s\n",
      "simulate on the server with ree=2.1901860394089496 for 1 repetition(s)\n",
      "time elapsed for network simulation: 17.0 s\n",
      "simulate on the server with ree=1.916926331726161 for 1 repetition(s)\n",
      "time elapsed for network simulation: 16.8 s\n",
      "simulate on the server with ree=2.088502283967052 for 1 repetition(s)\n",
      "time elapsed for network simulation: 18.1 s\n",
      "simulate on the server with ree=2.195995773625547 for 1 repetition(s)\n",
      "time elapsed for network simulation: 16.8 s\n",
      "simulate on the server with ree=2.0737589673348875 for 1 repetition(s)\n",
      "time elapsed for network simulation: 17.4 s\n",
      "simulate on the server with ree=1.9148869484530777 for 1 repetition(s)\n",
      "time elapsed for network simulation: 17.4 s\n",
      "simulate on the server with ree=1.8734768079804203 for 1 repetition(s)\n",
      "time elapsed for network simulation: 17.0 s\n",
      "simulate on the server with ree=2.246651351325498 for 1 repetition(s)\n",
      "time elapsed for network simulation: 17.0 s\n",
      "simulate on the server with ree=2.484110667784775 for 1 repetition(s)\n",
      "time elapsed for network simulation: 17.3 s\n",
      "simulate on the server with ree=1.8316880423946054 for 1 repetition(s)\n",
      "time elapsed for network simulation: 17.2 s\n",
      "simulate on the server with ree=1.9206547904847937 for 1 repetition(s)\n",
      "time elapsed for network simulation: 17.1 s\n",
      "simulate on the server with ree=1.7425638555983063 for 1 repetition(s)\n"
     ]
    },
    {
     "name": "stdout",
     "output_type": "stream",
     "text": [
      "time elapsed for network simulation: 16.7 s\n",
      "simulate on the server with ree=2.16335703338378 for 1 repetition(s)\n",
      "time elapsed for network simulation: 16.8 s\n",
      "simulate on the server with ree=2.3469979626833624 for 1 repetition(s)\n",
      "time elapsed for network simulation: 17.1 s\n",
      "simulate on the server with ree=1.5973865055908327 for 1 repetition(s)\n",
      "time elapsed for network simulation: 17.9 s\n",
      "simulate on the server with ree=2.6053399060511913 for 1 repetition(s)\n",
      "time elapsed for network simulation: 17.3 s\n",
      "simulate on the server with ree=1.994215289750308 for 1 repetition(s)\n",
      "time elapsed for network simulation: 17.0 s\n",
      "simulate on the server with ree=1.6748683987183233 for 1 repetition(s)\n",
      "time elapsed for network simulation: 17.5 s\n",
      "simulate on the server with ree=2.3109795620457136 for 1 repetition(s)\n",
      "time elapsed for network simulation: 18.1 s\n",
      "simulate on the server with ree=1.8304697308124853 for 1 repetition(s)\n",
      "time elapsed for network simulation: 17.8 s\n",
      "simulate on the server with ree=2.0497292363607706 for 1 repetition(s)\n",
      "time elapsed for network simulation: 21.0 s\n",
      "simulate on the server with ree=2.340202283258522 for 1 repetition(s)\n",
      "time elapsed for network simulation: 18.3 s\n",
      "simulate on the server with ree=2.2013013832771446 for 1 repetition(s)\n"
     ]
    }
   ],
   "source": [
    "# set up inference\n",
    "m.start_server()\n",
    "res = infer.Basic(g)\n",
    "\n",
    "# run with N samples, for N=100 this will take 2000s = 0.6h\n",
    "out = res.run(100, epochs=1000, minibatch=10)\n",
    "m.stop_server()"
   ]
  },
  {
   "cell_type": "code",
   "execution_count": null,
   "metadata": {
    "collapsed": true
   },
   "outputs": [],
   "source": [
    "plt.plot(out['trn_iter'], out['trn_val'])"
   ]
  },
  {
   "cell_type": "code",
   "execution_count": null,
   "metadata": {
    "collapsed": true
   },
   "outputs": [],
   "source": [
    "posterior = res.predict(np.array([[3, 1, 0]]))"
   ]
  },
  {
   "cell_type": "code",
   "execution_count": null,
   "metadata": {
    "collapsed": true
   },
   "outputs": [],
   "source": [
    "posterior.xs[0].m"
   ]
  },
  {
   "cell_type": "code",
   "execution_count": null,
   "metadata": {
    "collapsed": true
   },
   "outputs": [],
   "source": [
    "posterior.xs[0].S"
   ]
  },
  {
   "cell_type": "code",
   "execution_count": null,
   "metadata": {
    "collapsed": true
   },
   "outputs": [],
   "source": []
  }
 ],
 "metadata": {
  "kernelspec": {
   "display_name": "Python [conda env:mackelab]",
   "language": "python",
   "name": "conda-env-mackelab-py"
  },
  "language_info": {
   "codemirror_mode": {
    "name": "ipython",
    "version": 3
   },
   "file_extension": ".py",
   "mimetype": "text/x-python",
   "name": "python",
   "nbconvert_exporter": "python",
   "pygments_lexer": "ipython3",
   "version": "3.6.1"
  }
 },
 "nbformat": 4,
 "nbformat_minor": 2
}
