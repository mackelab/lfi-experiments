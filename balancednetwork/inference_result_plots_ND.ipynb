{
 "cells": [
  {
   "cell_type": "code",
   "execution_count": null,
   "metadata": {
    "collapsed": true
   },
   "outputs": [],
   "source": [
    "import matplotlib.pyplot as plt\n",
    "%matplotlib inline\n",
    "import numpy as np\n",
    "import pickle\n",
    "import time\n",
    "import scipy.stats as st\n",
    "import os \n",
    "from lfimodels.balancednetwork.BalancedNetworkSimulator import BalancedNetwork"
   ]
  },
  {
   "cell_type": "code",
   "execution_count": null,
   "metadata": {
    "collapsed": true
   },
   "outputs": [],
   "source": [
    "inference_method = 'basic'\n",
    "filename = '15029961421065884_basic_ntrain500'\n",
    "\n",
    "save_figure = True\n",
    "path_to_save_folder = 'figures/'\n",
    "\n",
    "time_str = filename[:filename.find('_')]\n",
    "filename.find('_')\n",
    "fullname = 'data/' + filename + '.p'"
   ]
  },
  {
   "cell_type": "code",
   "execution_count": null,
   "metadata": {
    "collapsed": true
   },
   "outputs": [],
   "source": [
    "dim_params = 4\n",
    "assert dim_params > 1, 'this notebook is for inference on more than 1 parameter.'\n",
    "m = BalancedNetwork(dim=dim_params, first_port=8010, verbose=False, n_servers=3)"
   ]
  },
  {
   "cell_type": "code",
   "execution_count": null,
   "metadata": {
    "collapsed": true
   },
   "outputs": [],
   "source": [
    "# load data \n",
    "with open(fullname, 'rb') as handle:\n",
    "    result_dict = pickle.load(handle)"
   ]
  },
  {
   "cell_type": "code",
   "execution_count": null,
   "metadata": {
    "collapsed": true
   },
   "outputs": [],
   "source": [
    "# unpack values \n",
    "true_params, stats_obs, nrounds, ntrain, posterior = result_dict.values()\n",
    "mean, std = posterior.values()"
   ]
  },
  {
   "cell_type": "markdown",
   "metadata": {},
   "source": [
    "## Compare to true parameter \n",
    "\n",
    "We have generated the observed data ourselves so we do have the true parameter. The mean of the posterior should be close to it when evaluated for $x=x_{obs}$"
   ]
  },
  {
   "cell_type": "code",
   "execution_count": null,
   "metadata": {},
   "outputs": [],
   "source": [
    "plt.figure(figsize=(15, 10))\n",
    "theta = np.linspace(0.01, 0.1, 100)\n",
    "weight_labels = ['$J^{EE}$', '$J^{EI}$', '$J^{IE}$', '$J^{II}$']\n",
    "plot_idx = 1\n",
    "for i in range(dim_params): \n",
    "    for j in range(dim_params): \n",
    "        if i==j: \n",
    "            plt.subplot(dim_params, dim_params, plot_idx)\n",
    "            post_pdf = st.norm.pdf(x=theta, loc=mean[i], scale=std[i, i])\n",
    "            plt.plot(theta, post_pdf)\n",
    "            plt.axvline(x=true_params[0][i], color='C1', label=weight_labels[i])\n",
    "            plt.legend(prop=dict(size=12))\n",
    "        elif i < j: \n",
    "            sub_mean = [mean[i], mean[j]]\n",
    "            sub_std = sub_std = [[std[i, i], std[i, j]], [std[j, i], std[j, j]]]\n",
    "            if np.isfinite(sub_std).all(): \n",
    "                x, y = np.meshgrid(theta, theta)\n",
    "                pos = np.dstack((x, y))\n",
    "                rv = st.multivariate_normal(sub_mean, sub_std)\n",
    "                plt.subplot(dim_params, dim_params, plot_idx)\n",
    "                plt.contourf(x, y, rv.pdf(pos))\n",
    "                plt.plot([true_params[0][i]], [true_params[0][j]], 'o', color='C1')\n",
    "        plot_idx += 1 \n",
    "\n",
    "if save_figure and os.path.exists(path_to_save_folder): \n",
    "    filename = time_str + '_{}_posteriormatrix_r{}_ntrain{}.pdf'.format(inference_method, nrounds, ntrain)\n",
    "    plt.tight_layout()\n",
    "    plt.savefig('figures/' + filename)"
   ]
  },
  {
   "cell_type": "code",
   "execution_count": null,
   "metadata": {
    "collapsed": true
   },
   "outputs": [],
   "source": []
  }
 ],
 "metadata": {
  "kernelspec": {
   "display_name": "Python [conda env:mackelab]",
   "language": "python",
   "name": "conda-env-mackelab-py"
  },
  "language_info": {
   "codemirror_mode": {
    "name": "ipython",
    "version": 3
   },
   "file_extension": ".py",
   "mimetype": "text/x-python",
   "name": "python",
   "nbconvert_exporter": "python",
   "pygments_lexer": "ipython3",
   "version": "3.6.1"
  }
 },
 "nbformat": 4,
 "nbformat_minor": 2
}
