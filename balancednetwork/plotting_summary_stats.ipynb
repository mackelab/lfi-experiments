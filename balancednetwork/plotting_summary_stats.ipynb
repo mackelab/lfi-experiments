{
 "cells": [
  {
   "cell_type": "code",
   "execution_count": null,
   "metadata": {
    "collapsed": true
   },
   "outputs": [],
   "source": [
    "import matplotlib.pyplot as plt\n",
    "%matplotlib inline\n",
    "import numpy as np\n",
    "import pickle\n",
    "import time\n",
    "import os \n",
    "from utils import *\n"
   ]
  },
  {
   "cell_type": "code",
   "execution_count": null,
   "metadata": {
    "collapsed": true
   },
   "outputs": [],
   "source": [
    "path_to_save_folder = 'figures/'\n",
    "savefigure = True\n",
    "\n",
    "inference_method = 'basic'\n",
    "filename = '1505668432724482_params_stats_data_n1000'\n",
    "time_str = filename[:filename.find('_')]\n",
    "filename.find('_')\n",
    "fullname = 'data/' + filename + '.p'"
   ]
  },
  {
   "cell_type": "code",
   "execution_count": null,
   "metadata": {
    "collapsed": true
   },
   "outputs": [],
   "source": [
    "# load data \n",
    "with open(fullname, 'rb') as handle:\n",
    "    result_dict = pickle.load(handle)"
   ]
  },
  {
   "cell_type": "code",
   "execution_count": null,
   "metadata": {
    "collapsed": true
   },
   "outputs": [],
   "source": [
    "# unpack values \n",
    "params, stats = result_dict.values()"
   ]
  },
  {
   "cell_type": "code",
   "execution_count": null,
   "metadata": {},
   "outputs": [],
   "source": [
    "print(stats.shape)\n",
    "print(params.shape)"
   ]
  },
  {
   "cell_type": "code",
   "execution_count": null,
   "metadata": {},
   "outputs": [],
   "source": [
    "stats.mean(0)"
   ]
  },
  {
   "cell_type": "code",
   "execution_count": null,
   "metadata": {},
   "outputs": [],
   "source": [
    "plt.figure(figsize=(15, 5))\n",
    "ylabels = ['mean firing rate', 'kurtosis', 'Fano factor', 'proportion']\n",
    "titles = ['Rate', 'Skewness', 'Fano factor', 'Relative positive correlations']\n",
    "xlabel = '$R_{ee}$'\n",
    "label_size = 16\n",
    "plot_idx = 1\n",
    "for stat in stats[:, [1, 2, 0, 3]].T: \n",
    "    plt.subplot(1, 4, plot_idx)\n",
    "    plt.scatter(params, stat, color='C{}'.format(plot_idx - 1), s=3)\n",
    "    plt.xlabel(xlabel, fontsize=label_size)\n",
    "    plt.ylabel(ylabels[plot_idx - 1], fontsize=label_size)\n",
    "    plt.title(titles[plot_idx - 1], fontsize=label_size + 1)\n",
    "    plot_idx += 1\n",
    "plt.tight_layout()\n",
    "if savefigure: \n",
    "    figure_filename = '{}_stats1'.format(time_str).replace('.', '')\n",
    "    save_figure(filename=figure_filename + '.pdf')"
   ]
  },
  {
   "cell_type": "code",
   "execution_count": null,
   "metadata": {
    "collapsed": true
   },
   "outputs": [],
   "source": []
  }
 ],
 "metadata": {
  "kernelspec": {
   "display_name": "Python [conda env:mackelab]",
   "language": "python",
   "name": "conda-env-mackelab-py"
  },
  "language_info": {
   "codemirror_mode": {
    "name": "ipython",
    "version": 3
   },
   "file_extension": ".py",
   "mimetype": "text/x-python",
   "name": "python",
   "nbconvert_exporter": "python",
   "pygments_lexer": "ipython3",
   "version": "3.6.2"
  }
 },
 "nbformat": 4,
 "nbformat_minor": 2
}
