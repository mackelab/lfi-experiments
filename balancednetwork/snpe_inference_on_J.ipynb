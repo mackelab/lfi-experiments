{
 "cells": [
  {
   "cell_type": "code",
   "execution_count": null,
   "metadata": {
    "collapsed": true
   },
   "outputs": [],
   "source": [
    "import delfi.distribution as dd\n",
    "import delfi.generator as dg\n",
    "import delfi.inference as infer\n",
    "import matplotlib.pyplot as plt\n",
    "import numpy as np\n",
    "import os\n",
    "import pickle\n",
    "import scipy.stats as st\n",
    "import time \n",
    "\n",
    "from lfimodels.balancednetwork.BalancedNetworkSimulator import BalancedNetwork\n",
    "from lfimodels.balancednetwork.BalancedNetworkStats import BalancedNetworkStats\n",
    "from lfimodels.balancednetwork.BalancedNetworkGenerator import BalancedNetworkGenerator\n",
    "\n",
    "%matplotlib inline"
   ]
  },
  {
   "cell_type": "markdown",
   "metadata": {},
   "source": [
    "### Define the objects we need for the simulation: \n",
    "\n",
    "model, prior, summarystats, a generator to combine it all\n",
    "\n",
    "The parameter we use for the balanced network simulation is the clustering coef $R_{ee}$. For now we want this to be very close around 1. "
   ]
  },
  {
   "cell_type": "code",
   "execution_count": null,
   "metadata": {
    "collapsed": true
   },
   "outputs": [],
   "source": [
    "n_params = 4\n",
    "\n",
    "m = BalancedNetwork(dim=n_params, first_port=8010, \n",
    "                    verbose=False, n_servers=4, duration=3.)\n",
    "p = dd.Uniform(lower=[0.01] * n_params, upper=[0.1] * n_params)\n",
    "s = BalancedNetworkStats()\n",
    "g = BalancedNetworkGenerator(model=m, prior=p, summary=s)"
   ]
  },
  {
   "cell_type": "markdown",
   "metadata": {},
   "source": [
    "### Make a test by running one sample = one simulation \n",
    "\n",
    "The generator returns the params used and the correspoding stats: the theta-x tuples used by the MDN. "
   ]
  },
  {
   "cell_type": "code",
   "execution_count": null,
   "metadata": {
    "collapsed": true
   },
   "outputs": [],
   "source": [
    "m.start_server()"
   ]
  },
  {
   "cell_type": "code",
   "execution_count": null,
   "metadata": {
    "collapsed": true
   },
   "outputs": [],
   "source": [
    "# here we set the true params \n",
    "true_params = [[0.024, 0.045, 0.014, 0.057]]\n",
    "# run forward model \n",
    "data = m.gen(true_params)\n",
    "# get summary stats\n",
    "stats_obs = s.calc(data[0])"
   ]
  },
  {
   "cell_type": "code",
   "execution_count": null,
   "metadata": {
    "collapsed": true
   },
   "outputs": [],
   "source": [
    "print(true_params, stats_obs)"
   ]
  },
  {
   "cell_type": "code",
   "execution_count": null,
   "metadata": {
    "collapsed": true
   },
   "outputs": [],
   "source": [
    "# set up inference\n",
    "res = infer.SNPE(g, obs=stats_obs)"
   ]
  },
  {
   "cell_type": "code",
   "execution_count": null,
   "metadata": {
    "collapsed": true
   },
   "outputs": [],
   "source": [
    "ntrain = 50\n",
    "nrounds = 2\n",
    "out, trn_data = res.run(n_train=ntrain, n_rounds=nrounds, minibatch=50)"
   ]
  },
  {
   "cell_type": "code",
   "execution_count": null,
   "metadata": {
    "collapsed": true
   },
   "outputs": [],
   "source": [
    "m.stop_server()"
   ]
  },
  {
   "cell_type": "code",
   "execution_count": null,
   "metadata": {},
   "outputs": [],
   "source": [
    "for r in rannge(nrounds): \n",
    "    plt.plot(out[r]['loss'])"
   ]
  },
  {
   "cell_type": "markdown",
   "metadata": {},
   "source": [
    "## Test the result: generate an observation and compare it to simulations from the posterior"
   ]
  },
  {
   "cell_type": "code",
   "execution_count": null,
   "metadata": {
    "collapsed": true
   },
   "outputs": [],
   "source": [
    "# evaluate the posterior at the observed data \n",
    "posterior = res.predict(stats_obs)"
   ]
  },
  {
   "cell_type": "code",
   "execution_count": null,
   "metadata": {
    "collapsed": true
   },
   "outputs": [],
   "source": [
    "# get the mean and std \n",
    "component = 0\n",
    "mean = posterior.xs[component].m\n",
    "cov = posterior.xs[component].S\n",
    "print(mean)\n",
    "print(cov)"
   ]
  },
  {
   "cell_type": "code",
   "execution_count": null,
   "metadata": {},
   "outputs": [],
   "source": [
    "plt.figure(figsize=(15, 10))\n",
    "theta = np.linspace(0.01, 0.1, 100)\n",
    "plot_idx = 1\n",
    "for i in range(n_params): \n",
    "    for j in range(n_params): \n",
    "        if i==j: \n",
    "            plt.subplot(n_params, n_params, plot_idx)\n",
    "            post_pdf = st.norm.pdf(x=theta, loc=mean[i], scale=cov[i, i])\n",
    "            plt.plot(theta, post_pdf)\n",
    "            plt.axvline(x=true_params[0][i], color='C1')\n",
    "        elif i < j: \n",
    "            sub_mean = [mean[i], mean[j]]\n",
    "            sub_std = sub_std = [[cov[i, i], cov[i, j]], [cov[j, i], cov[j, j]]]\n",
    "            x, y = np.meshgrid(theta, theta)\n",
    "            pos = np.dstack((x, y))\n",
    "            rv = st.multivariate_normal(sub_mean, sub_std)\n",
    "            plt.subplot(n_params, n_params, plot_idx)\n",
    "            plt.contourf(x, y, rv.pdf(pos))\n",
    "            plt.plot([true_params[0][i]], [true_params[0][j]], 'o', color='C1')\n",
    "        plot_idx += 1        "
   ]
  },
  {
   "cell_type": "code",
   "execution_count": null,
   "metadata": {
    "collapsed": true
   },
   "outputs": [],
   "source": [
    "# set up a dict for saving the results \n",
    "save_data = True\n",
    "path_to_save_folder = 'data/'\n",
    "if save_data and os.path.exists(path_to_save_folder): \n",
    "    nrounds=1\n",
    "    result_dict = dict(true_params=true_params, stats_obs=stats_obs, nrouns=nrounds, ntrain=ntrain,\n",
    "                       posterior=dict(mean=mean, std=cov))\n",
    "    filename = os.path.join(path_to_save_folder, \n",
    "                           '{}_snpe_nrounds{}_ntrain{}'.format(time.time(), nrounds, ntrain).replace('.', '') + '.p')\n",
    "    with open(filename, 'wb') as handle:\n",
    "        pickle.dump(result_dict, handle, protocol=pickle.HIGHEST_PROTOCOL)"
   ]
  },
  {
   "cell_type": "code",
   "execution_count": null,
   "metadata": {
    "collapsed": true
   },
   "outputs": [],
   "source": []
  }
 ],
 "metadata": {
  "kernelspec": {
   "display_name": "Python [conda env:mackelab]",
   "language": "python",
   "name": "conda-env-mackelab-py"
  },
  "language_info": {
   "codemirror_mode": {
    "name": "ipython",
    "version": 3
   },
   "file_extension": ".py",
   "mimetype": "text/x-python",
   "name": "python",
   "nbconvert_exporter": "python",
   "pygments_lexer": "ipython3",
   "version": "3.6.1"
  }
 },
 "nbformat": 4,
 "nbformat_minor": 2
}
