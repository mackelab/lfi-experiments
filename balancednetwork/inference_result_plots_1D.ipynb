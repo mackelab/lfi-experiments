{
 "cells": [
  {
   "cell_type": "code",
   "execution_count": null,
   "metadata": {
    "collapsed": true
   },
   "outputs": [],
   "source": [
    "import matplotlib.pyplot as plt\n",
    "%matplotlib inline\n",
    "import delfi.distribution as dd\n",
    "import numpy as np\n",
    "import pickle\n",
    "import time\n",
    "import scipy.stats as st\n",
    "import os \n",
    "from lfimodels.balancednetwork.BalancedNetworkSimulator import BalancedNetwork\n",
    "from lfimodels.balancednetwork.BalancedNetworkStats import BalancedNetworkStats"
   ]
  },
  {
   "cell_type": "code",
   "execution_count": null,
   "metadata": {
    "collapsed": true
   },
   "outputs": [],
   "source": [
    "path_to_save_folder = 'figures/'\n",
    "save_figure = True\n",
    "\n",
    "inference_method = 'snpe'\n",
    "fileformat = '.pdf'\n",
    "dpi = 400\n",
    "filenames = ['1509979643087894_snpe_ree_r5_ntrain100']\n",
    "#titles = ['lfi-models sept 20, delfi nov 1, svi=True', 'lfi-models sept 20, delfi nov 1, svi=False', \n",
    "#         'all nov 1, svi=False, 8 sum stats', 'all nov 1, svi=False, 19 sum stats']\n",
    "\n",
    "param_name = r'$R_{ee}$'"
   ]
  },
  {
   "cell_type": "code",
   "execution_count": null,
   "metadata": {},
   "outputs": [],
   "source": [
    "plt.figure(figsize=(15, 5))\n",
    "legend_size = 13\n",
    "label_size = 16\n",
    "\n",
    "for idx, filename in enumerate(filenames): \n",
    "    time_str = filename[:filename.find('_')]\n",
    "    fullname = 'data/' + filename + '.p'\n",
    "\n",
    "    # load data \n",
    "    with open(fullname, 'rb') as handle:\n",
    "        result_dict = pickle.load(handle)\n",
    "\n",
    "    print(result_dict.keys())\n",
    "    # unpack values \n",
    "    try: \n",
    "        true_params, stats_obs, nrounds, ntrain, posterior, out, trn_data, prior, posteriors = result_dict.values()\n",
    "        theta = np.linspace(prior.lower[0], prior.upper[0], 1000)\n",
    "    except ValueError:\n",
    "        try: \n",
    "            true_params, stats_obs, nrounds, ntrain, posterior, out, trn_data, prior = result_dict.values()            \n",
    "            theta = np.linspace(prior.lower[0], prior.upper[0], 1000)\n",
    "        except ValueError: \n",
    "            true_params, stats_obs, nrounds, ntrain, posterior, out, trn_data= result_dict.values()            \n",
    "            theta = np.linspace(0, 5, 1000)\n",
    "    assert len(true_params) == 1, 'this notebook is for inference on 1 parameter: len(params)'\n",
    "\n",
    "    nrounds = len(out)\n",
    "    \n",
    "    print(stats_obs.shape)\n",
    "\n",
    "    # extract the posterior \n",
    "    n_components = len(posterior.a)\n",
    "    means = [posterior.xs[c].m for c in range(n_components)]\n",
    "    Ss = [posterior.xs[c].S for c in range(n_components)]\n",
    "\n",
    "    sub_means = [[means[c][0]] for c in range(n_components)]\n",
    "    sub_cov = np.asarray([Ss[c] for c in range(n_components)])\n",
    "    pdf = dd.mixture.MoG(a=posterior.a, ms=sub_means, Ss=sub_cov)\n",
    "    post_pdf = pdf.eval(theta[:, np.newaxis], log=False)\n",
    "\n",
    "    plt.subplot(len(filenames), 1, idx + 1)\n",
    "    plt.plot(theta, post_pdf, label='posterior')\n",
    "    plt.axvline(x=true_params[0], label=r'observed {}'.format(param_name), linestyle='--', color='C1')\n",
    "    plt.legend(prop=dict(size=legend_size))\n",
    "    plt.xlabel(param_name, fontsize=label_size)\n",
    "    if idx == 0: \n",
    "        plt.ylabel(r'$\\hat{p}( \\theta | x=x_{o})$', fontsize=label_size)\n",
    "    \n",
    "if len(filenames) > 1: \n",
    "    filename = time_str + '_combined_results'\n",
    "else: \n",
    "    filename = time_str + '_{}_posterior_r{}_ntrain{}'.format(inference_method, nrounds, ntrain)\n",
    "    \n",
    "plt.tight_layout()\n",
    "\n",
    "if save_figure and os.path.exists(path_to_save_folder): \n",
    "    plt.savefig(os.path.join(path_to_save_folder, filename + fileformat), dpi=dpi);"
   ]
  },
  {
   "cell_type": "code",
   "execution_count": null,
   "metadata": {},
   "outputs": [],
   "source": [
    "plt.figure(figsize=(15, 5))\n",
    "\n",
    "for idx, posterior in enumerate(posteriors): \n",
    "    n_components = len(posterior.a)\n",
    "    means = [posterior.xs[c].m for c in range(n_components)]\n",
    "    Ss = [posterior.xs[c].S for c in range(n_components)]\n",
    "\n",
    "    sub_means = [[means[c][0]] for c in range(n_components)]\n",
    "    sub_cov = np.asarray([Ss[c] for c in range(n_components)])\n",
    "    pdf = dd.mixture.MoG(a=posterior.a, ms=sub_means, Ss=sub_cov)\n",
    "    post_pdf = pdf.eval(theta[:, np.newaxis], log=False)\n",
    "\n",
    "    plt.plot(theta, post_pdf, label='round {}'.format(idx + 1))\n",
    "    plt.xlabel(param_name, fontsize=label_size)\n",
    "    \n",
    "plt.axvline(x=true_params[0], label=r'observed {}'.format(param_name), linestyle='--', color='k')\n",
    "plt.legend(prop=dict(size=legend_size))\n",
    "plt.title('Posteriors over rounds', fontsize=label_size);\n",
    "\n",
    "plt.tight_layout()\n",
    "filename = time_str + '_{}_posteriors_over_rounds_r{}_ntrain{}'.format(inference_method, nrounds, ntrain)\n",
    "if save_figure and os.path.exists(path_to_save_folder): \n",
    "    plt.savefig(os.path.join(path_to_save_folder, filename + fileformat), dpi=dpi);"
   ]
  },
  {
   "cell_type": "markdown",
   "metadata": {},
   "source": [
    "## Plotting the summary stats "
   ]
  },
  {
   "cell_type": "code",
   "execution_count": null,
   "metadata": {},
   "outputs": [],
   "source": [
    "plt.figure(figsize=(15, 5))\n",
    "p = trn_data[0][0].flatten()\n",
    "s = trn_data[0][1]\n",
    "plt.plot(p, s, 'o')\n",
    "plt.legend(['ff', 'r', 'k', 'rho']);"
   ]
  },
  {
   "cell_type": "code",
   "execution_count": null,
   "metadata": {},
   "outputs": [],
   "source": [
    "trn_data[0][1]"
   ]
  },
  {
   "cell_type": "code",
   "execution_count": null,
   "metadata": {},
   "outputs": [],
   "source": [
    "posterior.mean"
   ]
  },
  {
   "cell_type": "markdown",
   "metadata": {},
   "source": [
    "## Posterior predictive checking \n",
    "\n",
    "Generate samples from the posterior and simulate them. The resulting data should be near the observed data. "
   ]
  },
  {
   "cell_type": "code",
   "execution_count": null,
   "metadata": {
    "collapsed": true
   },
   "outputs": [],
   "source": [
    "m = BalancedNetwork(inference_param='wee', n_servers=1, duration=3., first_port=8010, \n",
    "                    save_raster_plots=True, \n",
    "                    save_folder='/Users/Jan/Dropbox/Master/mackelab/code/lfi-experiments/balancednetwork/figures/simulation_raster_plots/')\n",
    "s = BalancedNetworkStats(n_workers=2)"
   ]
  },
  {
   "cell_type": "code",
   "execution_count": null,
   "metadata": {
    "collapsed": true
   },
   "outputs": [],
   "source": [
    "# calculate mean of mixture \n",
    "mean = np.sum([a * m[0] for a, m in zip(posterior.a, means)])\n",
    "# calculate variance of mixture \n",
    "sum_squared = np.sum([a * m[0]**2 for a, m in zip(posterior.a, means)])\n",
    "squared_sum = mean**2\n",
    "std = np.sum([a * Ss[0][0] for a, m in zip(posterior.a, Ss)]) + sum_squared - squared_sum"
   ]
  },
  {
   "cell_type": "code",
   "execution_count": null,
   "metadata": {
    "collapsed": true
   },
   "outputs": [],
   "source": [
    "m.start_server()\n",
    "# generate theta +-3, 2, 1 0 stds away from mode\n",
    "thetas = [mean + i * std for i in [0]]\n",
    "sum_stats = []\n",
    "# simulate and collect sum stats\n",
    "data = m.gen(thetas)"
   ]
  },
  {
   "cell_type": "code",
   "execution_count": null,
   "metadata": {
    "collapsed": true
   },
   "outputs": [],
   "source": [
    "sum_stats = s.calc_all(data)"
   ]
  },
  {
   "cell_type": "code",
   "execution_count": null,
   "metadata": {
    "collapsed": true
   },
   "outputs": [],
   "source": [
    "# plot the resulting stats with the observed stats \n",
    "plt.figure(figsize=(8, 4))\n",
    "sum_stats = np.array(sum_stats).squeeze()\n",
    "plt.axvline(x=mean, linestyle='--', color='C4')\n",
    "plt.axvline(x=true_params, linestyle='--', color='C5')\n",
    "\n",
    "plt.plot(thetas, sum_stats, 'o')\n",
    "#plt.plot(true_params, stats_obs, '*')\n",
    "\n",
    "plt.legend(['posterior mean', 'true theta', 'ff1', 'rate mean', 'kurtosis', 'rel corr'])\n",
    "plt.xlabel('theta')\n",
    "plt.ylabel('stats')\n",
    "plt.title('Summary stats +-3 std around the posterior mean')\n",
    "\n",
    "filename = '{}_ppch_r{}_ntrain{}'.format(inference_method, nrounds, ntrain)\n",
    "plt.tight_layout()\n",
    "if save_figure and os.path.exists(path_to_save_folder): \n",
    "    plt.savefig('figures/' + filename + fileformat, dpi=dpi);"
   ]
  },
  {
   "cell_type": "code",
   "execution_count": null,
   "metadata": {
    "collapsed": true
   },
   "outputs": [],
   "source": [
    "thetas"
   ]
  },
  {
   "cell_type": "code",
   "execution_count": null,
   "metadata": {
    "collapsed": true
   },
   "outputs": [],
   "source": [
    "sum_stats[0].shape"
   ]
  },
  {
   "cell_type": "markdown",
   "metadata": {},
   "source": [
    "## Compare only simulation of mean posterior vs. original parameters"
   ]
  },
  {
   "cell_type": "code",
   "execution_count": null,
   "metadata": {
    "collapsed": true
   },
   "outputs": [],
   "source": [
    "jee = posterior.mean[0]\n",
    "stats = sum_stats[0].flatten()"
   ]
  },
  {
   "cell_type": "code",
   "execution_count": null,
   "metadata": {
    "collapsed": true
   },
   "outputs": [],
   "source": []
  },
  {
   "cell_type": "code",
   "execution_count": null,
   "metadata": {
    "collapsed": true
   },
   "outputs": [],
   "source": [
    "labels = ['FF', 'rate', 'kurtosis', '+ correlation', 'FF inh', 'rate inh', 'kurtosis inh', '+ correlation inh']\n",
    "plt.figure(figsize=(15, 5))\n",
    "plt.plot(stats, '-o', label='posterior mean')\n",
    "ax = plt.plot(stats_obs.T, '-o', label='observed')\n",
    "plt.xticks(np.arange(8), labels)\n",
    "plt.gca().tick_params(axis='x', labelsize=15)\n",
    "plt.legend(prop=dict(size=legend_size + 2))\n",
    "\n",
    "filename = '{}_ppch_ntrain{}_{}'.format(inference_method, ntrain, param_name)\n",
    "\n",
    "plt.tight_layout()\n",
    "if save_figure and os.path.exists(path_to_save_folder): \n",
    "    plt.savefig('figures/' + filename + fileformat, dpi=dpi);"
   ]
  },
  {
   "cell_type": "code",
   "execution_count": null,
   "metadata": {
    "collapsed": true
   },
   "outputs": [],
   "source": [
    "plt.savefig?"
   ]
  },
  {
   "cell_type": "code",
   "execution_count": null,
   "metadata": {
    "collapsed": true
   },
   "outputs": [],
   "source": []
  }
 ],
 "metadata": {
  "kernelspec": {
   "display_name": "Python [conda env:mackelab]",
   "language": "python",
   "name": "conda-env-mackelab-py"
  },
  "language_info": {
   "codemirror_mode": {
    "name": "ipython",
    "version": 3
   },
   "file_extension": ".py",
   "mimetype": "text/x-python",
   "name": "python",
   "nbconvert_exporter": "python",
   "pygments_lexer": "ipython3",
   "version": "3.6.2"
  }
 },
 "nbformat": 4,
 "nbformat_minor": 2
}
