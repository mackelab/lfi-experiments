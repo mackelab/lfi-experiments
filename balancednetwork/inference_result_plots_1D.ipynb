{
 "cells": [
  {
   "cell_type": "code",
   "execution_count": null,
   "metadata": {
    "collapsed": true
   },
   "outputs": [],
   "source": [
    "import matplotlib.pyplot as plt\n",
    "%matplotlib inline\n",
    "import numpy as np\n",
    "import pickle\n",
    "import time\n",
    "import scipy.stats as st\n",
    "import os \n",
    "from lfimodels.balancednetwork.BalancedNetwork import BalancedNetwork"
   ]
  },
  {
   "cell_type": "code",
   "execution_count": null,
   "metadata": {
    "collapsed": true
   },
   "outputs": [],
   "source": [
    "m = BalancedNetwork(dim=1, first_port=8010, verbose=False, n_servers=3)"
   ]
  },
  {
   "cell_type": "code",
   "execution_count": null,
   "metadata": {
    "collapsed": true
   },
   "outputs": [],
   "source": [
    "inference_method = 'snpe'\n",
    "filename = '1502789765221072_snpe_r1_ntrain50'\n",
    "time_str = filename[:filename.find('_')]\n",
    "filename.find('_')\n",
    "fullname = 'data/' + filename + '.p'"
   ]
  },
  {
   "cell_type": "code",
   "execution_count": null,
   "metadata": {
    "collapsed": true
   },
   "outputs": [],
   "source": [
    "# load data \n",
    "with open(fullname, 'rb') as handle:\n",
    "    result_dict = pickle.load(handle)"
   ]
  },
  {
   "cell_type": "code",
   "execution_count": null,
   "metadata": {
    "collapsed": true
   },
   "outputs": [],
   "source": [
    "# unpack values \n",
    "true_params, stats_obs, nrounds, ntrain, posterior = result_dict.values()\n",
    "mean, std = posterior.values()"
   ]
  },
  {
   "cell_type": "markdown",
   "metadata": {},
   "source": [
    "## Compare to true parameter \n",
    "\n",
    "We have generated the observed data ourselves so we do have the true parameter. The mean of the posterior should be close to it when evaluated for $x=x_{obs}$"
   ]
  },
  {
   "cell_type": "code",
   "execution_count": null,
   "metadata": {
    "collapsed": true
   },
   "outputs": [],
   "source": [
    "theta = np.linspace(0, 5, 1000)\n",
    "post_pdf = st.norm.pdf(x=theta, loc=mean, scale=std)"
   ]
  },
  {
   "cell_type": "code",
   "execution_count": null,
   "metadata": {},
   "outputs": [],
   "source": [
    "plt.figure(figsize=(10, 5))\n",
    "plt.plot(theta, post_pdf, label='$\\hat{p}( theta | x=x_{obs})$')\n",
    "plt.axvline(x=true_params[0], label='true theta', linestyle='--', color='C1')\n",
    "plt.legend()\n",
    "plt.xlabel('$R_{ee}$');\n",
    "filename = time_str + '_{}_posterior_r{}_ntrain{}.pdf'.format(inference_method, nrounds, ntrain)\n",
    "plt.savefig('figures/' + filename)"
   ]
  },
  {
   "cell_type": "markdown",
   "metadata": {},
   "source": [
    "## Posterior predictive checking \n",
    "\n",
    "Generate samples from the posterior and simulate them. The resulting data should be near the observed data. "
   ]
  },
  {
   "cell_type": "code",
   "execution_count": null,
   "metadata": {
    "collapsed": true
   },
   "outputs": [],
   "source": [
    "m.start_server()\n",
    "# generate theta +-3, 2, 1 0 stds away from mode\n",
    "thetas = [mean + i * std for i in [-3, -2, -1, 0, 1, 2, 3]]\n",
    "sum_stats = []\n",
    "# simulate and collect sum stats\n",
    "data = m.gen(thetas)\n",
    "for datum in data: \n",
    "    sum_stats.append(s.calc(datum))\n",
    "m.stop_server()"
   ]
  },
  {
   "cell_type": "code",
   "execution_count": null,
   "metadata": {
    "collapsed": true
   },
   "outputs": [],
   "source": [
    "# plot the resulting stats with the observed stats \n",
    "plt.figure(figsize=(10, 4))\n",
    "sum_stats = np.array(sum_stats).squeeze()\n",
    "plt.axvline(x=mean, linestyle='--', color='C4')\n",
    "plt.axvline(x=true_params, linestyle='--', color='C5')\n",
    "plt.plot(thetas, sum_stats, '-o')\n",
    "plt.plot(true_params, stats_obs, '*')\n",
    "plt.legend(['posterior mean', 'true theta', 'ff1', 'ff2', 'ff3', 'rate mean', 'rate median'])\n",
    "plt.xlabel('theta')\n",
    "plt.ylabel('stats')\n",
    "plt.title('Summary stats +-3 std around the posterior mean')\n",
    "filename = '{}_ppch_r{}_ntrain{}.pdf'.format(inference_method, nrounds, ntrain)\n",
    "plt.savefig('figures/' + filename)"
   ]
  },
  {
   "cell_type": "code",
   "execution_count": null,
   "metadata": {
    "collapsed": true
   },
   "outputs": [],
   "source": []
  }
 ],
 "metadata": {
  "kernelspec": {
   "display_name": "Python [conda env:mackelab]",
   "language": "python",
   "name": "conda-env-mackelab-py"
  },
  "language_info": {
   "codemirror_mode": {
    "name": "ipython",
    "version": 3
   },
   "file_extension": ".py",
   "mimetype": "text/x-python",
   "name": "python",
   "nbconvert_exporter": "python",
   "pygments_lexer": "ipython3",
   "version": "3.6.1"
  }
 },
 "nbformat": 4,
 "nbformat_minor": 2
}
