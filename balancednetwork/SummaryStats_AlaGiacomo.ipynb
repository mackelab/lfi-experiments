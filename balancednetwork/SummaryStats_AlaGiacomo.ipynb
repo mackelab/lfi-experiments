{
 "cells": [
  {
   "cell_type": "code",
   "execution_count": null,
   "metadata": {
    "collapsed": true
   },
   "outputs": [],
   "source": [
    "import os\n",
    "import pickle\n",
    "from utils import get_spike_counts_over_time_windows\n",
    "import time\n",
    "import matplotlib.pyplot as plt\n",
    "import numpy as np\n",
    "%matplotlib inline"
   ]
  },
  {
   "cell_type": "code",
   "execution_count": null,
   "metadata": {
    "collapsed": true
   },
   "outputs": [],
   "source": [
    "filename = '150945172328ree42_dur100_brain1.p'\n",
    "\n",
    "folder = '/Users/Jan/Dropbox/Master/mackelab/code/balanced_clustered_network/data/'\n",
    "\n",
    "fullname = os.path.join(folder, filename)\n",
    "\n",
    "with open(fullname, 'rb') as handle:\n",
    "    round_dict = pickle.load(handle)\n",
    "\n",
    "data = round_dict['trial0']\n",
    "params = round_dict['params']\n",
    "\n",
    "smi = data['spikes_I']\n",
    "sme = data['spikes_E']"
   ]
  },
  {
   "cell_type": "code",
   "execution_count": null,
   "metadata": {
    "collapsed": true
   },
   "outputs": [],
   "source": [
    "# calculate population firing rate mean\n",
    "window_length = 0.01  # 10ms\n",
    "start_t = 1.\n",
    "delta_t = 10.\n"
   ]
  },
  {
   "cell_type": "code",
   "execution_count": null,
   "metadata": {},
   "outputs": [],
   "source": [
    "features = []\n",
    "corrs0 = []\n",
    "corrs10 = []\n",
    "corrs20 = []\n",
    "counts = []\n",
    "\n",
    "for spike_times in [sme, smi]:\n",
    "    spike_counts = get_spike_counts_over_time_windows(spike_times, start_t, delta_t, window_length)\n",
    "    spike_counts = spike_counts.mean(axis=0)\n",
    "    counts.append(spike_counts)\n",
    "\n",
    "    # take mean across bins to get the overall average firing rate as spikes / 10ms\n",
    "    features.append(spike_counts.mean())\n",
    "\n",
    "    # 0-lag covariance taken as std across windows\n",
    "    zero_lag_std = np.std(spike_counts)\n",
    "    corrs0.append(zero_lag_std)"
   ]
  },
  {
   "cell_type": "code",
   "execution_count": null,
   "metadata": {},
   "outputs": [],
   "source": [
    "counts = np.array(counts).T\n",
    "counts.shape"
   ]
  },
  {
   "cell_type": "code",
   "execution_count": null,
   "metadata": {},
   "outputs": [],
   "source": [
    "# 0 lag cross correlation of spike counts\n",
    "corrs0.append(np.corrcoef(counts[:,0], counts[:, 1])[0, 1])"
   ]
  },
  {
   "cell_type": "code",
   "execution_count": null,
   "metadata": {},
   "outputs": [],
   "source": [
    "# one bin is 10ms \n",
    "k = 1\n",
    "# shift by lag\n",
    "shift = counts[k:,:]\n",
    "orig = counts[:-k,:]\n",
    "# put all in one mat with rows: [Es, Is, Eo, Io]\n",
    "xy = np.array(np.concatenate([shift, orig],axis=1).T)\n",
    "\n",
    "# we are interested in EsEo, EsIo, IsEo, IsIo --> the upper right 2d matrix \n",
    "sub_mat = np.corrcoef(xy,rowvar=1)[:2, 2:]\n",
    "corrs10 = list(sub_mat.flatten())"
   ]
  },
  {
   "cell_type": "code",
   "execution_count": null,
   "metadata": {},
   "outputs": [],
   "source": [
    "# one bin is 10ms \n",
    "k = 2\n",
    "# shift by lag\n",
    "shift = counts[k:,:]\n",
    "orig = counts[:-k,:]\n",
    "# put all in one mat with rows: [Es, Is, Eo, Io]\n",
    "xy = np.array(np.concatenate([shift, orig],axis=1).T)\n",
    "\n",
    "# we are interested in EsEo, EsIo, IsEo, IsIo --> the upper right 2d matrix \n",
    "sub_mat = np.corrcoef(xy,rowvar=1)[:2, 2:]\n",
    "corrs20 = list(sub_mat.flatten())"
   ]
  },
  {
   "cell_type": "code",
   "execution_count": null,
   "metadata": {},
   "outputs": [],
   "source": [
    "features += corrs0 + corrs10 + corrs20"
   ]
  },
  {
   "cell_type": "code",
   "execution_count": null,
   "metadata": {},
   "outputs": [],
   "source": [
    "features"
   ]
  },
  {
   "cell_type": "code",
   "execution_count": null,
   "metadata": {
    "collapsed": true
   },
   "outputs": [],
   "source": []
  }
 ],
 "metadata": {
  "kernelspec": {
   "display_name": "Python [conda env:brian1]",
   "language": "python",
   "name": "conda-env-brian1-py"
  },
  "language_info": {
   "codemirror_mode": {
    "name": "ipython",
    "version": 2
   },
   "file_extension": ".py",
   "mimetype": "text/x-python",
   "name": "python",
   "nbconvert_exporter": "python",
   "pygments_lexer": "ipython2",
   "version": "2.7.13"
  }
 },
 "nbformat": 4,
 "nbformat_minor": 2
}
