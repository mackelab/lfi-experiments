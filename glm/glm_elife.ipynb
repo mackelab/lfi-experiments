{
 "cells": [
  {
   "cell_type": "code",
   "execution_count": null,
   "metadata": {
    "collapsed": false
   },
   "outputs": [],
   "source": [
    "%matplotlib inline\n",
    "\n",
    "import delfi.distribution as dd\n",
    "import delfi.generator as dg\n",
    "import delfi.inference as infer\n",
    "import delfi.utils.io as io\n",
    "import delfi.summarystats as ds\n",
    "import lfimodels.glm.utils as utils\n",
    "import matplotlib.pyplot as plt\n",
    "import numpy as np\n",
    "\n",
    "from lfimodels.glm.GLM import GLM\n",
    "from lfimodels.glm.GLMStats import GLMStats\n",
    "from delfi.utils.viz import plot_pdf\n",
    "\n",
    "seed = 42\n",
    "m = GLM(seed=seed)\n",
    "p = utils.smoothing_prior(n_params=m.n_params, seed=seed)\n",
    "s = GLMStats(n_summary=m.n_params)\n",
    "g = dg.Default(model=m, prior=p, summary=s)\n",
    "\n",
    "true_params, labels_params = utils.obs_params()\n",
    "obs = utils.obs_data(true_params, seed=seed)\n",
    "obs_stats = utils.obs_stats(true_params, seed=seed)\n",
    "\n",
    "rerun = False  # if False, will try loading file from disk\n",
    "\n",
    "try:\n",
    "    assert rerun == False, 'rerun requested'\n",
    "    sam = np.load('sam.npz')['arr_0']\n",
    "except:\n",
    "    sam = utils.pg_mcmc(true_params, obs)\n",
    "    np.savez('sam.npz', sam)\n",
    "    \n",
    "g = dg.Default(model=m, prior=p, summary=s)\n",
    "\n",
    "res = infer.CDELFI(g, \n",
    "                   obs=obs_stats, \n",
    "                   n_hiddens=[50], \n",
    "                   seed=seed, \n",
    "                   reg_lambda=0.01,\n",
    "                   pilot_samples=1000,\n",
    "                   svi=True,\n",
    "                   prior_norm=False)\n",
    "\n",
    "logs, tds, posteriors = res.run(n_train=5000, \n",
    "                                n_rounds=5, \n",
    "                                minibatch=100, \n",
    "                                epochs=1000\n",
    "                                #round_cl=3\n",
    "                               )\n"
   ]
  },
  {
   "cell_type": "code",
   "execution_count": null,
   "metadata": {
    "collapsed": false
   },
   "outputs": [],
   "source": [
    "for r in range(5):\n",
    "    posterior = posteriors[r]\n",
    "    plot_pdf(posterior.xs[0], \n",
    "             lims=[-2,2], \n",
    "             samples=sam, \n",
    "             gt=true_params, \n",
    "             figsize=(9,9));"
   ]
  },
  {
   "cell_type": "code",
   "execution_count": null,
   "metadata": {
    "collapsed": false
   },
   "outputs": [],
   "source": [
    "posterior = posteriors[-1]\n",
    "plot_pdf(posterior.xs[0], \n",
    "         lims=[-3,3], \n",
    "         levels=(0.01, 0.68, 0.95),\n",
    "         samples=sam, \n",
    "         gt=true_params, \n",
    "         figsize=(10,10));"
   ]
  },
  {
   "cell_type": "code",
   "execution_count": null,
   "metadata": {
    "collapsed": false
   },
   "outputs": [],
   "source": [
    "\n",
    "filename = 'glm_5k_elife_prior_gp_run_1_round5_param10_CDELFI_posterior'\n",
    "np.save(filename, \n",
    "        {\n",
    "        'posterior' : posteriors[-1],\n",
    "        'proposal' :  posteriors[-2],\n",
    "        'prior'    : g.prior\n",
    "        \n",
    "    })"
   ]
  },
  {
   "cell_type": "code",
   "execution_count": null,
   "metadata": {
    "collapsed": true
   },
   "outputs": [],
   "source": [
    "\n",
    "filename = 'ground_truth_data'\n",
    "np.save(filename, \n",
    "        {\n",
    "        'obs_stats' : obs_stats,\n",
    "        'pars_true'    : true_params,\n",
    "        'labels_params' : labels_params\n",
    "        \n",
    "    })"
   ]
  },
  {
   "cell_type": "code",
   "execution_count": null,
   "metadata": {
    "collapsed": true
   },
   "outputs": [],
   "source": [
    "posterior"
   ]
  }
 ],
 "metadata": {
  "kernelspec": {
   "display_name": "Python 3",
   "language": "python",
   "name": "python3"
  },
  "language_info": {
   "codemirror_mode": {
    "name": "ipython",
    "version": 3
   },
   "file_extension": ".py",
   "mimetype": "text/x-python",
   "name": "python",
   "nbconvert_exporter": "python",
   "pygments_lexer": "ipython3",
   "version": "3.5.1"
  }
 },
 "nbformat": 4,
 "nbformat_minor": 0
}
