{
 "cells": [
  {
   "cell_type": "code",
   "execution_count": 1,
   "metadata": {
    "collapsed": true
   },
   "outputs": [],
   "source": [
    "import numpy as np\n",
    "%matplotlib inline\n",
    "import matplotlib.pyplot as plt\n",
    "import matplotlib.pylab as pylab\n",
    "from matplotlib import cm\n",
    "from tqdm import tqdm\n",
    "\n",
    "import pickle\n",
    "\n",
    "import scipy.special\n",
    "\n",
    "import delfi.distribution as dd\n",
    "import delfi.generator as dg\n",
    "import delfi.inference as infer\n",
    "import delfi.utils.io as io\n",
    "import delfi.summarystats as ds\n",
    "\n",
    "import parameters\n",
    "\n",
    "from delfi.simulator.Gauss import Gauss"
   ]
  },
  {
   "cell_type": "code",
   "execution_count": 2,
   "metadata": {
    "collapsed": true,
    "scrolled": false
   },
   "outputs": [],
   "source": [
    "def plot_family(dists, target=None, limts=[-5, 5], labels=None, title=None):\n",
    "    xlist = np.linspace(-5, 5, 200)\n",
    "    \n",
    "    fig, (axpdf) = plt.subplots(1, figsize=(8, 6))\n",
    "    \n",
    "    if title is not None:\n",
    "        fig.suptitle(title)\n",
    "        \n",
    "    ndists = len(dists)\n",
    "    if labels is None:\n",
    "        labels = [ None for i in range(ndists) ]\n",
    "        \n",
    "    cmap = plt.get_cmap('viridis')#cm.viridis\n",
    "    colors = [cmap(i) for i in np.linspace(0, 1, ndists)]\n",
    "    \n",
    "    for i in range(0, ndists):\n",
    "        d = dists[i]\n",
    "        ylist = d.eval(xlist.reshape((-1,1)), log=False)\n",
    "        axpdf.plot(xlist, ylist, label=labels[i], c=colors[i])#, c=[0,1 - i / ndists,0])\n",
    "    \n",
    "    if target is not None:\n",
    "        ylist = target.eval(xlist.reshape((-1,1)), log=False)\n",
    "        axpdf.plot(xlist, ylist, label=\"Target\", c='r')\n",
    "        \n",
    "    box = axpdf.get_position()\n",
    "    axpdf.set_position([box.x0, box.y0, box.width * 0.8, box.height])\n",
    "    axpdf.legend(loc='center left', bbox_to_anchor=(1, 0.5))\n",
    "\n",
    "    plt.show()"
   ]
  },
  {
   "cell_type": "code",
   "execution_count": 3,
   "metadata": {
    "collapsed": true
   },
   "outputs": [],
   "source": [
    "default_params = parameters.ParameterSet({})\n",
    "\n",
    "default_params.seed = 420\n",
    "\n",
    "default_params.n_train = 1000\n",
    "default_params.n_rounds = 3\n",
    "default_params.proposal = None\n",
    "default_params.round_cl = 5\n",
    "\n",
    "default_params.true_params = [0]\n",
    "default_params.obs_stats = [[0]]\n",
    "\n",
    "# The actual prior variance\n",
    "default_params.prior_var = 4\n",
    "\n",
    "default_params.noise_cov = 0.1"
   ]
  },
  {
   "cell_type": "code",
   "execution_count": 4,
   "metadata": {
    "collapsed": true
   },
   "outputs": [],
   "source": [
    "def run(params):\n",
    "    m = Gauss(dim=1, noise_cov=params.noise_cov, seed=params.seed)\n",
    "    p = dd.Gaussian(m=[0], S=[[params.prior_var]], seed=params.seed)\n",
    "    s = ds.Identity()\n",
    "\n",
    "    g = dg.MPGenerator(models=[m], prior=p, summary=s)\n",
    "\n",
    "    res = infer.SNPE(g, \n",
    "                     obs=params.obs_stats,\n",
    "                     seed=params.seed, \n",
    "                     pilot_samples=None,\n",
    "                     convert_to_T=False,\n",
    "                     svi=False)\n",
    "    \n",
    "    p0 = res.predict(params.obs_stats)\n",
    "\n",
    "    logs, tds, posteriors = res.run(n_train=params.n_train, \n",
    "                                    n_rounds=params.n_rounds, \n",
    "                                    minibatch=100, \n",
    "                                    epochs=1000, \n",
    "                                    round_cl=params.round_cl,\n",
    "                                    proposal = params.proposal)\n",
    "    \n",
    "    \n",
    "    return pickle.dumps(res)\n",
    "    \n",
    "    return [p, p0] + posteriors"
   ]
  },
  {
   "cell_type": "code",
   "execution_count": 5,
   "metadata": {},
   "outputs": [
    {
     "data": {
      "application/vnd.jupyter.widget-view+json": {
       "model_id": "a6d7ef88987149e3a19553e5f4287549"
      }
     },
     "metadata": {},
     "output_type": "display_data"
    },
    {
     "name": "stdout",
     "output_type": "stream",
     "text": [
      "\n"
     ]
    },
    {
     "data": {
      "application/vnd.jupyter.widget-view+json": {
       "model_id": "64af339fa79744e989f612a63847432e"
      }
     },
     "metadata": {},
     "output_type": "display_data"
    },
    {
     "name": "stdout",
     "output_type": "stream",
     "text": [
      "\n"
     ]
    },
    {
     "data": {
      "application/vnd.jupyter.widget-view+json": {
       "model_id": "25cf09b4635b4b4f88ae59ea4b6b3cd7"
      }
     },
     "metadata": {},
     "output_type": "display_data"
    },
    {
     "name": "stdout",
     "output_type": "stream",
     "text": [
      "\n"
     ]
    },
    {
     "data": {
      "application/vnd.jupyter.widget-view+json": {
       "model_id": "17489d35952040dea7da7b58c9a27382"
      }
     },
     "metadata": {},
     "output_type": "display_data"
    },
    {
     "name": "stdout",
     "output_type": "stream",
     "text": [
      "\n"
     ]
    },
    {
     "data": {
      "application/vnd.jupyter.widget-view+json": {
       "model_id": "6e4d50a50fac44d4a4d3e66417431d8c"
      }
     },
     "metadata": {},
     "output_type": "display_data"
    },
    {
     "name": "stdout",
     "output_type": "stream",
     "text": [
      "\n"
     ]
    },
    {
     "data": {
      "application/vnd.jupyter.widget-view+json": {
       "model_id": "404a371d76e4475ebfc7b9ebcad848ef"
      }
     },
     "metadata": {},
     "output_type": "display_data"
    },
    {
     "name": "stdout",
     "output_type": "stream",
     "text": [
      "\n"
     ]
    },
    {
     "data": {
      "application/vnd.jupyter.widget-view+json": {
       "model_id": "f6c5851e5a584a6c8a5eb2aa9fbf0ebe"
      }
     },
     "metadata": {},
     "output_type": "display_data"
    },
    {
     "name": "stdout",
     "output_type": "stream",
     "text": [
      "\n"
     ]
    },
    {
     "data": {
      "application/vnd.jupyter.widget-view+json": {
       "model_id": "8ec3698ad02542868c2d62f6f138623c"
      }
     },
     "metadata": {},
     "output_type": "display_data"
    },
    {
     "name": "stdout",
     "output_type": "stream",
     "text": [
      "\n"
     ]
    },
    {
     "data": {
      "application/vnd.jupyter.widget-view+json": {
       "model_id": "41458202d23e437bb19a822444418f4e"
      }
     },
     "metadata": {},
     "output_type": "display_data"
    },
    {
     "name": "stdout",
     "output_type": "stream",
     "text": [
      "\n"
     ]
    }
   ],
   "source": [
    "posteriors = run(default_params)"
   ]
  },
  {
   "cell_type": "code",
   "execution_count": 7,
   "metadata": {},
   "outputs": [
    {
     "name": "stderr",
     "output_type": "stream",
     "text": [
      "Process Worker-3:\n",
      "Traceback (most recent call last):\n",
      "  File \"/usr/local/Cellar/python3/3.6.1/Frameworks/Python.framework/Versions/3.6/lib/python3.6/multiprocessing/process.py\", line 249, in _bootstrap\n",
      "    self.run()\n",
      "  File \"/Users/kaan/delfi/delfi/generator/MPGenerator.py\", line 29, in run\n",
      "    params_batch = self.conn.recv()\n",
      "  File \"/usr/local/Cellar/python3/3.6.1/Frameworks/Python.framework/Versions/3.6/lib/python3.6/multiprocessing/connection.py\", line 250, in recv\n",
      "    buf = self._recv_bytes()\n",
      "  File \"/usr/local/Cellar/python3/3.6.1/Frameworks/Python.framework/Versions/3.6/lib/python3.6/multiprocessing/connection.py\", line 407, in _recv_bytes\n",
      "    buf = self._recv(4)\n",
      "  File \"/usr/local/Cellar/python3/3.6.1/Frameworks/Python.framework/Versions/3.6/lib/python3.6/multiprocessing/connection.py\", line 379, in _recv\n",
      "    chunk = read(handle, remaining)\n",
      "KeyboardInterrupt\n"
     ]
    }
   ],
   "source": [
    "res = pickle.loads(posteriors)"
   ]
  },
  {
   "cell_type": "code",
   "execution_count": 7,
   "metadata": {},
   "outputs": [
    {
     "name": "stderr",
     "output_type": "stream",
     "text": [
      "/usr/local/lib/python3.6/site-packages/matplotlib/axes/_axes.py:545: UserWarning: No labelled objects found. Use label='...' kwarg on individual plots.\n",
      "  warnings.warn(\"No labelled objects found. \"\n"
     ]
    },
    {
     "data": {
      "image/png": "[encoded data removed]",
      "text/plain": [
       "<matplotlib.figure.Figure at 0x128300860>"
      ]
     },
     "metadata": {},
     "output_type": "display_data"
    }
   ],
   "source": [
    "plot_family(posteriors)"
   ]
  },
  {
   "cell_type": "code",
   "execution_count": null,
   "metadata": {
    "collapsed": true
   },
   "outputs": [],
   "source": []
  }
 ],
 "metadata": {
  "kernelspec": {
   "display_name": "Python 3",
   "language": "python",
   "name": "python3"
  },
  "language_info": {
   "codemirror_mode": {
    "name": "ipython",
    "version": 3
   },
   "file_extension": ".py",
   "mimetype": "text/x-python",
   "name": "python",
   "nbconvert_exporter": "python",
   "pygments_lexer": "ipython3",
   "version": "3.6.1"
  }
 },
 "nbformat": 4,
 "nbformat_minor": 2
}
