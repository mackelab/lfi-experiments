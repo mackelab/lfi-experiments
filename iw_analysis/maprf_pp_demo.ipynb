{
 "cells": [
  {
   "cell_type": "markdown",
   "metadata": {},
   "source": [
    "# SNPE & RF\n",
    "\n",
    "learning receptive field parameters from inputs (white-noise videos) and outputs (spike trains) of linear-nonlinear neuron models with parameterized linear filters"
   ]
  },
  {
   "cell_type": "code",
   "execution_count": 1,
   "metadata": {
    "collapsed": true
   },
   "outputs": [],
   "source": [
    "%%capture\n",
    "%matplotlib inline\n",
    "# notebook currently depends on code found only in feature_maprf-branch of lfi_models !\n",
    "\n",
    "import delfi.neuralnet as dn\n",
    "import delfi.distribution as dd\n",
    "import delfi.generator as dg\n",
    "import delfi.inference as infer\n",
    "import delfi.utils.io as io\n",
    "import delfi.summarystats as ds\n",
    "import matplotlib.pyplot as plt\n",
    "import numpy as np\n",
    "import lfimodels.maprf.utils as utils\n",
    "\n",
    "from lfimodels.maprf.maprfModel import maprf\n",
    "from lfimodels.maprf.maprfStats import maprfStats\n",
    "from delfi.utils.viz import plot_pdf\n",
    "\n",
    "import lasagne.layers as ll\n",
    "import theano\n",
    "import theano.tensor as tt\n",
    "import collections\n"
   ]
  },
  {
   "cell_type": "code",
   "execution_count": 2,
   "metadata": {
    "collapsed": true
   },
   "outputs": [],
   "source": [
    "def create_prior(m):\n",
    "    ## prior over simulation parameters\n",
    "    prior = collections.OrderedDict()\n",
    "    \n",
    "    if 'bias' in m.params_ls['glm']:\n",
    "        prior['λo'] = {'mu' : np.array([-0.57]), 'sigma' : np.array([np.sqrt(1.63)]) }\n",
    "    if 'vec_A' in m.params_ls['kernel']['s']:\n",
    "        prior['vec_A']  = {'mu' : np.zeros(2), 'sigma' : 1.0 * np.ones(2) }\n",
    "    if 'gain' in m.params_ls['kernel']['s']:\n",
    "        prior['float_A'] = {'mu' : np.array([0]), 'sigma' : np.array([1.])}  \n",
    "    if 'phase' in m.params_ls['kernel']['s']:\n",
    "        prior['logit_φ']  = {'mu' : np.array([0]), 'sigma' : np.array([1.78]) }    \n",
    "    if 'vec_f' in m.params_ls['kernel']['s']:\n",
    "        prior['vec_f']  = {'mu' : np.zeros(2), 'sigma' : 1.0 * np.ones(2) }\n",
    "    if 'ratio' in m.params_ls['kernel']['s']:\n",
    "        prior['log_γ']  = {'mu' : np.array([-0.098]), 'sigma' : np.array([0.256])}\n",
    "    if 'width' in m.params_ls['kernel']['s']:\n",
    "        prior['log_b']  = {'mu' : np.array([ 0.955]), 'sigma' : np.array([0.236])}\n",
    "    if 'xo' in m.params_ls['kernel']['l']:\n",
    "        prior['xo'] = {'mu' : np.array([0.]), 'sigma' : np.array([1/np.sqrt(.5)])}\n",
    "    if 'yo' in m.params_ls['kernel']['l']:\n",
    "        prior['yo'] = {'mu' : np.array([0.]), 'sigma' : np.array([1/np.sqrt(.5)])}    \n",
    "        \n",
    "    L = np.diag(np.concatenate([prior[i]['sigma'] for i in list(prior.keys())]))\n",
    "    \n",
    "    if 'value' in m.params_ls['kernel']['t']:\n",
    "        ax_t = m.dt * np.arange(1,len_kt+1)\n",
    "        Λ =  np.diag(ax_t / 0.075 * np.exp(1 - ax_t / 0.075))\n",
    "        D = np.eye(ax_t.shape[0]) - np.eye(ax_t.shape[0], k=-1)\n",
    "        F = np.dot(D, D.T)\n",
    "        Σ = np.dot(Λ, np.linalg.inv(F).dot(Λ))\n",
    "        prior['kt'] = {'mu': np.zeros_like(ax_t), 'sigma': np.linalg.inv(D).dot(Λ)}\n",
    "        L = np.block([[L, np.zeros((L.shape[0], ax_t.size))], \n",
    "                      [np.zeros((ax_t.size, L.shape[1])), prior['kt']['sigma']]])\n",
    "        \n",
    "    mu  = np.concatenate([prior[i][ 'mu'  ] for i in prior.keys()])\n",
    "    \n",
    "    return dd.Gaussian(m=mu, S=L.T.dot(L), seed=seed)"
   ]
  },
  {
   "cell_type": "code",
   "execution_count": 3,
   "metadata": {
    "collapsed": true
   },
   "outputs": [],
   "source": [
    "def plot_draws(m, p, name, x = 5, y = 3):\n",
    "    fig, axes = plt.subplots(y, x, figsize=(x * 2, y * 2))\n",
    "    \n",
    "    for i in range(x):\n",
    "        for j in range(y):\n",
    "            ax = axes[j][i]\n",
    "            if i > 0:\n",
    "                ax.set_yticks([])\n",
    "            if j < y - 1:\n",
    "                ax.set_xticks([])\n",
    "            ax.imshow(m.params_to_rf(p.gen().reshape(-1))[0], interpolation='None')\n",
    "            \n",
    "    fig.suptitle('RF {} draws'.format(name))\n",
    "    plt.show()\n",
    "    \n",
    "    return fig, axes\n",
    "\n",
    "def plot_weird_stuff(m, p, obs_stats, true_params, posterior=None):\n",
    "    if posterior is not None:\n",
    "        fig, axes = plt.subplots(1, 5, figsize=(10,2))\n",
    "    else:\n",
    "        fig, axes = plt.subplots(1, 3, figsize=(6,2))\n",
    "        \n",
    "    axes[0].imshow(m.params_to_rf(p.mean)[0], interpolation='None')\n",
    "    axes[0].set_title('prior mean RF')\n",
    "    axes[1].imshow(obs_stats.reshape(d,d), interpolation='None')\n",
    "    axes[1].set_title('data STA')\n",
    "    axes[1].set_yticks([])\n",
    "    axes[2].imshow(m.params_to_rf(true_params)[0], interpolation='None')\n",
    "    axes[2].set_title('ground-truth RF')\n",
    "    axes[2].set_yticks([])\n",
    "    \n",
    "    if posterior is not None:\n",
    "        axes[3].imshow(m.params_to_rf(posterior.calc_mean_and_cov()[0])[0], interpolation='None')\n",
    "        axes[3].set_title('posterior mean RF')\n",
    "        axes[3].set_yticks([])\n",
    "        a_max = np.argmax(posterior.a)\n",
    "        axes[4].imshow(m.params_to_rf(posterior.xs[a_max].m)[0], interpolation='None')\n",
    "        axes[4].set_title('posterior mode RF')\n",
    "        axes[4].set_yticks([])\n",
    "\n",
    "    plt.show()\n",
    "    \n",
    "    return fig, axes\n",
    "\n",
    "def plot_posterior_contours(m, posterior):\n",
    "    plt.figure(figsize=(6,6))\n",
    "    plt.imshow(obs_stats.reshape(d,d), interpolation='None', cmap='gray')\n",
    "    for i in range(100):\n",
    "        rfm = m.params_to_rf(posterior.gen().reshape(-1))[0]\n",
    "        plt.contour(rfm, levels=[-0.1, 0.1])\n",
    "        plt.hold(True)\n",
    "    plt.title('RF posterior draws')\n",
    "    plt.show()"
   ]
  },
  {
   "cell_type": "code",
   "execution_count": 32,
   "metadata": {
    "scrolled": false
   },
   "outputs": [],
   "source": [
    "seed = 42\n",
    "\n",
    "## simulation model\n",
    "\n",
    "d = 42 # edge length of (quadratic) receptive field\n",
    "parametrization = 'gabor' # ['full', 'gaussian', 'gabor']\n",
    "len_kt = 2\n",
    "\n",
    "params_ls = {'glm': ('bias',),\n",
    "             'kernel': {'s' : ('gain', 'phase', 'vec_f', 'ratio', 'width'),\n",
    "                        'l' : [],\n",
    "                        't' : []}}\n",
    "\n",
    "filter_shape = np.array((d,d,2))"
   ]
  },
  {
   "cell_type": "code",
   "execution_count": 34,
   "metadata": {
    "collapsed": true
   },
   "outputs": [],
   "source": [
    "n_hiddens =(50,50)\n",
    "n_filters = (24,24)\n",
    "n_train=100\n",
    "epochs=100\n",
    "minibatch=50\n",
    "n_rounds=5\n",
    "n_components=1"
   ]
  },
  {
   "cell_type": "code",
   "execution_count": 35,
   "metadata": {},
   "outputs": [],
   "source": [
    "def run_sim(alpha = 0):\n",
    "    m = maprf(filter_shape=filter_shape, \n",
    "              parametrization=parametrization,\n",
    "              params_ls = params_ls,\n",
    "              seed=seed, \n",
    "              dt=0.025, \n",
    "              duration=60)\n",
    "\n",
    "    p = create_prior(m)\n",
    "    s = maprfStats(n_summary=d*d)\n",
    "    g = dg.Default(model=m, prior=p, summary=s)\n",
    "    \n",
    "    \n",
    "    params_dict_true = {'glm': {'binsize': m.dt,\n",
    "                                'bias': 1.54546216004078},\n",
    "                                'kernel': {'s': {'angle': 0.7,\n",
    "                                         'freq': 1.2,\n",
    "                                         'gain': 0.357703095858336,\n",
    "                                         'phase': np.pi/4,\n",
    "                                         'ratio': 1.,\n",
    "                                         'width': 2.5},\n",
    "                                   'l': {'xo': 0.,\n",
    "                                         'yo': 0.},\n",
    "                                   't': {'value': np.array([1., 0.])}}}\n",
    "\n",
    "    m.params_dict = params_dict_true\n",
    "    true_params = m.read_params_buffer()\n",
    "\n",
    "    obs = m.gen_single()\n",
    "    obs_stats = s.calc([obs])\n",
    "\n",
    "    \n",
    "    inf = infer.SNPE(generator=g, obs=obs_stats, prior_norm=False, pilot_samples=None, seed=seed, reg_lambda=0,\n",
    "                     n_components=n_components, n_hiddens=n_hiddens, \n",
    "                     prior_mixin=alpha, n_filters=n_filters, n_inputs = (1,d,d), svi=True)\n",
    "\n",
    "    logs, tds, posteriors = inf.run(n_train=n_train, epochs=epochs, minibatch=minibatch, n_rounds=n_rounds)\n",
    "\n",
    "    posterior = inf.predict(obs_stats)\n",
    "    posterior.ndim = posterior.xs[0].ndim\n",
    "    \n",
    "    return { 'model' : m, 'prior' : p, 'posteriors' : posteriors, \n",
    "             'obs_stats' : obs_stats, 'true_params' : true_params }\n"
   ]
  },
  {
   "cell_type": "code",
   "execution_count": 36,
   "metadata": {
    "scrolled": true
   },
   "outputs": [
    {
     "data": {
      "application/vnd.jupyter.widget-view+json": {
       "model_id": "7cb7766378fc437a821412ef7a381aee"
      }
     },
     "metadata": {},
     "output_type": "display_data"
    },
    {
     "name": "stdout",
     "output_type": "stream",
     "text": [
      "\n"
     ]
    },
    {
     "data": {
      "application/vnd.jupyter.widget-view+json": {
       "model_id": "2ac22021cb24442db832ef26366d94d3"
      }
     },
     "metadata": {},
     "output_type": "display_data"
    },
    {
     "name": "stdout",
     "output_type": "stream",
     "text": [
      "\n"
     ]
    },
    {
     "data": {
      "application/vnd.jupyter.widget-view+json": {
       "model_id": "93e69c47fa314bdca207c493480aab59"
      }
     },
     "metadata": {},
     "output_type": "display_data"
    },
    {
     "name": "stdout",
     "output_type": "stream",
     "text": [
      "\n"
     ]
    },
    {
     "data": {
      "application/vnd.jupyter.widget-view+json": {
       "model_id": "eef1472fa6b44e54a1e2051c6ecca8fb"
      }
     },
     "metadata": {},
     "output_type": "display_data"
    },
    {
     "name": "stdout",
     "output_type": "stream",
     "text": [
      "\n"
     ]
    },
    {
     "data": {
      "application/vnd.jupyter.widget-view+json": {
       "model_id": "e9a699c531094043af1e1c49a5fe7d6e"
      }
     },
     "metadata": {},
     "output_type": "display_data"
    },
    {
     "name": "stdout",
     "output_type": "stream",
     "text": [
      "\n"
     ]
    },
    {
     "data": {
      "application/vnd.jupyter.widget-view+json": {
       "model_id": "b5ed1c48eb464e7695525ef55838f088"
      }
     },
     "metadata": {},
     "output_type": "display_data"
    },
    {
     "name": "stdout",
     "output_type": "stream",
     "text": [
      "\n"
     ]
    },
    {
     "data": {
      "application/vnd.jupyter.widget-view+json": {
       "model_id": "334ae5341b114b6fba04ed27eefab1a3"
      }
     },
     "metadata": {},
     "output_type": "display_data"
    },
    {
     "name": "stdout",
     "output_type": "stream",
     "text": [
      "\n"
     ]
    },
    {
     "data": {
      "application/vnd.jupyter.widget-view+json": {
       "model_id": "14dc0257421e4bb3b478dd40f6c5f6b8"
      }
     },
     "metadata": {},
     "output_type": "display_data"
    },
    {
     "name": "stdout",
     "output_type": "stream",
     "text": [
      "\n"
     ]
    },
    {
     "data": {
      "application/vnd.jupyter.widget-view+json": {
       "model_id": "b47b79e0753f43eabda80d71ad010a2c"
      }
     },
     "metadata": {},
     "output_type": "display_data"
    },
    {
     "name": "stdout",
     "output_type": "stream",
     "text": [
      "\n"
     ]
    },
    {
     "data": {
      "application/vnd.jupyter.widget-view+json": {
       "model_id": "1f97f48c902144ad8b2b3ed45d0da17d"
      }
     },
     "metadata": {},
     "output_type": "display_data"
    },
    {
     "name": "stdout",
     "output_type": "stream",
     "text": [
      "\n"
     ]
    },
    {
     "data": {
      "application/vnd.jupyter.widget-view+json": {
       "model_id": "3e88e4f9c9f0403cbe40d48619438c9e"
      }
     },
     "metadata": {},
     "output_type": "display_data"
    },
    {
     "name": "stdout",
     "output_type": "stream",
     "text": [
      "\n"
     ]
    },
    {
     "data": {
      "application/vnd.jupyter.widget-view+json": {
       "model_id": "25ddeec5d1184e8aa4cb4dadeac99d7f"
      }
     },
     "metadata": {},
     "output_type": "display_data"
    },
    {
     "name": "stdout",
     "output_type": "stream",
     "text": [
      "\n"
     ]
    },
    {
     "data": {
      "application/vnd.jupyter.widget-view+json": {
       "model_id": "eabcf87128aa4311a39d2d554c2c5db8"
      }
     },
     "metadata": {},
     "output_type": "display_data"
    },
    {
     "name": "stdout",
     "output_type": "stream",
     "text": [
      "\n"
     ]
    },
    {
     "data": {
      "application/vnd.jupyter.widget-view+json": {
       "model_id": "e21c731d15894d95bac3b2fc0dafaee3"
      }
     },
     "metadata": {},
     "output_type": "display_data"
    },
    {
     "name": "stdout",
     "output_type": "stream",
     "text": [
      "\n"
     ]
    },
    {
     "data": {
      "application/vnd.jupyter.widget-view+json": {
       "model_id": "e7d5b0c9ff474f05a52f518fe3915c80"
      }
     },
     "metadata": {},
     "output_type": "display_data"
    },
    {
     "name": "stdout",
     "output_type": "stream",
     "text": [
      "\n"
     ]
    },
    {
     "data": {
      "application/vnd.jupyter.widget-view+json": {
       "model_id": "03884084b63045419e60e6684625b9ed"
      }
     },
     "metadata": {},
     "output_type": "display_data"
    },
    {
     "name": "stdout",
     "output_type": "stream",
     "text": [
      "\n"
     ]
    },
    {
     "data": {
      "application/vnd.jupyter.widget-view+json": {
       "model_id": "5c97d2a920d746a58bee62eac55dc788"
      }
     },
     "metadata": {},
     "output_type": "display_data"
    },
    {
     "name": "stdout",
     "output_type": "stream",
     "text": [
      "\n"
     ]
    },
    {
     "data": {
      "application/vnd.jupyter.widget-view+json": {
       "model_id": "a43a2197453f477488a43ce664d72bbc"
      }
     },
     "metadata": {},
     "output_type": "display_data"
    },
    {
     "name": "stdout",
     "output_type": "stream",
     "text": [
      "\n"
     ]
    },
    {
     "data": {
      "application/vnd.jupyter.widget-view+json": {
       "model_id": "e0f2e81de9d443a88854972fdfa8ee6d"
      }
     },
     "metadata": {},
     "output_type": "display_data"
    },
    {
     "name": "stdout",
     "output_type": "stream",
     "text": [
      "\n"
     ]
    },
    {
     "data": {
      "application/vnd.jupyter.widget-view+json": {
       "model_id": "c942ca3e6632474884b6202fdf3e118e"
      }
     },
     "metadata": {},
     "output_type": "display_data"
    },
    {
     "name": "stdout",
     "output_type": "stream",
     "text": [
      "\n"
     ]
    },
    {
     "data": {
      "application/vnd.jupyter.widget-view+json": {
       "model_id": "3c57cdf9fe6d4973bd4b81ead6cc7a0a"
      }
     },
     "metadata": {},
     "output_type": "display_data"
    },
    {
     "name": "stdout",
     "output_type": "stream",
     "text": [
      "\n"
     ]
    },
    {
     "data": {
      "application/vnd.jupyter.widget-view+json": {
       "model_id": "c59ca7907bad459ab425fc5e0b7c83c1"
      }
     },
     "metadata": {},
     "output_type": "display_data"
    },
    {
     "name": "stdout",
     "output_type": "stream",
     "text": [
      "\n"
     ]
    },
    {
     "data": {
      "application/vnd.jupyter.widget-view+json": {
       "model_id": "485ff7e79d6c4c8d9fe428c7db484e2e"
      }
     },
     "metadata": {},
     "output_type": "display_data"
    },
    {
     "name": "stdout",
     "output_type": "stream",
     "text": [
      "\n"
     ]
    },
    {
     "data": {
      "application/vnd.jupyter.widget-view+json": {
       "model_id": "55f12254c3e944899e612e327fafdcff"
      }
     },
     "metadata": {},
     "output_type": "display_data"
    },
    {
     "name": "stdout",
     "output_type": "stream",
     "text": [
      "\n"
     ]
    },
    {
     "data": {
      "application/vnd.jupyter.widget-view+json": {
       "model_id": "c9abccf04f944c31ba51ac25bfef6b8a"
      }
     },
     "metadata": {},
     "output_type": "display_data"
    },
    {
     "name": "stdout",
     "output_type": "stream",
     "text": [
      "\n"
     ]
    },
    {
     "data": {
      "application/vnd.jupyter.widget-view+json": {
       "model_id": "76f442893fc24bffa657c110a4ca23e3"
      }
     },
     "metadata": {},
     "output_type": "display_data"
    },
    {
     "name": "stdout",
     "output_type": "stream",
     "text": [
      "\n"
     ]
    },
    {
     "data": {
      "application/vnd.jupyter.widget-view+json": {
       "model_id": "7ff01ff3eab04c69a5b8db0ff38bf259"
      }
     },
     "metadata": {},
     "output_type": "display_data"
    },
    {
     "name": "stdout",
     "output_type": "stream",
     "text": [
      "\n"
     ]
    },
    {
     "data": {
      "application/vnd.jupyter.widget-view+json": {
       "model_id": "ced51c1cd67047c4ab4addb58549c5a3"
      }
     },
     "metadata": {},
     "output_type": "display_data"
    },
    {
     "name": "stdout",
     "output_type": "stream",
     "text": [
      "\n"
     ]
    },
    {
     "data": {
      "application/vnd.jupyter.widget-view+json": {
       "model_id": "b1a5a28e2eb34606abb62c462716dabb"
      }
     },
     "metadata": {},
     "output_type": "display_data"
    },
    {
     "name": "stdout",
     "output_type": "stream",
     "text": [
      "\n"
     ]
    },
    {
     "data": {
      "application/vnd.jupyter.widget-view+json": {
       "model_id": "4c445a3766914f6780023d6a4dde2b44"
      }
     },
     "metadata": {},
     "output_type": "display_data"
    },
    {
     "name": "stdout",
     "output_type": "stream",
     "text": [
      "\n"
     ]
    },
    {
     "data": {
      "application/vnd.jupyter.widget-view+json": {
       "model_id": "25b5b6e178e549678db9acee136b065f"
      }
     },
     "metadata": {},
     "output_type": "display_data"
    },
    {
     "name": "stdout",
     "output_type": "stream",
     "text": [
      "\n"
     ]
    },
    {
     "data": {
      "application/vnd.jupyter.widget-view+json": {
       "model_id": "47055bce446c40559bf517bd487525a4"
      }
     },
     "metadata": {},
     "output_type": "display_data"
    },
    {
     "name": "stdout",
     "output_type": "stream",
     "text": [
      "\n"
     ]
    },
    {
     "data": {
      "application/vnd.jupyter.widget-view+json": {
       "model_id": "bae46ddd7db24267b695d5c8fe324016"
      }
     },
     "metadata": {},
     "output_type": "display_data"
    },
    {
     "name": "stdout",
     "output_type": "stream",
     "text": [
      "\n"
     ]
    },
    {
     "data": {
      "application/vnd.jupyter.widget-view+json": {
       "model_id": "e9271846eeb9464aa8a254220a4c7c08"
      }
     },
     "metadata": {},
     "output_type": "display_data"
    },
    {
     "name": "stdout",
     "output_type": "stream",
     "text": [
      "\n"
     ]
    },
    {
     "data": {
      "application/vnd.jupyter.widget-view+json": {
       "model_id": "a5e2ba82e3484fd89d7f84992f98efb4"
      }
     },
     "metadata": {},
     "output_type": "display_data"
    },
    {
     "name": "stdout",
     "output_type": "stream",
     "text": [
      "\n"
     ]
    },
    {
     "data": {
      "application/vnd.jupyter.widget-view+json": {
       "model_id": "2a2ac0a1a19c42478be2e936e7b7968e"
      }
     },
     "metadata": {},
     "output_type": "display_data"
    },
    {
     "name": "stdout",
     "output_type": "stream",
     "text": [
      "\n"
     ]
    },
    {
     "data": {
      "application/vnd.jupyter.widget-view+json": {
       "model_id": "ed930a3e8d0547148e6aaf084b6aadc5"
      }
     },
     "metadata": {},
     "output_type": "display_data"
    },
    {
     "name": "stdout",
     "output_type": "stream",
     "text": [
      "\n"
     ]
    },
    {
     "data": {
      "application/vnd.jupyter.widget-view+json": {
       "model_id": "ae3bcc60baf740288a16b0c63aca32b7"
      }
     },
     "metadata": {},
     "output_type": "display_data"
    },
    {
     "name": "stdout",
     "output_type": "stream",
     "text": [
      "\n"
     ]
    },
    {
     "data": {
      "application/vnd.jupyter.widget-view+json": {
       "model_id": "2582ff9d583f4e8f874180a85bdee270"
      }
     },
     "metadata": {},
     "output_type": "display_data"
    },
    {
     "name": "stdout",
     "output_type": "stream",
     "text": [
      "\n"
     ]
    },
    {
     "data": {
      "application/vnd.jupyter.widget-view+json": {
       "model_id": "f14979c6c13d4958b41a97d38d5de4e4"
      }
     },
     "metadata": {},
     "output_type": "display_data"
    },
    {
     "name": "stdout",
     "output_type": "stream",
     "text": [
      "\n"
     ]
    },
    {
     "data": {
      "application/vnd.jupyter.widget-view+json": {
       "model_id": "c532629d9d55408ca10921824f06f5a0"
      }
     },
     "metadata": {},
     "output_type": "display_data"
    },
    {
     "name": "stdout",
     "output_type": "stream",
     "text": [
      "\n"
     ]
    },
    {
     "data": {
      "application/vnd.jupyter.widget-view+json": {
       "model_id": "07a6c69e2e224c7f99b2dfd6c0de684e"
      }
     },
     "metadata": {},
     "output_type": "display_data"
    },
    {
     "name": "stdout",
     "output_type": "stream",
     "text": [
      "\n"
     ]
    },
    {
     "data": {
      "application/vnd.jupyter.widget-view+json": {
       "model_id": "d5fa557cdccc4440952306aefca66467"
      }
     },
     "metadata": {},
     "output_type": "display_data"
    },
    {
     "name": "stdout",
     "output_type": "stream",
     "text": [
      "\n"
     ]
    },
    {
     "data": {
      "application/vnd.jupyter.widget-view+json": {
       "model_id": "068d3eb8bb814d54b35b8eb9d7b20681"
      }
     },
     "metadata": {},
     "output_type": "display_data"
    },
    {
     "name": "stdout",
     "output_type": "stream",
     "text": [
      "\n"
     ]
    },
    {
     "data": {
      "application/vnd.jupyter.widget-view+json": {
       "model_id": "d07353342a994a8daa700d72d77f296a"
      }
     },
     "metadata": {},
     "output_type": "display_data"
    },
    {
     "name": "stdout",
     "output_type": "stream",
     "text": [
      "\n"
     ]
    },
    {
     "data": {
      "application/vnd.jupyter.widget-view+json": {
       "model_id": "840a61b5aa8d4c1f96742f3c2061ddf5"
      }
     },
     "metadata": {},
     "output_type": "display_data"
    },
    {
     "name": "stdout",
     "output_type": "stream",
     "text": [
      "\n"
     ]
    },
    {
     "data": {
      "application/vnd.jupyter.widget-view+json": {
       "model_id": "45c1b27dd4df4774a69c723090196658"
      }
     },
     "metadata": {},
     "output_type": "display_data"
    },
    {
     "name": "stdout",
     "output_type": "stream",
     "text": [
      "\n"
     ]
    },
    {
     "data": {
      "application/vnd.jupyter.widget-view+json": {
       "model_id": "96dabee99e03461d849834a680954ce7"
      }
     },
     "metadata": {},
     "output_type": "display_data"
    },
    {
     "name": "stdout",
     "output_type": "stream",
     "text": [
      "\n"
     ]
    },
    {
     "data": {
      "application/vnd.jupyter.widget-view+json": {
       "model_id": "bfa89eaa47824c22b9d9632468703e29"
      }
     },
     "metadata": {},
     "output_type": "display_data"
    },
    {
     "name": "stdout",
     "output_type": "stream",
     "text": [
      "\n"
     ]
    },
    {
     "data": {
      "application/vnd.jupyter.widget-view+json": {
       "model_id": "40fc39dc26fb4a479714790e40ee6433"
      }
     },
     "metadata": {},
     "output_type": "display_data"
    },
    {
     "name": "stdout",
     "output_type": "stream",
     "text": [
      "\n"
     ]
    },
    {
     "data": {
      "application/vnd.jupyter.widget-view+json": {
       "model_id": "82a1473da4f14306b06a671b73408896"
      }
     },
     "metadata": {},
     "output_type": "display_data"
    },
    {
     "name": "stdout",
     "output_type": "stream",
     "text": [
      "\n"
     ]
    },
    {
     "data": {
      "application/vnd.jupyter.widget-view+json": {
       "model_id": "8e4195179e014a53a467b321e519270f"
      }
     },
     "metadata": {},
     "output_type": "display_data"
    },
    {
     "name": "stdout",
     "output_type": "stream",
     "text": [
      "\n"
     ]
    },
    {
     "data": {
      "application/vnd.jupyter.widget-view+json": {
       "model_id": "572c780225d240bb8c03ea7698188aff"
      }
     },
     "metadata": {},
     "output_type": "display_data"
    },
    {
     "name": "stdout",
     "output_type": "stream",
     "text": [
      "\n"
     ]
    },
    {
     "data": {
      "application/vnd.jupyter.widget-view+json": {
       "model_id": "70d8f5ac97d74f54853c3fe199bcab41"
      }
     },
     "metadata": {},
     "output_type": "display_data"
    },
    {
     "name": "stdout",
     "output_type": "stream",
     "text": [
      "\n"
     ]
    },
    {
     "data": {
      "application/vnd.jupyter.widget-view+json": {
       "model_id": "fce2fa8764374432a49630efdf0aea1f"
      }
     },
     "metadata": {},
     "output_type": "display_data"
    },
    {
     "name": "stdout",
     "output_type": "stream",
     "text": [
      "\n"
     ]
    },
    {
     "data": {
      "application/vnd.jupyter.widget-view+json": {
       "model_id": "bbe4649a76a245a88ed5714300306197"
      }
     },
     "metadata": {},
     "output_type": "display_data"
    },
    {
     "name": "stdout",
     "output_type": "stream",
     "text": [
      "\n"
     ]
    },
    {
     "data": {
      "application/vnd.jupyter.widget-view+json": {
       "model_id": "31382d6617244064a91d301ab52eed4d"
      }
     },
     "metadata": {},
     "output_type": "display_data"
    },
    {
     "name": "stdout",
     "output_type": "stream",
     "text": [
      "\n"
     ]
    },
    {
     "data": {
      "application/vnd.jupyter.widget-view+json": {
       "model_id": "e6c5a36723bb4d57972155f2c063dfc3"
      }
     },
     "metadata": {},
     "output_type": "display_data"
    },
    {
     "name": "stdout",
     "output_type": "stream",
     "text": [
      "\n"
     ]
    },
    {
     "data": {
      "application/vnd.jupyter.widget-view+json": {
       "model_id": "a55e612cd6864774a8c55d6d7208d8ab"
      }
     },
     "metadata": {},
     "output_type": "display_data"
    },
    {
     "name": "stdout",
     "output_type": "stream",
     "text": [
      "\n"
     ]
    },
    {
     "data": {
      "application/vnd.jupyter.widget-view+json": {
       "model_id": "76561a5b727d42b495220f299046d11c"
      }
     },
     "metadata": {},
     "output_type": "display_data"
    },
    {
     "name": "stdout",
     "output_type": "stream",
     "text": [
      "\n"
     ]
    }
   ],
   "source": [
    "sim_list = {}\n",
    "alphas = [ 0, 0.01, 0.03, 0.1 ]\n",
    "\n",
    "for alpha in alphas:\n",
    "    sim_list[alpha] = run_sim(alpha=alpha)"
   ]
  },
  {
   "cell_type": "code",
   "execution_count": 39,
   "metadata": {
    "collapsed": true
   },
   "outputs": [],
   "source": [
    "def plot_variances(posteriors, title = None, n_samples = 10000):\n",
    "    varlist = []\n",
    "    for p in posteriors:\n",
    "        samples = p.gen(n_samples)\n",
    "        means = [ np.mean(x) for x in samples.T ]\n",
    "        var = [ np.mean((x - m) ** 2) for x, m in zip(samples.T, means) ]\n",
    "        varlist.append(var)\n",
    "        \n",
    "    ylists = np.asarray(varlist).T\n",
    "    fig, ax = plt.subplots(1, figsize=(8,4))\n",
    "    \n",
    "    if title is not None:        \n",
    "        fig.suptitle(title)\n",
    "        \n",
    "    xlist = np.arange(len(posteriors))\n",
    "    \n",
    "    for ylist in ylists:\n",
    "        ax.semilogy(xlist, ylist)\n",
    "        \n",
    "    ax.set_xticks(xlist)\n",
    "    \n",
    "    ax.set_xlabel(\"Rounds\")\n",
    "    ax.set_ylabel(\"Posterior Variance\")\n",
    "    \n",
    "    plt.show()\n",
    "    return fig    "
   ]
  },
  {
   "cell_type": "code",
   "execution_count": 40,
   "metadata": {
    "scrolled": false
   },
   "outputs": [
    {
     "data": {
      "image/png": "[encoded data removed]",
      "text/plain": [
       "<matplotlib.figure.Figure at 0x116d79390>"
      ]
     },
     "metadata": {},
     "output_type": "display_data"
    },
    {
     "data": {
      "image/png": "[encoded data removed]",
      "text/plain": [
       "<matplotlib.figure.Figure at 0x11970dc18>"
      ]
     },
     "metadata": {},
     "output_type": "display_data"
    },
    {
     "data": {
      "image/png": "[encoded data removed]",
      "text/plain": [
       "<matplotlib.figure.Figure at 0x11e008c18>"
      ]
     },
     "metadata": {},
     "output_type": "display_data"
    },
    {
     "data": {
      "image/png": "[encoded data removed]",
      "text/plain": [
       "<matplotlib.figure.Figure at 0x119518588>"
      ]
     },
     "metadata": {},
     "output_type": "display_data"
    }
   ],
   "source": [
    "for alpha in alphas:\n",
    "    data = sim_list[alpha]\n",
    "    model = data['model']\n",
    "    prior = data['prior']\n",
    "    posteriors = data['posteriors']\n",
    "    true_params = data['true_params']\n",
    "\n",
    "    obs_stats = data['obs_stats']\n",
    "    posterior = posteriors[-1]\n",
    "\n",
    "    #plot_draws(model, prior, \"prior\")\n",
    "    #plot_weird_stuff(model, prior, obs_stats, true_params)\n",
    "\n",
    "    #for p in posteriors:\n",
    "        #plot_draws(model, p, \"posterior\")\n",
    "\n",
    "    plot_variances([prior] + posteriors, \"Gaussian ($\\\\alpha = {}$)\".format(alpha))\n",
    "    # all pairwise marginals of fitted posterior\n",
    "    #plot_pdf(posterior, pdf2=prior, lims=[-3,3], gt=true_params.reshape(-1), figsize=(8,8), \n",
    "     #        labels_params=['exp_b', 'vec_A1', 'vec_A2', 'vec_f1', 'vec_f2', 'log ratio', 'log width'])"
   ]
  },
  {
   "cell_type": "code",
   "execution_count": null,
   "metadata": {
    "collapsed": true
   },
   "outputs": [],
   "source": []
  }
 ],
 "metadata": {
  "kernelspec": {
   "display_name": "Python 3",
   "language": "python",
   "name": "python3"
  },
  "language_info": {
   "codemirror_mode": {
    "name": "ipython",
    "version": 3
   },
   "file_extension": ".py",
   "mimetype": "text/x-python",
   "name": "python",
   "nbconvert_exporter": "python",
   "pygments_lexer": "ipython3",
   "version": "3.6.1"
  }
 },
 "nbformat": 4,
 "nbformat_minor": 1
}
