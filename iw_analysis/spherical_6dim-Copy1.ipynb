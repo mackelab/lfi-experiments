{
 "cells": [
  {
   "cell_type": "code",
   "execution_count": 1,
   "metadata": {
    "collapsed": true
   },
   "outputs": [],
   "source": [
    "import delfi.distribution as dd\n",
    "import delfi.generator as dg\n",
    "import delfi.inference as infer\n",
    "import delfi.summarystats as ds\n",
    "import delfi.kernel as dk\n",
    "\n",
    "from delfi.simulator.BaseSimulator import BaseSimulator\n",
    "\n",
    "import matplotlib.pyplot as plt\n",
    "from mpl_toolkits.mplot3d import Axes3D\n",
    "from matplotlib import cm\n",
    "import numpy as np\n",
    "from delfi.utils.viz import plot_pdf\n",
    "\n",
    "from tqdm import tqdm_notebook as tqdm\n",
    "\n",
    "from parameters import ParameterSet\n",
    "\n",
    "%matplotlib notebook\n",
    "\n",
    "from delfi.utils.viz import plot_pdf, plot_hist_marginals"
   ]
  },
  {
   "cell_type": "code",
   "execution_count": 2,
   "metadata": {
    "collapsed": true
   },
   "outputs": [],
   "source": [
    "class ShapeModel(BaseSimulator):\n",
    "    def __init__(self, f, sigma, ndim, seed=None):\n",
    "        super().__init__(dim_param=ndim, seed=seed)\n",
    "        self.f = f\n",
    "        \n",
    "        self.sigma = sigma\n",
    "        \n",
    "    def gen_single(self, params):\n",
    "        m = self.f(params)\n",
    "        draw = self.rng.normal(loc=m, scale=self.sigma, size=(1,))\n",
    "        return { 'data' : draw }\n",
    "    \n",
    "class ShapeDistribution(dd.BaseDistribution.BaseDistribution):\n",
    "    def __init__(self, f, sm, obs_stats, seed=None):\n",
    "        super().__init__(sm.dim_param, seed=seed)\n",
    "        self.f = f\n",
    "        self.sm = sm\n",
    "        self.obs_stats = obs_stats\n",
    "        self.m = np.linalg.norm(obs_stats)\n",
    "        self.sigma = sm.sigma\n",
    "        \n",
    "    def eval(self, params, log=True):\n",
    "        logl = -0.5 * np.log(2 * np.pi * self.sigma) -0.5 * ([self.f(param) for param in params] - self.m) ** 2 / (self.sigma ** 2)\n",
    "        return logl if log else np.exp(logl)"
   ]
  },
  {
   "cell_type": "code",
   "execution_count": 3,
   "metadata": {
    "collapsed": true
   },
   "outputs": [],
   "source": [
    "class ModelConcat(BaseSimulator):\n",
    "    def __init__(self, mlist, seed=None):\n",
    "        dim_params = [ m.dim_param for m in mlist ]\n",
    "        super().__init__(dim_param=np.sum(dim_params), seed=seed)\n",
    "        \n",
    "        self.mlist = mlist\n",
    "        self.idx_list = np.insert(np.cumsum(dim_params), 0, 0)\n",
    "        \n",
    "    def gen_single(self, params):\n",
    "        params_list = [ params[self.idx_list[i]:self.idx_list[i+1]] for i in range(len(self.mlist)) ]\n",
    "        rets = [ m.gen_single(p) for m, p in zip(self.mlist, params_list) ]\n",
    "        \n",
    "        data_ret = np.concatenate([ r['data'] for r in rets ])\n",
    "        return { 'data' : data_ret }"
   ]
  },
  {
   "cell_type": "code",
   "execution_count": 4,
   "metadata": {
    "collapsed": true
   },
   "outputs": [],
   "source": [
    "def plot_pdf_2d(params, dist, label = None):\n",
    "    lims = 2 * np.linalg.norm(params.obs_stats)\n",
    "    xlist = np.linspace(-lims, lims, 80)\n",
    "    ylist = np.linspace(-lims, lims, 80)\n",
    "    \n",
    "    fig = plt.figure(figsize=(8,4))\n",
    "    ax = fig.add_subplot(111, projection='3d')\n",
    "    \n",
    "    X, Y = np.meshgrid(xlist, ylist)\n",
    "    xys = np.asarray((X.ravel(), Y.ravel())).T\n",
    "    \n",
    "    if label is not None:\n",
    "        fig.suptitle(label)\n",
    "        \n",
    "    Z = dist.eval(xys, log=False).reshape(X.shape)\n",
    "    ax.plot_surface(X, Y, Z, cmap=cm.plasma, rstride=1, cstride=1, linewidth=0, antialiased=False)\n",
    "        \n",
    "    ax.set_xlabel(\"$\\\\theta_1$\")\n",
    "    ax.set_ylabel(\"$\\\\theta_2$\")\n",
    "    ax.set_zlabel(\"$p(\\\\theta)$\")\n",
    "    plt.show()\n",
    "    \n",
    "    return fig"
   ]
  },
  {
   "cell_type": "code",
   "execution_count": 5,
   "metadata": {
    "collapsed": true
   },
   "outputs": [],
   "source": [
    "def run_SNPE(params):\n",
    "    seeds = np.arange(0, params.n_copies) + params.seed \n",
    "    mlist = [ ShapeModel(params.f, sigma=params.sigma, ndim=params.ndim, seed=s) for s in seeds ]\n",
    "    mc = ModelConcat(mlist, seed=params.seed)\n",
    "    m = mlist[0]\n",
    "    p = dd.Uniform(-params.prior_width * np.ones(params.n_copies * params.ndim), params.prior_width * np.ones(params.n_copies * params.ndim), seed=params.seed)\n",
    "    s = ds.Identity(params.n_copies)\n",
    "    g = dg.Default(model=mc, prior=p, summary=s)\n",
    "    \n",
    "    res = infer.SNPE(g, obs=[params.obs_stats], \n",
    "                     n_hiddens=params.n_hiddens, \n",
    "                     n_components=params.n_components, \n",
    "                     seed=params.seed, \n",
    "                     prior_mixin=params.prior_mixin, \n",
    "                     kernel=params.kernel,\n",
    "                     verbose=True)\n",
    "    \n",
    "    logs, tds, posteriors = res.run(n_train=params.n_train, n_rounds = params.n_rounds, round_cl=params.round_cl)\n",
    "\n",
    "    return mc, p, s, res, posteriors"
   ]
  },
  {
   "cell_type": "code",
   "execution_count": 6,
   "metadata": {
    "collapsed": true
   },
   "outputs": [],
   "source": [
    "default_params = ParameterSet({})\n",
    "\n",
    "#was 394,395 for good result\n",
    "default_params.seed = 396\n",
    "default_params.ndim = 2\n",
    "default_params.n_components = 10\n",
    "default_params.n_hiddens = 2 * [ default_params.n_components * default_params.ndim * 8 ]\n",
    "\n",
    "default_params.sigma = 0.2\n",
    "\n",
    "default_params.n_copies = 3\n",
    "\n",
    "default_params.true_params = np.tile(2 * np.eye(default_params.ndim)[0], default_params.n_copies)\n",
    "default_params.obs_stats = np.zeros(default_params.n_copies)\n",
    "default_params.prior_width = 2\n",
    "\n",
    "default_params.prior_mixin = 0.1\n",
    "\n",
    "default_params.round_cl = 10\n",
    "\n",
    "default_params.kernel = None\n",
    "\n",
    "default_params.n_train = 300000\n",
    "default_params.n_rounds = 3\n",
    "\n",
    "cubic = lambda x: (x[0] - 2) * (x[0] + 2) * x[0] - x[1]\n",
    "ushape = lambda x: x[0] ** 2 - x[1] - 1\n",
    "ring = lambda x: np.linalg.norm(x) - 1\n",
    "default_params.f = ushape"
   ]
  },
  {
   "cell_type": "code",
   "execution_count": null,
   "metadata": {
    "scrolled": false
   },
   "outputs": [
    {
     "data": {
      "application/vnd.jupyter.widget-view+json": {
       "model_id": "c909b923f4bc4d76b720b36cb875c5a7"
      }
     },
     "metadata": {},
     "output_type": "display_data"
    },
    {
     "name": "stdout",
     "output_type": "stream",
     "text": [
      "\n"
     ]
    },
    {
     "data": {
      "application/vnd.jupyter.widget-view+json": {
       "model_id": "0c6a774fd9d6498bae2dc34d2c9fe788"
      }
     },
     "metadata": {},
     "output_type": "display_data"
    },
    {
     "name": "stdout",
     "output_type": "stream",
     "text": [
      "\n"
     ]
    },
    {
     "data": {
      "application/vnd.jupyter.widget-view+json": {
       "model_id": "d77cd0dab6d04053a1673c24f10fa922"
      }
     },
     "metadata": {},
     "output_type": "display_data"
    },
    {
     "name": "stdout",
     "output_type": "stream",
     "text": [
      "\n"
     ]
    },
    {
     "data": {
      "application/vnd.jupyter.widget-view+json": {
       "model_id": "1f8442783eba440683407c834057b366"
      }
     },
     "metadata": {},
     "output_type": "display_data"
    },
    {
     "name": "stdout",
     "output_type": "stream",
     "text": [
      "\n"
     ]
    },
    {
     "data": {
      "application/vnd.jupyter.widget-view+json": {
       "model_id": "ac31f2c88f474807ae553af833aecfd2"
      }
     },
     "metadata": {},
     "output_type": "display_data"
    }
   ],
   "source": [
    "std_params = default_params\n",
    "\n",
    "m, p, s, res, posteriors = run_SNPE(std_params)"
   ]
  },
  {
   "cell_type": "code",
   "execution_count": null,
   "metadata": {
    "collapsed": true,
    "scrolled": false
   },
   "outputs": [],
   "source": [
    "posterior = posteriors[-1]\n",
    "\n",
    "fig, _ = plot_pdf(posterior,  lims=[-default_params.prior_width, default_params.prior_width])"
   ]
  },
  {
   "cell_type": "code",
   "execution_count": null,
   "metadata": {
    "collapsed": true
   },
   "outputs": [],
   "source": [
    "import importlib\n",
    "import sys\n",
    "MD = importlib.reload(sys.modules['delfi.distribution.MixedDistribution'])\n",
    "\n",
    "seeds = default_params.seed + np.arange(default_params.n_copies)\n",
    "gts = [ ShapeDistribution(default_params.f, m.mlist[0], default_params.obs_stats, seed=s) for s in seeds ]\n",
    "gt = MD.MixedDistribution(gts, seed=default_params.seed)\n",
    "    "
   ]
  },
  {
   "cell_type": "code",
   "execution_count": null,
   "metadata": {
    "collapsed": true
   },
   "outputs": [],
   "source": [
    "def mcmc(start, pdf, var=0.1, nsamples=200000):\n",
    "    ndim = len(start)\n",
    "    S = np.eye(ndim) * var\n",
    "    mu_current = start\n",
    "    l_current = pdf.eval([mu_current], log=False)\n",
    "    \n",
    "    samples = np.empty((nsamples, ndim))\n",
    "    for i in tqdm(range(nsamples)):\n",
    "        mu_proposal = np.random.multivariate_normal(mean=mu_current, cov=S)\n",
    "\n",
    "        l_proposal = pdf.eval([mu_proposal], log=False)\n",
    "        p_accept = l_proposal / l_current\n",
    "        accept = np.random.rand() < p_accept\n",
    "        \n",
    "        if accept:\n",
    "            mu_current = mu_proposal\n",
    "            l_current = l_proposal\n",
    "        \n",
    "        samples[i,:] = mu_current\n",
    "        \n",
    "    return samples\n",
    "\n",
    "start = np.zeros_like(default_params.true_params)\n",
    "\n",
    "gt.eval([start])\n",
    "samples = mcmc(start, pdf=gt)"
   ]
  },
  {
   "cell_type": "code",
   "execution_count": null,
   "metadata": {
    "collapsed": true
   },
   "outputs": [],
   "source": [
    "\n",
    "fig, _ = plot_pdf(pdf1=posterior, samples=samples.T, lims=[-default_params.prior_width, default_params.prior_width])"
   ]
  },
  {
   "cell_type": "code",
   "execution_count": null,
   "metadata": {
    "collapsed": true
   },
   "outputs": [],
   "source": []
  }
 ],
 "metadata": {
  "kernelspec": {
   "display_name": "Python 3",
   "language": "python",
   "name": "python3"
  },
  "language_info": {
   "codemirror_mode": {
    "name": "ipython",
    "version": 3
   },
   "file_extension": ".py",
   "mimetype": "text/x-python",
   "name": "python",
   "nbconvert_exporter": "python",
   "pygments_lexer": "ipython3",
   "version": "3.6.1"
  }
 },
 "nbformat": 4,
 "nbformat_minor": 2
}
