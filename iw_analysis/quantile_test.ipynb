{
 "cells": [
  {
   "cell_type": "code",
   "execution_count": 50,
   "metadata": {},
   "outputs": [
    {
     "name": "stderr",
     "output_type": "stream",
     "text": [
      "\n",
      "\u001b[A"
     ]
    }
   ],
   "source": [
    "import numpy as np\n",
    "%matplotlib inline\n",
    "import matplotlib.pyplot as plt\n",
    "import matplotlib.pylab as pylab\n",
    "from matplotlib import cm\n",
    "from tqdm import tqdm_notebook as tqdm\n",
    "\n",
    "import pickle\n",
    "\n",
    "import scipy.special\n",
    "\n",
    "import delfi.distribution as dd\n",
    "import delfi.generator as dg\n",
    "import delfi.inference as infer\n",
    "import delfi.utils.io as io\n",
    "import delfi.summarystats as ds\n",
    "\n",
    "import parameters\n",
    "\n",
    "from delfi.simulator.Gauss import Gauss"
   ]
  },
  {
   "cell_type": "code",
   "execution_count": 2,
   "metadata": {
    "collapsed": true,
    "scrolled": false
   },
   "outputs": [],
   "source": [
    "def plot_family(dists, target=None, limts=[-5, 5], labels=None, title=None):\n",
    "    xlist = np.linspace(-5, 5, 200)\n",
    "    \n",
    "    fig, (axpdf) = plt.subplots(1, figsize=(8, 6))\n",
    "    \n",
    "    if title is not None:\n",
    "        fig.suptitle(title)\n",
    "        \n",
    "    ndists = len(dists)\n",
    "    if labels is None:\n",
    "        labels = [ None for i in range(ndists) ]\n",
    "        \n",
    "    cmap = plt.get_cmap('viridis')#cm.viridis\n",
    "    colors = [cmap(i) for i in np.linspace(0, 1, ndists)]\n",
    "    \n",
    "    for i in range(0, ndists):\n",
    "        d = dists[i]\n",
    "        ylist = d.eval(xlist.reshape((-1,1)), log=False)\n",
    "        axpdf.plot(xlist, ylist, label=labels[i], c=colors[i])#, c=[0,1 - i / ndists,0])\n",
    "    \n",
    "    if target is not None:\n",
    "        ylist = target.eval(xlist.reshape((-1,1)), log=False)\n",
    "        axpdf.plot(xlist, ylist, label=\"Target\", c='r')\n",
    "        \n",
    "    box = axpdf.get_position()\n",
    "    axpdf.set_position([box.x0, box.y0, box.width * 0.8, box.height])\n",
    "    axpdf.legend(loc='center left', bbox_to_anchor=(1, 0.5))\n",
    "\n",
    "    plt.show()"
   ]
  },
  {
   "cell_type": "code",
   "execution_count": 46,
   "metadata": {
    "collapsed": true
   },
   "outputs": [],
   "source": [
    "default_params = parameters.ParameterSet({})\n",
    "\n",
    "default_params.seed = 420\n",
    "\n",
    "default_params.n_train = 5000\n",
    "default_params.n_rounds = 1\n",
    "default_params.proposal = None\n",
    "default_params.round_cl = 5\n",
    "\n",
    "default_params.true_params = [0]\n",
    "default_params.obs_stats = [[0]]\n",
    "\n",
    "# The actual prior variance\n",
    "default_params.prior_var = 4\n",
    "\n",
    "default_params.noise_cov = 0.1\n",
    "\n",
    "default_params.n_qtest = 1000"
   ]
  },
  {
   "cell_type": "code",
   "execution_count": 32,
   "metadata": {
    "collapsed": true
   },
   "outputs": [],
   "source": [
    "def run(params):\n",
    "    m = Gauss(dim=1, noise_cov=params.noise_cov, seed=params.seed)\n",
    "    p = dd.Gaussian(m=[0], S=[[params.prior_var]], seed=params.seed)\n",
    "    s = ds.Identity()\n",
    "\n",
    "    g = dg.MPGenerator(models=[m], prior=p, summary=s)\n",
    "\n",
    "    res = infer.SNPE(g, \n",
    "                     obs=params.obs_stats,\n",
    "                     seed=params.seed, \n",
    "                     pilot_samples=None,\n",
    "                     convert_to_T=False,\n",
    "                     svi=False)\n",
    "    \n",
    "    res.run(n_train=params.n_train, \n",
    "            n_rounds=params.n_rounds, \n",
    "            minibatch=100, \n",
    "            epochs=1000, \n",
    "            round_cl=params.round_cl,\n",
    "            proposal = params.proposal)\n",
    "    \n",
    "    return m, p, s, res"
   ]
  },
  {
   "cell_type": "code",
   "execution_count": 33,
   "metadata": {},
   "outputs": [
    {
     "data": {
      "application/vnd.jupyter.widget-view+json": {
       "model_id": "895591ceae3041d88b63e2d33b7ec481"
      }
     },
     "metadata": {},
     "output_type": "display_data"
    },
    {
     "name": "stdout",
     "output_type": "stream",
     "text": [
      "\n"
     ]
    },
    {
     "data": {
      "application/vnd.jupyter.widget-view+json": {
       "model_id": "cf017a0fd4f24b53b8d7e3284a94ca97"
      }
     },
     "metadata": {},
     "output_type": "display_data"
    },
    {
     "name": "stdout",
     "output_type": "stream",
     "text": [
      "\n"
     ]
    },
    {
     "data": {
      "application/vnd.jupyter.widget-view+json": {
       "model_id": "cea4a7ee2ee440a694ff06d2bc6887d7"
      }
     },
     "metadata": {},
     "output_type": "display_data"
    },
    {
     "name": "stdout",
     "output_type": "stream",
     "text": [
      "\n"
     ]
    },
    {
     "name": "stderr",
     "output_type": "stream",
     "text": [
      "Process Worker-5:\n",
      "Traceback (most recent call last):\n",
      "  File \"/usr/local/Cellar/python3/3.6.1/Frameworks/Python.framework/Versions/3.6/lib/python3.6/multiprocessing/process.py\", line 249, in _bootstrap\n",
      "    self.run()\n",
      "  File \"/Users/kaan/delfi/delfi/generator/MPGenerator.py\", line 29, in run\n",
      "    params_batch = self.conn.recv()\n",
      "  File \"/usr/local/Cellar/python3/3.6.1/Frameworks/Python.framework/Versions/3.6/lib/python3.6/multiprocessing/connection.py\", line 250, in recv\n",
      "    buf = self._recv_bytes()\n",
      "  File \"/usr/local/Cellar/python3/3.6.1/Frameworks/Python.framework/Versions/3.6/lib/python3.6/multiprocessing/connection.py\", line 407, in _recv_bytes\n",
      "    buf = self._recv(4)\n",
      "  File \"/usr/local/Cellar/python3/3.6.1/Frameworks/Python.framework/Versions/3.6/lib/python3.6/multiprocessing/connection.py\", line 379, in _recv\n",
      "    chunk = read(handle, remaining)\n",
      "KeyboardInterrupt\n"
     ]
    }
   ],
   "source": [
    "model, prior, summ, net = run(default_params)"
   ]
  },
  {
   "cell_type": "code",
   "execution_count": 43,
   "metadata": {
    "collapsed": true
   },
   "outputs": [],
   "source": [
    "def estimate_quantile(model, prior, summ, net, L=1000):\n",
    "    theta = prior.gen()\n",
    "    y = model.gen_single(theta)\n",
    "    stats = summ.calc([y])\n",
    "    \n",
    "    posterior = net.predict(stats)\n",
    "    \n",
    "    post_thetas = posterior.gen(n_samples=L)\n",
    "    \n",
    "    est_quantile = 1 / L * np.count_nonzero(theta[0,0] > post_thetas[:,0])\n",
    "    return est_quantile"
   ]
  },
  {
   "cell_type": "code",
   "execution_count": 51,
   "metadata": {},
   "outputs": [
    {
     "data": {
      "application/vnd.jupyter.widget-view+json": {
       "model_id": "7f5a4041498f444db6ef2d627220f45c"
      }
     },
     "metadata": {},
     "output_type": "display_data"
    },
    {
     "name": "stdout",
     "output_type": "stream",
     "text": [
      "\n"
     ]
    }
   ],
   "source": [
    "quantiles = []\n",
    "\n",
    "for i in tqdm(range(default_params.n_qtest)):\n",
    "    quantiles.append(estimate_quantile(model, prior, summ, net))"
   ]
  },
  {
   "cell_type": "code",
   "execution_count": 53,
   "metadata": {},
   "outputs": [
    {
     "data": {
      "image/png": "[encoded data removed]",
      "text/plain": [
       "<matplotlib.figure.Figure at 0x110b06400>"
      ]
     },
     "metadata": {},
     "output_type": "display_data"
    }
   ],
   "source": [
    "fig = plt.figure()\n",
    "ax = plt.subplot(111)\n",
    "\n",
    "ax.hist(quantiles)\n",
    "\n",
    "plt.show()"
   ]
  },
  {
   "cell_type": "code",
   "execution_count": null,
   "metadata": {
    "collapsed": true
   },
   "outputs": [],
   "source": []
  }
 ],
 "metadata": {
  "kernelspec": {
   "display_name": "Python 3",
   "language": "python",
   "name": "python3"
  },
  "language_info": {
   "codemirror_mode": {
    "name": "ipython",
    "version": 3
   },
   "file_extension": ".py",
   "mimetype": "text/x-python",
   "name": "python",
   "nbconvert_exporter": "python",
   "pygments_lexer": "ipython3",
   "version": "3.6.1"
  }
 },
 "nbformat": 4,
 "nbformat_minor": 2
}
