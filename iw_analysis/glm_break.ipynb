{
 "cells": [
  {
   "cell_type": "code",
   "execution_count": 1,
   "metadata": {
    "collapsed": true
   },
   "outputs": [],
   "source": [
    "import numpy as np\n",
    "%matplotlib inline\n",
    "from tqdm import tqdm_notebook as tqdm\n",
    "\n",
    "import delfi.distribution as dd\n",
    "import delfi.generator as dg\n",
    "import delfi.inference as infer\n",
    "import delfi.summarystats as ds\n",
    "\n",
    "from lfimodels.glm.GLM import GLM\n",
    "from lfimodels.glm.GLMStats import GLMStats\n",
    "from delfi.utils.viz import plot_pdf\n",
    "\n",
    "import lfimodels.glm.utils as utils"
   ]
  },
  {
   "cell_type": "code",
   "execution_count": 2,
   "metadata": {
    "collapsed": true
   },
   "outputs": [],
   "source": [
    "seed = 43\n",
    "prior_prec = 1\n",
    "\n",
    "#StudT 10, alpha=0.2, 100 samples\n",
    "\n",
    "len_filter = 9\n",
    "nrounds = 5\n",
    "\n",
    "true_params, labels_params = utils.obs_params(len_filter=len_filter)\n",
    "obs = utils.obs_data(true_params, seed=seed)\n",
    "obs_stats = utils.obs_stats(true_params, seed=seed)\n",
    "\n",
    "verbose = True"
   ]
  },
  {
   "cell_type": "code",
   "execution_count": 3,
   "metadata": {
    "collapsed": true
   },
   "outputs": [],
   "source": [
    "def run_sim(nrounds, N, alpha=0, convert_to_T=None, override_posteriors=None, seed=seed):\n",
    "    m = GLM(len_filter=len_filter, seed=seed)\n",
    "    p = utils.smoothing_prior(n_params=m.n_params, rel_prec=prior_prec, seed=seed)\n",
    "    s = GLMStats(n_summary=m.n_params)\n",
    "    g = dg.Default(model=m, prior=p, summary=s)\n",
    "\n",
    "    res = infer.SNPE(g, \n",
    "               obs=obs_stats, \n",
    "               convert_to_T=convert_to_T,\n",
    "               n_hiddens=[50], \n",
    "               seed=seed, \n",
    "               pilot_samples=100,\n",
    "               svi=True,\n",
    "               reg_lambda=0.01,\n",
    "               prior_mixin=alpha,\n",
    "               prior_norm=True,\n",
    "               verbose=verbose)\n",
    "\n",
    "    logs, tds, posteriors = res.run(n_train=N, \n",
    "                                    n_rounds=nrounds, \n",
    "                                    minibatch=100, \n",
    "                                    epochs=1000,\n",
    "                                    round_cl=3)\n",
    "\n",
    "    return { 'true_params' : true_params, 'logs' : logs, 'tds' : tds, 'posteriors' : posteriors }"
   ]
  },
  {
   "cell_type": "code",
   "execution_count": 8,
   "metadata": {
    "scrolled": false
   },
   "outputs": [
    {
     "name": "stderr",
     "output_type": "stream",
     "text": [
      "Widget Javascript not detected.  It may not be installed or enabled properly.\n"
     ]
    },
    {
     "data": {
      "application/vnd.jupyter.widget-view+json": {
       "model_id": "a7812be397fb43e0a3950f793f1bd03f"
      }
     },
     "metadata": {},
     "output_type": "display_data"
    },
    {
     "name": "stdout",
     "output_type": "stream",
     "text": [
      "\n"
     ]
    },
    {
     "name": "stderr",
     "output_type": "stream",
     "text": [
      "Widget Javascript not detected.  It may not be installed or enabled properly.\n"
     ]
    },
    {
     "data": {
      "application/vnd.jupyter.widget-view+json": {
       "model_id": "9966a8c792dd4b6db6700794c0b5aac8"
      }
     },
     "metadata": {},
     "output_type": "display_data"
    },
    {
     "name": "stdout",
     "output_type": "stream",
     "text": [
      "\n"
     ]
    },
    {
     "name": "stderr",
     "output_type": "stream",
     "text": [
      "Widget Javascript not detected.  It may not be installed or enabled properly.\n"
     ]
    },
    {
     "data": {
      "application/vnd.jupyter.widget-view+json": {
       "model_id": "cddd64fc3e3c451991a0f2560bac98bb"
      }
     },
     "metadata": {},
     "output_type": "display_data"
    },
    {
     "name": "stdout",
     "output_type": "stream",
     "text": [
      "\n"
     ]
    },
    {
     "name": "stderr",
     "output_type": "stream",
     "text": [
      "Widget Javascript not detected.  It may not be installed or enabled properly.\n"
     ]
    },
    {
     "data": {
      "application/vnd.jupyter.widget-view+json": {
       "model_id": "c387dd3a65934b94bfca9145c7baba99"
      }
     },
     "metadata": {},
     "output_type": "display_data"
    },
    {
     "name": "stdout",
     "output_type": "stream",
     "text": [
      "\n"
     ]
    },
    {
     "name": "stderr",
     "output_type": "stream",
     "text": [
      "Widget Javascript not detected.  It may not be installed or enabled properly.\n"
     ]
    },
    {
     "data": {
      "application/vnd.jupyter.widget-view+json": {
       "model_id": "4e70f13bfc664b12a225f202738d23ad"
      }
     },
     "metadata": {},
     "output_type": "display_data"
    },
    {
     "name": "stdout",
     "output_type": "stream",
     "text": [
      "\n"
     ]
    },
    {
     "name": "stderr",
     "output_type": "stream",
     "text": [
      "Widget Javascript not detected.  It may not be installed or enabled properly.\n"
     ]
    },
    {
     "data": {
      "application/vnd.jupyter.widget-view+json": {
       "model_id": "30f9115b56d347bf9446c8fd1c795190"
      }
     },
     "metadata": {},
     "output_type": "display_data"
    },
    {
     "name": "stdout",
     "output_type": "stream",
     "text": [
      "\n"
     ]
    },
    {
     "name": "stderr",
     "output_type": "stream",
     "text": [
      "Widget Javascript not detected.  It may not be installed or enabled properly.\n"
     ]
    },
    {
     "data": {
      "application/vnd.jupyter.widget-view+json": {
       "model_id": "7c3d6c3f03dc4475935b98fdcb11ab7c"
      }
     },
     "metadata": {},
     "output_type": "display_data"
    },
    {
     "name": "stdout",
     "output_type": "stream",
     "text": [
      "\n"
     ]
    },
    {
     "name": "stderr",
     "output_type": "stream",
     "text": [
      "Widget Javascript not detected.  It may not be installed or enabled properly.\n"
     ]
    },
    {
     "data": {
      "application/vnd.jupyter.widget-view+json": {
       "model_id": "670c4edfdd934c6ca051e9cfba40edc1"
      }
     },
     "metadata": {},
     "output_type": "display_data"
    },
    {
     "name": "stdout",
     "output_type": "stream",
     "text": [
      "\n"
     ]
    },
    {
     "name": "stderr",
     "output_type": "stream",
     "text": [
      "Widget Javascript not detected.  It may not be installed or enabled properly.\n"
     ]
    },
    {
     "data": {
      "application/vnd.jupyter.widget-view+json": {
       "model_id": "669c7b6a0b374e23ac9aeac8784e9fd8"
      }
     },
     "metadata": {},
     "output_type": "display_data"
    },
    {
     "name": "stdout",
     "output_type": "stream",
     "text": [
      "\n"
     ]
    },
    {
     "name": "stderr",
     "output_type": "stream",
     "text": [
      "Widget Javascript not detected.  It may not be installed or enabled properly.\n"
     ]
    },
    {
     "data": {
      "application/vnd.jupyter.widget-view+json": {
       "model_id": "61b3d2196d8444239baaca8a6fedabf9"
      }
     },
     "metadata": {},
     "output_type": "display_data"
    },
    {
     "name": "stdout",
     "output_type": "stream",
     "text": [
      "\n"
     ]
    },
    {
     "name": "stderr",
     "output_type": "stream",
     "text": [
      "Widget Javascript not detected.  It may not be installed or enabled properly.\n"
     ]
    },
    {
     "data": {
      "application/vnd.jupyter.widget-view+json": {
       "model_id": "56b5fddb74e14f89b88f53e85ee3d304"
      }
     },
     "metadata": {},
     "output_type": "display_data"
    },
    {
     "name": "stdout",
     "output_type": "stream",
     "text": [
      "\n"
     ]
    },
    {
     "name": "stderr",
     "output_type": "stream",
     "text": [
      "Widget Javascript not detected.  It may not be installed or enabled properly.\n"
     ]
    },
    {
     "data": {
      "application/vnd.jupyter.widget-view+json": {
       "model_id": "0082eb9ff9f5491cafc1df4c0f60a442"
      }
     },
     "metadata": {},
     "output_type": "display_data"
    },
    {
     "name": "stdout",
     "output_type": "stream",
     "text": [
      "\n"
     ]
    },
    {
     "name": "stderr",
     "output_type": "stream",
     "text": [
      "Widget Javascript not detected.  It may not be installed or enabled properly.\n"
     ]
    },
    {
     "data": {
      "application/vnd.jupyter.widget-view+json": {
       "model_id": "b72a408e25eb475ead142f045f87f521"
      }
     },
     "metadata": {},
     "output_type": "display_data"
    },
    {
     "name": "stdout",
     "output_type": "stream",
     "text": [
      "\n"
     ]
    },
    {
     "name": "stderr",
     "output_type": "stream",
     "text": [
      "Widget Javascript not detected.  It may not be installed or enabled properly.\n"
     ]
    },
    {
     "data": {
      "application/vnd.jupyter.widget-view+json": {
       "model_id": "dd377d88b4794fe9b1955cb28c124352"
      }
     },
     "metadata": {},
     "output_type": "display_data"
    },
    {
     "name": "stdout",
     "output_type": "stream",
     "text": [
      "\n"
     ]
    },
    {
     "name": "stderr",
     "output_type": "stream",
     "text": [
      "Widget Javascript not detected.  It may not be installed or enabled properly.\n"
     ]
    },
    {
     "data": {
      "application/vnd.jupyter.widget-view+json": {
       "model_id": "26273a18a5b44b98b1387112a316c9b4"
      }
     },
     "metadata": {},
     "output_type": "display_data"
    },
    {
     "name": "stdout",
     "output_type": "stream",
     "text": [
      "\n"
     ]
    },
    {
     "name": "stderr",
     "output_type": "stream",
     "text": [
      "Widget Javascript not detected.  It may not be installed or enabled properly.\n"
     ]
    },
    {
     "data": {
      "application/vnd.jupyter.widget-view+json": {
       "model_id": "ad9de10ec9064bd983fc287d0c776351"
      }
     },
     "metadata": {},
     "output_type": "display_data"
    },
    {
     "name": "stdout",
     "output_type": "stream",
     "text": [
      "\n"
     ]
    },
    {
     "name": "stderr",
     "output_type": "stream",
     "text": [
      "Widget Javascript not detected.  It may not be installed or enabled properly.\n"
     ]
    },
    {
     "data": {
      "application/vnd.jupyter.widget-view+json": {
       "model_id": "942c827e50b54c24ad2d2f032c36ac0d"
      }
     },
     "metadata": {},
     "output_type": "display_data"
    },
    {
     "name": "stdout",
     "output_type": "stream",
     "text": [
      "\n"
     ]
    }
   ],
   "source": [
    "data = run_sim(nrounds, 1000, alpha=0.015)\n",
    "posteriors = data['posteriors']"
   ]
  },
  {
   "cell_type": "code",
   "execution_count": 10,
   "metadata": {},
   "outputs": [
    {
     "data": {
      "application/vnd.jupyter.widget-view+json": {
       "model_id": "9fdb15a3bdf84a37895a68fc51ea7e19"
      }
     },
     "metadata": {},
     "output_type": "display_data"
    },
    {
     "name": "stdout",
     "output_type": "stream",
     "text": [
      "\n"
     ]
    },
    {
     "data": {
      "application/vnd.jupyter.widget-view+json": {
       "model_id": "72defe20e98e4c06a316f261e7aefc52"
      }
     },
     "metadata": {},
     "output_type": "display_data"
    },
    {
     "name": "stdout",
     "output_type": "stream",
     "text": [
      "\n"
     ]
    },
    {
     "data": {
      "application/vnd.jupyter.widget-view+json": {
       "model_id": "99a580398daa49269e992186d0bb546b"
      }
     },
     "metadata": {},
     "output_type": "display_data"
    },
    {
     "name": "stdout",
     "output_type": "stream",
     "text": [
      "\n"
     ]
    },
    {
     "data": {
      "application/vnd.jupyter.widget-view+json": {
       "model_id": "a8a5adef4b3342a9a6bb706df29ed54a"
      }
     },
     "metadata": {},
     "output_type": "display_data"
    },
    {
     "name": "stdout",
     "output_type": "stream",
     "text": [
      "\n"
     ]
    },
    {
     "data": {
      "application/vnd.jupyter.widget-view+json": {
       "model_id": "87e06242423b4c9b8c87366b82a30439"
      }
     },
     "metadata": {},
     "output_type": "display_data"
    },
    {
     "name": "stdout",
     "output_type": "stream",
     "text": [
      "\n"
     ]
    },
    {
     "data": {
      "application/vnd.jupyter.widget-view+json": {
       "model_id": "5881104b420045018e1136ebf344e604"
      }
     },
     "metadata": {},
     "output_type": "display_data"
    },
    {
     "name": "stdout",
     "output_type": "stream",
     "text": [
      "\n"
     ]
    },
    {
     "data": {
      "application/vnd.jupyter.widget-view+json": {
       "model_id": "9ec3f6cc199f4583a1d8e1ec835cce02"
      }
     },
     "metadata": {},
     "output_type": "display_data"
    },
    {
     "name": "stdout",
     "output_type": "stream",
     "text": [
      "\n"
     ]
    },
    {
     "data": {
      "application/vnd.jupyter.widget-view+json": {
       "model_id": "a515ccd67cc04712b1fcca3da90da190"
      }
     },
     "metadata": {},
     "output_type": "display_data"
    },
    {
     "name": "stdout",
     "output_type": "stream",
     "text": [
      "\n"
     ]
    },
    {
     "data": {
      "application/vnd.jupyter.widget-view+json": {
       "model_id": "a0f042a56bdc4cdab038942c94a8b39c"
      }
     },
     "metadata": {},
     "output_type": "display_data"
    },
    {
     "name": "stdout",
     "output_type": "stream",
     "text": [
      "\n"
     ]
    },
    {
     "data": {
      "application/vnd.jupyter.widget-view+json": {
       "model_id": "e31a326a11d04d9ea03528f5bbb39d07"
      }
     },
     "metadata": {},
     "output_type": "display_data"
    },
    {
     "name": "stdout",
     "output_type": "stream",
     "text": [
      "\n"
     ]
    },
    {
     "data": {
      "application/vnd.jupyter.widget-view+json": {
       "model_id": "5309edfd97df47009b0b8748ab51d3c5"
      }
     },
     "metadata": {},
     "output_type": "display_data"
    },
    {
     "name": "stdout",
     "output_type": "stream",
     "text": [
      "\n"
     ]
    },
    {
     "data": {
      "application/vnd.jupyter.widget-view+json": {
       "model_id": "311a173337b84efb8138c6f93fc83332"
      }
     },
     "metadata": {},
     "output_type": "display_data"
    },
    {
     "name": "stdout",
     "output_type": "stream",
     "text": [
      "\n"
     ]
    },
    {
     "data": {
      "application/vnd.jupyter.widget-view+json": {
       "model_id": "1e59608572464a6eba0f4b4e40492714"
      }
     },
     "metadata": {},
     "output_type": "display_data"
    },
    {
     "name": "stdout",
     "output_type": "stream",
     "text": [
      "\n"
     ]
    },
    {
     "data": {
      "application/vnd.jupyter.widget-view+json": {
       "model_id": "36032a4c68434370b6eaa8bd940aa57a"
      }
     },
     "metadata": {},
     "output_type": "display_data"
    },
    {
     "name": "stdout",
     "output_type": "stream",
     "text": [
      "\n"
     ]
    },
    {
     "data": {
      "application/vnd.jupyter.widget-view+json": {
       "model_id": "6ec9b31471c74a279f67e38635a3f46f"
      }
     },
     "metadata": {},
     "output_type": "display_data"
    },
    {
     "name": "stdout",
     "output_type": "stream",
     "text": [
      "\n"
     ]
    },
    {
     "data": {
      "application/vnd.jupyter.widget-view+json": {
       "model_id": "a9d225badfaa4a27929869b392503dde"
      }
     },
     "metadata": {},
     "output_type": "display_data"
    },
    {
     "name": "stdout",
     "output_type": "stream",
     "text": [
      "\n"
     ]
    },
    {
     "data": {
      "application/vnd.jupyter.widget-view+json": {
       "model_id": "dca3b4490c334caca44df6bec25bf828"
      }
     },
     "metadata": {},
     "output_type": "display_data"
    },
    {
     "name": "stdout",
     "output_type": "stream",
     "text": [
      "\n"
     ]
    }
   ],
   "source": [
    "rdata = run_sim(nrounds, 1000, alpha=0, convert_to_T=None)#, override_posteriors = posteriors)\n",
    "rposteriors = rdata['posteriors']"
   ]
  },
  {
   "cell_type": "code",
   "execution_count": 11,
   "metadata": {
    "scrolled": false
   },
   "outputs": [
    {
     "name": "stdout",
     "output_type": "stream",
     "text": [
      "[ 1.  1.  1.  1.  1.]\n",
      "[ 1.  1.  1.  1.  1.]\n",
      "[[ 1.00547467  0.58898868  0.07463676 -0.38999564 -0.35683605 -0.59986616\n",
      "  -1.39471387]\n",
      " [ 1.16958915 -0.37505685 -1.26664675 -1.22496111 -0.99797175 -1.05298591\n",
      "  -0.85154873]\n",
      " [-0.69037488  0.53763671 -0.14601087  1.09486321  1.75517427  0.6583371\n",
      "   0.97327479]\n",
      " [-1.12801348  0.03918023  0.32038117  0.84159274  0.98310231  0.95334365\n",
      "   1.25104674]\n",
      " [-0.69037488 -0.62133607  0.42260229  0.82668888  1.29460774  1.278872\n",
      "   1.02014799]]\n",
      "[[ 0.95076985  0.12970086 -0.41568852 -0.85396312 -1.07273885 -0.98196579\n",
      "  -1.07929685]\n",
      " [-1.12801348 -0.25368984  0.48339031  1.24321927  1.38780174  0.92008705\n",
      "   1.11287667]\n",
      " [-0.30744111  1.10926216  1.85656025  1.59738477  1.25647008  0.24841989\n",
      "   0.52957119]\n",
      " [-0.74507971  0.85393336  1.8012511   1.1904351   1.42608322  1.37370464\n",
      "   0.12453665]\n",
      " [-0.52626041 -1.38281836 -0.17812545  1.13975912  1.93904515  1.26216398\n",
      "   0.5784848 ]]\n",
      "[ 1.  1.  1.  1.  1.  1.  1.  1.  1.  1.]\n",
      "[ 1.  1.  1.  1.  1.  1.  1.  1.  1.  1.]\n",
      "1.0\n",
      "1.0\n",
      "[ 1.40824931  0.56193418  0.07188243  0.01858193  0.00810252]\n",
      "[ 1.37765058  0.03848386  0.08935253  0.15094729  0.01560282]\n",
      "[[-2.05799549  1.98141529  2.31110643  0.96011259  0.31911559  0.052187\n",
      "   0.06470331]\n",
      " [-2.11270032  2.17973346  0.37038932  1.12044123  0.69681238  0.80460278\n",
      "   0.87107559]\n",
      " [-1.94858584  2.62443352  1.66012215  1.1850687   0.07941163  0.1919795\n",
      "   0.06565275]\n",
      " [-2.65974856  1.55130855  0.80186284  0.74349106  0.77864391  0.52775659\n",
      "   0.31862037]\n",
      " [-2.44092926  1.33060706  1.00187985  1.05938596  0.89072362  0.80436239\n",
      "   0.49418121]]\n",
      "[[-2.38622444  1.89001996  0.81931571  0.65658245  0.85826796  0.74795323\n",
      "   0.62823245]\n",
      " [-2.71445339  1.22367082  1.07372727  0.88876736  0.58359164  0.55751066\n",
      "   0.28983349]\n",
      " [-2.16740514  2.58744681  1.20420256  0.7758453   0.57714972 -0.12778723\n",
      "  -0.02381309]\n",
      " [-1.51094725  2.38489192 -0.07601516  1.3418358  -0.89722825 -0.34587447\n",
      "  -0.01195146]\n",
      " [-2.65974856  1.36934561  0.99630223  1.05413183  0.66038916  0.49223888\n",
      "   0.32693989]]\n",
      "[ 0.00261753  0.00266591  0.00267156  0.00305228  0.00316803  0.00324488\n",
      "  0.00356057  0.00377041  0.0039106   0.00393955]\n",
      "[  19.11716574   20.48490297   22.44735316   23.53137235   24.41905685\n",
      "   28.09563038   42.55172455   56.71322286   86.92900734  263.99759083]\n",
      "1.0\n",
      "87.5917587672\n",
      "[ 0.65535719  0.00515106  0.04397937  0.02176666  0.41504775]\n",
      "[  8.19518547e-02   5.43318391e-03   1.95126612e-01   1.53685156e+01\n",
      "   2.24546953e+00]\n",
      "[[-2.16740514  1.97065373 -0.07407761  1.1073229   0.15319489  0.81687471\n",
      "   0.6499798 ]\n",
      " [-2.22210997  1.78441912  0.59477638  1.27772623  1.11864412  0.90297833\n",
      "   0.57595654]\n",
      " [-2.11270032  2.09842288  0.57425168  1.29947815  0.7329835   0.99589147\n",
      "   0.63915084]\n",
      " [-2.27681479  2.45201504  0.83644285  1.24477983  1.00771887  0.6081273\n",
      "   0.40618046]\n",
      " [-2.27681479  1.31379803  1.00647455  1.10848269  1.01656027  1.04260692\n",
      "   0.25363062]]\n",
      "[[-2.22210997  1.48495018  1.09947334  1.44788364  1.04308613  0.76995757\n",
      "   0.42828615]\n",
      " [-1.89388102  1.51456977  0.35085914  1.29351543  0.79918249  1.3474448\n",
      "   0.56105831]\n",
      " [-1.78447137  1.48097226  0.52857488  1.57587912  0.90149439  0.95824497\n",
      "   0.83291308]\n",
      " [-2.16740514  1.81738095  0.56277062  0.63710043  0.13899156  0.57779413\n",
      "   0.04701276]\n",
      " [-2.38622444  0.95418293  1.17632047  0.82348603  1.17744633  0.45519039\n",
      "   0.6407035 ]]\n",
      "[ 0.00204146  0.00223947  0.00225967  0.00243164  0.00252011  0.00265358\n",
      "  0.00280287  0.00283252  0.0029251   0.00305685]\n",
      "[  15.38841752   17.12887413   20.93429009   23.44916726   26.71855267\n",
      "   27.83236688   45.44855848   51.58127695   64.39695093  325.26876197]\n",
      "1.0\n",
      "119.564366803\n",
      "[  8.26484579e+00   2.67703405e-01   5.41364279e-02   5.53717696e-03\n",
      "   2.16210300e-02]\n",
      "[ 0.17446632  0.01295178  0.09641631  0.12484453  0.1889265 ]\n",
      "[[-2.16740514  1.16025108  0.2331893   1.35488261  0.96373673  0.39811966\n",
      "   0.78486666]\n",
      " [-2.16740514  0.89719558  0.80762502  1.22367187  1.12380755  1.06061496\n",
      "   0.48198776]\n",
      " [-1.89388102  2.06444522  0.96016912  0.67870454  1.21138341  1.17071468\n",
      "   0.58602949]\n",
      " [-2.16740514  1.6864767   0.73221324  1.40457281  1.12650695  0.80712412\n",
      "   0.4499436 ]\n",
      " [-1.78447137  1.47373981  1.12284447  1.18400505  1.07285046  1.40116317\n",
      "   0.38959189]]\n",
      "[[-2.11270032  1.49632035  1.01406178  0.75285775  1.26778161  0.98977729\n",
      "   0.25196813]\n",
      " [-1.89388102  1.84391022  0.70125732  1.152209    1.29730553  0.98199562\n",
      "   0.65113333]\n",
      " [-1.78447137  1.48851988  0.2974718   1.27271722  1.29810134  0.95766395\n",
      "   0.59080474]\n",
      " [-1.78447137  1.36610278  1.12027001  1.09897703  1.24927331  1.33093238\n",
      "   0.48142009]\n",
      " [-1.78447137  0.9202745   0.94243595  1.68737674  0.98178868  0.88297649\n",
      "   0.69085158]]\n",
      "[ 0.00202783  0.00265444  0.00307782  0.00329906  0.00331636  0.00333725\n",
      "  0.00342405  0.00359729  0.00360522  0.00370091]\n",
      "[  21.10146656   25.33958055   28.1757718    30.81064628   37.37620985\n",
      "   39.52178803   40.02045395   83.71542874   91.25272277  178.0106124 ]\n",
      "1.0\n",
      "56.8602387495\n",
      "[ 0.00905052  2.26953246  0.00577939  0.1095429   0.04107691]\n",
      "[  4.55960029e-03   8.88091350e+00   3.94184598e-02   2.47764850e-02\n",
      "   1.66731673e-02]\n",
      "[[-2.11270032  1.92066284  1.25693116  1.07461673  1.16384154  0.73218305\n",
      "   0.54177571]\n",
      " [-1.6203569   1.13116759  1.34498164  0.92965836  0.48168552  0.95915653\n",
      "   0.74250442]\n",
      " [-2.11270032  2.21152047  1.00427759  1.22808792  1.13091868  0.90689284\n",
      "   0.42163549]\n",
      " [-2.22210997  1.73077358  0.79186386  1.35949224  1.19054161  0.74176498\n",
      "   0.49299828]\n",
      " [-2.05799549  1.6878475   0.49531795  1.50540372  1.1880657   0.8495252\n",
      "   0.51641001]]\n",
      "[[-2.27681479  1.96157009  0.87995883  1.15729812  1.19564383  0.77495235\n",
      "   0.44303445]\n",
      " [-1.07330865  1.84451746  0.66522712  1.69095033 -1.10416101  0.18395152\n",
      "   0.56166034]\n",
      " [-2.22210997  1.87452626  1.50881069  0.93343659  0.8984465   0.78844062\n",
      "   0.48291958]\n",
      " [-2.27681479  1.73033601  0.72782933  1.0174773   0.96258485  0.94634322\n",
      "   0.63830476]\n",
      " [-2.05799549  1.62756005  0.83810481  1.19295537  1.51127173  0.78970511\n",
      "   0.41389405]]\n",
      "[ 0.00292901  0.00297843  0.00298772  0.00309722  0.0031495   0.00324128\n",
      "  0.00330879  0.00332854  0.00345424  0.00345448]\n",
      "[  22.54502218   23.48787922   24.84970462   25.0884039    29.30729868\n",
      "   31.97305729   32.44319674   41.91384937   75.20514648  288.9390973 ]\n",
      "1.0\n",
      "98.7153139241\n"
     ]
    }
   ],
   "source": [
    "trn_data = data['tds']\n",
    "\n",
    "for i in range(len(trn_data)):\n",
    "    print(trn_data[i][2][:5])\n",
    "    print(trn_data[i][2][-5:])\n",
    "    print(trn_data[i][1][:5])\n",
    "    print(trn_data[i][1][-5:])\n",
    "    \n",
    "    print(np.sort(trn_data[i][2])[:10])\n",
    "    print(np.sort(trn_data[i][2])[-10:])\n",
    "    print(np.mean(trn_data[i][2]))\n",
    "    print(np.mean(trn_data[i][2] ** 2))\n"
   ]
  },
  {
   "cell_type": "code",
   "execution_count": 12,
   "metadata": {
    "scrolled": false
   },
   "outputs": [
    {
     "name": "stdout",
     "output_type": "stream",
     "text": [
      "[ 1.  1.  1.  1.  1.]\n",
      "[ 1.  1.  1.  1.  1.]\n",
      "[[ 1.00547467  0.58898868  0.07463676 -0.38999564 -0.35683605 -0.59986616\n",
      "  -1.39471387]\n",
      " [ 1.16958915 -0.37505685 -1.26664675 -1.22496111 -0.99797175 -1.05298591\n",
      "  -0.85154873]\n",
      " [-0.69037488  0.53763671 -0.14601087  1.09486321  1.75517427  0.6583371\n",
      "   0.97327479]\n",
      " [-1.12801348  0.03918023  0.32038117  0.84159274  0.98310231  0.95334365\n",
      "   1.25104674]\n",
      " [-0.69037488 -0.62133607  0.42260229  0.82668888  1.29460774  1.278872\n",
      "   1.02014799]]\n",
      "[[ 0.95076985  0.12970086 -0.41568852 -0.85396312 -1.07273885 -0.98196579\n",
      "  -1.07929685]\n",
      " [-1.12801348 -0.25368984  0.48339031  1.24321927  1.38780174  0.92008705\n",
      "   1.11287667]\n",
      " [-0.30744111  1.10926216  1.85656025  1.59738477  1.25647008  0.24841989\n",
      "   0.52957119]\n",
      " [-0.74507971  0.85393336  1.8012511   1.1904351   1.42608322  1.37370464\n",
      "   0.12453665]\n",
      " [-0.52626041 -1.38281836 -0.17812545  1.13975912  1.93904515  1.26216398\n",
      "   0.5784848 ]]\n",
      "[ 1.  1.  1.  1.  1.  1.  1.  1.  1.  1.]\n",
      "[ 1.  1.  1.  1.  1.  1.  1.  1.  1.  1.]\n",
      "1.0\n",
      "1.0\n",
      "[ 1.40610057  0.56106838  0.07177106  0.01855312  0.00808996]\n",
      "[ 1.37554779  0.03842421  0.08921412  0.15071362  0.01557863]\n",
      "[[-2.05799549  1.98141529  2.31110643  0.96011259  0.31911559  0.052187\n",
      "   0.06470331]\n",
      " [-2.11270032  2.17973346  0.37038932  1.12044123  0.69681238  0.80460278\n",
      "   0.87107559]\n",
      " [-1.94858584  2.62443352  1.66012215  1.1850687   0.07941163  0.1919795\n",
      "   0.06565275]\n",
      " [-2.65974856  1.55130855  0.80186284  0.74349106  0.77864391  0.52775659\n",
      "   0.31862037]\n",
      " [-2.44092926  1.33060706  1.00187985  1.05938596  0.89072362  0.80436239\n",
      "   0.49418121]]\n",
      "[[-2.38622444  1.89001996  0.81931571  0.65658245  0.85826796  0.74795323\n",
      "   0.62823245]\n",
      " [-2.71445339  1.22367082  1.07372727  0.88876736  0.58359164  0.55751066\n",
      "   0.28983349]\n",
      " [-2.16740514  2.58744681  1.20420256  0.7758453   0.57714972 -0.12778723\n",
      "  -0.02381309]\n",
      " [-1.51094725  2.38489192 -0.07601516  1.3418358  -0.89722825 -0.34587447\n",
      "  -0.01195146]\n",
      " [-2.65974856  1.36934561  0.99630223  1.05413183  0.66038916  0.49223888\n",
      "   0.32693989]]\n",
      "[ 0.00261348  0.00266177  0.00266741  0.00304755  0.00316312  0.00323985\n",
      "  0.00355505  0.00376457  0.00390454  0.00393344]\n",
      "[  19.09396839   20.46054038   22.42143403   23.50465172   24.39171079\n",
      "   28.06599024   42.51769431   56.68205453   86.92766839  264.82296597]\n",
      "1.0\n",
      "88.0085188489\n",
      "[ 0.6553933   0.00513833  0.04390763  0.02173886  0.41477357]\n",
      "[  8.18698815e-02   5.42813871e-03   1.95190469e-01   1.53659593e+01\n",
      "   2.24447237e+00]\n",
      "[[-2.16740514  1.97065373 -0.07407761  1.1073229   0.15319489  0.81687471\n",
      "   0.6499798 ]\n",
      " [-2.22210997  1.78441912  0.59477638  1.27772623  1.11864412  0.90297833\n",
      "   0.57595654]\n",
      " [-2.11270032  2.09842288  0.57425168  1.29947815  0.7329835   0.99589147\n",
      "   0.63915084]\n",
      " [-2.27681479  2.45201504  0.83644285  1.24477983  1.00771887  0.6081273\n",
      "   0.40618046]\n",
      " [-2.27681479  1.31379803  1.00647455  1.10848269  1.01656027  1.04260692\n",
      "   0.25363062]]\n",
      "[[-2.22210997  1.48495018  1.09947334  1.44788364  1.04308613  0.76995757\n",
      "   0.42828615]\n",
      " [-1.89388102  1.51456977  0.35085914  1.29351543  0.79918249  1.3474448\n",
      "   0.56105831]\n",
      " [-1.78447137  1.48097226  0.52857488  1.57587912  0.90149439  0.95824497\n",
      "   0.83291308]\n",
      " [-2.16740514  1.81738095  0.56277062  0.63710043  0.13899156  0.57779413\n",
      "   0.04701276]\n",
      " [-2.38622444  0.95418293  1.17632047  0.82348603  1.17744633  0.45519039\n",
      "   0.6407035 ]]\n",
      "[ 0.00203672  0.00223588  0.00225606  0.00242848  0.0025164   0.00264693\n",
      "  0.00279769  0.00282929  0.00292126  0.00305284]\n",
      "[  15.38255256   17.11306656   20.93692205   23.43297619   26.72255352\n",
      "   27.81676632   45.4203465    51.59036053   64.4503742   325.58691494]\n",
      "1.0\n",
      "119.771428342\n",
      "[  8.26880737e+00   2.67822283e-01   5.40954328e-02   5.53597498e-03\n",
      "   2.16249880e-02]\n",
      "[ 0.17460652  0.01295228  0.09648692  0.12484341  0.18901121]\n",
      "[[-2.16740514  1.16025108  0.2331893   1.35488261  0.96373673  0.39811966\n",
      "   0.78486666]\n",
      " [-2.16740514  0.89719558  0.80762502  1.22367187  1.12380755  1.06061496\n",
      "   0.48198776]\n",
      " [-1.89388102  2.06444522  0.96016912  0.67870454  1.21138341  1.17071468\n",
      "   0.58602949]\n",
      " [-2.16740514  1.6864767   0.73221324  1.40457281  1.12650695  0.80712412\n",
      "   0.4499436 ]\n",
      " [-1.78447137  1.47373981  1.12284447  1.18400505  1.07285046  1.40116317\n",
      "   0.38959189]]\n",
      "[[-2.11270032  1.49632035  1.01406178  0.75285775  1.26778161  0.98977729\n",
      "   0.25196813]\n",
      " [-1.89388102  1.84391022  0.70125732  1.152209    1.29730553  0.98199562\n",
      "   0.65113333]\n",
      " [-1.8391762   1.44251855  0.33947612  1.29700857  1.35335595  1.01768172\n",
      "   0.50361083]\n",
      " [-1.78447137  1.36610278  1.12027001  1.09897703  1.24927331  1.33093238\n",
      "   0.48142009]\n",
      " [-1.78447137  0.9202745   0.94243595  1.68737674  0.98178868  0.88297649\n",
      "   0.69085158]]\n",
      "[ 0.00202647  0.00265124  0.0030776   0.00329511  0.00331519  0.00333513\n",
      "  0.00342378  0.00359436  0.00360305  0.00369705]\n",
      "[  21.05714967   25.32762888   28.1578655    30.78731777   37.38691869\n",
      "   39.57005036   40.01970742   83.71361994   91.32203856  177.99759314]\n",
      "1.0\n",
      "56.8669242422\n",
      "[ 0.00908811  2.27190828  0.00580535  0.10991735  0.04115849]\n",
      "[  4.56662937e-03   8.96831536e+00   3.94631033e-02   2.49054941e-02\n",
      "   1.66393383e-02]\n",
      "[[-2.11270032  1.92066284  1.25693116  1.07461673  1.16384154  0.73218305\n",
      "   0.54177571]\n",
      " [-1.6203569   1.13116759  1.34498164  0.92965836  0.48168552  0.95915653\n",
      "   0.74250442]\n",
      " [-2.11270032  2.21152047  1.00427759  1.22808792  1.13091868  0.90689284\n",
      "   0.42163549]\n",
      " [-2.22210997  1.73077358  0.79186386  1.35949224  1.19054161  0.74176498\n",
      "   0.49299828]\n",
      " [-2.05799549  1.6878475   0.49531795  1.50540372  1.1880657   0.8495252\n",
      "   0.51641001]]\n",
      "[[-2.27681479  1.96157009  0.87995883  1.15729812  1.19564383  0.77495235\n",
      "   0.44303445]\n",
      " [-1.07330865  1.84451746  0.66522712  1.69095033 -1.10416101  0.18395152\n",
      "   0.56166034]\n",
      " [-2.22210997  1.87452626  1.50881069  0.93343659  0.8984465   0.78844062\n",
      "   0.48291958]\n",
      " [-2.27681479  1.73033601  0.72782933  1.0174773   0.96258485  0.94634322\n",
      "   0.63830476]\n",
      " [-2.05799549  1.62756005  0.83810481  1.19295537  1.51127173  0.78970511\n",
      "   0.41389405]]\n",
      "[ 0.00293221  0.00298836  0.00299566  0.0031047   0.0031559   0.00325324\n",
      "  0.00331724  0.00334184  0.00346267  0.00347266]\n",
      "[  22.56870597   23.53334277   25.11724912   25.14123031   29.37948831\n",
      "   31.90520659   32.45459261   41.77697198   75.21666208  288.17887948]\n",
      "1.0\n",
      "98.2902707533\n"
     ]
    }
   ],
   "source": [
    "rtrn_data = rdata['tds']\n",
    "\n",
    "for i in range(len(rtrn_data)):\n",
    "    print(rtrn_data[i][2][:5])\n",
    "    print(rtrn_data[i][2][-5:])\n",
    "    print(rtrn_data[i][1][:5])\n",
    "    print(rtrn_data[i][1][-5:])\n",
    "    \n",
    "    \n",
    "    print(np.sort(rtrn_data[i][2])[:10])\n",
    "    print(np.sort(rtrn_data[i][2])[-10:])\n",
    "    print(np.mean(rtrn_data[i][2]))\n",
    "    print(np.mean(rtrn_data[i][2] ** 2))\n"
   ]
  },
  {
   "cell_type": "code",
   "execution_count": null,
   "metadata": {
    "collapsed": true
   },
   "outputs": [],
   "source": []
  }
 ],
 "metadata": {
  "kernelspec": {
   "display_name": "Python 3",
   "language": "python",
   "name": "python3"
  },
  "language_info": {
   "codemirror_mode": {
    "name": "ipython",
    "version": 3
   },
   "file_extension": ".py",
   "mimetype": "text/x-python",
   "name": "python",
   "nbconvert_exporter": "python",
   "pygments_lexer": "ipython3",
   "version": "3.6.1"
  }
 },
 "nbformat": 4,
 "nbformat_minor": 2
}
