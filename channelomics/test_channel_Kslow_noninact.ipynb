{
 "cells": [
  {
   "cell_type": "markdown",
   "metadata": {},
   "source": [
    "## Slow non-inactivting potassium in response to several voltage-clamps protocols\n",
    "### Channel identity. ICG id: \t489, ModelDB id: 123623"
   ]
  },
  {
   "cell_type": "code",
   "execution_count": null,
   "metadata": {
    "collapsed": true
   },
   "outputs": [],
   "source": [
    "import matplotlib as mpl\n",
    "import numpy as np\n",
    "import pandas as pd\n",
    "import time\n",
    "\n",
    "from matplotlib import pyplot as plt"
   ]
  },
  {
   "cell_type": "markdown",
   "metadata": {},
   "source": [
    "## Voltage-clamp protocol"
   ]
  },
  {
   "cell_type": "code",
   "execution_count": null,
   "metadata": {
    "collapsed": true
   },
   "outputs": [],
   "source": [
    "prot = ['v_act','v_inact','v_deact','v_ap','v_ramp']\n",
    "prot_idx = 0\n",
    "protocols = \\\n",
    "pd.read_csv('~/Dropbox/Master/mackelab/code/lfi-models/lfimodels/channelomics/protocols/k_channels/'+prot[prot_idx]+'.dat',sep='\\t')\n",
    "\n",
    "protocols = protocols.drop(protocols.columns[-1],axis=1)\n",
    "\n",
    "# extract voltages and time\n",
    "protocols1 = protocols.values\n",
    "\n",
    "V = protocols1[:, 1:].T\n",
    "t = protocols1[:, 0]   # attention: time step varies, but we will assume that it is constant\n",
    "tstep = np.mean(np.diff(t)) # ms"
   ]
  },
  {
   "cell_type": "markdown",
   "metadata": {},
   "source": [
    "## Parameters and kinetics"
   ]
  },
  {
   "cell_type": "code",
   "execution_count": null,
   "metadata": {
    "collapsed": true
   },
   "outputs": [],
   "source": [
    "# parameters\n",
    "celsius = 37    # original temperature\n",
    "temp = 37       # reference temperature\n",
    "q10 = 2.3       # temperature sensitivity\n",
    "tadj = q10**((celsius - temp)/10)\n",
    "\n",
    "# length and diameter equal to 20 um\n",
    "A_soma = np.pi*((20.*1e-4)**2)  # cm2\n",
    "\n",
    "C = 1 # uF/cm2\n",
    "\n",
    "g_L = 1e-1 # mS/cm2\n",
    "E_L = -70 # not sure which one is used in Podlaski et al. 2017, mV\n",
    "\n",
    "gbar_M = 0.004 # mS/cm2\n",
    "E_K = -90. # mV\n",
    "tau_max = 4000\n",
    "\n",
    "noise_std = 0.001\n",
    "\n",
    "###############################################################################\n",
    "# kinetics\n",
    "power = 1\n",
    "param2 = 35.\n",
    "param3 = 10.\n",
    "param4 = 3.3\n",
    "param5 = 20.\n",
    "\n",
    "# gt\n",
    "gt = np.array([1, 35, 10., 3.3, 20.])\n",
    "\n",
    "def p_inf(x): \n",
    "    return 1. / (1 + np.exp(-(x + param2) / param3))\n",
    "\n",
    "def tau_p(x): \n",
    "    arg = (x + param2) / param5\n",
    "    return tau_max / (param4 * np.exp(arg) + np.exp(-arg))"
   ]
  },
  {
   "cell_type": "markdown",
   "metadata": {},
   "source": [
    "## Voltage-clamp simulation"
   ]
  },
  {
   "cell_type": "code",
   "execution_count": null,
   "metadata": {},
   "outputs": [],
   "source": [
    "t_sim = time.time()\n",
    "\n",
    "p = np.zeros_like(V)\n",
    "\n",
    "p[:, 0] = p_inf(V[:, 0])\n",
    "\n",
    "len_p = len(p[:,0])\n",
    "\n",
    "for i in range(1, t.shape[0]):\n",
    "    # simple one step euler\n",
    "#     pi = p[:, i-1]\n",
    "#     p[:, i] = pi + tstep * tadj * (p_inf(V[:, i-1]) - pi \n",
    "#                                    + noise_std * np.random.randn(len_p) / (tstep**0.5)) / tau_p(V[:, i-1])\n",
    "    pinf1 = p_inf(V[:, i-1]) + noise_std * np.random.randn(len_p) / (tstep**0.5)\n",
    "    p[:, i] = pinf1 + (p[:, i-1] - pinf1) * np.exp(-tstep * tadj / tau_p(V[:, i-1]))\n",
    "\n",
    "print(time.time() - t_sim)\n",
    "\n",
    "\n",
    "fact_inward = 1 # inward current pre-multiplied by -1 (see page 15 of Podlasky et al. 2017)\n",
    "\n",
    "I_K = fact_inward * tadj * gbar_M * p * (V - E_K)\n",
    "I_K = I_K/np.max(I_K)\n",
    "# I_L = tadj*g_L*(V-E_L)\n",
    "# I_tot = (I_K + I_L)/np.max(I_K + I_L)"
   ]
  },
  {
   "cell_type": "markdown",
   "metadata": {},
   "source": [
    "## Plot"
   ]
  },
  {
   "cell_type": "code",
   "execution_count": null,
   "metadata": {
    "scrolled": false
   },
   "outputs": [],
   "source": [
    "num_levels = len(V[:, 0])\n",
    "cm1 = mpl.cm.viridis\n",
    "col1 = [cm1(1.*i/num_levels) for i in range(num_levels)]\n",
    "\n",
    "plt.figure(figsize=(18, 10))\n",
    "gs = mpl.gridspec.GridSpec(2, 1, height_ratios=[4, 1])\n",
    "ax = plt.subplot(gs[0])\n",
    "for i in range(num_levels):\n",
    "    plt.plot(t, I_K[i,:], color = col1[i])\n",
    "plt.ylabel('norm. current')\n",
    "ax.set_xticks([])\n",
    "# ax.set_yticks([0, 1.001*np.max(I_K)])\n",
    "\n",
    "ax = plt.subplot(gs[1])\n",
    "for i in range(num_levels):\n",
    "    plt.plot(t, V[i, :],'r')\n",
    "plt.xlabel('time (ms)')\n",
    "plt.ylabel('voltage (mV)')\n",
    "\n",
    "duration = np.max(t)\n",
    "ax.set_xticks([0, duration/2, duration])\n",
    "ax.set_yticks([0, np.max(V)])\n",
    "\n",
    "plt.show()"
   ]
  },
  {
   "cell_type": "markdown",
   "metadata": {},
   "source": [
    "## Checking model implementation against it (attention: discrepancy in temporal resolution)"
   ]
  },
  {
   "cell_type": "code",
   "execution_count": null,
   "metadata": {
    "scrolled": true
   },
   "outputs": [],
   "source": [
    "from lfimodels.channelomics.ChannelSingle import ChannelSingle\n",
    "n_params = 8\n",
    "cython = True\n",
    "m = ChannelSingle(channel_type='kslow', n_params=n_params, cython=cython)\n",
    "\n",
    "import numpy as np\n",
    "t_sim = time.time()\n",
    "\n",
    "out = m.gen_single(gt)\n",
    "print(time.time() - t_sim)\n",
    "\n",
    "import matplotlib.pyplot as plt\n",
    "%matplotlib inline\n",
    "\n",
    "K2 = out[prot[prot_idx]]['data']\n",
    "t2 = out[prot[prot_idx]]['time']"
   ]
  },
  {
   "cell_type": "code",
   "execution_count": null,
   "metadata": {},
   "outputs": [],
   "source": [
    "num_levels = len(V[:,0])\n",
    "cm1 = mpl.cm.viridis\n",
    "col1 = [cm1(1.*i/num_levels) for i in range(num_levels)]\n",
    "\n",
    "plt.figure(figsize=(18, 10))\n",
    "gs = mpl.gridspec.GridSpec(2, 1, height_ratios=[4, 1])\n",
    "ax = plt.subplot(gs[0])\n",
    "for i in range(num_levels):\n",
    "    plt.plot(t2, K2[i,], color = col1[i])\n",
    "plt.ylabel('norm. current')\n",
    "ax.set_xticks([])\n",
    "ax.set_yticks([0, 1.001*np.max(I_K)])\n",
    "\n",
    "ax = plt.subplot(gs[1])\n",
    "for i in range(num_levels):\n",
    "    plt.plot(t, V[i,],'r')\n",
    "plt.xlabel('time (ms)')\n",
    "plt.ylabel('voltage (mV)')\n",
    "\n",
    "duration = np.max(t)\n",
    "ax.set_xticks([0, duration/2, duration])\n",
    "ax.set_yticks([0, np.max(V)])\n",
    "\n",
    "plt.show()"
   ]
  },
  {
   "cell_type": "code",
   "execution_count": null,
   "metadata": {
    "collapsed": true
   },
   "outputs": [],
   "source": []
  }
 ],
 "metadata": {
  "anaconda-cloud": {},
  "kernelspec": {
   "display_name": "Python [conda env:mackelab]",
   "language": "python",
   "name": "conda-env-mackelab-py"
  },
  "language_info": {
   "codemirror_mode": {
    "name": "ipython",
    "version": 3
   },
   "file_extension": ".py",
   "mimetype": "text/x-python",
   "name": "python",
   "nbconvert_exporter": "python",
   "pygments_lexer": "ipython3",
   "version": "3.6.2"
  }
 },
 "nbformat": 4,
 "nbformat_minor": 1
}
