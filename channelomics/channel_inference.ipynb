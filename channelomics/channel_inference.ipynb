{
 "cells": [
  {
   "cell_type": "code",
   "execution_count": null,
   "metadata": {},
   "outputs": [],
   "source": [
    "import delfi.distribution as dd\n",
    "\n",
    "import matplotlib as mpl\n",
    "import numpy as np\n",
    "import pandas as pd\n",
    "import time\n",
    "\n",
    "from delfi.generator import Default\n",
    "from delfi.utils.viz import plot_pdf\n",
    "from lfimodels.channelomics.Channel import Channel\n",
    "from lfimodels.channelomics.ChannelStats import ChannelStats\n",
    "from matplotlib import pyplot as plt\n",
    "%matplotlib inline\n",
    "\n",
    "GT = {'k': np.array([9, 25, 0.02, 0.002]),\n",
    "      'na': np.array([-35, 9, 0.182, 0.124, -50, -75, 5, -65, 6.2, 0.0091, 0.024]),\n",
    "      'ca': np.array([24.6, 11.3, -.031, 37.1, 2.5, 12.6, 18.9, 420]),\n",
    "      'ih': np.array([.0015, .02, -87.7, -51.7, -.155, .144, 0.0067, .014, -94.2, \\\n",
    "                      -35.5, -.075, .144, 3.086, 4.486e-05, 80, 8.94, 1e-05, 1, 0])}\n",
    "LP = {'k': ['qa','tha','Ra','Rb'],\n",
    "      'na': ['tha','qa','Ra','Rb','thi1','thi2','qi','thinf','qinf','Rg','Rd'],\n",
    "      'ca': ['p1','p2','p3','p4','p5','p6','p7','tau_z'],\n",
    "      'ih':['a0','b0','ah','bh','ac','bc','aa0','ba0','aah','bah','aac','bac', \\\n",
    "            'kon','koff','b','bf','ai','gca','shift']}\n",
    "\n",
    "channel_type = 'k'\n",
    "\n",
    "gt = GT[channel_type]\n",
    "labels_params = LP[channel_type]\n",
    "lims = np.sort(np.concatenate((0.5*gt.reshape(-1,1),1.5*gt.reshape(-1,1)),axis=1))\n",
    "n_params = len(gt)\n",
    "cython = True\n",
    "\n",
    "m = Channel(channel_type=channel_type, n_params=n_params, cython=cython)\n",
    "p = dd.Uniform(lower=lims[:,0], upper=lims[:,1])\n",
    "s = ChannelStats(channel_type=channel_type)\n",
    "g = Default(model=m, prior=p, summary=s)\n",
    "\n",
    "xo = m.gen(gt.reshape(1,-1))\n",
    "xo_stats = s.calc(xo[0])"
   ]
  },
  {
   "cell_type": "code",
   "execution_count": null,
   "metadata": {},
   "outputs": [],
   "source": [
    "from delfi.inference import SNPE\n",
    "\n",
    "svi = False\n",
    "prior_norm = True\n",
    "inf_snpe = SNPE(g, obs=xo_stats, n_components=2, n_hiddens=[25,25],svi=svi,prior_norm=prior_norm)\n",
    "log, train_data, posterior = inf_snpe.run(n_train=2500, n_rounds=1)"
   ]
  },
  {
   "cell_type": "code",
   "execution_count": null,
   "metadata": {},
   "outputs": [],
   "source": [
    "import delfi.utils.io as io\n",
    "import pickle\n",
    "\n",
    "io.save(inf_snpe, 'run_1_k.pkl')\n",
    "pickle.dump(log, open('run_1_log_k.pkl', 'wb'))"
   ]
  },
  {
   "cell_type": "code",
   "execution_count": null,
   "metadata": {},
   "outputs": [],
   "source": [
    "posterior = inf_snpe.predict(xo_stats)"
   ]
  },
  {
   "cell_type": "code",
   "execution_count": null,
   "metadata": {},
   "outputs": [],
   "source": [
    "plot_pdf(posterior, \n",
    "         gt=gt, \n",
    "         ticks=True,\n",
    "         labels_params=labels_params,\n",
    "         lims=lims);"
   ]
  },
  {
   "cell_type": "code",
   "execution_count": null,
   "metadata": {},
   "outputs": [],
   "source": [
    "mean, S = posterior.calc_mean_and_cov()\n",
    "# m = posterior.xs[0].m\n",
    "# S = posterior.xs[0].S\n",
    "\n",
    "prot = ['v_act','v_inact','v_deact','v_ap','v_ramp']\n",
    "num_protocols = len(prot)\n",
    "\n",
    "num_samp = 10\n",
    "\n",
    "# sampling at contour of 1 covariance away from mean (if samples from outside the prior box, contour is at prior box)\n",
    "x_samp = np.random.randn(n_params,num_samp)\n",
    "x_samp = np.divide(x_samp,np.linalg.norm(x_samp,axis=0))\n",
    "x_samp = (np.dot(S,x_samp)).T+mean\n",
    "\n",
    "# # sample from posterior\n",
    "# x_samp = posterior.gen(n_samples=num_samp)\n",
    "\n",
    "# correct for samples outside the prior box\n",
    "x_samp = np.maximum(x_samp,lims[:,0])\n",
    "x_samp = np.minimum(x_samp,lims[:,1])\n",
    "\n",
    "params = np.concatenate((np.array([mean]),x_samp))\n",
    "\n",
    "fig = plt.figure(figsize = (20,10+num_samp*5))\n",
    "\n",
    "for i in range(1+num_samp):\n",
    "    x = m.gen_single(params[i,:])\n",
    "    for p in range(num_protocols):\n",
    "        I_K = x[prot[p]]['data']\n",
    "        t = x[prot[p]]['time']\n",
    "        num_levels = len(I_K[:,0])\n",
    "        cm1 = mpl.cm.viridis\n",
    "        col1 = [cm1(1.*k/num_levels) for k in range(num_levels)]\n",
    "        \n",
    "        for j in range(num_levels):\n",
    "            if i==0:\n",
    "                plt.subplot(2+num_samp,num_protocols,p+1)\n",
    "                plt.plot(t, xo[0][0][prot[p]]['data'][j,], color = col1[j], lw=2)\n",
    "                plt.xlabel('time (ms)')\n",
    "                plt.ylabel('norm. current')\n",
    "                plt.title('observation')\n",
    "                \n",
    "                plt.subplot(2+num_samp,num_protocols,num_protocols+p+1)\n",
    "                plt.plot(t, I_K[j,], color = col1[j], lw=2)\n",
    "                plt.xlabel('time (ms)')\n",
    "                plt.ylabel('norm. current')\n",
    "                plt.title('mode')\n",
    "            else:\n",
    "                plt.subplot(2+num_samp,num_protocols,(i+1)*num_protocols+p+1)\n",
    "                plt.plot(t, I_K[j,], color = col1[j], lw=2)\n",
    "                plt.xlabel('time (ms)')\n",
    "                plt.ylabel('norm. current')\n",
    "                plt.title('sample '+str(num_samp-i+1))"
   ]
  },
  {
   "cell_type": "code",
   "execution_count": null,
   "metadata": {},
   "outputs": [],
   "source": []
  }
 ],
 "metadata": {
  "anaconda-cloud": {},
  "kernelspec": {
   "display_name": "Python 3",
   "language": "python",
   "name": "python3"
  },
  "language_info": {
   "codemirror_mode": {
    "name": "ipython",
    "version": 3
   },
   "file_extension": ".py",
   "mimetype": "text/x-python",
   "name": "python",
   "nbconvert_exporter": "python",
   "pygments_lexer": "ipython3",
   "version": "3.5.2"
  }
 },
 "nbformat": 4,
 "nbformat_minor": 1
}
