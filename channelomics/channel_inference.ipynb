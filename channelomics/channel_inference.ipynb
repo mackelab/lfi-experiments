{
 "cells": [
  {
   "cell_type": "code",
   "execution_count": null,
   "metadata": {},
   "outputs": [],
   "source": [
    "import delfi.distribution as dd\n",
    "\n",
    "import matplotlib as mpl\n",
    "import numpy as np\n",
    "import pandas as pd\n",
    "import time\n",
    "\n",
    "from delfi.generator import Default\n",
    "from delfi.utils.viz import plot_pdf\n",
    "from lfimodels.channelomics.Channel import Channel\n",
    "from lfimodels.channelomics.ChannelStats import ChannelStats\n",
    "from matplotlib import pyplot as plt\n",
    "%matplotlib inline\n",
    "\n",
    "m = Channel()\n",
    "gt = np.array([9, 25, 0.02, 0.002])\n",
    "p = dd.Uniform(lower=0.5*gt, upper=1.5*gt)\n",
    "s = ChannelStats()\n",
    "g = Default(model=m, prior=p, summary=s)\n",
    "\n",
    "out = g.gen(1)"
   ]
  },
  {
   "cell_type": "code",
   "execution_count": null,
   "metadata": {},
   "outputs": [],
   "source": [
    "from delfi.inference import Basic\n",
    "\n",
    "inf_basic = Basic(generator=g, n_components=2, n_hiddens=[25, 25])\n",
    "log, train_data = inf_basic.run(n_train=2500)"
   ]
  },
  {
   "cell_type": "markdown",
   "metadata": {},
   "source": [
    "## 13.5h runtime, 2500 simulations"
   ]
  },
  {
   "cell_type": "code",
   "execution_count": 4,
   "metadata": {
    "collapsed": true
   },
   "outputs": [],
   "source": [
    "import delfi.utils.io as io\n",
    "import pickle\n",
    "\n",
    "io.save(inf_basic, 'run_1.pkl')\n",
    "pickle.dump(log, open('run_1_log.pkl', 'wb'))"
   ]
  },
  {
   "cell_type": "code",
   "execution_count": 11,
   "metadata": {
    "collapsed": true
   },
   "outputs": [],
   "source": [
    "xo = m.gen(gt.reshape(1,-1))\n",
    "xo_stats = s.calc(xo[0])\n",
    "posterior = inf_basic.predict(xo_stats)"
   ]
  },
  {
   "cell_type": "code",
   "execution_count": 42,
   "metadata": {},
   "outputs": [
    {
     "data": {
      "image/png": "[encoded data removed]",
      "text/plain": [
       "<matplotlib.figure.Figure at 0x7fa3d0510278>"
      ]
     },
     "metadata": {},
     "output_type": "display_data"
    }
   ],
   "source": [
    "plot_pdf(posterior, \n",
    "         gt=gt, \n",
    "         ticks=False,\n",
    "         labels_params=['qa','tha','Ra','Rb'],\n",
    "         lims=np.asarray([[4.5, 13.5],\n",
    "                          [12.5, 37.5],\n",
    "                          [0.01, 0.03],\n",
    "                          [0.001,0.003]]));"
   ]
  }
 ],
 "metadata": {
  "anaconda-cloud": {},
  "kernelspec": {
   "display_name": "Python 3",
   "language": "python",
   "name": "python3"
  },
  "language_info": {
   "codemirror_mode": {
    "name": "ipython",
    "version": 3
   },
   "file_extension": ".py",
   "mimetype": "text/x-python",
   "name": "python",
   "nbconvert_exporter": "python",
   "pygments_lexer": "ipython3",
   "version": "3.6.0"
  }
 },
 "nbformat": 4,
 "nbformat_minor": 1
}
