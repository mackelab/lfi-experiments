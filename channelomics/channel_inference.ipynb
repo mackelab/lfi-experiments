{
 "cells": [
  {
   "cell_type": "code",
   "execution_count": null,
   "metadata": {},
   "outputs": [],
   "source": [
    "import delfi.distribution as dd\n",
    "\n",
    "import matplotlib as mpl\n",
    "import numpy as np\n",
    "import pandas as pd\n",
    "import time\n",
    "\n",
    "from delfi.generator import Default\n",
    "from delfi.utils.viz import plot_pdf\n",
    "from lfimodels.channelomics.Channel import Channel\n",
    "from lfimodels.channelomics.ChannelStats import ChannelStats\n",
    "from matplotlib import pyplot as plt\n",
    "%matplotlib inline\n",
    "\n",
    "GT = {'k': np.array([9, 25, 0.02, 0.002]), \\\n",
    "      'na': np.array([-35, 9, 0.182, 0.124, -50, -75, 5, -65, 6.2, 0.0091, 0.024])}\n",
    "LP = {'k': ['qa','tha','Ra','Rb'], 'na': ['tha','qa','Ra','Rb','thi1','thi2','qi','thinf','qinf','Rg','Rd']}\n",
    "\n",
    "channel_type = 'k' # alternative: 'na'\n",
    "\n",
    "gt = GT[channel_type]\n",
    "labels_params = LP[channel_type]\n",
    "lims = np.sort(np.concatenate((0.5*gt.reshape(-1,1),1.5*gt.reshape(-1,1)),axis=1))\n",
    "n_params = len(gt)\n",
    "\n",
    "m = Channel(channel_type=channel_type, n_params=n_params)\n",
    "p = dd.Uniform(lower=lims[:,0], upper=lims[:,1])\n",
    "s = ChannelStats(channel_type=channel_type)\n",
    "g = Default(model=m, prior=p, summary=s)\n",
    "\n",
    "out = g.gen(1)"
   ]
  },
  {
   "cell_type": "code",
   "execution_count": null,
   "metadata": {},
   "outputs": [],
   "source": [
    "from delfi.inference import Basic\n",
    "\n",
    "inf_basic = Basic(generator=g, n_components=2, n_hiddens=[25, 25])\n",
    "log, train_data = inf_basic.run(n_train=2500)"
   ]
  },
  {
   "cell_type": "markdown",
   "metadata": {},
   "source": [
    "## 13.5h runtime, 2500 simulations"
   ]
  },
  {
   "cell_type": "code",
   "execution_count": null,
   "metadata": {},
   "outputs": [],
   "source": [
    "import delfi.utils.io as io\n",
    "import pickle\n",
    "\n",
    "io.save(inf_basic, 'run_1.pkl')\n",
    "pickle.dump(log, open('run_1_log.pkl', 'wb'))"
   ]
  },
  {
   "cell_type": "code",
   "execution_count": null,
   "metadata": {},
   "outputs": [],
   "source": [
    "xo = m.gen(gt.reshape(1,-1))\n",
    "xo_stats = s.calc(xo[0])\n",
    "posterior = inf_basic.predict(xo_stats)"
   ]
  },
  {
   "cell_type": "code",
   "execution_count": null,
   "metadata": {},
   "outputs": [],
   "source": [
    "plot_pdf(posterior, \n",
    "         gt=gt, \n",
    "         ticks=False,\n",
    "         labels_params=labels_params,\n",
    "         lims=lims);"
   ]
  },
  {
   "cell_type": "code",
   "execution_count": null,
   "metadata": {},
   "outputs": [],
   "source": []
  }
 ],
 "metadata": {
  "anaconda-cloud": {},
  "kernelspec": {
   "display_name": "Python [Root]",
   "language": "python",
   "name": "Python [Root]"
  },
  "language_info": {
   "codemirror_mode": {
    "name": "ipython",
    "version": 3
   },
   "file_extension": ".py",
   "mimetype": "text/x-python",
   "name": "python",
   "nbconvert_exporter": "python",
   "pygments_lexer": "ipython3",
   "version": "3.5.3"
  }
 },
 "nbformat": 4,
 "nbformat_minor": 1
}
