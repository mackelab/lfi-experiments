{
 "cells": [
  {
   "cell_type": "markdown",
   "metadata": {},
   "source": [
    "## Hodgkin-Huxley model with one channel in response to several voltage-clamps protocols\n",
    "### Channel identity. ICG id: 1707, ModelDB id: 2488"
   ]
  },
  {
   "cell_type": "code",
   "execution_count": 4,
   "metadata": {
    "collapsed": true
   },
   "outputs": [],
   "source": [
    "import matplotlib as mpl\n",
    "import numpy as np\n",
    "import pandas as pd\n",
    "import time\n",
    "\n",
    "from matplotlib import pyplot as plt"
   ]
  },
  {
   "cell_type": "markdown",
   "metadata": {},
   "source": [
    "## Voltage-clamp protocol"
   ]
  },
  {
   "cell_type": "code",
   "execution_count": 6,
   "metadata": {},
   "outputs": [],
   "source": [
    "prot = ['v_act','v_inact','v_deact','v_ap','v_ramp']\n",
    "p = 0\n",
    "protocols = pd.read_csv('./protocols/k_channels/'+prot[p]+'.dat',sep='\\t')\n",
    "protocols = protocols.drop(protocols.columns[-1],axis=1)\n",
    "\n",
    "# extract voltages and time\n",
    "protocols1 = protocols.values\n",
    "\n",
    "V = protocols1[:,1:].T\n",
    "t = protocols1[:,0]\n",
    "tstep = t[2]-t[1] # ms\n",
    "t[0] = t[1]-tstep # corrected change in time step"
   ]
  },
  {
   "cell_type": "markdown",
   "metadata": {},
   "source": [
    "## Parameters and kinetics"
   ]
  },
  {
   "cell_type": "code",
   "execution_count": 7,
   "metadata": {
    "collapsed": true
   },
   "outputs": [],
   "source": [
    "# parameters\n",
    "celsius = 37    # original temperature\n",
    "temp = 23       # reference temperature\n",
    "q10 = 2.3       # temperature sensitivity\n",
    "tadj = q10**((celsius - temp)/10)\n",
    "\n",
    "# length and diameter equal to 20 um\n",
    "A_soma = np.pi*((20.*1e-4)**2)  # cm2\n",
    "\n",
    "C = 1 # uF/cm2\n",
    "\n",
    "g_L = 3.334e-2 # mS/cm2\n",
    "E_L = -80 # not sure which one is used in Podlaski et al. 2017, mV\n",
    "\n",
    "gbar_K = 1.0 # mS/cm2\n",
    "E_K = -86.7 # mV\n",
    "\n",
    "###############################################################################\n",
    "# kinetics\n",
    "def efun(z):\n",
    "    ind = np.abs(z) < 1e-4\n",
    "    efun1 = z*1.\n",
    "    efun1[ind] = 1 - z[ind]/2\n",
    "    efun1[~ind] = z[~ind] / (np.exp(z[~ind]) - 1)\n",
    "    return efun1\n",
    "\n",
    "def alpha_n(x):\n",
    "    v1 = x - 25\n",
    "    return 0.02 * 9 * efun(-v1/9)\n",
    "    \n",
    "def beta_n(x):\n",
    "    v1 = x - 25\n",
    "    return 0.002 * 9 * efun(v1/9)"
   ]
  },
  {
   "cell_type": "markdown",
   "metadata": {},
   "source": [
    "## Simulation"
   ]
  },
  {
   "cell_type": "code",
   "execution_count": 8,
   "metadata": {},
   "outputs": [
    {
     "name": "stdout",
     "output_type": "stream",
     "text": [
      "2.7282931804656982\n"
     ]
    }
   ],
   "source": [
    "volt_clamp = 1 # if voltage-clamp, volt_clamp=1\n",
    "\n",
    "t_sim = time.time()\n",
    "\n",
    "if volt_clamp ==1:\n",
    "    n = np.zeros_like(V)    \n",
    "    n[:,0] = alpha_n(V[:,0])/(alpha_n(V[:,0])+beta_n(V[:,0]))\n",
    "\n",
    "    for i in range(1, t.shape[0]):\n",
    "        n[:,i] = n[:,i-1] + tstep*(alpha_n(V[:,i-1])*(1-n[:,i-1]) - beta_n(V[:,i-1])*n[:,i-1])*tadj\n",
    "    \n",
    "else:    \n",
    "    V = np.zeros_like(t)+E_L # baseline voltage\n",
    "    n = np.zeros_like(t)\n",
    "\n",
    "    n[0] = alpha_n(V[0])/(alpha_n(V[0])+beta_n(V[0]))\n",
    "    \n",
    "    for i in range(1, t.shape[0]):\n",
    "\n",
    "        # currents\n",
    "        I_K = tadj*n[i-1]*gbar_K*(V[i-1]-E_K)\n",
    "        I_L = tadj*g_L*(V[i-1]-E_L)\n",
    "        I_ion = I[i-1] - I_K - I_L\n",
    "\n",
    "        ###############################\n",
    "        V[i] = V[i-1] + tstep*I_ion/C\n",
    "        n[i] = n[i-1] + tstep*(alpha_n(V[i-1])*(1-n[i-1]) - beta_n(V[i-1])*n[i-1])*tadj\n",
    "\n",
    "\n",
    "print(time.time() - t_sim)\n",
    "\n",
    "I_K = tadj*n*gbar_K*(V-E_K)\n",
    "I_K = I_K/np.max(I_K)\n",
    "# I_L = tadj*g_L*(V-E_L)\n",
    "# I_tot = (I_K + I_L)/np.max(I_K + I_L)"
   ]
  },
  {
   "cell_type": "markdown",
   "metadata": {},
   "source": [
    "## Plot"
   ]
  },
  {
   "cell_type": "code",
   "execution_count": 9,
   "metadata": {},
   "outputs": [
    {
     "data": {
      "image/png": "[encoded data removed]",
      "text/plain": [
       "<matplotlib.figure.Figure at 0x107eccb70>"
      ]
     },
     "metadata": {},
     "output_type": "display_data"
    }
   ],
   "source": [
    "num_levels = len(V[:,0])\n",
    "cm1 = mpl.cm.viridis\n",
    "col1 = [cm1(1.*i/num_levels) for i in range(num_levels)]\n",
    "\n",
    "gs = mpl.gridspec.GridSpec(2, 1, height_ratios=[4, 1])\n",
    "ax = plt.subplot(gs[0])\n",
    "for i in range(num_levels):\n",
    "    plt.plot(t,I_K[i,], color = col1[i])\n",
    "plt.ylabel('norm. current')\n",
    "ax.set_xticks([])\n",
    "ax.set_yticks([0, 1.001*np.max(I_K)])\n",
    "\n",
    "ax = plt.subplot(gs[1])\n",
    "for i in range(num_levels):\n",
    "    plt.plot(t, V[i,],'r')\n",
    "plt.xlabel('time (ms)')\n",
    "plt.ylabel('voltage (mV)')\n",
    "\n",
    "duration = np.max(t)\n",
    "ax.set_xticks([0, duration/2, duration])\n",
    "ax.set_yticks([0, np.max(V)])\n",
    "\n",
    "plt.show()"
   ]
  },
  {
   "cell_type": "markdown",
   "metadata": {},
   "source": [
    "## Checking model implementation against it"
   ]
  },
  {
   "cell_type": "code",
   "execution_count": 10,
   "metadata": {},
   "outputs": [
    {
     "name": "stderr",
     "output_type": "stream",
     "text": [
      "Widget Javascript not detected.  It may not be installed or enabled properly.\n"
     ]
    },
    {
     "data": {
      "application/vnd.jupyter.widget-view+json": {
       "model_id": "5a36ea25ccc848db8f9f01b2ae4b0d57"
      }
     },
     "metadata": {},
     "output_type": "display_data"
    },
    {
     "name": "stdout",
     "output_type": "stream",
     "text": [
      "\n"
     ]
    }
   ],
   "source": [
    "from lfimodels.channelomics.Channel import Channel\n",
    "m = Channel()\n",
    "\n",
    "import numpy as np\n",
    "out = m.gen(np.array([[9, 25, 0.02, 0.002]]))\n",
    "\n",
    "import matplotlib.pyplot as plt\n",
    "%matplotlib inline\n",
    "\n",
    "K2 = out[0][0]['v_act']['data']\n",
    "t2 = out[0][0]['v_act']['time']"
   ]
  },
  {
   "cell_type": "code",
   "execution_count": 11,
   "metadata": {},
   "outputs": [
    {
     "data": {
      "image/png": "[encoded data removed]",
      "text/plain": [
       "<matplotlib.figure.Figure at 0x10be47c50>"
      ]
     },
     "metadata": {},
     "output_type": "display_data"
    }
   ],
   "source": [
    "num_levels = len(V[:,0])\n",
    "cm1 = mpl.cm.viridis\n",
    "col1 = [cm1(1.*i/num_levels) for i in range(num_levels)]\n",
    "\n",
    "gs = mpl.gridspec.GridSpec(2, 1, height_ratios=[4, 1])\n",
    "ax = plt.subplot(gs[0])\n",
    "for i in range(num_levels):\n",
    "    plt.plot(t2, K2[i,], color = col1[i])\n",
    "plt.ylabel('norm. current')\n",
    "ax.set_xticks([])\n",
    "ax.set_yticks([0, 1.001*np.max(I_K)])\n",
    "\n",
    "ax = plt.subplot(gs[1])\n",
    "for i in range(num_levels):\n",
    "    plt.plot(t2, V[i,],'r')\n",
    "plt.xlabel('time (ms)')\n",
    "plt.ylabel('voltage (mV)')\n",
    "\n",
    "duration = np.max(t)\n",
    "ax.set_xticks([0, duration/2, duration])\n",
    "ax.set_yticks([0, np.max(V)])\n",
    "\n",
    "plt.show()"
   ]
  }
 ],
 "metadata": {
  "anaconda-cloud": {},
  "kernelspec": {
   "display_name": "Python 3",
   "language": "python",
   "name": "python3"
  }
 },
 "nbformat": 4,
 "nbformat_minor": 1
}
