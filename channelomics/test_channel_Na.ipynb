{
 "cells": [
  {
   "cell_type": "markdown",
   "metadata": {},
   "source": [
    "## Hodgkin-Huxley model with one channel in response to several voltage-clamps protocols\n",
    "### Channel identity. ICG id: 1708, ModelDB id: 2488"
   ]
  },
  {
   "cell_type": "code",
   "execution_count": 1,
   "metadata": {},
   "outputs": [],
   "source": [
    "import matplotlib as mpl\n",
    "import numpy as np\n",
    "import pandas as pd\n",
    "import time\n",
    "\n",
    "from matplotlib import pyplot as plt"
   ]
  },
  {
   "cell_type": "markdown",
   "metadata": {},
   "source": [
    "## Voltage-clamp protocol"
   ]
  },
  {
   "cell_type": "code",
   "execution_count": 2,
   "metadata": {},
   "outputs": [],
   "source": [
    "prot = ['v_act','v_inact','v_deact','v_ap','v_ramp']\n",
    "p = 0\n",
    "protocols = \\\n",
    "pd.read_csv('~/repos/lfi-models/lfimodels/channelomics/protocols/na_channels/'+prot[p]+'.dat',sep='\\t')\n",
    "protocols = protocols.drop(protocols.columns[-1],axis=1)\n",
    "\n",
    "# extract voltages and time\n",
    "protocols1 = protocols.values\n",
    "\n",
    "V = protocols1[:,1:].T\n",
    "t = protocols1[:,0]   # attention: time step varies, but we will assume that it is constant\n",
    "tstep = np.mean(np.diff(t)) # ms"
   ]
  },
  {
   "cell_type": "markdown",
   "metadata": {},
   "source": [
    "## Parameters and kinetics"
   ]
  },
  {
   "cell_type": "code",
   "execution_count": 3,
   "metadata": {},
   "outputs": [],
   "source": [
    "# parameters\n",
    "celsius = 37    # original temperature\n",
    "temp = 23       # reference temperature\n",
    "q10 = 2.3       # temperature sensitivity\n",
    "tadj = q10**((celsius - temp)/10)\n",
    "\n",
    "g_L = 3.334e-2 # mS/cm2\n",
    "E_L = -80 # not sure which one is used in Podlaski et al. 2017, mV\n",
    "\n",
    "gbar_Na = 1.0 # mS/cm2\n",
    "E_Na = 50 # mV\n",
    "\n",
    "noise_std = 0.0001\n",
    "\n",
    "###############################################################################\n",
    "# kinetics\n",
    "def efun(z):\n",
    "    ind = np.abs(z) < 1e-6\n",
    "    efun1 = z*1.\n",
    "    efun1[ind] = 1 - z[ind]/2\n",
    "    efun1[~ind] = z[~ind] / (np.exp(z[~ind]) - 1)\n",
    "    return efun1\n",
    "\n",
    "def alpha_m(x):\n",
    "    v1 = x + 35\n",
    "    return 0.182 * 9 * efun(-v1/9)\n",
    "\n",
    "def beta_m(x):\n",
    "    v1 = x + 35\n",
    "    return 0.124 * 9 * efun(v1/9)\n",
    "\n",
    "def alpha_h(x):\n",
    "    v1 = x + 50\n",
    "    return 0.024 * 5 * efun(-v1/5)\n",
    "\n",
    "def beta_h(x):\n",
    "    v1 = x + 75\n",
    "    return 0.0091 * 5 * efun(v1/5)\n",
    "\n",
    "\n",
    "def tau_m(x):\n",
    "    return 1/(alpha_m(x) + beta_m(x))\n",
    "def m_inf(x):\n",
    "    return alpha_m(x)/(alpha_m(x) + beta_m(x))\n",
    "def tau_h(x):\n",
    "    return 1/(alpha_h(x) + beta_h(x))\n",
    "def h_inf(x):\n",
    "    v1 = x + 65\n",
    "    return 1/(1+np.exp(v1/6.2))"
   ]
  },
  {
   "cell_type": "markdown",
   "metadata": {},
   "source": [
    "## Voltage-clamp simulation"
   ]
  },
  {
   "cell_type": "code",
   "execution_count": 4,
   "metadata": {},
   "outputs": [
    {
     "name": "stdout",
     "output_type": "stream",
     "text": [
      "1.1298508644104004\n"
     ]
    }
   ],
   "source": [
    "t_sim = time.time()\n",
    "\n",
    "m = np.zeros_like(V)\n",
    "h = np.zeros_like(V)\n",
    "\n",
    "m[:,0] = m_inf(V[:,0])\n",
    "h[:,0] = h_inf(V[:,0])\n",
    "\n",
    "len_m = len(m[:,0])\n",
    "\n",
    "for i in range(1, t.shape[0]):\n",
    "    m_inf1 = m_inf(V[:,i-1])+noise_std*np.random.randn(len_m)/(tstep**0.5)\n",
    "    h_inf1 = h_inf(V[:,i-1])+noise_std*np.random.randn(len_m)/(tstep**0.5)\n",
    "    m[:,i] = m_inf1+(m[:,i-1]-m_inf1)*np.exp(-tstep*tadj/tau_m(V[:,i-1]))\n",
    "    h[:,i] = h_inf1+(h[:,i-1]-h_inf1)*np.exp(-tstep*tadj/tau_h(V[:,i-1]))\n",
    "    \n",
    "print(time.time() - t_sim)\n",
    "\n",
    "\n",
    "fact_inward = -1 # inward current pre-multiplied by -1 (see page 15 of Podlasky et al. 2017)\n",
    "\n",
    "I_Na = fact_inward*tadj*gbar_Na*(m**3)*h*(V-E_Na)\n",
    "I_Na = I_Na/np.max(I_Na)\n",
    "# I_L = tadj*g_L*(V-E_L)\n",
    "# I_tot = (I_Na + I_L)/np.max(I_Na + I_L)"
   ]
  },
  {
   "cell_type": "markdown",
   "metadata": {},
   "source": [
    "## Plot"
   ]
  },
  {
   "cell_type": "code",
   "execution_count": 5,
   "metadata": {
    "scrolled": false
   },
   "outputs": [
    {
     "data": {
      "image/png": "[encoded data removed]",
      "text/plain": [
       "<matplotlib.figure.Figure at 0x7fac39653e80>"
      ]
     },
     "metadata": {},
     "output_type": "display_data"
    }
   ],
   "source": [
    "# %matplotlib notebook\n",
    "num_levels = len(V[:,0])\n",
    "cm1 = mpl.cm.viridis\n",
    "col1 = [cm1(1.*i/num_levels) for i in range(num_levels)]\n",
    "\n",
    "gs = mpl.gridspec.GridSpec(2, 1, height_ratios=[4, 1])\n",
    "ax = plt.subplot(gs[0])\n",
    "for i in range(num_levels):\n",
    "    plt.plot(t,I_Na[i,], color = col1[i])\n",
    "plt.ylabel('norm. current')\n",
    "ax.set_xticks([])\n",
    "ax.set_yticks([0, 1.001*np.max(I_Na)])\n",
    "\n",
    "ax = plt.subplot(gs[1])\n",
    "for i in range(num_levels):\n",
    "    plt.plot(t, V[i,],'r')\n",
    "plt.xlabel('time (ms)')\n",
    "plt.ylabel('voltage (mV)')\n",
    "\n",
    "duration = np.max(t)\n",
    "ax.set_xticks([0, duration/2, duration])\n",
    "ax.set_yticks([np.min(V), np.max(V)])\n",
    "\n",
    "plt.show()"
   ]
  },
  {
   "cell_type": "markdown",
   "metadata": {},
   "source": [
    "## Checking model implementation against it (attention: discrepancy in temporal resolution)"
   ]
  },
  {
   "cell_type": "code",
   "execution_count": 11,
   "metadata": {},
   "outputs": [
    {
     "name": "stdout",
     "output_type": "stream",
     "text": [
      "1.3586325645446777\n"
     ]
    }
   ],
   "source": [
    "from lfimodels.channelomics.Channel import Channel\n",
    "n_params = 11\n",
    "cython = True\n",
    "m = Channel(channel_type='na',n_params=n_params,cython=cython)\n",
    "\n",
    "import numpy as np\n",
    "t_sim = time.time()\n",
    "out = m.gen_single(np.array([-35, 9, 0.182, 0.124, -50, -75, 5, -65, 6.2, 0.0091, 0.024]))\n",
    "print(time.time() - t_sim)\n",
    "\n",
    "import matplotlib.pyplot as plt\n",
    "%matplotlib inline\n",
    "\n",
    "N2 = out[prot[p]]['data']\n",
    "t2 = out[prot[p]]['time']"
   ]
  },
  {
   "cell_type": "code",
   "execution_count": 12,
   "metadata": {},
   "outputs": [
    {
     "data": {
      "image/png": "[encoded data removed]",
      "text/plain": [
       "<matplotlib.figure.Figure at 0x7fac2ddbb710>"
      ]
     },
     "metadata": {},
     "output_type": "display_data"
    }
   ],
   "source": [
    "num_levels = len(V[:,0])\n",
    "cm1 = mpl.cm.viridis\n",
    "col1 = [cm1(1.*i/num_levels) for i in range(num_levels)]\n",
    "\n",
    "gs = mpl.gridspec.GridSpec(2, 1, height_ratios=[4, 1])\n",
    "ax = plt.subplot(gs[0])\n",
    "for i in range(num_levels):\n",
    "    plt.plot(t2, N2[i,], color = col1[i])\n",
    "plt.ylabel('norm. current')\n",
    "ax.set_xticks([])\n",
    "ax.set_yticks([0, 1.001*np.max(I_Na)])\n",
    "\n",
    "ax = plt.subplot(gs[1])\n",
    "for i in range(num_levels):\n",
    "    plt.plot(t, V[i,],'r')\n",
    "plt.xlabel('time (ms)')\n",
    "plt.ylabel('voltage (mV)')\n",
    "\n",
    "duration = np.max(t)\n",
    "ax.set_xticks([0, duration/2, duration])\n",
    "ax.set_yticks([0, np.max(V)])\n",
    "\n",
    "plt.show()"
   ]
  },
  {
   "cell_type": "code",
   "execution_count": null,
   "metadata": {
    "collapsed": true
   },
   "outputs": [],
   "source": []
  }
 ],
 "metadata": {
  "kernelspec": {
   "display_name": "Python 3",
   "language": "python",
   "name": "python3"
  },
  "language_info": {
   "codemirror_mode": {
    "name": "ipython",
    "version": 3
   },
   "file_extension": ".py",
   "mimetype": "text/x-python",
   "name": "python",
   "nbconvert_exporter": "python",
   "pygments_lexer": "ipython3",
   "version": "3.5.2"
  }
 },
 "nbformat": 4,
 "nbformat_minor": 1
}
