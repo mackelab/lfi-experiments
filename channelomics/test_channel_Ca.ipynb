{
 "cells": [
  {
   "cell_type": "markdown",
   "metadata": {},
   "source": [
    "## Hodgkin-Huxley model with one channel in response to several voltage-clamps protocols\n",
    "### Channel identity. ICG id: 2393, ModelDB id: 82849"
   ]
  },
  {
   "cell_type": "code",
   "execution_count": 1,
   "metadata": {},
   "outputs": [],
   "source": [
    "import matplotlib as mpl\n",
    "import numpy as np\n",
    "import pandas as pd\n",
    "import time\n",
    "\n",
    "from matplotlib import pyplot as plt"
   ]
  },
  {
   "cell_type": "markdown",
   "metadata": {},
   "source": [
    "## Voltage-clamp protocol"
   ]
  },
  {
   "cell_type": "code",
   "execution_count": 2,
   "metadata": {},
   "outputs": [],
   "source": [
    "prot = ['v_act','v_inact','v_deact','v_ap','v_ramp']\n",
    "p = 4\n",
    "protocols = \\\n",
    "pd.read_csv('~/repos/lfi-models/lfimodels/channelomics/protocols/ca_channels/'+prot[p]+'.dat',sep='\\t')\n",
    "protocols = protocols.drop(protocols.columns[-1],axis=1)\n",
    "\n",
    "# extract voltages and time\n",
    "protocols1 = protocols.values\n",
    "\n",
    "V = protocols1[:,1:].T\n",
    "t = protocols1[:,0]   # attention: time step varies, but we will assume that it is constant\n",
    "tstep = np.mean(np.diff(t)) # ms"
   ]
  },
  {
   "cell_type": "markdown",
   "metadata": {},
   "source": [
    "## Parameters and kinetics"
   ]
  },
  {
   "cell_type": "code",
   "execution_count": 3,
   "metadata": {},
   "outputs": [],
   "source": [
    "# parameters\n",
    "# celsius = 37    # original temperature\n",
    "# temp = 23       # reference temperature\n",
    "# q10 = 2.3       # temperature sensitivity\n",
    "# tadj = q10**((celsius - temp)/10)\n",
    "\n",
    "g_L = 3.334e-2 # mS/cm2\n",
    "E_L = -80 # not sure which one is used in Podlaski et al. 2017, mV\n",
    "\n",
    "gbar_hva = 1.0 # mS/cm2\n",
    "# E_Ca = 12.5 * np.log(Ca_o/Ca_i) # mV\n",
    "E_Ca = 135 # mV\n",
    "\n",
    "noise_std = 0.01\n",
    "\n",
    "###############################################################################\n",
    "# kinetics\n",
    "def efun(z):\n",
    "    ind = np.abs(z) < 1e-4\n",
    "    efun1 = z*1.\n",
    "    efun1[ind] = z[ind]+1e-5\n",
    "    efun1[~ind] = z[~ind]\n",
    "    return efun1\n",
    "\n",
    "def u_inf(x):\n",
    "    v1 = x + 24.6\n",
    "    return 1/(1+np.exp(-efun(v1)/11.3))\n",
    "\n",
    "def tau_u(x):\n",
    "    v1 = -0.031*(x+37.1)\n",
    "    return 1.25*2/(np.exp(v1) + np.exp(-v1))\n",
    "\n",
    "def z_inf(x):\n",
    "    v1 = x + 12.6\n",
    "    return 1/(1+np.exp(efun(v1)/18.9))\n",
    "\n",
    "tau_z = 420"
   ]
  },
  {
   "cell_type": "markdown",
   "metadata": {},
   "source": [
    "## Voltage-clamp simulation"
   ]
  },
  {
   "cell_type": "code",
   "execution_count": 4,
   "metadata": {},
   "outputs": [
    {
     "name": "stdout",
     "output_type": "stream",
     "text": [
      "8.759633541107178\n"
     ]
    }
   ],
   "source": [
    "t_sim = time.time()\n",
    "\n",
    "u = np.zeros_like(V)\n",
    "z = np.zeros_like(V)\n",
    "\n",
    "u[:,0] = u_inf(V[:,0])\n",
    "z[:,0] = z_inf(V[:,0])\n",
    "\n",
    "for i in range(1, t.shape[0]):\n",
    "    u_inf1 = u_inf(V[:,i-1])+noise_std*np.random.randn()/(tstep**0.5)\n",
    "    z_inf1 = z_inf(V[:,i-1])+noise_std*np.random.randn()/(tstep**0.5)\n",
    "    u[:,i] = u_inf1+(u[:,i-1]-u_inf1)*np.exp(-tstep/tau_u(V[:,i-1]))\n",
    "    z[:,i] = z_inf1+(z[:,i-1]-z_inf1)*np.exp(-tstep/tau_z)\n",
    "    \n",
    "print(time.time() - t_sim)\n",
    "\n",
    "\n",
    "fact_inward = -1 # inward current pre-multiplied by -1 (see page 15 of Podlasky et al. 2017)\n",
    "\n",
    "I_Ca = fact_inward*gbar_hva*(u**2)*z*(V-E_Ca)\n",
    "I_Ca = I_Ca/np.max(I_Ca)\n",
    "# I_L = g_L*(V-E_L)\n",
    "# I_tot = (I_Ca + I_L)/np.max(I_Ca + I_L)"
   ]
  },
  {
   "cell_type": "markdown",
   "metadata": {},
   "source": [
    "## Plot"
   ]
  },
  {
   "cell_type": "code",
   "execution_count": 5,
   "metadata": {
    "scrolled": false
   },
   "outputs": [
    {
     "data": {
      "image/png": "[encoded data removed]",
      "text/plain": [
       "<matplotlib.figure.Figure at 0x7f39aed67828>"
      ]
     },
     "metadata": {},
     "output_type": "display_data"
    }
   ],
   "source": [
    "# %matplotlib notebook\n",
    "num_levels = len(V[:,0])\n",
    "cm1 = mpl.cm.viridis\n",
    "col1 = [cm1(1.*i/num_levels) for i in range(num_levels)]\n",
    "\n",
    "# scal_y = 1\n",
    "\n",
    "gs = mpl.gridspec.GridSpec(2, 1, height_ratios=[4, 1])\n",
    "ax = plt.subplot(gs[0])\n",
    "for i in range(num_levels):\n",
    "    plt.plot(t,I_Ca[i,], color = col1[i])\n",
    "plt.ylabel('norm. current')\n",
    "ax.set_xticks([])\n",
    "ax.set_yticks([0, 1.001*np.max(I_Ca)])\n",
    "# ax.set_ylim([0,scal_y])\n",
    "\n",
    "ax = plt.subplot(gs[1])\n",
    "for i in range(num_levels):\n",
    "    plt.plot(t, V[i,],'r')\n",
    "plt.xlabel('time (ms)')\n",
    "plt.ylabel('voltage (mV)')\n",
    "\n",
    "duration = np.max(t)\n",
    "ax.set_xticks([0, duration/2, duration])\n",
    "ax.set_yticks([np.min(V), np.max(V)])\n",
    "\n",
    "plt.show()"
   ]
  },
  {
   "cell_type": "markdown",
   "metadata": {},
   "source": [
    "## Checking model implementation against it (attention: discrepancy in temporal resolution)"
   ]
  },
  {
   "cell_type": "code",
   "execution_count": 6,
   "metadata": {},
   "outputs": [],
   "source": [
    "from lfimodels.channelomics.Channel import Channel\n",
    "n_params = 8\n",
    "m = Channel(channel_type='ca', n_params=n_params)\n",
    "\n",
    "import numpy as np\n",
    "out = m.gen_single(np.array([24.6, 11.3, -.031, 37.1, 2.5, 12.6, 18.9, 420]))\n",
    "\n",
    "import matplotlib.pyplot as plt\n",
    "%matplotlib inline\n",
    "\n",
    "N2 = out[prot[p]]['data']\n",
    "t2 = out[prot[p]]['time']"
   ]
  },
  {
   "cell_type": "code",
   "execution_count": 7,
   "metadata": {
    "scrolled": false
   },
   "outputs": [
    {
     "data": {
      "image/png": "[encoded data removed]",
      "text/plain": [
       "<matplotlib.figure.Figure at 0x7f39a35bb128>"
      ]
     },
     "metadata": {},
     "output_type": "display_data"
    }
   ],
   "source": [
    "num_levels = len(V[:,0])\n",
    "cm1 = mpl.cm.viridis\n",
    "col1 = [cm1(1.*i/num_levels) for i in range(num_levels)]\n",
    "\n",
    "gs = mpl.gridspec.GridSpec(2, 1, height_ratios=[4, 1])\n",
    "ax = plt.subplot(gs[0])\n",
    "for i in range(num_levels):\n",
    "    plt.plot(t2, N2[i,], color = col1[i])\n",
    "plt.ylabel('norm. current')\n",
    "ax.set_xticks([])\n",
    "ax.set_yticks([0, 1.001*np.max(I_Ca)])\n",
    "\n",
    "ax = plt.subplot(gs[1])\n",
    "for i in range(num_levels):\n",
    "    plt.plot(t, V[i,],'r')\n",
    "plt.xlabel('time (ms)')\n",
    "plt.ylabel('voltage (mV)')\n",
    "\n",
    "duration = np.max(t)\n",
    "ax.set_xticks([0, duration/2, duration])\n",
    "ax.set_yticks([0, np.max(V)])\n",
    "\n",
    "plt.show()"
   ]
  },
  {
   "cell_type": "code",
   "execution_count": null,
   "metadata": {},
   "outputs": [],
   "source": []
  }
 ],
 "metadata": {
  "kernelspec": {
   "display_name": "Python 3",
   "language": "python",
   "name": "python3"
  },
  "language_info": {
   "codemirror_mode": {
    "name": "ipython",
    "version": 3
   },
   "file_extension": ".py",
   "mimetype": "text/x-python",
   "name": "python",
   "nbconvert_exporter": "python",
   "pygments_lexer": "ipython3",
   "version": "3.5.2"
  }
 },
 "nbformat": 4,
 "nbformat_minor": 1
}
