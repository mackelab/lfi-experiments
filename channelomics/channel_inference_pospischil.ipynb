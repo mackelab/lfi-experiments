{
 "cells": [
  {
   "cell_type": "code",
   "execution_count": null,
   "metadata": {
    "collapsed": true
   },
   "outputs": [],
   "source": [
    "import delfi.distribution as dd\n",
    "import matplotlib as mpl\n",
    "import numpy as np\n",
    "import pandas as pd\n",
    "import time\n",
    "\n",
    "from delfi.generator import Default\n",
    "from delfi.utils.viz import plot_pdf\n",
    "from lfimodels.channelomics.ChannelSingle import ChannelSingle\n",
    "from lfimodels.channelomics.ChannelSuper import ChannelSuper\n",
    "from lfimodels.channelomics.ChannelStats import ChannelStats\n",
    "from lfimodels.channelomics.ChannelMPGenerator import ChannelMPGenerator\n",
    "from matplotlib import pyplot as plt\n",
    "\n",
    "%matplotlib inline"
   ]
  },
  {
   "cell_type": "code",
   "execution_count": null,
   "metadata": {},
   "outputs": [],
   "source": [
    "GT = {'kd': np.array([4, -63, 0.032, 15, 5, 0.5, 10, 40]),\n",
    "      'kslow': np.array([1, 35, 10, 3.3, 20])}\n",
    "LP = {'kd': ['power', 'vt', 'Ra', 'tha', 'sa', 'Rb', 'thb', 'sb'],\n",
    "      'kslow': ['power', 'v_shift', 'v_scale', 'tau_scale', 'tau_shift']}\n",
    "\n",
    "E_channel = {'kd': -90.0, 'kslow': -90.0}\n",
    "fact_inward = {'kd': 1, 'kslow': 1}\n",
    "\n",
    "channel_type = 'kd'\n",
    "cython = True\n",
    "\n",
    "gt = GT[channel_type]\n",
    "\n",
    "n_params = len(gt)\n",
    "labels_params = LP[channel_type]\n",
    "lims = np.sort(np.concatenate((0.3 * gt.reshape(-1,1), 1.3 * gt.reshape(-1,1)), axis=1))\n",
    "\n",
    "m = ChannelSingle(channel_type=channel_type, n_params=n_params, cython=cython)\n",
    "p = dd.Uniform(lower=lims[:,0], upper=lims[:,1])\n",
    "s = ChannelStats(channel_type=channel_type)\n",
    "g = Default(model=m, prior=p, summary=s)\n",
    "\n",
    "\n",
    "# generate observed data\n",
    "n_params_obs = len(gt)\n",
    "m_obs = ChannelSingle(channel_type=channel_type, n_params=n_params_obs, cython=cython)\n",
    "xo = m_obs.gen(gt.reshape(1,-1))\n",
    "xo_stats = s.calc(xo[0])"
   ]
  },
  {
   "cell_type": "code",
   "execution_count": null,
   "metadata": {},
   "outputs": [],
   "source": [
    "from delfi.inference import SNPE\n",
    "\n",
    "svi = False\n",
    "prior_norm = True\n",
    "inf_snpe = SNPE(g, obs=xo_stats, pilot_samples=100, n_components=2, n_hiddens=[50,50], svi=svi, prior_norm=prior_norm)\n",
    "log, train_data, posterior = inf_snpe.run(n_train=1000, n_rounds=1)"
   ]
  },
  {
   "cell_type": "code",
   "execution_count": null,
   "metadata": {
    "collapsed": true
   },
   "outputs": [],
   "source": [
    "posterior = inf_snpe.predict(xo_stats)"
   ]
  },
  {
   "cell_type": "code",
   "execution_count": null,
   "metadata": {},
   "outputs": [],
   "source": [
    "plot_pdf(posterior, gt=gt, labels_params=LP['kd'],\n",
    "         lims=lims,figsize=(18,15));"
   ]
  },
  {
   "cell_type": "code",
   "execution_count": null,
   "metadata": {},
   "outputs": [],
   "source": [
    "mean, S = posterior.calc_mean_and_cov()\n",
    "# m = posterior.xs[0].m\n",
    "# S = posterior.xs[0].S\n",
    "\n",
    "prot = ['v_act','v_inact','v_deact','v_ap','v_ramp']\n",
    "num_protocols = len(prot)\n",
    "\n",
    "num_samp = 10\n",
    "\n",
    "# sampling at contour of 1 covariance away from mean (if samples from outside the prior box, contour is at prior box)\n",
    "x_samp = np.random.randn(n_params,num_samp)\n",
    "x_samp = np.divide(x_samp,np.linalg.norm(x_samp,axis=0))\n",
    "x_samp = (np.dot(S,x_samp)).T+mean\n",
    "\n",
    "# # sample from posterior\n",
    "# x_samp = posterior.gen(n_samples=num_samp)\n",
    "\n",
    "# correct for samples outside the prior box\n",
    "x_samp = np.maximum(x_samp,lims[:,0])\n",
    "x_samp = np.minimum(x_samp,lims[:,1])\n",
    "\n",
    "params = np.concatenate((np.array([mean]),x_samp))\n",
    "\n",
    "fig = plt.figure(figsize = (20,10+num_samp*5))\n",
    "\n",
    "for i in range(1+num_samp):\n",
    "    x = m.gen_single(params[i,:])\n",
    "    for p in range(num_protocols):\n",
    "        I = x[prot[p]]['data']\n",
    "        t = x[prot[p]]['time']\n",
    "        num_levels = len(I[:,0])\n",
    "        cm1 = mpl.cm.viridis\n",
    "        col1 = [cm1(1.*k/num_levels) for k in range(num_levels)]\n",
    "        \n",
    "        for j in range(num_levels):\n",
    "            if i==0:\n",
    "                plt.subplot(2+num_samp,num_protocols,p+1)\n",
    "                plt.plot(t, xo[0][0][prot[p]]['data'][j,], color = col1[j], lw=2)\n",
    "                plt.xlabel('time (ms)')\n",
    "                plt.ylabel('norm. current')\n",
    "                plt.title('observation')\n",
    "                \n",
    "                plt.subplot(2+num_samp,num_protocols,num_protocols+p+1)\n",
    "                plt.plot(t, I[j,], color = col1[j], lw=2)\n",
    "                plt.xlabel('time (ms)')\n",
    "                plt.ylabel('norm. current')\n",
    "                plt.title('mode')\n",
    "            else:\n",
    "                plt.subplot(2+num_samp,num_protocols,(i+1)*num_protocols+p+1)\n",
    "                plt.plot(t, I[j,], color = col1[j], lw=2)\n",
    "                plt.xlabel('time (ms)')\n",
    "                plt.ylabel('norm. current')\n",
    "                plt.title('sample '+str(num_samp-i+1))"
   ]
  },
  {
   "cell_type": "code",
   "execution_count": null,
   "metadata": {
    "collapsed": true
   },
   "outputs": [],
   "source": []
  }
 ],
 "metadata": {
  "kernelspec": {
   "display_name": "Python [conda env:mackelab]",
   "language": "python",
   "name": "conda-env-mackelab-py"
  },
  "language_info": {
   "codemirror_mode": {
    "name": "ipython",
    "version": 3
   },
   "file_extension": ".py",
   "mimetype": "text/x-python",
   "name": "python",
   "nbconvert_exporter": "python",
   "pygments_lexer": "ipython3",
   "version": "3.6.2"
  }
 },
 "nbformat": 4,
 "nbformat_minor": 2
}
