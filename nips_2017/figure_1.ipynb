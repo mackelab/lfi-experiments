{
 "cells": [
  {
   "cell_type": "code",
   "execution_count": null,
   "metadata": {
    "collapsed": true
   },
   "outputs": [],
   "source": [
    "import pickle\n",
    "import theano\n",
    "import scipy as sp\n",
    "\n",
    "theano.config.floatX = 'float32'\n",
    "%run -i common.ipynb\n",
    "\n",
    "# FIGURE AND GRID\n",
    "FIG_HEIGHT_MM = 50\n",
    "FIG_WIDTH_MM = FIG_WIDTH_MM  # set in NIPS2017 notebook to a default value for all figures\n",
    "FIG_N_ROWS = 1\n",
    "ROW_1_NCOLS = 3\n",
    "ROW_1_HEIGHT_MM = FIG_HEIGHT_MM\n",
    "ROW_1_WIDTH_COL_1_MM = FIG_WIDTH_MM / ROW_1_NCOLS\n",
    "ROW_1_WIDTH_COL_2_MM = FIG_WIDTH_MM / ROW_1_NCOLS\n",
    "ROW_1_WIDTH_COL_3_MM = FIG_WIDTH_MM / ROW_1_NCOLS\n",
    "\n",
    "PATH_DROPBOX_FIGS = PATH_DROPBOX + 'figs/'\n",
    "\n",
    "# PATHS\n",
    "PANEL_A = PATH_DROPBOX_FIGS + 'fig1_a.svg'\n",
    "PANEL_B = PATH_DROPBOX_FIGS + 'fig1_b.svg'\n",
    "PANEL_C = PATH_DROPBOX_FIGS + 'fig1_c.svg'"
   ]
  },
  {
   "cell_type": "markdown",
   "metadata": {},
   "source": [
    "## Panel a"
   ]
  },
  {
   "cell_type": "code",
   "execution_count": null,
   "metadata": {},
   "outputs": [],
   "source": [
    "svg(PANEL_A)"
   ]
  },
  {
   "cell_type": "markdown",
   "metadata": {},
   "source": [
    "## Panel b"
   ]
  },
  {
   "cell_type": "markdown",
   "metadata": {},
   "source": [
    "TODO: Add in code to produce panel b"
   ]
  },
  {
   "cell_type": "code",
   "execution_count": null,
   "metadata": {},
   "outputs": [],
   "source": [
    "svg(PANEL_B)"
   ]
  },
  {
   "cell_type": "markdown",
   "metadata": {},
   "source": [
    "Some chunks of old code below ... not currently working"
   ]
  },
  {
   "cell_type": "code",
   "execution_count": null,
   "metadata": {
    "collapsed": true
   },
   "outputs": [],
   "source": [
    "def gauss1D(x,mean,var):\n",
    "    return ((2 * np.pi) ** (-0.5)) * (1 / np.sqrt(var)) * np.exp(-0.5 * ((x - mean) ** 2) / var)"
   ]
  },
  {
   "cell_type": "code",
   "execution_count": null,
   "metadata": {},
   "outputs": [],
   "source": [
    "###############################################################################\n",
    "# sampling from proposal prior and running forward model\n",
    "n_samp = 500\n",
    "theta_samp = np.sqrt(prop_prior_cov)*np.random.randn(n_samp) + prop_prior_mean\n",
    "x_samp = np.sqrt(noise_cov)*np.random.randn(n_samp)+np.sqrt(np.abs(theta_samp))\n",
    "\n",
    "###############################################################################\n",
    "# contour values for prior, true posterior and estimated posterior\n",
    "pp_prior = gauss1D(yy,prior_mean,prior_cov)\n",
    "prop_prior = gauss1D(yy,prop_prior_mean,prop_prior_cov)\n",
    "pp_post = gauss1D(yy,post_mean,post_cov)\n",
    "pp_true_xo = gauss1D(yy,true_mean,true_cov)\n",
    "pp_param = gauss1D(yy,param_mean,param_var)\n",
    "\n",
    "fake_means = sp.ndimage.filters.gaussian_filter(true_means, sigma=3)\n",
    "fake_covs = sp.ndimage.filters.gaussian_filter(true_covs, sigma=3)\n",
    "\n",
    "# matplotlib takes figsize specified as inches\n",
    "# in NIPS2016 SCALE_IN and the conversion function are defined\n",
    "fig_inches = (SCALE_IN*mm2inches(0.93*ROW_1_WIDTH_COL_2_MM), SCALE_IN*mm2inches(0.93*ROW_1_HEIGHT_MM))\n",
    "FIG_WIDTH_MM *= 2\n",
    "with mpl.rc_context(fname=MPL_RC):\n",
    "    plt.figure(figsize=fig_inches)\n",
    "    ax = plt.subplot()\n",
    "\n",
    "    # True posterior\n",
    "    col_0 = (255/255,0/255,0/255)\n",
    "    #col_0 = COL['GT']\n",
    "    col_1 = (0, 174/255,239/255)\n",
    "    # Posterior\n",
    "    # col_2 = (244/255, 152/255, 25/255)\n",
    "    col_2 = COL['SNPE']\n",
    "    # Parametrised posterior\n",
    "    col_3 = (0,200/255,0)\n",
    "    # x0\n",
    "    col_4 = (35/255,86/255,167/255)\n",
    "\n",
    "    gs = mpl.gridspec.GridSpec(1, 3, width_ratios=[1, 3, 1])\n",
    "\n",
    "    # LEFTHAND SIDE\n",
    "    axl = plt.subplot(gs[0])\n",
    "    plt.plot(prop_prior,yy,'--',color='0.55', label='proposal prior')\n",
    "    plt.plot(pp_prior,yy,color='0.0', label='prior')\n",
    "    axl.set_ylim(lims)\n",
    "    axl.set_yticks([])\n",
    "    axl.set_xticks([])\n",
    "    plt.ylabel(r'$\\theta$')\n",
    "    axl.legend(loc='upper center', bbox_to_anchor=(0.5, -0.05),\n",
    "               fancybox=True, shadow=True, ncol=1)\n",
    "    \n",
    "    axr = plt.subplot(gs[2])\n",
    "      \n",
    "    # RIGHTHAND SIDE\n",
    "    plt.plot(pp_true_xo,yy,color=col_0, label='true posterior')\n",
    "    plt.plot(pp_post,yy,color=col_2, label='posterior')\n",
    "    #plt.plot(pp_param,yy,color=col_3, label='parametrised posterior')\n",
    "    axr.set_ylim(lims)\n",
    "    #ax.set_xticks([])\n",
    "    axr.set_xticks([])\n",
    "    plt.ylabel('')\n",
    "    axr.legend(loc='upper center', bbox_to_anchor=(0.5, -0.05),\n",
    "               fancybox=True, shadow=True, ncol=1)\n",
    "    #plt.legend(bbox_to_anchor=(1.25, 1), loc='upper right')\n",
    "    \n",
    "\n",
    "    hl, ll = axl.get_legend_handles_labels()\n",
    "    hr, lr = axr.get_legend_handles_labels()\n",
    "    axr.set_yticks([])\n",
    "    \n",
    "    axm = plt.subplot(gs[1])\n",
    "    plt.ylabel('')\n",
    "    \n",
    "    # Draw true posterior\n",
    "    plt.plot(x_samp, theta_samp,'.',color='0.55')\n",
    "    #plt.plot(x0_grid, true_means, color = '0.0', label='true posterior')\n",
    "    plt.plot(x0_grid, fake_means, color = col_0, label='true posterior')\n",
    "    \n",
    "    #plt.plot(x0_grid,true_means + 2 * np.sqrt(true_covs),'--',color=col_0)\n",
    "    #plt.plot(x0_grid,true_means - 2 * np.sqrt(true_covs),'--',color=col_0)\n",
    "    plt.fill_between(x0_grid,fake_means-2 * np.sqrt(fake_covs),\n",
    "                     fake_means+2 * np.sqrt(fake_covs),\n",
    "                     facecolor=col_0,\n",
    "                     alpha=0.15)\n",
    "\n",
    "    # Draw parametrised means (in green)\n",
    "    #plt.plot(x0_grid,param_means,color=col_3)\n",
    "    #plt.plot(x0_grid,param_means + 2 * np.sqrt(param_vars),'--',color=col_3)\n",
    "    #plt.plot(x0_grid,param_means - 2 * np.sqrt(param_vars),'--',color=col_3)\n",
    "    \n",
    "    # Draw posterior means (in orange)\n",
    "    plt.plot(x0_grid,post_means,color=col_2, label='posterior')\n",
    "    plt.plot(x0_grid,post_means + 2 * np.sqrt(post_covs),'--',color=col_2)\n",
    "    plt.plot(x0_grid,post_means - 2 * np.sqrt(post_covs),'--',color=col_2)\n",
    "    \n",
    "    #plt.fill_between(x0_grid,post_means-2 * np.sqrt(post_covs),\n",
    "    #                 post_means+2 * np.sqrt(post_covs),\n",
    "    #                 facecolor=col_2,\n",
    "    #                 alpha=0.15)\n",
    "    \n",
    "    # Draw vertical lines around chosen point\n",
    "    axm.vlines(obs_stats, 0, axm.get_ylim()[1], lw=2, color=col_4)\n",
    "    axm.vlines(obs_stats-eps, 0, axm.get_ylim()[1], lw=1, color='0.25')\n",
    "    axm.vlines(obs_stats+eps, 0, axm.get_ylim()[1], lw=1, color='0.25')\n",
    "\n",
    "    axm.set_xlim(np.sqrt(lims))\n",
    "    axm.set_ylim(lims)\n",
    "    #ax.set_xticks([])\n",
    "    axm.set_yticks([])\n",
    "    plt.xlabel('x')\n",
    "    #plt.legend(bbox_to_anchor=(0.0, 1), loc='upper left')\n",
    "\n",
    "    plt.xticks([obs_stats], [r'$x_{o}$'])\n",
    "\n",
    "    plt.tight_layout()\n",
    "\n",
    "    plt.savefig(PANEL_B, facecolor=plt.gcf().get_facecolor(), transparent=True)  # the figure is saved as svg\n",
    "    plt.close()\n",
    "\n",
    "svg(PANEL_B)"
   ]
  },
  {
   "cell_type": "markdown",
   "metadata": {},
   "source": [
    "## Panel c"
   ]
  },
  {
   "cell_type": "code",
   "execution_count": null,
   "metadata": {},
   "outputs": [],
   "source": [
    "svg(PANEL_C)"
   ]
  },
  {
   "cell_type": "markdown",
   "metadata": {},
   "source": [
    "## Compose figure"
   ]
  },
  {
   "cell_type": "code",
   "execution_count": null,
   "metadata": {},
   "outputs": [],
   "source": [
    "fig = create_fig(FIG_WIDTH_MM, FIG_HEIGHT_MM)\n",
    "\n",
    "fig = add_svg(fig, PANEL_A, 0, 0)\n",
    "fig = add_svg(fig, PANEL_B, ROW_1_WIDTH_COL_1_MM + 0, 0)\n",
    "fig = add_svg(fig, PANEL_C, ROW_1_WIDTH_COL_1_MM + ROW_1_WIDTH_COL_2_MM + 4, 0 + 1.3, scale=0.55)\n",
    "\n",
    "fig = add_label(fig, 'A', 0*160/3, 2.3)\n",
    "fig = add_label(fig, 'B', 1*160/3, 2.3)\n",
    "fig = add_label(fig, 'C', 2*160/3 + 16, 2.3)\n",
    "\n",
    "\n",
    "if False:  # set to False to disable grid\n",
    "    fig = add_grid(fig, 3, 3)\n",
    "    fig = add_grid(fig, 160/3, 10, font_size_px=0.0001)\n",
    "\n",
    "PATH_SVG = PATH_DROPBOX_FIGS + 'fig1_tmp.svg'\n",
    "fig.save(PATH_SVG)\n",
    "\n",
    "svg(PATH_SVG)\n",
    "\n",
    "#!$INKSCAPE --export-pdf $PATH_DROPBOX_FIGS/fig1.pdf $PATH_SVG"
   ]
  }
 ],
 "metadata": {
  "anaconda-cloud": {},
  "kernelspec": {
   "display_name": "Python 3",
   "language": "python",
   "name": "python3"
  },
  "language_info": {
   "codemirror_mode": {
    "name": "ipython",
    "version": 3
   },
   "file_extension": ".py",
   "mimetype": "text/x-python",
   "name": "python",
   "nbconvert_exporter": "python",
   "pygments_lexer": "ipython3",
   "version": "3.6.0"
  }
 },
 "nbformat": 4,
 "nbformat_minor": 2
}
