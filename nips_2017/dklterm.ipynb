{
 "cells": [
  {
   "cell_type": "code",
   "execution_count": 1,
   "metadata": {
    "collapsed": true
   },
   "outputs": [],
   "source": [
    "import delfi.distribution as dd\n",
    "import delfi.generator as dg\n",
    "import delfi.inference as infer\n",
    "import delfi.summarystats as ds\n",
    "import matplotlib.pyplot as plt\n",
    "\n",
    "from tqdm import tqdm_notebook as tqdm\n",
    "\n",
    "%matplotlib notebook\n",
    "import numpy as np\n",
    "\n",
    "from delfi.simulator.Gauss import Gauss"
   ]
  },
  {
   "cell_type": "code",
   "execution_count": 2,
   "metadata": {},
   "outputs": [],
   "source": [
    "n_params = 1\n",
    "n_rounds = 50\n",
    "n_hiddens = 2\n",
    "n_samples_per_round = 2000\n",
    "epochs = 50\n",
    "seed = None# 42000\n",
    "m = Gauss(dim=n_params, seed=seed)\n",
    "\n",
    "prior = dd.Gaussian(m=[0], S=[[25]], seed=seed)\n",
    "s = ds.Identity()\n",
    "g = dg.Default(model=m, prior=prior, summary=s)\n",
    "\n",
    "_, x_obs = g.gen(1, verbose=False)"
   ]
  },
  {
   "cell_type": "code",
   "execution_count": 3,
   "metadata": {},
   "outputs": [
    {
     "name": "stdout",
     "output_type": "stream",
     "text": [
      "[[-5.2994101]]\n"
     ]
    }
   ],
   "source": [
    "print(x_obs)"
   ]
  },
  {
   "cell_type": "code",
   "execution_count": 4,
   "metadata": {},
   "outputs": [
    {
     "name": "stderr",
     "output_type": "stream",
     "text": [
      "Widget Javascript not detected.  It may not be installed or enabled properly.\n"
     ]
    },
    {
     "data": {
      "application/vnd.jupyter.widget-view+json": {
       "model_id": "e83f0317d6884953a68fa865c9b16f18"
      }
     },
     "metadata": {},
     "output_type": "display_data"
    },
    {
     "name": "stdout",
     "output_type": "stream",
     "text": [
      "\n"
     ]
    },
    {
     "name": "stderr",
     "output_type": "stream",
     "text": [
      "Widget Javascript not detected.  It may not be installed or enabled properly.\n"
     ]
    },
    {
     "data": {
      "application/vnd.jupyter.widget-view+json": {
       "model_id": "f4c767cfdfbf41f6900912ac01c74ace"
      }
     },
     "metadata": {},
     "output_type": "display_data"
    },
    {
     "name": "stdout",
     "output_type": "stream",
     "text": [
      "\n"
     ]
    },
    {
     "name": "stderr",
     "output_type": "stream",
     "text": [
      "Widget Javascript not detected.  It may not be installed or enabled properly.\n"
     ]
    },
    {
     "data": {
      "application/vnd.jupyter.widget-view+json": {
       "model_id": "e988bcff43fd4222a6ad506beff0d45d"
      }
     },
     "metadata": {},
     "output_type": "display_data"
    },
    {
     "name": "stdout",
     "output_type": "stream",
     "text": [
      "\n"
     ]
    },
    {
     "name": "stderr",
     "output_type": "stream",
     "text": [
      "Widget Javascript not detected.  It may not be installed or enabled properly.\n"
     ]
    },
    {
     "data": {
      "application/vnd.jupyter.widget-view+json": {
       "model_id": "a04a07af2f7a4f12bc28a5457e14126d"
      }
     },
     "metadata": {},
     "output_type": "display_data"
    },
    {
     "name": "stdout",
     "output_type": "stream",
     "text": [
      "\n",
      "28.0258509299\n"
     ]
    },
    {
     "name": "stderr",
     "output_type": "stream",
     "text": [
      "Widget Javascript not detected.  It may not be installed or enabled properly.\n"
     ]
    },
    {
     "data": {
      "application/vnd.jupyter.widget-view+json": {
       "model_id": "f461ebc665b444adb9dc49ce3a4271c3"
      }
     },
     "metadata": {},
     "output_type": "display_data"
    },
    {
     "name": "stdout",
     "output_type": "stream",
     "text": [
      "\n"
     ]
    },
    {
     "name": "stderr",
     "output_type": "stream",
     "text": [
      "Widget Javascript not detected.  It may not be installed or enabled properly.\n"
     ]
    },
    {
     "data": {
      "application/vnd.jupyter.widget-view+json": {
       "model_id": "0af0adfc5c7a49008f513e6bb34c06b2"
      }
     },
     "metadata": {},
     "output_type": "display_data"
    },
    {
     "name": "stdout",
     "output_type": "stream",
     "text": [
      "\n"
     ]
    },
    {
     "name": "stderr",
     "output_type": "stream",
     "text": [
      "Widget Javascript not detected.  It may not be installed or enabled properly.\n"
     ]
    },
    {
     "data": {
      "application/vnd.jupyter.widget-view+json": {
       "model_id": "809162066bf043f098d863b32aa40710"
      }
     },
     "metadata": {},
     "output_type": "display_data"
    },
    {
     "name": "stdout",
     "output_type": "stream",
     "text": [
      "\n"
     ]
    },
    {
     "name": "stderr",
     "output_type": "stream",
     "text": [
      "Widget Javascript not detected.  It may not be installed or enabled properly.\n"
     ]
    },
    {
     "data": {
      "application/vnd.jupyter.widget-view+json": {
       "model_id": "02e02a37a31641db86e6b6d0682c3a80"
      }
     },
     "metadata": {},
     "output_type": "display_data"
    },
    {
     "name": "stdout",
     "output_type": "stream",
     "text": [
      "\n"
     ]
    },
    {
     "name": "stderr",
     "output_type": "stream",
     "text": [
      "Widget Javascript not detected.  It may not be installed or enabled properly.\n"
     ]
    },
    {
     "data": {
      "application/vnd.jupyter.widget-view+json": {
       "model_id": "7f41c63479da48eba172b3fde4aa6423"
      }
     },
     "metadata": {},
     "output_type": "display_data"
    },
    {
     "name": "stdout",
     "output_type": "stream",
     "text": [
      "\n"
     ]
    },
    {
     "name": "stderr",
     "output_type": "stream",
     "text": [
      "Widget Javascript not detected.  It may not be installed or enabled properly.\n"
     ]
    },
    {
     "data": {
      "application/vnd.jupyter.widget-view+json": {
       "model_id": "4b2fad6aba344f468a9f9360102ada1f"
      }
     },
     "metadata": {},
     "output_type": "display_data"
    },
    {
     "name": "stdout",
     "output_type": "stream",
     "text": [
      "\n"
     ]
    },
    {
     "name": "stderr",
     "output_type": "stream",
     "text": [
      "Widget Javascript not detected.  It may not be installed or enabled properly.\n"
     ]
    },
    {
     "data": {
      "application/vnd.jupyter.widget-view+json": {
       "model_id": "5812e21f087a4bc9a0a4ae1ced6f2b13"
      }
     },
     "metadata": {},
     "output_type": "display_data"
    },
    {
     "name": "stdout",
     "output_type": "stream",
     "text": [
      "\n"
     ]
    },
    {
     "name": "stderr",
     "output_type": "stream",
     "text": [
      "Widget Javascript not detected.  It may not be installed or enabled properly.\n"
     ]
    },
    {
     "data": {
      "application/vnd.jupyter.widget-view+json": {
       "model_id": "4c0db147783543659146d47439c1ab78"
      }
     },
     "metadata": {},
     "output_type": "display_data"
    },
    {
     "name": "stdout",
     "output_type": "stream",
     "text": [
      "\n"
     ]
    },
    {
     "name": "stderr",
     "output_type": "stream",
     "text": [
      "Widget Javascript not detected.  It may not be installed or enabled properly.\n"
     ]
    },
    {
     "data": {
      "application/vnd.jupyter.widget-view+json": {
       "model_id": "183c798423be497291f18ad66d366733"
      }
     },
     "metadata": {},
     "output_type": "display_data"
    },
    {
     "name": "stdout",
     "output_type": "stream",
     "text": [
      "\n"
     ]
    },
    {
     "name": "stderr",
     "output_type": "stream",
     "text": [
      "Widget Javascript not detected.  It may not be installed or enabled properly.\n"
     ]
    },
    {
     "data": {
      "application/vnd.jupyter.widget-view+json": {
       "model_id": "701db885da834cf291de5127e0412c3a"
      }
     },
     "metadata": {},
     "output_type": "display_data"
    },
    {
     "name": "stdout",
     "output_type": "stream",
     "text": [
      "\n"
     ]
    },
    {
     "name": "stderr",
     "output_type": "stream",
     "text": [
      "Widget Javascript not detected.  It may not be installed or enabled properly.\n"
     ]
    },
    {
     "data": {
      "application/vnd.jupyter.widget-view+json": {
       "model_id": "813a48201cff4c41bb9300e1b9931294"
      }
     },
     "metadata": {},
     "output_type": "display_data"
    },
    {
     "name": "stdout",
     "output_type": "stream",
     "text": [
      "\n"
     ]
    },
    {
     "name": "stderr",
     "output_type": "stream",
     "text": [
      "Widget Javascript not detected.  It may not be installed or enabled properly.\n"
     ]
    },
    {
     "data": {
      "application/vnd.jupyter.widget-view+json": {
       "model_id": "5395515fd68641a38252fc7570f7885a"
      }
     },
     "metadata": {},
     "output_type": "display_data"
    },
    {
     "name": "stdout",
     "output_type": "stream",
     "text": [
      "\n"
     ]
    },
    {
     "name": "stderr",
     "output_type": "stream",
     "text": [
      "Widget Javascript not detected.  It may not be installed or enabled properly.\n"
     ]
    },
    {
     "data": {
      "application/vnd.jupyter.widget-view+json": {
       "model_id": "1d6288b7a5714b1bbe7d247317bba476"
      }
     },
     "metadata": {},
     "output_type": "display_data"
    },
    {
     "name": "stdout",
     "output_type": "stream",
     "text": [
      "\n"
     ]
    },
    {
     "name": "stderr",
     "output_type": "stream",
     "text": [
      "Widget Javascript not detected.  It may not be installed or enabled properly.\n"
     ]
    },
    {
     "data": {
      "application/vnd.jupyter.widget-view+json": {
       "model_id": "889b9bf2664943e4bbe28ab8360ee48b"
      }
     },
     "metadata": {},
     "output_type": "display_data"
    },
    {
     "name": "stdout",
     "output_type": "stream",
     "text": [
      "\n"
     ]
    },
    {
     "name": "stderr",
     "output_type": "stream",
     "text": [
      "Widget Javascript not detected.  It may not be installed or enabled properly.\n"
     ]
    },
    {
     "data": {
      "application/vnd.jupyter.widget-view+json": {
       "model_id": "4817015fc7ac4f798c7e11e227c57288"
      }
     },
     "metadata": {},
     "output_type": "display_data"
    },
    {
     "name": "stdout",
     "output_type": "stream",
     "text": [
      "\n"
     ]
    },
    {
     "name": "stderr",
     "output_type": "stream",
     "text": [
      "Widget Javascript not detected.  It may not be installed or enabled properly.\n"
     ]
    },
    {
     "data": {
      "application/vnd.jupyter.widget-view+json": {
       "model_id": "ed89d71fe3f24059b3c3f223d7dd166f"
      }
     },
     "metadata": {},
     "output_type": "display_data"
    },
    {
     "name": "stdout",
     "output_type": "stream",
     "text": [
      "\n"
     ]
    },
    {
     "name": "stderr",
     "output_type": "stream",
     "text": [
      "Widget Javascript not detected.  It may not be installed or enabled properly.\n"
     ]
    },
    {
     "data": {
      "application/vnd.jupyter.widget-view+json": {
       "model_id": "c422df5516744d2d8d335630d2b3affb"
      }
     },
     "metadata": {},
     "output_type": "display_data"
    },
    {
     "name": "stdout",
     "output_type": "stream",
     "text": [
      "\n"
     ]
    },
    {
     "name": "stderr",
     "output_type": "stream",
     "text": [
      "Widget Javascript not detected.  It may not be installed or enabled properly.\n"
     ]
    },
    {
     "data": {
      "application/vnd.jupyter.widget-view+json": {
       "model_id": "ee9266d7429046909b70f0777a39823f"
      }
     },
     "metadata": {},
     "output_type": "display_data"
    },
    {
     "name": "stdout",
     "output_type": "stream",
     "text": [
      "\n"
     ]
    },
    {
     "name": "stderr",
     "output_type": "stream",
     "text": [
      "Widget Javascript not detected.  It may not be installed or enabled properly.\n"
     ]
    },
    {
     "data": {
      "application/vnd.jupyter.widget-view+json": {
       "model_id": "bd24b81e03d547c4a4d2148daedcf530"
      }
     },
     "metadata": {},
     "output_type": "display_data"
    },
    {
     "name": "stdout",
     "output_type": "stream",
     "text": [
      "\n"
     ]
    },
    {
     "name": "stderr",
     "output_type": "stream",
     "text": [
      "Widget Javascript not detected.  It may not be installed or enabled properly.\n"
     ]
    },
    {
     "data": {
      "application/vnd.jupyter.widget-view+json": {
       "model_id": "9bb7fabbe28c42ccb31b7c79bda0d36a"
      }
     },
     "metadata": {},
     "output_type": "display_data"
    },
    {
     "name": "stdout",
     "output_type": "stream",
     "text": [
      "\n"
     ]
    },
    {
     "name": "stderr",
     "output_type": "stream",
     "text": [
      "Widget Javascript not detected.  It may not be installed or enabled properly.\n"
     ]
    },
    {
     "data": {
      "application/vnd.jupyter.widget-view+json": {
       "model_id": "e3749d2f3dc9431dafc3255721282e1c"
      }
     },
     "metadata": {},
     "output_type": "display_data"
    },
    {
     "name": "stdout",
     "output_type": "stream",
     "text": [
      "\n"
     ]
    },
    {
     "name": "stderr",
     "output_type": "stream",
     "text": [
      "Widget Javascript not detected.  It may not be installed or enabled properly.\n"
     ]
    },
    {
     "data": {
      "application/vnd.jupyter.widget-view+json": {
       "model_id": "f6cdeeae6c7042cd989d297ad619026e"
      }
     },
     "metadata": {},
     "output_type": "display_data"
    },
    {
     "name": "stdout",
     "output_type": "stream",
     "text": [
      "\n"
     ]
    },
    {
     "name": "stderr",
     "output_type": "stream",
     "text": [
      "Widget Javascript not detected.  It may not be installed or enabled properly.\n"
     ]
    },
    {
     "data": {
      "application/vnd.jupyter.widget-view+json": {
       "model_id": "b7e96e2370cb427db5251d08a61336ed"
      }
     },
     "metadata": {},
     "output_type": "display_data"
    },
    {
     "name": "stdout",
     "output_type": "stream",
     "text": [
      "\n"
     ]
    },
    {
     "name": "stderr",
     "output_type": "stream",
     "text": [
      "Widget Javascript not detected.  It may not be installed or enabled properly.\n"
     ]
    },
    {
     "data": {
      "application/vnd.jupyter.widget-view+json": {
       "model_id": "61239b56d1034de8894d6d7dce7cde46"
      }
     },
     "metadata": {},
     "output_type": "display_data"
    },
    {
     "name": "stdout",
     "output_type": "stream",
     "text": [
      "\n"
     ]
    },
    {
     "name": "stderr",
     "output_type": "stream",
     "text": [
      "Widget Javascript not detected.  It may not be installed or enabled properly.\n"
     ]
    },
    {
     "data": {
      "application/vnd.jupyter.widget-view+json": {
       "model_id": "c39deffdbaad4e4c86bbcd7dbb510755"
      }
     },
     "metadata": {},
     "output_type": "display_data"
    },
    {
     "name": "stdout",
     "output_type": "stream",
     "text": [
      "\n"
     ]
    },
    {
     "name": "stderr",
     "output_type": "stream",
     "text": [
      "Widget Javascript not detected.  It may not be installed or enabled properly.\n"
     ]
    },
    {
     "data": {
      "application/vnd.jupyter.widget-view+json": {
       "model_id": "e42d9a4ee9254106a70ca19d846f7088"
      }
     },
     "metadata": {},
     "output_type": "display_data"
    },
    {
     "name": "stdout",
     "output_type": "stream",
     "text": [
      "\n"
     ]
    },
    {
     "name": "stderr",
     "output_type": "stream",
     "text": [
      "Widget Javascript not detected.  It may not be installed or enabled properly.\n"
     ]
    },
    {
     "data": {
      "application/vnd.jupyter.widget-view+json": {
       "model_id": "a2c2cd00016748c59d053848ce840582"
      }
     },
     "metadata": {},
     "output_type": "display_data"
    },
    {
     "name": "stdout",
     "output_type": "stream",
     "text": [
      "\n"
     ]
    },
    {
     "name": "stderr",
     "output_type": "stream",
     "text": [
      "Widget Javascript not detected.  It may not be installed or enabled properly.\n"
     ]
    },
    {
     "data": {
      "application/vnd.jupyter.widget-view+json": {
       "model_id": "39c1e69762de41d5b3a376c3dad0b0a9"
      }
     },
     "metadata": {},
     "output_type": "display_data"
    },
    {
     "name": "stdout",
     "output_type": "stream",
     "text": [
      "\n"
     ]
    },
    {
     "name": "stderr",
     "output_type": "stream",
     "text": [
      "Widget Javascript not detected.  It may not be installed or enabled properly.\n"
     ]
    },
    {
     "data": {
      "application/vnd.jupyter.widget-view+json": {
       "model_id": "97cb8b70ce514f13af9b03983ef54d64"
      }
     },
     "metadata": {},
     "output_type": "display_data"
    },
    {
     "name": "stdout",
     "output_type": "stream",
     "text": [
      "\n"
     ]
    },
    {
     "name": "stderr",
     "output_type": "stream",
     "text": [
      "Widget Javascript not detected.  It may not be installed or enabled properly.\n"
     ]
    },
    {
     "data": {
      "application/vnd.jupyter.widget-view+json": {
       "model_id": "e609fd2f9ade450e8b559a9d049c3f1f"
      }
     },
     "metadata": {},
     "output_type": "display_data"
    },
    {
     "name": "stdout",
     "output_type": "stream",
     "text": [
      "\n"
     ]
    },
    {
     "name": "stderr",
     "output_type": "stream",
     "text": [
      "Widget Javascript not detected.  It may not be installed or enabled properly.\n"
     ]
    },
    {
     "data": {
      "application/vnd.jupyter.widget-view+json": {
       "model_id": "0f87ec4d90f7429ba0a4dfde3231e50b"
      }
     },
     "metadata": {},
     "output_type": "display_data"
    },
    {
     "name": "stdout",
     "output_type": "stream",
     "text": [
      "\n"
     ]
    },
    {
     "name": "stderr",
     "output_type": "stream",
     "text": [
      "Widget Javascript not detected.  It may not be installed or enabled properly.\n"
     ]
    },
    {
     "data": {
      "application/vnd.jupyter.widget-view+json": {
       "model_id": "e70fc8d2bbf24bdab5c8296943979dc3"
      }
     },
     "metadata": {},
     "output_type": "display_data"
    },
    {
     "name": "stdout",
     "output_type": "stream",
     "text": [
      "\n"
     ]
    },
    {
     "name": "stderr",
     "output_type": "stream",
     "text": [
      "Widget Javascript not detected.  It may not be installed or enabled properly.\n"
     ]
    },
    {
     "data": {
      "application/vnd.jupyter.widget-view+json": {
       "model_id": "e541731c5e744513871de58779454eb9"
      }
     },
     "metadata": {},
     "output_type": "display_data"
    },
    {
     "name": "stdout",
     "output_type": "stream",
     "text": [
      "\n"
     ]
    },
    {
     "name": "stderr",
     "output_type": "stream",
     "text": [
      "Widget Javascript not detected.  It may not be installed or enabled properly.\n"
     ]
    },
    {
     "data": {
      "application/vnd.jupyter.widget-view+json": {
       "model_id": "68aff316662e4fdd98c67e3c8e9db161"
      }
     },
     "metadata": {},
     "output_type": "display_data"
    },
    {
     "name": "stdout",
     "output_type": "stream",
     "text": [
      "\n"
     ]
    },
    {
     "name": "stderr",
     "output_type": "stream",
     "text": [
      "Widget Javascript not detected.  It may not be installed or enabled properly.\n"
     ]
    },
    {
     "data": {
      "application/vnd.jupyter.widget-view+json": {
       "model_id": "d6691d70424142ae9a7e79c4a8f32b63"
      }
     },
     "metadata": {},
     "output_type": "display_data"
    },
    {
     "name": "stdout",
     "output_type": "stream",
     "text": [
      "\n"
     ]
    },
    {
     "name": "stderr",
     "output_type": "stream",
     "text": [
      "Widget Javascript not detected.  It may not be installed or enabled properly.\n"
     ]
    },
    {
     "data": {
      "application/vnd.jupyter.widget-view+json": {
       "model_id": "4d40cc4582d04c249de8d4526facc8b3"
      }
     },
     "metadata": {},
     "output_type": "display_data"
    },
    {
     "name": "stdout",
     "output_type": "stream",
     "text": [
      "\n"
     ]
    },
    {
     "name": "stderr",
     "output_type": "stream",
     "text": [
      "Widget Javascript not detected.  It may not be installed or enabled properly.\n"
     ]
    },
    {
     "data": {
      "application/vnd.jupyter.widget-view+json": {
       "model_id": "9c0ea2eb6cf04512bf251aa3036d37c0"
      }
     },
     "metadata": {},
     "output_type": "display_data"
    },
    {
     "name": "stdout",
     "output_type": "stream",
     "text": [
      "\n"
     ]
    },
    {
     "name": "stderr",
     "output_type": "stream",
     "text": [
      "Widget Javascript not detected.  It may not be installed or enabled properly.\n"
     ]
    },
    {
     "data": {
      "application/vnd.jupyter.widget-view+json": {
       "model_id": "f1f593f07e4644a190745f361f7c854e"
      }
     },
     "metadata": {},
     "output_type": "display_data"
    },
    {
     "name": "stdout",
     "output_type": "stream",
     "text": [
      "\n"
     ]
    },
    {
     "name": "stderr",
     "output_type": "stream",
     "text": [
      "Widget Javascript not detected.  It may not be installed or enabled properly.\n"
     ]
    },
    {
     "data": {
      "application/vnd.jupyter.widget-view+json": {
       "model_id": "c962df5fc3ce401289872ccfab202de4"
      }
     },
     "metadata": {},
     "output_type": "display_data"
    },
    {
     "name": "stdout",
     "output_type": "stream",
     "text": [
      "\n"
     ]
    },
    {
     "name": "stderr",
     "output_type": "stream",
     "text": [
      "Widget Javascript not detected.  It may not be installed or enabled properly.\n"
     ]
    },
    {
     "data": {
      "application/vnd.jupyter.widget-view+json": {
       "model_id": "fbe49083ba854dd9944a4caca013a9a4"
      }
     },
     "metadata": {},
     "output_type": "display_data"
    },
    {
     "name": "stdout",
     "output_type": "stream",
     "text": [
      "\n"
     ]
    },
    {
     "name": "stderr",
     "output_type": "stream",
     "text": [
      "Widget Javascript not detected.  It may not be installed or enabled properly.\n"
     ]
    },
    {
     "data": {
      "application/vnd.jupyter.widget-view+json": {
       "model_id": "9ed36636206d43168f3c9f61586b252c"
      }
     },
     "metadata": {},
     "output_type": "display_data"
    },
    {
     "name": "stdout",
     "output_type": "stream",
     "text": [
      "\n"
     ]
    },
    {
     "name": "stderr",
     "output_type": "stream",
     "text": [
      "Widget Javascript not detected.  It may not be installed or enabled properly.\n"
     ]
    },
    {
     "data": {
      "application/vnd.jupyter.widget-view+json": {
       "model_id": "207fa9f9c4504969befcc4d3d0129ca8"
      }
     },
     "metadata": {},
     "output_type": "display_data"
    },
    {
     "name": "stdout",
     "output_type": "stream",
     "text": [
      "\n"
     ]
    },
    {
     "name": "stderr",
     "output_type": "stream",
     "text": [
      "Widget Javascript not detected.  It may not be installed or enabled properly.\n"
     ]
    },
    {
     "data": {
      "application/vnd.jupyter.widget-view+json": {
       "model_id": "add2dfd61e434dd8b4b2ebc601d6129e"
      }
     },
     "metadata": {},
     "output_type": "display_data"
    },
    {
     "name": "stdout",
     "output_type": "stream",
     "text": [
      "\n"
     ]
    },
    {
     "name": "stderr",
     "output_type": "stream",
     "text": [
      "Widget Javascript not detected.  It may not be installed or enabled properly.\n"
     ]
    },
    {
     "data": {
      "application/vnd.jupyter.widget-view+json": {
       "model_id": "51982c6c2b014551b82972f861892847"
      }
     },
     "metadata": {},
     "output_type": "display_data"
    },
    {
     "name": "stdout",
     "output_type": "stream",
     "text": [
      "\n"
     ]
    },
    {
     "name": "stderr",
     "output_type": "stream",
     "text": [
      "Widget Javascript not detected.  It may not be installed or enabled properly.\n"
     ]
    },
    {
     "data": {
      "application/vnd.jupyter.widget-view+json": {
       "model_id": "fb08a783ef39453c8a9e4c51ae081a0d"
      }
     },
     "metadata": {},
     "output_type": "display_data"
    },
    {
     "name": "stdout",
     "output_type": "stream",
     "text": [
      "\n"
     ]
    },
    {
     "name": "stderr",
     "output_type": "stream",
     "text": [
      "Widget Javascript not detected.  It may not be installed or enabled properly.\n"
     ]
    },
    {
     "data": {
      "application/vnd.jupyter.widget-view+json": {
       "model_id": "b911482707144699bcdd6e349aebe601"
      }
     },
     "metadata": {},
     "output_type": "display_data"
    },
    {
     "name": "stdout",
     "output_type": "stream",
     "text": [
      "\n"
     ]
    },
    {
     "name": "stderr",
     "output_type": "stream",
     "text": [
      "Widget Javascript not detected.  It may not be installed or enabled properly.\n"
     ]
    },
    {
     "data": {
      "application/vnd.jupyter.widget-view+json": {
       "model_id": "152211619ea246b0b9bf25e94d3b1e89"
      }
     },
     "metadata": {},
     "output_type": "display_data"
    },
    {
     "name": "stdout",
     "output_type": "stream",
     "text": [
      "\n"
     ]
    },
    {
     "name": "stderr",
     "output_type": "stream",
     "text": [
      "Widget Javascript not detected.  It may not be installed or enabled properly.\n"
     ]
    },
    {
     "data": {
      "application/vnd.jupyter.widget-view+json": {
       "model_id": "90767707014f4d51a2e32f219da9c083"
      }
     },
     "metadata": {},
     "output_type": "display_data"
    },
    {
     "name": "stdout",
     "output_type": "stream",
     "text": [
      "\n"
     ]
    },
    {
     "name": "stderr",
     "output_type": "stream",
     "text": [
      "Widget Javascript not detected.  It may not be installed or enabled properly.\n"
     ]
    },
    {
     "data": {
      "application/vnd.jupyter.widget-view+json": {
       "model_id": "952efbec7a1d4883a0b482116a17670b"
      }
     },
     "metadata": {},
     "output_type": "display_data"
    },
    {
     "name": "stdout",
     "output_type": "stream",
     "text": [
      "\n"
     ]
    },
    {
     "name": "stderr",
     "output_type": "stream",
     "text": [
      "Widget Javascript not detected.  It may not be installed or enabled properly.\n"
     ]
    },
    {
     "data": {
      "application/vnd.jupyter.widget-view+json": {
       "model_id": "4834416ee49f47849e242dcdecdac6fc"
      }
     },
     "metadata": {},
     "output_type": "display_data"
    },
    {
     "name": "stdout",
     "output_type": "stream",
     "text": [
      "\n"
     ]
    },
    {
     "name": "stderr",
     "output_type": "stream",
     "text": [
      "Widget Javascript not detected.  It may not be installed or enabled properly.\n"
     ]
    },
    {
     "data": {
      "application/vnd.jupyter.widget-view+json": {
       "model_id": "f366cbde92de4f7389b1cd781b656b01"
      }
     },
     "metadata": {},
     "output_type": "display_data"
    },
    {
     "name": "stdout",
     "output_type": "stream",
     "text": [
      "\n"
     ]
    },
    {
     "name": "stderr",
     "output_type": "stream",
     "text": [
      "Widget Javascript not detected.  It may not be installed or enabled properly.\n"
     ]
    },
    {
     "data": {
      "application/vnd.jupyter.widget-view+json": {
       "model_id": "589355011100484fac62650e7b6889d3"
      }
     },
     "metadata": {},
     "output_type": "display_data"
    },
    {
     "name": "stdout",
     "output_type": "stream",
     "text": [
      "\n"
     ]
    },
    {
     "name": "stderr",
     "output_type": "stream",
     "text": [
      "Widget Javascript not detected.  It may not be installed or enabled properly.\n"
     ]
    },
    {
     "data": {
      "application/vnd.jupyter.widget-view+json": {
       "model_id": "690b01dd3092485b9b0cbd533348d0d7"
      }
     },
     "metadata": {},
     "output_type": "display_data"
    },
    {
     "name": "stdout",
     "output_type": "stream",
     "text": [
      "\n"
     ]
    },
    {
     "name": "stderr",
     "output_type": "stream",
     "text": [
      "Widget Javascript not detected.  It may not be installed or enabled properly.\n"
     ]
    },
    {
     "data": {
      "application/vnd.jupyter.widget-view+json": {
       "model_id": "92027b5a2050447286877494da27dec0"
      }
     },
     "metadata": {},
     "output_type": "display_data"
    },
    {
     "name": "stdout",
     "output_type": "stream",
     "text": [
      "\n"
     ]
    },
    {
     "name": "stderr",
     "output_type": "stream",
     "text": [
      "Widget Javascript not detected.  It may not be installed or enabled properly.\n"
     ]
    },
    {
     "data": {
      "application/vnd.jupyter.widget-view+json": {
       "model_id": "2c817c8ed03e463982dfadf393785d75"
      }
     },
     "metadata": {},
     "output_type": "display_data"
    },
    {
     "name": "stdout",
     "output_type": "stream",
     "text": [
      "\n"
     ]
    },
    {
     "name": "stderr",
     "output_type": "stream",
     "text": [
      "Widget Javascript not detected.  It may not be installed or enabled properly.\n"
     ]
    },
    {
     "data": {
      "application/vnd.jupyter.widget-view+json": {
       "model_id": "2ddc0bf468684940a0833b38313f7845"
      }
     },
     "metadata": {},
     "output_type": "display_data"
    },
    {
     "name": "stdout",
     "output_type": "stream",
     "text": [
      "\n"
     ]
    },
    {
     "name": "stderr",
     "output_type": "stream",
     "text": [
      "Widget Javascript not detected.  It may not be installed or enabled properly.\n"
     ]
    },
    {
     "data": {
      "application/vnd.jupyter.widget-view+json": {
       "model_id": "3f5f6641e4a04fe5846d186e67f3827f"
      }
     },
     "metadata": {},
     "output_type": "display_data"
    },
    {
     "name": "stdout",
     "output_type": "stream",
     "text": [
      "\n"
     ]
    },
    {
     "name": "stderr",
     "output_type": "stream",
     "text": [
      "Widget Javascript not detected.  It may not be installed or enabled properly.\n"
     ]
    },
    {
     "data": {
      "application/vnd.jupyter.widget-view+json": {
       "model_id": "d8d11226eb644705bbe0e68012789843"
      }
     },
     "metadata": {},
     "output_type": "display_data"
    },
    {
     "name": "stdout",
     "output_type": "stream",
     "text": [
      "\n"
     ]
    },
    {
     "name": "stderr",
     "output_type": "stream",
     "text": [
      "Widget Javascript not detected.  It may not be installed or enabled properly.\n"
     ]
    },
    {
     "data": {
      "application/vnd.jupyter.widget-view+json": {
       "model_id": "3f677c5e6e5544629e9ad4d4cdfe236c"
      }
     },
     "metadata": {},
     "output_type": "display_data"
    },
    {
     "name": "stdout",
     "output_type": "stream",
     "text": [
      "\n"
     ]
    },
    {
     "name": "stderr",
     "output_type": "stream",
     "text": [
      "Widget Javascript not detected.  It may not be installed or enabled properly.\n"
     ]
    },
    {
     "data": {
      "application/vnd.jupyter.widget-view+json": {
       "model_id": "cbab526ddf164f0da97a9e96ece49e2a"
      }
     },
     "metadata": {},
     "output_type": "display_data"
    },
    {
     "name": "stdout",
     "output_type": "stream",
     "text": [
      "\n"
     ]
    },
    {
     "name": "stderr",
     "output_type": "stream",
     "text": [
      "Widget Javascript not detected.  It may not be installed or enabled properly.\n"
     ]
    },
    {
     "data": {
      "application/vnd.jupyter.widget-view+json": {
       "model_id": "5d971c270c8a458c83a4b2e8760e8032"
      }
     },
     "metadata": {},
     "output_type": "display_data"
    },
    {
     "name": "stdout",
     "output_type": "stream",
     "text": [
      "\n"
     ]
    },
    {
     "name": "stderr",
     "output_type": "stream",
     "text": [
      "Widget Javascript not detected.  It may not be installed or enabled properly.\n"
     ]
    },
    {
     "data": {
      "application/vnd.jupyter.widget-view+json": {
       "model_id": "5cad189637c04bc7bb1e7e1ad09cba11"
      }
     },
     "metadata": {},
     "output_type": "display_data"
    },
    {
     "name": "stdout",
     "output_type": "stream",
     "text": [
      "\n"
     ]
    },
    {
     "name": "stderr",
     "output_type": "stream",
     "text": [
      "Widget Javascript not detected.  It may not be installed or enabled properly.\n"
     ]
    },
    {
     "data": {
      "application/vnd.jupyter.widget-view+json": {
       "model_id": "395dbe573faa4aacacd38189e0db89d6"
      }
     },
     "metadata": {},
     "output_type": "display_data"
    },
    {
     "name": "stdout",
     "output_type": "stream",
     "text": [
      "\n"
     ]
    },
    {
     "name": "stderr",
     "output_type": "stream",
     "text": [
      "Widget Javascript not detected.  It may not be installed or enabled properly.\n"
     ]
    },
    {
     "data": {
      "application/vnd.jupyter.widget-view+json": {
       "model_id": "148accc38dd34b13ac0cea9588431def"
      }
     },
     "metadata": {},
     "output_type": "display_data"
    },
    {
     "name": "stdout",
     "output_type": "stream",
     "text": [
      "\n"
     ]
    },
    {
     "name": "stderr",
     "output_type": "stream",
     "text": [
      "Widget Javascript not detected.  It may not be installed or enabled properly.\n"
     ]
    },
    {
     "data": {
      "application/vnd.jupyter.widget-view+json": {
       "model_id": "ecb06103e6c54423b3c4d8c8b65a5def"
      }
     },
     "metadata": {},
     "output_type": "display_data"
    },
    {
     "name": "stdout",
     "output_type": "stream",
     "text": [
      "\n"
     ]
    },
    {
     "name": "stderr",
     "output_type": "stream",
     "text": [
      "Widget Javascript not detected.  It may not be installed or enabled properly.\n"
     ]
    },
    {
     "data": {
      "application/vnd.jupyter.widget-view+json": {
       "model_id": "b88271299a32437aa6fa87de80806bb9"
      }
     },
     "metadata": {},
     "output_type": "display_data"
    },
    {
     "name": "stdout",
     "output_type": "stream",
     "text": [
      "\n"
     ]
    },
    {
     "name": "stderr",
     "output_type": "stream",
     "text": [
      "Widget Javascript not detected.  It may not be installed or enabled properly.\n"
     ]
    },
    {
     "data": {
      "application/vnd.jupyter.widget-view+json": {
       "model_id": "0b37cb77c6db413ca6cd3459b2469fcf"
      }
     },
     "metadata": {},
     "output_type": "display_data"
    },
    {
     "name": "stdout",
     "output_type": "stream",
     "text": [
      "\n"
     ]
    },
    {
     "name": "stderr",
     "output_type": "stream",
     "text": [
      "Widget Javascript not detected.  It may not be installed or enabled properly.\n"
     ]
    },
    {
     "data": {
      "application/vnd.jupyter.widget-view+json": {
       "model_id": "b1d37905461a44a881d06e6220882136"
      }
     },
     "metadata": {},
     "output_type": "display_data"
    },
    {
     "name": "stdout",
     "output_type": "stream",
     "text": [
      "\n"
     ]
    },
    {
     "name": "stderr",
     "output_type": "stream",
     "text": [
      "Widget Javascript not detected.  It may not be installed or enabled properly.\n"
     ]
    },
    {
     "data": {
      "application/vnd.jupyter.widget-view+json": {
       "model_id": "a44b307c6f784cc4bdd69a9e83995bab"
      }
     },
     "metadata": {},
     "output_type": "display_data"
    },
    {
     "name": "stdout",
     "output_type": "stream",
     "text": [
      "\n"
     ]
    },
    {
     "name": "stderr",
     "output_type": "stream",
     "text": [
      "Widget Javascript not detected.  It may not be installed or enabled properly.\n"
     ]
    },
    {
     "data": {
      "application/vnd.jupyter.widget-view+json": {
       "model_id": "08495c30cf934075ae43e8c37fe2553e"
      }
     },
     "metadata": {},
     "output_type": "display_data"
    },
    {
     "name": "stdout",
     "output_type": "stream",
     "text": [
      "\n"
     ]
    },
    {
     "name": "stderr",
     "output_type": "stream",
     "text": [
      "Widget Javascript not detected.  It may not be installed or enabled properly.\n"
     ]
    },
    {
     "data": {
      "application/vnd.jupyter.widget-view+json": {
       "model_id": "f8115e1e0dd7435880d2e13241ad9bee"
      }
     },
     "metadata": {},
     "output_type": "display_data"
    },
    {
     "name": "stdout",
     "output_type": "stream",
     "text": [
      "\n"
     ]
    },
    {
     "name": "stderr",
     "output_type": "stream",
     "text": [
      "Widget Javascript not detected.  It may not be installed or enabled properly.\n"
     ]
    },
    {
     "data": {
      "application/vnd.jupyter.widget-view+json": {
       "model_id": "c2ceb41d3f1040ff9fcb787bc86487e7"
      }
     },
     "metadata": {},
     "output_type": "display_data"
    },
    {
     "name": "stdout",
     "output_type": "stream",
     "text": [
      "\n"
     ]
    },
    {
     "name": "stderr",
     "output_type": "stream",
     "text": [
      "Widget Javascript not detected.  It may not be installed or enabled properly.\n"
     ]
    },
    {
     "data": {
      "application/vnd.jupyter.widget-view+json": {
       "model_id": "fbd7636d9a5745079fb119303faadbd3"
      }
     },
     "metadata": {},
     "output_type": "display_data"
    },
    {
     "name": "stdout",
     "output_type": "stream",
     "text": [
      "\n"
     ]
    },
    {
     "name": "stderr",
     "output_type": "stream",
     "text": [
      "Widget Javascript not detected.  It may not be installed or enabled properly.\n"
     ]
    },
    {
     "data": {
      "application/vnd.jupyter.widget-view+json": {
       "model_id": "d627bc23e080451db8fe84ed4945e2cb"
      }
     },
     "metadata": {},
     "output_type": "display_data"
    },
    {
     "name": "stdout",
     "output_type": "stream",
     "text": [
      "\n"
     ]
    },
    {
     "name": "stderr",
     "output_type": "stream",
     "text": [
      "Widget Javascript not detected.  It may not be installed or enabled properly.\n"
     ]
    },
    {
     "data": {
      "application/vnd.jupyter.widget-view+json": {
       "model_id": "c7369ee5548a400a92c2a761bc0c334f"
      }
     },
     "metadata": {},
     "output_type": "display_data"
    },
    {
     "name": "stdout",
     "output_type": "stream",
     "text": [
      "\n"
     ]
    },
    {
     "name": "stderr",
     "output_type": "stream",
     "text": [
      "Widget Javascript not detected.  It may not be installed or enabled properly.\n"
     ]
    },
    {
     "data": {
      "application/vnd.jupyter.widget-view+json": {
       "model_id": "89c21c59fc0b47bfb63a521851c29acb"
      }
     },
     "metadata": {},
     "output_type": "display_data"
    },
    {
     "name": "stdout",
     "output_type": "stream",
     "text": [
      "\n"
     ]
    },
    {
     "name": "stderr",
     "output_type": "stream",
     "text": [
      "Widget Javascript not detected.  It may not be installed or enabled properly.\n"
     ]
    },
    {
     "data": {
      "application/vnd.jupyter.widget-view+json": {
       "model_id": "7414b75973164615818e23f90a913302"
      }
     },
     "metadata": {},
     "output_type": "display_data"
    },
    {
     "name": "stdout",
     "output_type": "stream",
     "text": [
      "\n"
     ]
    },
    {
     "name": "stderr",
     "output_type": "stream",
     "text": [
      "Widget Javascript not detected.  It may not be installed or enabled properly.\n"
     ]
    },
    {
     "data": {
      "application/vnd.jupyter.widget-view+json": {
       "model_id": "da20b4eb3d1e4ef5ba6c6a6396594cf3"
      }
     },
     "metadata": {},
     "output_type": "display_data"
    },
    {
     "name": "stdout",
     "output_type": "stream",
     "text": [
      "\n"
     ]
    },
    {
     "name": "stderr",
     "output_type": "stream",
     "text": [
      "Widget Javascript not detected.  It may not be installed or enabled properly.\n"
     ]
    },
    {
     "data": {
      "application/vnd.jupyter.widget-view+json": {
       "model_id": "3f94f598aac841ae825738704d15a02b"
      }
     },
     "metadata": {},
     "output_type": "display_data"
    },
    {
     "name": "stdout",
     "output_type": "stream",
     "text": [
      "\n"
     ]
    },
    {
     "name": "stderr",
     "output_type": "stream",
     "text": [
      "Widget Javascript not detected.  It may not be installed or enabled properly.\n"
     ]
    },
    {
     "data": {
      "application/vnd.jupyter.widget-view+json": {
       "model_id": "735963e864944a0e9431a362e934b98f"
      }
     },
     "metadata": {},
     "output_type": "display_data"
    },
    {
     "name": "stdout",
     "output_type": "stream",
     "text": [
      "\n"
     ]
    },
    {
     "name": "stderr",
     "output_type": "stream",
     "text": [
      "Widget Javascript not detected.  It may not be installed or enabled properly.\n"
     ]
    },
    {
     "data": {
      "application/vnd.jupyter.widget-view+json": {
       "model_id": "f3a5dcdc002247ec88802bd4f62e2d50"
      }
     },
     "metadata": {},
     "output_type": "display_data"
    },
    {
     "name": "stdout",
     "output_type": "stream",
     "text": [
      "\n"
     ]
    },
    {
     "name": "stderr",
     "output_type": "stream",
     "text": [
      "Widget Javascript not detected.  It may not be installed or enabled properly.\n"
     ]
    },
    {
     "data": {
      "application/vnd.jupyter.widget-view+json": {
       "model_id": "50a26c7e792f44e09945cafa90d27ea0"
      }
     },
     "metadata": {},
     "output_type": "display_data"
    },
    {
     "name": "stdout",
     "output_type": "stream",
     "text": [
      "\n"
     ]
    },
    {
     "name": "stderr",
     "output_type": "stream",
     "text": [
      "Widget Javascript not detected.  It may not be installed or enabled properly.\n"
     ]
    },
    {
     "data": {
      "application/vnd.jupyter.widget-view+json": {
       "model_id": "eacc43a11a914f6ab4cc25cea774bd63"
      }
     },
     "metadata": {},
     "output_type": "display_data"
    },
    {
     "name": "stdout",
     "output_type": "stream",
     "text": [
      "\n"
     ]
    },
    {
     "name": "stderr",
     "output_type": "stream",
     "text": [
      "Widget Javascript not detected.  It may not be installed or enabled properly.\n"
     ]
    },
    {
     "data": {
      "application/vnd.jupyter.widget-view+json": {
       "model_id": "3016282c4eac475d94bc5bf7f1cd554c"
      }
     },
     "metadata": {},
     "output_type": "display_data"
    },
    {
     "name": "stdout",
     "output_type": "stream",
     "text": [
      "\n"
     ]
    },
    {
     "name": "stderr",
     "output_type": "stream",
     "text": [
      "Widget Javascript not detected.  It may not be installed or enabled properly.\n"
     ]
    },
    {
     "data": {
      "application/vnd.jupyter.widget-view+json": {
       "model_id": "6fddcc83393f475ea8b3f831eea8eaaf"
      }
     },
     "metadata": {},
     "output_type": "display_data"
    },
    {
     "name": "stdout",
     "output_type": "stream",
     "text": [
      "\n"
     ]
    },
    {
     "name": "stderr",
     "output_type": "stream",
     "text": [
      "Widget Javascript not detected.  It may not be installed or enabled properly.\n"
     ]
    },
    {
     "data": {
      "application/vnd.jupyter.widget-view+json": {
       "model_id": "ef0d6a1c2a144a37828e2e70d1120785"
      }
     },
     "metadata": {},
     "output_type": "display_data"
    },
    {
     "name": "stdout",
     "output_type": "stream",
     "text": [
      "\n"
     ]
    },
    {
     "name": "stderr",
     "output_type": "stream",
     "text": [
      "Widget Javascript not detected.  It may not be installed or enabled properly.\n"
     ]
    },
    {
     "data": {
      "application/vnd.jupyter.widget-view+json": {
       "model_id": "ec1f2fbed607479990e9ca3e95a92a49"
      }
     },
     "metadata": {},
     "output_type": "display_data"
    },
    {
     "name": "stdout",
     "output_type": "stream",
     "text": [
      "\n"
     ]
    },
    {
     "name": "stderr",
     "output_type": "stream",
     "text": [
      "Widget Javascript not detected.  It may not be installed or enabled properly.\n"
     ]
    },
    {
     "data": {
      "application/vnd.jupyter.widget-view+json": {
       "model_id": "3e566f30cd514a25869b6eda1918a00a"
      }
     },
     "metadata": {},
     "output_type": "display_data"
    },
    {
     "name": "stdout",
     "output_type": "stream",
     "text": [
      "\n"
     ]
    },
    {
     "name": "stderr",
     "output_type": "stream",
     "text": [
      "Widget Javascript not detected.  It may not be installed or enabled properly.\n"
     ]
    },
    {
     "data": {
      "application/vnd.jupyter.widget-view+json": {
       "model_id": "fc6ddac893d744a3884068b9ffc73723"
      }
     },
     "metadata": {},
     "output_type": "display_data"
    },
    {
     "name": "stdout",
     "output_type": "stream",
     "text": [
      "\n"
     ]
    },
    {
     "name": "stderr",
     "output_type": "stream",
     "text": [
      "Widget Javascript not detected.  It may not be installed or enabled properly.\n"
     ]
    },
    {
     "data": {
      "application/vnd.jupyter.widget-view+json": {
       "model_id": "a74badc3b6f741eb80c346f132130bfa"
      }
     },
     "metadata": {},
     "output_type": "display_data"
    },
    {
     "name": "stdout",
     "output_type": "stream",
     "text": [
      "\n"
     ]
    },
    {
     "name": "stderr",
     "output_type": "stream",
     "text": [
      "Widget Javascript not detected.  It may not be installed or enabled properly.\n"
     ]
    },
    {
     "data": {
      "application/vnd.jupyter.widget-view+json": {
       "model_id": "5da79faa16e4463f9610aed417abf111"
      }
     },
     "metadata": {},
     "output_type": "display_data"
    },
    {
     "name": "stdout",
     "output_type": "stream",
     "text": [
      "\n"
     ]
    },
    {
     "name": "stderr",
     "output_type": "stream",
     "text": [
      "Widget Javascript not detected.  It may not be installed or enabled properly.\n"
     ]
    },
    {
     "data": {
      "application/vnd.jupyter.widget-view+json": {
       "model_id": "ea31288c4ca040b59bdf9d0106cc7306"
      }
     },
     "metadata": {},
     "output_type": "display_data"
    },
    {
     "name": "stdout",
     "output_type": "stream",
     "text": [
      "\n"
     ]
    },
    {
     "name": "stderr",
     "output_type": "stream",
     "text": [
      "Widget Javascript not detected.  It may not be installed or enabled properly.\n"
     ]
    },
    {
     "data": {
      "application/vnd.jupyter.widget-view+json": {
       "model_id": "28d33d1846a344b0986eeb081be95599"
      }
     },
     "metadata": {},
     "output_type": "display_data"
    },
    {
     "name": "stdout",
     "output_type": "stream",
     "text": [
      "\n"
     ]
    },
    {
     "name": "stderr",
     "output_type": "stream",
     "text": [
      "Widget Javascript not detected.  It may not be installed or enabled properly.\n"
     ]
    },
    {
     "data": {
      "application/vnd.jupyter.widget-view+json": {
       "model_id": "29f268c2852248ff8d03c81f2c0ea7ba"
      }
     },
     "metadata": {},
     "output_type": "display_data"
    },
    {
     "name": "stdout",
     "output_type": "stream",
     "text": [
      "\n"
     ]
    },
    {
     "name": "stderr",
     "output_type": "stream",
     "text": [
      "Widget Javascript not detected.  It may not be installed or enabled properly.\n"
     ]
    },
    {
     "data": {
      "application/vnd.jupyter.widget-view+json": {
       "model_id": "ceb6b1cc3970455f99ed252bda64c4b5"
      }
     },
     "metadata": {},
     "output_type": "display_data"
    },
    {
     "name": "stdout",
     "output_type": "stream",
     "text": [
      "\n"
     ]
    },
    {
     "name": "stderr",
     "output_type": "stream",
     "text": [
      "Widget Javascript not detected.  It may not be installed or enabled properly.\n"
     ]
    },
    {
     "data": {
      "application/vnd.jupyter.widget-view+json": {
       "model_id": "b1717a0bd64f42e3b24477f606a50bd4"
      }
     },
     "metadata": {},
     "output_type": "display_data"
    },
    {
     "name": "stdout",
     "output_type": "stream",
     "text": [
      "\n"
     ]
    },
    {
     "name": "stderr",
     "output_type": "stream",
     "text": [
      "Widget Javascript not detected.  It may not be installed or enabled properly.\n"
     ]
    },
    {
     "data": {
      "application/vnd.jupyter.widget-view+json": {
       "model_id": "034f70de3f7447cd8eac52dc5824cab8"
      }
     },
     "metadata": {},
     "output_type": "display_data"
    },
    {
     "name": "stdout",
     "output_type": "stream",
     "text": [
      "\n"
     ]
    },
    {
     "name": "stderr",
     "output_type": "stream",
     "text": [
      "Widget Javascript not detected.  It may not be installed or enabled properly.\n"
     ]
    },
    {
     "data": {
      "application/vnd.jupyter.widget-view+json": {
       "model_id": "19c11ae34194402abac0f9cb68ef4599"
      }
     },
     "metadata": {},
     "output_type": "display_data"
    },
    {
     "name": "stdout",
     "output_type": "stream",
     "text": [
      "\n"
     ]
    },
    {
     "name": "stderr",
     "output_type": "stream",
     "text": [
      "Widget Javascript not detected.  It may not be installed or enabled properly.\n"
     ]
    },
    {
     "data": {
      "application/vnd.jupyter.widget-view+json": {
       "model_id": "ea5b5a8c8f3043f49bd6f87d752980b3"
      }
     },
     "metadata": {},
     "output_type": "display_data"
    },
    {
     "name": "stdout",
     "output_type": "stream",
     "text": [
      "\n"
     ]
    },
    {
     "name": "stderr",
     "output_type": "stream",
     "text": [
      "Widget Javascript not detected.  It may not be installed or enabled properly.\n"
     ]
    },
    {
     "data": {
      "application/vnd.jupyter.widget-view+json": {
       "model_id": "2e57a9fa4e654aee81d75cb4c280ec6c"
      }
     },
     "metadata": {},
     "output_type": "display_data"
    },
    {
     "name": "stdout",
     "output_type": "stream",
     "text": [
      "\n"
     ]
    },
    {
     "name": "stderr",
     "output_type": "stream",
     "text": [
      "Widget Javascript not detected.  It may not be installed or enabled properly.\n"
     ]
    },
    {
     "data": {
      "application/vnd.jupyter.widget-view+json": {
       "model_id": "b94a7701b59e490e898f831e9380ff42"
      }
     },
     "metadata": {},
     "output_type": "display_data"
    },
    {
     "name": "stdout",
     "output_type": "stream",
     "text": [
      "\n"
     ]
    },
    {
     "name": "stderr",
     "output_type": "stream",
     "text": [
      "Widget Javascript not detected.  It may not be installed or enabled properly.\n"
     ]
    },
    {
     "data": {
      "application/vnd.jupyter.widget-view+json": {
       "model_id": "ca7631c111794e8b92a07fb453e4206a"
      }
     },
     "metadata": {},
     "output_type": "display_data"
    },
    {
     "name": "stdout",
     "output_type": "stream",
     "text": [
      "\n"
     ]
    },
    {
     "name": "stderr",
     "output_type": "stream",
     "text": [
      "Widget Javascript not detected.  It may not be installed or enabled properly.\n"
     ]
    },
    {
     "data": {
      "application/vnd.jupyter.widget-view+json": {
       "model_id": "fdfad6a0099f44f2a37d138067c9e381"
      }
     },
     "metadata": {},
     "output_type": "display_data"
    },
    {
     "name": "stdout",
     "output_type": "stream",
     "text": [
      "\n"
     ]
    },
    {
     "name": "stderr",
     "output_type": "stream",
     "text": [
      "Widget Javascript not detected.  It may not be installed or enabled properly.\n"
     ]
    },
    {
     "data": {
      "application/vnd.jupyter.widget-view+json": {
       "model_id": "a5cd4c06a1de4822849ae22a2254400b"
      }
     },
     "metadata": {},
     "output_type": "display_data"
    },
    {
     "name": "stdout",
     "output_type": "stream",
     "text": [
      "\n"
     ]
    },
    {
     "name": "stderr",
     "output_type": "stream",
     "text": [
      "Widget Javascript not detected.  It may not be installed or enabled properly.\n"
     ]
    },
    {
     "data": {
      "application/vnd.jupyter.widget-view+json": {
       "model_id": "dc7d2c95c7024ddfbd14a4ddd91a3fdd"
      }
     },
     "metadata": {},
     "output_type": "display_data"
    },
    {
     "name": "stdout",
     "output_type": "stream",
     "text": [
      "\n"
     ]
    },
    {
     "name": "stderr",
     "output_type": "stream",
     "text": [
      "Widget Javascript not detected.  It may not be installed or enabled properly.\n"
     ]
    },
    {
     "data": {
      "application/vnd.jupyter.widget-view+json": {
       "model_id": "65a8941ab2d348f1bd20a5c36820915c"
      }
     },
     "metadata": {},
     "output_type": "display_data"
    },
    {
     "name": "stdout",
     "output_type": "stream",
     "text": [
      "\n"
     ]
    },
    {
     "name": "stderr",
     "output_type": "stream",
     "text": [
      "Widget Javascript not detected.  It may not be installed or enabled properly.\n"
     ]
    },
    {
     "data": {
      "application/vnd.jupyter.widget-view+json": {
       "model_id": "e5b43ed437294dc69f3e6c3eaa40dce7"
      }
     },
     "metadata": {},
     "output_type": "display_data"
    },
    {
     "name": "stdout",
     "output_type": "stream",
     "text": [
      "\n"
     ]
    },
    {
     "name": "stderr",
     "output_type": "stream",
     "text": [
      "Widget Javascript not detected.  It may not be installed or enabled properly.\n"
     ]
    },
    {
     "data": {
      "application/vnd.jupyter.widget-view+json": {
       "model_id": "1f132563e2af494d8c798d96e2d66386"
      }
     },
     "metadata": {},
     "output_type": "display_data"
    },
    {
     "name": "stdout",
     "output_type": "stream",
     "text": [
      "\n"
     ]
    },
    {
     "name": "stderr",
     "output_type": "stream",
     "text": [
      "Widget Javascript not detected.  It may not be installed or enabled properly.\n"
     ]
    },
    {
     "data": {
      "application/vnd.jupyter.widget-view+json": {
       "model_id": "d2b97bbe2f7d47819c0a7e9e620fa10f"
      }
     },
     "metadata": {},
     "output_type": "display_data"
    },
    {
     "name": "stdout",
     "output_type": "stream",
     "text": [
      "\n"
     ]
    },
    {
     "name": "stderr",
     "output_type": "stream",
     "text": [
      "Widget Javascript not detected.  It may not be installed or enabled properly.\n"
     ]
    },
    {
     "data": {
      "application/vnd.jupyter.widget-view+json": {
       "model_id": "8c88749f2d7b4bc5bb63ec13b4e7cad6"
      }
     },
     "metadata": {},
     "output_type": "display_data"
    },
    {
     "name": "stdout",
     "output_type": "stream",
     "text": [
      "\n"
     ]
    },
    {
     "name": "stderr",
     "output_type": "stream",
     "text": [
      "Widget Javascript not detected.  It may not be installed or enabled properly.\n"
     ]
    },
    {
     "data": {
      "application/vnd.jupyter.widget-view+json": {
       "model_id": "58efb22fa1c145baa6c0413216ea371a"
      }
     },
     "metadata": {},
     "output_type": "display_data"
    },
    {
     "name": "stdout",
     "output_type": "stream",
     "text": [
      "\n"
     ]
    },
    {
     "name": "stderr",
     "output_type": "stream",
     "text": [
      "Widget Javascript not detected.  It may not be installed or enabled properly.\n"
     ]
    },
    {
     "data": {
      "application/vnd.jupyter.widget-view+json": {
       "model_id": "a3d5546363254360826795be67a5f9da"
      }
     },
     "metadata": {},
     "output_type": "display_data"
    },
    {
     "name": "stdout",
     "output_type": "stream",
     "text": [
      "\n"
     ]
    },
    {
     "name": "stderr",
     "output_type": "stream",
     "text": [
      "Widget Javascript not detected.  It may not be installed or enabled properly.\n"
     ]
    },
    {
     "data": {
      "application/vnd.jupyter.widget-view+json": {
       "model_id": "7502bb6ffcfb4f4eb8457666a617da58"
      }
     },
     "metadata": {},
     "output_type": "display_data"
    },
    {
     "name": "stdout",
     "output_type": "stream",
     "text": [
      "\n"
     ]
    },
    {
     "name": "stderr",
     "output_type": "stream",
     "text": [
      "Widget Javascript not detected.  It may not be installed or enabled properly.\n"
     ]
    },
    {
     "data": {
      "application/vnd.jupyter.widget-view+json": {
       "model_id": "b7a2d6a5dc87410db23127b214e2e0df"
      }
     },
     "metadata": {},
     "output_type": "display_data"
    },
    {
     "name": "stdout",
     "output_type": "stream",
     "text": [
      "\n"
     ]
    },
    {
     "name": "stderr",
     "output_type": "stream",
     "text": [
      "Widget Javascript not detected.  It may not be installed or enabled properly.\n"
     ]
    },
    {
     "data": {
      "application/vnd.jupyter.widget-view+json": {
       "model_id": "58c26bcb5dbf493e937cf24671d5967e"
      }
     },
     "metadata": {},
     "output_type": "display_data"
    },
    {
     "name": "stdout",
     "output_type": "stream",
     "text": [
      "\n"
     ]
    },
    {
     "name": "stderr",
     "output_type": "stream",
     "text": [
      "Widget Javascript not detected.  It may not be installed or enabled properly.\n"
     ]
    },
    {
     "data": {
      "application/vnd.jupyter.widget-view+json": {
       "model_id": "6e5722e786314236a64c0407d93c778e"
      }
     },
     "metadata": {},
     "output_type": "display_data"
    },
    {
     "name": "stdout",
     "output_type": "stream",
     "text": [
      "\n"
     ]
    },
    {
     "name": "stderr",
     "output_type": "stream",
     "text": [
      "Widget Javascript not detected.  It may not be installed or enabled properly.\n"
     ]
    },
    {
     "data": {
      "application/vnd.jupyter.widget-view+json": {
       "model_id": "d03a9732b9d541c4b243b70100d4f7ec"
      }
     },
     "metadata": {},
     "output_type": "display_data"
    },
    {
     "name": "stdout",
     "output_type": "stream",
     "text": [
      "\n"
     ]
    },
    {
     "name": "stderr",
     "output_type": "stream",
     "text": [
      "Widget Javascript not detected.  It may not be installed or enabled properly.\n"
     ]
    },
    {
     "data": {
      "application/vnd.jupyter.widget-view+json": {
       "model_id": "c2bd84bc445444cea89dcfc3c858403d"
      }
     },
     "metadata": {},
     "output_type": "display_data"
    },
    {
     "name": "stdout",
     "output_type": "stream",
     "text": [
      "\n"
     ]
    },
    {
     "name": "stderr",
     "output_type": "stream",
     "text": [
      "Widget Javascript not detected.  It may not be installed or enabled properly.\n"
     ]
    },
    {
     "data": {
      "application/vnd.jupyter.widget-view+json": {
       "model_id": "bdcb8cf366a844569429258e2d0166a8"
      }
     },
     "metadata": {},
     "output_type": "display_data"
    },
    {
     "name": "stdout",
     "output_type": "stream",
     "text": [
      "\n"
     ]
    },
    {
     "name": "stderr",
     "output_type": "stream",
     "text": [
      "Widget Javascript not detected.  It may not be installed or enabled properly.\n"
     ]
    },
    {
     "data": {
      "application/vnd.jupyter.widget-view+json": {
       "model_id": "fce6885a7b9242b69c5797f88e1df6ce"
      }
     },
     "metadata": {},
     "output_type": "display_data"
    },
    {
     "name": "stdout",
     "output_type": "stream",
     "text": [
      "\n"
     ]
    },
    {
     "name": "stderr",
     "output_type": "stream",
     "text": [
      "Widget Javascript not detected.  It may not be installed or enabled properly.\n"
     ]
    },
    {
     "data": {
      "application/vnd.jupyter.widget-view+json": {
       "model_id": "434fb99066324b1d947fb408ec572eb3"
      }
     },
     "metadata": {},
     "output_type": "display_data"
    },
    {
     "name": "stdout",
     "output_type": "stream",
     "text": [
      "\n"
     ]
    },
    {
     "name": "stderr",
     "output_type": "stream",
     "text": [
      "Widget Javascript not detected.  It may not be installed or enabled properly.\n"
     ]
    },
    {
     "data": {
      "application/vnd.jupyter.widget-view+json": {
       "model_id": "9aaa819fcfb745fbb71b5c0b2c225cea"
      }
     },
     "metadata": {},
     "output_type": "display_data"
    },
    {
     "name": "stdout",
     "output_type": "stream",
     "text": [
      "\n"
     ]
    },
    {
     "name": "stderr",
     "output_type": "stream",
     "text": [
      "Widget Javascript not detected.  It may not be installed or enabled properly.\n"
     ]
    },
    {
     "data": {
      "application/vnd.jupyter.widget-view+json": {
       "model_id": "a8a8036da9524c4098cb6410e0ec0607"
      }
     },
     "metadata": {},
     "output_type": "display_data"
    },
    {
     "name": "stdout",
     "output_type": "stream",
     "text": [
      "\n"
     ]
    },
    {
     "name": "stderr",
     "output_type": "stream",
     "text": [
      "Widget Javascript not detected.  It may not be installed or enabled properly.\n"
     ]
    },
    {
     "data": {
      "application/vnd.jupyter.widget-view+json": {
       "model_id": "5aad88a828194fa4a50395451cbf052b"
      }
     },
     "metadata": {},
     "output_type": "display_data"
    },
    {
     "name": "stdout",
     "output_type": "stream",
     "text": [
      "\n"
     ]
    },
    {
     "name": "stderr",
     "output_type": "stream",
     "text": [
      "Widget Javascript not detected.  It may not be installed or enabled properly.\n"
     ]
    },
    {
     "data": {
      "application/vnd.jupyter.widget-view+json": {
       "model_id": "91099e9776464ae6902883eaa1088669"
      }
     },
     "metadata": {},
     "output_type": "display_data"
    },
    {
     "name": "stdout",
     "output_type": "stream",
     "text": [
      "\n"
     ]
    },
    {
     "name": "stderr",
     "output_type": "stream",
     "text": [
      "Widget Javascript not detected.  It may not be installed or enabled properly.\n"
     ]
    },
    {
     "data": {
      "application/vnd.jupyter.widget-view+json": {
       "model_id": "38d5813cd28e4f89b6c9087b6c9daad7"
      }
     },
     "metadata": {},
     "output_type": "display_data"
    },
    {
     "name": "stdout",
     "output_type": "stream",
     "text": [
      "\n"
     ]
    },
    {
     "name": "stderr",
     "output_type": "stream",
     "text": [
      "Widget Javascript not detected.  It may not be installed or enabled properly.\n"
     ]
    },
    {
     "data": {
      "application/vnd.jupyter.widget-view+json": {
       "model_id": "4bfbb099b09c4464885a3e8d3fe13341"
      }
     },
     "metadata": {},
     "output_type": "display_data"
    },
    {
     "name": "stdout",
     "output_type": "stream",
     "text": [
      "\n"
     ]
    },
    {
     "name": "stderr",
     "output_type": "stream",
     "text": [
      "Widget Javascript not detected.  It may not be installed or enabled properly.\n"
     ]
    },
    {
     "data": {
      "application/vnd.jupyter.widget-view+json": {
       "model_id": "6f847ec59b094edca4dcc29936390317"
      }
     },
     "metadata": {},
     "output_type": "display_data"
    },
    {
     "name": "stdout",
     "output_type": "stream",
     "text": [
      "\n"
     ]
    },
    {
     "name": "stderr",
     "output_type": "stream",
     "text": [
      "Widget Javascript not detected.  It may not be installed or enabled properly.\n"
     ]
    },
    {
     "data": {
      "application/vnd.jupyter.widget-view+json": {
       "model_id": "03fb98a818b0475cbe5d286839db2a1f"
      }
     },
     "metadata": {},
     "output_type": "display_data"
    },
    {
     "name": "stdout",
     "output_type": "stream",
     "text": [
      "\n"
     ]
    },
    {
     "name": "stderr",
     "output_type": "stream",
     "text": [
      "Widget Javascript not detected.  It may not be installed or enabled properly.\n"
     ]
    },
    {
     "data": {
      "application/vnd.jupyter.widget-view+json": {
       "model_id": "676e62cc2acc44db91bcfbfcb21c5fec"
      }
     },
     "metadata": {},
     "output_type": "display_data"
    },
    {
     "name": "stdout",
     "output_type": "stream",
     "text": [
      "\n"
     ]
    },
    {
     "name": "stderr",
     "output_type": "stream",
     "text": [
      "Widget Javascript not detected.  It may not be installed or enabled properly.\n"
     ]
    },
    {
     "data": {
      "application/vnd.jupyter.widget-view+json": {
       "model_id": "54b61d377f2e4858b412358bcd1ba894"
      }
     },
     "metadata": {},
     "output_type": "display_data"
    },
    {
     "name": "stdout",
     "output_type": "stream",
     "text": [
      "\n"
     ]
    },
    {
     "name": "stderr",
     "output_type": "stream",
     "text": [
      "Widget Javascript not detected.  It may not be installed or enabled properly.\n"
     ]
    },
    {
     "data": {
      "application/vnd.jupyter.widget-view+json": {
       "model_id": "8c1e2db636ce417088e7c241e0ac4ba9"
      }
     },
     "metadata": {},
     "output_type": "display_data"
    },
    {
     "name": "stdout",
     "output_type": "stream",
     "text": [
      "\n"
     ]
    },
    {
     "name": "stderr",
     "output_type": "stream",
     "text": [
      "Widget Javascript not detected.  It may not be installed or enabled properly.\n"
     ]
    },
    {
     "data": {
      "application/vnd.jupyter.widget-view+json": {
       "model_id": "6da652959870422386a6ea73442e6a5c"
      }
     },
     "metadata": {},
     "output_type": "display_data"
    },
    {
     "name": "stdout",
     "output_type": "stream",
     "text": [
      "\n"
     ]
    },
    {
     "name": "stderr",
     "output_type": "stream",
     "text": [
      "Widget Javascript not detected.  It may not be installed or enabled properly.\n"
     ]
    },
    {
     "data": {
      "application/vnd.jupyter.widget-view+json": {
       "model_id": "6c2e8f5d3a9348e295c7ff6b945e20e4"
      }
     },
     "metadata": {},
     "output_type": "display_data"
    },
    {
     "name": "stdout",
     "output_type": "stream",
     "text": [
      "\n"
     ]
    },
    {
     "name": "stderr",
     "output_type": "stream",
     "text": [
      "Widget Javascript not detected.  It may not be installed or enabled properly.\n"
     ]
    },
    {
     "data": {
      "application/vnd.jupyter.widget-view+json": {
       "model_id": "36a45a78c146493983f4f8b7c0a8904c"
      }
     },
     "metadata": {},
     "output_type": "display_data"
    },
    {
     "name": "stdout",
     "output_type": "stream",
     "text": [
      "\n"
     ]
    },
    {
     "name": "stderr",
     "output_type": "stream",
     "text": [
      "Widget Javascript not detected.  It may not be installed or enabled properly.\n"
     ]
    },
    {
     "data": {
      "application/vnd.jupyter.widget-view+json": {
       "model_id": "cba7b5900a734b72ac5e380a132eff99"
      }
     },
     "metadata": {},
     "output_type": "display_data"
    },
    {
     "name": "stdout",
     "output_type": "stream",
     "text": [
      "\n"
     ]
    },
    {
     "name": "stderr",
     "output_type": "stream",
     "text": [
      "Widget Javascript not detected.  It may not be installed or enabled properly.\n"
     ]
    },
    {
     "data": {
      "application/vnd.jupyter.widget-view+json": {
       "model_id": "203ac35e9cb24b4db2e644675822a949"
      }
     },
     "metadata": {},
     "output_type": "display_data"
    },
    {
     "name": "stdout",
     "output_type": "stream",
     "text": [
      "\n"
     ]
    },
    {
     "name": "stderr",
     "output_type": "stream",
     "text": [
      "Widget Javascript not detected.  It may not be installed or enabled properly.\n"
     ]
    },
    {
     "data": {
      "application/vnd.jupyter.widget-view+json": {
       "model_id": "ecb19315f0324a49801e5155e14a53b2"
      }
     },
     "metadata": {},
     "output_type": "display_data"
    },
    {
     "name": "stdout",
     "output_type": "stream",
     "text": [
      "\n"
     ]
    },
    {
     "name": "stderr",
     "output_type": "stream",
     "text": [
      "Widget Javascript not detected.  It may not be installed or enabled properly.\n"
     ]
    },
    {
     "data": {
      "application/vnd.jupyter.widget-view+json": {
       "model_id": "415a9563ffe74268aa978ebfe8c33317"
      }
     },
     "metadata": {},
     "output_type": "display_data"
    },
    {
     "name": "stdout",
     "output_type": "stream",
     "text": [
      "\n"
     ]
    },
    {
     "name": "stderr",
     "output_type": "stream",
     "text": [
      "Widget Javascript not detected.  It may not be installed or enabled properly.\n"
     ]
    },
    {
     "data": {
      "application/vnd.jupyter.widget-view+json": {
       "model_id": "89808334668844f4af810a986e956ed2"
      }
     },
     "metadata": {},
     "output_type": "display_data"
    },
    {
     "name": "stdout",
     "output_type": "stream",
     "text": [
      "\n"
     ]
    },
    {
     "name": "stderr",
     "output_type": "stream",
     "text": [
      "Widget Javascript not detected.  It may not be installed or enabled properly.\n"
     ]
    },
    {
     "data": {
      "application/vnd.jupyter.widget-view+json": {
       "model_id": "37e0e03eaad6488a92af850633ed77b7"
      }
     },
     "metadata": {},
     "output_type": "display_data"
    },
    {
     "name": "stdout",
     "output_type": "stream",
     "text": [
      "\n"
     ]
    },
    {
     "name": "stderr",
     "output_type": "stream",
     "text": [
      "Widget Javascript not detected.  It may not be installed or enabled properly.\n"
     ]
    },
    {
     "data": {
      "application/vnd.jupyter.widget-view+json": {
       "model_id": "e80409df370e43deb6645bbae4c211ff"
      }
     },
     "metadata": {},
     "output_type": "display_data"
    },
    {
     "name": "stdout",
     "output_type": "stream",
     "text": [
      "\n"
     ]
    },
    {
     "name": "stderr",
     "output_type": "stream",
     "text": [
      "Widget Javascript not detected.  It may not be installed or enabled properly.\n"
     ]
    },
    {
     "data": {
      "application/vnd.jupyter.widget-view+json": {
       "model_id": "c356c2dd5db74faa9d56200c1e866910"
      }
     },
     "metadata": {},
     "output_type": "display_data"
    },
    {
     "name": "stdout",
     "output_type": "stream",
     "text": [
      "\n"
     ]
    },
    {
     "name": "stderr",
     "output_type": "stream",
     "text": [
      "Widget Javascript not detected.  It may not be installed or enabled properly.\n"
     ]
    },
    {
     "data": {
      "application/vnd.jupyter.widget-view+json": {
       "model_id": "bad11ce0a1524b42b5e9586d72664ea5"
      }
     },
     "metadata": {},
     "output_type": "display_data"
    },
    {
     "name": "stdout",
     "output_type": "stream",
     "text": [
      "\n"
     ]
    },
    {
     "name": "stderr",
     "output_type": "stream",
     "text": [
      "Widget Javascript not detected.  It may not be installed or enabled properly.\n"
     ]
    },
    {
     "data": {
      "application/vnd.jupyter.widget-view+json": {
       "model_id": "93862d73178748b481766f186fcc7fdf"
      }
     },
     "metadata": {},
     "output_type": "display_data"
    },
    {
     "name": "stdout",
     "output_type": "stream",
     "text": [
      "\n"
     ]
    },
    {
     "name": "stderr",
     "output_type": "stream",
     "text": [
      "Widget Javascript not detected.  It may not be installed or enabled properly.\n"
     ]
    },
    {
     "data": {
      "application/vnd.jupyter.widget-view+json": {
       "model_id": "f2b42a6b480b483c86e4b9ebcadf6e57"
      }
     },
     "metadata": {},
     "output_type": "display_data"
    },
    {
     "name": "stdout",
     "output_type": "stream",
     "text": [
      "\n"
     ]
    },
    {
     "name": "stderr",
     "output_type": "stream",
     "text": [
      "Widget Javascript not detected.  It may not be installed or enabled properly.\n"
     ]
    },
    {
     "data": {
      "application/vnd.jupyter.widget-view+json": {
       "model_id": "3107d9d51a384147870a4159beef4974"
      }
     },
     "metadata": {},
     "output_type": "display_data"
    },
    {
     "name": "stdout",
     "output_type": "stream",
     "text": [
      "\n"
     ]
    },
    {
     "name": "stderr",
     "output_type": "stream",
     "text": [
      "Widget Javascript not detected.  It may not be installed or enabled properly.\n"
     ]
    },
    {
     "data": {
      "application/vnd.jupyter.widget-view+json": {
       "model_id": "c37a77546ef24b108897ab47fe10d15c"
      }
     },
     "metadata": {},
     "output_type": "display_data"
    },
    {
     "name": "stdout",
     "output_type": "stream",
     "text": [
      "\n"
     ]
    }
   ],
   "source": [
    "# set up inference\n",
    "#res = infer.CDELFI(g, obs=obs, n_components=2)\n",
    "\n",
    "# Seed 42000 gives NaNs\n",
    "\n",
    "res = infer.SNPE(g, obs=x_obs, n_hiddens=[n_hiddens], seed=seed, svi=True, convert_to_T=None)\n",
    "\n",
    "minibatch = n_samples_per_round if n_samples_per_round < 100 else 100\n",
    "\n",
    "regkeys = [ 'reg.mds{}'.format(i) for i in range(4) ]\n",
    "\n",
    "log, trn_data = res.run(n_train=n_samples_per_round, epochs=epochs, n_rounds=n_rounds, minibatch=minibatch,\n",
    "                        stop_on_nan=True,\n",
    "                        monitor=['reg.quad_form', 'reg.diff_logdet_Sigma', 'reg.tr_invSigma2_Sigma1',\n",
    "                                 'reg.logdetP'] + regkeys)"
   ]
  },
  {
   "cell_type": "code",
   "execution_count": 5,
   "metadata": {},
   "outputs": [],
   "source": [
    "mdiffs = np.asarray([ np.concatenate([ l[k][-1].reshape(-1) for k in regkeys ]) for l in log[1:] ]).T"
   ]
  },
  {
   "cell_type": "code",
   "execution_count": 6,
   "metadata": {
    "collapsed": true
   },
   "outputs": [],
   "source": [
    "meanfunc = lambda x: x[-1] # np.mean(x)\n",
    "\n",
    "dkl1s = np.asarray([ meanfunc(d['reg.diff_logdet_Sigma']) for d in log[1:] ])\n",
    "dkl2s = np.asarray([ meanfunc(d['reg.tr_invSigma2_Sigma1']) for d in log[1:] ])\n",
    "dkl3s = np.asarray([ meanfunc(d['reg.quad_form']) for d in log[1:] ])\n",
    "\n",
    "precs = np.asarray([ meanfunc(d['reg.logdetP']) for d in log[1:] ])\n",
    "\n",
    "dkls = 0.5 * (dkl1s + dkl2s + dkl3s)"
   ]
  },
  {
   "cell_type": "code",
   "execution_count": 7,
   "metadata": {
    "scrolled": false
   },
   "outputs": [
    {
     "data": {
      "application/javascript": [
       "/* Put everything inside the global mpl namespace */\n",
       "window.mpl = {};\n",
       "\n",
       "\n",
       "mpl.get_websocket_type = function() {\n",
       "    if (typeof(WebSocket) !== 'undefined') {\n",
       "        return WebSocket;\n",
       "    } else if (typeof(MozWebSocket) !== 'undefined') {\n",
       "        return MozWebSocket;\n",
       "    } else {\n",
       "        alert('Your browser does not have WebSocket support.' +\n",
       "              'Please try Chrome, Safari or Firefox ≥ 6. ' +\n",
       "              'Firefox 4 and 5 are also supported but you ' +\n",
       "              'have to enable WebSockets in about:config.');\n",
       "    };\n",
       "}\n",
       "\n",
       "mpl.figure = function(figure_id, websocket, ondownload, parent_element) {\n",
       "    this.id = figure_id;\n",
       "\n",
       "    this.ws = websocket;\n",
       "\n",
       "    this.supports_binary = (this.ws.binaryType != undefined);\n",
       "\n",
       "    if (!this.supports_binary) {\n",
       "        var warnings = document.getElementById(\"mpl-warnings\");\n",
       "        if (warnings) {\n",
       "            warnings.style.display = 'block';\n",
       "            warnings.textContent = (\n",
       "                \"This browser does not support binary websocket messages. \" +\n",
       "                    \"Performance may be slow.\");\n",
       "        }\n",
       "    }\n",
       "\n",
       "    this.imageObj = new Image();\n",
       "\n",
       "    this.context = undefined;\n",
       "    this.message = undefined;\n",
       "    this.canvas = undefined;\n",
       "    this.rubberband_canvas = undefined;\n",
       "    this.rubberband_context = undefined;\n",
       "    this.format_dropdown = undefined;\n",
       "\n",
       "    this.image_mode = 'full';\n",
       "\n",
       "    this.root = $('<div/>');\n",
       "    this._root_extra_style(this.root)\n",
       "    this.root.attr('style', 'display: inline-block');\n",
       "\n",
       "    $(parent_element).append(this.root);\n",
       "\n",
       "    this._init_header(this);\n",
       "    this._init_canvas(this);\n",
       "    this._init_toolbar(this);\n",
       "\n",
       "    var fig = this;\n",
       "\n",
       "    this.waiting = false;\n",
       "\n",
       "    this.ws.onopen =  function () {\n",
       "            fig.send_message(\"supports_binary\", {value: fig.supports_binary});\n",
       "            fig.send_message(\"send_image_mode\", {});\n",
       "            if (mpl.ratio != 1) {\n",
       "                fig.send_message(\"set_dpi_ratio\", {'dpi_ratio': mpl.ratio});\n",
       "            }\n",
       "            fig.send_message(\"refresh\", {});\n",
       "        }\n",
       "\n",
       "    this.imageObj.onload = function() {\n",
       "            if (fig.image_mode == 'full') {\n",
       "                // Full images could contain transparency (where diff images\n",
       "                // almost always do), so we need to clear the canvas so that\n",
       "                // there is no ghosting.\n",
       "                fig.context.clearRect(0, 0, fig.canvas.width, fig.canvas.height);\n",
       "            }\n",
       "            fig.context.drawImage(fig.imageObj, 0, 0);\n",
       "        };\n",
       "\n",
       "    this.imageObj.onunload = function() {\n",
       "        this.ws.close();\n",
       "    }\n",
       "\n",
       "    this.ws.onmessage = this._make_on_message_function(this);\n",
       "\n",
       "    this.ondownload = ondownload;\n",
       "}\n",
       "\n",
       "mpl.figure.prototype._init_header = function() {\n",
       "    var titlebar = $(\n",
       "        '<div class=\"ui-dialog-titlebar ui-widget-header ui-corner-all ' +\n",
       "        'ui-helper-clearfix\"/>');\n",
       "    var titletext = $(\n",
       "        '<div class=\"ui-dialog-title\" style=\"width: 100%; ' +\n",
       "        'text-align: center; padding: 3px;\"/>');\n",
       "    titlebar.append(titletext)\n",
       "    this.root.append(titlebar);\n",
       "    this.header = titletext[0];\n",
       "}\n",
       "\n",
       "\n",
       "\n",
       "mpl.figure.prototype._canvas_extra_style = function(canvas_div) {\n",
       "\n",
       "}\n",
       "\n",
       "\n",
       "mpl.figure.prototype._root_extra_style = function(canvas_div) {\n",
       "\n",
       "}\n",
       "\n",
       "mpl.figure.prototype._init_canvas = function() {\n",
       "    var fig = this;\n",
       "\n",
       "    var canvas_div = $('<div/>');\n",
       "\n",
       "    canvas_div.attr('style', 'position: relative; clear: both; outline: 0');\n",
       "\n",
       "    function canvas_keyboard_event(event) {\n",
       "        return fig.key_event(event, event['data']);\n",
       "    }\n",
       "\n",
       "    canvas_div.keydown('key_press', canvas_keyboard_event);\n",
       "    canvas_div.keyup('key_release', canvas_keyboard_event);\n",
       "    this.canvas_div = canvas_div\n",
       "    this._canvas_extra_style(canvas_div)\n",
       "    this.root.append(canvas_div);\n",
       "\n",
       "    var canvas = $('<canvas/>');\n",
       "    canvas.addClass('mpl-canvas');\n",
       "    canvas.attr('style', \"left: 0; top: 0; z-index: 0; outline: 0\")\n",
       "\n",
       "    this.canvas = canvas[0];\n",
       "    this.context = canvas[0].getContext(\"2d\");\n",
       "\n",
       "    var backingStore = this.context.backingStorePixelRatio ||\n",
       "\tthis.context.webkitBackingStorePixelRatio ||\n",
       "\tthis.context.mozBackingStorePixelRatio ||\n",
       "\tthis.context.msBackingStorePixelRatio ||\n",
       "\tthis.context.oBackingStorePixelRatio ||\n",
       "\tthis.context.backingStorePixelRatio || 1;\n",
       "\n",
       "    mpl.ratio = (window.devicePixelRatio || 1) / backingStore;\n",
       "\n",
       "    var rubberband = $('<canvas/>');\n",
       "    rubberband.attr('style', \"position: absolute; left: 0; top: 0; z-index: 1;\")\n",
       "\n",
       "    var pass_mouse_events = true;\n",
       "\n",
       "    canvas_div.resizable({\n",
       "        start: function(event, ui) {\n",
       "            pass_mouse_events = false;\n",
       "        },\n",
       "        resize: function(event, ui) {\n",
       "            fig.request_resize(ui.size.width, ui.size.height);\n",
       "        },\n",
       "        stop: function(event, ui) {\n",
       "            pass_mouse_events = true;\n",
       "            fig.request_resize(ui.size.width, ui.size.height);\n",
       "        },\n",
       "    });\n",
       "\n",
       "    function mouse_event_fn(event) {\n",
       "        if (pass_mouse_events)\n",
       "            return fig.mouse_event(event, event['data']);\n",
       "    }\n",
       "\n",
       "    rubberband.mousedown('button_press', mouse_event_fn);\n",
       "    rubberband.mouseup('button_release', mouse_event_fn);\n",
       "    // Throttle sequential mouse events to 1 every 20ms.\n",
       "    rubberband.mousemove('motion_notify', mouse_event_fn);\n",
       "\n",
       "    rubberband.mouseenter('figure_enter', mouse_event_fn);\n",
       "    rubberband.mouseleave('figure_leave', mouse_event_fn);\n",
       "\n",
       "    canvas_div.on(\"wheel\", function (event) {\n",
       "        event = event.originalEvent;\n",
       "        event['data'] = 'scroll'\n",
       "        if (event.deltaY < 0) {\n",
       "            event.step = 1;\n",
       "        } else {\n",
       "            event.step = -1;\n",
       "        }\n",
       "        mouse_event_fn(event);\n",
       "    });\n",
       "\n",
       "    canvas_div.append(canvas);\n",
       "    canvas_div.append(rubberband);\n",
       "\n",
       "    this.rubberband = rubberband;\n",
       "    this.rubberband_canvas = rubberband[0];\n",
       "    this.rubberband_context = rubberband[0].getContext(\"2d\");\n",
       "    this.rubberband_context.strokeStyle = \"#000000\";\n",
       "\n",
       "    this._resize_canvas = function(width, height) {\n",
       "        // Keep the size of the canvas, canvas container, and rubber band\n",
       "        // canvas in synch.\n",
       "        canvas_div.css('width', width)\n",
       "        canvas_div.css('height', height)\n",
       "\n",
       "        canvas.attr('width', width * mpl.ratio);\n",
       "        canvas.attr('height', height * mpl.ratio);\n",
       "        canvas.attr('style', 'width: ' + width + 'px; height: ' + height + 'px;');\n",
       "\n",
       "        rubberband.attr('width', width);\n",
       "        rubberband.attr('height', height);\n",
       "    }\n",
       "\n",
       "    // Set the figure to an initial 600x600px, this will subsequently be updated\n",
       "    // upon first draw.\n",
       "    this._resize_canvas(600, 600);\n",
       "\n",
       "    // Disable right mouse context menu.\n",
       "    $(this.rubberband_canvas).bind(\"contextmenu\",function(e){\n",
       "        return false;\n",
       "    });\n",
       "\n",
       "    function set_focus () {\n",
       "        canvas.focus();\n",
       "        canvas_div.focus();\n",
       "    }\n",
       "\n",
       "    window.setTimeout(set_focus, 100);\n",
       "}\n",
       "\n",
       "mpl.figure.prototype._init_toolbar = function() {\n",
       "    var fig = this;\n",
       "\n",
       "    var nav_element = $('<div/>')\n",
       "    nav_element.attr('style', 'width: 100%');\n",
       "    this.root.append(nav_element);\n",
       "\n",
       "    // Define a callback function for later on.\n",
       "    function toolbar_event(event) {\n",
       "        return fig.toolbar_button_onclick(event['data']);\n",
       "    }\n",
       "    function toolbar_mouse_event(event) {\n",
       "        return fig.toolbar_button_onmouseover(event['data']);\n",
       "    }\n",
       "\n",
       "    for(var toolbar_ind in mpl.toolbar_items) {\n",
       "        var name = mpl.toolbar_items[toolbar_ind][0];\n",
       "        var tooltip = mpl.toolbar_items[toolbar_ind][1];\n",
       "        var image = mpl.toolbar_items[toolbar_ind][2];\n",
       "        var method_name = mpl.toolbar_items[toolbar_ind][3];\n",
       "\n",
       "        if (!name) {\n",
       "            // put a spacer in here.\n",
       "            continue;\n",
       "        }\n",
       "        var button = $('<button/>');\n",
       "        button.addClass('ui-button ui-widget ui-state-default ui-corner-all ' +\n",
       "                        'ui-button-icon-only');\n",
       "        button.attr('role', 'button');\n",
       "        button.attr('aria-disabled', 'false');\n",
       "        button.click(method_name, toolbar_event);\n",
       "        button.mouseover(tooltip, toolbar_mouse_event);\n",
       "\n",
       "        var icon_img = $('<span/>');\n",
       "        icon_img.addClass('ui-button-icon-primary ui-icon');\n",
       "        icon_img.addClass(image);\n",
       "        icon_img.addClass('ui-corner-all');\n",
       "\n",
       "        var tooltip_span = $('<span/>');\n",
       "        tooltip_span.addClass('ui-button-text');\n",
       "        tooltip_span.html(tooltip);\n",
       "\n",
       "        button.append(icon_img);\n",
       "        button.append(tooltip_span);\n",
       "\n",
       "        nav_element.append(button);\n",
       "    }\n",
       "\n",
       "    var fmt_picker_span = $('<span/>');\n",
       "\n",
       "    var fmt_picker = $('<select/>');\n",
       "    fmt_picker.addClass('mpl-toolbar-option ui-widget ui-widget-content');\n",
       "    fmt_picker_span.append(fmt_picker);\n",
       "    nav_element.append(fmt_picker_span);\n",
       "    this.format_dropdown = fmt_picker[0];\n",
       "\n",
       "    for (var ind in mpl.extensions) {\n",
       "        var fmt = mpl.extensions[ind];\n",
       "        var option = $(\n",
       "            '<option/>', {selected: fmt === mpl.default_extension}).html(fmt);\n",
       "        fmt_picker.append(option)\n",
       "    }\n",
       "\n",
       "    // Add hover states to the ui-buttons\n",
       "    $( \".ui-button\" ).hover(\n",
       "        function() { $(this).addClass(\"ui-state-hover\");},\n",
       "        function() { $(this).removeClass(\"ui-state-hover\");}\n",
       "    );\n",
       "\n",
       "    var status_bar = $('<span class=\"mpl-message\"/>');\n",
       "    nav_element.append(status_bar);\n",
       "    this.message = status_bar[0];\n",
       "}\n",
       "\n",
       "mpl.figure.prototype.request_resize = function(x_pixels, y_pixels) {\n",
       "    // Request matplotlib to resize the figure. Matplotlib will then trigger a resize in the client,\n",
       "    // which will in turn request a refresh of the image.\n",
       "    this.send_message('resize', {'width': x_pixels, 'height': y_pixels});\n",
       "}\n",
       "\n",
       "mpl.figure.prototype.send_message = function(type, properties) {\n",
       "    properties['type'] = type;\n",
       "    properties['figure_id'] = this.id;\n",
       "    this.ws.send(JSON.stringify(properties));\n",
       "}\n",
       "\n",
       "mpl.figure.prototype.send_draw_message = function() {\n",
       "    if (!this.waiting) {\n",
       "        this.waiting = true;\n",
       "        this.ws.send(JSON.stringify({type: \"draw\", figure_id: this.id}));\n",
       "    }\n",
       "}\n",
       "\n",
       "\n",
       "mpl.figure.prototype.handle_save = function(fig, msg) {\n",
       "    var format_dropdown = fig.format_dropdown;\n",
       "    var format = format_dropdown.options[format_dropdown.selectedIndex].value;\n",
       "    fig.ondownload(fig, format);\n",
       "}\n",
       "\n",
       "\n",
       "mpl.figure.prototype.handle_resize = function(fig, msg) {\n",
       "    var size = msg['size'];\n",
       "    if (size[0] != fig.canvas.width || size[1] != fig.canvas.height) {\n",
       "        fig._resize_canvas(size[0], size[1]);\n",
       "        fig.send_message(\"refresh\", {});\n",
       "    };\n",
       "}\n",
       "\n",
       "mpl.figure.prototype.handle_rubberband = function(fig, msg) {\n",
       "    var x0 = msg['x0'] / mpl.ratio;\n",
       "    var y0 = (fig.canvas.height - msg['y0']) / mpl.ratio;\n",
       "    var x1 = msg['x1'] / mpl.ratio;\n",
       "    var y1 = (fig.canvas.height - msg['y1']) / mpl.ratio;\n",
       "    x0 = Math.floor(x0) + 0.5;\n",
       "    y0 = Math.floor(y0) + 0.5;\n",
       "    x1 = Math.floor(x1) + 0.5;\n",
       "    y1 = Math.floor(y1) + 0.5;\n",
       "    var min_x = Math.min(x0, x1);\n",
       "    var min_y = Math.min(y0, y1);\n",
       "    var width = Math.abs(x1 - x0);\n",
       "    var height = Math.abs(y1 - y0);\n",
       "\n",
       "    fig.rubberband_context.clearRect(\n",
       "        0, 0, fig.canvas.width, fig.canvas.height);\n",
       "\n",
       "    fig.rubberband_context.strokeRect(min_x, min_y, width, height);\n",
       "}\n",
       "\n",
       "mpl.figure.prototype.handle_figure_label = function(fig, msg) {\n",
       "    // Updates the figure title.\n",
       "    fig.header.textContent = msg['label'];\n",
       "}\n",
       "\n",
       "mpl.figure.prototype.handle_cursor = function(fig, msg) {\n",
       "    var cursor = msg['cursor'];\n",
       "    switch(cursor)\n",
       "    {\n",
       "    case 0:\n",
       "        cursor = 'pointer';\n",
       "        break;\n",
       "    case 1:\n",
       "        cursor = 'default';\n",
       "        break;\n",
       "    case 2:\n",
       "        cursor = 'crosshair';\n",
       "        break;\n",
       "    case 3:\n",
       "        cursor = 'move';\n",
       "        break;\n",
       "    }\n",
       "    fig.rubberband_canvas.style.cursor = cursor;\n",
       "}\n",
       "\n",
       "mpl.figure.prototype.handle_message = function(fig, msg) {\n",
       "    fig.message.textContent = msg['message'];\n",
       "}\n",
       "\n",
       "mpl.figure.prototype.handle_draw = function(fig, msg) {\n",
       "    // Request the server to send over a new figure.\n",
       "    fig.send_draw_message();\n",
       "}\n",
       "\n",
       "mpl.figure.prototype.handle_image_mode = function(fig, msg) {\n",
       "    fig.image_mode = msg['mode'];\n",
       "}\n",
       "\n",
       "mpl.figure.prototype.updated_canvas_event = function() {\n",
       "    // Called whenever the canvas gets updated.\n",
       "    this.send_message(\"ack\", {});\n",
       "}\n",
       "\n",
       "// A function to construct a web socket function for onmessage handling.\n",
       "// Called in the figure constructor.\n",
       "mpl.figure.prototype._make_on_message_function = function(fig) {\n",
       "    return function socket_on_message(evt) {\n",
       "        if (evt.data instanceof Blob) {\n",
       "            /* FIXME: We get \"Resource interpreted as Image but\n",
       "             * transferred with MIME type text/plain:\" errors on\n",
       "             * Chrome.  But how to set the MIME type?  It doesn't seem\n",
       "             * to be part of the websocket stream */\n",
       "            evt.data.type = \"image/png\";\n",
       "\n",
       "            /* Free the memory for the previous frames */\n",
       "            if (fig.imageObj.src) {\n",
       "                (window.URL || window.webkitURL).revokeObjectURL(\n",
       "                    fig.imageObj.src);\n",
       "            }\n",
       "\n",
       "            fig.imageObj.src = (window.URL || window.webkitURL).createObjectURL(\n",
       "                evt.data);\n",
       "            fig.updated_canvas_event();\n",
       "            fig.waiting = false;\n",
       "            return;\n",
       "        }\n",
       "        else if (typeof evt.data === 'string' && evt.data.slice(0, 21) == \"data:image/png;base64\") {\n",
       "            fig.imageObj.src = evt.data;\n",
       "            fig.updated_canvas_event();\n",
       "            fig.waiting = false;\n",
       "            return;\n",
       "        }\n",
       "\n",
       "        var msg = JSON.parse(evt.data);\n",
       "        var msg_type = msg['type'];\n",
       "\n",
       "        // Call the  \"handle_{type}\" callback, which takes\n",
       "        // the figure and JSON message as its only arguments.\n",
       "        try {\n",
       "            var callback = fig[\"handle_\" + msg_type];\n",
       "        } catch (e) {\n",
       "            console.log(\"No handler for the '\" + msg_type + \"' message type: \", msg);\n",
       "            return;\n",
       "        }\n",
       "\n",
       "        if (callback) {\n",
       "            try {\n",
       "                // console.log(\"Handling '\" + msg_type + \"' message: \", msg);\n",
       "                callback(fig, msg);\n",
       "            } catch (e) {\n",
       "                console.log(\"Exception inside the 'handler_\" + msg_type + \"' callback:\", e, e.stack, msg);\n",
       "            }\n",
       "        }\n",
       "    };\n",
       "}\n",
       "\n",
       "// from http://stackoverflow.com/questions/1114465/getting-mouse-location-in-canvas\n",
       "mpl.findpos = function(e) {\n",
       "    //this section is from http://www.quirksmode.org/js/events_properties.html\n",
       "    var targ;\n",
       "    if (!e)\n",
       "        e = window.event;\n",
       "    if (e.target)\n",
       "        targ = e.target;\n",
       "    else if (e.srcElement)\n",
       "        targ = e.srcElement;\n",
       "    if (targ.nodeType == 3) // defeat Safari bug\n",
       "        targ = targ.parentNode;\n",
       "\n",
       "    // jQuery normalizes the pageX and pageY\n",
       "    // pageX,Y are the mouse positions relative to the document\n",
       "    // offset() returns the position of the element relative to the document\n",
       "    var x = e.pageX - $(targ).offset().left;\n",
       "    var y = e.pageY - $(targ).offset().top;\n",
       "\n",
       "    return {\"x\": x, \"y\": y};\n",
       "};\n",
       "\n",
       "/*\n",
       " * return a copy of an object with only non-object keys\n",
       " * we need this to avoid circular references\n",
       " * http://stackoverflow.com/a/24161582/3208463\n",
       " */\n",
       "function simpleKeys (original) {\n",
       "  return Object.keys(original).reduce(function (obj, key) {\n",
       "    if (typeof original[key] !== 'object')\n",
       "        obj[key] = original[key]\n",
       "    return obj;\n",
       "  }, {});\n",
       "}\n",
       "\n",
       "mpl.figure.prototype.mouse_event = function(event, name) {\n",
       "    var canvas_pos = mpl.findpos(event)\n",
       "\n",
       "    if (name === 'button_press')\n",
       "    {\n",
       "        this.canvas.focus();\n",
       "        this.canvas_div.focus();\n",
       "    }\n",
       "\n",
       "    var x = canvas_pos.x * mpl.ratio;\n",
       "    var y = canvas_pos.y * mpl.ratio;\n",
       "\n",
       "    this.send_message(name, {x: x, y: y, button: event.button,\n",
       "                             step: event.step,\n",
       "                             guiEvent: simpleKeys(event)});\n",
       "\n",
       "    /* This prevents the web browser from automatically changing to\n",
       "     * the text insertion cursor when the button is pressed.  We want\n",
       "     * to control all of the cursor setting manually through the\n",
       "     * 'cursor' event from matplotlib */\n",
       "    event.preventDefault();\n",
       "    return false;\n",
       "}\n",
       "\n",
       "mpl.figure.prototype._key_event_extra = function(event, name) {\n",
       "    // Handle any extra behaviour associated with a key event\n",
       "}\n",
       "\n",
       "mpl.figure.prototype.key_event = function(event, name) {\n",
       "\n",
       "    // Prevent repeat events\n",
       "    if (name == 'key_press')\n",
       "    {\n",
       "        if (event.which === this._key)\n",
       "            return;\n",
       "        else\n",
       "            this._key = event.which;\n",
       "    }\n",
       "    if (name == 'key_release')\n",
       "        this._key = null;\n",
       "\n",
       "    var value = '';\n",
       "    if (event.ctrlKey && event.which != 17)\n",
       "        value += \"ctrl+\";\n",
       "    if (event.altKey && event.which != 18)\n",
       "        value += \"alt+\";\n",
       "    if (event.shiftKey && event.which != 16)\n",
       "        value += \"shift+\";\n",
       "\n",
       "    value += 'k';\n",
       "    value += event.which.toString();\n",
       "\n",
       "    this._key_event_extra(event, name);\n",
       "\n",
       "    this.send_message(name, {key: value,\n",
       "                             guiEvent: simpleKeys(event)});\n",
       "    return false;\n",
       "}\n",
       "\n",
       "mpl.figure.prototype.toolbar_button_onclick = function(name) {\n",
       "    if (name == 'download') {\n",
       "        this.handle_save(this, null);\n",
       "    } else {\n",
       "        this.send_message(\"toolbar_button\", {name: name});\n",
       "    }\n",
       "};\n",
       "\n",
       "mpl.figure.prototype.toolbar_button_onmouseover = function(tooltip) {\n",
       "    this.message.textContent = tooltip;\n",
       "};\n",
       "mpl.toolbar_items = [[\"Home\", \"Reset original view\", \"fa fa-home icon-home\", \"home\"], [\"Back\", \"Back to  previous view\", \"fa fa-arrow-left icon-arrow-left\", \"back\"], [\"Forward\", \"Forward to next view\", \"fa fa-arrow-right icon-arrow-right\", \"forward\"], [\"\", \"\", \"\", \"\"], [\"Pan\", \"Pan axes with left mouse, zoom with right\", \"fa fa-arrows icon-move\", \"pan\"], [\"Zoom\", \"Zoom to rectangle\", \"fa fa-square-o icon-check-empty\", \"zoom\"], [\"\", \"\", \"\", \"\"], [\"Download\", \"Download plot\", \"fa fa-floppy-o icon-save\", \"download\"]];\n",
       "\n",
       "mpl.extensions = [\"eps\", \"pdf\", \"png\", \"ps\", \"raw\", \"svg\"];\n",
       "\n",
       "mpl.default_extension = \"png\";var comm_websocket_adapter = function(comm) {\n",
       "    // Create a \"websocket\"-like object which calls the given IPython comm\n",
       "    // object with the appropriate methods. Currently this is a non binary\n",
       "    // socket, so there is still some room for performance tuning.\n",
       "    var ws = {};\n",
       "\n",
       "    ws.close = function() {\n",
       "        comm.close()\n",
       "    };\n",
       "    ws.send = function(m) {\n",
       "        //console.log('sending', m);\n",
       "        comm.send(m);\n",
       "    };\n",
       "    // Register the callback with on_msg.\n",
       "    comm.on_msg(function(msg) {\n",
       "        //console.log('receiving', msg['content']['data'], msg);\n",
       "        // Pass the mpl event to the overriden (by mpl) onmessage function.\n",
       "        ws.onmessage(msg['content']['data'])\n",
       "    });\n",
       "    return ws;\n",
       "}\n",
       "\n",
       "mpl.mpl_figure_comm = function(comm, msg) {\n",
       "    // This is the function which gets called when the mpl process\n",
       "    // starts-up an IPython Comm through the \"matplotlib\" channel.\n",
       "\n",
       "    var id = msg.content.data.id;\n",
       "    // Get hold of the div created by the display call when the Comm\n",
       "    // socket was opened in Python.\n",
       "    var element = $(\"#\" + id);\n",
       "    var ws_proxy = comm_websocket_adapter(comm)\n",
       "\n",
       "    function ondownload(figure, format) {\n",
       "        window.open(figure.imageObj.src);\n",
       "    }\n",
       "\n",
       "    var fig = new mpl.figure(id, ws_proxy,\n",
       "                           ondownload,\n",
       "                           element.get(0));\n",
       "\n",
       "    // Call onopen now - mpl needs it, as it is assuming we've passed it a real\n",
       "    // web socket which is closed, not our websocket->open comm proxy.\n",
       "    ws_proxy.onopen();\n",
       "\n",
       "    fig.parent_element = element.get(0);\n",
       "    fig.cell_info = mpl.find_output_cell(\"<div id='\" + id + \"'></div>\");\n",
       "    if (!fig.cell_info) {\n",
       "        console.error(\"Failed to find cell for figure\", id, fig);\n",
       "        return;\n",
       "    }\n",
       "\n",
       "    var output_index = fig.cell_info[2]\n",
       "    var cell = fig.cell_info[0];\n",
       "\n",
       "};\n",
       "\n",
       "mpl.figure.prototype.handle_close = function(fig, msg) {\n",
       "    var width = fig.canvas.width/mpl.ratio\n",
       "    fig.root.unbind('remove')\n",
       "\n",
       "    // Update the output cell to use the data from the current canvas.\n",
       "    fig.push_to_output();\n",
       "    var dataURL = fig.canvas.toDataURL();\n",
       "    // Re-enable the keyboard manager in IPython - without this line, in FF,\n",
       "    // the notebook keyboard shortcuts fail.\n",
       "    IPython.keyboard_manager.enable()\n",
       "    $(fig.parent_element).html('<img src=\"' + dataURL + '\" width=\"' + width + '\">');\n",
       "    fig.close_ws(fig, msg);\n",
       "}\n",
       "\n",
       "mpl.figure.prototype.close_ws = function(fig, msg){\n",
       "    fig.send_message('closing', msg);\n",
       "    // fig.ws.close()\n",
       "}\n",
       "\n",
       "mpl.figure.prototype.push_to_output = function(remove_interactive) {\n",
       "    // Turn the data on the canvas into data in the output cell.\n",
       "    var width = this.canvas.width/mpl.ratio\n",
       "    var dataURL = this.canvas.toDataURL();\n",
       "    this.cell_info[1]['text/html'] = '<img src=\"' + dataURL + '\" width=\"' + width + '\">';\n",
       "}\n",
       "\n",
       "mpl.figure.prototype.updated_canvas_event = function() {\n",
       "    // Tell IPython that the notebook contents must change.\n",
       "    IPython.notebook.set_dirty(true);\n",
       "    this.send_message(\"ack\", {});\n",
       "    var fig = this;\n",
       "    // Wait a second, then push the new image to the DOM so\n",
       "    // that it is saved nicely (might be nice to debounce this).\n",
       "    setTimeout(function () { fig.push_to_output() }, 1000);\n",
       "}\n",
       "\n",
       "mpl.figure.prototype._init_toolbar = function() {\n",
       "    var fig = this;\n",
       "\n",
       "    var nav_element = $('<div/>')\n",
       "    nav_element.attr('style', 'width: 100%');\n",
       "    this.root.append(nav_element);\n",
       "\n",
       "    // Define a callback function for later on.\n",
       "    function toolbar_event(event) {\n",
       "        return fig.toolbar_button_onclick(event['data']);\n",
       "    }\n",
       "    function toolbar_mouse_event(event) {\n",
       "        return fig.toolbar_button_onmouseover(event['data']);\n",
       "    }\n",
       "\n",
       "    for(var toolbar_ind in mpl.toolbar_items){\n",
       "        var name = mpl.toolbar_items[toolbar_ind][0];\n",
       "        var tooltip = mpl.toolbar_items[toolbar_ind][1];\n",
       "        var image = mpl.toolbar_items[toolbar_ind][2];\n",
       "        var method_name = mpl.toolbar_items[toolbar_ind][3];\n",
       "\n",
       "        if (!name) { continue; };\n",
       "\n",
       "        var button = $('<button class=\"btn btn-default\" href=\"#\" title=\"' + name + '\"><i class=\"fa ' + image + ' fa-lg\"></i></button>');\n",
       "        button.click(method_name, toolbar_event);\n",
       "        button.mouseover(tooltip, toolbar_mouse_event);\n",
       "        nav_element.append(button);\n",
       "    }\n",
       "\n",
       "    // Add the status bar.\n",
       "    var status_bar = $('<span class=\"mpl-message\" style=\"text-align:right; float: right;\"/>');\n",
       "    nav_element.append(status_bar);\n",
       "    this.message = status_bar[0];\n",
       "\n",
       "    // Add the close button to the window.\n",
       "    var buttongrp = $('<div class=\"btn-group inline pull-right\"></div>');\n",
       "    var button = $('<button class=\"btn btn-mini btn-primary\" href=\"#\" title=\"Stop Interaction\"><i class=\"fa fa-power-off icon-remove icon-large\"></i></button>');\n",
       "    button.click(function (evt) { fig.handle_close(fig, {}); } );\n",
       "    button.mouseover('Stop Interaction', toolbar_mouse_event);\n",
       "    buttongrp.append(button);\n",
       "    var titlebar = this.root.find($('.ui-dialog-titlebar'));\n",
       "    titlebar.prepend(buttongrp);\n",
       "}\n",
       "\n",
       "mpl.figure.prototype._root_extra_style = function(el){\n",
       "    var fig = this\n",
       "    el.on(\"remove\", function(){\n",
       "\tfig.close_ws(fig, {});\n",
       "    });\n",
       "}\n",
       "\n",
       "mpl.figure.prototype._canvas_extra_style = function(el){\n",
       "    // this is important to make the div 'focusable\n",
       "    el.attr('tabindex', 0)\n",
       "    // reach out to IPython and tell the keyboard manager to turn it's self\n",
       "    // off when our div gets focus\n",
       "\n",
       "    // location in version 3\n",
       "    if (IPython.notebook.keyboard_manager) {\n",
       "        IPython.notebook.keyboard_manager.register_events(el);\n",
       "    }\n",
       "    else {\n",
       "        // location in version 2\n",
       "        IPython.keyboard_manager.register_events(el);\n",
       "    }\n",
       "\n",
       "}\n",
       "\n",
       "mpl.figure.prototype._key_event_extra = function(event, name) {\n",
       "    var manager = IPython.notebook.keyboard_manager;\n",
       "    if (!manager)\n",
       "        manager = IPython.keyboard_manager;\n",
       "\n",
       "    // Check for shift+enter\n",
       "    if (event.shiftKey && event.which == 13) {\n",
       "        this.canvas_div.blur();\n",
       "        // select the cell after this one\n",
       "        var index = IPython.notebook.find_cell_index(this.cell_info[0]);\n",
       "        IPython.notebook.select(index + 1);\n",
       "    }\n",
       "}\n",
       "\n",
       "mpl.figure.prototype.handle_save = function(fig, msg) {\n",
       "    fig.ondownload(fig, null);\n",
       "}\n",
       "\n",
       "\n",
       "mpl.find_output_cell = function(html_output) {\n",
       "    // Return the cell and output element which can be found *uniquely* in the notebook.\n",
       "    // Note - this is a bit hacky, but it is done because the \"notebook_saving.Notebook\"\n",
       "    // IPython event is triggered only after the cells have been serialised, which for\n",
       "    // our purposes (turning an active figure into a static one), is too late.\n",
       "    var cells = IPython.notebook.get_cells();\n",
       "    var ncells = cells.length;\n",
       "    for (var i=0; i<ncells; i++) {\n",
       "        var cell = cells[i];\n",
       "        if (cell.cell_type === 'code'){\n",
       "            for (var j=0; j<cell.output_area.outputs.length; j++) {\n",
       "                var data = cell.output_area.outputs[j];\n",
       "                if (data.data) {\n",
       "                    // IPython >= 3 moved mimebundle to data attribute of output\n",
       "                    data = data.data;\n",
       "                }\n",
       "                if (data['text/html'] == html_output) {\n",
       "                    return [cell, data, j];\n",
       "                }\n",
       "            }\n",
       "        }\n",
       "    }\n",
       "}\n",
       "\n",
       "// Register the function which deals with the matplotlib target/channel.\n",
       "// The kernel may be null if the page has been refreshed.\n",
       "if (IPython.notebook.kernel != null) {\n",
       "    IPython.notebook.kernel.comm_manager.register_target('matplotlib', mpl.mpl_figure_comm);\n",
       "}\n"
      ],
      "text/plain": [
       "<IPython.core.display.Javascript object>"
      ]
     },
     "metadata": {},
     "output_type": "display_data"
    },
    {
     "data": {
      "text/html": [
       "<img src=\"data:image/png;base64,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\" width=\"900\">"
      ],
      "text/plain": [
       "<IPython.core.display.HTML object>"
      ]
     },
     "metadata": {},
     "output_type": "display_data"
    }
   ],
   "source": [
    "xlist = range(0, len(dkls))\n",
    "\n",
    "fig, (axprec, axmd, ax1, ax2, ax3, axtot) = plt.subplots(6, sharex=True, figsize=(9,12))\n",
    "\n",
    "fig.suptitle(\"D_KL term in Equation (2) across rounds\")\n",
    "\n",
    "axprec.set_ylabel(\"log(det P)\")\n",
    "axprec.plot(xlist, precs)\n",
    "\n",
    "axmd.set_ylabel(\"Difference in means\")\n",
    "for md in mdiffs:\n",
    "    axmd.plot(xlist, md)\n",
    "\n",
    "ax1.set_ylabel(\"Term (1)\")\n",
    "ax1.plot(xlist, dkl1s)\n",
    "\n",
    "ax2.set_ylabel(\"Term (2)\")\n",
    "ax2.plot(xlist, dkl2s)\n",
    "\n",
    "ax3.set_ylabel(\"Term (3)\")\n",
    "ax3.plot(xlist, dkl3s)\n",
    "\n",
    "axtot.set_ylabel(\"Total D_KL\")\n",
    "axtot.plot(xlist, dkls)\n",
    "axtot.set_xlabel(\"Rounds\")\n",
    "\n",
    "plt.show()"
   ]
  }
 ],
 "metadata": {
  "anaconda-cloud": {},
  "kernelspec": {
   "display_name": "Python 3",
   "language": "python",
   "name": "python3"
  },
  "language_info": {
   "codemirror_mode": {
    "name": "ipython",
    "version": 3
   },
   "file_extension": ".py",
   "mimetype": "text/x-python",
   "name": "python",
   "nbconvert_exporter": "python",
   "pygments_lexer": "ipython3",
   "version": "3.6.1"
  }
 },
 "nbformat": 4,
 "nbformat_minor": 2
}
