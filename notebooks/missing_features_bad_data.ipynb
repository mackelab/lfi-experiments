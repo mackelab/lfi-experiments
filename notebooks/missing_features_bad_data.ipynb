{
 "cells": [
  {
   "cell_type": "markdown",
   "metadata": {},
   "source": [
    "## Missing features and unphysiological parameter regimes"
   ]
  },
  {
   "cell_type": "code",
   "execution_count": 1,
   "metadata": {
    "collapsed": true
   },
   "outputs": [],
   "source": [
    "%matplotlib inline\n",
    "from __future__ import division\n",
    "import numpy as np\n",
    "import matplotlib as mpl\n",
    "import matplotlib.pyplot as plt\n",
    "from mpl_toolkits.axes_grid1 import make_axes_locatable\n",
    "\n",
    "import likelihoodfree.io as io\n",
    "import likelihoodfree.viz as viz\n",
    "import likelihoodfree.PDF as lfpdf\n",
    "import os\n",
    "\n",
    "from lfmods.hh import HHSimulator\n",
    "\n",
    "# colors\n",
    "col_original = (35/255,86/255,167/255)"
   ]
  },
  {
   "cell_type": "markdown",
   "metadata": {},
   "source": [
    "## Set up the HH simulator"
   ]
  },
  {
   "cell_type": "code",
   "execution_count": 2,
   "metadata": {
    "collapsed": false
   },
   "outputs": [],
   "source": [
    "sim = HHSimulator(seed=100,pilot_samples=0.,cached_sims=False, cached_pilot=False)\n",
    "\n",
    "###############################################################################\n",
    "# ground-truth parameters\n",
    "true_params = sim.true_params\n",
    "n_params = sim.n_params\n",
    "\n",
    "init = sim.init\n",
    "\n",
    "###############################################################################\n",
    "# time\n",
    "t = sim.t\n",
    "dt = sim.dt\n",
    "duration = np.max(t)\n",
    "\n",
    "###############################################################################\n",
    "# input\n",
    "I = sim.I_obs\n",
    "\n",
    "###############################################################################\n",
    "# prior over parameters\n",
    "sim_prior = sim.sim_prior\n",
    "sim_prior()\n",
    "prior_min = sim.prior_min\n",
    "prior_max = sim.prior_max\n",
    "\n",
    "###############################################################################\n",
    "# if parameters in transformed space, inverse transform function\n",
    "param_invtransform = sim.param_invtransform\n",
    "\n",
    "###############################################################################\n",
    "# simulator\n",
    "bm = sim.bm"
   ]
  },
  {
   "cell_type": "markdown",
   "metadata": {},
   "source": [
    "## Unphysiological parameter regimes"
   ]
  },
  {
   "cell_type": "code",
   "execution_count": 3,
   "metadata": {
    "collapsed": false
   },
   "outputs": [
    {
     "name": "stderr",
     "output_type": "stream",
     "text": [
      "/Users/pedro/Documents/repos/likelihoodfree-models/lfmods/hh_bm.py:166: RuntimeWarning: overflow encountered in double_scalars\n",
      "  I_K = (n[i-1]**4)*gbar_K*(V[i-1]-E_K)\n",
      "/Users/pedro/Documents/repos/likelihoodfree-models/lfmods/hh_bm.py:79: RuntimeWarning: overflow encountered in exp\n",
      "  return 0.28*v1 / (np.exp(0.2*v1)-1.)\n",
      "/Users/pedro/Documents/repos/likelihoodfree-models/lfmods/hh_bm.py:105: RuntimeWarning: overflow encountered in exp\n",
      "  return tau_max/(3.3*np.exp(0.05*v1) + np.exp(-0.05*v1))\n",
      "/Users/pedro/Documents/repos/likelihoodfree-models/lfmods/hh_bm.py:178: RuntimeWarning: divide by zero encountered in double_scalars\n",
      "  p[i] = p[i-1] + tstep*(p_inf(V[i-1])-p[i-1])/tau_p(V[i-1])\n",
      "/Users/pedro/Documents/repos/likelihoodfree-models/lfmods/hh_bm.py:174: RuntimeWarning: invalid value encountered in double_scalars\n",
      "  V[i] = V[i-1] + tstep*(I_ion + nois_fact*self.rng.randn()/(tstep**0.5))/C\n",
      "/Users/pedro/Documents/repos/likelihoodfree-models/lfmods/hh_bm.py:92: RuntimeWarning: invalid value encountered in double_scalars\n",
      "  return -0.032*v1 / (np.exp(-0.2 * v1) - 1)\n",
      "/Users/pedro/Documents/repos/likelihoodfree-models/lfmods/hh_bm.py:75: RuntimeWarning: invalid value encountered in double_scalars\n",
      "  return -0.32*v1 / (np.exp(-0.25*v1) - 1.)\n",
      "/Users/pedro/Documents/repos/likelihoodfree-models/lfmods/hh_bm.py:178: RuntimeWarning: invalid value encountered in double_scalars\n",
      "  p[i] = p[i-1] + tstep*(p_inf(V[i-1])-p[i-1])/tau_p(V[i-1])\n"
     ]
    },
    {
     "data": {
      "image/png": "[encoded data removed]",
      "text/plain": [
       "<matplotlib.figure.Figure at 0x10f423ef0>"
      ]
     },
     "metadata": {},
     "output_type": "display_data"
    }
   ],
   "source": [
    "# simulate\n",
    "fact = 0.2\n",
    "new_prior_min = fact*prior_min\n",
    "new_prior_max = fact*prior_max\n",
    "np.random.seed(123)\n",
    "z = np.random.rand(n_params)\n",
    "params = param_invtransform( np.multiply(new_prior_max - new_prior_min,z) + new_prior_min )\n",
    "hh = bm.HH(init, params.reshape(1,-1),seed=230)\n",
    "states = hh.sim_time(dt, t, I)[:,0]\n",
    "\n",
    "# plot\n",
    "fig = plt.figure()\n",
    "\n",
    "gs = mpl.gridspec.GridSpec(2, 1, height_ratios=[4, 1])\n",
    "ax = plt.subplot(gs[0])\n",
    "plt.plot(t, states, color = col_original, lw=3)\n",
    "plt.ylabel('voltage (mV)')\n",
    "\n",
    "ax.set_xlim([0, duration])\n",
    "ax.set_xticks([])\n",
    "\n",
    "ax = plt.subplot(gs[1])\n",
    "plt.plot(t,I,'r', lw=3)\n",
    "plt.xlabel('time (ms)')\n",
    "plt.ylabel('input (mA)')\n",
    "\n",
    "ax.set_xlim([0, duration])\n",
    "ax.set_xticks([0, duration/2, duration])\n",
    "ax.set_yticks([0, 1.1*np.max(I)])\n",
    "ax.yaxis.set_major_formatter(mpl.ticker.FormatStrFormatter('%.1f'))\n",
    "\n",
    "plt.tight_layout()"
   ]
  },
  {
   "cell_type": "markdown",
   "metadata": {},
   "source": [
    "## Missing features"
   ]
  },
  {
   "cell_type": "code",
   "execution_count": 4,
   "metadata": {
    "collapsed": false
   },
   "outputs": [
    {
     "data": {
      "image/png": "[encoded data removed]",
      "text/plain": [
       "<matplotlib.figure.Figure at 0x10f423f60>"
      ]
     },
     "metadata": {},
     "output_type": "display_data"
    }
   ],
   "source": [
    "# simulate\n",
    "fact = .9\n",
    "new_prior_min = fact*prior_min\n",
    "new_prior_max = fact*prior_max\n",
    "np.random.seed(123)\n",
    "z = np.random.rand(n_params)\n",
    "params = param_invtransform( np.multiply(new_prior_max - new_prior_min,z) + new_prior_min )\n",
    "hh = bm.HH(init, params.reshape(1,-1),seed=230)\n",
    "states = hh.sim_time(dt, t, I)[:,0]\n",
    "\n",
    "# plot\n",
    "fig = plt.figure()\n",
    "\n",
    "gs = mpl.gridspec.GridSpec(2, 1, height_ratios=[4, 1])\n",
    "ax = plt.subplot(gs[0])\n",
    "plt.plot(t, states, color = col_original, lw=3)\n",
    "plt.ylabel('voltage (mV)')\n",
    "\n",
    "ax.set_xlim([0, duration])\n",
    "ax.set_xticks([])\n",
    "ax.set_yticks([-80, -20, 40])\n",
    "\n",
    "ax = plt.subplot(gs[1])\n",
    "plt.plot(t,I,'r', lw=3)\n",
    "plt.xlabel('time (ms)')\n",
    "plt.ylabel('input (mA)')\n",
    "\n",
    "ax.set_xlim([0, duration])\n",
    "ax.set_xticks([0, duration/2, duration])\n",
    "ax.set_yticks([0, 1.1*np.max(I)])\n",
    "ax.yaxis.set_major_formatter(mpl.ticker.FormatStrFormatter('%.1f'))\n",
    "\n",
    "plt.tight_layout()"
   ]
  },
  {
   "cell_type": "code",
   "execution_count": null,
   "metadata": {
    "collapsed": true
   },
   "outputs": [],
   "source": []
  }
 ],
 "metadata": {
  "anaconda-cloud": {},
  "kernelspec": {
   "display_name": "Python [Root]",
   "language": "python",
   "name": "Python [Root]"
  },
  "language_info": {
   "codemirror_mode": {
    "name": "ipython",
    "version": 3
   },
   "file_extension": ".py",
   "mimetype": "text/x-python",
   "name": "python",
   "nbconvert_exporter": "python",
   "pygments_lexer": "ipython3",
   "version": "3.5.3"
  }
 },
 "nbformat": 4,
 "nbformat_minor": 0
}
