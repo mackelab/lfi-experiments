{
 "cells": [
  {
   "cell_type": "markdown",
   "metadata": {},
   "source": [
    "# Mixture of Gaussians"
   ]
  },
  {
   "cell_type": "code",
   "execution_count": null,
   "metadata": {},
   "outputs": [],
   "source": [
    "%matplotlib inline\n",
    "import matplotlib.pyplot as plt\n",
    "import numpy as np\n",
    "\n",
    "from scipy.stats import multivariate_normal"
   ]
  },
  {
   "cell_type": "markdown",
   "metadata": {},
   "source": [
    "## Plotting with matplotlib"
   ]
  },
  {
   "cell_type": "code",
   "execution_count": null,
   "metadata": {},
   "outputs": [],
   "source": [
    "dim = 2\n",
    "sigmas = np.stack([np.eye(dim) for d in range(2)])\n",
    "sigmas[1:] *= 5.0\n",
    "\n",
    "x, y = np.mgrid[-7:7:.1, \n",
    "                -7:7:.1]\n",
    "pos = np.dstack((x, y))\n",
    "\n",
    "rv0 = multivariate_normal([0.0, 0.0], \n",
    "                          [[0.5, 0.0], \n",
    "                           [0.0, 0.5]])\n",
    "rv1 = multivariate_normal([0.0, 0.0], \n",
    "                          [[4.0, 0.0], \n",
    "                           [0.0, 4.0]])\n",
    "rv2 = multivariate_normal([2.5, 2.5], \n",
    "                          [[0.5, 0.0], \n",
    "                           [0.0, 0.5]])\n",
    "alphas = np.array([0.25, 0.25, 0.5])\n",
    "\n",
    "pdf = alphas[0]*rv0.pdf(pos) + alphas[1]*rv1.pdf(pos) + alphas[2]*rv2.pdf(pos)\n",
    "\n",
    "plt.figure()\n",
    "CS = plt.contour(x, y, pdf)\n",
    "#plt.clabel(CS, inline=1)\n",
    "plt.axis('off')\n",
    "plt.show()\n",
    "\n",
    "plt.plot(pdf.sum(axis=0))\n",
    "plt.axis('off')\n",
    "plt.show()"
   ]
  },
  {
   "cell_type": "markdown",
   "metadata": {},
   "source": [
    "## Plotting in 3D with plotly"
   ]
  },
  {
   "cell_type": "code",
   "execution_count": null,
   "metadata": {},
   "outputs": [],
   "source": [
    "import plotly.graph_objs as pgo\n",
    "import plotly.offline as pof\n",
    "pof.init_notebook_mode()"
   ]
  },
  {
   "cell_type": "code",
   "execution_count": null,
   "metadata": {},
   "outputs": [],
   "source": [
    "pof.iplot([pgo.Surface(x=x, y=y, z=pdf)])"
   ]
  }
 ],
 "metadata": {
  "kernelspec": {
   "display_name": "Python 3",
   "language": "python",
   "name": "python3"
  },
  "language_info": {
   "codemirror_mode": {
    "name": "ipython",
    "version": 3
   },
   "file_extension": ".py",
   "mimetype": "text/x-python",
   "name": "python",
   "nbconvert_exporter": "python",
   "pygments_lexer": "ipython3",
   "version": "3.6.0"
  }
 },
 "nbformat": 4,
 "nbformat_minor": 2
}
