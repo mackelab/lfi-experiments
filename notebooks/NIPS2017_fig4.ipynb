{
 "cells": [
  {
   "cell_type": "markdown",
   "metadata": {},
   "source": [
    "# NIPS 2017 Figure 4"
   ]
  },
  {
   "cell_type": "code",
   "execution_count": null,
   "metadata": {},
   "outputs": [],
   "source": [
    "%run -i NIPS2017.ipynb\n",
    "\n",
    "# FIGURE and GRID\n",
    "FIG_HEIGHT_MM = 65\n",
    "FIG_WIDTH_MM = FIG_WIDTH_MM  # set in NIPS2017 notebook to a default value for all figures\n",
    "FIG_N_ROWS = 2\n",
    "ROW_1_NCOLS = 3\n",
    "ROW_1_HEIGHT_MM = FIG_HEIGHT_MM / FIG_N_ROWS\n",
    "ROW_1_WIDTH_COL_1_MM = FIG_WIDTH_MM / ROW_1_NCOLS\n",
    "ROW_1_WIDTH_COL_2_MM = FIG_WIDTH_MM / ROW_1_NCOLS\n",
    "ROW_1_WIDTH_COL_3_MM = FIG_WIDTH_MM / ROW_1_NCOLS\n",
    "ROW_2_NCOLS = 3\n",
    "ROW_2_HEIGHT_MM = FIG_HEIGHT_MM / FIG_N_ROWS\n",
    "ROW_2_WIDTH_COL_1_MM = FIG_WIDTH_MM / ROW_2_NCOLS\n",
    "ROW_2_WIDTH_COL_2_MM = FIG_WIDTH_MM / ROW_2_NCOLS\n",
    "ROW_2_WIDTH_COL_3_MM = FIG_WIDTH_MM / ROW_2_NCOLS\n",
    "\n",
    "# PATHS\n",
    "PANEL_A = PATH_DROPBOX_FIGS + 'fig4_a.svg'\n",
    "PANEL_B = PATH_DROPBOX_FIGS + 'fig4_b.svg'\n",
    "PANEL_C = PATH_DROPBOX_FIGS + 'fig4_c.svg'\n",
    "PANEL_D = PATH_DROPBOX_FIGS + 'fig4_d.svg'\n",
    "PANEL_E = PATH_DROPBOX_FIGS + 'fig4_e.svg'\n",
    "PANEL_F = PATH_DROPBOX_FIGS + 'fig4_f.svg'"
   ]
  },
  {
   "cell_type": "markdown",
   "metadata": {},
   "source": [
    "## Row 1"
   ]
  },
  {
   "cell_type": "markdown",
   "metadata": {},
   "source": [
    "Generate and load data"
   ]
  },
  {
   "cell_type": "code",
   "execution_count": null,
   "metadata": {},
   "outputs": [],
   "source": [
    "from lfmods.hh import HHSimulator\n",
    "\n",
    "sim = HHSimulator(seed=100,pilot_samples=0.,cached_sims=False, cached_pilot=False)\n",
    "\n",
    "# ground-truth parameters\n",
    "true_params = sim.true_params\n",
    "n_params = sim.n_params\n",
    "\n",
    "init = sim.init\n",
    "t = sim.t\n",
    "dt = sim.dt\n",
    "duration = np.max(t)\n",
    "I = sim.I_obs\n",
    "\n",
    "# prior over parameters\n",
    "sim_prior = sim.sim_prior\n",
    "sim_prior()\n",
    "prior_min = sim.prior_min\n",
    "prior_max = sim.prior_max\n",
    "\n",
    "# if parameters in transformed space, inverse transform function\n",
    "param_invtransform = sim.param_invtransform\n",
    "\n",
    "bm = sim.bm\n",
    "\n",
    "# simulate\n",
    "fact = 0.2\n",
    "new_prior_min = fact*prior_min\n",
    "new_prior_max = fact*prior_max\n",
    "np.random.seed(123)\n",
    "z = np.random.rand(n_params)\n",
    "params = param_invtransform( np.multiply(new_prior_max - new_prior_min,z) + new_prior_min )\n",
    "hh = bm.HH(init, params.reshape(1,-1),seed=230)\n",
    "states_bd = hh.sim_time(dt, t, I)[:,0]"
   ]
  },
  {
   "cell_type": "markdown",
   "metadata": {},
   "source": [
    "### Panel A"
   ]
  },
  {
   "cell_type": "code",
   "execution_count": null,
   "metadata": {},
   "outputs": [],
   "source": [
    "fig_inches = (SCALE_IN*mm2inches(ROW_1_WIDTH_COL_1_MM), SCALE_IN*mm2inches(ROW_1_HEIGHT_MM))\n",
    "\n",
    "with mpl.rc_context(fname=MPL_RC):\n",
    "    fig = plt.figure(figsize=fig_inches)\n",
    "\n",
    "    gs = mpl.gridspec.GridSpec(2, 1, height_ratios=[4, 1])\n",
    "    ax = plt.subplot(gs[0])\n",
    "    plt.plot(t, states_bd, color=COL['GT'], lw=3)\n",
    "    plt.ylabel('voltage (mV)')\n",
    "\n",
    "    ax.set_xlim([0, duration])\n",
    "    ax.set_xticks([])\n",
    "\n",
    "    ax = plt.subplot(gs[1])\n",
    "    plt.plot(t,I,'r', lw=3)\n",
    "    plt.xlabel('')\n",
    "    plt.ylabel('input (mA)')\n",
    "\n",
    "    ax.set_xlim([0, duration])\n",
    "    ax.set_xticks([0, duration/2, duration])\n",
    "    ax.set_yticks([0, 1.1*np.max(I)])\n",
    "    ax.yaxis.set_major_formatter(mpl.ticker.FormatStrFormatter('%.1f'))\n",
    "    ax.xaxis.set_major_formatter(mpl.ticker.FormatStrFormatter('%d ms'))\n",
    "\n",
    "    plt.savefig(PANEL_A, facecolor=plt.gcf().get_facecolor(), transparent=True)  # the figure is saved as svg\n",
    "\n",
    "svg(PANEL_A)\n",
    "\n",
    "panel = st.fromfile(PANEL_A)\n",
    "width, height = panel.get_size()\n",
    "print('size of svg : {}'.format((width, height)))\n",
    "print('aspect ratio : {}'.format(get_num(width) / get_num(height)))\n",
    "print('desired ratio : {}'.format(ROW_1_WIDTH_COL_1_MM / ROW_1_HEIGHT_MM))"
   ]
  },
  {
   "cell_type": "markdown",
   "metadata": {},
   "source": [
    "### Panel B"
   ]
  },
  {
   "cell_type": "code",
   "execution_count": null,
   "metadata": {},
   "outputs": [],
   "source": [
    "try:\n",
    "    svg(PANEL_B)\n",
    "except:\n",
    "    pass"
   ]
  },
  {
   "cell_type": "markdown",
   "metadata": {},
   "source": [
    "### Panel C"
   ]
  },
  {
   "cell_type": "code",
   "execution_count": null,
   "metadata": {},
   "outputs": [],
   "source": [
    "try:\n",
    "    svg(PANEL_C)\n",
    "except:\n",
    "    pass"
   ]
  },
  {
   "cell_type": "markdown",
   "metadata": {},
   "source": [
    "## Row 2"
   ]
  },
  {
   "cell_type": "code",
   "execution_count": null,
   "metadata": {},
   "outputs": [],
   "source": [
    "from lfmods.hh import HHSimulator\n",
    "\n",
    "sim = HHSimulator(seed=100,pilot_samples=0.,cached_sims=False, cached_pilot=False)\n",
    "\n",
    "# ground-truth parameters\n",
    "true_params = sim.true_params\n",
    "n_params = sim.n_params\n",
    "\n",
    "init = sim.init\n",
    "t = sim.t\n",
    "dt = sim.dt\n",
    "duration = np.max(t)\n",
    "I = sim.I_obs\n",
    "\n",
    "# prior over parameters\n",
    "sim_prior = sim.sim_prior\n",
    "sim_prior()\n",
    "prior_min = sim.prior_min\n",
    "prior_max = sim.prior_max\n",
    "\n",
    "# if parameters in transformed space, inverse transform function\n",
    "param_invtransform = sim.param_invtransform\n",
    "\n",
    "bm = sim.bm\n",
    "\n",
    "# simulate\n",
    "fact = .9\n",
    "new_prior_min = fact*prior_min\n",
    "new_prior_max = fact*prior_max\n",
    "np.random.seed(123)\n",
    "z = np.random.rand(n_params)\n",
    "params = param_invtransform( np.multiply(new_prior_max - new_prior_min,z) + new_prior_min )\n",
    "hh = bm.HH(init, params.reshape(1,-1),seed=230)\n",
    "states_mf = hh.sim_time(dt, t, I)[:,0]"
   ]
  },
  {
   "cell_type": "markdown",
   "metadata": {},
   "source": [
    "### Panel D"
   ]
  },
  {
   "cell_type": "code",
   "execution_count": null,
   "metadata": {},
   "outputs": [],
   "source": [
    "fig_inches = (SCALE_IN*mm2inches(ROW_2_WIDTH_COL_1_MM), SCALE_IN*mm2inches(ROW_2_HEIGHT_MM))\n",
    "\n",
    "with mpl.rc_context(fname=MPL_RC):\n",
    "    fig = plt.figure(figsize=fig_inches)\n",
    "\n",
    "    gs = mpl.gridspec.GridSpec(2, 1, height_ratios=[4, 1])\n",
    "    ax = plt.subplot(gs[0])\n",
    "    plt.plot(t, states_mf, color=COL['GT'], lw=3)\n",
    "    plt.ylabel('voltage (mV)')\n",
    "\n",
    "    ax.set_xlim([0, duration])\n",
    "    ax.set_xticks([])\n",
    "    ax.set_yticks([-80, -20, 40])\n",
    "\n",
    "    ax = plt.subplot(gs[1])\n",
    "    plt.plot(t,I,'r', lw=3)\n",
    "    plt.xlabel('')\n",
    "    plt.ylabel('input (mA)')\n",
    "\n",
    "    ax.set_xlim([0, duration])\n",
    "    ax.set_xticks([0, duration/2, duration])\n",
    "    ax.set_yticks([0, 1.1*np.max(I)])\n",
    "    ax.yaxis.set_major_formatter(mpl.ticker.FormatStrFormatter('%.1f'))\n",
    "    ax.xaxis.set_major_formatter(mpl.ticker.FormatStrFormatter('%d ms'))\n",
    "\n",
    "    plt.savefig(PANEL_D, facecolor=plt.gcf().get_facecolor(), transparent=True)  # the figure is saved as svg\n",
    "\n",
    "svg(PANEL_D)\n",
    "\n",
    "panel = st.fromfile(PANEL_D)\n",
    "width, height = panel.get_size()\n",
    "print('size of svg : {}'.format((width, height)))\n",
    "print('aspect ratio : {}'.format(get_num(width) / get_num(height)))\n",
    "print('desired ratio : {}'.format(ROW_1_WIDTH_COL_1_MM / ROW_1_HEIGHT_MM))"
   ]
  },
  {
   "cell_type": "markdown",
   "metadata": {},
   "source": [
    "### Panel E"
   ]
  },
  {
   "cell_type": "markdown",
   "metadata": {},
   "source": [
    "### Panel F"
   ]
  },
  {
   "cell_type": "markdown",
   "metadata": {},
   "source": [
    "## Compose figure"
   ]
  },
  {
   "cell_type": "code",
   "execution_count": null,
   "metadata": {},
   "outputs": [],
   "source": [
    "fig = create_fig(FIG_WIDTH_MM, FIG_HEIGHT_MM)\n",
    "\n",
    "if False:\n",
    "    fig = add_grid(fig, 2, 2)\n",
    "    fig = add_grid(fig, 160/3, 10, font_size_px=0.0001)\n",
    "\n",
    "yoffset = -1.2\n",
    "xoffset = -1.\n",
    "fig = add_svg(fig, PANEL_A, 0 + xoffset, 0 + yoffset)\n",
    "#fig = add_svg(fig, PANEL_B, ROW_1_WIDTH_COL_1_MM + xoffset, 0 + yoffset)\n",
    "#fig = add_svg(fig, PANEL_C, ROW_1_WIDTH_COL_1_MM + ROW_1_WIDTH_COL_2_MM + xoffset, 0 + yoffset)\n",
    "fig = add_svg(fig, PANEL_D, 0 + xoffset, ROW_2_HEIGHT_MM + yoffset)\n",
    "#fig = add_svg(fig, PANEL_E, ROW_2_WIDTH_COL_1_MM + xoffset, ROW_2_HEIGHT_MM + yoffset)\n",
    "#fig = add_svg(fig, PANEL_F, ROW_2_WIDTH_COL_1_MM + ROW_2_WIDTH_COL_2_MM + xoffset, ROW_2_HEIGHT_MM + yoffset)\n",
    "\n",
    "yoffset = 2.3\n",
    "fig = add_label(fig, 'A', 0, 0 + yoffset)\n",
    "fig = add_label(fig, 'B illustration solution', ROW_1_WIDTH_COL_1_MM, 0 + yoffset)\n",
    "fig = add_label(fig, 'C results', ROW_1_WIDTH_COL_1_MM + ROW_1_WIDTH_COL_2_MM, 0 + yoffset)\n",
    "yoffset = 1.5\n",
    "fig = add_label(fig, 'D', 0, ROW_2_HEIGHT_MM + yoffset)\n",
    "fig = add_label(fig, 'E illustration solution', ROW_2_WIDTH_COL_1_MM, ROW_2_HEIGHT_MM + yoffset)\n",
    "fig = add_label(fig, 'F results', ROW_2_WIDTH_COL_1_MM + ROW_2_WIDTH_COL_2_MM, ROW_2_HEIGHT_MM + yoffset)\n",
    "\n",
    "PATH_SVG = PATH_DROPBOX_FIGS + 'fig4.svg'\n",
    "fig.save(PATH_SVG)\n",
    "\n",
    "svg(PATH_SVG)\n",
    "\n",
    "!$INKSCAPE --export-pdf $PATH_DROPBOX_FIGS/fig4.pdf $PATH_SVG"
   ]
  }
 ],
 "metadata": {
  "anaconda-cloud": {},
  "kernelspec": {
   "display_name": "Python 3",
   "language": "python",
   "name": "python3"
  },
  "language_info": {
   "codemirror_mode": {
    "name": "ipython",
    "version": 3
   },
   "file_extension": ".py",
   "mimetype": "text/x-python",
   "name": "python",
   "nbconvert_exporter": "python",
   "pygments_lexer": "ipython3",
   "version": "3.6.0"
  }
 },
 "nbformat": 4,
 "nbformat_minor": 2
}
