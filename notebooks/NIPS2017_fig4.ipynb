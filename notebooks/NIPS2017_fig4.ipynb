{
 "cells": [
  {
   "cell_type": "markdown",
   "metadata": {},
   "source": [
    "## NIPS 2017 Figure 4: Bad data and missing features"
   ]
  },
  {
   "cell_type": "code",
   "execution_count": 5,
   "metadata": {},
   "outputs": [],
   "source": [
    "%matplotlib inline\n",
    "from __future__ import division\n",
    "import numpy as np\n",
    "import scipy.signal as ss\n",
    "import matplotlib as mpl\n",
    "import matplotlib.pyplot as plt\n",
    "from mpl_toolkits.axes_grid1 import make_axes_locatable\n",
    "from math import factorial\n",
    "\n",
    "import likelihoodfree.io as io\n",
    "import likelihoodfree.viz as viz\n",
    "import likelihoodfree.PDF as lfpdf\n",
    "import os\n",
    "\n",
    "import svgutils.transform as sg\n",
    "\n",
    "def cm2px(cm):\n",
    "    return int(np.round(cm / 2.54*300))"
   ]
  },
  {
   "cell_type": "code",
   "execution_count": 9,
   "metadata": {},
   "outputs": [],
   "source": [
    "#create new SVG figure\n",
    "fig = sg.SVGFigure(\"16cm\", \"6.5cm\")\n",
    "\n",
    "# load matpotlib-generated figures\n",
    "dir_plots = '../results/'\n",
    "prefix = ''\n",
    "\n",
    "#fig1 = sg.fromfile(dir_plots + 'placeholder' + prefix + '.svg')\n",
    "#plot1 = fig1.getroot()\n",
    "#plot1.moveto(15, 15, scale=1.)\n",
    "#fig.append([plot1])\n",
    "\n",
    "# add text labels\n",
    "rows = 2\n",
    "\n",
    "r1width = cm2px(16)\n",
    "r1cols  = 3\n",
    "r1wpc   = int(np.floor(r1width / r1cols))\n",
    "\n",
    "r2width = cm2px(16)\n",
    "r2cols  = 3\n",
    "r2wpc   = int(np.floor(r2width / r2cols))\n",
    "\n",
    "xlspc   = 10\n",
    "ylspc   = 15\n",
    "\n",
    "rheight = int(cm2px(6.5)/rows)\n",
    "\n",
    "xtspc   = 100\n",
    "ytspc   = 150\n",
    "\n",
    "sletter = 20\n",
    "stext   = 18\n",
    "\n",
    "fig.append(sg.TextElement(0*r1wpc + xlspc, 0*rheight + ylspc,  \"A\", size=sletter, weight=\"bold\"))\n",
    "fig.append(sg.TextElement(0*r1wpc + xtspc, 0*rheight + ytspc,  \"Problem: Simulator blow up\", stext, weight=\"bold\"))\n",
    "\n",
    "fig.append(sg.TextElement(1*r1wpc + xlspc, 0*rheight + ylspc,  \"B\", size=sletter, weight=\"bold\"))\n",
    "fig.append(sg.TextElement(1*r1wpc + xtspc, 0*rheight + ytspc,  \"Solution: Train auxillary model g_hat\", stext, weight=\"bold\"))\n",
    "\n",
    "fig.append(sg.TextElement(2*r1wpc + xlspc, 0*rheight + ylspc,  \"C\", size=sletter, weight=\"bold\"))\n",
    "fig.append(sg.TextElement(2*r1wpc + xtspc, 0*rheight + ytspc,  \"Results: Bad data handling scheme/not\", stext, weight=\"bold\"))\n",
    "fig.append(sg.TextElement(2*r1wpc + xtspc, 0*rheight + ytspc + 20, \"... autapse (ground truth known) and HH\", stext, weight=\"bold\"))\n",
    "\n",
    "fig.append(sg.TextElement(0*r2wpc + xlspc, 1*rheight + ylspc,  \"D\", size=sletter, weight=\"bold\"))\n",
    "fig.append(sg.TextElement(0*r2wpc + xtspc, 1*rheight + ytspc,  \"Problem: Missing features; HH traces\", stext, weight=\"bold\"))\n",
    "\n",
    "fig.append(sg.TextElement(1*r2wpc + xlspc, 1*rheight + ylspc,  \"E\", size=sletter, weight=\"bold\"))\n",
    "fig.append(sg.TextElement(1*r2wpc + xtspc, 1*rheight + ytspc,  \"Solution: Scheme of NN for imputing missing values\", stext, weight=\"bold\"))\n",
    "\n",
    "fig.append(sg.TextElement(2*r2wpc + xlspc, 1*rheight + ylspc,  \"F\", size=sletter, weight=\"bold\"))\n",
    "fig.append(sg.TextElement(2*r2wpc + xtspc, 1*rheight + ytspc,  \"Results: Missing value imputation results\", stext, weight=\"bold\"))\n",
    "\n",
    "# quick fix\n",
    "fig.append(sg.TextElement(0, 0,  \".\", size=1, weight=\"bold\"))\n",
    "fig.append(sg.TextElement(cm2px(16), cm2px(6.5),  \".\", size=1, weight=\"bold\"))\n",
    "\n",
    "# save figure\n",
    "# https://tex.stackexchange.com/questions/2099/how-to-include-svg-diagrams-in-latex\n",
    "fig.save(dir_plots + 'NIPS2017_fig4.svg')"
   ]
  },
  {
   "cell_type": "code",
   "execution_count": 10,
   "metadata": {},
   "outputs": [],
   "source": [
    "!inkscape -D -z --export-pdf ~/repos/likelihoodfree-models/results/fig4.pdf ~/repos/likelihoodfree-models/results/NIPS2017_fig4.svg"
   ]
  },
  {
   "cell_type": "code",
   "execution_count": null,
   "metadata": {
    "collapsed": true
   },
   "outputs": [],
   "source": []
  }
 ],
 "metadata": {
  "anaconda-cloud": {},
  "kernelspec": {
   "display_name": "Python 3",
   "language": "python",
   "name": "python3"
  }
 },
 "nbformat": 4,
 "nbformat_minor": 2
}
