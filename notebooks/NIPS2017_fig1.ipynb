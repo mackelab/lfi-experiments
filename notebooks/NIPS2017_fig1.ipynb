{
 "cells": [
  {
   "cell_type": "markdown",
   "metadata": {},
   "source": [
    "# NIPS 2017 Figure 1"
   ]
  },
  {
   "cell_type": "code",
   "execution_count": null,
   "metadata": {},
   "outputs": [],
   "source": [
    "%run -i NIPS2017.ipynb\n",
    "\n",
    "# FIGURE and GRID\n",
    "FIG_HEIGHT_MM = 50\n",
    "FIG_WIDTH_MM = FIG_WIDTH_MM  # set in NIPS2017 notebook to a default value for all figures\n",
    "FIG_N_ROWS = 1\n",
    "ROW_1_NCOLS = 3\n",
    "ROW_1_HEIGHT_MM = FIG_HEIGHT_MM\n",
    "ROW_1_WIDTH_COL_1_MM = FIG_WIDTH_MM / ROW_1_NCOLS\n",
    "ROW_1_WIDTH_COL_2_MM = FIG_WIDTH_MM / ROW_1_NCOLS\n",
    "ROW_1_WIDTH_COL_3_MM = FIG_WIDTH_MM / ROW_1_NCOLS\n",
    "\n",
    "# PATHS\n",
    "PANEL_A = PATH_DROPBOX_FIGS + 'fig1_a.svg'\n",
    "PANEL_B = PATH_DROPBOX_FIGS + 'fig1_b.svg'\n",
    "PANEL_C = PATH_DROPBOX_FIGS + 'fig1_c.svg'"
   ]
  },
  {
   "cell_type": "markdown",
   "metadata": {},
   "source": [
    "## Panel A"
   ]
  },
  {
   "cell_type": "code",
   "execution_count": null,
   "metadata": {},
   "outputs": [],
   "source": [
    "try:\n",
    "    svg(PANEL_A)\n",
    "except:\n",
    "    pass"
   ]
  },
  {
   "cell_type": "markdown",
   "metadata": {},
   "source": [
    "Panel a is drawn in Illustrator, and export as a `svg`."
   ]
  },
  {
   "cell_type": "markdown",
   "metadata": {},
   "source": [
    "Above we defined that row 1 col 1 has the following dimensions in mm:"
   ]
  },
  {
   "cell_type": "code",
   "execution_count": null,
   "metadata": {},
   "outputs": [],
   "source": [
    "print('width : {:g}mm'.format(ROW_1_WIDTH_COL_1_MM))\n",
    "print('height : {:g}mm'.format(ROW_1_HEIGHT_MM))"
   ]
  },
  {
   "cell_type": "markdown",
   "metadata": {},
   "source": [
    "In Illustrator, it is advisable to work in units of `px`, however."
   ]
  },
  {
   "cell_type": "markdown",
   "metadata": {},
   "source": [
    "Panel a should have the following dimensions in pixels when working with illustrator/inkscape:"
   ]
  },
  {
   "cell_type": "code",
   "execution_count": null,
   "metadata": {},
   "outputs": [],
   "source": [
    "print('width : {:g}px'.format(mm2px(ROW_1_WIDTH_COL_1_MM)))\n",
    "print('height : {:g}px'.format(mm2px(ROW_1_HEIGHT_MM)))"
   ]
  },
  {
   "cell_type": "markdown",
   "metadata": {},
   "source": [
    "Note: It's good to keep an `.ai` file for illustrator figures along, because fonts are only exported properly when `convert to outline` is choosen in the export dialog. However, we want to have them as texts as well, which is the reason for keeping an `.ai` file. "
   ]
  },
  {
   "cell_type": "markdown",
   "metadata": {},
   "source": [
    "## Panel B"
   ]
  },
  {
   "cell_type": "code",
   "execution_count": null,
   "metadata": {},
   "outputs": [],
   "source": [
    "try:\n",
    "    svg(PANEL_B)\n",
    "except:\n",
    "    pass"
   ]
  },
  {
   "cell_type": "markdown",
   "metadata": {},
   "source": [
    "Panel b will illustrate theta space, x space, the kernel, and possibly the importance weights."
   ]
  },
  {
   "cell_type": "code",
   "execution_count": null,
   "metadata": {},
   "outputs": [],
   "source": [
    "# no need toexecute unless you want regenerate panel_b\n",
    "\n",
    "\"\"\"\n",
    "http://nbviewer.jupyter.org/gist/kjordahl/3947841/bootstrap.ipynb\n",
    "http://scikit-learn.org/stable/auto_examples/gaussian_process/plot_gpr_noisy_targets.html\n",
    "\"\"\"\n",
    "\n",
    "from scipy import ndimage\n",
    "from sklearn.gaussian_process import GaussianProcess\n",
    "\n",
    "def pdense(x, y, sigma, M=1000):\n",
    "    \"\"\" Plot probability density of y with known stddev sigma\n",
    "    \"\"\"\n",
    "    assert len(x) == len(y) and len(x) == len(sigma)\n",
    "    N = len(x)\n",
    "    # TODO: better y ranging\n",
    "    ymin, ymax = min(y - 2 * sigma), max(y + 2 * sigma)\n",
    "    yy = np.linspace(ymin, ymax, M)\n",
    "    a = [np.exp(-((Y - yy) / s) ** 2) / s for Y, s in zip(y, sigma)]\n",
    "    A = np.array(a)\n",
    "    A = A.reshape(N, M)\n",
    "    plt.imshow(-A.T, cmap='gray', aspect='auto',\n",
    "               origin='lower', extent=(min(x)[0], max(x)[0], ymin, ymax))\n",
    "    plt.title('Placeholder')\n",
    "\n",
    "\n",
    "def gpr(seed=0, N=20, M=1000, sigma=1.0):\n",
    "    \"\"\" from scikits.learn demo\n",
    "    \"\"\"\n",
    "    np.random.seed(seed)\n",
    "\n",
    "    def f(x):\n",
    "        \"\"\"The function to predict.\"\"\"\n",
    "        return x * np.sin(x)\n",
    "\n",
    "    X = np.linspace(0.1, 9.9, 20)\n",
    "    X = np.atleast_2d(X).T\n",
    "    y = f(X).ravel()\n",
    "    y = np.random.normal(y, sigma)\n",
    "    x = np.atleast_2d(np.linspace(0, 10, M)).T\n",
    "    nugget = (sigma / y) ** 2\n",
    "    gp = GaussianProcess(corr='squared_exponential', theta0=1e-1,\n",
    "                         thetaL=1e-1, thetaU=1.0,\n",
    "                         nugget=nugget,\n",
    "                         random_start=100)\n",
    "    gp.fit(X, y)\n",
    "    y2, MSE = gp.predict(x, eval_MSE=True)\n",
    "    s2 = np.sqrt(MSE)\n",
    "    return X, y, x, y2, s2\n",
    "\n",
    "X, y, x, y2, s2 = gpr(seed=0)\n",
    "\n",
    "# matplotlib takes figsize specified as inches\n",
    "# in NIPS2016 SCALE_IN and the conversion function are defined\n",
    "fig_inches = (SCALE_IN*mm2inches(ROW_1_WIDTH_COL_2_MM), SCALE_IN*mm2inches(ROW_1_HEIGHT_MM))\n",
    "plt.figure(figsize=fig_inches)\n",
    "\n",
    "pdense(x, y2, s2, M=1000)\n",
    "plt.plot(X, y, 'r.')\n",
    "plt.plot(x, y2, 'b:')\n",
    "a = plt.gca()\n",
    "a.set_ylim(-10, 15)\n",
    "plt.xlabel('$x$')\n",
    "plt.ylabel('$f(x)$')\n",
    "\n",
    "plt.savefig(PANEL_B)  # the figure is saved as svg"
   ]
  },
  {
   "cell_type": "markdown",
   "metadata": {},
   "source": [
    "Checking the dimensions of the resulting file:"
   ]
  },
  {
   "cell_type": "code",
   "execution_count": null,
   "metadata": {},
   "outputs": [],
   "source": [
    "panel = st.fromfile(PANEL_B)\n",
    "width, height = panel.get_size()\n",
    "print('size of svg : {}'.format((width, height)))\n",
    "print('aspect ratio : {}'.format(get_num(width) / get_num(height)))\n",
    "print('desired ratio : {}'.format(ROW_1_WIDTH_COL_2_MM / ROW_1_HEIGHT_MM))"
   ]
  },
  {
   "cell_type": "markdown",
   "metadata": {},
   "source": [
    "## Panel C"
   ]
  },
  {
   "cell_type": "code",
   "execution_count": null,
   "metadata": {},
   "outputs": [],
   "source": [
    "try:\n",
    "    svg(PANEL_C)\n",
    "except:\n",
    "    pass"
   ]
  },
  {
   "cell_type": "markdown",
   "metadata": {},
   "source": [
    "## Put together figure"
   ]
  },
  {
   "cell_type": "code",
   "execution_count": null,
   "metadata": {},
   "outputs": [],
   "source": [
    "fig = create_fig(FIG_WIDTH_MM, FIG_HEIGHT_MM)\n",
    "if False:  # set to False to disable grid\n",
    "    fig = add_grid(fig, 10, 10)\n",
    "    fig = add_grid(fig, 160/3, 10, font_size_px=0.0001)\n",
    "fig = add_svg(fig, PANEL_A, 0, 0)\n",
    "fig = add_svg(fig, PANEL_B, ROW_1_WIDTH_COL_1_MM, 0)\n",
    "fig = add_svg(fig, PANEL_C, ROW_1_WIDTH_COL_1_MM + ROW_1_WIDTH_COL_2_MM, 0, scale=1.5)\n",
    "\n",
    "fig = add_label(fig, 'A', 0*160/3, 2.3)\n",
    "fig = add_label(fig, 'B', 1*160/3, 2.3)\n",
    "fig = add_label(fig, 'C', 2*160/3, 2.3)\n",
    "\n",
    "PATH_SVG = PATH_DROPBOX_FIGS + 'fig1.svg'\n",
    "fig.save(PATH_SVG)\n",
    "\n",
    "svg(PATH_SVG)\n",
    "\n",
    "!$INKSCAPE --export-pdf $PATH_DROPBOX_FIGS/fig1.pdf $PATH_SVG"
   ]
  }
 ],
 "metadata": {
  "anaconda-cloud": {},
  "kernelspec": {
   "display_name": "Python 3",
   "language": "python",
   "name": "python3"
  },
  "language_info": {
   "codemirror_mode": {
    "name": "ipython",
    "version": 3
   },
   "file_extension": ".py",
   "mimetype": "text/x-python",
   "name": "python",
   "nbconvert_exporter": "python",
   "pygments_lexer": "ipython3",
   "version": "3.6.0"
  }
 },
 "nbformat": 4,
 "nbformat_minor": 2
}
