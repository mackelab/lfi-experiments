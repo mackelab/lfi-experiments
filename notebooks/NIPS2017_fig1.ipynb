{
 "cells": [
  {
   "cell_type": "markdown",
   "metadata": {},
   "source": [
    "# NIPS 2017 Figure 1"
   ]
  },
  {
   "cell_type": "code",
   "execution_count": null,
   "metadata": {},
   "outputs": [],
   "source": [
    "import pickle\n",
    "import theano\n",
    "import scipy as sp\n",
    "theano.config.floatX = 'float32'\n",
    "\n",
    "%run -i NIPS2017.ipynb\n",
    "\n",
    "# FIGURE and GRID\n",
    "FIG_HEIGHT_MM = 50\n",
    "FIG_WIDTH_MM = FIG_WIDTH_MM  # set in NIPS2017 notebook to a default value for all figures\n",
    "FIG_N_ROWS = 1\n",
    "ROW_1_NCOLS = 3\n",
    "ROW_1_HEIGHT_MM = FIG_HEIGHT_MM\n",
    "ROW_1_WIDTH_COL_1_MM = FIG_WIDTH_MM / ROW_1_NCOLS\n",
    "ROW_1_WIDTH_COL_2_MM = 1.2*FIG_WIDTH_MM / ROW_1_NCOLS\n",
    "ROW_1_WIDTH_COL_3_MM = FIG_WIDTH_MM / ROW_1_NCOLS\n",
    "\n",
    "# PATHS\n",
    "PANEL_A = PATH_DROPBOX_FIGS + 'fig1_a.svg'\n",
    "PANEL_B = PATH_DROPBOX_FIGS + 'fig1_b.svg'\n",
    "PANEL_C = PATH_DROPBOX_FIGS + 'fig1_c.svg'"
   ]
  },
  {
   "cell_type": "markdown",
   "metadata": {},
   "source": [
    "## Panel A"
   ]
  },
  {
   "cell_type": "code",
   "execution_count": null,
   "metadata": {},
   "outputs": [],
   "source": [
    "try:\n",
    "    svg(PANEL_A)\n",
    "except:\n",
    "    pass"
   ]
  },
  {
   "cell_type": "markdown",
   "metadata": {},
   "source": [
    "Panel a is drawn in Illustrator, and export as a `svg`."
   ]
  },
  {
   "cell_type": "markdown",
   "metadata": {},
   "source": [
    "Above we defined that row 1 col 1 has the following dimensions in mm:"
   ]
  },
  {
   "cell_type": "code",
   "execution_count": null,
   "metadata": {},
   "outputs": [],
   "source": [
    "print('width : {:g}mm'.format(ROW_1_WIDTH_COL_1_MM))\n",
    "print('height : {:g}mm'.format(ROW_1_HEIGHT_MM))"
   ]
  },
  {
   "cell_type": "markdown",
   "metadata": {},
   "source": [
    "In Illustrator, it is advisable to work in units of `px`, however."
   ]
  },
  {
   "cell_type": "markdown",
   "metadata": {},
   "source": [
    "Panel a should have the following dimensions in pixels when working with illustrator/inkscape:"
   ]
  },
  {
   "cell_type": "code",
   "execution_count": null,
   "metadata": {},
   "outputs": [],
   "source": [
    "print('width : {:g}px'.format(mm2px(ROW_1_WIDTH_COL_1_MM)))\n",
    "print('height : {:g}px'.format(mm2px(ROW_1_HEIGHT_MM)))"
   ]
  },
  {
   "cell_type": "markdown",
   "metadata": {},
   "source": [
    "Note: It's good to keep an `.ai` file for illustrator figures along, because fonts are only exported properly when `convert to outline` is choosen in the export dialog. However, we want to have them as texts as well, which is the reason for keeping an `.ai` file. "
   ]
  },
  {
   "cell_type": "markdown",
   "metadata": {},
   "source": [
    "## Panel B"
   ]
  },
  {
   "cell_type": "markdown",
   "metadata": {},
   "source": [
    "Panel b will illustrate theta space, x space, the kernel, and possibly the importance weights."
   ]
  },
  {
   "cell_type": "code",
   "execution_count": null,
   "metadata": {},
   "outputs": [],
   "source": [
    "# loading filename and paths\n",
    "prefix = 'kernel05'\n",
    "\n",
    "num_results_path = 'posterior'\n",
    "lw_results_path = 'lwlist'\n",
    "\n",
    "###############################################################################\n",
    "# loading data and posteriors\n",
    "dists, infos, losses, nets, posteriors, sims = io.load_prefix(dirs_dropbox['dir_nets_fig1'], prefix)\n",
    "# data\n",
    "l_sims = list(sims.items())\n",
    "obs_stats = l_sims[len(sims)-1][1].obs\n",
    "# posterior\n",
    "l_posteriors = list(posteriors.items())\n",
    "\n",
    "net = io.nth(nets, 0)"
   ]
  },
  {
   "cell_type": "code",
   "execution_count": null,
   "metadata": {},
   "outputs": [],
   "source": [
    "# no need toexecute unless you want regenerate panel_b\n",
    "xdatafile = open(num_results_path, 'rb')\n",
    "xdata = pickle.load(xdatafile)\n",
    "\n",
    "x0_grid = xdata['pts'][:,0]\n",
    "\n",
    "true_means = xdata['data'][:,0]\n",
    "true_covs = xdata['data'][:,1]\n",
    "\n",
    "# Will consider the following point\n",
    "idx = int(len(x0_grid) * (0.43) )\n",
    "obs_stats = x0_grid[idx]\n",
    "true_mean = true_means[idx]\n",
    "true_cov = true_covs[idx]\n",
    "\n",
    "# Model parameters\n",
    "prior_cov=1.0\n",
    "prior_mean=5.\n",
    "noise_cov=0.1\n",
    "eps = 0.3\n",
    "\n",
    "prop_prior_cov = 2.8\n",
    "prop_prior_mean = 4.5\n",
    "\n",
    "# Consider y values in the following range\n",
    "n_grid = 100\n",
    "lims = np.array([[0],[10]])\n",
    "yy = np.linspace(lims[0,0],lims[1,0],n_grid)\n",
    "\n",
    "_, post_mean, post_prec = net.eval_comps(np.reshape(obs_stats,(-1,1)))\n",
    "post_mean = post_mean[0][0][0]\n",
    "post_cov = 1. / post_prec[0][0][0] ** 2\n",
    "_, post_means, post_precs = net.eval_comps(np.reshape(x0_grid,(-1,1)))\n",
    "post_means = np.array(post_means).flatten()\n",
    "post_covs = 1. / np.array(post_precs).flatten() ** 2\n",
    "\n",
    "lwfile = open(lw_results_path, 'rb')\n",
    "lwdata = pickle.load(lwfile)\n",
    "\n",
    "param_list = lwdata['pts']\n",
    "lwlist = lwdata['data']\n",
    "\n",
    "optidx = np.argmin(lwlist)\n",
    "optparam = param_list[optidx]\n",
    "\n",
    "param_means = optparam[0] + optparam[1] * x0_grid + optparam[3] * (x0_grid ** 2)\n",
    "param_mean = param_means[idx]\n",
    "param_vars = param_var = optparam[2] ** 2"
   ]
  },
  {
   "cell_type": "code",
   "execution_count": null,
   "metadata": {},
   "outputs": [],
   "source": [
    "def gauss1D(x,mean,var):\n",
    "    return ((2 * np.pi) ** (-0.5)) * (1 / np.sqrt(var)) * np.exp(-0.5 * ((x - mean) ** 2) / var)"
   ]
  },
  {
   "cell_type": "code",
   "execution_count": null,
   "metadata": {},
   "outputs": [],
   "source": [
    "###############################################################################\n",
    "# sampling from proposal prior and running forward model\n",
    "n_samp = 500\n",
    "theta_samp = np.sqrt(prop_prior_cov)*np.random.randn(n_samp) + prop_prior_mean\n",
    "x_samp = np.sqrt(noise_cov)*np.random.randn(n_samp)+np.sqrt(np.abs(theta_samp))\n",
    "\n",
    "###############################################################################\n",
    "# contour values for prior, true posterior and estimated posterior\n",
    "pp_prior = gauss1D(yy,prior_mean,prior_cov)\n",
    "prop_prior = gauss1D(yy,prop_prior_mean,prop_prior_cov)\n",
    "pp_post = gauss1D(yy,post_mean,post_cov)\n",
    "pp_true_xo = gauss1D(yy,true_mean,true_cov)\n",
    "pp_param = gauss1D(yy,param_mean,param_var)\n",
    "\n",
    "fake_means = sp.ndimage.filters.gaussian_filter(true_means, sigma=3)\n",
    "fake_covs = sp.ndimage.filters.gaussian_filter(true_covs, sigma=3)\n",
    "\n",
    "# matplotlib takes figsize specified as inches\n",
    "# in NIPS2016 SCALE_IN and the conversion function are defined\n",
    "fig_inches = (SCALE_IN*mm2inches(0.93*ROW_1_WIDTH_COL_2_MM), SCALE_IN*mm2inches(0.93*ROW_1_HEIGHT_MM))\n",
    "FIG_WIDTH_MM *= 2\n",
    "with mpl.rc_context(fname=MPL_RC):\n",
    "    plt.figure(figsize=fig_inches)\n",
    "    ax = plt.subplot()\n",
    "\n",
    "    # True posterior\n",
    "    col_0 = (255/255,0/255,0/255)\n",
    "    #col_0 = COL['GT']\n",
    "    col_1 = (0, 174/255,239/255)\n",
    "    # Posterior\n",
    "    # col_2 = (244/255, 152/255, 25/255)\n",
    "    col_2 = COL['SNPE']\n",
    "    # Parametrised posterior\n",
    "    col_3 = (0,200/255,0)\n",
    "    # x0\n",
    "    col_4 = (35/255,86/255,167/255)\n",
    "\n",
    "    gs = mpl.gridspec.GridSpec(1, 3, width_ratios=[1, 3, 1])\n",
    "\n",
    "    # LEFTHAND SIDE\n",
    "    axl = plt.subplot(gs[0])\n",
    "    plt.plot(prop_prior,yy,'--',color='0.55', label='proposal prior')\n",
    "    plt.plot(pp_prior,yy,color='0.0', label='prior')\n",
    "    axl.set_ylim(lims)\n",
    "    axl.set_yticks([])\n",
    "    axl.set_xticks([])\n",
    "    plt.ylabel(r'$\\theta$')\n",
    "    axl.legend(loc='upper center', bbox_to_anchor=(0.5, -0.05),\n",
    "               fancybox=True, shadow=True, ncol=1)\n",
    "    \n",
    "    axr = plt.subplot(gs[2])\n",
    "      \n",
    "    # RIGHTHAND SIDE\n",
    "    plt.plot(pp_true_xo,yy,color=col_0, label='true posterior')\n",
    "    plt.plot(pp_post,yy,color=col_2, label='posterior')\n",
    "    #plt.plot(pp_param,yy,color=col_3, label='parametrised posterior')\n",
    "    axr.set_ylim(lims)\n",
    "    #ax.set_xticks([])\n",
    "    axr.set_xticks([])\n",
    "    plt.ylabel('')\n",
    "    axr.legend(loc='upper center', bbox_to_anchor=(0.5, -0.05),\n",
    "               fancybox=True, shadow=True, ncol=1)\n",
    "    #plt.legend(bbox_to_anchor=(1.25, 1), loc='upper right')\n",
    "    \n",
    "\n",
    "    hl, ll = axl.get_legend_handles_labels()\n",
    "    hr, lr = axr.get_legend_handles_labels()\n",
    "    axr.set_yticks([])\n",
    "    \n",
    "    axm = plt.subplot(gs[1])\n",
    "    plt.ylabel('')\n",
    "    \n",
    "    # Draw true posterior\n",
    "    plt.plot(x_samp, theta_samp,'.',color='0.55')\n",
    "    #plt.plot(x0_grid, true_means, color = '0.0', label='true posterior')\n",
    "    plt.plot(x0_grid, fake_means, color = col_0, label='true posterior')\n",
    "    \n",
    "    #plt.plot(x0_grid,true_means + 2 * np.sqrt(true_covs),'--',color=col_0)\n",
    "    #plt.plot(x0_grid,true_means - 2 * np.sqrt(true_covs),'--',color=col_0)\n",
    "    plt.fill_between(x0_grid,fake_means-2 * np.sqrt(fake_covs),\n",
    "                     fake_means+2 * np.sqrt(fake_covs),\n",
    "                     facecolor=col_0,\n",
    "                     alpha=0.15)\n",
    "\n",
    "    # Draw parametrised means (in green)\n",
    "    #plt.plot(x0_grid,param_means,color=col_3)\n",
    "    #plt.plot(x0_grid,param_means + 2 * np.sqrt(param_vars),'--',color=col_3)\n",
    "    #plt.plot(x0_grid,param_means - 2 * np.sqrt(param_vars),'--',color=col_3)\n",
    "    \n",
    "    # Draw posterior means (in orange)\n",
    "    plt.plot(x0_grid,post_means,color=col_2, label='posterior')\n",
    "    plt.plot(x0_grid,post_means + 2 * np.sqrt(post_covs),'--',color=col_2)\n",
    "    plt.plot(x0_grid,post_means - 2 * np.sqrt(post_covs),'--',color=col_2)\n",
    "    \n",
    "    #plt.fill_between(x0_grid,post_means-2 * np.sqrt(post_covs),\n",
    "    #                 post_means+2 * np.sqrt(post_covs),\n",
    "    #                 facecolor=col_2,\n",
    "    #                 alpha=0.15)\n",
    "    \n",
    "    # Draw vertical lines around chosen point\n",
    "    axm.vlines(obs_stats, 0, axm.get_ylim()[1], lw=2, color=col_4)\n",
    "    axm.vlines(obs_stats-eps, 0, axm.get_ylim()[1], lw=1, color='0.25')\n",
    "    axm.vlines(obs_stats+eps, 0, axm.get_ylim()[1], lw=1, color='0.25')\n",
    "\n",
    "    axm.set_xlim(np.sqrt(lims))\n",
    "    axm.set_ylim(lims)\n",
    "    #ax.set_xticks([])\n",
    "    axm.set_yticks([])\n",
    "    plt.xlabel('x')\n",
    "    #plt.legend(bbox_to_anchor=(0.0, 1), loc='upper left')\n",
    "\n",
    "    plt.xticks([obs_stats], [r'$x_{o}$'])\n",
    "\n",
    "    plt.tight_layout()\n",
    "\n",
    "    plt.savefig(PANEL_B, facecolor=plt.gcf().get_facecolor(), transparent=True)  # the figure is saved as svg\n",
    "    plt.close()\n",
    "svg(PANEL_B)"
   ]
  },
  {
   "cell_type": "markdown",
   "metadata": {},
   "source": [
    "Checking the dimensions of the resulting file:"
   ]
  },
  {
   "cell_type": "code",
   "execution_count": null,
   "metadata": {},
   "outputs": [],
   "source": [
    "panel = st.fromfile(PANEL_B)\n",
    "width, height = panel.get_size()\n",
    "print('size of svg : {}'.format((width, height)))\n",
    "print('aspect ratio : {}'.format(get_num(width) / get_num(height)))\n",
    "print('desired ratio : {}'.format(ROW_1_WIDTH_COL_2_MM / ROW_1_HEIGHT_MM))"
   ]
  },
  {
   "cell_type": "markdown",
   "metadata": {},
   "source": [
    "## Panel C"
   ]
  },
  {
   "cell_type": "code",
   "execution_count": null,
   "metadata": {},
   "outputs": [],
   "source": [
    "try:\n",
    "    svg(PANEL_C)\n",
    "except:\n",
    "    pass"
   ]
  },
  {
   "cell_type": "markdown",
   "metadata": {},
   "source": [
    "## Put together figure"
   ]
  },
  {
   "cell_type": "code",
   "execution_count": null,
   "metadata": {},
   "outputs": [],
   "source": [
    "fig = create_fig(FIG_WIDTH_MM, FIG_HEIGHT_MM)\n",
    "\n",
    "fig = add_svg(fig, PANEL_A, 0, 0)\n",
    "fig = add_svg(fig, PANEL_B, ROW_1_WIDTH_COL_1_MM + 0, 0)\n",
    "fig = add_svg(fig, PANEL_C, ROW_1_WIDTH_COL_1_MM + ROW_1_WIDTH_COL_2_MM + 4, 0 + 1.3, scale=0.55)\n",
    "\n",
    "fig = add_label(fig, 'A', 0*160/3, 2.3)\n",
    "fig = add_label(fig, 'B', 1*160/3, 2.3)\n",
    "fig = add_label(fig, 'C', 2*160/3 + 16, 2.3)\n",
    "\n",
    "\n",
    "if False:  # set to False to disable grid\n",
    "    fig = add_grid(fig, 3, 3)\n",
    "    fig = add_grid(fig, 160/3, 10, font_size_px=0.0001)\n",
    "    \n",
    "PATH_SVG = PATH_DROPBOX_FIGS + 'fig1.svg'\n",
    "fig.save(PATH_SVG)\n",
    "\n",
    "svg(PATH_SVG)\n",
    "\n",
    "!$INKSCAPE --export-pdf $PATH_DROPBOX_FIGS/fig1.pdf $PATH_SVG"
   ]
  },
  {
   "cell_type": "code",
   "execution_count": null,
   "metadata": {},
   "outputs": [],
   "source": []
  }
 ],
 "metadata": {
  "anaconda-cloud": {},
  "kernelspec": {
   "display_name": "Python [Root]",
   "language": "python",
   "name": "Python [Root]"
  },
  "language_info": {
   "codemirror_mode": {
    "name": "ipython",
    "version": 3
   },
   "file_extension": ".py",
   "mimetype": "text/x-python",
   "name": "python",
   "nbconvert_exporter": "python",
   "pygments_lexer": "ipython3",
   "version": "3.5.3"
  }
 },
 "nbformat": 4,
 "nbformat_minor": 2
}
