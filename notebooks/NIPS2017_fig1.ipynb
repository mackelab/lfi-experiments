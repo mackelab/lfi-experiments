{
 "cells": [
  {
   "cell_type": "markdown",
   "metadata": {},
   "source": [
    "# NIPS 2017 Figure 1"
   ]
  },
  {
   "cell_type": "code",
   "execution_count": null,
   "metadata": {},
   "outputs": [],
   "source": [
    "%run -i NIPS2017.ipynb\n",
    "\n",
    "# FIGURE and GRID\n",
    "FIG_HEIGHT_MM = 50\n",
    "FIG_WIDTH_MM = FIG_WIDTH_MM  # set in NIPS2017 notebook to a default value for all figures\n",
    "FIG_N_ROWS = 1\n",
    "ROW_1_NCOLS = 3\n",
    "ROW_1_HEIGHT_MM = FIG_HEIGHT_MM\n",
    "ROW_1_WIDTH_COL_1_MM = FIG_WIDTH_MM / ROW_1_NCOLS\n",
    "ROW_1_WIDTH_COL_2_MM = FIG_WIDTH_MM / ROW_1_NCOLS\n",
    "ROW_1_WIDTH_COL_3_MM = FIG_WIDTH_MM / ROW_1_NCOLS\n",
    "\n",
    "# PATHS\n",
    "PANEL_A = PATH_DROPBOX_FIGS + 'fig1_a.svg'\n",
    "PANEL_B = PATH_DROPBOX_FIGS + 'fig1_b.svg'\n",
    "PANEL_C = PATH_DROPBOX_FIGS + 'fig1_c.svg'"
   ]
  },
  {
   "cell_type": "markdown",
   "metadata": {},
   "source": [
    "## Panel A"
   ]
  },
  {
   "cell_type": "code",
   "execution_count": null,
   "metadata": {},
   "outputs": [],
   "source": [
    "try:\n",
    "    svg(PANEL_A)\n",
    "except:\n",
    "    pass"
   ]
  },
  {
   "cell_type": "markdown",
   "metadata": {},
   "source": [
    "Panel a is drawn in Illustrator, and export as a `svg`."
   ]
  },
  {
   "cell_type": "markdown",
   "metadata": {},
   "source": [
    "Above we defined that row 1 col 1 has the following dimensions in mm:"
   ]
  },
  {
   "cell_type": "code",
   "execution_count": null,
   "metadata": {},
   "outputs": [],
   "source": [
    "print('width : {:g}mm'.format(ROW_1_WIDTH_COL_1_MM))\n",
    "print('height : {:g}mm'.format(ROW_1_HEIGHT_MM))"
   ]
  },
  {
   "cell_type": "markdown",
   "metadata": {},
   "source": [
    "In Illustrator, it is advisable to work in units of `px`, however."
   ]
  },
  {
   "cell_type": "markdown",
   "metadata": {},
   "source": [
    "Panel a should have the following dimensions in pixels when working with illustrator/inkscape:"
   ]
  },
  {
   "cell_type": "code",
   "execution_count": null,
   "metadata": {},
   "outputs": [],
   "source": [
    "print('width : {:g}px'.format(mm2px(ROW_1_WIDTH_COL_1_MM)))\n",
    "print('height : {:g}px'.format(mm2px(ROW_1_HEIGHT_MM)))"
   ]
  },
  {
   "cell_type": "markdown",
   "metadata": {},
   "source": [
    "Note: It's good to keep an `.ai` file for illustrator figures along, because fonts are only exported properly when `convert to outline` is choosen in the export dialog. However, we want to have them as texts as well, which is the reason for keeping an `.ai` file. "
   ]
  },
  {
   "cell_type": "markdown",
   "metadata": {},
   "source": [
    "## Panel B"
   ]
  },
  {
   "cell_type": "code",
   "execution_count": null,
   "metadata": {},
   "outputs": [],
   "source": [
    "try:\n",
    "    svg(PANEL_B)\n",
    "except:\n",
    "    pass"
   ]
  },
  {
   "cell_type": "markdown",
   "metadata": {},
   "source": [
    "Panel b will illustrate theta space, x space, the kernel, and possibly the importance weights."
   ]
  },
  {
   "cell_type": "code",
   "execution_count": null,
   "metadata": {},
   "outputs": [],
   "source": [
    "# no need toexecute unless you want regenerate panel_b\n",
    "\n",
    "obs_stats=1.97\n",
    "\n",
    "prior_cov=5\n",
    "prior_mean=5.\n",
    "noise_cov=0.1\n",
    "eps = 0.3\n",
    "\n",
    "prop_prior_cov=2.8\n",
    "prop_prior_mean=4.5\n",
    "\n",
    "post_mean = obs_stats**2\n",
    "post_cov=2\n",
    "\n",
    "true_cov = 1.95\n",
    "true_mean = obs_stats**2-0.15\n",
    "\n",
    "lims = np.array([[0],[10]])\n",
    "n_grid_art = 100\n",
    "yy_art = np.linspace(lims[0], lims[1], n_grid_art)\n",
    "\n",
    "mu_brut_post_art = 0.*yy_art\n",
    "eps_brut_post_art = 0.*yy_art\n",
    "xx_art = 0.*yy_art\n",
    "x0_grid_art = np.sqrt(yy_art)\n",
    "\n",
    "###############################################################################\n",
    "# gaussian density function\n",
    "def gauss1D(x,mean,var):\n",
    "    return ((2 * np.pi) ** (-0.5)) * (1 / np.sqrt(var)) * np.exp(-0.5 * ((x - mean) ** 2) / var)\n",
    "\n",
    "###############################################################################\n",
    "# sampling from proposal prior and running forward model\n",
    "n_samp = 500\n",
    "theta_samp = np.sqrt(prop_prior_cov)*np.random.randn(n_samp) + prop_prior_mean\n",
    "x_samp = np.sqrt(noise_cov)*np.random.randn(n_samp)+np.sqrt(theta_samp)\n",
    "\n",
    "###############################################################################\n",
    "# contour values for prior, true posterior and estimated posterior\n",
    "pp_prior_art = gauss1D(yy_art,prior_mean,prior_cov)\n",
    "prop_prior_art = gauss1D(yy_art,prop_prior_mean,prop_prior_cov)\n",
    "pp_estimated_art = gauss1D(yy_art,post_mean,post_cov)\n",
    "pp_true_xo_art = gauss1D(yy_art,true_mean,true_cov)\n",
    "\n",
    "###############################################################################\n",
    "# posterior estimated for all x\n",
    "y_estimated_x_art = np.divide(2*obs_stats**2.2,1+np.exp(-2*x0_grid_art+1.97*obs_stats))\n",
    "\n",
    "\n",
    "\n",
    "# matplotlib takes figsize specified as inches\n",
    "# in NIPS2016 SCALE_IN and the conversion function are defined\n",
    "fig_inches = (SCALE_IN*mm2inches(ROW_1_WIDTH_COL_2_MM), SCALE_IN*mm2inches(ROW_1_HEIGHT_MM))\n",
    "\n",
    "with mpl.rc_context(fname=MPL_RC):\n",
    "\n",
    "    plt.figure(figsize=fig_inches)\n",
    "    ax = plt.subplot()\n",
    "\n",
    "    col_0 = (35/255,86/255,167/255)\n",
    "    col_1 = (0, 174/255,239/255)\n",
    "    col_2 = (244/255, 152/255, 25/255)\n",
    "\n",
    "    gs = mpl.gridspec.GridSpec(1, 2, width_ratios=[1, 3])\n",
    "\n",
    "    ax = plt.subplot(gs[0])\n",
    "    plt.plot(pp_prior_art,yy_art,'--',color='0.45', label='prior')\n",
    "    plt.plot(pp_true_xo_art,yy_art,color=col_0, label='true')\n",
    "    plt.plot(prop_prior_art,yy_art,color='0.45', label='proposal')\n",
    "    plt.plot(pp_estimated_art,yy_art,color=col_2, label='posterior')\n",
    "    ax.set_ylim(lims)\n",
    "    ax.set_xticks([])\n",
    "    ax.set_yticks([])\n",
    "    plt.ylabel('theta')\n",
    "    plt.legend(bbox_to_anchor=(1.25, 1), loc='upper right')\n",
    "\n",
    "    ax = plt.subplot(gs[1])\n",
    "    lims1 = np.array([[np.sqrt(lims[0,0]),np.sqrt(lims[1,0])],[lims[0,0],lims[1,0]]])\n",
    "    plt.plot(x_samp, theta_samp,'.',color='0.45')\n",
    "    plt.plot(x0_grid_art, yy_art**1.1, color = col_0, label='true posterior')\n",
    "    plt.fill_between(x0_grid_art,yy_art**1.1-true_cov,\n",
    "                     yy_art**1.1+true_cov,\n",
    "                     facecolor=col_0,\n",
    "                     alpha=0.15)\n",
    "\n",
    "    plt.plot(x0_grid_art,y_estimated_x_art,color=col_2)\n",
    "    plt.plot(x0_grid_art,y_estimated_x_art+post_cov,'--',color=col_2)\n",
    "    plt.plot(x0_grid_art,y_estimated_x_art-post_cov,'--',color=col_2)\n",
    "    ax.vlines(obs_stats, 0, ax.get_ylim()[1], lw=2, color='r')\n",
    "    ax.vlines(obs_stats-eps, 0, ax.get_ylim()[1], lw=1, color=col_1)\n",
    "    ax.vlines(obs_stats+eps, 0, ax.get_ylim()[1], lw=1, color=col_1)\n",
    "\n",
    "    ax.set_xlim(np.sqrt(lims))\n",
    "    ax.set_ylim(lims)\n",
    "    ax.set_xticks([])\n",
    "    ax.set_yticks([])\n",
    "    plt.xlabel('x')\n",
    "\n",
    "    plt.xticks([obs_stats], ['x obs'])\n",
    "\n",
    "    plt.tight_layout()\n",
    "\n",
    "    plt.savefig(PANEL_B, facecolor=plt.gcf().get_facecolor(), transparent=True)  # the figure is saved as svg\n",
    "    plt.close()\n",
    "\n",
    "svg(PANEL_B)"
   ]
  },
  {
   "cell_type": "markdown",
   "metadata": {},
   "source": [
    "Checking the dimensions of the resulting file:"
   ]
  },
  {
   "cell_type": "code",
   "execution_count": null,
   "metadata": {},
   "outputs": [],
   "source": [
    "panel = st.fromfile(PANEL_B)\n",
    "width, height = panel.get_size()\n",
    "print('size of svg : {}'.format((width, height)))\n",
    "print('aspect ratio : {}'.format(get_num(width) / get_num(height)))\n",
    "print('desired ratio : {}'.format(ROW_1_WIDTH_COL_2_MM / ROW_1_HEIGHT_MM))"
   ]
  },
  {
   "cell_type": "markdown",
   "metadata": {},
   "source": [
    "## Panel C"
   ]
  },
  {
   "cell_type": "code",
   "execution_count": null,
   "metadata": {},
   "outputs": [],
   "source": [
    "try:\n",
    "    svg(PANEL_C)\n",
    "except:\n",
    "    pass"
   ]
  },
  {
   "cell_type": "markdown",
   "metadata": {},
   "source": [
    "## Put together figure"
   ]
  },
  {
   "cell_type": "code",
   "execution_count": null,
   "metadata": {},
   "outputs": [],
   "source": [
    "fig = create_fig(FIG_WIDTH_MM, FIG_HEIGHT_MM)\n",
    "if False:  # set to False to disable grid\n",
    "    fig = add_grid(fig, 10, 10)\n",
    "    fig = add_grid(fig, 160/3, 10, font_size_px=0.0001)\n",
    "fig = add_svg(fig, PANEL_A, 0, 0)\n",
    "fig = add_svg(fig, PANEL_B, ROW_1_WIDTH_COL_1_MM, 0)\n",
    "fig = add_svg(fig, PANEL_C, ROW_1_WIDTH_COL_1_MM + ROW_1_WIDTH_COL_2_MM, 0, scale=1.5)\n",
    "\n",
    "fig = add_label(fig, 'A', 0*160/3, 2.3)\n",
    "fig = add_label(fig, 'B', 1*160/3, 2.3)\n",
    "fig = add_label(fig, 'C', 2*160/3, 2.3)\n",
    "\n",
    "PATH_SVG = PATH_DROPBOX_FIGS + 'fig1.svg'\n",
    "fig.save(PATH_SVG)\n",
    "\n",
    "svg(PATH_SVG)\n",
    "\n",
    "!$INKSCAPE --export-pdf $PATH_DROPBOX_FIGS/fig1.pdf $PATH_SVG"
   ]
  },
  {
   "cell_type": "code",
   "execution_count": null,
   "metadata": {},
   "outputs": [],
   "source": []
  }
 ],
 "metadata": {
  "anaconda-cloud": {},
  "kernelspec": {
   "display_name": "Python [Root]",
   "language": "python",
   "name": "Python [Root]"
  },
  "language_info": {
   "codemirror_mode": {
    "name": "ipython",
    "version": 3
   },
   "file_extension": ".py",
   "mimetype": "text/x-python",
   "name": "python",
   "nbconvert_exporter": "python",
   "pygments_lexer": "ipython3",
   "version": "3.5.3"
  }
 },
 "nbformat": 4,
 "nbformat_minor": 2
}
