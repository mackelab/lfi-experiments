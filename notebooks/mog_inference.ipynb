{
 "cells": [
  {
   "cell_type": "markdown",
   "metadata": {},
   "source": [
    "# Inference for MoG"
   ]
  },
  {
   "cell_type": "code",
   "execution_count": 1,
   "metadata": {
    "collapsed": false
   },
   "outputs": [],
   "source": [
    "import likelihoodfree.io as io\n",
    "import os\n",
    "\n",
    "from likelihoodfree.Inference import Inference\n",
    "from lfmods.mog import MoGSimulator\n",
    "\n",
    "# check for subfolders, create if they don't exist\n",
    "dirs = {}\n",
    "dirs['dir_data'] = '../results/mog/data/'\n",
    "dirs['dir_nets'] = '../results/mog/nets/'\n",
    "dirs['dir_plots'] = '../results/mog/plots/'\n",
    "\n",
    "for k, v in dirs.items():\n",
    "    if not os.path.exists(v):\n",
    "        os.makedirs(v)"
   ]
  },
  {
   "cell_type": "markdown",
   "metadata": {},
   "source": [
    "## Plain"
   ]
  },
  {
   "cell_type": "code",
   "execution_count": 2,
   "metadata": {
    "collapsed": false,
    "scrolled": false
   },
   "outputs": [
    {
     "name": "stderr",
     "output_type": "stream",
     "text": [
      "100%|██████████| 100/100 [00:00<00:00, 43360.94it/s]\n",
      "100%|██████████| 100/100 [00:00<00:00, 3182.45it/s]"
     ]
    },
    {
     "name": "stdout",
     "output_type": "stream",
     "text": [
      "Drawing parameters\n",
      "Running forward model\n"
     ]
    },
    {
     "name": "stderr",
     "output_type": "stream",
     "text": [
      "\n",
      "  8%|▊         | 151/2000 [00:00<00:01, 1508.35it/s]"
     ]
    },
    {
     "name": "stdout",
     "output_type": "stream",
     "text": [
      "Training\n"
     ]
    },
    {
     "name": "stderr",
     "output_type": "stream",
     "text": [
      "100%|██████████| 2000/2000 [00:01<00:00, 1364.49it/s]\n",
      "100%|██████████| 100/100 [00:00<00:00, 8260.89it/s]\n",
      "100%|██████████| 100/100 [00:00<00:00, 3570.71it/s]"
     ]
    },
    {
     "name": "stdout",
     "output_type": "stream",
     "text": [
      "Drawing parameters\n",
      "Running forward model\n"
     ]
    },
    {
     "name": "stderr",
     "output_type": "stream",
     "text": [
      "\n",
      "  8%|▊         | 152/2000 [00:00<00:01, 1515.47it/s]"
     ]
    },
    {
     "name": "stdout",
     "output_type": "stream",
     "text": [
      "Training\n"
     ]
    },
    {
     "name": "stderr",
     "output_type": "stream",
     "text": [
      "100%|██████████| 2000/2000 [00:01<00:00, 1498.82it/s]\n",
      "100%|██████████| 2000/2000 [00:00<00:00, 12739.78it/s]\n",
      "  0%|          | 0/2000 [00:00<?, ?it/s]"
     ]
    },
    {
     "name": "stdout",
     "output_type": "stream",
     "text": [
      "Drawing parameters\n",
      "Running forward model\n"
     ]
    },
    {
     "name": "stderr",
     "output_type": "stream",
     "text": [
      "100%|██████████| 2000/2000 [00:00<00:00, 3556.56it/s]\n",
      "  0%|          | 89/20000 [00:00<00:22, 881.98it/s]"
     ]
    },
    {
     "name": "stdout",
     "output_type": "stream",
     "text": [
      "Training\n"
     ]
    },
    {
     "name": "stderr",
     "output_type": "stream",
     "text": [
      "100%|██████████| 20000/20000 [00:22<00:00, 881.23it/s]\n",
      "100%|██████████| 2000/2000 [00:00<00:00, 10876.47it/s]\n",
      "  0%|          | 0/2000 [00:00<?, ?it/s]"
     ]
    },
    {
     "name": "stdout",
     "output_type": "stream",
     "text": [
      "Drawing parameters\n",
      "Running forward model\n"
     ]
    },
    {
     "name": "stderr",
     "output_type": "stream",
     "text": [
      "100%|██████████| 2000/2000 [00:00<00:00, 4364.45it/s]\n",
      "  0%|          | 98/20000 [00:00<00:20, 975.81it/s]"
     ]
    },
    {
     "name": "stdout",
     "output_type": "stream",
     "text": [
      "Training\n"
     ]
    },
    {
     "name": "stderr",
     "output_type": "stream",
     "text": [
      "100%|██████████| 20000/20000 [00:22<00:00, 902.13it/s]\n"
     ]
    }
   ],
   "source": [
    "seed = 42\n",
    "prefix = 'plain'\n",
    "\n",
    "sim = MoGSimulator(seed=seed, dim=1)\n",
    "lfi = Inference(prefix=prefix, sim=sim, seed=seed, **dirs)\n",
    "\n",
    "# first training iteration\n",
    "svi = True\n",
    "debug = True\n",
    "net, props = lfi.net_create(svi=svi, n_components=1)\n",
    "lfi.train(net=net, postfix='iter_1', debug=debug)\n",
    "\n",
    "# next\n",
    "approx_posterior = io.load(dirs['dir_nets'] + '/' + prefix + '_' + 'iter_1_posterior.pkl')\n",
    "net, props = lfi.net_reload(postfix='iter_1', prior_proposal=approx_posterior)\n",
    "lfi.train(net=net, postfix='iter_2', debug=debug)\n",
    "\n",
    "# next\n",
    "approx_posterior = io.load(dirs['dir_nets'] + '/' + prefix + '_' + 'iter_2_posterior.pkl')\n",
    "net, props = lfi.net_reload(postfix='iter_2', n_components=2, prior_proposal=approx_posterior)\n",
    "lfi.train(net=net, postfix='iter_3', n_samples=2000, n_iter=500, debug=debug)\n",
    "\n",
    "# next\n",
    "approx_posterior = io.load(dirs['dir_nets'] + '/' + prefix + '_' + 'iter_3_posterior.pkl')\n",
    "net, props = lfi.net_reload(postfix='iter_3', n_components=2, prior_proposal=approx_posterior)\n",
    "lfi.train(net=net, postfix='iter_4', n_samples=2000, n_iter=500, debug=debug)"
   ]
  }
 ],
 "metadata": {
  "kernelspec": {
   "display_name": "Python 3",
   "language": "python",
   "name": "python3"
  },
  "language_info": {
   "codemirror_mode": {
    "name": "ipython",
    "version": 3
   },
   "file_extension": ".py",
   "mimetype": "text/x-python",
   "name": "python",
   "nbconvert_exporter": "python",
   "pygments_lexer": "ipython3",
   "version": "3.6.0"
  }
 },
 "nbformat": 4,
 "nbformat_minor": 2
}
