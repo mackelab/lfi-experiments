{
 "cells": [
  {
   "cell_type": "markdown",
   "metadata": {},
   "source": [
    "# Inference for MoG"
   ]
  },
  {
   "cell_type": "code",
   "execution_count": null,
   "metadata": {
    "collapsed": false
   },
   "outputs": [],
   "source": [
    "import likelihoodfree.io as io\n",
    "import os\n",
    "\n",
    "from likelihoodfree.Inference import Inference\n",
    "from lfmods.mog import MoGSimulator\n",
    "\n",
    "# check for subfolders, create if they don't exist\n",
    "dirs = {}\n",
    "dirs['dir_data'] = '../results/mog/data/'\n",
    "dirs['dir_nets'] = '../results/mog/nets/'\n",
    "dirs['dir_plots'] = '../results/mog/plots/'\n",
    "\n",
    "for k, v in dirs.items():\n",
    "    if not os.path.exists(v):\n",
    "        os.makedirs(v)\n",
    "        \n"
   ]
  },
  {
   "cell_type": "markdown",
   "metadata": {},
   "source": [
    "## Plain no SVI"
   ]
  },
  {
   "cell_type": "code",
   "execution_count": null,
   "metadata": {
    "collapsed": false
   },
   "outputs": [],
   "source": [
    "prefix = 'plain'\n",
    "\n",
    "sim = MoGSimulator()\n",
    "lfi = Inference(prefix=prefix, sim=sim, **dirs)\n",
    "\n",
    "# first training iteration\n",
    "net, props = lfi.net_create(svi=False, n_components=1)\n",
    "lfi.train(net=net, postfix='iter_1')\n",
    "\n",
    "# next training iteration\n",
    "approx_posterior = io.load(dirs['dir_nets'] + '/' + prefix + '_' + 'iter_1_posterior.pkl')\n",
    "net, props = lfi.net_load(postfix='iter_1', n_components=2, prior_proposal=approx_posterior)\n",
    "lfi.train(net=net, postfix='iter_2')"
   ]
  },
  {
   "cell_type": "markdown",
   "metadata": {},
   "source": [
    "## IW Loss example no SVI"
   ]
  },
  {
   "cell_type": "code",
   "execution_count": null,
   "metadata": {
    "collapsed": false,
    "scrolled": false
   },
   "outputs": [],
   "source": [
    "prefix = 'iwloss'\n",
    "\n",
    "sim = MoGSimulator()\n",
    "lfi = Inference(prefix=prefix, sim=sim, **dirs)\n",
    "\n",
    "# first training iteration\n",
    "net, props = lfi.net_create(svi=False, iw_loss=True, n_components=1)\n",
    "lfi.train(net=net, postfix='iter_1')\n",
    "\n",
    "# next training iteration\n",
    "approx_posterior = io.load(dirs['dir_nets'] + '/' + prefix + '_' + 'iter_1_posterior.pkl')\n",
    "net, props = lfi.net_load(postfix='iter_1', n_components=2, prior_alpha=0.1, prior_proposal=approx_posterior)\n",
    "lfi.train(net=net, postfix='iter_2')"
   ]
  }
 ],
 "metadata": {
  "kernelspec": {
   "display_name": "Python 3",
   "language": "python",
   "name": "python3"
  },
  "language_info": {
   "codemirror_mode": {
    "name": "ipython",
    "version": 3
   },
   "file_extension": ".py",
   "mimetype": "text/x-python",
   "name": "python",
   "nbconvert_exporter": "python",
   "pygments_lexer": "ipython3",
   "version": "3.6.0"
  }
 },
 "nbformat": 4,
 "nbformat_minor": 2
}
