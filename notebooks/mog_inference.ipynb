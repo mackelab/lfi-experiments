{
 "cells": [
  {
   "cell_type": "markdown",
   "metadata": {},
   "source": [
    "# Inference for MoG"
   ]
  },
  {
   "cell_type": "code",
   "execution_count": 1,
   "metadata": {
    "collapsed": true
   },
   "outputs": [],
   "source": [
    "import likelihoodfree.io as io\n",
    "import os\n",
    "\n",
    "from likelihoodfree.Inference import Inference\n",
    "from lfmods.mog import MoGSimulator\n",
    "\n",
    "# check for subfolders, create if they don't exist\n",
    "dirs = {}\n",
    "dirs['dir_data'] = '../results/mog/data/'\n",
    "dirs['dir_nets'] = '../results/mog/nets/'\n",
    "dirs['dir_plots'] = '../results/mog/plots/'\n",
    "\n",
    "for k, v in dirs.items():\n",
    "    if not os.path.exists(v):\n",
    "        os.makedirs(v)"
   ]
  },
  {
   "cell_type": "markdown",
   "metadata": {},
   "source": [
    "## Plain"
   ]
  },
  {
   "cell_type": "code",
   "execution_count": 3,
   "metadata": {
    "scrolled": false
   },
   "outputs": [
    {
     "name": "stderr",
     "output_type": "stream",
     "text": [
      "100%|██████████| 100/100 [00:00<00:00, 19872.57it/s]\n",
      "100%|██████████| 100/100 [00:00<00:00, 2030.45it/s]"
     ]
    },
    {
     "name": "stdout",
     "output_type": "stream",
     "text": [
      "Drawing parameters\n",
      "Running forward model\n"
     ]
    },
    {
     "name": "stderr",
     "output_type": "stream",
     "text": [
      "\n",
      " 13%|█▎        | 269/2000 [00:00<00:00, 2682.78it/s]"
     ]
    },
    {
     "name": "stdout",
     "output_type": "stream",
     "text": [
      "Training\n"
     ]
    },
    {
     "name": "stderr",
     "output_type": "stream",
     "text": [
      "100%|██████████| 2000/2000 [00:00<00:00, 2999.13it/s]\n",
      "100%|██████████| 100/100 [00:00<00:00, 8315.27it/s]\n",
      "100%|██████████| 100/100 [00:00<00:00, 2040.94it/s]"
     ]
    },
    {
     "name": "stdout",
     "output_type": "stream",
     "text": [
      "Drawing parameters\n",
      "Running forward model\n"
     ]
    },
    {
     "name": "stderr",
     "output_type": "stream",
     "text": [
      "\n",
      " 12%|█▏        | 249/2000 [00:00<00:00, 2483.71it/s]"
     ]
    },
    {
     "name": "stdout",
     "output_type": "stream",
     "text": [
      "Training\n"
     ]
    },
    {
     "name": "stderr",
     "output_type": "stream",
     "text": [
      "100%|██████████| 2000/2000 [00:00<00:00, 2941.81it/s]\n",
      "100%|██████████| 2000/2000 [00:00<00:00, 11038.38it/s]\n",
      "  0%|          | 0/2000 [00:00<?, ?it/s]"
     ]
    },
    {
     "name": "stdout",
     "output_type": "stream",
     "text": [
      "Drawing parameters\n",
      "Running forward model\n"
     ]
    },
    {
     "name": "stderr",
     "output_type": "stream",
     "text": [
      "100%|██████████| 2000/2000 [00:00<00:00, 3265.19it/s]\n",
      "  1%|          | 200/20000 [00:00<00:09, 1997.12it/s]"
     ]
    },
    {
     "name": "stdout",
     "output_type": "stream",
     "text": [
      "Training\n"
     ]
    },
    {
     "name": "stderr",
     "output_type": "stream",
     "text": [
      "100%|██████████| 20000/20000 [00:08<00:00, 2238.22it/s]\n"
     ]
    }
   ],
   "source": [
    "seed = 1\n",
    "prefix = 'plain'\n",
    "\n",
    "sim = MoGSimulator(seed=seed)\n",
    "lfi = Inference(prefix=prefix, sim=sim, seed=seed, **dirs)\n",
    "\n",
    "# first training iteration\n",
    "svi = False\n",
    "debug = True\n",
    "net, props = lfi.net_create(svi=svi, n_components=1)\n",
    "lfi.train(net=net, postfix='iter_1', debug=debug)\n",
    "\n",
    "# next\n",
    "approx_posterior = io.load(dirs['dir_nets'] + '/' + prefix + '_' + 'iter_1_posterior.pkl')\n",
    "net, props = lfi.net_load(postfix='iter_1', prior_proposal=approx_posterior)\n",
    "lfi.train(net=net, postfix='iter_2', debug=debug)\n",
    "\n",
    "# next\n",
    "approx_posterior = io.load(dirs['dir_nets'] + '/' + prefix + '_' + 'iter_2_posterior.pkl')\n",
    "net, props = lfi.net_load(postfix='iter_2', n_components=2, prior_proposal=approx_posterior)\n",
    "lfi.train(net=net, postfix='iter_3', n_samples=2000, n_iter=500, debug=debug)"
   ]
  },
  {
   "cell_type": "markdown",
   "metadata": {},
   "source": [
    "## IW Loss example no SVI"
   ]
  },
  {
   "cell_type": "code",
   "execution_count": 2,
   "metadata": {
    "scrolled": false
   },
   "outputs": [
    {
     "name": "stderr",
     "output_type": "stream",
     "text": [
      "100%|██████████| 100/100 [00:00<00:00, 30687.04it/s]\n",
      "  6%|▌         | 6/100 [00:00<00:01, 56.71it/s]"
     ]
    },
    {
     "name": "stdout",
     "output_type": "stream",
     "text": [
      "Drawing parameters\n",
      "Running forward model\n"
     ]
    },
    {
     "name": "stderr",
     "output_type": "stream",
     "text": [
      "100%|██████████| 100/100 [00:01<00:00, 58.35it/s]\n",
      " 14%|█▍        | 275/2000 [00:00<00:00, 2749.92it/s]"
     ]
    },
    {
     "name": "stdout",
     "output_type": "stream",
     "text": [
      "Training\n"
     ]
    },
    {
     "name": "stderr",
     "output_type": "stream",
     "text": [
      "100%|██████████| 2000/2000 [00:00<00:00, 2462.20it/s]\n",
      "100%|██████████| 100/100 [00:00<00:00, 10360.66it/s]\n",
      "  6%|▌         | 6/100 [00:00<00:01, 53.46it/s]"
     ]
    },
    {
     "name": "stdout",
     "output_type": "stream",
     "text": [
      "Drawing parameters\n",
      "Running forward model\n"
     ]
    },
    {
     "name": "stderr",
     "output_type": "stream",
     "text": [
      "100%|██████████| 100/100 [00:01<00:00, 60.54it/s]\n",
      " 12%|█▏        | 249/2000 [00:00<00:00, 2489.28it/s]"
     ]
    },
    {
     "name": "stdout",
     "output_type": "stream",
     "text": [
      "Training\n"
     ]
    },
    {
     "name": "stderr",
     "output_type": "stream",
     "text": [
      "100%|██████████| 2000/2000 [00:00<00:00, 2948.83it/s]\n",
      "  1%|          | 19/2000 [00:00<00:10, 187.48it/s]"
     ]
    },
    {
     "name": "stdout",
     "output_type": "stream",
     "text": [
      "Drawing parameters\n"
     ]
    },
    {
     "name": "stderr",
     "output_type": "stream",
     "text": [
      "100%|██████████| 2000/2000 [00:10<00:00, 182.04it/s]\n",
      "  0%|          | 6/2000 [00:00<00:34, 57.81it/s]"
     ]
    },
    {
     "name": "stdout",
     "output_type": "stream",
     "text": [
      "Running forward model\n"
     ]
    },
    {
     "name": "stderr",
     "output_type": "stream",
     "text": [
      "100%|██████████| 2000/2000 [00:32<00:00, 60.61it/s]\n",
      "  1%|          | 132/12000 [00:00<00:08, 1319.44it/s]"
     ]
    },
    {
     "name": "stdout",
     "output_type": "stream",
     "text": [
      "Training\n"
     ]
    },
    {
     "name": "stderr",
     "output_type": "stream",
     "text": [
      "100%|██████████| 12000/12000 [00:08<00:00, 1444.07it/s]\n",
      "  1%|          | 18/2000 [00:00<00:11, 179.87it/s]"
     ]
    },
    {
     "name": "stdout",
     "output_type": "stream",
     "text": [
      "Drawing parameters\n"
     ]
    },
    {
     "name": "stderr",
     "output_type": "stream",
     "text": [
      "100%|██████████| 2000/2000 [00:11<00:00, 178.69it/s]\n",
      "  0%|          | 7/2000 [00:00<00:32, 61.39it/s]"
     ]
    },
    {
     "name": "stdout",
     "output_type": "stream",
     "text": [
      "Running forward model\n"
     ]
    },
    {
     "name": "stderr",
     "output_type": "stream",
     "text": [
      "100%|██████████| 2000/2000 [00:32<00:00, 62.03it/s]\n",
      "  1%|▏         | 160/12000 [00:00<00:07, 1597.16it/s]"
     ]
    },
    {
     "name": "stdout",
     "output_type": "stream",
     "text": [
      "Training\n"
     ]
    },
    {
     "name": "stderr",
     "output_type": "stream",
     "text": [
      "100%|██████████| 12000/12000 [00:08<00:00, 1449.30it/s]\n"
     ]
    }
   ],
   "source": [
    "prefix = 'iwloss'\n",
    "\n",
    "sim = MoGSimulator()\n",
    "lfi = Inference(prefix=prefix, sim=sim, **dirs)\n",
    "\n",
    "# first training iteration\n",
    "svi = False\n",
    "debug = True\n",
    "net, props = lfi.net_create(svi=svi, n_components=1)\n",
    "lfi.train(net=net, postfix='iter_1', debug=debug)\n",
    "\n",
    "# next\n",
    "approx_posterior = io.load(dirs['dir_nets'] + '/' + prefix + '_' + 'iter_1_posterior.pkl')\n",
    "net, props = lfi.net_load(postfix='iter_1', prior_proposal=approx_posterior)\n",
    "lfi.train(net=net, postfix='iter_2', debug=debug)\n",
    "\n",
    "# next\n",
    "approx_posterior = io.load(dirs['dir_nets'] + '/' + prefix + '_' + 'iter_2_posterior.pkl')\n",
    "net, props = lfi.net_load(postfix='iter_2', n_components=2, iw_loss=True, prior_alpha=0.1, prior_proposal=approx_posterior)\n",
    "lfi.train(net=net, postfix='iter_3', n_samples=2000, n_iter=300, debug=debug)\n",
    "\n",
    "# next\n",
    "approx_posterior = io.load(dirs['dir_nets'] + '/' + prefix + '_' + 'iter_3_posterior.pkl')\n",
    "net, props = lfi.net_load(postfix='iter_3', n_components=2, iw_loss=True, prior_alpha=0.1, prior_proposal=approx_posterior)\n",
    "lfi.train(net=net, postfix='iter_4', n_samples=2000, n_iter=300, debug=debug)"
   ]
  }
 ],
 "metadata": {
  "kernelspec": {
   "display_name": "Python 3",
   "language": "python",
   "name": "python3"
  },
  "language_info": {
   "codemirror_mode": {
    "name": "ipython",
    "version": 3
   },
   "file_extension": ".py",
   "mimetype": "text/x-python",
   "name": "python",
   "nbconvert_exporter": "python",
   "pygments_lexer": "ipython3",
   "version": "3.6.0"
  }
 },
 "nbformat": 4,
 "nbformat_minor": 2
}
