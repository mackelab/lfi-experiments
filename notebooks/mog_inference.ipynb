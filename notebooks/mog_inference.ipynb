{
 "cells": [
  {
   "cell_type": "code",
   "execution_count": 4,
   "metadata": {
    "collapsed": false
   },
   "outputs": [
    {
     "name": "stderr",
     "output_type": "stream",
     "text": [
      "100%|██████████| 200/200 [00:00<00:00, 22695.22it/s]\n",
      "100%|██████████| 200/200 [00:00<00:00, 1729.25it/s]"
     ]
    },
    {
     "name": "stdout",
     "output_type": "stream",
     "text": [
      "Drawing parameters\n",
      "Running forward model\n"
     ]
    },
    {
     "name": "stderr",
     "output_type": "stream",
     "text": [
      "\n",
      "  3%|▎         | 101/4000 [00:00<00:03, 1003.90it/s]"
     ]
    },
    {
     "name": "stdout",
     "output_type": "stream",
     "text": [
      "Training\n"
     ]
    },
    {
     "name": "stderr",
     "output_type": "stream",
     "text": [
      "100%|██████████| 4000/4000 [00:04<00:00, 939.83it/s] \n",
      "100%|██████████| 200/200 [00:00<00:00, 22239.15it/s]\n",
      "100%|██████████| 200/200 [00:00<00:00, 1669.53it/s]"
     ]
    },
    {
     "name": "stdout",
     "output_type": "stream",
     "text": [
      "Drawing parameters\n",
      "Running forward model\n"
     ]
    },
    {
     "name": "stderr",
     "output_type": "stream",
     "text": [
      "\n",
      "  3%|▎         | 109/4000 [00:00<00:03, 1082.95it/s]"
     ]
    },
    {
     "name": "stdout",
     "output_type": "stream",
     "text": [
      "Training\n"
     ]
    },
    {
     "name": "stderr",
     "output_type": "stream",
     "text": [
      "100%|██████████| 4000/4000 [00:02<00:00, 1406.45it/s]\n"
     ]
    }
   ],
   "source": [
    "import time\n",
    "import sys\n",
    "import os\n",
    "import numpy as np\n",
    "import pdb\n",
    "\n",
    "from likelihoodfree.Inference import Inference\n",
    "from lfmods.mog import MoGSimulator\n",
    "\n",
    "# check for subfolders, create if they don't exist\n",
    "dirs = {}\n",
    "dirs['dir_data'] = '../results/mog/data/'\n",
    "dirs['dir_nets'] = '../results/mog/nets/'\n",
    "dirs['dir_plots'] = '../results/mog/plots/'\n",
    "\n",
    "for k, v in dirs.items():\n",
    "    if not os.path.exists(v):\n",
    "        os.makedirs(v)\n",
    "        \n",
    "# simulator\n",
    "sim = MoGSimulator()\n",
    "\n",
    "# init inference instance\n",
    "lfi = Inference(prefix='test', sim=sim, **dirs)\n",
    "#params, stats, dist = lfi.gen(10)\n",
    "\n",
    "# first training iteration\n",
    "net, props = lfi.net_create(svi=True)\n",
    "lfi.train(net=net, postfix='iter_1')\n",
    "\n",
    "# next training iteration\n",
    "net, props = lfi.net_load(postfix='iter_1')\n",
    "lfi.train(net=net, postfix='iter_2')"
   ]
  }
 ],
 "metadata": {
  "kernelspec": {
   "display_name": "Python 3",
   "language": "python",
   "name": "python3"
  }
 },
 "nbformat": 4,
 "nbformat_minor": 2
}
