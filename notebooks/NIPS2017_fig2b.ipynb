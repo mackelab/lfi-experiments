{
 "cells": [
  {
   "cell_type": "markdown",
   "metadata": {},
   "source": [
    "## NIPS 2017 figure 2b: application of likelihood-free to GLM and comparison to sampling"
   ]
  },
  {
   "cell_type": "code",
   "execution_count": null,
   "metadata": {
    "collapsed": true
   },
   "outputs": [],
   "source": [
    "%matplotlib inline\n",
    "from __future__ import division\n",
    "import numpy as np\n",
    "import scipy.signal as ss\n",
    "import matplotlib as mpl\n",
    "import matplotlib.pyplot as plt\n",
    "from mpl_toolkits.axes_grid1 import make_axes_locatable\n",
    "from pypolyagamma import PyPolyaGamma\n",
    "from math import factorial\n",
    "\n",
    "import likelihoodfree.io as io\n",
    "import likelihoodfree.viz as viz\n",
    "import likelihoodfree.PDF as lfpdf\n",
    "import os\n",
    "\n",
    "import svgutils.transform as sg"
   ]
  },
  {
   "cell_type": "markdown",
   "metadata": {},
   "source": [
    "## Some parameters of the analysis"
   ]
  },
  {
   "cell_type": "code",
   "execution_count": null,
   "metadata": {
    "collapsed": true,
    "hidden": true
   },
   "outputs": [],
   "source": [
    "# to save or not to save plots\n",
    "save_plot_flag = 1\n",
    "\n",
    "###############################################################################\n",
    "# number of parameters inferred\n",
    "num_param_inf = 10\n",
    "\n",
    "###############################################################################\n",
    "# number of repeats\n",
    "seed_list = np.array([1,2,3])\n",
    "num_rep = len(seed_list)\n",
    "\n",
    "###############################################################################\n",
    "# number of simulations per iteration\n",
    "sim_step = 5000\n",
    "num_round = 5\n",
    "num_sim = np.linspace(sim_step, num_round*sim_step, num_round).astype(int)\n",
    "\n",
    "###############################################################################\n",
    "# colors\n",
    "col_original = (35/255,86/255,167/255)\n",
    "col_lfree = (0, 174/255,239/255)\n",
    "col_samp = (244/255, 152/255, 25/255)"
   ]
  },
  {
   "cell_type": "markdown",
   "metadata": {},
   "source": [
    "## Loading files"
   ]
  },
  {
   "cell_type": "code",
   "execution_count": null,
   "metadata": {
    "collapsed": true
   },
   "outputs": [],
   "source": [
    "# loading filenames, paths and data\n",
    "iw_loss_ind = 1\n",
    "preprefix_list = [str(num_param_inf)+'sta_'+str(sim_step)+'_svi',str(num_param_inf)+'sta_'+str(sim_step)+'_iwloss_svi']\n",
    "prefix = preprefix_list[iw_loss_ind]+'_seed'+str(seed_list[0])\n",
    "basepath = '../results/glm/'\n",
    "dir_nets = basepath + 'nets/'\n",
    "dir_plots = basepath + 'plots/'\n",
    "sampler_plots = basepath + 'sampler/'\n",
    "\n",
    "# create folder for plots\n",
    "if save_plot_flag:\n",
    "    if not os.path.exists(dir_plots):\n",
    "        os.makedirs(dir_plots)\n",
    "\n",
    "###############################################################################\n",
    "# loading data and posteriors\n",
    "dists, infos, losses, nets, posteriors, sims = io.load_prefix(dir_nets, prefix)\n",
    "\n",
    "# data\n",
    "l_sims = list(sims.items())\n",
    "obs_stats = l_sims[len(sims)-1][1].obs\n",
    "y_obs = l_sims[len(sims)-1][1].obs_trace.reshape(-1,1)\n",
    "\n",
    "# posterior\n",
    "l_posteriors = list(posteriors.items())\n",
    "posterior = l_posteriors[len(l_posteriors)-1][1]\n",
    "\n",
    "###############################################################################\n",
    "# ground-truth parameters\n",
    "gt = l_sims[0][1].true_params\n",
    "\n",
    "###############################################################################\n",
    "# time\n",
    "t = l_sims[0][1].t\n",
    "\n",
    "###############################################################################\n",
    "# input\n",
    "I = l_sims[0][1].I_obs\n",
    "I = I.reshape(1,-1)"
   ]
  },
  {
   "cell_type": "markdown",
   "metadata": {},
   "source": [
    "## Sampler"
   ]
  },
  {
   "cell_type": "code",
   "execution_count": null,
   "metadata": {
    "collapsed": true
   },
   "outputs": [],
   "source": [
    "# SIMULATION PROTOCOL:\n",
    "N = 1   # Number of trials\n",
    "M = num_param_inf-1   # Length of the filter\n",
    "\n",
    "# build covariate matrix X, such that X * h returns convolution of x with filter h\n",
    "X = np.zeros(shape=(len(t), M))\n",
    "for j in range(M):\n",
    "    X[j:,j] = I[0,0:len(t)-j]\n",
    "\n",
    "###############################################################################\n",
    "# prior: Smoothing prior on h; N(0, 1) on b0. Smoothness encouraged by penalyzing \n",
    "# 2nd order differences of elements of filter\n",
    "D = np.diag(np.ones(M)) - np.diag(np.ones(M-1), -1)\n",
    "F = np.dot(D, D)\n",
    "# Binv is block diagonal\n",
    "Binv1 = np.zeros(shape=(M+1,M+1))\n",
    "Binv1[0,0] = 1    # offset (b0)\n",
    "Binv1[1:,1:] = np.dot(F.T, F) # filter (h)\n",
    "prior_dist = lfpdf.Gaussian(m=gt*0., P=Binv1)\n",
    "\n",
    "BETA_sub_samp = np.load(sampler_plots + 'sampling_'+str(num_param_inf)+'sta.npy')"
   ]
  },
  {
   "cell_type": "markdown",
   "metadata": {},
   "source": [
    "## Plotting modes and means"
   ]
  },
  {
   "cell_type": "code",
   "execution_count": null,
   "metadata": {
    "collapsed": false
   },
   "outputs": [],
   "source": [
    "fig = plt.figure()\n",
    "ax = plt.subplot()\n",
    "\n",
    "m_samp = np.mean(BETA_sub_samp,axis=1)\n",
    "cov_samp = np.cov(BETA_sub_samp)\n",
    "\n",
    "m, S = posterior.calc_mean_and_cov()\n",
    "\n",
    "min_m = np.min([np.min(gt),np.min(m),np.min(m_samp)])\n",
    "max_m = np.max([np.max(gt),np.max(m),np.max(m_samp)])\n",
    "\n",
    "plt.fill_between(np.linspace(1,num_param_inf,num_param_inf), m-np.sqrt(np.diag(S)),\n",
    "                 m+np.sqrt(np.diag(S)),facecolor=col_lfree,alpha=0.3)\n",
    "plt.fill_between(np.linspace(1,num_param_inf,num_param_inf), m_samp-np.sqrt(np.diag(cov_samp)),\n",
    "                 m_samp+np.sqrt(np.diag(cov_samp)),facecolor=col_samp,alpha=0.3)\n",
    "\n",
    "plt.plot(np.linspace(1,num_param_inf,num_param_inf),gt,'-o', color = col_original,\n",
    "             label='ground-truth')\n",
    "plt.plot(np.linspace(1,num_param_inf,num_param_inf),m,'-o',color = col_lfree,\n",
    "         label='lfree mode')\n",
    "plt.plot(np.linspace(1,num_param_inf,num_param_inf),m_samp,'-o',color = col_samp,\n",
    "         label='sampling mean')\n",
    "\n",
    "ax.set_xticks(np.linspace(2,num_param_inf,int(num_param_inf/2)).astype(int))\n",
    "ax.set_yticks(np.linspace(min_m,max_m,3))\n",
    "ax.yaxis.set_major_formatter(mpl.ticker.FormatStrFormatter('%.1f'))\n",
    "plt.xlabel('temporal filter')\n",
    "plt.ylabel('value')\n",
    "plt.legend()\n",
    "\n",
    "plt.tight_layout()\n",
    "\n",
    "# save figure\n",
    "if save_plot_flag == 1:\n",
    "    plt.savefig(dir_plots + 'fig_summary_samp_lfree_modes' + prefix + '.svg')\n",
    "plt.show()"
   ]
  },
  {
   "cell_type": "markdown",
   "metadata": {},
   "source": [
    "## Plotting covariances"
   ]
  },
  {
   "cell_type": "code",
   "execution_count": null,
   "metadata": {
    "collapsed": false
   },
   "outputs": [],
   "source": [
    "fig = plt.figure()\n",
    "\n",
    "min_cov = np.min([np.min(cov_samp),np.min(S)])\n",
    "max_cov = np.max([np.max(cov_samp),np.max(S)])\n",
    "\n",
    "ax = plt.subplot(1,2,1)\n",
    "im = plt.imshow(cov_samp, clim=(min_cov, max_cov), interpolation='none')\n",
    "ax.set_xticks(np.linspace(1,num_param_inf-1,int(num_param_inf/2)).astype(int))\n",
    "ax.set_yticks(np.linspace(1,num_param_inf-1,int(num_param_inf/2)).astype(int))\n",
    "ax.set_xticklabels(np.linspace(2,num_param_inf,int(num_param_inf/2)).astype(int))\n",
    "ax.set_yticklabels(np.linspace(2,num_param_inf,int(num_param_inf/2)).astype(int))\n",
    "plt.xlabel('filter')\n",
    "plt.ylabel('filter')\n",
    "plt.title('sampling covariance')\n",
    "divider = make_axes_locatable(ax)\n",
    "cax = divider.append_axes(\"right\", size=\"5%\", pad=0.05)\n",
    "cb = plt.colorbar(im, cax=cax)\n",
    "tick_locator = mpl.ticker.MaxNLocator(nbins=4)\n",
    "cb.locator = tick_locator\n",
    "cb.update_ticks()\n",
    "\n",
    "ax = plt.subplot(1,2,2)\n",
    "im = plt.imshow(S, clim=(min_cov, max_cov), interpolation='none')\n",
    "ax.set_xticks(np.linspace(1,num_param_inf-1,int(num_param_inf/2)).astype(int))\n",
    "ax.set_yticks(np.linspace(1,num_param_inf-1,int(num_param_inf/2)).astype(int))\n",
    "ax.set_xticklabels(np.linspace(2,num_param_inf,int(num_param_inf/2)).astype(int))\n",
    "ax.set_yticklabels(np.linspace(2,num_param_inf,int(num_param_inf/2)).astype(int))\n",
    "plt.xlabel('filter')\n",
    "plt.ylabel('filter')\n",
    "plt.title('lfree covariance')\n",
    "divider = make_axes_locatable(ax)\n",
    "cax = divider.append_axes(\"right\", size=\"5%\", pad=0.05)\n",
    "cb = plt.colorbar(im, cax=cax)\n",
    "tick_locator = mpl.ticker.MaxNLocator(nbins=4)\n",
    "cb.locator = tick_locator\n",
    "cb.update_ticks()\n",
    "\n",
    "plt.tight_layout()\n",
    "\n",
    "# save figure\n",
    "if save_plot_flag == 1:\n",
    "    plt.savefig(dir_plots + 'fig_summary_samp_lfree_covs' + prefix + '.svg')\n",
    "plt.show()"
   ]
  },
  {
   "cell_type": "markdown",
   "metadata": {},
   "source": [
    "## Partial view of posterior"
   ]
  },
  {
   "cell_type": "code",
   "execution_count": null,
   "metadata": {
    "collapsed": false,
    "scrolled": false
   },
   "outputs": [],
   "source": [
    "f = plt.subplots(1,6,figsize=(15,3))\n",
    "\n",
    "levels=(0.68, 0.95)\n",
    "\n",
    "for ii in range(min(posterior.ndim,3)):\n",
    "    for j in range(ii,min(posterior.ndim,3)):\n",
    "\n",
    "        if ii == j:\n",
    "            ax = plt.subplot(1,6,ii+1)\n",
    "\n",
    "            samp_plot = BETA_sub_samp[ii,:]\n",
    "            ax.hist(samp_plot,bins=100,normed = True,color=col_samp)\n",
    "\n",
    "            lims = np.array([np.min(samp_plot),np.max(samp_plot)])\n",
    "            xx = np.linspace(lims[0], lims[1], 500)\n",
    "\n",
    "            pp = posterior.eval(xx, ii=[ii], log=False)\n",
    "            ax.plot(xx, pp, lw=1, color=col_lfree)\n",
    "            ax.vlines(gt[ii], 0, ax.get_ylim()[1], lw=1, color='r')\n",
    "\n",
    "        else:\n",
    "            ax = plt.subplot(1,6,3+ii+j)\n",
    "\n",
    "            samp_plot_ii = BETA_sub_samp[ii,:]\n",
    "            samp_plot_j = BETA_sub_samp[j,:]\n",
    "            H, xedges, yedges = np.histogram2d(samp_plot_ii, samp_plot_j, bins=30,normed = True)\n",
    "            ax.imshow(H.T, origin='lower', extent=[xedges[0], xedges[-1], yedges[0],\n",
    "                                                   yedges[-1]],interpolation='none')\n",
    "\n",
    "            lims = np.array([[np.min(samp_plot_ii),np.max(samp_plot_ii)],[np.min(samp_plot_j),\n",
    "                              np.max(samp_plot_j)]])\n",
    "            xx = np.linspace(lims[0, 0], lims[0, 1], 500)\n",
    "            yy = np.linspace(lims[1 ,0], lims[1, 1], 500)\n",
    "            X, Y = np.meshgrid(xx, yy)\n",
    "            xy = np.concatenate([X.reshape([-1, 1]), Y.reshape([-1, 1])], axis=1)\n",
    "\n",
    "            pp = posterior.eval(xy, ii=[ii, j], log=False)\n",
    "            pp = pp.reshape(list(X.shape))\n",
    "            ax.contour(X, Y, viz.probs2contours(pp, levels), levels, lw=1,colors=('w','y'))\n",
    "            ax.set_xlim(lims[0])\n",
    "            ax.set_ylim(lims[1])\n",
    "            ax.plot(gt[ii], gt[j], 'r.', ms=8)\n",
    "            \n",
    "            \n",
    "plt.tight_layout()\n",
    "\n",
    "# save figure\n",
    "if save_plot_flag == 1:\n",
    "    plt.savefig(dir_plots + 'fig_summary_samp_lfree_posterior' + prefix + '.svg')\n",
    "plt.show()"
   ]
  },
  {
   "cell_type": "markdown",
   "metadata": {},
   "source": [
    "## Analysis of convergence"
   ]
  },
  {
   "cell_type": "code",
   "execution_count": null,
   "metadata": {
    "collapsed": false
   },
   "outputs": [],
   "source": [
    "fig = plt.figure()\n",
    "\n",
    "# GLM log-likelihood for all samples\n",
    "# binomial coefficient\n",
    "bin_coeff_t = np.zeros_like(t)\n",
    "for j in range(len(t)):\n",
    "    bin_coeff_t[j] = np.log(factorial(N)/(factorial(y_obs[j,0])*factorial(N-y_obs[j,0])))\n",
    "bin_coeff = np.sum(bin_coeff_t)\n",
    "\n",
    "# additional two terms of likelihood\n",
    "y_psi = np.dot(obs_stats,BETA_sub_samp)\n",
    "psi = np.zeros((len(t),len(BETA_sub_samp[0,:])))\n",
    "for j in range(len(BETA_sub_samp[0,:])):\n",
    "    psi[:,j] = BETA_sub_samp[0,j] + ss.lfilter(BETA_sub_samp[1:,j], 1, I.T, axis=0)[:,0]\n",
    "C = N*np.sum(np.log(1+np.exp(psi)),0)\n",
    "\n",
    "log_likel_samp = bin_coeff+y_psi-C\n",
    "\n",
    "############################\n",
    "# GLM log-posterior (up to the constant log p(data)) for all samples: log(prior)+log(likelihood)\n",
    "log_prior_samp = prior_dist.eval(BETA_sub_samp.T, log=True)\n",
    "log_post_samp = np.sum(log_likel_samp+log_prior_samp)\n",
    "\n",
    "\n",
    "kl_approx = np.zeros((num_rep,len(num_sim)))\n",
    "for iii in range(num_rep):\n",
    "    # load all iterations of iii inference\n",
    "    prefix1 = preprefix_list[iw_loss_ind]+'_seed'+str(seed_list[iii])\n",
    "    _, _, _, _, posteriors, _ = io.load_prefix(dir_nets, prefix1)\n",
    "    l_posteriors1 = list(posteriors.items())\n",
    "    \n",
    "    for jjj in range(len(num_sim)):\n",
    "        # compute KL for each jjj iteration of iii inference\n",
    "        posterior = l_posteriors1[jjj][1]\n",
    "        pp = posterior.eval(BETA_sub_samp.T, log=False)\n",
    "        kl_approx[iii,jjj] = log_post_samp - np.sum(np.log(pp))\n",
    "\n",
    "\n",
    "kl_approx_mn = np.mean(kl_approx,0)\n",
    "kl_approx_std = np.std(kl_approx,0)\n",
    "\n",
    "plt.fill_between(num_sim, kl_approx_mn-kl_approx_std,\n",
    "                 kl_approx_mn+kl_approx_std,facecolor=col_lfree,alpha=0.3)\n",
    "plt.plot(num_sim,kl_approx_mn,'o-', lw=2, color=col_lfree)\n",
    "# plt.locator_params(axis='y', nticks=3)\n",
    "# plt.locator_params(axis='x', nticks=4)\n",
    "plt.xlabel('no. simulations')\n",
    "plt.ylabel('KL')\n",
    "\n",
    "# save figure\n",
    "if save_plot_flag == 1:\n",
    "    plt.savefig(dir_plots + 'fig_summary_samp_lfree_convergence' + preprefix_list[iw_loss_ind] + '.svg')\n",
    "plt.show()"
   ]
  },
  {
   "cell_type": "markdown",
   "metadata": {},
   "source": [
    "## Plotting (i) modes, (ii) covariances, (iii) partial view of posterior and (iv) KL between sampling posterior and likelihood-free posterior"
   ]
  },
  {
   "cell_type": "code",
   "execution_count": null,
   "metadata": {
    "collapsed": false,
    "scrolled": true
   },
   "outputs": [],
   "source": [
    "#create new SVG figure\n",
    "fig = sg.SVGFigure(\"16cm\", \"6.5cm\")\n",
    "\n",
    "# load matpotlib-generated figures\n",
    "fig1 = sg.fromfile(dir_plots + 'fig_summary_samp_lfree_modes' + prefix + '.svg')\n",
    "fig2 = sg.fromfile(dir_plots + 'fig_summary_samp_lfree_covs' + prefix + '.svg')\n",
    "fig3 = sg.fromfile(dir_plots + 'fig_summary_samp_lfree_convergence' + preprefix_list[iw_loss_ind] + '.svg')\n",
    "fig4 = sg.fromfile(dir_plots + 'fig_summary_samp_lfree_posterior' + prefix + '.svg')\n",
    "\n",
    "# get the plot objects\n",
    "plot1 = fig1.getroot()\n",
    "plot1.moveto(15, 15, scale=0.4)\n",
    "plot2 = fig2.getroot()\n",
    "plot2.moveto(185, 15, scale=0.5)\n",
    "plot3 = fig3.getroot()\n",
    "plot3.moveto(415, 15, scale=0.4)\n",
    "plot4 = fig4.getroot()\n",
    "plot4.moveto(15, 130, scale=0.5)\n",
    "\n",
    "# add text labels\n",
    "txt1 = sg.TextElement(10,15, \"C\", size=12, weight=\"bold\")\n",
    "txt2 = sg.TextElement(180,15, \"D\", size=12, weight=\"bold\")\n",
    "txt3 = sg.TextElement(410,15, \"E\", size=12, weight=\"bold\")\n",
    "txt4 = sg.TextElement(10,130, \"F\", size=12, weight=\"bold\")\n",
    "\n",
    "# append plots and labels to figure\n",
    "fig.append([plot1, plot2, plot3, plot4])\n",
    "fig.append([txt1, txt2, txt3, txt4])\n",
    "\n",
    "# save figure\n",
    "if save_plot_flag == 1:\n",
    "    fig.save(dir_plots + 'NIPS2017_fig2b.svg')"
   ]
  },
  {
   "cell_type": "markdown",
   "metadata": {},
   "source": [
    "## Supplementary figure: analysis of stability for GLM"
   ]
  },
  {
   "cell_type": "code",
   "execution_count": null,
   "metadata": {
    "collapsed": false,
    "scrolled": true
   },
   "outputs": [],
   "source": [
    "levels=(0.68, 0.95)\n",
    "\n",
    "alpha_rep = np.linspace(0.5,1,num_rep)\n",
    "    \n",
    "f, axs = plt.subplots(1,3,figsize=(np.maximum(5,1.5*posterior.ndim),\n",
    "                               np.maximum(5,1.5*posterior.ndim)))\n",
    "\n",
    "posterior_list = []\n",
    "for iii in range(0,num_rep):\n",
    "\n",
    "    # load mdn parameters\n",
    "    prefix1 = preprefix_list[iw_loss_ind]+'_seed'+str(seed_list[iii])\n",
    "    _, _, _, _, posteriors, _ = io.load_prefix(dir_nets, prefix1)\n",
    "    l_posteriors1 = list(posteriors.items())\n",
    "    posterior = l_posteriors1[len(l_posteriors)-1][1]\n",
    "    posterior_list.append(posterior)\n",
    "\n",
    "for ii in range(posterior_list[0].ndim):\n",
    "    for j in range(ii,posterior_list[0].ndim):\n",
    "\n",
    "        if ii == j:\n",
    "            ax = plt.subplot2grid((posterior_list[0].ndim, posterior_list[0].ndim), (ii,j))\n",
    "\n",
    "            samp_plot = BETA_sub_samp[ii,:]\n",
    "            ax.hist(samp_plot,bins=100,normed = True,color=col_samp)\n",
    "\n",
    "            lims = np.array([np.min(samp_plot),np.max(samp_plot)])\n",
    "            xx = np.linspace(lims[0], lims[1], 500)\n",
    "\n",
    "            for iii in range(num_rep):\n",
    "                pp = posterior_list[iii].eval(xx, ii=[ii], log=False)\n",
    "                ax.plot(xx, pp, lw=1, color=col_lfree, alpha=alpha_rep[iii])\n",
    "            ax.vlines(gt[ii], 0, ax.get_ylim()[1], lw=1, color='r')\n",
    "\n",
    "        else:\n",
    "            ax = plt.subplot2grid((posterior_list[0].ndim, posterior_list[0].ndim), (ii,j))\n",
    "\n",
    "            samp_plot_ii = BETA_sub_samp[ii,:]\n",
    "            samp_plot_j = BETA_sub_samp[j,:]\n",
    "            H, xedges, yedges = np.histogram2d(samp_plot_ii, samp_plot_j, bins=30,normed = True)\n",
    "            ax.imshow(H.T, origin='lower', extent=[xedges[0], xedges[-1], yedges[0],\n",
    "                                                   yedges[-1]],interpolation='none')\n",
    "\n",
    "            lims = np.array([[np.min(samp_plot_ii),np.max(samp_plot_ii)],[np.min(samp_plot_j),\n",
    "                              np.max(samp_plot_j)]])\n",
    "            xx = np.linspace(lims[0, 0], lims[0, 1], 500)\n",
    "            yy = np.linspace(lims[1 ,0], lims[1, 1], 500)\n",
    "            X, Y = np.meshgrid(xx, yy)\n",
    "            xy = np.concatenate([X.reshape([-1, 1]), Y.reshape([-1, 1])], axis=1)\n",
    "\n",
    "            for iii in range(num_rep):\n",
    "                pp = posterior_list[iii].eval(xy, ii=[ii, j], log=False)\n",
    "                pp = pp.reshape(list(X.shape))\n",
    "                ax.contour(X, Y, viz.probs2contours(pp, levels), levels, lw=1,\n",
    "                           colors=('w','y'),alpha=alpha_rep[iii])\n",
    "            ax.set_xlim(lims[0])\n",
    "            ax.set_ylim(lims[1])\n",
    "            ax.plot(gt[ii], gt[j], 'r.', ms=8)\n",
    "\n",
    "plt.tight_layout()\n",
    "\n",
    "# save figure\n",
    "if save_plot_flag == 1:\n",
    "    plt.savefig(dir_plots + 'NIPS2017_suppfig_GLM.svg')\n",
    "plt.show()"
   ]
  },
  {
   "cell_type": "code",
   "execution_count": null,
   "metadata": {
    "collapsed": true
   },
   "outputs": [],
   "source": []
  }
 ],
 "metadata": {
  "anaconda-cloud": {},
  "kernelspec": {
   "display_name": "Python [Root]",
   "language": "python",
   "name": "Python [Root]"
  },
  "language_info": {
   "codemirror_mode": {
    "name": "ipython",
    "version": 3
   },
   "file_extension": ".py",
   "mimetype": "text/x-python",
   "name": "python",
   "nbconvert_exporter": "python",
   "pygments_lexer": "ipython3",
   "version": "3.5.3"
  }
 },
 "nbformat": 4,
 "nbformat_minor": 2
}
