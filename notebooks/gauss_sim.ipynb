{
 "cells": [
  {
   "cell_type": "markdown",
   "metadata": {},
   "source": [
    "# Using Gauss simulator"
   ]
  },
  {
   "cell_type": "code",
   "execution_count": null,
   "metadata": {},
   "outputs": [],
   "source": [
    "%matplotlib inline\n",
    "import likelihoodfree.viz as viz\n",
    "import matplotlib.pyplot as plt\n",
    "import numpy as np\n",
    "import seaborn.apionly as sns\n",
    "\n",
    "from lfmods.gauss import GaussSimulator"
   ]
  },
  {
   "cell_type": "markdown",
   "metadata": {},
   "source": [
    "## Setup the simulator"
   ]
  },
  {
   "cell_type": "code",
   "execution_count": null,
   "metadata": {},
   "outputs": [],
   "source": [
    "dim = 2\n",
    "sim = GaussSimulator(dim=dim, n_summary=10)"
   ]
  },
  {
   "cell_type": "markdown",
   "metadata": {},
   "source": [
    "## Sample single theta, one associated set of data points, and summary stats"
   ]
  },
  {
   "cell_type": "code",
   "execution_count": null,
   "metadata": {},
   "outputs": [],
   "source": [
    "theta = sim.sim_prior(n_samples=1)[0]\n",
    "samples = sim.forward_model(theta, n_samples=1)\n",
    "summary = sim.calc_summary_stats(samples)\n",
    "\n",
    "print(theta.shape)  # dim theta\n",
    "print(samples.shape)  # n_samples x dim data\n",
    "print(summary.shape)  # n_samples x dim summary stats"
   ]
  },
  {
   "cell_type": "markdown",
   "metadata": {},
   "source": [
    "## Sample joint distribution"
   ]
  },
  {
   "cell_type": "code",
   "execution_count": null,
   "metadata": {},
   "outputs": [],
   "source": [
    "n_samples = 1000\n",
    "ms, xs = sim.sim_joint(n_samples, summary=True)\n",
    "\n",
    "if dim == 1:\n",
    "    g = sns.jointplot(ms, xs, kind=\"scatter\", size=7, space=0, stat_func=None)\n",
    "else:\n",
    "    raise ValueError('not implemented')\n",
    "    \n",
    "plt.gcf().get_axes()[0].set_xlabel(r'$\\theta$')\n",
    "plt.gcf().get_axes()[0].set_ylabel('mean(x)')"
   ]
  },
  {
   "cell_type": "markdown",
   "metadata": {},
   "source": [
    "## True posterior"
   ]
  },
  {
   "cell_type": "code",
   "execution_count": null,
   "metadata": {},
   "outputs": [],
   "source": [
    "disp_lims = [-0.5, 2.5]\n",
    "viz.plot_pdf_marginals(pdf=sim.posterior, lims=disp_lims)\n",
    "plt.show()"
   ]
  },
  {
   "cell_type": "markdown",
   "metadata": {},
   "source": [
    "### Marginals only"
   ]
  },
  {
   "cell_type": "code",
   "execution_count": null,
   "metadata": {},
   "outputs": [],
   "source": [
    "disp_lims = [-0.5, 2.5]\n",
    "viz.plot_pdf_marginals(pdf=sim.posterior, lims=disp_lims, diag_only=True, diag_only_rows=1, diag_only_cols=2)\n",
    "plt.show()"
   ]
  },
  {
   "cell_type": "code",
   "execution_count": null,
   "metadata": {},
   "outputs": [],
   "source": []
  }
 ],
 "metadata": {
  "kernelspec": {
   "display_name": "Python 3",
   "language": "python",
   "name": "python3"
  },
  "language_info": {
   "codemirror_mode": {
    "name": "ipython",
    "version": 3
   },
   "file_extension": ".py",
   "mimetype": "text/x-python",
   "name": "python",
   "nbconvert_exporter": "python",
   "pygments_lexer": "ipython3",
   "version": "3.6.0"
  }
 },
 "nbformat": 4,
 "nbformat_minor": 2
}
