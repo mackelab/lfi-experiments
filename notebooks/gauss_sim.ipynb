{
 "cells": [
  {
   "cell_type": "markdown",
   "metadata": {},
   "source": [
    "# Using Gauss simulator"
   ]
  },
  {
   "cell_type": "code",
   "execution_count": null,
   "metadata": {},
   "outputs": [],
   "source": [
    "%matplotlib inline\n",
    "import likelihoodfree.viz as viz\n",
    "import matplotlib.pyplot as plt\n",
    "import numpy as np\n",
    "import seaborn.apionly as sns\n",
    "\n",
    "from lfmods.gauss import GaussSimulator"
   ]
  },
  {
   "cell_type": "markdown",
   "metadata": {},
   "source": [
    "## Setup the simulator"
   ]
  },
  {
   "cell_type": "code",
   "execution_count": null,
   "metadata": {},
   "outputs": [],
   "source": [
    "dim = 2\n",
    "sim = GaussSimulator(dim=dim, n_summary=10)"
   ]
  },
  {
   "cell_type": "markdown",
   "metadata": {},
   "source": [
    "## Checking shapes"
   ]
  },
  {
   "cell_type": "code",
   "execution_count": null,
   "metadata": {},
   "outputs": [],
   "source": [
    "obs = sim.obs\n",
    "theta = sim.sim_prior(n_samples=1)[0]\n",
    "samples = sim.forward_model(theta, n_samples=1)\n",
    "summary = sim.calc_summary_stats(samples)\n",
    "n_samples = 5\n",
    "thetas, stats, xs = sim.sim_joint(n_samples)\n",
    "\n",
    "print(obs.shape)  # 1 x dim summary stats\n",
    "print(theta.shape)  # dim theta\n",
    "print(samples.shape)  # n_samples x dim data x features (= sim.dim)\n",
    "print(summary.shape)  # n_samples x dim summary stats\n",
    "print(thetas.shape)  # n_samples x dim theta\n",
    "print(stats.shape)  # n_samples x dim summary stats \n",
    "print(xs.shape)  # n_samples x dim data x features (= sim.dim)"
   ]
  },
  {
   "cell_type": "markdown",
   "metadata": {},
   "source": [
    "## Sample joint distribution"
   ]
  },
  {
   "cell_type": "code",
   "execution_count": null,
   "metadata": {},
   "outputs": [],
   "source": [
    "n_samples = 100\n",
    "thetas, stats, xs = sim.sim_joint(n_samples)\n",
    "\n",
    "if dim == 1:\n",
    "    g = sns.jointplot(thetas, stats, kind=\"scatter\", size=7, space=0, stat_func=None)\n",
    "    plt.gcf().get_axes()[0].set_xlabel(r'$\\theta$')\n",
    "    plt.gcf().get_axes()[0].set_ylabel('mean(x)')\n",
    "else:\n",
    "    print('not implemented')"
   ]
  },
  {
   "cell_type": "markdown",
   "metadata": {},
   "source": [
    "## Prior"
   ]
  },
  {
   "cell_type": "code",
   "execution_count": null,
   "metadata": {},
   "outputs": [],
   "source": [
    "disp_lims = [-12.0, 12.0]\n",
    "viz.plot_pdf_marginals(pdf=sim.prior, lims=disp_lims)\n",
    "plt.show()"
   ]
  },
  {
   "cell_type": "markdown",
   "metadata": {},
   "source": [
    "## Analytical posterior"
   ]
  },
  {
   "cell_type": "code",
   "execution_count": null,
   "metadata": {},
   "outputs": [],
   "source": [
    "disp_lims = [-0.5, 2.5]\n",
    "viz.plot_pdf_marginals(pdf=sim.posterior, lims=disp_lims)\n",
    "plt.show()"
   ]
  },
  {
   "cell_type": "markdown",
   "metadata": {},
   "source": [
    "### Marginals only"
   ]
  },
  {
   "cell_type": "code",
   "execution_count": null,
   "metadata": {},
   "outputs": [],
   "source": [
    "disp_lims = [-0.5, 2.5]\n",
    "viz.plot_pdf_marginals(pdf=sim.posterior, lims=disp_lims, diag_only=True, diag_only_rows=1, diag_only_cols=2)\n",
    "plt.show()"
   ]
  }
 ],
 "metadata": {
  "kernelspec": {
   "display_name": "Python 3",
   "language": "python",
   "name": "python3"
  },
  "language_info": {
   "codemirror_mode": {
    "name": "ipython",
    "version": 3
   },
   "file_extension": ".py",
   "mimetype": "text/x-python",
   "name": "python",
   "nbconvert_exporter": "python",
   "pygments_lexer": "ipython3",
   "version": "3.6.0"
  }
 },
 "nbformat": 4,
 "nbformat_minor": 2
}
