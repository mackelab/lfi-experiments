{
 "cells": [
  {
   "cell_type": "markdown",
   "metadata": {},
   "source": [
    "## Analyse Gauss run"
   ]
  },
  {
   "cell_type": "code",
   "execution_count": null,
   "metadata": {},
   "outputs": [],
   "source": [
    "prefix = 'test'\n",
    "basepath = '../results/gauss/'"
   ]
  },
  {
   "cell_type": "code",
   "execution_count": null,
   "metadata": {
    "hidden": true
   },
   "outputs": [],
   "source": [
    "%matplotlib inline\n",
    "import likelihoodfree.io as io\n",
    "import likelihoodfree.viz as viz\n",
    "import matplotlib.pyplot as plt\n",
    "import numpy as np\n",
    "import os\n",
    "\n",
    "dir_nets = basepath + 'nets/'\n",
    "dists, infos, losses, nets, posteriors, sims = io.load_prefix(dir_nets, prefix)"
   ]
  },
  {
   "cell_type": "markdown",
   "metadata": {},
   "source": [
    "## Posterior"
   ]
  },
  {
   "cell_type": "code",
   "execution_count": null,
   "metadata": {},
   "outputs": [],
   "source": [
    "sim = next(iter(sims.items()))[1]\n",
    "true_posterior = sim.posterior\n",
    "true_prior = sim.prior\n",
    "\n",
    "x = np.atleast_2d(np.linspace(-7., 7., 1000)).T\n",
    "\n",
    "shared_kwargs = {}\n",
    "shared_kwargs['diag_only'] = True\n",
    "shared_kwargs['diag_only_rows'] = 1\n",
    "shared_kwargs['diag_only_cols'] = sim.dim\n",
    "shared_kwargs['lims'] = np.array((-5., 5.)).T\n",
    "\n",
    "for k, v in posteriors.items():\n",
    "    fig, ax = viz.plot_pdf_marginals(true_prior, **shared_kwargs)    \n",
    "    fig, ax = viz.plot_pdf_marginals(true_posterior, ax=ax, **shared_kwargs)    \n",
    "    viz.plot_pdf_marginals(v, ax=ax, **shared_kwargs)    \n",
    "    plt.legend(['prior', 'posterior', 'fit posterior'])\n",
    "    plt.ylim([0, 8])\n",
    "plt.show()"
   ]
  },
  {
   "cell_type": "markdown",
   "metadata": {},
   "source": [
    "## Training loss"
   ]
  },
  {
   "cell_type": "code",
   "execution_count": null,
   "metadata": {},
   "outputs": [],
   "source": [
    "for k, v in losses.items():\n",
    "    fig, ax = viz.loss(v, title=k)\n",
    "    plt.show()"
   ]
  },
  {
   "cell_type": "markdown",
   "metadata": {},
   "source": [
    "## Distance of samples"
   ]
  },
  {
   "cell_type": "code",
   "execution_count": null,
   "metadata": {},
   "outputs": [],
   "source": [
    "for k, v in dists.items():\n",
    "    fig, ax = viz.dist(v, title=k)"
   ]
  },
  {
   "cell_type": "markdown",
   "metadata": {},
   "source": [
    "## Info"
   ]
  },
  {
   "cell_type": "code",
   "execution_count": null,
   "metadata": {},
   "outputs": [],
   "source": [
    "for k, v in infos.items():\n",
    "    print(viz.info(v, title=k))"
   ]
  }
 ],
 "metadata": {
  "kernelspec": {
   "display_name": "Python 3",
   "language": "python",
   "name": "python3"
  },
  "language_info": {
   "codemirror_mode": {
    "name": "ipython",
    "version": 3
   },
   "file_extension": ".py",
   "mimetype": "text/x-python",
   "name": "python",
   "nbconvert_exporter": "python",
   "pygments_lexer": "ipython3",
   "version": "3.6.0"
  }
 },
 "nbformat": 4,
 "nbformat_minor": 2
}
