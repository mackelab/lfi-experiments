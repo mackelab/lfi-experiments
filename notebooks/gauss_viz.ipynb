{
 "cells": [
  {
   "cell_type": "markdown",
   "metadata": {},
   "source": [
    "## Analyse Gauss run"
   ]
  },
  {
   "cell_type": "code",
   "execution_count": null,
   "metadata": {},
   "outputs": [],
   "source": [
    "prefix = 'plain'\n",
    "basepath = '../results/gauss/'"
   ]
  },
  {
   "cell_type": "code",
   "execution_count": null,
   "metadata": {
    "hidden": true
   },
   "outputs": [],
   "source": [
    "%matplotlib inline\n",
    "import likelihoodfree.io as io\n",
    "import likelihoodfree.viz as viz\n",
    "import matplotlib.pyplot as plt\n",
    "import numpy as np\n",
    "import os\n",
    "\n",
    "dir_nets = basepath + 'nets/'\n",
    "dists, infos, losses, nets, posteriors, sims = io.load_prefix(dir_nets, prefix)"
   ]
  },
  {
   "cell_type": "code",
   "execution_count": null,
   "metadata": {},
   "outputs": [],
   "source": [
    "info = next(iter(infos.items()))[1]\n",
    "\n",
    "print('iw loss : {}'.format(info['iw_loss']))\n",
    "\n",
    "if info['loss_calib'] is None:\n",
    "    print('no loss calib')\n",
    "else:\n",
    "    print('loss calib : {}'.format(info['loss_calib'].S[0][0]))\n",
    "    \n",
    "print('seed : {}'.format(info['seed']))\n",
    "print('svi : {}'.format(info['svi']))"
   ]
  },
  {
   "cell_type": "markdown",
   "metadata": {},
   "source": [
    "## Posterior"
   ]
  },
  {
   "cell_type": "code",
   "execution_count": null,
   "metadata": {},
   "outputs": [],
   "source": [
    "sim = next(iter(sims.items()))[1]\n",
    "true_posterior = sim.posterior\n",
    "true_prior = sim.prior\n",
    "\n",
    "x = np.atleast_2d(np.linspace(-7., 7., 1000)).T\n",
    "\n",
    "shared_kwargs = {}\n",
    "shared_kwargs['diag_only'] = True\n",
    "shared_kwargs['diag_only_rows'] = 1\n",
    "shared_kwargs['diag_only_cols'] = sim.dim\n",
    "shared_kwargs['lims'] = np.array((-5., 5.)).T\n",
    "\n",
    "for k, v in posteriors.items():\n",
    "    if sim.prior_uniform:\n",
    "        fig = plt.figure()\n",
    "        ax = plt.plot([-7, 7.], [1., 1.])\n",
    "    else:\n",
    "        fig, ax = viz.plot_pdf_marginals(true_prior, **shared_kwargs)\n",
    "    fig, ax = viz.plot_pdf_marginals(true_posterior, ax=ax, **shared_kwargs)    \n",
    "    viz.plot_pdf_marginals(v, ax=ax, **shared_kwargs)    \n",
    "    plt.legend(['prior', 'posterior', 'fit posterior'])\n",
    "plt.show()"
   ]
  },
  {
   "cell_type": "markdown",
   "metadata": {},
   "source": [
    "## Training loss"
   ]
  },
  {
   "cell_type": "code",
   "execution_count": null,
   "metadata": {},
   "outputs": [],
   "source": [
    "for k, v in losses.items():\n",
    "    fig, ax = viz.loss(v, title=k)\n",
    "    plt.show()"
   ]
  },
  {
   "cell_type": "markdown",
   "metadata": {},
   "source": [
    "## Distance of samples"
   ]
  },
  {
   "cell_type": "code",
   "execution_count": null,
   "metadata": {},
   "outputs": [],
   "source": [
    "for k, v in dists.items():\n",
    "    fig, ax = viz.dist(v, title=k)"
   ]
  },
  {
   "cell_type": "markdown",
   "metadata": {},
   "source": [
    "## Info"
   ]
  },
  {
   "cell_type": "code",
   "execution_count": null,
   "metadata": {},
   "outputs": [],
   "source": [
    "for k, v in infos.items():\n",
    "    print(viz.info(v, title=k))"
   ]
  }
 ],
 "metadata": {
  "kernelspec": {
   "display_name": "Python 3",
   "language": "python",
   "name": "python3"
  },
  "language_info": {
   "codemirror_mode": {
    "name": "ipython",
    "version": 2
   },
   "file_extension": ".py",
   "mimetype": "text/x-python",
   "name": "python",
   "nbconvert_exporter": "python",
   "pygments_lexer": "ipython2",
   "version": "2.7.13"
  }
 },
 "nbformat": 4,
 "nbformat_minor": 2
}
