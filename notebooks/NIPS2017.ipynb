{
 "cells": [
  {
   "cell_type": "markdown",
   "metadata": {},
   "source": [
    "# Common code for NIPS figures"
   ]
  },
  {
   "cell_type": "code",
   "execution_count": 1,
   "metadata": {
    "collapsed": true
   },
   "outputs": [],
   "source": [
    "%matplotlib inline\n",
    "from __future__ import division\n",
    "\n",
    "import likelihoodfree.io as io\n",
    "import likelihoodfree.viz as viz\n",
    "import likelihoodfree.PDF as lfpdf\n",
    "import matplotlib as mpl\n",
    "import matplotlib.pyplot as plt\n",
    "import numpy as np\n",
    "import os\n",
    "import scipy.signal as ss\n",
    "import socket\n",
    "import svgutils.transform as sg\n",
    "\n",
    "from IPython.display import SVG, display\n",
    "from mpl_toolkits.axes_grid1 import make_axes_locatable\n",
    "from math import factorial"
   ]
  },
  {
   "cell_type": "code",
   "execution_count": 2,
   "metadata": {
    "collapsed": true
   },
   "outputs": [],
   "source": [
    "def cm2px(cm):\n",
    "    return int(np.round(cm / 2.54*300))\n",
    "\n",
    "def svg(img):\n",
    "    display(SVG(img))"
   ]
  },
  {
   "cell_type": "code",
   "execution_count": 8,
   "metadata": {
    "collapsed": true
   },
   "outputs": [],
   "source": [
    "FIG_WIDTH = 16\n",
    "FIG_WIDTH_CM = str(FIG_WIDTH) + 'cm'\n",
    "FIG_WIDTH_PX = cm2px(FIG_WIDTH)\n",
    "\n",
    "FONT_SIZE_PANEL = 20"
   ]
  },
  {
   "cell_type": "code",
   "execution_count": null,
   "metadata": {},
   "outputs": [],
   "source": [
    "HOSTNAME = socket.gethostname()\n",
    "\n",
    "if HOSTNAME == 'nsa3004':\n",
    "    PATH_DROPBOX = '/home/jm/Mackelab/team/Write/Manuscripts/2017_NIPS_NeuralModelInference/'\n",
    "else:\n",
    "    raise ValueError('Unknown hostname {}, add in if-else block'.format(HOSTNAME))\n",
    "\n",
    "PATH_DROPBOX_FIGS = PATH_DROPBOX + 'figs/'"
   ]
  }
 ],
 "metadata": {
  "kernelspec": {
   "display_name": "Python 3",
   "language": "python",
   "name": "python3"
  },
  "language_info": {
   "codemirror_mode": {
    "name": "ipython",
    "version": 3
   },
   "file_extension": ".py",
   "mimetype": "text/x-python",
   "name": "python",
   "nbconvert_exporter": "python",
   "pygments_lexer": "ipython3",
   "version": "3.6.0"
  }
 },
 "nbformat": 4,
 "nbformat_minor": 2
}
