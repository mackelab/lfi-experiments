{
 "cells": [
  {
   "cell_type": "markdown",
   "metadata": {},
   "source": [
    "# Common code for NIPS figures"
   ]
  },
  {
   "cell_type": "code",
   "execution_count": 1,
   "metadata": {
    "collapsed": true
   },
   "outputs": [],
   "source": [
    "%matplotlib inline\n",
    "from __future__ import division\n",
    "\n",
    "import IPython.display as IPd\n",
    "import likelihoodfree.io as io\n",
    "import likelihoodfree.viz as viz\n",
    "import likelihoodfree.PDF as lfpdf\n",
    "import matplotlib as mpl\n",
    "import matplotlib.pyplot as plt\n",
    "import numpy as np\n",
    "import os\n",
    "import scipy.signal as ss\n",
    "import socket\n",
    "import svgutil\n",
    "\n",
    "from math import factorial\n",
    "from mpl_toolkits.axes_grid1 import make_axes_locatable\n",
    "from svgutil.compose import Unit"
   ]
  },
  {
   "cell_type": "code",
   "execution_count": 5,
   "metadata": {
    "collapsed": true
   },
   "outputs": [],
   "source": [
    "# shorthands\n",
    "sc = svgutil.compose\n",
    "st = svgutil.transform\n",
    "\n",
    "# conversion\n",
    "def cm2cm(cm):\n",
    "    return cm * 1\n",
    "\n",
    "def cm2in(cm):\n",
    "    return cm * 1 / Unit.per_inch['cm']\n",
    "\n",
    "def cm2mm(cm):\n",
    "    return cm * Unit.per_inch['mm'] / Unit.per_inch['cm']\n",
    "\n",
    "def cm2pt(cm):\n",
    "    return cm * Unit.per_inch['pt'] / Unit.per_inch['cm']\n",
    "\n",
    "def cm2px(cm):\n",
    "    return cm * Unit.per_inch['px'] / Unit.per_inch['cm']"
   ]
  },
  {
   "cell_type": "code",
   "execution_count": 6,
   "metadata": {
    "collapsed": true
   },
   "outputs": [],
   "source": [
    "def svg(img):\n",
    "    IPd.display(IPd.SVG(img))"
   ]
  },
  {
   "cell_type": "code",
   "execution_count": 7,
   "metadata": {
    "collapsed": true
   },
   "outputs": [],
   "source": [
    "SCALE_PX = 6\n",
    "SCALE_IN = 2.25\n",
    "FIG_WIDTH_MM = 160\n",
    "\n",
    "def mm2px(mm, scale=SCALE_PX):\n",
    "    return scale*mm\n",
    "\n",
    "def mm2inch(mm):\n",
    "    return mm*0.0393701\n",
    "\n",
    "mm2inches = mm2inch\n",
    "\n",
    "def create_fig(width_mm, height_mm):\n",
    "    return st.SVGFigure(mm2px(FIG_WIDTH_MM), mm2px(FIG_HEIGHT_MM))\n",
    "\n",
    "def add_label(fig, letter, x_pos_mm=0, y_pos_mm=0, font_size_px=18, weight='bold'):\n",
    "    fig.append(st.TextElement(mm2px(x_pos_mm),  # location of letter in x direction\n",
    "                              mm2px(y_pos_mm),  # location of letter in y direction\n",
    "                              letter,  # letter\n",
    "                              size=font_size_px,  # in px of font\n",
    "                              weight=weight))\n",
    "    return fig\n",
    "\n",
    "def add_grid(fig, x_spacing_mm=10, y_spacing_mm=10, font_size_px=10, width_px=1):\n",
    "    fig.append(sc.Grid(mm2px(x_spacing_mm),  # in mm, spacing of grid in x direction\n",
    "                       mm2px(y_spacing_mm),  # in mm, spacing of grid in y direction\n",
    "                       size=font_size_px,  # in px of font \n",
    "                       width=width_px,  # in px of grid lines\n",
    "                       xmax=int(fig.width), \n",
    "                       ymax=int(fig.height),\n",
    "                       multiply=1/SCALE_PX))\n",
    "    return fig\n",
    "\n",
    "def add_svg(fig, filename, x_pos_mm=0, y_pos_mm=0, scale=1, verbose=False):\n",
    "    svg_file = st.fromfile(filename)\n",
    "    width, height = svg_file.get_size()\n",
    "    if verbose:\n",
    "        print('size of svg of {} : {}'.format(filename, (width, height)))\n",
    "    svg_root = svg_file.getroot()\n",
    "    svg_root.moveto(mm2px(x_pos_mm), mm2px(y_pos_mm), scale=scale)\n",
    "    fig.append([svg_root])\n",
    "    return fig\n",
    "\n",
    "def get_num(x):\n",
    "    if type(x) == str:\n",
    "        return float(''.join(ele for ele in x if ele.isdigit() or ele == '.'))\n",
    "    else:\n",
    "        return None"
   ]
  },
  {
   "cell_type": "code",
   "execution_count": 8,
   "metadata": {
    "collapsed": true
   },
   "outputs": [],
   "source": [
    "HOSTNAME = socket.gethostname()\n",
    "\n",
    "INKSCAPE = 'inkscape'\n",
    "if HOSTNAME == 'nsa3004':  # jm workstation\n",
    "    PATH_DROPBOX = '/home/jm/Mackelab/team/Write/Manuscripts/2017_NIPS_NeuralModelInference/'\n",
    "elif HOSTNAME == 'Pep.local':  # pedro macbook\n",
    "    PATH_DROPBOX = '/Users/pedro/Mackelab/team/Write/Manuscripts/2017_NIPS_NeuralModelInference/'\n",
    "    INKSCAPE = '/Applications/Inkscape.app/Contents/Resources/script'\n",
    "elif HOSTNAME == 'jml.local':  # jm macbook\n",
    "    PATH_DROPBOX = '/Users/jm/Mackelab/team/Write/Manuscripts/2017_NIPS_NeuralModelInference/'\n",
    "else:\n",
    "    raise ValueError('Unknown hostname {}, add in if-else block'.format(HOSTNAME))\n",
    "\n",
    "PATH_DROPBOX_FIGS = PATH_DROPBOX + 'figs/'\n",
    "\n",
    "MPL_RC = 'NIPS2017.rc'"
   ]
  },
  {
   "cell_type": "code",
   "execution_count": 10,
   "metadata": {},
   "outputs": [
    {
     "name": "stdout",
     "output_type": "stream",
     "text": [
      "dir_nets_gauss\n",
      "dir_nets_mog\n",
      "dir_nets_glm\n",
      "dir_nets_autapse\n",
      "dir_nets_hh\n"
     ]
    }
   ],
   "source": [
    "dirs = {}\n",
    "for model in ['gauss', 'mog', 'glm', 'autapse', 'hh']:\n",
    "    dirs['dir_nets_{}'.format(model)] = '../results/'+model+'/nets/'\n",
    "    dirs['dir_sampler_{}'.format(model)] = '../results/'+model+'/sampler/'"
   ]
  }
 ],
 "metadata": {
  "kernelspec": {
   "display_name": "Python 3",
   "language": "python",
   "name": "python3"
  }
 },
 "nbformat": 4,
 "nbformat_minor": 2
}
