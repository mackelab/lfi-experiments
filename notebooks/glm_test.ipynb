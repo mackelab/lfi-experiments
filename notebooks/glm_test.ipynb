{
 "cells": [
  {
   "cell_type": "markdown",
   "metadata": {},
   "source": [
    "## Analyse GLM run"
   ]
  },
  {
   "cell_type": "code",
   "execution_count": null,
   "metadata": {
    "collapsed": true
   },
   "outputs": [],
   "source": [
    "%matplotlib inline\n",
    "from __future__ import division\n",
    "import numpy as np\n",
    "import scipy.signal as ss\n",
    "import matplotlib as mpl\n",
    "import matplotlib.pyplot as plt\n",
    "from mpl_toolkits.axes_grid1 import make_axes_locatable\n",
    "from pypolyagamma import PyPolyaGamma\n",
    "from math import factorial\n",
    "\n",
    "import likelihoodfree.io as io\n",
    "import likelihoodfree.viz as viz\n",
    "import likelihoodfree.PDF as lfpdf\n",
    "import os"
   ]
  },
  {
   "cell_type": "markdown",
   "metadata": {},
   "source": [
    "## Some parameters of the analysis"
   ]
  },
  {
   "cell_type": "code",
   "execution_count": null,
   "metadata": {
    "collapsed": true,
    "hidden": true
   },
   "outputs": [],
   "source": [
    "# to save or not to save plots\n",
    "save_plot_flag = 0\n",
    "\n",
    "###############################################################################\n",
    "# number of parameters inferred\n",
    "num_param_inf = 10\n",
    "\n",
    "###############################################################################\n",
    "# number of repeats\n",
    "seed_list = np.array([1,2,3])\n",
    "num_rep = len(seed_list)\n",
    "\n",
    "###############################################################################\n",
    "# number of simulations per iteration\n",
    "sim_step = 5000\n",
    "num_round = 5\n",
    "num_sim = np.linspace(sim_step, num_round*sim_step, num_round).astype(int)\n",
    "\n",
    "###############################################################################\n",
    "# colors\n",
    "col_original = (35/255,86/255,167/255)\n",
    "col_lfree = (0, 174/255,239/255)\n",
    "col_samp = (244/255, 152/255, 25/255)"
   ]
  },
  {
   "cell_type": "markdown",
   "metadata": {},
   "source": [
    "## Loading files"
   ]
  },
  {
   "cell_type": "code",
   "execution_count": null,
   "metadata": {
    "collapsed": true
   },
   "outputs": [],
   "source": [
    "# loading filenames, paths and data\n",
    "iw_loss_ind = 1\n",
    "# preprefix_list = ['2sta_1000','2sta_1000_iwloss','2sta_1000_iwloss_alpha0']\n",
    "# preprefix_list = ['2sta_1000_svi','2sta_1000_iwloss_svi','2sta_1000_iwloss_svi_alpha0']\n",
    "# preprefix_list = ['2sta_1000_svi_inc_data','2sta_1000_iwloss_svi_inc_data']\n",
    "# preprefix_list = ['10sta_5000_svi','10sta_5000_iwloss_svi']\n",
    "preprefix_list = ['10sta_5000_svi_inc_data','10sta_5000_iwloss_svi_inc_data']\n",
    "prefix = preprefix_list[iw_loss_ind]+'_seed'+str(seed_list[0])\n",
    "basepath = '../results/glm/'\n",
    "dir_nets = basepath + 'nets/'\n",
    "dir_plots = basepath + 'plots/'\n",
    "sampler_plots = basepath + 'sampler/'\n",
    "\n",
    "# create folder for plots\n",
    "if save_plot_flag:\n",
    "    if not os.path.exists(dir_plots):\n",
    "        os.makedirs(dir_plots)\n",
    "\n",
    "###############################################################################\n",
    "# loading data and posteriors\n",
    "dists, infos, losses, nets, posteriors, sims = io.load_prefix(dir_nets, prefix)\n",
    "\n",
    "# data\n",
    "l_sims = list(sims.items())\n",
    "obs_stats = l_sims[len(sims)-1][1].obs\n",
    "y_obs = l_sims[len(sims)-1][1].obs_trace.reshape(-1,1)\n",
    "\n",
    "# posterior\n",
    "l_posteriors = list(posteriors.items())\n",
    "posterior = l_posteriors[len(l_posteriors)-1][1]\n",
    "\n",
    "###############################################################################\n",
    "# ground-truth parameters\n",
    "gt = l_sims[0][1].true_params\n",
    "\n",
    "###############################################################################\n",
    "# time\n",
    "t = l_sims[0][1].t\n",
    "\n",
    "###############################################################################\n",
    "# input\n",
    "I = l_sims[0][1].I_obs\n",
    "I = I.reshape(1,-1)"
   ]
  },
  {
   "cell_type": "markdown",
   "metadata": {},
   "source": [
    "## Sampler"
   ]
  },
  {
   "cell_type": "code",
   "execution_count": null,
   "metadata": {
    "collapsed": false
   },
   "outputs": [],
   "source": [
    "# SIMULATION PROTOCOL:\n",
    "N = 1   # Number of trials\n",
    "M = num_param_inf-1   # Length of the filter\n",
    "\n",
    "# build covariate matrix X, such that X * h returns convolution of x with filter h\n",
    "X = np.zeros(shape=(len(t), M))\n",
    "for j in range(M):\n",
    "    X[j:,j] = I[0,0:len(t)-j]\n",
    "\n",
    "###############################################################################\n",
    "# prior: Smoothing prior on h; N(0, 1) on b0. Smoothness encouraged by penalyzing \n",
    "# 2nd order differences of elements of filter\n",
    "D = np.diag(np.ones(M)) - np.diag(np.ones(M-1), -1)\n",
    "F = np.dot(D, D)\n",
    "# Binv is block diagonal\n",
    "Binv1 = np.zeros(shape=(M+1,M+1))\n",
    "Binv1[0,0] = 1    # offset (b0)\n",
    "Binv1[1:,1:] = np.dot(F.T, F) # filter (h)\n",
    "prior_dist = lfpdf.Gaussian(m=gt*0., P=Binv1)\n",
    "\n",
    "BETA_sub_samp = np.load(sampler_plots + 'sampling_'+str(num_param_inf)+'sta.npy')"
   ]
  },
  {
   "cell_type": "markdown",
   "metadata": {},
   "source": [
    "## Plotting modes and means"
   ]
  },
  {
   "cell_type": "code",
   "execution_count": null,
   "metadata": {
    "collapsed": false,
    "scrolled": true
   },
   "outputs": [],
   "source": [
    "fig = plt.figure(figsize=(7,15))\n",
    "\n",
    "m_samp = np.mean(BETA_sub_samp,axis=1)\n",
    "cov_samp = np.cov(BETA_sub_samp)\n",
    "\n",
    "m_all = []\n",
    "S_all = []\n",
    "for i in range(len(l_posteriors)):\n",
    "    m, S = l_posteriors[i][1].calc_mean_and_cov()\n",
    "    m_all.append(m)\n",
    "    S_all.append(S)\n",
    "    \n",
    "    ax = plt.subplot(len(l_posteriors),1,i+1)\n",
    "\n",
    "    plt.fill_between(np.linspace(1,num_param_inf,num_param_inf), m_all[i]-np.sqrt(np.diag(S_all[i])),\n",
    "                     m_all[i]+np.sqrt(np.diag(S_all[i])),facecolor=col_lfree,alpha=0.3)\n",
    "    plt.fill_between(np.linspace(1,num_param_inf,num_param_inf), m_samp-np.sqrt(np.diag(cov_samp)),\n",
    "                     m_samp+np.sqrt(np.diag(cov_samp)),facecolor=col_samp,alpha=0.3)\n",
    "\n",
    "    plt.plot(np.linspace(1,num_param_inf,num_param_inf),gt,'-o', color = col_original,\n",
    "             label='original')\n",
    "    plt.plot(np.linspace(1,num_param_inf,num_param_inf),m_all[i],'-o',color = col_lfree,\n",
    "             label='lfree mode')\n",
    "    plt.plot(np.linspace(1,num_param_inf,num_param_inf),m_samp,'-o',color = col_samp,\n",
    "             label='sampling mean')\n",
    "    plt.plot(np.linspace(1,num_param_inf,num_param_inf),m_all[i]*0.,'--o',color = 'k', alpha=0.5,\n",
    "             label='prior mode')\n",
    "    plt.title('round '+str(i+1))\n",
    "\n",
    "plt.tight_layout()\n",
    "ax.set_xticks(np.linspace(1,num_param_inf-1,int(num_param_inf/2)).astype(int))\n",
    "plt.xlabel('temporal filter')\n",
    "plt.ylabel('value')\n",
    "plt.legend(bbox_to_anchor=(1.5, 1), loc='upper right')\n",
    "\n",
    "\n",
    "# save figure\n",
    "if save_plot_flag == 1:\n",
    "    plt.savefig(dir_plots + 'fig_summary_samp_lfree_modes' + prefix + '.pdf')\n",
    "plt.show()"
   ]
  },
  {
   "cell_type": "markdown",
   "metadata": {},
   "source": [
    "## Plotting covariances"
   ]
  },
  {
   "cell_type": "code",
   "execution_count": null,
   "metadata": {
    "collapsed": false,
    "scrolled": true
   },
   "outputs": [],
   "source": [
    "min_cov = np.min([np.min(cov_samp),np.min(np.asarray(S_all).reshape(-1))])\n",
    "max_cov = np.min([np.max(cov_samp),np.max(np.asarray(S_all).reshape(-1))])\n",
    "\n",
    "f, axs = plt.subplots(len(l_posteriors),3,figsize=(10,3*len(l_posteriors)))\n",
    "\n",
    "for i in range(len(l_posteriors)):\n",
    "    ax = plt.subplot(len(l_posteriors),3,3*i+1)\n",
    "    im = plt.imshow(Binv1, interpolation='none')\n",
    "    ax.set_xticks(np.linspace(0,num_param_inf-2,int(num_param_inf/2)).astype(int))\n",
    "    ax.set_yticks(np.linspace(0,num_param_inf-2,int(num_param_inf/2)).astype(int))\n",
    "    ax.set_xticklabels(np.linspace(1,num_param_inf-1,int(num_param_inf/2)).astype(int))\n",
    "    ax.set_yticklabels(np.linspace(1,num_param_inf-1,int(num_param_inf/2)).astype(int))\n",
    "    plt.xlabel('filter')\n",
    "    plt.ylabel('filter')\n",
    "    plt.title('prior covariance')\n",
    "    divider = make_axes_locatable(ax)\n",
    "    cax = divider.append_axes(\"right\", size=\"5%\", pad=0.05)\n",
    "    plt.colorbar(im, cax=cax)\n",
    "\n",
    "    ax = plt.subplot(len(l_posteriors),3,3*i+2)\n",
    "    im = plt.imshow(cov_samp, clim=(min_cov, max_cov), interpolation='none')\n",
    "    ax.set_xticks(np.linspace(0,num_param_inf-2,int(num_param_inf/2)).astype(int))\n",
    "    ax.set_yticks(np.linspace(0,num_param_inf-2,int(num_param_inf/2)).astype(int))\n",
    "    ax.set_xticklabels(np.linspace(1,num_param_inf-1,int(num_param_inf/2)).astype(int))\n",
    "    ax.set_yticklabels(np.linspace(1,num_param_inf-1,int(num_param_inf/2)).astype(int))\n",
    "    plt.xlabel('filter')\n",
    "    plt.ylabel('filter')\n",
    "    plt.title('sampling covariance')\n",
    "    divider = make_axes_locatable(ax)\n",
    "    cax = divider.append_axes(\"right\", size=\"5%\", pad=0.05)\n",
    "    plt.colorbar(im, cax=cax)\n",
    "\n",
    "    ax = plt.subplot(len(l_posteriors),3,3*i+3)\n",
    "    im = plt.imshow(S_all[i], clim=(min_cov, max_cov), interpolation='none')\n",
    "    ax.set_xticks(np.linspace(0,num_param_inf-2,int(num_param_inf/2)).astype(int))\n",
    "    ax.set_yticks(np.linspace(0,num_param_inf-2,int(num_param_inf/2)).astype(int))\n",
    "    ax.set_xticklabels(np.linspace(1,num_param_inf-1,int(num_param_inf/2)).astype(int))\n",
    "    ax.set_yticklabels(np.linspace(1,num_param_inf-1,int(num_param_inf/2)).astype(int))\n",
    "    plt.xlabel('filter')\n",
    "    plt.ylabel('filter')\n",
    "    plt.title('lfree posterior covariance')\n",
    "    divider = make_axes_locatable(ax)\n",
    "    cax = divider.append_axes(\"right\", size=\"5%\", pad=0.05)\n",
    "    plt.colorbar(im, cax=cax)\n",
    "\n",
    "plt.tight_layout()\n",
    "\n",
    "# save figure\n",
    "if save_plot_flag == 1:\n",
    "    plt.savefig(dir_plots + 'fig_summary_samp_lfree_covs' + prefix + '.pdf')\n",
    "plt.show()"
   ]
  },
  {
   "cell_type": "markdown",
   "metadata": {},
   "source": [
    "## Analysis of stability"
   ]
  },
  {
   "cell_type": "code",
   "execution_count": null,
   "metadata": {
    "collapsed": false,
    "scrolled": true
   },
   "outputs": [],
   "source": [
    "levels=(0.68, 0.95)\n",
    "\n",
    "alpha_rep = np.linspace(0.5,1,num_rep)\n",
    "\n",
    "for i in range(len(l_posteriors)):\n",
    "    \n",
    "    f, axs = plt.subplots(1,3,figsize=(np.maximum(5,1.5*posterior.ndim),\n",
    "                                   np.maximum(5,1.5*posterior.ndim)))\n",
    "\n",
    "    posterior_list = []\n",
    "    for iii in range(0,num_rep):\n",
    "\n",
    "        # load mdn parameters\n",
    "        prefix1 = preprefix_list[iw_loss_ind]+'_seed'+str(seed_list[iii])\n",
    "        _, _, _, _, posteriors, _ = io.load_prefix(dir_nets, prefix1)\n",
    "        l_posteriors1 = list(posteriors.items())\n",
    "        posterior = l_posteriors1[i][1]\n",
    "        posterior_list.append(posterior)\n",
    "\n",
    "    for ii in range(posterior_list[0].ndim):\n",
    "        for j in range(ii,posterior_list[0].ndim):\n",
    "\n",
    "            if ii == j:\n",
    "                ax = plt.subplot2grid((posterior_list[0].ndim, posterior_list[0].ndim), (ii,j))\n",
    "\n",
    "                samp_plot = BETA_sub_samp[ii,:]\n",
    "                ax.hist(samp_plot,bins=100,normed = True,color=col_samp)\n",
    "\n",
    "                lims = np.array([np.min(samp_plot),np.max(samp_plot)])\n",
    "                xx = np.linspace(lims[0], lims[1], 500)\n",
    "\n",
    "                for iii in range(num_rep):\n",
    "                    pp = posterior_list[iii].eval(xx, ii=[ii], log=False)\n",
    "                    ax.plot(xx, pp, lw=1, color=col_lfree, alpha=alpha_rep[iii])\n",
    "                ax.vlines(gt[ii], 0, ax.get_ylim()[1], lw=1, color='r')\n",
    "                \n",
    "                if ii==0 and j==0:\n",
    "                    plt.title('round '+str(i+1))\n",
    "\n",
    "            else:\n",
    "                ax = plt.subplot2grid((posterior_list[0].ndim, posterior_list[0].ndim), (ii,j))\n",
    "\n",
    "                samp_plot_ii = BETA_sub_samp[ii,:]\n",
    "                samp_plot_j = BETA_sub_samp[j,:]\n",
    "                H, xedges, yedges = np.histogram2d(samp_plot_ii, samp_plot_j, bins=30,normed = True)\n",
    "                ax.imshow(H.T, origin='lower', extent=[xedges[0], xedges[-1], yedges[0],\n",
    "                                                       yedges[-1]],interpolation='none')\n",
    "\n",
    "                lims = np.array([[np.min(samp_plot_ii),np.max(samp_plot_ii)],[np.min(samp_plot_j),\n",
    "                                  np.max(samp_plot_j)]])\n",
    "                xx = np.linspace(lims[0, 0], lims[0, 1], 500)\n",
    "                yy = np.linspace(lims[1 ,0], lims[1, 1], 500)\n",
    "                X, Y = np.meshgrid(xx, yy)\n",
    "                xy = np.concatenate([X.reshape([-1, 1]), Y.reshape([-1, 1])], axis=1)\n",
    "\n",
    "                for iii in range(num_rep):\n",
    "                    pp = posterior_list[iii].eval(xy, ii=[ii, j], log=False)\n",
    "                    pp = pp.reshape(list(X.shape))\n",
    "                    ax.contour(X, Y, viz.probs2contours(pp, levels), levels, lw=1,\n",
    "                               colors=('w','y'),alpha=alpha_rep[iii])\n",
    "                ax.set_xlim(lims[0])\n",
    "                ax.set_ylim(lims[1])\n",
    "                ax.plot(gt[ii], gt[j], 'r.', ms=8)\n",
    "    \n",
    "    plt.tight_layout()\n",
    "\n",
    "# save figure\n",
    "if save_plot_flag == 1:\n",
    "    plt.savefig(dir_plots + 'fig_summary_samp_lfree_stability' + preprefix_list[iw_loss_ind] + '.pdf')\n",
    "plt.show()"
   ]
  },
  {
   "cell_type": "markdown",
   "metadata": {},
   "source": [
    "## Analysis of convergence"
   ]
  },
  {
   "cell_type": "code",
   "execution_count": null,
   "metadata": {
    "collapsed": false,
    "scrolled": false
   },
   "outputs": [],
   "source": [
    "fig = plt.figure()\n",
    "\n",
    "############################\n",
    "# GLM log-likelihood for all samples\n",
    "# binomial coefficient\n",
    "bin_coeff_t = np.zeros_like(t)\n",
    "for j in range(len(t)):\n",
    "    bin_coeff_t[j] = np.log(factorial(N)/(factorial(y_obs[j,0])*factorial(N-y_obs[j,0])))\n",
    "bin_coeff = np.sum(bin_coeff_t)\n",
    "\n",
    "# additional two terms of likelihood\n",
    "y_psi = np.dot(obs_stats,BETA_sub_samp)\n",
    "psi = np.zeros((len(t),len(BETA_sub_samp[0,:])))\n",
    "for j in range(len(BETA_sub_samp[0,:])):\n",
    "    psi[:,j] = BETA_sub_samp[0,j] + ss.lfilter(BETA_sub_samp[1:,j], 1, I.T, axis=0)[:,0]\n",
    "C = N*np.sum(np.log(1+np.exp(psi)),0)\n",
    "\n",
    "log_likel_samp = bin_coeff+y_psi-C\n",
    "\n",
    "############################\n",
    "# GLM log-posterior (up to the constant log p(data)) for all samples: log(prior)+log(likelihood)\n",
    "log_prior_samp = prior_dist.eval(BETA_sub_samp.T, log=True)\n",
    "log_post_samp = np.sum(log_likel_samp+log_prior_samp)\n",
    "\n",
    "\n",
    "kl_approx = np.zeros((num_rep,len(num_sim)))\n",
    "for iii in range(num_rep):\n",
    "    # load all iterations of iii inference\n",
    "    prefix1 = preprefix_list[iw_loss_ind]+'_seed'+str(seed_list[iii])\n",
    "    _, _, _, _, posteriors, _ = io.load_prefix(dir_nets, prefix1)\n",
    "    l_posteriors1 = list(posteriors.items())\n",
    "    \n",
    "    for jjj in range(len(num_sim)):\n",
    "        # compute KL for each jjj iteration of iii inference\n",
    "        posterior = l_posteriors1[jjj][1]\n",
    "        pp = posterior.eval(BETA_sub_samp.T, log=False)\n",
    "        kl_approx[iii,jjj] = log_post_samp - np.sum(np.log(pp))\n",
    "\n",
    "\n",
    "kl_approx_mn = np.mean(kl_approx,0)\n",
    "kl_approx_std = np.std(kl_approx,0)\n",
    "plt.fill_between(num_sim, kl_approx_mn-kl_approx_std,\n",
    "                 kl_approx_mn+kl_approx_std,facecolor=col_lfree,alpha=0.3)\n",
    "plt.plot(num_sim,kl_approx_mn,'o-', lw=2, color=col_lfree)\n",
    "plt.xlabel('no. simulations')\n",
    "plt.ylabel('KL')\n",
    "\n",
    "# save figure\n",
    "if save_plot_flag == 1:\n",
    "    plt.savefig(dir_plots + 'fig_summary_samp_lfree_convergence' + preprefix_list[iw_loss_ind] + '.pdf')\n",
    "plt.show()"
   ]
  },
  {
   "cell_type": "markdown",
   "metadata": {},
   "source": [
    "## Training loss"
   ]
  },
  {
   "cell_type": "code",
   "execution_count": null,
   "metadata": {
    "collapsed": false,
    "scrolled": true
   },
   "outputs": [],
   "source": [
    "i=0\n",
    "for k, v in losses.items():\n",
    "    i = i+1\n",
    "    fig, ax = viz.loss(v, title=k)\n",
    "#     plt.show()\n",
    "    plt.title('round '+str(i))"
   ]
  },
  {
   "cell_type": "markdown",
   "metadata": {},
   "source": [
    "## Distance of samples"
   ]
  },
  {
   "cell_type": "code",
   "execution_count": null,
   "metadata": {
    "collapsed": false,
    "scrolled": true
   },
   "outputs": [],
   "source": [
    "for k, v in dists.items():\n",
    "    fig, ax = viz.dist(v, title=k)"
   ]
  },
  {
   "cell_type": "markdown",
   "metadata": {},
   "source": [
    "## Validation set"
   ]
  },
  {
   "cell_type": "code",
   "execution_count": null,
   "metadata": {
    "collapsed": false
   },
   "outputs": [],
   "source": [
    "for i in range(num_round):\n",
    "    plt.plot(io.nth(losses, i)['val_val'],label='round '+str(i+1))\n",
    "plt.legend()"
   ]
  },
  {
   "cell_type": "markdown",
   "metadata": {},
   "source": [
    "## Importance weights"
   ]
  },
  {
   "cell_type": "code",
   "execution_count": null,
   "metadata": {
    "collapsed": false,
    "scrolled": false
   },
   "outputs": [],
   "source": [
    "f, axs = plt.subplots(1,2,figsize=(15,5))\n",
    "\n",
    "for i in range(num_round):    \n",
    "    ax = plt.subplot(1,2,1)\n",
    "    plt.semilogy(io.nth(losses, i)['trn_out'][-1][1],'.')\n",
    "    \n",
    "    ax = plt.subplot(1,2,2)\n",
    "    plt.hist(io.nth(losses, i)['trn_out'][-1][1],bins=20,log=True,alpha=0.5,label='round '+str(i+1))\n",
    "\n",
    "plt.legend()"
   ]
  },
  {
   "cell_type": "code",
   "execution_count": null,
   "metadata": {
    "collapsed": false
   },
   "outputs": [],
   "source": [
    "len(io.nth(losses, i)['trn_out'][-1][1])"
   ]
  },
  {
   "cell_type": "markdown",
   "metadata": {},
   "source": [
    "## Info"
   ]
  },
  {
   "cell_type": "code",
   "execution_count": null,
   "metadata": {
    "collapsed": false,
    "scrolled": true
   },
   "outputs": [],
   "source": [
    "for k, v in infos.items():\n",
    "    print(viz.info(v, title=k))"
   ]
  },
  {
   "cell_type": "code",
   "execution_count": null,
   "metadata": {
    "collapsed": true
   },
   "outputs": [],
   "source": []
  },
  {
   "cell_type": "code",
   "execution_count": null,
   "metadata": {
    "collapsed": true
   },
   "outputs": [],
   "source": []
  }
 ],
 "metadata": {
  "anaconda-cloud": {},
  "kernelspec": {
   "display_name": "Python [Root]",
   "language": "python",
   "name": "Python [Root]"
  },
  "language_info": {
   "codemirror_mode": {
    "name": "ipython",
    "version": 3
   },
   "file_extension": ".py",
   "mimetype": "text/x-python",
   "name": "python",
   "nbconvert_exporter": "python",
   "pygments_lexer": "ipython3",
   "version": "3.5.3"
  }
 },
 "nbformat": 4,
 "nbformat_minor": 2
}
