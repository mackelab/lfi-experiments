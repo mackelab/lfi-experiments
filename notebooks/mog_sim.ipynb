{
 "cells": [
  {
   "cell_type": "markdown",
   "metadata": {},
   "source": [
    "# Using the MoG simulator"
   ]
  },
  {
   "cell_type": "code",
   "execution_count": null,
   "metadata": {},
   "outputs": [],
   "source": [
    "%matplotlib inline\n",
    "import likelihoodfree.viz as viz\n",
    "import matplotlib.pyplot as plt\n",
    "import numpy as np\n",
    "import seaborn.apionly as sns\n",
    "\n",
    "from lfmods.mog import MoGSimulator"
   ]
  },
  {
   "cell_type": "markdown",
   "metadata": {},
   "source": [
    "## Setup the simulator"
   ]
  },
  {
   "cell_type": "code",
   "execution_count": null,
   "metadata": {},
   "outputs": [],
   "source": [
    "dim = 1\n",
    "sim = MoGSimulator(dim=dim)"
   ]
  },
  {
   "cell_type": "markdown",
   "metadata": {},
   "source": [
    "## Sample single theta and many associated data points"
   ]
  },
  {
   "cell_type": "code",
   "execution_count": null,
   "metadata": {},
   "outputs": [],
   "source": [
    "theta = sim.sim_prior(n_samples=1)[0]\n",
    "samples = sim.forward_model(theta, n_samples=1000)\n",
    "    \n",
    "if dim == 1:    \n",
    "    plt.hist(samples)\n",
    "elif dim == 2:\n",
    "    plt.scatter(samples[:,0], samples[:,1], color='k', edgecolor=None, alpha=0.5)\n",
    "else:\n",
    "    raise ValueError('not implemented')\n",
    "    \n",
    "plt.axis('off')\n",
    "plt.show()"
   ]
  },
  {
   "cell_type": "markdown",
   "metadata": {},
   "source": [
    "## Sample joint distribution"
   ]
  },
  {
   "cell_type": "code",
   "execution_count": null,
   "metadata": {},
   "outputs": [],
   "source": [
    "n_samples = 100\n",
    "ms, stats, xs = sim.sim_joint(n_samples)\n",
    "\n",
    "if dim == 1:\n",
    "    g = sns.jointplot(ms, stats, kind=\"scatter\", size=7, space=0, stat_func=None)\n",
    "else:\n",
    "    raise ValueError('not implemented')\n",
    "    \n",
    "plt.gcf().get_axes()[0].set_xlabel(r'$\\theta$')\n",
    "plt.gcf().get_axes()[0].set_ylabel('x')"
   ]
  },
  {
   "cell_type": "markdown",
   "metadata": {},
   "source": [
    "## True posterior"
   ]
  },
  {
   "cell_type": "code",
   "execution_count": null,
   "metadata": {},
   "outputs": [],
   "source": [
    "disp_lims = [-3.5, 3.5]\n",
    "viz.plot_pdf_marginals(pdf=sim.posterior, lims=disp_lims)\n",
    "plt.show()"
   ]
  },
  {
   "cell_type": "markdown",
   "metadata": {},
   "source": [
    "### Marginals only"
   ]
  },
  {
   "cell_type": "code",
   "execution_count": null,
   "metadata": {},
   "outputs": [],
   "source": [
    "disp_lims = [-3.5, 3.5]\n",
    "viz.plot_pdf_marginals(pdf=sim.posterior, lims=disp_lims, diag_only=True, diag_only_rows=1, diag_only_cols=2)\n",
    "plt.show()"
   ]
  }
 ],
 "metadata": {
  "kernelspec": {
   "display_name": "Python 3",
   "language": "python",
   "name": "python3"
  },
  "language_info": {
   "codemirror_mode": {
    "name": "ipython",
    "version": 3
   },
   "file_extension": ".py",
   "mimetype": "text/x-python",
   "name": "python",
   "nbconvert_exporter": "python",
   "pygments_lexer": "ipython3",
   "version": "3.6.0"
  }
 },
 "nbformat": 4,
 "nbformat_minor": 2
}
