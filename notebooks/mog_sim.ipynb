{
 "cells": [
  {
   "cell_type": "markdown",
   "metadata": {},
   "source": [
    "# Using the MoG simulator"
   ]
  },
  {
   "cell_type": "code",
   "execution_count": null,
   "metadata": {
    "collapsed": true,
    "scrolled": false
   },
   "outputs": [],
   "source": [
    "%matplotlib inline\n",
    "import likelihoodfree.viz as viz\n",
    "import matplotlib.pyplot as plt\n",
    "import numpy as np\n",
    "import seaborn.apionly as sns\n",
    "\n",
    "from lfmods.mog import MoGSimulator"
   ]
  },
  {
   "cell_type": "markdown",
   "metadata": {},
   "source": [
    "## Setup the simulator"
   ]
  },
  {
   "cell_type": "code",
   "execution_count": null,
   "metadata": {
    "collapsed": true
   },
   "outputs": [],
   "source": [
    "mog = MoGSimulator(dim=2)"
   ]
  },
  {
   "cell_type": "markdown",
   "metadata": {},
   "source": [
    "## Sample single theta and many associated data points"
   ]
  },
  {
   "cell_type": "code",
   "execution_count": null,
   "metadata": {
    "collapsed": false
   },
   "outputs": [],
   "source": [
    "theta = mog.sim_prior(n_samples=1)[0]\n",
    "samples = mog.forward_model(theta, n_samples=1000)\n",
    "\n",
    "plt.scatter(samples[:,0], samples[:,1], color='k', edgecolor=None, alpha=0.5)\n",
    "plt.axis('off')\n",
    "plt.show()"
   ]
  },
  {
   "cell_type": "markdown",
   "metadata": {},
   "source": [
    "## Simulate joint distribution"
   ]
  },
  {
   "cell_type": "code",
   "execution_count": null,
   "metadata": {
    "collapsed": false
   },
   "outputs": [],
   "source": [
    "# TODO: make this work, by allowing the forward model to take multiple samples at a time\n",
    "\n",
    "n_samples = 10000\n",
    "n_bins = None\n",
    "n_bins = int(np.sqrt(n_samples)) if n_bins is None else n_bins\n",
    "\n",
    "ms, xs = mog.sim_joint(n_samples)\n",
    "\n",
    "g = sns.jointplot(ms, xs, kind=\"scatter\", size=7, space=0, stat_func=None)\n",
    "\n",
    "plt.gcf().get_axes()[0].set_xlabel(r'$\\theta$')\n",
    "plt.gcf().get_axes()[0].set_ylabel('x')"
   ]
  },
  {
   "cell_type": "markdown",
   "metadata": {},
   "source": [
    "## True posterior"
   ]
  },
  {
   "cell_type": "code",
   "execution_count": null,
   "metadata": {
    "collapsed": false
   },
   "outputs": [],
   "source": [
    "posterior = mog.calc_posterior()\n",
    "disp_lims = [-3.5, 3.5]\n",
    "viz.plot_pdf_marginals(pdf=posterior, lims=disp_lims)\n",
    "plt.show()"
   ]
  },
  {
   "cell_type": "markdown",
   "metadata": {},
   "source": [
    "## True posterior, marginals only"
   ]
  },
  {
   "cell_type": "code",
   "execution_count": null,
   "metadata": {
    "collapsed": false
   },
   "outputs": [],
   "source": [
    "posterior = mog.calc_posterior()\n",
    "disp_lims = [-3.5, 3.5]\n",
    "viz.plot_pdf_marginals(pdf=posterior, lims=disp_lims, diag_only=True, diag_only_rows=1, diag_only_cols=2)\n",
    "plt.show()"
   ]
  }
 ],
 "metadata": {
  "kernelspec": {
   "display_name": "Python 3",
   "language": "python",
   "name": "python3"
  },
  "language_info": {
   "codemirror_mode": {
    "name": "ipython",
    "version": 3
   },
   "file_extension": ".py",
   "mimetype": "text/x-python",
   "name": "python",
   "nbconvert_exporter": "python",
   "pygments_lexer": "ipython3",
   "version": "3.6.0"
  }
 },
 "nbformat": 4,
 "nbformat_minor": 2
}
