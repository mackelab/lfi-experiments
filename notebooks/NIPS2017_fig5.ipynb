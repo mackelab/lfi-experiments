{
 "cells": [
  {
   "cell_type": "markdown",
   "metadata": {},
   "source": [
    "# NIPS 2017 Figure 5"
   ]
  },
  {
   "cell_type": "code",
   "execution_count": null,
   "metadata": {},
   "outputs": [],
   "source": [
    "%run -i NIPS2017.ipynb\n",
    "\n",
    "# FIGURE and GRID\n",
    "FIG_HEIGHT_MM = 40\n",
    "FIG_WIDTH_MM = FIG_WIDTH_MM\n",
    "FIG_N_ROWS = 1\n",
    "ROW_1_NCOLS = 3\n",
    "ROW_1_HEIGHT_MM = FIG_HEIGHT_MM / FIG_N_ROWS\n",
    "ROW_1_WIDTH_COL_1_MM = FIG_WIDTH_MM / ROW_1_NCOLS\n",
    "ROW_1_WIDTH_COL_2_MM = FIG_WIDTH_MM / ROW_1_NCOLS\n",
    "ROW_1_WIDTH_COL_3_MM = FIG_WIDTH_MM / ROW_1_NCOLS\n",
    "\n",
    "# PATHS\n",
    "PANEL_A = PATH_DROPBOX_FIGS + 'fig5_a.svg'\n",
    "PANEL_B = PATH_DROPBOX_FIGS + 'fig5_b.svg'\n",
    "PANEL_C = PATH_DROPBOX_FIGS + 'fig5_c.svg'"
   ]
  },
  {
   "cell_type": "markdown",
   "metadata": {},
   "source": [
    "## Row 1"
   ]
  },
  {
   "cell_type": "markdown",
   "metadata": {},
   "source": [
    "Data for panels A"
   ]
  },
  {
   "cell_type": "code",
   "execution_count": null,
   "metadata": {},
   "outputs": [],
   "source": [
    "# from lfmods.hh import HHSimulator\n",
    "\n",
    "# sim = HHSimulator(seed=100,pilot_samples=0.,cached_sims=False, cached_pilot=False, step_current=False)\n",
    "\n",
    "# # ground-truth parameters\n",
    "# true_params = sim.true_params\n",
    "# n_params = sim.n_params\n",
    "\n",
    "# init = sim.init\n",
    "# t = sim.t\n",
    "# dt = sim.dt\n",
    "# duration = np.max(t)\n",
    "# I = sim.I_obs\n",
    "\n",
    "# # prior over parameters\n",
    "# sim_prior = sim.sim_prior\n",
    "# sim_prior()\n",
    "# prior_min = sim.prior_min\n",
    "# prior_max = sim.prior_max\n",
    "\n",
    "# # if parameters in transformed space, inverse transform function\n",
    "# param_invtransform = sim.param_invtransform\n",
    "# bm = sim.bm\n",
    "\n",
    "# # simulate trace with spikes\n",
    "# fact = 1.\n",
    "# new_prior_min = fact*prior_min\n",
    "# new_prior_max = fact*prior_maxx\n",
    "# np.random.seed(123)\n",
    "# z = np.random.rand(n_params)\n",
    "# params = param_invtransform( np.multiply(new_prior_max - new_prior_min,z) + new_prior_min )\n",
    "# hh = bm.HH(init, params.reshape(1,-1),seed=230)\n",
    "# states_spikes = hh.sim_time(dt, t, I)[:,0]"
   ]
  },
  {
   "cell_type": "markdown",
   "metadata": {},
   "source": [
    "Load results"
   ]
  },
  {
   "cell_type": "code",
   "execution_count": null,
   "metadata": {},
   "outputs": [],
   "source": [
    "prefix = 'shrink_nips_v1_60ms'  # ours\n",
    "_, _, _, _, posteriors, _ = io.load_prefix(dirs_dropbox['dir_nets_fig5'], prefix, no_net=True)\n",
    "pdf60 = io.last(posteriors)\n",
    "\n",
    "prefix = 'shrink_nips_v1_120ms'  # ours\n",
    "_, _, _, _, posteriors, _ = io.load_prefix(dirs_dropbox['dir_nets_fig5'], prefix, no_net=True)\n",
    "pdf120 = io.last(posteriors)\n",
    "\n",
    "prefix = 'shrink_nips_v1_240ms'  # ours\n",
    "_, _, _, _, posteriors, sims = io.load_prefix(dirs_dropbox['dir_nets_fig5'], prefix, no_net=True)\n",
    "sim = io.last(sims)\n",
    "obs_stats = sim.obs\n",
    "y_obs = sim.obs_trace.reshape(-1,1)\n",
    "gt = sim.true_params\n",
    "labels_params = sim.labels_params\n",
    "param_invtransform = sim.param_invtransform\n",
    "param_transform = sim.param_transform\n",
    "gt_transf = param_transform(gt)\n",
    "n_params = sim.n_params\n",
    "prior_min = sim.prior_min\n",
    "prior_max = sim.prior_max\n",
    "prior_lims = np.concatenate((prior_min.reshape(-1,1),prior_max.reshape(-1,1)),axis=1)\n",
    "t = sim.t\n",
    "I = sim.I_obs\n",
    "A_soma = sim.A_soma\n",
    "dt = sim.dt\n",
    "duration = np.max(t)\n",
    "pdf240 = io.last(posteriors)\n",
    "bm = sim.bm"
   ]
  },
  {
   "cell_type": "markdown",
   "metadata": {},
   "source": [
    "### Panel A"
   ]
  },
  {
   "cell_type": "code",
   "execution_count": null,
   "metadata": {},
   "outputs": [],
   "source": [
    "fig_inches = (SCALE_IN*mm2inches(0.9*ROW_1_WIDTH_COL_1_MM), SCALE_IN*mm2inches(0.95*ROW_1_HEIGHT_MM))\n",
    "\n",
    "with mpl.rc_context(fname=MPL_RC):\n",
    "    fig = plt.figure(figsize=fig_inches)\n",
    "\n",
    "    gs = mpl.gridspec.GridSpec(2, 1, height_ratios=[4, 1])\n",
    "    ax = plt.subplot(gs[0])\n",
    "    plt.plot(t, y_obs, color = COL['GT'], lw=2, label='')\n",
    "    plt.ylabel('voltage (mV)')\n",
    "    plt.legend(bbox_to_anchor=(1.15, 1), loc='upper right')\n",
    "\n",
    "    ax.set_xticks([])\n",
    "    ax.set_yticks([-80, -20, 40])\n",
    "\n",
    "    ax = plt.subplot(gs[1])\n",
    "    plt.plot(t,I*A_soma*1e3,'r', lw=2)\n",
    "    plt.xlabel('time (ms)')\n",
    "    plt.ylabel('input (nA)')\n",
    "\n",
    "    ax.set_xticks([0, duration/2, duration])\n",
    "    ax.set_yticks([0, 1.1*np.max(I*A_soma*1e3)])\n",
    "    ax.yaxis.set_major_formatter(mpl.ticker.FormatStrFormatter('%.2f'))\n",
    "    \n",
    "    plt.savefig(PANEL_A, facecolor=plt.gcf().get_facecolor(), transparent=True)  # the figure is saved as svg\n",
    "    plt.close()\n",
    "\n",
    "svg(PANEL_A)\n",
    "\n",
    "panel = st.fromfile(PANEL_A)\n",
    "width, height = panel.get_size()\n",
    "print('size of svg : {}'.format((width, height)))\n",
    "print('aspect ratio : {}'.format(get_num(width) / get_num(height)))\n",
    "print('desired ratio : {}'.format(ROW_1_WIDTH_COL_1_MM / ROW_1_HEIGHT_MM))"
   ]
  },
  {
   "cell_type": "markdown",
   "metadata": {},
   "source": [
    "### Panel B"
   ]
  },
  {
   "cell_type": "markdown",
   "metadata": {},
   "source": [
    "Will be done in illustrator/omnigraffle"
   ]
  },
  {
   "cell_type": "code",
   "execution_count": null,
   "metadata": {},
   "outputs": [],
   "source": [
    "try:\n",
    "    svg(PANEL_B)\n",
    "except:\n",
    "    pass\n",
    "\n",
    "print('width : {:g}mm'.format(ROW_1_WIDTH_COL_1_MM))\n",
    "print('height : {:g}mm'.format(ROW_1_HEIGHT_MM))"
   ]
  },
  {
   "cell_type": "markdown",
   "metadata": {},
   "source": [
    "### Panel C"
   ]
  },
  {
   "cell_type": "markdown",
   "metadata": {},
   "source": [
    "Posterior view, marginals only"
   ]
  },
  {
   "cell_type": "code",
   "execution_count": null,
   "metadata": {},
   "outputs": [],
   "source": [
    "fig_inches = (SCALE_IN*mm2inches(ROW_1_WIDTH_COL_1_MM), SCALE_IN*mm2inches(0.95*ROW_1_HEIGHT_MM))\n",
    "\n",
    "with mpl.rc_context(fname=MPL_RC, rc={'text.usetex': False}):\n",
    "\n",
    "    cols = 4\n",
    "    rows = 3\n",
    "    \n",
    "    num_samp = 3\n",
    "    num_colors = num_samp+1\n",
    "    cm1 = mpl.cm.Blues\n",
    "    col1 = [cm1(1.*i/num_colors) for i in range(num_colors)]\n",
    "\n",
    "    # load in a simulator from shrink_nips_v1_60ms or _120ms or 240ms, they do share the following variables:\n",
    "    labels_params = LABELS_HH\n",
    "    lims = np.array((sim.prior_min, sim.prior_max)).T\n",
    "    gt = np.log(sim.true_params)\n",
    "    resolution = 500\n",
    "    ticks = False\n",
    "\n",
    "    figsize = (4, 4)\n",
    "    fig, ax = plt.subplots(rows, cols, facecolor='white', figsize=figsize)\n",
    "    ax = ax.reshape(rows, cols)\n",
    "\n",
    "    plt.hold(True)\n",
    "\n",
    "    r = 0\n",
    "    c = -1\n",
    "    for i in range(n_params):\n",
    "        xx = np.linspace(lims[i, 0], lims[i, 1], resolution)\n",
    "\n",
    "        c += 1\n",
    "        if c > cols-1:\n",
    "            c = 0\n",
    "            r += 1\n",
    "\n",
    "        pp = pdf60.eval(xx, ii=[i], log=False)\n",
    "        ax[r, c].plot(xx, pp, color=col1[1], alpha=0.9,label='60')  # need better colors, e.g. shades of blue light to dark\n",
    "\n",
    "        pp = pdf120.eval(xx, ii=[i], log=False)\n",
    "        ax[r, c].plot(xx, pp, color=col1[2], alpha=0.9,label='120')  # need better colors, e.g. shades of blue light to dark\n",
    "\n",
    "        pp = pdf240.eval(xx, ii=[i], log=False)\n",
    "        ax[r, c].plot(xx, pp, color=col1[3], alpha=0.9,label='240')  # need better colors, e.g. shades of blue light to dark\n",
    "\n",
    "        ax[r, c].set_xlim(lims[i])\n",
    "        ax[r, c].set_ylim([0, ax[r, c].get_ylim()[1]])      \n",
    "\n",
    "        if gt is not None: ax[r, c].vlines(gt[i], 0, ax[r, c].get_ylim()[1], color='r')\n",
    "\n",
    "        if ticks:\n",
    "            ax[r, c].get_yaxis().set_tick_params(which='both', direction='out')\n",
    "            ax[r, c].get_xaxis().set_tick_params(which='both', direction='out')\n",
    "            ax[r, c].set_xticks(np.linspace(lims[i, 0], lims[j, 1],2))\n",
    "            ax[r, c].set_yticks(np.linspace(min(pp),max(pp),2))\n",
    "            ax[r, c].xaxis.set_major_formatter(mpl.ticker.FormatStrFormatter('%.1f'))\n",
    "            ax[r, c].yaxis.set_major_formatter(mpl.ticker.FormatStrFormatter('%.1f'))\n",
    "        else:\n",
    "            ax[r, c].get_xaxis().set_ticks([])\n",
    "            ax[r, c].get_yaxis().set_ticks([])\n",
    "\n",
    "        if labels_params is not None:\n",
    "            ax[r, c].set_xlabel(labels_params[i])\n",
    "        else:\n",
    "            ax[r, c].set_xlabel([])\n",
    "\n",
    "        x0,x1 = ax[r, c].get_xlim()\n",
    "        y0,y1 = ax[r, c].get_ylim()\n",
    "        ax[r, c].set_aspect((x1-x0)/(y1-y0))\n",
    "    \n",
    "        if i == 3:\n",
    "            ax[r, c].legend(bbox_to_anchor=(2.7, 1.2), loc='upper right')\n",
    "    \n",
    "    plt.savefig(PANEL_C, facecolor=plt.gcf().get_facecolor(), transparent=True)\n",
    "    plt.close()\n",
    "    \n",
    "svg(PANEL_C)\n",
    "\n",
    "panel = st.fromfile(PANEL_C)\n",
    "width, height = panel.get_size()\n",
    "print('size of svg : {}'.format((width, height)))\n",
    "print('aspect ratio : {}'.format(get_num(width) / get_num(height)))\n",
    "print('desired ratio : {}'.format(ROW_1_WIDTH_COL_1_MM / ROW_1_HEIGHT_MM))"
   ]
  },
  {
   "cell_type": "markdown",
   "metadata": {},
   "source": [
    "## Compose figure"
   ]
  },
  {
   "cell_type": "code",
   "execution_count": null,
   "metadata": {},
   "outputs": [],
   "source": [
    "fig = create_fig(FIG_WIDTH_MM, FIG_HEIGHT_MM)\n",
    "\n",
    "yoffset = -1.2\n",
    "xoffset = -1.\n",
    "fig = add_svg(fig, PANEL_A, 0 + xoffset, 0 + yoffset + 1)\n",
    "fig = add_svg(fig, PANEL_B, ROW_1_WIDTH_COL_1_MM + xoffset, 0 + 1.3 + yoffset, scale=0.5)\n",
    "fig = add_svg(fig, PANEL_C, ROW_1_WIDTH_COL_1_MM + ROW_1_WIDTH_COL_2_MM + xoffset + 3., 0 + yoffset + 1)\n",
    "\n",
    "yoffset   = 2.3\n",
    "fig = add_label(fig, 'A', 0, yoffset)\n",
    "fig = add_label(fig, 'B', ROW_1_WIDTH_COL_1_MM, yoffset)\n",
    "fig = add_label(fig, 'C', ROW_1_WIDTH_COL_1_MM + ROW_1_WIDTH_COL_2_MM, yoffset)\n",
    "\n",
    "if False:\n",
    "    fig = add_grid(fig, 2, 2)\n",
    "    fig = add_grid(fig, 160/3, 10, font_size_px=0.0001)\n",
    "\n",
    "PATH_SVG = PATH_DROPBOX_FIGS + 'fig5.svg'\n",
    "fig.save(PATH_SVG)\n",
    "\n",
    "svg(PATH_SVG)\n",
    "\n",
    "!$INKSCAPE --export-pdf $PATH_DROPBOX_FIGS/fig5.pdf $PATH_SVG"
   ]
  }
 ],
 "metadata": {
  "anaconda-cloud": {},
  "kernelspec": {
   "display_name": "Python 3",
   "language": "python",
   "name": "python3"
  },
  "language_info": {
   "codemirror_mode": {
    "name": "ipython",
    "version": 3
   },
   "file_extension": ".py",
   "mimetype": "text/x-python",
   "name": "python",
   "nbconvert_exporter": "python",
   "pygments_lexer": "ipython3",
   "version": "3.6.0"
  }
 },
 "nbformat": 4,
 "nbformat_minor": 2
}
