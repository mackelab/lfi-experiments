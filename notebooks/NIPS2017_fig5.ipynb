{
 "cells": [
  {
   "cell_type": "markdown",
   "metadata": {},
   "source": [
    "# NIPS 2017 Figure 5"
   ]
  },
  {
   "cell_type": "code",
   "execution_count": null,
   "metadata": {},
   "outputs": [],
   "source": [
    "%run -i NIPS2017.ipynb\n",
    "\n",
    "# FIGURE and GRID\n",
    "FIG_HEIGHT_MM = 40\n",
    "FIG_WIDTH_MM = FIG_WIDTH_MM\n",
    "FIG_N_ROWS = 1\n",
    "ROW_1_NCOLS = 3\n",
    "ROW_1_HEIGHT_MM = FIG_HEIGHT_MM / FIG_N_ROWS\n",
    "ROW_1_WIDTH_COL_1_MM = FIG_WIDTH_MM / ROW_1_NCOLS\n",
    "ROW_1_WIDTH_COL_2_MM = FIG_WIDTH_MM / ROW_1_NCOLS\n",
    "ROW_1_WIDTH_COL_3_MM = FIG_WIDTH_MM / ROW_1_NCOLS\n",
    "\n",
    "# PATHS\n",
    "PANEL_A = PATH_DROPBOX_FIGS + 'fig5_a.svg'\n",
    "PANEL_B = PATH_DROPBOX_FIGS + 'fig5_b.svg'\n",
    "PANEL_C = PATH_DROPBOX_FIGS + 'fig5_c.svg'"
   ]
  },
  {
   "cell_type": "markdown",
   "metadata": {},
   "source": [
    "## Row 1"
   ]
  },
  {
   "cell_type": "markdown",
   "metadata": {},
   "source": [
    "Data for panels A"
   ]
  },
  {
   "cell_type": "code",
   "execution_count": null,
   "metadata": {},
   "outputs": [],
   "source": [
    "from lfmods.hh import HHSimulator\n",
    "\n",
    "sim = HHSimulator(seed=100,pilot_samples=0.,cached_sims=False, cached_pilot=False, step_current=False)\n",
    "\n",
    "# ground-truth parameters\n",
    "true_params = sim.true_params\n",
    "n_params = sim.n_params\n",
    "\n",
    "init = sim.init\n",
    "t = sim.t\n",
    "dt = sim.dt\n",
    "duration = np.max(t)\n",
    "I = sim.I_obs\n",
    "\n",
    "# prior over parameters\n",
    "sim_prior = sim.sim_prior\n",
    "sim_prior()\n",
    "prior_min = sim.prior_min\n",
    "prior_max = sim.prior_max\n",
    "\n",
    "# if parameters in transformed space, inverse transform function\n",
    "param_invtransform = sim.param_invtransform\n",
    "bm = sim.bm\n",
    "\n",
    "# simulate trace with spikes\n",
    "fact = 1.\n",
    "new_prior_min = fact*prior_min\n",
    "new_prior_max = fact*prior_max\n",
    "np.random.seed(123)\n",
    "z = np.random.rand(n_params)\n",
    "params = param_invtransform( np.multiply(new_prior_max - new_prior_min,z) + new_prior_min )\n",
    "hh = bm.HH(init, params.reshape(1,-1),seed=230)\n",
    "states_spikes = hh.sim_time(dt, t, I)[:,0]"
   ]
  },
  {
   "cell_type": "markdown",
   "metadata": {},
   "source": [
    "Results for panel C"
   ]
  },
  {
   "cell_type": "code",
   "execution_count": null,
   "metadata": {},
   "outputs": [],
   "source": [
    "prefix = 'hh_500_iwloss_svi_inc_data_seed1'  # ours\n",
    "\n",
    "dists, infos, losses, nets, posteriors, sims = io.load_prefix(dirs['dir_nets_hh'], prefix)\n",
    "sim = io.last(sims)\n",
    "obs_stats = sim.obs\n",
    "y_obs = sim.obs_trace.reshape(-1,1)\n",
    "gt = sim.true_params\n",
    "num_param_inf = len(gt)\n",
    "labels_params = sim.labels_params\n",
    "posterior = io.last(posteriors)"
   ]
  },
  {
   "cell_type": "markdown",
   "metadata": {},
   "source": [
    "### Panel A"
   ]
  },
  {
   "cell_type": "code",
   "execution_count": null,
   "metadata": {},
   "outputs": [],
   "source": [
    "fig_inches = (SCALE_IN*mm2inches(0.9*ROW_1_WIDTH_COL_1_MM), SCALE_IN*mm2inches(0.95*ROW_1_HEIGHT_MM))\n",
    "\n",
    "with mpl.rc_context(fname=MPL_RC):\n",
    "    fig = plt.figure(figsize=fig_inches)\n",
    "\n",
    "\n",
    "with mpl.rc_context(fname=MPL_RC):\n",
    "    fig = plt.figure(figsize=fig_inches)\n",
    "\n",
    "    gs = mpl.gridspec.GridSpec(2, 1, height_ratios=[4, 1])\n",
    "    ax = plt.subplot(gs[0])\n",
    "    plt.plot(t, y_obs, color = COL['GT'], lw=2, label='')\n",
    "    plt.ylabel('voltage (mV)')\n",
    "    plt.legend(bbox_to_anchor=(1.15, 1), loc='upper right')\n",
    "\n",
    "    ax.set_xticks([])\n",
    "    ax.set_yticks([-80, -20, 40])\n",
    "\n",
    "    ax = plt.subplot(gs[1])\n",
    "    plt.plot(t,I*A_soma*1e3,'r', lw=2)\n",
    "    plt.xlabel('time (ms)')\n",
    "    plt.ylabel('input (nA)')\n",
    "\n",
    "    ax.set_xticks([0, duration/2, duration])\n",
    "    ax.set_yticks([0, 1.1*np.max(I*A_soma*1e3)])\n",
    "    ax.yaxis.set_major_formatter(mpl.ticker.FormatStrFormatter('%.2f'))\n",
    "    \n",
    "    plt.savefig(PANEL_A, facecolor=plt.gcf().get_facecolor(), transparent=True)  # the figure is saved as svg\n",
    "    plt.close()\n",
    "\n",
    "svg(PANEL_A)\n",
    "\n",
    "panel = st.fromfile(PANEL_A)\n",
    "width, height = panel.get_size()\n",
    "print('size of svg : {}'.format((width, height)))\n",
    "print('aspect ratio : {}'.format(get_num(width) / get_num(height)))\n",
    "print('desired ratio : {}'.format(ROW_1_WIDTH_COL_1_MM / ROW_1_HEIGHT_MM))"
   ]
  },
  {
   "cell_type": "markdown",
   "metadata": {},
   "source": [
    "### Panel B"
   ]
  },
  {
   "cell_type": "markdown",
   "metadata": {},
   "source": [
    "Will be done in illustrator/omnigraffle"
   ]
  },
  {
   "cell_type": "code",
   "execution_count": null,
   "metadata": {},
   "outputs": [],
   "source": [
    "try:\n",
    "    svg(PANEL_B)\n",
    "except:\n",
    "    pass\n",
    "\n",
    "print('width : {:g}mm'.format(ROW_1_WIDTH_COL_1_MM))\n",
    "print('height : {:g}mm'.format(ROW_1_HEIGHT_MM))"
   ]
  },
  {
   "cell_type": "markdown",
   "metadata": {},
   "source": [
    "### Panel C"
   ]
  },
  {
   "cell_type": "markdown",
   "metadata": {},
   "source": [
    "Posterior view, marginals only"
   ]
  },
  {
   "cell_type": "code",
   "execution_count": null,
   "metadata": {},
   "outputs": [],
   "source": [
    "fig_inches = (SCALE_IN*mm2inches(ROW_1_WIDTH_COL_1_MM), SCALE_IN*mm2inches(0.95*ROW_1_HEIGHT_MM))\n",
    "\n",
    "with mpl.rc_context(fname=MPL_RC):\n",
    "    fig = plt.figure(figsize=fig_inches)\n",
    "\n",
    "    plot_pdf(posterior, [-3, 3], diag_only=True)\n",
    "    plt.axis('off')\n",
    "    \n",
    "    plt.savefig(PANEL_C, facecolor=plt.gcf().get_facecolor(), transparent=True)\n",
    "    plt.close()\n",
    "    \n",
    "svg(PANEL_C)\n",
    "\n",
    "panel = st.fromfile(PANEL_C)\n",
    "width, height = panel.get_size()\n",
    "print('size of svg : {}'.format((width, height)))\n",
    "print('aspect ratio : {}'.format(get_num(width) / get_num(height)))\n",
    "print('desired ratio : {}'.format(ROW_1_WIDTH_COL_1_MM / ROW_1_HEIGHT_MM))"
   ]
  },
  {
   "cell_type": "markdown",
   "metadata": {},
   "source": [
    "### Panel D"
   ]
  },
  {
   "cell_type": "code",
   "execution_count": null,
   "metadata": {},
   "outputs": [],
   "source": [
    "try:\n",
    "    svg(PANEL_D)\n",
    "except:\n",
    "    pass"
   ]
  },
  {
   "cell_type": "markdown",
   "metadata": {},
   "source": [
    "## Compose figure"
   ]
  },
  {
   "cell_type": "code",
   "execution_count": null,
   "metadata": {},
   "outputs": [],
   "source": [
    "fig = create_fig(FIG_WIDTH_MM, FIG_HEIGHT_MM)\n",
    "\n",
    "yoffset = -1.2\n",
    "xoffset = -1.\n",
    "fig = add_svg(fig, PANEL_A, 0 + xoffset, 0 + yoffset + 1)\n",
    "fig = add_svg(fig, PANEL_B, ROW_1_WIDTH_COL_1_MM + xoffset, 0 + 1.3 + yoffset)\n",
    "fig = add_svg(fig, PANEL_C, ROW_1_WIDTH_COL_1_MM + ROW_1_WIDTH_COL_2_MM + xoffset, 0 + yoffset + 1)\n",
    "\n",
    "yoffset   = 2.3\n",
    "fig = add_label(fig, 'A', 0, yoffset)\n",
    "fig = add_label(fig, 'B', ROW_1_WIDTH_COL_1_MM, yoffset)\n",
    "fig = add_label(fig, 'C', ROW_1_WIDTH_COL_1_MM + ROW_1_WIDTH_COL_2_MM, yoffset)\n",
    "\n",
    "if False:\n",
    "    fig = add_grid(fig, 2, 2)\n",
    "    fig = add_grid(fig, 160/3, 10, font_size_px=0.0001)\n",
    "\n",
    "PATH_SVG = PATH_DROPBOX_FIGS + 'fig5.svg'\n",
    "fig.save(PATH_SVG)\n",
    "\n",
    "svg(PATH_SVG)\n",
    "\n",
    "!$INKSCAPE --export-pdf $PATH_DROPBOX_FIGS/fig5.pdf $PATH_SVG"
   ]
  }
 ],
 "metadata": {
  "anaconda-cloud": {},
  "kernelspec": {
   "display_name": "Python 3",
   "language": "python",
   "name": "python3"
  },
  "language_info": {
   "codemirror_mode": {
    "name": "ipython",
    "version": 3
   },
   "file_extension": ".py",
   "mimetype": "text/x-python",
   "name": "python",
   "nbconvert_exporter": "python",
   "pygments_lexer": "ipython3",
   "version": "3.6.0"
  }
 },
 "nbformat": 4,
 "nbformat_minor": 2
}
