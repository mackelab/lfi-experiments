{
 "cells": [
  {
   "cell_type": "markdown",
   "metadata": {},
   "source": [
    "## Indicator Based Evolutionary Algorithm (IBEA) applied to neural models"
   ]
  },
  {
   "cell_type": "code",
   "execution_count": 1,
   "metadata": {
    "collapsed": true
   },
   "outputs": [],
   "source": [
    "%matplotlib inline\n",
    "from __future__ import division\n",
    "import numpy as np\n",
    "import matplotlib as mpl\n",
    "import matplotlib.pyplot as plt\n",
    "import time\n",
    "\n",
    "import likelihoodfree.io as io\n",
    "import os\n",
    "\n",
    "import bluepyopt as bpopt\n",
    "from bluepyopt.parameters import Parameter\n",
    "\n",
    "from lfmods.hh import HHSimulator"
   ]
  },
  {
   "cell_type": "markdown",
   "metadata": {},
   "source": [
    "## Some parameters of the analysis"
   ]
  },
  {
   "cell_type": "code",
   "execution_count": 2,
   "metadata": {
    "collapsed": true
   },
   "outputs": [],
   "source": [
    "###############################################################################\n",
    "# seed of likelihood-free run from which we extract pilot means, stds, observed data, ground-truth parameters\n",
    "seed_lfree = 1\n",
    "\n",
    "###############################################################################\n",
    "# number of simulations per round\n",
    "sim_step = 500\n",
    "num_round = 5"
   ]
  },
  {
   "cell_type": "markdown",
   "metadata": {},
   "source": [
    "## Load observed data, pilot means and pilot stds"
   ]
  },
  {
   "cell_type": "code",
   "execution_count": 3,
   "metadata": {
    "collapsed": false
   },
   "outputs": [],
   "source": [
    "# loading filenames, paths and data\n",
    "prefix = 'hh_'+str(sim_step)+'_iwloss_svi_inc_data_seed'+str(seed_lfree)\n",
    "basepath = '../results/hh/'\n",
    "dir_nets = basepath + 'nets/'\n",
    "dir_plots = basepath + 'plots/'\n",
    "dir_ibea = basepath + 'ibea/'\n",
    "\n",
    "# create folder for plots\n",
    "if not os.path.exists(dir_ibea):\n",
    "    os.makedirs(dir_ibea)\n",
    "\n",
    "###############################################################################\n",
    "# loading data and posteriors\n",
    "dists, infos, losses, nets, posteriors, sims = io.load_prefix(dir_nets, prefix)\n",
    "\n",
    "# data\n",
    "l_sims = list(sims.items())\n",
    "obs_stats = l_sims[len(sims)-1][1].obs\n",
    "# y_obs = l_sims[len(sims)-1][1].obs_trace.reshape(-1,1)\n",
    "labels_sum_stats = l_sims[len(sims)-1][1].labels_sum_stats\n",
    "\n",
    "###############################################################################\n",
    "# ground-truth parameters\n",
    "gt = l_sims[0][1].true_params\n",
    "n_params = l_sims[0][1].n_params\n",
    "\n",
    "labels_params = l_sims[len(sims)-1][1].labels_params\n",
    "\n",
    "###############################################################################\n",
    "# time\n",
    "t = l_sims[0][1].t\n",
    "dt = l_sims[0][1].dt\n",
    "\n",
    "###############################################################################\n",
    "# input\n",
    "I = l_sims[0][1].I_obs\n",
    "\n",
    "###############################################################################\n",
    "# pilot means and standard deviations\n",
    "pilot_means = l_sims[len(sims)-1][1].pilot_means\n",
    "pilot_stds = l_sims[len(sims)-1][1].pilot_stds"
   ]
  },
  {
   "cell_type": "markdown",
   "metadata": {},
   "source": [
    "## Set up the HH simulator"
   ]
  },
  {
   "cell_type": "code",
   "execution_count": 4,
   "metadata": {
    "collapsed": true
   },
   "outputs": [],
   "source": [
    "sim = HHSimulator(seed=100+seed_lfree,pilot_samples=0.,cached_sims=False, cached_pilot=False)\n",
    "\n",
    "###############################################################################\n",
    "# un-logged prior over parameters\n",
    "unlog_prior_min = sim.param_invtransform(l_sims[len(sims)-1][1].prior_min)\n",
    "unlog_prior_max = sim.param_invtransform(l_sims[len(sims)-1][1].prior_max)\n",
    "\n",
    "params1 = []\n",
    "for i in range(n_params):\n",
    "    params1.append(Parameter(labels_params[i], bounds=[unlog_prior_min[i], unlog_prior_max[i]]))"
   ]
  },
  {
   "cell_type": "markdown",
   "metadata": {},
   "source": [
    "## Training algorithm"
   ]
  },
  {
   "cell_type": "code",
   "execution_count": 5,
   "metadata": {
    "collapsed": true
   },
   "outputs": [],
   "source": [
    "class hh_evaluator(bpopt.evaluators.Evaluator):\n",
    "    def __init__(self, I, dt, t, target_stats, labels_sum_stats, pilot_means, pilot_stds, params1):\n",
    "        self.I = I\n",
    "        self.dt = dt\n",
    "        self.t = t\n",
    "        self.target_stats = target_stats\n",
    "        self.pilot_means = pilot_means\n",
    "        self.pilot_stds = pilot_stds\n",
    "\n",
    "        super(hh_evaluator, self).__init__(objectives=labels_sum_stats,params=params1)\n",
    "\n",
    "\n",
    "    def evaluate_with_lists(self, param_list):\n",
    "        A = param_list\n",
    "\n",
    "        # simulation\n",
    "        params = np.array(A)\n",
    "        hh = sim.bm.HH(-70.,params.reshape(1,-1))\n",
    "        states = hh.sim_time(self.dt, self.t, self.I).reshape(1, -1, 1)\n",
    "\n",
    "        # summary statistics\n",
    "        sum_stats = sim.calc_summary_stats(states)\n",
    "        sum_stats -= self.pilot_means\n",
    "        sum_stats /= self.pilot_stds\n",
    "\n",
    "        return np.ndarray.tolist(np.abs(sum_stats - self.target_stats)[0])\n",
    "\n",
    "\n",
    "\n",
    "def run_deap(I, dt, t, params1, obs_stats, labels_sum_stats,\n",
    "             pilot_means, pilot_stds, optim_ibea=1, offspring_size=10, max_ngen=10):\n",
    "\n",
    "    # choose and run genetic algorithm\n",
    "    evaluator = hh_evaluator(I, dt, t, obs_stats, labels_sum_stats, pilot_means, pilot_stds, params1)\n",
    "\n",
    "    # choose genetic algorithm\n",
    "    if optim_ibea==1:\n",
    "        opt = bpopt.deapext.optimisations.IBEADEAPOptimisation(evaluator,offspring_size=offspring_size)\n",
    "    else:\n",
    "        opt = bpopt.deapext.optimisations.DEAPOptimisation(evaluator,offspring_size=offspring_size)\n",
    "\n",
    "    final_pop, halloffame, log, hist = opt.run(max_ngen=max_ngen)\n",
    "\n",
    "    io.save((final_pop,halloffame,log,hist), dir_ibea + 'ibea_offsp'\n",
    "            + str(offspring_size) + '_ngen' + str(max_ngen) + '.pkl')"
   ]
  },
  {
   "cell_type": "markdown",
   "metadata": {},
   "source": [
    "## Run IBEA algorithm"
   ]
  },
  {
   "cell_type": "code",
   "execution_count": 16,
   "metadata": {
    "collapsed": false,
    "scrolled": false
   },
   "outputs": [],
   "source": [
    "optim_ibea = 1\n",
    "offspring_size = int(sim_step)\n",
    "max_ngen = int(num_round)\n",
    "# offspring_size = 3\n",
    "# max_ngen = 3\n",
    "t_sim = time.time()\n",
    "run_deap(I, dt, t, params1, obs_stats, labels_sum_stats,\n",
    "         pilot_means, pilot_stds, optim_ibea, offspring_size, max_ngen)"
   ]
  },
  {
   "cell_type": "markdown",
   "metadata": {},
   "source": [
    "## Inspect output"
   ]
  },
  {
   "cell_type": "code",
   "execution_count": 17,
   "metadata": {
    "collapsed": false
   },
   "outputs": [
    {
     "name": "stdout",
     "output_type": "stream",
     "text": [
      "(0.0, 0.023642502746821503, 0.02562500596275112, 0.020653044358985063, 0.014464677514425699, 0.008183946199190592, 0.002030670061806711, 0.0038279154984491026, 0.008657447107189353, 0.011703828003807204, 0.012367524516685602, 0.2973927804910952, 0.3623064101276262, 0.004784854483563028, 0.036148125482770466, 0.017416149546900073, 0.009553943427358158, 0.0015015486473244355, 0.0038320378545588785, 0.0069012562599987115)\n",
      "[  4.45008794e+01   3.43365909e+00   6.18766909e-02   5.47420327e+01\n",
      "   1.15634822e+02   6.18844164e+01   6.03176145e-02   7.91550547e+02\n",
      "   7.12001941e-01   4.02249431e+01   5.55835800e+01   3.32404261e-01]\n",
      "[  5.00000000e+01   5.00000000e+00   1.00000000e-01   5.00000000e+01\n",
      "   9.00000000e+01   7.00000000e+01   7.00000000e-02   6.00000000e+02\n",
      "   5.00000000e-01   4.00000000e+01   6.00000000e+01   5.00000000e-01]\n"
     ]
    }
   ],
   "source": [
    "# load deap results\n",
    "_, halloffame, log,_ = io.load(dir_ibea + 'ibea_offsp'\n",
    "                               + str(offspring_size) +'_ngen' + str(max_ngen) + '.pkl')\n",
    "best_params = halloffame[0]\n",
    "best_sumstats = best_params.fitness.values\n",
    "hlf = np.asarray(best_params)\n",
    "    \n",
    "# print results\n",
    "print(best_sumstats)\n",
    "print(hlf)\n",
    "print(gt)"
   ]
  },
  {
   "cell_type": "code",
   "execution_count": null,
   "metadata": {
    "collapsed": true
   },
   "outputs": [],
   "source": []
  }
 ],
 "metadata": {
  "anaconda-cloud": {},
  "kernelspec": {
   "display_name": "Python [Root]",
   "language": "python",
   "name": "Python [Root]"
  },
  "language_info": {
   "codemirror_mode": {
    "name": "ipython",
    "version": 3
   },
   "file_extension": ".py",
   "mimetype": "text/x-python",
   "name": "python",
   "nbconvert_exporter": "python",
   "pygments_lexer": "ipython3",
   "version": "3.5.3"
  }
 },
 "nbformat": 4,
 "nbformat_minor": 0
}
