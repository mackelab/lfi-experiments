{
 "cells": [
  {
   "cell_type": "markdown",
   "metadata": {},
   "source": [
    "# NIPS 2017 Figure 2"
   ]
  },
  {
   "cell_type": "code",
   "execution_count": null,
   "metadata": {},
   "outputs": [],
   "source": [
    "%run -i NIPS2017.ipynb\n",
    "\n",
    "# FIGURE and GRID\n",
    "FIG_HEIGHT_MM = 90\n",
    "FIG_WIDTH_MM = FIG_WIDTH_MM  # set in NIPS2017 notebook to a default value for all figures\n",
    "FIG_N_ROWS = 3\n",
    "ROW_1_NCOLS = 3\n",
    "ROW_1_HEIGHT_MM = FIG_HEIGHT_MM / FIG_N_ROWS\n",
    "ROW_1_WIDTH_COL_1_MM = FIG_WIDTH_MM / ROW_1_NCOLS\n",
    "ROW_1_WIDTH_COL_2_MM = FIG_WIDTH_MM / ROW_1_NCOLS\n",
    "ROW_1_WIDTH_COL_3_MM = FIG_WIDTH_MM / ROW_1_NCOLS\n",
    "ROW_2_NCOLS = 3\n",
    "ROW_2_HEIGHT_MM = FIG_HEIGHT_MM / FIG_N_ROWS\n",
    "ROW_2_WIDTH_COL_1_MM = FIG_WIDTH_MM / ROW_2_NCOLS\n",
    "ROW_2_WIDTH_COL_2_MM = 0.75*FIG_WIDTH_MM / ROW_2_NCOLS\n",
    "ROW_2_WIDTH_COL_3_MM = 1.25*FIG_WIDTH_MM / ROW_2_NCOLS\n",
    "ROW_3_NCOLS = 1\n",
    "ROW_3_HEIGHT_MM = FIG_HEIGHT_MM / FIG_N_ROWS\n",
    "ROW_3_WIDTH_COL_1_MM = FIG_WIDTH_MM / ROW_3_NCOLS\n",
    "ROW_3_WIDTH_COL_2_MM = FIG_WIDTH_MM / ROW_3_NCOLS\n",
    "ROW_3_WIDTH_COL_3_MM = FIG_WIDTH_MM / ROW_3_NCOLS\n",
    "\n",
    "# PATHS\n",
    "PANEL_A = PATH_DROPBOX_FIGS + 'fig2_a.svg'\n",
    "PANEL_B = PATH_DROPBOX_FIGS + 'fig2_b.svg'\n",
    "PANEL_C = PATH_DROPBOX_FIGS + 'fig2_c.svg'\n",
    "PANEL_D = PATH_DROPBOX_FIGS + 'fig2_d.svg'\n",
    "PANEL_E = PATH_DROPBOX_FIGS + 'fig2_e.svg'\n",
    "PANEL_F = PATH_DROPBOX_FIGS + 'fig2_f.svg'\n",
    "PANEL_G = PATH_DROPBOX_FIGS + 'fig2_g.svg'"
   ]
  },
  {
   "cell_type": "markdown",
   "metadata": {},
   "source": [
    "## Row 1"
   ]
  },
  {
   "cell_type": "code",
   "execution_count": null,
   "metadata": {},
   "outputs": [],
   "source": [
    "from lfmods.gauss import GaussSimulator\n",
    "dim = 1\n",
    "sim = GaussSimulator(dim=dim, n_summary=10)"
   ]
  },
  {
   "cell_type": "markdown",
   "metadata": {},
   "source": [
    "### Panel A"
   ]
  },
  {
   "cell_type": "code",
   "execution_count": null,
   "metadata": {},
   "outputs": [],
   "source": [
    "# matplotlib takes figsize specified as inches\n",
    "# in NIPS2016 SCALE_IN and the conversion function are defined\n",
    "fig_inches = (SCALE_IN*mm2inches(ROW_1_WIDTH_COL_1_MM), SCALE_IN*mm2inches(ROW_1_HEIGHT_MM))\n",
    "\n",
    "with mpl.rc_context(fname=MPL_RC):\n",
    "    fig = plt.figure(figsize=fig_inches)\n",
    "\n",
    "    plt.plot([1,2,3])\n",
    "    #viz.plot_pdf_marginals(sim.posterior, [-3, 3], fig=fig)\n",
    "    plt.xlabel('x')\n",
    "    plt.ylabel('y')\n",
    "    plt.axis('off')\n",
    "\n",
    "    plt.savefig(PANEL_A, facecolor=plt.gcf().get_facecolor(), transparent=True)  # the figure is saved as svg\n",
    "    plt.close()\n",
    "    \n",
    "panel = st.fromfile(PANEL_A)\n",
    "width, height = panel.get_size()\n",
    "print('size of svg : {}'.format((width, height)))\n",
    "print('aspect ratio : {}'.format(get_num(width) / get_num(height)))\n",
    "print('desired ratio : {}'.format(ROW_1_WIDTH_COL_1_MM / ROW_1_HEIGHT_MM))"
   ]
  },
  {
   "cell_type": "markdown",
   "metadata": {},
   "source": [
    "### Panel B"
   ]
  },
  {
   "cell_type": "code",
   "execution_count": null,
   "metadata": {},
   "outputs": [],
   "source": [
    "# matplotlib takes figsize specified as inches\n",
    "# in NIPS2016 SCALE_IN and the conversion function are defined\n",
    "fig_inches = (SCALE_IN*mm2inches(ROW_1_WIDTH_COL_1_MM), SCALE_IN*mm2inches(ROW_1_HEIGHT_MM))\n",
    "\n",
    "with mpl.rc_context(fname=MPL_RC):\n",
    "    fig = plt.figure(figsize=fig_inches)\n",
    "\n",
    "    plt.plot([1,2,3])\n",
    "    #viz.plot_pdf_marginals(sim.posterior, [-3, 3], fig=fig)\n",
    "    plt.xlabel('x')\n",
    "    plt.ylabel('y')\n",
    "    plt.axis('off')\n",
    "\n",
    "    plt.savefig(PANEL_B, facecolor=plt.gcf().get_facecolor(), transparent=True)  # the figure is saved as svg\n",
    "    plt.close()\n",
    "    \n",
    "panel = st.fromfile(PANEL_B)\n",
    "width, height = panel.get_size()\n",
    "print('size of svg : {}'.format((width, height)))\n",
    "print('aspect ratio : {}'.format(get_num(width) / get_num(height)))\n",
    "print('desired ratio : {}'.format(ROW_1_WIDTH_COL_1_MM / ROW_1_HEIGHT_MM))"
   ]
  },
  {
   "cell_type": "markdown",
   "metadata": {},
   "source": [
    "### Panel C"
   ]
  },
  {
   "cell_type": "code",
   "execution_count": null,
   "metadata": {},
   "outputs": [],
   "source": [
    "# matplotlib takes figsize specified as inches\n",
    "# in NIPS2016 SCALE_IN and the conversion function are defined\n",
    "fig_inches = (SCALE_IN*mm2inches(ROW_1_WIDTH_COL_1_MM), SCALE_IN*mm2inches(ROW_1_HEIGHT_MM))\n",
    "\n",
    "with mpl.rc_context(fname=MPL_RC):\n",
    "    fig = plt.figure(figsize=fig_inches)\n",
    "\n",
    "    plt.plot([1,2,3])\n",
    "    #viz.plot_pdf_marginals(sim.posterior, [-3, 3], fig=fig)\n",
    "    plt.xlabel('x')\n",
    "    plt.ylabel('y')\n",
    "    plt.axis('off')\n",
    "\n",
    "    plt.savefig(PANEL_C, facecolor=plt.gcf().get_facecolor(), transparent=True)  # the figure is saved as svg\n",
    "    plt.close()\n",
    "\n",
    "panel = st.fromfile(PANEL_C)\n",
    "width, height = panel.get_size()\n",
    "print('size of svg : {}'.format((width, height)))\n",
    "print('aspect ratio : {}'.format(get_num(width) / get_num(height)))\n",
    "print('desired ratio : {}'.format(ROW_1_WIDTH_COL_1_MM / ROW_1_HEIGHT_MM))"
   ]
  },
  {
   "cell_type": "markdown",
   "metadata": {},
   "source": [
    "## Row 2"
   ]
  },
  {
   "cell_type": "markdown",
   "metadata": {},
   "source": [
    "Load data for row 2"
   ]
  },
  {
   "cell_type": "code",
   "execution_count": null,
   "metadata": {},
   "outputs": [],
   "source": [
    "prefix = '10sta_5000_svi_seed1'  # murray\n",
    "prefix = '10sta_5000_iwloss_svi_inc_data_seed1'  # ours\n",
    "\n",
    "dists, infos, losses, nets, posteriors, sims = io.load_prefix(dirs['dir_nets_glm'], prefix)\n",
    "sim = io.last(sims)\n",
    "obs_stats = sim.obs\n",
    "y_obs = sim.obs_trace.reshape(-1,1)\n",
    "gt = sim.true_params\n",
    "num_param_inf = len(gt)\n",
    "labels_params = sim.labels_params\n",
    "t = sim.t\n",
    "I = sim.I_obs.reshape(1,-1)\n",
    "posterior = io.last(posteriors)\n",
    "\n",
    "BETA_sub_samp = np.load(dirs['dir_sampler_glm'] + prefix + '_ess.npy')       "
   ]
  },
  {
   "cell_type": "markdown",
   "metadata": {},
   "source": [
    "### Panel D"
   ]
  },
  {
   "cell_type": "code",
   "execution_count": null,
   "metadata": {},
   "outputs": [],
   "source": [
    "m, S = posterior.calc_mean_and_cov()\n",
    "m_samp = np.mean(BETA_sub_samp,axis=1)\n",
    "cov_samp = np.cov(BETA_sub_samp)\n",
    "\n",
    "fig_inches = (SCALE_IN*mm2inches(ROW_1_WIDTH_COL_1_MM), SCALE_IN*mm2inches(0.9*ROW_1_HEIGHT_MM))\n",
    "\n",
    "with mpl.rc_context(fname=MPL_RC):\n",
    "    fig = plt.figure(figsize=fig_inches)\n",
    "\n",
    "    plt.fill_between(np.linspace(1, num_param_inf, num_param_inf), \n",
    "                     m-2*np.sqrt(np.diag(S)),\n",
    "                     m+2*np.sqrt(np.diag(S)), \n",
    "                     facecolor=COL['SNPE'], \n",
    "                     alpha=0.3)\n",
    "    plt.fill_between(np.linspace(1,num_param_inf,num_param_inf), \n",
    "                     m_samp-2*np.sqrt(np.diag(cov_samp)),\n",
    "                     m_samp+2*np.sqrt(np.diag(cov_samp)), \n",
    "                     facecolor=COL['ESS'], \n",
    "                     alpha=0.3)\n",
    "    plt.plot(np.linspace(1,num_param_inf,num_param_inf), \n",
    "             gt, '-o', color = COL['GT'], label='true value')\n",
    "    plt.plot(np.linspace(1,num_param_inf,num_param_inf), \n",
    "             m, '-o', color = COL['SNPE'], label='SNPE')\n",
    "    plt.plot(np.linspace(1,num_param_inf,num_param_inf),\n",
    "             m_samp, '-o', color = COL['ESS'],\n",
    "             label='ESS-MCMC')\n",
    "\n",
    "    plt.gca().set_xticks([1, 5, 10])\n",
    "    plt.xlabel('parameter')\n",
    "    plt.ylabel('value')\n",
    "    plt.legend()\n",
    "    plt.savefig(PANEL_D, facecolor=plt.gcf().get_facecolor(), transparent=True)  # the figure is saved as svg\n",
    "    plt.close()\n",
    "\n",
    "svg(PANEL_D)\n",
    "\n",
    "panel = st.fromfile(PANEL_D)\n",
    "width, height = panel.get_size()\n",
    "print('size of svg : {}'.format((width, height)))\n",
    "print('aspect ratio : {}'.format(get_num(width) / get_num(height)))\n",
    "print('desired ratio : {}'.format(ROW_1_WIDTH_COL_1_MM / ROW_1_HEIGHT_MM))"
   ]
  },
  {
   "cell_type": "markdown",
   "metadata": {},
   "source": [
    "### Panel E"
   ]
  },
  {
   "cell_type": "code",
   "execution_count": null,
   "metadata": {},
   "outputs": [],
   "source": [
    "cov_samp = np.cov(BETA_sub_samp)\n",
    "m, S = posterior.calc_mean_and_cov()\n",
    "\n",
    "min_cov = np.min([np.min(cov_samp), np.min(S)])\n",
    "max_cov = np.max([np.max(cov_samp), np.max(S)])\n",
    "\n",
    "fig_inches = (SCALE_IN*mm2inches(ROW_2_WIDTH_COL_2_MM), SCALE_IN*mm2inches(2*ROW_2_HEIGHT_MM+7.5))\n",
    "\n",
    "with mpl.rc_context(fname=MPL_RC):\n",
    "    fig = plt.figure(figsize=fig_inches)\n",
    "\n",
    "    ax = plt.subplot(2,1,1)\n",
    "    im = plt.imshow(cov_samp, clim=(0, max_cov))\n",
    "    plt.axis('off')\n",
    "    divider = make_axes_locatable(ax)\n",
    "    cax = divider.append_axes(\"right\", size=\"5%\", pad=0.05)\n",
    "    cb = plt.colorbar(im, cax=cax)\n",
    "    cb.set_label('ESS-MCMC covariance', rotation=270)\n",
    "    cb.set_clim([0, max_cov])\n",
    "    cb.set_ticks([0, max_cov])\n",
    "    cb.outline.set_visible(False)\n",
    "    cb.set_ticklabels(['0', str(np.round(max_cov, 1))])\n",
    "    \n",
    "    ax = plt.subplot(2,1,2)\n",
    "    im = plt.imshow(S, clim=(0, max_cov))\n",
    "    plt.axis('off')\n",
    "    divider = make_axes_locatable(ax)\n",
    "    cax = divider.append_axes(\"right\", size=\"5%\", pad=0.05)\n",
    "    cb = plt.colorbar(im, cax=cax)\n",
    "    cb.set_label('SNPE covariance', rotation=270)\n",
    "    cb.set_clim([0, max_cov])\n",
    "    cb.set_ticks([0, max_cov])\n",
    "    cb.outline.set_visible(False)\n",
    "    cb.set_ticklabels(['0', str(np.round(max_cov, 1))])\n",
    "\n",
    "    plt.savefig(PANEL_E, facecolor=plt.gcf().get_facecolor(), transparent=True)\n",
    "    plt.close()\n",
    "\n",
    "panel = st.fromfile(PANEL_E)\n",
    "width, height = panel.get_size()\n",
    "print('size of svg : {}'.format((width, height)))\n",
    "print('aspect ratio : {}'.format(get_num(width) / get_num(height)))\n",
    "\n",
    "svg(PANEL_E)"
   ]
  },
  {
   "cell_type": "markdown",
   "metadata": {},
   "source": [
    "### Panel F"
   ]
  },
  {
   "cell_type": "code",
   "execution_count": null,
   "metadata": {},
   "outputs": [],
   "source": [
    "fig_inches = (SCALE_IN*mm2inches(ROW_2_WIDTH_COL_3_MM), SCALE_IN*mm2inches(2*ROW_2_HEIGHT_MM + 7.5))\n",
    "\n",
    "with mpl.rc_context(fname=MPL_RC):\n",
    "    fig = plt.figure(figsize=fig_inches)\n",
    "    plot_pdf(posterior, lims=[-3, 3], gt=gt, labels_params=labels_params,ticks = False, partial=True, samples=BETA_sub_samp)\n",
    "    plt.savefig(PANEL_F, facecolor=plt.gcf().get_facecolor(), transparent=True)\n",
    "    plt.close()\n",
    "\n",
    "svg(PANEL_F)\n",
    "\n",
    "panel = st.fromfile(PANEL_F)\n",
    "width, height = panel.get_size()\n",
    "print('size of svg : {}'.format((width, height)))\n",
    "print('aspect ratio : {}'.format(get_num(width) / get_num(height)))\n",
    "print('desired ratio : {}'.format(ROW_1_WIDTH_COL_1_MM / ROW_1_HEIGHT_MM))"
   ]
  },
  {
   "cell_type": "markdown",
   "metadata": {},
   "source": [
    "## Row 3"
   ]
  },
  {
   "cell_type": "code",
   "execution_count": null,
   "metadata": {},
   "outputs": [],
   "source": [
    "# For each round of run, compute KL from our posterior to gaussian approximation to the sampling posterior\n",
    "\n",
    "def gauss_kl(pm, pv, qm, qv):\n",
    "    \"\"\"\n",
    "    Adapted from\n",
    "    http://www.cs.cmu.edu/~chanwook/MySoftware/rm1_Spk-by-Spk_MLLR/rm1_PNCC_MLLR_1/rm1/python/sphinx/divergence.py\n",
    "    Kullback-Liebler divergence from Gaussian qm,qv to Gaussian pm,pv.\n",
    "    Divergence is expressed in nats.\n",
    "    \"\"\"\n",
    "\n",
    "    # determinants of covariances pv, qv\n",
    "    pv_det = np.linalg.det(pv)\n",
    "    qv_det = np.linalg.det(qv)\n",
    "\n",
    "    # inverse of covariance qv\n",
    "    qv_inv = np.linalg.inv(qv)\n",
    "\n",
    "    return 0.5*(np.log(qv_det/pv_det) + np.trace(np.dot(qv_inv,pv))\n",
    "             + np.dot(np.dot(qm-pm,qv_inv),qm-pm) - len(pm))\n",
    "\n",
    "# runs\n",
    "seed_list = np.array([1,2,3])\n",
    "num_rep = len(seed_list)\n",
    "# prefix = '10sta_5000_svi_seed'  # murray\n",
    "prefix = '10sta_5000_iwloss_svi_inc_data_seed'  # ours\n",
    "\n",
    "# number of simulations per round\n",
    "sim_step = 5000\n",
    "num_round = 5\n",
    "num_sim = np.linspace(sim_step, num_round*sim_step, num_round).astype(int)\n",
    "\n",
    "kl_all = np.zeros((num_rep, len(num_sim)))\n",
    "\n",
    "for i in range(num_rep):\n",
    "    _, _, _, _, posteriors, _ = io.load_prefix(dirs['dir_nets_glm'], prefix + str(seed_list[i]))\n",
    "    \n",
    "    for j in range(len(num_sim)):\n",
    "        posterior = io.nth(posteriors, j)\n",
    "        m_j, S_j = posterior.calc_mean_and_cov()\n",
    "        kl_all[i, j] = gauss_kl(m_samp, cov_samp,m_j, S_j)\n",
    "kl_mn = np.mean(kl_all, 0)\n",
    "kl_std = np.std(kl_all, 0)"
   ]
  },
  {
   "cell_type": "markdown",
   "metadata": {},
   "source": [
    "### Panel G"
   ]
  },
  {
   "cell_type": "code",
   "execution_count": null,
   "metadata": {},
   "outputs": [],
   "source": [
    "fig_inches = (SCALE_IN*mm2inches(0.9*ROW_1_WIDTH_COL_1_MM), SCALE_IN*mm2inches(0.95*ROW_1_HEIGHT_MM))\n",
    "\n",
    "with mpl.rc_context(fname=MPL_RC):\n",
    "    fig = plt.figure(figsize=fig_inches)\n",
    "\n",
    "    plt.fill_between(num_sim, kl_mn-kl_std,\n",
    "                     kl_mn+kl_std,facecolor=COL['SNPE'],alpha=0.3)\n",
    "    plt.plot(num_sim,kl_mn,'o-', lw=2, color=COL['SNPE'])\n",
    "    \n",
    "    ax = plt.gca()\n",
    "    ax.set_xticks(num_sim)\n",
    "    ax.set_yticks(np.linspace(min(kl_mn),max(kl_mn),3))\n",
    "    plt.xlabel('no. simulations')\n",
    "    plt.ylabel('KL')\n",
    "\n",
    "    plt.savefig(PANEL_G, facecolor=plt.gcf().get_facecolor(), transparent=True)  # the figure is saved as svg\n",
    "    plt.close()\n",
    "\n",
    "svg(PANEL_G)\n",
    "\n",
    "panel = st.fromfile(PANEL_G)\n",
    "width, height = panel.get_size()\n",
    "print('size of svg : {}'.format((width, height)))\n",
    "print('aspect ratio : {}'.format(get_num(width) / get_num(height)))\n",
    "print('desired ratio : {}'.format(ROW_1_WIDTH_COL_1_MM / ROW_1_HEIGHT_MM))"
   ]
  },
  {
   "cell_type": "markdown",
   "metadata": {},
   "source": [
    "## Compose figure"
   ]
  },
  {
   "cell_type": "code",
   "execution_count": null,
   "metadata": {},
   "outputs": [],
   "source": [
    "fig = create_fig(FIG_WIDTH_MM, FIG_HEIGHT_MM)\n",
    "\n",
    "if False:\n",
    "    fig = add_grid(fig, 2, 2)\n",
    "    fig = add_grid(fig, 160/3, 10, font_size_px=0.0001)\n",
    "\n",
    "yoffset = -1.2\n",
    "xoffset = -1.\n",
    "fig = add_svg(fig, PANEL_A, 0 + xoffset, 0 + yoffset)\n",
    "fig = add_svg(fig, PANEL_B, ROW_1_WIDTH_COL_1_MM + xoffset, 0 + yoffset)\n",
    "fig = add_svg(fig, PANEL_C, ROW_1_WIDTH_COL_1_MM + ROW_1_WIDTH_COL_2_MM + xoffset, 0 + yoffset)\n",
    "fig = add_svg(fig, PANEL_D, 0 + xoffset, ROW_2_HEIGHT_MM + yoffset)\n",
    "fig = add_svg(fig, PANEL_E, ROW_2_WIDTH_COL_1_MM + xoffset, ROW_2_HEIGHT_MM + yoffset - 0.1)\n",
    "fig = add_svg(fig, PANEL_F, ROW_2_WIDTH_COL_1_MM + ROW_2_WIDTH_COL_2_MM + xoffset + 1., ROW_2_HEIGHT_MM + yoffset)\n",
    "fig = add_svg(fig, PANEL_G, 0 + xoffset, ROW_1_HEIGHT_MM + ROW_2_HEIGHT_MM + yoffset)\n",
    "\n",
    "yoffset = 2.3\n",
    "fig = add_label(fig, 'A mog', 0, 0 + yoffset)\n",
    "fig = add_label(fig, 'B res1', ROW_1_WIDTH_COL_1_MM, 0 + yoffset)\n",
    "fig = add_label(fig, 'C res2', ROW_1_WIDTH_COL_1_MM + ROW_1_WIDTH_COL_2_MM, 0 + yoffset)\n",
    "yoffset = 1.5\n",
    "fig = add_label(fig, 'D', 0, ROW_2_HEIGHT_MM + yoffset)\n",
    "fig = add_label(fig, 'E', ROW_2_WIDTH_COL_1_MM, ROW_2_HEIGHT_MM + yoffset)\n",
    "fig = add_label(fig, 'F', ROW_2_WIDTH_COL_1_MM + ROW_2_WIDTH_COL_2_MM, ROW_2_HEIGHT_MM + yoffset)\n",
    "yoffset = 1.5\n",
    "fig = add_label(fig, 'G', 0, ROW_1_HEIGHT_MM + ROW_2_HEIGHT_MM + yoffset)\n",
    "\n",
    "PATH_SVG = PATH_DROPBOX_FIGS + 'fig2.svg'\n",
    "fig.save(PATH_SVG)\n",
    "\n",
    "svg(PATH_SVG)\n",
    "\n",
    "!$INKSCAPE --export-pdf $PATH_DROPBOX_FIGS/fig2.pdf $PATH_SVG"
   ]
  }
 ],
 "metadata": {
  "anaconda-cloud": {},
  "kernelspec": {
   "display_name": "Python [Root]",
   "language": "python",
   "name": "Python [Root]"
  },
  "language_info": {
   "codemirror_mode": {
    "name": "ipython",
    "version": 3
   },
   "file_extension": ".py",
   "mimetype": "text/x-python",
   "name": "python",
   "nbconvert_exporter": "python",
   "pygments_lexer": "ipython3",
   "version": "3.5.3"
  }
 },
 "nbformat": 4,
 "nbformat_minor": 2
}
