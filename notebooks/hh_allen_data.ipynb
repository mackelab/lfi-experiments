{
 "cells": [
  {
   "cell_type": "code",
   "execution_count": null,
   "metadata": {
    "collapsed": true
   },
   "outputs": [],
   "source": [
    "%matplotlib inline\n",
    "import numpy as np\n",
    "import matplotlib.pyplot as plt\n",
    "\n",
    "from allensdk.core.cell_types_cache import CellTypesCache"
   ]
  },
  {
   "cell_type": "code",
   "execution_count": null,
   "metadata": {
    "collapsed": true
   },
   "outputs": [],
   "source": [
    "!mkdir -p cell_types"
   ]
  },
  {
   "cell_type": "code",
   "execution_count": null,
   "metadata": {
    "collapsed": false
   },
   "outputs": [],
   "source": [
    "# Instantiate the CellTypesCache instance.  The manifest_file argument\n",
    "# tells it where to store the manifest, which is a JSON file that tracks\n",
    "# file paths.  If you supply a relative path (like this), it will go\n",
    "# into your current working directory\n",
    "ctc = CellTypesCache(manifest_file='./cell_types_manifest.json')\n",
    "\n",
    "# this saves the NWB file to 'cell_types/specimen_464212183/ephys.nwb'\n",
    "data_set = ctc.get_ephys_data(464212183)\n",
    "\n",
    "sweep_number = 33\n",
    "sweep_data = data_set.get_sweep(sweep_number)\n",
    "\n",
    "index_range = sweep_data[\"index_range\"]\n",
    "i = sweep_data[\"stimulus\"][0:index_range[1]+1] # in A\n",
    "v = sweep_data[\"response\"][0:index_range[1]+1] # in V\n",
    "i *= 1e12 # to pA\n",
    "v *= 1e3 # to mV\n",
    "\n",
    "sampling_rate = sweep_data[\"sampling_rate\"] # in Hz"
   ]
  },
  {
   "cell_type": "code",
   "execution_count": null,
   "metadata": {
    "collapsed": true
   },
   "outputs": [],
   "source": [
    "## sub-sampling\n",
    "#v = v[0::200]\n",
    "#i = i[0::200]\n",
    "#t = np.arange(0, len(v)) * (200000.0 / sampling_rate)\n",
    "\n",
    "t = np.arange(0, len(v)) * (1000 / sampling_rate)\n",
    "\n",
    "###############################################################################\n",
    "# detect spikes\n",
    "v1 = np.array(v)\n",
    "# put everything to -10 that is below -10 or has negative slope\n",
    "ind = np.where(v1 < -10)\n",
    "v1[ind] = -10\n",
    "ind = np.where(np.diff(v1) < 0)\n",
    "v1[ind] = -10\n",
    "\n",
    "# remaining negative slopes are at spike peaks\n",
    "ind = np.where(np.diff(v1) < 0)\n",
    "spike_times = np.array(t)[ind]\n",
    "spike_times_stim = spike_times[(spike_times > 1020) & (spike_times < 2020)]\n",
    "print(spike_times_stim.shape)\n",
    "\n",
    "# choose one spike time within close spike times\n",
    "spike_times_stim = spike_times_stim[np.append(1,np.diff(spike_times_stim))>0.5]\n",
    "print(spike_times_stim.shape)\n",
    "\n",
    "###############################################################################\n",
    "\n",
    "#plt.style.use('ggplot')\n",
    "plt.style.use('classic')\n",
    "fig, axes = plt.subplots(2, 1, sharex=True)\n",
    "axes[0].plot(t, v, color='black')\n",
    "axes[1].plot(t, i, color='gray')\n",
    "#axes[0].plot(t[int(1.01*sampling_rate):int(2.1*sampling_rate)], v[int(1.01*sampling_rate):int(2.1*sampling_rate)], color='black')\n",
    "#axes[0].plot(spike_times_stim, 22+np.zeros_like(spike_times_stim), '.r')\n",
    "#axes[1].plot(t[int(1.01*sampling_rate):int(2.1*sampling_rate)], i[int(1.01*sampling_rate):int(2.1*sampling_rate)], color='gray')\n",
    "axes[0].set_ylabel(\"mV\")\n",
    "axes[1].set_ylabel(\"pA\")\n",
    "axes[1].set_xlabel(\"milliseconds\")\n",
    "plt.show()"
   ]
  }
 ],
 "metadata": {
  "kernelspec": {
   "display_name": "Python 3",
   "language": "python",
   "name": "python3"
  },
  "language_info": {
   "codemirror_mode": {
    "name": "ipython",
    "version": 3
   },
   "file_extension": ".py",
   "mimetype": "text/x-python",
   "name": "python",
   "nbconvert_exporter": "python",
   "pygments_lexer": "ipython3",
   "version": "3.6.0"
  }
 },
 "nbformat": 4,
 "nbformat_minor": 2
}
