{
 "cells": [
  {
   "cell_type": "markdown",
   "metadata": {},
   "source": [
    "## Analyse Sqrt run"
   ]
  },
  {
   "cell_type": "code",
   "execution_count": 34,
   "metadata": {
    "collapsed": true,
    "hidden": true
   },
   "outputs": [],
   "source": [
    "%matplotlib inline\n",
    "from __future__ import division\n",
    "import likelihoodfree.io as io\n",
    "import likelihoodfree.viz as viz\n",
    "import matplotlib as mpl\n",
    "import matplotlib.pyplot as plt\n",
    "import numpy as np\n",
    "import os\n",
    "\n",
    "from numpy import unravel_index"
   ]
  },
  {
   "cell_type": "markdown",
   "metadata": {},
   "source": [
    "## Loading results"
   ]
  },
  {
   "cell_type": "code",
   "execution_count": 35,
   "metadata": {
    "collapsed": false
   },
   "outputs": [],
   "source": [
    "# loading filename and paths\n",
    "prefix = 'testd1iwsvi'\n",
    "basepath = '../results/sqrt/'\n",
    "dir_nets = basepath + 'nets/'\n",
    "dir_plots = basepath + 'plots/'\n",
    "\n",
    "# create folder for plots\n",
    "save_plot_flag = 1\n",
    "if save_plot_flag:\n",
    "    if not os.path.exists(dir_plots):\n",
    "        os.makedirs(dir_plots)\n",
    "\n",
    "###############################################################################\n",
    "# loading data and posteriors\n",
    "dists, infos, losses, nets, posteriors, sims = io.load_prefix(dir_nets, prefix)\n",
    "\n",
    "# data\n",
    "l_sims = list(sims.items())\n",
    "obs_stats = l_sims[len(sims)-1][1].obs\n",
    "\n",
    "# posterior\n",
    "l_posteriors = list(posteriors.items())\n",
    "posterior = l_posteriors[len(l_posteriors)-1][1]\n",
    "\n",
    "###############################################################################\n",
    "# ground-truth parameters\n",
    "true_params = l_sims[0][1].true_params\n",
    "\n",
    "###############################################################################\n",
    "# prior\n",
    "true_prior = l_sims[len(sims)-1][1].prior\n",
    "\n",
    "###############################################################################\n",
    "# true posterior\n",
    "true_posterior = l_sims[len(sims)-1][1].posterior\n",
    "\n",
    "###############################################################################\n",
    "# simulator\n",
    "forward_model = l_sims[len(sims)-1][1].forward_model"
   ]
  },
  {
   "cell_type": "markdown",
   "metadata": {},
   "source": [
    "## Approximation to true posterior"
   ]
  },
  {
   "cell_type": "code",
   "execution_count": 36,
   "metadata": {
    "collapsed": false,
    "scrolled": true
   },
   "outputs": [],
   "source": [
    "def gauss1D(x,mean,var):\n",
    "    return ((2 * np.pi) ** (-0.5)) * (1 / np.sqrt(var)) * np.exp(-0.5 * ((x - mean) ** 2) / var)\n",
    "\n",
    "def kernel(x,y,eps):\n",
    "    return gauss1D(x,y,eps ** 2)\n",
    "\n",
    "def qw(theta,mu_grid,eps_grid):\n",
    "    return gauss1D(theta,mu_grid,eps_grid)\n",
    "\n",
    "def log_qw(theta,mu_grid,eps_grid):\n",
    "    return np.log(qw(theta,mu_grid,eps_grid))\n",
    "\n",
    "# approximate Lw using MC integration with n steps\n",
    "def Lw_approx(prior_mean,eta,sigma,x0,eps,mu_grid,eps_grid,n = 10000):\n",
    "    thetas = np.random.normal(prior_mean, eta, size=n)\n",
    "    xes = np.random.normal(np.sqrt(thetas), sigma)\n",
    "\n",
    "    ret = 0.\n",
    "    for theta, x in zip(thetas,xes):\n",
    "        ret -= log_qw(theta,mu_grid,eps_grid) * kernel(x,x0,eps)\n",
    "\n",
    "    return ret / len(thetas)\n",
    "\n",
    "def max_Lw(prior_mean,eta,sigma,x0,eps,mu_grid,eps_grid):\n",
    "    LW = np.zeros((len(mu_grid),len(eps_grid)))\n",
    "    for i in range(len(mu_grid)):\n",
    "        for j in range(len(eps_grid)):\n",
    "            LW[i,j] = Lw_approx(prior_mean,eta,sigma,x0,eps,mu_grid[i],eps_grid[j])\n",
    "    idx = unravel_index(LW.argmin(), LW.shape)\n",
    "    return LW, mu_grid[idx[0]], eps_grid[idx[1]]"
   ]
  },
  {
   "cell_type": "code",
   "execution_count": null,
   "metadata": {
    "collapsed": false,
    "scrolled": true
   },
   "outputs": [],
   "source": [
    "prior_cov=1.0\n",
    "prior_mean=5.0\n",
    "noise_cov=0.1\n",
    "eps = 0.3\n",
    "\n",
    "n_brut = 100\n",
    "mu_grid = np.linspace(0.01, 10, n_brut)\n",
    "eps_grid = np.linspace(0.01, 5, n_brut)\n",
    "\n",
    "lims = np.array([[0],[10]])\n",
    "n_grid = 30\n",
    "yy = np.linspace(lims[0], lims[1], n_grid)\n",
    "\n",
    "mu_brut_post = 0.*yy\n",
    "eps_brut_post = 0.*yy\n",
    "xx = 0.*yy\n",
    "x0_grid = np.sqrt(yy)\n",
    "for i in range(n_grid):\n",
    "    print(i)\n",
    "    LW, mu_brut_post1, eps_brut_post1 = max_Lw(prior_mean,prior_cov,noise_cov\n",
    "                                                ,x0_grid[i],eps, mu_grid, eps_grid)\n",
    "    mu_brut_post[i] = mu_brut_post1\n",
    "    eps_brut_post[i] = eps_brut_post1"
   ]
  },
  {
   "cell_type": "markdown",
   "metadata": {},
   "source": [
    "## Prior, true and estimated posteriors, samples from prior"
   ]
  },
  {
   "cell_type": "code",
   "execution_count": null,
   "metadata": {
    "collapsed": false,
    "scrolled": true
   },
   "outputs": [],
   "source": [
    "# sampling from estimated posterior and running forward model\n",
    "n_samp = 500\n",
    "theta_samp = np.zeros(n_samp)\n",
    "x_samp = np.zeros(n_samp)\n",
    "for i in range(n_samp):\n",
    "    theta_samp[i] = posterior.gen(1).reshape(-1)\n",
    "    x_samp[i] = forward_model(np.array([theta_samp[i]]))\n",
    "       \n",
    "# contour values for prior, true posterior and estimated posterior\n",
    "pp_prior = 0.*yy\n",
    "pp_true = np.tile(0.*yy,(len(x0_grid),1))\n",
    "pp_estimated = np.tile(0.*yy,(len(sims),1))\n",
    "for i in range(n_grid):\n",
    "    xx[i] = forward_model(np.array([yy[i]]))\n",
    "    pp_prior[i] = true_prior.eval(np.array([[yy[i]]]), log=False)\n",
    "    for j in range(len(sims)):\n",
    "        posterior1 = l_posteriors[j][1]\n",
    "        pp_estimated[j,i] = posterior1.eval(np.array([[yy[i]]]), log=False)\n",
    "        \n",
    "    pp_true[i,:] = gauss1D(yy,mu_brut_post[i],eps_brut_post[i])"
   ]
  },
  {
   "cell_type": "markdown",
   "metadata": {},
   "source": [
    "## Plotting"
   ]
  },
  {
   "cell_type": "code",
   "execution_count": null,
   "metadata": {
    "collapsed": false,
    "scrolled": false
   },
   "outputs": [],
   "source": [
    "fig = plt.figure()\n",
    "ax = plt.subplot()\n",
    "\n",
    "col_0 = (35/255,86/255,167/255)\n",
    "col_1 = (0, 174/255,239/255)\n",
    "col_2 = (244/255, 152/255, 25/255)\n",
    "\n",
    "gs = mpl.gridspec.GridSpec(1, 2, width_ratios=[1, 4])\n",
    "\n",
    "ax = plt.subplot(gs[0])\n",
    "plt.plot(pp_prior,yy,'--',color='0.45', label='prior')\n",
    "\n",
    "num_colors = len(sims)+1\n",
    "cm1 = mpl.cm.Oranges\n",
    "col1 = [cm1(1.*i/num_colors) for i in range(num_colors)]\n",
    "# for i in range(len(sims)):\n",
    "#     plt.plot(pp_estimated[i,:],yy,color=col1[i])\n",
    "plt.plot(pp_estimated[len(sims)-1,:],yy,color=col_2)\n",
    "ax.set_ylim(lims)\n",
    "plt.ylabel('theta')\n",
    "plt.legend()\n",
    "\n",
    "\n",
    "ax = plt.subplot(gs[1])\n",
    "lims1 = np.array([[np.sqrt(lims[0,0]),np.sqrt(lims[1,0])],[lims[0,0],lims[1,0]]])\n",
    "plt.plot(x_samp, theta_samp,'.',color=col_0)\n",
    "# ax.imshow(-pp_true,origin='lower',cmap='gray',\n",
    "#           extent=[lims1[0, 0],lims1[0, 1],lims1[1 ,0],lims1[1 ,1]],\n",
    "#           aspect='auto', interpolation='none')\n",
    "\n",
    "plt.plot(x0_grid, mu_brut_post, color = '0.45', label='true posterior')\n",
    "plt.fill_between(x0_grid,mu_brut_post-2*np.sqrt(eps_brut_post),\n",
    "                 mu_brut_post+2*np.sqrt(eps_brut_post),\n",
    "                 facecolor='0.75',\n",
    "                 alpha=0.3)\n",
    "\n",
    "# plt.plot(x0_grid, x0_grid**2, color = '0.45', label='true posterior')\n",
    "# ax.plot(obs_stats, true_params, 'r.', ms=15)\n",
    "ax.vlines(obs_stats, 0, ax.get_ylim()[1], lw=2, color='r')\n",
    "\n",
    "ax.vlines(obs_stats-eps, 0, ax.get_ylim()[1], lw=1, color=col_1)\n",
    "ax.vlines(obs_stats+eps, 0, ax.get_ylim()[1], lw=1, color=col_1)\n",
    "\n",
    "ax.set_xlim(np.sqrt(lims))\n",
    "ax.set_ylim(lims)\n",
    "ax.set_yticks([])\n",
    "plt.xlabel('x')\n",
    "\n",
    "plt.savefig('fig1b.pdf')\n",
    "plt.show()"
   ]
  },
  {
   "cell_type": "markdown",
   "metadata": {},
   "source": [
    "## Artificial example"
   ]
  },
  {
   "cell_type": "code",
   "execution_count": 33,
   "metadata": {
    "collapsed": false
   },
   "outputs": [
    {
     "data": {
      "image/png": "[encoded data removed]",
      "text/plain": [
       "<matplotlib.figure.Figure at 0x1191d3cc0>"
      ]
     },
     "metadata": {},
     "output_type": "display_data"
    }
   ],
   "source": [
    "prior_cov=1.0\n",
    "prior_mean=5.0\n",
    "noise_cov=0.1\n",
    "eps = 0.3\n",
    "\n",
    "\n",
    "lims = np.array([[0],[10]])\n",
    "n_grid_art = 100\n",
    "yy_art = np.linspace(lims[0], lims[1], n_grid_art)\n",
    "\n",
    "mu_brut_post_art = 0.*yy_art\n",
    "eps_brut_post_art = 0.*yy_art\n",
    "xx_art = 0.*yy_art\n",
    "x0_grid_art = np.sqrt(yy_art)\n",
    "\n",
    "# sampling from estimated posterior and running forward model\n",
    "n_samp = 500\n",
    "theta_samp = np.zeros(n_samp)\n",
    "x_samp = np.zeros(n_samp)\n",
    "for i in range(n_samp):\n",
    "    theta_samp[i] = posterior.gen(1).reshape(-1)\n",
    "    x_samp[i] = forward_model(np.array([theta_samp[i]]))\n",
    "       \n",
    "# contour values for prior, true posterior and estimated posterior\n",
    "pp_prior_art = 0.*yy_art\n",
    "pp_true_art = np.tile(0.*yy_art,(len(x0_grid_art),1))\n",
    "pp_estimated_art = np.tile(0.*yy_art,(len(sims),1))\n",
    "for i in range(n_grid_art):\n",
    "    for j in range(len(sims)):\n",
    "        posterior1 = l_posteriors[j][1]\n",
    "        pp_estimated_art[j,i] = posterior1.eval(np.array([[yy_art[i]]]), log=False)\n",
    "        \n",
    "#     pp_true_art[i,:] = gauss1D(yy_art,mu_brut_post[i],eps_brut_post[i])\n",
    "\n",
    "# shifted true prior\n",
    "yy_art2 = np.linspace(lims[0]-1, lims[1]-1, n_grid_art)\n",
    "for i in range(n_grid_art):\n",
    "    pp_prior_art[i] = true_prior.eval(np.array([[yy_art2[i]]]), log=False)\n",
    "\n",
    "# plotting\n",
    "fig = plt.figure()\n",
    "ax = plt.subplot()\n",
    "\n",
    "col_0 = (35/255,86/255,167/255)\n",
    "col_1 = (0, 174/255,239/255)\n",
    "col_2 = (244/255, 152/255, 25/255)\n",
    "\n",
    "gs = mpl.gridspec.GridSpec(1, 2, width_ratios=[1, 3])\n",
    "\n",
    "ax = plt.subplot(gs[0])\n",
    "plt.plot(pp_prior_art,yy_art,'--',color='0.45', label='prior')\n",
    "plt.plot(pp_estimated_art[len(sims)-1,:],yy_art,color=col_2, label='posterior')\n",
    "ax.set_ylim(lims)\n",
    "plt.ylabel('theta')\n",
    "# plt.legend(bbox_to_anchor=(0, 1), loc='upper right')\n",
    "plt.legend()\n",
    "\n",
    "ax = plt.subplot(gs[1])\n",
    "lims1 = np.array([[np.sqrt(lims[0,0]),np.sqrt(lims[1,0])],[lims[0,0],lims[1,0]]])\n",
    "plt.plot(x_samp, theta_samp,'.',color=col_0)\n",
    "# ax.imshow(-pp_true_art,origin='lower',cmap='gray',\n",
    "#           extent=[lims1[0, 0],lims1[0, 1],lims1[1 ,0],lims1[1 ,1]],\n",
    "#           aspect='auto', interpolation='none')\n",
    "\n",
    "plt.plot(x0_grid_art, yy_art**1.1, color = '0.45', label='true posterior')\n",
    "plt.fill_between(x0_grid_art,yy_art**1.1-2,\n",
    "                 yy_art**1.1+2,\n",
    "                 facecolor='0.75',\n",
    "                 alpha=0.3)\n",
    "\n",
    "# plt.plot(x0_grid_art, x0_grid_art**2, color = '0.45', label='true posterior')\n",
    "ax.vlines(obs_stats, 0, ax.get_ylim()[1], lw=2, color='r')\n",
    "\n",
    "ax.vlines(obs_stats-eps, 0, ax.get_ylim()[1], lw=1, color=col_1)\n",
    "ax.vlines(obs_stats+eps, 0, ax.get_ylim()[1], lw=1, color=col_1)\n",
    "\n",
    "ax.set_xlim(np.sqrt(lims))\n",
    "ax.set_ylim(lims)\n",
    "ax.set_yticks([])\n",
    "plt.xlabel('x')\n",
    "\n",
    "plt.tight_layout()\n",
    "\n",
    "plt.savefig('fig1b_artificial.pdf')\n",
    "plt.show()"
   ]
  },
  {
   "cell_type": "code",
   "execution_count": null,
   "metadata": {
    "collapsed": false
   },
   "outputs": [],
   "source": [
    "yy_art"
   ]
  },
  {
   "cell_type": "code",
   "execution_count": null,
   "metadata": {
    "collapsed": true
   },
   "outputs": [],
   "source": []
  }
 ],
 "metadata": {
  "kernelspec": {
   "display_name": "Python [Root]",
   "language": "python",
   "name": "Python [Root]"
  },
  "language_info": {
   "codemirror_mode": {
    "name": "ipython",
    "version": 3
   },
   "file_extension": ".py",
   "mimetype": "text/x-python",
   "name": "python",
   "nbconvert_exporter": "python",
   "pygments_lexer": "ipython3",
   "version": "3.5.3"
  }
 },
 "nbformat": 4,
 "nbformat_minor": 2
}
