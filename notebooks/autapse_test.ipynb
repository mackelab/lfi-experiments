{
 "cells": [
  {
   "cell_type": "markdown",
   "metadata": {},
   "source": [
    "## Analyse Autapse run"
   ]
  },
  {
   "cell_type": "code",
   "execution_count": 2,
   "metadata": {
    "collapsed": false
   },
   "outputs": [],
   "source": [
    "%matplotlib inline\n",
    "import numpy as np\n",
    "import matplotlib.pyplot as plt\n",
    "\n",
    "from lfmods.autapse import AutapseSimulator"
   ]
  },
  {
   "cell_type": "markdown",
   "metadata": {},
   "source": [
    "## Load simulator and indicator of bad data"
   ]
  },
  {
   "cell_type": "code",
   "execution_count": 3,
   "metadata": {
    "collapsed": false
   },
   "outputs": [],
   "source": [
    "# simulator\n",
    "sim = AutapseSimulator(seed=1, pilot_samples=0.,cached_sims=False, cached_pilot=False)\n",
    "true_params = sim.true_params\n",
    "n_params = sim.n_params\n",
    "\n",
    "sim.prior\n",
    "prior_min = sim.prior_min\n",
    "prior_max = sim.prior_max\n",
    "# prior_min = np.array([0.8,0.2])\n",
    "# prior_max = np.array([2.0,2.5])\n",
    "\n",
    "init = sim.init\n",
    "t = sim.t\n",
    "dt = sim.dt\n",
    "duration = np.max(t)\n",
    "I = sim.I_obs\n",
    "\n",
    "# indicator of bad data\n",
    "bad_data_indicator = lambda x: int(np.abs(x.reshape(-1)[-1]) > 1000)\n",
    "\n",
    "#params = np.array([1.1]).reshape(-1,1)\n",
    "#hh = bm = sim.bm.Autapse(init, params.reshape(1,-1), seed=1)\n",
    "#states_bad_autapse = hh.sim_time(dt, t, I)[:,0]\n",
    "\n",
    "#plt.plot(states_good_autapse)\n",
    "#print(np.mean(states_good_autapse))\n",
    "#print(np.abs(states_good_autapse[-1]) > 100)\n",
    "# plt.plot(states_good_autapse)"
   ]
  },
  {
   "cell_type": "markdown",
   "metadata": {},
   "source": [
    "## State space of model: good vs bad data"
   ]
  },
  {
   "cell_type": "code",
   "execution_count": 4,
   "metadata": {
    "collapsed": false,
    "scrolled": false
   },
   "outputs": [
    {
     "name": "stderr",
     "output_type": "stream",
     "text": [
      "/Users/pedro/Documents/repos/likelihoodfree-models/lfmods/autapse_bm.py:35: RuntimeWarning: overflow encountered in double_scalars\n",
      "  x[i] = x[i-1] + tstep*((J-1)*x[i-1] + I[i-1] + nois_fact*self.rng.randn()/(tstep**0.5))/tau_x\n"
     ]
    },
    {
     "data": {
      "image/png": "[encoded data removed]",
      "text/plain": [
       "<matplotlib.figure.Figure at 0x10bdfe390>"
      ]
     },
     "metadata": {},
     "output_type": "display_data"
    }
   ],
   "source": [
    "# samples from prior\n",
    "n_samp = 500\n",
    "params = sim.prior.gen(n_samp)\n",
    "gb = np.zeros(n_samp)\n",
    "\n",
    "for i in range(n_samp):\n",
    "    autapse = sim.bm.Autapse(init, params[i,:].reshape(1,-1))\n",
    "    r = autapse.sim_time(dt, t, I)[:,0]\n",
    "    gb[i] = bad_data_indicator(r)\n",
    "    \n",
    "    \n",
    "plt.plot(params[np.where(gb.astype(int)==0), 0],\n",
    "         params[np.where(gb.astype(int)==0), 1],'.b')\n",
    "\n",
    "plt.plot(params[np.where(gb.astype(int)==1), 0],\n",
    "         params[np.where(gb.astype(int)==1), 1],'.r')\n",
    "ax = plt.gca()\n",
    "#ax.set_xticks([0, duration/2, duration])\n",
    "\n",
    "#A_soma = 1\n",
    "#ax.set_yticks([0, 1.1*np.max(I*A_soma*1e3)])\n",
    "plt.show()\n",
    "# ax.imshow(gb,origin='lower', cmap = cmaps.parula,\n",
    "#                                         extent=[lims[i, 0],lims[i, 1],lims[j ,0],lims[j ,1]],\n",
    "#                                         aspect='auto', interpolation='none')"
   ]
  },
  {
   "cell_type": "code",
   "execution_count": 19,
   "metadata": {
    "collapsed": false
   },
   "outputs": [
    {
     "data": {
      "text/plain": [
       "array([[ 0.82330965,  0.95699911,  0.85512976,  0.99543901,  1.04384478,\n",
       "         0.95330991,  1.04164736,  1.00478872,  1.01130758,  0.92838641,\n",
       "         1.0618279 ,  0.92842013,  0.90919956,  0.88072271,  0.98350369,\n",
       "         0.88693234,  0.86345153,  0.81645123,  1.02201806,  0.9762858 ,\n",
       "         0.96183896,  0.90747914,  0.90018274,  0.90375898]])"
      ]
     },
     "execution_count": 19,
     "metadata": {},
     "output_type": "execute_result"
    }
   ],
   "source": [
    "params[np.where(gb.astype(int)==0),0]"
   ]
  },
  {
   "cell_type": "markdown",
   "metadata": {},
   "source": [
    "## Some parameters of the analysis"
   ]
  },
  {
   "cell_type": "code",
   "execution_count": null,
   "metadata": {
    "collapsed": true,
    "hidden": true
   },
   "outputs": [],
   "source": [
    "# to save or not to save plots\n",
    "save_plot_flag = 0\n",
    "\n",
    "###############################################################################\n",
    "# number of parameters inferred\n",
    "num_param_inf = 1\n",
    "\n",
    "###############################################################################\n",
    "# number of simulations per iteration\n",
    "sim_step = 100\n",
    "num_round = 5\n",
    "num_sim = np.linspace(sim_step, num_round*sim_step, num_round).astype(int)\n",
    "\n",
    "###############################################################################\n",
    "# colors\n",
    "col_original = (35/255,86/255,167/255)\n",
    "col_lfree = (0, 174/255,239/255)"
   ]
  },
  {
   "cell_type": "markdown",
   "metadata": {},
   "source": [
    "## Loading files"
   ]
  },
  {
   "cell_type": "code",
   "execution_count": null,
   "metadata": {
    "collapsed": true
   },
   "outputs": [],
   "source": [
    "# loading filenames, paths and data\n",
    "iw_loss_ind = 0\n",
    "prefix = 'autapse_test_iw'\n",
    "basepath = '../results/autapse/'\n",
    "dir_nets = basepath + 'nets/'\n",
    "dir_plots = basepath + 'plots/'\n",
    "\n",
    "# create folder for plots\n",
    "if save_plot_flag:\n",
    "    if not os.path.exists(dir_plots):\n",
    "        os.makedirs(dir_plots)\n",
    "\n",
    "###############################################################################\n",
    "# loading data and posteriors\n",
    "dists, infos, losses, nets, posteriors, sims = io.load_prefix(dir_nets, prefix)\n",
    "\n",
    "# data\n",
    "l_sims = list(sims.items())\n",
    "obs_stats = l_sims[len(sims)-1][1].obs\n",
    "y_obs = l_sims[len(sims)-1][1].obs_trace.reshape(-1,1)\n",
    "\n",
    "# posterior\n",
    "l_posteriors = list(posteriors.items())\n",
    "posterior = l_posteriors[len(l_posteriors)-1][1]\n",
    "\n",
    "###############################################################################\n",
    "# ground-truth parameters\n",
    "gt = l_sims[0][1].true_params\n",
    "\n",
    "###############################################################################\n",
    "# time\n",
    "t = l_sims[0][1].t\n",
    "\n",
    "###############################################################################\n",
    "# input\n",
    "I = l_sims[0][1].I_obs\n",
    "I = I.reshape(1,-1)"
   ]
  },
  {
   "cell_type": "markdown",
   "metadata": {},
   "source": [
    "## Posterior distribution"
   ]
  },
  {
   "cell_type": "code",
   "execution_count": null,
   "metadata": {
    "collapsed": true
   },
   "outputs": [],
   "source": [
    "levels=(0.68, 0.95)\n",
    "\n",
    "alpha_rep = np.linspace(0.5,1,num_rep)\n",
    "\n",
    "for i in range(len(l_posteriors)):\n",
    "    \n",
    "    f, axs = plt.subplots(1,3,figsize=(np.maximum(5,1.5*posterior.ndim),\n",
    "                                   np.maximum(5,1.5*posterior.ndim)))\n",
    "    posterior = l_posteriors[i][1]\n",
    "    for ii in range(posterior.ndim):\n",
    "        for j in range(ii,posterior.ndim):\n",
    "\n",
    "            if ii == j:\n",
    "                ax = plt.subplot2grid((posterior.ndim, posterior.ndim), (ii,j))\n",
    "\n",
    "                lims = np.array([0.5*gt[ii],1.5*gt[ii]])\n",
    "                xx = np.linspace(lims[0], lims[1], 500)\n",
    "\n",
    "                pp = posterior.eval(xx, ii=[ii], log=False)\n",
    "                ax.plot(xx, pp, lw=1, color=col_lfree)\n",
    "                ax.vlines(gt[ii], 0, ax.get_ylim()[1], lw=1, color='r')\n",
    "                \n",
    "                if ii==0 and j==0:\n",
    "                    plt.title('round '+str(i+1))\n",
    "\n",
    "            else:\n",
    "                ax = plt.subplot2grid((posterior.ndim, posterior.ndim), (ii,j))\n",
    "                \n",
    "                lims = np.array([[0.5*gt[ii],1.5*gt[ii]],[0.5*gt[j],\n",
    "                                  0.5*gt[j]]])\n",
    "\n",
    "                xx = np.linspace(lims[0, 0], lims[0, 1], 500)\n",
    "                yy = np.linspace(lims[1 ,0], lims[1, 1], 500)\n",
    "                X, Y = np.meshgrid(xx, yy)\n",
    "                xy = np.concatenate([X.reshape([-1, 1]), Y.reshape([-1, 1])], axis=1)\n",
    "\n",
    "                pp = posterior.eval(xy, ii=[ii, j], log=False)\n",
    "                pp = pp.reshape(list(X.shape))\n",
    "                ax.contour(X, Y, viz.probs2contours(pp, levels), levels, lw=1,colors=('w','y'))\n",
    "                ax.set_xlim(lims[0])\n",
    "                ax.set_ylim(lims[1])\n",
    "                ax.plot(gt[ii], gt[j], 'r.', ms=8)\n",
    "    \n",
    "    plt.tight_layout()\n",
    "\n",
    "# save figure\n",
    "if save_plot_flag == 1:\n",
    "    plt.savefig(dir_plots + 'fig_summary_lfree_stability' + prefix + '.pdf')\n",
    "plt.show()"
   ]
  },
  {
   "cell_type": "markdown",
   "metadata": {},
   "source": [
    "## Training loss"
   ]
  },
  {
   "cell_type": "code",
   "execution_count": null,
   "metadata": {
    "collapsed": true
   },
   "outputs": [],
   "source": [
    "i=0\n",
    "for k, v in losses.items():\n",
    "    i = i+1\n",
    "    fig, ax = viz.loss(v, title=k)\n",
    "#     plt.show()\n",
    "    plt.title('round '+str(i))"
   ]
  },
  {
   "cell_type": "markdown",
   "metadata": {},
   "source": [
    "## Distance of samples"
   ]
  },
  {
   "cell_type": "code",
   "execution_count": null,
   "metadata": {
    "collapsed": true
   },
   "outputs": [],
   "source": [
    "for k, v in dists.items():\n",
    "    fig, ax = viz.dist(v, title=k)"
   ]
  },
  {
   "cell_type": "markdown",
   "metadata": {},
   "source": [
    "## Validation set"
   ]
  },
  {
   "cell_type": "code",
   "execution_count": null,
   "metadata": {
    "collapsed": true
   },
   "outputs": [],
   "source": [
    "for i in range(num_round):\n",
    "    plt.plot(io.nth(losses, i)['val_val'],label='round '+str(i+1))\n",
    "    plt.ylim([0,20])\n",
    "plt.legend()"
   ]
  },
  {
   "cell_type": "markdown",
   "metadata": {},
   "source": [
    "## Importance weights"
   ]
  },
  {
   "cell_type": "code",
   "execution_count": null,
   "metadata": {
    "collapsed": true
   },
   "outputs": [],
   "source": [
    "f, axs = plt.subplots(1,2,figsize=(15,5))\n",
    "\n",
    "for i in range(num_round):    \n",
    "    ax = plt.subplot(1,2,1)\n",
    "    plt.semilogy(io.nth(losses, i)['trn_out'][-1][1],'.')\n",
    "    \n",
    "    ax = plt.subplot(1,2,2)\n",
    "    plt.hist(io.nth(losses, i)['trn_out'][-1][1],bins=20,log=True,alpha=0.5,label='round '+str(i+1))\n",
    "\n",
    "plt.legend()"
   ]
  },
  {
   "cell_type": "code",
   "execution_count": null,
   "metadata": {
    "collapsed": true
   },
   "outputs": [],
   "source": [
    "len(io.nth(losses, i)['trn_out'][-1][1])"
   ]
  },
  {
   "cell_type": "markdown",
   "metadata": {},
   "source": [
    "## Info"
   ]
  },
  {
   "cell_type": "code",
   "execution_count": null,
   "metadata": {
    "collapsed": true
   },
   "outputs": [],
   "source": [
    "for k, v in infos.items():\n",
    "    print(viz.info(v, title=k))"
   ]
  },
  {
   "cell_type": "code",
   "execution_count": null,
   "metadata": {
    "collapsed": true
   },
   "outputs": [],
   "source": []
  },
  {
   "cell_type": "code",
   "execution_count": null,
   "metadata": {
    "collapsed": true
   },
   "outputs": [],
   "source": []
  }
 ],
 "metadata": {
  "anaconda-cloud": {},
  "kernelspec": {
   "display_name": "Python [Root]",
   "language": "python",
   "name": "Python [Root]"
  },
  "language_info": {
   "codemirror_mode": {
    "name": "ipython",
    "version": 3
   },
   "file_extension": ".py",
   "mimetype": "text/x-python",
   "name": "python",
   "nbconvert_exporter": "python",
   "pygments_lexer": "ipython3",
   "version": "3.5.3"
  }
 },
 "nbformat": 4,
 "nbformat_minor": 2
}
