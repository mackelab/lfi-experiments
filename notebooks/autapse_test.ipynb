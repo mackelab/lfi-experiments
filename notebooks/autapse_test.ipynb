{
 "cells": [
  {
   "cell_type": "markdown",
   "metadata": {},
   "source": [
    "## Analyse Autapse run"
   ]
  },
  {
   "cell_type": "code",
   "execution_count": null,
   "metadata": {},
   "outputs": [],
   "source": [
    "%matplotlib inline\n",
    "from __future__ import division\n",
    "import numpy as np\n",
    "import scipy.signal as ss\n",
    "import matplotlib as mpl\n",
    "import matplotlib.pyplot as plt\n",
    "from mpl_toolkits.axes_grid1 import make_axes_locatable\n",
    "from pypolyagamma import PyPolyaGamma\n",
    "from math import factorial\n",
    "\n",
    "import likelihoodfree.io as io\n",
    "import likelihoodfree.viz as viz\n",
    "import likelihoodfree.PDF as lfpdf\n",
    "import os"
   ]
  },
  {
   "cell_type": "markdown",
   "metadata": {},
   "source": [
    "## Some parameters of the analysis"
   ]
  },
  {
   "cell_type": "code",
   "execution_count": null,
   "metadata": {
    "hidden": true
   },
   "outputs": [],
   "source": [
    "# to save or not to save plots\n",
    "save_plot_flag = 0\n",
    "\n",
    "###############################################################################\n",
    "# number of parameters inferred\n",
    "num_param_inf = 1\n",
    "\n",
    "###############################################################################\n",
    "# number of simulations per iteration\n",
    "sim_step = 100\n",
    "num_round = 5\n",
    "num_sim = np.linspace(sim_step, num_round*sim_step, num_round).astype(int)\n",
    "\n",
    "###############################################################################\n",
    "# colors\n",
    "col_original = (35/255,86/255,167/255)\n",
    "col_lfree = (0, 174/255,239/255)"
   ]
  },
  {
   "cell_type": "markdown",
   "metadata": {},
   "source": [
    "## Loading files"
   ]
  },
  {
   "cell_type": "code",
   "execution_count": null,
   "metadata": {},
   "outputs": [],
   "source": [
    "# loading filenames, paths and data\n",
    "iw_loss_ind = 0\n",
    "prefix = 'autapse_test_iw'\n",
    "basepath = '../results/autapse/'\n",
    "dir_nets = basepath + 'nets/'\n",
    "dir_plots = basepath + 'plots/'\n",
    "\n",
    "# create folder for plots\n",
    "if save_plot_flag:\n",
    "    if not os.path.exists(dir_plots):\n",
    "        os.makedirs(dir_plots)\n",
    "\n",
    "###############################################################################\n",
    "# loading data and posteriors\n",
    "dists, infos, losses, nets, posteriors, sims = io.load_prefix(dir_nets, prefix)\n",
    "\n",
    "# data\n",
    "l_sims = list(sims.items())\n",
    "obs_stats = l_sims[len(sims)-1][1].obs\n",
    "y_obs = l_sims[len(sims)-1][1].obs_trace.reshape(-1,1)\n",
    "\n",
    "# posterior\n",
    "l_posteriors = list(posteriors.items())\n",
    "posterior = l_posteriors[len(l_posteriors)-1][1]\n",
    "\n",
    "###############################################################################\n",
    "# ground-truth parameters\n",
    "gt = l_sims[0][1].true_params\n",
    "\n",
    "###############################################################################\n",
    "# time\n",
    "t = l_sims[0][1].t\n",
    "\n",
    "###############################################################################\n",
    "# input\n",
    "I = l_sims[0][1].I_obs\n",
    "I = I.reshape(1,-1)"
   ]
  },
  {
   "cell_type": "markdown",
   "metadata": {},
   "source": [
    "## Posterior distribution"
   ]
  },
  {
   "cell_type": "code",
   "execution_count": null,
   "metadata": {},
   "outputs": [],
   "source": [
    "levels=(0.68, 0.95)\n",
    "\n",
    "alpha_rep = np.linspace(0.5,1,num_rep)\n",
    "\n",
    "for i in range(len(l_posteriors)):\n",
    "    \n",
    "    f, axs = plt.subplots(1,3,figsize=(np.maximum(5,1.5*posterior.ndim),\n",
    "                                   np.maximum(5,1.5*posterior.ndim)))\n",
    "    posterior = l_posteriors[i][1]\n",
    "    for ii in range(posterior.ndim):\n",
    "        for j in range(ii,posterior.ndim):\n",
    "\n",
    "            if ii == j:\n",
    "                ax = plt.subplot2grid((posterior.ndim, posterior.ndim), (ii,j))\n",
    "\n",
    "                lims = np.array([0.5*gt[ii],1.5*gt[ii]])\n",
    "                xx = np.linspace(lims[0], lims[1], 500)\n",
    "\n",
    "                pp = posterior.eval(xx, ii=[ii], log=False)\n",
    "                ax.plot(xx, pp, lw=1, color=col_lfree)\n",
    "                ax.vlines(gt[ii], 0, ax.get_ylim()[1], lw=1, color='r')\n",
    "                \n",
    "                if ii==0 and j==0:\n",
    "                    plt.title('round '+str(i+1))\n",
    "\n",
    "            else:\n",
    "                ax = plt.subplot2grid((posterior.ndim, posterior.ndim), (ii,j))\n",
    "                \n",
    "                lims = np.array([[0.5*gt[ii],1.5*gt[ii]],[0.5*gt[j],\n",
    "                                  0.5*gt[j]]])\n",
    "\n",
    "                xx = np.linspace(lims[0, 0], lims[0, 1], 500)\n",
    "                yy = np.linspace(lims[1 ,0], lims[1, 1], 500)\n",
    "                X, Y = np.meshgrid(xx, yy)\n",
    "                xy = np.concatenate([X.reshape([-1, 1]), Y.reshape([-1, 1])], axis=1)\n",
    "\n",
    "                pp = posterior.eval(xy, ii=[ii, j], log=False)\n",
    "                pp = pp.reshape(list(X.shape))\n",
    "                ax.contour(X, Y, viz.probs2contours(pp, levels), levels, lw=1,colors=('w','y'))\n",
    "                ax.set_xlim(lims[0])\n",
    "                ax.set_ylim(lims[1])\n",
    "                ax.plot(gt[ii], gt[j], 'r.', ms=8)\n",
    "    \n",
    "    plt.tight_layout()\n",
    "\n",
    "# save figure\n",
    "if save_plot_flag == 1:\n",
    "    plt.savefig(dir_plots + 'fig_summary_lfree_stability' + prefix + '.pdf')\n",
    "plt.show()"
   ]
  },
  {
   "cell_type": "markdown",
   "metadata": {},
   "source": [
    "## Training loss"
   ]
  },
  {
   "cell_type": "code",
   "execution_count": null,
   "metadata": {},
   "outputs": [],
   "source": [
    "i=0\n",
    "for k, v in losses.items():\n",
    "    i = i+1\n",
    "    fig, ax = viz.loss(v, title=k)\n",
    "#     plt.show()\n",
    "    plt.title('round '+str(i))"
   ]
  },
  {
   "cell_type": "markdown",
   "metadata": {},
   "source": [
    "## Distance of samples"
   ]
  },
  {
   "cell_type": "code",
   "execution_count": null,
   "metadata": {},
   "outputs": [],
   "source": [
    "for k, v in dists.items():\n",
    "    fig, ax = viz.dist(v, title=k)"
   ]
  },
  {
   "cell_type": "markdown",
   "metadata": {},
   "source": [
    "## Validation set"
   ]
  },
  {
   "cell_type": "code",
   "execution_count": null,
   "metadata": {},
   "outputs": [],
   "source": [
    "for i in range(num_round):\n",
    "    plt.plot(io.nth(losses, i)['val_val'],label='round '+str(i+1))\n",
    "    plt.ylim([0,20])\n",
    "plt.legend()"
   ]
  },
  {
   "cell_type": "markdown",
   "metadata": {},
   "source": [
    "## Importance weights"
   ]
  },
  {
   "cell_type": "code",
   "execution_count": null,
   "metadata": {},
   "outputs": [],
   "source": [
    "f, axs = plt.subplots(1,2,figsize=(15,5))\n",
    "\n",
    "for i in range(num_round):    \n",
    "    ax = plt.subplot(1,2,1)\n",
    "    plt.semilogy(io.nth(losses, i)['trn_out'][-1][1],'.')\n",
    "    \n",
    "    ax = plt.subplot(1,2,2)\n",
    "    plt.hist(io.nth(losses, i)['trn_out'][-1][1],bins=20,log=True,alpha=0.5,label='round '+str(i+1))\n",
    "\n",
    "plt.legend()"
   ]
  },
  {
   "cell_type": "code",
   "execution_count": null,
   "metadata": {},
   "outputs": [],
   "source": [
    "len(io.nth(losses, i)['trn_out'][-1][1])"
   ]
  },
  {
   "cell_type": "markdown",
   "metadata": {},
   "source": [
    "## Info"
   ]
  },
  {
   "cell_type": "code",
   "execution_count": null,
   "metadata": {},
   "outputs": [],
   "source": [
    "for k, v in infos.items():\n",
    "    print(viz.info(v, title=k))"
   ]
  },
  {
   "cell_type": "code",
   "execution_count": null,
   "metadata": {},
   "outputs": [],
   "source": []
  },
  {
   "cell_type": "code",
   "execution_count": null,
   "metadata": {},
   "outputs": [],
   "source": []
  }
 ],
 "metadata": {
  "anaconda-cloud": {},
  "kernelspec": {
   "display_name": "Python [Root]",
   "language": "python",
   "name": "Python [Root]"
  },
  "language_info": {
   "codemirror_mode": {
    "name": "ipython",
    "version": 3
   },
   "file_extension": ".py",
   "mimetype": "text/x-python",
   "name": "python",
   "nbconvert_exporter": "python",
   "pygments_lexer": "ipython3",
   "version": "3.5.3"
  }
 },
 "nbformat": 4,
 "nbformat_minor": 2
}
