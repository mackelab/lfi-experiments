{
 "cells": [
  {
   "cell_type": "markdown",
   "metadata": {},
   "source": [
    "# Python 2 only!"
   ]
  },
  {
   "cell_type": "markdown",
   "metadata": {},
   "source": [
    "Extracts a trace from Allen Institute Cell Types Database. Adapted from: https://alleninstitute.github.io/AllenSDK/_static/examples/nb/cell_types.html"
   ]
  },
  {
   "cell_type": "code",
   "execution_count": null,
   "metadata": {
    "collapsed": false
   },
   "outputs": [],
   "source": [
    "%matplotlib inline\n",
    "from __future__ import division\n",
    "\n",
    "import cPickle as pickle\n",
    "import matplotlib.pyplot as plt\n",
    "import numpy as np\n",
    "import os\n",
    "\n",
    "from allensdk.core.cell_types_cache import CellTypesCache\n",
    "from allensdk.api.queries.cell_types_api import CellTypesApi"
   ]
  },
  {
   "cell_type": "code",
   "execution_count": null,
   "metadata": {
    "collapsed": true
   },
   "outputs": [],
   "source": [
    "def pickle_save(data, file):\n",
    "    \"\"\"Saves data to a file.\"\"\"\n",
    "    f = open(file, 'wb')\n",
    "    pickle.dump(data, f)\n",
    "    f.close()"
   ]
  },
  {
   "cell_type": "code",
   "execution_count": null,
   "metadata": {
    "collapsed": true
   },
   "outputs": [],
   "source": [
    "dir_cache = '../results/hh/data/'\n",
    "ephys_cell = 464212183\n",
    "sweep_number= 33\n",
    "t_offset = 1015.\n",
    "duration = 1250.\n",
    "real_data_path = dir_cache + 'ephys_cell_{}_sweep_number_{}.pkl'.format(ephys_cell,sweep_number)"
   ]
  },
  {
   "cell_type": "code",
   "execution_count": null,
   "metadata": {
    "collapsed": true
   },
   "outputs": [],
   "source": [
    "if not os.path.isfile(real_data_path):\n",
    "    manifest_file = 'cell_types/manifest.json'\n",
    "\n",
    "    cta = CellTypesApi()\n",
    "    ctc = CellTypesCache(manifest_file=manifest_file)\n",
    "    data_set = ctc.get_ephys_data(ephys_cell)\n",
    "    sweep_data = data_set.get_sweep(sweep_number)  # works with python2 and fails with python3\n",
    "    sweeps = cta.get_ephys_sweeps(ephys_cell)\n",
    "\n",
    "    sweep = sweeps[sweep_number]\n",
    "\n",
    "    index_range = sweep_data[\"index_range\"]\n",
    "    i = sweep_data[\"stimulus\"][0:index_range[1]+1] # in A\n",
    "    v = sweep_data[\"response\"][0:index_range[1]+1] # in V\n",
    "    sampling_rate = sweep_data[\"sampling_rate\"] # in Hz\n",
    "    dt = 1e3/sampling_rate # in ms\n",
    "    i *= 1e6 # to mA\n",
    "    v *= 1e3 # to mV\n",
    "    v = v[int(t_offset/dt):int((t_offset+duration)/dt)]\n",
    "    i = i[int(t_offset/dt):int((t_offset+duration)/dt)]\n",
    "\n",
    "\n",
    "    real_data_obs = np.array(v).reshape(1, -1, 1)\n",
    "    I_real_data = np.array(i).reshape(-1)\n",
    "    t_on = int(sweep['stimulus_start_time']*sampling_rate)*dt-t_offset\n",
    "    t_off = int( (sweep['stimulus_start_time']+sweep['stimulus_duration'])*sampling_rate )*dt-t_offset\n",
    "    \n",
    "    # save data to a file\n",
    "    pickle_save((real_data_obs,I_real_data,dt,t_on,t_off),real_data_path)"
   ]
  },
  {
   "cell_type": "code",
   "execution_count": null,
   "metadata": {
    "collapsed": true
   },
   "outputs": [],
   "source": []
  }
 ],
 "metadata": {
  "anaconda-cloud": {},
  "kernelspec": {
   "display_name": "Python [py27]",
   "language": "python",
   "name": "Python [py27]"
  },
  "language_info": {
   "codemirror_mode": {
    "name": "ipython",
    "version": 2
   },
   "file_extension": ".py",
   "mimetype": "text/x-python",
   "name": "python",
   "nbconvert_exporter": "python",
   "pygments_lexer": "ipython2",
   "version": "2.7.12"
  }
 },
 "nbformat": 4,
 "nbformat_minor": 1
}
