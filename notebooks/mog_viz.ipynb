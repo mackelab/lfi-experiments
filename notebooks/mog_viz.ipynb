{
 "cells": [
  {
   "cell_type": "markdown",
   "metadata": {},
   "source": [
    "## Analyse the run"
   ]
  },
  {
   "cell_type": "code",
   "execution_count": null,
   "metadata": {
    "collapsed": true
   },
   "outputs": [],
   "source": [
    "prefix = 'plain'"
   ]
  },
  {
   "cell_type": "code",
   "execution_count": null,
   "metadata": {
    "collapsed": false,
    "hidden": true
   },
   "outputs": [],
   "source": [
    "%matplotlib inline\n",
    "import likelihoodfree.io as io\n",
    "import likelihoodfree.viz as viz\n",
    "import matplotlib.pyplot as plt\n",
    "import numpy as np\n",
    "import os\n",
    "\n",
    "dirs = {}\n",
    "dirs['dir_data'] = '../results/mog/data/'\n",
    "dirs['dir_nets'] = '../results/mog/nets/'\n",
    "dirs['dir_plots'] = '../results/mog/plots/'\n",
    "\n",
    "dists, infos, nets, posteriors, sims = io.load_prefix(dirs['dir_nets'], prefix)"
   ]
  },
  {
   "cell_type": "markdown",
   "metadata": {},
   "source": [
    "## Posterior"
   ]
  },
  {
   "cell_type": "code",
   "execution_count": null,
   "metadata": {
    "collapsed": false
   },
   "outputs": [],
   "source": [
    "true_posterior = next(iter(sims.items()))[1].calc_posterior()\n",
    "\n",
    "x = np.atleast_2d(np.linspace(-7., 7., 1000)).T\n",
    "\n",
    "shared_kwargs = {}\n",
    "shared_kwargs['diag_only'] = True\n",
    "shared_kwargs['diag_only_rows'] = 1\n",
    "shared_kwargs['diag_only_cols'] = 2\n",
    "shared_kwargs['lims'] = [-4.5, 4.5]\n",
    "\n",
    "for k, v in posteriors.items():\n",
    "    fig, ax = viz.plot_pdf_marginals(true_posterior, **shared_kwargs)\n",
    "    viz.plot_pdf_marginals(v, ax=ax, **shared_kwargs)\n",
    "    plt.title(k)\n",
    "    \n",
    "    plt.show()"
   ]
  },
  {
   "cell_type": "markdown",
   "metadata": {},
   "source": [
    "## ... at different $x_o$"
   ]
  },
  {
   "cell_type": "code",
   "execution_count": null,
   "metadata": {
    "collapsed": false
   },
   "outputs": [],
   "source": [
    "for k, net in nets.items():\n",
    "\n",
    "    # grids for plotting\n",
    "    xx = np.linspace(-12.0, 12.0, 100)\n",
    "    yy = np.linspace(-10.0, 10.0, 100)\n",
    "    X, Y = np.meshgrid(xx, yy)\n",
    "    xy = np.stack([X.flatten(), Y.flatten()], axis=1)\n",
    "\n",
    "    # show mdn's conditional probability density\n",
    "    fig, ax = plt.subplots(1, 1, facecolor='white')\n",
    "    Z = np.exp(net.eval([xy[:, 0:1], xy[:, 1:2]])).reshape(list(X.shape))\n",
    "    Z[Z>1]=1.  # clipping\n",
    "    ax.contour(X, Y, Z)\n",
    "    ax.set_xlabel('x')\n",
    "    ax.set_ylabel('$\\mu$')\n",
    "    ax.set_title('$p(\\mu|x)$')\n",
    "\n",
    "    plt.show()"
   ]
  },
  {
   "cell_type": "markdown",
   "metadata": {},
   "source": [
    "## Training loss"
   ]
  },
  {
   "cell_type": "code",
   "execution_count": null,
   "metadata": {
    "collapsed": false
   },
   "outputs": [],
   "source": [
    "for k, v in info_dicts.items():\n",
    "    fig, ax = viz.loss(v, title=k)\n",
    "    plt.show()"
   ]
  },
  {
   "cell_type": "markdown",
   "metadata": {},
   "source": [
    "## Distance of samples"
   ]
  },
  {
   "cell_type": "code",
   "execution_count": null,
   "metadata": {
    "collapsed": false
   },
   "outputs": [],
   "source": [
    "for k, v in dist_dicts.items():\n",
    "    fig, ax = viz.dist(v, title=k)"
   ]
  },
  {
   "cell_type": "markdown",
   "metadata": {},
   "source": [
    "## Info"
   ]
  },
  {
   "cell_type": "code",
   "execution_count": null,
   "metadata": {
    "collapsed": false
   },
   "outputs": [],
   "source": [
    "for k, v in info_dicts.items():\n",
    "    print(viz.info(v, title=k))"
   ]
  }
 ],
 "metadata": {
  "kernelspec": {
   "display_name": "Python 3",
   "language": "python",
   "name": "python3"
  },
  "language_info": {
   "codemirror_mode": {
    "name": "ipython",
    "version": 3
   },
   "file_extension": ".py",
   "mimetype": "text/x-python",
   "name": "python",
   "nbconvert_exporter": "python",
   "pygments_lexer": "ipython3",
   "version": "3.6.0"
  }
 },
 "nbformat": 4,
 "nbformat_minor": 2
}
