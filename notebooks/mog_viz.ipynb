{
 "cells": [
  {
   "cell_type": "markdown",
   "metadata": {},
   "source": [
    "## Analyse the run"
   ]
  },
  {
   "cell_type": "code",
   "execution_count": null,
   "metadata": {
    "collapsed": true
   },
   "outputs": [],
   "source": [
    "%matplotlib inline\n",
    "import likelihoodfree.io as io\n",
    "import likelihoodfree.viz as viz\n",
    "import matplotlib.pyplot as plt\n",
    "import numpy as np\n",
    "import os\n",
    "\n",
    "dirs = {}\n",
    "dirs['dir_data'] = '../results/mog/data/'\n",
    "dirs['dir_nets'] = '../results/mog/nets/'\n",
    "dirs['dir_plots'] = '../results/mog/plots/'\n",
    "\n",
    "prefix = 'plain'\n",
    "postfix = 'iter_2'"
   ]
  },
  {
   "cell_type": "markdown",
   "metadata": {},
   "source": [
    "## ... show some info on iteration 1"
   ]
  },
  {
   "cell_type": "code",
   "execution_count": null,
   "metadata": {
    "collapsed": false
   },
   "outputs": [],
   "source": [
    "info = io.load(dirs['dir_nets'] + prefix + '_' + postfix + '_info.pkl')\n",
    "print(viz.info(info, title='{} {}'.format(prefix, postfix)))"
   ]
  },
  {
   "cell_type": "markdown",
   "metadata": {},
   "source": [
    "## ... plot the training loss"
   ]
  },
  {
   "cell_type": "code",
   "execution_count": null,
   "metadata": {
    "collapsed": false
   },
   "outputs": [],
   "source": [
    "fig, ax = viz.loss(info)\n",
    "plt.show()"
   ]
  },
  {
   "cell_type": "markdown",
   "metadata": {},
   "source": [
    "## ... and the distance of samples to the observation"
   ]
  },
  {
   "cell_type": "code",
   "execution_count": null,
   "metadata": {
    "collapsed": false
   },
   "outputs": [],
   "source": [
    "dist = io.load(dirs['dir_nets'] + '/' + prefix + '_' + postfix + '_dist.pkl')\n",
    "fig, ax = viz.dist(dist)"
   ]
  },
  {
   "cell_type": "markdown",
   "metadata": {},
   "source": [
    "## ... what about the true posterior?"
   ]
  },
  {
   "cell_type": "code",
   "execution_count": null,
   "metadata": {
    "collapsed": true
   },
   "outputs": [],
   "source": [
    "sim = io.load(dirs['dir_nets'] + '/' + prefix + '_' + postfix + '_sim.pkl')"
   ]
  },
  {
   "cell_type": "code",
   "execution_count": null,
   "metadata": {
    "collapsed": true
   },
   "outputs": [],
   "source": [
    "true_posterior = sim.calc_posterior()"
   ]
  },
  {
   "cell_type": "code",
   "execution_count": null,
   "metadata": {
    "collapsed": false
   },
   "outputs": [],
   "source": [
    "x = np.atleast_2d(np.linspace(-7., 7., 1000)).T\n",
    "plt.plot(x, true_posterior.eval(x, log=False), '-r')\n",
    "plt.gca().set_xlabel(r'$\\theta$')\n",
    "plt.gca().set_ylabel(r'$p(\\theta|x=x_0)$')\n",
    "plt.show()"
   ]
  },
  {
   "cell_type": "markdown",
   "metadata": {},
   "source": [
    "## ... what about the approximate posterior"
   ]
  },
  {
   "cell_type": "code",
   "execution_count": null,
   "metadata": {
    "collapsed": true
   },
   "outputs": [],
   "source": [
    "approx_posterior = io.load(dirs['dir_nets'] + '/' + prefix + '_' + postfix + '_posterior.pkl')"
   ]
  },
  {
   "cell_type": "code",
   "execution_count": null,
   "metadata": {
    "collapsed": false
   },
   "outputs": [],
   "source": [
    "shared = {}\n",
    "shared['diag_only'] = True\n",
    "shared['diag_only_rows'] = 1\n",
    "shared['diag_only_cols'] = 2\n",
    "fig, ax = viz.plot_pdf_marginals(true_posterior, lims=[-4.5, 4.5], **shared)\n",
    "viz.plot_pdf_marginals(approx_posterior, lims=[-4.5, 4.5], ax=ax, **shared)\n",
    "plt.show()"
   ]
  },
  {
   "cell_type": "markdown",
   "metadata": {},
   "source": [
    "## ... at different $x_o$"
   ]
  },
  {
   "cell_type": "code",
   "execution_count": null,
   "metadata": {
    "collapsed": false
   },
   "outputs": [],
   "source": [
    "net = io.load(dirs['dir_nets'] + '/' + prefix + '_' + postfix + '_net.pkl')\n",
    "\n",
    "# grids for plotting\n",
    "xx = np.linspace(-12.0, 12.0, 100)\n",
    "yy = np.linspace(-10.0, 10.0, 100)\n",
    "X, Y = np.meshgrid(xx, yy)\n",
    "xy = np.stack([X.flatten(), Y.flatten()], axis=1)\n",
    "\n",
    "# show mdn's conditional probability density\n",
    "fig, ax = plt.subplots(1, 1, facecolor='white')\n",
    "Z = np.exp(net.eval([xy[:, 0:1], xy[:, 1:2]])).reshape(list(X.shape))\n",
    "Z[Z>1]=1.  # clipping\n",
    "ax.contour(X, Y, Z)\n",
    "ax.set_xlabel('x')\n",
    "ax.set_ylabel('$\\mu$')\n",
    "ax.set_title('$p(\\mu|x)$')\n",
    "\n",
    "plt.show()"
   ]
  },
  {
   "cell_type": "markdown",
   "metadata": {},
   "source": [
    "## ... evaluating parameters"
   ]
  },
  {
   "cell_type": "code",
   "execution_count": null,
   "metadata": {
    "collapsed": false
   },
   "outputs": [],
   "source": [
    "xx = np.linspace(-12.0, 12.0, 100)\n",
    "\n",
    "# show mdn's parameters\n",
    "a, m, s = net.eval_comps(xx[:, np.newaxis])\n",
    "\n",
    "cols = ['r', 'b']\n",
    "# mixing coefficients\n",
    "plt.close()\n",
    "fig, ax = plt.subplots(2, net.n_components+1, facecolor='white')\n",
    "for i in range(net.n_components):\n",
    "    ax[0,0].plot(xx, a[:, i], color=cols[i], label='component {0}'.format(i))\n",
    "ax[0,0].set_ylim([-0.2, 1.2])\n",
    "ax[0,0].set_xlabel('x')\n",
    "ax[0,0].set_ylabel('mixing coefficient')\n",
    "ax[0,0].legend()\n",
    "\n",
    "ax[0,1].set_axis_off()\n",
    "\n",
    "# means and stds\n",
    "for i in range(net.n_components):\n",
    "    m[i] = np.squeeze(m[i])\n",
    "    s[i] = np.squeeze(s[i])\n",
    "    ax[1,i].plot(xx, m[i], '-', color=cols[i], label='m')\n",
    "    ax[1,i].plot(xx, m[i] + s[i], ':', color=cols[i], label='m +/- s')\n",
    "    ax[1,i].plot(xx, m[i] - s[i], ':', color=cols[i])\n",
    "    ax[1,i].set_xlabel('x')\n",
    "    ax[1,i].set_ylabel('$\\mu$')\n",
    "    ax[1,i].legend()\n",
    "\n",
    "ax[0,2].set_axis_off()\n",
    "ax[1,2].set_axis_off()"
   ]
  }
 ],
 "metadata": {
  "kernelspec": {
   "display_name": "Python 3",
   "language": "python",
   "name": "python3"
  },
  "language_info": {
   "codemirror_mode": {
    "name": "ipython",
    "version": 3
   },
   "file_extension": ".py",
   "mimetype": "text/x-python",
   "name": "python",
   "nbconvert_exporter": "python",
   "pygments_lexer": "ipython3",
   "version": "3.6.0"
  }
 },
 "nbformat": 4,
 "nbformat_minor": 2
}
