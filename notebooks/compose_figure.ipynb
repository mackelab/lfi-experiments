{
 "cells": [
  {
   "cell_type": "markdown",
   "metadata": {},
   "source": [
    "## Composing figure"
   ]
  },
  {
   "cell_type": "markdown",
   "metadata": {},
   "source": [
    "[svg_utils](https://github.com/btel/svg_utils) is a small package for helping with composing figures/subpanels to a svg. [Here is a blog post describing it.](https://neuroscience.telenczuk.pl/?p=331)\n",
    "\n",
    "## TL;DR\n",
    "\n",
    "`pip install svgutils --user`"
   ]
  },
  {
   "cell_type": "markdown",
   "metadata": {},
   "source": [
    "... generate demo figure number 1"
   ]
  },
  {
   "cell_type": "code",
   "execution_count": 1,
   "metadata": {
    "collapsed": true
   },
   "outputs": [],
   "source": [
    "from pylab import *\n",
    "\n",
    "x =  array([10, 8, 13, 9, 11, 14, 6, 4, 12, 7, 5])\n",
    "y1 = array([8.04, 6.95, 7.58, 8.81, 8.33, 9.96, 7.24, 4.26, 10.84, 4.82, 5.68])\n",
    "y2 = array([9.14, 8.14, 8.74, 8.77, 9.26, 8.10, 6.13, 3.10, 9.13, 7.26, 4.74])\n",
    "y3 = array([7.46, 6.77, 12.74, 7.11, 7.81, 8.84, 6.08, 5.39, 8.15, 6.42, 5.73])\n",
    "x4 = array([8,8,8,8,8,8,8,19,8,8,8])\n",
    "y4 = array([6.58,5.76,7.71,8.84,8.47,7.04,5.25,12.50,5.56,7.91,6.89])\n",
    "\n",
    "def fit(x):\n",
    "    return 3+0.5*x\n",
    "\n",
    "xfit = array( [amin(x), amax(x) ] )\n",
    "\n",
    "subplot(221, frameon=False)\n",
    "pts, ls1 = plot(x,y1,'ks', xfit, fit(xfit), 'r-', lw=2)\n",
    "ls1.set_visible(False)\n",
    "axis([2,20,2,14])\n",
    "setp(gca(), xticklabels=[], yticks=(4,8,12), xticks=(0,10,20))\n",
    "xticks([])\n",
    "yticks([])\n",
    "\n",
    "subplot(222, frameon=False)\n",
    "pts, ls2 =plot(x,y2,'ks', xfit, fit(xfit), 'r-', lw=2)\n",
    "ls2.set_visible(False)\n",
    "axis([2,20,2,14])\n",
    "setp(gca(), xticklabels=[], yticks=(4,8,12), yticklabels=[], xticks=(0,10,20))\n",
    "xticks([])\n",
    "yticks([])\n",
    "\n",
    "subplot(223, frameon=False)\n",
    "pts, ls3 = plot(x,y3,'ks', xfit, fit(xfit), 'r-', lw=2)\n",
    "ls3.set_visible(False)\n",
    "axis([2,20,2,14])\n",
    "setp(gca(), yticks=(4,8,12), xticks=(0,10,20))\n",
    "xticks([])\n",
    "yticks([])\n",
    "\n",
    "subplot(224, frameon=False)\n",
    "xfit = array([amin(x4),amax(x4)])\n",
    "pts, ls4 = plot(x4,y4,'ks', xfit, fit(xfit), 'r-', lw=2)\n",
    "ls4.set_visible(False)\n",
    "axis([2,20,2,14])\n",
    "setp(gca(), yticklabels=[], yticks=(4,8,12), xticks=(0,10,20))\n",
    "xticks([])\n",
    "yticks([])\n",
    "\n",
    "#verify the stats\n",
    "pairs = (x,y1), (x,y2), (x,y3), (x4,y4)\n",
    "\n",
    "ls1.set_visible(True)\n",
    "ls2.set_visible(True)\n",
    "ls3.set_visible(True)\n",
    "ls4.set_visible(True)\n",
    "\n",
    "savefig('anscombe.png', transparent=True)\n",
    "savefig('anscombe.svg', transparent=True)"
   ]
  },
  {
   "cell_type": "markdown",
   "metadata": {},
   "source": [
    "... generate demo figure number 2"
   ]
  },
  {
   "cell_type": "code",
   "execution_count": 2,
   "metadata": {
    "collapsed": true
   },
   "outputs": [],
   "source": [
    "from matplotlib import rcParams\n",
    "\n",
    "#set plot attributes\n",
    "fig_width = 5  # width in inches\n",
    "fig_height = 3  # height in inches\n",
    "fig_size =  [fig_width,fig_height]\n",
    "params = {'backend': 'Agg',\n",
    "          'axes.labelsize': 8,\n",
    "          'axes.titlesize': 8,\n",
    "          'font.size': 8,\n",
    "          'xtick.labelsize': 8,\n",
    "          'ytick.labelsize': 8,\n",
    "          'figure.figsize': fig_size,\n",
    "          'savefig.dpi' : 600,\n",
    "          'font.family': 'sans-serif',\n",
    "          'axes.linewidth' : 0.5,\n",
    "          'xtick.major.size' : 2,\n",
    "          'ytick.major.size' : 2,\n",
    "          'font.size' : 8\n",
    "          }\n",
    "rcParams.update(params)\n",
    "\n",
    "\n",
    "import numpy as np\n",
    "import matplotlib.pyplot as plt\n",
    "\n",
    "def sigmoid(x):\n",
    "    return 1./(1+np.exp(-(x-5)))+1\n",
    "\n",
    "np.random.seed(1234)\n",
    "t = np.arange(0.1, 9.2, 0.15)\n",
    "y = sigmoid(t) + 0.2*np.random.randn(len(t))\n",
    "residuals = y - sigmoid(t)\n",
    "\n",
    "t_fitted = np.linspace(0, 10, 100)\n",
    "\n",
    "#adjust subplots position\n",
    "fig = plt.figure()\n",
    "\n",
    "ax1 = plt.axes((0.18, 0.20, 0.55, 0.65))\n",
    "plt.plot(t, y, 'k.', ms=4., clip_on=False)\n",
    "plt.plot(t_fitted, sigmoid(t_fitted), 'r-', lw=0.8)\n",
    "\n",
    "plt.text(5, 1.0, r\"L = $\\frac{1}{1+\\exp(-V+5)}+10$\",\n",
    "                   fontsize=10,\n",
    "                   transform=ax1.transData, clip_on=False,\n",
    "                   va='top', ha='left')\n",
    "\n",
    "#set axis limits\n",
    "ax1.set_xlim((t.min(), t.max()))\n",
    "ax1.set_ylim((y.min(), y.max()))\n",
    "\n",
    "#hide right and top axes\n",
    "ax1.spines['top'].set_visible(False)\n",
    "ax1.spines['right'].set_visible(False)\n",
    "ax1.spines['bottom'].set_position(('outward', 20))\n",
    "ax1.spines['left'].set_position(('outward', 30))\n",
    "ax1.yaxis.set_ticks_position('left')\n",
    "ax1.xaxis.set_ticks_position('bottom')\n",
    "\n",
    "#set labels\n",
    "plt.xlabel(r'voltage (V, $\\mu$V)')\n",
    "plt.ylabel('luminescence (L)')\n",
    "\n",
    "#make inset\n",
    "ax_inset = plt.axes((0.2, 0.75, 0.2, 0.2), frameon=False)\n",
    "plt.hist(residuals, fc='0.8',ec='w', lw=2)\n",
    "plt.xticks([-0.5, 0, 0.5],[-0.5, 0, 0.5], size=6)\n",
    "plt.xlim((-0.5, 0.5))\n",
    "plt.yticks([5, 10], size=6)\n",
    "plt.xlabel(\"residuals\", size=6)\n",
    "ax_inset.xaxis.set_ticks_position(\"none\")\n",
    "ax_inset.yaxis.set_ticks_position(\"left\")\n",
    "#plt.hlines([0, 5, 10],-0.6,0.6, lw=1, color='w')\n",
    "ax_inset.yaxis.grid(lw=1, color='w', ls='-')\n",
    "plt.text(0, 0.9, \"frequency\", transform=ax_inset.transAxes,\n",
    "        va='center', ha='right', size=6\n",
    "    )\n",
    "#export to svg\n",
    "plt.savefig('sigmoid_fit.png', transparent=True)\n",
    "plt.savefig('sigmoid_fit.svg', transparent=True)"
   ]
  },
  {
   "cell_type": "markdown",
   "metadata": {},
   "source": [
    "... compose the subfigures, add text elements"
   ]
  },
  {
   "cell_type": "code",
   "execution_count": 17,
   "metadata": {
    "collapsed": true
   },
   "outputs": [],
   "source": [
    "import svgutils.transform as sg\n",
    "import sys \n",
    "\n",
    "#create new SVG figure\n",
    "fig = sg.SVGFigure(\"16cm\", \"6.5cm\")\n",
    "\n",
    "# load matpotlib-generated figures\n",
    "fig1 = sg.fromfile('sigmoid_fit.svg')\n",
    "fig2 = sg.fromfile('anscombe.svg')\n",
    "\n",
    "# get the plot objects\n",
    "plot1 = fig1.getroot()\n",
    "plot2 = fig2.getroot()\n",
    "plot2.moveto(1800, 0, scale=0.5)\n",
    "\n",
    "# add text labels\n",
    "txt1 = sg.TextElement(25,20, \"A\", size=12, weight=\"bold\")\n",
    "txt2 = sg.TextElement(305,20, \"B\", size=12, weight=\"bold\")\n",
    "\n",
    "# append plots and labels to figure\n",
    "fig.append([plot1, plot2])\n",
    "fig.append([txt1, txt2])\n",
    "\n",
    "# save generated SVG files\n",
    "fig.save(\"fig_final.svg\")"
   ]
  },
  {
   "cell_type": "markdown",
   "metadata": {},
   "source": [
    "note that the locations for moveto and textelement are specified in units of px. \n",
    "\n",
    "to go from cm to px (300dpi):"
   ]
  },
  {
   "cell_type": "code",
   "execution_count": 22,
   "metadata": {},
   "outputs": [
    {
     "data": {
      "text/plain": [
       "1890"
      ]
     },
     "execution_count": 22,
     "metadata": {},
     "output_type": "execute_result"
    }
   ],
   "source": [
    "def cm2px(cm):\n",
    "    return int(np.round(cm / 2.54*300))\n",
    "\n",
    "cm2px(16.)"
   ]
  }
 ],
 "metadata": {
  "kernelspec": {
   "display_name": "Python 3",
   "language": "python",
   "name": "python3"
  },
  "language_info": {
   "codemirror_mode": {
    "name": "ipython",
    "version": 3
   },
   "file_extension": ".py",
   "mimetype": "text/x-python",
   "name": "python",
   "nbconvert_exporter": "python",
   "pygments_lexer": "ipython3",
   "version": "3.6.0"
  }
 },
 "nbformat": 4,
 "nbformat_minor": 2
}
