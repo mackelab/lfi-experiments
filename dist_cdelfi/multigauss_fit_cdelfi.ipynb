{
 "cells": [
  {
   "cell_type": "code",
   "execution_count": 21,
   "metadata": {},
   "outputs": [],
   "source": [
    "import delfi.distribution as dd\n",
    "import matplotlib.lines as mlines\n",
    "import matplotlib.pyplot as plt\n",
    "\n",
    "import scipy as sp\n",
    "\n",
    "#from delfi.inference import Basic, CDELFI\n",
    "from CDELFI import CDELFI\n",
    "from delfi.generator import Default\n",
    "from delfi.utils.viz import probs2contours\n",
    "from util import *\n",
    "from sim_gauss import *\n",
    "from sumstat_mean import *\n",
    "\n",
    "import pickle\n",
    "\n",
    "from parameters import ParameterSet\n",
    "\n",
    "%matplotlib inline"
   ]
  },
  {
   "cell_type": "code",
   "execution_count": 27,
   "metadata": {},
   "outputs": [],
   "source": [
    "params = ParameterSet({})\n",
    "\n",
    "params.ndim = 2  # dimensionality of problem\n",
    "params.n_comps = 5  # number of components\n",
    "\n",
    "params.x_width = 4\n",
    "\n",
    "params.dof = params.ndim\n",
    "params.scale = 1\n",
    "params.alpha = 1"
   ]
  },
  {
   "cell_type": "code",
   "execution_count": 28,
   "metadata": {},
   "outputs": [],
   "source": [
    "target_a = np.random.dirichlet(params.alpha * np.ones(params.n_comps))\n",
    "target_mus = np.random.uniform(-params.x_width, params.x_width, size=(params.n_comps, params.ndim))\n",
    "\n",
    "target_Sgen = sp.stats.invwishart(df=params.dof, scale=params.scale * np.eye(params.ndim))\n",
    "target_Ss = target_Sgen.rvs(size=params.n_comps)\n",
    "\n",
    "params.target = dd.MoG(target_a, target_mus, target_Ss)"
   ]
  },
  {
   "cell_type": "code",
   "execution_count": 29,
   "metadata": {},
   "outputs": [],
   "source": [
    "def print_pdf(pdf, name):\n",
    "    po = np.get_printoptions()\n",
    "    np.set_printoptions(precision=2)\n",
    "    print(\"{}:\".format(name))\n",
    "    print(\"----------------\")\n",
    "    print(\"Mixture weights: {}\".format(pdf.a))\n",
    "    print(\"Means:\")\n",
    "    for x in pdf.xs:\n",
    "        print(\"{}\".format(x.m))\n",
    "    print()\n",
    "    print(\"Covariances:\")\n",
    "    for x in pdf.xs:\n",
    "        print(\"{}\".format(x.S))\n",
    "    print()\n",
    "    np.set_printoptions(**po)"
   ]
  },
  {
   "cell_type": "code",
   "execution_count": 30,
   "metadata": {},
   "outputs": [
    {
     "data": {
      "image/png": "[encoded data removed]",
      "text/plain": [
       "<matplotlib.figure.Figure at 0x7f9993577b70>"
      ]
     },
     "metadata": {},
     "output_type": "display_data"
    },
    {
     "name": "stdout",
     "output_type": "stream",
     "text": [
      "Target distribution:\n",
      "----------------\n",
      "Mixture weights: [ 0.2   0.09  0.35  0.14  0.22]\n",
      "Means:\n",
      "[-2.01  2.7 ]\n",
      "[-3.93 -3.13]\n",
      "[ 2.2   2.59]\n",
      "[ 1.67  3.43]\n",
      "[ 2.43  3.12]\n",
      "\n",
      "Covariances:\n",
      "[[ 0.82  0.77]\n",
      " [ 0.77  2.24]]\n",
      "[[ 1.8  -0.36]\n",
      " [-0.36  0.4 ]]\n",
      "[[ 2.74 -0.75]\n",
      " [-0.75  0.82]]\n",
      "[[ 0.87 -0.14]\n",
      " [-0.14  0.41]]\n",
      "[[ 1.04  1.26]\n",
      " [ 1.26  2.2 ]]\n",
      "\n"
     ]
    }
   ],
   "source": [
    "# visualize results\n",
    "res = 500\n",
    "xlims = (-params.x_width, params.x_width)\n",
    "ylims = xlims\n",
    "\n",
    "xaxis = np.linspace(*xlims, res)\n",
    "yaxis = np.linspace(*ylims, res)\n",
    "x, y = np.meshgrid(xaxis, yaxis)\n",
    "\n",
    "xy = np.concatenate([x.reshape([-1, 1]), \n",
    "                     y.reshape([-1, 1])], \n",
    "                    axis=1)\n",
    "\n",
    "\n",
    "levels = [0.7, 0.6, 0.5, 0.4, 0.3, 0.2, 0.1]\n",
    "\n",
    "target_contour = probs2contours(params.target.eval(xy, log=False), levels).reshape(res, res)\n",
    "\n",
    "plt.figure(figsize=(8, 8))\n",
    "\n",
    "plt.contour(x, y, target_contour, colors=('r'))\n",
    "\n",
    "red_line = mlines.Line2D([], [], color='r', label='estimated posterior')\n",
    "plt.legend(handles=[red_line], \n",
    "           loc=9, bbox_to_anchor=(0.5, -0.1))\n",
    "\n",
    "plt.show()\n",
    "\n",
    "print_pdf(params.target, 'Target distribution')"
   ]
  },
  {
   "cell_type": "code",
   "execution_count": 31,
   "metadata": {},
   "outputs": [],
   "source": [
    "pickle.dump(params, open('example_mog.pkl', 'wb'))"
   ]
  },
  {
   "cell_type": "code",
   "execution_count": null,
   "metadata": {},
   "outputs": [],
   "source": []
  }
 ],
 "metadata": {
  "kernelspec": {
   "display_name": "Python 3",
   "language": "python",
   "name": "python3"
  },
  "language_info": {
   "codemirror_mode": {
    "name": "ipython",
    "version": 3
   },
   "file_extension": ".py",
   "mimetype": "text/x-python",
   "name": "python",
   "nbconvert_exporter": "python",
   "pygments_lexer": "ipython3",
   "version": "3.5.2"
  }
 },
 "nbformat": 4,
 "nbformat_minor": 2
}
