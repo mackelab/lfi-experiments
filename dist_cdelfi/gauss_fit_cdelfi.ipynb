{
 "cells": [
  {
   "cell_type": "code",
   "execution_count": 1,
   "metadata": {},
   "outputs": [
    {
     "name": "stderr",
     "output_type": "stream",
     "text": [
      "WARNING (theano.tensor.blas): Using NumPy C-API based implementation for BLAS functions.\n"
     ]
    }
   ],
   "source": [
    "import delfi.distribution as dd\n",
    "import matplotlib.lines as mlines\n",
    "import matplotlib.pyplot as plt\n",
    "\n",
    "#from delfi.inference import Basic, CDELFI\n",
    "from CDELFI import CDELFI\n",
    "from delfi.generator import Default\n",
    "from delfi.utils.viz import probs2contours\n",
    "from util import *\n",
    "from sim_gauss import *\n",
    "from sumstat_mean import *\n",
    "\n",
    "%matplotlib inline"
   ]
  },
  {
   "cell_type": "code",
   "execution_count": 2,
   "metadata": {
    "collapsed": true
   },
   "outputs": [],
   "source": [
    "p = 2  # dimensionality of problem\n",
    "n = 5  # number of samples per draw\n",
    "\n",
    "# simulator\n",
    "S_like = 0.5*np.ones((p, p))\n",
    "np.fill_diagonal(S_like, 1)\n",
    "S_like_inv = np.linalg.inv(S_like)\n",
    "mu_true = 2.*np.ones(p)\n",
    "m = Gauss(S=S_like, n=n)\n",
    "s = Mean(n_summary=p)\n",
    "x_obs = s.calc([ m.gen_single([mu_true]) ]).reshape(-1)\n",
    "\n",
    "# prior\n",
    "bs = np.exp([-2, -1, 0, 1, 2])\n",
    "b = 1.5  # 1.5\n",
    "mu_prior = 5.*np.ones(p)\n",
    "S_prior = b**2*np.eye(p)\n",
    "S_prior_inv = np.linalg.inv(S_prior)\n",
    "\n",
    "# posterior\n",
    "S_post = np.linalg.inv(S_prior_inv + n*S_like_inv)\n",
    "S_post_inv = np.linalg.inv(S_post)\n",
    "mu_post = np.dot(S_post, np.dot(S_prior_inv, mu_prior) + n*np.dot(S_like_inv, x_obs))\n",
    "\n",
    "# distributions\n",
    "prior = dd.Gaussian(m=mu_prior, S=S_prior)\n",
    "like = dd.Gaussian(m=x_obs, S=1/n*S_like)\n",
    "post = dd.Gaussian(m=mu_post, S=S_post)\n",
    "\n",
    "# generator\n",
    "g = Default(m, prior, s)"
   ]
  },
  {
   "cell_type": "code",
   "execution_count": 3,
   "metadata": {},
   "outputs": [
    {
     "name": "stderr",
     "output_type": "stream",
     "text": [
      "Widget Javascript not detected.  It may not be installed or enabled properly.\n"
     ]
    },
    {
     "data": {
      "application/vnd.jupyter.widget-view+json": {
       "model_id": "3e32e0a222cb4b74b7ef752cb249e35f"
      }
     },
     "metadata": {},
     "output_type": "display_data"
    },
    {
     "name": "stdout",
     "output_type": "stream",
     "text": [
      "\n"
     ]
    },
    {
     "name": "stderr",
     "output_type": "stream",
     "text": [
      "Widget Javascript not detected.  It may not be installed or enabled properly.\n"
     ]
    },
    {
     "data": {
      "application/vnd.jupyter.widget-view+json": {
       "model_id": "3f29f379858a49e084727c5f33ea5179"
      }
     },
     "metadata": {},
     "output_type": "display_data"
    },
    {
     "name": "stdout",
     "output_type": "stream",
     "text": [
      "\n"
     ]
    },
    {
     "name": "stderr",
     "output_type": "stream",
     "text": [
      "Widget Javascript not detected.  It may not be installed or enabled properly.\n"
     ]
    },
    {
     "data": {
      "application/vnd.jupyter.widget-view+json": {
       "model_id": "b4e4ee1a244c4ea4a04858fd2327ae6d"
      }
     },
     "metadata": {},
     "output_type": "display_data"
    },
    {
     "name": "stdout",
     "output_type": "stream",
     "text": [
      "\n"
     ]
    },
    {
     "name": "stderr",
     "output_type": "stream",
     "text": [
      "Widget Javascript not detected.  It may not be installed or enabled properly.\n"
     ]
    },
    {
     "data": {
      "application/vnd.jupyter.widget-view+json": {
       "model_id": "a2810e5df6624fc58012bb61f1be0df5"
      }
     },
     "metadata": {},
     "output_type": "display_data"
    },
    {
     "name": "stdout",
     "output_type": "stream",
     "text": [
      "\n"
     ]
    },
    {
     "name": "stderr",
     "output_type": "stream",
     "text": [
      "Widget Javascript not detected.  It may not be installed or enabled properly.\n"
     ]
    },
    {
     "data": {
      "application/vnd.jupyter.widget-view+json": {
       "model_id": "17444f0d198c4083bead6838d9cd2115"
      }
     },
     "metadata": {},
     "output_type": "display_data"
    },
    {
     "name": "stdout",
     "output_type": "stream",
     "text": [
      "\n"
     ]
    },
    {
     "name": "stderr",
     "output_type": "stream",
     "text": [
      "Widget Javascript not detected.  It may not be installed or enabled properly.\n"
     ]
    },
    {
     "data": {
      "application/vnd.jupyter.widget-view+json": {
       "model_id": "d25b881929364da8ad3c64e8c1dacceb"
      }
     },
     "metadata": {},
     "output_type": "display_data"
    },
    {
     "name": "stdout",
     "output_type": "stream",
     "text": [
      "\n"
     ]
    },
    {
     "name": "stderr",
     "output_type": "stream",
     "text": [
      "Widget Javascript not detected.  It may not be installed or enabled properly.\n"
     ]
    },
    {
     "data": {
      "application/vnd.jupyter.widget-view+json": {
       "model_id": "e2c578ac1f9d486eb7a8fd7edcb0f7bf"
      }
     },
     "metadata": {},
     "output_type": "display_data"
    },
    {
     "name": "stdout",
     "output_type": "stream",
     "text": [
      "\n"
     ]
    },
    {
     "name": "stderr",
     "output_type": "stream",
     "text": [
      "Widget Javascript not detected.  It may not be installed or enabled properly.\n"
     ]
    },
    {
     "data": {
      "application/vnd.jupyter.widget-view+json": {
       "model_id": "8cf097d5786144bbae11aa7ef047bde1"
      }
     },
     "metadata": {},
     "output_type": "display_data"
    },
    {
     "name": "stdout",
     "output_type": "stream",
     "text": [
      "\n"
     ]
    }
   ],
   "source": [
    "inf = CDELFI(generator=g, n_components=1, n_hiddens=[5], \n",
    "                    obs=x_obs.reshape(1, -1), \n",
    "                    svi=False, prior_norm=False, verbose=True)\n",
    "\n",
    "log, train_data, posteriors, uncorrected = inf.run(n_train=[1000,3000], n_rounds=2)\n",
    "\n",
    "pred = posteriors[-1].xs[0]"
   ]
  },
  {
   "cell_type": "code",
   "execution_count": 4,
   "metadata": {},
   "outputs": [
    {
     "data": {
      "image/png": "[encoded data removed]",
      "text/plain": [
       "<matplotlib.figure.Figure at 0x7fdab8053b70>"
      ]
     },
     "metadata": {},
     "output_type": "display_data"
    }
   ],
   "source": [
    "# visualize results\n",
    "res = 500\n",
    "xlims = (0, 8)\n",
    "ylims = xlims\n",
    "\n",
    "xaxis = np.linspace(*xlims, res)\n",
    "yaxis = np.linspace(*ylims, res)\n",
    "x, y = np.meshgrid(xaxis, yaxis)\n",
    "\n",
    "xy = np.concatenate([x.reshape([-1, 1]), \n",
    "                     y.reshape([-1, 1])], \n",
    "                    axis=1)\n",
    "\n",
    "\n",
    "levels = [0.8, 0.5, 0.1]\n",
    "\n",
    "prior_contour = probs2contours(prior.eval(xy, log=False), levels).reshape(res, res)\n",
    "like_contour = probs2contours(like.eval(xy, log=False), levels).reshape(res, res)\n",
    "post_contour = probs2contours(post.eval(xy, log=False), levels).reshape(res, res)\n",
    "pred_contour = probs2contours(pred.eval(xy, log=False), levels).reshape(res, res)\n",
    "\n",
    "\n",
    "plt.figure(figsize=(8, 8))\n",
    "\n",
    "plt.contour(x, y, prior_contour, colors=('g'))\n",
    "plt.contour(x, y, post_contour, colors=('k'))\n",
    "plt.contour(x, y, like_contour, colors=('b'))\n",
    "plt.contour(x, y, pred_contour, colors=('r'))\n",
    "\n",
    "green_line = mlines.Line2D([], [], color='g', label='prior')\n",
    "blue_line = mlines.Line2D([], [], color='b', label='true likelihood')\n",
    "black_line = mlines.Line2D([], [], color='k', label='true posterior')\n",
    "red_line = mlines.Line2D([], [], color='r', label='estimated posterior')\n",
    "plt.legend(handles=[green_line, blue_line, black_line, red_line], \n",
    "           loc=9, bbox_to_anchor=(0.5, -0.1))\n",
    "\n",
    "plt.show()"
   ]
  },
  {
   "cell_type": "code",
   "execution_count": 5,
   "metadata": {},
   "outputs": [],
   "source": [
    "post_est = (uncorrected[1] * prior) / posteriors[0].xs[0]"
   ]
  },
  {
   "cell_type": "code",
   "execution_count": 6,
   "metadata": {},
   "outputs": [
    {
     "data": {
      "text/plain": [
       "array([[0.15220796, 0.06923333],\n",
       "       [0.06923333, 0.17354441]])"
      ]
     },
     "execution_count": 6,
     "metadata": {},
     "output_type": "execute_result"
    }
   ],
   "source": [
    "post_est.xs[0].S"
   ]
  },
  {
   "cell_type": "code",
   "execution_count": 7,
   "metadata": {},
   "outputs": [
    {
     "data": {
      "text/plain": [
       "array([[0.15220796, 0.06923333],\n",
       "       [0.06923333, 0.17354441]])"
      ]
     },
     "execution_count": 7,
     "metadata": {},
     "output_type": "execute_result"
    }
   ],
   "source": [
    "posteriors[1].xs[0].S"
   ]
  },
  {
   "cell_type": "code",
   "execution_count": 21,
   "metadata": {
    "collapsed": true
   },
   "outputs": [],
   "source": [
    "example = {'posterior': posteriors[1],\n",
    "           'prior': prior,\n",
    "           'proposal': posteriors[0].xs[0],\n",
    "           'uncorrected': uncorrected[1],\n",
    "           'comment': 'posterior is (uncorrected * prior) / proposal'}"
   ]
  },
  {
   "cell_type": "code",
   "execution_count": 22,
   "metadata": {},
   "outputs": [
    {
     "data": {
      "text/plain": [
       "{'comment': 'posterior is (uncorrected * prior) / proposal',\n",
       " 'posterior': <delfi.distribution.mixture.GaussianMixture.MoG at 0x7fdb2c8450f0>,\n",
       " 'prior': <delfi.distribution.Gaussian.Gaussian at 0x7fdb3443b710>,\n",
       " 'proposal': <delfi.distribution.Gaussian.Gaussian at 0x7fdb2397c4e0>,\n",
       " 'uncorrected': <delfi.distribution.mixture.GaussianMixture.MoG at 0x7fdb2c841f60>}"
      ]
     },
     "execution_count": 22,
     "metadata": {},
     "output_type": "execute_result"
    }
   ],
   "source": [
    "example"
   ]
  },
  {
   "cell_type": "code",
   "execution_count": 38,
   "metadata": {},
   "outputs": [],
   "source": [
    "import pickle\n",
    "pickle.dump(example, open('example_1.pkl', 'wb'))"
   ]
  }
 ],
 "metadata": {
  "kernelspec": {
   "display_name": "Python 3",
   "language": "python",
   "name": "python3"
  },
  "language_info": {
   "codemirror_mode": {
    "name": "ipython",
    "version": 3
   },
   "file_extension": ".py",
   "mimetype": "text/x-python",
   "name": "python",
   "nbconvert_exporter": "python",
   "pygments_lexer": "ipython3",
   "version": "3.6.4"
  }
 },
 "nbformat": 4,
 "nbformat_minor": 2
}
