{
 "cells": [
  {
   "cell_type": "code",
   "execution_count": 1,
   "metadata": {
    "scrolled": true
   },
   "outputs": [],
   "source": [
    "#%%capture\n",
    "import delfi.distribution as dd\n",
    "import delfi.utils.io as io\n",
    "import numpy as np\n",
    "import pickle\n",
    "\n",
    "import delfi.inference as infer\n",
    "import delfi.generator as dg\n",
    "from delfi.simulator import GaussMixture\n",
    "import delfi.summarystats as ds\n",
    "\n",
    "%run -i DDELFI.py\n",
    "\n",
    "\n",
    "def run_panel_a(algo, seed, rounds=5, n_train=[200, 1000]):\n",
    "    n_params = 1\n",
    "    m = GaussMixture(dim=n_params, noise_cov=[1.0, 0.01], seed=seed)\n",
    "    p = dd.Uniform(lower=[-10], upper=[10], seed=seed)\n",
    "    s = ds.Identity()\n",
    "    g = dg.Default(model=m, prior=p, summary=s)\n",
    "\n",
    "    obs = np.array([[0.]])\n",
    "    kwargs = {'generator': g, \n",
    "              'reg_lambda': 0.01,\n",
    "              'n_components': 2, \n",
    "              'n_hiddens': [20], \n",
    "              'verbose' : True,\n",
    "              'obs': obs.copy(),\n",
    "              'seed': seed}\n",
    "\n",
    "    \n",
    "    train = []\n",
    "    for r in range(rounds):\n",
    "        train.append(n_train[0])\n",
    "    train[-1] = n_train[-1]\n",
    "\n",
    "    \n",
    "    round_cl=999\n",
    "    minibatch=100\n",
    "    n_gradients = 100#000\n",
    "    epochs = [n_gradients // (n_train//minibatch) for n_train in train]\n",
    "    \n",
    "\n",
    "    print('n_train :', train)\n",
    "    print('epochs :', epochs)\n",
    "    \n",
    "    if algo == 'CDELFI':\n",
    "        inf = infer.CDELFI(**kwargs)\n",
    "        log, train_data, posteriors = inf.run(n_train=train,\n",
    "                                              minibatch=minibatch,         \n",
    "                                              n_rounds=len(train),\n",
    "                                              epochs=epochs)\n",
    "    elif algo == 'SNPE':\n",
    "        inf = infer.SNPE(**kwargs,convert_to_T=3)\n",
    "        log, train_data, posteriors = inf.run(n_train=train,\n",
    "                                              minibatch=minibatch,                                              \n",
    "                                              n_rounds=len(train),\n",
    "                                              epochs=epochs, \n",
    "                                              round_cl=round_cl)        \n",
    "    elif algo == 'kSNPE':\n",
    "        inf = infer.SNPE(**kwargs,convert_to_T=3)\n",
    "        log, train_data, posteriors = inf.run(n_train=train,\n",
    "                                              minibatch=minibatch,                                              \n",
    "                                              n_rounds=len(train),\n",
    "                                              epochs=epochs, \n",
    "                                              kernel_loss='x_kl', \n",
    "                                              round_cl=round_cl)              \n",
    "    elif algo == 'DDELFI':\n",
    "        inf = DDELFI(**kwargs, convert_to_T=3)\n",
    "        log, train_data, posteriors, _ = inf.run(n_train=train,\n",
    "                                                 minibatch=minibatch,                                              \n",
    "                                                 n_rounds=len(train),\n",
    "                                                 epochs=epochs)              \n",
    "    \n",
    "    else:\n",
    "        raise ValueError\n",
    "        \n",
    "    try:\n",
    "        posterior = inf.predict(obs)\n",
    "    except:\n",
    "        posterior = None\n",
    "    \n",
    "    return {'algo': algo,\n",
    "            'rounds': rounds,\n",
    "            'seed': seed,\n",
    "            'posterior': posterior,\n",
    "            'log': log,\n",
    "            'train_data': train_data,\n",
    "            'posteriors': posteriors\n",
    "           }\n"
   ]
  },
  {
   "cell_type": "code",
   "execution_count": 3,
   "metadata": {
    "scrolled": false
   },
   "outputs": [
    {
     "name": "stdout",
     "output_type": "stream",
     "text": [
      "n_train : [400, 400, 1000]\n",
      "epochs : [25, 25, 10]\n"
     ]
    },
    {
     "data": {
      "application/vnd.jupyter.widget-view+json": {
       "model_id": "f24fc55ef8c647e6b8e24c73466ca4ee",
       "version_major": 2,
       "version_minor": 0
      },
      "text/plain": [
       "A Jupyter Widget"
      ]
     },
     "metadata": {},
     "output_type": "display_data"
    },
    {
     "name": "stdout",
     "output_type": "stream",
     "text": [
      "\n"
     ]
    },
    {
     "data": {
      "application/vnd.jupyter.widget-view+json": {
       "model_id": "431ee41b7bd343d7b7f39dbbdb1da4cf",
       "version_major": 2,
       "version_minor": 0
      },
      "text/plain": [
       "A Jupyter Widget"
      ]
     },
     "metadata": {},
     "output_type": "display_data"
    },
    {
     "name": "stdout",
     "output_type": "stream",
     "text": [
      "\n"
     ]
    },
    {
     "data": {
      "application/vnd.jupyter.widget-view+json": {
       "model_id": "4f09251528c7426286cde4dfb11a22fc",
       "version_major": 2,
       "version_minor": 0
      },
      "text/plain": [
       "A Jupyter Widget"
      ]
     },
     "metadata": {},
     "output_type": "display_data"
    },
    {
     "name": "stdout",
     "output_type": "stream",
     "text": [
      "\n"
     ]
    },
    {
     "data": {
      "application/vnd.jupyter.widget-view+json": {
       "model_id": "249538552f3943e090624cd86dcb442e",
       "version_major": 2,
       "version_minor": 0
      },
      "text/plain": [
       "A Jupyter Widget"
      ]
     },
     "metadata": {},
     "output_type": "display_data"
    },
    {
     "name": "stdout",
     "output_type": "stream",
     "text": [
      "\n"
     ]
    },
    {
     "data": {
      "application/vnd.jupyter.widget-view+json": {
       "model_id": "ae5ea01247dc428a98e9786e8fb9e82b",
       "version_major": 2,
       "version_minor": 0
      },
      "text/plain": [
       "A Jupyter Widget"
      ]
     },
     "metadata": {},
     "output_type": "display_data"
    },
    {
     "name": "stdout",
     "output_type": "stream",
     "text": [
      "\n"
     ]
    },
    {
     "data": {
      "application/vnd.jupyter.widget-view+json": {
       "model_id": "3a25a0f8dba540b09bf71d4056aae397",
       "version_major": 2,
       "version_minor": 0
      },
      "text/plain": [
       "A Jupyter Widget"
      ]
     },
     "metadata": {},
     "output_type": "display_data"
    },
    {
     "name": "stdout",
     "output_type": "stream",
     "text": [
      "\n"
     ]
    },
    {
     "data": {
      "application/vnd.jupyter.widget-view+json": {
       "model_id": "5525612d75da4af5aaf380820c6f5840",
       "version_major": 2,
       "version_minor": 0
      },
      "text/plain": [
       "A Jupyter Widget"
      ]
     },
     "metadata": {},
     "output_type": "display_data"
    },
    {
     "name": "stdout",
     "output_type": "stream",
     "text": [
      "\n"
     ]
    },
    {
     "data": {
      "application/vnd.jupyter.widget-view+json": {
       "model_id": "0a1b440696b7422aa904c672d79e0290",
       "version_major": 2,
       "version_minor": 0
      },
      "text/plain": [
       "A Jupyter Widget"
      ]
     },
     "metadata": {},
     "output_type": "display_data"
    },
    {
     "name": "stdout",
     "output_type": "stream",
     "text": [
      "\n"
     ]
    },
    {
     "data": {
      "application/vnd.jupyter.widget-view+json": {
       "model_id": "0bdf30e74a884b298de8260de058f723",
       "version_major": 2,
       "version_minor": 0
      },
      "text/plain": [
       "A Jupyter Widget"
      ]
     },
     "metadata": {},
     "output_type": "display_data"
    },
    {
     "name": "stdout",
     "output_type": "stream",
     "text": [
      "\n"
     ]
    },
    {
     "data": {
      "application/vnd.jupyter.widget-view+json": {
       "model_id": "4802384c5cdb4874a51befb81ec3baa8",
       "version_major": 2,
       "version_minor": 0
      },
      "text/plain": [
       "A Jupyter Widget"
      ]
     },
     "metadata": {},
     "output_type": "display_data"
    },
    {
     "name": "stdout",
     "output_type": "stream",
     "text": [
      "\n"
     ]
    },
    {
     "data": {
      "application/vnd.jupyter.widget-view+json": {
       "model_id": "0815609f901c4f8495e2b378c2f8b3e0",
       "version_major": 2,
       "version_minor": 0
      },
      "text/plain": [
       "A Jupyter Widget"
      ]
     },
     "metadata": {},
     "output_type": "display_data"
    },
    {
     "name": "stdout",
     "output_type": "stream",
     "text": [
      "\n",
      "n_train : [400, 400, 1000]\n",
      "epochs : [25, 25, 10]\n"
     ]
    },
    {
     "data": {
      "application/vnd.jupyter.widget-view+json": {
       "model_id": "183b4f6ca9b04c2f85c68b0df1f28ce1",
       "version_major": 2,
       "version_minor": 0
      },
      "text/plain": [
       "A Jupyter Widget"
      ]
     },
     "metadata": {},
     "output_type": "display_data"
    },
    {
     "name": "stdout",
     "output_type": "stream",
     "text": [
      "\n"
     ]
    },
    {
     "data": {
      "application/vnd.jupyter.widget-view+json": {
       "model_id": "61daf57b9abd4768b08efe50c4e04fa7",
       "version_major": 2,
       "version_minor": 0
      },
      "text/plain": [
       "A Jupyter Widget"
      ]
     },
     "metadata": {},
     "output_type": "display_data"
    },
    {
     "name": "stdout",
     "output_type": "stream",
     "text": [
      "\n"
     ]
    },
    {
     "data": {
      "application/vnd.jupyter.widget-view+json": {
       "model_id": "efbca8d4735b4f77bc47ad72264d94f1",
       "version_major": 2,
       "version_minor": 0
      },
      "text/plain": [
       "A Jupyter Widget"
      ]
     },
     "metadata": {},
     "output_type": "display_data"
    },
    {
     "name": "stdout",
     "output_type": "stream",
     "text": [
      "\n"
     ]
    },
    {
     "data": {
      "application/vnd.jupyter.widget-view+json": {
       "model_id": "008bd7079a43460d8e1818585fc5d233",
       "version_major": 2,
       "version_minor": 0
      },
      "text/plain": [
       "A Jupyter Widget"
      ]
     },
     "metadata": {},
     "output_type": "display_data"
    },
    {
     "name": "stdout",
     "output_type": "stream",
     "text": [
      "\n"
     ]
    },
    {
     "data": {
      "application/vnd.jupyter.widget-view+json": {
       "model_id": "b08aa2b75aed4d9385d5e07327e5cc33",
       "version_major": 2,
       "version_minor": 0
      },
      "text/plain": [
       "A Jupyter Widget"
      ]
     },
     "metadata": {},
     "output_type": "display_data"
    },
    {
     "name": "stdout",
     "output_type": "stream",
     "text": [
      "\n"
     ]
    },
    {
     "data": {
      "application/vnd.jupyter.widget-view+json": {
       "model_id": "6c27c9f0048d46619d5c146c398daba4",
       "version_major": 2,
       "version_minor": 0
      },
      "text/plain": [
       "A Jupyter Widget"
      ]
     },
     "metadata": {},
     "output_type": "display_data"
    },
    {
     "name": "stdout",
     "output_type": "stream",
     "text": [
      "\n"
     ]
    },
    {
     "data": {
      "application/vnd.jupyter.widget-view+json": {
       "model_id": "42cc06f992be4a89963bbec5d413da6f",
       "version_major": 2,
       "version_minor": 0
      },
      "text/plain": [
       "A Jupyter Widget"
      ]
     },
     "metadata": {},
     "output_type": "display_data"
    },
    {
     "name": "stdout",
     "output_type": "stream",
     "text": [
      "\n"
     ]
    },
    {
     "data": {
      "application/vnd.jupyter.widget-view+json": {
       "model_id": "8921b4e1cf8b436297a575f9312df230",
       "version_major": 2,
       "version_minor": 0
      },
      "text/plain": [
       "A Jupyter Widget"
      ]
     },
     "metadata": {},
     "output_type": "display_data"
    },
    {
     "name": "stdout",
     "output_type": "stream",
     "text": [
      "\n"
     ]
    },
    {
     "data": {
      "application/vnd.jupyter.widget-view+json": {
       "model_id": "df3448e9c0d14a63a2c637dba7feeb88",
       "version_major": 2,
       "version_minor": 0
      },
      "text/plain": [
       "A Jupyter Widget"
      ]
     },
     "metadata": {},
     "output_type": "display_data"
    },
    {
     "name": "stdout",
     "output_type": "stream",
     "text": [
      "\n"
     ]
    },
    {
     "data": {
      "application/vnd.jupyter.widget-view+json": {
       "model_id": "2a5a249c60b343d9a751bd328c0e5b09",
       "version_major": 2,
       "version_minor": 0
      },
      "text/plain": [
       "A Jupyter Widget"
      ]
     },
     "metadata": {},
     "output_type": "display_data"
    },
    {
     "name": "stdout",
     "output_type": "stream",
     "text": [
      "\n"
     ]
    },
    {
     "data": {
      "application/vnd.jupyter.widget-view+json": {
       "model_id": "992410857ed442779ee34cd40fa5377b",
       "version_major": 2,
       "version_minor": 0
      },
      "text/plain": [
       "A Jupyter Widget"
      ]
     },
     "metadata": {},
     "output_type": "display_data"
    },
    {
     "name": "stdout",
     "output_type": "stream",
     "text": [
      "\n",
      "ESS:400.0/400\n",
      "ESS:31.1447600137/400\n",
      "ESS:35.8269746176/1000\n",
      "n_train : [400, 400, 1000]\n",
      "epochs : [25, 25, 10]\n"
     ]
    },
    {
     "data": {
      "application/vnd.jupyter.widget-view+json": {
       "model_id": "0a528dba285e4f969b3c2665f738e339",
       "version_major": 2,
       "version_minor": 0
      },
      "text/plain": [
       "A Jupyter Widget"
      ]
     },
     "metadata": {},
     "output_type": "display_data"
    },
    {
     "name": "stdout",
     "output_type": "stream",
     "text": [
      "\n"
     ]
    },
    {
     "data": {
      "application/vnd.jupyter.widget-view+json": {
       "model_id": "be5197b0b0804191aa165d2fe29ecedd",
       "version_major": 2,
       "version_minor": 0
      },
      "text/plain": [
       "A Jupyter Widget"
      ]
     },
     "metadata": {},
     "output_type": "display_data"
    },
    {
     "name": "stdout",
     "output_type": "stream",
     "text": [
      "\n"
     ]
    },
    {
     "data": {
      "application/vnd.jupyter.widget-view+json": {
       "model_id": "a446773ae2184b0eb589c97d512531e2",
       "version_major": 2,
       "version_minor": 0
      },
      "text/plain": [
       "A Jupyter Widget"
      ]
     },
     "metadata": {},
     "output_type": "display_data"
    },
    {
     "name": "stdout",
     "output_type": "stream",
     "text": [
      "\n"
     ]
    },
    {
     "data": {
      "application/vnd.jupyter.widget-view+json": {
       "model_id": "2d34fd09c3aa4163a60e823017baa624",
       "version_major": 2,
       "version_minor": 0
      },
      "text/plain": [
       "A Jupyter Widget"
      ]
     },
     "metadata": {},
     "output_type": "display_data"
    },
    {
     "name": "stdout",
     "output_type": "stream",
     "text": [
      "\n"
     ]
    },
    {
     "data": {
      "application/vnd.jupyter.widget-view+json": {
       "model_id": "ac90956bdb3c453fb9cf9a296b9c0f82",
       "version_major": 2,
       "version_minor": 0
      },
      "text/plain": [
       "A Jupyter Widget"
      ]
     },
     "metadata": {},
     "output_type": "display_data"
    },
    {
     "name": "stdout",
     "output_type": "stream",
     "text": [
      "\n"
     ]
    },
    {
     "data": {
      "application/vnd.jupyter.widget-view+json": {
       "model_id": "a7923f061d79425fac773ae001b0a632",
       "version_major": 2,
       "version_minor": 0
      },
      "text/plain": [
       "A Jupyter Widget"
      ]
     },
     "metadata": {},
     "output_type": "display_data"
    },
    {
     "name": "stdout",
     "output_type": "stream",
     "text": [
      "\n"
     ]
    },
    {
     "data": {
      "application/vnd.jupyter.widget-view+json": {
       "model_id": "00668c20c9b740868464333085a948db",
       "version_major": 2,
       "version_minor": 0
      },
      "text/plain": [
       "A Jupyter Widget"
      ]
     },
     "metadata": {},
     "output_type": "display_data"
    },
    {
     "name": "stdout",
     "output_type": "stream",
     "text": [
      "\n",
      "fitting calibration kernel ...\n",
      "done.\n"
     ]
    },
    {
     "data": {
      "application/vnd.jupyter.widget-view+json": {
       "model_id": "126e2aee493f4f4e91f3f0920be9c194",
       "version_major": 2,
       "version_minor": 0
      },
      "text/plain": [
       "A Jupyter Widget"
      ]
     },
     "metadata": {},
     "output_type": "display_data"
    },
    {
     "name": "stdout",
     "output_type": "stream",
     "text": [
      "\n"
     ]
    },
    {
     "data": {
      "application/vnd.jupyter.widget-view+json": {
       "model_id": "3604b6df4a2c42a0a15b98f52996402d",
       "version_major": 2,
       "version_minor": 0
      },
      "text/plain": [
       "A Jupyter Widget"
      ]
     },
     "metadata": {},
     "output_type": "display_data"
    },
    {
     "name": "stdout",
     "output_type": "stream",
     "text": [
      "\n"
     ]
    },
    {
     "data": {
      "application/vnd.jupyter.widget-view+json": {
       "model_id": "157a3c70298f428e9cecde9e7581127c",
       "version_major": 2,
       "version_minor": 0
      },
      "text/plain": [
       "A Jupyter Widget"
      ]
     },
     "metadata": {},
     "output_type": "display_data"
    },
    {
     "name": "stdout",
     "output_type": "stream",
     "text": [
      "\n",
      "fitting calibration kernel ...\n",
      "done.\n"
     ]
    },
    {
     "data": {
      "application/vnd.jupyter.widget-view+json": {
       "model_id": "1013945ee5ca49bd94e2cc60ede9882c",
       "version_major": 2,
       "version_minor": 0
      },
      "text/plain": [
       "A Jupyter Widget"
      ]
     },
     "metadata": {},
     "output_type": "display_data"
    },
    {
     "name": "stdout",
     "output_type": "stream",
     "text": [
      "\n",
      "ESS:400.0/400\n",
      "ESS:32.4289870542/400\n",
      "ESS:70.0315712864/1000\n",
      "n_train : [400, 400, 1000]\n",
      "epochs : [25, 25, 10]\n"
     ]
    },
    {
     "data": {
      "application/vnd.jupyter.widget-view+json": {
       "model_id": "426d3214195e4a29b6fda6db3cd52581",
       "version_major": 2,
       "version_minor": 0
      },
      "text/plain": [
       "A Jupyter Widget"
      ]
     },
     "metadata": {},
     "output_type": "display_data"
    },
    {
     "name": "stdout",
     "output_type": "stream",
     "text": [
      "\n"
     ]
    },
    {
     "data": {
      "application/vnd.jupyter.widget-view+json": {
       "model_id": "72f13947f2224bc7a1841a06d6fbd723",
       "version_major": 2,
       "version_minor": 0
      },
      "text/plain": [
       "A Jupyter Widget"
      ]
     },
     "metadata": {},
     "output_type": "display_data"
    },
    {
     "name": "stdout",
     "output_type": "stream",
     "text": [
      "\n"
     ]
    },
    {
     "data": {
      "application/vnd.jupyter.widget-view+json": {
       "model_id": "8e21c565085e4e2eb90b144ce38ada86",
       "version_major": 2,
       "version_minor": 0
      },
      "text/plain": [
       "A Jupyter Widget"
      ]
     },
     "metadata": {},
     "output_type": "display_data"
    },
    {
     "name": "stdout",
     "output_type": "stream",
     "text": [
      "\n"
     ]
    },
    {
     "data": {
      "application/vnd.jupyter.widget-view+json": {
       "model_id": "5573dd5fa4c644d2b7178e9ec41f18c5",
       "version_major": 2,
       "version_minor": 0
      },
      "text/plain": [
       "A Jupyter Widget"
      ]
     },
     "metadata": {},
     "output_type": "display_data"
    },
    {
     "name": "stdout",
     "output_type": "stream",
     "text": [
      "\n"
     ]
    },
    {
     "data": {
      "application/vnd.jupyter.widget-view+json": {
       "model_id": "2304687b11374e91a0a3000573b85e7c",
       "version_major": 2,
       "version_minor": 0
      },
      "text/plain": [
       "A Jupyter Widget"
      ]
     },
     "metadata": {},
     "output_type": "display_data"
    },
    {
     "name": "stdout",
     "output_type": "stream",
     "text": [
      "\n"
     ]
    },
    {
     "data": {
      "application/vnd.jupyter.widget-view+json": {
       "model_id": "dd285127c9c1444ca8148340e45fb77a",
       "version_major": 2,
       "version_minor": 0
      },
      "text/plain": [
       "A Jupyter Widget"
      ]
     },
     "metadata": {},
     "output_type": "display_data"
    },
    {
     "name": "stdout",
     "output_type": "stream",
     "text": [
      "\n"
     ]
    },
    {
     "data": {
      "application/vnd.jupyter.widget-view+json": {
       "model_id": "1e88a71e7f3c4a599942f87929aab604",
       "version_major": 2,
       "version_minor": 0
      },
      "text/plain": [
       "A Jupyter Widget"
      ]
     },
     "metadata": {},
     "output_type": "display_data"
    },
    {
     "name": "stdout",
     "output_type": "stream",
     "text": [
      "\n"
     ]
    },
    {
     "data": {
      "application/vnd.jupyter.widget-view+json": {
       "model_id": "ccc701d458f84cf2b65b2d4cfd0ffd36",
       "version_major": 2,
       "version_minor": 0
      },
      "text/plain": [
       "A Jupyter Widget"
      ]
     },
     "metadata": {},
     "output_type": "display_data"
    },
    {
     "name": "stderr",
     "output_type": "stream",
     "text": [
      "loss=[ -1.56861139e+16]: : 16it [00:00, 89.65it/s] "
     ]
    },
    {
     "name": "stdout",
     "output_type": "stream",
     "text": [
      "\n"
     ]
    },
    {
     "name": "stderr",
     "output_type": "stream",
     "text": [
      "loss=[ 1.91214156]: : 993it [00:06, 149.43it/s]     \n"
     ]
    },
    {
     "data": {
      "application/vnd.jupyter.widget-view+json": {
       "model_id": "a46e789d51c84559a6a443ddd0af7f6e",
       "version_major": 2,
       "version_minor": 0
      },
      "text/plain": [
       "A Jupyter Widget"
      ]
     },
     "metadata": {},
     "output_type": "display_data"
    },
    {
     "name": "stdout",
     "output_type": "stream",
     "text": [
      "\n"
     ]
    },
    {
     "data": {
      "application/vnd.jupyter.widget-view+json": {
       "model_id": "af61f359297848f0a806a365d4b9f1b8",
       "version_major": 2,
       "version_minor": 0
      },
      "text/plain": [
       "A Jupyter Widget"
      ]
     },
     "metadata": {},
     "output_type": "display_data"
    },
    {
     "name": "stdout",
     "output_type": "stream",
     "text": [
      "\n"
     ]
    },
    {
     "data": {
      "application/vnd.jupyter.widget-view+json": {
       "model_id": "2406dedc9e544f0da9ab14dc78a0e0a8",
       "version_major": 2,
       "version_minor": 0
      },
      "text/plain": [
       "A Jupyter Widget"
      ]
     },
     "metadata": {},
     "output_type": "display_data"
    },
    {
     "name": "stderr",
     "output_type": "stream",
     "text": [
      "loss=[ 1.81246686]: : 17it [00:00, 94.79it/s]      "
     ]
    },
    {
     "name": "stdout",
     "output_type": "stream",
     "text": [
      "\n"
     ]
    },
    {
     "name": "stderr",
     "output_type": "stream",
     "text": [
      "loss=[ 1.79785323]: : 1002it [00:06, 156.86it/s]    \n"
     ]
    },
    {
     "name": "stdout",
     "output_type": "stream",
     "text": [
      "kernel cov:  [[ 63.23867109]]\n"
     ]
    },
    {
     "data": {
      "image/png": "[encoded data removed]",
      "text/plain": [
       "<matplotlib.figure.Figure at 0x1c0e43d6d8>"
      ]
     },
     "metadata": {},
     "output_type": "display_data"
    }
   ],
   "source": [
    "import matplotlib.pyplot as plt\n",
    "%matplotlib inline\n",
    "\n",
    "seeds = range(90, 91)# 110)\n",
    "n_train = [400, 400, 1000]\n",
    "rounds = len(n_train)\n",
    "\n",
    "all_outs_SNPE, all_outs_kSNPE, all_outs_CDELFI, all_outs_DDELFI = [], [], [], []\n",
    "p_true = dd.MoG(a=[0.5, 0.5], ms=[np.asarray([0.]), np.asarray([0.])], Ss=[1.0*np.eye(1), 0.01*np.eye(1)])\n",
    "\n",
    "for seed in seeds:\n",
    "    \n",
    "    plt.figure(figsize=(16,12))\n",
    "\n",
    "    out = run_panel_a(algo='CDELFI', rounds=rounds, seed=seed, n_train=n_train)\n",
    "    out_SNPE = run_panel_a(algo='SNPE', rounds=rounds, seed=seed, n_train=n_train)\n",
    "    for r in range(rounds):\n",
    "        w = out_SNPE['train_data'][r][2]\n",
    "        w /= w.sum()\n",
    "        print('ESS:' + str(1/np.sum(w**2)) + '/' + str(w.size))\n",
    "\n",
    "    out_kSNPE = run_panel_a(algo='kSNPE', rounds=rounds, seed=seed, n_train=n_train)\n",
    "    for r in range(rounds):\n",
    "        w = out_kSNPE['train_data'][r][2]\n",
    "        w /= w.sum()\n",
    "        print('ESS:' + str(1/np.sum(w**2)) + '/' + str(w.size))\n",
    "\n",
    "    out_DDELFI = run_panel_a(algo='DDELFI', rounds=rounds, seed=seed, n_train=n_train)\n",
    "    \n",
    "    xx = np.linspace(-3, 3, 200).reshape(-1,1)\n",
    "    \n",
    "    plt.subplot(1,4,1)\n",
    "    plt.plot(xx,                p_true.eval(xx, log=False), 'b', linewidth=2)\n",
    "    try:\n",
    "        plt.plot(xx,      out['posterior'].eval(xx, log=False), 'k', linewidth=2)\n",
    "    except:\n",
    "        tmp = out['posteriors'][-2] if out['posteriors'][-1] is None else out['posteriors'][-1]\n",
    "        plt.plot(xx,      tmp.eval(xx, log=False), 'k')\n",
    "    for r in range(rounds):\n",
    "        try:\n",
    "            plt.plot(xx, out['posteriors'][r].eval(xx, log=False), 'k--')\n",
    "        except:\n",
    "            pass\n",
    "        \n",
    "    plt.subplot(1,4,2)\n",
    "    plt.plot(xx,                p_true.eval(xx, log=False), 'b', linewidth=2)\n",
    "    plt.plot(xx, out_SNPE['posterior'].eval(xx, log=False), 'r', linewidth=2)\n",
    "    for r in range(rounds):\n",
    "        plt.plot(xx, out_SNPE['posteriors'][r].eval(xx, log=False), 'r--')\n",
    "    \n",
    "    plt.subplot(1,4,3)    \n",
    "    plt.plot(xx,                p_true.eval(xx, log=False), 'b', linewidth=2)\n",
    "    plt.plot(xx,out_kSNPE['posterior'].eval(xx, log=False), 'g', linewidth=2)\n",
    "    for r in range(rounds):\n",
    "        plt.plot(xx,out_kSNPE['posteriors'][r].eval(xx, log=False), 'g--')\n",
    "    \n",
    "    plt.subplot(1,4,4)\n",
    "    plt.plot(xx,                p_true.eval(xx, log=False), 'b', linewidth=2)\n",
    "    try:\n",
    "        plt.plot(xx, out_DDELFI['posterior'].eval(xx, log=False), 'k', linewidth=2)\n",
    "    except:\n",
    "        tmp = out_DDELFI['posteriors'][-2] if out_DDELFI['posteriors'][-1] is None else out_DDELFI['posteriors'][-1]\n",
    "        plt.plot(xx,      tmp.eval(xx, log=False), 'k')\n",
    "    for r in range(rounds):\n",
    "        try:\n",
    "            plt.plot(xx, out_DDELFI['posteriors'][r].eval(xx, log=False), 'k--')\n",
    "        except:\n",
    "            pass        \n",
    "        \n",
    "    print('kernel cov: ', 1./out_kSNPE['log'][-1]['cbkrnl'].A )\n",
    "    all_outs_SNPE.append(out_SNPE)\n",
    "    all_outs_kSNPE.append(out_kSNPE)\n",
    "    all_outs_CDELFI.append(out)\n",
    "    all_outs_DDELFI.append(out_DDELFI)\n",
    "    \n",
    "    plt.show()"
   ]
  },
  {
   "cell_type": "code",
   "execution_count": null,
   "metadata": {
    "collapsed": true
   },
   "outputs": [],
   "source": []
  },
  {
   "cell_type": "code",
   "execution_count": 4,
   "metadata": {
    "collapsed": true
   },
   "outputs": [],
   "source": [
    "\n",
    "np.save('MoG_1D_bimodal_20seeds_3round_N1800_results', \n",
    "        {'seeds' : seeds, \n",
    "         'n_train' : n_train,\n",
    "         'rounds' : rounds, \n",
    "         \n",
    "         'p_true' : p_true,\n",
    "         \n",
    "         'res_CDELFI' : all_outs_CDELFI,\n",
    "         'res_kSNPE' : all_outs_kSNPE,\n",
    "         'res_SNPE' : all_outs_SNPE,\n",
    "         'res_DDELFI' : all_outs_DDELFI,\n",
    "    })"
   ]
  },
  {
   "cell_type": "code",
   "execution_count": 6,
   "metadata": {},
   "outputs": [
    {
     "data": {
      "image/png": "[encoded data removed]",
      "text/plain": [
       "<matplotlib.figure.Figure at 0x1c2bfd4128>"
      ]
     },
     "metadata": {},
     "output_type": "display_data"
    }
   ],
   "source": [
    "%matplotlib inline\n",
    "import matplotlib.pyplot as plt\n",
    "\n",
    "plt.figure(figsize=(14,rounds*4))\n",
    "\n",
    "fail_count_CDELFI = 0\n",
    "for i in range(len(seeds)):\n",
    "    \n",
    "    seed = seeds[i]\n",
    "\n",
    "    out = all_outs_CDELFI[i]\n",
    "    out_SNPE = all_outs_SNPE[i]\n",
    "    out_kSNPE = all_outs_kSNPE[i]\n",
    "    out_DDELFI = all_outs_DDELFI[i]\n",
    "    \n",
    "    xx = np.linspace(-1.5, 1.5, 200).reshape(-1,1)\n",
    "\n",
    "    broke_flag = False\n",
    "    for r in range(rounds):\n",
    "        if rounds > len(n_train) and r < rounds-1:\n",
    "            r_ = 0\n",
    "        elif rounds > len(n_train) and r == rounds-1:\n",
    "            r_ = len(n_train)-1\n",
    "        else: \n",
    "            r_ = r\n",
    "        plt.subplot(rounds,4,1 + r*4)\n",
    "        plt.plot(-20, -20, 'b--', linewidth=1.5)\n",
    "        if r == rounds-1:\n",
    "            try:\n",
    "                plt.plot(xx,      out['posterior'].eval(xx, log=False), 'b', linewidth=2)\n",
    "            except:\n",
    "                tmp = out['posteriors'][-2] if out['posteriors'][-1] is None else out['posteriors'][-1]\n",
    "                plt.plot(xx,      tmp.eval(xx, log=False), 'b--')\n",
    "                broke_flag=True\n",
    "                fail_count_CDELFI += 1\n",
    "        else:\n",
    "            plt.plot(xx, out['posteriors'][r].eval(xx, log=False), 'b')\n",
    "        if r == 0:\n",
    "            plt.title('CDE-LFI')\n",
    "        plt.plot(xx,                p_true.eval(xx, log=False), 'k', linewidth=2)\n",
    "        plt.ylabel('round #' + str(r+1) + '(N=' + str(n_train[r_]) + ')')\n",
    "        plt.axis([-1.5, 1.5, 0, 2.7])\n",
    "        plt.yticks([])\n",
    "        plt.xticks([-1, 0, 1])\n",
    "        plt.tick_params(top='off', left='off', right='off', labelleft='off', labelbottom='on')\n",
    "        if broke_flag:\n",
    "            plt.legend(['fail (' + str( fail_count_CDELFI ) + '/' +  str(len(seeds))  + ')'], loc=1, frameon=False)\n",
    "\n",
    "        plt.subplot(rounds,4,2 + r*4)\n",
    "        plt.plot(xx, out_SNPE['posteriors'][r].eval(xx, log=False), 'r', linewidth=2)\n",
    "        plt.plot(xx,                p_true.eval(xx, log=False), 'k', linewidth=2)\n",
    "        if r == 0:\n",
    "            plt.title('SNPE')\n",
    "        plt.axis([-1.5, 1.5, 0, 2.7])\n",
    "        plt.yticks([])\n",
    "        plt.xticks([-1, 0, 1])\n",
    "        plt.tick_params(top='off', left='off', right='off', labelleft='off', labelbottom='on')\n",
    "\n",
    "        \n",
    "        plt.subplot(rounds,4,3 + r*4)    \n",
    "        plt.plot(xx,out_kSNPE['posteriors'][r].eval(xx, log=False), 'g', linewidth=2)\n",
    "        if r == 0:\n",
    "            plt.title('kSNPE')\n",
    "        plt.plot(xx,                p_true.eval(xx, log=False), 'k', linewidth=2)\n",
    "        plt.axis([-1.5, 1.5, 0, 2.7])\n",
    "        plt.yticks([])\n",
    "        plt.xticks([-1, 0, 1])\n",
    "        plt.tick_params(top='off', left='off', right='off', labelleft='off', labelbottom='on')\n",
    "        \n",
    "        \n",
    "        plt.subplot(rounds,4,4 + r*4)\n",
    "        plt.plot(xx, out_DDELFI['posteriors'][r].eval(xx, log=False), 'r', linewidth=2)\n",
    "        plt.plot(xx,                p_true.eval(xx, log=False), 'k', linewidth=2)\n",
    "        if r == 0:\n",
    "            plt.title('DDELFI')\n",
    "        plt.axis([-1.5, 1.5, 0, 2.7])\n",
    "        plt.yticks([])\n",
    "        plt.xticks([-1, 0, 1])\n",
    "        plt.tick_params(top='off', left='off', right='off', labelleft='off', labelbottom='on')\n",
    "\n",
    "    plt.suptitle('MoG_1D_bimodal_20seeds_3round_N1800')\n",
    "    plt.savefig('MoG_1D_bimodal_20seeds_3round_N1800.pdf')\n",
    "    \n",
    "plt.show()"
   ]
  },
  {
   "cell_type": "code",
   "execution_count": 7,
   "metadata": {},
   "outputs": [
    {
     "data": {
      "image/png": "[encoded data removed]",
      "text/plain": [
       "<matplotlib.figure.Figure at 0x1c2aa26128>"
      ]
     },
     "metadata": {},
     "output_type": "display_data"
    },
    {
     "data": {
      "image/png": "[encoded data removed]",
      "text/plain": [
       "<matplotlib.figure.Figure at 0x1c2b1d7470>"
      ]
     },
     "metadata": {},
     "output_type": "display_data"
    },
    {
     "data": {
      "image/png": "[encoded data removed]",
      "text/plain": [
       "<matplotlib.figure.Figure at 0x1c2e546f28>"
      ]
     },
     "metadata": {},
     "output_type": "display_data"
    },
    {
     "name": "stdout",
     "output_type": "stream",
     "text": [
      "[[ nan  nan]\n",
      " [ nan  nan]]\n"
     ]
    },
    {
     "name": "stderr",
     "output_type": "stream",
     "text": [
      "/Users/kaan/anaconda3/lib/python3.6/site-packages/numpy/lib/function_base.py:3159: RuntimeWarning: Degrees of freedom <= 0 for slice\n",
      "  c = cov(x, y, rowvar)\n"
     ]
    }
   ],
   "source": [
    "obs = np.array([[0]])\n",
    "\n",
    "def un_zscore(trn_data_r, seed):\n",
    "    \n",
    "    m = GaussMixture(dim=1, noise_cov=[1.0, 0.01], seed=seed)\n",
    "    p = dd.Uniform(lower=[-10], upper=[10], seed=seed)\n",
    "    s = ds.Identity()\n",
    "    g = dg.Default(model=m, prior=p, summary=s)\n",
    "    \n",
    "    _,_ = g.gen(1, skip_feedback=True, verbose=False) # DELFI uses this to figure the shape of th, x\n",
    "\n",
    "    _, stats = g.gen(100, verbose=False)\n",
    "    stats_mean = np.nanmean(stats, axis=0)\n",
    "    stats_std = np.nanstd(stats, axis=0)    \n",
    "    \n",
    "    return (trn_data_r[1] * stats_std) + stats_mean        \n",
    "        \n",
    "def reg_adj(th, x, xo, mu, sig):\n",
    "                \n",
    "    return mu(xo) + sig(xo) * (th - mu(x))/sig(x)\n",
    "\n",
    "thp = p_true.gen(100000)\n",
    "p_uni = dd.Gaussian(m=-0.11701747*np.ones(1), S=0.65295111*np.eye(1))\n",
    "plt.figure(figsize=(16,16))\n",
    "\n",
    "ll_unim = np.zeros(len(seeds))\n",
    "ll_true = np.zeros(len(seeds))\n",
    "ll_test = np.zeros(len(seeds))\n",
    "conv_mat = np.zeros((len(seeds), len(seeds)))\n",
    "\n",
    "for i in range(len(seeds)):    \n",
    "    r = 0\n",
    "    trn_data = all_outs_SNPE[i]['train_data'][r]\n",
    "\n",
    "    x = un_zscore(trn_data, seeds[i])\n",
    "\n",
    "    def mu(x):\n",
    "        return x\n",
    "    def sig(x):\n",
    "        return 1.\n",
    "\n",
    "    th_ = reg_adj(trn_data[0], x, obs, mu, sig)\n",
    "\n",
    "    plt.subplot(4,5,i+1)\n",
    "    plt.hist(th_, bins=np.linspace(-3, 3, 20), normed=True)\n",
    "    plt.title('seed ' + str(seeds[i]) + ', round ' + str(r+1))\n",
    "    \n",
    "    ll_unim[i] = np.sum(p_uni.eval(th_))\n",
    "    ll_true[i] = np.sum(p_true.eval(th_))\n",
    "    ll_test[i] = np.sum(all_outs_SNPE[i]['posteriors'][r].eval(thp))\n",
    "    \n",
    "plt.show()\n",
    "\n",
    "#plt.plot(ll_unim, 'ro-')\n",
    "\n",
    "plt.plot(ll_true, 'bo-')\n",
    "plt.ylabel('log-prob under true posterior')\n",
    "plt.xlabel('#seed')\n",
    "plt.show()\n",
    "\n",
    "\n",
    "plt.plot(ll_test, ll_true, 'bo')\n",
    "plt.ylabel('log-prob of data under true posterior')\n",
    "plt.xlabel('log-prob of poster draws under fitted model')\n",
    "plt.show()\n",
    "\n",
    "print( np.corrcoef(ll_test, ll_true) )"
   ]
  },
  {
   "cell_type": "code",
   "execution_count": 8,
   "metadata": {},
   "outputs": [
    {
     "name": "stdout",
     "output_type": "stream",
     "text": [
      "n_train : [200, 1000]\n",
      "epochs : [50, 10]\n"
     ]
    },
    {
     "data": {
      "application/vnd.jupyter.widget-view+json": {
       "model_id": "d30e2024f9ee4b2ea6db915d4b7a4e04",
       "version_major": 2,
       "version_minor": 0
      },
      "text/plain": [
       "A Jupyter Widget"
      ]
     },
     "metadata": {},
     "output_type": "display_data"
    },
    {
     "name": "stdout",
     "output_type": "stream",
     "text": [
      "\n"
     ]
    },
    {
     "data": {
      "application/vnd.jupyter.widget-view+json": {
       "model_id": "8aae55dc789b4681a1a3623e9824502f",
       "version_major": 2,
       "version_minor": 0
      },
      "text/plain": [
       "A Jupyter Widget"
      ]
     },
     "metadata": {},
     "output_type": "display_data"
    },
    {
     "name": "stdout",
     "output_type": "stream",
     "text": [
      "\n"
     ]
    },
    {
     "data": {
      "application/vnd.jupyter.widget-view+json": {
       "model_id": "3af9ffe02ae449689d65ae50b5f36ebe",
       "version_major": 2,
       "version_minor": 0
      },
      "text/plain": [
       "A Jupyter Widget"
      ]
     },
     "metadata": {},
     "output_type": "display_data"
    },
    {
     "name": "stdout",
     "output_type": "stream",
     "text": [
      "\n"
     ]
    },
    {
     "data": {
      "application/vnd.jupyter.widget-view+json": {
       "model_id": "868879eadea64b279c96eec95fb14665",
       "version_major": 2,
       "version_minor": 0
      },
      "text/plain": [
       "A Jupyter Widget"
      ]
     },
     "metadata": {},
     "output_type": "display_data"
    },
    {
     "name": "stdout",
     "output_type": "stream",
     "text": [
      "\n"
     ]
    },
    {
     "data": {
      "application/vnd.jupyter.widget-view+json": {
       "model_id": "ad7dba0304a846fdac139aef2741053b",
       "version_major": 2,
       "version_minor": 0
      },
      "text/plain": [
       "A Jupyter Widget"
      ]
     },
     "metadata": {},
     "output_type": "display_data"
    },
    {
     "name": "stdout",
     "output_type": "stream",
     "text": [
      "\n"
     ]
    },
    {
     "data": {
      "application/vnd.jupyter.widget-view+json": {
       "model_id": "49dd2ed0777f4e418acaef7972314f6c",
       "version_major": 2,
       "version_minor": 0
      },
      "text/plain": [
       "A Jupyter Widget"
      ]
     },
     "metadata": {},
     "output_type": "display_data"
    },
    {
     "name": "stdout",
     "output_type": "stream",
     "text": [
      "\n"
     ]
    },
    {
     "data": {
      "application/vnd.jupyter.widget-view+json": {
       "model_id": "4497ed0fdb654ef391d15ec75d7e2bde",
       "version_major": 2,
       "version_minor": 0
      },
      "text/plain": [
       "A Jupyter Widget"
      ]
     },
     "metadata": {},
     "output_type": "display_data"
    },
    {
     "name": "stdout",
     "output_type": "stream",
     "text": [
      "\n"
     ]
    },
    {
     "data": {
      "application/vnd.jupyter.widget-view+json": {
       "model_id": "e3a265c755e84c8199c422f09fbc343e",
       "version_major": 2,
       "version_minor": 0
      },
      "text/plain": [
       "A Jupyter Widget"
      ]
     },
     "metadata": {},
     "output_type": "display_data"
    },
    {
     "name": "stdout",
     "output_type": "stream",
     "text": [
      "\n",
      "n_train : [200, 1000]\n",
      "epochs : [50, 10]\n"
     ]
    },
    {
     "data": {
      "application/vnd.jupyter.widget-view+json": {
       "model_id": "d62e2c7ae837478790a0022bc1286be7",
       "version_major": 2,
       "version_minor": 0
      },
      "text/plain": [
       "A Jupyter Widget"
      ]
     },
     "metadata": {},
     "output_type": "display_data"
    },
    {
     "name": "stdout",
     "output_type": "stream",
     "text": [
      "\n"
     ]
    },
    {
     "data": {
      "application/vnd.jupyter.widget-view+json": {
       "model_id": "1be2656c264647a9bba32b749f041314",
       "version_major": 2,
       "version_minor": 0
      },
      "text/plain": [
       "A Jupyter Widget"
      ]
     },
     "metadata": {},
     "output_type": "display_data"
    },
    {
     "name": "stdout",
     "output_type": "stream",
     "text": [
      "\n"
     ]
    },
    {
     "data": {
      "application/vnd.jupyter.widget-view+json": {
       "model_id": "800ba25845fa4d5690beeafb0f21b050",
       "version_major": 2,
       "version_minor": 0
      },
      "text/plain": [
       "A Jupyter Widget"
      ]
     },
     "metadata": {},
     "output_type": "display_data"
    },
    {
     "name": "stdout",
     "output_type": "stream",
     "text": [
      "\n"
     ]
    },
    {
     "data": {
      "application/vnd.jupyter.widget-view+json": {
       "model_id": "89b82e987e1d4815be0eaeba57808b0d",
       "version_major": 2,
       "version_minor": 0
      },
      "text/plain": [
       "A Jupyter Widget"
      ]
     },
     "metadata": {},
     "output_type": "display_data"
    },
    {
     "name": "stdout",
     "output_type": "stream",
     "text": [
      "\n"
     ]
    },
    {
     "data": {
      "application/vnd.jupyter.widget-view+json": {
       "model_id": "e8de368b3ee44304acd94e318a43c6f3",
       "version_major": 2,
       "version_minor": 0
      },
      "text/plain": [
       "A Jupyter Widget"
      ]
     },
     "metadata": {},
     "output_type": "display_data"
    },
    {
     "name": "stdout",
     "output_type": "stream",
     "text": [
      "\n"
     ]
    },
    {
     "data": {
      "application/vnd.jupyter.widget-view+json": {
       "model_id": "825e394a653c437d8c99e4ad182045c0",
       "version_major": 2,
       "version_minor": 0
      },
      "text/plain": [
       "A Jupyter Widget"
      ]
     },
     "metadata": {},
     "output_type": "display_data"
    },
    {
     "name": "stdout",
     "output_type": "stream",
     "text": [
      "\n"
     ]
    },
    {
     "data": {
      "application/vnd.jupyter.widget-view+json": {
       "model_id": "6e1020343b62405896ce5f5df089a272",
       "version_major": 2,
       "version_minor": 0
      },
      "text/plain": [
       "A Jupyter Widget"
      ]
     },
     "metadata": {},
     "output_type": "display_data"
    },
    {
     "name": "stdout",
     "output_type": "stream",
     "text": [
      "\n"
     ]
    },
    {
     "data": {
      "application/vnd.jupyter.widget-view+json": {
       "model_id": "3f44330cb42d499abbf01111f8284ff2",
       "version_major": 2,
       "version_minor": 0
      },
      "text/plain": [
       "A Jupyter Widget"
      ]
     },
     "metadata": {},
     "output_type": "display_data"
    },
    {
     "name": "stdout",
     "output_type": "stream",
     "text": [
      "\n",
      "66.9320013194\n",
      "n_train : [200, 1000]\n",
      "epochs : [50, 10]\n"
     ]
    },
    {
     "data": {
      "application/vnd.jupyter.widget-view+json": {
       "model_id": "bf472a967c4d4dde8b8309bc87241b8e",
       "version_major": 2,
       "version_minor": 0
      },
      "text/plain": [
       "A Jupyter Widget"
      ]
     },
     "metadata": {},
     "output_type": "display_data"
    },
    {
     "name": "stdout",
     "output_type": "stream",
     "text": [
      "\n"
     ]
    },
    {
     "data": {
      "application/vnd.jupyter.widget-view+json": {
       "model_id": "c038df47ec5947e191e83fdbfc620b39",
       "version_major": 2,
       "version_minor": 0
      },
      "text/plain": [
       "A Jupyter Widget"
      ]
     },
     "metadata": {},
     "output_type": "display_data"
    },
    {
     "name": "stdout",
     "output_type": "stream",
     "text": [
      "\n"
     ]
    },
    {
     "data": {
      "application/vnd.jupyter.widget-view+json": {
       "model_id": "d982d8f348e34d5282be987f3cfaa771",
       "version_major": 2,
       "version_minor": 0
      },
      "text/plain": [
       "A Jupyter Widget"
      ]
     },
     "metadata": {},
     "output_type": "display_data"
    },
    {
     "name": "stdout",
     "output_type": "stream",
     "text": [
      "\n"
     ]
    },
    {
     "data": {
      "application/vnd.jupyter.widget-view+json": {
       "model_id": "6556d8949c084bbf988565f204c3fda9",
       "version_major": 2,
       "version_minor": 0
      },
      "text/plain": [
       "A Jupyter Widget"
      ]
     },
     "metadata": {},
     "output_type": "display_data"
    },
    {
     "name": "stdout",
     "output_type": "stream",
     "text": [
      "\n"
     ]
    },
    {
     "data": {
      "application/vnd.jupyter.widget-view+json": {
       "model_id": "bed595af48474846957fcfb2d4829c1a",
       "version_major": 2,
       "version_minor": 0
      },
      "text/plain": [
       "A Jupyter Widget"
      ]
     },
     "metadata": {},
     "output_type": "display_data"
    },
    {
     "name": "stdout",
     "output_type": "stream",
     "text": [
      "\n"
     ]
    },
    {
     "data": {
      "application/vnd.jupyter.widget-view+json": {
       "model_id": "152a0ff6e705435bb14b95182d9121e1",
       "version_major": 2,
       "version_minor": 0
      },
      "text/plain": [
       "A Jupyter Widget"
      ]
     },
     "metadata": {},
     "output_type": "display_data"
    },
    {
     "name": "stdout",
     "output_type": "stream",
     "text": [
      "\n"
     ]
    },
    {
     "data": {
      "application/vnd.jupyter.widget-view+json": {
       "model_id": "ee215d855b9f4feabc5f98c9f7e91566",
       "version_major": 2,
       "version_minor": 0
      },
      "text/plain": [
       "A Jupyter Widget"
      ]
     },
     "metadata": {},
     "output_type": "display_data"
    },
    {
     "name": "stdout",
     "output_type": "stream",
     "text": [
      "\n",
      "fitting calibration kernel ...\n",
      "done.\n"
     ]
    },
    {
     "data": {
      "application/vnd.jupyter.widget-view+json": {
       "model_id": "04b2278b6e694e9b8a83120edc4ff098",
       "version_major": 2,
       "version_minor": 0
      },
      "text/plain": [
       "A Jupyter Widget"
      ]
     },
     "metadata": {},
     "output_type": "display_data"
    },
    {
     "name": "stdout",
     "output_type": "stream",
     "text": [
      "\n",
      "69.4615097332\n",
      "n_train : [200, 1000]\n",
      "epochs : [50, 10]\n"
     ]
    },
    {
     "data": {
      "application/vnd.jupyter.widget-view+json": {
       "model_id": "c1bcf31f09504599a944eeae56485a7d",
       "version_major": 2,
       "version_minor": 0
      },
      "text/plain": [
       "A Jupyter Widget"
      ]
     },
     "metadata": {},
     "output_type": "display_data"
    },
    {
     "name": "stdout",
     "output_type": "stream",
     "text": [
      "\n"
     ]
    },
    {
     "data": {
      "application/vnd.jupyter.widget-view+json": {
       "model_id": "4b37105eb0f14634bde94094fdd76651",
       "version_major": 2,
       "version_minor": 0
      },
      "text/plain": [
       "A Jupyter Widget"
      ]
     },
     "metadata": {},
     "output_type": "display_data"
    },
    {
     "name": "stdout",
     "output_type": "stream",
     "text": [
      "\n"
     ]
    },
    {
     "data": {
      "application/vnd.jupyter.widget-view+json": {
       "model_id": "e5ab1600820f4e8c96df422b626f6405",
       "version_major": 2,
       "version_minor": 0
      },
      "text/plain": [
       "A Jupyter Widget"
      ]
     },
     "metadata": {},
     "output_type": "display_data"
    },
    {
     "name": "stdout",
     "output_type": "stream",
     "text": [
      "\n"
     ]
    },
    {
     "data": {
      "application/vnd.jupyter.widget-view+json": {
       "model_id": "b8a760b3ead94154a909560955ea3ee0",
       "version_major": 2,
       "version_minor": 0
      },
      "text/plain": [
       "A Jupyter Widget"
      ]
     },
     "metadata": {},
     "output_type": "display_data"
    },
    {
     "name": "stdout",
     "output_type": "stream",
     "text": [
      "\n"
     ]
    },
    {
     "data": {
      "application/vnd.jupyter.widget-view+json": {
       "model_id": "f07d2fd884434e508b022be4611f931f",
       "version_major": 2,
       "version_minor": 0
      },
      "text/plain": [
       "A Jupyter Widget"
      ]
     },
     "metadata": {},
     "output_type": "display_data"
    },
    {
     "name": "stdout",
     "output_type": "stream",
     "text": [
      "\n"
     ]
    },
    {
     "data": {
      "application/vnd.jupyter.widget-view+json": {
       "model_id": "1444ed9734b940cbbdd2c37b5d09b51c",
       "version_major": 2,
       "version_minor": 0
      },
      "text/plain": [
       "A Jupyter Widget"
      ]
     },
     "metadata": {},
     "output_type": "display_data"
    },
    {
     "name": "stdout",
     "output_type": "stream",
     "text": [
      "\n"
     ]
    },
    {
     "data": {
      "application/vnd.jupyter.widget-view+json": {
       "model_id": "d89906d534cd404f8f04a2bbf3b85714",
       "version_major": 2,
       "version_minor": 0
      },
      "text/plain": [
       "A Jupyter Widget"
      ]
     },
     "metadata": {},
     "output_type": "display_data"
    },
    {
     "name": "stdout",
     "output_type": "stream",
     "text": [
      "\n"
     ]
    },
    {
     "data": {
      "application/vnd.jupyter.widget-view+json": {
       "model_id": "8f5952db8d494f87a387913823c009a8",
       "version_major": 2,
       "version_minor": 0
      },
      "text/plain": [
       "A Jupyter Widget"
      ]
     },
     "metadata": {},
     "output_type": "display_data"
    },
    {
     "name": "stderr",
     "output_type": "stream",
     "text": [
      "loss=[ 1.61843717]: : 17it [00:00, 94.28it/s]     "
     ]
    },
    {
     "name": "stdout",
     "output_type": "stream",
     "text": [
      "\n"
     ]
    },
    {
     "name": "stderr",
     "output_type": "stream",
     "text": [
      "loss=[ 1.78490794]: : 990it [00:06, 158.47it/s]     \n"
     ]
    },
    {
     "data": {
      "image/png": "[encoded data removed]",
      "text/plain": [
       "<matplotlib.figure.Figure at 0x1c271a4da0>"
      ]
     },
     "metadata": {},
     "output_type": "display_data"
    }
   ],
   "source": [
    "seed = 42\n",
    "\n",
    "out = run_panel_a(algo='CDELFI', rounds=2, seed=seed)\n",
    "\n",
    "out_SNPE = run_panel_a(algo='SNPE', rounds=2, seed=seed)\n",
    "w = out_SNPE['train_data'][-1][2]\n",
    "w /= w.sum()\n",
    "print(1/np.sum(w**2))\n",
    "\n",
    "out_kSNPE = run_panel_a(algo='kSNPE', rounds=2, seed=seed)\n",
    "w = out_kSNPE['train_data'][-1][2]\n",
    "w /= w.sum()\n",
    "print(1/np.sum(w**2))\n",
    "\n",
    "\n",
    "out_DDELFI = run_panel_a(algo='DDELFI', rounds=2, seed=seed)\n",
    "\n",
    "%matplotlib inline\n",
    "import matplotlib.pyplot as plt\n",
    "\n",
    "p_true = dd.MoG(a=[0.5, 0.5], ms=[np.asarray([0.]), np.asarray([0.])], Ss=[1.0*np.eye(1), 0.01*np.eye(1)])\n",
    "\n",
    "plt.figure(figsize=(12,12))\n",
    "xx = np.linspace(-10, 10, 200).reshape(-1,1)\n",
    "plt.plot(xx,                p_true.eval(xx, log=False), 'b--')\n",
    "plt.plot(xx,      out['posterior'].eval(xx, log=False), 'k')\n",
    "plt.plot(xx, out_SNPE['posterior'].eval(xx, log=False), 'r')\n",
    "plt.plot(xx,out_kSNPE['posterior'].eval(xx, log=False), 'g')\n",
    "plt.plot(xx,out_DDELFI['posterior'].eval(xx, log=False), 'orange')\n",
    "\n",
    "plt.plot(xx, out_kSNPE['log'][-1]['cbkrnl'].eval(xx), ':', color='m')\n",
    "\n",
    "plt.show()"
   ]
  },
  {
   "cell_type": "code",
   "execution_count": 9,
   "metadata": {},
   "outputs": [
    {
     "name": "stdout",
     "output_type": "stream",
     "text": [
      "n_train : [200, 1000]\n",
      "epochs : [50, 10]\n"
     ]
    },
    {
     "data": {
      "application/vnd.jupyter.widget-view+json": {
       "model_id": "abb78ab142ce4233bc34d2f2883560a1",
       "version_major": 2,
       "version_minor": 0
      },
      "text/plain": [
       "A Jupyter Widget"
      ]
     },
     "metadata": {},
     "output_type": "display_data"
    },
    {
     "name": "stdout",
     "output_type": "stream",
     "text": [
      "\n"
     ]
    },
    {
     "data": {
      "application/vnd.jupyter.widget-view+json": {
       "model_id": "96f493563eeb4ff3aac27d2001965baa",
       "version_major": 2,
       "version_minor": 0
      },
      "text/plain": [
       "A Jupyter Widget"
      ]
     },
     "metadata": {},
     "output_type": "display_data"
    },
    {
     "name": "stdout",
     "output_type": "stream",
     "text": [
      "\n"
     ]
    },
    {
     "data": {
      "application/vnd.jupyter.widget-view+json": {
       "model_id": "a34360384dfb441c80f3ad052a1cf7fd",
       "version_major": 2,
       "version_minor": 0
      },
      "text/plain": [
       "A Jupyter Widget"
      ]
     },
     "metadata": {},
     "output_type": "display_data"
    },
    {
     "name": "stdout",
     "output_type": "stream",
     "text": [
      "\n"
     ]
    },
    {
     "data": {
      "application/vnd.jupyter.widget-view+json": {
       "model_id": "bdc179d05f154efba5cff2b769f6004c",
       "version_major": 2,
       "version_minor": 0
      },
      "text/plain": [
       "A Jupyter Widget"
      ]
     },
     "metadata": {},
     "output_type": "display_data"
    },
    {
     "name": "stdout",
     "output_type": "stream",
     "text": [
      "\n"
     ]
    },
    {
     "data": {
      "application/vnd.jupyter.widget-view+json": {
       "model_id": "b505e85d8e414854a2e0f70986233adf",
       "version_major": 2,
       "version_minor": 0
      },
      "text/plain": [
       "A Jupyter Widget"
      ]
     },
     "metadata": {},
     "output_type": "display_data"
    },
    {
     "name": "stdout",
     "output_type": "stream",
     "text": [
      "\n"
     ]
    },
    {
     "data": {
      "application/vnd.jupyter.widget-view+json": {
       "model_id": "c9eb0b97372b4a48bbbe55eff943b828",
       "version_major": 2,
       "version_minor": 0
      },
      "text/plain": [
       "A Jupyter Widget"
      ]
     },
     "metadata": {},
     "output_type": "display_data"
    },
    {
     "name": "stdout",
     "output_type": "stream",
     "text": [
      "\n"
     ]
    },
    {
     "data": {
      "application/vnd.jupyter.widget-view+json": {
       "model_id": "d3e3e8d903f94a60bcd4fae10386a34c",
       "version_major": 2,
       "version_minor": 0
      },
      "text/plain": [
       "A Jupyter Widget"
      ]
     },
     "metadata": {},
     "output_type": "display_data"
    },
    {
     "name": "stdout",
     "output_type": "stream",
     "text": [
      "\n"
     ]
    },
    {
     "data": {
      "application/vnd.jupyter.widget-view+json": {
       "model_id": "87d014201c384c4a960077fb62e41b0f",
       "version_major": 2,
       "version_minor": 0
      },
      "text/plain": [
       "A Jupyter Widget"
      ]
     },
     "metadata": {},
     "output_type": "display_data"
    },
    {
     "name": "stdout",
     "output_type": "stream",
     "text": [
      "\n",
      "n_train : [200, 1000]\n",
      "epochs : [50, 10]\n"
     ]
    },
    {
     "data": {
      "application/vnd.jupyter.widget-view+json": {
       "model_id": "40a485a6e0da4ff9aef339e0c55d5f2e",
       "version_major": 2,
       "version_minor": 0
      },
      "text/plain": [
       "A Jupyter Widget"
      ]
     },
     "metadata": {},
     "output_type": "display_data"
    },
    {
     "name": "stdout",
     "output_type": "stream",
     "text": [
      "\n"
     ]
    },
    {
     "data": {
      "application/vnd.jupyter.widget-view+json": {
       "model_id": "f1cbffd1cd2440f0b722e9a69097b1ca",
       "version_major": 2,
       "version_minor": 0
      },
      "text/plain": [
       "A Jupyter Widget"
      ]
     },
     "metadata": {},
     "output_type": "display_data"
    },
    {
     "name": "stdout",
     "output_type": "stream",
     "text": [
      "\n"
     ]
    },
    {
     "data": {
      "application/vnd.jupyter.widget-view+json": {
       "model_id": "715d1b8bd69d4d2289f5bed3a529e4a3",
       "version_major": 2,
       "version_minor": 0
      },
      "text/plain": [
       "A Jupyter Widget"
      ]
     },
     "metadata": {},
     "output_type": "display_data"
    },
    {
     "name": "stdout",
     "output_type": "stream",
     "text": [
      "\n"
     ]
    },
    {
     "data": {
      "application/vnd.jupyter.widget-view+json": {
       "model_id": "6b463bd25ee847dc987aac17bd32cce2",
       "version_major": 2,
       "version_minor": 0
      },
      "text/plain": [
       "A Jupyter Widget"
      ]
     },
     "metadata": {},
     "output_type": "display_data"
    },
    {
     "name": "stdout",
     "output_type": "stream",
     "text": [
      "\n"
     ]
    },
    {
     "data": {
      "application/vnd.jupyter.widget-view+json": {
       "model_id": "568882e2d11b42609f20b8466142b34c",
       "version_major": 2,
       "version_minor": 0
      },
      "text/plain": [
       "A Jupyter Widget"
      ]
     },
     "metadata": {},
     "output_type": "display_data"
    },
    {
     "name": "stdout",
     "output_type": "stream",
     "text": [
      "\n"
     ]
    },
    {
     "data": {
      "application/vnd.jupyter.widget-view+json": {
       "model_id": "df3563220c44493b8b76520e957a8d3f",
       "version_major": 2,
       "version_minor": 0
      },
      "text/plain": [
       "A Jupyter Widget"
      ]
     },
     "metadata": {},
     "output_type": "display_data"
    },
    {
     "name": "stdout",
     "output_type": "stream",
     "text": [
      "\n"
     ]
    },
    {
     "data": {
      "application/vnd.jupyter.widget-view+json": {
       "model_id": "3177305c8a094907b77bf6ffcbee23d3",
       "version_major": 2,
       "version_minor": 0
      },
      "text/plain": [
       "A Jupyter Widget"
      ]
     },
     "metadata": {},
     "output_type": "display_data"
    },
    {
     "name": "stdout",
     "output_type": "stream",
     "text": [
      "\n"
     ]
    },
    {
     "data": {
      "application/vnd.jupyter.widget-view+json": {
       "model_id": "424e955263df4600aec1682565f5e419",
       "version_major": 2,
       "version_minor": 0
      },
      "text/plain": [
       "A Jupyter Widget"
      ]
     },
     "metadata": {},
     "output_type": "display_data"
    },
    {
     "name": "stdout",
     "output_type": "stream",
     "text": [
      "\n",
      "61.7525137072\n",
      "n_train : [200, 1000]\n",
      "epochs : [50, 10]\n"
     ]
    },
    {
     "data": {
      "application/vnd.jupyter.widget-view+json": {
       "model_id": "d29a316b92184c77b7eebc7d3d8dc14a",
       "version_major": 2,
       "version_minor": 0
      },
      "text/plain": [
       "A Jupyter Widget"
      ]
     },
     "metadata": {},
     "output_type": "display_data"
    },
    {
     "name": "stdout",
     "output_type": "stream",
     "text": [
      "\n"
     ]
    },
    {
     "data": {
      "application/vnd.jupyter.widget-view+json": {
       "model_id": "ab80f9cbde074efeb9a3801514f591a0",
       "version_major": 2,
       "version_minor": 0
      },
      "text/plain": [
       "A Jupyter Widget"
      ]
     },
     "metadata": {},
     "output_type": "display_data"
    },
    {
     "name": "stdout",
     "output_type": "stream",
     "text": [
      "\n"
     ]
    },
    {
     "data": {
      "application/vnd.jupyter.widget-view+json": {
       "model_id": "e965411595444ee6ad2d7b516990a85e",
       "version_major": 2,
       "version_minor": 0
      },
      "text/plain": [
       "A Jupyter Widget"
      ]
     },
     "metadata": {},
     "output_type": "display_data"
    },
    {
     "name": "stdout",
     "output_type": "stream",
     "text": [
      "\n"
     ]
    },
    {
     "data": {
      "application/vnd.jupyter.widget-view+json": {
       "model_id": "0cbdb1ff13924f299ed26a01bfb715bd",
       "version_major": 2,
       "version_minor": 0
      },
      "text/plain": [
       "A Jupyter Widget"
      ]
     },
     "metadata": {},
     "output_type": "display_data"
    },
    {
     "name": "stdout",
     "output_type": "stream",
     "text": [
      "\n"
     ]
    },
    {
     "data": {
      "application/vnd.jupyter.widget-view+json": {
       "model_id": "655f650063f04b00810bb74ff5d08b40",
       "version_major": 2,
       "version_minor": 0
      },
      "text/plain": [
       "A Jupyter Widget"
      ]
     },
     "metadata": {},
     "output_type": "display_data"
    },
    {
     "name": "stdout",
     "output_type": "stream",
     "text": [
      "\n"
     ]
    },
    {
     "data": {
      "application/vnd.jupyter.widget-view+json": {
       "model_id": "3bc095472ed94c28ba3dd26b7e662362",
       "version_major": 2,
       "version_minor": 0
      },
      "text/plain": [
       "A Jupyter Widget"
      ]
     },
     "metadata": {},
     "output_type": "display_data"
    },
    {
     "name": "stdout",
     "output_type": "stream",
     "text": [
      "\n"
     ]
    },
    {
     "data": {
      "application/vnd.jupyter.widget-view+json": {
       "model_id": "f4c950a0e6964c39ad6034bb6ca996d7",
       "version_major": 2,
       "version_minor": 0
      },
      "text/plain": [
       "A Jupyter Widget"
      ]
     },
     "metadata": {},
     "output_type": "display_data"
    },
    {
     "name": "stdout",
     "output_type": "stream",
     "text": [
      "\n",
      "fitting calibration kernel ...\n",
      "done.\n"
     ]
    },
    {
     "data": {
      "application/vnd.jupyter.widget-view+json": {
       "model_id": "b7711b3d98754e4db1f85c67ccd21407",
       "version_major": 2,
       "version_minor": 0
      },
      "text/plain": [
       "A Jupyter Widget"
      ]
     },
     "metadata": {},
     "output_type": "display_data"
    },
    {
     "name": "stdout",
     "output_type": "stream",
     "text": [
      "\n",
      "63.385546221\n",
      "n_train : [200, 1000]\n",
      "epochs : [50, 10]\n"
     ]
    },
    {
     "data": {
      "application/vnd.jupyter.widget-view+json": {
       "model_id": "ce49121bff3d49e7815f614bd1010911",
       "version_major": 2,
       "version_minor": 0
      },
      "text/plain": [
       "A Jupyter Widget"
      ]
     },
     "metadata": {},
     "output_type": "display_data"
    },
    {
     "name": "stdout",
     "output_type": "stream",
     "text": [
      "\n"
     ]
    },
    {
     "data": {
      "application/vnd.jupyter.widget-view+json": {
       "model_id": "28f7cb8e8293475ca6e0bccf05d186be",
       "version_major": 2,
       "version_minor": 0
      },
      "text/plain": [
       "A Jupyter Widget"
      ]
     },
     "metadata": {},
     "output_type": "display_data"
    },
    {
     "name": "stdout",
     "output_type": "stream",
     "text": [
      "\n"
     ]
    },
    {
     "data": {
      "application/vnd.jupyter.widget-view+json": {
       "model_id": "3d6ab677f0114766aa67825c34e7004a",
       "version_major": 2,
       "version_minor": 0
      },
      "text/plain": [
       "A Jupyter Widget"
      ]
     },
     "metadata": {},
     "output_type": "display_data"
    },
    {
     "name": "stdout",
     "output_type": "stream",
     "text": [
      "\n"
     ]
    },
    {
     "data": {
      "application/vnd.jupyter.widget-view+json": {
       "model_id": "94e7035b2399465f8b146db32ec437d4",
       "version_major": 2,
       "version_minor": 0
      },
      "text/plain": [
       "A Jupyter Widget"
      ]
     },
     "metadata": {},
     "output_type": "display_data"
    },
    {
     "name": "stdout",
     "output_type": "stream",
     "text": [
      "\n"
     ]
    },
    {
     "data": {
      "application/vnd.jupyter.widget-view+json": {
       "model_id": "beb959650dc44ae58107a843783c5479",
       "version_major": 2,
       "version_minor": 0
      },
      "text/plain": [
       "A Jupyter Widget"
      ]
     },
     "metadata": {},
     "output_type": "display_data"
    },
    {
     "name": "stdout",
     "output_type": "stream",
     "text": [
      "\n"
     ]
    },
    {
     "data": {
      "application/vnd.jupyter.widget-view+json": {
       "model_id": "5309849b2cad4e2cbc44cf90ed6dcea0",
       "version_major": 2,
       "version_minor": 0
      },
      "text/plain": [
       "A Jupyter Widget"
      ]
     },
     "metadata": {},
     "output_type": "display_data"
    },
    {
     "name": "stdout",
     "output_type": "stream",
     "text": [
      "\n"
     ]
    },
    {
     "data": {
      "application/vnd.jupyter.widget-view+json": {
       "model_id": "b062a8c08fc64b0e809928ee6cd7af54",
       "version_major": 2,
       "version_minor": 0
      },
      "text/plain": [
       "A Jupyter Widget"
      ]
     },
     "metadata": {},
     "output_type": "display_data"
    },
    {
     "name": "stdout",
     "output_type": "stream",
     "text": [
      "\n"
     ]
    },
    {
     "data": {
      "application/vnd.jupyter.widget-view+json": {
       "model_id": "138372beaf5b4227a382fb2c19f4e1e4",
       "version_major": 2,
       "version_minor": 0
      },
      "text/plain": [
       "A Jupyter Widget"
      ]
     },
     "metadata": {},
     "output_type": "display_data"
    },
    {
     "name": "stderr",
     "output_type": "stream",
     "text": [
      "loss=[ 1.43349755]: : 15it [00:00, 82.99it/s]      "
     ]
    },
    {
     "name": "stdout",
     "output_type": "stream",
     "text": [
      "\n"
     ]
    },
    {
     "name": "stderr",
     "output_type": "stream",
     "text": [
      "loss=[ 2.50069022]: : 999it [00:06, 157.37it/s]     \n"
     ]
    },
    {
     "data": {
      "image/png": "[encoded data removed]",
      "text/plain": [
       "<matplotlib.figure.Figure at 0x1c26e32860>"
      ]
     },
     "metadata": {},
     "output_type": "display_data"
    }
   ],
   "source": [
    "seed = 44\n",
    "\n",
    "out = run_panel_a(algo='CDELFI', rounds=2, seed=seed)\n",
    "\n",
    "out_SNPE = run_panel_a(algo='SNPE', rounds=2, seed=seed)\n",
    "w = out_SNPE['train_data'][-1][2]\n",
    "w /= w.sum()\n",
    "print(1/np.sum(w**2))\n",
    "\n",
    "out_kSNPE = run_panel_a(algo='kSNPE', rounds=2, seed=seed)\n",
    "w = out_kSNPE['train_data'][-1][2]\n",
    "w /= w.sum()\n",
    "print(1/np.sum(w**2))\n",
    "\n",
    "\n",
    "out_DDELFI = run_panel_a(algo='DDELFI', rounds=2, seed=seed)\n",
    "\n",
    "%matplotlib inline\n",
    "import matplotlib.pyplot as plt\n",
    "\n",
    "p_true = dd.MoG(a=[0.5, 0.5], ms=[np.asarray([0.]), np.asarray([0.])], Ss=[1.0*np.eye(1), 0.01*np.eye(1)])\n",
    "\n",
    "plt.figure(figsize=(12,12))\n",
    "xx = np.linspace(-10, 10, 200).reshape(-1,1)\n",
    "plt.plot(xx,                p_true.eval(xx, log=False), 'b--')\n",
    "plt.plot(xx,      out['posterior'].eval(xx, log=False), 'k')\n",
    "plt.plot(xx, out_SNPE['posterior'].eval(xx, log=False), 'r')\n",
    "plt.plot(xx,out_kSNPE['posterior'].eval(xx, log=False), 'g')\n",
    "plt.plot(xx,out_DDELFI['posterior'].eval(xx, log=False), 'orange')\n",
    "\n",
    "plt.plot(xx, out_kSNPE['log'][-1]['cbkrnl'].eval(xx), ':', color='m')\n",
    "\n",
    "plt.show()"
   ]
  },
  {
   "cell_type": "code",
   "execution_count": null,
   "metadata": {
    "collapsed": true
   },
   "outputs": [],
   "source": []
  }
 ],
 "metadata": {
  "anaconda-cloud": {},
  "kernelspec": {
   "display_name": "Python 3",
   "language": "python",
   "name": "python3"
  },
  "language_info": {
   "codemirror_mode": {
    "name": "ipython",
    "version": 3
   },
   "file_extension": ".py",
   "mimetype": "text/x-python",
   "name": "python",
   "nbconvert_exporter": "python",
   "pygments_lexer": "ipython3",
   "version": "3.6.3"
  }
 },
 "nbformat": 4,
 "nbformat_minor": 2
}
