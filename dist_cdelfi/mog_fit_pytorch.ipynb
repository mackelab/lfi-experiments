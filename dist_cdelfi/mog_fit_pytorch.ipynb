{
 "cells": [
  {
   "cell_type": "code",
   "execution_count": 2,
   "metadata": {},
   "outputs": [],
   "source": [
    "import numpy as np\n",
    "import torch\n",
    "import torch.nn as nn\n",
    "\n",
    "from torch.autograd import Variable\n",
    "from pdf_mog import *\n",
    "from util import train_sgd\n",
    "\n",
    "%matplotlib inline"
   ]
  },
  {
   "cell_type": "code",
   "execution_count": 3,
   "metadata": {},
   "outputs": [
    {
     "name": "stdout",
     "output_type": "stream",
     "text": [
      "data has shape : (10000, 2)\n"
     ]
    },
    {
     "data": {
      "image/png": "[encoded data removed]",
      "text/plain": [
       "<matplotlib.figure.Figure at 0x7fa5c003b6a0>"
      ]
     },
     "metadata": {},
     "output_type": "display_data"
    }
   ],
   "source": [
    "# generate some data from two 2-D Gaussians\n",
    "\n",
    "samples = 5000\n",
    "\n",
    "dim = 2\n",
    "d1 = np.random.multivariate_normal(-5*np.ones(dim), np.eye(dim), samples)\n",
    "d2 = np.random.multivariate_normal(+5*np.ones(dim), np.eye(dim), samples)\n",
    "data = np.vstack((d1, d2))\n",
    "\n",
    "print('data has shape : {}'.format(data.shape))\n",
    "plt.plot(data[:,0], data[:,1], '.');"
   ]
  },
  {
   "cell_type": "code",
   "execution_count": 4,
   "metadata": {
    "collapsed": true
   },
   "outputs": [],
   "source": [
    "dtype = torch.FloatTensor\n",
    "\n",
    "class MoG(nn.Module):\n",
    "    def __init__(self, n_components, dim):\n",
    "        super().__init__()\n",
    "\n",
    "        self.n_components = n_components\n",
    "        self.dim = dim\n",
    "        \n",
    "        self.softmax = nn.Softmax(dim=0)\n",
    "        \n",
    "        self.weights = nn.Parameter(\n",
    "            torch.ones(n_components).type(dtype))\n",
    "        self.mus = nn.Parameter(\n",
    "            torch.Tensor(n_components, dim).random_().type(dtype))\n",
    "        self.Lvecs = nn.Parameter(\n",
    "            torch.Tensor(int(n_components*((dim**2+dim)/2))).uniform_(0, 0.1).type(dtype))\n",
    "    \n",
    "    def forward(self, X):\n",
    "        if type(X) == np.ndarray:\n",
    "            X = torch.from_numpy(X)\n",
    "        X = Variable(X.type(dtype), requires_grad=False)\n",
    "        \n",
    "        # weights\n",
    "        weights = self.softmax(self.weights)\n",
    "                \n",
    "        # covariance factors\n",
    "        Ls = Variable(torch.zeros(self.n_components, self.dim, self.dim)).type(dtype)\n",
    "        \n",
    "        # assign vector to lower triangle of Ls\n",
    "        (idx1, idx2) = np.tril_indices(self.dim)\n",
    "        Ls[:, idx1, idx2] = self.Lvecs\n",
    "\n",
    "        # apply exponential to get positive diagonal\n",
    "        (idx1, idx2) = np.diag_indices(self.dim)\n",
    "        Ls[:, idx1, idx2] = torch.exp(Ls[:, idx1, idx2])\n",
    "\n",
    "        lprobs = multivariate_mog_pdf(X, weights, self.mus, Ls, log=True)\n",
    "        \n",
    "        return -torch.mean(lprobs), (weights, self.mus, Ls)"
   ]
  },
  {
   "cell_type": "code",
   "execution_count": 6,
   "metadata": {},
   "outputs": [
    {
     "name": "stdout",
     "output_type": "stream",
     "text": [
      "loss 3.518\n",
      "\n",
      "component 0\n",
      "weight : [0.5]\n",
      "mu : [-5. -5.]\n",
      "cov : [[1. 0.]\n",
      " [0. 1.]]\n",
      "\n",
      "component 1\n",
      "weight : [0.5]\n",
      "mu : [5. 5.]\n",
      "cov : [[1. 0.]\n",
      " [0. 1.]]\n",
      "\n"
     ]
    }
   ],
   "source": [
    "model = MoG(n_components=2, dim=dim)\n",
    "\n",
    "# initialise at mus and weights to true values\n",
    "model.mus = nn.Parameter(torch.from_numpy(np.array([[-5,-5],[5,5]])).type(dtype))\n",
    "model.weights = nn.Parameter(torch.from_numpy(np.array([0.5, 0.5])).type(dtype))\n",
    "model.Lvecs = nn.Parameter(torch.from_numpy(np.array([0, 0, 0, 0, 0, 0])).type(dtype))\n",
    "\n",
    "# info\n",
    "def info(model, data):\n",
    "    lprobs, (weights, mus, Ls) = model(data)\n",
    "    \n",
    "    print('loss {:.3f}'.format(lprobs.data.cpu().numpy()[0]))\n",
    "    print('')\n",
    "\n",
    "    for k in range(model.n_components):\n",
    "        L = Ls[k,:,:].data.numpy()\n",
    "        cov = np.dot(L, L.T)\n",
    "\n",
    "        print('component {}'.format(k))\n",
    "        print('weight : {}'.format(weights[k].data.cpu().numpy()))\n",
    "        print('mu : {}'.format(mus[k,:].data.cpu().numpy()))\n",
    "        print('cov : {}'.format(cov))\n",
    "        print('')\n",
    "\n",
    "info(model, data)"
   ]
  },
  {
   "cell_type": "code",
   "execution_count": 7,
   "metadata": {},
   "outputs": [
    {
     "data": {
      "application/vnd.jupyter.widget-view+json": {
       "model_id": "23ebdf2e3b5a43389a8cfca55f0f9173"
      }
     },
     "metadata": {},
     "output_type": "display_data"
    },
    {
     "name": "stdout",
     "output_type": "stream",
     "text": [
      "\n"
     ]
    },
    {
     "data": {
      "image/png": "[encoded data removed]",
      "text/plain": [
       "<matplotlib.figure.Figure at 0x7fa5305e64a8>"
      ]
     },
     "metadata": {},
     "output_type": "display_data"
    }
   ],
   "source": [
    "losses = train_sgd(list(data), model, n_epochs=25, n_minibatch=100)\n",
    "\n",
    "plt.plot(losses);"
   ]
  },
  {
   "cell_type": "code",
   "execution_count": 9,
   "metadata": {},
   "outputs": [
    {
     "name": "stdout",
     "output_type": "stream",
     "text": [
      "loss 3.518\n",
      "\n",
      "component 0\n",
      "weight : [0.49912092]\n",
      "mu : [-5.000378 -5.005606]\n",
      "cov : [[ 0.99487877 -0.01180077]\n",
      " [-0.01180077  0.9740873 ]]\n",
      "\n",
      "component 1\n",
      "weight : [0.50087905]\n",
      "mu : [5.015678 5.010956]\n",
      "cov : [[1.0003605  0.00330733]\n",
      " [0.00330733 0.9939854 ]]\n",
      "\n"
     ]
    }
   ],
   "source": [
    "info(model, data)"
   ]
  }
 ],
 "metadata": {
  "kernelspec": {
   "display_name": "Python 3",
   "language": "python",
   "name": "python3"
  },
  "language_info": {
   "codemirror_mode": {
    "name": "ipython",
    "version": 3
   },
   "file_extension": ".py",
   "mimetype": "text/x-python",
   "name": "python",
   "nbconvert_exporter": "python",
   "pygments_lexer": "ipython3",
   "version": "3.6.4"
  }
 },
 "nbformat": 4,
 "nbformat_minor": 2
}
