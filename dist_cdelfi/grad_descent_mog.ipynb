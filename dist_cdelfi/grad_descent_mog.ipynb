{
 "cells": [
  {
   "cell_type": "code",
   "execution_count": 1,
   "metadata": {},
   "outputs": [],
   "source": [
    "import numpy as np\n",
    "import pickle\n",
    "\n",
    "import matplotlib.pyplot as plt\n",
    "import matplotlib.lines as mlines\n",
    "\n",
    "from mogtrain import MoGTrainer\n",
    "\n",
    "from tqdm import tqdm_notebook as tqdm\n",
    "\n",
    "import delfi.distribution as dd\n",
    "\n",
    "from delfi.utils.viz import probs2contours\n",
    "\n",
    "from parameters import ParameterSet\n",
    "import pickle\n",
    "\n",
    "%matplotlib inline"
   ]
  },
  {
   "cell_type": "code",
   "execution_count": 2,
   "metadata": {},
   "outputs": [],
   "source": [
    "params = pickle.load(open('example_mog.pkl', 'rb'))"
   ]
  },
  {
   "cell_type": "code",
   "execution_count": 3,
   "metadata": {},
   "outputs": [],
   "source": [
    "prior = dd.Uniform(-params.x_width * np.ones(params.ndim), params.x_width * np.ones(params.ndim))\n",
    "proposal = prior"
   ]
  },
  {
   "cell_type": "code",
   "execution_count": 4,
   "metadata": {},
   "outputs": [],
   "source": [
    "def print_pdf(pdf, name):\n",
    "    po = np.get_printoptions()\n",
    "    np.set_printoptions(precision=2)\n",
    "    print(\"{}:\".format(name))\n",
    "    print(\"----------------\")\n",
    "    print(\"Mixture weights: {}\".format(pdf.a))\n",
    "    print(\"Means:\")\n",
    "    for x in pdf.xs:\n",
    "        print(\"{}\".format(x.m))\n",
    "    print()\n",
    "    print(\"Covariances:\")\n",
    "    for x in pdf.xs:\n",
    "        print(\"{}\".format(x.S))\n",
    "    print()\n",
    "    np.set_printoptions(**po)"
   ]
  },
  {
   "cell_type": "code",
   "execution_count": 5,
   "metadata": {},
   "outputs": [],
   "source": [
    "class DividedPdf:\n",
    "    def __init__(self, a, b, norm_region):\n",
    "        self.a = a\n",
    "        self.b = b\n",
    "        \n",
    "        self.Z = 1\n",
    "        \n",
    "        xlist = np.linspace(norm_region[0], norm_region[1], 1000)\n",
    "        samples = self.eval(xlist.reshape(-1,1), log=False)\n",
    "        \n",
    "        dx = xlist[1] - xlist[0]\n",
    "        \n",
    "        mass = np.sum(samples) * dx\n",
    "        self.Z = mass\n",
    "        \n",
    "    def eval(self, samples, log=True):\n",
    "        ret = self.a.eval(samples, log=log) / self.b.eval(samples, log=log)\n",
    "        return ret / self.Z\n",
    "    \n",
    "def divide_dists(a, b, norm_region):\n",
    "    if isinstance(a, dd.Gaussian) and isinstance(b, dd.Gaussian):\n",
    "        return a / b\n",
    "    \n",
    "    return DividedPdf(a, b, norm_region)"
   ]
  },
  {
   "cell_type": "code",
   "execution_count": 6,
   "metadata": {},
   "outputs": [
    {
     "name": "stderr",
     "output_type": "stream",
     "text": [
      "loss=[ 4.42357779]: : 6it [00:00, 34.09it/s]"
     ]
    },
    {
     "name": "stdout",
     "output_type": "stream",
     "text": [
      "Init:\n",
      "----------------\n",
      "Mixture weights: [ 0.2   0.09  0.35  0.14  0.22]\n",
      "Means:\n",
      "[-2.01  2.7 ]\n",
      "[-3.93 -3.13]\n",
      "[ 2.2   2.59]\n",
      "[ 1.67  3.43]\n",
      "[ 2.43  3.12]\n",
      "\n",
      "Covariances:\n",
      "[[ 0.82  0.77]\n",
      " [ 0.77  2.24]]\n",
      "[[ 1.8  -0.36]\n",
      " [-0.36  0.4 ]]\n",
      "[[ 2.74 -0.75]\n",
      " [-0.75  0.82]]\n",
      "[[ 0.87 -0.14]\n",
      " [-0.14  0.41]]\n",
      "[[ 1.04  1.26]\n",
      " [ 1.26  2.2 ]]\n",
      "\n",
      "Target:\n",
      "----------------\n",
      "Mixture weights: [ 0.2   0.09  0.35  0.14  0.22]\n",
      "Means:\n",
      "[-2.01  2.7 ]\n",
      "[-3.93 -3.13]\n",
      "[ 2.2   2.59]\n",
      "[ 1.67  3.43]\n",
      "[ 2.43  3.12]\n",
      "\n",
      "Covariances:\n",
      "[[ 0.82  0.77]\n",
      " [ 0.77  2.24]]\n",
      "[[ 1.8  -0.36]\n",
      " [-0.36  0.4 ]]\n",
      "[[ 2.74 -0.75]\n",
      " [-0.75  0.82]]\n",
      "[[ 0.87 -0.14]\n",
      " [-0.14  0.41]]\n",
      "[[ 1.04  1.26]\n",
      " [ 1.26  2.2 ]]\n",
      "\n"
     ]
    },
    {
     "name": "stderr",
     "output_type": "stream",
     "text": [
      "loss=[ 4.42350912]: : 1048it [00:19, 53.95it/s]\n"
     ]
    }
   ],
   "source": [
    "trainer = MoGTrainer(proposal, prior, params.target, ncomponents=params.n_comps, nsamples=10000, lr=0.01, es_thresh=0, es_rounds=1000)\n",
    "\n",
    "pred1 = trainer.get_mog()\n",
    "\n",
    "print_pdf(pred1, \"Init\")\n",
    "print_pdf(params.target, \"Target\")\n",
    "losses = trainer.train(nsteps=-1)\n",
    "\n",
    "pred = trainer.get_mog()"
   ]
  },
  {
   "cell_type": "code",
   "execution_count": 7,
   "metadata": {},
   "outputs": [
    {
     "data": {
      "image/png": "[encoded data removed]",
      "text/plain": [
       "<matplotlib.figure.Figure at 0x7fc053e302e8>"
      ]
     },
     "metadata": {},
     "output_type": "display_data"
    },
    {
     "name": "stdout",
     "output_type": "stream",
     "text": [
      "Target posterior:\n",
      "----------------\n",
      "Mixture weights: [ 0.2   0.09  0.35  0.14  0.22]\n",
      "Means:\n",
      "[-2.01  2.7 ]\n",
      "[-3.93 -3.13]\n",
      "[ 2.2   2.59]\n",
      "[ 1.67  3.43]\n",
      "[ 2.43  3.12]\n",
      "\n",
      "Covariances:\n",
      "[[ 0.82  0.77]\n",
      " [ 0.77  2.24]]\n",
      "[[ 1.8  -0.36]\n",
      " [-0.36  0.4 ]]\n",
      "[[ 2.74 -0.75]\n",
      " [-0.75  0.82]]\n",
      "[[ 0.87 -0.14]\n",
      " [-0.14  0.41]]\n",
      "[[ 1.04  1.26]\n",
      " [ 1.26  2.2 ]]\n",
      "\n",
      "Estimated posterior:\n",
      "----------------\n",
      "Mixture weights: [ 0.2   0.09  0.35  0.14  0.22]\n",
      "Means:\n",
      "[-2.01  2.7 ]\n",
      "[-3.93 -3.13]\n",
      "[ 2.2   2.59]\n",
      "[ 1.67  3.43]\n",
      "[ 2.43  3.12]\n",
      "\n",
      "Covariances:\n",
      "[[ 0.82  0.77]\n",
      " [ 0.77  2.24]]\n",
      "[[ 1.8  -0.36]\n",
      " [-0.36  0.4 ]]\n",
      "[[ 2.74 -0.75]\n",
      " [-0.75  0.82]]\n",
      "[[ 0.87 -0.14]\n",
      " [-0.14  0.41]]\n",
      "[[ 1.04  1.26]\n",
      " [ 1.26  2.2 ]]\n",
      "\n"
     ]
    }
   ],
   "source": [
    "res = 500\n",
    "xlims = (-params.x_width, params.x_width)\n",
    "ylims = xlims\n",
    "\n",
    "xaxis = np.linspace(*xlims, res)\n",
    "yaxis = np.linspace(*ylims, res)\n",
    "x, y = np.meshgrid(xaxis, yaxis)\n",
    "\n",
    "xy = np.concatenate([x.reshape([-1, 1]), \n",
    "                     y.reshape([-1, 1])], \n",
    "                    axis=1)\n",
    "\n",
    "levels = [0.7, 0.5, 0.3, 0.1]\n",
    "\n",
    "target_contour = probs2contours(params.target.eval(xy, log=False), levels).reshape(res, res)\n",
    "pred_contour = probs2contours(pred.eval(xy, log=False), levels).reshape(res, res)\n",
    "\n",
    "plt.figure(figsize=(8, 8))\n",
    "\n",
    "plt.contour(x, y, target_contour, colors=('k'))\n",
    "plt.contour(x, y, pred_contour, colors=('r'))\n",
    "\n",
    "black_line = mlines.Line2D([], [], color='k', label='target posterior')\n",
    "red_line = mlines.Line2D([], [], color='r', label='estimated posterior')\n",
    "plt.legend(handles=[black_line, red_line], \n",
    "           loc=9, bbox_to_anchor=(0.5, -0.1))\n",
    "\n",
    "plt.show()\n",
    "\n",
    "print_pdf(params.target, \"Target posterior\")\n",
    "print_pdf(pred, \"Estimated posterior\")"
   ]
  }
 ],
 "metadata": {
  "kernelspec": {
   "display_name": "Python 3",
   "language": "python",
   "name": "python3"
  },
  "language_info": {
   "codemirror_mode": {
    "name": "ipython",
    "version": 3
   },
   "file_extension": ".py",
   "mimetype": "text/x-python",
   "name": "python",
   "nbconvert_exporter": "python",
   "pygments_lexer": "ipython3",
   "version": "3.5.2"
  }
 },
 "nbformat": 4,
 "nbformat_minor": 2
}
