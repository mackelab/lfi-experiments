{
 "cells": [
  {
   "cell_type": "code",
   "execution_count": 1,
   "metadata": {},
   "outputs": [],
   "source": [
    "import numpy as np\n",
    "import torch\n",
    "import torch.nn as nn\n",
    "import pickle\n",
    "\n",
    "import matplotlib.pyplot as plt\n",
    "import matplotlib.lines as mlines\n",
    "\n",
    "from torch.autograd import Variable\n",
    "from pdf_mog import *\n",
    "from util import train_sgd\n",
    "\n",
    "\n",
    "from tqdm import tqdm_notebook as tqdm\n",
    "\n",
    "import delfi.distribution as dd\n",
    "\n",
    "from delfi.utils.viz import probs2contours\n",
    "%matplotlib inline"
   ]
  },
  {
   "cell_type": "code",
   "execution_count": 2,
   "metadata": {},
   "outputs": [],
   "source": [
    "example = pickle.load(open('example_6d.pkl', 'rb'))"
   ]
  },
  {
   "cell_type": "code",
   "execution_count": 3,
   "metadata": {},
   "outputs": [
    {
     "data": {
      "text/plain": [
       "{'comment': 'posterior is (uncorrected * prior) / proposal',\n",
       " 'posterior': <delfi.distribution.mixture.GaussianMixture.MoG at 0x7f6a3c17a908>,\n",
       " 'prior': <delfi.distribution.Gaussian.Gaussian at 0x7f69dcc7b358>,\n",
       " 'proposal': <delfi.distribution.Gaussian.Gaussian at 0x7f69dcc7bc50>,\n",
       " 'uncorrected': <delfi.distribution.mixture.GaussianMixture.MoG at 0x7f69dcc7b668>}"
      ]
     },
     "execution_count": 3,
     "metadata": {},
     "output_type": "execute_result"
    }
   ],
   "source": [
    "example"
   ]
  },
  {
   "cell_type": "code",
   "execution_count": 4,
   "metadata": {},
   "outputs": [],
   "source": [
    "dtype = torch.FloatTensor\n",
    "\n",
    "class MoG(nn.Module):\n",
    "    def __init__(self, n_components, dim):\n",
    "        super().__init__()\n",
    "\n",
    "        self.n_components = n_components\n",
    "        self.dim = dim\n",
    "        \n",
    "        self.softmax = nn.Softmax(dim=0)\n",
    "        \n",
    "        self.weights = nn.Parameter(\n",
    "            torch.ones(n_components).type(dtype))\n",
    "        self.mus = nn.Parameter(\n",
    "            torch.Tensor(n_components, dim).normal_().type(dtype))\n",
    "        self.Lvecs = nn.Parameter(\n",
    "            torch.Tensor(int(n_components*((dim**2+dim)/2))).uniform_(0, 0.1).type(dtype))\n",
    "    \n",
    "    def eval(self, X):\n",
    "        if type(X) == np.ndarray:\n",
    "            X = torch.from_numpy(X)\n",
    "        X = Variable(X.type(dtype), requires_grad=False)\n",
    "        \n",
    "        # weights\n",
    "        weights = self.softmax(self.weights)\n",
    "                \n",
    "        Ls = self.get_Ls()\n",
    "\n",
    "        lprobs = multivariate_mog_pdf(X, weights, self.mus, Ls, log=True)\n",
    "        \n",
    "        return lprobs, (weights, self.mus, Ls)\n",
    "        \n",
    "    def get_Ls(self):\n",
    "        # covariance factors\n",
    "        Ls = Variable(torch.zeros(self.n_components, self.dim, self.dim)).type(dtype)\n",
    "        \n",
    "        # assign vector to lower triangle of Ls\n",
    "        (idx1, idx2) = np.tril_indices(self.dim)\n",
    "        Ls[:, idx1, idx2] = self.Lvecs\n",
    "\n",
    "        # apply exponential to get positive diagonal\n",
    "        (idx1, idx2) = np.diag_indices(self.dim)\n",
    "        Ls[:, idx1, idx2] = torch.exp(Ls[:, idx1, idx2])\n",
    "        \n",
    "        return Ls\n",
    "        \n",
    "    def forward(self, X):\n",
    "        lprobs, (weights, self.mus, Ls) = self.eval(X)\n",
    "        return -torch.mean(lprobs), (weights, self.mus, Ls)\n",
    "    \n",
    "    def convert_to_distribution(self):\n",
    "        a = self.weights.data.numpy()\n",
    "        ms = self.mus.data.numpy()\n",
    "        Ls = self.get_Ls().data.numpy()\n",
    "        \n",
    "        Ls = np.linalg.inv(Ls)\n",
    "        \n",
    "        return dd.MoG(a=a, ms=ms, Us=Ls)"
   ]
  },
  {
   "cell_type": "code",
   "execution_count": 5,
   "metadata": {},
   "outputs": [],
   "source": [
    "prior = example['prior']\n",
    "proposal = example['proposal']\n",
    "uncorrected = example['uncorrected']\n",
    "post = example['posterior']"
   ]
  },
  {
   "cell_type": "code",
   "execution_count": 6,
   "metadata": {
    "scrolled": false
   },
   "outputs": [],
   "source": [
    "def fit_mog(pprior, prior, qphi, nsamples=10000, nsteps=1000, lr=0.02, es_rounds=20, es_thresh=0.0001):\n",
    "    mog = MoG(n_components = 1, dim=len(prior.m))\n",
    "    samples = pprior.gen(n_samples=nsamples)\n",
    "                         \n",
    "    llsamples_pr = prior.eval(samples, log=True)\n",
    "    llsamples_ppr = pprior.eval(samples, log=True)\n",
    "    llsamples_qphi = qphi.eval(samples, log=True)\n",
    "    \n",
    "    logterm_fixed = torch.from_numpy(llsamples_ppr - llsamples_pr - llsamples_qphi)\n",
    "    logterm_fixed = Variable(logterm_fixed, requires_grad=False)\n",
    "    \n",
    "    optim = torch.optim.Adam(mog.parameters(), lr=lr)\n",
    "    \n",
    "\n",
    "    progress = tqdm(range(nsteps))\n",
    "    \n",
    "    losses = []\n",
    "    \n",
    "    for step in progress:\n",
    "        optim.zero_grad()\n",
    "        \n",
    "        llsamples_pb = mog.eval(samples)[0]                 \n",
    "        logterm = llsamples_pb + logterm_fixed.type(dtype)\n",
    "                         \n",
    "        lsamples_pb = torch.exp(llsamples_pb)\n",
    "        Z_beta = torch.mean(lsamples_pb)\n",
    "\n",
    "        eterm = torch.dot(lsamples_pb, logterm) / nsamples\n",
    "\n",
    "        loss = -torch.log(Z_beta) + eterm / Z_beta    \n",
    "        loss.backward()\n",
    "                         \n",
    "        optim.step()\n",
    "        \n",
    "        progress.set_description(\"loss={}\".format(loss.data.numpy()))\n",
    "        losses.append(np.asscalar(loss.data.numpy()))\n",
    "        \n",
    "        if len(losses) > es_rounds:\n",
    "            if not np.mean(np.diff(losses[-es_rounds:])) < -es_thresh:\n",
    "                break\n",
    "            \n",
    "    return mog, losses"
   ]
  },
  {
   "cell_type": "code",
   "execution_count": 7,
   "metadata": {},
   "outputs": [
    {
     "data": {
      "application/vnd.jupyter.widget-view+json": {
       "model_id": "760d07053fb444eda566a1a01609c4ea",
       "version_major": 2,
       "version_minor": 0
      },
      "text/html": [
       "<p>Failed to display Jupyter Widget of type <code>HBox</code>.</p>\n",
       "<p>\n",
       "  If you're reading this message in Jupyter Notebook or JupyterLab, it may mean\n",
       "  that the widgets JavaScript is still loading. If this message persists, it\n",
       "  likely means that the widgets JavaScript library is either not installed or\n",
       "  not enabled. See the <a href=\"https://ipywidgets.readthedocs.io/en/stable/user_install.html\">Jupyter\n",
       "  Widgets Documentation</a> for setup instructions.\n",
       "</p>\n",
       "<p>\n",
       "  If you're reading this message in another notebook frontend (for example, a static\n",
       "  rendering on GitHub or <a href=\"https://nbviewer.jupyter.org/\">NBViewer</a>),\n",
       "  it may mean that your frontend doesn't currently support widgets.\n",
       "</p>\n"
      ],
      "text/plain": [
       "HBox(children=(IntProgress(value=0, max=10000), HTML(value='')))"
      ]
     },
     "metadata": {},
     "output_type": "display_data"
    },
    {
     "name": "stdout",
     "output_type": "stream",
     "text": [
      "\n"
     ]
    }
   ],
   "source": [
    "mog, losses = fit_mog(proposal, prior, uncorrected, nsamples=100000, nsteps=10000, lr=0.02)"
   ]
  },
  {
   "cell_type": "code",
   "execution_count": 9,
   "metadata": {},
   "outputs": [],
   "source": [
    "pred = MoG.convert_to_distribution(mog)"
   ]
  },
  {
   "cell_type": "code",
   "execution_count": 10,
   "metadata": {},
   "outputs": [
    {
     "name": "stdout",
     "output_type": "stream",
     "text": [
      "Posterior mean: [ 5.25927608  5.46214561  4.83745186  4.52325677  5.06481051  5.24521054]\n",
      "Posterior covariance matrix:\n",
      "[[ 0.55723979  0.53344456  0.28276366  0.3330136   0.37682436  0.43064472]\n",
      " [ 0.53344456  1.02758229  0.09852161  0.30044821  0.22673681  0.40494043]\n",
      " [ 0.28276366  0.09852161  0.49285818  0.31071553  0.44188067  0.36416684]\n",
      " [ 0.3330136   0.30044821  0.31071553  0.40513382  0.37140483  0.37562618]\n",
      " [ 0.37682436  0.22673681  0.44188067  0.37140483  0.59771467  0.45138548]\n",
      " [ 0.43064472  0.40494043  0.36416684  0.37562618  0.45138548  0.57058513]]\n"
     ]
    }
   ],
   "source": [
    "print(\"Posterior mean: {}\".format(post.xs[0].m))\n",
    "print(\"Posterior covariance matrix:\\n{}\".format(post.xs[0].S))"
   ]
  },
  {
   "cell_type": "code",
   "execution_count": 11,
   "metadata": {},
   "outputs": [
    {
     "name": "stdout",
     "output_type": "stream",
     "text": [
      "Predicted mean: [ 2.20975852 -2.18824077  1.97454703  6.1248312   6.95441675  6.92052889]\n",
      "Predicted covariance matrix:\n",
      "[[  4.23278666   9.86217308   3.69111657  -1.633412    -1.97567058\n",
      "   -1.6501509 ]\n",
      " [  9.86217308  24.46996498   8.86688232  -4.59012651  -5.55093956\n",
      "   -4.75425673]\n",
      " [  3.69111657   8.86688232   3.51319695  -1.55347466  -1.84740186\n",
      "   -1.61474633]\n",
      " [ -1.633412    -4.59012651  -1.55347466   1.40225041   1.54566479\n",
      "    1.42618501]\n",
      " [ -1.97567058  -5.55093956  -1.84740186   1.54566479   1.94721174\n",
      "    1.68104124]\n",
      " [ -1.6501509   -4.75425673  -1.61474633   1.42618501   1.68104124\n",
      "    1.66963184]]\n"
     ]
    }
   ],
   "source": [
    "print(\"Predicted mean: {}\".format(pred.xs[0].m))\n",
    "print(\"Predicted covariance matrix:\\n{}\".format(pred.xs[0].S))"
   ]
  },
  {
   "cell_type": "code",
   "execution_count": 57,
   "metadata": {},
   "outputs": [
    {
     "name": "stdout",
     "output_type": "stream",
     "text": [
      "\n"
     ]
    },
    {
     "data": {
      "image/png": "[encoded data removed]",
      "text/plain": [
       "<matplotlib.figure.Figure at 0x7f3dd21aceb8>"
      ]
     },
     "metadata": {},
     "output_type": "display_data"
    }
   ],
   "source": [
    "# visualize results if 2D\n",
    "if len(pred.xs[0].m) == 2:\n",
    "    res = 500\n",
    "    xlims = (0, 8)\n",
    "    ylims = xlims\n",
    "\n",
    "    xaxis = np.linspace(*xlims, res)\n",
    "    yaxis = np.linspace(*ylims, res)\n",
    "    x, y = np.meshgrid(xaxis, yaxis)\n",
    "\n",
    "    xy = np.concatenate([x.reshape([-1, 1]), \n",
    "                         y.reshape([-1, 1])], \n",
    "                        axis=1)\n",
    "\n",
    "\n",
    "    levels = [0.8, 0.5, 0.1]\n",
    "\n",
    "    prior_contour = probs2contours(prior.eval(xy, log=False), levels).reshape(res, res)\n",
    "    #like_contour = probs2contours(dist1.eval(xy, log=False), levels).reshape(res, res)\n",
    "    post_contour = probs2contours(post.eval(xy, log=False), levels).reshape(res, res)\n",
    "    pred_contour = probs2contours(pred.eval(xy, log=False), levels).reshape(res, res)\n",
    "\n",
    "\n",
    "    plt.figure(figsize=(8, 8))\n",
    "\n",
    "    plt.contour(x, y, prior_contour, colors=('g'))\n",
    "    plt.contour(x, y, post_contour, colors=('k'))\n",
    "    #plt.contour(x, y, like_contour, colors=('b'))\n",
    "    plt.contour(x, y, pred_contour, colors=('r'))\n",
    "\n",
    "    green_line = mlines.Line2D([], [], color='g', label='prior')\n",
    "    #blue_line = mlines.Line2D([], [], color='b', label='first posterior')\n",
    "    black_line = mlines.Line2D([], [], color='k', label='true posterior')\n",
    "    red_line = mlines.Line2D([], [], color='r', label='estimated posterior')\n",
    "    plt.legend(handles=[green_line, black_line, red_line], \n",
    "               loc=9, bbox_to_anchor=(0.5, -0.1))\n",
    "\n",
    "    plt.show()"
   ]
  },
  {
   "cell_type": "code",
   "execution_count": null,
   "metadata": {},
   "outputs": [],
   "source": []
  }
 ],
 "metadata": {
  "kernelspec": {
   "display_name": "Python 3",
   "language": "python",
   "name": "python3"
  },
  "language_info": {
   "codemirror_mode": {
    "name": "ipython",
    "version": 3
   },
   "file_extension": ".py",
   "mimetype": "text/x-python",
   "name": "python",
   "nbconvert_exporter": "python",
   "pygments_lexer": "ipython3",
   "version": "3.5.2"
  }
 },
 "nbformat": 4,
 "nbformat_minor": 2
}
