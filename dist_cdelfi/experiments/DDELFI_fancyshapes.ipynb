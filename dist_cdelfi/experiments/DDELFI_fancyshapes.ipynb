{
 "cells": [
  {
   "cell_type": "code",
   "execution_count": null,
   "metadata": {},
   "outputs": [],
   "source": [
    "import delfi.distribution as dd\n",
    "import delfi.generator as dg\n",
    "import delfi.inference as infer\n",
    "import delfi.summarystats as ds\n",
    "\n",
    "%run ../DDELFI.py\n",
    "\n",
    "from delfi.simulator.BaseSimulator import BaseSimulator\n",
    "\n",
    "import matplotlib.pyplot as plt\n",
    "from mpl_toolkits.mplot3d import Axes3D\n",
    "from matplotlib import cm\n",
    "import numpy as np\n",
    "from delfi.utils.viz import plot_pdf\n",
    "\n",
    "from tqdm import tqdm_notebook as tqdm\n",
    "\n",
    "from parameters import ParameterSet\n",
    "\n",
    "%matplotlib notebook"
   ]
  },
  {
   "cell_type": "code",
   "execution_count": null,
   "metadata": {
    "collapsed": true
   },
   "outputs": [],
   "source": [
    "class ShapeModel(BaseSimulator):\n",
    "    def __init__(self, f, sigma, ndim, seed=None):\n",
    "        super().__init__(dim_param=ndim, seed=seed)\n",
    "        self.f = f\n",
    "        \n",
    "        self.sigma = sigma\n",
    "        \n",
    "    def gen_single(self, params):\n",
    "        m = self.f(params)\n",
    "        draw = self.rng.normal(loc=m, scale=self.sigma, size=(1,))\n",
    "        return { 'data' : draw }\n",
    "    \n",
    "class ShapeDistribution(dd.BaseDistribution.BaseDistribution):\n",
    "    def __init__(self, f, sm, obs_stats, seed=None):\n",
    "        super().__init__(sm.dim_param, seed=seed)\n",
    "        self.f = f\n",
    "        self.sm = sm\n",
    "        self.obs_stats = obs_stats\n",
    "        self.m = np.linalg.norm(obs_stats)\n",
    "        self.sigma = sm.sigma\n",
    "        \n",
    "    def eval(self, params, log=True):\n",
    "        logl = -0.5 * np.log(2 * np.pi * self.sigma) -0.5 * ([self.f(param) for param in params] - self.m) ** 2 / (self.sigma ** 2)\n",
    "        return logl if log else np.exp(logl)"
   ]
  },
  {
   "cell_type": "code",
   "execution_count": null,
   "metadata": {
    "collapsed": true
   },
   "outputs": [],
   "source": [
    "def plot_pdf_2d(params, dist, label = None):\n",
    "    lims = 2 * np.linalg.norm(params.obs_stats)\n",
    "    xlist = np.linspace(-lims, lims, 80)\n",
    "    ylist = np.linspace(-lims, lims, 80)\n",
    "    \n",
    "    fig = plt.figure(figsize=(8,4))\n",
    "    ax = fig.add_subplot(111, projection='3d')\n",
    "    \n",
    "    X, Y = np.meshgrid(xlist, ylist)\n",
    "    xys = np.asarray((X.ravel(), Y.ravel())).T\n",
    "    \n",
    "    if label is not None:\n",
    "        fig.suptitle(label)\n",
    "        \n",
    "    Z = dist.eval(xys, log=False).reshape(X.shape)\n",
    "    ax.plot_surface(X, Y, Z, cmap=cm.plasma, rstride=1, cstride=1, linewidth=0, antialiased=False)\n",
    "        \n",
    "    ax.set_xlabel(\"$\\\\theta_1$\")\n",
    "    ax.set_ylabel(\"$\\\\theta_2$\")\n",
    "    ax.set_zlabel(\"$p(\\\\theta)$\")\n",
    "    plt.show()\n",
    "    \n",
    "    return fig"
   ]
  },
  {
   "cell_type": "code",
   "execution_count": null,
   "metadata": {
    "collapsed": true
   },
   "outputs": [],
   "source": [
    "def run_DDELFI(params):\n",
    "    m = ShapeModel(params.f, sigma=params.sigma, ndim=params.ndim, seed=params.seed)\n",
    "    p = dd.Uniform(-params.prior_width * np.ones(params.ndim), params.prior_width * np.ones(params.ndim), seed=params.seed)\n",
    "    s = ds.Identity(1)\n",
    "    g = dg.Default(model=m, prior=p, summary=s)\n",
    "\n",
    "    gt = ShapeDistribution(params.f, m, params.obs_stats, seed=params.seed)\n",
    "    \n",
    "    res = DDELFI(g, obs=[params.obs_stats], \n",
    "                     n_hiddens=params.n_hiddens, \n",
    "                     n_components=params.n_components, \n",
    "                     seed=params.seed, \n",
    "                     prior_mixin=params.prior_mixin,\n",
    "                     verbose=True)\n",
    "    \n",
    "    logs, tds, posteriors, _ = res.run(n_train=params.n_train, n_rounds=params.n_rounds)\n",
    "\n",
    "    return res, posteriors, gt"
   ]
  },
  {
   "cell_type": "code",
   "execution_count": null,
   "metadata": {},
   "outputs": [],
   "source": [
    "default_params = ParameterSet({})\n",
    "\n",
    "#394, 395, 397, 400, (401), 402, (403), 404, 405, (406)\n",
    "default_params.seed = 406\n",
    "default_params.ndim = 2\n",
    "default_params.n_components = 5\n",
    "default_params.n_hiddens = [ default_params.n_components * default_params.ndim * 2 ] * 2\n",
    "\n",
    "default_params.sigma = 0.2\n",
    "\n",
    "default_params.true_params = 2 * np.eye(default_params.ndim)[0]\n",
    "default_params.obs_stats = [np.linalg.norm(default_params.true_params)]\n",
    "default_params.prior_width = 2\n",
    "\n",
    "default_params.prior_mixin = 0.1\n",
    "default_params.n_train = 500\n",
    "default_params.n_rounds = 5\n",
    "\n",
    "cubic = lambda x: (x[0] - 2) * (x[0] + 2) * x[0] - x[1] + 1\n",
    "ushape = lambda x: x[0] ** 2 - x[1]\n",
    "ring = np.linalg.norm\n",
    "default_params.f = ring"
   ]
  },
  {
   "cell_type": "code",
   "execution_count": null,
   "metadata": {
    "scrolled": false
   },
   "outputs": [],
   "source": [
    "std_params = default_params\n",
    "\n",
    "res, posteriors, gt = run_DDELFI(std_params)"
   ]
  },
  {
   "cell_type": "code",
   "execution_count": null,
   "metadata": {
    "scrolled": false
   },
   "outputs": [],
   "source": [
    "plot_pdf_2d(default_params, gt, \"Ground truth\");\n",
    "\n",
    "for i, p in enumerate(posteriors):\n",
    "    plot_pdf_2d(default_params, p, \"Round {}\".format(i+1));"
   ]
  }
 ],
 "metadata": {
  "kernelspec": {
   "display_name": "Python 3",
   "language": "python",
   "name": "python3"
  },
  "language_info": {
   "codemirror_mode": {
    "name": "ipython",
    "version": 3
   },
   "file_extension": ".py",
   "mimetype": "text/x-python",
   "name": "python",
   "nbconvert_exporter": "python",
   "pygments_lexer": "ipython3",
   "version": "3.6.3"
  }
 },
 "nbformat": 4,
 "nbformat_minor": 2
}
