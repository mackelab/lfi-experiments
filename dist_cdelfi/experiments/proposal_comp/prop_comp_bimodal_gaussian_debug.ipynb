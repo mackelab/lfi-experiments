{
 "cells": [
  {
   "cell_type": "code",
   "execution_count": 8,
   "metadata": {
    "collapsed": true
   },
   "outputs": [],
   "source": [
    "%%capture\n",
    "import delfi.distribution as dd\n",
    "import delfi.utils.io as io\n",
    "import numpy as np\n",
    "import pickle\n",
    "\n",
    "import delfi.inference as infer\n",
    "import delfi.generator as dg\n",
    "from delfi.simulator import GaussMixture\n",
    "import delfi.summarystats as ds\n",
    "\n",
    "%matplotlib inline\n",
    "import matplotlib.pyplot as plt\n",
    "from matplotlib.backends.backend_pdf import PdfPages\n",
    "\n",
    "from parameters import ParameterSet\n",
    "%run -i ../../DDELFI.py"
   ]
  },
  {
   "cell_type": "code",
   "execution_count": 9,
   "metadata": {
    "collapsed": true
   },
   "outputs": [],
   "source": [
    "output_dir = 'figs/'"
   ]
  },
  {
   "cell_type": "code",
   "execution_count": 10,
   "metadata": {
    "collapsed": true
   },
   "outputs": [],
   "source": [
    "params = ParameterSet({})\n",
    "\n",
    "seed = 42\n",
    "\n",
    "params.res = ParameterSet({})\n",
    "params.res.reinit_weights = True\n",
    "params.res.n_components = 2\n",
    "params.res.n_hiddens = [20]\n",
    "params.res.svi = False\n",
    "\n",
    "params.run = ParameterSet({})\n",
    "params.run.n_train = 1000\n",
    "params.run.minibatch = 100\n",
    "params.n_gradients = 100000\n",
    "\n",
    "params.model = ParameterSet({})"
   ]
  },
  {
   "cell_type": "code",
   "execution_count": 11,
   "metadata": {
    "collapsed": true
   },
   "outputs": [],
   "source": [
    "params.model.prior_bounds = (-10, 10)\n",
    "\n",
    "output_prefix = 'bimodal_gaussian'\n",
    "\n",
    "def create_model(seed, params):\n",
    "    m = GaussMixture(dim=1, bimodal=True, noise_cov=[1.0, 1.0], return_abs=True, seed=seed)\n",
    "    p = dd.Uniform(lower=-10, upper=10, seed=seed)\n",
    "    s = ds.Identity()\n",
    "    g = dg.Default(model=m, prior=p, summary=s, seed=seed)\n",
    "    \n",
    "    obs = np.array([[5.]])\n",
    "    \n",
    "    p_true = dd.MoG(a=[0.5, 0.5], ms=[np.asarray([5.]), np.asarray([-5.])], Ss=[1.0*np.eye(1), 1.0*np.eye(1)], seed=seed)\n",
    "\n",
    "    return g, obs, p_true"
   ]
  },
  {
   "cell_type": "code",
   "execution_count": 12,
   "metadata": {
    "collapsed": true
   },
   "outputs": [],
   "source": [
    "def run_algo(algo, proposal, seed, params):\n",
    "    g, obs, _ = create_model(seed, params)\n",
    "    \n",
    "    res_kwargs = {'generator': g, \n",
    "                  'reg_lambda': 0.01,\n",
    "                  'verbose' : True,\n",
    "                  'obs': obs.copy(),\n",
    "                  'seed': seed}\n",
    "\n",
    "    res_kwargs.update(params.res)\n",
    "    \n",
    "    cbk_feature_layer=0\n",
    "    \n",
    "    round_cl=999\n",
    "    minibatch=100\n",
    "    epochs = [params.n_gradients // (params.run.n_train//minibatch)]\n",
    "    \n",
    "    optim_data = None\n",
    "    \n",
    "    if algo == 'CDELFI':\n",
    "        inf = infer.CDELFI(**res_kwargs)\n",
    "        log, train_data, posteriors = inf.run(n_rounds=1,\n",
    "                                              impute_proposal=proposal,\n",
    "                                              epochs=epochs,\n",
    "                                              **params.run)\n",
    "    elif algo == 'SNPE':\n",
    "        inf = infer.SNPE(**res_kwargs)\n",
    "        log, train_data, posteriors = inf.run(n_rounds=1,\n",
    "                                              impute_proposal=proposal,\n",
    "                                              epochs=epochs,\n",
    "                                              **params.run)     \n",
    "    elif algo == 'kSNPE':\n",
    "        inf = infer.SNPE(**res_kwargs)\n",
    "        log, train_data, posteriors = inf.run(n_rounds=1,\n",
    "                                              impute_proposal=proposal,\n",
    "                                              epochs=epochs,\n",
    "                                              kernel_loss='x_kl', \n",
    "                                              cbk_feature_layer=cbk_feature_layer,\n",
    "                                              **params.run)\n",
    "    elif algo == 'DDELFI':\n",
    "        inf = DDELFI(**res_kwargs)\n",
    "        log, train_data, posteriors, optim_data = inf.run(n_rounds=1,\n",
    "                                                          impute_proposal=proposal,\n",
    "                                                          epochs=epochs,\n",
    "                                                          **params.run)   \n",
    "    else:\n",
    "        raise ValueError(\"Unknown algorithm '{}'\".format(algo))\n",
    "    \n",
    "    return {'algo': algo,\n",
    "            'seed': seed,\n",
    "            'generator': g,\n",
    "            'log': log,\n",
    "            'obs' : obs, \n",
    "            'impute_proposal' : proposal,\n",
    "            'train_data': train_data,\n",
    "            'posteriors': posteriors,\n",
    "            'network' : inf.network,\n",
    "            'stats_std' : inf.stats_std,\n",
    "            'stats_mean' : inf.stats_mean,\n",
    "            'optim_data' : optim_data,\n",
    "            'cbk_feature_layer' : cbk_feature_layer\n",
    "           }"
   ]
  },
  {
   "cell_type": "code",
   "execution_count": 23,
   "metadata": {
    "collapsed": true
   },
   "outputs": [],
   "source": [
    "#T_dofs = [ 1, 2, 3, 5, 10 ]\n",
    "#alphas = [ 0.01, 0.1, 0.2, 0.3, 0.5, 0.8, 1.0 ]\n",
    "\n",
    "T_dofs = []\n",
    "alphas = [ 0.05, 0.1, 0.2, 0.3, 0.5 ]\n",
    "\n",
    "def create_proposals(seed, params):\n",
    "    g, _, p_true = create_model(seed, params)\n",
    "    prior = g.prior\n",
    "    \n",
    "    prop_Ts = { \"Student's T (df = {})\".format(dofs) : p_true.convert_to_T(dofs) for dofs in T_dofs }\n",
    "    prop_alphas = { \"Defensive (a = {})\".format(alpha) : DefensiveDistribution(p_true, prior, alpha, seed=seed) for alpha in alphas }\n",
    "    \n",
    "    ret = { \"Prior\" : prior, \"Posterior\" : p_true }\n",
    "    ret.update(prop_Ts)\n",
    "    ret.update(prop_alphas)\n",
    "    \n",
    "    ret = { k: CroppedDistribution(ret[k], prior) for k in ret.keys() }\n",
    "    return { \"Prior\" : ret[\"Prior\"]}"
   ]
  },
  {
   "cell_type": "code",
   "execution_count": 24,
   "metadata": {
    "scrolled": false
   },
   "outputs": [
    {
     "name": "stdout",
     "output_type": "stream",
     "text": [
      "Seed: 98\n",
      "Algorithm: DDELFI\n",
      "Proposal Prior: Prior\n"
     ]
    },
    {
     "data": {
      "application/vnd.jupyter.widget-view+json": {
       "model_id": "82fad8d1fb034a499f767f73d2f92bdb",
       "version_major": 2,
       "version_minor": 0
      },
      "text/plain": [
       "A Jupyter Widget"
      ]
     },
     "metadata": {},
     "output_type": "display_data"
    },
    {
     "name": "stdout",
     "output_type": "stream",
     "text": [
      "\n"
     ]
    },
    {
     "data": {
      "application/vnd.jupyter.widget-view+json": {
       "model_id": "1dff6590a92f4a92b7069f68f434f500",
       "version_major": 2,
       "version_minor": 0
      },
      "text/plain": [
       "A Jupyter Widget"
      ]
     },
     "metadata": {},
     "output_type": "display_data"
    },
    {
     "name": "stdout",
     "output_type": "stream",
     "text": [
      "\n"
     ]
    },
    {
     "data": {
      "application/vnd.jupyter.widget-view+json": {
       "model_id": "8bf50eb57d5f4305a6731497b37003c8",
       "version_major": 2,
       "version_minor": 0
      },
      "text/plain": [
       "A Jupyter Widget"
      ]
     },
     "metadata": {},
     "output_type": "display_data"
    },
    {
     "name": "stdout",
     "output_type": "stream",
     "text": [
      "\n"
     ]
    },
    {
     "data": {
      "application/vnd.jupyter.widget-view+json": {
       "model_id": "f677769e21ff4379a43383d0bf322533",
       "version_major": 2,
       "version_minor": 0
      },
      "text/plain": [
       "A Jupyter Widget"
      ]
     },
     "metadata": {},
     "output_type": "display_data"
    },
    {
     "name": "stdout",
     "output_type": "stream",
     "text": [
      "\n"
     ]
    },
    {
     "data": {
      "application/vnd.jupyter.widget-view+json": {
       "model_id": "1cc8d33e5970448e9d4cf7a2f5dec142",
       "version_major": 2,
       "version_minor": 0
      },
      "text/plain": [
       "A Jupyter Widget"
      ]
     },
     "metadata": {},
     "output_type": "display_data"
    },
    {
     "name": "stderr",
     "output_type": "stream",
     "text": [
      "loss=[ 0.05238771]: : 0it [00:00, ?it/s]"
     ]
    },
    {
     "name": "stdout",
     "output_type": "stream",
     "text": [
      "\n",
      "> /Users/kaan/lfi-experiments/dist_cdelfi/mogtrain.py(299)train()\n",
      "-> loss.backward()\n",
      "(Pdb) p step\n",
      "0\n",
      "(Pdb) p self.get_mog()\n",
      "*** AssertionError: p must sum to 1\n",
      "(Pdb) q\n"
     ]
    },
    {
     "name": "stderr",
     "output_type": "stream",
     "text": [
      "\n"
     ]
    },
    {
     "ename": "BdbQuit",
     "evalue": "",
     "output_type": "error",
     "traceback": [
      "\u001b[0;31m---------------------------------------------------------------------------\u001b[0m",
      "\u001b[0;31mBdbQuit\u001b[0m                                   Traceback (most recent call last)",
      "\u001b[0;32m~/lfi-experiments/dist_cdelfi/DDELFI.py\u001b[0m in \u001b[0;36m<module>\u001b[0;34m()\u001b[0m\n\u001b[1;32m     12\u001b[0m             \u001b[0mprint\u001b[0m\u001b[0;34m(\u001b[0m\u001b[0;34m\"Proposal Prior: {}\"\u001b[0m\u001b[0;34m.\u001b[0m\u001b[0mformat\u001b[0m\u001b[0;34m(\u001b[0m\u001b[0mproposal_name\u001b[0m\u001b[0;34m)\u001b[0m\u001b[0;34m)\u001b[0m\u001b[0;34m\u001b[0m\u001b[0m\n\u001b[1;32m     13\u001b[0m             \u001b[0mproposal\u001b[0m \u001b[0;34m=\u001b[0m \u001b[0mproposals\u001b[0m\u001b[0;34m[\u001b[0m\u001b[0mproposal_name\u001b[0m\u001b[0;34m]\u001b[0m\u001b[0;34m\u001b[0m\u001b[0m\n\u001b[0;32m---> 14\u001b[0;31m             \u001b[0mout\u001b[0m \u001b[0;34m=\u001b[0m \u001b[0mrun_algo\u001b[0m\u001b[0;34m(\u001b[0m\u001b[0malgo\u001b[0m\u001b[0;34m,\u001b[0m \u001b[0mproposal\u001b[0m\u001b[0;34m,\u001b[0m \u001b[0mseed\u001b[0m\u001b[0;34m,\u001b[0m \u001b[0mparams\u001b[0m\u001b[0;34m)\u001b[0m\u001b[0;34m\u001b[0m\u001b[0m\n\u001b[0m\u001b[1;32m     15\u001b[0m             \u001b[0mouts\u001b[0m\u001b[0;34m[\u001b[0m\u001b[0malgo\u001b[0m\u001b[0;34m]\u001b[0m\u001b[0;34m[\u001b[0m\u001b[0mproposal_name\u001b[0m\u001b[0;34m]\u001b[0m\u001b[0;34m.\u001b[0m\u001b[0mappend\u001b[0m\u001b[0;34m(\u001b[0m\u001b[0mout\u001b[0m\u001b[0;34m)\u001b[0m\u001b[0;34m\u001b[0m\u001b[0m\n",
      "\u001b[0;32m~/lfi-experiments/dist_cdelfi/DDELFI.py\u001b[0m in \u001b[0;36mrun_algo\u001b[0;34m(algo, proposal, seed, params)\u001b[0m\n\u001b[1;32m     43\u001b[0m                                                           \u001b[0mimpute_proposal\u001b[0m\u001b[0;34m=\u001b[0m\u001b[0mproposal\u001b[0m\u001b[0;34m,\u001b[0m\u001b[0;34m\u001b[0m\u001b[0m\n\u001b[1;32m     44\u001b[0m                                                           \u001b[0mepochs\u001b[0m\u001b[0;34m=\u001b[0m\u001b[0mepochs\u001b[0m\u001b[0;34m,\u001b[0m\u001b[0;34m\u001b[0m\u001b[0m\n\u001b[0;32m---> 45\u001b[0;31m                                                           **params.run)   \n\u001b[0m\u001b[1;32m     46\u001b[0m     \u001b[0;32melse\u001b[0m\u001b[0;34m:\u001b[0m\u001b[0;34m\u001b[0m\u001b[0m\n\u001b[1;32m     47\u001b[0m         \u001b[0;32mraise\u001b[0m \u001b[0mValueError\u001b[0m\u001b[0;34m(\u001b[0m\u001b[0;34m\"Unknown algorithm '{}'\"\u001b[0m\u001b[0;34m.\u001b[0m\u001b[0mformat\u001b[0m\u001b[0;34m(\u001b[0m\u001b[0malgo\u001b[0m\u001b[0;34m)\u001b[0m\u001b[0;34m)\u001b[0m\u001b[0;34m\u001b[0m\u001b[0m\n",
      "\u001b[0;32m~/lfi-experiments/dist_cdelfi/DDELFI.py\u001b[0m in \u001b[0;36mrun\u001b[0;34m(self, n_train, n_rounds, epochs, minibatch, monitor, impute_proposal, n_ensemble, **kwargs)\u001b[0m\n\u001b[1;32m    183\u001b[0m \u001b[0;34m\u001b[0m\u001b[0m\n\u001b[1;32m    184\u001b[0m                 \u001b[0mtrn_datasets\u001b[0m\u001b[0;34m.\u001b[0m\u001b[0mappend\u001b[0m\u001b[0;34m(\u001b[0m\u001b[0mtrn_data\u001b[0m\u001b[0;34m)\u001b[0m\u001b[0;34m\u001b[0m\u001b[0m\n\u001b[0;32m--> 185\u001b[0;31m                 \u001b[0mpred\u001b[0m \u001b[0;34m=\u001b[0m \u001b[0mself\u001b[0m\u001b[0;34m.\u001b[0m\u001b[0mcompute_posterior\u001b[0m\u001b[0;34m(\u001b[0m\u001b[0mself\u001b[0m\u001b[0;34m.\u001b[0m\u001b[0mobs\u001b[0m\u001b[0;34m,\u001b[0m \u001b[0;34m**\u001b[0m\u001b[0mmog_kwargs\u001b[0m\u001b[0;34m)\u001b[0m\u001b[0;34m\u001b[0m\u001b[0m\n\u001b[0m\u001b[1;32m    186\u001b[0m \u001b[0;34m\u001b[0m\u001b[0m\n\u001b[1;32m    187\u001b[0m                 \u001b[0mpreds\u001b[0m\u001b[0;34m.\u001b[0m\u001b[0mappend\u001b[0m\u001b[0;34m(\u001b[0m\u001b[0mpred\u001b[0m\u001b[0;34m)\u001b[0m\u001b[0;34m\u001b[0m\u001b[0m\n",
      "\u001b[0;32m~/lfi-experiments/dist_cdelfi/DDELFI.py\u001b[0m in \u001b[0;36mcompute_posterior\u001b[0;34m(self, x, nsamples, nsteps, **kwargs)\u001b[0m\n\u001b[1;32m    244\u001b[0m                                  **kwargs)\n\u001b[1;32m    245\u001b[0m \u001b[0;34m\u001b[0m\u001b[0m\n\u001b[0;32m--> 246\u001b[0;31m             \u001b[0mtrainer\u001b[0m\u001b[0;34m.\u001b[0m\u001b[0mtrain\u001b[0m\u001b[0;34m(\u001b[0m\u001b[0mnsteps\u001b[0m\u001b[0;34m=\u001b[0m\u001b[0mnsteps\u001b[0m\u001b[0;34m)\u001b[0m\u001b[0;34m\u001b[0m\u001b[0m\n\u001b[0m\u001b[1;32m    247\u001b[0m \u001b[0;34m\u001b[0m\u001b[0m\n\u001b[1;32m    248\u001b[0m             \u001b[0mposterior\u001b[0m \u001b[0;34m=\u001b[0m \u001b[0mtrainer\u001b[0m\u001b[0;34m.\u001b[0m\u001b[0mget_mog\u001b[0m\u001b[0;34m(\u001b[0m\u001b[0;34m)\u001b[0m\u001b[0;34m\u001b[0m\u001b[0m\n",
      "\u001b[0;32m~/lfi-experiments/dist_cdelfi/mogtrain.py\u001b[0m in \u001b[0;36mtrain\u001b[0;34m(self, nsteps, lr, es_rounds, es_thresh)\u001b[0m\n\u001b[1;32m    297\u001b[0m                     \u001b[0mpdb\u001b[0m\u001b[0;34m.\u001b[0m\u001b[0mset_trace\u001b[0m\u001b[0;34m(\u001b[0m\u001b[0;34m)\u001b[0m\u001b[0;34m\u001b[0m\u001b[0m\n\u001b[1;32m    298\u001b[0m \u001b[0;34m\u001b[0m\u001b[0m\n\u001b[0;32m--> 299\u001b[0;31m                 \u001b[0mloss\u001b[0m\u001b[0;34m.\u001b[0m\u001b[0mbackward\u001b[0m\u001b[0;34m(\u001b[0m\u001b[0;34m)\u001b[0m\u001b[0;34m\u001b[0m\u001b[0m\n\u001b[0m\u001b[1;32m    300\u001b[0m \u001b[0;34m\u001b[0m\u001b[0m\n\u001b[1;32m    301\u001b[0m                 \u001b[0mlast_data\u001b[0m \u001b[0;34m=\u001b[0m \u001b[0;34m(\u001b[0m\u001b[0mself\u001b[0m\u001b[0;34m.\u001b[0m\u001b[0mmog\u001b[0m\u001b[0;34m.\u001b[0m\u001b[0mweights\u001b[0m\u001b[0;34m.\u001b[0m\u001b[0mclone\u001b[0m\u001b[0;34m(\u001b[0m\u001b[0;34m)\u001b[0m\u001b[0;34m,\u001b[0m \u001b[0mself\u001b[0m\u001b[0;34m.\u001b[0m\u001b[0mmog\u001b[0m\u001b[0;34m.\u001b[0m\u001b[0mmus\u001b[0m\u001b[0;34m.\u001b[0m\u001b[0mclone\u001b[0m\u001b[0;34m(\u001b[0m\u001b[0;34m)\u001b[0m\u001b[0;34m,\u001b[0m \u001b[0mself\u001b[0m\u001b[0;34m.\u001b[0m\u001b[0mmog\u001b[0m\u001b[0;34m.\u001b[0m\u001b[0mLvecs\u001b[0m\u001b[0;34m.\u001b[0m\u001b[0mclone\u001b[0m\u001b[0;34m(\u001b[0m\u001b[0;34m)\u001b[0m\u001b[0;34m)\u001b[0m\u001b[0;34m\u001b[0m\u001b[0m\n",
      "\u001b[0;32m~/lfi-experiments/dist_cdelfi/mogtrain.py\u001b[0m in \u001b[0;36mtrain\u001b[0;34m(self, nsteps, lr, es_rounds, es_thresh)\u001b[0m\n\u001b[1;32m    297\u001b[0m                     \u001b[0mpdb\u001b[0m\u001b[0;34m.\u001b[0m\u001b[0mset_trace\u001b[0m\u001b[0;34m(\u001b[0m\u001b[0;34m)\u001b[0m\u001b[0;34m\u001b[0m\u001b[0m\n\u001b[1;32m    298\u001b[0m \u001b[0;34m\u001b[0m\u001b[0m\n\u001b[0;32m--> 299\u001b[0;31m                 \u001b[0mloss\u001b[0m\u001b[0;34m.\u001b[0m\u001b[0mbackward\u001b[0m\u001b[0;34m(\u001b[0m\u001b[0;34m)\u001b[0m\u001b[0;34m\u001b[0m\u001b[0m\n\u001b[0m\u001b[1;32m    300\u001b[0m \u001b[0;34m\u001b[0m\u001b[0m\n\u001b[1;32m    301\u001b[0m                 \u001b[0mlast_data\u001b[0m \u001b[0;34m=\u001b[0m \u001b[0;34m(\u001b[0m\u001b[0mself\u001b[0m\u001b[0;34m.\u001b[0m\u001b[0mmog\u001b[0m\u001b[0;34m.\u001b[0m\u001b[0mweights\u001b[0m\u001b[0;34m.\u001b[0m\u001b[0mclone\u001b[0m\u001b[0;34m(\u001b[0m\u001b[0;34m)\u001b[0m\u001b[0;34m,\u001b[0m \u001b[0mself\u001b[0m\u001b[0;34m.\u001b[0m\u001b[0mmog\u001b[0m\u001b[0;34m.\u001b[0m\u001b[0mmus\u001b[0m\u001b[0;34m.\u001b[0m\u001b[0mclone\u001b[0m\u001b[0;34m(\u001b[0m\u001b[0;34m)\u001b[0m\u001b[0;34m,\u001b[0m \u001b[0mself\u001b[0m\u001b[0;34m.\u001b[0m\u001b[0mmog\u001b[0m\u001b[0;34m.\u001b[0m\u001b[0mLvecs\u001b[0m\u001b[0;34m.\u001b[0m\u001b[0mclone\u001b[0m\u001b[0;34m(\u001b[0m\u001b[0;34m)\u001b[0m\u001b[0;34m)\u001b[0m\u001b[0;34m\u001b[0m\u001b[0m\n",
      "\u001b[0;32m~/anaconda3/lib/python3.6/bdb.py\u001b[0m in \u001b[0;36mtrace_dispatch\u001b[0;34m(self, frame, event, arg)\u001b[0m\n\u001b[1;32m     46\u001b[0m             \u001b[0;32mreturn\u001b[0m \u001b[0;31m# None\u001b[0m\u001b[0;34m\u001b[0m\u001b[0m\n\u001b[1;32m     47\u001b[0m         \u001b[0;32mif\u001b[0m \u001b[0mevent\u001b[0m \u001b[0;34m==\u001b[0m \u001b[0;34m'line'\u001b[0m\u001b[0;34m:\u001b[0m\u001b[0;34m\u001b[0m\u001b[0m\n\u001b[0;32m---> 48\u001b[0;31m             \u001b[0;32mreturn\u001b[0m \u001b[0mself\u001b[0m\u001b[0;34m.\u001b[0m\u001b[0mdispatch_line\u001b[0m\u001b[0;34m(\u001b[0m\u001b[0mframe\u001b[0m\u001b[0;34m)\u001b[0m\u001b[0;34m\u001b[0m\u001b[0m\n\u001b[0m\u001b[1;32m     49\u001b[0m         \u001b[0;32mif\u001b[0m \u001b[0mevent\u001b[0m \u001b[0;34m==\u001b[0m \u001b[0;34m'call'\u001b[0m\u001b[0;34m:\u001b[0m\u001b[0;34m\u001b[0m\u001b[0m\n\u001b[1;32m     50\u001b[0m             \u001b[0;32mreturn\u001b[0m \u001b[0mself\u001b[0m\u001b[0;34m.\u001b[0m\u001b[0mdispatch_call\u001b[0m\u001b[0;34m(\u001b[0m\u001b[0mframe\u001b[0m\u001b[0;34m,\u001b[0m \u001b[0marg\u001b[0m\u001b[0;34m)\u001b[0m\u001b[0;34m\u001b[0m\u001b[0m\n",
      "\u001b[0;32m~/anaconda3/lib/python3.6/bdb.py\u001b[0m in \u001b[0;36mdispatch_line\u001b[0;34m(self, frame)\u001b[0m\n\u001b[1;32m     65\u001b[0m         \u001b[0;32mif\u001b[0m \u001b[0mself\u001b[0m\u001b[0;34m.\u001b[0m\u001b[0mstop_here\u001b[0m\u001b[0;34m(\u001b[0m\u001b[0mframe\u001b[0m\u001b[0;34m)\u001b[0m \u001b[0;32mor\u001b[0m \u001b[0mself\u001b[0m\u001b[0;34m.\u001b[0m\u001b[0mbreak_here\u001b[0m\u001b[0;34m(\u001b[0m\u001b[0mframe\u001b[0m\u001b[0;34m)\u001b[0m\u001b[0;34m:\u001b[0m\u001b[0;34m\u001b[0m\u001b[0m\n\u001b[1;32m     66\u001b[0m             \u001b[0mself\u001b[0m\u001b[0;34m.\u001b[0m\u001b[0muser_line\u001b[0m\u001b[0;34m(\u001b[0m\u001b[0mframe\u001b[0m\u001b[0;34m)\u001b[0m\u001b[0;34m\u001b[0m\u001b[0m\n\u001b[0;32m---> 67\u001b[0;31m             \u001b[0;32mif\u001b[0m \u001b[0mself\u001b[0m\u001b[0;34m.\u001b[0m\u001b[0mquitting\u001b[0m\u001b[0;34m:\u001b[0m \u001b[0;32mraise\u001b[0m \u001b[0mBdbQuit\u001b[0m\u001b[0;34m\u001b[0m\u001b[0m\n\u001b[0m\u001b[1;32m     68\u001b[0m         \u001b[0;32mreturn\u001b[0m \u001b[0mself\u001b[0m\u001b[0;34m.\u001b[0m\u001b[0mtrace_dispatch\u001b[0m\u001b[0;34m\u001b[0m\u001b[0m\n\u001b[1;32m     69\u001b[0m \u001b[0;34m\u001b[0m\u001b[0m\n",
      "\u001b[0;31mBdbQuit\u001b[0m: "
     ]
    }
   ],
   "source": [
    "proposals = create_proposals(seed, params)\n",
    "algos = [ 'DDELFI' ]\n",
    "seeds = range(98, 99)\n",
    "\n",
    "outs = { algo : { proposal : [] for proposal in proposals } for algo in algos }\n",
    "\n",
    "for seed in seeds:\n",
    "    for algo in algos:\n",
    "        for proposal_name in proposals:\n",
    "            print(\"Seed: {}\".format(seed))\n",
    "            print(\"Algorithm: {}\".format(algo))\n",
    "            print(\"Proposal Prior: {}\".format(proposal_name))\n",
    "            proposal = proposals[proposal_name]\n",
    "            out = run_algo(algo, proposal, seed, params)\n",
    "            outs[algo][proposal_name].append(out)"
   ]
  },
  {
   "cell_type": "code",
   "execution_count": null,
   "metadata": {
    "collapsed": true,
    "scrolled": false
   },
   "outputs": [],
   "source": [
    "_, _, p_true = create_model(seed=None, params=params)\n",
    "COL = { 'DDELFI' : 'orange', 'SNPE' : 'green', 'kSNPE' : 'blue' }\n",
    "\n",
    "pdf_filename = \"{}/{}.pdf\".format(output_dir, output_prefix)\n",
    "\n",
    "with PdfPages(pdf_filename) as pdf:\n",
    "    for proposal_name in proposals:\n",
    "        proposal = proposals[proposal_name]\n",
    "        plt.figure(figsize=(5 * len(algos),4))\n",
    "\n",
    "        title = \"Proposal prior: {}\".format(proposal_name)\n",
    "        xlist = np.linspace(*params.model.prior_bounds, 200).reshape(-1,1)\n",
    "        plt.suptitle(title)\n",
    "\n",
    "        for i, algo in enumerate(algos):\n",
    "            ax = plt.subplot(1, len(algos), i+1)\n",
    "\n",
    "            ax.set_title(algo)\n",
    "\n",
    "            label = algo\n",
    "            for out in outs[algo][proposal_name]:\n",
    "                posterior = out['posteriors'][-1]\n",
    "\n",
    "                plt.plot(xlist.reshape(-1), posterior.eval(xlist, log=False), COL[algo], alpha=0.5, linewidth=2, label=label)\n",
    "                label = None\n",
    "\n",
    "            plt.plot(xlist.reshape(-1), p_true.eval(xlist, log=False), 'k', linewidth=2, label=\"GT\")\n",
    "            plt.plot(xlist.reshape(-1), proposal.eval(xlist, log=False), 'r', ls='--', alpha=0.6, linewidth=2, label=\"Proposal\")\n",
    "            \n",
    "            plt.xlim((params.model.prior_bounds))\n",
    "            plt.yticks([])\n",
    "\n",
    "            plt.legend()\n",
    "            plt.tick_params(top='off', left='off', right='off', labelleft='off', labelbottom='on')\n",
    "\n",
    "        pdf.savefig()\n",
    "        plt.show()"
   ]
  },
  {
   "cell_type": "code",
   "execution_count": null,
   "metadata": {
    "collapsed": true
   },
   "outputs": [],
   "source": []
  }
 ],
 "metadata": {
  "kernelspec": {
   "display_name": "Python 3",
   "language": "python",
   "name": "python3"
  },
  "language_info": {
   "codemirror_mode": {
    "name": "ipython",
    "version": 3
   },
   "file_extension": ".py",
   "mimetype": "text/x-python",
   "name": "python",
   "nbconvert_exporter": "python",
   "pygments_lexer": "ipython3",
   "version": "3.6.3"
  }
 },
 "nbformat": 4,
 "nbformat_minor": 2
}
