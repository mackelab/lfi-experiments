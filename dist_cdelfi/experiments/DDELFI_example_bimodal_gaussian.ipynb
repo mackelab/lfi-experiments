{
 "cells": [
  {
   "cell_type": "code",
   "execution_count": 1,
   "metadata": {
    "collapsed": true
   },
   "outputs": [],
   "source": [
    "import delfi.distribution as dd\n",
    "import delfi.generator as dg\n",
    "import delfi.inference as infer\n",
    "import delfi.summarystats as ds\n",
    "\n",
    "%run ../DDELFI.py\n",
    "\n",
    "import scipy as sp\n",
    "\n",
    "from delfi.simulator.BaseSimulator import BaseSimulator\n",
    "\n",
    "import matplotlib.pyplot as plt\n",
    "from mpl_toolkits.mplot3d import Axes3D\n",
    "from matplotlib import cm\n",
    "import numpy as np\n",
    "from delfi.utils.viz import plot_pdf\n",
    "\n",
    "from delfi.simulator import Gauss\n",
    "\n",
    "from tqdm import tqdm_notebook as tqdm\n",
    "\n",
    "from parameters import ParameterSet\n",
    "\n",
    "%matplotlib inline"
   ]
  },
  {
   "cell_type": "code",
   "execution_count": 2,
   "metadata": {
    "collapsed": true
   },
   "outputs": [],
   "source": [
    "class DividedPdf:\n",
    "    def __init__(self, a, b, norm_region):\n",
    "        self.a = a\n",
    "        self.b = b\n",
    "        \n",
    "        \n",
    "        self.ndim = self.a.ndim\n",
    "        \n",
    "        self.Z = 1\n",
    "        \n",
    "        xlist = np.linspace(norm_region[0], norm_region[1], 1000)\n",
    "        samples = self.eval(xlist.reshape(-1,1), log=False)\n",
    "        \n",
    "        dx = xlist[1] - xlist[0]\n",
    "        \n",
    "        mass = np.sum(samples) * dx\n",
    "        self.Z = mass\n",
    "        \n",
    "    def eval(self, samples, log=True):\n",
    "        ret = self.a.eval(samples, log=False) / self.b.eval(samples, log=False)\n",
    "        ret /= self.Z\n",
    "        if log:\n",
    "            return np.log(ret)\n",
    "        else:\n",
    "            return ret\n",
    "    \n",
    "class MultipliedPdf:\n",
    "    def __init__(self, a, b, norm_region):\n",
    "        self.a = a\n",
    "        self.b = b\n",
    "        \n",
    "        self.ndim = self.a.ndim\n",
    "        \n",
    "        self.Z = 1\n",
    "        \n",
    "        xlist = np.linspace(norm_region[0], norm_region[1], 1000)\n",
    "        samples = self.eval(xlist.reshape(-1,1), log=False)\n",
    "        \n",
    "        dx = xlist[1] - xlist[0]\n",
    "        \n",
    "        mass = np.sum(samples) * dx\n",
    "        self.Z = mass\n",
    "        \n",
    "    def eval(self, samples, ii=None, log=True):\n",
    "        ret = self.a.eval(samples, ii=ii, log=False) * self.b.eval(samples, ii=ii, log=False)\n",
    "        ret /= self.Z\n",
    "        if log:\n",
    "            return np.log(ret)\n",
    "        else:\n",
    "            return ret\n",
    "    \n",
    "def divide_dists(a, b, norm_region):\n",
    "    if isinstance(a, dd.Gaussian) and isinstance(b, dd.Gaussian):\n",
    "        return a / b\n",
    "    \n",
    "    return DividedPdf(a, b, norm_region)\n",
    "\n",
    "def multiply_dists(a, b, norm_region):\n",
    "    if isinstance(a, dd.Gaussian) and isinstance(b, dd.Gaussian):\n",
    "        return a * b\n",
    "    \n",
    "    return MultipliedPdf(a, b, norm_region)"
   ]
  },
  {
   "cell_type": "code",
   "execution_count": 3,
   "metadata": {},
   "outputs": [],
   "source": [
    "class BimodalGaussian(BaseSimulator):\n",
    "    def __init__(self, slope, noise_var, seed = None):\n",
    "        super().__init__(dim_param=1, seed=seed)\n",
    "        self.slope = slope\n",
    "        self.noise_var = noise_var\n",
    "        \n",
    "    def gen_single(self, params):\n",
    "        dist = self.get_likelihood(params)\n",
    "        sample = dist.gen(1).reshape(-1)\n",
    "        return { 'data' : sample }\n",
    "    \n",
    "    def get_likelihood(self, params):\n",
    "        return dd.MoG(a=[0.5, 0.5], ms=[self.slope * params, -self.slope * params], Ss = 2 * [np.eye(1) * self.noise_var])"
   ]
  },
  {
   "cell_type": "code",
   "execution_count": 32,
   "metadata": {
    "collapsed": true
   },
   "outputs": [],
   "source": [
    "def run_panel(algo, params, seed=None):\n",
    "    if seed is None:\n",
    "        seed = params.seed\n",
    "        \n",
    "    m = BimodalGaussian(params.slope, params.noise_cov, seed=seed)\n",
    "    s = ds.Identity(1)\n",
    "    g = dg.Default(model=m, prior=params.prior, summary=s)\n",
    "    \n",
    "    kws = { 'generator' : g,\n",
    "            'obs' : [params.obs_stats],\n",
    "            'n_hiddens' : params.n_hiddens,\n",
    "            'seed' : seed,\n",
    "            'verbose' : True,\n",
    "            'svi' : False }\n",
    "    \n",
    "    run_kws = {}\n",
    "    if algo == 'DDELFI':\n",
    "        res = DDELFI(**kws, prior_mixin=0.1)\n",
    "    elif algo == 'SNPE':\n",
    "        res = infer.SNPE(**kws, convert_to_T=3)\n",
    "        run_kwargs = { 'round_cl' : 1000 }\n",
    "    elif algo == 'kSNPE':\n",
    "        res = infer.SNPE(**kws, convert_to_T=3)\n",
    "        run_kwargs = { 'round_cl' : 1000, 'kernel_loss' : 'x_kl' }\n",
    "    elif algo == 'CDELFI':\n",
    "        res = infer.CDELFI(**kws)\n",
    "    else:\n",
    "        raise NotImplemented(\"Unknown algorithm\")\n",
    "    \n",
    "    ret = res.run(n_train=params.n_train, n_rounds = params.n_rounds, **run_kws)\n",
    "\n",
    "    posteriors = ret[2]\n",
    "    return posteriors"
   ]
  },
  {
   "cell_type": "code",
   "execution_count": 56,
   "metadata": {},
   "outputs": [],
   "source": [
    "params = ParameterSet({})\n",
    "\n",
    "params.seed = 394\n",
    "params.n_hiddens = [ 20 ] * 2\n",
    "\n",
    "params.noise_cov = 0.1\n",
    "\n",
    "params.n_train = 500\n",
    "params.n_rounds = 3\n",
    "\n",
    "params.prior_width = 5\n",
    "\n",
    "params.n_runs = 1\n",
    "\n",
    "params.slope = 3\n",
    "\n",
    "params.true_params = np.array([ 3 ])"
   ]
  },
  {
   "cell_type": "code",
   "execution_count": 57,
   "metadata": {
    "collapsed": true
   },
   "outputs": [],
   "source": [
    "params.prior = dd.Uniform(lower=-params.prior_width, upper=params.prior_width)\n",
    "\n",
    "params.obs_stats = params.true_params * params.slope\n",
    "\n",
    "params.gt = dd.MoG(a=[0.5,0.5], ms=[params.obs_stats / params.slope, -params.obs_stats / params.slope], \n",
    "                   Ss = 2 * [np.eye(1) * params.noise_cov])"
   ]
  },
  {
   "cell_type": "code",
   "execution_count": 58,
   "metadata": {
    "collapsed": true
   },
   "outputs": [],
   "source": [
    "COL = { 'DDELFI' : 'orange', 'SNPE' : 'r', 'kSNPE' : 'g', 'CDELFI' : 'k' }"
   ]
  },
  {
   "cell_type": "code",
   "execution_count": 59,
   "metadata": {
    "collapsed": true
   },
   "outputs": [],
   "source": [
    "def plot_row(data):\n",
    "    plt.figure(figsize=(16,5))\n",
    "    \n",
    "    algos = data.keys()\n",
    "    \n",
    "    xlist = np.linspace(-params.prior_width, params.prior_width, 200)\n",
    "    \n",
    "    for i, algo in enumerate(algos):\n",
    "        plt.subplot(1, len(algos), i + 1)\n",
    "        \n",
    "        for posterior in data[algo]:\n",
    "            if posterior is not None:\n",
    "                ylist = posterior.eval(xlist.reshape(-1,1), log=False)\n",
    "                ls = '--'\n",
    "\n",
    "                if posterior == data[algo][-1]:\n",
    "                    ls = None\n",
    "\n",
    "                plt.plot(xlist, ylist, color=COL[algo], linewidth=2, ls=ls)\n",
    "                \n",
    "        ax = plt.gca()\n",
    "        ax.set_title(algo)\n",
    "        ax.set_yticks([])\n",
    "        ax.axvline(params.true_params, color='gray', ls='--')\n",
    "        plt.xticks([params.true_params], ['$x_o$'])\n",
    "            \n",
    "        plt.legend()\n",
    "        \n",
    "    plt.show()\n",
    "        "
   ]
  },
  {
   "cell_type": "code",
   "execution_count": 60,
   "metadata": {
    "scrolled": false
   },
   "outputs": [
    {
     "data": {
      "application/vnd.jupyter.widget-view+json": {
       "model_id": "c811d08634114a44bc4a195910721c33",
       "version_major": 2,
       "version_minor": 0
      },
      "text/plain": [
       "A Jupyter Widget"
      ]
     },
     "metadata": {},
     "output_type": "display_data"
    },
    {
     "name": "stdout",
     "output_type": "stream",
     "text": [
      "\n"
     ]
    },
    {
     "data": {
      "application/vnd.jupyter.widget-view+json": {
       "model_id": "83cf0038c6d44f09bcae3caeccba942d",
       "version_major": 2,
       "version_minor": 0
      },
      "text/plain": [
       "A Jupyter Widget"
      ]
     },
     "metadata": {},
     "output_type": "display_data"
    },
    {
     "name": "stdout",
     "output_type": "stream",
     "text": [
      "\n"
     ]
    },
    {
     "data": {
      "application/vnd.jupyter.widget-view+json": {
       "model_id": "27ca57047d4749fcb5f4765b35fd2211",
       "version_major": 2,
       "version_minor": 0
      },
      "text/plain": [
       "A Jupyter Widget"
      ]
     },
     "metadata": {},
     "output_type": "display_data"
    },
    {
     "name": "stdout",
     "output_type": "stream",
     "text": [
      "\n"
     ]
    },
    {
     "data": {
      "application/vnd.jupyter.widget-view+json": {
       "model_id": "10fe645b606c434b85de5f3ccc422838",
       "version_major": 2,
       "version_minor": 0
      },
      "text/plain": [
       "A Jupyter Widget"
      ]
     },
     "metadata": {},
     "output_type": "display_data"
    },
    {
     "name": "stdout",
     "output_type": "stream",
     "text": [
      "\n"
     ]
    },
    {
     "data": {
      "application/vnd.jupyter.widget-view+json": {
       "model_id": "622b322d0332430b966de91d5c24044a",
       "version_major": 2,
       "version_minor": 0
      },
      "text/plain": [
       "A Jupyter Widget"
      ]
     },
     "metadata": {},
     "output_type": "display_data"
    },
    {
     "name": "stdout",
     "output_type": "stream",
     "text": [
      "\n"
     ]
    },
    {
     "data": {
      "application/vnd.jupyter.widget-view+json": {
       "model_id": "60282ab98fb049ec808339283158816e",
       "version_major": 2,
       "version_minor": 0
      },
      "text/plain": [
       "A Jupyter Widget"
      ]
     },
     "metadata": {},
     "output_type": "display_data"
    },
    {
     "name": "stdout",
     "output_type": "stream",
     "text": [
      "\n"
     ]
    },
    {
     "data": {
      "application/vnd.jupyter.widget-view+json": {
       "model_id": "891209bdfb6a463baf3f84ff99d9df4d",
       "version_major": 2,
       "version_minor": 0
      },
      "text/plain": [
       "A Jupyter Widget"
      ]
     },
     "metadata": {},
     "output_type": "display_data"
    },
    {
     "name": "stdout",
     "output_type": "stream",
     "text": [
      "\n"
     ]
    },
    {
     "data": {
      "application/vnd.jupyter.widget-view+json": {
       "model_id": "7bf48b710fae4340913e85714a74a8a8",
       "version_major": 2,
       "version_minor": 0
      },
      "text/plain": [
       "A Jupyter Widget"
      ]
     },
     "metadata": {},
     "output_type": "display_data"
    },
    {
     "name": "stdout",
     "output_type": "stream",
     "text": [
      "\n"
     ]
    },
    {
     "data": {
      "application/vnd.jupyter.widget-view+json": {
       "model_id": "5bdb20d120e948c78b799c354d5b655c",
       "version_major": 2,
       "version_minor": 0
      },
      "text/plain": [
       "A Jupyter Widget"
      ]
     },
     "metadata": {},
     "output_type": "display_data"
    },
    {
     "name": "stdout",
     "output_type": "stream",
     "text": [
      "\n"
     ]
    },
    {
     "data": {
      "application/vnd.jupyter.widget-view+json": {
       "model_id": "173a2447677a4fffb9cb60349d63303d",
       "version_major": 2,
       "version_minor": 0
      },
      "text/plain": [
       "A Jupyter Widget"
      ]
     },
     "metadata": {},
     "output_type": "display_data"
    },
    {
     "name": "stdout",
     "output_type": "stream",
     "text": [
      "\n"
     ]
    },
    {
     "data": {
      "application/vnd.jupyter.widget-view+json": {
       "model_id": "bb179aa041f741d08245dd079375cc2d",
       "version_major": 2,
       "version_minor": 0
      },
      "text/plain": [
       "A Jupyter Widget"
      ]
     },
     "metadata": {},
     "output_type": "display_data"
    },
    {
     "name": "stdout",
     "output_type": "stream",
     "text": [
      "\n"
     ]
    },
    {
     "data": {
      "application/vnd.jupyter.widget-view+json": {
       "model_id": "011c075c7dda4724adb6a88d6c52cedc",
       "version_major": 2,
       "version_minor": 0
      },
      "text/plain": [
       "A Jupyter Widget"
      ]
     },
     "metadata": {},
     "output_type": "display_data"
    },
    {
     "name": "stdout",
     "output_type": "stream",
     "text": [
      "\n"
     ]
    },
    {
     "data": {
      "application/vnd.jupyter.widget-view+json": {
       "model_id": "c2d2d623ede14eadbfc69bee8e279f26",
       "version_major": 2,
       "version_minor": 0
      },
      "text/plain": [
       "A Jupyter Widget"
      ]
     },
     "metadata": {},
     "output_type": "display_data"
    },
    {
     "name": "stdout",
     "output_type": "stream",
     "text": [
      "\n"
     ]
    },
    {
     "data": {
      "application/vnd.jupyter.widget-view+json": {
       "model_id": "2b53d8b64cb64d6e892e5d46b8ee22d1",
       "version_major": 2,
       "version_minor": 0
      },
      "text/plain": [
       "A Jupyter Widget"
      ]
     },
     "metadata": {},
     "output_type": "display_data"
    },
    {
     "name": "stdout",
     "output_type": "stream",
     "text": [
      "\n"
     ]
    },
    {
     "data": {
      "application/vnd.jupyter.widget-view+json": {
       "model_id": "2fc93d5ea4684641b06ae7d87952c69a",
       "version_major": 2,
       "version_minor": 0
      },
      "text/plain": [
       "A Jupyter Widget"
      ]
     },
     "metadata": {},
     "output_type": "display_data"
    },
    {
     "name": "stdout",
     "output_type": "stream",
     "text": [
      "\n"
     ]
    },
    {
     "data": {
      "application/vnd.jupyter.widget-view+json": {
       "model_id": "89dab33083544cc7b05e7983fdb9c36d",
       "version_major": 2,
       "version_minor": 0
      },
      "text/plain": [
       "A Jupyter Widget"
      ]
     },
     "metadata": {},
     "output_type": "display_data"
    },
    {
     "name": "stdout",
     "output_type": "stream",
     "text": [
      "\n"
     ]
    },
    {
     "data": {
      "application/vnd.jupyter.widget-view+json": {
       "model_id": "4875199d563f4b938f4cdc74fd1382b1",
       "version_major": 2,
       "version_minor": 0
      },
      "text/plain": [
       "A Jupyter Widget"
      ]
     },
     "metadata": {},
     "output_type": "display_data"
    },
    {
     "name": "stdout",
     "output_type": "stream",
     "text": [
      "\n"
     ]
    },
    {
     "data": {
      "application/vnd.jupyter.widget-view+json": {
       "model_id": "e00c62fd04244a839cbb62d0a21698ec",
       "version_major": 2,
       "version_minor": 0
      },
      "text/plain": [
       "A Jupyter Widget"
      ]
     },
     "metadata": {},
     "output_type": "display_data"
    },
    {
     "name": "stdout",
     "output_type": "stream",
     "text": [
      "\n"
     ]
    },
    {
     "data": {
      "application/vnd.jupyter.widget-view+json": {
       "model_id": "387c59b39ce341c388b2f4fcb6ec5990",
       "version_major": 2,
       "version_minor": 0
      },
      "text/plain": [
       "A Jupyter Widget"
      ]
     },
     "metadata": {},
     "output_type": "display_data"
    },
    {
     "name": "stdout",
     "output_type": "stream",
     "text": [
      "\n"
     ]
    },
    {
     "data": {
      "application/vnd.jupyter.widget-view+json": {
       "model_id": "dc70a90b6586485e8b9b5b2705a59b25",
       "version_major": 2,
       "version_minor": 0
      },
      "text/plain": [
       "A Jupyter Widget"
      ]
     },
     "metadata": {},
     "output_type": "display_data"
    },
    {
     "name": "stdout",
     "output_type": "stream",
     "text": [
      "\n"
     ]
    },
    {
     "data": {
      "application/vnd.jupyter.widget-view+json": {
       "model_id": "7cc1e44a0e314adfaad2a645302f2e6d",
       "version_major": 2,
       "version_minor": 0
      },
      "text/plain": [
       "A Jupyter Widget"
      ]
     },
     "metadata": {},
     "output_type": "display_data"
    },
    {
     "name": "stdout",
     "output_type": "stream",
     "text": [
      "\n"
     ]
    },
    {
     "data": {
      "application/vnd.jupyter.widget-view+json": {
       "model_id": "b96d7c4f9b3a42e9a39ba721bb7d0225",
       "version_major": 2,
       "version_minor": 0
      },
      "text/plain": [
       "A Jupyter Widget"
      ]
     },
     "metadata": {},
     "output_type": "display_data"
    },
    {
     "name": "stdout",
     "output_type": "stream",
     "text": [
      "\n"
     ]
    },
    {
     "data": {
      "application/vnd.jupyter.widget-view+json": {
       "model_id": "102a554d317f42b18256f344b30351bb",
       "version_major": 2,
       "version_minor": 0
      },
      "text/plain": [
       "A Jupyter Widget"
      ]
     },
     "metadata": {},
     "output_type": "display_data"
    },
    {
     "name": "stdout",
     "output_type": "stream",
     "text": [
      "\n"
     ]
    },
    {
     "data": {
      "application/vnd.jupyter.widget-view+json": {
       "model_id": "b61746e0d9d640e2a996c4a315d353b7",
       "version_major": 2,
       "version_minor": 0
      },
      "text/plain": [
       "A Jupyter Widget"
      ]
     },
     "metadata": {},
     "output_type": "display_data"
    },
    {
     "name": "stdout",
     "output_type": "stream",
     "text": [
      "\n"
     ]
    },
    {
     "data": {
      "application/vnd.jupyter.widget-view+json": {
       "model_id": "3b0f6846c39c4965917bc136ee10e3b2",
       "version_major": 2,
       "version_minor": 0
      },
      "text/plain": [
       "A Jupyter Widget"
      ]
     },
     "metadata": {},
     "output_type": "display_data"
    },
    {
     "name": "stdout",
     "output_type": "stream",
     "text": [
      "\n"
     ]
    },
    {
     "data": {
      "application/vnd.jupyter.widget-view+json": {
       "model_id": "24783d7994804b4398c0d1648ebd6452",
       "version_major": 2,
       "version_minor": 0
      },
      "text/plain": [
       "A Jupyter Widget"
      ]
     },
     "metadata": {},
     "output_type": "display_data"
    },
    {
     "name": "stdout",
     "output_type": "stream",
     "text": [
      "\n"
     ]
    },
    {
     "data": {
      "application/vnd.jupyter.widget-view+json": {
       "model_id": "0c0d1b8aa48f47539fec6aa5d6221dbd",
       "version_major": 2,
       "version_minor": 0
      },
      "text/plain": [
       "A Jupyter Widget"
      ]
     },
     "metadata": {},
     "output_type": "display_data"
    },
    {
     "name": "stdout",
     "output_type": "stream",
     "text": [
      "\n"
     ]
    },
    {
     "data": {
      "application/vnd.jupyter.widget-view+json": {
       "model_id": "380858dd58ba46b2a707ee477153a41d",
       "version_major": 2,
       "version_minor": 0
      },
      "text/plain": [
       "A Jupyter Widget"
      ]
     },
     "metadata": {},
     "output_type": "display_data"
    },
    {
     "name": "stdout",
     "output_type": "stream",
     "text": [
      "\n"
     ]
    },
    {
     "data": {
      "application/vnd.jupyter.widget-view+json": {
       "model_id": "6318c5cfa3614fe68f98da78875137d0",
       "version_major": 2,
       "version_minor": 0
      },
      "text/plain": [
       "A Jupyter Widget"
      ]
     },
     "metadata": {},
     "output_type": "display_data"
    },
    {
     "name": "stdout",
     "output_type": "stream",
     "text": [
      "\n"
     ]
    },
    {
     "data": {
      "application/vnd.jupyter.widget-view+json": {
       "model_id": "ccc8e9179f744f9cb44f480179465d0e",
       "version_major": 2,
       "version_minor": 0
      },
      "text/plain": [
       "A Jupyter Widget"
      ]
     },
     "metadata": {},
     "output_type": "display_data"
    },
    {
     "name": "stdout",
     "output_type": "stream",
     "text": [
      "\n"
     ]
    },
    {
     "data": {
      "application/vnd.jupyter.widget-view+json": {
       "model_id": "e06140be9d144fd0a82259e0758247b5",
       "version_major": 2,
       "version_minor": 0
      },
      "text/plain": [
       "A Jupyter Widget"
      ]
     },
     "metadata": {},
     "output_type": "display_data"
    },
    {
     "name": "stdout",
     "output_type": "stream",
     "text": [
      "\n"
     ]
    },
    {
     "data": {
      "application/vnd.jupyter.widget-view+json": {
       "model_id": "a3091ba9e8d8401f99f4eb58d544fdad",
       "version_major": 2,
       "version_minor": 0
      },
      "text/plain": [
       "A Jupyter Widget"
      ]
     },
     "metadata": {},
     "output_type": "display_data"
    },
    {
     "name": "stdout",
     "output_type": "stream",
     "text": [
      "\n"
     ]
    },
    {
     "data": {
      "application/vnd.jupyter.widget-view+json": {
       "model_id": "752d636d15fa4a68ac2a9caf40ea94d8",
       "version_major": 2,
       "version_minor": 0
      },
      "text/plain": [
       "A Jupyter Widget"
      ]
     },
     "metadata": {},
     "output_type": "display_data"
    },
    {
     "name": "stdout",
     "output_type": "stream",
     "text": [
      "\n"
     ]
    },
    {
     "data": {
      "application/vnd.jupyter.widget-view+json": {
       "model_id": "27ded46b40a04033acb70c55c958a8ea",
       "version_major": 2,
       "version_minor": 0
      },
      "text/plain": [
       "A Jupyter Widget"
      ]
     },
     "metadata": {},
     "output_type": "display_data"
    },
    {
     "name": "stdout",
     "output_type": "stream",
     "text": [
      "\n"
     ]
    },
    {
     "data": {
      "application/vnd.jupyter.widget-view+json": {
       "model_id": "fac8239fa117487ca94244576fa8007f",
       "version_major": 2,
       "version_minor": 0
      },
      "text/plain": [
       "A Jupyter Widget"
      ]
     },
     "metadata": {},
     "output_type": "display_data"
    },
    {
     "name": "stdout",
     "output_type": "stream",
     "text": [
      "\n"
     ]
    },
    {
     "data": {
      "application/vnd.jupyter.widget-view+json": {
       "model_id": "4e2d5f8171fc48dab88552166893502d",
       "version_major": 2,
       "version_minor": 0
      },
      "text/plain": [
       "A Jupyter Widget"
      ]
     },
     "metadata": {},
     "output_type": "display_data"
    },
    {
     "name": "stdout",
     "output_type": "stream",
     "text": [
      "\n"
     ]
    },
    {
     "data": {
      "application/vnd.jupyter.widget-view+json": {
       "model_id": "76b8b045b8ee4c70870360222ae0b2d7",
       "version_major": 2,
       "version_minor": 0
      },
      "text/plain": [
       "A Jupyter Widget"
      ]
     },
     "metadata": {},
     "output_type": "display_data"
    },
    {
     "name": "stdout",
     "output_type": "stream",
     "text": [
      "\n"
     ]
    },
    {
     "data": {
      "application/vnd.jupyter.widget-view+json": {
       "model_id": "593148247092414ebdd86d8027ee6d6b",
       "version_major": 2,
       "version_minor": 0
      },
      "text/plain": [
       "A Jupyter Widget"
      ]
     },
     "metadata": {},
     "output_type": "display_data"
    },
    {
     "name": "stdout",
     "output_type": "stream",
     "text": [
      "\n"
     ]
    },
    {
     "data": {
      "application/vnd.jupyter.widget-view+json": {
       "model_id": "506480e0da4d4799bbdc531b28a6e042",
       "version_major": 2,
       "version_minor": 0
      },
      "text/plain": [
       "A Jupyter Widget"
      ]
     },
     "metadata": {},
     "output_type": "display_data"
    },
    {
     "name": "stdout",
     "output_type": "stream",
     "text": [
      "\n"
     ]
    },
    {
     "data": {
      "application/vnd.jupyter.widget-view+json": {
       "model_id": "95d3fd28405d4088a29131dcc5686737",
       "version_major": 2,
       "version_minor": 0
      },
      "text/plain": [
       "A Jupyter Widget"
      ]
     },
     "metadata": {},
     "output_type": "display_data"
    },
    {
     "name": "stdout",
     "output_type": "stream",
     "text": [
      "\n"
     ]
    },
    {
     "data": {
      "application/vnd.jupyter.widget-view+json": {
       "model_id": "648ed6e1894647078c36b017ca23ddc9",
       "version_major": 2,
       "version_minor": 0
      },
      "text/plain": [
       "A Jupyter Widget"
      ]
     },
     "metadata": {},
     "output_type": "display_data"
    },
    {
     "name": "stderr",
     "output_type": "stream",
     "text": [
      "loss=[ 2.43442941]: : 11it [00:00, 68.79it/s] "
     ]
    },
    {
     "name": "stdout",
     "output_type": "stream",
     "text": [
      "\n"
     ]
    },
    {
     "name": "stderr",
     "output_type": "stream",
     "text": [
      "loss=[ 2.42017078]: : 1730it [00:14, 116.51it/s]\n"
     ]
    },
    {
     "data": {
      "application/vnd.jupyter.widget-view+json": {
       "model_id": "d656e54d8a5545afbc140fdce843d494",
       "version_major": 2,
       "version_minor": 0
      },
      "text/plain": [
       "A Jupyter Widget"
      ]
     },
     "metadata": {},
     "output_type": "display_data"
    },
    {
     "name": "stdout",
     "output_type": "stream",
     "text": [
      "\n"
     ]
    },
    {
     "data": {
      "application/vnd.jupyter.widget-view+json": {
       "model_id": "91847ae6a3324d89a97faefc5a812db4",
       "version_major": 2,
       "version_minor": 0
      },
      "text/plain": [
       "A Jupyter Widget"
      ]
     },
     "metadata": {},
     "output_type": "display_data"
    },
    {
     "name": "stdout",
     "output_type": "stream",
     "text": [
      "\n"
     ]
    },
    {
     "data": {
      "application/vnd.jupyter.widget-view+json": {
       "model_id": "f55602b1c8a04851aab3df08d8c5152f",
       "version_major": 2,
       "version_minor": 0
      },
      "text/plain": [
       "A Jupyter Widget"
      ]
     },
     "metadata": {},
     "output_type": "display_data"
    },
    {
     "name": "stderr",
     "output_type": "stream",
     "text": [
      "loss=[ 2.38978291]: : 9it [00:00, 70.47it/s]"
     ]
    },
    {
     "name": "stdout",
     "output_type": "stream",
     "text": [
      "\n"
     ]
    },
    {
     "name": "stderr",
     "output_type": "stream",
     "text": [
      "loss=[ 2.38971949]: : 1056it [00:10, 102.80it/s]\n"
     ]
    },
    {
     "data": {
      "image/png": "[encoded data removed]",
      "text/plain": [
       "<matplotlib.figure.Figure at 0x1c2bde47b8>"
      ]
     },
     "metadata": {},
     "output_type": "display_data"
    }
   ],
   "source": [
    "std_params = params\n",
    "\n",
    "algos = [ 'CDELFI', 'SNPE', 'kSNPE', 'DDELFI' ]\n",
    "out = { algo : [] for algo in algos }\n",
    "\n",
    "for r in range(params.n_runs):\n",
    "    for algo in algos:\n",
    "        out[algo].append(run_panel(algo, params, seed=params.seed + r))\n",
    "        \n",
    "    plot_row({ algo : out[algo][-1] for algo in algos })"
   ]
  },
  {
   "cell_type": "code",
   "execution_count": null,
   "metadata": {},
   "outputs": [],
   "source": [
    "for r in range(params.n_runs):\n",
    "    plot_row({ algo : out[algo][-1] for algo in algos })"
   ]
  },
  {
   "cell_type": "code",
   "execution_count": null,
   "metadata": {
    "scrolled": false
   },
   "outputs": [],
   "source": [
    "for r, posterior in enumerate(posteriors[0:]):\n",
    "    plot_pdf(posterior, \n",
    "             lims=[-params.prior_width,params.prior_width],  \n",
    "             pdf2=params.gt,\n",
    "             gt=params.true_params, \n",
    "             figsize=(9,9));"
   ]
  },
  {
   "cell_type": "code",
   "execution_count": null,
   "metadata": {
    "scrolled": false
   },
   "outputs": [],
   "source": [
    "for pred in preds[1:]:\n",
    "    lhs = multiply_dists(pred['proposal'], pred['posterior'], (-params.prior_width * 5, params.prior_width * 5))\n",
    "    rhs = multiply_dists(pred['prior'], pred['qphi'], (-params.prior_width * 5, params.prior_width * 5))\n",
    "    \n",
    "    plot_pdf(lhs, \n",
    "             pdf2 = rhs,\n",
    "             lims=[-params.prior_width,params.prior_width],  \n",
    "             figsize=(9,9));"
   ]
  },
  {
   "cell_type": "code",
   "execution_count": null,
   "metadata": {},
   "outputs": [],
   "source": [
    "pred = preds[-1]\n",
    "\n",
    "trainer = MoGTrainer(prop=pred['proposal'], \n",
    "                     prior=pred['prior'], \n",
    "                     qphi=pred['qphi'], \n",
    "                     n_components=params.n_comps, \n",
    "                     nsamples=10000)\n",
    "            \n",
    "trainer.train(nsteps=-1)\n",
    "            \n",
    "posterior = trainer.get_mog()"
   ]
  },
  {
   "cell_type": "code",
   "execution_count": null,
   "metadata": {},
   "outputs": [],
   "source": [
    "plot_pdf(posterior, \n",
    "         pdf2 = params.gt,\n",
    "         lims=[-params.prior_width,params.prior_width],  \n",
    "         gt=params.true_params, \n",
    "         figsize=(9,9));"
   ]
  },
  {
   "cell_type": "code",
   "execution_count": null,
   "metadata": {
    "collapsed": true
   },
   "outputs": [],
   "source": []
  }
 ],
 "metadata": {
  "kernelspec": {
   "display_name": "Python 3",
   "language": "python",
   "name": "python3"
  },
  "language_info": {
   "codemirror_mode": {
    "name": "ipython",
    "version": 3
   },
   "file_extension": ".py",
   "mimetype": "text/x-python",
   "name": "python",
   "nbconvert_exporter": "python",
   "pygments_lexer": "ipython3",
   "version": "3.6.3"
  }
 },
 "nbformat": 4,
 "nbformat_minor": 2
}
