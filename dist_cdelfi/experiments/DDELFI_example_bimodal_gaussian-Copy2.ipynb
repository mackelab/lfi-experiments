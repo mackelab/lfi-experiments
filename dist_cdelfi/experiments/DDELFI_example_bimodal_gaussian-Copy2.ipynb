{
 "cells": [
  {
   "cell_type": "code",
   "execution_count": null,
   "metadata": {
    "collapsed": true
   },
   "outputs": [],
   "source": [
    "import delfi.distribution as dd\n",
    "import delfi.generator as dg\n",
    "import delfi.inference as infer\n",
    "import delfi.summarystats as ds\n",
    "\n",
    "%run ../DDELFI.py\n",
    "\n",
    "import scipy as sp\n",
    "\n",
    "from delfi.simulator.BaseSimulator import BaseSimulator\n",
    "\n",
    "import matplotlib.pyplot as plt\n",
    "from mpl_toolkits.mplot3d import Axes3D\n",
    "from matplotlib import cm\n",
    "import numpy as np\n",
    "from delfi.utils.viz import plot_pdf\n",
    "\n",
    "from delfi.simulator import Gauss\n",
    "\n",
    "from tqdm import tqdm_notebook as tqdm\n",
    "\n",
    "from parameters import ParameterSet\n",
    "\n",
    "%matplotlib inline"
   ]
  },
  {
   "cell_type": "code",
   "execution_count": null,
   "metadata": {
    "collapsed": true
   },
   "outputs": [],
   "source": [
    "class DividedPdf:\n",
    "    def __init__(self, a, b, norm_region):\n",
    "        self.a = a\n",
    "        self.b = b\n",
    "        \n",
    "        \n",
    "        self.ndim = self.a.ndim\n",
    "        \n",
    "        self.Z = 1\n",
    "        \n",
    "        xlist = np.linspace(norm_region[0], norm_region[1], 1000)\n",
    "        samples = self.eval(xlist.reshape(-1,1), log=False)\n",
    "        \n",
    "        dx = xlist[1] - xlist[0]\n",
    "        \n",
    "        mass = np.sum(samples) * dx\n",
    "        self.Z = mass\n",
    "        \n",
    "    def eval(self, samples, log=True):\n",
    "        ret = self.a.eval(samples, log=False) / self.b.eval(samples, log=False)\n",
    "        ret /= self.Z\n",
    "        if log:\n",
    "            return np.log(ret)\n",
    "        else:\n",
    "            return ret\n",
    "    \n",
    "class MultipliedPdf:\n",
    "    def __init__(self, a, b, norm_region):\n",
    "        self.a = a\n",
    "        self.b = b\n",
    "        \n",
    "        self.ndim = self.a.ndim\n",
    "        \n",
    "        self.Z = 1\n",
    "        \n",
    "        xlist = np.linspace(norm_region[0], norm_region[1], 1000)\n",
    "        samples = self.eval(xlist.reshape(-1,1), log=False)\n",
    "        \n",
    "        dx = xlist[1] - xlist[0]\n",
    "        \n",
    "        mass = np.sum(samples) * dx\n",
    "        self.Z = mass\n",
    "        \n",
    "    def eval(self, samples, ii=None, log=True):\n",
    "        ret = self.a.eval(samples, ii=ii, log=False) * self.b.eval(samples, ii=ii, log=False)\n",
    "        ret /= self.Z\n",
    "        if log:\n",
    "            return np.log(ret)\n",
    "        else:\n",
    "            return ret\n",
    "    \n",
    "def divide_dists(a, b, norm_region):\n",
    "    if isinstance(a, dd.Gaussian) and isinstance(b, dd.Gaussian):\n",
    "        return a / b\n",
    "    \n",
    "    return DividedPdf(a, b, norm_region)\n",
    "\n",
    "def multiply_dists(a, b, norm_region):\n",
    "    if isinstance(a, dd.Gaussian) and isinstance(b, dd.Gaussian):\n",
    "        return a * b\n",
    "    \n",
    "    return MultipliedPdf(a, b, norm_region)"
   ]
  },
  {
   "cell_type": "code",
   "execution_count": null,
   "metadata": {
    "collapsed": true
   },
   "outputs": [],
   "source": [
    "class BimodalGaussian(BaseSimulator):\n",
    "    def __init__(self, slope, noise_var, seed = None):\n",
    "        super().__init__(dim_param=1, seed=seed)\n",
    "        self.slope = slope\n",
    "        self.noise_var = noise_var\n",
    "        \n",
    "    def gen_single(self, params):\n",
    "        dist = self.get_likelihood(params)\n",
    "        sample = dist.gen(1).reshape(-1)\n",
    "        return { 'data' : sample }\n",
    "    \n",
    "    def get_likelihood(self, params):\n",
    "        return dd.MoG(a=[0.5, 0.5], ms=[self.slope * params, -self.slope * params], Ss = 2 * [np.eye(1) * self.noise_var])"
   ]
  },
  {
   "cell_type": "code",
   "execution_count": null,
   "metadata": {
    "collapsed": true
   },
   "outputs": [],
   "source": [
    "def run_panel(algo, params, seed=None):\n",
    "    if seed is None:\n",
    "        seed = params.seed\n",
    "        \n",
    "    m = BimodalGaussian(params.slope, params.noise_cov, seed=seed)\n",
    "    s = ds.Identity(1)\n",
    "    g = dg.Default(model=m, prior=params.prior, summary=s)\n",
    "    \n",
    "    kws = { 'generator' : g,\n",
    "            'obs' : [params.obs_stats],\n",
    "            'n_hiddens' : params.n_hiddens,\n",
    "            'seed' : seed,\n",
    "            'verbose' : True,\n",
    "            'reinit_weights' : True,\n",
    "            'svi' : False }\n",
    "    \n",
    "    run_kws = {}\n",
    "    if algo == 'DDELFI':\n",
    "        res = DDELFI(**kws, prior_mixin=0.1)\n",
    "    elif algo == 'SNPE':\n",
    "        res = infer.SNPE(**kws, convert_to_T=3)\n",
    "        run_kwargs = { 'round_cl' : 1000 }\n",
    "    elif algo == 'kSNPE':\n",
    "        res = infer.SNPE(**kws, convert_to_T=3)\n",
    "        run_kwargs = { 'round_cl' : 1000, 'kernel_loss' : 'x_kl' }\n",
    "    elif algo == 'CDELFI':\n",
    "        res = infer.CDELFI(**kws)\n",
    "    else:\n",
    "        raise NotImplemented(\"Unknown algorithm\")\n",
    "    \n",
    "    ret = res.run(n_train=params.n_train, n_rounds = params.n_rounds, **run_kws)\n",
    "\n",
    "    posteriors = ret[2]\n",
    "    return posteriors"
   ]
  },
  {
   "cell_type": "code",
   "execution_count": null,
   "metadata": {},
   "outputs": [],
   "source": [
    "params = ParameterSet({})\n",
    "\n",
    "params.seed = 399\n",
    "params.n_hiddens = [ 20 ] * 2\n",
    "\n",
    "params.noise_cov = 0.3\n",
    "\n",
    "params.n_train = 500\n",
    "params.n_rounds = 3\n",
    "\n",
    "params.prior_width = 5\n",
    "\n",
    "params.n_runs = 50\n",
    "\n",
    "params.slope = 1\n",
    "\n",
    "params.true_params = np.array([ 3 ])"
   ]
  },
  {
   "cell_type": "code",
   "execution_count": null,
   "metadata": {},
   "outputs": [],
   "source": [
    "params.prior = dd.Uniform(lower=-params.prior_width, upper=params.prior_width)\n",
    "\n",
    "params.obs_stats = params.true_params * params.slope\n",
    "\n",
    "params.gt = dd.MoG(a=[0.5,0.5], ms=[params.obs_stats / params.slope, -params.obs_stats / params.slope], \n",
    "                   Ss = 2 * [np.eye(1) * params.noise_cov])"
   ]
  },
  {
   "cell_type": "code",
   "execution_count": null,
   "metadata": {
    "collapsed": true
   },
   "outputs": [],
   "source": [
    "COL = { 'DDELFI' : 'orange', 'SNPE' : 'r', 'kSNPE' : 'g', 'CDELFI' : 'k' }"
   ]
  },
  {
   "cell_type": "code",
   "execution_count": null,
   "metadata": {
    "collapsed": true
   },
   "outputs": [],
   "source": [
    "def plot_row(data):\n",
    "    plt.figure(figsize=(16,5))\n",
    "    \n",
    "    algos = data.keys()\n",
    "    \n",
    "    xlist = np.linspace(-params.prior_width, params.prior_width, 200)\n",
    "    \n",
    "    for i, algo in enumerate(algos):\n",
    "        plt.subplot(1, len(algos), i + 1)\n",
    "        \n",
    "        for posterior in data[algo]:\n",
    "            if posterior is not None:\n",
    "                ylist = posterior.eval(xlist.reshape(-1,1), log=False)\n",
    "                ls = '--'\n",
    "\n",
    "                if posterior == data[algo][-1]:\n",
    "                    ls = None\n",
    "\n",
    "                plt.plot(xlist, ylist, color=COL[algo], linewidth=2, ls=ls)\n",
    "                \n",
    "        ax = plt.gca()\n",
    "        ax.set_title(algo)\n",
    "        ax.set_yticks([])\n",
    "        ax.axvline(params.true_params, color='gray', ls='--')\n",
    "        plt.xticks([params.true_params], ['$x_o$'])\n",
    "            \n",
    "        plt.legend()\n",
    "        \n",
    "    plt.show()\n",
    "        "
   ]
  },
  {
   "cell_type": "code",
   "execution_count": null,
   "metadata": {
    "scrolled": true
   },
   "outputs": [],
   "source": [
    "std_params = params\n",
    "\n",
    "algos = [ 'CDELFI', 'SNPE', 'kSNPE', 'DDELFI' ]\n",
    "out = { algo : [] for algo in algos }\n",
    "\n",
    "for r in range(params.n_runs):\n",
    "    for algo in algos:\n",
    "        out[algo].append(run_panel(algo, params, seed=params.seed + r))\n",
    "        \n",
    "    plot_row({ algo : out[algo][-1] for algo in algos })"
   ]
  },
  {
   "cell_type": "code",
   "execution_count": null,
   "metadata": {
    "collapsed": true
   },
   "outputs": [],
   "source": [
    "for r in range(params.n_runs):\n",
    "    plot_row({ algo : out[algo][-1] for algo in algos })"
   ]
  },
  {
   "cell_type": "code",
   "execution_count": null,
   "metadata": {
    "collapsed": true,
    "scrolled": false
   },
   "outputs": [],
   "source": [
    "for r, posterior in enumerate(posteriors[0:]):\n",
    "    plot_pdf(posterior, \n",
    "             lims=[-params.prior_width,params.prior_width],  \n",
    "             pdf2=params.gt,\n",
    "             gt=params.true_params, \n",
    "             figsize=(9,9));"
   ]
  },
  {
   "cell_type": "code",
   "execution_count": null,
   "metadata": {
    "collapsed": true,
    "scrolled": false
   },
   "outputs": [],
   "source": [
    "for pred in preds[1:]:\n",
    "    lhs = multiply_dists(pred['proposal'], pred['posterior'], (-params.prior_width * 5, params.prior_width * 5))\n",
    "    rhs = multiply_dists(pred['prior'], pred['qphi'], (-params.prior_width * 5, params.prior_width * 5))\n",
    "    \n",
    "    plot_pdf(lhs, \n",
    "             pdf2 = rhs,\n",
    "             lims=[-params.prior_width,params.prior_width],  \n",
    "             figsize=(9,9));"
   ]
  },
  {
   "cell_type": "code",
   "execution_count": null,
   "metadata": {
    "collapsed": true
   },
   "outputs": [],
   "source": [
    "pred = preds[-1]\n",
    "\n",
    "trainer = MoGTrainer(prop=pred['proposal'], \n",
    "                     prior=pred['prior'], \n",
    "                     qphi=pred['qphi'], \n",
    "                     n_components=params.n_comps, \n",
    "                     nsamples=10000)\n",
    "            \n",
    "trainer.train(nsteps=-1)\n",
    "            \n",
    "posterior = trainer.get_mog()"
   ]
  },
  {
   "cell_type": "code",
   "execution_count": null,
   "metadata": {
    "collapsed": true
   },
   "outputs": [],
   "source": [
    "plot_pdf(posterior, \n",
    "         pdf2 = params.gt,\n",
    "         lims=[-params.prior_width,params.prior_width],  \n",
    "         gt=params.true_params, \n",
    "         figsize=(9,9));"
   ]
  },
  {
   "cell_type": "code",
   "execution_count": null,
   "metadata": {
    "collapsed": true
   },
   "outputs": [],
   "source": []
  }
 ],
 "metadata": {
  "kernelspec": {
   "display_name": "Python 3",
   "language": "python",
   "name": "python3"
  },
  "language_info": {
   "codemirror_mode": {
    "name": "ipython",
    "version": 3
   },
   "file_extension": ".py",
   "mimetype": "text/x-python",
   "name": "python",
   "nbconvert_exporter": "python",
   "pygments_lexer": "ipython3",
   "version": "3.6.3"
  }
 },
 "nbformat": 4,
 "nbformat_minor": 2
}
