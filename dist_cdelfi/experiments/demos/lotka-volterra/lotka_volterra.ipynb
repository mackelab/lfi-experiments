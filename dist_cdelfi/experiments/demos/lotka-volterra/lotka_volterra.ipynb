{
 "cells": [
  {
   "cell_type": "code",
   "execution_count": 1,
   "metadata": {},
   "outputs": [
    {
     "name": "stderr",
     "output_type": "stream",
     "text": [
      "WARNING (theano.tensor.blas): Using NumPy C-API based implementation for BLAS functions.\n"
     ]
    }
   ],
   "source": [
    "import numpy as np\n",
    "from model import LotkaVolterraModel\n",
    "from summstats import LotkaVolterraStats\n",
    "\n",
    "import matplotlib.pyplot as plt\n",
    "\n",
    "import delfi.distribution as dd\n",
    "import delfi.generator as dg\n",
    "import delfi.inference as infer\n",
    "\n",
    "from parameters import ParameterSet"
   ]
  },
  {
   "cell_type": "code",
   "execution_count": 2,
   "metadata": {},
   "outputs": [],
   "source": [
    "params = ParameterSet({})\n",
    "\n",
    "params.seed = 42\n",
    "\n",
    "params.dt = 0.2\n",
    "params.T = 30\n",
    "\n",
    "params.logparam_limits = (-5,2)\n",
    "\n",
    "params.init = [50, 100]\n",
    "params.true_params = [0.01, 0.5, 1, 0.01]"
   ]
  },
  {
   "cell_type": "code",
   "execution_count": 3,
   "metadata": {},
   "outputs": [],
   "source": [
    "m = LotkaVolterraModel(dt=params.dt, T=params.T, seed=params.seed)\n",
    "p = dd.LogUniform(*np.exp(params.logparam_limits))\n",
    "s = LotkaVolterraStats()"
   ]
  },
  {
   "cell_type": "code",
   "execution_count": 9,
   "metadata": {},
   "outputs": [],
   "source": [
    "def plot_sample(m, theta, s=None):\n",
    "    fig = plt.figure()\n",
    "    \n",
    "    xlist = np.arange(0, m.T + m.dt, m.dt)\n",
    "    \n",
    "    sample = m.gen_single(theta)\n",
    "    states = sample['data'].T\n",
    "    \n",
    "    for var in states:\n",
    "        plt.plot(xlist, var)\n",
    "        \n",
    "    plt.show()\n",
    "    \n",
    "    if s is not None:\n",
    "        ...#print(s.calc(states.flatten()))\n",
    "    "
   ]
  },
  {
   "cell_type": "code",
   "execution_count": 10,
   "metadata": {},
   "outputs": [
    {
     "data": {
      "image/png": "[encoded data removed]",
      "text/plain": [
       "<matplotlib.figure.Figure at 0x7f95a8955b38>"
      ]
     },
     "metadata": {},
     "output_type": "display_data"
    }
   ],
   "source": [
    "for i in range(1):\n",
    "    theta = p.gen(n_samples=1)\n",
    "    plot_sample(m, theta, s)"
   ]
  },
  {
   "cell_type": "code",
   "execution_count": 11,
   "metadata": {},
   "outputs": [],
   "source": [
    "g = dg.Default(model=m, prior=p, summary=s)"
   ]
  },
  {
   "cell_type": "code",
   "execution_count": null,
   "metadata": {},
   "outputs": [],
   "source": [
    "res = infer.SNPE(g=g, xobs=params.obs_stats, )"
   ]
  }
 ],
 "metadata": {
  "kernelspec": {
   "display_name": "Python 3",
   "language": "python",
   "name": "python3"
  },
  "language_info": {
   "codemirror_mode": {
    "name": "ipython",
    "version": 3
   },
   "file_extension": ".py",
   "mimetype": "text/x-python",
   "name": "python",
   "nbconvert_exporter": "python",
   "pygments_lexer": "ipython3",
   "version": "3.5.2"
  }
 },
 "nbformat": 4,
 "nbformat_minor": 2
}
