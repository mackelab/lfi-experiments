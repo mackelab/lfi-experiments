{
 "cells": [
  {
   "cell_type": "code",
   "execution_count": 1,
   "metadata": {
    "collapsed": true,
    "scrolled": true
   },
   "outputs": [],
   "source": [
    "%%capture\n",
    "import delfi.distribution as dd\n",
    "import delfi.utils.io as io\n",
    "import numpy as np\n",
    "import pickle\n",
    "\n",
    "import delfi.inference as infer\n",
    "import delfi.generator as dg\n",
    "from delfi.simulator import GaussMixture\n",
    "import delfi.summarystats as ds\n",
    "\n",
    "%run -i ../DDELFI.py\n",
    "\n",
    "def run_panel_b(algo, seed, rounds=5, n_train=[200, 1000], reinit_weights=False, return_abs=False):\n",
    "    n_params = 1\n",
    "    m = GaussMixture(dim=n_params, bimodal=True, return_abs=return_abs, noise_cov=[1.0, 1.0], seed=seed)\n",
    "    p = dd.Uniform(lower=[-10], upper=[10], seed=seed)\n",
    "    s = ds.Identity()\n",
    "    g = dg.Default(model=m, prior=p, summary=s)\n",
    "\n",
    "    obs = np.array([[5.]])\n",
    "    kwargs = {'generator': g, \n",
    "              'reg_lambda': 0.01,\n",
    "              'n_components': 2, \n",
    "              'n_hiddens': [20], \n",
    "              'verbose' : True,\n",
    "              'obs': obs.copy(),\n",
    "              'seed': seed}\n",
    "    \n",
    "    cbk_feature_layer=0\n",
    "    \n",
    "    train = []\n",
    "    for r in range(rounds):\n",
    "        train.append(n_train[0])\n",
    "    train[-1] = n_train[-1]\n",
    "\n",
    "    \n",
    "    round_cl=999\n",
    "    minibatch=100\n",
    "    n_gradients = 100000\n",
    "    epochs = [n_gradients // (n_train//minibatch) for n_train in train]\n",
    "    \n",
    "    optim_data = None\n",
    "    print('n_train :', train)\n",
    "    print('epochs :', epochs)\n",
    "    \n",
    "    if algo == 'CDELFI':\n",
    "        inf = infer.CDELFI(**kwargs)\n",
    "        log, train_data, posteriors = inf.run(n_train=train,\n",
    "                                              minibatch=minibatch,         \n",
    "                                              n_rounds=len(train),\n",
    "                                              epochs=epochs)\n",
    "    elif algo == 'SNPE':\n",
    "        inf = infer.SNPE(**kwargs,convert_to_T=None, reinit_weights=reinit_weights)\n",
    "        log, train_data, posteriors = inf.run(n_train=train,\n",
    "                                              minibatch=minibatch,                                              \n",
    "                                              n_rounds=len(train),\n",
    "                                              epochs=epochs, \n",
    "                                              round_cl=round_cl)        \n",
    "    elif algo == 'kSNPE':\n",
    "        inf = infer.SNPE(**kwargs,convert_to_T=None, reinit_weights=reinit_weights)\n",
    "        log, train_data, posteriors = inf.run(n_train=train,\n",
    "                                              minibatch=minibatch,                                              \n",
    "                                              n_rounds=len(train),\n",
    "                                              epochs=epochs, \n",
    "                                              kernel_loss='x_kl', \n",
    "                                              cbk_feature_layer=cbk_feature_layer,\n",
    "                                              round_cl=round_cl)       \n",
    "    elif algo == 'DDELFI':\n",
    "        inf = DDELFI(**kwargs, prior_mixin=0.1, reinit_weights=reinit_weights)\n",
    "        log, train_data, posteriors, optim_data = inf.run(n_train=train,\n",
    "                                              minibatch=minibatch,                                              \n",
    "                                              n_rounds=len(train),\n",
    "                                              epochs=epochs)       \n",
    "    else:\n",
    "        raise ValueError\n",
    "        \n",
    "    try:\n",
    "        posterior = inf.predict(obs)\n",
    "    except:\n",
    "        posterior = None\n",
    "    \n",
    "    return {'algo': algo,\n",
    "            'rounds': rounds,\n",
    "            'seed': seed,\n",
    "            'posterior': posterior,\n",
    "            'log': log,\n",
    "            'obs' : obs, \n",
    "            'train_data': train_data,\n",
    "            'posteriors': posteriors,\n",
    "            'network' : inf.network,\n",
    "            'stats_std' : inf.stats_std,\n",
    "            'stats_mean' : inf.stats_mean,\n",
    "            'optim_data' : optim_data,\n",
    "            'cbk_feature_layer' : cbk_feature_layer\n",
    "           }\n"
   ]
  },
  {
   "cell_type": "code",
   "execution_count": null,
   "metadata": {},
   "outputs": [
    {
     "data": {
      "application/vnd.jupyter.widget-view+json": {
       "model_id": "599d006c436c43d7bcb284293b051d14",
       "version_major": 2,
       "version_minor": 0
      },
      "text/plain": [
       "A Jupyter Widget"
      ]
     },
     "metadata": {},
     "output_type": "display_data"
    },
    {
     "name": "stdout",
     "output_type": "stream",
     "text": [
      "\n"
     ]
    },
    {
     "data": {
      "application/vnd.jupyter.widget-view+json": {
       "model_id": "d08949ce52d241bb9e2ffe167700555d",
       "version_major": 2,
       "version_minor": 0
      },
      "text/plain": [
       "A Jupyter Widget"
      ]
     },
     "metadata": {},
     "output_type": "display_data"
    },
    {
     "name": "stdout",
     "output_type": "stream",
     "text": [
      "\n"
     ]
    },
    {
     "data": {
      "application/vnd.jupyter.widget-view+json": {
       "model_id": "60ff67aec1b244df8b82a32317fa2dc0",
       "version_major": 2,
       "version_minor": 0
      },
      "text/plain": [
       "A Jupyter Widget"
      ]
     },
     "metadata": {},
     "output_type": "display_data"
    },
    {
     "name": "stdout",
     "output_type": "stream",
     "text": [
      "\n"
     ]
    },
    {
     "data": {
      "application/vnd.jupyter.widget-view+json": {
       "model_id": "50d25a9425754ea98237da0fc6d50472",
       "version_major": 2,
       "version_minor": 0
      },
      "text/plain": [
       "A Jupyter Widget"
      ]
     },
     "metadata": {},
     "output_type": "display_data"
    },
    {
     "name": "stdout",
     "output_type": "stream",
     "text": [
      "\n"
     ]
    },
    {
     "data": {
      "image/png": "[encoded data removed]",
      "text/plain": [
       "<matplotlib.figure.Figure at 0x1c1dd7dbe0>"
      ]
     },
     "metadata": {},
     "output_type": "display_data"
    }
   ],
   "source": [
    "%matplotlib inline\n",
    "import matplotlib.pyplot as plt\n",
    "\n",
    "p_true = dd.MoG(a=[0.5, 0.5], ms=[np.asarray([5.]), np.asarray([-5.])], Ss=[1.0*np.eye(1), 1.0*np.eye(1)])\n",
    "seed=42\n",
    "\n",
    "return_abs = True\n",
    "\n",
    "m = GaussMixture(dim=1, bimodal=True, return_abs=return_abs, noise_cov=[1.0, 1.0], seed=seed)\n",
    "p = dd.Uniform(lower=[-10], upper=[10], seed=seed)\n",
    "s = ds.Identity()\n",
    "g = dg.Default(model=m, prior=p, summary=s)\n",
    "trn_data = g.gen(1000)\n",
    "plt.subplot(1,2,1)\n",
    "plt.plot(trn_data[1], trn_data[0], '.')\n",
    "\n",
    "m = GaussMixture(dim=1, bimodal=True, return_abs=return_abs, noise_cov=[1.0, 1.0], seed=seed)\n",
    "p = p_true\n",
    "s = ds.Identity()\n",
    "g = dg.Default(model=m, prior=p, summary=s)\n",
    "trn_data = g.gen(1000)\n",
    "plt.subplot(1,2,2)\n",
    "plt.plot(trn_data[1], trn_data[0], '.')\n",
    "\n",
    "plt.show()"
   ]
  },
  {
   "cell_type": "code",
   "execution_count": null,
   "metadata": {
    "scrolled": false
   },
   "outputs": [
    {
     "name": "stdout",
     "output_type": "stream",
     "text": [
      "n_train : [400, 400, 1000]\n",
      "epochs : [25000, 25000, 10000]\n"
     ]
    },
    {
     "data": {
      "application/vnd.jupyter.widget-view+json": {
       "model_id": "0fb12c8271e34cc796bf2fa2db882b74",
       "version_major": 2,
       "version_minor": 0
      },
      "text/plain": [
       "A Jupyter Widget"
      ]
     },
     "metadata": {},
     "output_type": "display_data"
    },
    {
     "name": "stdout",
     "output_type": "stream",
     "text": [
      "\n"
     ]
    },
    {
     "data": {
      "application/vnd.jupyter.widget-view+json": {
       "model_id": "b595eabf65e44b3e802ac21102727449",
       "version_major": 2,
       "version_minor": 0
      },
      "text/plain": [
       "A Jupyter Widget"
      ]
     },
     "metadata": {},
     "output_type": "display_data"
    },
    {
     "name": "stdout",
     "output_type": "stream",
     "text": [
      "\n"
     ]
    },
    {
     "data": {
      "application/vnd.jupyter.widget-view+json": {
       "model_id": "25021d1706a441e9a8d976f78fa8f287",
       "version_major": 2,
       "version_minor": 0
      },
      "text/plain": [
       "A Jupyter Widget"
      ]
     },
     "metadata": {},
     "output_type": "display_data"
    },
    {
     "name": "stdout",
     "output_type": "stream",
     "text": [
      "\n"
     ]
    },
    {
     "data": {
      "application/vnd.jupyter.widget-view+json": {
       "model_id": "012b6896cffe4db4917c8227fc60c7fa",
       "version_major": 2,
       "version_minor": 0
      },
      "text/plain": [
       "A Jupyter Widget"
      ]
     },
     "metadata": {},
     "output_type": "display_data"
    },
    {
     "name": "stdout",
     "output_type": "stream",
     "text": [
      "\n"
     ]
    },
    {
     "data": {
      "application/vnd.jupyter.widget-view+json": {
       "model_id": "5e7fe226d2bd4c30a3d2bde4a3b2fef2",
       "version_major": 2,
       "version_minor": 0
      },
      "text/plain": [
       "A Jupyter Widget"
      ]
     },
     "metadata": {},
     "output_type": "display_data"
    },
    {
     "name": "stdout",
     "output_type": "stream",
     "text": [
      "\n"
     ]
    },
    {
     "data": {
      "application/vnd.jupyter.widget-view+json": {
       "model_id": "86b8eac5be334c0c9b5f74f975bfdd31",
       "version_major": 2,
       "version_minor": 0
      },
      "text/plain": [
       "A Jupyter Widget"
      ]
     },
     "metadata": {},
     "output_type": "display_data"
    },
    {
     "name": "stdout",
     "output_type": "stream",
     "text": [
      "\n"
     ]
    },
    {
     "data": {
      "application/vnd.jupyter.widget-view+json": {
       "model_id": "20c964085f584c1488882dde8fd04416",
       "version_major": 2,
       "version_minor": 0
      },
      "text/plain": [
       "A Jupyter Widget"
      ]
     },
     "metadata": {},
     "output_type": "display_data"
    },
    {
     "name": "stdout",
     "output_type": "stream",
     "text": [
      "\n"
     ]
    },
    {
     "data": {
      "application/vnd.jupyter.widget-view+json": {
       "model_id": "152b75411f454e88b966efca6f44e187",
       "version_major": 2,
       "version_minor": 0
      },
      "text/plain": [
       "A Jupyter Widget"
      ]
     },
     "metadata": {},
     "output_type": "display_data"
    },
    {
     "name": "stderr",
     "output_type": "stream",
     "text": [
      "loss=[ 0.00724673]: : 14it [00:00, 108.90it/s]"
     ]
    },
    {
     "name": "stdout",
     "output_type": "stream",
     "text": [
      "\n"
     ]
    },
    {
     "name": "stderr",
     "output_type": "stream",
     "text": [
      "loss=[-0.00721526]: : 1123it [00:08, 138.18it/s]\n"
     ]
    },
    {
     "data": {
      "application/vnd.jupyter.widget-view+json": {
       "model_id": "8e7302c5be1844ab8c45dca3a7f2e812",
       "version_major": 2,
       "version_minor": 0
      },
      "text/plain": [
       "A Jupyter Widget"
      ]
     },
     "metadata": {},
     "output_type": "display_data"
    },
    {
     "name": "stdout",
     "output_type": "stream",
     "text": [
      "\n"
     ]
    },
    {
     "data": {
      "application/vnd.jupyter.widget-view+json": {
       "model_id": "43193dd59ef343198e7e77652a1ea14c",
       "version_major": 2,
       "version_minor": 0
      },
      "text/plain": [
       "A Jupyter Widget"
      ]
     },
     "metadata": {},
     "output_type": "display_data"
    },
    {
     "name": "stdout",
     "output_type": "stream",
     "text": [
      "\n"
     ]
    },
    {
     "data": {
      "application/vnd.jupyter.widget-view+json": {
       "model_id": "07aa6991475a4f9ea391d42a0d1555e1",
       "version_major": 2,
       "version_minor": 0
      },
      "text/plain": [
       "A Jupyter Widget"
      ]
     },
     "metadata": {},
     "output_type": "display_data"
    },
    {
     "name": "stderr",
     "output_type": "stream",
     "text": [
      "loss=[ 0.00243092]: : 14it [00:00, 82.58it/s] "
     ]
    },
    {
     "name": "stdout",
     "output_type": "stream",
     "text": [
      "\n"
     ]
    },
    {
     "name": "stderr",
     "output_type": "stream",
     "text": [
      "loss=[-0.00987196]: : 1106it [00:07, 157.87it/s]  \n"
     ]
    },
    {
     "data": {
      "image/png": "[encoded data removed]",
      "text/plain": [
       "<matplotlib.figure.Figure at 0x112a8f780>"
      ]
     },
     "metadata": {},
     "output_type": "display_data"
    },
    {
     "name": "stdout",
     "output_type": "stream",
     "text": [
      "n_train : [400, 400, 1000]\n",
      "epochs : [25000, 25000, 10000]\n"
     ]
    },
    {
     "data": {
      "application/vnd.jupyter.widget-view+json": {
       "model_id": "ecf8ec3171e1470fb9c0ab5b49e75a29",
       "version_major": 2,
       "version_minor": 0
      },
      "text/plain": [
       "A Jupyter Widget"
      ]
     },
     "metadata": {},
     "output_type": "display_data"
    },
    {
     "name": "stdout",
     "output_type": "stream",
     "text": [
      "\n"
     ]
    },
    {
     "data": {
      "application/vnd.jupyter.widget-view+json": {
       "model_id": "493c208d653f4719be1cec525b0b0abb",
       "version_major": 2,
       "version_minor": 0
      },
      "text/plain": [
       "A Jupyter Widget"
      ]
     },
     "metadata": {},
     "output_type": "display_data"
    },
    {
     "name": "stdout",
     "output_type": "stream",
     "text": [
      "\n"
     ]
    },
    {
     "data": {
      "application/vnd.jupyter.widget-view+json": {
       "model_id": "152050490b36409cb9955a0d8d9455ff",
       "version_major": 2,
       "version_minor": 0
      },
      "text/plain": [
       "A Jupyter Widget"
      ]
     },
     "metadata": {},
     "output_type": "display_data"
    },
    {
     "name": "stdout",
     "output_type": "stream",
     "text": [
      "\n"
     ]
    },
    {
     "data": {
      "application/vnd.jupyter.widget-view+json": {
       "model_id": "7a398b431e6b42e39521e5a0453bf2f6",
       "version_major": 2,
       "version_minor": 0
      },
      "text/plain": [
       "A Jupyter Widget"
      ]
     },
     "metadata": {},
     "output_type": "display_data"
    },
    {
     "name": "stdout",
     "output_type": "stream",
     "text": [
      "\n"
     ]
    },
    {
     "data": {
      "application/vnd.jupyter.widget-view+json": {
       "model_id": "6b4b7ef113ee473a8b3ea963ddf28603",
       "version_major": 2,
       "version_minor": 0
      },
      "text/plain": [
       "A Jupyter Widget"
      ]
     },
     "metadata": {},
     "output_type": "display_data"
    },
    {
     "name": "stdout",
     "output_type": "stream",
     "text": [
      "\n"
     ]
    },
    {
     "data": {
      "application/vnd.jupyter.widget-view+json": {
       "model_id": "b222275b03934d9ba3d0a1ebf3d17084",
       "version_major": 2,
       "version_minor": 0
      },
      "text/plain": [
       "A Jupyter Widget"
      ]
     },
     "metadata": {},
     "output_type": "display_data"
    },
    {
     "name": "stdout",
     "output_type": "stream",
     "text": [
      "\n"
     ]
    },
    {
     "data": {
      "application/vnd.jupyter.widget-view+json": {
       "model_id": "448cb0a1a3b045d2806c5fc4adaf1e72",
       "version_major": 2,
       "version_minor": 0
      },
      "text/plain": [
       "A Jupyter Widget"
      ]
     },
     "metadata": {},
     "output_type": "display_data"
    },
    {
     "name": "stdout",
     "output_type": "stream",
     "text": [
      "\n"
     ]
    },
    {
     "data": {
      "application/vnd.jupyter.widget-view+json": {
       "model_id": "4b1e7f6539f3483fab3975191a373234",
       "version_major": 2,
       "version_minor": 0
      },
      "text/plain": [
       "A Jupyter Widget"
      ]
     },
     "metadata": {},
     "output_type": "display_data"
    },
    {
     "name": "stderr",
     "output_type": "stream",
     "text": [
      "loss=[ 0.02884388]: : 14it [00:00, 93.73it/s] "
     ]
    },
    {
     "name": "stdout",
     "output_type": "stream",
     "text": [
      "\n"
     ]
    },
    {
     "name": "stderr",
     "output_type": "stream",
     "text": [
      "loss=[ 0.01250339]: : 1067it [00:06, 155.63it/s]\n"
     ]
    },
    {
     "data": {
      "application/vnd.jupyter.widget-view+json": {
       "model_id": "aaf593c1d5364f218cc69b9edc9acf39",
       "version_major": 2,
       "version_minor": 0
      },
      "text/plain": [
       "A Jupyter Widget"
      ]
     },
     "metadata": {},
     "output_type": "display_data"
    },
    {
     "name": "stdout",
     "output_type": "stream",
     "text": [
      "\n"
     ]
    },
    {
     "data": {
      "application/vnd.jupyter.widget-view+json": {
       "model_id": "75bf24df0dbb441581a06246af430ed7",
       "version_major": 2,
       "version_minor": 0
      },
      "text/plain": [
       "A Jupyter Widget"
      ]
     },
     "metadata": {},
     "output_type": "display_data"
    },
    {
     "name": "stdout",
     "output_type": "stream",
     "text": [
      "\n"
     ]
    },
    {
     "data": {
      "application/vnd.jupyter.widget-view+json": {
       "model_id": "fe7416e3b48f47c2994f791c7e22098b",
       "version_major": 2,
       "version_minor": 0
      },
      "text/plain": [
       "A Jupyter Widget"
      ]
     },
     "metadata": {},
     "output_type": "display_data"
    },
    {
     "name": "stderr",
     "output_type": "stream",
     "text": [
      "loss=[-0.01104116]: : 15it [00:00, 103.67it/s]"
     ]
    },
    {
     "name": "stdout",
     "output_type": "stream",
     "text": [
      "\n"
     ]
    },
    {
     "name": "stderr",
     "output_type": "stream",
     "text": [
      "loss=[-0.01302958]: : 1094it [00:07, 153.04it/s]\n"
     ]
    },
    {
     "data": {
      "image/png": "[encoded data removed]",
      "text/plain": [
       "<matplotlib.figure.Figure at 0x1c2537f7f0>"
      ]
     },
     "metadata": {},
     "output_type": "display_data"
    },
    {
     "name": "stdout",
     "output_type": "stream",
     "text": [
      "n_train : [400, 400, 1000]\n",
      "epochs : [25000, 25000, 10000]\n"
     ]
    },
    {
     "data": {
      "application/vnd.jupyter.widget-view+json": {
       "model_id": "99111f39903c494aa30a6ac16e067465",
       "version_major": 2,
       "version_minor": 0
      },
      "text/plain": [
       "A Jupyter Widget"
      ]
     },
     "metadata": {},
     "output_type": "display_data"
    },
    {
     "name": "stdout",
     "output_type": "stream",
     "text": [
      "\n"
     ]
    },
    {
     "data": {
      "application/vnd.jupyter.widget-view+json": {
       "model_id": "535ccda42a36491e9d49e98e9d43d9a2",
       "version_major": 2,
       "version_minor": 0
      },
      "text/plain": [
       "A Jupyter Widget"
      ]
     },
     "metadata": {},
     "output_type": "display_data"
    },
    {
     "name": "stdout",
     "output_type": "stream",
     "text": [
      "\n"
     ]
    },
    {
     "data": {
      "application/vnd.jupyter.widget-view+json": {
       "model_id": "cdf629ae892245c48132640118c4054c",
       "version_major": 2,
       "version_minor": 0
      },
      "text/plain": [
       "A Jupyter Widget"
      ]
     },
     "metadata": {},
     "output_type": "display_data"
    },
    {
     "name": "stdout",
     "output_type": "stream",
     "text": [
      "\n"
     ]
    },
    {
     "data": {
      "application/vnd.jupyter.widget-view+json": {
       "model_id": "cb2cbdd1586a4e599bee6b029f4c690e",
       "version_major": 2,
       "version_minor": 0
      },
      "text/plain": [
       "A Jupyter Widget"
      ]
     },
     "metadata": {},
     "output_type": "display_data"
    },
    {
     "name": "stdout",
     "output_type": "stream",
     "text": [
      "\n"
     ]
    },
    {
     "data": {
      "application/vnd.jupyter.widget-view+json": {
       "model_id": "cc8240dab1334e95acce381b97d05bf2",
       "version_major": 2,
       "version_minor": 0
      },
      "text/plain": [
       "A Jupyter Widget"
      ]
     },
     "metadata": {},
     "output_type": "display_data"
    },
    {
     "name": "stdout",
     "output_type": "stream",
     "text": [
      "\n"
     ]
    },
    {
     "data": {
      "application/vnd.jupyter.widget-view+json": {
       "model_id": "b9c61802432e4d1fa0cbbbc84b8f4015",
       "version_major": 2,
       "version_minor": 0
      },
      "text/plain": [
       "A Jupyter Widget"
      ]
     },
     "metadata": {},
     "output_type": "display_data"
    },
    {
     "name": "stdout",
     "output_type": "stream",
     "text": [
      "\n"
     ]
    },
    {
     "data": {
      "application/vnd.jupyter.widget-view+json": {
       "model_id": "d64ab0c25f004e628e79320db48afec8",
       "version_major": 2,
       "version_minor": 0
      },
      "text/plain": [
       "A Jupyter Widget"
      ]
     },
     "metadata": {},
     "output_type": "display_data"
    },
    {
     "name": "stdout",
     "output_type": "stream",
     "text": [
      "\n"
     ]
    },
    {
     "data": {
      "application/vnd.jupyter.widget-view+json": {
       "model_id": "51f21ef6433a43539d0c20cd2749e65b",
       "version_major": 2,
       "version_minor": 0
      },
      "text/plain": [
       "A Jupyter Widget"
      ]
     },
     "metadata": {},
     "output_type": "display_data"
    },
    {
     "name": "stderr",
     "output_type": "stream",
     "text": [
      "loss=[ 0.70765448]: : 15it [00:00, 91.78it/s] "
     ]
    },
    {
     "name": "stdout",
     "output_type": "stream",
     "text": [
      "\n"
     ]
    },
    {
     "name": "stderr",
     "output_type": "stream",
     "text": [
      "loss=[ 0.32586527]: : 1111it [00:07, 148.69it/s]\n"
     ]
    },
    {
     "data": {
      "application/vnd.jupyter.widget-view+json": {
       "model_id": "c0299896e4c641a19b0e98a5dac29cba",
       "version_major": 2,
       "version_minor": 0
      },
      "text/plain": [
       "A Jupyter Widget"
      ]
     },
     "metadata": {},
     "output_type": "display_data"
    },
    {
     "name": "stdout",
     "output_type": "stream",
     "text": [
      "\n"
     ]
    },
    {
     "data": {
      "application/vnd.jupyter.widget-view+json": {
       "model_id": "01a4ace26aa94f47a559e683b169e6e1",
       "version_major": 2,
       "version_minor": 0
      },
      "text/plain": [
       "A Jupyter Widget"
      ]
     },
     "metadata": {},
     "output_type": "display_data"
    },
    {
     "name": "stdout",
     "output_type": "stream",
     "text": [
      "\n"
     ]
    },
    {
     "data": {
      "application/vnd.jupyter.widget-view+json": {
       "model_id": "b75b2e09237b45c7abf41e196c8ea266",
       "version_major": 2,
       "version_minor": 0
      },
      "text/plain": [
       "A Jupyter Widget"
      ]
     },
     "metadata": {},
     "output_type": "display_data"
    },
    {
     "name": "stderr",
     "output_type": "stream",
     "text": [
      "loss=[ 0.2077136]: : 17it [00:00, 99.26it/s]  "
     ]
    },
    {
     "name": "stdout",
     "output_type": "stream",
     "text": [
      "\n"
     ]
    },
    {
     "name": "stderr",
     "output_type": "stream",
     "text": [
      "loss=[ 0.07684684]: : 1258it [00:07, 159.10it/s]\n"
     ]
    },
    {
     "data": {
      "image/png": "[encoded data removed]",
      "text/plain": [
       "<matplotlib.figure.Figure at 0x1c2a77bb00>"
      ]
     },
     "metadata": {},
     "output_type": "display_data"
    },
    {
     "name": "stdout",
     "output_type": "stream",
     "text": [
      "n_train : [400, 400, 1000]\n",
      "epochs : [25000, 25000, 10000]\n"
     ]
    },
    {
     "data": {
      "application/vnd.jupyter.widget-view+json": {
       "model_id": "f335345afd8f47f289a3dacf429b9ec9",
       "version_major": 2,
       "version_minor": 0
      },
      "text/plain": [
       "A Jupyter Widget"
      ]
     },
     "metadata": {},
     "output_type": "display_data"
    },
    {
     "name": "stdout",
     "output_type": "stream",
     "text": [
      "\n"
     ]
    },
    {
     "data": {
      "application/vnd.jupyter.widget-view+json": {
       "model_id": "1925588ed8364621b5c3330a8fee718a",
       "version_major": 2,
       "version_minor": 0
      },
      "text/plain": [
       "A Jupyter Widget"
      ]
     },
     "metadata": {},
     "output_type": "display_data"
    },
    {
     "name": "stdout",
     "output_type": "stream",
     "text": [
      "\n"
     ]
    },
    {
     "data": {
      "application/vnd.jupyter.widget-view+json": {
       "model_id": "6a60d144e7f848a484b34ffcb2007793",
       "version_major": 2,
       "version_minor": 0
      },
      "text/plain": [
       "A Jupyter Widget"
      ]
     },
     "metadata": {},
     "output_type": "display_data"
    },
    {
     "name": "stdout",
     "output_type": "stream",
     "text": [
      "\n"
     ]
    },
    {
     "data": {
      "application/vnd.jupyter.widget-view+json": {
       "model_id": "9261e9b6d0a24b549c52d247e89fc445",
       "version_major": 2,
       "version_minor": 0
      },
      "text/plain": [
       "A Jupyter Widget"
      ]
     },
     "metadata": {},
     "output_type": "display_data"
    },
    {
     "name": "stdout",
     "output_type": "stream",
     "text": [
      "\n"
     ]
    },
    {
     "data": {
      "application/vnd.jupyter.widget-view+json": {
       "model_id": "e3bb4a3c961845d1838fcebf5ebc7a54",
       "version_major": 2,
       "version_minor": 0
      },
      "text/plain": [
       "A Jupyter Widget"
      ]
     },
     "metadata": {},
     "output_type": "display_data"
    },
    {
     "name": "stdout",
     "output_type": "stream",
     "text": [
      "\n"
     ]
    },
    {
     "data": {
      "application/vnd.jupyter.widget-view+json": {
       "model_id": "c77ec247c9834dd08454071173705180",
       "version_major": 2,
       "version_minor": 0
      },
      "text/plain": [
       "A Jupyter Widget"
      ]
     },
     "metadata": {},
     "output_type": "display_data"
    },
    {
     "name": "stdout",
     "output_type": "stream",
     "text": [
      "\n"
     ]
    },
    {
     "data": {
      "application/vnd.jupyter.widget-view+json": {
       "model_id": "f457a289842140a8892a1a88d56208d0",
       "version_major": 2,
       "version_minor": 0
      },
      "text/plain": [
       "A Jupyter Widget"
      ]
     },
     "metadata": {},
     "output_type": "display_data"
    },
    {
     "name": "stdout",
     "output_type": "stream",
     "text": [
      "\n"
     ]
    },
    {
     "data": {
      "application/vnd.jupyter.widget-view+json": {
       "model_id": "c9dcd5d390a84b6b956dbcf148e57699",
       "version_major": 2,
       "version_minor": 0
      },
      "text/plain": [
       "A Jupyter Widget"
      ]
     },
     "metadata": {},
     "output_type": "display_data"
    },
    {
     "name": "stderr",
     "output_type": "stream",
     "text": [
      "loss=[-0.00544381]: : 15it [00:00, 88.22it/s] "
     ]
    },
    {
     "name": "stdout",
     "output_type": "stream",
     "text": [
      "\n"
     ]
    },
    {
     "name": "stderr",
     "output_type": "stream",
     "text": [
      "loss=[-0.00556231]: : 1070it [00:07, 140.96it/s]\n"
     ]
    },
    {
     "data": {
      "application/vnd.jupyter.widget-view+json": {
       "model_id": "09a0ea6c8573434c9d0440ad28f4aa89",
       "version_major": 2,
       "version_minor": 0
      },
      "text/plain": [
       "A Jupyter Widget"
      ]
     },
     "metadata": {},
     "output_type": "display_data"
    },
    {
     "name": "stdout",
     "output_type": "stream",
     "text": [
      "\n"
     ]
    },
    {
     "data": {
      "application/vnd.jupyter.widget-view+json": {
       "model_id": "351980f1eaa644f59b481b4fac147290",
       "version_major": 2,
       "version_minor": 0
      },
      "text/plain": [
       "A Jupyter Widget"
      ]
     },
     "metadata": {},
     "output_type": "display_data"
    },
    {
     "name": "stdout",
     "output_type": "stream",
     "text": [
      "\n"
     ]
    },
    {
     "data": {
      "application/vnd.jupyter.widget-view+json": {
       "model_id": "5ea008374fb54e5f805356b399717e3a",
       "version_major": 2,
       "version_minor": 0
      },
      "text/plain": [
       "A Jupyter Widget"
      ]
     },
     "metadata": {},
     "output_type": "display_data"
    },
    {
     "name": "stderr",
     "output_type": "stream",
     "text": [
      "loss=[ 0.0541532]: : 15it [00:00, 89.25it/s]  "
     ]
    },
    {
     "name": "stdout",
     "output_type": "stream",
     "text": [
      "\n"
     ]
    },
    {
     "name": "stderr",
     "output_type": "stream",
     "text": [
      "loss=[ 0.02856636]: : 1132it [00:08, 129.62it/s]\n"
     ]
    },
    {
     "data": {
      "image/png": "[encoded data removed]",
      "text/plain": [
       "<matplotlib.figure.Figure at 0x1c2a091c18>"
      ]
     },
     "metadata": {},
     "output_type": "display_data"
    },
    {
     "name": "stdout",
     "output_type": "stream",
     "text": [
      "n_train : [400, 400, 1000]\n",
      "epochs : [25000, 25000, 10000]\n"
     ]
    },
    {
     "data": {
      "application/vnd.jupyter.widget-view+json": {
       "model_id": "5829766e6ac94290a215f5e6dc787983",
       "version_major": 2,
       "version_minor": 0
      },
      "text/plain": [
       "A Jupyter Widget"
      ]
     },
     "metadata": {},
     "output_type": "display_data"
    },
    {
     "name": "stdout",
     "output_type": "stream",
     "text": [
      "\n"
     ]
    },
    {
     "data": {
      "application/vnd.jupyter.widget-view+json": {
       "model_id": "004f649a7dfc45f5a73d193a6ab9072a",
       "version_major": 2,
       "version_minor": 0
      },
      "text/plain": [
       "A Jupyter Widget"
      ]
     },
     "metadata": {},
     "output_type": "display_data"
    },
    {
     "name": "stdout",
     "output_type": "stream",
     "text": [
      "\n"
     ]
    },
    {
     "data": {
      "application/vnd.jupyter.widget-view+json": {
       "model_id": "59b3626337c04202958560165c0bd2df",
       "version_major": 2,
       "version_minor": 0
      },
      "text/plain": [
       "A Jupyter Widget"
      ]
     },
     "metadata": {},
     "output_type": "display_data"
    },
    {
     "name": "stdout",
     "output_type": "stream",
     "text": [
      "\n"
     ]
    },
    {
     "data": {
      "application/vnd.jupyter.widget-view+json": {
       "model_id": "901e3fe60a684badab16449701b16e98",
       "version_major": 2,
       "version_minor": 0
      },
      "text/plain": [
       "A Jupyter Widget"
      ]
     },
     "metadata": {},
     "output_type": "display_data"
    },
    {
     "name": "stdout",
     "output_type": "stream",
     "text": [
      "\n"
     ]
    },
    {
     "data": {
      "application/vnd.jupyter.widget-view+json": {
       "model_id": "02395544722243778dc945dfed5ed419",
       "version_major": 2,
       "version_minor": 0
      },
      "text/plain": [
       "A Jupyter Widget"
      ]
     },
     "metadata": {},
     "output_type": "display_data"
    },
    {
     "name": "stdout",
     "output_type": "stream",
     "text": [
      "\n"
     ]
    },
    {
     "data": {
      "application/vnd.jupyter.widget-view+json": {
       "model_id": "ba7f39f0d2994fdd8351b842b9a27ae5",
       "version_major": 2,
       "version_minor": 0
      },
      "text/plain": [
       "A Jupyter Widget"
      ]
     },
     "metadata": {},
     "output_type": "display_data"
    },
    {
     "name": "stdout",
     "output_type": "stream",
     "text": [
      "\n"
     ]
    },
    {
     "data": {
      "application/vnd.jupyter.widget-view+json": {
       "model_id": "35f7af0058094c63919d0d439bfdac6f",
       "version_major": 2,
       "version_minor": 0
      },
      "text/plain": [
       "A Jupyter Widget"
      ]
     },
     "metadata": {},
     "output_type": "display_data"
    },
    {
     "name": "stdout",
     "output_type": "stream",
     "text": [
      "\n"
     ]
    },
    {
     "data": {
      "application/vnd.jupyter.widget-view+json": {
       "model_id": "548acc683f2045588272fb1f9686725f",
       "version_major": 2,
       "version_minor": 0
      },
      "text/plain": [
       "A Jupyter Widget"
      ]
     },
     "metadata": {},
     "output_type": "display_data"
    },
    {
     "name": "stderr",
     "output_type": "stream",
     "text": [
      "loss=[ 0.04461908]: : 17it [00:00, 101.44it/s]"
     ]
    },
    {
     "name": "stdout",
     "output_type": "stream",
     "text": [
      "\n"
     ]
    },
    {
     "name": "stderr",
     "output_type": "stream",
     "text": [
      "loss=[ 0.0283165]: : 1109it [00:07, 146.56it/s] \n"
     ]
    },
    {
     "data": {
      "application/vnd.jupyter.widget-view+json": {
       "model_id": "bb5f8356e4bd4fa684ff2eda0935db38",
       "version_major": 2,
       "version_minor": 0
      },
      "text/plain": [
       "A Jupyter Widget"
      ]
     },
     "metadata": {},
     "output_type": "display_data"
    },
    {
     "name": "stdout",
     "output_type": "stream",
     "text": [
      "\n"
     ]
    },
    {
     "data": {
      "application/vnd.jupyter.widget-view+json": {
       "model_id": "18e30bafd5594663abbd84adc4c7aa2e",
       "version_major": 2,
       "version_minor": 0
      },
      "text/plain": [
       "A Jupyter Widget"
      ]
     },
     "metadata": {},
     "output_type": "display_data"
    },
    {
     "name": "stdout",
     "output_type": "stream",
     "text": [
      "\n"
     ]
    },
    {
     "data": {
      "application/vnd.jupyter.widget-view+json": {
       "model_id": "8f84a422a025455db809d158cb044850",
       "version_major": 2,
       "version_minor": 0
      },
      "text/plain": [
       "A Jupyter Widget"
      ]
     },
     "metadata": {},
     "output_type": "display_data"
    },
    {
     "name": "stderr",
     "output_type": "stream",
     "text": [
      "loss=[ 0.01126003]: : 15it [00:00, 88.33it/s] "
     ]
    },
    {
     "name": "stdout",
     "output_type": "stream",
     "text": [
      "\n"
     ]
    },
    {
     "name": "stderr",
     "output_type": "stream",
     "text": [
      "loss=[ 0.00786734]: : 1108it [00:08, 135.00it/s]\n"
     ]
    },
    {
     "data": {
      "image/png": "[encoded data removed]",
      "text/plain": [
       "<matplotlib.figure.Figure at 0x1c25d26048>"
      ]
     },
     "metadata": {},
     "output_type": "display_data"
    },
    {
     "name": "stdout",
     "output_type": "stream",
     "text": [
      "n_train : [400, 400, 1000]\n",
      "epochs : [25000, 25000, 10000]\n"
     ]
    },
    {
     "data": {
      "application/vnd.jupyter.widget-view+json": {
       "model_id": "131e5a805a1f4632822fda358b73da45",
       "version_major": 2,
       "version_minor": 0
      },
      "text/plain": [
       "A Jupyter Widget"
      ]
     },
     "metadata": {},
     "output_type": "display_data"
    },
    {
     "name": "stdout",
     "output_type": "stream",
     "text": [
      "\n"
     ]
    },
    {
     "data": {
      "application/vnd.jupyter.widget-view+json": {
       "model_id": "d2a441bab32149bc922ba3ebc69e9282",
       "version_major": 2,
       "version_minor": 0
      },
      "text/plain": [
       "A Jupyter Widget"
      ]
     },
     "metadata": {},
     "output_type": "display_data"
    },
    {
     "name": "stdout",
     "output_type": "stream",
     "text": [
      "\n"
     ]
    },
    {
     "data": {
      "application/vnd.jupyter.widget-view+json": {
       "model_id": "7a539feba05b47a7b343cf8401d9c480",
       "version_major": 2,
       "version_minor": 0
      },
      "text/plain": [
       "A Jupyter Widget"
      ]
     },
     "metadata": {},
     "output_type": "display_data"
    },
    {
     "name": "stdout",
     "output_type": "stream",
     "text": [
      "\n"
     ]
    },
    {
     "data": {
      "application/vnd.jupyter.widget-view+json": {
       "model_id": "a500a591eb2e48c987cc921618513020",
       "version_major": 2,
       "version_minor": 0
      },
      "text/plain": [
       "A Jupyter Widget"
      ]
     },
     "metadata": {},
     "output_type": "display_data"
    },
    {
     "name": "stdout",
     "output_type": "stream",
     "text": [
      "\n"
     ]
    },
    {
     "data": {
      "application/vnd.jupyter.widget-view+json": {
       "model_id": "4821de847f64485ebce21ca8041591e9",
       "version_major": 2,
       "version_minor": 0
      },
      "text/plain": [
       "A Jupyter Widget"
      ]
     },
     "metadata": {},
     "output_type": "display_data"
    },
    {
     "name": "stdout",
     "output_type": "stream",
     "text": [
      "\n"
     ]
    },
    {
     "data": {
      "application/vnd.jupyter.widget-view+json": {
       "model_id": "30c7f0fa287b42688d27df3d3a46ab5e",
       "version_major": 2,
       "version_minor": 0
      },
      "text/plain": [
       "A Jupyter Widget"
      ]
     },
     "metadata": {},
     "output_type": "display_data"
    },
    {
     "name": "stdout",
     "output_type": "stream",
     "text": [
      "\n"
     ]
    },
    {
     "data": {
      "application/vnd.jupyter.widget-view+json": {
       "model_id": "5c7c646f9281461c9942c6e45f1cff6a",
       "version_major": 2,
       "version_minor": 0
      },
      "text/plain": [
       "A Jupyter Widget"
      ]
     },
     "metadata": {},
     "output_type": "display_data"
    },
    {
     "name": "stdout",
     "output_type": "stream",
     "text": [
      "\n"
     ]
    },
    {
     "data": {
      "application/vnd.jupyter.widget-view+json": {
       "model_id": "ab73d213d7d94805ad2dd9cef060c26d",
       "version_major": 2,
       "version_minor": 0
      },
      "text/plain": [
       "A Jupyter Widget"
      ]
     },
     "metadata": {},
     "output_type": "display_data"
    },
    {
     "name": "stderr",
     "output_type": "stream",
     "text": [
      "loss=[-0.01091981]: : 16it [00:00, 118.37it/s]"
     ]
    },
    {
     "name": "stdout",
     "output_type": "stream",
     "text": [
      "\n"
     ]
    },
    {
     "name": "stderr",
     "output_type": "stream",
     "text": [
      "loss=[-0.01717687]: : 1105it [00:07, 139.92it/s]\n"
     ]
    },
    {
     "data": {
      "application/vnd.jupyter.widget-view+json": {
       "model_id": "d8f755a03cf34f88af18c9eec9ef32d0",
       "version_major": 2,
       "version_minor": 0
      },
      "text/plain": [
       "A Jupyter Widget"
      ]
     },
     "metadata": {},
     "output_type": "display_data"
    },
    {
     "name": "stdout",
     "output_type": "stream",
     "text": [
      "\n"
     ]
    },
    {
     "data": {
      "application/vnd.jupyter.widget-view+json": {
       "model_id": "9c40817a8d8847939584751a88e07f8a",
       "version_major": 2,
       "version_minor": 0
      },
      "text/plain": [
       "A Jupyter Widget"
      ]
     },
     "metadata": {},
     "output_type": "display_data"
    },
    {
     "name": "stdout",
     "output_type": "stream",
     "text": [
      "\n"
     ]
    },
    {
     "data": {
      "application/vnd.jupyter.widget-view+json": {
       "model_id": "d1877817c2694faaa65e2bec160157e1",
       "version_major": 2,
       "version_minor": 0
      },
      "text/plain": [
       "A Jupyter Widget"
      ]
     },
     "metadata": {},
     "output_type": "display_data"
    },
    {
     "name": "stderr",
     "output_type": "stream",
     "text": [
      "loss=[ 0.02321434]: : 14it [00:00, 112.32it/s]"
     ]
    },
    {
     "name": "stdout",
     "output_type": "stream",
     "text": [
      "\n"
     ]
    },
    {
     "name": "stderr",
     "output_type": "stream",
     "text": [
      "loss=[ 0.00425553]: : 1136it [00:08, 131.30it/s]\n"
     ]
    },
    {
     "data": {
      "image/png": "[encoded data removed]",
      "text/plain": [
       "<matplotlib.figure.Figure at 0x1c247bc630>"
      ]
     },
     "metadata": {},
     "output_type": "display_data"
    },
    {
     "name": "stdout",
     "output_type": "stream",
     "text": [
      "n_train : [400, 400, 1000]\n",
      "epochs : [25000, 25000, 10000]\n"
     ]
    },
    {
     "data": {
      "application/vnd.jupyter.widget-view+json": {
       "model_id": "e253e84d5f414f15b7ee4a60154bfa7d",
       "version_major": 2,
       "version_minor": 0
      },
      "text/plain": [
       "A Jupyter Widget"
      ]
     },
     "metadata": {},
     "output_type": "display_data"
    },
    {
     "name": "stdout",
     "output_type": "stream",
     "text": [
      "\n"
     ]
    },
    {
     "data": {
      "application/vnd.jupyter.widget-view+json": {
       "model_id": "ef57e249a36b4b1c93b64adad2a20f1e",
       "version_major": 2,
       "version_minor": 0
      },
      "text/plain": [
       "A Jupyter Widget"
      ]
     },
     "metadata": {},
     "output_type": "display_data"
    },
    {
     "name": "stdout",
     "output_type": "stream",
     "text": [
      "\n"
     ]
    },
    {
     "data": {
      "application/vnd.jupyter.widget-view+json": {
       "model_id": "8b9a879ec03241fca43bd36f9c73ca74",
       "version_major": 2,
       "version_minor": 0
      },
      "text/plain": [
       "A Jupyter Widget"
      ]
     },
     "metadata": {},
     "output_type": "display_data"
    },
    {
     "name": "stdout",
     "output_type": "stream",
     "text": [
      "\n"
     ]
    },
    {
     "data": {
      "application/vnd.jupyter.widget-view+json": {
       "model_id": "aa322c89581f4e1da7642c6ef5c8454c",
       "version_major": 2,
       "version_minor": 0
      },
      "text/plain": [
       "A Jupyter Widget"
      ]
     },
     "metadata": {},
     "output_type": "display_data"
    },
    {
     "name": "stdout",
     "output_type": "stream",
     "text": [
      "\n"
     ]
    },
    {
     "data": {
      "application/vnd.jupyter.widget-view+json": {
       "model_id": "32fb69f8200748329e6252b4abf706b5",
       "version_major": 2,
       "version_minor": 0
      },
      "text/plain": [
       "A Jupyter Widget"
      ]
     },
     "metadata": {},
     "output_type": "display_data"
    },
    {
     "name": "stdout",
     "output_type": "stream",
     "text": [
      "\n"
     ]
    },
    {
     "data": {
      "application/vnd.jupyter.widget-view+json": {
       "model_id": "862103b9c21544878e2e934c25f2975c",
       "version_major": 2,
       "version_minor": 0
      },
      "text/plain": [
       "A Jupyter Widget"
      ]
     },
     "metadata": {},
     "output_type": "display_data"
    },
    {
     "name": "stdout",
     "output_type": "stream",
     "text": [
      "\n"
     ]
    },
    {
     "data": {
      "application/vnd.jupyter.widget-view+json": {
       "model_id": "765b21a267b24b808a72c88596979776",
       "version_major": 2,
       "version_minor": 0
      },
      "text/plain": [
       "A Jupyter Widget"
      ]
     },
     "metadata": {},
     "output_type": "display_data"
    },
    {
     "name": "stdout",
     "output_type": "stream",
     "text": [
      "\n"
     ]
    },
    {
     "data": {
      "application/vnd.jupyter.widget-view+json": {
       "model_id": "3b8787c392654040849cc50387a27662",
       "version_major": 2,
       "version_minor": 0
      },
      "text/plain": [
       "A Jupyter Widget"
      ]
     },
     "metadata": {},
     "output_type": "display_data"
    },
    {
     "name": "stderr",
     "output_type": "stream",
     "text": [
      "loss=[-0.00589299]: : 14it [00:00, 84.72it/s] "
     ]
    },
    {
     "name": "stdout",
     "output_type": "stream",
     "text": [
      "\n"
     ]
    },
    {
     "name": "stderr",
     "output_type": "stream",
     "text": [
      "loss=[-0.01102686]: : 1107it [00:07, 142.48it/s]\n"
     ]
    },
    {
     "data": {
      "application/vnd.jupyter.widget-view+json": {
       "model_id": "c9b61588155c4a35a86237981c809959",
       "version_major": 2,
       "version_minor": 0
      },
      "text/plain": [
       "A Jupyter Widget"
      ]
     },
     "metadata": {},
     "output_type": "display_data"
    },
    {
     "name": "stdout",
     "output_type": "stream",
     "text": [
      "\n"
     ]
    },
    {
     "data": {
      "application/vnd.jupyter.widget-view+json": {
       "model_id": "089cfca5272c415e8cd9d7f773395a79",
       "version_major": 2,
       "version_minor": 0
      },
      "text/plain": [
       "A Jupyter Widget"
      ]
     },
     "metadata": {},
     "output_type": "display_data"
    },
    {
     "name": "stdout",
     "output_type": "stream",
     "text": [
      "\n"
     ]
    },
    {
     "data": {
      "application/vnd.jupyter.widget-view+json": {
       "model_id": "309190caad4d498fa57ab1cb532c7c44",
       "version_major": 2,
       "version_minor": 0
      },
      "text/plain": [
       "A Jupyter Widget"
      ]
     },
     "metadata": {},
     "output_type": "display_data"
    },
    {
     "name": "stderr",
     "output_type": "stream",
     "text": [
      "loss=[ 0.02422333]: : 13it [00:00, 88.40it/s] "
     ]
    },
    {
     "name": "stdout",
     "output_type": "stream",
     "text": [
      "\n"
     ]
    },
    {
     "name": "stderr",
     "output_type": "stream",
     "text": [
      "loss=[ 0.00414491]: : 1149it [00:07, 151.09it/s]\n"
     ]
    },
    {
     "data": {
      "image/png": "[encoded data removed]",
      "text/plain": [
       "<matplotlib.figure.Figure at 0x1c2b262978>"
      ]
     },
     "metadata": {},
     "output_type": "display_data"
    },
    {
     "name": "stdout",
     "output_type": "stream",
     "text": [
      "n_train : [400, 400, 1000]\n",
      "epochs : [25000, 25000, 10000]\n"
     ]
    },
    {
     "data": {
      "application/vnd.jupyter.widget-view+json": {
       "model_id": "579764ab1f71461ca4d476015f05ab44",
       "version_major": 2,
       "version_minor": 0
      },
      "text/plain": [
       "A Jupyter Widget"
      ]
     },
     "metadata": {},
     "output_type": "display_data"
    },
    {
     "name": "stdout",
     "output_type": "stream",
     "text": [
      "\n"
     ]
    },
    {
     "data": {
      "application/vnd.jupyter.widget-view+json": {
       "model_id": "1a0b21ec903443af94c7eab1cc006316",
       "version_major": 2,
       "version_minor": 0
      },
      "text/plain": [
       "A Jupyter Widget"
      ]
     },
     "metadata": {},
     "output_type": "display_data"
    },
    {
     "name": "stdout",
     "output_type": "stream",
     "text": [
      "\n"
     ]
    },
    {
     "data": {
      "application/vnd.jupyter.widget-view+json": {
       "model_id": "638091a5f0004cc88ec380ad10951d2f",
       "version_major": 2,
       "version_minor": 0
      },
      "text/plain": [
       "A Jupyter Widget"
      ]
     },
     "metadata": {},
     "output_type": "display_data"
    },
    {
     "name": "stdout",
     "output_type": "stream",
     "text": [
      "\n"
     ]
    },
    {
     "data": {
      "application/vnd.jupyter.widget-view+json": {
       "model_id": "d098c1b192194d3f9c58409b15816c5a",
       "version_major": 2,
       "version_minor": 0
      },
      "text/plain": [
       "A Jupyter Widget"
      ]
     },
     "metadata": {},
     "output_type": "display_data"
    },
    {
     "name": "stdout",
     "output_type": "stream",
     "text": [
      "\n"
     ]
    },
    {
     "data": {
      "application/vnd.jupyter.widget-view+json": {
       "model_id": "fb6b1fcf4ba64e70be935238ac3d654a",
       "version_major": 2,
       "version_minor": 0
      },
      "text/plain": [
       "A Jupyter Widget"
      ]
     },
     "metadata": {},
     "output_type": "display_data"
    },
    {
     "name": "stdout",
     "output_type": "stream",
     "text": [
      "\n"
     ]
    },
    {
     "data": {
      "application/vnd.jupyter.widget-view+json": {
       "model_id": "74071beef3f54f9d91cc9efc004b93a8",
       "version_major": 2,
       "version_minor": 0
      },
      "text/plain": [
       "A Jupyter Widget"
      ]
     },
     "metadata": {},
     "output_type": "display_data"
    },
    {
     "name": "stdout",
     "output_type": "stream",
     "text": [
      "\n"
     ]
    },
    {
     "data": {
      "application/vnd.jupyter.widget-view+json": {
       "model_id": "4d2ceaeb30c04dc2bfde5d442d94ceb5",
       "version_major": 2,
       "version_minor": 0
      },
      "text/plain": [
       "A Jupyter Widget"
      ]
     },
     "metadata": {},
     "output_type": "display_data"
    },
    {
     "name": "stdout",
     "output_type": "stream",
     "text": [
      "\n"
     ]
    },
    {
     "data": {
      "application/vnd.jupyter.widget-view+json": {
       "model_id": "ea0bac31a53c400fb651c581b209dd95",
       "version_major": 2,
       "version_minor": 0
      },
      "text/plain": [
       "A Jupyter Widget"
      ]
     },
     "metadata": {},
     "output_type": "display_data"
    },
    {
     "name": "stderr",
     "output_type": "stream",
     "text": [
      "loss=[ 0.0114007]: : 14it [00:00, 82.45it/s]  "
     ]
    },
    {
     "name": "stdout",
     "output_type": "stream",
     "text": [
      "\n"
     ]
    },
    {
     "name": "stderr",
     "output_type": "stream",
     "text": [
      "loss=[ 0.00579357]: : 1099it [00:07, 150.67it/s]\n"
     ]
    },
    {
     "data": {
      "application/vnd.jupyter.widget-view+json": {
       "model_id": "3b147584e96741e99207b951cf0aea21",
       "version_major": 2,
       "version_minor": 0
      },
      "text/plain": [
       "A Jupyter Widget"
      ]
     },
     "metadata": {},
     "output_type": "display_data"
    },
    {
     "name": "stdout",
     "output_type": "stream",
     "text": [
      "\n"
     ]
    },
    {
     "data": {
      "application/vnd.jupyter.widget-view+json": {
       "model_id": "7f9951c656a544099e213d7fe07e9425",
       "version_major": 2,
       "version_minor": 0
      },
      "text/plain": [
       "A Jupyter Widget"
      ]
     },
     "metadata": {},
     "output_type": "display_data"
    },
    {
     "name": "stdout",
     "output_type": "stream",
     "text": [
      "\n"
     ]
    },
    {
     "data": {
      "application/vnd.jupyter.widget-view+json": {
       "model_id": "d82e128797824b8c8cce7fee614562d1",
       "version_major": 2,
       "version_minor": 0
      },
      "text/plain": [
       "A Jupyter Widget"
      ]
     },
     "metadata": {},
     "output_type": "display_data"
    },
    {
     "name": "stderr",
     "output_type": "stream",
     "text": [
      "loss=[-0.01519108]: : 14it [00:00, 82.93it/s] "
     ]
    },
    {
     "name": "stdout",
     "output_type": "stream",
     "text": [
      "\n"
     ]
    },
    {
     "name": "stderr",
     "output_type": "stream",
     "text": [
      "loss=[-0.01811838]: : 1094it [00:07, 142.91it/s]\n"
     ]
    },
    {
     "data": {
      "image/png": "[encoded data removed]",
      "text/plain": [
       "<matplotlib.figure.Figure at 0x1c30306da0>"
      ]
     },
     "metadata": {},
     "output_type": "display_data"
    },
    {
     "name": "stdout",
     "output_type": "stream",
     "text": [
      "n_train : [400, 400, 1000]\n",
      "epochs : [25000, 25000, 10000]\n"
     ]
    },
    {
     "data": {
      "application/vnd.jupyter.widget-view+json": {
       "model_id": "918c3267848843b3a1cb9a51aea2f44d",
       "version_major": 2,
       "version_minor": 0
      },
      "text/plain": [
       "A Jupyter Widget"
      ]
     },
     "metadata": {},
     "output_type": "display_data"
    },
    {
     "name": "stdout",
     "output_type": "stream",
     "text": [
      "\n"
     ]
    },
    {
     "data": {
      "application/vnd.jupyter.widget-view+json": {
       "model_id": "05f888fdb98c4090b810c460fd8bf5f3",
       "version_major": 2,
       "version_minor": 0
      },
      "text/plain": [
       "A Jupyter Widget"
      ]
     },
     "metadata": {},
     "output_type": "display_data"
    },
    {
     "name": "stdout",
     "output_type": "stream",
     "text": [
      "\n"
     ]
    },
    {
     "data": {
      "application/vnd.jupyter.widget-view+json": {
       "model_id": "a7d7d53b658f4914aa776c0092493180",
       "version_major": 2,
       "version_minor": 0
      },
      "text/plain": [
       "A Jupyter Widget"
      ]
     },
     "metadata": {},
     "output_type": "display_data"
    },
    {
     "name": "stdout",
     "output_type": "stream",
     "text": [
      "\n"
     ]
    },
    {
     "data": {
      "application/vnd.jupyter.widget-view+json": {
       "model_id": "7d54b56d6e8a449a97b4ef905ef5cdb2",
       "version_major": 2,
       "version_minor": 0
      },
      "text/plain": [
       "A Jupyter Widget"
      ]
     },
     "metadata": {},
     "output_type": "display_data"
    },
    {
     "name": "stdout",
     "output_type": "stream",
     "text": [
      "\n"
     ]
    },
    {
     "data": {
      "application/vnd.jupyter.widget-view+json": {
       "model_id": "1c5dfb6a175b4930ae649d8f41e6938a",
       "version_major": 2,
       "version_minor": 0
      },
      "text/plain": [
       "A Jupyter Widget"
      ]
     },
     "metadata": {},
     "output_type": "display_data"
    },
    {
     "name": "stdout",
     "output_type": "stream",
     "text": [
      "\n"
     ]
    },
    {
     "data": {
      "application/vnd.jupyter.widget-view+json": {
       "model_id": "4d52807e80ff42198db29a676a46e6bc",
       "version_major": 2,
       "version_minor": 0
      },
      "text/plain": [
       "A Jupyter Widget"
      ]
     },
     "metadata": {},
     "output_type": "display_data"
    },
    {
     "name": "stdout",
     "output_type": "stream",
     "text": [
      "\n"
     ]
    },
    {
     "data": {
      "application/vnd.jupyter.widget-view+json": {
       "model_id": "748bec0e3ed54d9c8dba9aeb9bc7e068",
       "version_major": 2,
       "version_minor": 0
      },
      "text/plain": [
       "A Jupyter Widget"
      ]
     },
     "metadata": {},
     "output_type": "display_data"
    },
    {
     "name": "stdout",
     "output_type": "stream",
     "text": [
      "\n"
     ]
    },
    {
     "data": {
      "application/vnd.jupyter.widget-view+json": {
       "model_id": "3288f4c75a894c70903f49fc01ef4079",
       "version_major": 2,
       "version_minor": 0
      },
      "text/plain": [
       "A Jupyter Widget"
      ]
     },
     "metadata": {},
     "output_type": "display_data"
    },
    {
     "name": "stderr",
     "output_type": "stream",
     "text": [
      "loss=[ 0.09481382]: : 0it [00:00, ?it/s]"
     ]
    },
    {
     "name": "stdout",
     "output_type": "stream",
     "text": [
      "\n",
      "> /Users/kaan/lfi-experiments/dist_cdelfi/mogtrain.py(295)train()\n",
      "-> loss.backward()\n"
     ]
    }
   ],
   "source": [
    "\n",
    "\n",
    "seeds = range(90, 140)\n",
    "n_train = [400, 100, 1000]\n",
    "rounds = len(n_train)\n",
    "\n",
    "reinit_weights = True\n",
    "\n",
    "all_outs_SNPE, all_outs_kSNPE, all_outs_CDELFI, all_outs_DDELFI = [], [], [], []\n",
    "\n",
    "for seed in seeds:\n",
    "    \n",
    "    plt.figure(figsize=(16,12))\n",
    "\n",
    "    xx = np.linspace(-10, 10, 500).reshape(-1,1)\n",
    "    \n",
    "    #\"\"\"\n",
    "    #plt.subplot(1,4,1)\n",
    "    \n",
    "    #out = run_panel_b(algo='CDELFI', rounds=rounds, seed=seed, n_train=n_train, \n",
    "    #                  reinit_weights=reinit_weights, return_abs=return_abs)\n",
    "                      \n",
    "    #plt.plot(xx,                p_true.eval(xx, log=False), 'b', linewidth=2)\n",
    "    #try:\n",
    "    #    plt.plot(xx,      out['posterior'].eval(xx, log=False), 'k', linewidth=2)\n",
    "    #except:\n",
    "    #    tmp = out['posteriors'][-2] if out['posteriors'][-1] is None else out['posteriors'][-1]\n",
    "    #    plt.plot(xx,      tmp.eval(xx, log=False), 'k')\n",
    "    #for r in range(rounds):\n",
    "    #    try:\n",
    "    #        plt.plot(xx, out['posteriors'][r].eval(xx, log=False), 'k--')\n",
    "    #    except:\n",
    "    #        pass\n",
    "    \n",
    "    #all_outs_CDELFI.append(out)\n",
    "    #\"\"\"\n",
    "\n",
    "    #\"\"\"\n",
    "    #plt.subplot(1,4,2)\n",
    "\n",
    "    #out_SNPE = run_panel_b(algo='SNPE', rounds=rounds, seed=seed, n_train=n_train, \n",
    "    #                       reinit_weights=reinit_weights, return_abs=return_abs)\n",
    "    \n",
    "    #for r in range(rounds):\n",
    "    #    w = out_SNPE['train_data'][r][2]\n",
    "    #    w /= w.sum()\n",
    "    #    print('ESS:' + str(1/np.sum(w**2)) + '/' + str(w.size))    \n",
    "\n",
    "    #plt.plot(xx,                p_true.eval(xx, log=False), 'b', linewidth=2)\n",
    "    #plt.plot(xx, out_SNPE['posterior'].eval(xx, log=False), 'r', linewidth=2)\n",
    "    #for r in range(rounds):\n",
    "    #    plt.plot(xx, out_SNPE['posteriors'][r].eval(xx, log=False), 'r--')\n",
    "        \n",
    "    #all_outs_SNPE.append(out_SNPE)        \n",
    "    #\"\"\"\n",
    "            \n",
    "    #plt.subplot(1,4,3)\n",
    "    \n",
    "    #out_kSNPE = run_panel_b(algo='kSNPE', rounds=rounds, seed=seed, n_train=n_train,\n",
    "    #                        reinit_weights=reinit_weights, return_abs=return_abs)\n",
    "    #for r in range(rounds):\n",
    "    #    w = out_kSNPE['train_data'][r][2]\n",
    "    #    w /= w.sum()\n",
    "    #    print('ESS:' + str(1/np.sum(w**2)) + '/' + str(w.size))\n",
    "        \n",
    "    #plt.plot(xx,                p_true.eval(xx, log=False), 'b', linewidth=2)\n",
    "    #plt.plot(xx,out_kSNPE['posterior'].eval(xx, log=False), 'g', linewidth=2)\n",
    "    #for r in range(rounds):\n",
    "    #    plt.plot(xx,out_kSNPE['posteriors'][r].eval(xx, log=False), 'g--')\n",
    "    #if rounds > 1:\n",
    "    #    print('kernel cov: ', 1./out_kSNPE['log'][-1]['cbkrnl'].A )\n",
    "    #all_outs_kSNPE.append(out_kSNPE)\n",
    "    \n",
    "    #\"\"\"\"\"\"\"\"\"\"\"\"\"\"\"\"\"\"\"\"\"\"\"\"\"\"\"\"\"\"\"\"\"\"\"\"\"\"\"\"\n",
    "    plt.subplot(1,4,4)\n",
    "\n",
    "    out_DDELFI = run_panel_b(algo='DDELFI', rounds=rounds, seed=seed, n_train=n_train, \n",
    "                           reinit_weights=reinit_weights, return_abs=return_abs)\n",
    "    \n",
    "    plt.plot(xx,                p_true.eval(xx, log=False), 'b', linewidth=2)\n",
    "    plt.plot(xx, out_DDELFI['posterior'].eval(xx, log=False), 'r', linewidth=2)\n",
    "    for r in range(rounds):\n",
    "        plt.plot(xx, out_DDELFI['posteriors'][r].eval(xx, log=False), 'r--')\n",
    "        \n",
    "    all_outs_DDELFI.append(out_DDELFI)        \n",
    "    \n",
    "    plt.show()"
   ]
  },
  {
   "cell_type": "code",
   "execution_count": null,
   "metadata": {
    "collapsed": true
   },
   "outputs": [],
   "source": [
    "\n",
    "np.save('MoG_1D_bimodal_20seeds_5round_N1800_reinitW_results_diw', \n",
    "        {'seeds' : seeds, \n",
    "         'n_train' : n_train,\n",
    "         'rounds' : rounds, \n",
    "         'reinit_weights' : reinit_weights,\n",
    "         \n",
    "         'p_true' : p_true,\n",
    "         \n",
    "         'res_CDELFI' : all_outs_CDELFI,\n",
    "         'res_kSNPE' : all_outs_kSNPE,\n",
    "         'res_SNPE' : all_outs_SNPE,\n",
    "         'res_DDELFI' : all_outs_DDELFI,\n",
    "    })"
   ]
  },
  {
   "cell_type": "code",
   "execution_count": null,
   "metadata": {
    "collapsed": true
   },
   "outputs": [],
   "source": [
    "%matplotlib inline\n",
    "import matplotlib.pyplot as plt\n",
    "\n",
    "plt.figure(figsize=(14,rounds*4))\n",
    "p = dd.Uniform(lower=[-10], upper=[10], seed=seed)\n",
    "\n",
    "fail_count_CDELFI = 0\n",
    "for i in range(len(seeds)):\n",
    "    \n",
    "    seed = seeds[i]\n",
    "\n",
    "    out = all_outs_CDELFI[i]\n",
    "    out_SNPE = all_outs_SNPE[i]\n",
    "    out_kSNPE = all_outs_kSNPE[i]\n",
    "    \n",
    "    xx = np.linspace(-10, 10, 500).reshape(-1,1)\n",
    "\n",
    "    broke_flag = False\n",
    "    for r in range(rounds):\n",
    "        if rounds > len(n_train) and r < rounds-1:\n",
    "            r_ = 0\n",
    "        elif rounds > len(n_train) and r == rounds-1:\n",
    "            r_ = len(n_train)-1\n",
    "        else: \n",
    "            r_ = r\n",
    "        plt.subplot(rounds,3,1 + r*3)\n",
    "        plt.plot(-20, -20, 'b--', linewidth=1.5)\n",
    "        if r == rounds-1:\n",
    "            try:\n",
    "                plt.plot(xx,      out['posteriors'][r].eval(xx, log=False), 'b', linewidth=2)\n",
    "            except:\n",
    "                #tmp = out['posteriors'][r-1] if out['posteriors'][-1] is None else out['posteriors'][-1]\n",
    "                #plt.plot(xx,      tmp.eval(xx, log=False), 'b--')\n",
    "                broke_flag=True\n",
    "                fail_count_CDELFI += 1\n",
    "        else:\n",
    "            if not out['posteriors'][r] is None:\n",
    "                plt.plot(xx, out['posteriors'][r].eval(xx, log=False), 'b')\n",
    "        if r == 0:\n",
    "            plt.title('CDE-LFI')\n",
    "        plt.plot(xx,                p_true.eval(xx, log=False), 'k', linewidth=2)\n",
    "        plt.ylabel('round #' + str(r+1) + '(N=' + str(n_train[r_]) + ')')\n",
    "        plt.axis([-10, 10, 0, 0.5])\n",
    "        plt.yticks([])\n",
    "        plt.xticks([-5, 0, 5])\n",
    "        plt.tick_params(top='off', left='off', right='off', labelleft='off', labelbottom='on')\n",
    "        if broke_flag:\n",
    "            plt.legend(['fail (' + str( fail_count_CDELFI ) + '/' +  str(len(seeds))  + ')'], loc=1, frameon=False)\n",
    "\n",
    "        plt.subplot(rounds,3,2 + r*3)\n",
    "        plt.plot(xx, out_SNPE['posteriors'][r].eval(xx, log=False), 'r', linewidth=2)\n",
    "        plt.plot(xx,                p_true.eval(xx, log=False), 'k', linewidth=2)\n",
    "        if r == 0:\n",
    "            plt.title('SNPE')\n",
    "        plt.axis([-10, 10, 0, 0.5])\n",
    "        plt.yticks([])\n",
    "        plt.xticks([-5, 0, 5])\n",
    "        plt.tick_params(top='off', left='off', right='off', labelleft='off', labelbottom='on')\n",
    "\n",
    "        plt.subplot(rounds,3,3 + r*3)    \n",
    "        plt.plot(xx,out_kSNPE['posteriors'][r].eval(xx, log=False), 'g', linewidth=2)\n",
    "        plt.plot(xx,                p_true.eval(xx, log=False), 'k', linewidth=2)\n",
    "        plt.plot(xx,                p.eval(xx, log=False), 'k:', linewidth=2)\n",
    "        if r == 0:\n",
    "            plt.title('kSNPE')\n",
    "        plt.axis([-10, 10, 0, 0.5])\n",
    "        plt.yticks([])\n",
    "        plt.xticks([-5, 0, 5])\n",
    "        plt.tick_params(top='off', left='off', right='off', labelleft='off', labelbottom='on')\n",
    "        plt.ylabel('round #' + str(r+1) + '(N=' + str(n_train[r_]) + ')')\n",
    "    plt.suptitle('MoG_1D_bimodal_20seeds_5round_N1800_reinitW')\n",
    "    plt.savefig('MoG_1D_bimodal_20seeds_5round_N1800_reinitW_diw.pdf')\n",
    "    \n",
    "plt.show()"
   ]
  },
  {
   "cell_type": "code",
   "execution_count": null,
   "metadata": {
    "collapsed": true
   },
   "outputs": [],
   "source": [
    "plt.figure(figsize=(10,16))\n",
    "trn_data0 = out_kSNPE['train_data'][0]\n",
    "trn_data  = out_kSNPE['train_data'][1]\n",
    "\n",
    "m = GaussMixture(dim=1, bimodal=True, return_abs=return_abs, noise_cov=[1.0, 1.0], seed=seed)\n",
    "p = p_true\n",
    "s = ds.Identity()\n",
    "g = dg.Default(model=m, prior=p, summary=s)\n",
    "trn_datap = g.gen(1000)\n",
    "\n",
    "plt.subplot(3,2,1)\n",
    "plt.plot(trn_data0[1] * out_kSNPE['stats_std'] + out_kSNPE['stats_mean'],\n",
    "         trn_data0[0], 'b.')\n",
    "plt.axis([0, 12, -10, 10])\n",
    "plt.xlabel('x')\n",
    "plt.ylabel('theta')\n",
    "plt.xticks([0, 5, 10], [0, 'xo', 10])\n",
    "plt.plot([5, 5], [-10, 10], 'k:')\n",
    "plt.title('joint distribution under prior')\n",
    "\n",
    "bins = np.linspace(0, 12, 30)\n",
    "plt.subplot(3,2,2)\n",
    "plt.hist(trn_data0[1] * out_kSNPE['stats_std'] + out_kSNPE['stats_mean'], bins=bins, normed=True, color='b')\n",
    "plt.title('histogram of summary statistics')\n",
    "plt.yticks([])\n",
    "plt.axis([0, 12, 0, 0.6])\n",
    "plt.xticks([0, 5, 10], [0, 'xo', 10])\n",
    "plt.plot([5, 5], [0, 0.6], 'k:')\n",
    "plt.text(7, 0.3, 'avg. |x-xo| : ' + str(np.round( np.mean(np.abs(trn_data0[1]-out_kSNPE['obs']))*100)/100))\n",
    "\n",
    "plt.subplot(3,2,3)\n",
    "plt.plot(trn_datap[1],\n",
    "         trn_datap[0], 'g.')\n",
    "plt.axis([0, 12, -10, 10])\n",
    "plt.xlabel('x')\n",
    "plt.ylabel('theta')\n",
    "plt.xticks([0, 5, 10], [0, 'xo', 10])\n",
    "plt.plot([5, 5], [-10, 10], 'k:')\n",
    "plt.title('joint distribution under \"final\" proposal (=posterior)')\n",
    "\n",
    "plt.subplot(3,2,4)\n",
    "plt.title('histogram of summary statistics')\n",
    "plt.hist(trn_datap[1], bins=bins, normed=True, color='g')\n",
    "plt.yticks([])\n",
    "plt.axis([0, 12, 0, 0.6])\n",
    "plt.plot([5, 5], [0, 0.6], 'k:')\n",
    "plt.xticks([0, 5, 10], [0, 'xo', 10])\n",
    "plt.text(7, 0.3, 'avg. |x-xo| : ' + str(np.round( np.mean(np.abs(trn_datap[1]-out_kSNPE['obs']))*100)/100))\n",
    "\n",
    "plt.subplot(3,2,5)\n",
    "plt.plot(trn_data[1] * out_kSNPE['stats_std'] + out_kSNPE['stats_mean'],\n",
    "         trn_data[0], 'c.')\n",
    "plt.axis([0, 12, -10, 10])\n",
    "plt.xlabel('x')\n",
    "plt.ylabel('theta')\n",
    "plt.xticks([0, 5, 10], [0, 'xo', 10])\n",
    "plt.plot([5, 5], [-10, 10], 'k:')\n",
    "plt.title('joint distribution under actual proposal (round#1)')\n",
    "\n",
    "plt.subplot(3,2,6)\n",
    "plt.title('histogram of summary statistics')\n",
    "plt.hist(trn_data[1]  * out_kSNPE['stats_std'] + out_kSNPE['stats_mean'], bins=bins, normed=True, color='c')\n",
    "plt.yticks([])\n",
    "plt.xticks([0, 5, 10], [0, 'xo', 10])\n",
    "plt.xlabel('x')\n",
    "plt.plot([5, 5], [0, 0.6], 'k:')\n",
    "plt.axis([0, 12, 0, 0.6])\n",
    "plt.text(7, 0.3, 'avg. |x-xo| : ' + str(np.round( np.mean(np.abs(trn_data[1]-out_kSNPE['obs']))*100)/100))\n",
    "\n",
    "plt.suptitle('MoG_1D_bimodal_summaryStats_prior_proposal')\n",
    "plt.savefig('MoG_1D_bimodal_summaryStats_prior_proposal_diw.pdf')\n",
    "plt.show()"
   ]
  },
  {
   "cell_type": "code",
   "execution_count": null,
   "metadata": {
    "collapsed": true
   },
   "outputs": [],
   "source": [
    "%matplotlib inline\n",
    "import matplotlib.pyplot as plt\n",
    "\n",
    "plt.figure(figsize=(14,rounds*4))\n",
    "p = dd.Uniform(lower=[-10], upper=[10], seed=seed)\n",
    "\n",
    "fail_count_CDELFI = 0\n",
    "for i in range(len(seeds)):\n",
    "    \n",
    "    seed = seeds[i]\n",
    "\n",
    "    out = all_outs_CDELFI[i]\n",
    "    out_SNPE = all_outs_SNPE[i]\n",
    "    out_kSNPE = all_outs_kSNPE[i]\n",
    "    \n",
    "    xx = np.linspace(-10, 10, 500).reshape(-1,1)\n",
    "\n",
    "    broke_flag = False\n",
    "    for r in range(rounds):\n",
    "        if rounds > len(n_train) and r < rounds-1:\n",
    "            r_ = 0\n",
    "        elif rounds > len(n_train) and r == rounds-1:\n",
    "            r_ = len(n_train)-1\n",
    "        else: \n",
    "            r_ = r\n",
    "        plt.subplot(rounds,3,1 + r*3)\n",
    "        plt.plot(-20, -20, 'b--', linewidth=1.5)\n",
    "        if r == rounds-1:\n",
    "            try:\n",
    "                plt.plot(xx,      out['posteriors'][r].eval(xx, log=False), 'b', linewidth=2)\n",
    "            except:\n",
    "                #tmp = out['posteriors'][r-1] if out['posteriors'][-1] is None else out['posteriors'][-1]\n",
    "                #plt.plot(xx,      tmp.eval(xx, log=False), 'b--')\n",
    "                broke_flag=True\n",
    "                fail_count_CDELFI += 1\n",
    "        else:\n",
    "            if not out['posteriors'][r] is None:\n",
    "                plt.plot(xx, out['posteriors'][r].eval(xx, log=False), 'b')\n",
    "        if r == 0:\n",
    "            plt.title('CDE-LFI')\n",
    "        plt.plot(xx,                p_true.eval(xx, log=False), 'k', linewidth=2)\n",
    "        plt.ylabel('round #' + str(r+1) + '(N=' + str(n_train[r_]) + ')')\n",
    "        plt.axis([-10, 10, 0, 0.5])\n",
    "        plt.yticks([])\n",
    "        plt.xticks([-5, 0, 5])\n",
    "        plt.tick_params(top='off', left='off', right='off', labelleft='off', labelbottom='on')\n",
    "        if broke_flag:\n",
    "            plt.legend(['fail (' + str( fail_count_CDELFI ) + '/' +  str(len(seeds))  + ')'], loc=1, frameon=False)\n",
    "\n",
    "        plt.subplot(rounds,3,2 + r*3)\n",
    "        plt.plot(xx, out_SNPE['posteriors'][r].eval(xx, log=False), 'r', linewidth=2)\n",
    "        plt.plot(xx,                p_true.eval(xx, log=False), 'k', linewidth=2)\n",
    "        if r == 0:\n",
    "            plt.title('SNPE')\n",
    "        plt.axis([-10, 10, 0, 0.5])\n",
    "        plt.yticks([])\n",
    "        plt.xticks([-5, 0, 5])\n",
    "        plt.tick_params(top='off', left='off', right='off', labelleft='off', labelbottom='on')\n",
    "\n",
    "        plt.subplot(rounds,3,3 + r*3)    \n",
    "        plt.plot(xx,out_kSNPE['posteriors'][r].eval(xx, log=False), 'g', linewidth=2)\n",
    "        plt.plot(xx,                p_true.eval(xx, log=False), 'k', linewidth=2)\n",
    "        plt.plot(xx,                p.eval(xx, log=False), 'k:', linewidth=2)\n",
    "        if r == 0:\n",
    "            plt.title('kSNPE')\n",
    "        plt.axis([-10, 10, 0, 0.5])\n",
    "        plt.yticks([])\n",
    "        plt.xticks([-5, 0, 5])\n",
    "        plt.tick_params(top='off', left='off', right='off', labelleft='off', labelbottom='on')\n",
    "        plt.ylabel('round #' + str(r+1) + '(N=' + str(n_train[r_]) + ')')\n",
    "    plt.suptitle('MoG_1D_bimodal_20seeds_5round_N1800_reinitW')\n",
    "    #plt.savefig('MoG_1D_bimodal_20seeds_5round_N1800_reinitW.pdf')\n",
    "    \n",
    "plt.show()"
   ]
  },
  {
   "cell_type": "code",
   "execution_count": null,
   "metadata": {
    "collapsed": true
   },
   "outputs": [],
   "source": [
    "import theano\n",
    "import lasagne.layers as ll\n",
    "\n",
    "r = -1\n",
    "i = 1\n",
    "net = all_outs_kSNPE[i]['network']\n",
    "obs = all_outs_kSNPE[i]['obs']\n",
    "stats_mean = all_outs_kSNPE[i]['stats_mean']\n",
    "stats_std  = all_outs_kSNPE[i]['stats_std']\n",
    "trn_data = all_outs_kSNPE[i]['train_data'][r]\n",
    "\n",
    "print(net.layer.keys())\n",
    "\n",
    "cbk_feature_layer = 0\n",
    "ks = list(net.layer.keys())\n",
    "hl = net.layer[ks[cbk_feature_layer]]\n",
    "\n",
    "stat_features = theano.function(\n",
    "    inputs=[net.stats],\n",
    "    outputs=ll.get_output(hl))\n",
    "\n",
    "fstats = stat_features(trn_data[1]).reshape(trn_data[1].shape[0],-1)\n",
    "obs_z = (obs - stats_mean) / stats_std\n",
    "fobs_z = stat_features(obs_z).reshape(1,-1)\n",
    "\n",
    "plt.figure(figsize=(12, 20))\n",
    "for i in range(fstats.shape[1]):\n",
    "    plt.subplot(fstats.shape[1]//4+1, 4, i+1)\n",
    "    plt.hist(fstats[:,i], normed=True)\n",
    "    plt.plot(fobs_z[0,i], 0.5, 'r*', markerSize=8)\n",
    "plt.show()\n",
    "\n",
    "\n",
    "m = GaussMixture(dim=1, bimodal=True, return_abs=return_abs, noise_cov=[1.0, 1.0], seed=seed)\n",
    "p = dd.Uniform(lower=[-10], upper=[10], seed=seed)\n",
    "s = ds.Identity()\n",
    "g = dg.Default(model=m, prior=p, summary=s)\n",
    "trn_data = g.gen(1000)\n",
    "plt.subplot(1,3,1)\n",
    "plt.plot(trn_data[1], trn_data[0], '.')\n",
    "\n",
    "m = GaussMixture(dim=1, bimodal=True, return_abs=return_abs, noise_cov=[1.0, 1.0], seed=seed)\n",
    "p = p_true\n",
    "s = ds.Identity()\n",
    "g = dg.Default(model=m, prior=p, summary=s)\n",
    "trn_data = g.gen(1000)\n",
    "plt.subplot(1,3,2)\n",
    "plt.plot(trn_data[1], trn_data[0], '.')\n",
    "\n",
    "m = GaussMixture(dim=1, bimodal=True, return_abs=return_abs, noise_cov=[1.0, 1.0], seed=seed)\n",
    "p = p_true\n",
    "s = ds.Identity()\n",
    "g = dg.Default(model=m, prior=p, summary=s)\n",
    "trn_data = g.gen(1000)\n",
    "plt.subplot(1,3,3)\n",
    "fstats = stat_features((trn_data[1] - stats_mean) / stats_std).reshape(trn_data[1].shape[0],-1)\n",
    "\n",
    "idx = np.where(trn_data[1]>0)[0]\n",
    "idxn = np.where(trn_data[1]<=0)[0]\n",
    "plt.plot(fstats[idx], trn_data[0][idx], 'r.')\n",
    "plt.plot(fstats[idxn], trn_data[0][idxn], 'm.')\n",
    "\n",
    "plt.show()\n",
    "\n",
    "plt.plot(trn_data[1], fstats, '.')\n",
    "plt.show()"
   ]
  },
  {
   "cell_type": "code",
   "execution_count": null,
   "metadata": {
    "collapsed": true
   },
   "outputs": [],
   "source": [
    "j, r = 0, 2\n",
    "w = all_outs_SNPE[j]['train_data'][r][2]\n",
    "w /= w.sum()\n",
    "print('ESS raw', 1./np.sum(w**2))\n",
    "\n",
    "w = all_outs_kSNPE[j]['train_data'][r][2]\n",
    "w /= w.sum()\n",
    "print('ESS raw', 1./np.sum(w**2))\n"
   ]
  },
  {
   "cell_type": "code",
   "execution_count": null,
   "metadata": {
    "collapsed": true
   },
   "outputs": [],
   "source": []
  },
  {
   "cell_type": "code",
   "execution_count": null,
   "metadata": {
    "collapsed": true
   },
   "outputs": [],
   "source": [
    "obs = np.array([[0]])\n",
    "\n",
    "def un_zscore(trn_data_r, seed):\n",
    "    \n",
    "    m = GaussMixture(dim=1, noise_cov=[1.0, 0.01], seed=seed)\n",
    "    p = dd.Uniform(lower=[-10], upper=[10], seed=seed)\n",
    "    s = ds.Identity()\n",
    "    g = dg.Default(model=m, prior=p, summary=s)\n",
    "    \n",
    "    _,_ = g.gen(1, skip_feedback=True, verbose=False) # DELFI uses this to figure the shape of th, x\n",
    "\n",
    "    _, stats = g.gen(100, verbose=False)\n",
    "    stats_mean = np.nanmean(stats, axis=0)\n",
    "    stats_std = np.nanstd(stats, axis=0)    \n",
    "    \n",
    "    return (trn_data_r[1] * stats_std) + stats_mean        \n",
    "        \n",
    "def reg_adj(th, x, xo, mu, sig):\n",
    "                \n",
    "    return mu(xo) + sig(xo) * (th - mu(x))/sig(x)\n",
    "\n",
    "thp = p_true.gen(100000)\n",
    "p_uni = dd.Gaussian(m=-0.11701747*np.ones(1), S=0.65295111*np.eye(1))\n",
    "plt.figure(figsize=(16,16))\n",
    "\n",
    "ll_unim = np.zeros(len(seeds))\n",
    "ll_true = np.zeros(len(seeds))\n",
    "ll_test = np.zeros(len(seeds))\n",
    "for i in range(len(seeds)):    \n",
    "    r = 0\n",
    "    trn_data = all_outs_SNPE[i]['train_data'][r]\n",
    "\n",
    "    x = un_zscore(trn_data, seeds[i])\n",
    "\n",
    "    def mu(x):\n",
    "        return x\n",
    "    def sig(x):\n",
    "        return 1.\n",
    "\n",
    "    th_ = reg_adj(trn_data[0], x, obs, mu, sig)\n",
    "\n",
    "    plt.subplot(5,5,i+1)\n",
    "    plt.hist(th_, bins=np.linspace(-3, 3, 20), normed=True)\n",
    "    plt.plot(np.linspace(-3, 3, 200), \n",
    "             p_true.eval(np.linspace(-3, 3, 200).reshape(200,1),log=False),\n",
    "             linewidth=2, color='k')\n",
    "    plt.plot(np.linspace(-3, 3, 200), \n",
    "             all_outs_SNPE[i]['posteriors'][r].eval(np.linspace(-3, 3, 200).reshape(200,1),log=False),\n",
    "             linewidth=2, color='r')\n",
    "    plt.title('seed ' + str(seeds[i]) + ', round ' + str(r+1))\n",
    "    \n",
    "    ll_unim[i] = np.sum(p_uni.eval(th_))\n",
    "    ll_true[i] = np.sum(p_true.eval(th_))\n",
    "    ll_test[i] = np.sum(all_outs_SNPE[i]['posteriors'][r].eval(thp))\n",
    "    \n",
    "#plt.plot(ll_unim, 'ro-')\n",
    "\n",
    "plt.subplot(5,1,5)\n",
    "plt.plot(seeds, ll_true, 'bo-')\n",
    "plt.ylabel('log-prob under true posterior')\n",
    "plt.xlabel('#seed')\n",
    "plt.savefig('MoG_1D_bimodal_20seeds_3round_N1800_20seeds_regAdj_round1.pdf')\n",
    "plt.show()\n",
    "\n",
    "\n",
    "plt.plot(ll_test, ll_true, 'bo')\n",
    "plt.ylabel('log-prob of data under true posterior')\n",
    "plt.xlabel('log-prob of poster draws under fitted model')\n",
    "plt.show()\n",
    "\n",
    "print( np.corrcoef(ll_test, ll_true) )"
   ]
  },
  {
   "cell_type": "code",
   "execution_count": null,
   "metadata": {
    "collapsed": true
   },
   "outputs": [],
   "source": [
    "import theano\n",
    "import theano.tensor as tt\n",
    "\n",
    "idx_good = np.array([2])\n",
    "idx_bad = np.setdiff1d(np.arange(n_rerun), idx_good)\n",
    "\n",
    "losses = np.array( [ all_logs[i][-1]['loss'][-1] for i in range(n_rerun)] )\n",
    "lls = np.zeros_like(losses)\n",
    "\n",
    "\n",
    "for i in range(n_rerun):\n",
    "    ll = -tt.mean(all_infs[i].network.lprobs)\n",
    "    f_eval_ll = theano.function(\n",
    "            inputs=[all_infs[i].network.params, all_infs[i].network.stats],\n",
    "            outputs=ll)\n",
    "    lls[i] = f_eval_ll(all_train_datas[i][0][0], all_train_datas[i][0][1])\n",
    "\n",
    "xx = np.linspace(-10,10,500).reshape(-1,1)    \n",
    "    \n",
    "plt.figure(figsize=(16,9))\n",
    "plt.subplot(2,4,1)\n",
    "for i in range(n_rerun):\n",
    "    if i in idx_bad:\n",
    "        plt.plot(xx, all_posteriors[i][-1].eval(xx, log=False), 'r')\n",
    "    else:\n",
    "        plt.plot(xx, all_posteriors[i][-1].eval(xx, log=False), 'b')\n",
    "plt.plot(xx, p_true.eval(xx, log=False), 'k')\n",
    "plt.xlabel('theta')\n",
    "plt.title('posterior estimates')\n",
    "\n",
    "plt.subplot(2,4,2)\n",
    "for i in range(n_rerun):\n",
    "    xx_ = np.arange(all_logs[i][-1]['loss'].size)[::100]\n",
    "    if i in idx_bad:\n",
    "        plt.plot(xx_,all_logs[i][-1]['loss'][::100], 'r')\n",
    "    else:\n",
    "        plt.plot(xx_,all_logs[i][-1]['loss'][::100], 'b')\n",
    "plt.axis([0, all_logs[i][-1]['loss'].size, 0, 5])\n",
    "plt.title('SVI loss')\n",
    "plt.xlabel('iteration')\n",
    "\n",
    "plt.subplot(2,4,3)\n",
    "plt.plot(idx_bad,  losses[idx_bad], 'ro')\n",
    "plt.plot(idx_good, losses[idx_good], 'bo')\n",
    "plt.legend(['fail', 'succes'], loc=1)\n",
    "plt.axis([-1,21,0, 5])\n",
    "plt.title('final SVI loss')\n",
    "plt.xlabel('#seed')\n",
    "\n",
    "plt.subplot(2,4,4)\n",
    "plt.plot(idx_bad,  lls[idx_bad], 'ro')\n",
    "plt.plot(idx_good, lls[idx_good], 'bo')\n",
    "plt.title('neg. log-likelihood (aka log-loss)')\n",
    "plt.xlabel('#seed')\n",
    "plt.axis([-1,21,0, 5])\n",
    "\n",
    "#plt.subplot(2,5,4)\n",
    "#plt.plot(idx_bad,  losses[idx_bad] -lls[idx_bad], 'ro')\n",
    "#plt.plot(idx_good, losses[idx_good]-lls[idx_good], 'bo')\n",
    "#plt.title('regularizer to prior (aka D_KL-term)')\n",
    "#plt.axis([-1,21,0, 2.3])\n",
    "#plt.xlabel('#seed')\n",
    "\n",
    "xs_ = [np.array([[0]]), \n",
    "       np.array([[2]]), \n",
    "       np.array([[5]]), \n",
    "       np.array([[10]]), \n",
    "       np.array([[15]])]\n",
    "\n",
    "for j in range(len(xs_)):\n",
    "    \n",
    "    x_ = xs_[j]\n",
    "    plt.subplot(2,len(xs_),len(xs_)+j+1)\n",
    "    \n",
    "    for i in range(n_rerun):\n",
    "\n",
    "        pest=all_infs[i].predict(x_)\n",
    "        if i in idx_bad:\n",
    "            plt.plot(xx, pest.eval(xx, log=False), 'r')\n",
    "        else:\n",
    "            plt.plot(xx, pest.eval(xx, log=False), 'b')\n",
    "        plt.title('x = ' + str(x_[0,0]))\n",
    "        plt.xlabel('theta')\n",
    "        \n",
    "    if j==0:\n",
    "        plt.ylabel('conditional densities')\n",
    "\n",
    "plt.suptitle('signs for multiple optima in MDN final losses fit to 1D bimodal MoG')\n",
    "#plt.savefig('MoG_1D_bimodal_20seeds_3round_N1800_reinitW_seed93_20repeats_round1_loss_decomposition.pdf')\n",
    "plt.show()\n"
   ]
  },
  {
   "cell_type": "code",
   "execution_count": null,
   "metadata": {
    "collapsed": true
   },
   "outputs": [],
   "source": [
    "\n",
    "\n",
    "\n",
    "\n",
    "\n",
    "\n",
    "\n",
    "\n",
    "\n",
    "\n",
    "\n"
   ]
  }
 ],
 "metadata": {
  "anaconda-cloud": {},
  "kernelspec": {
   "display_name": "Python 3",
   "language": "python",
   "name": "python3"
  },
  "language_info": {
   "codemirror_mode": {
    "name": "ipython",
    "version": 3
   },
   "file_extension": ".py",
   "mimetype": "text/x-python",
   "name": "python",
   "nbconvert_exporter": "python",
   "pygments_lexer": "ipython3",
   "version": "3.6.3"
  }
 },
 "nbformat": 4,
 "nbformat_minor": 2
}
