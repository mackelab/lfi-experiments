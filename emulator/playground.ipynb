{
 "cells": [
  {
   "cell_type": "markdown",
   "metadata": {},
   "source": [
    "# Emulator learning"
   ]
  },
  {
   "cell_type": "code",
   "execution_count": 1,
   "metadata": {},
   "outputs": [
    {
     "name": "stderr",
     "output_type": "stream",
     "text": [
      "WARNING (theano.tensor.blas): Using NumPy C-API based implementation for BLAS functions.\n"
     ]
    }
   ],
   "source": [
    "import delfi.distribution as dd\n",
    "import delfi.generator as dg\n",
    "import delfi.inference as infer\n",
    "import delfi.summarystats as ds\n",
    "import matplotlib.pyplot as plt\n",
    "import numpy as np\n",
    "import theano\n",
    "import time\n",
    "\n",
    "from delfi.simulator.Gauss import Gauss\n",
    "from tqdm import tqdm\n",
    "\n",
    "%matplotlib inline\n",
    "\n",
    "n_params = 1\n",
    "seed = 42\n",
    "m = Gauss(dim=n_params, seed=seed, noise_cov=1.)\n",
    "p = dd.Gaussian(m=0.*np.ones(n_params), \n",
    "                S=1.*np.eye(n_params),\n",
    "                seed=seed)\n",
    "p = dd.Uniform(lower=-5., upper=5., seed=seed)\n",
    "s = ds.Identity()\n",
    "g = dg.Default(model=m, prior=p, summary=s)\n",
    "\n",
    "obs = 0.8 * np.ones((1,1))"
   ]
  },
  {
   "cell_type": "markdown",
   "metadata": {},
   "source": [
    "## Steps 1 and 2"
   ]
  },
  {
   "cell_type": "markdown",
   "metadata": {},
   "source": [
    "Initial training of the emulator"
   ]
  },
  {
   "cell_type": "code",
   "execution_count": 2,
   "metadata": {
    "collapsed": true
   },
   "outputs": [],
   "source": [
    "import theano.tensor as tt\n",
    "\n",
    "from delfi.inference.BaseInference import BaseInference\n",
    "from delfi.neuralnet.Trainer import Trainer\n",
    "from delfi.neuralnet.loss.regularizer import svi_kl_zero\n",
    "\n",
    "class EmulatorTraining(BaseInference):\n",
    "    def __init__(self, generator, obs=None, reg_lambda=0.01, seed=None, verbose=True, **kwargs):\n",
    "        \"\"\"Training algorithm for emulator\n",
    "\n",
    "        Parameters\n",
    "        ----------\n",
    "        generator : generator instance\n",
    "            Generator instance\n",
    "        obs : array or None\n",
    "            Observation in the format the generator returns (1 x n_summary)\n",
    "        reg_lambda : float\n",
    "            Precision parameter for weight regularizer if svi is True\n",
    "        seed : int or None\n",
    "            If provided, random number generator will be seeded\n",
    "        kwargs : additional keyword arguments\n",
    "            Additional arguments for the NeuralNet instance, including:\n",
    "                n_components : int\n",
    "                    Number of components of the mixture density\n",
    "                n_hiddens : list of ints\n",
    "                    Number of hidden units per layer of the neural network\n",
    "                svi : bool\n",
    "                    Whether to use SVI version of the network or not\n",
    "\n",
    "        Attributes\n",
    "        ----------\n",
    "        observables : dict\n",
    "            Dictionary containing theano variables that can be monitored while\n",
    "            training the neural network.\n",
    "        \"\"\"\n",
    "        super().__init__(generator, prior_norm=False,\n",
    "                         pilot_samples=0, seed=seed,\n",
    "                         verbose=verbose, **kwargs)\n",
    "        self.obs = obs\n",
    "        self.reg_lambda = reg_lambda\n",
    "\n",
    "    def loss(self, N):\n",
    "        \"\"\"Loss function for training\n",
    "\n",
    "        Parameters\n",
    "        ----------\n",
    "        N : int\n",
    "            Number of training samples\n",
    "        \"\"\"\n",
    "        loss = -tt.mean(self.network.lprobs)\n",
    "\n",
    "        # keep weights close to zero-centered prior\n",
    "        if self.reg_lambda > 0:\n",
    "            kl, _ = svi_kl_zero(self.network.mps, self.network.sps,\n",
    "                                self.reg_lambda)\n",
    "        else:\n",
    "            kl = 0.\n",
    "        loss = loss + 1/N * kl\n",
    "\n",
    "        return loss\n",
    "\n",
    "    def acquisition(self, beta=1.):\n",
    "        loss = - (tt.mean(self.network.lprobs) + beta*tt.var(self.network.lprobs)) \n",
    "        \n",
    "        \n",
    "    def run(self, n_train=100, epochs=100, minibatch=50, monitor=None,\n",
    "            **kwargs):\n",
    "        \"\"\"Run algorithm\n",
    "\n",
    "        Generate training data using the generator. Set up the Trainer with a\n",
    "        neural net, a loss function and the generated training data. Train the\n",
    "        network with the specified training arguments.\n",
    "\n",
    "        Parameters\n",
    "        ----------\n",
    "        n_train : int\n",
    "            Number of training samples\n",
    "        epochs : int\n",
    "            Number of epochs used for neural network training\n",
    "        minibatch : int\n",
    "            Size of the minibatches used for neural network training\n",
    "        monitor : list of str\n",
    "            Names of variables to record during training along with the value\n",
    "            of the loss function. The observables attribute contains all\n",
    "            possible variables that can be monitored\n",
    "        kwargs : additional keyword arguments\n",
    "            Additional arguments for the Trainer instance\n",
    "\n",
    "        Returns\n",
    "        -------\n",
    "        log: dict\n",
    "            dict containing the loss values as returned by Trainer.train()\n",
    "        trn_data : (params, stats)\n",
    "            training dataset, z-transformed\n",
    "        posterior : distribution or None\n",
    "            posterior for obs if obs is not None\n",
    "        \"\"\"\n",
    "        trn_data = self.gen(n_train, verbose=self.verbose)  # z-transformed\n",
    "        trn_inputs = [self.network.stats, self.network.params]  # flipped (!)\n",
    "\n",
    "        t = Trainer(self.network, self.loss(N=n_train),\n",
    "                    trn_data=trn_data, trn_inputs=trn_inputs,\n",
    "                    monitor=self.monitor_dict_from_names(monitor),\n",
    "                    seed=self.gen_newseed(), **kwargs)\n",
    "        log = t.train(epochs=epochs, minibatch=minibatch, verbose=self.verbose)\n",
    "\n",
    "        posterior = self.predict(self.obs) if self.obs is not None else None\n",
    "\n",
    "        return log, trn_data, posterior"
   ]
  },
  {
   "cell_type": "code",
   "execution_count": 3,
   "metadata": {},
   "outputs": [
    {
     "data": {
      "application/vnd.jupyter.widget-view+json": {
       "model_id": "59fa5e447b404576b8fc55fbbe863135"
      }
     },
     "metadata": {},
     "output_type": "display_data"
    },
    {
     "name": "stdout",
     "output_type": "stream",
     "text": [
      "\n"
     ]
    },
    {
     "data": {
      "application/vnd.jupyter.widget-view+json": {
       "model_id": "580827464c6c4c1ab8d6af64f9c5979a"
      }
     },
     "metadata": {},
     "output_type": "display_data"
    },
    {
     "name": "stdout",
     "output_type": "stream",
     "text": [
      "\n"
     ]
    },
    {
     "data": {
      "application/vnd.jupyter.widget-view+json": {
       "model_id": "617167cf4170455cb58d1e801bd48096"
      }
     },
     "metadata": {},
     "output_type": "display_data"
    },
    {
     "name": "stdout",
     "output_type": "stream",
     "text": [
      "\n"
     ]
    }
   ],
   "source": [
    "emul = EmulatorTraining(g, n_hiddens=[10], seed=seed, reg_lambda=0.1, var_init=0.01)\n",
    "log, trn_data, _ = emul.run(100, epochs=2000)  # trn_data is (params, stats)"
   ]
  },
  {
   "cell_type": "code",
   "execution_count": 4,
   "metadata": {},
   "outputs": [
    {
     "data": {
      "image/png": "[encoded data removed]",
      "text/plain": [
       "<matplotlib.figure.Figure at 0x7f58f9c093c8>"
      ]
     },
     "metadata": {},
     "output_type": "display_data"
    }
   ],
   "source": [
    "## posterior draws\n",
    "\n",
    "res = 100\n",
    "thetas = np.linspace(-5, 5, res)\n",
    "\n",
    "R = 500\n",
    "\n",
    "vals = np.zeros((res, R, 3))\n",
    "\n",
    "for i, theta_e in enumerate(thetas):\n",
    "    theta_e = theta_e * np.ones((1,1))\n",
    "    theta_e = theta_e.astype(np.float32)\n",
    "\n",
    "    for r in range(R):\n",
    "        pred = emul.network.get_mog(theta_e, deterministic=False)\n",
    "        vals[i, r, 0] = pred.xs[0].m\n",
    "        vals[i, r, 1] = pred.xs[0].S\n",
    "        vals[i, r, 2] = pred.xs[0].m.squeeze() + np.sqrt(pred.xs[0].S.squeeze())*np.random.randn()\n",
    "    \n",
    "## Posterior if we did linear regression on trn_data\n",
    "\n",
    "params, stats = trn_data\n",
    "\n",
    "alpha = 0.1  # precision of isotropic Gaussian prior on weight\n",
    "betam = 1.  # precision of model noise\n",
    "\n",
    "m0 = 0.\n",
    "S0 = 1/alpha*np.eye(2)\n",
    "Phi = np.array([params.squeeze(), \n",
    "                np.ones((len(params)))]).T\n",
    "t = stats\n",
    "\n",
    "SN = np.linalg.inv(alpha+betam*np.dot(Phi.T, Phi))\n",
    "mN = betam*np.dot(SN, np.dot(Phi.T, t))\n",
    "\n",
    "x = thetas\n",
    "\n",
    "plt.figure(figsize=(10,5))\n",
    "\n",
    "for r in range(R):\n",
    "    sampam = np.random.multivariate_normal(mN.squeeze(), SN, 1)\n",
    "    plt.plot(x, np.dot(sampam.squeeze(), np.array([x, 1])), '-y', alpha=0.1)\n",
    "\n",
    "#plt.plot(thetas, vals[:, :, 0], '.b', alpha=0.2);\n",
    "#plt.plot(thetas, vals[:, :, 1], '.g', alpha=0.2);\n",
    "\n",
    "#plt.plot(params, stats, '.r')\n",
    "plt.xlabel('params')\n",
    "plt.ylabel('stats');"
   ]
  },
  {
   "cell_type": "code",
   "execution_count": 5,
   "metadata": {},
   "outputs": [
    {
     "data": {
      "text/plain": [
       "[<matplotlib.lines.Line2D at 0x7f58c337d630>]"
      ]
     },
     "execution_count": 5,
     "metadata": {},
     "output_type": "execute_result"
    },
    {
     "data": {
      "image/png": "[encoded data removed]",
      "text/plain": [
       "<matplotlib.figure.Figure at 0x7f58dc05e4a8>"
      ]
     },
     "metadata": {},
     "output_type": "display_data"
    }
   ],
   "source": [
    "plt.plot(params, stats, 'x')"
   ]
  },
  {
   "cell_type": "code",
   "execution_count": 6,
   "metadata": {},
   "outputs": [
    {
     "data": {
      "text/plain": [
       "[<matplotlib.lines.Line2D at 0x7f58c336fe80>]"
      ]
     },
     "execution_count": 6,
     "metadata": {},
     "output_type": "execute_result"
    },
    {
     "data": {
      "image/png": "[encoded data removed]",
      "text/plain": [
       "<matplotlib.figure.Figure at 0x7f58c339d438>"
      ]
     },
     "metadata": {},
     "output_type": "display_data"
    }
   ],
   "source": [
    "plt.plot(x, 1/betam + np.dot(np.dot(np.array([x, 1]), SN), np.array([x, 1])))\n",
    "\n",
    "plt.plot(x, np.var(vals[:, :, 0], axis=1))\n",
    "\n",
    "plt.plot(x, np.var(vals[:, :, 1], axis=1))"
   ]
  },
  {
   "cell_type": "code",
   "execution_count": 7,
   "metadata": {},
   "outputs": [
    {
     "data": {
      "text/plain": [
       "[<matplotlib.lines.Line2D at 0x7fd1cb2f8cf8>]"
      ]
     },
     "execution_count": 7,
     "metadata": {},
     "output_type": "execute_result"
    },
    {
     "data": {
      "image/png": "[encoded data removed]",
      "text/plain": [
       "<matplotlib.figure.Figure at 0x7fd1cb40cda0>"
      ]
     },
     "metadata": {},
     "output_type": "display_data"
    }
   ],
   "source": [
    "plt.plot(params, stats, 'x')"
   ]
  },
  {
   "cell_type": "code",
   "execution_count": 8,
   "metadata": {},
   "outputs": [
    {
     "data": {
      "text/plain": [
       "[<matplotlib.lines.Line2D at 0x7fd25807fd30>]"
      ]
     },
     "execution_count": 8,
     "metadata": {},
     "output_type": "execute_result"
    },
    {
     "data": {
      "image/png": "[encoded data removed]",
      "text/plain": [
       "<matplotlib.figure.Figure at 0x7fd1cb301208>"
      ]
     },
     "metadata": {},
     "output_type": "display_data"
    }
   ],
   "source": [
    "plt.plot(x, 1/betam + np.dot(np.dot(np.array([x, 1]), SN), np.array([x, 1])))\n",
    "\n",
    "plt.plot(x, np.var(vals[:, :, 0], axis=1))\n",
    "\n",
    "plt.plot(x, np.var(vals[:, :, 1], axis=1))"
   ]
  },
  {
   "cell_type": "code",
   "execution_count": 13,
   "metadata": {},
   "outputs": [
    {
     "data": {
      "text/plain": [
       "-2.3025850929940455"
      ]
     },
     "execution_count": 13,
     "metadata": {},
     "output_type": "execute_result"
    }
   ],
   "source": [
    "np.log(np.sqrt(0.01))"
   ]
  },
  {
   "cell_type": "code",
   "execution_count": 15,
   "metadata": {},
   "outputs": [
    {
     "data": {
      "text/plain": [
       "{'h1.mW': array([[-0.25952309, -0.33696809, -0.02665106, -0.93150306, -0.29457444,\n",
       "         -0.67888671, -0.36480767, -0.59092653, -0.67300218, -0.97351158]], dtype=float32),\n",
       " 'h1.mb': array([ 0.01111777, -0.16205233,  0.02199078,  0.82102776, -0.1549664 ,\n",
       "        -0.95954251,  0.09065121,  0.88815653, -0.54193091, -0.54248452], dtype=float32),\n",
       " 'h1.sW': array([[-3.01077127, -2.32086515,  1.04222488, -0.60297614, -2.26469469,\n",
       "         -1.99081326, -1.74682474, -1.86511278, -0.13809454,  0.43251365]], dtype=float32),\n",
       " 'h1.sb': array([-2.13506842, -1.46272206,  1.09092879,  0.21445757, -1.34549713,\n",
       "        -1.13776243, -0.78129774, -0.93620914,  0.79467189,  1.03282404], dtype=float32),\n",
       " 'imputation_values': array([ 0.01250807], dtype=float32),\n",
       " 'means.mW0': array([[-1.36259651],\n",
       "        [-0.8432762 ],\n",
       "        [-0.00398921],\n",
       "        [-0.1421068 ],\n",
       "        [-0.68738508],\n",
       "        [-0.68065017],\n",
       "        [-0.35418829],\n",
       "        [-0.59756124],\n",
       "        [-0.00949318],\n",
       "        [-0.03806346]], dtype=float32),\n",
       " 'means.mb0': array([-0.07725869], dtype=float32),\n",
       " 'means.sW0': array([[-1.46340919],\n",
       "        [-1.61446679],\n",
       "        [-2.00053024],\n",
       "        [-1.9171567 ],\n",
       "        [-1.57040381],\n",
       "        [-1.89339995],\n",
       "        [-1.64041054],\n",
       "        [-1.82381475],\n",
       "        [-1.92875707],\n",
       "        [-1.98085558]], dtype=float32),\n",
       " 'means.sb0': array([-2.08253551], dtype=float32),\n",
       " 'precisions.mW0': array([[ 0.37506703],\n",
       "        [-0.09269793],\n",
       "        [ 0.00837984],\n",
       "        [-0.00190322],\n",
       "        [ 0.00700678],\n",
       "        [-0.37001002],\n",
       "        [-0.02011742],\n",
       "        [ 0.10902027],\n",
       "        [-0.00278548],\n",
       "        [-0.00536321]], dtype=float32),\n",
       " 'precisions.mb0': array([-0.38730636], dtype=float32),\n",
       " 'precisions.sW0': array([[-1.21156478],\n",
       "        [-1.28487515],\n",
       "        [-1.45290697],\n",
       "        [-1.41851377],\n",
       "        [-1.25436151],\n",
       "        [-1.39324188],\n",
       "        [-1.30168784],\n",
       "        [-1.37853658],\n",
       "        [-1.41626096],\n",
       "        [-1.43712223]], dtype=float32),\n",
       " 'precisions.sb0': array([-1.48394942], dtype=float32)}"
      ]
     },
     "execution_count": 15,
     "metadata": {},
     "output_type": "execute_result"
    }
   ],
   "source": [
    "emul.network.params_dict"
   ]
  },
  {
   "cell_type": "markdown",
   "metadata": {},
   "source": [
    "## Step 3"
   ]
  },
  {
   "cell_type": "code",
   "execution_count": 7,
   "metadata": {
    "collapsed": true
   },
   "outputs": [],
   "source": [
    "dtype = [('f', 'float32'), ('g', 'float32')]\n",
    "\n",
    "def normal_loglikelihood(mu, sd):\n",
    "    def logp(x):\n",
    "        return -0.5* ((x - mu) / sd)**2 - 0.5 * tt.log(2* np.pi) - tt.log(sd)\n",
    "    return logp\n",
    "\n",
    "\n",
    "def make_fun(): \n",
    "    eval = theano.function(\n",
    "        inputs=[emul.network.params, emul.network.stats],\n",
    "        outputs=[f_theta, fprime_theta],\n",
    "        on_unused_input='ignore')\n",
    "    def fun(x, t):\n",
    "        f, g = eval(x, t)\n",
    "        return np.array((f, g), dtype=dtype)    \n",
    "    return fun\n",
    "\n",
    "def make_invoke(M):\n",
    "    def invoke(x, theta):\n",
    "        v = np.zeros(M, dtype=dtype)\n",
    "        for m in range(M):\n",
    "            v[m] = fun(x, theta)\n",
    "        return v\n",
    "    return invoke\n",
    "\n",
    "def loss(v, beta):\n",
    "    Ef = v['f'].mean()\n",
    "    Ef2 = (v['f']**2).mean()\n",
    "    E2f = Ef**2\n",
    "    return -Ef - beta * (Ef2 - E2f)\n",
    "\n",
    "def grad(v, beta):\n",
    "    return -(np.mean(v['g']) + 2 * beta * (np.dot(v['f'], v['g'])/M - np.mean(v['f'])*np.mean(v['g'])))\n",
    "\n",
    "def optimize(f, po, maxiter=150, verbose=False):\n",
    "    to, xo = po\n",
    "    alpha = 0.01\n",
    "    done = False\n",
    "    ti = to\n",
    "    Lo = np.inf\n",
    "    i = 0\n",
    "    \n",
    "    if verbose:\n",
    "        pbar = tqdm()\n",
    "    \n",
    "    while not done and i < maxiter:\n",
    "        vi = f(xo, ti)\n",
    "        L = loss(vi, beta)\n",
    "        g = grad(vi, beta)\n",
    "        #print(ti, g)\n",
    "        assert not np.isinf(g)\n",
    "        assert not np.isnan(g)\n",
    "        \n",
    "        ti -= alpha * g\n",
    "        if np.abs(Lo - L) < 1e-6 * Lo + 1e-6:\n",
    "            done = True\n",
    "        Lo = L\n",
    "        i += 1\n",
    "        \n",
    "        if verbose:\n",
    "            pbar.update()\n",
    "    return ti"
   ]
  },
  {
   "cell_type": "code",
   "execution_count": 8,
   "metadata": {},
   "outputs": [],
   "source": [
    "M = 100\n",
    "beta = 1.\n",
    "\n",
    "f_theta = tt.sum(emul.network.lprobs) + tt.sum(normal_loglikelihood(p.mean[0], p.std[0])(emul.network.stats))\n",
    "fprime_theta = tt.grad(f_theta, emul.network.stats)\n",
    "\n",
    "fun = make_fun()"
   ]
  },
  {
   "cell_type": "code",
   "execution_count": 9,
   "metadata": {
    "scrolled": false
   },
   "outputs": [
    {
     "data": {
      "text/plain": [
       "array([[ 0.40252307]], dtype=float32)"
      ]
     },
     "execution_count": 9,
     "metadata": {},
     "output_type": "execute_result"
    }
   ],
   "source": [
    "obs = 0.8 * np.ones((1,1))\n",
    "theta_s = 0.8 * np.ones((1,1))\n",
    "obs = obs.astype(np.float32)\n",
    "theta_s = theta_s.astype(np.float32)\n",
    "\n",
    "t_star = optimize(make_invoke(M), (theta_s, obs))\n",
    "t_star"
   ]
  },
  {
   "cell_type": "markdown",
   "metadata": {},
   "source": [
    "## Verify"
   ]
  },
  {
   "cell_type": "code",
   "execution_count": 13,
   "metadata": {},
   "outputs": [
    {
     "data": {
      "text/plain": [
       "-2.7000000000000002"
      ]
     },
     "execution_count": 13,
     "metadata": {},
     "output_type": "execute_result"
    },
    {
     "data": {
      "image/png": "[encoded data removed]",
      "text/plain": [
       "<matplotlib.figure.Figure at 0x7fd570a31d68>"
      ]
     },
     "metadata": {},
     "output_type": "display_data"
    }
   ],
   "source": [
    "theta = np.linspace(-3,3,101)\n",
    "invoke = make_invoke(M)\n",
    "L = np.zeros(101)\n",
    "for i, t in enumerate(theta):\n",
    "    theta_s = np.array([[t]], dtype=np.float32)\n",
    "    vi = invoke(obs, theta_s)\n",
    "    L[i] = loss(vi, beta=1.)\n",
    "    \n",
    "plt.plot(theta, L)\n",
    "theta[np.argmin(L)]"
   ]
  },
  {
   "cell_type": "code",
   "execution_count": null,
   "metadata": {
    "collapsed": true
   },
   "outputs": [],
   "source": []
  },
  {
   "cell_type": "code",
   "execution_count": null,
   "metadata": {
    "collapsed": true
   },
   "outputs": [],
   "source": []
  }
 ],
 "metadata": {
  "kernelspec": {
   "display_name": "Python 3",
   "language": "python",
   "name": "python3"
  },
  "language_info": {
   "codemirror_mode": {
    "name": "ipython",
    "version": 3
   },
   "file_extension": ".py",
   "mimetype": "text/x-python",
   "name": "python",
   "nbconvert_exporter": "python",
   "pygments_lexer": "ipython3",
   "version": "3.6.2"
  }
 },
 "nbformat": 4,
 "nbformat_minor": 2
}
