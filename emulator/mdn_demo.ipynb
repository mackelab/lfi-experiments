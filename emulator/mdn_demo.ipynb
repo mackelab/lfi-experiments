{
 "cells": [
  {
   "cell_type": "code",
   "execution_count": 1,
   "metadata": {
    "collapsed": true
   },
   "outputs": [],
   "source": [
    "import matplotlib.pyplot as plt\n",
    "import numpy as np\n",
    "import time\n",
    "import torch\n",
    "import torch.nn as nn\n",
    "\n",
    "from helpers import *\n",
    "from torch.autograd import Variable\n",
    "from random import shuffle\n",
    "\n",
    "%matplotlib inline"
   ]
  },
  {
   "cell_type": "code",
   "execution_count": 2,
   "metadata": {},
   "outputs": [
    {
     "data": {
      "image/png": "[encoded data removed]",
      "text/plain": [
       "<matplotlib.figure.Figure at 0x7fcbd3c4c080>"
      ]
     },
     "metadata": {},
     "output_type": "display_data"
    }
   ],
   "source": [
    "N = 200  # size of toy data\n",
    "\n",
    "def build_linear_dataset(N, noise_std=0.5):\n",
    "    X = np.linspace(-2, 2, num=N)\n",
    "    Y = 3 * X + 1 + np.random.normal(0, noise_std, size=N)\n",
    "    X, Y = X.reshape((N, 1)), Y.reshape((N, 1))\n",
    "    return X, Y\n",
    "\n",
    "X, Y = build_linear_dataset(N)\n",
    "\n",
    "X_var = Variable(torch.Tensor(X))\n",
    "Y_var = Variable(torch.Tensor(Y))\n",
    "\n",
    "plt.plot(X, Y, '.');\n",
    "plt.xlabel('X');\n",
    "plt.ylabel('Y');"
   ]
  },
  {
   "cell_type": "code",
   "execution_count": 3,
   "metadata": {},
   "outputs": [
    {
     "data": {
      "image/png": "[encoded data removed]",
      "text/plain": [
       "<matplotlib.figure.Figure at 0x7fcbd3ed3dd8>"
      ]
     },
     "metadata": {},
     "output_type": "display_data"
    }
   ],
   "source": [
    "# posterior with bayesian linear regression\n",
    "\n",
    "alpha = 0.01  # precision of isotropic Gaussian prior on weight\n",
    "betam = 1.    # precision of model noise\n",
    "\n",
    "m0 = 0.\n",
    "S0 = 1/alpha*np.eye(2)\n",
    "Phi = np.array([X.squeeze(), \n",
    "                np.ones((len(X)))]).T\n",
    "\n",
    "SN = np.linalg.inv(alpha+betam*np.dot(Phi.T, Phi))\n",
    "mN = betam*np.dot(SN, np.dot(Phi.T, Y))\n",
    "\n",
    "for r in range(250):\n",
    "    sampam = np.random.multivariate_normal(mN.squeeze(), SN, 1)\n",
    "    plt.plot(X, np.dot(sampam.squeeze(), np.array([X, 1])), '-r', alpha=0.1)\n",
    "plt.plot(X, Y, '.');\n",
    "plt.xlabel('X');\n",
    "plt.ylabel('Y');"
   ]
  },
  {
   "cell_type": "code",
   "execution_count": 55,
   "metadata": {
    "scrolled": false
   },
   "outputs": [
    {
     "name": "stdout",
     "output_type": "stream",
     "text": [
      "[epoch 0050] loss: 1.6783\n",
      "[epoch 0100] loss: 1.4550\n"
     ]
    }
   ],
   "source": [
    "model = MDN(svi=True, n_samples=1000)\n",
    "optim = torch.optim.Adam(model.parameters(), lr=0.01)\n",
    "\n",
    "def train(X, Y, n_epochs=100, n_minibatch=50):\n",
    "    dataset_train = [(x, y) for x, y in zip(X, Y)]\n",
    "\n",
    "    for epoch in range(n_epochs): \n",
    "        bgen = batch_generator(dataset_train, n_minibatch)\n",
    "\n",
    "        for j, (x_batch, y_batch) in enumerate(bgen):\n",
    "            x_var = Variable(torch.Tensor(x_batch))\n",
    "            y_var = Variable(torch.Tensor(y_batch))\n",
    "                                                            \n",
    "            (out_alpha, out_sigma, out_mu) = model(x_var)\n",
    "            \n",
    "            if model.svi:\n",
    "                y_var = y_var[None, :, :].expand(model.n_samples, x_var.size()[0], 1).contiguous().view(-1, 1)\n",
    "            loss = -torch.mean(mdn_logloss(out_alpha, out_sigma, out_mu, y_var))\n",
    "            loss += 1/N*mdn_kl(model.mu, model.logsigma, 0.01)\n",
    "            \n",
    "            optim.zero_grad()\n",
    "            loss.backward()\n",
    "            optim.step()\n",
    "\n",
    "        if (epoch + 1) % 50 == 0:\n",
    "            print(\"[epoch %04d] loss: %.4f\" % (epoch + 1, loss.data[0]))\n",
    "        \n",
    "train(X, Y)"
   ]
  },
  {
   "cell_type": "code",
   "execution_count": null,
   "metadata": {
    "collapsed": true
   },
   "outputs": [],
   "source": [
    "def normal_loglikelihood(mu, sd):\n",
    "    def logp(x):\n",
    "        return -0.5* ((x - mu) / sd)**2 - 0.5 * tt.log(2* np.pi) - tt.log(sd)\n",
    "    return logp\n",
    "\n",
    "\n",
    "def make_fun(): \n",
    "    eval = theano.function(\n",
    "        inputs=[emul.network.params, emul.network.stats],\n",
    "        outputs=[f_theta, fprime_theta],\n",
    "        on_unused_input='ignore')\n",
    "    def fun(x, t):\n",
    "        f, g = eval(x, t)\n",
    "        return np.array((f, g), dtype=dtype)    \n",
    "    return fun\n",
    "\n",
    "def make_invoke(M):\n",
    "    def invoke(x, theta):\n",
    "        v = np.zeros(M, dtype=dtype)\n",
    "        for m in range(M):\n",
    "            v[m] = fun(x, theta)\n",
    "        return v\n",
    "    return invoke\n",
    "\n",
    "def loss(v, beta):\n",
    "    Ef = v['f'].mean()\n",
    "    Ef2 = (v['f']**2).mean()\n",
    "    E2f = Ef**2\n",
    "    return -Ef - beta * (Ef2 - E2f)\n",
    "\n",
    "def grad(v, beta):\n",
    "    return -(np.mean(v['g']) + 2 * beta * (np.dot(v['f'], v['g'])/M - np.mean(v['f'])*np.mean(v['g'])))\n",
    "\n",
    "def optimize(f, po, maxiter=150, verbose=False):\n",
    "    to, xo = po\n",
    "    alpha = 0.01\n",
    "    done = False\n",
    "    ti = to\n",
    "    Lo = np.inf\n",
    "    i = 0\n",
    "    \n",
    "    if verbose:\n",
    "        pbar = tqdm()\n",
    "    \n",
    "    while not done and i < maxiter:\n",
    "        vi = f(xo, ti)\n",
    "        L = loss(vi, beta)\n",
    "        g = grad(vi, beta)\n",
    "        #print(ti, g)\n",
    "        assert not np.isinf(g)\n",
    "        assert not np.isnan(g)\n",
    "        \n",
    "        ti -= alpha * g\n",
    "        if np.abs(Lo - L) < 1e-6 * Lo + 1e-6:\n",
    "            done = True\n",
    "        Lo = L\n",
    "        i += 1\n",
    "        \n",
    "        if verbose:\n",
    "            pbar.update()\n",
    "    return ti\n",
    "\n",
    "M = 100\n",
    "beta = 1.\n",
    "\n",
    "def al_objective_v1():\n",
    "    # C(θ) = E[log L(θ)p(θ)] + β VAR[log L(θ)p(θ)]\n",
    "    f  = mdn_logprobs()\n",
    "    f += gauss_pdf()\n",
    "    return f\n",
    "\n",
    "\n",
    "\n",
    "obs = np.array([0.8])\n",
    "theta_init = np.array([0.])\n",
    "\n",
    "t_star = optimize(make_invoke(M), (theta_s, obs))\n",
    "t_star\n",
    "\n"
   ]
  },
  {
   "cell_type": "code",
   "execution_count": 56,
   "metadata": {},
   "outputs": [],
   "source": [
    "dataset_train = [(x, y) for x, y in zip(X, Y)]\n",
    "bgen = batch_generator(dataset_train, 50)\n",
    "x_batch, y_batch = next(bgen)\n",
    "x_var = nn.Parameter(torch.Tensor(x_batch))\n",
    "y_var = Variable(torch.Tensor(y_batch))\n",
    "(out_alpha, out_sigma, out_mu) = model(x_var, frozen=True)\n",
    "y_var = y_var[None, :, :].expand(model.n_samples, x_var.size()[0], 1).contiguous().view(-1, 1)\n",
    "loss = mdn_loss_function(out_alpha, out_sigma, out_mu, y_var)\n",
    "loss.backward()"
   ]
  },
  {
   "cell_type": "code",
   "execution_count": 84,
   "metadata": {},
   "outputs": [
    {
     "name": "stdout",
     "output_type": "stream",
     "text": [
      "Variable containing:\n",
      " 11.2790\n",
      "[torch.FloatTensor of size 1]\n",
      "\n",
      "65.54293632507324\n"
     ]
    }
   ],
   "source": [
    "beta = 1.\n",
    "\n",
    "tic = time.time()\n",
    "x_var = nn.Parameter(torch.Tensor(x_batch))\n",
    "(out_alpha, out_sigma, out_mu) = model(x_var, frozen=False)\n",
    "y_var = Variable(torch.Tensor(y_batch))\n",
    "y_var = y_var[None, :, :].expand(model.n_samples, x_var.size()[0], 1).contiguous().view(-1, 1)\n",
    "loss = mdn_loss_function(out_alpha, out_sigma, out_mu, y_var)\n",
    "new_loss = loss + 10.\n",
    "\n",
    "f_theta = new_loss\n",
    "print(f_theta)\n",
    "#f_theta.backward()\n",
    "#fprime_theta = x_var.grad.data.numpy()\n",
    "\n",
    "diff = time.time() - tic\n",
    "print(diff*1000)"
   ]
  },
  {
   "cell_type": "code",
   "execution_count": 8,
   "metadata": {},
   "outputs": [
    {
     "ename": "NameError",
     "evalue": "name 'fprime_theta' is not defined",
     "output_type": "error",
     "traceback": [
      "\u001b[0;31m--------------------------------------------------------------------------\u001b[0m",
      "\u001b[0;31mNameError\u001b[0m                                Traceback (most recent call last)",
      "\u001b[0;32m<ipython-input-8-fb94d1c8b7af>\u001b[0m in \u001b[0;36m<module>\u001b[0;34m()\u001b[0m\n\u001b[0;32m----> 1\u001b[0;31m \u001b[0mnp\u001b[0m\u001b[0;34m.\u001b[0m\u001b[0msum\u001b[0m\u001b[0;34m(\u001b[0m\u001b[0mfprime_theta\u001b[0m\u001b[0;34m)\u001b[0m\u001b[0;34m\u001b[0m\u001b[0m\n\u001b[0m",
      "\u001b[0;31mNameError\u001b[0m: name 'fprime_theta' is not defined"
     ]
    }
   ],
   "source": [
    "np.sum(fprime_theta)"
   ]
  },
  {
   "cell_type": "code",
   "execution_count": 40,
   "metadata": {},
   "outputs": [
    {
     "data": {
      "text/plain": [
       "Variable containing:\n",
       " 11.0496\n",
       "[torch.FloatTensor of size 1]"
      ]
     },
     "execution_count": 40,
     "metadata": {},
     "output_type": "execute_result"
    }
   ],
   "source": [
    "f_theta"
   ]
  },
  {
   "cell_type": "code",
   "execution_count": 41,
   "metadata": {},
   "outputs": [
    {
     "data": {
      "text/plain": [
       "Variable containing:\n",
       "1.00000e-02 *\n",
       " -1.8378\n",
       "  3.4964\n",
       " -0.3011\n",
       " -1.0284\n",
       "  0.9547\n",
       "  0.4381\n",
       "  1.6746\n",
       " -2.3998\n",
       " -0.1852\n",
       " -0.9466\n",
       " -1.3031\n",
       "  0.0271\n",
       " -2.7386\n",
       "  0.7637\n",
       " -3.3172\n",
       "  2.7550\n",
       " -2.2560\n",
       "  0.3317\n",
       " -1.2224\n",
       "  4.0281\n",
       "  1.6371\n",
       "  2.0536\n",
       " -3.5089\n",
       "  3.4752\n",
       "  0.5526\n",
       " -4.0975\n",
       "  0.8461\n",
       " -0.5840\n",
       "  2.8463\n",
       " -3.5889\n",
       "  1.5361\n",
       " -3.3684\n",
       "  6.3710\n",
       " -1.2141\n",
       " -2.2897\n",
       "  1.5078\n",
       " -0.8305\n",
       " -6.4750\n",
       " -0.6231\n",
       "  0.1070\n",
       "  0.0917\n",
       "  3.8521\n",
       "  1.2610\n",
       " -1.3358\n",
       "  1.2982\n",
       " -2.8053\n",
       "  0.1178\n",
       "  3.0380\n",
       "  2.1547\n",
       "  2.7982\n",
       "[torch.FloatTensor of size 50x1]"
      ]
     },
     "execution_count": 41,
     "metadata": {},
     "output_type": "execute_result"
    }
   ],
   "source": [
    "fprime_theta"
   ]
  },
  {
   "cell_type": "code",
   "execution_count": 37,
   "metadata": {},
   "outputs": [
    {
     "data": {
      "text/plain": [
       "Variable containing:\n",
       "1.00000e-02 *\n",
       " -1.7783\n",
       "  3.6889\n",
       " -0.1117\n",
       " -0.8575\n",
       "  1.1791\n",
       "  0.6266\n",
       "  1.8504\n",
       " -2.2394\n",
       " -0.0146\n",
       " -0.7090\n",
       " -1.1069\n",
       "  0.0566\n",
       " -2.5219\n",
       "  0.9384\n",
       " -3.1118\n",
       "  2.9494\n",
       " -1.9808\n",
       "  0.4872\n",
       " -0.9755\n",
       "  4.1082\n",
       "  1.6571\n",
       "  2.2650\n",
       " -3.3962\n",
       "  3.6917\n",
       "  0.7768\n",
       " -3.8761\n",
       "  0.8543\n",
       " -0.4225\n",
       "  2.9789\n",
       " -3.6050\n",
       "  1.6688\n",
       " -3.2006\n",
       "  6.5004\n",
       " -1.1017\n",
       " -2.0681\n",
       "  1.5124\n",
       " -0.6741\n",
       " -6.4668\n",
       " -0.4700\n",
       "  0.2142\n",
       "  0.3234\n",
       "  3.9616\n",
       "  1.3528\n",
       " -1.1151\n",
       "  1.5155\n",
       " -2.5344\n",
       "  0.2830\n",
       "  3.2271\n",
       "  2.2321\n",
       "  3.0069\n",
       "[torch.FloatTensor of size 50x1]"
      ]
     },
     "execution_count": 37,
     "metadata": {},
     "output_type": "execute_result"
    }
   ],
   "source": [
    "x_var.grad"
   ]
  },
  {
   "cell_type": "code",
   "execution_count": 18,
   "metadata": {},
   "outputs": [
    {
     "data": {
      "image/png": "[encoded data removed]",
      "text/plain": [
       "<matplotlib.figure.Figure at 0x7fb558757630>"
      ]
     },
     "metadata": {},
     "output_type": "display_data"
    }
   ],
   "source": [
    "X_var = Variable(torch.Tensor(X))\n",
    "Y_var = Variable(torch.Tensor(Y))\n",
    "\n",
    "(out_alpha, out_sigma, out_mu) = model(X_var, sample=False)\n",
    "\n",
    "plt.plot(X, Y, '.')\n",
    "plt.plot(X, out_mu.data.numpy(), '-r');\n",
    "plt.plot(X, out_mu.data.numpy() + out_sigma.data.numpy(), '-k');\n",
    "plt.plot(X, out_mu.data.numpy() - out_sigma.data.numpy(), '-k');"
   ]
  },
  {
   "cell_type": "code",
   "execution_count": null,
   "metadata": {
    "collapsed": true
   },
   "outputs": [],
   "source": []
  }
 ],
 "metadata": {
  "kernelspec": {
   "display_name": "Python 3",
   "language": "python",
   "name": "python3"
  },
  "language_info": {
   "codemirror_mode": {
    "name": "ipython",
    "version": 3
   },
   "file_extension": ".py",
   "mimetype": "text/x-python",
   "name": "python",
   "nbconvert_exporter": "python",
   "pygments_lexer": "ipython3",
   "version": "3.6.2"
  }
 },
 "nbformat": 4,
 "nbformat_minor": 2
}
