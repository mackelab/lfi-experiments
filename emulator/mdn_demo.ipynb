{
 "cells": [
  {
   "cell_type": "code",
   "execution_count": 1,
   "metadata": {
    "collapsed": true
   },
   "outputs": [],
   "source": [
    "import matplotlib.pyplot as plt\n",
    "import numpy as np\n",
    "import torch\n",
    "import torch.nn as nn\n",
    "\n",
    "from torch.autograd import Variable\n",
    "from random import shuffle\n",
    "\n",
    "%matplotlib inline"
   ]
  },
  {
   "cell_type": "code",
   "execution_count": 2,
   "metadata": {},
   "outputs": [
    {
     "data": {
      "image/png": "[encoded data removed]",
      "text/plain": [
       "<matplotlib.figure.Figure at 0x7f7aeed2c7b8>"
      ]
     },
     "metadata": {},
     "output_type": "display_data"
    }
   ],
   "source": [
    "N = 200  # size of toy data\n",
    "\n",
    "def build_linear_dataset(N, noise_std=0.5):\n",
    "    X = np.linspace(-2, 2, num=N)\n",
    "    Y = 3 * X + 1 + np.random.normal(0, noise_std, size=N)\n",
    "    X, Y = X.reshape((N, 1)), Y.reshape((N, 1))\n",
    "    return X, Y\n",
    "\n",
    "def batch_generator(dataset, batch_size=5):\n",
    "    shuffle(dataset)\n",
    "    N_full_batches = len(dataset) // batch_size\n",
    "    for i in range(N_full_batches):\n",
    "        idx_from = batch_size * i\n",
    "        idx_to = batch_size * (i + 1)\n",
    "        xs, ys = zip(*[(x, y) for x, y in dataset[idx_from:idx_to]])\n",
    "        yield xs, ys\n",
    "\n",
    "X, Y = build_linear_dataset(N)\n",
    "\n",
    "X_var = Variable(torch.Tensor(X))\n",
    "Y_var = Variable(torch.Tensor(Y))\n",
    "\n",
    "plt.plot(X, Y, '.');\n",
    "plt.xlabel('X');\n",
    "plt.ylabel('Y');"
   ]
  },
  {
   "cell_type": "code",
   "execution_count": 3,
   "metadata": {},
   "outputs": [],
   "source": [
    "def gauss_pdf(y, mu, sigma, log=False):\n",
    "    result = -0.5*torch.log(2*np.pi*sigma**2) - 1/(2*sigma**2) * (y - mu)**2\n",
    "    if log:\n",
    "        return result\n",
    "    else: \n",
    "        return torch.exp(result)\n",
    "\n",
    "def mdn_loss_function(out_alpha, out_sigma, out_mu, y):\n",
    "    result = (gauss_pdf(y, out_mu, Variable(torch.ones((1)))) * out_alpha).squeeze()\n",
    "    result = torch.log(result)\n",
    "    result = torch.mean(result)  # mean over samples and batch\n",
    "    return -result\n",
    "\n",
    "def mdn_kl_term(mps, sps, wdecay):\n",
    "    assert wdecay > 0.0\n",
    "    n_params = sum([mp.nelement() for mp in mps])\n",
    "    L1 = 0.5 * wdecay * (sum([torch.sum(mp**2) for mp in mps]) +\n",
    "                         sum([torch.sum(torch.exp(sp * 2)) for sp in sps]))\n",
    "    L2 = sum([torch.sum(sp) for sp in sps])\n",
    "    Lc = 0.5 * n_params * (1.0 + np.log(wdecay))\n",
    "    L = L1 - L2 - Lc\n",
    "    return L"
   ]
  },
  {
   "cell_type": "code",
   "execution_count": null,
   "metadata": {
    "collapsed": true
   },
   "outputs": [],
   "source": [
    "class FullyConnectedLayer(nn.Module):\n",
    "    def __init__(self, n_inputs, n_outputs, n_samples=9, \n",
    "                 sigma_prior=0.1, svi=True, activation=nn.Tanh()):\n",
    "        super(FullyConnectedLayer, self).__init__()\n",
    "        self.n_inputs = n_inputs\n",
    "        self.n_outputs = n_outputs\n",
    "        self.n_samples = n_samples\n",
    "        self.sigma_prior = sigma_prior\n",
    "        self.svi = svi\n",
    "        self.activation = activation\n",
    "        \n",
    "        self.W_mu = nn.Parameter(torch.Tensor(n_inputs, n_outputs).normal_(0, 1/np.sqrt(n_inputs)))\n",
    "        self.b_mu = nn.Parameter(torch.Tensor(n_outputs).uniform_(-0.01, 0.01))\n",
    "        \n",
    "        if self.svi:\n",
    "            self.W_logsigma = nn.Parameter(torch.Tensor(n_inputs, n_outputs).uniform_(-4., -6.))\n",
    "            self.b_logsigma = nn.Parameter(torch.Tensor(n_outputs).uniform_(-4., -6.))\n",
    "\n",
    "    def forward(self, X, sample=True, debug=False):\n",
    "        \"\"\"\n",
    "        In  : (n_batch, n_input) or (n_samples, n_batch, n_input)\n",
    "        Out : (n_samples, n_batch, n_outputs)\n",
    "        \"\"\"\n",
    "        if sample:\n",
    "            X = X[None, :, :] if X.dim() == 2 else X\n",
    "        if debug: print('In  : {}'.format(X.size()))\n",
    "\n",
    "        # mean activation\n",
    "        ma = torch.matmul(X, self.W_mu) + self.b_mu\n",
    "        \n",
    "        # stochastic activation\n",
    "        if self.svi and sample:\n",
    "            sa = torch.matmul(X**2, torch.exp(2*self.W_logsigma)) + torch.exp(2*self.b_logsigma)\n",
    "            ua = Variable(torch.Tensor(self.n_samples, 1, self.n_outputs).normal_())\n",
    "            output = torch.sqrt(sa)*ua + ma\n",
    "        else:\n",
    "            output = ma\n",
    "        if debug: print('Out : {}'.format(output.size()))\n",
    "\n",
    "        if self.activation is not None:\n",
    "            return self.activation(output)\n",
    "        else:\n",
    "            return output"
   ]
  },
  {
   "cell_type": "code",
   "execution_count": 4,
   "metadata": {},
   "outputs": [],
   "source": [
    "class MDN(nn.Module):\n",
    "    def __init__(self, ndim_input=1, ndim_output=1, n_hiddens=[5], n_components=1, \n",
    "                 n_samples=1, svi=True):\n",
    "        super(MDN, self).__init__()\n",
    "        self.n_components = n_components\n",
    "        self.n_samples = n_samples\n",
    "        self.svi = svi\n",
    "        \n",
    "        # convert n_hiddens if needed\n",
    "        if type(n_hiddens) == list:\n",
    "            self.n_hiddens = n_hiddens\n",
    "        elif type(n_hiddens) == int:\n",
    "            self.n_hiddens = [n_hiddens]\n",
    "        else:\n",
    "            raise ValueError\n",
    "            \n",
    "        # shared keyword arguments\n",
    "        skwargs = {'n_samples': n_samples, 'svi': svi}\n",
    "\n",
    "        n_ci = ndim_input\n",
    "        self.layers = {}\n",
    "        for idx, n_hidden in enumerate(self.n_hiddens):\n",
    "            self.layers['fc_{}'.format(idx+1)] = FullyConnectedLayer(n_ci, n_hidden, **skwargs)\n",
    "            n_ci = n_hidden\n",
    "        \n",
    "        self.alpha_out = FullyConnectedLayer(n_ci, n_components, activation=None, **skwargs)\n",
    "        self.logsigma_out = FullyConnectedLayer(n_ci, n_components, activation=None, **skwargs)\n",
    "        self.mu_out = FullyConnectedLayer(n_ci, n_components, activation=None, **skwargs)\n",
    "        \n",
    "        # activation for alpha output layer\n",
    "        self.alpha_act = nn.Softmax()\n",
    "    \n",
    "    def forward(self, x, sample=True):\n",
    "        out = x\n",
    "        for idx in range(len(self.n_hiddens)):\n",
    "            out = self.layers['fc_{}'.format(idx+1)](out, sample=sample)\n",
    "        \n",
    "        n_batch = out.size()[1]\n",
    "        out_alpha = self.alpha_act(self.alpha_out(out, sample=sample).view(-1, self.n_components))\n",
    "        out_sigma = torch.exp(self.logsigma_out(out, sample=sample).view(-1, self.n_components))\n",
    "        out_mu = self.mu_out(out, sample=sample).view(-1, self.n_components)\n",
    "        return (out_alpha, out_sigma, out_mu)\n",
    "    \n",
    "    @property\n",
    "    def logsigma(self):\n",
    "        output = []\n",
    "        for k, v in self.named_parameters():\n",
    "            if '_logsigma' in k:\n",
    "                output.append(v)\n",
    "        return output\n",
    "\n",
    "    @property\n",
    "    def mu(self):\n",
    "        output = []\n",
    "        for k, v in self.named_parameters():\n",
    "            if '_mu' in k:\n",
    "                output.append(v)\n",
    "        return output"
   ]
  },
  {
   "cell_type": "code",
   "execution_count": 14,
   "metadata": {
    "scrolled": false
   },
   "outputs": [
    {
     "name": "stdout",
     "output_type": "stream",
     "text": [
      "[epoch 0050] loss: 1.9136\n",
      "[epoch 0100] loss: 1.5326\n",
      "[epoch 0150] loss: 1.3665\n",
      "[epoch 0200] loss: 1.2950\n",
      "[epoch 0250] loss: 1.2488\n",
      "[epoch 0300] loss: 1.2236\n",
      "[epoch 0350] loss: 1.1797\n",
      "[epoch 0400] loss: 1.1701\n",
      "[epoch 0450] loss: 1.1541\n",
      "[epoch 0500] loss: 1.1591\n"
     ]
    }
   ],
   "source": [
    "model = MDN(svi=True, n_samples=20)\n",
    "optim = torch.optim.Adam(model.parameters(), lr=0.01)\n",
    "\n",
    "def train(X, Y, n_epochs=500, n_minibatch=50):\n",
    "    dataset_train = [(x, y) for x, y in zip(X, Y)]\n",
    "\n",
    "    for epoch in range(n_epochs): \n",
    "        bgen = batch_generator(dataset_train, n_minibatch)\n",
    "\n",
    "        for j, (x_batch, y_batch) in enumerate(bgen):\n",
    "            x_var = Variable(torch.Tensor(x_batch))\n",
    "            y_var = Variable(torch.Tensor(y_batch))\n",
    "                                                            \n",
    "            (out_alpha, out_sigma, out_mu) = model(x_var)\n",
    "            \n",
    "            if model.svi:\n",
    "                y_var = y_var[None, :, :].expand(model.n_samples, x_var.size()[0], 1).contiguous().view(-1, 1)\n",
    "            loss = mdn_loss_function(out_alpha, out_sigma, out_mu, y_var)\n",
    "            loss += 1/N*mdn_kl_term(model.mu, model.logsigma, 0.01)\n",
    "            \n",
    "            optim.zero_grad()\n",
    "            loss.backward()\n",
    "            optim.step()\n",
    "\n",
    "        if (epoch + 1) % 50 == 0:\n",
    "            print(\"[epoch %04d] loss: %.4f\" % (epoch + 1, loss.data[0]))\n",
    "        \n",
    "train(X, Y)"
   ]
  },
  {
   "cell_type": "code",
   "execution_count": 15,
   "metadata": {},
   "outputs": [
    {
     "data": {
      "image/png": "[encoded data removed]",
      "text/plain": [
       "<matplotlib.figure.Figure at 0x7f7b7f0fa080>"
      ]
     },
     "metadata": {},
     "output_type": "display_data"
    }
   ],
   "source": [
    "X_var = Variable(torch.Tensor(X))\n",
    "Y_var = Variable(torch.Tensor(Y))\n",
    "\n",
    "(out_alpha, out_sigma, out_mu) = model(X_var, sample=False)\n",
    "\n",
    "plt.plot(X, Y, '.')\n",
    "plt.plot(X, out_mu.data.numpy(), '-r');\n",
    "plt.plot(X, out_mu.data.numpy() + out_sigma.data.numpy(), '-k');\n",
    "plt.plot(X, out_mu.data.numpy() - out_sigma.data.numpy(), '-k');"
   ]
  }
 ],
 "metadata": {
  "kernelspec": {
   "display_name": "Python 3",
   "language": "python",
   "name": "python3"
  },
  "language_info": {
   "codemirror_mode": {
    "name": "ipython",
    "version": 3
   },
   "file_extension": ".py",
   "mimetype": "text/x-python",
   "name": "python",
   "nbconvert_exporter": "python",
   "pygments_lexer": "ipython3",
   "version": "3.6.2"
  }
 },
 "nbformat": 4,
 "nbformat_minor": 2
}
