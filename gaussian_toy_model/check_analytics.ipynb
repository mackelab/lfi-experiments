{
 "cells": [
  {
   "cell_type": "markdown",
   "metadata": {
    "slideshow": {
     "slide_type": "notes"
    }
   },
   "source": [
    "# analytical approach\n",
    "\n",
    "- analytically tractable problem: Gaussian prior, Gaussian proposal, _linear-Gaussian likelihood_\n",
    "- analytically tractable MDN: linear-affine network\n",
    "- analytically tractable gradients and closed-form solution for MDN parameters for given dataset\n",
    "\n",
    "\n",
    "TO DO:\n",
    "- check gradients again (and again and again...)\n",
    "- analytical division for actual CDELDI posterior estimates (vs. 'proposal-posterior' estimates atm)"
   ]
  },
  {
   "cell_type": "markdown",
   "metadata": {
    "slideshow": {
     "slide_type": "notes"
    }
   },
   "source": [
    "\n",
    "prior: \n",
    "\n",
    "$p(\\theta) = \\mathcal{N}(\\theta \\ | \\ 0, \\eta^2)$\n",
    "\n",
    "proposal prior: \n",
    "\n",
    "$\\tilde{p}(\\theta) = \\mathcal{N}(\\theta \\ | \\ \\nu, \\xi^2)$\n",
    "\n",
    "simulator: \n",
    "\n",
    "$p(x \\ | \\ \\theta) =  \\mathcal{N}(x \\ | \\ \\theta, \\sigma^2)$\n",
    "\n",
    "analytic posteriors: \n",
    "\n",
    "$p(\\theta \\ | \\ x) = \\mathcal{N}(\\theta \\ | \\frac{\\eta^2}{\\eta^2 + \\sigma^2} x, \\eta^2 - \\frac{\\eta^4}{\\eta^2 + \\sigma^2})$ \n",
    "\n",
    "$\\tilde{p}(\\theta \\ | \\ x) = \\mathcal{N}(\\theta \\ | \\frac{\\xi^2}{\\xi^2 + \\sigma^2} x + \\frac{\\sigma^2}{\\xi^2 + \\sigma^2} \\nu, \\xi^2 - \\frac{\\xi^4}{\\xi^2 + \\sigma^2})$\n",
    "\n",
    "Data:\n",
    "\n",
    "$(x_n, \\theta_n) \\sim p(\\theta) p(x \\ | \\ \\theta) = \\mathcal{N}( (x_n, \\theta_n) \\ | \\ (0, \\nu), \n",
    "\\begin{pmatrix}\n",
    "\\xi^{2} + \\sigma^{2} &  \\xi^{2}  \\\\\n",
    "\\xi^{2} & \\xi^{2}  \\\\\n",
    "\\end{pmatrix})$\n",
    "\n",
    "Loss: \n",
    "\n",
    "$ \\mathcal{L}(\\phi) = \\sum_n \\frac{{p}(\\theta_n)}{\\tilde{p}(\\theta_n)} K_\\epsilon(x_n | x_0) \\ \\log q_\\phi(\\theta_n | x_n)$\n",
    "\n",
    "Model: \n",
    "\n",
    "$ q_\\phi(\\theta_n | x_n) = \\mathcal{N}(\\theta_n \\ | \\ \\mu_\\phi(x_n), \\sigma^2_\\phi(x_n))$\n",
    "\n",
    "$ (\\mu_\\phi(x), \\sigma^2_\\phi(x)) = MDN_\\phi(x) = \\begin{pmatrix} \\beta \\\\ 0 \\end{pmatrix} x + \\begin{pmatrix} \\alpha \\\\ \\gamma^2 \\end{pmatrix}$\n",
    "\n",
    "Gradients: \n",
    "\n",
    "$\\mathcal{N}_n := \\mathcal{N}(x_n, \\theta_n \\ | \\ \\mu_y, \\Sigma_y)$\n",
    "\n",
    "$\\Sigma_y = \n",
    "\\begin{pmatrix}\n",
    "\\epsilon^2  &  0  \\\\\n",
    "0 & \\left( \\eta^{-2} - \\xi^{-2} \\right)^{-1}  \\\\\n",
    "\\end{pmatrix}$\n",
    "\n",
    "\n",
    "$\\mu_y = \\begin{pmatrix} x_0  \\\\ \\frac{\\eta^2}{\\eta^2 + \\xi^2}\\nu \\end{pmatrix}$\n",
    "\n",
    "$\\frac{\\partial{}\\mathcal{L}}{\\partial{}\\alpha} = -2 \\sum_n \\mathcal{N}_n \\frac{\\theta_n - \\mu_\\phi(x_n)}{\\sigma^2_\\phi(x_n)}$\n",
    "\n",
    "$\\frac{\\partial{}\\mathcal{L}}{\\partial{}\\beta} = -2 \\sum_n \\mathcal{N}_n \\frac{\\theta_n - \\mu_\\phi(x_n)}{\\sigma^2_\\phi(x_n)} x_n$\n",
    "\n",
    "$\\frac{\\partial{}\\mathcal{L}}{\\partial{}\\gamma^2} \n",
    "= \\sum_n \\mathcal{N}_n \\left( \\frac{1}{\\sigma^2_\\phi(x_n)} \n",
    "- \\frac{\\left(\\theta_n - \\mu_\\phi(x_n) \\right)^2}{\\sigma^4_\\phi(x_n)} \\right) \n",
    "= \\frac{1}{\\gamma^2} \\sum_n \\mathcal{N}_n \\left( 1 \n",
    "- \\frac{\\left(\\theta_n - \\mu_\\phi(x_n) \\right)^2}{\\gamma^2} \\right) $\n",
    "\n",
    "Optima: \n",
    "\n",
    "$\\hat{\\alpha} = \n",
    "\\frac{\\sum_n \\mathcal{N}_n \\left(\\theta_n - \\frac{\\sum_m \\mathcal{N}_m \\theta_m x_m}{\\sum_m \\mathcal{N}_m x_m^2} x_n \\right)}{\\sum_n \\mathcal{N}_n - \\frac{\\left( \\sum_n \\mathcal{N}_n x_n \\right)^2}{\\sum_n \\mathcal{N}_n x_n^2}}$\n",
    "\n",
    "$\\hat{\\beta} = \n",
    "\\frac{\\sum_n \\mathcal{N}_n \\theta_n x_n - \\hat{\\alpha} \\sum_n \\mathcal{N}_n x_n}{\\sum_n \\mathcal{N}_n x_n^2}$\n",
    "\n",
    "$\\hat{\\gamma}^2 = \n",
    "\\frac{\\sum_n \\mathcal{N}_n \\left( \\theta_n - \\hat{\\alpha} - \\hat{\\beta} x_n \\right)^2}{\\sum_n \\mathcal{N}_n}$"
   ]
  },
  {
   "cell_type": "markdown",
   "metadata": {
    "slideshow": {
     "slide_type": "notes"
    }
   },
   "source": [
    "# define problem setup\n",
    "\n",
    "- proposals narrower than the priors seem to induce some form of bias on MLE estimates (non-SVI fits), especially for posterior variances\n",
    "- up to a certain degree, this can be negated by switching to students-t proposals (with few degrees of freedom)\n",
    "- apart from bias, even switching to students-t distributions results in increased variance of the estimates (probably some ESS thing?)\n",
    "\n",
    "\n",
    "- generally speaking, the real challenge for SNPE arises when $\\sigma^2 << \\eta^2$, i.e. when the likelihood (and hence posterior) are much narrower than the prior\n",
    "- in a multi-round SNPE fit, the proposal will tend to be much narrower than the prior after several rounds\n",
    "- the 'relevant' (relative) proposal width thus is the one that corresponds to the posterior variance\n",
    "\n",
    "\n",
    "- for a simple setup that can be largely 'fixed' with students-t proposals choose $\\sigma^2 = \\eta^2$.\n",
    "\n",
    "- intermediate setup:  $\\sigma^2 = 9 \\cdot \\eta^2$ (i.e. posterior variance is $10\\%$ of prior variance)\n",
    "\n",
    "- to watch Rome burn, try  $\\sigma^2 = 99 \\cdot \\eta^2$"
   ]
  },
  {
   "cell_type": "code",
   "execution_count": null,
   "metadata": {
    "slideshow": {
     "slide_type": "skip"
    }
   },
   "outputs": [],
   "source": [
    "%%capture \n",
    "import util\n",
    "%matplotlib inline\n",
    "import numpy as np\n",
    "import matplotlib.pyplot as plt\n",
    "\n",
    "import delfi.distribution as dd\n",
    "import delfi.generator as dg\n",
    "import delfi.inference as infer\n",
    "import delfi.summarystats as ds\n",
    "from delfi.simulator.Gauss import Gauss\n",
    "\n",
    "\n",
    "## problem setup ##\n",
    "\n",
    "n_params = 1\n",
    "\n",
    "assert n_params == 1 # cannot be overstressed: everything in this notebook goes downhill sharply otherwise\n",
    "\n",
    "sig2 = 1.0/9. # likelihood variance\n",
    "eta2 = 1.0     # prior variance\n",
    "eps2 = 1e20    # calibration kernel width (everything above a certain threshold will be treated as 'uniform')\n",
    "\n",
    "# pick observed summary statistics\n",
    "x0 = 0.8 * np.ones(1) #_,obs = g.gen(1) \n",
    "\n",
    "## simulation setup ##\n",
    "\n",
    "n_fits = 200  # number of MLE fits (i.e. dataset draws), each single-round fits with pre-specified proposal!\n",
    "N      = 300  # number of simulations per dataset\n",
    "\n",
    "# set proposal priors (one per experiment)\n",
    "ksi2s = np.array([0.01, 0.1, 0.999]) * eta2  # proposal variance\n",
    "nus = eta2/(eta2+sig2)*x0[0]* np.ones(len(ksi2s))              # proposal mean\n",
    "\n",
    "n_bins = 50 # number of bins for plotting\n",
    "\n",
    "\n",
    "res = {'normal'  : np.zeros((len(ksi2s), n_fits,5)),\n",
    "       't_df10'  : np.zeros((len(ksi2s), n_fits,5)),\n",
    "       't_df3'   : np.zeros((len(ksi2s), n_fits,5)),\n",
    "       'cdelfi'  : np.zeros((len(ksi2s), n_fits,5)),\n",
    "       'unif_w1' : np.zeros((len(ksi2s), n_fits,5)),\n",
    "       'unif_w6' : np.zeros((len(ksi2s), n_fits,5)),\n",
    "       'sig2' : sig2,\n",
    "       'eta2' : eta2,\n",
    "       'eps2' : eps2,\n",
    "       'ksi2s' : ksi2s,\n",
    "       'nus' : nus,\n",
    "       'x0' : x0,\n",
    "      }"
   ]
  },
  {
   "cell_type": "markdown",
   "metadata": {
    "slideshow": {
     "slide_type": "notes"
    }
   },
   "source": [
    "# SNPE (Gaussian proposals) \n",
    "## multiple fits, with different proposal widths\n",
    "- n_fits many runs, every run with different seed, i.e. different data set $\\{(x_n, \\theta_n)\\}_{n=1}^N$\n",
    "- collect statistics on mean and std. of estimated posterior mean and variance (bias?)\n",
    "- outer loop over different proposal distribution variances (can in principle also move means)\n",
    "  \n",
    "Keep in mind that for large enough $N$, in theory SNPE should return ground-truth posteriors irrespective of the proposal prior (cf. Kaan's proof in JakobsNotes.pdf)"
   ]
  },
  {
   "cell_type": "code",
   "execution_count": null,
   "metadata": {
    "slideshow": {
     "slide_type": "slide"
    }
   },
   "outputs": [],
   "source": [
    "proposal_form = 'normal'\n",
    "df = None\n",
    "\n",
    "out_snpe  = res[proposal_form]\n",
    "\n",
    "out_snpe = util.test_setting(out_snpe, n_params, N, sig2, eta2, eps2, x0, ksi2s, nus, proposal_form, track_rp=True, if_plot=False);\n"
   ]
  },
  {
   "cell_type": "markdown",
   "metadata": {
    "slideshow": {
     "slide_type": "slide"
    }
   },
   "source": [
    "# SNPE (students T proposals, df = 10) \n",
    "## multiple fits, with different proposal widths\n",
    "- same as before, but with students T proposals instead of Gaussian proposals (same mean and variance)\n",
    "- df $=10$ in 1D : roughly Gaussian, but with slightly stronger tails\n"
   ]
  },
  {
   "cell_type": "code",
   "execution_count": null,
   "metadata": {
    "slideshow": {
     "slide_type": "slide"
    }
   },
   "outputs": [],
   "source": [
    "proposal_form = 'studentT'\n",
    "df = 10\n",
    "\n",
    "out_snpe  = res['t_df' + str(df)]\n",
    "\n",
    "util.test_setting(out_snpe, n_params, N, sig2, eta2, eps2, x0, ksi2s, nus, proposal_form, track_rp=True, df=df);"
   ]
  },
  {
   "cell_type": "markdown",
   "metadata": {
    "slideshow": {
     "slide_type": "slide"
    }
   },
   "source": [
    "# SNPE (students T proposals, df = 3) \n",
    "## multiple fits, with different proposal widths\n",
    "- same as before, but with students T proposals instead of Gaussian proposals (same mean and variance)\n",
    "- df $=3$ in 1D : much stronger tails than Gaussian (need df>2 for well-defined student-T variance)\n"
   ]
  },
  {
   "cell_type": "code",
   "execution_count": null,
   "metadata": {
    "slideshow": {
     "slide_type": "slide"
    }
   },
   "outputs": [],
   "source": [
    "proposal_form = 'studentT'\n",
    "df = 3\n",
    "\n",
    "out_snpe  = res['t_df' + str(df)]\n",
    "\n",
    "util.test_setting(out_snpe, n_params, N, sig2, eta2, eps2, x0, ksi2s, nus, proposal_form, track_rp=True, df=df);"
   ]
  },
  {
   "cell_type": "markdown",
   "metadata": {
    "slideshow": {
     "slide_type": "slide"
    }
   },
   "source": [
    "# uniform proposals\n",
    "- uniform proposals 'cut' the prior tails, directly influencing the target posterior\n",
    "- the importance sampling on this narrower prior may however be easier to achieve\n",
    "- can we balance damage to the posterior against better importance sampling and gain something overall ?"
   ]
  },
  {
   "cell_type": "code",
   "execution_count": null,
   "metadata": {
    "slideshow": {
     "slide_type": "slide"
    }
   },
   "outputs": [],
   "source": [
    "proposal_form = 'unif'\n",
    "sds = 1\n",
    "marg = np.sqrt(sds) * np.sqrt(12)\n",
    "out_snpe  = res['unif_w'+str(sds)]\n",
    "\n",
    "util.test_setting(out_snpe, n_params, N, sig2, eta2, eps2, x0, ksi2s, nus, proposal_form, track_rp=True, marg=marg);"
   ]
  },
  {
   "cell_type": "markdown",
   "metadata": {
    "slideshow": {
     "slide_type": "slide"
    }
   },
   "source": [
    "# compare with CDELFI\n",
    "- simply set track_rp = False to compare MLE solution with mean and variance of proposal-posterior\n",
    "- however requires Gaussian proposals to directly compare with proposal-posterior\n",
    "- if the proposal-posterior is good, so should be the prior-corrected result of the analytical division\n"
   ]
  },
  {
   "cell_type": "code",
   "execution_count": null,
   "metadata": {},
   "outputs": [],
   "source": [
    "proposal_form = 'normal'\n",
    "\n",
    "util.test_setting(out_snpe, n_params, N, sig2, eta2, eps2, x0, ksi2s, nus, proposal_form, track_rp=False);"
   ]
  },
  {
   "cell_type": "code",
   "execution_count": null,
   "metadata": {},
   "outputs": [],
   "source": [
    "\n",
    "np.save('res_analytic_n_fits' + str(n_fits) + '_N' + str(N), res)\n"
   ]
  },
  {
   "cell_type": "markdown",
   "metadata": {},
   "source": [
    "# numerical checks for gradients\n"
   ]
  },
  {
   "cell_type": "code",
   "execution_count": null,
   "metadata": {},
   "outputs": [],
   "source": [
    "N = 3\n",
    "track_rp = True\n",
    "proposal_form = 'normal'\n",
    "df = None\n",
    "\n",
    "nu = 0.\n",
    "ksi2 = 0.5 * eta2\n",
    "\n",
    "ppr = dd.Gaussian(m=nu * np.ones(n_params), \n",
    "                S=ksi2 * np.eye(n_params))\n",
    "s = ds.Identity()\n",
    "m = Gauss(noise_cov=sig2)\n",
    "g = dg.Default(model=m, prior=ppr, summary=s)\n",
    "\n",
    "post   = dd.Gaussian(m = np.ones(n_params) * eta2/(eta2+sig2)*x0[0], \n",
    "                     S=eta2 - eta2**2 / (eta2 + sig2) * np.eye(n_params)) \n",
    "    \n",
    "seed = 42\n",
    "g.model.seed = seed\n",
    "g.prior.seed = seed\n",
    "g.seed = seed\n",
    "\n",
    "data = g.gen(N, verbose=False)\n",
    "params, stats = data[0].reshape(-1), data[1].reshape(-1)\n",
    "\n",
    "normals = util.get_weights(proposal_form, eta2, ksi2, eps2, x0, nu, stats, params, df=df) if track_rp else np.ones(N)/N\n"
   ]
  },
  {
   "cell_type": "markdown",
   "metadata": {},
   "source": [
    "# numerically check $\\frac{\\partial}{\\partial{}\\alpha}$\n",
    "\n",
    "- $\\frac{\\partial}{\\partial\\alpha}$ is being difficult here. Analytic solution $\\hat{\\alpha}$ still fails to numberically set the stated partial derivative $\\frac{\\partial\\mathcal{L}}{\\partial{}\\alpha}(\\hat{\\alpha})$ to zero ...\n",
    "- Obtained $\\hat{\\alpha}$ however are pretty much sensible though (correct 'ballpark')"
   ]
  },
  {
   "cell_type": "code",
   "execution_count": null,
   "metadata": {},
   "outputs": [],
   "source": [
    "alpha_hat = np.array(util.alpha(params, stats, normals))\n",
    "\n",
    "gamma2_ = post.std**2\n",
    "alphas = np.linspace(-0.09, -0.02, 100000)\n",
    "\n",
    "beta_ = util.beta(params, stats, normals, alpha_hat)\n",
    "out_hat = -2*(normals.reshape(-1,1) * (params.reshape(-1,1) - beta_ * stats.reshape(-1,1) - alpha_hat)/gamma2_).sum(axis=0)\n",
    "out = -2*(normals.reshape(-1,1) * (params.reshape(-1,1) - beta_ * stats.reshape(-1,1) - alphas.reshape(1,-1))/gamma2_).sum(axis=0)\n",
    "plt.plot(alphas, out)\n",
    "plt.show()\n",
    "\n",
    "\n",
    "# (numerical solution, analytical solution, derivate evaluated at analytical solution (should be zero-ish) ) = \n",
    "alphas[np.argmin(np.abs(out))], alpha_hat, out_hat"
   ]
  },
  {
   "cell_type": "markdown",
   "metadata": {},
   "source": [
    "# numerically check $\\frac{\\partial}{\\partial{}\\beta}$"
   ]
  },
  {
   "cell_type": "code",
   "execution_count": null,
   "metadata": {},
   "outputs": [],
   "source": [
    "alpha_ = alpha_hat\n",
    "gamma2_ = post.std**2\n",
    "betas = np.linspace(0., 1., 1000)\n",
    "out = -2*(normals.reshape(-1,1) * (params.reshape(-1,1) - betas.reshape(1,-1) * stats.reshape(-1,1) - alpha_)/gamma2_ * stats.reshape(-1,1)).sum(axis=0)\n",
    "plt.plot(betas, out)\n",
    "plt.show()\n",
    "\n",
    "beta_hat = util.beta(params, stats, normals, ahat=alpha_)\n",
    "out_hat = -2*(normals.reshape(-1,1) * (params.reshape(-1,1) - beta_hat * stats.reshape(-1,1) - alpha_)/gamma2_ * stats.reshape(-1,1)).sum(axis=0)\n",
    "\n",
    "# (numerical solution, analytical solution, derivate evaluated at analytical solution (should be zero-ish) ) = \n",
    "betas[np.argmin(np.abs(out))], beta_hat, out_hat"
   ]
  },
  {
   "cell_type": "markdown",
   "metadata": {},
   "source": [
    "# numerically check $\\frac{\\partial}{\\partial{}\\gamma^2}$"
   ]
  },
  {
   "cell_type": "code",
   "execution_count": null,
   "metadata": {
    "scrolled": true
   },
   "outputs": [],
   "source": [
    "alpha_ = alpha_hat\n",
    "beta_ = beta_hat\n",
    "gamma2s = np.linspace(0.0009, 0.001, 1000)\n",
    "\n",
    "# something off with below (hard-coded...) gradients now. Outcommenting numerical solution for now!\n",
    "\n",
    "tmp = (params.reshape(-1,1) - beta_*stats.reshape(-1,1) - alpha_)**2 / gamma2s.reshape(1,-1)\n",
    "out = 1/gamma2s.reshape(-1,) * (normals.reshape(-1,1) * (1 - tmp)).sum(axis=0)\n",
    "\n",
    "plt.plot(gamma2s, out)\n",
    "plt.show()\n",
    "\n",
    "gamma2_hat = util.gamma2(params, stats, normals, ahat=alpha_, bhat=beta_)\n",
    "tmp_ = (params.reshape(-1,1) - beta_*stats.reshape(-1,1) - alpha_)**2 / gamma2_hat\n",
    "out_hat = 1/gamma2_hat * (normals.reshape(-1,1) * (1 - tmp_)).sum(axis=0)\n",
    "\n",
    "#gamma2s *= np.nan \n",
    "#out = np.zeros_like(gamma2s)\n",
    "\n",
    "# (numerical solution, analytical solution, derivate evaluated at analytical solution (should be zero-ish) ) = \n",
    "gamma2s[np.argmin(np.abs(out))], gamma2_hat, out_hat"
   ]
  },
  {
   "cell_type": "code",
   "execution_count": null,
   "metadata": {},
   "outputs": [],
   "source": []
  }
 ],
 "metadata": {
  "kernelspec": {
   "display_name": "Python 3",
   "language": "python",
   "name": "python3"
  },
  "language_info": {
   "codemirror_mode": {
    "name": "ipython",
    "version": 3
   },
   "file_extension": ".py",
   "mimetype": "text/x-python",
   "name": "python",
   "nbconvert_exporter": "python",
   "pygments_lexer": "ipython3",
   "version": "3.5.1"
  }
 },
 "nbformat": 4,
 "nbformat_minor": 1
}
