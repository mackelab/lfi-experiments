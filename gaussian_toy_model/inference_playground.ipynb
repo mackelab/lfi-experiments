{
 "cells": [
  {
   "cell_type": "code",
   "execution_count": null,
   "metadata": {
    "collapsed": false,
    "scrolled": true
   },
   "outputs": [],
   "source": [
    "import delfi.distribution as dd\n",
    "import delfi.generator as dg\n",
    "import delfi.inference as infer\n",
    "import delfi.summarystats as ds\n",
    "import matplotlib.pyplot as plt\n",
    "%matplotlib inline\n",
    "import numpy as np\n",
    "\n",
    "from delfi.simulator.Gauss import Gauss\n",
    "\n",
    "\n",
    "n_params = 1\n",
    "seed = 42\n",
    "m = Gauss(dim=n_params, seed=seed, noise_cov=1.)\n",
    "p = dd.Gaussian(m=0. * np.ones(n_params), \n",
    "                S=1. *np.eye(n_params),\n",
    "               seed=seed)\n",
    "s = ds.Identity()\n",
    "g = dg.Default(model=m, prior=p, summary=s)\n",
    "\n",
    "# generate and plot\n",
    "params, stats = g.gen(250)\n",
    "plt.plot(stats, params, 'b.');\n",
    "plt.xlabel('x')\n",
    "plt.ylabel('theta')\n",
    "\n",
    "obs = 0.8 * np.ones((1,1)) #_,obs = g.gen(1)\n"
   ]
  },
  {
   "cell_type": "code",
   "execution_count": null,
   "metadata": {
    "collapsed": false,
    "scrolled": true
   },
   "outputs": [],
   "source": [
    "# set up inference\n",
    "n_fits = 2\n",
    "\n",
    "n_rounds = 5\n",
    "n_train  = 5000\n",
    "\n",
    "out_snpe   = np.zeros((n_fits,n_rounds, 2))\n",
    "out_cdelfi = np.zeros((n_fits,n_rounds, 2))\n",
    "for idx_seed in range(n_fits):\n",
    "    \n",
    "    seed = idx_seed + 42\n",
    "\n",
    "    print('seed: ', seed)\n",
    "    for algo in range(2):\n",
    "        m = Gauss(dim=n_params, seed=seed, noise_cov=1.)\n",
    "        p = dd.Gaussian(m=0. * np.ones(n_params), \n",
    "                        S=1. * np.eye(n_params),\n",
    "                       seed=seed)\n",
    "        s = ds.Identity()\n",
    "        g = dg.Default(model=m, prior=p, summary=s)\n",
    "        \n",
    "        if algo==0:\n",
    "            res = infer.CDELFI(g, n_hiddens=[10], seed=seed, svi=False, obs=obs)\n",
    "        elif algo==1:\n",
    "            res = infer.SNPE(g, n_hiddens=[10], seed=seed, svi=False, obs=obs)\n",
    "\n",
    "        # run with N samples\n",
    "        for r in range(n_rounds):\n",
    "            \n",
    "            log, trn_data = res.run(n_train=n_train, n_rounds=1)\n",
    "            posterior = res.predict(np.array([obs]).reshape(1,-1))\n",
    "        \n",
    "            if algo==0:\n",
    "                out_cdelfi[idx_seed,r,:] = (posterior.mean, posterior.std**2)\n",
    "            elif algo==1:\n",
    "                out_snpe[idx_seed,r,:] = (posterior.mean, posterior.std**2)\n",
    "\n",
    "        if algo==0:\n",
    "            print('- CDELFI: \\n', out_cdelfi[idx_seed,:,:])\n",
    "        elif algo==1:\n",
    "            print('- SNPE: \\n', out_snpe[idx_seed,:,:])        \n",
    "                "
   ]
  },
  {
   "cell_type": "code",
   "execution_count": null,
   "metadata": {
    "collapsed": false
   },
   "outputs": [],
   "source": [
    "\n",
    "r = n_rounds-1 # pick round\n",
    "\n",
    "mu_true = 0.4\n",
    "sig_true = 0.5\n",
    "\n",
    "plt.figure(figsize=(12,9))\n",
    "\n",
    "plt.subplot(2,2,1)\n",
    "plt.hist(out_cdelfi[:,r,0], bins = np.linspace(0.3, 0.55, 20))\n",
    "plt.plot(mu_true*np.ones(2), [0, 14], 'r', linewidth=2)\n",
    "plt.ylabel('counts')\n",
    "plt.title('CDELFI')\n",
    "plt.legend(['analytic solution','outcome (n='+ str(n_fits)+')'], frameon=False)\n",
    "plt.subplot(2,2,2)\n",
    "plt.hist(out_cdelfi[:,r,1], bins = np.linspace(0.4, 0.65, 20))\n",
    "plt.plot(sig_true*np.ones(2), [0, 14], 'r', linewidth=2)\n",
    "plt.title('CDELFI')\n",
    "\n",
    "plt.subplot(2,2,3)\n",
    "plt.hist(out_snpe[:,r,0], bins = np.linspace(0.3, 0.55, 20))\n",
    "plt.title('SNPE')\n",
    "plt.ylabel('counts')\n",
    "plt.plot(mu_true*np.ones(2), [0, 14], 'r', linewidth=2)\n",
    "plt.xlabel('posterior mean')\n",
    "plt.subplot(2,2,4)\n",
    "plt.hist(out_snpe[:,r,1], bins = np.linspace(0.4, 0.65, 20))\n",
    "plt.plot(sig_true*np.ones(2), [0, 14], 'r', linewidth=2)\n",
    "plt.title('SNPE')\n",
    "plt.xlabel('posterior variance')\n",
    "\n",
    "#plt.savefig('1d_toy_case_20runs_SNPE_and_CDELFI_N5000_r3.pdf')\n",
    "\n",
    "plt.show()"
   ]
  },
  {
   "cell_type": "code",
   "execution_count": null,
   "metadata": {
    "collapsed": false
   },
   "outputs": [],
   "source": [
    "r=4\n",
    "iws = trn_data[r][2]\n",
    "(iws.min(), iws.max(), iws.mean())"
   ]
  },
  {
   "cell_type": "code",
   "execution_count": null,
   "metadata": {
    "collapsed": false
   },
   "outputs": [],
   "source": [
    "for r in range(1, len(trn_data)):\n",
    "    plt.hist(trn_data[r][2])\n",
    "    plt.show()"
   ]
  }
 ],
 "metadata": {
  "kernelspec": {
   "display_name": "Python 3",
   "language": "python",
   "name": "python3"
  },
  "language_info": {
   "codemirror_mode": {
    "name": "ipython",
    "version": 3
   },
   "file_extension": ".py",
   "mimetype": "text/x-python",
   "name": "python",
   "nbconvert_exporter": "python",
   "pygments_lexer": "ipython3",
   "version": "3.5.1"
  }
 },
 "nbformat": 4,
 "nbformat_minor": 2
}
