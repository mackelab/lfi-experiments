{
 "cells": [
  {
   "cell_type": "code",
   "execution_count": null,
   "metadata": {},
   "outputs": [],
   "source": [
    "import delfi.distribution as dd\n",
    "import delfi.generator as dg\n",
    "import delfi.inference as infer\n",
    "import delfi.summarystats as ds\n",
    "import matplotlib.pyplot as plt\n",
    "%matplotlib inline\n",
    "import numpy as np\n",
    "\n",
    "from delfi.simulator.Gauss import Gauss\n",
    "\n",
    "\n",
    "n_params = 2\n",
    "seed = 42\n",
    "m = Gauss(dim=n_params, seed=seed)\n",
    "p = dd.Uniform(lower=10*np.ones((n_params, )), \n",
    "               upper=20*np.ones(n_params, ),\n",
    "               seed=seed)\n",
    "s = ds.Identity()\n",
    "g = dg.Default(model=m, prior=p, summary=s)\n",
    "\n",
    "_, obs = g.gen(1)\n",
    "\n",
    "# generate and plot\n",
    "params, stats = g.gen(250)\n",
    "plt.plot(stats, params, 'b.');\n",
    "plt.xlabel('x')\n",
    "plt.ylabel('theta')\n",
    "\n",
    "# set up inference\n",
    "#res = infer.CDELFI(g, obs=obs, n_components=2)\n",
    "\n",
    "res = infer.Basic(g, n_hiddens=[10], seed=seed, svi=True)\n",
    "\n",
    "# run with N samples\n",
    "log, trn_data = res.run(1500)"
   ]
  },
  {
   "cell_type": "code",
   "execution_count": null,
   "metadata": {
    "collapsed": true
   },
   "outputs": [],
   "source": [
    "posterior = res.predict(np.array([15., 15.]).reshape(1,-1))"
   ]
  },
  {
   "cell_type": "code",
   "execution_count": null,
   "metadata": {},
   "outputs": [],
   "source": [
    "posterior.xs[0].m"
   ]
  },
  {
   "cell_type": "code",
   "execution_count": null,
   "metadata": {},
   "outputs": [],
   "source": [
    "posterior.xs[0].S"
   ]
  },
  {
   "cell_type": "code",
   "execution_count": null,
   "metadata": {},
   "outputs": [],
   "source": [
    "plt.plot(log['loss'])"
   ]
  },
  {
   "cell_type": "code",
   "execution_count": null,
   "metadata": {
    "collapsed": true
   },
   "outputs": [],
   "source": [
    "from delfi.utils.io import load, save"
   ]
  },
  {
   "cell_type": "code",
   "execution_count": null,
   "metadata": {},
   "outputs": [],
   "source": [
    "save(res, 'test.pkl')"
   ]
  },
  {
   "cell_type": "code",
   "execution_count": null,
   "metadata": {
    "collapsed": true
   },
   "outputs": [],
   "source": [
    "res2 = load('test.pkl')"
   ]
  },
  {
   "cell_type": "code",
   "execution_count": null,
   "metadata": {
    "collapsed": true
   },
   "outputs": [],
   "source": []
  }
 ],
 "metadata": {
  "kernelspec": {
   "display_name": "Python 3",
   "language": "python",
   "name": "python3"
  },
  "language_info": {
   "codemirror_mode": {
    "name": "ipython",
    "version": 3
   },
   "file_extension": ".py",
   "mimetype": "text/x-python",
   "name": "python",
   "nbconvert_exporter": "python",
   "pygments_lexer": "ipython3",
   "version": "3.6.0"
  }
 },
 "nbformat": 4,
 "nbformat_minor": 2
}
