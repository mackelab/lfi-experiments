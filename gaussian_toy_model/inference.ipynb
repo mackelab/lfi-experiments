{
 "cells": [
  {
   "cell_type": "code",
   "execution_count": 1,
   "metadata": {},
   "outputs": [
    {
     "data": {
      "application/vnd.jupyter.widget-view+json": {
       "model_id": "ff4076ab60204ae1a48b822c22818051"
      }
     },
     "metadata": {},
     "output_type": "display_data"
    },
    {
     "name": "stdout",
     "output_type": "stream",
     "text": [
      "\n"
     ]
    },
    {
     "data": {
      "image/png": "[encoded data removed]",
      "text/plain": [
       "<matplotlib.figure.Figure at 0x7f9e2a1495f8>"
      ]
     },
     "metadata": {},
     "output_type": "display_data"
    }
   ],
   "source": [
    "import delfi.distribution as dd\n",
    "import delfi.generator as dg\n",
    "import delfi.inference as infer\n",
    "import delfi.summarystats as ds\n",
    "import matplotlib.pyplot as plt\n",
    "%matplotlib inline\n",
    "import numpy as np\n",
    "\n",
    "from delfi.simulator.GaussZtrans import GaussZtrans\n",
    "\n",
    "n_params = 2\n",
    "\n",
    "kwargs = {'params_mean': np.array([0., 0.]),\n",
    "          'params_std': np.array([1., 1.]),\n",
    "          'stats_mean': np.array([0., 0.]),\n",
    "          'stats_std': np.array([1., 1.])}\n",
    "\n",
    "seed = 42\n",
    "m = GaussZtrans(dim=n_params, seed=seed, **kwargs)\n",
    "p = dd.Uniform(lower=10*np.ones((n_params, )), \n",
    "               upper=20*np.ones(n_params, ),\n",
    "               seed=seed)\n",
    "s = ds.Identity()\n",
    "g = dg.Default(model=m, prior=p, summary=s)\n",
    "\n",
    "_, obs = g.gen(1)\n",
    "\n",
    "# generate and plot\n",
    "params, stats = g.gen(250)\n",
    "plt.plot(stats, params, 'b.');\n",
    "plt.xlabel('x')\n",
    "plt.ylabel('theta')\n",
    "\n",
    "# set up inference\n",
    "#res = infer.CDELFI(g, obs=obs, n_components=2)\n",
    "\n",
    "res = infer.Basic(g, n_hiddens=[10], seed=seed, svi=True)\n",
    "#res.params_mean = kwargs['params_mean']\n",
    "#res.params_std = kwargs['params_std']\n",
    "#res.stats_mean = np.mean(stats)\n",
    "#res.stats_std = np.std(stats)\n",
    "\n",
    "# run with N samples\n",
    "out = res.run(1500)"
   ]
  },
  {
   "cell_type": "code",
   "execution_count": 2,
   "metadata": {},
   "outputs": [],
   "source": [
    "posterior = res.predict(np.array([15., 15.]).reshape(1,-1), \n",
    "                        ztrans_inv=True)"
   ]
  },
  {
   "cell_type": "code",
   "execution_count": 3,
   "metadata": {},
   "outputs": [
    {
     "data": {
      "text/plain": [
       "array([ 15.04117263,  15.04391621])"
      ]
     },
     "execution_count": 3,
     "metadata": {},
     "output_type": "execute_result"
    }
   ],
   "source": [
    "posterior.xs[0].m"
   ]
  },
  {
   "cell_type": "code",
   "execution_count": 4,
   "metadata": {},
   "outputs": [
    {
     "data": {
      "text/plain": [
       "array([[ 0.09722625, -0.00125968],\n",
       "       [-0.00125968,  0.10146409]])"
      ]
     },
     "execution_count": 4,
     "metadata": {},
     "output_type": "execute_result"
    }
   ],
   "source": [
    "posterior.xs[0].S"
   ]
  },
  {
   "cell_type": "code",
   "execution_count": 5,
   "metadata": {
    "collapsed": true
   },
   "outputs": [],
   "source": [
    "posterior = res.predict(np.array([100., 100.]).reshape(1,-1), \n",
    "                        ztrans_inv=False)"
   ]
  },
  {
   "cell_type": "code",
   "execution_count": 6,
   "metadata": {},
   "outputs": [
    {
     "data": {
      "text/plain": [
       "array([ 7.03909826,  6.99283648], dtype=float32)"
      ]
     },
     "execution_count": 6,
     "metadata": {},
     "output_type": "execute_result"
    }
   ],
   "source": [
    "posterior.xs[0].m"
   ]
  },
  {
   "cell_type": "code",
   "execution_count": 7,
   "metadata": {},
   "outputs": [
    {
     "data": {
      "text/plain": [
       "array([[ 124.10865784,  123.70066833],\n",
       "       [ 123.70066833,  123.49730682]], dtype=float32)"
      ]
     },
     "execution_count": 7,
     "metadata": {},
     "output_type": "execute_result"
    }
   ],
   "source": [
    "posterior.xs[0].S"
   ]
  },
  {
   "cell_type": "code",
   "execution_count": 70,
   "metadata": {},
   "outputs": [
    {
     "data": {
      "text/plain": [
       "array([ 77.5,  77.5])"
      ]
     },
     "execution_count": 70,
     "metadata": {},
     "output_type": "execute_result"
    }
   ],
   "source": [
    "res.params_mean"
   ]
  },
  {
   "cell_type": "code",
   "execution_count": 20,
   "metadata": {},
   "outputs": [
    {
     "data": {
      "text/plain": [
       "[<matplotlib.lines.Line2D at 0x7f479324c940>]"
      ]
     },
     "execution_count": 20,
     "metadata": {},
     "output_type": "execute_result"
    },
    {
     "data": {
      "image/png": "[encoded data removed]",
      "text/plain": [
       "<matplotlib.figure.Figure at 0x7f47c1269a90>"
      ]
     },
     "metadata": {},
     "output_type": "display_data"
    }
   ],
   "source": [
    "out = out\n",
    "plt.plot(out['trn_iter'], out['trn_val'])"
   ]
  },
  {
   "cell_type": "code",
   "execution_count": null,
   "metadata": {
    "collapsed": true
   },
   "outputs": [],
   "source": []
  }
 ],
 "metadata": {
  "kernelspec": {
   "display_name": "Python 3",
   "language": "python",
   "name": "python3"
  },
  "language_info": {
   "codemirror_mode": {
    "name": "ipython",
    "version": 3
   },
   "file_extension": ".py",
   "mimetype": "text/x-python",
   "name": "python",
   "nbconvert_exporter": "python",
   "pygments_lexer": "ipython3",
   "version": "3.6.0"
  }
 },
 "nbformat": 4,
 "nbformat_minor": 2
}
