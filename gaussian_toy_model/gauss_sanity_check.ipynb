{
 "cells": [
  {
   "cell_type": "code",
   "execution_count": 1,
   "metadata": {},
   "outputs": [
    {
     "name": "stderr",
     "output_type": "stream",
     "text": [
      "WARNING (theano.tensor.blas): Using NumPy C-API based implementation for BLAS functions.\n"
     ]
    },
    {
     "name": "stdout",
     "output_type": "stream",
     "text": [
      "Analytical solution\n",
      "[ 0.4]\n",
      "[[ 0.5]]\n"
     ]
    }
   ],
   "source": [
    "import delfi.distribution as dd\n",
    "import delfi.generator as dg\n",
    "import delfi.inference as infer\n",
    "import delfi.summarystats as ds\n",
    "import matplotlib.pyplot as plt\n",
    "import numpy as np\n",
    "%matplotlib inline\n",
    "\n",
    "from delfi.simulator.Gauss import Gauss\n",
    "\n",
    "\n",
    "n_params = 1\n",
    "seed = 42\n",
    "m = Gauss(dim=n_params, seed=seed, noise_cov=1.)\n",
    "p = dd.Gaussian(m=0.*np.ones(n_params), \n",
    "                S=1.*np.eye(n_params),\n",
    "                seed=seed)\n",
    "s = ds.Identity()\n",
    "g = dg.Default(model=m, prior=p, summary=s)\n",
    "\n",
    "obs = 0.8 * np.ones((1,1))\n",
    "\n",
    "def calc_posterior(obs,\n",
    "                   uniform=False, \n",
    "                   n_summary=1,\n",
    "                   prior_mu=0.*np.ones(n_params),\n",
    "                   prior_cov=np.atleast_2d(1.*np.eye(n_params)),\n",
    "                   noise_cov=np.atleast_2d(1.)):\n",
    "    if not uniform:\n",
    "        posterior_cov = np.linalg.inv(np.linalg.inv(prior_cov)+n_summary*np.linalg.inv(noise_cov))\n",
    "        posterior_mu = np.dot(posterior_cov, (n_summary*np.dot(np.linalg.inv(noise_cov), obs) + \\\n",
    "                       np.dot(np.linalg.inv(prior_cov), prior_mu)))\n",
    "        return dd.Gaussian(m=posterior_mu.reshape(-1), S=posterior_cov)\n",
    "    else:\n",
    "        posterior_mu = obs\n",
    "        posterior_cov = noise_cov/n_summary\n",
    "        return dd.Gaussian(m=posterior_mu, S=posterior_cov)\n",
    "\n",
    "posterior = calc_posterior(obs)\n",
    "print('Analytical solution')\n",
    "print(posterior.m)\n",
    "print(posterior.S)"
   ]
  },
  {
   "cell_type": "code",
   "execution_count": 2,
   "metadata": {},
   "outputs": [
    {
     "data": {
      "application/vnd.jupyter.widget-view+json": {
       "model_id": "3c4f0b12d4174136a365e209d0c1125b"
      }
     },
     "metadata": {},
     "output_type": "display_data"
    },
    {
     "name": "stdout",
     "output_type": "stream",
     "text": [
      "\n"
     ]
    },
    {
     "data": {
      "application/vnd.jupyter.widget-view+json": {
       "model_id": "f7348bd7a5ad41a6a1e2b8e2c6b3eb8e"
      }
     },
     "metadata": {},
     "output_type": "display_data"
    },
    {
     "name": "stdout",
     "output_type": "stream",
     "text": [
      "\n"
     ]
    },
    {
     "data": {
      "application/vnd.jupyter.widget-view+json": {
       "model_id": "8cb7f83ee6ef41388750a6780fb7b9e9"
      }
     },
     "metadata": {},
     "output_type": "display_data"
    },
    {
     "name": "stdout",
     "output_type": "stream",
     "text": [
      "\n"
     ]
    },
    {
     "data": {
      "application/vnd.jupyter.widget-view+json": {
       "model_id": "ea59a7fc0b0747d18f3dd64c402e3a0f"
      }
     },
     "metadata": {},
     "output_type": "display_data"
    },
    {
     "name": "stdout",
     "output_type": "stream",
     "text": [
      "\n"
     ]
    },
    {
     "data": {
      "application/vnd.jupyter.widget-view+json": {
       "model_id": "17ada8ae11f245df96d2f93133844762"
      }
     },
     "metadata": {},
     "output_type": "display_data"
    },
    {
     "name": "stdout",
     "output_type": "stream",
     "text": [
      "\n",
      "BASIC algo solution\n",
      "[ 0.38509488]\n",
      "[[ 0.49600515]]\n"
     ]
    }
   ],
   "source": [
    "# BASIC\n",
    "\n",
    "res = infer.Basic(g, n_hiddens=[10], seed=seed, svi=False)\n",
    "log, trn_data, posterior = res.run(10000, lr=0.0001, epochs=1000)\n",
    "\n",
    "print('BASIC algo solution')\n",
    "print(res.predict(obs).xs[0].m)\n",
    "print(res.predict(obs).xs[0].S)"
   ]
  },
  {
   "cell_type": "code",
   "execution_count": 4,
   "metadata": {},
   "outputs": [
    {
     "data": {
      "application/vnd.jupyter.widget-view+json": {
       "model_id": "17ece0573fdf4f9b9c1da232554653f3"
      }
     },
     "metadata": {},
     "output_type": "display_data"
    },
    {
     "name": "stdout",
     "output_type": "stream",
     "text": [
      "\n"
     ]
    },
    {
     "data": {
      "application/vnd.jupyter.widget-view+json": {
       "model_id": "f277fe77020b4308a4b9ce02fd340071"
      }
     },
     "metadata": {},
     "output_type": "display_data"
    },
    {
     "name": "stdout",
     "output_type": "stream",
     "text": [
      "\n"
     ]
    },
    {
     "data": {
      "application/vnd.jupyter.widget-view+json": {
       "model_id": "c546f0b7210147dd83cf48ace2fa4059"
      }
     },
     "metadata": {},
     "output_type": "display_data"
    },
    {
     "name": "stdout",
     "output_type": "stream",
     "text": [
      "\n"
     ]
    },
    {
     "data": {
      "application/vnd.jupyter.widget-view+json": {
       "model_id": "ecb29ce0edd3411ea9428fa89f401c8f"
      }
     },
     "metadata": {},
     "output_type": "display_data"
    },
    {
     "name": "stdout",
     "output_type": "stream",
     "text": [
      "\n"
     ]
    },
    {
     "data": {
      "application/vnd.jupyter.widget-view+json": {
       "model_id": "81afd26b4f9a429491f32e3566f0dbbb"
      }
     },
     "metadata": {},
     "output_type": "display_data"
    },
    {
     "name": "stdout",
     "output_type": "stream",
     "text": [
      "\n"
     ]
    },
    {
     "data": {
      "application/vnd.jupyter.widget-view+json": {
       "model_id": "2515d6a8568a4cecb39a86d2cec0d0cf"
      }
     },
     "metadata": {},
     "output_type": "display_data"
    },
    {
     "name": "stdout",
     "output_type": "stream",
     "text": [
      "\n"
     ]
    },
    {
     "data": {
      "application/vnd.jupyter.widget-view+json": {
       "model_id": "4a47e6eb2fb34c1ea34e0e114a03c01e"
      }
     },
     "metadata": {},
     "output_type": "display_data"
    },
    {
     "name": "stdout",
     "output_type": "stream",
     "text": [
      "\n"
     ]
    },
    {
     "data": {
      "application/vnd.jupyter.widget-view+json": {
       "model_id": "d691999804cf450295a244744ccf2bde"
      }
     },
     "metadata": {},
     "output_type": "display_data"
    },
    {
     "name": "stdout",
     "output_type": "stream",
     "text": [
      "\n",
      "CDELFI solution\n",
      "[ 0.43199023]\n",
      "[[ 0.49047926]]\n",
      "CDELFI solution if the prior was the proposal prior (wrong solution)\n",
      "[ 0.53410733]\n",
      "[[ 0.32224068]]\n"
     ]
    }
   ],
   "source": [
    "# CDELFI\n",
    "\n",
    "res = infer.CDELFI(g, obs=obs, n_hiddens=[10], seed=seed, svi=False)\n",
    "log, trn_data, posterior = res.run(10000, n_rounds=2, lr=0.001, epochs=1000)\n",
    "proposal = res.generator.proposal\n",
    "\n",
    "print('CDELFI solution')\n",
    "posterior = res.predict(obs)\n",
    "print(posterior.xs[0].m)\n",
    "print(posterior.xs[0].S)\n",
    "\n",
    "print('CDELFI solution if the prior was the proposal prior (wrong solution)')\n",
    "res.generator.proposal = None\n",
    "posterior_uncorrected = res.predict(obs)\n",
    "print(posterior_uncorrected.xs[0].m)\n",
    "print(posterior_uncorrected.xs[0].S)"
   ]
  },
  {
   "cell_type": "code",
   "execution_count": 3,
   "metadata": {},
   "outputs": [
    {
     "data": {
      "application/vnd.jupyter.widget-view+json": {
       "model_id": "f2efbc2d1c90474bac9eb84964365257"
      }
     },
     "metadata": {},
     "output_type": "display_data"
    },
    {
     "name": "stdout",
     "output_type": "stream",
     "text": [
      "\n"
     ]
    },
    {
     "data": {
      "application/vnd.jupyter.widget-view+json": {
       "model_id": "71b288bf83f744b09747bf17a6dbf817"
      }
     },
     "metadata": {},
     "output_type": "display_data"
    },
    {
     "name": "stdout",
     "output_type": "stream",
     "text": [
      "\n"
     ]
    },
    {
     "data": {
      "application/vnd.jupyter.widget-view+json": {
       "model_id": "f15147bb601c49c0a94576b63668e8ce"
      }
     },
     "metadata": {},
     "output_type": "display_data"
    },
    {
     "name": "stdout",
     "output_type": "stream",
     "text": [
      "\n"
     ]
    },
    {
     "data": {
      "application/vnd.jupyter.widget-view+json": {
       "model_id": "1d173ad0f7cd4ce49a7945d9f122e5e9"
      }
     },
     "metadata": {},
     "output_type": "display_data"
    },
    {
     "name": "stdout",
     "output_type": "stream",
     "text": [
      "\n"
     ]
    },
    {
     "data": {
      "application/vnd.jupyter.widget-view+json": {
       "model_id": "851ca5f3c544488d9ccf2a3f74a00a73"
      }
     },
     "metadata": {},
     "output_type": "display_data"
    },
    {
     "name": "stdout",
     "output_type": "stream",
     "text": [
      "\n"
     ]
    },
    {
     "data": {
      "application/vnd.jupyter.widget-view+json": {
       "model_id": "f22825d476bb45338d11ac0db10baa6d"
      }
     },
     "metadata": {},
     "output_type": "display_data"
    },
    {
     "name": "stdout",
     "output_type": "stream",
     "text": [
      "\n"
     ]
    },
    {
     "data": {
      "application/vnd.jupyter.widget-view+json": {
       "model_id": "b9bb39d7f77d4ef6892e39972181ddf1"
      }
     },
     "metadata": {},
     "output_type": "display_data"
    },
    {
     "name": "stdout",
     "output_type": "stream",
     "text": [
      "\n"
     ]
    },
    {
     "data": {
      "application/vnd.jupyter.widget-view+json": {
       "model_id": "ee3ba48e445040ae90d83dd0ccb7dd24"
      }
     },
     "metadata": {},
     "output_type": "display_data"
    },
    {
     "name": "stdout",
     "output_type": "stream",
     "text": [
      "\n",
      "round 1\n",
      "[ 0.4219119]\n",
      "[[ 0.50657564]]\n",
      "round 2\n",
      "[ 0.41620895]\n",
      "[[ 0.4977428]]\n"
     ]
    }
   ],
   "source": [
    "# SNPE\n",
    "n_rounds = 2\n",
    "\n",
    "res = infer.SNPE(g, \n",
    "                 obs=obs, \n",
    "                 n_hiddens=[10], \n",
    "                 seed=seed, \n",
    "                 svi=True)\n",
    "\n",
    "logs, tds, posteriors = res.run(10000, \n",
    "                                n_rounds=n_rounds, \n",
    "                                epochs=1000, \n",
    "                                minibatch=200,\n",
    "                                monitor=['loss.iws', \n",
    "                                         'loss.lprobs', \n",
    "                                         'loss.kl'])\n",
    "\n",
    "for r in range(n_rounds):\n",
    "    print('round {}'.format(r+1))\n",
    "    print(posteriors[r].xs[0].m)\n",
    "    print(posteriors[r].xs[0].S)\n",
    "    \n",
    "# .4 / .5 is the correct answer"
   ]
  }
 ],
 "metadata": {
  "kernelspec": {
   "display_name": "Python 3",
   "language": "python",
   "name": "python3"
  },
  "language_info": {
   "codemirror_mode": {
    "name": "ipython",
    "version": 3
   },
   "file_extension": ".py",
   "mimetype": "text/x-python",
   "name": "python",
   "nbconvert_exporter": "python",
   "pygments_lexer": "ipython3",
   "version": "3.6.2"
  }
 },
 "nbformat": 4,
 "nbformat_minor": 2
}
