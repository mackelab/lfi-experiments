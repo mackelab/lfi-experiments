{
 "cells": [
  {
   "cell_type": "code",
   "execution_count": 1,
   "metadata": {
    "collapsed": true
   },
   "outputs": [],
   "source": [
    "import pickle"
   ]
  },
  {
   "cell_type": "code",
   "execution_count": 2,
   "metadata": {
    "collapsed": false
   },
   "outputs": [],
   "source": [
    "with open('../results/samples/200616_dummyPosteriorSNL_samples.pickle', 'rb') as handle:\n",
    "    saved_samples = pickle.load(handle)"
   ]
  },
  {
   "cell_type": "code",
   "execution_count": 3,
   "metadata": {
    "collapsed": true
   },
   "outputs": [],
   "source": [
    "import sys\n",
    "sys.path.append('../')"
   ]
  },
  {
   "cell_type": "code",
   "execution_count": 11,
   "metadata": {
    "collapsed": false
   },
   "outputs": [],
   "source": [
    "from utils import simulator_wrapper, load_ground_truth_params, summary_stats"
   ]
  },
  {
   "cell_type": "markdown",
   "metadata": {},
   "source": [
    "### Load the ground truth sample"
   ]
  },
  {
   "cell_type": "code",
   "execution_count": 7,
   "metadata": {
    "collapsed": true
   },
   "outputs": [],
   "source": [
    "gt_params = load_ground_truth_params()"
   ]
  },
  {
   "cell_type": "code",
   "execution_count": 10,
   "metadata": {
    "collapsed": false
   },
   "outputs": [],
   "source": [
    "output = simulator_wrapper(gt_params)"
   ]
  },
  {
   "cell_type": "code",
   "execution_count": 15,
   "metadata": {
    "collapsed": false
   },
   "outputs": [],
   "source": [
    "x_o = summary_stats(output, n_xcorr=0, n_mom=4)"
   ]
  },
  {
   "cell_type": "code",
   "execution_count": 16,
   "metadata": {
    "collapsed": false
   },
   "outputs": [
    {
     "data": {
      "text/plain": [
       "array([  3.00000000e+00,  -7.44205807e+01,   3.09002349e-03,\n",
       "        -4.11894067e+01,   8.87265367e+02,   9.46422403e-01,\n",
       "         2.86118176e+00,   1.00000000e+00,  -7.17045765e+01,\n",
       "         2.52203961e-03,  -3.03172190e+01,   8.48761518e+02,\n",
       "        -3.39863267e-01,   1.53474227e+00,   1.00000000e+00,\n",
       "        -7.44205807e+01,   3.09002349e-03,  -4.78403219e+01,\n",
       "         8.86403568e+02,   1.32919234e+00,   3.72356056e+00,\n",
       "         0.00000000e+00,  -7.17045765e+01,   2.52203961e-03,\n",
       "        -6.10442709e+01,   1.22710912e+02,   1.32219121e+00,\n",
       "         3.66795774e+00,   1.00000000e+00,  -7.05892374e+01,\n",
       "         2.43612663e-03,  -6.21131758e+01,   9.88468655e+01,\n",
       "         1.73444819e+00,   4.86769531e+00])"
      ]
     },
     "execution_count": 16,
     "metadata": {},
     "output_type": "execute_result"
    }
   ],
   "source": [
    "x_o"
   ]
  },
  {
   "cell_type": "code",
   "execution_count": 18,
   "metadata": {
    "collapsed": false
   },
   "outputs": [],
   "source": [
    "import numpy as np\n",
    "np.savez('../../../arco_sims/x_o.npz', x_o=x_o)"
   ]
  },
  {
   "cell_type": "code",
   "execution_count": null,
   "metadata": {
    "collapsed": true
   },
   "outputs": [],
   "source": []
  }
 ],
 "metadata": {
  "anaconda-cloud": {},
  "kernelspec": {
   "display_name": "Python [default]",
   "language": "python",
   "name": "python2"
  },
  "language_info": {
   "codemirror_mode": {
    "name": "ipython",
    "version": 2
   },
   "file_extension": ".py",
   "mimetype": "text/x-python",
   "name": "python",
   "nbconvert_exporter": "python",
   "pygments_lexer": "ipython2",
   "version": "2.7.12"
  }
 },
 "nbformat": 4,
 "nbformat_minor": 2
}
