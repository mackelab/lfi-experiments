{
 "cells": [
  {
   "cell_type": "code",
   "execution_count": 1,
   "metadata": {
    "collapsed": false
   },
   "outputs": [
    {
     "name": "stdout",
     "output_type": "stream",
     "text": [
      "pyknos/nflows/nn/nde\n"
     ]
    }
   ],
   "source": [
    "import torch\n",
    "import numpy as np\n",
    "from sbi.inference import prepare_for_sbi, SNLE, SNPE\n",
    "from sbi.simulators.linear_gaussian import diagonal_linear_gaussian\n",
    "import sbi.utils as sbi_utils"
   ]
  },
  {
   "cell_type": "markdown",
   "metadata": {},
   "source": [
    "### Load theta and x"
   ]
  },
  {
   "cell_type": "code",
   "execution_count": 98,
   "metadata": {
    "collapsed": true
   },
   "outputs": [],
   "source": [
    "data = np.load('../results/cleaned_up_data_onlyNumSpikes_calibrationKernel.npz', allow_pickle=True)\n",
    "\n",
    "x = torch.as_tensor(data['data'], dtype=torch.float32)\n",
    "theta = torch.as_tensor(data['params'], dtype=torch.float32)"
   ]
  },
  {
   "cell_type": "code",
   "execution_count": 99,
   "metadata": {
    "collapsed": true
   },
   "outputs": [],
   "source": [
    "x = x[:, :1]"
   ]
  },
  {
   "cell_type": "code",
   "execution_count": 100,
   "metadata": {
    "collapsed": true
   },
   "outputs": [],
   "source": [
    "import sys\n",
    "sys.path.append('../')"
   ]
  },
  {
   "cell_type": "code",
   "execution_count": 101,
   "metadata": {
    "collapsed": true
   },
   "outputs": [],
   "source": [
    "from parameter_setup import load_ground_truth_params, load_prior_min, load_prior_max"
   ]
  },
  {
   "cell_type": "markdown",
   "metadata": {},
   "source": [
    "### Load data to standardize - needed to standardize x_o"
   ]
  },
  {
   "cell_type": "code",
   "execution_count": 102,
   "metadata": {
    "collapsed": false
   },
   "outputs": [
    {
     "name": "stdout",
     "output_type": "stream",
     "text": [
      "tensor([ 2.0000e+01,  5.0000e-04,  2.0000e+01,  5.0005e-04,  2.0003e+01,\n",
      "         5.0008e-04,  1.6614e-09,  3.9134e-09,  3.9221e-09,  4.3379e-07,\n",
      "         1.4348e-08,  1.1566e-09,  2.3685e-09,  1.9186e-06,  3.6745e-07,\n",
      "         9.5074e-08,  4.2545e-07,  4.8658e-08,  8.0016e-06,  8.9615e-07,\n",
      "         4.4210e-09,  1.3498e-08,  6.3917e-09,  2.1546e-07,  8.4218e-07,\n",
      "         8.4828e-09,  8.8416e-07, -3.0000e+00,  6.2148e-06,  1.5527e-06,\n",
      "         3.0000e-05,  2.0000e-05,  3.0000e-05,  2.0000e-05,  3.3300e-01])\n"
     ]
    }
   ],
   "source": [
    "mins, _ = torch.min(theta, dim=0)\n",
    "print(mins)"
   ]
  },
  {
   "cell_type": "code",
   "execution_count": 103,
   "metadata": {
    "collapsed": false
   },
   "outputs": [
    {
     "name": "stdout",
     "output_type": "stream",
     "text": [
      "tensor([ 2.0000e+02,  5.0000e-02,  9.9999e+02,  5.0000e-02,  1.0000e+03,\n",
      "         5.0000e-02,  5.0000e-03,  1.0000e-03,  1.0000e-03,  2.0000e-01,\n",
      "         1.0000e-02,  1.0000e-02,  1.0000e-03,  1.0000e+00,  1.0000e+00,\n",
      "         1.0000e-01,  1.0000e-01,  4.0000e-02,  4.0000e+00,  4.0000e+00,\n",
      "         1.0000e-02,  1.0000e-02,  1.0000e-02,  1.0000e-01,  1.0000e-01,\n",
      "         4.0000e-02,  1.0000e+00, -6.3502e-06,  2.0000e+00,  2.0000e+00,\n",
      "         1.0000e-04,  5.0000e-05,  1.0000e-04,  5.0200e-05,  2.1360e+00])\n"
     ]
    }
   ],
   "source": [
    "maxs, _ = torch.max(theta, dim=0)\n",
    "print(maxs)"
   ]
  },
  {
   "cell_type": "code",
   "execution_count": 104,
   "metadata": {
    "collapsed": false
   },
   "outputs": [
    {
     "name": "stdout",
     "output_type": "stream",
     "text": [
      "[137.862136034238, 0.0005793520824526776, 199.1298048149789, 0.0006108049075983062, 152.1647419393015, 0.00742430653684668, 0.0010965218089651857, 0.0008186770602065786, 0.00011435310571497434, 0.0022763084379226854, 0.0036986082079423594, 0.00013883334761566004, 3.2474860530531394e-06, 0.005426837416265438, 0.10568666421909532, 0.04812676692103998, 0.094826660872338, 0.013854989311151315, 3.9010342040060975, 3.8851157748263354, 0.009964343408409574, 0.006000497448875096, 0.0012602755616811401, 0.01392240648099882, 0.06283710421562513, 6.68382138396179e-05, 0.08311048073340864, -2.9836949894223825, 1.9642986130169147, 1.2999358521956366, 4.4931548434199036e-05, 2.062212836678345e-05, 4.22059843297412e-05, 2.2409802171891654e-05, 1.7109080877160283]\n"
     ]
    }
   ],
   "source": [
    "print(gt_params)"
   ]
  },
  {
   "cell_type": "code",
   "execution_count": 105,
   "metadata": {
    "collapsed": true
   },
   "outputs": [],
   "source": [
    "x_mean = x.mean(dim=0)\n",
    "x_std = x.std(dim=0)\n",
    "\n",
    "dummy_prior = sbi_utils.BoxUniform(torch.as_tensor(load_prior_min()), torch.as_tensor(load_prior_max()))\n",
    "\n",
    "theta_mean = dummy_prior.mean\n",
    "theta_std = dummy_prior.stddev"
   ]
  },
  {
   "cell_type": "code",
   "execution_count": 106,
   "metadata": {
    "collapsed": true
   },
   "outputs": [],
   "source": [
    "x = (x-x_mean) / x_std\n",
    "theta = (theta-theta_mean) / theta_std"
   ]
  },
  {
   "cell_type": "code",
   "execution_count": 107,
   "metadata": {
    "collapsed": false
   },
   "outputs": [
    {
     "data": {
      "text/plain": [
       "tensor([0.9998, 0.9963, 1.0001, 0.9991, 0.9998, 1.0005, 0.9983, 0.9996, 1.0006,\n",
       "        1.0000, 1.0001, 0.9990, 0.9994, 1.0007, 1.0005, 0.9999, 1.0009, 0.9995,\n",
       "        0.9986, 0.9938, 0.9996, 1.0000, 0.9867, 1.0003, 0.9993, 0.9981, 0.9987,\n",
       "        1.0000, 0.9994, 1.0000, 1.0016, 1.0005, 0.9975, 1.0004, 0.4107])"
      ]
     },
     "execution_count": 107,
     "metadata": {},
     "output_type": "execute_result"
    }
   ],
   "source": [
    "theta.std(dim=0)"
   ]
  },
  {
   "cell_type": "code",
   "execution_count": 108,
   "metadata": {
    "collapsed": false
   },
   "outputs": [
    {
     "data": {
      "text/plain": [
       "tensor([-1.1898e-03,  3.6140e-03,  2.7931e-03,  1.1618e-03,  3.5554e-03,\n",
       "        -1.0028e-03, -1.2959e-02,  1.9829e-04, -1.5160e-03, -7.8632e-03,\n",
       "        -2.8268e-04,  6.7013e-04,  8.2654e-03, -2.0113e-04, -2.6095e-03,\n",
       "        -1.8016e-04, -5.2981e-04,  6.5056e-04,  6.1090e-02,  8.0720e-02,\n",
       "         1.8828e-02,  3.1534e-02,  1.5257e-02, -1.7815e-04, -3.3287e-03,\n",
       "         2.8998e-03,  3.8502e-03,  1.2857e-03, -1.5259e-02, -3.0014e-02,\n",
       "        -1.1918e-01, -8.5278e-04, -8.6408e-02, -4.8508e-03, -1.0605e+00])"
      ]
     },
     "execution_count": 108,
     "metadata": {},
     "output_type": "execute_result"
    }
   ],
   "source": [
    "theta.mean(dim=0)"
   ]
  },
  {
   "cell_type": "code",
   "execution_count": 109,
   "metadata": {
    "collapsed": false
   },
   "outputs": [
    {
     "name": "stdout",
     "output_type": "stream",
     "text": [
      "tensor([1.7320, 1.7320, 1.7320, 1.7320, 1.7321, 1.7320, 1.7320, 1.7320, 1.7320,\n",
      "        1.7320, 1.7321, 1.7320, 1.7320, 1.7320, 1.7320, 1.7320, 1.7320, 1.7321,\n",
      "        1.7320, 1.7320, 1.7320, 1.7321, 1.7321, 1.7320, 1.7320, 1.7320, 1.7320,\n",
      "        1.7320, 1.7320, 1.7321, 1.7320, 1.7320, 1.7320, 1.7320, 0.6098])\n"
     ]
    }
   ],
   "source": [
    "maxs, _ = torch.max(theta, dim=0)\n",
    "print(maxs)"
   ]
  },
  {
   "cell_type": "markdown",
   "metadata": {},
   "source": [
    "### Create dummy simulator and dummy prior"
   ]
  },
  {
   "cell_type": "code",
   "execution_count": 11,
   "metadata": {
    "collapsed": true
   },
   "outputs": [],
   "source": [
    "def dummy_simulator(theta):\n",
    "    return torch.ones(1,1)\n",
    "\n",
    "dummy_prior = sbi_utils.BoxUniform(torch.as_tensor(load_prior_min()), torch.as_tensor(load_prior_max()))\n",
    "_bound = torch.sqrt(torch.as_tensor(3.))\n",
    "dummy_prior_norm = sbi_utils.BoxUniform(-_bound*torch.ones(35), _bound*torch.ones(35))"
   ]
  },
  {
   "cell_type": "code",
   "execution_count": 12,
   "metadata": {
    "collapsed": true
   },
   "outputs": [],
   "source": [
    "from sbi.utils.get_nn_models import likelihood_nn, posterior_nn"
   ]
  },
  {
   "cell_type": "code",
   "execution_count": 14,
   "metadata": {
    "collapsed": true
   },
   "outputs": [],
   "source": [
    "simulator, prior, x_shape = prepare_for_sbi(dummy_simulator, dummy_prior_norm)\n",
    "\n",
    "nsf_posterior = posterior_nn(\n",
    "    model='nsf',\n",
    "    prior=prior,\n",
    "    x_o_shape=x_shape,\n",
    "    hidden_features=100,\n",
    "    flow_num_transforms=10,\n",
    ")"
   ]
  },
  {
   "cell_type": "code",
   "execution_count": 16,
   "metadata": {
    "collapsed": true
   },
   "outputs": [],
   "source": [
    "inference = SNPE(\n",
    "    simulator, \n",
    "    prior,\n",
    "    x_shape,\n",
    "    external_data=(theta, x), # todo: remove the [:1000] to train on all datasamples\n",
    "    mcmc_method='slice', \n",
    "    density_estimator=nsf_posterior\n",
    ")"
   ]
  },
  {
   "cell_type": "code",
   "execution_count": 18,
   "metadata": {
    "collapsed": false,
    "scrolled": true
   },
   "outputs": [
    {
     "name": "stderr",
     "output_type": "stream",
     "text": [
      "WARNING:root:Zero-length parameter theta implies zero simulations.\n"
     ]
    },
    {
     "name": "stdout",
     "output_type": "stream",
     "text": [
      "Neural network successfully converged after 17 epochs.\n"
     ]
    }
   ],
   "source": [
    "posterior = inference(\n",
    "    num_rounds=1,\n",
    "    num_simulations_per_round=0,\n",
    "    batch_size=100, # default is 50\n",
    "    stop_after_epochs=5, # default is 20\n",
    ")"
   ]
  },
  {
   "cell_type": "code",
   "execution_count": 19,
   "metadata": {
    "collapsed": true
   },
   "outputs": [],
   "source": [
    "import pickle\n",
    "with open('../results/posteriors/200630_PosteriorSNPE_onlyBurst.pickle', 'wb') as handle:\n",
    "    pickle.dump(posterior, handle)"
   ]
  },
  {
   "cell_type": "markdown",
   "metadata": {},
   "source": [
    "# Temper the posterior"
   ]
  },
  {
   "cell_type": "code",
   "execution_count": 132,
   "metadata": {
    "collapsed": true
   },
   "outputs": [],
   "source": [
    "import numpy as np\n",
    "x_o = torch.as_tensor(np.load('../results/observation/x_o_new_ss.npz')['x_o'], dtype=torch.float32)\n",
    "x_o = x_o[:1]\n",
    "x_o[0] = 2."
   ]
  },
  {
   "cell_type": "code",
   "execution_count": 133,
   "metadata": {
    "collapsed": true
   },
   "outputs": [],
   "source": [
    "x_o = (x_o - x_mean) / x_std\n",
    "x_o = x_o.unsqueeze(0)"
   ]
  },
  {
   "cell_type": "code",
   "execution_count": 134,
   "metadata": {
    "collapsed": false
   },
   "outputs": [
    {
     "data": {
      "text/plain": [
       "tensor([[2.2962]])"
      ]
     },
     "execution_count": 134,
     "metadata": {},
     "output_type": "execute_result"
    }
   ],
   "source": [
    "x_o"
   ]
  },
  {
   "cell_type": "markdown",
   "metadata": {},
   "source": [
    "### Analyse posterior"
   ]
  },
  {
   "cell_type": "code",
   "execution_count": 135,
   "metadata": {
    "collapsed": true
   },
   "outputs": [],
   "source": [
    "import pickle\n",
    "with open('../results/posteriors/200630_PosteriorSNPE_onlyBurst.pickle', 'rb') as handle:\n",
    "    posterior = pickle.load(handle)"
   ]
  },
  {
   "cell_type": "code",
   "execution_count": 136,
   "metadata": {
    "collapsed": false,
    "scrolled": false
   },
   "outputs": [
    {
     "name": "stdout",
     "output_type": "stream",
     "text": [
      "new iter, 0\n",
      "new iter, 1\n",
      "new iter, 2\n",
      "new iter, 3\n",
      "new iter, 4\n"
     ]
    }
   ],
   "source": [
    "s = []\n",
    "num_iter = 5\n",
    "num_samples_per_iter = 1000\n",
    "\n",
    "for k in range(num_iter):\n",
    "    print(\"new iter,\", k)\n",
    "    samples = posterior.sample((num_samples_per_iter,), x=x_o).detach()\n",
    "\n",
    "    # denormalize the samples\n",
    "    samples = samples * theta_std + theta_mean\n",
    "\n",
    "    # convert to list for pickling\n",
    "    samples_list = samples.numpy().tolist()\n",
    "    \n",
    "    s.append(samples_list)\n",
    "s = np.asarray(s)\n",
    "s = s.reshape(num_iter*num_samples_per_iter, -1)"
   ]
  },
  {
   "cell_type": "code",
   "execution_count": 137,
   "metadata": {
    "collapsed": true
   },
   "outputs": [],
   "source": [
    "s_list = s.tolist()"
   ]
  },
  {
   "cell_type": "code",
   "execution_count": 150,
   "metadata": {
    "collapsed": false
   },
   "outputs": [
    {
     "name": "stdout",
     "output_type": "stream",
     "text": [
      "[181.93304443359375, 0.04783301800489426, 207.71337890625, 0.03203444182872772, 905.8734130859375, 0.015501477755606174, 1.969374716281891e-05, 0.00043420089059509337, 0.0005980271962471306, 0.043059419840574265, 0.005180958658456802, 0.004937729332596064, 0.0009761456167325377, 0.7163742780685425, 0.16538703441619873, 0.07783587276935577, 0.09268246591091156, 0.0004285573959350586, 0.6673499345779419, 3.7757821083068848, 0.005805934313684702, 0.00028786947950720787, 0.0050466000102460384, 0.06363409012556076, 0.030833164229989052, 0.006427803076803684, 0.8930135369300842, -0.4118105173110962, 0.08754241466522217, 0.34681421518325806, 8.008732402231544e-05, 4.058504055137746e-05, 6.472937093349174e-05, 3.6732686567120254e-05, 2.6999597549438477]\n"
     ]
    }
   ],
   "source": [
    "print(s_list[0])"
   ]
  },
  {
   "cell_type": "code",
   "execution_count": 151,
   "metadata": {
    "collapsed": true
   },
   "outputs": [],
   "source": [
    "with open('../results/samples/200631_PosteriorSNPE_NumBurst_samples.pickle', 'wb') as handle:\n",
    "    pickle.dump(s_list, handle, protocol=2)"
   ]
  },
  {
   "cell_type": "code",
   "execution_count": 140,
   "metadata": {
    "collapsed": true
   },
   "outputs": [],
   "source": [
    "gt_params = [137.862136034238,\n",
    " 0.0005793520824526776,\n",
    " 199.1298048149789,\n",
    " 0.0006108049075983062,\n",
    " 152.1647419393015,\n",
    " 0.00742430653684668,\n",
    " 0.0010965218089651857,\n",
    " 0.0008186770602065786,\n",
    " 0.00011435310571497434,\n",
    " 0.0022763084379226854,\n",
    " 0.0036986082079423594,\n",
    " 0.00013883334761566004,\n",
    " 3.2474860530531394e-06,\n",
    " 0.005426837416265438,\n",
    " 0.10568666421909532,\n",
    " 0.04812676692103998,\n",
    " 0.094826660872338,\n",
    " 0.013854989311151315,\n",
    " 3.9010342040060975,\n",
    " 3.8851157748263354,\n",
    " 0.009964343408409574,\n",
    " 0.006000497448875096,\n",
    " 0.0012602755616811401,\n",
    " 0.01392240648099882,\n",
    " 0.06283710421562513,\n",
    " 6.68382138396179e-05,\n",
    " 0.08311048073340864,\n",
    " -2.9836949894223825,\n",
    " 1.9642986130169147,\n",
    " 1.2999358521956366,\n",
    " 4.4931548434199036e-05,\n",
    " 2.062212836678345e-05,\n",
    " 4.22059843297412e-05,\n",
    " 2.2409802171891654e-05,\n",
    " 1.7109080877160283]"
   ]
  },
  {
   "cell_type": "code",
   "execution_count": null,
   "metadata": {
    "collapsed": true
   },
   "outputs": [],
   "source": []
  },
  {
   "cell_type": "code",
   "execution_count": 141,
   "metadata": {
    "collapsed": true
   },
   "outputs": [],
   "source": [
    "gt_params_norm = (torch.as_tensor(gt_params) - theta_mean) / theta_std"
   ]
  },
  {
   "cell_type": "code",
   "execution_count": 142,
   "metadata": {
    "collapsed": false
   },
   "outputs": [
    {
     "data": {
      "text/plain": [
       "tensor([5.1962e+01, 1.4289e-02, 2.8290e+02, 1.4289e-02, 2.8290e+02, 1.4289e-02,\n",
       "        1.4434e-03, 2.8868e-04, 2.8868e-04, 5.7735e-02, 2.8868e-03, 2.8868e-03,\n",
       "        2.8868e-04, 2.8868e-01, 2.8868e-01, 2.8868e-02, 2.8868e-02, 1.1547e-02,\n",
       "        1.1547e+00, 1.1547e+00, 2.8868e-03, 2.8868e-03, 2.8868e-03, 2.8868e-02,\n",
       "        2.8868e-02, 1.1547e-02, 2.8868e-01, 8.6603e-01, 5.7735e-01, 5.7735e-01,\n",
       "        2.0207e-05, 8.6603e-06, 2.0207e-05, 8.7180e-06, 7.6990e-01])"
      ]
     },
     "execution_count": 142,
     "metadata": {},
     "output_type": "execute_result"
    }
   ],
   "source": [
    "theta_std"
   ]
  },
  {
   "cell_type": "code",
   "execution_count": 143,
   "metadata": {
    "collapsed": false
   },
   "outputs": [
    {
     "data": {
      "text/plain": [
       "tensor([ 0.5362, -1.7265, -1.0989, -1.7243, -1.2649, -1.2475, -0.9724,  1.1039,\n",
       "        -1.3359, -1.6926, -0.4508, -1.6840, -1.7208, -1.7133, -1.3659, -0.0649,\n",
       "         1.5528, -0.5322,  1.6463,  1.6326,  1.7197,  0.3466, -1.2955, -1.2498,\n",
       "         0.4447, -1.7263, -1.4441, -1.7132,  1.6702,  0.5195, -0.9931, -1.6602,\n",
       "        -1.1280, -1.4556,  0.0577])"
      ]
     },
     "execution_count": 143,
     "metadata": {},
     "output_type": "execute_result"
    }
   ],
   "source": [
    "gt_params_norm"
   ]
  },
  {
   "cell_type": "code",
   "execution_count": 144,
   "metadata": {
    "collapsed": true
   },
   "outputs": [],
   "source": [
    "samples = posterior.sample((2000,), x=x_o).detach()"
   ]
  },
  {
   "cell_type": "code",
   "execution_count": 145,
   "metadata": {
    "collapsed": true
   },
   "outputs": [],
   "source": [
    "probs = posterior.log_prob(samples, x=x_o).detach().numpy()\n",
    "prob_of_gt = posterior.log_prob(gt_params_norm.unsqueeze(0), x=x_o).detach().numpy()"
   ]
  },
  {
   "cell_type": "code",
   "execution_count": 146,
   "metadata": {
    "collapsed": false
   },
   "outputs": [
    {
     "data": {
      "text/plain": [
       "<matplotlib.lines.Line2D at 0x7f287346c040>"
      ]
     },
     "execution_count": 146,
     "metadata": {},
     "output_type": "execute_result"
    },
    {
     "data": {
      "image/png": "[encoded data removed]",
      "text/plain": [
       "<Figure size 360x360 with 1 Axes>"
      ]
     },
     "metadata": {
      "needs_background": "light"
     },
     "output_type": "display_data"
    }
   ],
   "source": [
    "import matplotlib.pyplot as plt\n",
    "\n",
    "fig, ax = plt.subplots(1,1, figsize=(5,5))\n",
    "_ = plt.hist(probs, bins=100)\n",
    "ax.axvline(prob_of_gt, color='r')"
   ]
  },
  {
   "cell_type": "code",
   "execution_count": 147,
   "metadata": {
    "collapsed": false
   },
   "outputs": [
    {
     "data": {
      "text/plain": [
       "array([-46.47035], dtype=float32)"
      ]
     },
     "execution_count": 147,
     "metadata": {},
     "output_type": "execute_result"
    }
   ],
   "source": [
    "prob_of_gt"
   ]
  },
  {
   "cell_type": "code",
   "execution_count": 148,
   "metadata": {
    "collapsed": false
   },
   "outputs": [
    {
     "data": {
      "text/plain": [
       "tensor([-43.4859])"
      ]
     },
     "execution_count": 148,
     "metadata": {},
     "output_type": "execute_result"
    }
   ],
   "source": [
    "dummy_prior_norm.log_prob(gt_params_norm.unsqueeze(0))"
   ]
  },
  {
   "cell_type": "markdown",
   "metadata": {},
   "source": [
    "### Posterior predictives\n",
    "Has to be done in a different virtual env with python 2."
   ]
  },
  {
   "cell_type": "code",
   "execution_count": null,
   "metadata": {
    "collapsed": true
   },
   "outputs": [],
   "source": []
  },
  {
   "cell_type": "code",
   "execution_count": null,
   "metadata": {
    "collapsed": true
   },
   "outputs": [],
   "source": [
    "\n",
    "\n",
    "\n",
    "\n",
    "\n",
    "\n",
    "\n",
    "\n",
    "\n",
    "\n",
    "\n",
    "\n",
    "\n",
    "\n",
    "\n",
    "\n",
    "\n",
    "\n"
   ]
  },
  {
   "cell_type": "code",
   "execution_count": null,
   "metadata": {
    "collapsed": true
   },
   "outputs": [],
   "source": [
    "\n",
    "\n",
    "\n",
    "\n",
    "\n",
    "\n",
    "\n",
    "\n",
    "\n",
    "\n",
    "\n",
    "\n",
    "\n",
    "\n",
    "\n",
    "\n",
    "\n",
    "\n",
    "\n",
    "\n",
    "\n",
    "\n",
    "\n",
    "\n",
    "\n",
    "\n",
    "\n",
    "\n",
    "\n",
    "\n",
    "\n",
    "\n",
    "\n",
    "\n"
   ]
  }
 ],
 "metadata": {
  "anaconda-cloud": {},
  "kernelspec": {
   "display_name": "sbi",
   "language": "python",
   "name": "sbi"
  },
  "language_info": {
   "codemirror_mode": {
    "name": "ipython",
    "version": 3
   },
   "file_extension": ".py",
   "mimetype": "text/x-python",
   "name": "python",
   "nbconvert_exporter": "python",
   "pygments_lexer": "ipython3",
   "version": "3.8.1"
  }
 },
 "nbformat": 4,
 "nbformat_minor": 4
}
