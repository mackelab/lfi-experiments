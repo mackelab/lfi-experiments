{
 "cells": [
  {
   "cell_type": "markdown",
   "metadata": {},
   "source": [
    "### Test SNL with transformed MCMC sampling"
   ]
  },
  {
   "cell_type": "code",
   "execution_count": 35,
   "metadata": {},
   "outputs": [
    {
     "name": "stdout",
     "output_type": "stream",
     "text": [
      "The autoreload extension is already loaded. To reload it, use:\n",
      "  %reload_ext autoreload\n"
     ]
    }
   ],
   "source": [
    "%load_ext autoreload\n",
    "%autoreload 2"
   ]
  },
  {
   "cell_type": "code",
   "execution_count": 37,
   "metadata": {},
   "outputs": [],
   "source": [
    "import pytest\n",
    "import torch\n",
    "from torch import eye, ones, zeros\n",
    "from torch.distributions import MultivariateNormal\n",
    "\n",
    "import sbi.utils as utils\n",
    "from sbi.inference import SNL, prepare_for_sbi\n",
    "from sbi.simulators.linear_gaussian import (\n",
    "    diagonal_linear_gaussian,\n",
    "    linear_gaussian,\n",
    "    samples_true_posterior_linear_gaussian_mvn_prior_different_dims,\n",
    "    samples_true_posterior_linear_gaussian_uniform_prior,\n",
    "    true_posterior_linear_gaussian_mvn_prior,\n",
    ")\n",
    "\n",
    "from sbi.utils.get_nn_models import get_vi_net\n",
    "from sbi.utils.vi import train_vi, train_mle"
   ]
  },
  {
   "cell_type": "code",
   "execution_count": 38,
   "metadata": {},
   "outputs": [
    {
     "data": {
      "application/vnd.jupyter.widget-view+json": {
       "model_id": "70ac2abe6ea3453c80dfd85ef3c46f32",
       "version_major": 2,
       "version_minor": 0
      },
      "text/plain": [
       "HBox(children=(FloatProgress(value=0.0, description='Running 1000 simulations.', max=1000.0, style=ProgressSty…"
      ]
     },
     "metadata": {},
     "output_type": "display_data"
    },
    {
     "name": "stdout",
     "output_type": "stream",
     "text": [
      "\n",
      "Neural network successfully converged after 40 epochs.\n"
     ]
    }
   ],
   "source": [
    "num_dim = 3\n",
    "\n",
    "x_o = zeros((1, num_dim))\n",
    "num_samples = 500\n",
    "\n",
    "# likelihood_mean will be likelihood_shift+theta\n",
    "likelihood_shift = -1.0 * ones(num_dim)\n",
    "likelihood_cov = 0.3 * eye(num_dim)\n",
    "\n",
    "prior = utils.BoxUniform(-1.73 * ones(num_dim), 1.73 * ones(num_dim))\n",
    "target_samples = samples_true_posterior_linear_gaussian_uniform_prior(\n",
    "    x_o, likelihood_shift, likelihood_cov, prior=prior, num_samples=num_samples\n",
    ")\n",
    "\n",
    "simulator = lambda theta: linear_gaussian(theta, likelihood_shift, likelihood_cov)\n",
    "\n",
    "infer = SNL(\n",
    "    *prepare_for_sbi(simulator, prior),\n",
    "    mcmc_method=\"slice\",\n",
    "    show_progress_bars=True,\n",
    ")\n",
    "\n",
    "posterior = infer(num_rounds=1, num_simulations_per_round=1000).set_default_x(x_o)"
   ]
  },
  {
   "cell_type": "code",
   "execution_count": 39,
   "metadata": {},
   "outputs": [],
   "source": [
    "import sys\n",
    "sys.path.append('../../../bFlows')\n",
    "from bflows.utils.neural_net.get_bounded_flows import get_bflow"
   ]
  },
  {
   "cell_type": "code",
   "execution_count": 41,
   "metadata": {
    "scrolled": true
   },
   "outputs": [
    {
     "name": "stderr",
     "output_type": "stream",
     "text": [
      "/home/michael/anaconda3/envs/sbi/lib/python3.8/site-packages/nflows/transforms/standard.py:62: UserWarning: To copy construct from a tensor, it is recommended to use sourceTensor.clone().detach() or sourceTensor.clone().detach().requires_grad_(True), rather than torch.tensor(sourceTensor).\n",
      "  \"_shift\", torch.tensor(shift if (shift is not None) else 0.0)\n",
      "/home/michael/anaconda3/envs/sbi/lib/python3.8/site-packages/nflows/transforms/standard.py:65: UserWarning: To copy construct from a tensor, it is recommended to use sourceTensor.clone().detach() or sourceTensor.clone().detach().requires_grad_(True), rather than torch.tensor(sourceTensor).\n",
      "  \"_scale\", torch.tensor(scale if (scale is not None) else 1.0)\n"
     ]
    }
   ],
   "source": [
    "vi_net_ = get_bflow('nsf_uncond_bounded', prior=prior, context=torch.ones(1,1))"
   ]
  },
  {
   "cell_type": "code",
   "execution_count": 42,
   "metadata": {},
   "outputs": [
    {
     "name": "stderr",
     "output_type": "stream",
     "text": [
      "/home/michael/Documents/sbi/sbi/inference/posterior.py:247: UserWarning: The log probability from SNL is only correct up to a normalizing constant.\n",
      "  warn(\n"
     ]
    },
    {
     "data": {
      "text/plain": [
       "tensor([-15.5119, -15.5119, -15.5119, -15.5119, -15.5119])"
      ]
     },
     "execution_count": 42,
     "metadata": {},
     "output_type": "execute_result"
    }
   ],
   "source": [
    "posterior.log_prob(-torch.ones(5, 3))"
   ]
  },
  {
   "cell_type": "code",
   "execution_count": 43,
   "metadata": {},
   "outputs": [],
   "source": [
    "starting_samples = vi_net_.sample(1000)"
   ]
  },
  {
   "cell_type": "code",
   "execution_count": 44,
   "metadata": {},
   "outputs": [
    {
     "data": {
      "image/png": "[encoded data removed]",
      "text/plain": [
       "<Figure size 720x720 with 9 Axes>"
      ]
     },
     "metadata": {
      "needs_background": "light"
     },
     "output_type": "display_data"
    }
   ],
   "source": [
    "_ = utils.pairplot(starting_samples.detach().numpy(), limits=[[-2,2],[-2,2],[-2,2]],)"
   ]
  },
  {
   "cell_type": "code",
   "execution_count": 45,
   "metadata": {
    "scrolled": false
   },
   "outputs": [
    {
     "name": "stderr",
     "output_type": "stream",
     "text": [
      "/home/michael/Documents/sbi/sbi/inference/posterior.py:247: UserWarning: The log probability from SNL is only correct up to a normalizing constant.\n",
      "  warn(\n"
     ]
    },
    {
     "name": "stdout",
     "output_type": "stream",
     "text": [
      "loss:    tensor(9.2781, grad_fn=<MeanBackward0>)\n",
      "loss:    tensor(9.2651, grad_fn=<MeanBackward0>)\n",
      "loss:    tensor(9.4101, grad_fn=<MeanBackward0>)\n",
      "loss:    tensor(9.2102, grad_fn=<MeanBackward0>)\n",
      "loss:    tensor(9.4217, grad_fn=<MeanBackward0>)\n",
      "loss:    tensor(9.3805, grad_fn=<MeanBackward0>)\n",
      "loss:    tensor(9.2163, grad_fn=<MeanBackward0>)\n",
      "loss:    tensor(9.1734, grad_fn=<MeanBackward0>)\n",
      "loss:    tensor(9.0715, grad_fn=<MeanBackward0>)\n",
      "loss:    tensor(9.3475, grad_fn=<MeanBackward0>)\n",
      "loss:    tensor(9.1206, grad_fn=<MeanBackward0>)\n",
      "loss:    tensor(9.1421, grad_fn=<MeanBackward0>)\n",
      "loss:    tensor(9.0159, grad_fn=<MeanBackward0>)\n",
      "loss:    tensor(9.3504, grad_fn=<MeanBackward0>)\n",
      "loss:    tensor(8.9771, grad_fn=<MeanBackward0>)\n",
      "loss:    tensor(9.1591, grad_fn=<MeanBackward0>)\n",
      "loss:    tensor(9.1010, grad_fn=<MeanBackward0>)\n",
      "loss:    tensor(9.1915, grad_fn=<MeanBackward0>)\n",
      "loss:    tensor(9.2299, grad_fn=<MeanBackward0>)\n",
      "loss:    tensor(9.1231, grad_fn=<MeanBackward0>)\n",
      "loss:    tensor(9.0099, grad_fn=<MeanBackward0>)\n",
      "loss:    tensor(9.1344, grad_fn=<MeanBackward0>)\n",
      "loss:    tensor(8.8900, grad_fn=<MeanBackward0>)\n",
      "loss:    tensor(8.9780, grad_fn=<MeanBackward0>)\n",
      "loss:    tensor(8.9199, grad_fn=<MeanBackward0>)\n",
      "loss:    tensor(8.9985, grad_fn=<MeanBackward0>)\n",
      "loss:    tensor(8.9230, grad_fn=<MeanBackward0>)\n",
      "loss:    tensor(8.9063, grad_fn=<MeanBackward0>)\n",
      "loss:    tensor(9.0607, grad_fn=<MeanBackward0>)\n",
      "loss:    tensor(8.8587, grad_fn=<MeanBackward0>)\n",
      "loss:    tensor(9.0785, grad_fn=<MeanBackward0>)\n",
      "loss:    tensor(9.0064, grad_fn=<MeanBackward0>)\n",
      "loss:    tensor(9.1149, grad_fn=<MeanBackward0>)\n",
      "loss:    tensor(9.1253, grad_fn=<MeanBackward0>)\n",
      "loss:    tensor(9.0735, grad_fn=<MeanBackward0>)\n",
      "loss:    tensor(8.8263, grad_fn=<MeanBackward0>)\n",
      "loss:    tensor(9.0729, grad_fn=<MeanBackward0>)\n",
      "loss:    tensor(8.9394, grad_fn=<MeanBackward0>)\n",
      "loss:    tensor(9.1408, grad_fn=<MeanBackward0>)\n",
      "loss:    tensor(9.0249, grad_fn=<MeanBackward0>)\n",
      "loss:    tensor(8.9086, grad_fn=<MeanBackward0>)\n",
      "loss:    tensor(8.8998, grad_fn=<MeanBackward0>)\n",
      "loss:    tensor(9.0995, grad_fn=<MeanBackward0>)\n",
      "loss:    tensor(9.2549, grad_fn=<MeanBackward0>)\n",
      "loss:    tensor(9.0178, grad_fn=<MeanBackward0>)\n",
      "loss:    tensor(8.9127, grad_fn=<MeanBackward0>)\n",
      "loss:    tensor(9.2589, grad_fn=<MeanBackward0>)\n",
      "loss:    tensor(9.3114, grad_fn=<MeanBackward0>)\n",
      "loss:    tensor(9.1880, grad_fn=<MeanBackward0>)\n",
      "loss:    tensor(8.9380, grad_fn=<MeanBackward0>)\n",
      "loss:    tensor(8.8850, grad_fn=<MeanBackward0>)\n",
      "loss:    tensor(9.2797, grad_fn=<MeanBackward0>)\n",
      "loss:    tensor(9.1110, grad_fn=<MeanBackward0>)\n",
      "loss:    tensor(9.1126, grad_fn=<MeanBackward0>)\n",
      "loss:    tensor(9.1889, grad_fn=<MeanBackward0>)\n",
      "loss:    tensor(9.1465, grad_fn=<MeanBackward0>)\n"
     ]
    }
   ],
   "source": [
    "trained_vi_net = train_vi(vi_net_, posterior, batch_size=1000)"
   ]
  },
  {
   "cell_type": "code",
   "execution_count": 46,
   "metadata": {},
   "outputs": [],
   "source": [
    "output_samples = trained_vi_net.sample(10000)"
   ]
  },
  {
   "cell_type": "code",
   "execution_count": 47,
   "metadata": {},
   "outputs": [
    {
     "data": {
      "image/png": "[encoded data removed]",
      "text/plain": [
       "<Figure size 720x720 with 9 Axes>"
      ]
     },
     "metadata": {
      "needs_background": "light"
     },
     "output_type": "display_data"
    }
   ],
   "source": [
    "_ = utils.pairplot(output_samples.detach().numpy(), limits=[[-2,2],[-2,2],[-2,2]],)"
   ]
  },
  {
   "cell_type": "code",
   "execution_count": null,
   "metadata": {},
   "outputs": [],
   "source": []
  }
 ],
 "metadata": {
  "kernelspec": {
   "display_name": "sbi",
   "language": "python",
   "name": "sbi"
  },
  "language_info": {
   "codemirror_mode": {
    "name": "ipython",
    "version": 3
   },
   "file_extension": ".py",
   "mimetype": "text/x-python",
   "name": "python",
   "nbconvert_exporter": "python",
   "pygments_lexer": "ipython3",
   "version": "3.8.1"
  }
 },
 "nbformat": 4,
 "nbformat_minor": 4
}
