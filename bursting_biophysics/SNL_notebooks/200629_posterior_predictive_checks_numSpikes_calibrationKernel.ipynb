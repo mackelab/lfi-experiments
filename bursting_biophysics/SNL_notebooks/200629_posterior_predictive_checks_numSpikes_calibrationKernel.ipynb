{
 "cells": [
  {
   "cell_type": "code",
   "execution_count": 1,
   "metadata": {
    "collapsed": true
   },
   "outputs": [],
   "source": [
    "%matplotlib inline"
   ]
  },
  {
   "cell_type": "code",
   "execution_count": 2,
   "metadata": {
    "collapsed": true
   },
   "outputs": [],
   "source": [
    "import pickle\n",
    "import matplotlib.pyplot as plt"
   ]
  },
  {
   "cell_type": "code",
   "execution_count": 4,
   "metadata": {
    "collapsed": false
   },
   "outputs": [],
   "source": [
    "with open('../results/samples/200629_PosteriorSNL_NumSpikesCalibrated_VI_samples.pickle', 'rb') as handle:\n",
    "    saved_samples = pickle.load(handle)"
   ]
  },
  {
   "cell_type": "code",
   "execution_count": 5,
   "metadata": {
    "collapsed": true
   },
   "outputs": [],
   "source": [
    "import sys\n",
    "sys.path.append('../')"
   ]
  },
  {
   "cell_type": "code",
   "execution_count": 6,
   "metadata": {
    "collapsed": false
   },
   "outputs": [
    {
     "data": {
      "text/plain": [
       "10000"
      ]
     },
     "execution_count": 6,
     "metadata": {},
     "output_type": "execute_result"
    }
   ],
   "source": [
    "len(saved_samples)"
   ]
  },
  {
   "cell_type": "code",
   "execution_count": 7,
   "metadata": {
    "collapsed": false,
    "scrolled": true
   },
   "outputs": [
    {
     "name": "stderr",
     "output_type": "stream",
     "text": [
      "/home/michael/Documents/Data_arco8/test_env/lib/python2.7/site-packages/matplotlib/__init__.py:1405: UserWarning: \n",
      "This call to matplotlib.use() has no effect because the backend has already\n",
      "been chosen; matplotlib.use() must be called *before* pylab, matplotlib.pyplot,\n",
      "or matplotlib.backends is imported for the first time.\n",
      "\n",
      "  warnings.warn(_use_error_msg)\n",
      "/home/michael/Documents/in_silico_framework/model_data_base/distributed_lock.py:14: UserWarning: environment variable ISF_DISTRIBUTED_LOCK_CONFIG is not set. Falling back to default configuration.\n",
      "  'Falling back to default configuration.')\n",
      "/home/michael/Documents/in_silico_framework/model_data_base/distributed_lock.py:33: UserWarning: Using file based locking.Please be careful on nfs mounts as file based locking has issues in this case.\n",
      "  warnings.warn('Using file based locking.'\n"
     ]
    },
    {
     "name": "stdout",
     "output_type": "stream",
     "text": [
      "trying to connect to distributed locking server {'config': {'socket_timeout': 1, 'host': 'spock', 'port': 8885}, 'type': 'redis'}\n",
      "trying to connect to distributed locking server {'config': {'socket_timeout': 1, 'host': 'localhost', 'port': 6379}, 'type': 'redis'}\n",
      "trying to connect to distributed locking server {'type': 'file'}\n",
      "Current version: v0.0.1+646.ga423967\n",
      "Current pid: 101513\n",
      "Loading mechanisms:\n",
      "setting up local multiprocessing framework ... done\n",
      "\n",
      "\n",
      "The loaded modules with __version__ attribute are:\n",
      "IPython: 5.1.0, Interface: v0.0.1+646.ga423967, SocketServer: 0.4, _ast: 82160, _csv: 1.0, _ctypes: 1.1.0, _struct: 0.2, argparse: 1.1, ast: 82160, blosc: 1.5.1, bluepyopt: 1.8.5, bottleneck: 1.1.0, cPickle: 1.71, cffi: 1.7.0, cgi: 2.6, chest: 0.2.3, click: 6.6, cloudpickle: 0.2.2, colorama: 0.3.7, csv: 1.0, ctypes: 1.1.0, cycler: 0.10.0, cytoolz: 0.8.0, dask: 0.18.2, dateutil: 2.5.3, deap: 1.2, decimal: 1.70, decorator: 4.0.10, distributed: 1.22.1, distutils: 2.7.12, email: 4.0.3, future: 0.16.0, ipykernel: 4.5.0, ipython_genutils: 0.1.0, ipywidgets: 5.2.2, jinja2: 2.10, json: 2.0.9, jupyter_client: 4.4.0, jupyter_core: 4.2.0, logging: 0.5.1.2, lz4: 0.10.1, matplotlib: 2.0.2, multiprocessing: 0.70a1, neuron: 7.6.7, nose: 1.3.7, numexpr: 2.6.1, numpy: 1.11.1, optparse: 1.5.3, pandas: 0.19.2, parameters: 0.2.1, past: 0.16.0, pexpect: 4.0.1, pickle: $Revision: 72223 $, pickleshare: 0.7.4, platform: 1.0.7, prompt_toolkit: 1.0.3, psutil: 4.3.1, ptyprocess: 0.5.1, py: 1.4.31, pydoc: $Revision: 88564 $, pygments: 2.1.3, pyparsing: 2.2.0, pytz: 2016.6.1, re: 2.2.1, redis: 2.10.5, scandir: 1.10.0, scipy: 0.18.1, seaborn: 0.8.0, six: 1.12.0, sklearn: 0.18.1, sortedcontainers: 2.0.4, statsmodels: 0.8.0, sumatra: 0.7.4, tables: 3.2.3.1, tblib: 1.3.2, toolz: 0.8.0, traitlets: 4.3.0, urllib: 1.17, urllib2: 2.7, xlsxwriter: 0.9.3, yaml: 3.12, zlib: 1.0, zmq: 15.4.0\n"
     ]
    }
   ],
   "source": [
    "from utils import simulator_wrapper, simulator_ss_wrapper, load_ground_truth_params, summary_stats"
   ]
  },
  {
   "cell_type": "markdown",
   "metadata": {},
   "source": [
    "### Inspect a saved sample"
   ]
  },
  {
   "cell_type": "code",
   "execution_count": 8,
   "metadata": {
    "collapsed": false
   },
   "outputs": [],
   "source": [
    "#saved_samples[0]"
   ]
  },
  {
   "cell_type": "markdown",
   "metadata": {},
   "source": [
    "### Load the ground truth sample"
   ]
  },
  {
   "cell_type": "code",
   "execution_count": 26,
   "metadata": {
    "collapsed": true
   },
   "outputs": [],
   "source": [
    "gt_params = load_ground_truth_params()"
   ]
  },
  {
   "cell_type": "code",
   "execution_count": 27,
   "metadata": {
    "collapsed": false,
    "scrolled": false
   },
   "outputs": [],
   "source": [
    "#gt_params"
   ]
  },
  {
   "cell_type": "code",
   "execution_count": 28,
   "metadata": {
    "collapsed": false,
    "scrolled": true
   },
   "outputs": [
    {
     "name": "stdout",
     "output_type": "stream",
     "text": [
      "stat_mean Vector[1092] \n",
      "stat_std Vector[1093] \n",
      "punish 250 \n",
      "use_control 0 \n",
      "rep_num 1 \n",
      "minspikenum 2 \n",
      "stim_del 295 \n",
      "stim_dur 45 \n",
      "apcvecList.o[0].size: 3 \n",
      "feature_num 6 \n",
      "Checking for minimum spike number...\n",
      "Checking for returning to rest...\n",
      "Checking for spikes before stimulus...\n",
      "Calculating feature AHP_depth_abs\n",
      "\tErr: 0.73095662 \n",
      "\tSTD: 4 \n",
      "\tnorm. diff: 0.18273916 \n",
      "Feature error: 0.18273916 \n",
      "Calculating feature AP_height\n",
      "Mean spike height: 3.3647061 \n",
      "\tErr: 3.3647061 \n",
      "\tSTD: 5 \n",
      "\tnorm. diff: 0.67294122 \n",
      "Feature error: 0.67294122 \n",
      "Calculating feature BAC_ISI\n",
      "\tErr: 1.7516891 \n",
      "\tSTD: 0.8517 \n",
      "\tnorm. diff: 2.0566973 \n",
      "Feature error: 2.0566973 \n",
      "Calculating feature BAC_caSpike_height\n",
      "Mean Ca spike height: 3.8782449 \n",
      "\tErr: 3.8782449 \n",
      "\tSTD: 2.54 \n",
      "\tnorm. diff: 1.5268681 \n",
      "Feature error: 1.5268681 \n",
      "Calculating feature BAC_caSpike_width\n",
      "\tErr: 0.81261109 \n",
      "\tSTD: 1.27 \n",
      "\tnorm. diff: 0.63985125 \n",
      "Feature error: 0.63985125 \n",
      "Calculating feature Spikecount\n",
      "\tErr: 0 \n",
      "\tSTD: 0.01 \n",
      "\tnorm. diff: 0 \n",
      "Feature error: 0 \n",
      "stat_mean Vector[1088] \n",
      "stat_std Vector[1089] \n",
      "punish 250 \n",
      "use_control 0 \n",
      "rep_num 0 \n",
      "minspikenum 1 \n",
      "stim_del 295 \n",
      "stim_dur 5 \n",
      "apcvecList.o[0].size: 1 \n",
      "feature_num 5 \n",
      "Checking for minimum spike number...\n",
      "Checking for returning to rest...\n",
      "Checking for spikes before stimulus...\n",
      "Calculating feature Spikecount\n",
      "\tErr: 0 \n",
      "\tSTD: 0.01 \n",
      "\tnorm. diff: 0 \n",
      "Feature error: 0 \n",
      "Calculating feature AP_height\n",
      "Mean spike height: 5.338553 \n",
      "\tErr: 5.338553 \n",
      "\tSTD: 5 \n",
      "\tnorm. diff: 1.0677106 \n",
      "Feature error: 1.0677106 \n",
      "Calculating feature AP_width\n",
      "\tErr: 0.91355077 \n",
      "\tSTD: 0.5 \n",
      "\tnorm. diff: 1.8271015 \n",
      "Feature error: 1.8271015 \n",
      "Calculating feature BPAPatt2\n",
      "\tErr: 5.0626097 \n",
      "\tSTD: 10 \n",
      "\tnorm. diff: 0.50626097 \n",
      "Feature error: 0.50626097 \n",
      "Calculating feature BPAPatt3\n",
      "\tErr: 0.13830731 \n",
      "\tSTD: 9.33 \n",
      "\tnorm. diff: 0.014823934 \n",
      "Feature error: 0.014823934 \n"
     ]
    }
   ],
   "source": [
    "output = simulator_wrapper(gt_params)\n",
    "output_ss = simulator_ss_wrapper(gt_params)"
   ]
  },
  {
   "cell_type": "code",
   "execution_count": 29,
   "metadata": {
    "collapsed": false
   },
   "outputs": [
    {
     "data": {
      "text/plain": [
       "{'BAC_APheight': 0.6729412179349384,\n",
       " 'BAC_ISI': 2.0566973194972613,\n",
       " 'BAC_ahpdepth': 0.182739155137412,\n",
       " 'BAC_caSpike_height': 1.526868085258341,\n",
       " 'BAC_caSpike_width': 0.6398512531176116,\n",
       " 'BAC_spikecount': 0.0,\n",
       " 'bAP_APheight': 1.0677105939115457,\n",
       " 'bAP_APwidth': 1.8271015455106863,\n",
       " 'bAP_att2': 0.5062609715603245,\n",
       " 'bAP_att3': 0.014823934337756788,\n",
       " 'bAP_spikecount': 0.0}"
      ]
     },
     "execution_count": 29,
     "metadata": {},
     "output_type": "execute_result"
    }
   ],
   "source": [
    "output_ss"
   ]
  },
  {
   "cell_type": "code",
   "execution_count": 30,
   "metadata": {
    "collapsed": true
   },
   "outputs": [],
   "source": [
    "import numpy as np\n",
    "np_vals = []\n",
    "for key in output.keys():\n",
    "    np_vals.append(output[key])\n",
    "np_vals = np.asarray(np_vals)"
   ]
  },
  {
   "cell_type": "code",
   "execution_count": 31,
   "metadata": {
    "collapsed": false
   },
   "outputs": [],
   "source": [
    "#np.savez('/home/michael/Documents/lfi-experiments/bursting_biophysics/results/observation/x_o_hay.npz', x_o=np_vals, x_o_dict=output)"
   ]
  },
  {
   "cell_type": "code",
   "execution_count": 32,
   "metadata": {
    "collapsed": false,
    "scrolled": true
   },
   "outputs": [],
   "source": [
    "#import pickle\n",
    "#with open('/home/michael/Documents/lfi-experiments/bursting_biophysics/results/observation/x_o_hay.pickle', 'wb') as handle:\n",
    "#    pickle.dump(np_vals, handle)"
   ]
  },
  {
   "cell_type": "code",
   "execution_count": 33,
   "metadata": {
    "collapsed": false
   },
   "outputs": [
    {
     "data": {
      "image/png": "[encoded data removed]",
      "text/plain": [
       "<matplotlib.figure.Figure at 0x7f768b3caf10>"
      ]
     },
     "metadata": {},
     "output_type": "display_data"
    }
   ],
   "source": [
    "plt.plot(output['BAC.hay_measure']['tVec'], output['BAC.hay_measure']['vList'][0])\n",
    "plt.show()"
   ]
  },
  {
   "cell_type": "code",
   "execution_count": 34,
   "metadata": {
    "collapsed": true
   },
   "outputs": [],
   "source": [
    "x_o = summary_stats(output, n_xcorr=0, n_mom=4)"
   ]
  },
  {
   "cell_type": "code",
   "execution_count": 35,
   "metadata": {
    "collapsed": false
   },
   "outputs": [],
   "source": [
    "#import pickle\n",
    "#with open('../results/observation/x_o_new_ss.pickle', 'wb') as handle:\n",
    "#    pickle.dump(x_o, handle)\n",
    "#import numpy as np\n",
    "#np.savez('../results/observation/x_o_new_ss.npz', x_o=x_o)"
   ]
  },
  {
   "cell_type": "code",
   "execution_count": 36,
   "metadata": {
    "collapsed": false
   },
   "outputs": [
    {
     "data": {
      "text/plain": [
       "array([  3.00000000e+00,  -7.39717591e+01,   2.66050783e-03,\n",
       "        -7.03781874e+01,   2.59070194e+02,   2.74266520e+00,\n",
       "         1.35953871e+01,   1.00000000e+00,  -7.03736112e+01,\n",
       "         1.35826963e-03,  -5.46362819e+01,   9.47858009e+02,\n",
       "         7.50336875e-01,   1.92771408e+00,   1.00000000e+00,\n",
       "        -7.39717591e+01,   2.66050783e-03,  -7.35701912e+01,\n",
       "         2.93179887e+01,   1.06514191e+01,   1.56181772e+02,\n",
       "         0.00000000e+00,  -7.03736112e+01,   1.35826963e-03,\n",
       "        -6.97986229e+01,   2.85391733e+01,   4.83587242e+00,\n",
       "         2.83883641e+01,   1.00000000e+00,  -6.89818115e+01,\n",
       "         1.00829906e-03,  -6.85036220e+01,   2.69427188e+01,\n",
       "         4.68281414e+00,   2.61891455e+01])"
      ]
     },
     "execution_count": 36,
     "metadata": {},
     "output_type": "execute_result"
    }
   ],
   "source": [
    "x_o"
   ]
  },
  {
   "cell_type": "code",
   "execution_count": 37,
   "metadata": {
    "collapsed": false
   },
   "outputs": [
    {
     "data": {
      "text/plain": [
       "array([ 3.,  1.,  1.,  0.,  1.])"
      ]
     },
     "execution_count": 37,
     "metadata": {},
     "output_type": "execute_result"
    }
   ],
   "source": [
    "x_o[::7]"
   ]
  },
  {
   "cell_type": "markdown",
   "metadata": {},
   "source": [
    "### Simulate posterior samples"
   ]
  },
  {
   "cell_type": "code",
   "execution_count": 21,
   "metadata": {
    "collapsed": false,
    "scrolled": true
   },
   "outputs": [
    {
     "name": "stdout",
     "output_type": "stream",
     "text": [
      "('x', array([  1.00000000e+00,  -8.06105065e+01,   2.39037922e-03,\n",
      "        -8.26143793e+01,   1.17315898e+02,   6.67646514e+00,\n",
      "         5.50274310e+01,   1.00000000e+00,  -7.38169919e+01,\n",
      "         5.63172687e-03,  -7.87064029e+01,   2.24777665e+02,\n",
      "         3.96931964e+00,   1.91996749e+01,   1.00000000e+00,\n",
      "        -8.06105065e+01,   2.39037922e-03,  -8.41336597e+01,\n",
      "         4.03213936e+01,   1.17619399e+01,   1.66428979e+02,\n",
      "         0.00000000e+00,  -7.38169919e+01,   5.63172687e-03,\n",
      "        -8.10756264e+01,   5.82980623e+01,   6.59725000e+00,\n",
      "         5.06934026e+01,   1.00000000e+00,  -7.15718927e+01,\n",
      "         8.10840177e-03,  -8.01051157e+01,   1.09089244e+02,\n",
      "         5.36383512e+00,   3.31972189e+01]))\n"
     ]
    },
    {
     "data": {
      "image/png": "[encoded data removed]",
      "text/plain": [
       "<matplotlib.figure.Figure at 0x7f76906efc50>"
      ]
     },
     "metadata": {},
     "output_type": "display_data"
    }
   ],
   "source": [
    "fig, ax = plt.subplots(1,1, figsize=(7, 5))\n",
    "\n",
    "for i in range(1):\n",
    "    output = simulator_wrapper(saved_samples[i])\n",
    "    x = summary_stats(output, n_xcorr=0, n_mom=4)\n",
    "    print('x', x)\n",
    "    plt.plot(output['bAP.hay_measure']['tVec'], output['bAP.hay_measure']['vList'][0], linewidth=3.0)\n",
    "    plt.plot(output['BAC.hay_measure']['tVec'], output['BAC.hay_measure']['vList'][0], linestyle='--', linewidth=3.0)\n",
    "plt.show()"
   ]
  },
  {
   "cell_type": "code",
   "execution_count": null,
   "metadata": {
    "collapsed": true
   },
   "outputs": [],
   "source": []
  },
  {
   "cell_type": "code",
   "execution_count": 25,
   "metadata": {
    "collapsed": false
   },
   "outputs": [
    {
     "name": "stdout",
     "output_type": "stream",
     "text": [
      "('x', array([ 1.,  1.,  1.,  0.,  1.]))\n",
      "('x', array([ 1.,  1.,  1.,  0.,  1.]))\n",
      "('x', array([ 1.,  1.,  1.,  0.,  1.]))\n",
      "('x', array([ 1.,  1.,  1.,  0.,  1.]))\n",
      "('x', array([ 1.,  1.,  1.,  0.,  0.]))\n"
     ]
    },
    {
     "data": {
      "image/png": "[encoded data removed]",
      "text/plain": [
       "<matplotlib.figure.Figure at 0x7f768ab8d8d0>"
      ]
     },
     "metadata": {},
     "output_type": "display_data"
    }
   ],
   "source": [
    "counter = 0\n",
    "for _ in range(1):\n",
    "\n",
    "    fig, ax = plt.subplots(1,1, figsize=(15, 5))\n",
    "\n",
    "    for i in range(5):\n",
    "        counter += 1\n",
    "        output = simulator_wrapper(saved_samples[counter])\n",
    "        x = summary_stats(output, n_xcorr=0, n_mom=4)\n",
    "        print('x', x[::7])\n",
    "        #x = summary_stats(output, n_xcorr=0, n_mom=4)\n",
    "        #plt.plot(output['bAP.hay_measure']['tVec']+(i*200), output['bAP.hay_measure']['vList'][0], linewidth=3.0)\n",
    "        plt.plot(output['BAC.hay_measure']['tVec']+(i*200), output['BAC.hay_measure']['vList'][0])\n",
    "    #plt.savefig('../results/figures/200623_round1_SNL_posteriorPredictives_VI_BAC.png', dpi=200, bbox_inches='tight')\n",
    "    plt.show()"
   ]
  },
  {
   "cell_type": "markdown",
   "metadata": {},
   "source": [
    "### Prior predictives"
   ]
  },
  {
   "cell_type": "code",
   "execution_count": 44,
   "metadata": {
    "collapsed": true
   },
   "outputs": [],
   "source": [
    "with open('../results/samples/200617_prior_theta.pickle', 'rb') as handle:\n",
    "    theta_list=pickle.load(handle)"
   ]
  },
  {
   "cell_type": "code",
   "execution_count": 46,
   "metadata": {
    "collapsed": false
   },
   "outputs": [
    {
     "data": {
      "image/png": "[encoded data removed]",
      "text/plain": [
       "<matplotlib.figure.Figure at 0x7f484ef99ad0>"
      ]
     },
     "metadata": {},
     "output_type": "display_data"
    }
   ],
   "source": [
    "fig, ax = plt.subplots(1,1, figsize=(15, 3))\n",
    "\n",
    "for i in range(10):\n",
    "    output = simulator_wrapper(theta_list[i])\n",
    "    x = summary_stats(output, n_xcorr=0, n_mom=4)\n",
    "    \n",
    "    plt.plot(output['BAC.hay_measure']['tVec']+(i*200), output['BAC.hay_measure']['vList'][0])\n",
    "plt.savefig('../results/figures/200618_round1_SNPE_priorPredictives1.png', dpi=200, bbox_inches='tight')\n",
    "plt.show()"
   ]
  },
  {
   "cell_type": "code",
   "execution_count": null,
   "metadata": {
    "collapsed": true
   },
   "outputs": [],
   "source": []
  }
 ],
 "metadata": {
  "anaconda-cloud": {},
  "kernelspec": {
   "display_name": "Python [default]",
   "language": "python",
   "name": "python2"
  },
  "language_info": {
   "codemirror_mode": {
    "name": "ipython",
    "version": 2
   },
   "file_extension": ".py",
   "mimetype": "text/x-python",
   "name": "python",
   "nbconvert_exporter": "python",
   "pygments_lexer": "ipython2",
   "version": "2.7.12"
  }
 },
 "nbformat": 4,
 "nbformat_minor": 2
}
