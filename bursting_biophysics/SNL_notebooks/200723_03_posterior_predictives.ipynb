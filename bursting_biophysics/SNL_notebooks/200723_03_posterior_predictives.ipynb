{
 "cells": [
  {
   "cell_type": "code",
   "execution_count": 1,
   "metadata": {
    "collapsed": true
   },
   "outputs": [],
   "source": [
    "%matplotlib inline"
   ]
  },
  {
   "cell_type": "code",
   "execution_count": 2,
   "metadata": {
    "collapsed": true
   },
   "outputs": [],
   "source": [
    "import pickle\n",
    "import matplotlib.pyplot as plt"
   ]
  },
  {
   "cell_type": "code",
   "execution_count": 3,
   "metadata": {
    "collapsed": false
   },
   "outputs": [],
   "source": [
    "with open('../results/samples/200723_posteriorSNPE_small_prior_samples.pickle', 'rb') as handle:\n",
    "    saved_samples = pickle.load(handle)"
   ]
  },
  {
   "cell_type": "code",
   "execution_count": 4,
   "metadata": {
    "collapsed": true
   },
   "outputs": [],
   "source": [
    "import sys\n",
    "sys.path.append('../')"
   ]
  },
  {
   "cell_type": "code",
   "execution_count": 5,
   "metadata": {
    "collapsed": false
   },
   "outputs": [
    {
     "data": {
      "text/plain": [
       "5000"
      ]
     },
     "execution_count": 5,
     "metadata": {},
     "output_type": "execute_result"
    }
   ],
   "source": [
    "len(saved_samples)"
   ]
  },
  {
   "cell_type": "code",
   "execution_count": 6,
   "metadata": {
    "collapsed": false,
    "scrolled": true
   },
   "outputs": [
    {
     "name": "stderr",
     "output_type": "stream",
     "text": [
      "/home/michael/Documents/Data_arco8/test_env/lib/python2.7/site-packages/matplotlib/__init__.py:1405: UserWarning: \n",
      "This call to matplotlib.use() has no effect because the backend has already\n",
      "been chosen; matplotlib.use() must be called *before* pylab, matplotlib.pyplot,\n",
      "or matplotlib.backends is imported for the first time.\n",
      "\n",
      "  warnings.warn(_use_error_msg)\n",
      "/home/michael/Documents/in_silico_framework/model_data_base/distributed_lock.py:14: UserWarning: environment variable ISF_DISTRIBUTED_LOCK_CONFIG is not set. Falling back to default configuration.\n",
      "  'Falling back to default configuration.')\n",
      "/home/michael/Documents/in_silico_framework/model_data_base/distributed_lock.py:33: UserWarning: Using file based locking.Please be careful on nfs mounts as file based locking has issues in this case.\n",
      "  warnings.warn('Using file based locking.'\n"
     ]
    },
    {
     "name": "stdout",
     "output_type": "stream",
     "text": [
      "trying to connect to distributed locking server {'config': {'socket_timeout': 1, 'host': 'spock', 'port': 8885}, 'type': 'redis'}\n",
      "trying to connect to distributed locking server {'config': {'socket_timeout': 1, 'host': 'localhost', 'port': 6379}, 'type': 'redis'}\n",
      "trying to connect to distributed locking server {'type': 'file'}\n",
      "Current version: v0.0.1+646.ga423967\n",
      "Current pid: 14916\n",
      "Loading mechanisms:\n",
      "setting up local multiprocessing framework ... done\n",
      "\n",
      "\n",
      "The loaded modules with __version__ attribute are:\n",
      "IPython: 5.1.0, Interface: v0.0.1+646.ga423967, SocketServer: 0.4, _ast: 82160, _csv: 1.0, _ctypes: 1.1.0, _struct: 0.2, argparse: 1.1, ast: 82160, blosc: 1.5.1, bluepyopt: 1.8.5, bottleneck: 1.1.0, cPickle: 1.71, cffi: 1.7.0, cgi: 2.6, chest: 0.2.3, click: 6.6, cloudpickle: 0.2.2, colorama: 0.3.7, csv: 1.0, ctypes: 1.1.0, cycler: 0.10.0, cytoolz: 0.8.0, dask: 0.18.2, dateutil: 2.5.3, deap: 1.2, decimal: 1.70, decorator: 4.0.10, distributed: 1.22.1, distutils: 2.7.12, email: 4.0.3, future: 0.16.0, ipykernel: 4.5.0, ipython_genutils: 0.1.0, ipywidgets: 5.2.2, jinja2: 2.10, json: 2.0.9, jupyter_client: 4.4.0, jupyter_core: 4.2.0, logging: 0.5.1.2, lz4: 0.10.1, matplotlib: 2.0.2, multiprocessing: 0.70a1, neuron: 7.6.7, nose: 1.3.7, numexpr: 2.6.1, numpy: 1.11.1, optparse: 1.5.3, pandas: 0.19.2, parameters: 0.2.1, past: 0.16.0, pexpect: 4.0.1, pickle: $Revision: 72223 $, pickleshare: 0.7.4, platform: 1.0.7, prompt_toolkit: 1.0.3, psutil: 4.3.1, ptyprocess: 0.5.1, py: 1.4.31, pydoc: $Revision: 88564 $, pygments: 2.1.3, pyparsing: 2.2.0, pytz: 2016.6.1, re: 2.2.1, redis: 2.10.5, scandir: 1.10.0, scipy: 0.18.1, seaborn: 0.8.0, six: 1.12.0, sklearn: 0.18.1, sortedcontainers: 2.0.4, statsmodels: 0.8.0, sumatra: 0.7.4, tables: 3.2.3.1, tblib: 1.3.2, toolz: 0.8.0, traitlets: 4.3.0, urllib: 1.17, urllib2: 2.7, xlsxwriter: 0.9.3, yaml: 3.12, zlib: 1.0, zmq: 15.4.0\n"
     ]
    }
   ],
   "source": [
    "from utils import simulator_wrapper, simulator_ss_wrapper, load_ground_truth_params, summary_stats"
   ]
  },
  {
   "cell_type": "markdown",
   "metadata": {},
   "source": [
    "### Inspect a saved sample"
   ]
  },
  {
   "cell_type": "markdown",
   "metadata": {},
   "source": [
    "### Load the ground truth sample"
   ]
  },
  {
   "cell_type": "code",
   "execution_count": 7,
   "metadata": {
    "collapsed": true
   },
   "outputs": [],
   "source": [
    "gt_params = load_ground_truth_params()"
   ]
  },
  {
   "cell_type": "code",
   "execution_count": 8,
   "metadata": {
    "collapsed": false,
    "scrolled": true
   },
   "outputs": [
    {
     "name": "stderr",
     "output_type": "stream",
     "text": [
      "/home/michael/Documents/in_silico_framework/biophysics_fitting/hay_evaluation.py:42: UserWarning: Setting up hay evaluator. This loads several variables to the NEURON envioronment. Also, it creates a unconnected cell (which is very small ~ 1 compartment) which has the purpose to 'just be there' such that the functionality necessary to evaluate voltage traces is available. This has the side effect that in the case of the variable time step solver, the timesteps can be changed.\n",
      "  \"case of the variable time step solver, the timesteps can be changed.\"\n"
     ]
    },
    {
     "name": "stdout",
     "output_type": "stream",
     "text": [
      "\t0 \n",
      "\t1 \n",
      "\t1 \n",
      "\t1 \n",
      "\t1 \n",
      "\t1 \n",
      "\t1 \n",
      "\t1 \n",
      "\t0 \n",
      "\t0 \n",
      "full list is of length 5 \n",
      "\t0 \n",
      "\t0 \n",
      "full list is of length 5 \n",
      "\t0 \n",
      "\t0 \n",
      "\t0 \n",
      "\t0 \n",
      "record path is ga_result_89_CDK20050712_BAC_run1_seed_4567\n",
      "population file is random\n",
      "called load population\n",
      "ga_result_86_CDK20041214_BAC_run5_seed_4223/clean_population_file.txt\n",
      "breed matrix rows 1000 \n",
      "breed matrix columns 32 \n",
      "population loaded from file\n",
      "called load error\n",
      "error matrix loaded from file\n",
      "take_vec is \n",
      "stim num is5 \n",
      "4  files loaded successfuly\n",
      "\t1 \n",
      "stat_mean Vector[1092] \n",
      "stat_std Vector[1093] \n",
      "punish 250 \n",
      "use_control 0 \n",
      "rep_num 1 \n",
      "minspikenum 2 \n",
      "stim_del 295 \n",
      "stim_dur 45 \n",
      "apcvecList.o[0].size: 3 \n",
      "feature_num 6 \n",
      "Checking for minimum spike number...\n",
      "Checking for returning to rest...\n",
      "Checking for spikes before stimulus...\n",
      "Calculating feature AHP_depth_abs\n",
      "\tErr: 0.73103343 \n",
      "\tSTD: 4 \n",
      "\tnorm. diff: 0.18275836 \n",
      "Feature error: 0.18275836 \n",
      "Calculating feature AP_height\n",
      "Mean spike height: 3.3837656 \n",
      "\tErr: 3.3837656 \n",
      "\tSTD: 5 \n",
      "\tnorm. diff: 0.67675313 \n",
      "Feature error: 0.67675313 \n",
      "Calculating feature BAC_ISI\n",
      "\tErr: 1.7542176 \n",
      "\tSTD: 0.8517 \n",
      "\tnorm. diff: 2.0596661 \n",
      "Feature error: 2.0596661 \n",
      "Calculating feature BAC_caSpike_height\n",
      "Mean Ca spike height: 3.8842227 \n",
      "\tErr: 3.8842227 \n",
      "\tSTD: 2.54 \n",
      "\tnorm. diff: 1.5292216 \n",
      "Feature error: 1.5292216 \n",
      "Calculating feature BAC_caSpike_width\n",
      "\tErr: 0.79686589 \n",
      "\tSTD: 1.27 \n",
      "\tnorm. diff: 0.62745346 \n",
      "Feature error: 0.62745346 \n",
      "Calculating feature Spikecount\n",
      "\tErr: 0 \n",
      "\tSTD: 0.01 \n",
      "\tnorm. diff: 0 \n",
      "Feature error: 0 \n",
      "stat_mean Vector[1088] \n",
      "stat_std Vector[1089] \n",
      "punish 250 \n",
      "use_control 0 \n",
      "rep_num 0 \n",
      "minspikenum 1 \n",
      "stim_del 295 \n",
      "stim_dur 5 \n",
      "apcvecList.o[0].size: 1 \n",
      "feature_num 5 \n",
      "Checking for minimum spike number...\n",
      "Checking for returning to rest...\n",
      "Checking for spikes before stimulus...\n",
      "Calculating feature Spikecount\n",
      "\tErr: 0 \n",
      "\tSTD: 0.01 \n",
      "\tnorm. diff: 0 \n",
      "Feature error: 0 \n",
      "Calculating feature AP_height\n",
      "Mean spike height: 5.3569137 \n",
      "\tErr: 5.3569137 \n",
      "\tSTD: 5 \n",
      "\tnorm. diff: 1.0713827 \n",
      "Feature error: 1.0713827 \n",
      "Calculating feature AP_width\n",
      "\tErr: 0.92040365 \n",
      "\tSTD: 0.5 \n",
      "\tnorm. diff: 1.8408073 \n",
      "Feature error: 1.8408073 \n",
      "Calculating feature BPAPatt2\n",
      "\tErr: 5.0465028 \n",
      "\tSTD: 10 \n",
      "\tnorm. diff: 0.50465028 \n",
      "Feature error: 0.50465028 \n",
      "Calculating feature BPAPatt3\n",
      "\tErr: 0.1697508 \n",
      "\tSTD: 9.33 \n",
      "\tnorm. diff: 0.018194084 \n",
      "Feature error: 0.018194084 \n"
     ]
    }
   ],
   "source": [
    "output = simulator_wrapper(gt_params)\n",
    "output_ss = simulator_ss_wrapper(gt_params)"
   ]
  },
  {
   "cell_type": "code",
   "execution_count": 9,
   "metadata": {
    "collapsed": true
   },
   "outputs": [],
   "source": [
    "import numpy as np\n",
    "np_vals = []\n",
    "for key in output.keys():\n",
    "    np_vals.append(output[key])\n",
    "np_vals = np.asarray(np_vals)"
   ]
  },
  {
   "cell_type": "code",
   "execution_count": 10,
   "metadata": {
    "collapsed": false
   },
   "outputs": [],
   "source": [
    "#np.savez('/home/michael/Documents/lfi-experiments/bursting_biophysics/results/observation/x_o_hay.npz', x_o=np_vals, x_o_dict=output)"
   ]
  },
  {
   "cell_type": "code",
   "execution_count": 11,
   "metadata": {
    "collapsed": false,
    "scrolled": true
   },
   "outputs": [],
   "source": [
    "#import pickle\n",
    "#with open('/home/michael/Documents/lfi-experiments/bursting_biophysics/results/observation/x_o_hay.pickle', 'wb') as handle:\n",
    "#    pickle.dump(np_vals, handle)"
   ]
  },
  {
   "cell_type": "code",
   "execution_count": 21,
   "metadata": {
    "collapsed": false
   },
   "outputs": [
    {
     "data": {
      "image/png": "[encoded data removed]",
      "text/plain": [
       "<matplotlib.figure.Figure at 0x7f760e05de50>"
      ]
     },
     "metadata": {},
     "output_type": "display_data"
    }
   ],
   "source": [
    "plt.plot(output['bAP.hay_measure']['tVec'], output['bAP.hay_measure']['vList'][1])\n",
    "plt.show()"
   ]
  },
  {
   "cell_type": "code",
   "execution_count": 13,
   "metadata": {
    "collapsed": true
   },
   "outputs": [],
   "source": [
    "x_o = summary_stats(output, n_xcorr=0, n_mom=4)"
   ]
  },
  {
   "cell_type": "code",
   "execution_count": 14,
   "metadata": {
    "collapsed": false
   },
   "outputs": [],
   "source": [
    "#import pickle\n",
    "#with open('../results/observation/x_o_new_ss.pickle', 'wb') as handle:\n",
    "#    pickle.dump(x_o, handle)\n",
    "#import numpy as np\n",
    "#np.savez('../results/observation/x_o_new_ss.npz', x_o=x_o)"
   ]
  },
  {
   "cell_type": "code",
   "execution_count": 15,
   "metadata": {
    "collapsed": false
   },
   "outputs": [
    {
     "data": {
      "text/plain": [
       "array([  3.00000000e+00,  -7.39715077e+01,   3.15366623e-03,\n",
       "        -7.03786414e+01,   2.59094928e+02,   2.74301534e+00,\n",
       "         1.35979822e+01,   1.00000000e+00,  -7.03730405e+01,\n",
       "         2.52811546e-03,  -5.46356273e+01,   9.48006953e+02,\n",
       "         7.50345438e-01,   1.92759465e+00,   1.00000000e+00,\n",
       "        -7.39715077e+01,   3.15366623e-03,  -7.35665842e+01,\n",
       "         2.94315531e+01,   1.06305866e+01,   1.55596329e+02,\n",
       "         0.00000000e+00,  -7.03730405e+01,   2.52811546e-03,\n",
       "        -6.97927307e+01,   2.86956580e+01,   4.82280892e+00,\n",
       "         2.82436706e+01,   1.00000000e+00,  -6.89810548e+01,\n",
       "         2.48961918e-03,  -6.84974579e+01,   2.71127093e+01,\n",
       "         4.67028374e+00,   2.60551954e+01])"
      ]
     },
     "execution_count": 15,
     "metadata": {},
     "output_type": "execute_result"
    }
   ],
   "source": [
    "x_o"
   ]
  },
  {
   "cell_type": "code",
   "execution_count": 16,
   "metadata": {
    "collapsed": false
   },
   "outputs": [
    {
     "data": {
      "text/plain": [
       "array([ 3.,  1.,  1.,  0.,  1.])"
      ]
     },
     "execution_count": 16,
     "metadata": {},
     "output_type": "execute_result"
    }
   ],
   "source": [
    "x_o[::7]"
   ]
  },
  {
   "cell_type": "markdown",
   "metadata": {},
   "source": [
    "### Simulate posterior samples"
   ]
  },
  {
   "cell_type": "code",
   "execution_count": 17,
   "metadata": {
    "collapsed": false,
    "scrolled": true
   },
   "outputs": [
    {
     "name": "stdout",
     "output_type": "stream",
     "text": [
      "('x', array([  2.00000000e+00,  -7.40343963e+01,   3.33200451e-03,\n",
      "        -7.30372387e+01,   1.91724335e+02,   3.52418783e+00,\n",
      "         2.04231242e+01,   2.00000000e+00,  -7.02785104e+01,\n",
      "         2.00081044e-03,  -6.45590490e+01,   5.83404487e+02,\n",
      "         1.40083688e+00,   3.34372969e+00,   2.00000000e+00,\n",
      "        -7.40343963e+01,   3.33200451e-03,  -7.49803913e+01,\n",
      "         7.04018362e+01,   5.79252479e+00,   5.27303021e+01,\n",
      "         0.00000000e+00,  -7.02785104e+01,   2.00081044e-03,\n",
      "        -7.07018381e+01,   1.52499536e+02,   2.58281085e+00,\n",
      "         8.64262458e+00,   3.00000000e+00,  -6.88441311e+01,\n",
      "         1.61098545e-03,  -6.96455334e+01,   2.04113307e+02,\n",
      "         2.71617977e+00,   9.50023820e+00]))\n"
     ]
    },
    {
     "data": {
      "image/png": "[encoded data removed]",
      "text/plain": [
       "<matplotlib.figure.Figure at 0x7f760fe5a590>"
      ]
     },
     "metadata": {},
     "output_type": "display_data"
    }
   ],
   "source": [
    "fig, ax = plt.subplots(1,1, figsize=(7, 5))\n",
    "\n",
    "for i in range(1):\n",
    "    output = simulator_wrapper(saved_samples[i])\n",
    "    x = summary_stats(output, n_xcorr=0, n_mom=4)\n",
    "    print('x', x)\n",
    "    plt.plot(output['bAP.hay_measure']['tVec'], output['bAP.hay_measure']['vList'][0], linewidth=3.0)\n",
    "    plt.plot(output['BAC.hay_measure']['tVec'], output['BAC.hay_measure']['vList'][0], linestyle='--', linewidth=3.0)\n",
    "plt.show()"
   ]
  },
  {
   "cell_type": "code",
   "execution_count": 22,
   "metadata": {
    "collapsed": false
   },
   "outputs": [
    {
     "name": "stdout",
     "output_type": "stream",
     "text": [
      "('x', array([ 1.,  0.,  1.,  0.,  0.]))\n",
      "('x', array([ 3.,  2.,  1.,  0.,  0.]))\n",
      "('x', array([ 3.,  2.,  3.,  1.,  3.]))\n",
      "('x', array([ 2.,  1.,  2.,  0.,  3.]))\n",
      "('x', array([ 3.,  2.,  1.,  0.,  1.]))\n"
     ]
    },
    {
     "data": {
      "image/png": "[encoded data removed]",
      "text/plain": [
       "<matplotlib.figure.Figure at 0x7f760c4f3d50>"
      ]
     },
     "metadata": {},
     "output_type": "display_data"
    }
   ],
   "source": [
    "counter = 0\n",
    "for _ in range(1):\n",
    "\n",
    "    fig, ax = plt.subplots(1,1, figsize=(15, 5))\n",
    "\n",
    "    for i in range(5):\n",
    "        counter += 1\n",
    "        output = simulator_wrapper(saved_samples[counter])\n",
    "        x = summary_stats(output, n_xcorr=0, n_mom=4)\n",
    "        print('x', x[::7])\n",
    "        #x = summary_stats(output, n_xcorr=0, n_mom=4)\n",
    "        #plt.plot(output['bAP.hay_measure']['tVec']+(i*200), output['bAP.hay_measure']['vList'][0], linewidth=3.0)\n",
    "        plt.plot(output['bAP.hay_measure']['tVec']+(i*200), output['bAP.hay_measure']['vList'][1])\n",
    "    #plt.savefig('../results/figures/200623_round1_SNL_posteriorPredictives_VI_BAC.png', dpi=200, bbox_inches='tight')\n",
    "    plt.show()"
   ]
  },
  {
   "cell_type": "markdown",
   "metadata": {},
   "source": [
    "### Prior predictives"
   ]
  },
  {
   "cell_type": "code",
   "execution_count": 44,
   "metadata": {
    "collapsed": true
   },
   "outputs": [],
   "source": [
    "with open('../results/samples/200617_prior_theta.pickle', 'rb') as handle:\n",
    "    theta_list=pickle.load(handle)"
   ]
  },
  {
   "cell_type": "code",
   "execution_count": 46,
   "metadata": {
    "collapsed": false
   },
   "outputs": [
    {
     "data": {
      "image/png": "[encoded data removed]",
      "text/plain": [
       "<matplotlib.figure.Figure at 0x7f484ef99ad0>"
      ]
     },
     "metadata": {},
     "output_type": "display_data"
    }
   ],
   "source": [
    "fig, ax = plt.subplots(1,1, figsize=(15, 3))\n",
    "\n",
    "for i in range(10):\n",
    "    output = simulator_wrapper(theta_list[i])\n",
    "    x = summary_stats(output, n_xcorr=0, n_mom=4)\n",
    "    \n",
    "    plt.plot(output['BAC.hay_measure']['tVec']+(i*200), output['BAC.hay_measure']['vList'][0])\n",
    "plt.savefig('../results/figures/200618_round1_SNPE_priorPredictives1.png', dpi=200, bbox_inches='tight')\n",
    "plt.show()"
   ]
  },
  {
   "cell_type": "code",
   "execution_count": null,
   "metadata": {
    "collapsed": true
   },
   "outputs": [],
   "source": []
  }
 ],
 "metadata": {
  "anaconda-cloud": {},
  "kernelspec": {
   "display_name": "Python [default]",
   "language": "python",
   "name": "python2"
  },
  "language_info": {
   "codemirror_mode": {
    "name": "ipython",
    "version": 2
   },
   "file_extension": ".py",
   "mimetype": "text/x-python",
   "name": "python",
   "nbconvert_exporter": "python",
   "pygments_lexer": "ipython2",
   "version": "2.7.12"
  }
 },
 "nbformat": 4,
 "nbformat_minor": 2
}
