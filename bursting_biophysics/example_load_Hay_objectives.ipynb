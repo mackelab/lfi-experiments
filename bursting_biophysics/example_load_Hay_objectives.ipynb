{
 "cells": [
  {
   "cell_type": "code",
   "execution_count": 1,
   "metadata": {},
   "outputs": [],
   "source": [
    "import numpy as np\n",
    "import pickle\n",
    "\n",
    "from os import listdir"
   ]
  },
  {
   "cell_type": "markdown",
   "metadata": {},
   "source": [
    "## load each file and merge respective summary statistics (for memory efficiency)"
   ]
  },
  {
   "cell_type": "code",
   "execution_count": 2,
   "metadata": {
    "scrolled": true
   },
   "outputs": [],
   "source": [
    "# load files and merge summary statistics\n",
    "dir_samples = './hay_objectives_init_noise/'\n",
    "file_ls = [f for f in listdir(dir_samples) if f.find('.pickle')]\n",
    "\n",
    "file_exclude_ls = []\n",
    "params_ls = []\n",
    "stats_ls = []\n",
    "for f in file_ls:\n",
    "    with open(dir_samples+f,'rb') as data1:\n",
    "#         data = pickle.load(data1,encoding='latin1')\n",
    "        data = pickle.load(data1)\n",
    "        try:\n",
    "            params = np.asarray([data[i][0][:-2] for i in range(len(data))])\n",
    "            params_ls.append(params)\n",
    "            \n",
    "            if f==file_ls[0]:\n",
    "                hay_objectives_labels = data[0][2].keys()\n",
    "                n_summary_stats = len(hay_objectives_labels)\n",
    "                \n",
    "            stats = np.zeros((len(data),n_summary_stats))\n",
    "            j = 0\n",
    "            for i in hay_objectives_labels:\n",
    "                for k in range(len(data)):\n",
    "                    stats[k,j] = data[k][2][i]\n",
    "                j = j+1           \n",
    "            stats_ls.append(stats)\n",
    "        except:\n",
    "            file_exclude_ls.append(f)\n",
    "            continue\n",
    "\n",
    "\n",
    "# reshape array of parameters\n",
    "n_params = np.shape(params)[1]\n",
    "params_mat = np.reshape(params_ls,(-1,n_params))\n",
    "\n",
    "# reshape array of summary statistics\n",
    "stats_mat = np.reshape(stats_ls,(-1,n_summary_stats))\n",
    "\n",
    "# number of simulations\n",
    "n_sims = np.shape(params_mat)[0]"
   ]
  },
  {
   "cell_type": "code",
   "execution_count": 6,
   "metadata": {},
   "outputs": [
    {
     "data": {
      "text/plain": [
       "(2000000, 35)"
      ]
     },
     "execution_count": 6,
     "metadata": {},
     "output_type": "execute_result"
    }
   ],
   "source": [
    "np.shape(params_mat)"
   ]
  },
  {
   "cell_type": "code",
   "execution_count": 8,
   "metadata": {},
   "outputs": [
    {
     "data": {
      "text/plain": [
       "(2000000, 11)"
      ]
     },
     "execution_count": 8,
     "metadata": {},
     "output_type": "execute_result"
    }
   ],
   "source": [
    "np.shape(stats_mat)"
   ]
  },
  {
   "cell_type": "code",
   "execution_count": null,
   "metadata": {},
   "outputs": [],
   "source": []
  }
 ],
 "metadata": {
  "kernelspec": {
   "display_name": "Python 3",
   "language": "python",
   "name": "python3"
  },
  "language_info": {
   "codemirror_mode": {
    "name": "ipython",
    "version": 3
   },
   "file_extension": ".py",
   "mimetype": "text/x-python",
   "name": "python",
   "nbconvert_exporter": "python",
   "pygments_lexer": "ipython3",
   "version": "3.7.7"
  }
 },
 "nbformat": 4,
 "nbformat_minor": 4
}
