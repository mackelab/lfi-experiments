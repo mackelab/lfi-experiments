{
 "cells": [
  {
   "cell_type": "markdown",
   "metadata": {},
   "source": [
    "# Fit SNPE to all the successful simulations on **any** morphology that Arco's genetic algorithm has produced\n",
    "### Code runs on `split-simulate-and-train` branch of `sbi`"
   ]
  },
  {
   "cell_type": "code",
   "execution_count": 3,
   "metadata": {},
   "outputs": [],
   "source": [
    "%load_ext autoreload\n",
    "%autoreload 2"
   ]
  },
  {
   "cell_type": "code",
   "execution_count": 4,
   "metadata": {},
   "outputs": [],
   "source": [
    "import sys\n",
    "sys.path.append('../')\n",
    "\n",
    "import pandas as pd\n",
    "import torch\n",
    "import numpy as np\n",
    "\n",
    "from parameter_setup import load_ground_truth_params, load_prior_max, load_prior_min\n",
    "from sbi.inference import SNPE, prepare_for_sbi\n",
    "from sbi.utils import BoxUniform, pairplot, posterior_nn"
   ]
  },
  {
   "cell_type": "code",
   "execution_count": 5,
   "metadata": {},
   "outputs": [],
   "source": [
    "def drop_columns(data_pd):\n",
    "    data_no_ss = data_pd.drop(\n",
    "        columns=[\n",
    "            \"BAC_APheight\",\n",
    "            \"BAC_ISI\",\n",
    "            \"BAC_ahpdepth\",\n",
    "            \"BAC_caSpike_height\",\n",
    "            \"BAC_caSpike_width\",\n",
    "            \"BAC_spikecount\",\n",
    "            \"bAP_APheight\",\n",
    "            \"bAP_APwidth\",\n",
    "            \"bAP_att2\",\n",
    "            \"bAP_att3\",\n",
    "            \"bAP_spikecount\",\n",
    "        ]\n",
    "    )\n",
    "    data_only_params = data_no_ss.drop(\n",
    "        columns=[\n",
    "            \"model_id\",\n",
    "            \"type_\",\n",
    "            \"morphology\",\n",
    "            \"lv\",\n",
    "            \"seed\",\n",
    "            \"max_\",\n",
    "            \"gen\",\n",
    "            \"hot_zone.outsidescale_sections\",\n",
    "            \"morphology.filename\",\n",
    "            \"BAC.stim.dist\",\n",
    "            \"hot_zone.max_\",\n",
    "            \"bAP.hay_measure.recSite2\",\n",
    "            \"bAP.hay_measure.recSite1\",\n",
    "            \"hot_zone.min_\",\n",
    "            \"BAC.hay_measure.recSite\",\n",
    "            \"sort_column\",\n",
    "        ]\n",
    "    )\n",
    "    return data_only_params"
   ]
  },
  {
   "cell_type": "code",
   "execution_count": 6,
   "metadata": {},
   "outputs": [],
   "source": [
    "def drop_some_morphologies(df):\n",
    "\n",
    "    condition1 = df[\"morphology\"] == \"84\"\n",
    "    df = df[np.invert(condition1)]\n",
    "    \n",
    "    condition2 = df[\"morphology\"] == \"85\"\n",
    "    df = df[np.invert(condition2)]\n",
    "    \n",
    "    condition3 = df[\"morphology\"] == \"91\"\n",
    "    df = df[np.invert(condition3)]\n",
    "    \n",
    "    return df"
   ]
  },
  {
   "cell_type": "code",
   "execution_count": 23,
   "metadata": {},
   "outputs": [],
   "source": [
    "def return_condition_to_drop(df):\n",
    "    condition1 = df[\"morphology\"] == \"84\"\n",
    "    condition2 = df[\"morphology\"] == \"85\"\n",
    "    condition3 = df[\"morphology\"] == \"91\"\n",
    "    \n",
    "    return np.logical_and(np.logical_and(np.invert(condition1), np.invert(condition2)), np.invert(condition3)).to_numpy()"
   ]
  },
  {
   "cell_type": "code",
   "execution_count": 8,
   "metadata": {},
   "outputs": [],
   "source": [
    "# data_trunc.to_pickle(\"../../../arco_sims/all_simulations_from_GA/toy_set.pickle\")"
   ]
  },
  {
   "cell_type": "code",
   "execution_count": 9,
   "metadata": {},
   "outputs": [],
   "source": [
    "data1_toy = pd.read_pickle(\n",
    "    \"../../../arco_sims/all_simulations_from_GA/toy_set.pickle\"\n",
    ")"
   ]
  },
  {
   "cell_type": "code",
   "execution_count": 10,
   "metadata": {},
   "outputs": [],
   "source": [
    "data1 = pd.read_pickle(\n",
    "    \"../../../arco_sims/all_simulations_from_GA/selected_BAC_1.pickle\"\n",
    ")"
   ]
  },
  {
   "cell_type": "code",
   "execution_count": 11,
   "metadata": {},
   "outputs": [],
   "source": [
    "data2 = pd.read_pickle(\n",
    "    \"../../../arco_sims/all_simulations_from_GA/selected_BAC_2.pickle\"\n",
    ")"
   ]
  },
  {
   "cell_type": "code",
   "execution_count": 12,
   "metadata": {},
   "outputs": [],
   "source": [
    "data3 = pd.read_pickle(\n",
    "    \"../../../arco_sims/all_simulations_from_GA/selected_BAC_3.pickle\"\n",
    ")"
   ]
  },
  {
   "cell_type": "code",
   "execution_count": 13,
   "metadata": {},
   "outputs": [],
   "source": [
    "full_data = pd.concat([data1, data2, data3])"
   ]
  },
  {
   "cell_type": "code",
   "execution_count": 14,
   "metadata": {},
   "outputs": [],
   "source": [
    "morphs = full_data[\"morphology\"].drop_duplicates()"
   ]
  },
  {
   "cell_type": "code",
   "execution_count": 15,
   "metadata": {
    "jupyter": {
     "source_hidden": true
    }
   },
   "outputs": [],
   "source": [
    "morph_dict = {'bifur_dist': {'84': 960.89898892488236,\n",
    "  '85': 846.72306818393702,\n",
    "  '86': 974.69441828893309,\n",
    "  '87': 525.74725964718436,\n",
    "  '88': 598.66444257173521,\n",
    "  '89': 484.82033719211557,\n",
    "  '90': 1014.0388994907497,\n",
    "  '91': 864.65438930558867,\n",
    " '92': 966.02028766897013,\n",
    "  '92_soma25': 966.02028766897013,\n",
    "  '93': 902.90861286613904,\n",
    "  'WR64_Cell8_L5TT_constant_mean': 853.09961470664064,\n",
    "  'WR64_Cell8_L5TT_constant_mean_max_dendscale_2.0': 853.09961470664064,\n",
    "  'WR64_Cell8_L5TT_constant_mean_max_dendscale_2.5': 853.09961470664064,\n",
    "  'WR64_Cell8_L5TT_medfilt': 894.9039938545418,\n",
    "  'WR69_Cell2_L5TT': 813.24485491265659,\n",
    "  'WR69_Cell2_L5TT_mean': 816.8211721003031,\n",
    "  'WR69_Cell2_L5TT_medfilt': 813.24485491265659,\n",
    "  'WR71_Cell6_L5TT_constant_mean': 322.0802933594905,\n",
    "  'WR71_Cell6_L5TT_constant_mean_exclude_obliques_from_hot_zone': 322.0802933594905},\n",
    "'conductance_load_axon': {'84': 198.43087820154383,\n",
    "  '85': 119.40812716322029,\n",
    "  '86': 121.14476917803165,\n",
    "  '87': 286.94003132573692,\n",
    "  '88': 122.28441447541739,\n",
    "  '89': 186.80333055353489,\n",
    "  '90': 103.96884181635856,\n",
    "  '91': 161.05733021206223,\n",
    "  '92': 267.3341502629616,\n",
    "  '92_soma25': 267.3341502629616,\n",
    "  '93': 265.38012877682729,\n",
    "  'WR64_Cell8_L5TT_constant_mean': 98.338175886474815,\n",
    "  'WR64_Cell8_L5TT_constant_mean_max_dendscale_2.0': 98.338175886474815,\n",
    "  'WR64_Cell8_L5TT_constant_mean_max_dendscale_2.5': 98.338175886474815,\n",
    "  'WR64_Cell8_L5TT_medfilt': 86.761431870142388,\n",
    "  'WR69_Cell2_L5TT': 208.96376858418043,\n",
    "  'WR69_Cell2_L5TT_mean': 220.97370425032707,\n",
    "  'WR69_Cell2_L5TT_medfilt': 209.9318363678004,\n",
    "  'WR71_Cell6_L5TT_constant_mean': 195.31885898759177,\n",
    "  'WR71_Cell6_L5TT_constant_mean_exclude_obliques_from_hot_zone': 195.31885898759177},\n",
    "'conductance_load_soma': {'84': 86.102705488734472,\n",
    "  '85': 38.301990510094534,\n",
    "  '86': 36.148975032437406,\n",
    "  '87': 86.352292338982679,\n",
    "  '88': 62.867286424973301,\n",
    "  '89': 52.921979906220258,\n",
    "  '90': 76.23477864476682,\n",
    "  '91': 59.815771986947077,\n",
    "  '92': 61.795101638029507,\n",
    "  '92_soma25': 61.795101638029507,\n",
    "  '93': 69.713392307005961,\n",
    "  'WR64_Cell8_L5TT_constant_mean': 25.541134994772882,\n",
    "  'WR64_Cell8_L5TT_constant_mean_max_dendscale_2.0': 25.541134994772882,\n",
    "  'WR64_Cell8_L5TT_constant_mean_max_dendscale_2.5': 25.541134994772882,\n",
    "  'WR64_Cell8_L5TT_medfilt': 23.075817229117956,\n",
    "  'WR69_Cell2_L5TT': 98.122140315343771,\n",
    "  'WR69_Cell2_L5TT_mean': 41.284338275086554,\n",
    "  'WR69_Cell2_L5TT_medfilt': 98.579157025082566,\n",
    "  'WR71_Cell6_L5TT_constant_mean': 27.199895968310145,\n",
    "  'WR71_Cell6_L5TT_constant_mean_exclude_obliques_from_hot_zone': 27.199895968310145},\n",
    "'conductance_load_tuft': {'84': 0.71778364778186565,\n",
    "  '85': 1.1591828765604884,\n",
    "  '86': 2.801814427678158,\n",
    "  '87': 0.4331743288869937,\n",
    "  '88': 0.89948241742635238,\n",
    "  '89': 0.70850363671023364,\n",
    "  '90': 2.9236461045594284,\n",
    "  '91': 0.3683941222392732,\n",
    "  '92': 0.82455030050106437,\n",
    "  '92_soma25': 0.82455030050106437,\n",
    "  '93': 0.91418301357979326,\n",
    "  'WR64_Cell8_L5TT_constant_mean': 0.64436681672197371,\n",
    "  'WR64_Cell8_L5TT_constant_mean_max_dendscale_2.0': 0.64436681672197371,\n",
    "  'WR64_Cell8_L5TT_constant_mean_max_dendscale_2.5': 0.64436681672197371,\n",
    "  'WR64_Cell8_L5TT_medfilt': 0.74852809427464995,\n",
    "  'WR69_Cell2_L5TT': 0.92045594223290483,\n",
    "  'WR69_Cell2_L5TT_mean': 0.92515075012662806,\n",
    "  'WR69_Cell2_L5TT_medfilt': 0.86835673922736012,\n",
    "  'WR71_Cell6_L5TT_constant_mean': 0.63525863240125724,\n",
    "  'WR71_Cell6_L5TT_constant_mean_exclude_obliques_from_hot_zone': 0.63525863240125724},\n",
    "'length_apical': {'84': 8730.3416850306039,\n",
    "  '85': 5554.5702080210449,\n",
    "  '86': 8842.2372710337913,\n",
    "  '87': 9607.4287894790086,\n",
    "  '88': 8829.276635837974,\n",
    "  '89': 7242.7260255588044,\n",
    "  '90': 6662.4699409038139,\n",
    "  '91': 4528.6006867385213,\n",
    "  '92': 9578.3517495762499,\n",
    "  '92_soma25': 9578.3517495762499,\n",
    "  '93': 7921.5764982550991,\n",
    "  'WR64_Cell8_L5TT_constant_mean': 5413.463445582327,\n",
    "  'WR64_Cell8_L5TT_constant_mean_max_dendscale_2.0': 5413.463445582327,\n",
    "  'WR64_Cell8_L5TT_constant_mean_max_dendscale_2.5': 5413.463445582327,\n",
    "  'WR64_Cell8_L5TT_medfilt': 5290.9832657597817,\n",
    "  'WR69_Cell2_L5TT': 9263.6599168388966,\n",
    "  'WR69_Cell2_L5TT_mean': 9263.6599168388966,\n",
    "  'WR69_Cell2_L5TT_medfilt': 9263.6599168388966,\n",
    "  'WR71_Cell6_L5TT_constant_mean': 7785.7354204037529,\n",
    "  'WR71_Cell6_L5TT_constant_mean_exclude_obliques_from_hot_zone': 7785.7354204037529},\n",
    "'length_basal': {'84': 5213.5501871697788,\n",
    "  '85': 3755.7108581628745,\n",
    "  '86': 6425.9871596489666,\n",
    "  '87': 7800.8867368863157,\n",
    "  '88': 4248.7954774682703,\n",
    "  '89': 5695.8699854987508,\n",
    "  '90': 4903.8970190913469,\n",
    "  '91': 3100.678977321495,\n",
    "  '92': 7254.0243570991606,\n",
    "  '92_soma25': 7254.0243570991606,\n",
    "  '93': 6948.7314703406419,\n",
    "  'WR64_Cell8_L5TT_constant_mean': 5015.3319238430267,\n",
    "  'WR64_Cell8_L5TT_constant_mean_max_dendscale_2.0': 5015.3319238430267,\n",
    "  'WR64_Cell8_L5TT_constant_mean_max_dendscale_2.5': 5015.3319238430267,\n",
    "  'WR64_Cell8_L5TT_medfilt': 4779.5982454111472,\n",
    "  'WR69_Cell2_L5TT': 5244.3723553339414,\n",
    "  'WR69_Cell2_L5TT_mean': 5244.3723553339414,\n",
    "  'WR69_Cell2_L5TT_medfilt': 5244.3723553339414,\n",
    "  'WR71_Cell6_L5TT_constant_mean': 6837.0748368982377,\n",
    "  'WR71_Cell6_L5TT_constant_mean_exclude_obliques_from_hot_zone': 6837.0748368982377},\n",
    "'length_soma': {'84': 10.605161226552406,\n",
    "  '85': 20.461987115529251,\n",
    "  '86': 22.161881977987637,\n",
    "  '87': 16.670657191436693,\n",
    "  '88': 11.782965017859691,\n",
    "  '89': 17.099046776791038,\n",
    "  '90': 6.9099989584936363,\n",
    "  '91': 12.130290481671842,\n",
    "  '92': 14.8099486186339,\n",
    "  '92_soma25': 14.8099486186339,\n",
    "  '93': 21.378110896535226,\n",
    "  'WR64_Cell8_L5TT_constant_mean': 22.907422040862052,\n",
    "  'WR64_Cell8_L5TT_constant_mean_max_dendscale_2.0': 22.907422040862052,\n",
    "  'WR64_Cell8_L5TT_constant_mean_max_dendscale_2.5': 22.907422040862052,\n",
    "  'WR64_Cell8_L5TT_medfilt': 22.401865448522926,\n",
    "  'WR69_Cell2_L5TT': 14.032147304728934,\n",
    "  'WR69_Cell2_L5TT_mean': 31.039731070753309,\n",
    "  'WR69_Cell2_L5TT_medfilt': 14.032147304728934,\n",
    "  'WR71_Cell6_L5TT_constant_mean': 45.458386564079746,\n",
    "  'WR71_Cell6_L5TT_constant_mean_exclude_obliques_from_hot_zone': 45.458386564079746},\n",
    "'mean_trunk_diameter': {'84': 3.0036621372577081,\n",
    "  '85': 1.4146327011788999,\n",
    "  '86': 1.1597111227834014,\n",
    "  '87': 4.1411282118330179,\n",
    "  '88': 1.6488379469670693,\n",
    "  '89': 2.4160655847419021,\n",
    "  '90': 1.1704306100809529,\n",
    "  '91': 2.9298624229421195,\n",
    "  '92': 2.9936023129857423,\n",
    "  '92_soma25': 2.9936023129857423,\n",
    "  '93': 3.2369513554801501,\n",
    "  'WR64_Cell8_L5TT_constant_mean': 1.6318931995452302,\n",
    "  'WR64_Cell8_L5TT_constant_mean_max_dendscale_2.0': 1.6318931995452302,\n",
    "  'WR64_Cell8_L5TT_constant_mean_max_dendscale_2.5': 1.6318931995452302,\n",
    "  'WR64_Cell8_L5TT_medfilt': 1.5285454381197554,\n",
    "  'WR69_Cell2_L5TT': 2.6807773235184791,\n",
    "  'WR69_Cell2_L5TT_mean': 2.7089173483535074,\n",
    "  'WR69_Cell2_L5TT_medfilt': 2.6807773235184791,\n",
    "  'WR71_Cell6_L5TT_constant_mean': 2.4977956709368816,\n",
    "  'WR71_Cell6_L5TT_constant_mean_exclude_obliques_from_hot_zone': 2.4977956709368816}}"
   ]
  },
  {
   "cell_type": "code",
   "execution_count": 16,
   "metadata": {},
   "outputs": [
    {
     "name": "stdout",
     "output_type": "stream",
     "text": [
      "2                          WR71_Cell6_L5TT_constant_mean\n",
      "32     WR71_Cell6_L5TT_constant_mean_exclude_obliques...\n",
      "113                                                   84\n",
      "245                                                   85\n",
      "69                                                    86\n",
      "0                                                     89\n",
      "775                                                   91\n",
      "106                                                   87\n",
      "71                                                    88\n",
      "549                                                   90\n",
      "745                                                   93\n",
      "9                          WR64_Cell8_L5TT_constant_mean\n",
      "455      WR64_Cell8_L5TT_constant_mean_max_dendscale_2.0\n",
      "690      WR64_Cell8_L5TT_constant_mean_max_dendscale_2.5\n",
      "538                              WR64_Cell8_L5TT_medfilt\n",
      "273                                 WR69_Cell2_L5TT_mean\n",
      "5                                WR69_Cell2_L5TT_medfilt\n",
      "Name: morphology, dtype: object\n",
      "17\n"
     ]
    }
   ],
   "source": [
    "print(morphs)\n",
    "print(len(morphs))"
   ]
  },
  {
   "cell_type": "code",
   "execution_count": 107,
   "metadata": {},
   "outputs": [],
   "source": [
    "full_data_trunc = full_data[::20]"
   ]
  },
  {
   "cell_type": "code",
   "execution_count": 108,
   "metadata": {},
   "outputs": [
    {
     "data": {
      "text/plain": [
       "450000"
      ]
     },
     "execution_count": 108,
     "metadata": {},
     "output_type": "execute_result"
    }
   ],
   "source": [
    "len(full_data_trunc)"
   ]
  },
  {
   "cell_type": "code",
   "execution_count": 109,
   "metadata": {},
   "outputs": [],
   "source": [
    "features = torch.zeros(len(full_data_trunc), 8)\n",
    "\n",
    "for feature_ind, feature_name in enumerate(list(morph_dict.keys())):\n",
    "    for m in morphs:\n",
    "        is_this_morph = (full_data_trunc[\"morphology\"] == m)\n",
    "        features[is_this_morph.to_numpy(), feature_ind] = morph_dict[feature_name][m]"
   ]
  },
  {
   "cell_type": "code",
   "execution_count": 110,
   "metadata": {},
   "outputs": [
    {
     "data": {
      "text/plain": [
       "torch.Size([450000, 8])"
      ]
     },
     "execution_count": 110,
     "metadata": {},
     "output_type": "execute_result"
    }
   ],
   "source": [
    "features.shape"
   ]
  },
  {
   "cell_type": "code",
   "execution_count": 111,
   "metadata": {},
   "outputs": [],
   "source": [
    "newdf = drop_some_morphologies(full_data_trunc)\n",
    "condition_to_drop = return_condition_to_drop(full_data_trunc)"
   ]
  },
  {
   "cell_type": "code",
   "execution_count": 112,
   "metadata": {},
   "outputs": [
    {
     "data": {
      "text/plain": [
       "array([ True,  True,  True, ...,  True,  True,  True])"
      ]
     },
     "execution_count": 112,
     "metadata": {},
     "output_type": "execute_result"
    }
   ],
   "source": [
    "condition_to_drop"
   ]
  },
  {
   "cell_type": "code",
   "execution_count": 113,
   "metadata": {},
   "outputs": [],
   "source": [
    "features = features[condition_to_drop]"
   ]
  },
  {
   "cell_type": "code",
   "execution_count": 114,
   "metadata": {},
   "outputs": [],
   "source": [
    "dataframe_with_some_morphs = drop_columns(newdf)"
   ]
  },
  {
   "cell_type": "markdown",
   "metadata": {},
   "source": [
    "### Shuffle data"
   ]
  },
  {
   "cell_type": "code",
   "execution_count": 115,
   "metadata": {},
   "outputs": [],
   "source": [
    "theta = torch.as_tensor(dataframe_with_some_morphs.to_numpy(), dtype=torch.float32)\n",
    "x = features"
   ]
  },
  {
   "cell_type": "code",
   "execution_count": 116,
   "metadata": {},
   "outputs": [
    {
     "data": {
      "text/plain": [
       "torch.Size([401347, 35])"
      ]
     },
     "execution_count": 116,
     "metadata": {},
     "output_type": "execute_result"
    }
   ],
   "source": [
    "theta.shape"
   ]
  },
  {
   "cell_type": "code",
   "execution_count": 117,
   "metadata": {},
   "outputs": [
    {
     "data": {
      "text/plain": [
       "torch.Size([401347, 8])"
      ]
     },
     "execution_count": 117,
     "metadata": {},
     "output_type": "execute_result"
    }
   ],
   "source": [
    "x.shape"
   ]
  },
  {
   "cell_type": "markdown",
   "metadata": {},
   "source": [
    "from pyknos.nflows import distributions as distributions_\n",
    "from pyknos.nflows import flows, transforms\n",
    "from pyknos.nflows.nn import nets\n",
    "from torch import Tensor, nn, relu, tanh\n",
    "\n",
    "from sbi.utils.sbiutils import standardizing_net, standardizing_transform\n",
    "from sbi.utils.torchutils import create_alternating_binary_mask\n",
    "### Define hyperparameters for inference"
   ]
  },
  {
   "cell_type": "code",
   "execution_count": 122,
   "metadata": {},
   "outputs": [],
   "source": [
    "num_datapoints = 350000\n",
    "num_hiddens = 100\n",
    "num_transforms = 5\n",
    "training_batch_size = 200\n",
    "max_num_epochs = 300\n",
    "stop_after_epochs = 10\n",
    "num_bins = 20"
   ]
  },
  {
   "cell_type": "markdown",
   "metadata": {},
   "source": [
    "### Define ingredients for SNPE"
   ]
  },
  {
   "cell_type": "code",
   "execution_count": 123,
   "metadata": {},
   "outputs": [],
   "source": [
    "prior = BoxUniform(torch.as_tensor(load_prior_min()), torch.as_tensor(load_prior_max()))"
   ]
  },
  {
   "cell_type": "code",
   "execution_count": 124,
   "metadata": {},
   "outputs": [
    {
     "name": "stdout",
     "output_type": "stream",
     "text": [
      "Number of training points:  350000\n"
     ]
    }
   ],
   "source": [
    "theta_train = theta[:num_datapoints]\n",
    "x_train = x[:num_datapoints]\n",
    "print(\"Number of training points: \", theta_train.shape[0])"
   ]
  },
  {
   "cell_type": "markdown",
   "metadata": {},
   "source": [
    "### Plot gt samples"
   ]
  },
  {
   "cell_type": "code",
   "execution_count": 125,
   "metadata": {},
   "outputs": [],
   "source": [
    "# limits = np.asarray([load_prior_min(), load_prior_max()])\n",
    "# _ = pairplot(theta_train[:10000], subset=[0,1,2,3,4,5], limits=limits.T, ticks=limits.T, upper='kde', diag='kde')"
   ]
  },
  {
   "cell_type": "markdown",
   "metadata": {},
   "source": [
    "### Set up SNPE"
   ]
  },
  {
   "cell_type": "code",
   "execution_count": 130,
   "metadata": {},
   "outputs": [],
   "source": [
    "net_builder = posterior_nn(\n",
    "    \"nsf\",\n",
    "    z_score_theta=True,\n",
    "    z_score_x=True,\n",
    "    hidden_features=num_hiddens,\n",
    "    num_transforms=num_transforms,\n",
    "    #num_bins_nsf=num_bins\n",
    ")"
   ]
  },
  {
   "cell_type": "code",
   "execution_count": 131,
   "metadata": {},
   "outputs": [],
   "source": [
    "inference = SNPE(prior, density_estimator=net_builder)"
   ]
  },
  {
   "cell_type": "code",
   "execution_count": 132,
   "metadata": {},
   "outputs": [],
   "source": [
    "inference = inference.append_simulations(theta_train, x_train, proposal=None)"
   ]
  },
  {
   "cell_type": "code",
   "execution_count": 133,
   "metadata": {},
   "outputs": [
    {
     "name": "stdout",
     "output_type": "stream",
     "text": [
      "Neural network successfully converged after 93 epochs.\n"
     ]
    }
   ],
   "source": [
    "_ = torch.manual_seed(0)\n",
    "\n",
    "density_estimator = inference.train(\n",
    "    training_batch_size=training_batch_size,\n",
    "    max_num_epochs=max_num_epochs,\n",
    "    stop_after_epochs=stop_after_epochs,\n",
    ")"
   ]
  },
  {
   "cell_type": "code",
   "execution_count": 134,
   "metadata": {},
   "outputs": [],
   "source": [
    "posterior = inference.build_posterior()"
   ]
  },
  {
   "cell_type": "code",
   "execution_count": 135,
   "metadata": {},
   "outputs": [],
   "source": [
    "# import pickle\n",
    "# with open('../results/samples/201123_SNPE_300epochs_GA_data_bigger_net_training_data.pickle', 'wb') as handle:\n",
    "#     pickle.dump(theta_train.detach().numpy(), handle, protocol=2)"
   ]
  },
  {
   "cell_type": "code",
   "execution_count": 136,
   "metadata": {},
   "outputs": [],
   "source": [
    "# import pickle\n",
    "# with open('../results/samples/201123_SNPE_300epochs_GA_data_bigger_net.pickle', 'wb') as handle:\n",
    "#     pickle.dump(samples.detach().numpy(), handle, protocol=2)"
   ]
  },
  {
   "cell_type": "code",
   "execution_count": 137,
   "metadata": {},
   "outputs": [],
   "source": [
    "import pickle\n",
    "with open('../results/samples/210118_SNPE_condition_on_morph.pickle', 'wb') as handle:\n",
    "    pickle.dump(posterior, handle, protocol=2)"
   ]
  },
  {
   "cell_type": "markdown",
   "metadata": {},
   "source": [
    "### Obtaining the support"
   ]
  },
  {
   "cell_type": "code",
   "execution_count": 138,
   "metadata": {},
   "outputs": [],
   "source": [
    "# class posterior_support:\n",
    "#     def __init__(self, posterior, prior, num_samples_to_estimate_support: int = 50_000):\n",
    "#         samples = posterior.sample((num_samples_to_estimate_support,))\n",
    "#         log_probs = posterior.log_prob(samples)\n",
    "#         self.thr = torch.min(log_probs)\n",
    "#         print('self.thr', self.thr)\n",
    "#         self.thr = torch.tensor([10.0])\n",
    "\n",
    "#     def sample(self, sample_shape: torch.Size):\n",
    "#         \"\"\"\n",
    "#         Sample from the posterior support.\n",
    "\n",
    "#         This is done by sampling from the prior and accepting samples only if\n",
    "#         their posterior-log-probability is larger than some threshold. The\n",
    "#         threshold is chosen to be the minimum log-prob of 50_000 posterior\n",
    "#         samples (see `num_samples_to_estimate_support` in `__init__()`).\n",
    "#         \"\"\"\n",
    "#         all_accepted = []\n",
    "#         num_samples = torch.Size(sample_shape).numel()\n",
    "#         num_remaining = num_samples\n",
    "#         total_drawn = 0\n",
    "#         while num_remaining > 0:\n",
    "#             num_to_draw = torch.max(torch.tensor([num_remaining]), torch.tensor([10_000]))\n",
    "#             prior_samples = prior.sample((num_to_draw,))\n",
    "#             posterior_log_probs = posterior.log_prob(prior_samples)\n",
    "#             accepted_samples = prior_samples[posterior_log_probs > self.thr]\n",
    "#             all_accepted.append(accepted_samples)\n",
    "#             num_remaining -= accepted_samples.shape[0]\n",
    "#             total_drawn += num_to_draw\n",
    "#         print(\"Accepted\", torch.cat(all_accepted).shape[0], 'samples out of', total_drawn, 'candidate samples.')\n",
    "#         frac = torch.as_tensor(torch.cat(all_accepted).shape[0], dtype=torch.float32)/total_drawn\n",
    "#         print(\"The fraction of accepted samples is: \", frac)\n",
    "#         print(\"The speed-up is:  \", 1/frac)\n",
    "#         return torch.cat(all_accepted)[:num_samples]\n",
    "\n",
    "#     def log_prob():\n",
    "#         raise NotImplementedError"
   ]
  },
  {
   "cell_type": "code",
   "execution_count": 139,
   "metadata": {},
   "outputs": [],
   "source": [
    "# # Then, after the first round is finished, you can do.\n",
    "# proposal = posterior_support(posterior, prior, num_samples_to_estimate_support=10_000)"
   ]
  },
  {
   "cell_type": "code",
   "execution_count": 140,
   "metadata": {},
   "outputs": [],
   "source": [
    "# _ = torch.manual_seed(1)\n",
    "# support_theta = proposal.sample((1_000,))"
   ]
  },
  {
   "cell_type": "code",
   "execution_count": 141,
   "metadata": {},
   "outputs": [],
   "source": [
    "# limits = np.asarray([load_prior_min(), load_prior_max()])\n",
    "# _ = pairplot(support_theta, subset=[0,1,2,3,4,5], limits=limits.T, ticks=limits.T, upper='kde', diag='kde')"
   ]
  },
  {
   "cell_type": "code",
   "execution_count": 142,
   "metadata": {},
   "outputs": [],
   "source": [
    "# with open('../results/samples/201123_SNPE_300epochs_GA_data_bigger_net_posterior.pickle', 'rb') as handle:\n",
    "#     posterior_new = pickle.load(handle)"
   ]
  },
  {
   "cell_type": "markdown",
   "metadata": {},
   "source": [
    "### Plot a histogramm of prior sample log_probs and density log_probs"
   ]
  },
  {
   "cell_type": "code",
   "execution_count": 143,
   "metadata": {},
   "outputs": [],
   "source": [
    "data_morph1 = full_data_trunc[full_data_trunc[\"morphology\"] == '84']\n",
    "data_morph2 = full_data_trunc[full_data_trunc[\"morphology\"] == '85']\n",
    "data_morph3 = full_data_trunc[full_data_trunc[\"morphology\"] == '91']\n",
    "\n",
    "data_morph1 = drop_columns(data_morph1)\n",
    "data_morph2 = drop_columns(data_morph2)\n",
    "data_morph3 = drop_columns(data_morph3)\n",
    "\n",
    "data_morph1 = torch.as_tensor(data_morph1.to_numpy(), dtype=torch.float32)\n",
    "data_morph2 = torch.as_tensor(data_morph2.to_numpy(), dtype=torch.float32)\n",
    "data_morph3 = torch.as_tensor(data_morph3.to_numpy(), dtype=torch.float32)"
   ]
  },
  {
   "cell_type": "code",
   "execution_count": 144,
   "metadata": {},
   "outputs": [],
   "source": [
    "features_of_84 = torch.zeros(1, 8)\n",
    "features_of_85 = torch.zeros(1, 8)\n",
    "features_of_91 = torch.zeros(1, 8)\n",
    "\n",
    "for feature_ind, feature_name in enumerate(list(morph_dict.keys())):\n",
    "    features_of_84[0, feature_ind] = morph_dict[feature_name]['84']\n",
    "    features_of_85[0, feature_ind] = morph_dict[feature_name]['85']\n",
    "    features_of_91[0, feature_ind] = morph_dict[feature_name]['91']"
   ]
  },
  {
   "cell_type": "code",
   "execution_count": 145,
   "metadata": {},
   "outputs": [],
   "source": [
    "import matplotlib.pyplot as plt"
   ]
  },
  {
   "cell_type": "code",
   "execution_count": 146,
   "metadata": {},
   "outputs": [],
   "source": [
    "theta_test = torch.as_tensor(theta[:10000], dtype=torch.float32)\n",
    "x_test = torch.as_tensor(x[:10000], dtype=torch.float32)"
   ]
  },
  {
   "cell_type": "code",
   "execution_count": 147,
   "metadata": {},
   "outputs": [],
   "source": [
    "prior_lp = posterior.log_prob(prior.sample((10000,)), x=features_of_84)"
   ]
  },
  {
   "cell_type": "code",
   "execution_count": 148,
   "metadata": {},
   "outputs": [
    {
     "data": {
      "text/plain": [
       "torch.Size([10000, 8])"
      ]
     },
     "execution_count": 148,
     "metadata": {},
     "output_type": "execute_result"
    }
   ],
   "source": [
    "x_test.shape"
   ]
  },
  {
   "cell_type": "code",
   "execution_count": 149,
   "metadata": {},
   "outputs": [],
   "source": [
    "gt_lp = []\n",
    "for y, z in zip(theta_test[:100], x_test[:100]):\n",
    "    gt_lp.append(posterior.log_prob(y, z))"
   ]
  },
  {
   "cell_type": "code",
   "execution_count": 151,
   "metadata": {},
   "outputs": [],
   "source": [
    "gt_lp = torch.cat(gt_lp)"
   ]
  },
  {
   "cell_type": "code",
   "execution_count": 152,
   "metadata": {},
   "outputs": [],
   "source": [
    "morph1_lp = posterior.log_prob(data_morph1[:10000], x=features_of_84)"
   ]
  },
  {
   "cell_type": "code",
   "execution_count": 153,
   "metadata": {},
   "outputs": [],
   "source": [
    "morph2_lp = posterior.log_prob(data_morph2[:10000], x=features_of_84)"
   ]
  },
  {
   "cell_type": "code",
   "execution_count": 101,
   "metadata": {},
   "outputs": [],
   "source": [
    "# morph3_lp = posterior.log_prob(data_morph3[:10000], x=features_of_91)"
   ]
  },
  {
   "cell_type": "code",
   "execution_count": 154,
   "metadata": {},
   "outputs": [],
   "source": [
    "# more_gt_lp = posterior.log_prob(theta_test[:300000])\n",
    "\n",
    "# sorted_gt_lp, _ = torch.sort(more_gt_lp)\n",
    "\n",
    "# pointzeroone_percent = sorted_gt_lp[int(0.0001*(sorted_gt_lp.shape[0]))]\n",
    "# print(pointzeroone_percent)"
   ]
  },
  {
   "cell_type": "code",
   "execution_count": 155,
   "metadata": {},
   "outputs": [
    {
     "data": {
      "text/plain": [
       "<matplotlib.legend.Legend at 0x7f62dd7c5cd0>"
      ]
     },
     "execution_count": 155,
     "metadata": {},
     "output_type": "execute_result"
    },
    {
     "data": {
      "image/png": "[encoded data removed]",
      "text/plain": [
       "<Figure size 1440x432 with 1 Axes>"
      ]
     },
     "metadata": {
      "needs_background": "light"
     },
     "output_type": "display_data"
    }
   ],
   "source": [
    "fig, ax = plt.subplots(1, 1, figsize=(20, 6))\n",
    "priorhist = ax.hist(prior_lp.unsqueeze(1).numpy(), range=[-1000, 500], bins=100)\n",
    "posthist = ax.hist(gt_lp.unsqueeze(1).numpy(), range=[-1000, 500], bins=100)\n",
    "morph2_hist = ax.hist(morph2_lp.unsqueeze(1).numpy(), range=[-1000, 500], bins=100)\n",
    "morph1_hist = ax.hist(morph1_lp.unsqueeze(1).numpy(), range=[-1000, 500], bins=100)\n",
    "# morph3_hist = ax.hist(morph3_lp.unsqueeze(1).numpy(), range=[-1000, 500], bins=100)\n",
    "ax.set_xlabel(\"log(probability under the estimated density)\")\n",
    "ax.set_ylabel(\"Count\")\n",
    "ax.legend([\"prior samples\", \"training samples from the other categories\", \"85\", \"84\", \"91\"])\n",
    "# ax.axvline(torch.min(gt_lp))"
   ]
  },
  {
   "cell_type": "code",
   "execution_count": 109,
   "metadata": {},
   "outputs": [
    {
     "data": {
      "text/plain": [
       "tensor(-11.1211)"
      ]
     },
     "execution_count": 109,
     "metadata": {},
     "output_type": "execute_result"
    }
   ],
   "source": [
    "torch.min(morph2_lp)"
   ]
  },
  {
   "cell_type": "code",
   "execution_count": 112,
   "metadata": {},
   "outputs": [
    {
     "data": {
      "text/plain": [
       "tensor(120)"
      ]
     },
     "execution_count": 112,
     "metadata": {},
     "output_type": "execute_result"
    }
   ],
   "source": [
    "(prior_lp > -11.1211).sum()"
   ]
  },
  {
   "cell_type": "code",
   "execution_count": 113,
   "metadata": {},
   "outputs": [
    {
     "data": {
      "text/plain": [
       "10000"
      ]
     },
     "execution_count": 113,
     "metadata": {},
     "output_type": "execute_result"
    }
   ],
   "source": [
    "len(prior_lp)"
   ]
  },
  {
   "cell_type": "code",
   "execution_count": 207,
   "metadata": {},
   "outputs": [
    {
     "data": {
      "text/plain": [
       "<matplotlib.legend.Legend at 0x7f6b5d6a5d90>"
      ]
     },
     "execution_count": 207,
     "metadata": {},
     "output_type": "execute_result"
    },
    {
     "data": {
      "image/png": "[encoded data removed]",
      "text/plain": [
       "<Figure size 720x216 with 1 Axes>"
      ]
     },
     "metadata": {
      "needs_background": "light"
     },
     "output_type": "display_data"
    }
   ],
   "source": [
    "fig, ax = plt.subplots(1,1,figsize=(10,3))\n",
    "priorhist = ax.hist(prior_lp.unsqueeze(1).numpy(), range=[-50, 150], bins=10)\n",
    "posthist = ax.hist(gt_lp.unsqueeze(1).numpy(), range=[-50, 150], bins=10)\n",
    "ax.set_xlabel(\"log(probability under the estimated density)\")\n",
    "ax.set_ylabel(\"Count\")\n",
    "ax.legend([\"prior samples\", \"samples from GA\"])"
   ]
  },
  {
   "cell_type": "code",
   "execution_count": 292,
   "metadata": {},
   "outputs": [],
   "source": [
    "more_gt_lp = posterior_new.log_prob(theta_test[:300000])"
   ]
  },
  {
   "cell_type": "code",
   "execution_count": 295,
   "metadata": {},
   "outputs": [
    {
     "name": "stdout",
     "output_type": "stream",
     "text": [
      "tensor(-4.7912)\n",
      "tensor(39.6355)\n",
      "tensor(76.5995)\n",
      "tensor(125.4237)\n"
     ]
    }
   ],
   "source": [
    "sorted_gt_lp, _ = torch.sort(more_gt_lp)\n",
    "\n",
    "zero_percent = sorted_gt_lp[int(0.0*(sorted_gt_lp.shape[0]))]\n",
    "print(zero_percent)\n",
    "\n",
    "pointzeroone_percent = sorted_gt_lp[int(0.0001*(sorted_gt_lp.shape[0]))]\n",
    "print(pointzeroone_percent)\n",
    "\n",
    "pointone_percent = sorted_gt_lp[int(0.001*(sorted_gt_lp.shape[0]))]\n",
    "print(pointone_percent)\n",
    "\n",
    "one_percent = sorted_gt_lp[int(0.01*(sorted_gt_lp.shape[0]))]\n",
    "print(one_percent)"
   ]
  },
  {
   "cell_type": "code",
   "execution_count": 296,
   "metadata": {},
   "outputs": [
    {
     "data": {
      "text/plain": [
       "Text(0, 0.5, 'Count')"
      ]
     },
     "execution_count": 296,
     "metadata": {},
     "output_type": "execute_result"
    },
    {
     "data": {
      "image/png": "[encoded data removed]",
      "text/plain": [
       "<Figure size 720x216 with 1 Axes>"
      ]
     },
     "metadata": {
      "needs_background": "light"
     },
     "output_type": "display_data"
    }
   ],
   "source": [
    "fig, ax = plt.subplots(1,1,figsize=(10,3))\n",
    "priorhist = ax.hist(prior_lp.unsqueeze(1).numpy(), range=[-50, 150], bins=10)\n",
    "posthist = ax.hist(gt_lp.unsqueeze(1).numpy(), range=[-50, 150], bins=10)\n",
    "ax.legend([\"prior samples\", \"samples from GA\"])\n",
    "line1 = ax.axvline(zero_percent, color='r')\n",
    "line2 = ax.axvline(pointzeroone_percent, color='r')\n",
    "line3 = ax.axvline(pointone_percent, color='r')\n",
    "line4 = ax.axvline(one_percent, color='r')\n",
    "ax.set_xlabel(\"log(probability under the estimated density)\")\n",
    "ax.set_ylabel(\"Count\")"
   ]
  },
  {
   "cell_type": "code",
   "execution_count": 297,
   "metadata": {},
   "outputs": [
    {
     "data": {
      "text/plain": [
       "Text(0, 0.5, 'Count')"
      ]
     },
     "execution_count": 297,
     "metadata": {},
     "output_type": "execute_result"
    },
    {
     "data": {
      "image/png": "[encoded data removed]",
      "text/plain": [
       "<Figure size 720x216 with 1 Axes>"
      ]
     },
     "metadata": {
      "needs_background": "light"
     },
     "output_type": "display_data"
    }
   ],
   "source": [
    "fig, ax = plt.subplots(1,1,figsize=(10,3))\n",
    "priorhist = ax.hist(prior_lp.unsqueeze(1).numpy(), range=[-1000, 500], bins=100)\n",
    "posthist = ax.hist(gt_lp.unsqueeze(1).numpy(), range=[-1000, 500], bins=100)\n",
    "ax.legend([\"prior samples\", \"samples from GA\"])\n",
    "line1 = ax.axvline(zero_percent, color='r')\n",
    "line2 = ax.axvline(pointzeroone_percent, color='r')\n",
    "line3 = ax.axvline(pointone_percent, color='r')\n",
    "line4 = ax.axvline(one_percent, color='r')\n",
    "ax.set_xlabel(\"log(probability under the estimated density)\")\n",
    "ax.set_ylabel(\"Count\")"
   ]
  },
  {
   "cell_type": "markdown",
   "metadata": {},
   "source": [
    "### Get estimates for the rejection rate"
   ]
  },
  {
   "cell_type": "code",
   "execution_count": 308,
   "metadata": {},
   "outputs": [],
   "source": [
    "class posterior_support_tryout:\n",
    "    def __init__(self, posterior, prior, num_samples_to_estimate_support: int = 50_000):\n",
    "        samples = posterior.sample((num_samples_to_estimate_support,))\n",
    "        log_probs = posterior.log_prob(samples)\n",
    "        self.thr = torch.min(log_probs)\n",
    "\n",
    "    def sample(self, sample_shape: torch.Size):\n",
    "        \"\"\"\n",
    "        Sample from the posterior support.\n",
    "\n",
    "        This is done by sampling from the prior and accepting samples only if\n",
    "        their posterior-log-probability is larger than some threshold. The\n",
    "        threshold is chosen to be the minimum log-prob of 50_000 posterior\n",
    "        samples (see `num_samples_to_estimate_support` in `__init__()`).\n",
    "        \"\"\"\n",
    "        all_accepted = []\n",
    "        num_samples = torch.Size(sample_shape).numel()\n",
    "        num_remaining = num_samples\n",
    "        total_drawn = 0\n",
    "        num_iterations = 0\n",
    "        while num_remaining > 0 and total_drawn < 5e7:\n",
    "            print(\"New iter\", num_iterations)\n",
    "            num_to_draw = torch.max(torch.tensor([num_remaining]), torch.tensor([100_000]))\n",
    "            prior_samples = prior.sample((num_to_draw,))\n",
    "            posterior_log_probs = posterior.log_prob(prior_samples)\n",
    "            accepted_samples = prior_samples[posterior_log_probs > self.thr]\n",
    "            all_accepted.append(accepted_samples)\n",
    "            num_remaining -= accepted_samples.shape[0]\n",
    "            total_drawn += num_to_draw\n",
    "            num_iterations += 1\n",
    "        print(\"Accepted\", torch.cat(all_accepted).shape[0], 'samples out of', total_drawn, 'candidate samples.')\n",
    "        frac = torch.as_tensor(torch.cat(all_accepted).shape[0], dtype=torch.float32)/total_drawn\n",
    "        print(\"The fraction of accepted samples is: \", frac)\n",
    "        print(\"The speed-up is:  \", 1/frac)\n",
    "        return torch.cat(all_accepted)[:num_samples]\n",
    "\n",
    "    def log_prob():\n",
    "        raise NotImplementedError"
   ]
  },
  {
   "cell_type": "code",
   "execution_count": 309,
   "metadata": {},
   "outputs": [
    {
     "data": {
      "application/vnd.jupyter.widget-view+json": {
       "model_id": "45960012eb5e442b98d25e66745a924d",
       "version_major": 2,
       "version_minor": 0
      },
      "text/plain": [
       "HBox(children=(FloatProgress(value=0.0, description='Drawing 1000 posterior samples', max=1000.0, style=Progre…"
      ]
     },
     "metadata": {},
     "output_type": "display_data"
    },
    {
     "name": "stdout",
     "output_type": "stream",
     "text": [
      "\n"
     ]
    }
   ],
   "source": [
    "# Then, after the first round is finished, you can do.\n",
    "proposal_tryout = posterior_support_tryout(posterior, prior, num_samples_to_estimate_support=1_000)\n",
    "proposal_tryout.thr = zero_percent"
   ]
  },
  {
   "cell_type": "code",
   "execution_count": 310,
   "metadata": {},
   "outputs": [
    {
     "name": "stdout",
     "output_type": "stream",
     "text": [
      "New iter 0\n",
      "New iter 1\n",
      "New iter 2\n",
      "New iter 3\n",
      "New iter 4\n",
      "New iter 5\n",
      "New iter 6\n",
      "New iter 7\n",
      "New iter 8\n",
      "New iter 9\n",
      "New iter 10\n",
      "New iter 11\n",
      "New iter 12\n",
      "New iter 13\n",
      "Accepted 10730 samples out of tensor([1400000]) candidate samples.\n",
      "The fraction of accepted samples is:  tensor([0.0077])\n",
      "The speed-up is:   tensor([130.4753])\n"
     ]
    }
   ],
   "source": [
    "_ = torch.manual_seed(0)\n",
    "support_theta_tryout = proposal_tryout.sample((10_000,))"
   ]
  },
  {
   "cell_type": "code",
   "execution_count": 311,
   "metadata": {
    "collapsed": true,
    "jupyter": {
     "outputs_hidden": true
    }
   },
   "outputs": [
    {
     "data": {
      "application/vnd.jupyter.widget-view+json": {
       "model_id": "08a76313e4864b1daef8f6f7a4c3efba",
       "version_major": 2,
       "version_minor": 0
      },
      "text/plain": [
       "HBox(children=(FloatProgress(value=0.0, description='Drawing 1000 posterior samples', max=1000.0, style=Progre…"
      ]
     },
     "metadata": {},
     "output_type": "display_data"
    },
    {
     "name": "stdout",
     "output_type": "stream",
     "text": [
      "\n",
      "New iter 0\n",
      "New iter 1\n",
      "New iter 2\n",
      "New iter 3\n",
      "New iter 4\n",
      "New iter 5\n",
      "New iter 6\n",
      "New iter 7\n",
      "New iter 8\n",
      "New iter 9\n",
      "New iter 10\n",
      "New iter 11\n",
      "New iter 12\n",
      "New iter 13\n",
      "New iter 14\n",
      "New iter 15\n",
      "New iter 16\n",
      "New iter 17\n",
      "New iter 18\n",
      "New iter 19\n",
      "New iter 20\n",
      "New iter 21\n",
      "New iter 22\n",
      "New iter 23\n",
      "New iter 24\n",
      "New iter 25\n",
      "New iter 26\n",
      "New iter 27\n",
      "New iter 28\n",
      "New iter 29\n",
      "New iter 30\n",
      "New iter 31\n",
      "New iter 32\n",
      "New iter 33\n",
      "New iter 34\n",
      "New iter 35\n",
      "New iter 36\n",
      "New iter 37\n",
      "New iter 38\n",
      "New iter 39\n",
      "New iter 40\n",
      "New iter 41\n",
      "New iter 42\n",
      "New iter 43\n",
      "New iter 44\n",
      "New iter 45\n",
      "New iter 46\n",
      "New iter 47\n",
      "New iter 48\n",
      "New iter 49\n",
      "New iter 50\n",
      "New iter 51\n",
      "New iter 52\n",
      "New iter 53\n",
      "New iter 54\n",
      "New iter 55\n",
      "New iter 56\n",
      "New iter 57\n",
      "New iter 58\n",
      "New iter 59\n",
      "New iter 60\n",
      "New iter 61\n",
      "New iter 62\n",
      "New iter 63\n",
      "New iter 64\n",
      "New iter 65\n",
      "New iter 66\n",
      "New iter 67\n",
      "New iter 68\n",
      "New iter 69\n",
      "New iter 70\n",
      "New iter 71\n",
      "New iter 72\n",
      "New iter 73\n",
      "New iter 74\n",
      "New iter 75\n",
      "New iter 76\n",
      "New iter 77\n",
      "New iter 78\n",
      "New iter 79\n",
      "New iter 80\n",
      "New iter 81\n",
      "New iter 82\n",
      "New iter 83\n",
      "New iter 84\n",
      "New iter 85\n",
      "New iter 86\n",
      "New iter 87\n",
      "New iter 88\n",
      "New iter 89\n",
      "New iter 90\n",
      "New iter 91\n",
      "New iter 92\n",
      "New iter 93\n",
      "New iter 94\n",
      "New iter 95\n",
      "New iter 96\n",
      "New iter 97\n",
      "New iter 98\n",
      "New iter 99\n",
      "New iter 100\n",
      "New iter 101\n",
      "New iter 102\n",
      "New iter 103\n",
      "New iter 104\n",
      "New iter 105\n",
      "New iter 106\n",
      "New iter 107\n",
      "New iter 108\n",
      "New iter 109\n",
      "New iter 110\n",
      "New iter 111\n",
      "New iter 112\n",
      "New iter 113\n",
      "New iter 114\n",
      "New iter 115\n",
      "New iter 116\n",
      "New iter 117\n",
      "New iter 118\n",
      "New iter 119\n",
      "New iter 120\n",
      "New iter 121\n",
      "New iter 122\n",
      "New iter 123\n",
      "New iter 124\n",
      "New iter 125\n",
      "New iter 126\n",
      "New iter 127\n",
      "New iter 128\n",
      "New iter 129\n",
      "New iter 130\n",
      "New iter 131\n",
      "New iter 132\n",
      "New iter 133\n",
      "New iter 134\n",
      "New iter 135\n",
      "New iter 136\n",
      "New iter 137\n",
      "New iter 138\n",
      "New iter 139\n",
      "New iter 140\n",
      "New iter 141\n",
      "New iter 142\n",
      "New iter 143\n",
      "New iter 144\n",
      "New iter 145\n",
      "New iter 146\n",
      "New iter 147\n",
      "New iter 148\n",
      "New iter 149\n",
      "New iter 150\n",
      "New iter 151\n",
      "New iter 152\n",
      "New iter 153\n",
      "New iter 154\n",
      "New iter 155\n",
      "New iter 156\n",
      "New iter 157\n",
      "New iter 158\n",
      "New iter 159\n",
      "New iter 160\n",
      "New iter 161\n",
      "New iter 162\n",
      "New iter 163\n",
      "New iter 164\n",
      "New iter 165\n",
      "New iter 166\n",
      "New iter 167\n",
      "New iter 168\n",
      "New iter 169\n",
      "New iter 170\n",
      "New iter 171\n",
      "New iter 172\n",
      "New iter 173\n",
      "New iter 174\n",
      "New iter 175\n",
      "New iter 176\n",
      "New iter 177\n",
      "New iter 178\n",
      "New iter 179\n",
      "New iter 180\n",
      "New iter 181\n",
      "New iter 182\n",
      "New iter 183\n",
      "New iter 184\n",
      "New iter 185\n",
      "New iter 186\n",
      "New iter 187\n",
      "New iter 188\n",
      "New iter 189\n",
      "New iter 190\n",
      "New iter 191\n",
      "New iter 192\n",
      "New iter 193\n",
      "New iter 194\n",
      "New iter 195\n",
      "New iter 196\n",
      "New iter 197\n",
      "New iter 198\n",
      "New iter 199\n",
      "New iter 200\n",
      "New iter 201\n",
      "New iter 202\n",
      "New iter 203\n",
      "New iter 204\n",
      "New iter 205\n",
      "New iter 206\n",
      "New iter 207\n",
      "New iter 208\n",
      "New iter 209\n",
      "New iter 210\n",
      "New iter 211\n",
      "New iter 212\n",
      "New iter 213\n",
      "New iter 214\n",
      "New iter 215\n",
      "New iter 216\n",
      "New iter 217\n",
      "New iter 218\n",
      "New iter 219\n",
      "New iter 220\n",
      "New iter 221\n",
      "New iter 222\n",
      "New iter 223\n",
      "New iter 224\n",
      "New iter 225\n",
      "New iter 226\n",
      "New iter 227\n",
      "New iter 228\n",
      "New iter 229\n",
      "New iter 230\n",
      "New iter 231\n",
      "New iter 232\n",
      "New iter 233\n",
      "New iter 234\n",
      "New iter 235\n",
      "New iter 236\n",
      "New iter 237\n",
      "New iter 238\n",
      "New iter 239\n",
      "New iter 240\n",
      "New iter 241\n",
      "New iter 242\n",
      "New iter 243\n",
      "New iter 244\n",
      "New iter 245\n",
      "New iter 246\n",
      "New iter 247\n",
      "New iter 248\n",
      "New iter 249\n",
      "New iter 250\n",
      "New iter 251\n",
      "New iter 252\n",
      "New iter 253\n",
      "New iter 254\n",
      "New iter 255\n",
      "New iter 256\n",
      "New iter 257\n",
      "New iter 258\n",
      "New iter 259\n",
      "New iter 260\n",
      "New iter 261\n",
      "New iter 262\n",
      "New iter 263\n",
      "New iter 264\n",
      "New iter 265\n",
      "New iter 266\n",
      "New iter 267\n",
      "New iter 268\n",
      "New iter 269\n",
      "New iter 270\n",
      "New iter 271\n",
      "New iter 272\n",
      "New iter 273\n",
      "New iter 274\n",
      "New iter 275\n",
      "New iter 276\n",
      "New iter 277\n",
      "New iter 278\n",
      "New iter 279\n",
      "New iter 280\n",
      "New iter 281\n",
      "New iter 282\n",
      "New iter 283\n",
      "New iter 284\n",
      "New iter 285\n",
      "New iter 286\n",
      "New iter 287\n",
      "New iter 288\n",
      "New iter 289\n",
      "New iter 290\n",
      "New iter 291\n",
      "New iter 292\n",
      "New iter 293\n",
      "New iter 294\n",
      "New iter 295\n",
      "New iter 296\n",
      "New iter 297\n",
      "New iter 298\n",
      "New iter 299\n",
      "New iter 300\n",
      "New iter 301\n",
      "New iter 302\n",
      "New iter 303\n",
      "New iter 304\n",
      "New iter 305\n",
      "New iter 306\n",
      "New iter 307\n",
      "New iter 308\n",
      "New iter 309\n",
      "New iter 310\n",
      "New iter 311\n",
      "New iter 312\n",
      "New iter 313\n",
      "New iter 314\n",
      "New iter 315\n",
      "New iter 316\n",
      "New iter 317\n",
      "New iter 318\n",
      "New iter 319\n",
      "New iter 320\n",
      "New iter 321\n",
      "New iter 322\n",
      "New iter 323\n",
      "New iter 324\n",
      "New iter 325\n",
      "New iter 326\n",
      "New iter 327\n",
      "New iter 328\n",
      "New iter 329\n",
      "New iter 330\n",
      "New iter 331\n",
      "New iter 332\n",
      "New iter 333\n",
      "New iter 334\n",
      "New iter 335\n",
      "New iter 336\n",
      "New iter 337\n",
      "New iter 338\n",
      "New iter 339\n",
      "New iter 340\n",
      "New iter 341\n",
      "New iter 342\n",
      "New iter 343\n",
      "New iter 344\n",
      "New iter 345\n",
      "New iter 346\n",
      "New iter 347\n",
      "New iter 348\n",
      "New iter 349\n",
      "New iter 350\n",
      "New iter 351\n",
      "New iter 352\n",
      "New iter 353\n",
      "New iter 354\n",
      "New iter 355\n",
      "New iter 356\n",
      "New iter 357\n",
      "New iter 358\n",
      "New iter 359\n",
      "New iter 360\n",
      "New iter 361\n",
      "New iter 362\n",
      "New iter 363\n",
      "New iter 364\n",
      "New iter 365\n",
      "New iter 366\n",
      "New iter 367\n",
      "New iter 368\n",
      "New iter 369\n",
      "New iter 370\n",
      "New iter 371\n",
      "New iter 372\n",
      "New iter 373\n",
      "New iter 374\n",
      "New iter 375\n",
      "New iter 376\n",
      "New iter 377\n",
      "New iter 378\n",
      "New iter 379\n",
      "New iter 380\n",
      "New iter 381\n",
      "New iter 382\n",
      "New iter 383\n",
      "New iter 384\n",
      "New iter 385\n",
      "New iter 386\n",
      "New iter 387\n",
      "New iter 388\n",
      "New iter 389\n",
      "New iter 390\n",
      "New iter 391\n",
      "New iter 392\n",
      "New iter 393\n",
      "New iter 394\n",
      "New iter 395\n",
      "New iter 396\n",
      "New iter 397\n",
      "New iter 398\n",
      "New iter 399\n",
      "New iter 400\n",
      "New iter 401\n",
      "New iter 402\n",
      "New iter 403\n",
      "New iter 404\n",
      "New iter 405\n",
      "New iter 406\n",
      "New iter 407\n",
      "New iter 408\n",
      "New iter 409\n",
      "New iter 410\n",
      "New iter 411\n",
      "New iter 412\n",
      "New iter 413\n",
      "New iter 414\n",
      "New iter 415\n",
      "New iter 416\n",
      "New iter 417\n",
      "New iter 418\n",
      "New iter 419\n",
      "New iter 420\n",
      "New iter 421\n",
      "New iter 422\n",
      "New iter 423\n",
      "New iter 424\n",
      "New iter 425\n",
      "New iter 426\n",
      "New iter 427\n",
      "New iter 428\n",
      "New iter 429\n",
      "New iter 430\n",
      "New iter 431\n",
      "New iter 432\n",
      "New iter 433\n",
      "New iter 434\n",
      "New iter 435\n",
      "New iter 436\n",
      "New iter 437\n",
      "New iter 438\n",
      "New iter 439\n",
      "New iter 440\n",
      "New iter 441\n",
      "New iter 442\n",
      "New iter 443\n",
      "New iter 444\n",
      "New iter 445\n",
      "New iter 446\n",
      "New iter 447\n",
      "New iter 448\n",
      "New iter 449\n",
      "New iter 450\n",
      "New iter 451\n",
      "New iter 452\n",
      "New iter 453\n",
      "New iter 454\n",
      "New iter 455\n",
      "New iter 456\n",
      "New iter 457\n",
      "New iter 458\n",
      "New iter 459\n",
      "New iter 460\n",
      "New iter 461\n",
      "New iter 462\n",
      "New iter 463\n",
      "New iter 464\n",
      "New iter 465\n",
      "New iter 466\n",
      "New iter 467\n",
      "New iter 468\n",
      "New iter 469\n",
      "New iter 470\n",
      "New iter 471\n",
      "New iter 472\n",
      "New iter 473\n",
      "New iter 474\n",
      "New iter 475\n",
      "New iter 476\n",
      "New iter 477\n",
      "New iter 478\n",
      "New iter 479\n",
      "New iter 480\n",
      "New iter 481\n",
      "New iter 482\n",
      "New iter 483\n",
      "New iter 484\n",
      "New iter 485\n",
      "New iter 486\n",
      "New iter 487\n",
      "New iter 488\n",
      "New iter 489\n",
      "New iter 490\n",
      "New iter 491\n",
      "New iter 492\n",
      "New iter 493\n",
      "New iter 494\n",
      "New iter 495\n",
      "New iter 496\n",
      "New iter 497\n",
      "New iter 498\n",
      "New iter 499\n",
      "Accepted 1478 samples out of tensor([50000000]) candidate samples.\n",
      "The fraction of accepted samples is:  tensor([2.9560e-05])\n",
      "The speed-up is:   tensor([33829.5000])\n"
     ]
    }
   ],
   "source": [
    "# Then, after the first round is finished, you can do.\n",
    "proposal_tryout = posterior_support_tryout(posterior, prior, num_samples_to_estimate_support=1_000)\n",
    "proposal_tryout.thr = pointzeroone_percent\n",
    "_ = torch.manual_seed(0)\n",
    "support_theta_tryout_pointzeroone = proposal_tryout.sample((10_000,))"
   ]
  },
  {
   "cell_type": "code",
   "execution_count": 314,
   "metadata": {},
   "outputs": [
    {
     "data": {
      "image/png": "[encoded data removed]",
      "text/plain": [
       "<Figure size 720x720 with 36 Axes>"
      ]
     },
     "metadata": {
      "needs_background": "light"
     },
     "output_type": "display_data"
    }
   ],
   "source": [
    "limits = np.asarray([load_prior_min(), load_prior_max()])\n",
    "_ = pairplot(support_theta_tryout_pointzeroone, subset=[0,1,2,3,4,5], limits=limits.T, ticks=limits.T, upper='kde', diag='kde')"
   ]
  },
  {
   "cell_type": "code",
   "execution_count": 313,
   "metadata": {},
   "outputs": [],
   "source": [
    "import pickle\n",
    "with open('../results/samples/201123_SNPE_300epochs_GA_data_bigger_net_samples_from_support_pointonepercentquantile.pickle', 'wb') as handle:\n",
    "    pickle.dump(support_theta_tryout_pointzeroone.detach().numpy(), handle, protocol=2)"
   ]
  },
  {
   "cell_type": "code",
   "execution_count": null,
   "metadata": {},
   "outputs": [],
   "source": [
    "limits = np.asarray([load_prior_min(), load_prior_max()])\n",
    "_ = pairplot(support_theta, subset=[0,1,2,3,4,5], limits=limits.T, ticks=limits.T, upper='kde', diag='kde')"
   ]
  },
  {
   "cell_type": "code",
   "execution_count": 300,
   "metadata": {},
   "outputs": [
    {
     "data": {
      "text/plain": [
       "tensor(39.6355)"
      ]
     },
     "execution_count": 300,
     "metadata": {},
     "output_type": "execute_result"
    }
   ],
   "source": [
    "pointzeroone_percent"
   ]
  },
  {
   "cell_type": "markdown",
   "metadata": {},
   "source": [
    "### Plot histograms over samples drawn from the estimated density"
   ]
  },
  {
   "cell_type": "code",
   "execution_count": 191,
   "metadata": {},
   "outputs": [
    {
     "data": {
      "application/vnd.jupyter.widget-view+json": {
       "model_id": "30b6b238fbac4524bedd65127bf507aa",
       "version_major": 2,
       "version_minor": 0
      },
      "text/plain": [
       "HBox(children=(FloatProgress(value=0.0, description='Drawing 10000 posterior samples', max=10000.0, style=Prog…"
      ]
     },
     "metadata": {},
     "output_type": "display_data"
    },
    {
     "name": "stdout",
     "output_type": "stream",
     "text": [
      "\n"
     ]
    }
   ],
   "source": [
    "prior_lp = posterior.log_prob(prior.sample((10000,)))\n",
    "posterior_lp = posterior_new.log_prob(posterior.sample((10000,)))"
   ]
  },
  {
   "cell_type": "code",
   "execution_count": 192,
   "metadata": {},
   "outputs": [
    {
     "data": {
      "text/plain": [
       "<matplotlib.legend.Legend at 0x7f6b20b203a0>"
      ]
     },
     "execution_count": 192,
     "metadata": {},
     "output_type": "execute_result"
    },
    {
     "data": {
      "image/png": "[encoded data removed]",
      "text/plain": [
       "<Figure size 720x216 with 1 Axes>"
      ]
     },
     "metadata": {
      "needs_background": "light"
     },
     "output_type": "display_data"
    }
   ],
   "source": [
    "fig, ax = plt.subplots(1,1,figsize=(10,3))\n",
    "priorhist = ax.hist(prior_lp.unsqueeze(1).numpy(), range=[-1000, 500], bins=100)\n",
    "posthist = ax.hist(posterior_lp.unsqueeze(1).numpy(), range=[-1000, 500], bins=100)\n",
    "ax.set_xlabel(\"log(probability under the estimated density)\")\n",
    "ax.set_ylabel(\"Count\")\n",
    "ax.legend([\"prior samples\", \"samples from estimated density\"])"
   ]
  },
  {
   "cell_type": "code",
   "execution_count": 149,
   "metadata": {},
   "outputs": [],
   "source": [
    "# import pickle\n",
    "# with open('../results/samples/201123_SNPE_300epochs_GA_data_bigger_net_supportsamples.pickle', 'wb') as handle:\n",
    "#     pickle.dump(support_theta.detach().numpy(), handle, protocol=2)"
   ]
  },
  {
   "cell_type": "code",
   "execution_count": null,
   "metadata": {},
   "outputs": [],
   "source": []
  }
 ],
 "metadata": {
  "kernelspec": {
   "display_name": "sbi_prinz",
   "language": "python",
   "name": "sbi_prinz"
  },
  "language_info": {
   "codemirror_mode": {
    "name": "ipython",
    "version": 3
   },
   "file_extension": ".py",
   "mimetype": "text/x-python",
   "name": "python",
   "nbconvert_exporter": "python",
   "pygments_lexer": "ipython3",
   "version": "3.8.5"
  }
 },
 "nbformat": 4,
 "nbformat_minor": 4
}
