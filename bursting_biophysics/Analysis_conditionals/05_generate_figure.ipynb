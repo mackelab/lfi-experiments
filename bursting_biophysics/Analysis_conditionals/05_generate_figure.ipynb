{
 "cells": [
  {
   "cell_type": "code",
   "execution_count": 1,
   "metadata": {},
   "outputs": [],
   "source": [
    "%load_ext autoreload\n",
    "%autoreload 2"
   ]
  },
  {
   "cell_type": "code",
   "execution_count": 2,
   "metadata": {},
   "outputs": [],
   "source": [
    "import sys\n",
    "\n",
    "import matplotlib.pyplot as plt\n",
    "import numpy as np\n",
    "import torch\n",
    "from sbi.analysis import pairplot\n",
    "from sbi.inference import SNPE\n",
    "from sbi.utils import BoxUniform, posterior_nn\n",
    "from torch import ones, zeros\n",
    "import pickle\n",
    "import matplotlib as mpl\n",
    "\n",
    "from sbi.analysis import conditional_pairplot\n",
    "import pickle\n",
    "import sbi\n",
    "from sbi.analysis import conditional_corrcoeff\n",
    "from sbi.analysis import eval_conditional_density\n",
    "\n",
    "sys.path.append(\"../../../arco_sims/adaptive_box_posteriors/\")\n",
    "import bounds"
   ]
  },
  {
   "cell_type": "code",
   "execution_count": 3,
   "metadata": {},
   "outputs": [],
   "source": [
    "import time"
   ]
  },
  {
   "cell_type": "code",
   "execution_count": 4,
   "metadata": {},
   "outputs": [],
   "source": [
    "params_name_mapping = {\n",
    "'ephys.NaTa_t.soma.gNaTa_tbar':'s.Na_t',\n",
    "'ephys.Nap_Et2.soma.gNap_Et2bar':'s.Na_p',\n",
    "'ephys.K_Pst.soma.gK_Pstbar':'s.K_p',\n",
    "'ephys.K_Tst.soma.gK_Tstbar':'s.K_t',\n",
    "'ephys.SK_E2.soma.gSK_E2bar':'s.SK',\n",
    "'ephys.SKv3_1.soma.gSKv3_1bar':'s.Kv_3.1',\n",
    "'ephys.Ca_HVA.soma.gCa_HVAbar':'s.Ca_H',\n",
    "'ephys.Ca_LVAst.soma.gCa_LVAstbar':'s.Ca_L',\n",
    "'ephys.CaDynamics_E2.soma.gamma':'s.Y',\n",
    "'ephys.CaDynamics_E2.soma.decay':'s.T_decay',\n",
    " \n",
    "'ephys.none.soma.g_pas':'s.leak',\n",
    "'ephys.none.axon.g_pas':'ax.leak',\n",
    "'ephys.none.dend.g_pas':'b.leak',\n",
    "'ephys.none.apic.g_pas':'a.leak',\n",
    " \n",
    "'ephys.NaTa_t.axon.gNaTa_tbar':'ax.Na_t',\n",
    "'ephys.Nap_Et2.axon.gNap_Et2bar':'ax.Na_p',\n",
    "'ephys.K_Pst.axon.gK_Pstbar':'ax.K_p',\n",
    "'ephys.K_Tst.axon.gK_Tstbar':'ax.K_t',\n",
    "'ephys.SK_E2.axon.gSK_E2bar':'ax.SK',\n",
    "'ephys.SKv3_1.axon.gSKv3_1bar':'ax.Kv_3.1',\n",
    "'ephys.Ca_HVA.axon.gCa_HVAbar':'ax.Ca_H',\n",
    "'ephys.Ca_LVAst.axon.gCa_LVAstbar':'ax.Ca_L',\n",
    "'ephys.CaDynamics_E2.axon.gamma':'ax.Y',\n",
    "'ephys.CaDynamics_E2.axon.decay':'ax.T_decay',\n",
    " \n",
    "'ephys.Im.apic.gImbar':'a.I_m',\n",
    "'ephys.NaTa_t.apic.gNaTa_tbar':'a.Na_t',\n",
    "'ephys.SKv3_1.apic.gSKv3_1bar':'a.Kv_3.1',\n",
    "'ephys.Ca_HVA.apic.gCa_HVAbar':'a.Ca_H',\n",
    "'ephys.Ca_LVAst.apic.gCa_LVAstbar':'a.Ca_L',\n",
    "'ephys.SK_E2.apic.gSK_E2bar':'a.SK',\n",
    "'ephys.CaDynamics_E2.apic.gamma':'a.Y',\n",
    "'ephys.CaDynamics_E2.apic.decay':'a.T_decay',\n",
    " \n",
    "'ephys.SKv3_1.apic.offset':'a.Kv_3.1_offset',\n",
    "'ephys.SKv3_1.apic.slope':'a.Kv_3.1_slope',\n",
    "'scale_apical.scale': 'a.scale'\n",
    "}"
   ]
  },
  {
   "cell_type": "code",
   "execution_count": 5,
   "metadata": {},
   "outputs": [],
   "source": [
    "dataset = np.load(\n",
    "    \"../../../arco_sims/adaptive_box_posteriors/simulation_outputs/theta_and_x.npz\",\n",
    "    allow_pickle=True,\n",
    ")\n",
    "theta = dataset[\"theta\"].tolist()\n",
    "x = dataset[\"x\"].tolist()"
   ]
  },
  {
   "cell_type": "code",
   "execution_count": 6,
   "metadata": {},
   "outputs": [],
   "source": [
    "xo = torch.tensor([3.1, 3.1, 3.1, 3.1, 3.1, 4.5, 4.5, 4.5, 4.5, 4.5, 4.5, 4.5, 4.5])"
   ]
  },
  {
   "cell_type": "code",
   "execution_count": 7,
   "metadata": {},
   "outputs": [],
   "source": [
    "filepath = \"/home/michael/Documents/arco_sims/adaptive_box_posteriors2/88_86940691440007411_0.01.pickle\"\n",
    "\n",
    "with open(filepath, \"rb\") as handle:\n",
    "    posterior2 = pickle.load(handle)"
   ]
  },
  {
   "cell_type": "code",
   "execution_count": 8,
   "metadata": {},
   "outputs": [
    {
     "data": {
      "application/vnd.jupyter.widget-view+json": {
       "model_id": "f01044bf169e41f88ca64ef9c72f57c2",
       "version_major": 2,
       "version_minor": 0
      },
      "text/plain": [
       "HBox(children=(FloatProgress(value=0.0, description='Drawing 10000 posterior samples', max=10000.0, style=Prog…"
      ]
     },
     "metadata": {},
     "output_type": "display_data"
    },
    {
     "name": "stdout",
     "output_type": "stream",
     "text": [
      "\n"
     ]
    }
   ],
   "source": [
    "samples = posterior2.sample((10000,), x=xo)"
   ]
  },
  {
   "cell_type": "markdown",
   "metadata": {},
   "source": [
    "# Analyse all morphologies and configurations"
   ]
  },
  {
   "cell_type": "code",
   "execution_count": 9,
   "metadata": {},
   "outputs": [],
   "source": [
    "names_ = list(params_name_mapping.values())"
   ]
  },
  {
   "cell_type": "code",
   "execution_count": 10,
   "metadata": {},
   "outputs": [],
   "source": [
    "string_pairs = [\n",
    "    [\"84\", \"7712997831240842\", \"0.015\"],\n",
    "    [\"85\", \"1\", \"0.02\"],\n",
    "    [\"85\", \"5\", \"0.015\"],\n",
    "    [\"86\", \"6\", \"0.005\"],\n",
    "    [\"86\", \"707527054352652\", \"0.01\"],\n",
    "    [\"87\", \"550434680389613\", \"0.005\"],\n",
    "    [\"87\", \"73418029210004229\", \"0.005\"],\n",
    "    [\"88\", \"59997244694401254\", \"0.015\"],\n",
    "    [\"88\", \"86940691440007411\", \"0.01\"],\n",
    "    [\"88\", \"90233447606250669\", \"0.005\"],\n",
    "    [\"89\", \"1506562604769867\", \"0.02\"],\n",
    "    [\"89\", \"49992413252944133\", \"0.02\"],\n",
    "    [\"89\", \"98394633867104423\", \"0.025\"],\n",
    "    [\"91\", \"5\", \"0.03\"],\n",
    "    [\"91\", \"63065090307991878\", \"0.045\"],\n",
    "    [\"93\", \"49588549670578687\", \"0.01\"],\n",
    "    [\"WR64_Cell8_L5TT_constant_mean_max_dendscale_2.0\", \"94\", \"0.01\"],\n",
    "    [\"WR64_Cell8_L5TT_constant_mean_max_dendscale_2.0\", \"96\", \"0.01\"],\n",
    "    [\"WR64_Cell8_L5TT_constant_mean_max_dendscale_2.5\", \"81\", \"0.015\"],\n",
    "    [\"WR64_Cell8_L5TT_constant_mean_max_dendscale_2.5\", \"84\", \"0.03\"],\n",
    "    [\"WR69_Cell2_L5TT_mean\", \"1\", \"0.005\"],\n",
    "    [\"WR69_Cell2_L5TT_mean\", \"32\", \"0.01\"],\n",
    "    [\"WR69_Cell2_L5TT_medfilt\", \"1\", \"0.005\"],\n",
    "    [\"WR69_Cell2_L5TT_medfilt\", \"6\", \"0.01\"],\n",
    "    [\"WR71_Cell6_L5TT_constant_mean\", \"104\", \"0.02\"],\n",
    "    [\"WR71_Cell6_L5TT_constant_mean\", \"120\", \"0.015\"],\n",
    "    [\"WR71_Cell6_L5TT_constant_mean_exclude_obliques_from_hot_zone\", \"130\", \"0.015\"],\n",
    "    [\"WR71_Cell6_L5TT_constant_mean_exclude_obliques_from_hot_zone\", \"136\", \"0.01\"]\n",
    "]"
   ]
  },
  {
   "cell_type": "code",
   "execution_count": 523,
   "metadata": {},
   "outputs": [],
   "source": [
    "def load_posterior(str1, str2, str3):\n",
    "\n",
    "    filepath = f\"/home/michael/Documents/arco_sims/adaptive_box_posteriors2/{str1}_{str2}_{str3}.pickle\"\n",
    "\n",
    "    with open(filepath, \"rb\") as handle:\n",
    "        posterior = pickle.load(handle)\n",
    "\n",
    "    all_bounds_ = bounds.bounds_\n",
    "    bounds_ = all_bounds_[str1, str2]\n",
    "    upper_ = np.asarray(list(bounds_[\"max\"].values()))\n",
    "    lower_ = np.asarray(list(bounds_[\"min\"].values()))\n",
    "    gt_ = np.asarray(list(bounds_[\"value\"].values()))\n",
    "    limits = np.asarray([lower_, upper_]).T\n",
    "\n",
    "    condition = torch.as_tensor(gt_, dtype=torch.float32)\n",
    "    posterior.set_default_x(xo)\n",
    "\n",
    "    return posterior, condition, limits"
   ]
  },
  {
   "cell_type": "code",
   "execution_count": 524,
   "metadata": {},
   "outputs": [],
   "source": [
    "posterior, condition, limits = load_posterior(*string_pairs[0])"
   ]
  },
  {
   "cell_type": "code",
   "execution_count": 525,
   "metadata": {},
   "outputs": [
    {
     "data": {
      "application/vnd.jupyter.widget-view+json": {
       "model_id": "d79b8dd93c214050a15cce0ce73a3d84",
       "version_major": 2,
       "version_minor": 0
      },
      "text/plain": [
       "HBox(children=(FloatProgress(value=0.0, description='Drawing 10000 posterior samples', max=10000.0, style=Prog…"
      ]
     },
     "metadata": {},
     "output_type": "display_data"
    },
    {
     "name": "stdout",
     "output_type": "stream",
     "text": [
      "\n"
     ]
    }
   ],
   "source": [
    "samples = posterior.sample((10_000,))"
   ]
  },
  {
   "cell_type": "code",
   "execution_count": 526,
   "metadata": {},
   "outputs": [],
   "source": [
    "interesting_dims = [1, 2, 5, 7, 10, 17, 22, 24, 34]"
   ]
  },
  {
   "cell_type": "code",
   "execution_count": 527,
   "metadata": {},
   "outputs": [
    {
     "data": {
      "image/png": "[encoded data removed]",
      "text/plain": [
       "<Figure size 1440x144 with 9 Axes>"
      ]
     },
     "metadata": {},
     "output_type": "display_data"
    }
   ],
   "source": [
    "fraction_of_filled_space = []\n",
    "fig, ax = plt.subplots(1, len(interesting_dims), figsize=(20, 2))\n",
    "counter = 0\n",
    "for i in interesting_dims:\n",
    "    hist_vals = ax[counter].hist(samples[:, i].numpy(), bins=50, range=limits[i])\n",
    "    hist_vals_bigger_zero = np.asarray(hist_vals[0]) > 0\n",
    "    number_above_zero = np.sum(hist_vals_bigger_zero)\n",
    "    fraction_of_filled_space.append(number_above_zero / len(hist_vals[0]))\n",
    "    ax[counter].set_xlim(limits[i])\n",
    "    ax[counter].set_yticks([])\n",
    "    ax[counter].set_xticks([])\n",
    "    ax[counter].set_xlabel(f\"dim {i+1}\")\n",
    "    counter += 1"
   ]
  },
  {
   "cell_type": "code",
   "execution_count": 528,
   "metadata": {},
   "outputs": [
    {
     "data": {
      "image/png": "[encoded data removed]",
      "text/plain": [
       "<Figure size 1440x144 with 9 Axes>"
      ]
     },
     "metadata": {},
     "output_type": "display_data"
    }
   ],
   "source": [
    "fraction_of_filled_space = []\n",
    "fig, ax = plt.subplots(1, len(interesting_dims), figsize=(20,2))\n",
    "counter = 0\n",
    "limits_diffs = limits[:, 1] - limits[:, 0]\n",
    "eps_margins = limits_diffs / 1e5\n",
    "resolution=50\n",
    "for i in interesting_dims:\n",
    "    p_vector = eval_conditional_density(\n",
    "        posterior,\n",
    "        condition,\n",
    "        limits,\n",
    "        i,\n",
    "        i,\n",
    "        resolution=resolution,\n",
    "        eps_margins1=eps_margins[i],\n",
    "        eps_margins2=eps_margins[i],\n",
    "    )\n",
    "    ax[counter].plot(p_vector.numpy())\n",
    "    ax[counter].set_yticks([])\n",
    "    ax[counter].set_xticks([])\n",
    "    ax[counter].set_xlabel(f\"dim {i+1}\")\n",
    "    counter += 1"
   ]
  },
  {
   "cell_type": "code",
   "execution_count": 529,
   "metadata": {},
   "outputs": [],
   "source": [
    "figuresize = 0.9"
   ]
  },
  {
   "cell_type": "code",
   "execution_count": 530,
   "metadata": {},
   "outputs": [
    {
     "data": {
      "image/png": "[encoded data removed]",
      "text/plain": [
       "<Figure size 90x90 with 1 Axes>"
      ]
     },
     "metadata": {},
     "output_type": "display_data"
    }
   ],
   "source": [
    "with mpl.rc_context(fname=\".matplotlibrc\"):\n",
    "    fig, ax = plt.subplots(1, 1, figsize=(figuresize, figuresize))\n",
    "    counter = 0\n",
    "\n",
    "    i = 5\n",
    "    hist_vals = ax.hist(samples[:, i].numpy(), bins=50, range=limits[i], facecolor='k')\n",
    "    hist_vals_bigger_zero = np.asarray(hist_vals[0]) > 0\n",
    "    number_above_zero = np.sum(hist_vals_bigger_zero)\n",
    "    fraction_of_filled_space.append(number_above_zero / len(hist_vals[0]))\n",
    "    ax.set_xlim(limits[i])\n",
    "    ax.set_yticks([])\n",
    "    ax.set_xticks([])\n",
    "    ax.set_xlabel(f\"dim {i+1}\")\n",
    "    counter += 1\n",
    "    ax.set_xlabel(names_[i])\n",
    "    plt.savefig(\"fig_2a.svg\", facecolor='None', transparent=True)"
   ]
  },
  {
   "cell_type": "code",
   "execution_count": 531,
   "metadata": {},
   "outputs": [
    {
     "data": {
      "image/png": "[encoded data removed]",
      "text/plain": [
       "<Figure size 90x90 with 1 Axes>"
      ]
     },
     "metadata": {},
     "output_type": "display_data"
    }
   ],
   "source": [
    "with mpl.rc_context(fname=\".matplotlibrc\"):\n",
    "    fig, ax = plt.subplots(1, 1, figsize=(figuresize,figuresize))\n",
    "\n",
    "    i = 5\n",
    "    p_vector = eval_conditional_density(\n",
    "        posterior,\n",
    "        condition,\n",
    "        limits,\n",
    "        i,\n",
    "        i,\n",
    "        resolution=resolution,\n",
    "        eps_margins1=eps_margins[i],\n",
    "        eps_margins2=eps_margins[i],\n",
    "        return_raw_log_prob=True\n",
    "    )\n",
    "    max_of_pvector = torch.max(p_vector)\n",
    "    p_vector_exp = torch.exp(p_vector - max_of_pvector)\n",
    "    ax.plot(p_vector_exp.numpy(), c='r')\n",
    "    ax.set_yticks([])\n",
    "    ax.set_xticks([])\n",
    "\n",
    "    ax.set_ylim([0.0, torch.max(p_vector_exp).numpy()])\n",
    "    ax.set_xlabel(names_[i])\n",
    "    plt.savefig(\"fig_2b.svg\", facecolor='None', transparent=True)"
   ]
  },
  {
   "cell_type": "code",
   "execution_count": 532,
   "metadata": {},
   "outputs": [
    {
     "data": {
      "image/png": "[encoded data removed]",
      "text/plain": [
       "<Figure size 90x90 with 1 Axes>"
      ]
     },
     "metadata": {},
     "output_type": "display_data"
    }
   ],
   "source": [
    "with mpl.rc_context(fname=\".matplotlibrc\"):\n",
    "    fig, ax = plt.subplots(1, 1, figsize=(figuresize,figuresize))\n",
    "    counter = 0\n",
    "\n",
    "    i = 4\n",
    "    hist_vals = ax.hist(samples[:, i].numpy(), bins=50, range=limits[i], facecolor='k')\n",
    "    hist_vals_bigger_zero = np.asarray(hist_vals[0]) > 0\n",
    "    number_above_zero = np.sum(hist_vals_bigger_zero)\n",
    "    fraction_of_filled_space.append(number_above_zero / len(hist_vals[0]))\n",
    "    ax.set_xlim(limits[i])\n",
    "    ax.set_yticks([])\n",
    "    ax.set_xticks([])\n",
    "    ax.set_xlabel(f\"dim {i+1}\")\n",
    "    counter += 1\n",
    "    ax.set_xlabel(names_[i])\n",
    "    plt.savefig(\"fig_2c.svg\", facecolor='None', transparent=True)"
   ]
  },
  {
   "cell_type": "code",
   "execution_count": 533,
   "metadata": {},
   "outputs": [
    {
     "data": {
      "image/png": "[encoded data removed]",
      "text/plain": [
       "<Figure size 90x90 with 1 Axes>"
      ]
     },
     "metadata": {},
     "output_type": "display_data"
    }
   ],
   "source": [
    "with mpl.rc_context(fname=\".matplotlibrc\"):\n",
    "    fig, ax = plt.subplots(1, 1, figsize=(figuresize,figuresize))\n",
    "\n",
    "    i = 4\n",
    "    p_vector = eval_conditional_density(\n",
    "        posterior,\n",
    "        condition,\n",
    "        limits,\n",
    "        i,\n",
    "        i,\n",
    "        resolution=resolution,\n",
    "        eps_margins1=eps_margins[i],\n",
    "        eps_margins2=eps_margins[i],\n",
    "        return_raw_log_prob=True\n",
    "    )\n",
    "    max_of_pvector = torch.max(p_vector)\n",
    "    p_vector_exp = torch.exp(p_vector - max_of_pvector)\n",
    "    ax.plot(p_vector_exp.numpy(), c='r')\n",
    "    ax.set_yticks([])\n",
    "    ax.set_xticks([])\n",
    "\n",
    "    ax.set_ylim([0.0, torch.max(p_vector_exp).numpy()])\n",
    "    ax.set_xlabel(names_[i])\n",
    "    plt.savefig(\"fig_2d.svg\", facecolor='None', transparent=True)"
   ]
  },
  {
   "cell_type": "code",
   "execution_count": 594,
   "metadata": {},
   "outputs": [],
   "source": [
    "def obtain_fraction(posterior, condition, limits):\n",
    "\n",
    "    fraction_of_marginal = []\n",
    "    samples = posterior.sample((10_000,))\n",
    "\n",
    "    for i in range(35):\n",
    "        hist_vals = np.histogram(samples[:, i].numpy(), bins=50, range=limits[i])\n",
    "        hist_vals_bigger_zero = np.asarray(hist_vals[0]) > 0\n",
    "        number_above_zero = np.sum(hist_vals_bigger_zero)\n",
    "        fraction_of_marginal.append(number_above_zero / len(hist_vals[0]))\n",
    "\n",
    "    log_prob_of_condition = posterior.log_prob(condition)\n",
    "    limits_diffs = limits[:, 1] - limits[:, 0]\n",
    "    eps_margins = limits_diffs / 1e5\n",
    "\n",
    "    row = 0\n",
    "    resolution = 50\n",
    "\n",
    "    all_log_prob_vecs = []\n",
    "    for row in range(35):\n",
    "        p_vector = eval_conditional_density(\n",
    "            posterior,\n",
    "            condition,\n",
    "            limits,\n",
    "            row,\n",
    "            row,\n",
    "            resolution=resolution,\n",
    "            eps_margins1=eps_margins[row],\n",
    "            eps_margins2=eps_margins[row],\n",
    "            return_raw_log_prob=True\n",
    "        )\n",
    "        all_log_prob_vecs.append(p_vector)\n",
    "    all_log_prob_vecs = torch.stack(all_log_prob_vecs)\n",
    "\n",
    "    max_val = log_prob_of_condition\n",
    "    all_log_prob_vecs_norm = torch.exp(all_log_prob_vecs - max_val)\n",
    "    scaled_prob_of_condition = torch.exp(log_prob_of_condition - max_val)\n",
    "\n",
    "    above_thr = all_log_prob_vecs_norm > scaled_prob_of_condition / 20.0\n",
    "    fractions_1d_cond = torch.sum(above_thr, axis=1) / resolution\n",
    "    \n",
    "    return fractions_1d_cond, fraction_of_marginal"
   ]
  },
  {
   "cell_type": "code",
   "execution_count": 595,
   "metadata": {},
   "outputs": [
    {
     "name": "stdout",
     "output_type": "stream",
     "text": [
      "s ['84', '7712997831240842', '0.015']\n"
     ]
    },
    {
     "data": {
      "application/vnd.jupyter.widget-view+json": {
       "model_id": "e76045f61ebd41a9aa9196d0b91b62d0",
       "version_major": 2,
       "version_minor": 0
      },
      "text/plain": [
       "HBox(children=(FloatProgress(value=0.0, description='Drawing 10000 posterior samples', max=10000.0, style=Prog…"
      ]
     },
     "metadata": {},
     "output_type": "display_data"
    },
    {
     "name": "stdout",
     "output_type": "stream",
     "text": [
      "\n",
      "s ['85', '1', '0.02']\n"
     ]
    },
    {
     "data": {
      "application/vnd.jupyter.widget-view+json": {
       "model_id": "c1e1fd1def0d43b38a4cf3186c94ad4c",
       "version_major": 2,
       "version_minor": 0
      },
      "text/plain": [
       "HBox(children=(FloatProgress(value=0.0, description='Drawing 10000 posterior samples', max=10000.0, style=Prog…"
      ]
     },
     "metadata": {},
     "output_type": "display_data"
    },
    {
     "name": "stdout",
     "output_type": "stream",
     "text": [
      "\n",
      "s ['85', '5', '0.015']\n"
     ]
    },
    {
     "data": {
      "application/vnd.jupyter.widget-view+json": {
       "model_id": "04d3c8c9600c46399a9d0f71c6fe585f",
       "version_major": 2,
       "version_minor": 0
      },
      "text/plain": [
       "HBox(children=(FloatProgress(value=0.0, description='Drawing 10000 posterior samples', max=10000.0, style=Prog…"
      ]
     },
     "metadata": {},
     "output_type": "display_data"
    },
    {
     "name": "stdout",
     "output_type": "stream",
     "text": [
      "\n",
      "s ['86', '6', '0.005']\n"
     ]
    },
    {
     "data": {
      "application/vnd.jupyter.widget-view+json": {
       "model_id": "c4a2e2c5b0044dce93e19c6bc004ecab",
       "version_major": 2,
       "version_minor": 0
      },
      "text/plain": [
       "HBox(children=(FloatProgress(value=0.0, description='Drawing 10000 posterior samples', max=10000.0, style=Prog…"
      ]
     },
     "metadata": {},
     "output_type": "display_data"
    },
    {
     "name": "stdout",
     "output_type": "stream",
     "text": [
      "\n",
      "s ['86', '707527054352652', '0.01']\n"
     ]
    },
    {
     "data": {
      "application/vnd.jupyter.widget-view+json": {
       "model_id": "6f320d481c3948f0a0c4d85a0adb4625",
       "version_major": 2,
       "version_minor": 0
      },
      "text/plain": [
       "HBox(children=(FloatProgress(value=0.0, description='Drawing 10000 posterior samples', max=10000.0, style=Prog…"
      ]
     },
     "metadata": {},
     "output_type": "display_data"
    },
    {
     "name": "stdout",
     "output_type": "stream",
     "text": [
      "\n",
      "s ['87', '550434680389613', '0.005']\n"
     ]
    },
    {
     "data": {
      "application/vnd.jupyter.widget-view+json": {
       "model_id": "c4376b002da34574869d0881ebd09463",
       "version_major": 2,
       "version_minor": 0
      },
      "text/plain": [
       "HBox(children=(FloatProgress(value=0.0, description='Drawing 10000 posterior samples', max=10000.0, style=Prog…"
      ]
     },
     "metadata": {},
     "output_type": "display_data"
    },
    {
     "name": "stdout",
     "output_type": "stream",
     "text": [
      "\n",
      "s ['87', '73418029210004229', '0.005']\n"
     ]
    },
    {
     "data": {
      "application/vnd.jupyter.widget-view+json": {
       "model_id": "cbdf4d913b0a41a0ae810ac873d369e0",
       "version_major": 2,
       "version_minor": 0
      },
      "text/plain": [
       "HBox(children=(FloatProgress(value=0.0, description='Drawing 10000 posterior samples', max=10000.0, style=Prog…"
      ]
     },
     "metadata": {},
     "output_type": "display_data"
    },
    {
     "name": "stdout",
     "output_type": "stream",
     "text": [
      "\n",
      "s ['88', '59997244694401254', '0.015']\n"
     ]
    },
    {
     "data": {
      "application/vnd.jupyter.widget-view+json": {
       "model_id": "e50e5e849faa49fa99cd29ebe88ffc9f",
       "version_major": 2,
       "version_minor": 0
      },
      "text/plain": [
       "HBox(children=(FloatProgress(value=0.0, description='Drawing 10000 posterior samples', max=10000.0, style=Prog…"
      ]
     },
     "metadata": {},
     "output_type": "display_data"
    },
    {
     "name": "stdout",
     "output_type": "stream",
     "text": [
      "\n",
      "s ['88', '86940691440007411', '0.01']\n"
     ]
    },
    {
     "data": {
      "application/vnd.jupyter.widget-view+json": {
       "model_id": "a599889010eb4cd1be42339eedfbb3da",
       "version_major": 2,
       "version_minor": 0
      },
      "text/plain": [
       "HBox(children=(FloatProgress(value=0.0, description='Drawing 10000 posterior samples', max=10000.0, style=Prog…"
      ]
     },
     "metadata": {},
     "output_type": "display_data"
    },
    {
     "name": "stdout",
     "output_type": "stream",
     "text": [
      "\n",
      "s ['88', '90233447606250669', '0.005']\n"
     ]
    },
    {
     "data": {
      "application/vnd.jupyter.widget-view+json": {
       "model_id": "6b4ca2e8b5cd4571977f2cf42567303a",
       "version_major": 2,
       "version_minor": 0
      },
      "text/plain": [
       "HBox(children=(FloatProgress(value=0.0, description='Drawing 10000 posterior samples', max=10000.0, style=Prog…"
      ]
     },
     "metadata": {},
     "output_type": "display_data"
    },
    {
     "name": "stdout",
     "output_type": "stream",
     "text": [
      "\n",
      "s ['89', '1506562604769867', '0.02']\n"
     ]
    },
    {
     "data": {
      "application/vnd.jupyter.widget-view+json": {
       "model_id": "762df2e80e994e87a2a085ea28bce79d",
       "version_major": 2,
       "version_minor": 0
      },
      "text/plain": [
       "HBox(children=(FloatProgress(value=0.0, description='Drawing 10000 posterior samples', max=10000.0, style=Prog…"
      ]
     },
     "metadata": {},
     "output_type": "display_data"
    },
    {
     "name": "stdout",
     "output_type": "stream",
     "text": [
      "\n",
      "s ['89', '49992413252944133', '0.02']\n"
     ]
    },
    {
     "data": {
      "application/vnd.jupyter.widget-view+json": {
       "model_id": "e4cebbbd23304d988f8f59934a46aed5",
       "version_major": 2,
       "version_minor": 0
      },
      "text/plain": [
       "HBox(children=(FloatProgress(value=0.0, description='Drawing 10000 posterior samples', max=10000.0, style=Prog…"
      ]
     },
     "metadata": {},
     "output_type": "display_data"
    },
    {
     "name": "stdout",
     "output_type": "stream",
     "text": [
      "\n",
      "s ['89', '98394633867104423', '0.025']\n"
     ]
    },
    {
     "data": {
      "application/vnd.jupyter.widget-view+json": {
       "model_id": "4c88ddceafae43528554cd49a8f9edb0",
       "version_major": 2,
       "version_minor": 0
      },
      "text/plain": [
       "HBox(children=(FloatProgress(value=0.0, description='Drawing 10000 posterior samples', max=10000.0, style=Prog…"
      ]
     },
     "metadata": {},
     "output_type": "display_data"
    },
    {
     "name": "stdout",
     "output_type": "stream",
     "text": [
      "\n",
      "s ['91', '5', '0.03']\n"
     ]
    },
    {
     "data": {
      "application/vnd.jupyter.widget-view+json": {
       "model_id": "fb8cb6ad626f44e8af82eb1398c14295",
       "version_major": 2,
       "version_minor": 0
      },
      "text/plain": [
       "HBox(children=(FloatProgress(value=0.0, description='Drawing 10000 posterior samples', max=10000.0, style=Prog…"
      ]
     },
     "metadata": {},
     "output_type": "display_data"
    },
    {
     "name": "stdout",
     "output_type": "stream",
     "text": [
      "\n",
      "s ['91', '63065090307991878', '0.045']\n"
     ]
    },
    {
     "data": {
      "application/vnd.jupyter.widget-view+json": {
       "model_id": "6ea8ba6af34e4831b1b31e548e792e96",
       "version_major": 2,
       "version_minor": 0
      },
      "text/plain": [
       "HBox(children=(FloatProgress(value=0.0, description='Drawing 10000 posterior samples', max=10000.0, style=Prog…"
      ]
     },
     "metadata": {},
     "output_type": "display_data"
    },
    {
     "name": "stdout",
     "output_type": "stream",
     "text": [
      "\n",
      "s ['93', '49588549670578687', '0.01']\n"
     ]
    },
    {
     "data": {
      "application/vnd.jupyter.widget-view+json": {
       "model_id": "57a1806f96e345468b6ed4bda03dc9fe",
       "version_major": 2,
       "version_minor": 0
      },
      "text/plain": [
       "HBox(children=(FloatProgress(value=0.0, description='Drawing 10000 posterior samples', max=10000.0, style=Prog…"
      ]
     },
     "metadata": {},
     "output_type": "display_data"
    },
    {
     "name": "stdout",
     "output_type": "stream",
     "text": [
      "\n",
      "s ['WR64_Cell8_L5TT_constant_mean_max_dendscale_2.0', '94', '0.01']\n"
     ]
    },
    {
     "data": {
      "application/vnd.jupyter.widget-view+json": {
       "model_id": "6c964723564e47609b219d42acca537f",
       "version_major": 2,
       "version_minor": 0
      },
      "text/plain": [
       "HBox(children=(FloatProgress(value=0.0, description='Drawing 10000 posterior samples', max=10000.0, style=Prog…"
      ]
     },
     "metadata": {},
     "output_type": "display_data"
    },
    {
     "name": "stdout",
     "output_type": "stream",
     "text": [
      "\n",
      "s ['WR64_Cell8_L5TT_constant_mean_max_dendscale_2.0', '96', '0.01']\n"
     ]
    },
    {
     "data": {
      "application/vnd.jupyter.widget-view+json": {
       "model_id": "e0432d041ae84425a0782bc57091fc8d",
       "version_major": 2,
       "version_minor": 0
      },
      "text/plain": [
       "HBox(children=(FloatProgress(value=0.0, description='Drawing 10000 posterior samples', max=10000.0, style=Prog…"
      ]
     },
     "metadata": {},
     "output_type": "display_data"
    },
    {
     "name": "stdout",
     "output_type": "stream",
     "text": [
      "\n",
      "s ['WR64_Cell8_L5TT_constant_mean_max_dendscale_2.5', '81', '0.015']\n"
     ]
    },
    {
     "data": {
      "application/vnd.jupyter.widget-view+json": {
       "model_id": "6a4b8a13ddd349db9c75fc3a4d94d743",
       "version_major": 2,
       "version_minor": 0
      },
      "text/plain": [
       "HBox(children=(FloatProgress(value=0.0, description='Drawing 10000 posterior samples', max=10000.0, style=Prog…"
      ]
     },
     "metadata": {},
     "output_type": "display_data"
    },
    {
     "name": "stdout",
     "output_type": "stream",
     "text": [
      "\n",
      "s ['WR64_Cell8_L5TT_constant_mean_max_dendscale_2.5', '84', '0.03']\n"
     ]
    },
    {
     "data": {
      "application/vnd.jupyter.widget-view+json": {
       "model_id": "aaf3d648b61f470c94fc8d58e15f4ba9",
       "version_major": 2,
       "version_minor": 0
      },
      "text/plain": [
       "HBox(children=(FloatProgress(value=0.0, description='Drawing 10000 posterior samples', max=10000.0, style=Prog…"
      ]
     },
     "metadata": {},
     "output_type": "display_data"
    },
    {
     "name": "stdout",
     "output_type": "stream",
     "text": [
      "\n",
      "s ['WR69_Cell2_L5TT_mean', '1', '0.005']\n"
     ]
    },
    {
     "data": {
      "application/vnd.jupyter.widget-view+json": {
       "model_id": "bc72fa69a24044a7a6e2cf237f4fe1f1",
       "version_major": 2,
       "version_minor": 0
      },
      "text/plain": [
       "HBox(children=(FloatProgress(value=0.0, description='Drawing 10000 posterior samples', max=10000.0, style=Prog…"
      ]
     },
     "metadata": {},
     "output_type": "display_data"
    },
    {
     "name": "stdout",
     "output_type": "stream",
     "text": [
      "\n",
      "s ['WR69_Cell2_L5TT_mean', '32', '0.01']\n"
     ]
    },
    {
     "data": {
      "application/vnd.jupyter.widget-view+json": {
       "model_id": "c77c4d53baf54059b3708ef5cfcdce37",
       "version_major": 2,
       "version_minor": 0
      },
      "text/plain": [
       "HBox(children=(FloatProgress(value=0.0, description='Drawing 10000 posterior samples', max=10000.0, style=Prog…"
      ]
     },
     "metadata": {},
     "output_type": "display_data"
    },
    {
     "name": "stdout",
     "output_type": "stream",
     "text": [
      "\n",
      "s ['WR69_Cell2_L5TT_medfilt', '1', '0.005']\n"
     ]
    },
    {
     "data": {
      "application/vnd.jupyter.widget-view+json": {
       "model_id": "34aacb17c2244cdb8754de1e33de578d",
       "version_major": 2,
       "version_minor": 0
      },
      "text/plain": [
       "HBox(children=(FloatProgress(value=0.0, description='Drawing 10000 posterior samples', max=10000.0, style=Prog…"
      ]
     },
     "metadata": {},
     "output_type": "display_data"
    },
    {
     "name": "stdout",
     "output_type": "stream",
     "text": [
      "\n",
      "s ['WR69_Cell2_L5TT_medfilt', '6', '0.01']\n"
     ]
    },
    {
     "data": {
      "application/vnd.jupyter.widget-view+json": {
       "model_id": "28ae93e792674dc79a139878a0304b21",
       "version_major": 2,
       "version_minor": 0
      },
      "text/plain": [
       "HBox(children=(FloatProgress(value=0.0, description='Drawing 10000 posterior samples', max=10000.0, style=Prog…"
      ]
     },
     "metadata": {},
     "output_type": "display_data"
    },
    {
     "name": "stdout",
     "output_type": "stream",
     "text": [
      "\n",
      "s ['WR71_Cell6_L5TT_constant_mean', '104', '0.02']\n"
     ]
    },
    {
     "data": {
      "application/vnd.jupyter.widget-view+json": {
       "model_id": "27d7ee7f3e9044dda65ab23bb3b9c0ec",
       "version_major": 2,
       "version_minor": 0
      },
      "text/plain": [
       "HBox(children=(FloatProgress(value=0.0, description='Drawing 10000 posterior samples', max=10000.0, style=Prog…"
      ]
     },
     "metadata": {},
     "output_type": "display_data"
    },
    {
     "name": "stdout",
     "output_type": "stream",
     "text": [
      "\n",
      "s ['WR71_Cell6_L5TT_constant_mean', '120', '0.015']\n"
     ]
    },
    {
     "data": {
      "application/vnd.jupyter.widget-view+json": {
       "model_id": "5ec93d31765f47c382291a7567ae654c",
       "version_major": 2,
       "version_minor": 0
      },
      "text/plain": [
       "HBox(children=(FloatProgress(value=0.0, description='Drawing 10000 posterior samples', max=10000.0, style=Prog…"
      ]
     },
     "metadata": {},
     "output_type": "display_data"
    },
    {
     "name": "stdout",
     "output_type": "stream",
     "text": [
      "\n",
      "s ['WR71_Cell6_L5TT_constant_mean_exclude_obliques_from_hot_zone', '130', '0.015']\n"
     ]
    },
    {
     "data": {
      "application/vnd.jupyter.widget-view+json": {
       "model_id": "88afdeb8b4014ff7ad8e5822885761e4",
       "version_major": 2,
       "version_minor": 0
      },
      "text/plain": [
       "HBox(children=(FloatProgress(value=0.0, description='Drawing 10000 posterior samples', max=10000.0, style=Prog…"
      ]
     },
     "metadata": {},
     "output_type": "display_data"
    },
    {
     "name": "stdout",
     "output_type": "stream",
     "text": [
      "\n",
      "s ['WR71_Cell6_L5TT_constant_mean_exclude_obliques_from_hot_zone', '136', '0.01']\n"
     ]
    },
    {
     "data": {
      "application/vnd.jupyter.widget-view+json": {
       "model_id": "3bb443e45cdc45a2a090d0c554d39270",
       "version_major": 2,
       "version_minor": 0
      },
      "text/plain": [
       "HBox(children=(FloatProgress(value=0.0, description='Drawing 10000 posterior samples', max=10000.0, style=Prog…"
      ]
     },
     "metadata": {},
     "output_type": "display_data"
    },
    {
     "name": "stdout",
     "output_type": "stream",
     "text": [
      "\n"
     ]
    }
   ],
   "source": [
    "all_fractions_1d_cond = []\n",
    "all_fraction_of_marginal = []\n",
    "\n",
    "for s in string_pairs:\n",
    "    print(\"s\", s)\n",
    "    start_time = time.time()\n",
    "    posterior, condition, limits = load_posterior(*s)\n",
    "    fractions_1d_cond, fraction_of_marginal = obtain_fraction(posterior, condition, limits)\n",
    "    all_fractions_1d_cond.append(fractions_1d_cond.numpy())\n",
    "    all_fraction_of_marginal.append(np.asarray(fraction_of_marginal))\n",
    "\n",
    "all_fractions_1d_cond = np.asarray(all_fractions_1d_cond)\n",
    "all_fraction_of_marginal = np.asarray(all_fraction_of_marginal)"
   ]
  },
  {
   "cell_type": "code",
   "execution_count": 596,
   "metadata": {},
   "outputs": [],
   "source": [
    "a_names = []\n",
    "s_names = []\n",
    "ax_names = []\n",
    "for i, n in enumerate(names_):\n",
    "    if n.startswith(\"s\"):\n",
    "        s_names.append(i)\n",
    "    if n.startswith(\"ax\"):\n",
    "        ax_names.append(i)\n",
    "    elif n.startswith(\"a\"):\n",
    "        a_names.append(i)\n",
    "\n",
    "s_names = np.asarray(s_names)\n",
    "ax_names = np.asarray(ax_names)\n",
    "a_names = np.asarray(a_names)"
   ]
  },
  {
   "cell_type": "code",
   "execution_count": 597,
   "metadata": {},
   "outputs": [
    {
     "data": {
      "image/png": "[encoded data removed]",
      "text/plain": [
       "<Figure size 220x100 with 1 Axes>"
      ]
     },
     "metadata": {},
     "output_type": "display_data"
    }
   ],
   "source": [
    "height = 1.0\n",
    "with mpl.rc_context(fname=\".matplotlibrc\"):\n",
    "\n",
    "    fig, ax = plt.subplots(1, 1, figsize=(2.2, height))\n",
    "    c = 'r'\n",
    "    ax.boxplot(\n",
    "        all_fractions_1d_cond[:, a_names],\n",
    "        positions=np.arange(len(a_names))+1.0,\n",
    "        widths=0.2, \n",
    "        patch_artist=True,\n",
    "        boxprops=dict(facecolor=c, color=c),\n",
    "        capprops=dict(color=c),\n",
    "        whiskerprops=dict(color=c),\n",
    "        flierprops=dict(color=c, markeredgecolor=c),\n",
    "        medianprops=dict(color=c),\n",
    "        showfliers=False\n",
    "    )\n",
    "    c = 'k'\n",
    "    ax.boxplot(\n",
    "        all_fraction_of_marginal[:, a_names],\n",
    "        positions=np.arange(len(a_names))-0.3+1.0,\n",
    "        widths=0.2, \n",
    "        patch_artist=True,\n",
    "        boxprops=dict(facecolor=c, color=c),\n",
    "        capprops=dict(color=c),\n",
    "        whiskerprops=dict(color=c),\n",
    "        flierprops=dict(color=c, markeredgecolor=c),\n",
    "        medianprops=dict(color=c),\n",
    "        showfliers=False\n",
    "    )\n",
    "#     ax.bar(np.arange(len(a_names))-0.3+1.0, np.asarray(fraction_of_marginal)[a_names], width=0.3)\n",
    "    ax.set_ylabel(\"Fraction of\\nfilled space\")\n",
    "    ax.set_xlim([0.4, len(a_names)+0.5])\n",
    "    ax.set_xticks(np.arange(1, 1+len(a_names)))\n",
    "    ax.set_title(\"Apical parameters\")\n",
    "    ax.set_ylim([0.0, 1.0])\n",
    "    ax.set_xticklabels(np.asarray(names_)[a_names], rotation=90)\n",
    "    plt.savefig(\"fig_3a.svg\", facecolor='None', transparent=True)\n",
    "    plt.show()"
   ]
  },
  {
   "cell_type": "code",
   "execution_count": 598,
   "metadata": {},
   "outputs": [
    {
     "data": {
      "image/png": "[encoded data removed]",
      "text/plain": [
       "<Figure size 220x100 with 1 Axes>"
      ]
     },
     "metadata": {},
     "output_type": "display_data"
    }
   ],
   "source": [
    "with mpl.rc_context(fname=\".matplotlibrc\"):\n",
    "\n",
    "    fig, ax = plt.subplots(1, 1, figsize=(2.2, height))\n",
    "    c = 'r'\n",
    "    ax.boxplot(\n",
    "        all_fractions_1d_cond[:, ax_names],\n",
    "        positions=np.arange(len(ax_names))+1.0,\n",
    "        widths=0.2, \n",
    "        patch_artist=True,\n",
    "        boxprops=dict(facecolor=c, color=c),\n",
    "        capprops=dict(color=c),\n",
    "        whiskerprops=dict(color=c),\n",
    "        flierprops=dict(color=c, markeredgecolor=c),\n",
    "        medianprops=dict(color=c),\n",
    "        showfliers=False\n",
    "    )\n",
    "    c = 'k'\n",
    "    ax.boxplot(\n",
    "        all_fraction_of_marginal[:, ax_names],\n",
    "        positions=np.arange(len(ax_names))-0.3+1.0,\n",
    "        widths=0.2, \n",
    "        patch_artist=True,\n",
    "        boxprops=dict(facecolor=c, color=c),\n",
    "        capprops=dict(color=c),\n",
    "        whiskerprops=dict(color=c),\n",
    "        flierprops=dict(color=c, markeredgecolor=c),\n",
    "        medianprops=dict(color=c),\n",
    "        showfliers=False\n",
    "    )\n",
    "#     ax.bar(np.arange(len(a_names))-0.3+1.0, np.asarray(fraction_of_marginal)[a_names], width=0.3)\n",
    "    ax.set_xlim([0.4, len(ax_names)+0.5])\n",
    "    ax.set_yticks([])\n",
    "    ax.set_ylim([0.0, 1.0])\n",
    "    ax.set_xticks(np.arange(1, 1+len(ax_names)))\n",
    "    ax.set_title(\"Axonal parameters\")\n",
    "    ax.set_xticklabels(np.asarray(names_)[ax_names], rotation=90)\n",
    "    plt.savefig(\"fig_3b.svg\", facecolor='None', transparent=True)\n",
    "    plt.show()"
   ]
  },
  {
   "cell_type": "code",
   "execution_count": 599,
   "metadata": {},
   "outputs": [
    {
     "data": {
      "image/png": "[encoded data removed]",
      "text/plain": [
       "<Figure size 220x100 with 1 Axes>"
      ]
     },
     "metadata": {},
     "output_type": "display_data"
    }
   ],
   "source": [
    "with mpl.rc_context(fname=\".matplotlibrc\"):\n",
    "\n",
    "    fig, ax = plt.subplots(1, 1, figsize=(2.2, height))\n",
    "    c = 'r'\n",
    "    ax.boxplot(\n",
    "        all_fractions_1d_cond[:, s_names],\n",
    "        positions=np.arange(len(s_names))+1.0,\n",
    "        widths=0.2, \n",
    "        patch_artist=True,\n",
    "        boxprops=dict(facecolor=c, color=c),\n",
    "        capprops=dict(color=c),\n",
    "        whiskerprops=dict(color=c),\n",
    "        flierprops=dict(color=c, markeredgecolor=c),\n",
    "        medianprops=dict(color=c),\n",
    "        showfliers=False\n",
    "    )\n",
    "    c = 'k'\n",
    "    ax.boxplot(\n",
    "        all_fraction_of_marginal[:, s_names],\n",
    "        positions=np.arange(len(s_names))-0.3+1.0,\n",
    "        widths=0.2, \n",
    "        patch_artist=True,\n",
    "        boxprops=dict(facecolor=c, color=c),\n",
    "        capprops=dict(color=c),\n",
    "        whiskerprops=dict(color=c),\n",
    "        flierprops=dict(color=c, markeredgecolor=c),\n",
    "        medianprops=dict(color=c),\n",
    "        showfliers=False\n",
    "    )\n",
    "#     ax.bar(np.arange(len(a_names))-0.3+1.0, np.asarray(fraction_of_marginal)[a_names], width=0.3)\n",
    "    ax.set_yticks([])\n",
    "    ax.set_xlim([0.4, len(s_names)+0.5])\n",
    "    ax.set_ylim([0.0, 1.0])\n",
    "    ax.set_xticks(np.arange(1, 1+len(s_names)))\n",
    "    ax.set_title(\"Somatic parameters\")\n",
    "    ax.set_xticklabels(np.asarray(names_)[s_names], rotation=90)\n",
    "    plt.savefig(\"fig_3c.svg\", facecolor='None', transparent=True)\n",
    "    plt.show()"
   ]
  },
  {
   "cell_type": "markdown",
   "metadata": {},
   "source": [
    "# Moving on to 2D conditionals"
   ]
  },
  {
   "cell_type": "markdown",
   "metadata": {},
   "source": [
    "### First configuration"
   ]
  },
  {
   "cell_type": "code",
   "execution_count": 457,
   "metadata": {},
   "outputs": [],
   "source": [
    "posterior, condition, limits = load_posterior(*string_pairs[-1])\n",
    "\n",
    "dim1 = 29\n",
    "dim2 = 17\n",
    "limits_diffs = limits[:, 1] - limits[:, 0]\n",
    "eps_margins = limits_diffs / 1e5\n",
    "\n",
    "p_matrix = eval_conditional_density(\n",
    "    posterior,\n",
    "    condition,\n",
    "    limits,\n",
    "    dim1,\n",
    "    dim2,\n",
    "    resolution=resolution,\n",
    "    eps_margins1=eps_margins[dim1],\n",
    "    eps_margins2=eps_margins[dim2],\n",
    ")"
   ]
  },
  {
   "cell_type": "code",
   "execution_count": 458,
   "metadata": {},
   "outputs": [
    {
     "data": {
      "image/png": "[encoded data removed]",
      "text/plain": [
       "<Figure size 350x100 with 1 Axes>"
      ]
     },
     "metadata": {},
     "output_type": "display_data"
    }
   ],
   "source": [
    "with mpl.rc_context(fname=\".matplotlibrc\"):\n",
    "\n",
    "    fig, ax = plt.subplots(1, 1, figsize=(3.5, height))\n",
    "    plt.imshow(p_matrix, origin=\"lower\")\n",
    "    ax.set_xticks([])\n",
    "    ax.set_yticks([])\n",
    "    ax.set_xlabel(names_[dim1])\n",
    "    ax.set_ylabel(names_[dim2])\n",
    "    \n",
    "    ax.set_title(\"Config. WR71_130\")\n",
    "    plt.savefig(\"fig_4a.svg\", facecolor='None', transparent=True)"
   ]
  },
  {
   "cell_type": "markdown",
   "metadata": {},
   "source": [
    "### Second configuration"
   ]
  },
  {
   "cell_type": "code",
   "execution_count": 459,
   "metadata": {},
   "outputs": [],
   "source": [
    "posterior, condition, limits = load_posterior(*string_pairs[-2])\n",
    "\n",
    "dim1 = 29\n",
    "dim2 = 17\n",
    "limits_diffs = limits[:, 1] - limits[:, 0]\n",
    "eps_margins = limits_diffs / 1e5\n",
    "\n",
    "p_matrix = eval_conditional_density(\n",
    "    posterior,\n",
    "    condition,\n",
    "    limits,\n",
    "    dim1,\n",
    "    dim2,\n",
    "    resolution=resolution,\n",
    "    eps_margins1=eps_margins[dim1],\n",
    "    eps_margins2=eps_margins[dim2],\n",
    ")"
   ]
  },
  {
   "cell_type": "code",
   "execution_count": 460,
   "metadata": {},
   "outputs": [
    {
     "data": {
      "image/png": "[encoded data removed]",
      "text/plain": [
       "<Figure size 350x100 with 1 Axes>"
      ]
     },
     "metadata": {},
     "output_type": "display_data"
    }
   ],
   "source": [
    "with mpl.rc_context(fname=\".matplotlibrc\"):\n",
    "\n",
    "    fig, ax = plt.subplots(1, 1, figsize=(3.5, height))\n",
    "    plt.imshow(p_matrix, origin=\"lower\")\n",
    "    ax.set_xticks([])\n",
    "    ax.set_yticks([])\n",
    "    ax.set_xlabel(names_[dim1])\n",
    "    ax.set_ylabel(names_[dim2])\n",
    "    ax.set_title(\"Config. WR71_136\")\n",
    "    plt.savefig(\"fig_4b.svg\", facecolor='None', transparent=True)"
   ]
  },
  {
   "cell_type": "markdown",
   "metadata": {},
   "source": [
    "### Different morphology"
   ]
  },
  {
   "cell_type": "code",
   "execution_count": 461,
   "metadata": {},
   "outputs": [],
   "source": [
    "posterior, condition, limits = load_posterior(*string_pairs[-16])\n",
    "\n",
    "dim1 = 29\n",
    "dim2 = 17\n",
    "limits_diffs = limits[:, 1] - limits[:, 0]\n",
    "eps_margins = limits_diffs / 1e5\n",
    "\n",
    "p_matrix = eval_conditional_density(\n",
    "    posterior,\n",
    "    condition,\n",
    "    limits,\n",
    "    dim1,\n",
    "    dim2,\n",
    "    resolution=resolution,\n",
    "    eps_margins1=eps_margins[dim1],\n",
    "    eps_margins2=eps_margins[dim2],\n",
    ")"
   ]
  },
  {
   "cell_type": "code",
   "execution_count": 462,
   "metadata": {},
   "outputs": [
    {
     "data": {
      "image/png": "[encoded data removed]",
      "text/plain": [
       "<Figure size 350x100 with 1 Axes>"
      ]
     },
     "metadata": {},
     "output_type": "display_data"
    }
   ],
   "source": [
    "with mpl.rc_context(fname=\".matplotlibrc\"):\n",
    "\n",
    "    fig, ax = plt.subplots(1, 1, figsize=(3.5, height))\n",
    "    plt.imshow(p_matrix, origin=\"lower\")\n",
    "    ax.set_xticks([])\n",
    "    ax.set_yticks([])\n",
    "    ax.set_xlabel(names_[dim1])\n",
    "    ax.set_ylabel(names_[dim2])\n",
    "    ax.set_title(\"Config. 89_983\")\n",
    "    plt.savefig(\"fig_4c.svg\", facecolor='None', transparent=True)"
   ]
  },
  {
   "cell_type": "markdown",
   "metadata": {},
   "source": [
    "### Analyse correlation"
   ]
  },
  {
   "cell_type": "code",
   "execution_count": 142,
   "metadata": {},
   "outputs": [],
   "source": [
    "all_corrcoeffs_ = np.load(\"all_corrcoeffs.npy\")"
   ]
  },
  {
   "cell_type": "code",
   "execution_count": 573,
   "metadata": {},
   "outputs": [],
   "source": [
    "most_interesting = [\"s.Na_p\", \"s.K_t\", \"s.Kv_3.1\", \"ax.K_t\", \"ax.Y\", \"a.SK\", \"a.scale\"]\n",
    "most_interesting = [\"s.Na_p\", \"s.K_t\", \"s.Kv_3.1\", \"ax.K_t\", \"ax.Y\", \"a.SK\", \"a.scale\"]\n",
    "most_interesting= [\"a.SK\", \"a.scale\", \"ax.K_t\", \"ax.Y\", \"s.Na_p\", \"s.K_t\", \"s.Kv_3.1\"]\n",
    "second_most = [\"s.Y\", \"ax.Na_t\", \"ax.Kv_3.1\"]"
   ]
  },
  {
   "cell_type": "code",
   "execution_count": 574,
   "metadata": {},
   "outputs": [],
   "source": [
    "inds = [names_.index(m) for m in most_interesting]"
   ]
  },
  {
   "cell_type": "code",
   "execution_count": 586,
   "metadata": {},
   "outputs": [
    {
     "data": {
      "image/png": "[encoded data removed]",
      "text/plain": [
       "<Figure size 600x70 with 7 Axes>"
      ]
     },
     "metadata": {},
     "output_type": "display_data"
    }
   ],
   "source": [
    "with mpl.rc_context(fname=\".matplotlibrc\"):\n",
    "    fig, ax = plt.subplots(1, len(inds), figsize=(6, 0.7))\n",
    "    for counter, i in enumerate(inds):\n",
    "        average_corrcoeff = np.mean(all_corrcoeffs_, axis=0)\n",
    "        average_corrcoeff[average_corrcoeff == 1.0] = 0.0\n",
    "\n",
    "        best_mechanism = np.argmax(np.abs(average_corrcoeff[i]))\n",
    "\n",
    "        all_comp_correlations = all_corrcoeffs_[:, i, best_mechanism]\n",
    "        ax[counter].hist(all_comp_correlations)\n",
    "        ax[counter].set_xlim([-1,1])\n",
    "        ax[counter].set_title(names_[i]+\"\\n comp. by\\n\"+names_[best_mechanism])\n",
    "        ax[counter].set_yticks([])\n",
    "        ax[counter].set_xticks([-1, 1])\n",
    "        ax[counter].set_xticklabels([\"   -1\", \"1 \"])\n",
    "    ax[0].set_ylabel(\"Counts\")\n",
    "    ax[3].set_xlabel(\"Pearson correlation coefficient\")\n",
    "#     plt.subplots_adjust(wspace=0.4)\n",
    "    plt.savefig(\"fig_5.svg\", facecolor='None', transparent=True)\n",
    "    plt.show()"
   ]
  },
  {
   "cell_type": "code",
   "execution_count": 604,
   "metadata": {},
   "outputs": [
    {
     "ename": "AttributeError",
     "evalue": "'numpy.ndarray' object has no attribute 'hist'",
     "output_type": "error",
     "traceback": [
      "\u001b[0;31m---------------------------------------------------------------------------\u001b[0m",
      "\u001b[0;31mAttributeError\u001b[0m                            Traceback (most recent call last)",
      "\u001b[0;32m<ipython-input-604-51950f63a54c>\u001b[0m in \u001b[0;36m<module>\u001b[0;34m\u001b[0m\n\u001b[0;32m----> 1\u001b[0;31m \u001b[0max\u001b[0m\u001b[0;34m.\u001b[0m\u001b[0mhist\u001b[0m\u001b[0;34m(\u001b[0m\u001b[0mall_comp_correlations\u001b[0m\u001b[0;34m[\u001b[0m\u001b[0mindicators_band\u001b[0m\u001b[0;34m]\u001b[0m\u001b[0;34m)\u001b[0m\u001b[0;34m\u001b[0m\u001b[0;34m\u001b[0m\u001b[0m\n\u001b[0m",
      "\u001b[0;31mAttributeError\u001b[0m: 'numpy.ndarray' object has no attribute 'hist'"
     ]
    }
   ],
   "source": [
    "ax.hist(all_comp_correlations[indicators_band])\n"
   ]
  },
  {
   "cell_type": "code",
   "execution_count": 609,
   "metadata": {},
   "outputs": [
    {
     "data": {
      "image/png": "[encoded data removed]",
      "text/plain": [
       "<Figure size 200x70 with 1 Axes>"
      ]
     },
     "metadata": {},
     "output_type": "display_data"
    }
   ],
   "source": [
    "with mpl.rc_context(fname=\".matplotlibrc\"):\n",
    "    fig, ax = plt.subplots(1, 1, figsize=(2, 0.7))\n",
    "    average_corrcoeff = np.mean(all_corrcoeffs_, axis=0)\n",
    "    average_corrcoeff[average_corrcoeff == 1.0] = 0.0\n",
    "\n",
    "    best_mechanism = np.argmax(np.abs(average_corrcoeff[i]))\n",
    "\n",
    "    all_comp_correlations = all_corrcoeffs_[:, i, best_mechanism]\n",
    "    indicators = [5, 6, 8, 9, 11, 16]\n",
    "    indicators_lower = [6, 8, 9, 11]\n",
    "    indicators_upper = [5, 16]\n",
    "    indicators_band = [0,1,2,3,4,7,10,12,13,14,15,17,18,19,20,21,22,23,24,25,26,27]\n",
    "    \n",
    "    ax.hist([all_comp_correlations[indicators_band], all_comp_correlations[indicators_lower], all_comp_correlations[indicators_upper]], stacked=True)\n",
    "    ax.set_xlim([-1,1])\n",
    "    ax.set_title(names_[i]+\"\\n comp. by\\n\"+names_[best_mechanism])\n",
    "    ax.set_yticks([])\n",
    "    ax.set_xticks([-1, 1])\n",
    "    ax.set_xticklabels([\"   -1\", \"1 \"])\n",
    "    ax.set_ylabel(\"Counts\")\n",
    "    ax.set_xlabel(\"Pearson correlation coefficient\")\n",
    "    plt.savefig(\"stacked_hist.png\", dpi=200, bbox_inches=\"tight\")\n",
    "    plt.show()"
   ]
  },
  {
   "cell_type": "markdown",
   "metadata": {},
   "source": [
    "### Assemble figure"
   ]
  },
  {
   "cell_type": "code",
   "execution_count": 587,
   "metadata": {},
   "outputs": [],
   "source": [
    "import IPython.display as IPd\n",
    "def svg(img):\n",
    "    IPd.display(IPd.HTML('<img src=\"{}\" / >'.format(img, time.time())))"
   ]
  },
  {
   "cell_type": "code",
   "execution_count": 600,
   "metadata": {},
   "outputs": [
    {
     "data": {
      "text/html": [
       "<img src=\"fig/fig1.svg\" / >"
      ],
      "text/plain": [
       "<IPython.core.display.HTML object>"
      ]
     },
     "metadata": {},
     "output_type": "display_data"
    }
   ],
   "source": [
    "from svgutils.compose import *\n",
    "\n",
    "# > Inkscape pixel is 1/90 of an inch, other software usually uses 1/72.\n",
    "# > http://www.inkscapeforum.com/viewtopic.php?f=6&t=5964\n",
    "svg_scale = 1.25  # set this to 1.25 for Inkscape, 1.0 otherwise\n",
    "factor_svg=5.5\n",
    "\n",
    "# Panel letters in Helvetica Neue, 12pt, Medium\n",
    "kwargs_text = {'size': '12pt', 'font': 'Arial', 'weight': '800'}\n",
    "kwargs_consistent = {'size': '10pt', 'font': 'Arial', 'weight': '500', 'color': '#AF99EF'}\n",
    "kwargs_consistent1 = {'size': '10pt', 'font': 'Arial', 'weight': '500', 'color': '#9E7DD5'}\n",
    "kwargs_inconsistent = {'size': '10pt', 'font': 'Arial', 'weight': '500', 'color': '#AF99EF'}\n",
    "kwargs_text8pt = {'size': '7.7pt', 'font': 'Arial'}\n",
    "\n",
    "f = Figure(\"20.3cm\", \"9.4cm\",\n",
    "           \n",
    "    Panel(\n",
    "          SVG(\"fig_2a.svg\").scale(svg_scale).move(0*factor_svg,0*factor_svg),\n",
    "          Text(\"Marginal\", 4.5*factor_svg, 0.0*factor_svg, **kwargs_text8pt),\n",
    "          Text(\"a\", -2.0*factor_svg, -1.6*factor_svg, **kwargs_text),\n",
    "    ).move(3*factor_svg, 4*factor_svg),\n",
    "           \n",
    "    Panel(\n",
    "          SVG(\"fig_2b.svg\").scale(svg_scale).move(0*factor_svg,0*factor_svg),\n",
    "          Text(\"Conditional\", 3.4*factor_svg, 0.0*factor_svg, **kwargs_text8pt),\n",
    "    ).move(20*factor_svg, 4*factor_svg),\n",
    "           \n",
    "    Panel(\n",
    "          SVG(\"fig_2c.svg\").scale(svg_scale).move(0*factor_svg,0*factor_svg),\n",
    "    ).move(3*factor_svg, 20*factor_svg),\n",
    "           \n",
    "    Panel(\n",
    "          SVG(\"fig_2d.svg\").scale(svg_scale).move(0*factor_svg,0*factor_svg),\n",
    "    ).move(20*factor_svg, 20*factor_svg),\n",
    "           \n",
    "    Panel(\n",
    "          SVG(\"fig_3a.svg\").scale(svg_scale).move(0*factor_svg,0*factor_svg),\n",
    "          Text(\"b\", 0.0*factor_svg, 1.6*factor_svg, **kwargs_text),\n",
    "    ).move(39*factor_svg, 1*factor_svg),\n",
    "\n",
    "    Panel(\n",
    "          SVG(\"fig_3b.svg\").scale(svg_scale).move(0*factor_svg,0*factor_svg),\n",
    "    ).move(78*factor_svg, 1*factor_svg),\n",
    "\n",
    "    Panel(\n",
    "          SVG(\"fig_3c.svg\").scale(svg_scale).move(0*factor_svg,0*factor_svg),\n",
    "    ).move(109*factor_svg, 1*factor_svg),\n",
    "\n",
    "    Panel(\n",
    "          SVG(\"fig_4a.svg\").scale(svg_scale).move(0*factor_svg,0*factor_svg),\n",
    "          Text(\"c\", 0.0*factor_svg, 1.6*factor_svg, **kwargs_text),\n",
    "    ).move(0*factor_svg, 42*factor_svg),\n",
    "\n",
    "    Panel(\n",
    "          SVG(\"fig_4b.svg\").scale(svg_scale).move(0*factor_svg,0*factor_svg),\n",
    "    ).move(18*factor_svg, 42*factor_svg),\n",
    "\n",
    "    Panel(\n",
    "          SVG(\"fig_4c.svg\").scale(svg_scale).move(0*factor_svg,0*factor_svg),\n",
    "    ).move(36*factor_svg, 42*factor_svg),\n",
    "\n",
    "    Panel(\n",
    "          SVG(\"fig_5.svg\").scale(svg_scale).move(0*factor_svg,0*factor_svg),\n",
    "          Text(\"d\", 0.0*factor_svg, 2.6*factor_svg, **kwargs_text),\n",
    "    ).move(58.5*factor_svg, 41*factor_svg),\n",
    "\n",
    ")\n",
    "\n",
    "!mkdir -p fig\n",
    "f.save(\"fig/fig1.svg\")\n",
    "svg('fig/fig1.svg')"
   ]
  },
  {
   "cell_type": "markdown",
   "metadata": {},
   "source": [
    "### Analyse conditional correlations"
   ]
  },
  {
   "cell_type": "code",
   "execution_count": 138,
   "metadata": {},
   "outputs": [],
   "source": [
    "def obtain_conditional_corrcoeff(str1, str2, str3):\n",
    "\n",
    "    filepath = f\"/home/michael/Documents/arco_sims/adaptive_box_posteriors2/{str1}_{str2}_{str3}.pickle\"\n",
    "\n",
    "    with open(filepath, \"rb\") as handle:\n",
    "        posterior = pickle.load(handle)\n",
    "\n",
    "    all_bounds_ = bounds.bounds_\n",
    "    bounds_ = all_bounds_[str1, str2]\n",
    "    upper_ = np.asarray(list(bounds_[\"max\"].values()))\n",
    "    lower_ = np.asarray(list(bounds_[\"min\"].values()))\n",
    "    gt_ = np.asarray(list(bounds_[\"value\"].values()))\n",
    "    limits = np.asarray([lower_, upper_]).T\n",
    "\n",
    "    condition = torch.as_tensor(gt_, dtype=torch.float32)\n",
    "    posterior.set_default_x(xo)\n",
    "\n",
    "    corrcoeff = conditional_corrcoeff(posterior, condition=condition, limits=torch.as_tensor(limits, dtype=torch.float32))\n",
    "    return corrcoeff"
   ]
  },
  {
   "cell_type": "code",
   "execution_count": 139,
   "metadata": {
    "collapsed": true,
    "jupyter": {
     "outputs_hidden": true
    }
   },
   "outputs": [
    {
     "name": "stdout",
     "output_type": "stream",
     "text": [
      "s ['84', '7712997831240842', '0.015']\n",
      "s ['85', '1', '0.02']\n",
      "s ['85', '5', '0.015']\n",
      "s ['86', '6', '0.005']\n",
      "s ['86', '707527054352652', '0.01']\n",
      "s ['87', '550434680389613', '0.005']\n",
      "s ['87', '73418029210004229', '0.005']\n",
      "s ['88', '59997244694401254', '0.015']\n",
      "s ['88', '86940691440007411', '0.01']\n",
      "s ['88', '90233447606250669', '0.005']\n",
      "s ['89', '1506562604769867', '0.02']\n",
      "s ['89', '49992413252944133', '0.02']\n",
      "s ['89', '98394633867104423', '0.025']\n",
      "s ['91', '5', '0.03']\n",
      "s ['91', '63065090307991878', '0.045']\n",
      "s ['93', '49588549670578687', '0.01']\n",
      "s ['WR64_Cell8_L5TT_constant_mean_max_dendscale_2.0', '94', '0.01']\n",
      "s ['WR64_Cell8_L5TT_constant_mean_max_dendscale_2.0', '96', '0.01']\n",
      "s ['WR64_Cell8_L5TT_constant_mean_max_dendscale_2.5', '81', '0.015']\n",
      "s ['WR64_Cell8_L5TT_constant_mean_max_dendscale_2.5', '84', '0.03']\n",
      "s ['WR69_Cell2_L5TT_mean', '1', '0.005']\n",
      "s ['WR69_Cell2_L5TT_mean', '32', '0.01']\n",
      "s ['WR69_Cell2_L5TT_medfilt', '1', '0.005']\n",
      "s ['WR69_Cell2_L5TT_medfilt', '6', '0.01']\n",
      "s ['WR71_Cell6_L5TT_constant_mean', '104', '0.02']\n",
      "s ['WR71_Cell6_L5TT_constant_mean', '120', '0.015']\n",
      "s ['WR71_Cell6_L5TT_constant_mean_exclude_obliques_from_hot_zone', '130', '0.015']\n",
      "s ['WR71_Cell6_L5TT_constant_mean_exclude_obliques_from_hot_zone', '136', '0.01']\n"
     ]
    }
   ],
   "source": [
    "all_corrcoeffs = []\n",
    "\n",
    "for s in string_pairs:\n",
    "    print(\"s\", s)\n",
    "    start_time = time.time()\n",
    "    corrcoeff_ = obtain_conditional_corrcoeff(*s)\n",
    "    all_corrcoeffs.append(corrcoeff_.numpy())\n",
    "\n",
    "all_corrcoeffs = np.asarray(all_corrcoeffs)\n",
    "# np.save(\"all_corrcoeffs.npy\", all_corrcoeffs)"
   ]
  },
  {
   "cell_type": "markdown",
   "metadata": {},
   "source": [
    "### Plot average matrix"
   ]
  },
  {
   "cell_type": "code",
   "execution_count": 143,
   "metadata": {},
   "outputs": [],
   "source": [
    "mean_coeffs = np.mean(all_corrcoeffs_, axis=0)"
   ]
  },
  {
   "cell_type": "code",
   "execution_count": 295,
   "metadata": {
    "collapsed": true,
    "jupyter": {
     "outputs_hidden": true
    }
   },
   "outputs": [
    {
     "name": "stderr",
     "output_type": "stream",
     "text": [
      "<ipython-input-295-1577c8e7f59a>:3: UserWarning: FixedFormatter should only be used together with FixedLocator\n",
      "  _ = ax.set_xticklabels(names_, rotation=90)\n"
     ]
    },
    {
     "data": {
      "image/png": "[encoded data removed]",
      "text/plain": [
       "<Figure size 1440x1440 with 1 Axes>"
      ]
     },
     "metadata": {
      "needs_background": "light"
     },
     "output_type": "display_data"
    }
   ],
   "source": [
    "fig, ax = plt.subplots(1, 1, figsize=(20,20))\n",
    "_ = ax.imshow(mean_coeffs, clim=[-1, 1], cmap='PiYG')\n",
    "_ = ax.set_xticklabels(names_, rotation=90)\n",
    "ax.set_xticks(range(35))\n",
    "plt.savefig(\"average_condcoeff.png\", dpi=200, bbox_inches=\"tight\", facecolor='w')"
   ]
  },
  {
   "cell_type": "markdown",
   "metadata": {},
   "source": [
    "### Search for the ones with the highest mean"
   ]
  },
  {
   "cell_type": "code",
   "execution_count": 155,
   "metadata": {},
   "outputs": [],
   "source": [
    "cutoff = 0.25"
   ]
  },
  {
   "cell_type": "code",
   "execution_count": 156,
   "metadata": {},
   "outputs": [
    {
     "name": "stdout",
     "output_type": "stream",
     "text": [
      "Numer of fulfilled:  8\n"
     ]
    }
   ],
   "source": [
    "mean_coeffs_no_diag = np.triu(mean_coeffs, 1)\n",
    "max_inds = np.abs(mean_coeffs_no_diag) > cutoff\n",
    "print(\"Numer of fulfilled: \", np.sum(max_inds))"
   ]
  },
  {
   "cell_type": "code",
   "execution_count": 158,
   "metadata": {},
   "outputs": [],
   "source": [
    "num_dims = 35\n",
    "all_strong_coeffs = []\n",
    "all_strong_names = []\n",
    "for col in range(num_dims):\n",
    "    for row in range(num_dims):\n",
    "        if max_inds[col, row]:\n",
    "            strong_coeffs = all_corrcoeffs_[:, col, row]\n",
    "            strong_cor_names = [names_[col], names_[row]]\n",
    "            all_strong_coeffs.append(strong_coeffs)\n",
    "            all_strong_names.append(strong_cor_names)"
   ]
  },
  {
   "cell_type": "code",
   "execution_count": 294,
   "metadata": {},
   "outputs": [
    {
     "data": {
      "image/png": "[encoded data removed]",
      "text/plain": [
       "<Figure size 360x1152 with 8 Axes>"
      ]
     },
     "metadata": {
      "needs_background": "light"
     },
     "output_type": "display_data"
    }
   ],
   "source": [
    "fig, ax = plt.subplots(len(all_strong_coeffs), 1, figsize=(5, 2*len(all_strong_coeffs)))\n",
    "i = 0\n",
    "for c, n in zip(all_strong_coeffs, all_strong_names):\n",
    "    ax[i].hist(c, range=(-1.0, 1.0), bins=50)\n",
    "    ax[i].set_title(n[0]+\"  --  \"+n[1])\n",
    "    ax[i].set_ylabel(\"Count\")\n",
    "    ax[i].spines['top'].set_visible(False)\n",
    "    ax[i].spines['right'].set_visible(False)\n",
    "    ax[i].set_xlim([-1.0, 1.0])\n",
    "    ax[i].axvline(0.0, c='k')\n",
    "    if i < len(all_strong_coeffs) -1:\n",
    "        ax[i].set_xticks([])\n",
    "    else:\n",
    "        ax[i].set_xlabel(\"Correlation\")\n",
    "    i += 1\n",
    "plt.subplots_adjust(hspace=0.5)\n",
    "plt.savefig(\"maintained_correlations.png\", dpi=200, bbox_inches=\"tight\", facecolor='w')\n",
    "plt.show()"
   ]
  },
  {
   "cell_type": "code",
   "execution_count": 41,
   "metadata": {
    "collapsed": true,
    "jupyter": {
     "outputs_hidden": true
    }
   },
   "outputs": [
    {
     "name": "stdout",
     "output_type": "stream",
     "text": [
      "start_time 50.55253195762634\n"
     ]
    },
    {
     "data": {
      "image/png": "[encoded data removed]",
      "text/plain": [
       "<Figure size 1080x1080 with 1 Axes>"
      ]
     },
     "metadata": {
      "needs_background": "light"
     },
     "output_type": "display_data"
    }
   ],
   "source": [
    "start_time = time.time()\n",
    "corrcoeff_ = obtain_conditional_corrcoeff(\"88\", \"86940691440007411\", \"0.01\")\n",
    "print(\"start_time\", time.time()-start_time)\n",
    "\n",
    "fig, ax = plt.subplots(1, 1, figsize=(15, 15))\n",
    "_ = ax.imshow(corrcoeff_, clim=[-1, 1], cmap='PiYG')\n",
    "_ = ax.set_xticks(range(35))\n",
    "_ = ax.set_xticklabels(names_, rotation=90)"
   ]
  }
 ],
 "metadata": {
  "kernelspec": {
   "display_name": "sbi",
   "language": "python",
   "name": "sbi"
  },
  "language_info": {
   "codemirror_mode": {
    "name": "ipython",
    "version": 3
   },
   "file_extension": ".py",
   "mimetype": "text/x-python",
   "name": "python",
   "nbconvert_exporter": "python",
   "pygments_lexer": "ipython3",
   "version": "3.8.1"
  }
 },
 "nbformat": 4,
 "nbformat_minor": 4
}
