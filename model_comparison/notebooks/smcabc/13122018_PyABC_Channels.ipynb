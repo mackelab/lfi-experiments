{
 "cells": [
  {
   "cell_type": "markdown",
   "metadata": {},
   "source": [
    "## SMC ABC on channel comparison"
   ]
  },
  {
   "cell_type": "code",
   "execution_count": 1,
   "metadata": {},
   "outputs": [],
   "source": [
    "%matplotlib inline\n",
    "import os\n",
    "import tempfile\n",
    "import numpy as np\n",
    "\n",
    "import scipy.stats as st\n",
    "\n",
    "from pyabc import (ABCSMC, RV, Distribution,\n",
    "                   PercentileDistanceFunction, sampler)\n",
    "from pyabc import Distribution as abcdis\n",
    "\n",
    "from delfi.generator import Default\n",
    "import sys\n",
    "sys.path.append('../../')\n",
    "sys.path.append('../../../lfi-models/')\n",
    "\n",
    "from lfimodels.channelomics.ChannelSingle import ChannelSingle\n",
    "from lfimodels.channelomics.ChannelSuper import ChannelSuper\n",
    "from lfimodels.channelomics.ChannelStats import ChannelStats\n",
    "from matplotlib import pyplot as plt\n",
    "\n",
    "from model_comparison.utils import *\n",
    "from model_comparison.mdns import *\n",
    "\n",
    "%matplotlib inline\n",
    "import warnings\n",
    "warnings.filterwarnings('ignore')"
   ]
  },
  {
   "cell_type": "markdown",
   "metadata": {},
   "source": [
    "## Define the channel model generators"
   ]
  },
  {
   "cell_type": "code",
   "execution_count": 2,
   "metadata": {},
   "outputs": [],
   "source": [
    "GT = {'kd': np.array([[4, -63, 0.032, 15, 5, 0.5, 10, 40]]),\n",
    "      'kslow': np.array([[1, 35, 10, 3.3, 20]])}\n",
    "\n",
    "LP = {'kd': ['power',r'$V_T$',r'$R_{\\alpha}$',r'$th_{\\alpha}$', r'$q_{\\alpha}$', r'$R_{\\beta}$', r'$th_{\\beta}$',\n",
    "             r'$q_{\\beta}$'],\n",
    "      'kslow': ['power', r'$V_T$', r'$q_p$', r'$R_{\\tau}$', r'$q_{\\tau}$']}\n",
    "\n",
    "E_channel = {'kd': -90.0, 'kslow': -90.0}\n",
    "fact_inward = {'kd': 1, 'kslow': 1}\n",
    "\n",
    "prior_lims_kd = np.sort(np.concatenate((0.3 * GT['kd'].reshape(-1, 1), 1.3 * GT['kd'].reshape(-1, 1)), axis=1))\n",
    "prior_lims_ks = np.sort(np.concatenate((0.3 * GT['kslow'].reshape(-1, 1), 1.3 * GT['kslow'].reshape(-1, 1)), axis=1))\n",
    "\n",
    "cython = True\n",
    "seed = 2"
   ]
  },
  {
   "cell_type": "code",
   "execution_count": 3,
   "metadata": {},
   "outputs": [],
   "source": [
    "m_obs = ChannelSingle(channel_type='kd', n_params=8, cython=cython)\n",
    "s = ChannelStats(channel_type='kd')\n",
    "\n",
    "xo = m_obs.gen(GT['kd'].reshape(1,-1))\n",
    "sxo = s.calc(xo[0])"
   ]
  },
  {
   "cell_type": "code",
   "execution_count": 4,
   "metadata": {},
   "outputs": [],
   "source": [
    "mkd = ChannelSingle(channel_type='kd', n_params=8, cython=cython, seed=seed)\n",
    "skd = ChannelStats(channel_type='kd', seed=seed)\n",
    "\n",
    "mks = ChannelSingle(channel_type='kslow', n_params=5, cython=cython, seed=seed)\n",
    "sks = ChannelStats(channel_type='kslow', seed=seed)"
   ]
  },
  {
   "cell_type": "markdown",
   "metadata": {},
   "source": [
    "## Define PyABC SMC models and priors"
   ]
  },
  {
   "cell_type": "code",
   "execution_count": 5,
   "metadata": {},
   "outputs": [],
   "source": [
    "# Define models oin pyabc style \n",
    "def model_1(parameters):\n",
    "    params = np.array([parameters.p1, parameters.p2, parameters.p3, parameters.p4, \n",
    "                       parameters.p5, parameters.p6, parameters.p7, parameters.p8])\n",
    "    x = mkd.gen(params.reshape(1, -1))\n",
    "    sx = skd.calc(x[0])\n",
    "    sxdict = dict()\n",
    "    for i, sxi in enumerate(sx): \n",
    "        sxdict['y{}'.format(i)] = sxi\n",
    "    return sxdict\n",
    "\n",
    "def model_2(parameters):\n",
    "    params = np.array([parameters.p1, parameters.p2, parameters.p3, parameters.p4, parameters.p5])\n",
    "    x = mks.gen(params.reshape(1, -1))\n",
    "    sx = skd.calc(x[0])\n",
    "    sxdict = dict()\n",
    "    for i, sxi in enumerate(sx): \n",
    "        sxdict['y{}'.format(i)] = sxi\n",
    "    return sxdict\n",
    "\n",
    "# priors\n",
    "prior_dict_kd = dict()\n",
    "for i in range(8): \n",
    "    prior_dict_kd['p{}'.format(i + 1)] = dict(type='uniform', \n",
    "                                              kwargs=dict(loc=prior_lims_kd[i, 0], \n",
    "                                                         scale=prior_lims_kd[i, 1] - prior_lims_kd[i, 0]))\n",
    "    \n",
    "prior1 = abcdis.from_dictionary_of_dictionaries(prior_dict_kd)\n",
    "\n",
    "prior_dict_ks = dict()\n",
    "for i in range(5): \n",
    "    prior_dict_ks['p{}'.format(i + 1)] = dict(type='uniform', \n",
    "                                              kwargs=dict(loc=prior_lims_ks[i, 0], \n",
    "                                                          scale=prior_lims_ks[i, 1] - prior_lims_ks[i, 0]))\n",
    "\n",
    "prior2 = abcdis.from_dictionary_of_dictionaries(prior_dict_ks)\n",
    "\n",
    "models = [model_1, model_2]\n",
    "parameter_priors = [prior1, prior2]"
   ]
  },
  {
   "cell_type": "markdown",
   "metadata": {},
   "source": [
    "For model selection we usually have more than one model.\n",
    "These are assembled in a list. We\n",
    "require a Bayesian prior over the models.\n",
    "The default is to have a uniform prior over the model classes.\n",
    "This concludes the model definition."
   ]
  },
  {
   "cell_type": "markdown",
   "metadata": {},
   "source": [
    "### Configuring the ABCSMC run\n",
    "\n",
    "Having the models defined, we can plug together the `ABCSMC` class.\n",
    "We need a distance function,\n",
    "to measure the distance of obtained samples."
   ]
  },
  {
   "cell_type": "code",
   "execution_count": 6,
   "metadata": {},
   "outputs": [],
   "source": [
    "# We plug all the ABC options together\n",
    "ss_measures = ['y{}'.format(i) for i in range(sxo.shape[1])]\n",
    "abc = ABCSMC(\n",
    "    models, parameter_priors,\n",
    "    PercentileDistanceFunction(measures_to_use=ss_measures), sampler=sampler.SingleCoreSampler())"
   ]
  },
  {
   "cell_type": "markdown",
   "metadata": {},
   "source": [
    "### Setting the observed data\n",
    "\n",
    "Actually measured data can now be passed to the ABCSMC.\n",
    "This is set via the `new` method, indicating that we start\n",
    "a new run as opposed to resuming a stored run (see the \"resume stored run\" example).\n",
    "Moreover, we have to set the output database where the ABC-SMC run\n",
    "is logged."
   ]
  },
  {
   "cell_type": "code",
   "execution_count": 7,
   "metadata": {},
   "outputs": [],
   "source": [
    "sx_t = sxo"
   ]
  },
  {
   "cell_type": "markdown",
   "metadata": {},
   "source": [
    "## Run a loop over all test data points"
   ]
  },
  {
   "cell_type": "code",
   "execution_count": 8,
   "metadata": {},
   "outputs": [
    {
     "name": "stderr",
     "output_type": "stream",
     "text": [
      "INFO:History:Start <ABCSMC(id=13, start_time=2018-12-17 00:47:31.764345, end_time=None)>\n"
     ]
    },
    {
     "name": "stdout",
     "output_type": "stream",
     "text": [
      "SVD did not converge in Linear Least Squares\n",
      "SVD did not converge in Linear Least Squares\n",
      "SVD did not converge in Linear Least Squares\n",
      "SVD did not converge in Linear Least Squares\n"
     ]
    },
    {
     "ename": "KeyError",
     "evalue": "'y1'",
     "output_type": "error",
     "traceback": [
      "\u001b[0;31m---------------------------------------------------------------------------\u001b[0m",
      "\u001b[0;31mKeyError\u001b[0m                                  Traceback (most recent call last)",
      "\u001b[0;32m<ipython-input-8-09169555c728>\u001b[0m in \u001b[0;36m<module>\u001b[0;34m()\u001b[0m\n\u001b[1;32m      7\u001b[0m     db_path = (\"sqlite:///\" +\n\u001b[1;32m      8\u001b[0m                os.path.join(tempfile.gettempdir(), \"test.db\"))\n\u001b[0;32m----> 9\u001b[0;31m     \u001b[0mabc_id\u001b[0m \u001b[0;34m=\u001b[0m \u001b[0mabc\u001b[0m\u001b[0;34m.\u001b[0m\u001b[0mnew\u001b[0m\u001b[0;34m(\u001b[0m\u001b[0mdb_path\u001b[0m\u001b[0;34m,\u001b[0m \u001b[0;34m{\u001b[0m\u001b[0mkey\u001b[0m\u001b[0;34m:\u001b[0m \u001b[0my_observed\u001b[0m\u001b[0;34m[\u001b[0m\u001b[0mi\u001b[0m\u001b[0;34m]\u001b[0m \u001b[0;32mfor\u001b[0m \u001b[0mi\u001b[0m\u001b[0;34m,\u001b[0m \u001b[0mkey\u001b[0m \u001b[0;32min\u001b[0m \u001b[0menumerate\u001b[0m\u001b[0;34m(\u001b[0m\u001b[0mss_measures\u001b[0m\u001b[0;34m)\u001b[0m\u001b[0;34m}\u001b[0m\u001b[0;34m)\u001b[0m\u001b[0;34m\u001b[0m\u001b[0m\n\u001b[0m\u001b[1;32m     10\u001b[0m \u001b[0;34m\u001b[0m\u001b[0m\n\u001b[1;32m     11\u001b[0m     \u001b[0;31m# We run the ABC until either criterion is met\u001b[0m\u001b[0;34m\u001b[0m\u001b[0;34m\u001b[0m\u001b[0m\n",
      "\u001b[0;32m~/anaconda3/envs/mackelab/lib/python3.6/site-packages/pyabc/smc.py\u001b[0m in \u001b[0;36mnew\u001b[0;34m(self, db, observed_sum_stat, gt_model, gt_par, meta_info)\u001b[0m\n\u001b[1;32m    352\u001b[0m \u001b[0;34m\u001b[0m\u001b[0m\n\u001b[1;32m    353\u001b[0m         \u001b[0;31m# sample from prior to calibrate distance function and epsilon\u001b[0m\u001b[0;34m\u001b[0m\u001b[0;34m\u001b[0m\u001b[0m\n\u001b[0;32m--> 354\u001b[0;31m         \u001b[0mself\u001b[0m\u001b[0;34m.\u001b[0m\u001b[0m_initialize_dist_and_eps\u001b[0m\u001b[0;34m(\u001b[0m\u001b[0mself\u001b[0m\u001b[0;34m.\u001b[0m\u001b[0mhistory\u001b[0m\u001b[0;34m.\u001b[0m\u001b[0mmax_t\u001b[0m\u001b[0;34m+\u001b[0m\u001b[0;36m1\u001b[0m\u001b[0;34m)\u001b[0m\u001b[0;34m\u001b[0m\u001b[0m\n\u001b[0m\u001b[1;32m    355\u001b[0m \u001b[0;34m\u001b[0m\u001b[0m\n\u001b[1;32m    356\u001b[0m         \u001b[0;31m# return id generated in store_initial_data\u001b[0m\u001b[0;34m\u001b[0m\u001b[0;34m\u001b[0m\u001b[0m\n",
      "\u001b[0;32m~/anaconda3/envs/mackelab/lib/python3.6/site-packages/pyabc/smc.py\u001b[0m in \u001b[0;36m_initialize_dist_and_eps\u001b[0;34m(self, t)\u001b[0m\n\u001b[1;32m    378\u001b[0m             \u001b[0;31m# initialize distance\u001b[0m\u001b[0;34m\u001b[0m\u001b[0;34m\u001b[0m\u001b[0m\n\u001b[1;32m    379\u001b[0m             self.distance_function.initialize(t,\n\u001b[0;32m--> 380\u001b[0;31m                                               self._get_initial_samples(t)[1])\n\u001b[0m\u001b[1;32m    381\u001b[0m \u001b[0;34m\u001b[0m\u001b[0m\n\u001b[1;32m    382\u001b[0m         \u001b[0;32mif\u001b[0m \u001b[0mself\u001b[0m\u001b[0;34m.\u001b[0m\u001b[0meps\u001b[0m\u001b[0;34m.\u001b[0m\u001b[0mrequire_initialize\u001b[0m\u001b[0;34m:\u001b[0m\u001b[0;34m\u001b[0m\u001b[0m\n",
      "\u001b[0;32m~/anaconda3/envs/mackelab/lib/python3.6/site-packages/pyabc/distance_functions.py\u001b[0m in \u001b[0;36minitialize\u001b[0;34m(self, t, sample_from_prior)\u001b[0m\n\u001b[1;32m    685\u001b[0m                    sample_from_prior):\n\u001b[1;32m    686\u001b[0m         \u001b[0msuper\u001b[0m\u001b[0;34m(\u001b[0m\u001b[0;34m)\u001b[0m\u001b[0;34m.\u001b[0m\u001b[0minitialize\u001b[0m\u001b[0;34m(\u001b[0m\u001b[0mt\u001b[0m\u001b[0;34m,\u001b[0m \u001b[0msample_from_prior\u001b[0m\u001b[0;34m)\u001b[0m\u001b[0;34m\u001b[0m\u001b[0m\n\u001b[0;32m--> 687\u001b[0;31m         \u001b[0mself\u001b[0m\u001b[0;34m.\u001b[0m\u001b[0m_calculate_normalization\u001b[0m\u001b[0;34m(\u001b[0m\u001b[0msample_from_prior\u001b[0m\u001b[0;34m)\u001b[0m\u001b[0;34m\u001b[0m\u001b[0m\n\u001b[0m\u001b[1;32m    688\u001b[0m \u001b[0;34m\u001b[0m\u001b[0m\n\u001b[1;32m    689\u001b[0m     def __call__(self,\n",
      "\u001b[0;32m~/anaconda3/envs/mackelab/lib/python3.6/site-packages/pyabc/distance_functions.py\u001b[0m in \u001b[0;36m_calculate_normalization\u001b[0;34m(self, sample_from_prior)\u001b[0m\n\u001b[1;32m    675\u001b[0m         \u001b[0;32mfor\u001b[0m \u001b[0msample\u001b[0m \u001b[0;32min\u001b[0m \u001b[0msample_from_prior\u001b[0m\u001b[0;34m:\u001b[0m\u001b[0;34m\u001b[0m\u001b[0m\n\u001b[1;32m    676\u001b[0m             \u001b[0;32mfor\u001b[0m \u001b[0mmeasure\u001b[0m \u001b[0;32min\u001b[0m \u001b[0mself\u001b[0m\u001b[0;34m.\u001b[0m\u001b[0mmeasures_to_use\u001b[0m\u001b[0;34m:\u001b[0m\u001b[0;34m\u001b[0m\u001b[0m\n\u001b[0;32m--> 677\u001b[0;31m                 \u001b[0mmeasures\u001b[0m\u001b[0;34m[\u001b[0m\u001b[0mmeasure\u001b[0m\u001b[0;34m]\u001b[0m\u001b[0;34m.\u001b[0m\u001b[0mappend\u001b[0m\u001b[0;34m(\u001b[0m\u001b[0msample\u001b[0m\u001b[0;34m[\u001b[0m\u001b[0mmeasure\u001b[0m\u001b[0;34m]\u001b[0m\u001b[0;34m)\u001b[0m\u001b[0;34m\u001b[0m\u001b[0m\n\u001b[0m\u001b[1;32m    678\u001b[0m         self.normalization = {measure:\n\u001b[1;32m    679\u001b[0m                               \u001b[0mself\u001b[0m\u001b[0;34m.\u001b[0m\u001b[0mupper\u001b[0m\u001b[0;34m(\u001b[0m\u001b[0mmeasures\u001b[0m\u001b[0;34m[\u001b[0m\u001b[0mmeasure\u001b[0m\u001b[0;34m]\u001b[0m\u001b[0;34m)\u001b[0m\u001b[0;34m\u001b[0m\u001b[0m\n",
      "\u001b[0;31mKeyError\u001b[0m: 'y1'"
     ]
    }
   ],
   "source": [
    "n_simulations = np.zeros(sx_t.shape[0])\n",
    "phat = np.zeros((2, sx_t.shape[0]))\n",
    "\n",
    "for idx, y_observed in enumerate(sx_t): \n",
    "    # y_observed is the important piece here: our actual observation.\n",
    "    # and we define where to store the results\n",
    "    db_path = (\"sqlite:///\" +\n",
    "               os.path.join(tempfile.gettempdir(), \"test.db\"))\n",
    "    abc_id = abc.new(db_path, {key: y_observed[i] for i, key in enumerate(ss_measures)})\n",
    "\n",
    "    # We run the ABC until either criterion is met\n",
    "    history = abc.run(minimum_epsilon=0.1, max_nr_populations=3)\n",
    "    \n",
    "    n_simulations[idx] = history.total_nr_simulations\n",
    "    \n",
    "    phat[:, idx] = history.get_model_probabilities().values[-1, :]"
   ]
  },
  {
   "cell_type": "code",
   "execution_count": null,
   "metadata": {},
   "outputs": [],
   "source": [
    "n_simulations.mean()"
   ]
  },
  {
   "cell_type": "code",
   "execution_count": null,
   "metadata": {},
   "outputs": [],
   "source": [
    "dd = dict(phat=phat, nsims=n_simulations, ptrue=ptrue)"
   ]
  },
  {
   "cell_type": "code",
   "execution_count": null,
   "metadata": {},
   "outputs": [],
   "source": [
    "import time\n",
    "time_stamp = time.strftime('%Y%m%d%H%M_')\n",
    "fn = os.path.join('../data/', time_stamp + '_SMCABC_results_PoissonNB_Ntest{}.p'.format(sx_t.shape[0]))\n",
    "\n",
    "with open(fn, 'wb') as outfile: \n",
    "    pickle.dump(dd, outfile, protocol=pickle.HIGHEST_PROTOCOL)"
   ]
  },
  {
   "cell_type": "code",
   "execution_count": null,
   "metadata": {},
   "outputs": [],
   "source": []
  }
 ],
 "metadata": {
  "celltoolbar": "Raw Cell Format",
  "kernelspec": {
   "display_name": "Python [default]",
   "language": "python",
   "name": "python3"
  },
  "language_info": {
   "codemirror_mode": {
    "name": "ipython",
    "version": 3
   },
   "file_extension": ".py",
   "mimetype": "text/x-python",
   "name": "python",
   "nbconvert_exporter": "python",
   "pygments_lexer": "ipython3",
   "version": "3.6.6"
  }
 },
 "nbformat": 4,
 "nbformat_minor": 1
}
