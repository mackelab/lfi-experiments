{
 "cells": [
  {
   "cell_type": "code",
   "execution_count": null,
   "metadata": {},
   "outputs": [],
   "source": [
    "import matplotlib.pyplot as plt\n",
    "import matplotlib as mpl\n",
    "import numpy as np\n",
    "import os \n",
    "import pickle\n",
    "import sys \n",
    "import time\n",
    "import tqdm\n",
    "import pandas as pd\n",
    "\n",
    "sys.path.append('/home/janfb/qode/lfi-models/')\n",
    "\n",
    "from lfimodels.channelomics.ChannelSingle import ChannelSingle\n",
    "from lfimodels.channelomics.ChannelStats import ChannelStats\n",
    "%matplotlib inline\n",
    "import warnings\n",
    "warnings.filterwarnings('ignore')"
   ]
  },
  {
   "cell_type": "code",
   "execution_count": null,
   "metadata": {},
   "outputs": [],
   "source": [
    "mpl_params = {'legend.fontsize': 19,\n",
    "              'legend.frameon': False,\n",
    "                      'axes.titlesize': 21,\n",
    "                      'axes.labelsize': 20,\n",
    "                      'xtick.labelsize': 19,\n",
    "                      'ytick.labelsize': 19,\n",
    "             'figure.figsize' : (18, 5), \n",
    "             'axes.titlepad': 4}\n",
    "\n",
    "mpl.rcParams.update(mpl_params)"
   ]
  },
  {
   "cell_type": "markdown",
   "metadata": {},
   "source": [
    "## Voltage-clamp protocol"
   ]
  },
  {
   "cell_type": "code",
   "execution_count": null,
   "metadata": {},
   "outputs": [],
   "source": [
    "prot = ['v_act','v_inact','v_deact']#,'v_ap','v_ramp']\n",
    "p = 0\n",
    "protocols = \\\n",
    "pd.read_csv('/home/janfb/qode/lfi-models/lfimodels/channelomics/protocols/k_channels/'+prot[p]+'.dat',sep='\\t')\n",
    "\n",
    "protocols = protocols.drop(protocols.columns[-1],axis=1)\n",
    "\n",
    "# extract voltages and time\n",
    "protocols1 = protocols.values\n",
    "\n",
    "V = protocols1[:,1:].T\n",
    "t = protocols1[:,0]   # attention: time step varies, but we will assume that it is constant\n",
    "tstep = np.mean(np.diff(t)) # ms\n",
    "\n",
    "time_stamp = time.strftime('%Y%m%d%H%M_')"
   ]
  },
  {
   "cell_type": "code",
   "execution_count": null,
   "metadata": {},
   "outputs": [],
   "source": [
    "Vs = {}\n",
    "ts = {}\n",
    "\n",
    "for i, p in enumerate(prot): \n",
    "    protocols = pd.read_csv('/home/janfb/qode/lfi-models/lfimodels/channelomics/protocols/k_channels/'+prot[i]+'.dat',sep='\\t')\n",
    "    protocols = protocols.drop(protocols.columns[-1],axis=1)\n",
    "\n",
    "    # extract voltages and time\n",
    "    protocols1 = protocols.values\n",
    "\n",
    "    Vs[p] = protocols1[:,1:].T\n",
    "    ts[p] = protocols1[:,0]   # attention: time step varies, but we will assume that it is constant\n",
    "    "
   ]
  },
  {
   "cell_type": "code",
   "execution_count": null,
   "metadata": {},
   "outputs": [],
   "source": [
    "channel_type = 'kd'"
   ]
  },
  {
   "cell_type": "code",
   "execution_count": null,
   "metadata": {},
   "outputs": [],
   "source": [
    "GT = {'kd': np.array([4, -63, 0.032, 15, 5, 0.5, 10, 40]),\n",
    "      'kslow': np.array([1, 35, 10, 3.3, 20])}\n",
    "LP = {'kd': [r'$M$', r'$V_T$', r'$R_{\\alpha}$', r'$th_{\\alpha}$', r'$q_{\\alpha}$', r'$R_{\\beta}$', r'$th_{\\beta}$', r'$q_{\\beta}$'],\n",
    "      'kslow': [r'$M$', r'$th_{p}$', r'$q_{p}$', r'$R_{\\tau}$', r'$q_{\\tau}$']}\n",
    "\n",
    "E_channel = {'kd': -90.0, 'kslow': -90.0}\n",
    "fact_inward = {'kd': 1, 'kslow': 1}\n",
    "\n",
    "cython = True\n",
    "\n",
    "gt = GT[channel_type]\n",
    "n_params = len(gt)\n",
    "labels_params = LP[channel_type]\n",
    "prior_lims = np.sort(np.concatenate((0.3 * gt.reshape(-1, 1), 1.3 * gt.reshape(-1, 1)), axis=1))"
   ]
  },
  {
   "cell_type": "code",
   "execution_count": null,
   "metadata": {},
   "outputs": [],
   "source": [
    "# generate observed data\n",
    "n_params_obs = len(gt)\n",
    "m_obs = ChannelSingle(channel_type=channel_type, n_params=n_params_obs, cython=cython)\n",
    "s = ChannelStats(channel_type=channel_type)\n",
    "\n",
    "xo = m_obs.gen(gt.reshape(1,-1))\n",
    "\n",
    "xo_stats = s.calc(xo[0])"
   ]
  },
  {
   "cell_type": "code",
   "execution_count": null,
   "metadata": {},
   "outputs": [],
   "source": [
    "fig, ax = plt.subplots(2, 5, figsize=(18, 5), sharey='row', sharex='col', \n",
    "                       gridspec_kw = {'height_ratios':[1, 1], \n",
    "                                      'width_ratios': [1, 1, 1, .7, 2], \n",
    "                                      'wspace': .2})\n",
    "prot = ['v_act','v_inact','v_deact','v_ap','v_ramp']\n",
    "prot_labels = ['activation', 'inactivation', 'deactivation', 'action potentials', 'ramping']\n",
    "channel_types = ['kd', 'kslow']\n",
    "\n",
    "for ii, (k, v) in enumerate(Vs.items()): \n",
    "    \n",
    "    # set colors \n",
    "    num_levels = v.shape[0]\n",
    "    cm1 = mpl.cm.viridis\n",
    "    col1 = [cm1(1. * k / num_levels) for k in range(num_levels)]\n",
    "    \n",
    "    ax[0, ii].set_title(prot_labels[ii])\n",
    "    ax[1, ii].set_xlabel('time [ms]')\n",
    "    \n",
    "#     plt.sca(ax[0, ii])\n",
    "#     for jj, subv in enumerate(v):\n",
    "#         plt.plot(ts[k], subv, color='r')\n",
    "    \n",
    "    \n",
    "    for ci, ch in enumerate(channel_types): \n",
    "        n_params_obs = len(gt)\n",
    "        m_obs = ChannelSingle(channel_type=ch, n_params=n_params_obs, cython=cython)\n",
    "        s = ChannelStats(channel_type=ch)\n",
    "        gt = GT[ch]\n",
    "        \n",
    "        xo = m_obs.gen(gt.reshape(1,-1))\n",
    "        xo_stats = s.calc(xo[0])\n",
    "        I = xo[0][0][prot[ii]]['data']\n",
    "        t = xo[0][0][prot[ii]]['time']    \n",
    "\n",
    "        plt.sca(ax[ci, ii])\n",
    "        ax[ci, ii].spines['top'].set_visible(False)\n",
    "        ax[ci, ii].spines['right'].set_visible(False)\n",
    "        for j in range(num_levels):\n",
    "            plt.plot(t, xo[0][0][prot[ii]]['data'][j,], color = col1[j], lw=2)\n",
    "        \n",
    "    \n",
    "# ax[0, 0].set_ylabel('voltage [mV]')\n",
    "ax[1, 0].set_ylabel('current')\n",
    "ax[0, 0].set_ylabel('current')\n",
    "\n",
    "# plt.sca(ax[0, 3])\n",
    "# plt.plot(np.log(model_idx_mdn.predict(sx_z)[:, 1]), '-o', alpha=.5)\n",
    "# plt.plot(mtest, '-*')\n",
    "# plt.xlabel('test set index')\n",
    "# plt.ylabel(r'$p(m_{K_s} | s(x))$')\n",
    "# plt.title('prediction on test set')\n",
    "\n",
    "# plt.sca(ax[1, 3])\n",
    "# plt.axis('off')"
   ]
  },
  {
   "cell_type": "code",
   "execution_count": null,
   "metadata": {},
   "outputs": [],
   "source": [
    "ax2 = plt.subplot2grid((2, 5), (0, 3), rowspan=2, colspan=2, fig=fig)\n",
    "ax2.spines['top'].set_visible(False)\n",
    "ax2.spines['right'].set_visible(False)\n",
    "\n",
    "width = .4\n",
    "alpha = .7\n",
    "x = np.arange(3) + width\n",
    "ax2.bar(x + width, height=np.array([.02, .025, .01]), width=width, alpha=alpha)\n",
    "ax2.bar(x + 2 * width, height=np.array([.04, .05, .2]), width=width, alpha=alpha)\n",
    "ax2.set_xticklabels(['', 'gaussians', 'Poisson-NB', 'channels']);\n",
    "ax2.set_ylabel('absolut error')\n",
    "ax2.legend(['NDE', 'SMC'])\n",
    "ax2.set_title('comparison to SMC')"
   ]
  },
  {
   "cell_type": "code",
   "execution_count": null,
   "metadata": {},
   "outputs": [],
   "source": [
    "fig"
   ]
  },
  {
   "cell_type": "code",
   "execution_count": null,
   "metadata": {},
   "outputs": [],
   "source": [
    "fullpath = os.path.expanduser('~') + '/LRZBOX/PhD/writing/CogComp2018/poster/figs/fig4/fig4_raw.pdf'\n",
    "fig.savefig(fullpath)"
   ]
  },
  {
   "cell_type": "markdown",
   "metadata": {},
   "source": [
    "## Plot traces only for half column width figure"
   ]
  },
  {
   "cell_type": "code",
   "execution_count": null,
   "metadata": {},
   "outputs": [],
   "source": [
    "mpl_params = {'legend.fontsize': 19,\n",
    "              'legend.frameon': False,\n",
    "                      'axes.titlesize': 21,\n",
    "                      'axes.labelsize': 17,\n",
    "                      'xtick.labelsize': 17,\n",
    "                      'ytick.labelsize': 17,\n",
    "             'figure.figsize' : (18, 5), \n",
    "             'axes.titlepad': 4}\n",
    "\n",
    "mpl.rcParams.update(mpl_params)"
   ]
  },
  {
   "cell_type": "code",
   "execution_count": null,
   "metadata": {},
   "outputs": [],
   "source": [
    "fig, ax = plt.subplots(2, 3, figsize=(8, 5), sharey='row', sharex='col')\n",
    "prot = ['v_act','v_inact','v_deact','v_ap','v_ramp']\n",
    "prot_labels = ['activation', 'inactivation', 'deactivation', 'action potentials', 'ramping']\n",
    "channel_types = ['kd', 'kslow']\n",
    "\n",
    "for ii, (k, v) in enumerate(Vs.items()): \n",
    "    \n",
    "    # set colors \n",
    "    num_levels = v.shape[0]\n",
    "    cm1 = mpl.cm.viridis\n",
    "    col1 = [cm1(1. * k / num_levels) for k in range(num_levels)]\n",
    "    \n",
    "    ax[1, ii].set_title(prot_labels[ii], fontsize=17)\n",
    "    ax[1, ii].set_xlabel('time [ms]', fontsize=17)\n",
    "    \n",
    "#     plt.sca(ax[0, ii])\n",
    "#     for jj, subv in enumerate(v):\n",
    "#         plt.plot(ts[k], subv, color='r')\n",
    "    \n",
    "    \n",
    "    for ci, ch in enumerate(channel_types): \n",
    "        n_params_obs = len(gt)\n",
    "        m_obs = ChannelSingle(channel_type=ch, n_params=n_params_obs, cython=cython)\n",
    "        s = ChannelStats(channel_type=ch)\n",
    "        gt = GT[ch]\n",
    "        \n",
    "        xo = m_obs.gen(gt.reshape(1,-1))\n",
    "        xo_stats = s.calc(xo[0])\n",
    "        I = xo[0][0][prot[ii]]['data']\n",
    "        t = xo[0][0][prot[ii]]['time']    \n",
    "\n",
    "        plt.sca(ax[ci, ii])\n",
    "        ax[ci, ii].spines['top'].set_visible(False)\n",
    "        ax[ci, ii].spines['right'].set_visible(False)\n",
    "        for j in range(num_levels):\n",
    "            plt.plot(t, xo[0][0][prot[ii]]['data'][j,], color = col1[j], lw=2)\n",
    "    \n",
    "plt.subplots_adjust(hspace=.2)\n",
    "ax[0, 0].set_ylabel('channel A')\n",
    "ax[1, 0].set_ylabel('channel B')\n",
    "ax[0, 1].spines['left'].set_visible(False)\n",
    "ax[1, 1].spines['left'].set_visible(False)\n",
    "ax[0, 2].spines['left'].set_visible(False)\n",
    "ax[1, 2].spines['left'].set_visible(False)\n",
    "ax[1, 1].set_yticks([])\n",
    "ax[0, 1].set_yticks([])\n",
    "# plt.tight_layout()\n",
    "# plt.suptitle('Current traces', fontsize=20, y=.94)"
   ]
  },
  {
   "cell_type": "code",
   "execution_count": null,
   "metadata": {},
   "outputs": [],
   "source": [
    "fullpath = os.path.expanduser('~') + '/LRZBOX/PhD/writing/CogComp2018/poster/figs/fig4/fig4_raw_half.pdf'\n",
    "fig.savefig(fullpath, bbox_inches='tight')"
   ]
  },
  {
   "cell_type": "code",
   "execution_count": null,
   "metadata": {},
   "outputs": [],
   "source": [
    "from matplotlib import rc\n",
    "rc('font',**{'family':'sans-serif','sans-serif':['Helvetica']})\n",
    "## for Palatino and other serif fonts use:\n",
    "#rc('font',**{'family':'serif','serif':['Palatino']})\n",
    "rc('text', usetex=True)"
   ]
  },
  {
   "cell_type": "code",
   "execution_count": null,
   "metadata": {},
   "outputs": [],
   "source": [
    "fig, ax2 = plt.subplots(1, 1, figsize=(5, 3))\n",
    "width = 0.3\n",
    "alpha = 0.6\n",
    "\n",
    "x = np.arange(3)\n",
    "\n",
    "plt.sca(ax2)\n",
    "ax2.bar(x + width, height=np.array([.02, .025, .001]), width=width, alpha=alpha, label='NDE')\n",
    "ax2.bar(x + 2 * width, height=np.array([.04, .05, .03]), width=width, alpha=alpha, label='SMC-ABC')\n",
    "plt.xticks(x + 1.47 * width, ['Gaussians', 'POI-NB', 'Channels']);\n",
    "ax2.set_ylabel(r'$|p(m_i | x) - q_{\\psi}|$', fontsize=19)\n",
    "ax2.legend(fontsize=16)\n",
    "plt.ylim([0., 0.07])\n",
    "# ax2.set_title('comparison to SMC')\n",
    "plt.yticks([0., .05], ['0.0', '.05'])\n",
    "ax2.spines['top'].set_visible(False)\n",
    "ax2.spines['right'].set_visible(False)\n",
    "\n",
    "# plt.twinx()\n",
    "# plt.ylabel(r'$m_n - q_{\\psi}$')\n",
    "\n",
    "# plt.ylim([0., 0.07])\n",
    "# plt.yticks([0., .05], ['0.0', '.05'])\n",
    "# # ax2.spines['right'].set_visible(False)\n",
    "# ax2.spines['top'].set_visible(False)"
   ]
  },
  {
   "cell_type": "code",
   "execution_count": null,
   "metadata": {},
   "outputs": [],
   "source": [
    "fullpath = os.path.expanduser('~') + '/LRZBOX/PhD/writing/CogComp2018/poster/figs/fig5/fig5_raw.pdf'\n",
    "fig.savefig(fullpath, bbox_inches='tight')"
   ]
  },
  {
   "cell_type": "code",
   "execution_count": null,
   "metadata": {},
   "outputs": [],
   "source": [
    "fn = time_stamp + 'voltageprots_currentraces_bothchannels.png'.format(channel_type)\n",
    "fig.savefig(os.path.join('../figures', fn), dpi=300)"
   ]
  },
  {
   "cell_type": "code",
   "execution_count": null,
   "metadata": {},
   "outputs": [],
   "source": []
  }
 ],
 "metadata": {
  "kernelspec": {
   "display_name": "Python 3",
   "language": "python",
   "name": "python3"
  },
  "language_info": {
   "codemirror_mode": {
    "name": "ipython",
    "version": 3
   },
   "file_extension": ".py",
   "mimetype": "text/x-python",
   "name": "python",
   "nbconvert_exporter": "python",
   "pygments_lexer": "ipython3",
   "version": "3.7.1"
  }
 },
 "nbformat": 4,
 "nbformat_minor": 2
}
