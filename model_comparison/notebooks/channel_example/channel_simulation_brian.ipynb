{
 "cells": [
  {
   "cell_type": "code",
   "execution_count": 1,
   "metadata": {},
   "outputs": [],
   "source": [
    "from brian2 import *\n",
    "import numpy as np "
   ]
  },
  {
   "cell_type": "code",
   "execution_count": 2,
   "metadata": {},
   "outputs": [],
   "source": [
    "gbar_kd = 5e-3*siemens*cm**-2\n",
    "ek = -90*mV\n",
    "vt = -40*mV\n",
    "\n",
    "n_sims = 100"
   ]
  },
  {
   "cell_type": "code",
   "execution_count": 3,
   "metadata": {},
   "outputs": [],
   "source": [
    "def alphaV(v): \n",
    "    arg = (v - vt - 15)\n",
    "    return -0.032 * arg / (exp(-arg / 5) - 1)\n",
    "\n",
    "def betaV(v): \n",
    "    arg = v - tv - 10 \n",
    "    return 0.5 * exp(-arg / 40)\n",
    "\n",
    "eqs = Equations('''\n",
    "                dn/dt = alphav * (1 - n) - betav * n : 1\n",
    "                alphav = -0.032 * (mV**-1) * (v - vt - 15*mV) / (exp(-(v - vt - 15*mV) / (5*mV)) - 1)/ms : Hz\n",
    "                betav = 0.5 * exp(-(v - vt - 15*mV) / (40*mV))/ms : Hz\n",
    "                v : volt\n",
    "                ''')"
   ]
  },
  {
   "cell_type": "code",
   "execution_count": 4,
   "metadata": {},
   "outputs": [
    {
     "name": "stderr",
     "output_type": "stream",
     "text": [
      "WARNING    The expression \"i / n_sims\" divides two integer values. In previous versions of Brian, this would have used either an integer (\"flooring\") or a floating point division, depending on the Python version and the code generation target. In the current version, it always uses a floating point division. Explicitly ask for an  integer division (\"//\"), or turn one of the operands into a floating point value (e.g. replace \"1/2\" by \"1.0/2\") to no longer receive this warning. [brian2.parsing.bast.floating_point_division]\n"
     ]
    }
   ],
   "source": [
    "group = NeuronGroup(n_sims, eqs,\n",
    "                    method='exponential_euler')\n",
    "\n",
    "group.v = '-65*mV + (i / n_sims) * mV'\n",
    "\n",
    "trace = StateMonitor(group, 'n', record=True)"
   ]
  },
  {
   "cell_type": "code",
   "execution_count": 5,
   "metadata": {},
   "outputs": [],
   "source": [
    "run(1000*ms)"
   ]
  },
  {
   "cell_type": "code",
   "execution_count": 6,
   "metadata": {},
   "outputs": [
    {
     "data": {
      "text/plain": [
       "(100, 10000)"
      ]
     },
     "execution_count": 6,
     "metadata": {},
     "output_type": "execute_result"
    }
   ],
   "source": [
    "trace.n.shape"
   ]
  },
  {
   "cell_type": "markdown",
   "metadata": {},
   "source": [
    "## To Do \n",
    "- load protocols \n",
    "- play protocols \n",
    "- change params \n",
    "- add noise on $n$"
   ]
  },
  {
   "cell_type": "code",
   "execution_count": null,
   "metadata": {},
   "outputs": [],
   "source": []
  }
 ],
 "metadata": {
  "kernelspec": {
   "display_name": "Python [conda env:sbi] *",
   "language": "python",
   "name": "conda-env-sbi-py"
  },
  "language_info": {
   "codemirror_mode": {
    "name": "ipython",
    "version": 3
   },
   "file_extension": ".py",
   "mimetype": "text/x-python",
   "name": "python",
   "nbconvert_exporter": "python",
   "pygments_lexer": "ipython3",
   "version": "3.7.1"
  }
 },
 "nbformat": 4,
 "nbformat_minor": 2
}
