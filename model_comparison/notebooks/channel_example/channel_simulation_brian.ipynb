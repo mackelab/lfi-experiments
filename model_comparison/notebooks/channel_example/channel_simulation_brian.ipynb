{
 "cells": [
  {
   "cell_type": "markdown",
   "metadata": {},
   "source": [
    "## links \n",
    "- https://brian2.readthedocs.io/en/stable/user/input.html#timed-arrays"
   ]
  },
  {
   "cell_type": "code",
   "execution_count": 1,
   "metadata": {},
   "outputs": [],
   "source": [
    "from brian2 import *\n",
    "import numpy as np \n",
    "import pandas as pd"
   ]
  },
  {
   "cell_type": "markdown",
   "metadata": {},
   "source": [
    "## Build matrices for protocols \n",
    "we can use TimedArrays to simulate protocols of applied voltage. TimedArrays can take one-dimensional input, where each entry corresponds to a constant value of the variable, here voltage, over a specified dt, e.g., dt=100ms. This enables us to efficiently simulate protocols: e.g., 100ms at -80mV followed by 400ms of -30mV would correspond to an array \n",
    "\n",
    "`TimedArray(np.array([-80, 30, 30, 30, 30]) * mV, dt=100*ms)`. \n",
    "\n",
    "However, it can take two dimensional arrays as well, where the first dimension is time, and the second is neuron idx. Using this feature we can simulate multiple protocols at once, using the same model parameters, but different protocols for every neuron. E.g., simulating two protocols with the same starting voltage, but different activation voltages would correspond to \n",
    "\n",
    "`TimedArray(np.array([[-80, -30, -30, -30, -30], [-80, -10, -10, -10, -10]]) * mV, dt=100*ms)`. \n",
    "\n",
    "\n",
    "We therefore build matrices for each type of protocol. When the protocols have the same time length, then we can even simulate two types of protocols at once, e.g., for the activation and deactivation protocols, which both last for 800ms. \n",
    "\n",
    "## Simulating multiple parameter sets at once \n",
    "for simulating multiple parameter sets, each with the same sets of protocols, we just would have to repeat the whole matrix once for every parameter. The parameter themselves would have to be changed somewhere else, though. \n",
    "\n",
    "\n",
    "### Activation and deactivation in one matrix "
   ]
  },
  {
   "cell_type": "code",
   "execution_count": 2,
   "metadata": {},
   "outputs": [],
   "source": [
    "# activation protocol\n",
    "duration = 800 \n",
    "interval_size = 100\n",
    "n_intervals = int(duration / interval_size)\n",
    "n_protocols_act = 16\n",
    "v_baseline = -80\n",
    "\n",
    "# set baseline \n",
    "act_mat = v_baseline * np.ones((n_intervals, n_protocols_act))\n",
    "\n",
    "# set individual clamps \n",
    "act_clamps = np.arange(-80, 80, 10)\n",
    "for iprot in range(n_protocols_act): \n",
    "    act_mat[1:-1, iprot] = act_clamps[iprot]"
   ]
  },
  {
   "cell_type": "code",
   "execution_count": 3,
   "metadata": {},
   "outputs": [],
   "source": [
    "# deactivation protocol\n",
    "duration = 800 \n",
    "interval_size = 100\n",
    "n_intervals = int(duration / interval_size)\n",
    "n_protocols_deact = 15\n",
    "v_baseline = -80\n",
    "\n",
    "# set baseline \n",
    "deact_mat = v_baseline * np.ones((n_intervals, n_protocols_deact))\n",
    "\n",
    "# set deact phase\n",
    "deact_mat[1:-3, :] = 70 \n",
    "\n",
    "# set individual clamps \n",
    "deact_clamps = np.arange(-100, 50, 10)\n",
    "for iprot in range(n_protocols_deact): \n",
    "    deact_mat[-3:-1, iprot] = deact_clamps[iprot]"
   ]
  },
  {
   "cell_type": "code",
   "execution_count": 4,
   "metadata": {},
   "outputs": [
    {
     "data": {
      "image/png": "[encoded data removed]",
      "text/plain": [
       "<Figure size 1080x720 with 2 Axes>"
      ]
     },
     "metadata": {
      "needs_background": "light"
     },
     "output_type": "display_data"
    }
   ],
   "source": [
    "# put together\n",
    "act_deact_prot_matrix = np.hstack((act_mat, deact_mat))\n",
    "\n",
    "plt.figure(figsize=(15, 10))\n",
    "plt.imshow(act_deact_prot_matrix)\n",
    "plt.colorbar(fraction=.015)\n",
    "plt.ylabel('time')\n",
    "plt.xlabel('neuron idx');"
   ]
  },
  {
   "cell_type": "markdown",
   "metadata": {},
   "source": [
    "## Inactivation has own matrix, as it takes longer"
   ]
  },
  {
   "cell_type": "code",
   "execution_count": 5,
   "metadata": {},
   "outputs": [
    {
     "data": {
      "image/png": "[encoded data removed]",
      "text/plain": [
       "<Figure size 432x288 with 1 Axes>"
      ]
     },
     "metadata": {
      "needs_background": "light"
     },
     "output_type": "display_data"
    }
   ],
   "source": [
    "duration = 1750\n",
    "interval_size = 50\n",
    "n_intervals = int(duration / interval_size)\n",
    "n_protocols_inact = 12\n",
    "v_baseline = -80\n",
    "\n",
    "# set baseline \n",
    "inact_mat = v_baseline * np.ones((n_intervals, n_protocols_inact))\n",
    "# set deact phase\n",
    "inact_mat[-3:-2, :] = 30 \n",
    "# set individual clamps \n",
    "inact_clamps = np.arange(-40, 80, 10)\n",
    "for iprot in range(n_protocols_inact): \n",
    "    inact_mat[2:-3, iprot] = inact_clamps[iprot]\n",
    "    \n",
    "plt.imshow(inact_mat.T);"
   ]
  },
  {
   "cell_type": "markdown",
   "metadata": {},
   "source": [
    "## Read in dynamic protocols \"v_ap\" and \"v_ramp\""
   ]
  },
  {
   "cell_type": "code",
   "execution_count": 6,
   "metadata": {},
   "outputs": [],
   "source": [
    "prot = ['v_ap','v_ramp']\n",
    "p = 0\n",
    "protocols = \\\n",
    "pd.read_csv('/home/janfb/qode/lfi-models/lfimodels/channelomics/protocols/k_channels/'+prot[p]+'.dat',sep='\\t')\n",
    "\n",
    "protocols = protocols.drop(protocols.columns[-1],axis=1)"
   ]
  },
  {
   "cell_type": "code",
   "execution_count": 7,
   "metadata": {},
   "outputs": [],
   "source": [
    "Vs = {}\n",
    "ts = {}\n",
    "\n",
    "for iprot, p in enumerate(prot): \n",
    "    protocols = pd.read_csv('/home/janfb/qode/lfi-models/lfimodels/channelomics/protocols/k_channels/'+prot[iprot]+'.dat',sep='\\t')\n",
    "    protocols = protocols.drop(protocols.columns[-1],axis=1)\n",
    "\n",
    "    # extract voltages and time\n",
    "    protocols1 = protocols.values\n",
    "\n",
    "    Vs[p] = protocols1[:,1:].T\n",
    "    ts[p] = protocols1[:,0]   # attention: time step varies, but we will assume that it is constant\n",
    "    "
   ]
  },
  {
   "cell_type": "markdown",
   "metadata": {},
   "source": [
    "## Set params"
   ]
  },
  {
   "cell_type": "code",
   "execution_count": 8,
   "metadata": {},
   "outputs": [],
   "source": [
    "gt_params = [-63, -0.032, 0.5, 15., 15., 5., 40., 4]\n",
    "\n",
    "area = 20000*umetre**2\n",
    "gbar_kd = 5e-3*siemens*cm**-2 * area\n",
    "ek = -90*mV\n",
    "\n",
    "n_params = 1\n",
    "\n",
    "noise_std = 0.\n",
    "sigma_n = noise_std / second\n",
    "sigma_v = noise_std * mV "
   ]
  },
  {
   "cell_type": "markdown",
   "metadata": {},
   "source": [
    "## Define simulation methods \n",
    "\n",
    "I define two simulation methods, one for the static protocols for which we can use TimedArrays, and one for dynamic protocols that we need two change the voltage protocol dynamically during the simulation. "
   ]
  },
  {
   "cell_type": "code",
   "execution_count": 9,
   "metadata": {},
   "outputs": [],
   "source": [
    "def simulate_protocol_static(params_list, protocol_matrix, dt_prot): \n",
    "    \n",
    "    # the voltage comes from a TimedArray called v_prot, defined below using the protocol matrix\n",
    "    eqs = Equations('''\n",
    "                dn/dt = alphav * (1 - n) - betav * n + sigma_n*xi*second**.5 : 1\n",
    "                alphav = ralpha * (mV**-1) * (v_prot(t, i) - vt - thalpha) / (exp(-(v_prot(t, i) - vt - thalpha) / qalpha) - 1)/ms : Hz\n",
    "                betav = rbeta * exp(-(v_prot(t, i) - vt - thbeta) / qbeta)/ms : Hz\n",
    "                I = gbar_kd * n**M * (v_prot(t, i) - ek) : ampere\n",
    "                vt : volt\n",
    "                ralpha : 1\n",
    "                rbeta: 1 \n",
    "                thalpha: volt\n",
    "                thbeta: volt \n",
    "                qalpha: volt \n",
    "                qbeta: volt \n",
    "                M : 1                 \n",
    "                ''')\n",
    "    \n",
    "    # we assume one type of param: vt\n",
    "    n_params = len(params_list)\n",
    "    dim_param = len(params_list[0])\n",
    "    n_protocols = protocol_matrix.shape[1]\n",
    "    \n",
    "    # repeat protocol matrix for every param\n",
    "    protocol_matrix = np.tile(protocol_matrix, reps=n_params)\n",
    "    \n",
    "    v_prot = TimedArray(protocol_matrix * mV, dt=dt_prot*ms)    \n",
    "\n",
    "    # define a group with n_protocols * n_params neurons \n",
    "    group = NeuronGroup(protocol_matrix.shape[1], eqs,\n",
    "                        method='milstein')\n",
    "    \n",
    "    # set same params for every neuron batch of protocols \n",
    "    for param_idx, param_vec in enumerate(params_list):\n",
    "        \n",
    "        batch_start_idx = param_idx * n_protocols\n",
    "        batch_end_idx = (param_idx + 1) * n_protocols\n",
    "        \n",
    "        group.vt[batch_start_idx:batch_end_idx] = param_vec[0] * mV \n",
    "        group.ralpha[batch_start_idx:batch_end_idx] = param_vec[1] \n",
    "        group.rbeta[batch_start_idx:batch_end_idx] = param_vec[2] \n",
    "        group.thalpha[batch_start_idx:batch_end_idx] = param_vec[3] * mV\n",
    "        group.thbeta[batch_start_idx:batch_end_idx] = param_vec[4] * mV\n",
    "        group.qalpha[batch_start_idx:batch_end_idx] = param_vec[5] * mV\n",
    "        group.qbeta[batch_start_idx:batch_end_idx] = param_vec[6] * mV\n",
    "        group.M[batch_start_idx:batch_end_idx] = param_vec[7] \n",
    "        \n",
    "    # record only the results current traces \n",
    "    trace = StateMonitor(group, ['I'], record=True)\n",
    "        \n",
    "    # duration is given by the protocol\n",
    "    duration = v_prot.dt * protocol_matrix.shape[0] * second\n",
    "    \n",
    "    net = Network([group, trace])\n",
    "    \n",
    "    net.run(duration)\n",
    "    \n",
    "    # return only current traces\n",
    "    return net.objects[1]"
   ]
  },
  {
   "cell_type": "code",
   "execution_count": 10,
   "metadata": {},
   "outputs": [],
   "source": [
    "def simulate_protocol_dynamic(params_list, t_array, v_array, dt_prot=0.1): \n",
    "    \n",
    "    n_params = len(params_list)\n",
    "    dim_param = len(params_list[0])\n",
    "    \n",
    "    # here, voltage is defined as group variable, changed dynamically during the simulation \n",
    "    eqs = Equations('''\n",
    "                dn/dt = alphav * (1 - n) - betav * n + sigma_n*xi*second**.5 : 1\n",
    "                alphav = ralpha * (mV**-1) * (v - vt - thalpha) / (exp(-(v - vt - thalpha) / (qalpha)) - 1)/ms : Hz\n",
    "                betav = rbeta * exp(-(v - vt - thbeta) / (qbeta))/ms : Hz\n",
    "                I = gbar_kd * n**M * (v - ek) : ampere\n",
    "                v: volt\n",
    "                vt : volt\n",
    "                ralpha : 1\n",
    "                rbeta: 1 \n",
    "                thalpha: volt\n",
    "                thbeta: volt \n",
    "                qalpha: volt \n",
    "                qbeta: volt \n",
    "                M : 1                 \n",
    "                ''')\n",
    "        \n",
    "    # as many neurons as param vectors to simulate\n",
    "    group = NeuronGroup(n_params, eqs, method='milstein')\n",
    "    \n",
    "    # set params for every neuron differently\n",
    "    for param_idx, param_vec in enumerate(params_list):\n",
    "        \n",
    "        group.vt[param_idx] = param_vec[0] * mV \n",
    "        group.ralpha[param_idx] = param_vec[1] \n",
    "        group.rbeta[param_idx] = param_vec[2] \n",
    "        group.thalpha[param_idx] = param_vec[3] * mV\n",
    "        group.thbeta[param_idx] = param_vec[4] * mV\n",
    "        group.qalpha[param_idx] = param_vec[5] * mV\n",
    "        group.qbeta[param_idx] = param_vec[6] * mV\n",
    "        group.M[param_idx] = param_vec[7]\n",
    "    \n",
    "    group.v = -80*mV\n",
    "        \n",
    "    current_trace = StateMonitor(group, ['I', 'v', 'n'], record=True)\n",
    "        \n",
    "    # define network operation to change voltage, executed every dt_prot ms\n",
    "    @network_operation(dt=dt_prot*ms)\n",
    "    def update_voltage(t):\n",
    "        # get idx in time array for time t \n",
    "        t_idx = np.where(t_array > t/ms)[0][0]    \n",
    "        # get corresponding voltage from protocol \n",
    "        v_value = v_array[0, t_idx]\n",
    "        # set voltage for all neurons \n",
    "        group.v = v_value * mV + sigma_v * randn()\n",
    "    \n",
    "    net = Network([group, update_voltage, current_trace])\n",
    "    \n",
    "    net.run(t_array[-1] * ms)\n",
    "    \n",
    "    # return current traces \n",
    "    return current_trace"
   ]
  },
  {
   "cell_type": "code",
   "execution_count": 12,
   "metadata": {},
   "outputs": [],
   "source": [
    "n_params = 1\n",
    "trace_ap = simulate_protocol_dynamic([gt_params] * n_params, ts['v_ap'], Vs['v_ap'], .3)\n",
    "trace_ramp = simulate_protocol_dynamic([gt_params] * n_params, ts['v_ramp'], Vs['v_ramp'], 1.)\n",
    "trace_act_deact = simulate_protocol_static([gt_params] * n_params, act_deact_prot_matrix, dt_prot=100)\n",
    "trace_inact = simulate_protocol_static([gt_params] * n_params, inact_mat, dt_prot=50)"
   ]
  },
  {
   "cell_type": "markdown",
   "metadata": {},
   "source": [
    "## Plot current traces for each protocol"
   ]
  },
  {
   "cell_type": "code",
   "execution_count": 17,
   "metadata": {},
   "outputs": [
    {
     "data": {
      "image/png": "[encoded data removed]",
      "text/plain": [
       "<Figure size 1296x432 with 5 Axes>"
      ]
     },
     "metadata": {
      "needs_background": "light"
     },
     "output_type": "display_data"
    }
   ],
   "source": [
    "fig, ax = plt.subplots(1, 5, figsize=(18, 6))\n",
    "\n",
    "plt.sca(ax[0])\n",
    "plt.plot(trace_act_deact.t, trace_act_deact.I[:16, :].T / np.max(trace_act_deact.I[:16, :].T))\n",
    "plt.title('Activation protocol');\n",
    "\n",
    "plt.sca(ax[1])\n",
    "plt.plot(trace_act_deact.t, trace_act_deact.I[16:31, :].T / np.max(trace_act_deact.I[16:31, :].T))\n",
    "plt.title('Deactivation protocol');\n",
    "\n",
    "plt.sca(ax[2])\n",
    "plt.plot(trace_inact.t, trace_inact.I.T / np.max(trace_inact.I.T))\n",
    "plt.title('Inactivation protocol');\n",
    "\n",
    "plt.sca(ax[3])\n",
    "plt.plot(trace_ap.t, trace_ap.I.T / np.max(trace_ap.I.T))\n",
    "plt.title('AP protocol');\n",
    "\n",
    "plt.sca(ax[4])\n",
    "plt.plot(trace_ramp.t, trace_ramp.I.T / np.max(trace_ramp.I.T ))\n",
    "plt.title('Ramp protocol');"
   ]
  },
  {
   "cell_type": "code",
   "execution_count": null,
   "metadata": {},
   "outputs": [],
   "source": []
  }
 ],
 "metadata": {
  "kernelspec": {
   "display_name": "Python [conda env:sbi] *",
   "language": "python",
   "name": "conda-env-sbi-py"
  },
  "language_info": {
   "codemirror_mode": {
    "name": "ipython",
    "version": 3
   },
   "file_extension": ".py",
   "mimetype": "text/x-python",
   "name": "python",
   "nbconvert_exporter": "python",
   "pygments_lexer": "ipython3",
   "version": "3.7.1"
  }
 },
 "nbformat": 4,
 "nbformat_minor": 2
}
